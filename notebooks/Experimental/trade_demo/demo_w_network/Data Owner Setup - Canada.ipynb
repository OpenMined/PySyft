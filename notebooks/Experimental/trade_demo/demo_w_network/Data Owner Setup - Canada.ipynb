{
 "cells": [
  {
   "cell_type": "code",
   "execution_count": 1,
   "id": "0518f7a5-cdbc-45c3-b3f0-93122911b4fe",
   "metadata": {},
   "outputs": [],
   "source": [
    "import syft as sy"
   ]
  },
  {
   "cell_type": "markdown",
   "id": "02b27b28-c284-4976-bcb4-ee7d8695bb70",
   "metadata": {},
   "source": [
    "# Domain Applies to Network"
   ]
  },
  {
   "cell_type": "code",
   "execution_count": 2,
   "id": "b19f092f-dadf-4000-8071-6a2095639273",
   "metadata": {},
   "outputs": [],
   "source": [
    "import syft as sy"
   ]
  },
  {
   "cell_type": "code",
   "execution_count": 3,
   "id": "3bff28d5-f73f-41cb-aade-6ea356ed4fd1",
   "metadata": {},
   "outputs": [
    {
     "data": {
      "text/html": [
       "<div>\n",
       "<style scoped>\n",
       "    .dataframe tbody tr th:only-of-type {\n",
       "        vertical-align: middle;\n",
       "    }\n",
       "\n",
       "    .dataframe tbody tr th {\n",
       "        vertical-align: top;\n",
       "    }\n",
       "\n",
       "    .dataframe thead th {\n",
       "        text-align: right;\n",
       "    }\n",
       "</style>\n",
       "<table border=\"1\" class=\"dataframe\">\n",
       "  <thead>\n",
       "    <tr style=\"text-align: right;\">\n",
       "      <th></th>\n",
       "      <th>name</th>\n",
       "      <th>host_or_ip</th>\n",
       "      <th>vpn_host_or_ip</th>\n",
       "      <th>protocol</th>\n",
       "      <th>port</th>\n",
       "      <th>admin_email</th>\n",
       "      <th>website</th>\n",
       "      <th>slack</th>\n",
       "      <th>slack_channel</th>\n",
       "    </tr>\n",
       "  </thead>\n",
       "  <tbody>\n",
       "    <tr>\n",
       "      <th>0</th>\n",
       "      <td>omnet</td>\n",
       "      <td>13.64.187.229</td>\n",
       "      <td>100.64.0.1</td>\n",
       "      <td>http</td>\n",
       "      <td>80</td>\n",
       "      <td>support@openmined.org</td>\n",
       "      <td>https://www.openmined.org/</td>\n",
       "      <td>https://slack.openmined.org/</td>\n",
       "      <td>omnet</td>\n",
       "    </tr>\n",
       "    <tr>\n",
       "      <th>1</th>\n",
       "      <td>United Nations PET Lab (Mock)</td>\n",
       "      <td>13.64.14.221</td>\n",
       "      <td>100.64.0.1</td>\n",
       "      <td>http</td>\n",
       "      <td>80</td>\n",
       "      <td>support@openmined.org</td>\n",
       "      <td>https://www.openmined.org/</td>\n",
       "      <td>https://slack.openmined.org/</td>\n",
       "      <td>petlab</td>\n",
       "    </tr>\n",
       "  </tbody>\n",
       "</table>\n",
       "</div>"
      ],
      "text/plain": [
       "<syft.registry.NetworkRegistry at 0x7fcaa05e5280>"
      ]
     },
     "execution_count": 3,
     "metadata": {},
     "output_type": "execute_result"
    }
   ],
   "source": [
    "sy.networks"
   ]
  },
  {
   "cell_type": "code",
   "execution_count": 4,
   "id": "3c8d7543-773b-4e2e-ad19-8cbe626cb4bf",
   "metadata": {},
   "outputs": [
    {
     "name": "stdout",
     "output_type": "stream",
     "text": [
      "Connecting to http://13.64.14.221... done! \t Logging into united_nations_mock... as GUEST...done!\n"
     ]
    }
   ],
   "source": [
    "un = sy.networks[1]"
   ]
  },
  {
   "cell_type": "code",
   "execution_count": 6,
   "id": "976461eb-0a5b-45c5-bb33-6ae18dc02ccf",
   "metadata": {},
   "outputs": [],
   "source": [
    "un.search(\"https://aclanthology.org/P07-2045.pdf\")"
   ]
  },
  {
   "cell_type": "code",
   "execution_count": 7,
   "id": "f922c6d2-62f8-4fc0-bad8-3cb42e37e51d",
   "metadata": {},
   "outputs": [
    {
     "data": {
      "text/html": [
       "<div>\n",
       "<style scoped>\n",
       "    .dataframe tbody tr th:only-of-type {\n",
       "        vertical-align: middle;\n",
       "    }\n",
       "\n",
       "    .dataframe tbody tr th {\n",
       "        vertical-align: top;\n",
       "    }\n",
       "\n",
       "    .dataframe thead th {\n",
       "        text-align: right;\n",
       "    }\n",
       "</style>\n",
       "<table border=\"1\" class=\"dataframe\">\n",
       "  <thead>\n",
       "    <tr style=\"text-align: right;\">\n",
       "      <th></th>\n",
       "      <th>host_or_ip</th>\n",
       "      <th>id</th>\n",
       "      <th>is_vpn</th>\n",
       "      <th>name</th>\n",
       "    </tr>\n",
       "  </thead>\n",
       "  <tbody>\n",
       "    <tr>\n",
       "      <th>0</th>\n",
       "      <td>100.64.0.2</td>\n",
       "      <td>2323ea2f4e484870bc0318156cfbd54b</td>\n",
       "      <td>1</td>\n",
       "      <td>canada</td>\n",
       "    </tr>\n",
       "    <tr>\n",
       "      <th>1</th>\n",
       "      <td>100.64.0.3</td>\n",
       "      <td>c8a0ffc24c1f405d886c471f1431a77a</td>\n",
       "      <td>1</td>\n",
       "      <td>united_states_of_america</td>\n",
       "    </tr>\n",
       "  </tbody>\n",
       "</table>\n",
       "</div>"
      ],
      "text/plain": [
       "<syft.core.node.common.client_manager.domain_api.DomainRequestAPI at 0x7fcaa1bedca0>"
      ]
     },
     "execution_count": 7,
     "metadata": {},
     "output_type": "execute_result"
    }
   ],
   "source": [
    "un.domains"
   ]
  },
  {
   "cell_type": "code",
   "execution_count": 8,
   "id": "6cee7898-8eb2-4774-9a40-9957bbc80b6e",
   "metadata": {},
   "outputs": [],
   "source": [
    "ca = un.domains[0]"
   ]
  },
  {
   "cell_type": "code",
   "execution_count": null,
   "id": "e8479125-c62b-44c3-8552-365f116ca07c",
   "metadata": {},
   "outputs": [],
   "source": [
    "ca.routes[0].connection.base_url"
   ]
  },
  {
   "cell_type": "code",
   "execution_count": 11,
   "id": "66e4d88e-738a-4ca1-a8be-501015ac1509",
   "metadata": {},
   "outputs": [
    {
     "name": "stdout",
     "output_type": "stream",
     "text": [
      "WARNING: CHANGE YOUR USERNAME AND PASSWORD!!! \n",
      "\n",
      "Anyone can login as an admin to your node right now because your password is still the default PySyft username and password!!!\n",
      "\n",
      "Connecting to http://localhost:8081... done! \t Logging into canada... done!\n"
     ]
    }
   ],
   "source": [
    "out = sy.login(email=\"info@openmined.org\", password=\"changethis\", port=8081)"
   ]
  },
  {
   "cell_type": "code",
   "execution_count": null,
   "id": "ca58911e-3a71-43f3-8288-ed043e288ab5",
   "metadata": {},
   "outputs": [],
   "source": []
  },
  {
   "cell_type": "code",
   "execution_count": null,
   "id": "8a898b19-408e-4071-92f4-4234075ea5e4",
   "metadata": {},
   "outputs": [],
   "source": [
    "sy.register(name=\"Andrew Trask\",\n",
    "            email=\"andrew@openmined.org\",\n",
    "            password=\"changethis\",\n",
    "            url=\"http://13.64.14.221\",\n",
    "            port=8081)"
   ]
  },
  {
   "cell_type": "code",
   "execution_count": null,
   "id": "4f504117-ffee-43b9-9bde-1879c09610ec",
   "metadata": {},
   "outputs": [],
   "source": []
  },
  {
   "cell_type": "code",
   "execution_count": 12,
   "id": "82d12361-96e4-4d8d-ad04-0aeca5d81744",
   "metadata": {},
   "outputs": [
    {
     "name": "stdout",
     "output_type": "stream",
     "text": [
      "WARNING: CHANGE YOUR USERNAME AND PASSWORD!!! \n",
      "\n",
      "Anyone can login as an admin to your node right now because your password is still the default PySyft username and password!!!\n",
      "\n",
      "Connecting to http://localhost:8081... done! \t Logging into canada... done!\n"
     ]
    }
   ],
   "source": [
    "domain = sy.login(email=\"info@openmined.org\", password=\"changethis\", port=8081)"
   ]
  },
  {
   "cell_type": "code",
   "execution_count": 13,
   "id": "79546145-6f84-458a-9ee5-aec9e4865560",
   "metadata": {
    "scrolled": true,
    "tags": []
   },
   "outputs": [
    {
     "data": {
      "text/html": [
       "(no datasets found)"
      ],
      "text/plain": [
       "<syft.core.node.common.client_manager.dataset_api.DatasetRequestAPI at 0x7fca61424580>"
      ]
     },
     "execution_count": 13,
     "metadata": {},
     "output_type": "execute_result"
    }
   ],
   "source": [
    "domain.datasets"
   ]
  },
  {
   "cell_type": "code",
   "execution_count": 18,
   "id": "dda9d370-2e39-4ed2-8449-2b01227cb9dc",
   "metadata": {},
   "outputs": [],
   "source": [
    "# domain.vpn_status()"
   ]
  },
  {
   "cell_type": "code",
   "execution_count": 15,
   "id": "a4443fe9-e963-458a-9c7c-c322ca14b9b6",
   "metadata": {},
   "outputs": [
    {
     "name": "stdout",
     "output_type": "stream",
     "text": [
      "Connecting to http://13.64.14.221... done! \t Logging into united_nations_mock... as GUEST...done!\n"
     ]
    }
   ],
   "source": [
    "un = sy.networks[1]"
   ]
  },
  {
   "cell_type": "code",
   "execution_count": 16,
   "id": "508f02ae-657f-430c-a704-c1bc7d0365bf",
   "metadata": {},
   "outputs": [
    {
     "name": "stdout",
     "output_type": "stream",
     "text": [
      "🔌 <DomainClient - canada: <UID: 49cc1dce8711414ab3f482d560d57940>> successfully connected to the VPN: 13.64.14.221\n",
      "Waiting to connect to VPN.\n",
      "Connected to VPN\n",
      "Application submitted.\n"
     ]
    }
   ],
   "source": [
    "domain.apply_to_network(un)"
   ]
  },
  {
   "cell_type": "markdown",
   "id": "ef623b82-6de6-415e-ad23-fa3e5924c259",
   "metadata": {},
   "source": [
    "# Network Approves Domain"
   ]
  },
  {
   "cell_type": "markdown",
   "id": "937ed7b3-21fe-4d55-8ecb-b86c6db2bfc5",
   "metadata": {},
   "source": [
    "(see Network Owner notebook)"
   ]
  },
  {
   "cell_type": "markdown",
   "id": "e85fe01c-d81a-4896-92be-87737ddf2e51",
   "metadata": {},
   "source": [
    "# Domain Loads Dataset"
   ]
  },
  {
   "cell_type": "code",
   "execution_count": 1,
   "id": "91b1ce8a-5436-4290-b104-34b431f56020",
   "metadata": {},
   "outputs": [],
   "source": [
    "import syft as sy"
   ]
  },
  {
   "cell_type": "code",
   "execution_count": 2,
   "id": "ada4563e-71ab-426c-bbb5-e922f8ac7f32",
   "metadata": {},
   "outputs": [
    {
     "name": "stdout",
     "output_type": "stream",
     "text": [
      "WARNING: CHANGE YOUR USERNAME AND PASSWORD!!! \n",
      "\n",
      "Anyone can login as an admin to your node right now because your password is still the default PySyft username and password!!!\n",
      "\n",
      "Connecting to http://localhost:8081... done! \t Logging into canada... done!\n"
     ]
    }
   ],
   "source": [
    "domain = sy.login(email=\"info@openmined.org\", password=\"changethis\", port=8081)\n",
    "# domain = sy.login(email=\"info@openmined.org\", password=\"changethis\", port=8082)"
   ]
  },
  {
   "cell_type": "code",
   "execution_count": 3,
   "id": "e6a87b77-6bf2-4138-b12b-6e18eb229cd1",
   "metadata": {},
   "outputs": [],
   "source": [
    "import pandas as pd"
   ]
  },
  {
   "cell_type": "code",
   "execution_count": 4,
   "id": "f1d9e4c3-9cd0-4c8b-90af-13089ed0be19",
   "metadata": {},
   "outputs": [],
   "source": [
    "# data = pd.read_csv(\"../../trade_demo/datasets/us - feb 2021.csv\", low_memory=False)\n",
    "data = pd.read_csv(\"../../trade_demo/datasets/ca - feb 2021.csv\", low_memory=False)\n"
   ]
  },
  {
   "cell_type": "code",
   "execution_count": 5,
   "id": "9c5ada5b-e44f-4f80-ac18-571bd2b80c7d",
   "metadata": {},
   "outputs": [],
   "source": [
    "# data"
   ]
  },
  {
   "cell_type": "code",
   "execution_count": 6,
   "id": "c913bd28-9e71-4f8d-bbcb-6642051ec770",
   "metadata": {},
   "outputs": [],
   "source": [
    "partner2assets = {}\n",
    "\n",
    "for index, row in data.iterrows():\n",
    "    # print(row)\n",
    "    # print()\n",
    "\n",
    "    reporter = row['Reporter']\n",
    "    flow = row['Trade Flow']\n",
    "    partner = row['Partner']\n",
    "    commodity_desc = row['Commodity']\n",
    "    amount = row['Trade Value (US$)']\n",
    "    code = row['Commodity Code']\n",
    "\n",
    "    com = str(commodity_desc).lower()\n",
    "    proceed = False\n",
    "    try: \n",
    "        if int(code) < 10:\n",
    "            if partner in {\"Canada\", \"United States of America\", \"Netherlands\", \"United Kingdom\", \"Italy\"}:\n",
    "                proceed = True\n",
    "    except:\n",
    "        \"\"\n",
    "    if proceed:\n",
    "        if partner not in partner2assets.keys():\n",
    "            partner2assets[partner] = {}\n",
    "\n",
    "        if commodity_desc not in partner2assets[partner].keys():\n",
    "            partner2assets[partner][commodity_desc] = {}\n",
    "\n",
    "        if flow not in partner2assets[partner][commodity_desc].keys():\n",
    "            partner2assets[partner][commodity_desc][flow] = {}\n",
    "\n",
    "        partner2assets[partner][commodity_desc][flow] = {'reporter':reporter, 'commodity_desc':commodity_desc, 'amount':amount, 'flow':flow, 'code':code}"
   ]
  },
  {
   "cell_type": "code",
   "execution_count": 7,
   "id": "e1468be1-9c8b-4acb-9d44-273cea29e766",
   "metadata": {},
   "outputs": [
    {
     "data": {
      "text/plain": [
       "dict_keys(['Italy', 'Netherlands', 'United Kingdom', 'United States of America'])"
      ]
     },
     "execution_count": 7,
     "metadata": {},
     "output_type": "execute_result"
    }
   ],
   "source": [
    "partner2assets.keys()"
   ]
  },
  {
   "cell_type": "code",
   "execution_count": 8,
   "id": "01613e59-2168-4646-a19b-57f246c4b425",
   "metadata": {
    "scrolled": true,
    "tags": []
   },
   "outputs": [
    {
     "name": "stdout",
     "output_type": "stream",
     "text": [
      "Loading dataset... uploading... SUCCESS!                                                                                                                                      \n",
      "\n",
      "Run <your client variable>.datasets to see your new dataset loaded into your machine!\n",
      "Loading dataset... uploading... SUCCESS!                                                                                                                                      \n",
      "\n",
      "Run <your client variable>.datasets to see your new dataset loaded into your machine!\n",
      "Loading dataset... uploading... SUCCESS!                                                                                                                                      \n",
      "\n",
      "Run <your client variable>.datasets to see your new dataset loaded into your machine!\n",
      "Loading dataset... uploading... SUCCESS!                                                                                                                                      \n",
      "\n",
      "Run <your client variable>.datasets to see your new dataset loaded into your machine!\n",
      "Loading dataset... uploading... SUCCESS!                                                                                                                                      \n",
      "\n",
      "Run <your client variable>.datasets to see your new dataset loaded into your machine!\n",
      "Loading dataset... uploading... SUCCESS!                                                                                                                                      \n",
      "\n",
      "Run <your client variable>.datasets to see your new dataset loaded into your machine!\n",
      "Loading dataset... uploading... SUCCESS!                                                                                                                                      \n",
      "\n",
      "Run <your client variable>.datasets to see your new dataset loaded into your machine!\n",
      "Loading dataset... uploading... SUCCESS!                                                                                                                                      \n",
      "\n",
      "Run <your client variable>.datasets to see your new dataset loaded into your machine!\n",
      "Loading dataset... uploading... SUCCESS!                                                                                                                                      \n",
      "\n",
      "Run <your client variable>.datasets to see your new dataset loaded into your machine!\n",
      "Loading dataset... uploading... SUCCESS!                                                                                                                                      \n",
      "\n",
      "Run <your client variable>.datasets to see your new dataset loaded into your machine!\n",
      "Loading dataset... uploading... SUCCESS!                                                                                                                                      \n",
      "\n",
      "Run <your client variable>.datasets to see your new dataset loaded into your machine!\n",
      "Loading dataset... uploading... SUCCESS!                                                                                                                                      \n",
      "\n",
      "Run <your client variable>.datasets to see your new dataset loaded into your machine!\n",
      "Loading dataset... uploading... SUCCESS!                                                                                                                                      \n",
      "\n",
      "Run <your client variable>.datasets to see your new dataset loaded into your machine!\n",
      "Loading dataset... uploading... SUCCESS!                                                                                                                                      \n",
      "\n",
      "Run <your client variable>.datasets to see your new dataset loaded into your machine!\n",
      "Loading dataset... uploading... SUCCESS!                                                                                                                                      \n",
      "\n",
      "Run <your client variable>.datasets to see your new dataset loaded into your machine!\n",
      "Loading dataset... uploading... SUCCESS!                                                                                                                                      \n",
      "\n",
      "Run <your client variable>.datasets to see your new dataset loaded into your machine!\n",
      "Loading dataset... uploading... SUCCESS!                                                                                                                                      \n",
      "\n",
      "Run <your client variable>.datasets to see your new dataset loaded into your machine!\n",
      "Loading dataset... uploading... SUCCESS!                                                                                                                                      \n",
      "\n",
      "Run <your client variable>.datasets to see your new dataset loaded into your machine!\n",
      "Loading dataset... uploading... SUCCESS!                                                                                                                                      \n",
      "\n",
      "Run <your client variable>.datasets to see your new dataset loaded into your machine!\n",
      "Loading dataset... uploading... SUCCESS!                                                                                                                                      \n",
      "\n",
      "Run <your client variable>.datasets to see your new dataset loaded into your machine!\n",
      "Loading dataset... uploading... SUCCESS!                                                                                                                                      \n",
      "\n",
      "Run <your client variable>.datasets to see your new dataset loaded into your machine!\n",
      "Loading dataset... uploading... SUCCESS!                                                                                                                                      \n",
      "\n",
      "Run <your client variable>.datasets to see your new dataset loaded into your machine!\n",
      "Loading dataset... uploading... SUCCESS!                                                                                                                                      \n",
      "\n",
      "Run <your client variable>.datasets to see your new dataset loaded into your machine!\n",
      "Loading dataset... uploading... SUCCESS!                                                                                                                                      \n",
      "\n",
      "Run <your client variable>.datasets to see your new dataset loaded into your machine!\n",
      "Loading dataset... uploading... SUCCESS!                                                                                                                                      \n",
      "\n",
      "Run <your client variable>.datasets to see your new dataset loaded into your machine!\n",
      "Loading dataset... uploading... SUCCESS!                                                                                                                                      \n",
      "\n",
      "Run <your client variable>.datasets to see your new dataset loaded into your machine!\n",
      "Loading dataset... uploading... SUCCESS!                                                                                                                                      \n",
      "\n",
      "Run <your client variable>.datasets to see your new dataset loaded into your machine!\n",
      "Loading dataset... uploading... SUCCESS!                                                                                                                                      \n",
      "\n",
      "Run <your client variable>.datasets to see your new dataset loaded into your machine!\n",
      "Loading dataset... uploading... SUCCESS!                                                                                                                                      \n",
      "\n",
      "Run <your client variable>.datasets to see your new dataset loaded into your machine!\n",
      "Loading dataset... uploading... SUCCESS!                                                                                                                                      \n",
      "\n",
      "Run <your client variable>.datasets to see your new dataset loaded into your machine!\n",
      "Loading dataset... uploading... SUCCESS!                                                                                                                                      \n",
      "\n",
      "Run <your client variable>.datasets to see your new dataset loaded into your machine!\n",
      "Loading dataset... uploading... SUCCESS!                                                                                                                                      \n",
      "\n",
      "Run <your client variable>.datasets to see your new dataset loaded into your machine!\n",
      "Loading dataset... uploading... SUCCESS!                                                                                                                                      \n",
      "\n",
      "Run <your client variable>.datasets to see your new dataset loaded into your machine!\n",
      "Loading dataset... uploading... SUCCESS!                                                                                                                                      \n",
      "\n",
      "Run <your client variable>.datasets to see your new dataset loaded into your machine!\n",
      "Loading dataset... uploading... SUCCESS!                                                                                                                                      \n",
      "\n",
      "Run <your client variable>.datasets to see your new dataset loaded into your machine!\n",
      "Loading dataset... uploading... SUCCESS!                                                                                                                                      \n",
      "\n",
      "Run <your client variable>.datasets to see your new dataset loaded into your machine!\n"
     ]
    }
   ],
   "source": [
    "for partner in partner2assets.keys():\n",
    "        \n",
    "    for commodity_desc in partner2assets[partner].keys():\n",
    "        assets = {}\n",
    "        \n",
    "        for flow in partner2assets[partner][commodity_desc].keys():\n",
    "            dataset = sy.Tensor([partner2assets[partner][commodity_desc][flow]['amount']]).annotate_with_dp_metadata(0,1500000, entities='un')\n",
    "            assets[flow] = dataset\n",
    "\n",
    "        domain.load_dataset(assets=assets,\n",
    "                            name=partner + \" - \" + partner2assets[partner][commodity_desc][flow]['code'],\n",
    "                            description=\"Trade flows with \" + str(partner) + \" of the following type:\" + str(commodity_desc))"
   ]
  },
  {
   "cell_type": "code",
   "execution_count": 9,
   "id": "70449e34-8263-417e-b95d-feaf1d4fabe7",
   "metadata": {
    "scrolled": true,
    "tags": []
   },
   "outputs": [
    {
     "data": {
      "text/html": [
       "<style>\n",
       "                #myInput {\n",
       "                  background-position: 10px 12px; /* Position the search icon */\n",
       "                  background-repeat: no-repeat; /* Do not repeat the icon image */\n",
       "                  background-color: #bbb;\n",
       "                  width: 98%; /* Full-width */\n",
       "                  font-size: 14px; /* Increase font-size */\n",
       "                  padding: 12px 20px 12px 40px; /* Add some padding */\n",
       "                  border: 1px solid #ddd; /* Add a grey border */\n",
       "                  margin-bottom: 12px; /* Add some space below the input */\n",
       "                }\n",
       "\n",
       "                #myTable {\n",
       "                  border-collapse: collapse; /* Collapse borders */\n",
       "                  width: 100%; /* Full-width */\n",
       "                  border: 1px solid #ddd; /* Add a grey border */\n",
       "                  font-size: 14px; /* Increase font-size */\n",
       "                }\n",
       "\n",
       "                #myTable th, #myTable td {\n",
       "                  text-align: left; /* Left-align text */\n",
       "                  padding: 10px; /* Add padding */\n",
       "                }\n",
       "\n",
       "                #myTable tr {\n",
       "                  /* Add a bottom border to all table rows */\n",
       "                  border-bottom: 1px solid #ddd;\n",
       "                }\n",
       "\n",
       "                #myTable tr.header, #myTable tr:hover {\n",
       "                  /* Add a grey background color to the table header and on hover */\n",
       "                  background-color: #777;\n",
       "                }\n",
       "                </style>\n",
       "\n",
       "                <table id=\"myTable\" style=\"width:1000px\">\n",
       "                  <tr class=\"header\">\n",
       "                    <th style=\"width:30px\">Idx</th>\n",
       "                    <th style=\"width:20%;\">Name</th>\n",
       "                    <th style=\"width:35%;\">Description</th>\n",
       "                    <th style=\"width:20%;\">Assets</th>\n",
       "                    <th style=\"width:300px;\">Id</th>\n",
       "                  </tr>\n",
       "                \n",
       "\n",
       "          <tr>\n",
       "            <td>[0]</td>\n",
       "            <td>Italy - 04</td>\n",
       "            <td>Trade flows with Italy of the following type:Dairy produce; birds' eggs; natural honey; edible products of animal origin, not elsewhere specified or included</td>\n",
       "            <td>[\"Imports\"] -> Tensor<br /><br /></td>\n",
       "            <td>8fe5439f-60fe-4871-a2fa-ca065326ea94</td>\n",
       "          </tr>\n",
       "\n",
       "          <tr>\n",
       "            <td>[1]</td>\n",
       "            <td>Italy - 03</td>\n",
       "            <td>Trade flows with Italy of the following type:Fish and crustaceans, molluscs and other aquatic invertebrates</td>\n",
       "            <td>[\"Imports\"] -> Tensor<br /><br />[\"Exports\"] -> Tensor<br /><br /></td>\n",
       "            <td>1a9a5a38-e68b-4931-bfa9-9473f9329a6f</td>\n",
       "          </tr>\n",
       "\n",
       "          <tr>\n",
       "            <td>[2]</td>\n",
       "            <td>Italy - 07</td>\n",
       "            <td>Trade flows with Italy of the following type:Vegetables and certain roots and tubers; edible</td>\n",
       "            <td>[\"Imports\"] -> Tensor<br /><br />[\"Exports\"] -> Tensor<br /><br /></td>\n",
       "            <td>4ba5f13b-1bca-4ce8-98ea-7eef4e9228c9</td>\n",
       "          </tr>\n",
       "\n",
       "          <tr>\n",
       "            <td>[3]</td>\n",
       "            <td>Italy - 05</td>\n",
       "            <td>Trade flows with Italy of the following type:Animal originated products; not elsewhere specified or included</td>\n",
       "            <td>[\"Imports\"] -> Tensor<br /><br />[\"Exports\"] -> Tensor<br /><br />[\"Re-exports\"] -> Tensor<br /><br /></td>\n",
       "            <td>90021d86-f201-4649-9881-7c0b857e60af</td>\n",
       "          </tr>\n",
       "\n",
       "          <tr>\n",
       "            <td>[4]</td>\n",
       "            <td>Italy - 08</td>\n",
       "            <td>Trade flows with Italy of the following type:Fruit and nuts, edible; peel of citrus fruit or melons</td>\n",
       "            <td>[\"Imports\"] -> Tensor<br /><br />[\"Exports\"] -> Tensor<br /><br /></td>\n",
       "            <td>2d2a1974-cb62-4ee4-aa17-e683dc14042e</td>\n",
       "          </tr>\n",
       "\n",
       "          <tr>\n",
       "            <td>[5]</td>\n",
       "            <td>Italy - 09</td>\n",
       "            <td>Trade flows with Italy of the following type:Coffee, tea, mate and spices</td>\n",
       "            <td>[\"Imports\"] -> Tensor<br /><br />[\"Exports\"] -> Tensor<br /><br /></td>\n",
       "            <td>6a4fb8b5-45ef-43e7-a9d8-a2254b6a5749</td>\n",
       "          </tr>\n",
       "\n",
       "          <tr>\n",
       "            <td>[6]</td>\n",
       "            <td>Italy - 01</td>\n",
       "            <td>Trade flows with Italy of the following type:Animals; live</td>\n",
       "            <td>[\"Imports\"] -> Tensor<br /><br /></td>\n",
       "            <td>03b5b072-f0a3-402e-92ba-fc7d5db4524d</td>\n",
       "          </tr>\n",
       "\n",
       "          <tr>\n",
       "            <td>[7]</td>\n",
       "            <td>Italy - 06</td>\n",
       "            <td>Trade flows with Italy of the following type:Trees and other plants, live; bulbs, roots and the like; cut flowers and ornamental foliage</td>\n",
       "            <td>[\"Imports\"] -> Tensor<br /><br /></td>\n",
       "            <td>0bb58394-e8e2-45c5-b7cd-d37583c4c5b6</td>\n",
       "          </tr>\n",
       "\n",
       "          <tr>\n",
       "            <td>[8]</td>\n",
       "            <td>Italy - 02</td>\n",
       "            <td>Trade flows with Italy of the following type:Meat and edible meat offal</td>\n",
       "            <td>[\"Imports\"] -> Tensor<br /><br />[\"Exports\"] -> Tensor<br /><br /></td>\n",
       "            <td>0b4a25eb-6112-46c1-bccd-509dfde052a0</td>\n",
       "          </tr>\n",
       "\n",
       "          <tr>\n",
       "            <td>[9]</td>\n",
       "            <td>Netherlands - 04</td>\n",
       "            <td>Trade flows with Netherlands of the following type:Dairy produce; birds' eggs; natural honey; edible products of animal origin, not elsewhere specified or included</td>\n",
       "            <td>[\"Imports\"] -> Tensor<br /><br /></td>\n",
       "            <td>1d8c29f6-53db-4736-babc-fe6dd3729b22</td>\n",
       "          </tr>\n",
       "\n",
       "          <tr>\n",
       "            <td>[10]</td>\n",
       "            <td>Netherlands - 03</td>\n",
       "            <td>Trade flows with Netherlands of the following type:Fish and crustaceans, molluscs and other aquatic invertebrates</td>\n",
       "            <td>[\"Imports\"] -> Tensor<br /><br />[\"Exports\"] -> Tensor<br /><br /></td>\n",
       "            <td>afeaf7f3-ca9c-4655-9f6e-ebd594dc0b35</td>\n",
       "          </tr>\n",
       "\n",
       "          <tr>\n",
       "            <td>[11]</td>\n",
       "            <td>Netherlands - 07</td>\n",
       "            <td>Trade flows with Netherlands of the following type:Vegetables and certain roots and tubers; edible</td>\n",
       "            <td>[\"Imports\"] -> Tensor<br /><br />[\"Exports\"] -> Tensor<br /><br /></td>\n",
       "            <td>618aef76-d230-474f-8b49-5ec8b9cb62ab</td>\n",
       "          </tr>\n",
       "\n",
       "          <tr>\n",
       "            <td>[12]</td>\n",
       "            <td>Netherlands - 05</td>\n",
       "            <td>Trade flows with Netherlands of the following type:Animal originated products; not elsewhere specified or included</td>\n",
       "            <td>[\"Imports\"] -> Tensor<br /><br />[\"Exports\"] -> Tensor<br /><br /></td>\n",
       "            <td>7e8a88f3-0cad-4046-adff-e12ae77ee501</td>\n",
       "          </tr>\n",
       "\n",
       "          <tr>\n",
       "            <td>[13]</td>\n",
       "            <td>Netherlands - 08</td>\n",
       "            <td>Trade flows with Netherlands of the following type:Fruit and nuts, edible; peel of citrus fruit or melons</td>\n",
       "            <td>[\"Imports\"] -> Tensor<br /><br />[\"Exports\"] -> Tensor<br /><br /></td>\n",
       "            <td>9e2a76cd-994f-48fe-9a93-decfc855ccf5</td>\n",
       "          </tr>\n",
       "\n",
       "          <tr>\n",
       "            <td>[14]</td>\n",
       "            <td>Netherlands - 09</td>\n",
       "            <td>Trade flows with Netherlands of the following type:Coffee, tea, mate and spices</td>\n",
       "            <td>[\"Imports\"] -> Tensor<br /><br /></td>\n",
       "            <td>9e82a09d-2fd9-426b-9293-2e087e69d168</td>\n",
       "          </tr>\n",
       "\n",
       "          <tr>\n",
       "            <td>[15]</td>\n",
       "            <td>Netherlands - 01</td>\n",
       "            <td>Trade flows with Netherlands of the following type:Animals; live</td>\n",
       "            <td>[\"Imports\"] -> Tensor<br /><br />[\"Exports\"] -> Tensor<br /><br /></td>\n",
       "            <td>3a8d27c3-71c3-4028-a2ac-6e50a99095ca</td>\n",
       "          </tr>\n",
       "\n",
       "          <tr>\n",
       "            <td>[16]</td>\n",
       "            <td>Netherlands - 06</td>\n",
       "            <td>Trade flows with Netherlands of the following type:Trees and other plants, live; bulbs, roots and the like; cut flowers and ornamental foliage</td>\n",
       "            <td>[\"Imports\"] -> Tensor<br /><br /></td>\n",
       "            <td>161d662b-eea5-4c68-b734-9dc4af1c1c85</td>\n",
       "          </tr>\n",
       "\n",
       "          <tr>\n",
       "            <td>[17]</td>\n",
       "            <td>Netherlands - 02</td>\n",
       "            <td>Trade flows with Netherlands of the following type:Meat and edible meat offal</td>\n",
       "            <td>[\"Imports\"] -> Tensor<br /><br />[\"Exports\"] -> Tensor<br /><br /></td>\n",
       "            <td>ebacdfac-1b0a-4f86-9eb2-bcd28d3c2da5</td>\n",
       "          </tr>\n",
       "\n",
       "          <tr>\n",
       "            <td>[18]</td>\n",
       "            <td>United Kingdom - 03</td>\n",
       "            <td>Trade flows with United Kingdom of the following type:Fish and crustaceans, molluscs and other aquatic invertebrates</td>\n",
       "            <td>[\"Imports\"] -> Tensor<br /><br />[\"Exports\"] -> Tensor<br /><br />[\"Re-exports\"] -> Tensor<br /><br /></td>\n",
       "            <td>2f71b7b0-6474-4c6d-b312-6182604beec4</td>\n",
       "          </tr>\n",
       "\n",
       "          <tr>\n",
       "            <td>[19]</td>\n",
       "            <td>United Kingdom - 04</td>\n",
       "            <td>Trade flows with United Kingdom of the following type:Dairy produce; birds' eggs; natural honey; edible products of animal origin, not elsewhere specified or included</td>\n",
       "            <td>[\"Imports\"] -> Tensor<br /><br />[\"Exports\"] -> Tensor<br /><br />[\"Re-exports\"] -> Tensor<br /><br /></td>\n",
       "            <td>308c39ec-f9fc-4ffe-bcc9-d4b483c69e94</td>\n",
       "          </tr>\n",
       "\n",
       "          <tr>\n",
       "            <td>[20]</td>\n",
       "            <td>United Kingdom - 07</td>\n",
       "            <td>Trade flows with United Kingdom of the following type:Vegetables and certain roots and tubers; edible</td>\n",
       "            <td>[\"Imports\"] -> Tensor<br /><br />[\"Exports\"] -> Tensor<br /><br /></td>\n",
       "            <td>d9e76b41-6ae0-41fc-af17-01d87116197e</td>\n",
       "          </tr>\n",
       "\n",
       "          <tr>\n",
       "            <td>[21]</td>\n",
       "            <td>United Kingdom - 05</td>\n",
       "            <td>Trade flows with United Kingdom of the following type:Animal originated products; not elsewhere specified or included</td>\n",
       "            <td>[\"Imports\"] -> Tensor<br /><br />[\"Exports\"] -> Tensor<br /><br /></td>\n",
       "            <td>70b7538a-fee8-4ca0-8cdf-7c131aaedb58</td>\n",
       "          </tr>\n",
       "\n",
       "          <tr>\n",
       "            <td>[22]</td>\n",
       "            <td>United Kingdom - 08</td>\n",
       "            <td>Trade flows with United Kingdom of the following type:Fruit and nuts, edible; peel of citrus fruit or melons</td>\n",
       "            <td>[\"Imports\"] -> Tensor<br /><br />[\"Exports\"] -> Tensor<br /><br /></td>\n",
       "            <td>41309336-4bed-41b5-9697-1a5ebbf81d14</td>\n",
       "          </tr>\n",
       "\n",
       "          <tr>\n",
       "            <td>[23]</td>\n",
       "            <td>United Kingdom - 09</td>\n",
       "            <td>Trade flows with United Kingdom of the following type:Coffee, tea, mate and spices</td>\n",
       "            <td>[\"Imports\"] -> Tensor<br /><br />[\"Exports\"] -> Tensor<br /><br />[\"Re-exports\"] -> Tensor<br /><br /></td>\n",
       "            <td>2faf68dc-57c5-47bb-ab5e-92842889f51b</td>\n",
       "          </tr>\n",
       "\n",
       "          <tr>\n",
       "            <td>[24]</td>\n",
       "            <td>United Kingdom - 01</td>\n",
       "            <td>Trade flows with United Kingdom of the following type:Animals; live</td>\n",
       "            <td>[\"Imports\"] -> Tensor<br /><br />[\"Exports\"] -> Tensor<br /><br /></td>\n",
       "            <td>edcd7378-3aa1-4493-a59d-33068b731337</td>\n",
       "          </tr>\n",
       "\n",
       "          <tr>\n",
       "            <td>[25]</td>\n",
       "            <td>United Kingdom - 06</td>\n",
       "            <td>Trade flows with United Kingdom of the following type:Trees and other plants, live; bulbs, roots and the like; cut flowers and ornamental foliage</td>\n",
       "            <td>[\"Imports\"] -> Tensor<br /><br /></td>\n",
       "            <td>a8433d83-d8b2-41d2-9774-4191140f5199</td>\n",
       "          </tr>\n",
       "\n",
       "          <tr>\n",
       "            <td>[26]</td>\n",
       "            <td>United Kingdom - 02</td>\n",
       "            <td>Trade flows with United Kingdom of the following type:Meat and edible meat offal</td>\n",
       "            <td>[\"Imports\"] -> Tensor<br /><br />[\"Exports\"] -> Tensor<br /><br /></td>\n",
       "            <td>5fe39c59-6beb-464c-8ee8-40eda8f35ef2</td>\n",
       "          </tr>\n",
       "\n",
       "          <tr>\n",
       "            <td>[27]</td>\n",
       "            <td>United States of America - 07</td>\n",
       "            <td>Trade flows with United States of America of the following type:Vegetables and certain roots and tubers; edible</td>\n",
       "            <td>[\"Exports\"] -> Tensor<br /><br />[\"Imports\"] -> Tensor<br /><br />[\"Re-exports\"] -> Tensor<br /><br /></td>\n",
       "            <td>77d939af-ea7f-4d66-94d1-305a97e587b9</td>\n",
       "          </tr>\n",
       "\n",
       "          <tr>\n",
       "            <td>[28]</td>\n",
       "            <td>United States of America - 09</td>\n",
       "            <td>Trade flows with United States of America of the following type:Coffee, tea, mate and spices</td>\n",
       "            <td>[\"Exports\"] -> Tensor<br /><br />[\"Imports\"] -> Tensor<br /><br />[\"Re-exports\"] -> Tensor<br /><br /></td>\n",
       "            <td>90a0f386-2aa1-4841-bcf6-da4c60445331</td>\n",
       "          </tr>\n",
       "\n",
       "          <tr>\n",
       "            <td>[29]</td>\n",
       "            <td>United States of America - 08</td>\n",
       "            <td>Trade flows with United States of America of the following type:Fruit and nuts, edible; peel of citrus fruit or melons</td>\n",
       "            <td>[\"Exports\"] -> Tensor<br /><br />[\"Imports\"] -> Tensor<br /><br />[\"Re-exports\"] -> Tensor<br /><br /></td>\n",
       "            <td>39f70dc6-765b-447f-b30f-efe8cab5d1d4</td>\n",
       "          </tr>\n",
       "\n",
       "          <tr>\n",
       "            <td>[30]</td>\n",
       "            <td>United States of America - 02</td>\n",
       "            <td>Trade flows with United States of America of the following type:Meat and edible meat offal</td>\n",
       "            <td>[\"Exports\"] -> Tensor<br /><br />[\"Imports\"] -> Tensor<br /><br />[\"Re-exports\"] -> Tensor<br /><br /></td>\n",
       "            <td>b2c0570b-7bc6-41d5-bdf7-1420ea5c5714</td>\n",
       "          </tr>\n",
       "\n",
       "          <tr>\n",
       "            <td>[31]</td>\n",
       "            <td>United States of America - 03</td>\n",
       "            <td>Trade flows with United States of America of the following type:Fish and crustaceans, molluscs and other aquatic invertebrates</td>\n",
       "            <td>[\"Exports\"] -> Tensor<br /><br />[\"Imports\"] -> Tensor<br /><br />[\"Re-exports\"] -> Tensor<br /><br /></td>\n",
       "            <td>d39cacc0-4599-45b4-9e9a-cd28dde88c4d</td>\n",
       "          </tr>\n",
       "\n",
       "          <tr>\n",
       "            <td>[32]</td>\n",
       "            <td>United States of America - 04</td>\n",
       "            <td>Trade flows with United States of America of the following type:Dairy produce; birds' eggs; natural honey; edible products of animal origin, not elsewhere specified or included</td>\n",
       "            <td>[\"Imports\"] -> Tensor<br /><br />[\"Exports\"] -> Tensor<br /><br />[\"Re-exports\"] -> Tensor<br /><br /></td>\n",
       "            <td>586e4aef-2f21-4e1e-8856-67b35b70e508</td>\n",
       "          </tr>\n",
       "\n",
       "          <tr>\n",
       "            <td>[33]</td>\n",
       "            <td>United States of America - 05</td>\n",
       "            <td>Trade flows with United States of America of the following type:Animal originated products; not elsewhere specified or included</td>\n",
       "            <td>[\"Imports\"] -> Tensor<br /><br />[\"Exports\"] -> Tensor<br /><br />[\"Re-exports\"] -> Tensor<br /><br /></td>\n",
       "            <td>d27fe39c-99da-4052-8adb-089d44ab2050</td>\n",
       "          </tr>\n",
       "\n",
       "          <tr>\n",
       "            <td>[34]</td>\n",
       "            <td>United States of America - 06</td>\n",
       "            <td>Trade flows with United States of America of the following type:Trees and other plants, live; bulbs, roots and the like; cut flowers and ornamental foliage</td>\n",
       "            <td>[\"Imports\"] -> Tensor<br /><br />[\"Exports\"] -> Tensor<br /><br />[\"Re-exports\"] -> Tensor<br /><br /></td>\n",
       "            <td>5f1045c0-d353-4a79-9b46-2e2a65adfac1</td>\n",
       "          </tr>\n",
       "\n",
       "          <tr>\n",
       "            <td>[35]</td>\n",
       "            <td>United States of America - 01</td>\n",
       "            <td>Trade flows with United States of America of the following type:Animals; live</td>\n",
       "            <td>[\"Imports\"] -> Tensor<br /><br />[\"Exports\"] -> Tensor<br /><br />[\"Re-exports\"] -> Tensor<br /><br /></td>\n",
       "            <td>6957c708-7049-45d6-bf4a-b8fa6e814319</td>\n",
       "          </tr>\n",
       "        </table>\n",
       "\n",
       "        <script>\n",
       "        function myFunction() {\n",
       "          // Declare variables\n",
       "          var input, filter, table, tr, td, i, txtValue;\n",
       "          input = document.getElementById(\"myInput\");\n",
       "          filter = input.value.toUpperCase();\n",
       "          table = document.getElementById(\"myTable\");\n",
       "          tr = table.getElementsByTagName(\"tr\");\n",
       "\n",
       "          // Loop through all table rows, and hide those who don't match the search query\n",
       "          for (i = 0; i < tr.length; i++) {\n",
       "            name_td = tr[i].getElementsByTagName(\"td\")[1];\n",
       "            desc_td = tr[i].getElementsByTagName(\"td\")[2];\n",
       "            asset_td = tr[i].getElementsByTagName(\"td\")[3];\n",
       "            id_td = tr[i].getElementsByTagName(\"td\")[4];\n",
       "            if (name_td || desc_td || asset_td || id_td) {\n",
       "              name_txtValue = name_td.textContent || name_td.innerText;\n",
       "              desc_txtValue = desc_td.textContent || name_td.innerText;\n",
       "              asset_txtValue = asset_td.textContent || name_td.innerText;\n",
       "              id_txtValue = id_td.textContent || name_td.innerText;\n",
       "              name_bool = name_txtValue.toUpperCase().indexOf(filter) > -1;\n",
       "              desc_bool = desc_txtValue.toUpperCase().indexOf(filter) > -1;\n",
       "              asset_bool = asset_txtValue.toUpperCase().indexOf(filter) > -1;\n",
       "              id_bool = id_txtValue.toUpperCase().indexOf(filter) > -1;\n",
       "              if (name_bool || desc_bool || asset_bool || id_bool) {\n",
       "                tr[i].style.display = \"\";\n",
       "              } else {\n",
       "                tr[i].style.display = \"none\";\n",
       "              }\n",
       "            }\n",
       "          }\n",
       "        }\n",
       "        </script>"
      ],
      "text/plain": [
       "<syft.core.node.common.client_manager.dataset_api.DatasetRequestAPI at 0x7f912174ffa0>"
      ]
     },
     "execution_count": 9,
     "metadata": {},
     "output_type": "execute_result"
    }
   ],
   "source": [
    "domain.datasets"
   ]
  },
  {
   "cell_type": "code",
   "execution_count": null,
   "id": "c708a9c4-cfbd-4c60-bc09-11ce742913a6",
   "metadata": {},
   "outputs": [],
   "source": []
  },
  {
   "cell_type": "markdown",
   "id": "a4e52985-e746-46f5-9237-c4df2a1f6566",
   "metadata": {},
   "source": [
    "# Use UI to Create a User"
   ]
  },
  {
   "cell_type": "code",
   "execution_count": 10,
   "id": "a50dac1c-12e6-4019-9e6b-ecf7b4594e1c",
   "metadata": {},
   "outputs": [],
   "source": [
    "domain.users.create(\n",
    "    **{\n",
    "        \"name\": \"Sheldon Cooper\",\n",
    "        \"email\": \"sheldon@caltech.edu\",\n",
    "        \"password\": \"bazinga\",\n",
    "        \"budget\":200\n",
    "    }\n",
    ")"
   ]
  },
  {
   "cell_type": "code",
   "execution_count": null,
   "id": "d5e9e733-d2bc-4f43-871f-6fd81f920e33",
   "metadata": {},
   "outputs": [],
   "source": [
    "domain.users"
   ]
  },
  {
   "cell_type": "code",
   "execution_count": null,
   "id": "26fad0df-e6d5-4609-9800-46ceefe49478",
   "metadata": {},
   "outputs": [],
   "source": []
  },
  {
   "cell_type": "code",
   "execution_count": null,
   "id": "a704b7d8-a66b-4ca1-8916-422c8507eeb0",
   "metadata": {},
   "outputs": [],
   "source": []
  }
 ],
 "metadata": {
  "kernelspec": {
   "display_name": "Python 3.10.6 64-bit",
   "language": "python",
   "name": "python3"
  },
  "language_info": {
   "codemirror_mode": {
    "name": "ipython",
    "version": 3
   },
   "file_extension": ".py",
   "mimetype": "text/x-python",
   "name": "python",
   "nbconvert_exporter": "python",
   "pygments_lexer": "ipython3",
   "version": "3.10.6"
  },
  "vscode": {
   "interpreter": {
    "hash": "e7370f93d1d0cde622a1f8e1c04877d8463912d04d973331ad4851f04de6915a"
   }
  }
 },
 "nbformat": 4,
 "nbformat_minor": 5
}

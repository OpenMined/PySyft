{
 "cells": [
  {
   "cell_type": "code",
   "execution_count": null,
   "id": "0518f7a5-cdbc-45c3-b3f0-93122911b4fe",
   "metadata": {},
   "outputs": [],
   "source": [
    "import syft as sy"
   ]
  },
  {
   "cell_type": "markdown",
   "id": "02b27b28-c284-4976-bcb4-ee7d8695bb70",
   "metadata": {},
   "source": [
    "# Domain Applies to Network"
   ]
  },
  {
   "cell_type": "code",
   "execution_count": null,
   "id": "b19f092f-dadf-4000-8071-6a2095639273",
   "metadata": {},
   "outputs": [],
   "source": [
    "import syft as sy"
   ]
  },
  {
   "cell_type": "code",
   "execution_count": null,
   "id": "82d12361-96e4-4d8d-ad04-0aeca5d81744",
   "metadata": {},
   "outputs": [],
   "source": [
    "domain = sy.login(email=\"info@openmined.org\", password=\"changethis\", port=8082)"
   ]
  },
  {
   "cell_type": "code",
   "execution_count": null,
   "id": "79546145-6f84-458a-9ee5-aec9e4865560",
   "metadata": {},
   "outputs": [],
   "source": [
    "domain.datasets"
   ]
  },
  {
   "cell_type": "code",
   "execution_count": null,
   "id": "dda9d370-2e39-4ed2-8449-2b01227cb9dc",
   "metadata": {},
   "outputs": [],
   "source": [
    "domain.vpn_status()"
   ]
  },
  {
   "cell_type": "code",
   "execution_count": null,
   "id": "a6fa19d4-a9d4-430e-b45f-9fab979b06b6",
   "metadata": {},
   "outputs": [],
   "source": [
    "petlab = sy.networks[1]"
   ]
  },
  {
   "cell_type": "code",
   "execution_count": null,
   "id": "508f02ae-657f-430c-a704-c1bc7d0365bf",
   "metadata": {},
   "outputs": [],
   "source": [
    "domain.apply_to_network(petlab)"
   ]
  },
  {
   "cell_type": "markdown",
   "id": "ef623b82-6de6-415e-ad23-fa3e5924c259",
   "metadata": {},
   "source": [
    "# Network Approves Domain"
   ]
  },
  {
   "cell_type": "code",
   "execution_count": null,
   "id": "295fbcd9-cea2-4b98-85d3-3aae509a0159",
   "metadata": {},
   "outputs": [],
   "source": [
    "network = sy.login(email=\"info@openmined.org\", password=\"changethis\", url=\"http://13.64.14.221\", port=80)"
   ]
  },
  {
   "cell_type": "code",
   "execution_count": null,
   "id": "0cc18bec-1b7d-40db-a1cb-ccb5f83cd0f4",
   "metadata": {},
   "outputs": [],
   "source": [
    "network.association.pandas()"
   ]
  },
  {
   "cell_type": "code",
   "execution_count": null,
   "id": "a299d54f-1378-48c1-8745-c9820cff336c",
   "metadata": {},
   "outputs": [],
   "source": [
    "network.association[len(network.association.all())].accept()"
   ]
  },
  {
   "cell_type": "code",
   "execution_count": null,
   "id": "d18d00a8-9a2f-4693-a9f0-5344bf86078e",
   "metadata": {},
   "outputs": [],
   "source": [
    "network.domains"
   ]
  },
  {
   "cell_type": "markdown",
   "id": "e85fe01c-d81a-4896-92be-87737ddf2e51",
   "metadata": {},
   "source": [
    "# Domain Loads Dataset"
   ]
  },
  {
   "cell_type": "code",
   "execution_count": 1,
   "id": "91b1ce8a-5436-4290-b104-34b431f56020",
   "metadata": {},
   "outputs": [],
   "source": [
    "import syft as sy"
   ]
  },
  {
   "cell_type": "code",
   "execution_count": 2,
   "id": "ada4563e-71ab-426c-bbb5-e922f8ac7f32",
   "metadata": {},
   "outputs": [
    {
     "name": "stdout",
     "output_type": "stream",
     "text": [
      "WARNING: CHANGE YOUR USERNAME AND PASSWORD!!! \n",
      "\n",
      "Anyone can login as an admin to your node right now because your password is still the default PySyft username and password!!!\n",
      "\n",
      "Connecting to http://localhost:8082... done! \t Logging into united_states_of_america0... done!\n"
     ]
    }
   ],
   "source": [
    "# domain = sy.login(email=\"info@openmined.org\", password=\"changethis\", port=8081)\n",
    "domain = sy.login(email=\"info@openmined.org\", password=\"changethis\", port=8082)"
   ]
  },
  {
   "cell_type": "code",
   "execution_count": 3,
   "id": "e6a87b77-6bf2-4138-b12b-6e18eb229cd1",
   "metadata": {},
   "outputs": [],
   "source": [
    "import pandas as pd"
   ]
  },
  {
   "cell_type": "code",
   "execution_count": 4,
   "id": "f1d9e4c3-9cd0-4c8b-90af-13089ed0be19",
   "metadata": {},
   "outputs": [],
   "source": [
    "data = pd.read_csv(\"../../trade_demo/datasets/us - feb 2021.csv\", low_memory=False)\n",
    "# data = pd.read_csv(\"../../trade_demo/datasets/ca - feb 2021.csv\", low_memory=False)\n"
   ]
  },
  {
   "cell_type": "code",
   "execution_count": 5,
   "id": "c913bd28-9e71-4f8d-bbcb-6642051ec770",
   "metadata": {},
   "outputs": [],
   "source": [
    "partner2assets = {}\n",
    "\n",
    "for index, row in data.iterrows():\n",
    "    # print(row)\n",
    "    # print()\n",
    "\n",
    "    reporter = row['Reporter']\n",
    "    flow = row['Trade Flow']\n",
    "    partner = row['Partner']\n",
    "    commodity_desc = row['Commodity']\n",
    "    amount = row['Trade Value (US$)']\n",
    "    code = row['Commodity Code']\n",
    "\n",
    "    com = str(commodity_desc).lower()\n",
    "    proceed = False\n",
    "    try: \n",
    "        if int(code) < 10:\n",
    "            if partner in {\"Canada\", \"United States of America\", \"Netherlands\", \"United Kingdom\", \"Italy\"}:\n",
    "                proceed = True\n",
    "    except:\n",
    "        \"\"\n",
    "    if proceed:\n",
    "        if partner not in partner2assets.keys():\n",
    "            partner2assets[partner] = {}\n",
    "\n",
    "        if commodity_desc not in partner2assets[partner].keys():\n",
    "            partner2assets[partner][commodity_desc] = {}\n",
    "\n",
    "        if flow not in partner2assets[partner][commodity_desc].keys():\n",
    "            partner2assets[partner][commodity_desc][flow] = {}\n",
    "\n",
    "        partner2assets[partner][commodity_desc][flow] = {'reporter':reporter, 'commodity_desc':commodity_desc, 'amount':amount, 'flow':flow, 'code':code}"
   ]
  },
  {
   "cell_type": "code",
   "execution_count": 6,
   "id": "e1468be1-9c8b-4acb-9d44-273cea29e766",
   "metadata": {},
   "outputs": [
    {
     "data": {
      "text/plain": [
       "dict_keys(['United Kingdom', 'Netherlands', 'Canada', 'Italy'])"
      ]
     },
     "execution_count": 6,
     "metadata": {},
     "output_type": "execute_result"
    }
   ],
   "source": [
    "partner2assets.keys()"
   ]
  },
  {
   "cell_type": "code",
   "execution_count": 7,
   "id": "01613e59-2168-4646-a19b-57f246c4b425",
   "metadata": {
    "scrolled": true,
    "tags": []
   },
   "outputs": [
    {
     "name": "stdout",
     "output_type": "stream",
     "text": [
      "Loading dataset... uploading... SUCCESS!                                                                                                                                      \n",
      "\n",
      "Run <your client variable>.datasets to see your new dataset loaded into your machine!\n",
      "Loading dataset... uploading... SUCCESS!                                                                                                                                      \n",
      "\n",
      "Run <your client variable>.datasets to see your new dataset loaded into your machine!\n",
      "Loading dataset... uploading... SUCCESS!                                                                                                                                      \n",
      "\n",
      "Run <your client variable>.datasets to see your new dataset loaded into your machine!\n",
      "Loading dataset... uploading... SUCCESS!                                                                                                                                      \n",
      "\n",
      "Run <your client variable>.datasets to see your new dataset loaded into your machine!\n",
      "Loading dataset... uploading... SUCCESS!                                                                                                                                      \n",
      "\n",
      "Run <your client variable>.datasets to see your new dataset loaded into your machine!\n",
      "Loading dataset... uploading... SUCCESS!                                                                                                                                      \n",
      "\n",
      "Run <your client variable>.datasets to see your new dataset loaded into your machine!\n",
      "Loading dataset... uploading... SUCCESS!                                                                                                                                      \n",
      "\n",
      "Run <your client variable>.datasets to see your new dataset loaded into your machine!\n",
      "Loading dataset... uploading... SUCCESS!                                                                                                                                      \n",
      "\n",
      "Run <your client variable>.datasets to see your new dataset loaded into your machine!\n",
      "Loading dataset... uploading... SUCCESS!                                                                                                                                      \n",
      "\n",
      "Run <your client variable>.datasets to see your new dataset loaded into your machine!\n",
      "Loading dataset... uploading... SUCCESS!                                                                                                                                      \n",
      "\n",
      "Run <your client variable>.datasets to see your new dataset loaded into your machine!\n",
      "Loading dataset... uploading... SUCCESS!                                                                                                                                      \n",
      "\n",
      "Run <your client variable>.datasets to see your new dataset loaded into your machine!\n",
      "Loading dataset... uploading... SUCCESS!                                                                                                                                      \n",
      "\n",
      "Run <your client variable>.datasets to see your new dataset loaded into your machine!\n",
      "Loading dataset... uploading... SUCCESS!                                                                                                                                      \n",
      "\n",
      "Run <your client variable>.datasets to see your new dataset loaded into your machine!\n",
      "Loading dataset... uploading... SUCCESS!                                                                                                                                      \n",
      "\n",
      "Run <your client variable>.datasets to see your new dataset loaded into your machine!\n",
      "Loading dataset... uploading... SUCCESS!                                                                                                                                      \n",
      "\n",
      "Run <your client variable>.datasets to see your new dataset loaded into your machine!\n",
      "Loading dataset... uploading... SUCCESS!                                                                                                                                      \n",
      "\n",
      "Run <your client variable>.datasets to see your new dataset loaded into your machine!\n",
      "Loading dataset... uploading... SUCCESS!                                                                                                                                      \n",
      "\n",
      "Run <your client variable>.datasets to see your new dataset loaded into your machine!\n",
      "Loading dataset... uploading... SUCCESS!                                                                                                                                      \n",
      "\n",
      "Run <your client variable>.datasets to see your new dataset loaded into your machine!\n",
      "Loading dataset... uploading... SUCCESS!                                                                                                                                      \n",
      "\n",
      "Run <your client variable>.datasets to see your new dataset loaded into your machine!\n",
      "Loading dataset... uploading... SUCCESS!                                                                                                                                      \n",
      "\n",
      "Run <your client variable>.datasets to see your new dataset loaded into your machine!\n",
      "Loading dataset... uploading... SUCCESS!                                                                                                                                      \n",
      "\n",
      "Run <your client variable>.datasets to see your new dataset loaded into your machine!\n",
      "Loading dataset... uploading... SUCCESS!                                                                                                                                      \n",
      "\n",
      "Run <your client variable>.datasets to see your new dataset loaded into your machine!\n",
      "Loading dataset... uploading... SUCCESS!                                                                                                                                      \n",
      "\n",
      "Run <your client variable>.datasets to see your new dataset loaded into your machine!\n",
      "Loading dataset... uploading... SUCCESS!                                                                                                                                      \n",
      "\n",
      "Run <your client variable>.datasets to see your new dataset loaded into your machine!\n",
      "Loading dataset... uploading... SUCCESS!                                                                                                                                      \n",
      "\n",
      "Run <your client variable>.datasets to see your new dataset loaded into your machine!\n",
      "Loading dataset... uploading... SUCCESS!                                                                                                                                      \n",
      "\n",
      "Run <your client variable>.datasets to see your new dataset loaded into your machine!\n",
      "Loading dataset... uploading... SUCCESS!                                                                                                                                      \n",
      "\n",
      "Run <your client variable>.datasets to see your new dataset loaded into your machine!\n",
      "Loading dataset... uploading... SUCCESS!                                                                                                                                      \n",
      "\n",
      "Run <your client variable>.datasets to see your new dataset loaded into your machine!\n",
      "Loading dataset... uploading... SUCCESS!                                                                                                                                      \n",
      "\n",
      "Run <your client variable>.datasets to see your new dataset loaded into your machine!\n",
      "Loading dataset... uploading... SUCCESS!                                                                                                                                      \n",
      "\n",
      "Run <your client variable>.datasets to see your new dataset loaded into your machine!\n",
      "Loading dataset... uploading... SUCCESS!                                                                                                                                      \n",
      "\n",
      "Run <your client variable>.datasets to see your new dataset loaded into your machine!\n",
      "Loading dataset... uploading... SUCCESS!                                                                                                                                      \n",
      "\n",
      "Run <your client variable>.datasets to see your new dataset loaded into your machine!\n",
      "Loading dataset... uploading... SUCCESS!                                                                                                                                      \n",
      "\n",
      "Run <your client variable>.datasets to see your new dataset loaded into your machine!\n",
      "Loading dataset... uploading... SUCCESS!                                                                                                                                      \n",
      "\n",
      "Run <your client variable>.datasets to see your new dataset loaded into your machine!\n",
      "Loading dataset... uploading... SUCCESS!                                                                                                                                      \n",
      "\n",
      "Run <your client variable>.datasets to see your new dataset loaded into your machine!\n",
      "Loading dataset... uploading... SUCCESS!                                                                                                                                      \n",
      "\n",
      "Run <your client variable>.datasets to see your new dataset loaded into your machine!\n"
     ]
    }
   ],
   "source": [
    "for partner in partner2assets.keys():\n",
    "        \n",
    "    for commodity_desc in partner2assets[partner].keys():\n",
    "        assets = {}\n",
    "        \n",
    "        for flow in partner2assets[partner][commodity_desc].keys():\n",
    "            dataset = sy.Tensor([partner2assets[partner][commodity_desc][flow]['amount']]).annotate_with_dp_metadata(0,1500000, entities='un')\n",
    "            assets[flow] = dataset\n",
    "\n",
    "        domain.load_dataset(assets=assets,\n",
    "                            name=partner + \" - \" + partner2assets[partner][commodity_desc][flow]['code'],\n",
    "                            description=\"Trade flows with \" + str(partner) + \" of the following type:\" + str(commodity_desc),\n",
    "                           skip_checks=True)"
   ]
  },
  {
   "cell_type": "code",
   "execution_count": 8,
   "id": "0446e3c5-37f2-4f1c-8015-0a311ef31003",
   "metadata": {},
   "outputs": [
    {
     "data": {
      "text/html": [
       "<div>\n",
       "<style scoped>\n",
       "    .dataframe tbody tr th:only-of-type {\n",
       "        vertical-align: middle;\n",
       "    }\n",
       "\n",
       "    .dataframe tbody tr th {\n",
       "        vertical-align: top;\n",
       "    }\n",
       "\n",
       "    .dataframe thead th {\n",
       "        text-align: right;\n",
       "    }\n",
       "</style>\n",
       "<table border=\"1\" class=\"dataframe\">\n",
       "  <thead>\n",
       "    <tr style=\"text-align: right;\">\n",
       "      <th></th>\n",
       "      <th>id</th>\n",
       "      <th>email</th>\n",
       "      <th>name</th>\n",
       "      <th>budget</th>\n",
       "      <th>verify_key</th>\n",
       "      <th>role</th>\n",
       "      <th>added_by</th>\n",
       "      <th>website</th>\n",
       "      <th>institution</th>\n",
       "      <th>daa_pdf</th>\n",
       "      <th>created_at</th>\n",
       "      <th>budget_spent</th>\n",
       "    </tr>\n",
       "  </thead>\n",
       "  <tbody>\n",
       "    <tr>\n",
       "      <th>0</th>\n",
       "      <td>1</td>\n",
       "      <td>info@openmined.org</td>\n",
       "      <td>Jane Doe</td>\n",
       "      <td>5.55</td>\n",
       "      <td>8a30a5e63c148f19b5a412fb842fbbaa42bddd1f435342...</td>\n",
       "      <td>Owner</td>\n",
       "      <td>None</td>\n",
       "      <td>None</td>\n",
       "      <td>None</td>\n",
       "      <td>None</td>\n",
       "      <td>2021-11-10 18:17:27.268434</td>\n",
       "      <td>0.0</td>\n",
       "    </tr>\n",
       "  </tbody>\n",
       "</table>\n",
       "</div>"
      ],
      "text/plain": [
       "<syft.core.node.common.client_manager.user_api.UserRequestAPI at 0x7fa5d97c0e20>"
      ]
     },
     "execution_count": 8,
     "metadata": {},
     "output_type": "execute_result"
    }
   ],
   "source": [
    "domain.users"
   ]
  },
  {
   "cell_type": "markdown",
   "id": "5129fa85-2cb2-44e4-87bd-9fac2bdc0df8",
   "metadata": {},
   "source": [
    "# Use UI To Create a User"
   ]
  },
  {
   "cell_type": "code",
   "execution_count": 9,
   "id": "a50dac1c-12e6-4019-9e6b-ecf7b4594e1c",
   "metadata": {},
   "outputs": [],
   "source": [
    "domain.users.create(\n",
    "    **{\n",
    "        \"name\": \"Sheldon Cooper\",\n",
    "        \"email\": \"sheldon@caltech.edu\",\n",
    "        \"password\": \"bazinga\",\n",
    "        \"budget\":200\n",
    "    }\n",
    ")"
   ]
  },
  {
   "cell_type": "code",
   "execution_count": null,
   "id": "d5e9e733-d2bc-4f43-871f-6fd81f920e33",
   "metadata": {},
   "outputs": [],
   "source": [
    "domain.users"
   ]
  },
  {
   "cell_type": "code",
   "execution_count": null,
   "id": "931f87b6-9a1c-46f2-8b65-1200ec5a1a98",
   "metadata": {},
   "outputs": [],
   "source": []
  },
  {
   "cell_type": "code",
   "execution_count": null,
   "id": "b541bd90-b349-41d1-a50b-321e9a784ac2",
   "metadata": {},
   "outputs": [],
   "source": []
  },
  {
   "cell_type": "code",
   "execution_count": null,
   "id": "03e6428b-016d-4cd4-8ae6-24a135416516",
   "metadata": {},
   "outputs": [],
   "source": []
  },
  {
   "cell_type": "code",
   "execution_count": null,
   "id": "f982bb04-5ead-4c03-9a34-727b63df19e3",
   "metadata": {},
   "outputs": [],
   "source": []
  },
  {
   "cell_type": "code",
   "execution_count": null,
   "id": "0221144e-9e6f-4d33-b864-ba0759af1ea1",
   "metadata": {},
   "outputs": [],
   "source": []
  },
  {
   "cell_type": "code",
   "execution_count": null,
   "id": "64eeaf02-aeb3-4dfe-9688-fab52aa88180",
   "metadata": {},
   "outputs": [],
   "source": []
  },
  {
   "cell_type": "code",
   "execution_count": null,
   "id": "3bc998f4-5d57-47a6-98c3-cf4a3d7d1379",
   "metadata": {},
   "outputs": [],
   "source": [
    "us_data = pd.read_csv(\"../../trade_demo/datasets/us - feb 2021.csv\", low_memory=False)\n",
    "ca_data = pd.read_csv(\"../../trade_demo/datasets/ca - feb 2021.csv\", low_memory=False)\n"
   ]
  },
  {
   "cell_type": "code",
   "execution_count": null,
   "id": "53b286a0-2ab1-4b54-b4cc-5ca11556fabd",
   "metadata": {},
   "outputs": [],
   "source": [
    "us_data[us_data['Partner'] == 'Canada'][us_data['Commodity Code'] == '04'][us_data['Trade Flow'] == 'Exports']"
   ]
  },
  {
   "cell_type": "code",
   "execution_count": null,
   "id": "e3696ef0-f7c8-4e7c-bf69-f85919d37c7d",
   "metadata": {},
   "outputs": [],
   "source": [
    "ca_data[ca_data['Partner'] == 'United States of America'][ca_data['Commodity Code'] == '04'][ca_data['Trade Flow'] == 'Imports']"
   ]
  },
  {
   "cell_type": "code",
   "execution_count": null,
   "id": "d1caa773-2eb4-4c7d-8dce-3bdf2190cb40",
   "metadata": {},
   "outputs": [],
   "source": [
    "27209027 - 25490147"
   ]
  },
  {
   "cell_type": "code",
   "execution_count": null,
   "id": "875a64d8-8899-40b7-9eca-cb2a97400369",
   "metadata": {},
   "outputs": [],
   "source": []
  }
 ],
 "metadata": {
  "kernelspec": {
   "display_name": "Python 3.10.6 64-bit",
   "language": "python",
   "name": "python3"
  },
  "language_info": {
   "codemirror_mode": {
    "name": "ipython",
    "version": 3
   },
   "file_extension": ".py",
   "mimetype": "text/x-python",
   "name": "python",
   "nbconvert_exporter": "python",
   "pygments_lexer": "ipython3",
   "version": "3.10.6"
  },
  "vscode": {
   "interpreter": {
    "hash": "e7370f93d1d0cde622a1f8e1c04877d8463912d04d973331ad4851f04de6915a"
   }
  }
 },
 "nbformat": 4,
 "nbformat_minor": 5
}

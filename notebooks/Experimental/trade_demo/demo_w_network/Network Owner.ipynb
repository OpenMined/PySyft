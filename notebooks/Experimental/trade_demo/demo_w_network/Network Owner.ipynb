{
 "cells": [
  {
   "cell_type": "markdown",
   "id": "e9bde341-7113-4493-a03e-a884cc91ad11",
   "metadata": {},
   "source": [
    "# Setup Network"
   ]
  },
  {
   "cell_type": "code",
   "execution_count": null,
   "id": "c9e3988b-a6ef-497c-b02d-895a1420c74e",
   "metadata": {},
   "outputs": [],
   "source": [
    "network = sy.login(email=\"info@openmined.org\", \n",
    "                   password=\"changethis\", \n",
    "                   url=\"http://13.64.14.221\", \n",
    "                   port=80)"
   ]
  },
  {
   "cell_type": "code",
   "execution_count": null,
   "id": "771a95bb-7f80-4268-a652-ced43e4099b0",
   "metadata": {},
   "outputs": [],
   "source": [
    "network.join_network(network)"
   ]
  },
  {
   "cell_type": "code",
   "execution_count": null,
   "id": "c30e07d3-6282-4f12-9d22-5e96a3c0c9b4",
   "metadata": {},
   "outputs": [],
   "source": [
    "network.vpn_status()"
   ]
  },
  {
   "cell_type": "markdown",
   "id": "6375e42b-3e82-454f-8291-7cbbab65d70f",
   "metadata": {},
   "source": [
    "# Network Approves Domain "
   ]
  },
  {
   "cell_type": "code",
   "execution_count": 42,
   "id": "bc7aeb1b-ad8d-461d-a645-15d224275c7c",
   "metadata": {},
   "outputs": [
    {
     "data": {
      "text/html": [
       "<div>\n",
       "<style scoped>\n",
       "    .dataframe tbody tr th:only-of-type {\n",
       "        vertical-align: middle;\n",
       "    }\n",
       "\n",
       "    .dataframe tbody tr th {\n",
       "        vertical-align: top;\n",
       "    }\n",
       "\n",
       "    .dataframe thead th {\n",
       "        text-align: right;\n",
       "    }\n",
       "</style>\n",
       "<table border=\"1\" class=\"dataframe\">\n",
       "  <thead>\n",
       "    <tr style=\"text-align: right;\">\n",
       "      <th></th>\n",
       "      <th>name</th>\n",
       "      <th>host_or_ip</th>\n",
       "      <th>vpn_host_or_ip</th>\n",
       "      <th>protocol</th>\n",
       "      <th>port</th>\n",
       "      <th>admin_email</th>\n",
       "      <th>website</th>\n",
       "      <th>slack</th>\n",
       "      <th>slack_channel</th>\n",
       "    </tr>\n",
       "  </thead>\n",
       "  <tbody>\n",
       "    <tr>\n",
       "      <th>0</th>\n",
       "      <td>omnet</td>\n",
       "      <td>13.64.187.229</td>\n",
       "      <td>100.64.0.1</td>\n",
       "      <td>http</td>\n",
       "      <td>80</td>\n",
       "      <td>support@openmined.org</td>\n",
       "      <td>https://www.openmined.org/</td>\n",
       "      <td>https://slack.openmined.org/</td>\n",
       "      <td>omnet</td>\n",
       "    </tr>\n",
       "    <tr>\n",
       "      <th>1</th>\n",
       "      <td>United Nations PET Lab (Mock)</td>\n",
       "      <td>13.64.14.221</td>\n",
       "      <td>100.64.0.1</td>\n",
       "      <td>http</td>\n",
       "      <td>80</td>\n",
       "      <td>support@openmined.org</td>\n",
       "      <td>https://www.openmined.org/</td>\n",
       "      <td>https://slack.openmined.org/</td>\n",
       "      <td>petlab</td>\n",
       "    </tr>\n",
       "  </tbody>\n",
       "</table>\n",
       "</div>"
      ],
      "text/plain": [
       "<syft.registry.NetworkRegistry at 0x7fe4c115b2b0>"
      ]
     },
     "execution_count": 42,
     "metadata": {},
     "output_type": "execute_result"
    }
   ],
   "source": [
    "sy.networks"
   ]
  },
  {
   "cell_type": "code",
   "execution_count": 43,
   "id": "f2b01c44-b46e-4247-a1ca-f045cad5a4b3",
   "metadata": {},
   "outputs": [],
   "source": [
    "import syft as sy"
   ]
  },
  {
   "cell_type": "code",
   "execution_count": 44,
   "id": "99de7065-4c86-47f9-ba7c-7f3a928eaa2d",
   "metadata": {},
   "outputs": [
    {
     "name": "stdout",
     "output_type": "stream",
     "text": [
      "WARNING: CHANGE YOUR USERNAME AND PASSWORD!!! \n",
      "\n",
      "Anyone can login as an admin to your node right now because your password is still the default PySyft username and password!!!\n",
      "\n",
      "Connecting to http://13.64.14.221... done! \t Logging into united_nations_mock... done!\n"
     ]
    }
   ],
   "source": [
    "network = sy.login(email=\"info@openmined.org\", \n",
    "                   password=\"changethis\", \n",
    "                   url=\"http://13.64.14.221\", \n",
    "                   port=80)"
   ]
  },
  {
   "cell_type": "code",
   "execution_count": 48,
   "id": "4be9b32f-79ce-41d7-85be-0c473aedb86e",
   "metadata": {},
   "outputs": [
    {
     "data": {
      "text/html": [
       "<div>\n",
       "<style scoped>\n",
       "    .dataframe tbody tr th:only-of-type {\n",
       "        vertical-align: middle;\n",
       "    }\n",
       "\n",
       "    .dataframe tbody tr th {\n",
       "        vertical-align: top;\n",
       "    }\n",
       "\n",
       "    .dataframe thead th {\n",
       "        text-align: right;\n",
       "    }\n",
       "</style>\n",
       "<table border=\"1\" class=\"dataframe\">\n",
       "  <thead>\n",
       "    <tr style=\"text-align: right;\">\n",
       "      <th></th>\n",
       "      <th>source</th>\n",
       "      <th>association_id</th>\n",
       "      <th>status</th>\n",
       "      <th>node_name</th>\n",
       "      <th>name</th>\n",
       "      <th>node_address</th>\n",
       "      <th>target</th>\n",
       "      <th>requested_date</th>\n",
       "      <th>email</th>\n",
       "      <th>reason</th>\n",
       "    </tr>\n",
       "  </thead>\n",
       "  <tbody>\n",
       "    <tr>\n",
       "      <th>0</th>\n",
       "      <td>100.64.0.2</td>\n",
       "      <td>1</td>\n",
       "      <td>ACCEPTED</td>\n",
       "      <td>canada</td>\n",
       "      <td></td>\n",
       "      <td>2323ea2f4e484870bc0318156cfbd54b</td>\n",
       "      <td>100.64.0.1</td>\n",
       "      <td>11/05/2021</td>\n",
       "      <td></td>\n",
       "      <td></td>\n",
       "    </tr>\n",
       "    <tr>\n",
       "      <th>1</th>\n",
       "      <td>100.64.0.3</td>\n",
       "      <td>2</td>\n",
       "      <td>ACCEPTED</td>\n",
       "      <td>united_states_of_america</td>\n",
       "      <td></td>\n",
       "      <td>c8a0ffc24c1f405d886c471f1431a77a</td>\n",
       "      <td>100.64.0.1</td>\n",
       "      <td>11/05/2021</td>\n",
       "      <td></td>\n",
       "      <td></td>\n",
       "    </tr>\n",
       "    <tr>\n",
       "      <th>2</th>\n",
       "      <td>100.64.0.5</td>\n",
       "      <td>3</td>\n",
       "      <td>ACCEPTED</td>\n",
       "      <td>canada</td>\n",
       "      <td></td>\n",
       "      <td>49cc1dce8711414ab3f482d560d57940</td>\n",
       "      <td>100.64.0.1</td>\n",
       "      <td>11/09/2021</td>\n",
       "      <td></td>\n",
       "      <td></td>\n",
       "    </tr>\n",
       "    <tr>\n",
       "      <th>3</th>\n",
       "      <td>100.64.0.7</td>\n",
       "      <td>5</td>\n",
       "      <td>ACCEPTED</td>\n",
       "      <td>united_states_of_america</td>\n",
       "      <td></td>\n",
       "      <td>1b32e2b7596545f9aad89430b54d0538</td>\n",
       "      <td>100.64.0.1</td>\n",
       "      <td>11/10/2021</td>\n",
       "      <td></td>\n",
       "      <td></td>\n",
       "    </tr>\n",
       "    <tr>\n",
       "      <th>4</th>\n",
       "      <td>100.64.0.6</td>\n",
       "      <td>4</td>\n",
       "      <td>ACCEPTED</td>\n",
       "      <td>canada</td>\n",
       "      <td></td>\n",
       "      <td>5c58a3b7dc854bd1992c83d72608eb2e</td>\n",
       "      <td>100.64.0.1</td>\n",
       "      <td>11/10/2021</td>\n",
       "      <td></td>\n",
       "      <td></td>\n",
       "    </tr>\n",
       "    <tr>\n",
       "      <th>5</th>\n",
       "      <td>100.64.0.8</td>\n",
       "      <td>6</td>\n",
       "      <td>ACCEPTED</td>\n",
       "      <td>california</td>\n",
       "      <td></td>\n",
       "      <td>15966a34c4b445d9b3b2be4d90b90924</td>\n",
       "      <td>100.64.0.1</td>\n",
       "      <td>11/10/2021</td>\n",
       "      <td></td>\n",
       "      <td></td>\n",
       "    </tr>\n",
       "    <tr>\n",
       "      <th>6</th>\n",
       "      <td>100.64.0.9</td>\n",
       "      <td>7</td>\n",
       "      <td>PENDING</td>\n",
       "      <td>new_york</td>\n",
       "      <td></td>\n",
       "      <td>a3ad7407e12d4a8989283fd7f5920979</td>\n",
       "      <td>100.64.0.1</td>\n",
       "      <td>11/10/2021</td>\n",
       "      <td></td>\n",
       "      <td></td>\n",
       "    </tr>\n",
       "  </tbody>\n",
       "</table>\n",
       "</div>"
      ],
      "text/plain": [
       "       source association_id    status                 node_name name  \\\n",
       "0  100.64.0.2              1  ACCEPTED                    canada        \n",
       "1  100.64.0.3              2  ACCEPTED  united_states_of_america        \n",
       "2  100.64.0.5              3  ACCEPTED                    canada        \n",
       "3  100.64.0.7              5  ACCEPTED  united_states_of_america        \n",
       "4  100.64.0.6              4  ACCEPTED                    canada        \n",
       "5  100.64.0.8              6  ACCEPTED                california        \n",
       "6  100.64.0.9              7   PENDING                  new_york        \n",
       "\n",
       "                       node_address      target requested_date email reason  \n",
       "0  2323ea2f4e484870bc0318156cfbd54b  100.64.0.1     11/05/2021               \n",
       "1  c8a0ffc24c1f405d886c471f1431a77a  100.64.0.1     11/05/2021               \n",
       "2  49cc1dce8711414ab3f482d560d57940  100.64.0.1     11/09/2021               \n",
       "3  1b32e2b7596545f9aad89430b54d0538  100.64.0.1     11/10/2021               \n",
       "4  5c58a3b7dc854bd1992c83d72608eb2e  100.64.0.1     11/10/2021               \n",
       "5  15966a34c4b445d9b3b2be4d90b90924  100.64.0.1     11/10/2021               \n",
       "6  a3ad7407e12d4a8989283fd7f5920979  100.64.0.1     11/10/2021               "
      ]
     },
     "execution_count": 48,
     "metadata": {},
     "output_type": "execute_result"
    }
   ],
   "source": [
    "network.association.pandas()"
   ]
  },
  {
   "cell_type": "code",
   "execution_count": 49,
   "id": "e0f78315-8eee-4a7f-9d11-c2c61745c8d3",
   "metadata": {},
   "outputs": [
    {
     "data": {
      "text/plain": [
       "<SuccessResponseMessage: baccc8d4e0b24738a66ee3c4e18653ab>"
      ]
     },
     "execution_count": 49,
     "metadata": {},
     "output_type": "execute_result"
    }
   ],
   "source": [
    "network.association[len(network.association.all())].accept()"
   ]
  },
  {
   "cell_type": "code",
   "execution_count": 50,
   "id": "ad307452-ae5a-4e58-b129-27157cd1f113",
   "metadata": {},
   "outputs": [
    {
     "data": {
      "text/html": [
       "<div>\n",
       "<style scoped>\n",
       "    .dataframe tbody tr th:only-of-type {\n",
       "        vertical-align: middle;\n",
       "    }\n",
       "\n",
       "    .dataframe tbody tr th {\n",
       "        vertical-align: top;\n",
       "    }\n",
       "\n",
       "    .dataframe thead th {\n",
       "        text-align: right;\n",
       "    }\n",
       "</style>\n",
       "<table border=\"1\" class=\"dataframe\">\n",
       "  <thead>\n",
       "    <tr style=\"text-align: right;\">\n",
       "      <th></th>\n",
       "      <th>host_or_ip</th>\n",
       "      <th>id</th>\n",
       "      <th>is_vpn</th>\n",
       "      <th>name</th>\n",
       "    </tr>\n",
       "  </thead>\n",
       "  <tbody>\n",
       "    <tr>\n",
       "      <th>0</th>\n",
       "      <td>100.64.0.2</td>\n",
       "      <td>2323ea2f4e484870bc0318156cfbd54b</td>\n",
       "      <td>1</td>\n",
       "      <td>canada</td>\n",
       "    </tr>\n",
       "    <tr>\n",
       "      <th>1</th>\n",
       "      <td>100.64.0.3</td>\n",
       "      <td>c8a0ffc24c1f405d886c471f1431a77a</td>\n",
       "      <td>1</td>\n",
       "      <td>united_states_of_america</td>\n",
       "    </tr>\n",
       "    <tr>\n",
       "      <th>2</th>\n",
       "      <td>100.64.0.5</td>\n",
       "      <td>49cc1dce8711414ab3f482d560d57940</td>\n",
       "      <td>1</td>\n",
       "      <td>canada</td>\n",
       "    </tr>\n",
       "    <tr>\n",
       "      <th>3</th>\n",
       "      <td>100.64.0.6</td>\n",
       "      <td>5c58a3b7dc854bd1992c83d72608eb2e</td>\n",
       "      <td>1</td>\n",
       "      <td>canada</td>\n",
       "    </tr>\n",
       "    <tr>\n",
       "      <th>4</th>\n",
       "      <td>100.64.0.7</td>\n",
       "      <td>1b32e2b7596545f9aad89430b54d0538</td>\n",
       "      <td>1</td>\n",
       "      <td>united_states_of_america</td>\n",
       "    </tr>\n",
       "    <tr>\n",
       "      <th>5</th>\n",
       "      <td>100.64.0.8</td>\n",
       "      <td>15966a34c4b445d9b3b2be4d90b90924</td>\n",
       "      <td>1</td>\n",
       "      <td>california</td>\n",
       "    </tr>\n",
       "    <tr>\n",
       "      <th>6</th>\n",
       "      <td>100.64.0.9</td>\n",
       "      <td>a3ad7407e12d4a8989283fd7f5920979</td>\n",
       "      <td>1</td>\n",
       "      <td>new_york</td>\n",
       "    </tr>\n",
       "  </tbody>\n",
       "</table>\n",
       "</div>"
      ],
      "text/plain": [
       "<syft.core.node.common.client_manager.domain_api.DomainRequestAPI at 0x7fe4a2b29880>"
      ]
     },
     "execution_count": 50,
     "metadata": {},
     "output_type": "execute_result"
    }
   ],
   "source": [
    "network.domains"
   ]
  },
  {
   "cell_type": "code",
   "execution_count": null,
   "id": "0e02b0eb-e14c-428c-b635-02ad15df4508",
   "metadata": {},
   "outputs": [],
   "source": []
  }
 ],
 "metadata": {
  "kernelspec": {
   "display_name": "Python 3 (ipykernel)",
   "language": "python",
   "name": "python3"
  },
  "language_info": {
   "codemirror_mode": {
    "name": "ipython",
    "version": 3
   },
   "file_extension": ".py",
   "mimetype": "text/x-python",
   "name": "python",
   "nbconvert_exporter": "python",
   "pygments_lexer": "ipython3",
   "version": "3.9.7"
  }
 },
 "nbformat": 4,
 "nbformat_minor": 5
}

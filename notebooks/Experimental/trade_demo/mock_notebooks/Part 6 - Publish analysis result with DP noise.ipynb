{
 "cells": [
  {
   "cell_type": "markdown",
   "id": "41ab1458",
   "metadata": {
    "heading_collapsed": true
   },
   "source": [
    "### User: Data Scientist\n",
    "\n",
    "#### Goal:\n",
    "- Select Italy and Canada trade datasets\n",
    "- Perform a join between the two datasets on the `Commodity Code` column\n",
    "- Perform analysis on the merged dataset\n",
    "- Request for a private budget\n",
    "- Publish the results of the analysis\n",
    "\n",
    "#### Summary:\n",
    "- Select Italy and Canada trade datasets\n",
    "- ETL the trade datasets\n",
    "- Merge the two datasets on the `Commodity Code` column\n",
    "- For each commodity calculate the export/import ratio\n",
    "- Fetch all the commodities where the export/import ratio exceeds 10%\n",
    "- Create an AdversarialAccountant\n",
    "- Request for a private budget\n",
    "- Publish the results of the analysis"
   ]
  },
  {
   "cell_type": "code",
   "execution_count": null,
   "id": "c7618059",
   "metadata": {
    "hidden": true
   },
   "outputs": [],
   "source": [
    "import syft as sy\n",
    "\n",
    "# Select the united nations network\n",
    "un_network = sy.network[0]\n",
    "\n",
    "# Login into the network\n",
    "un_network_client = un.login(email=\"sheldon@caltech.edu\", password=\"bazinga\")"
   ]
  },
  {
   "cell_type": "code",
   "execution_count": null,
   "id": "68382aa7",
   "metadata": {
    "hidden": true
   },
   "outputs": [],
   "source": [
    "# Filter and select the Canada and the Italy trade datasets\n",
    "\n",
    "ca_trade_dataset_ptr = un_network_client.datasets[\"f3s9h1m\"]\n",
    "it_trade_dataset_ptr = un_network_client.datasets[\"42wk65l\"]"
   ]
  },
  {
   "cell_type": "code",
   "execution_count": null,
   "id": "890e9364",
   "metadata": {
    "hidden": true
   },
   "outputs": [],
   "source": [
    "# Let's filter out the data for the columns we desire.\n",
    "\n",
    "required_columns = [\n",
    "    \"Classification\",\n",
    "    \"Commodity Code\",\n",
    "    \"Commodity\",\n",
    "    \"Trade Value (US$)\",\n",
    "    \"Partner\",\n",
    "    \"Commodity Code\",\n",
    "    \"Trade Flow\",\n",
    "]\n",
    "\n",
    "ca_dataset_ptr = ca_trade_dataset_ptr.select(columns=required_columns)\n",
    "it_dataset_ptr = it_trade_dataset_ptr.select(columns=required_columns)\n",
    "\n",
    "# In canada dataset filter out the rows where the `Partner` is `Italy`\n",
    "ca_filtered_dataset_ptr = ca_dataset_ptr.filter(\n",
    "    ca_filtered_dataset_ptr[\"Partner\"] == \"Italy\"\n",
    ")\n",
    "\n",
    "# Similary, in italy dataset filter out the rows where the `Partner` is `Canada`\n",
    "it_filtered_dataset_ptr = it_dataset_ptr.filter(\n",
    "    ca_filtered_dataset_ptr[\"Partner\"] == \"Canada\"\n",
    ")"
   ]
  },
  {
   "cell_type": "code",
   "execution_count": null,
   "id": "fcddfd8b",
   "metadata": {
    "hidden": true
   },
   "outputs": [],
   "source": [
    "# Join the two datasets\n",
    "merged_dataset_ptr = sympc.merge(\n",
    "    left=ca_filtered_dataset_ptr,\n",
    "    right=it_filtered_dataset_ptr,\n",
    "    on=\"Commodity Code\",\n",
    "    how=\"inner\",\n",
    "    suffixes=(\"_ca\", \"_it\"),\n",
    ")\n",
    "\n",
    "merged_dataset_ptr.column_description"
   ]
  },
  {
   "cell_type": "code",
   "execution_count": null,
   "id": "a4fa2da7",
   "metadata": {
    "hidden": true
   },
   "outputs": [],
   "source": [
    "# Calculate the import to export ratio and \n",
    "# select the commodities where the error rate is greater than 10%\n",
    "\n",
    "ca_imports_it_exports = merged_dataset_ptr.filter(\n",
    "    merged_dataset_ptr[\"Partner_ca\"] == \"Imports\"\n",
    ")\n",
    "ca_export_it_imports = merged_dataset_ptr.filter(\n",
    "    merged_dataset_ptr[\"Partner_ca\"] == \"Exports\"\n",
    ")\n",
    "\n",
    "\n",
    "# Select the commodities where the error rate is greater than 10%\n",
    "commodities1_with_error_gt_10 = ca_imports_it_exports.filter(\n",
    "    (ca_imports_it_exports[\"Trade Value_it\"] / ca_imports_it_exports[\"Trade Value_ca\"])\n",
    "    > 0.1\n",
    ").select(columns=[\"Commodity Code\"])\n",
    "commodities2_with_error_gt_10 = ca_export_it_imports.filter(\n",
    "    (ca_export_it_imports[\"Trade Value_ca\"] / ca_export_it_imports[\"Trade Value_it\"])\n",
    "    > 0.1\n",
    ").select(columns=[\"Commodity Code\"])"
   ]
  },
  {
   "cell_type": "code",
   "execution_count": 15,
   "id": "6dae8439",
   "metadata": {
    "hidden": true
   },
   "outputs": [
    {
     "name": "stdout",
     "output_type": "stream",
     "text": [
      "\u001b[92mAdversarialAccount: \u001b[0m\u001b[1m<sheldon@caltech.edu>\u001b[0m, Budget: \u001b[1m0\n"
     ]
    }
   ],
   "source": [
    "# Now, that we have the list of commodities where the error rate is greater than 10%, \n",
    "# Before, that let's check how much privacy budget is allocated to us.\n",
    "# let's request for a private budget from the network\n",
    "# Before, that we need to setup an AdversarialAccountant\n",
    "un_network_client.privacy_budget"
   ]
  },
  {
   "cell_type": "code",
   "execution_count": 20,
   "id": "5122d7af",
   "metadata": {
    "hidden": true
   },
   "outputs": [
    {
     "name": "stdout",
     "output_type": "stream",
     "text": [
      "Your request to add budget of \u001b[1m10000\u001b[0m has been submitted to \u001b[1mUnited Nations\u001b[0m Network. \n",
      "You will recieve an email at \u001b[1m<sheldon@caltech.edu>\u001b[0m once your budget is approved.\n"
     ]
    }
   ],
   "source": [
    "# Looks like we don't have any budget. \n",
    "# Let's request for some budget from the network.\n",
    "un_network_client.privacy_budget.add(value=10000)"
   ]
  },
  {
   "cell_type": "code",
   "execution_count": 46,
   "id": "1f8b682c",
   "metadata": {
    "hidden": true
   },
   "outputs": [
    {
     "data": {
      "text/html": [
       "<div>\n",
       "<style scoped>\n",
       "    .dataframe tbody tr th:only-of-type {\n",
       "        vertical-align: middle;\n",
       "    }\n",
       "\n",
       "    .dataframe tbody tr th {\n",
       "        vertical-align: top;\n",
       "    }\n",
       "\n",
       "    .dataframe thead th {\n",
       "        text-align: right;\n",
       "    }\n",
       "</style>\n",
       "<table border=\"1\" class=\"dataframe\">\n",
       "  <thead>\n",
       "    <tr style=\"text-align: right;\">\n",
       "      <th></th>\n",
       "      <th>Id</th>\n",
       "      <th>Request Date</th>\n",
       "      <th>Request Value</th>\n",
       "      <th>Approved Value</th>\n",
       "      <th>Status</th>\n",
       "    </tr>\n",
       "  </thead>\n",
       "  <tbody>\n",
       "    <tr>\n",
       "      <th>0</th>\n",
       "      <td>b9b15f5fae</td>\n",
       "      <td>2021-07-30</td>\n",
       "      <td>20000</td>\n",
       "      <td>NaN</td>\n",
       "      <td>Pending</td>\n",
       "    </tr>\n",
       "    <tr>\n",
       "      <th>1</th>\n",
       "      <td>f33f18e7a2</td>\n",
       "      <td>2021-07-28</td>\n",
       "      <td>10000</td>\n",
       "      <td>5000.0</td>\n",
       "      <td>Approved</td>\n",
       "    </tr>\n",
       "    <tr>\n",
       "      <th>2</th>\n",
       "      <td>efc7f8c605</td>\n",
       "      <td>2021-07-25</td>\n",
       "      <td>10000000</td>\n",
       "      <td>NaN</td>\n",
       "      <td>Declined</td>\n",
       "    </tr>\n",
       "  </tbody>\n",
       "</table>\n",
       "</div>"
      ],
      "text/plain": [
       "           Id Request Date  Request Value  Approved Value    Status\n",
       "0  b9b15f5fae   2021-07-30          20000             NaN   Pending\n",
       "1  f33f18e7a2   2021-07-28          10000          5000.0  Approved\n",
       "2  efc7f8c605   2021-07-25       10000000             NaN  Declined"
      ]
     },
     "execution_count": 46,
     "metadata": {},
     "output_type": "execute_result"
    }
   ],
   "source": [
    "# We can check the status of the all the requests submitted from the client\n",
    "un_network_client.privacy_budget.status"
   ]
  },
  {
   "cell_type": "markdown",
   "id": "719ccd87",
   "metadata": {
    "heading_collapsed": true
   },
   "source": [
    "### User: Network Owner\n",
    "\n",
    "#### Goal:\n",
    "- See all pending request for budget approval\n",
    "- Select a pending request\n",
    "- Approve/Decline request\n",
    "\n",
    "#### Summary:\n",
    "- User login into the network\n",
    "- List all the budget requests\n",
    "- Select a budget request from request Id\n",
    "- Approve/Decline request"
   ]
  },
  {
   "cell_type": "code",
   "execution_count": 39,
   "id": "37f79cab",
   "metadata": {
    "hidden": true
   },
   "outputs": [
    {
     "name": "stdout",
     "output_type": "stream",
     "text": [
      "Connecting to United Nations... connected!\tLogging in as \u001b[1minfo@openmined.org\u001b[0m... logged in!\n"
     ]
    }
   ],
   "source": [
    "import syft as sy\n",
    "\n",
    "# Note: Now the user is the network owner.\n",
    "# Let's connect to my network\n",
    "\n",
    "un_client = sy.login(\n",
    "    email=\"info@openmined.org\", password=\"changethis\", url=\"https://un.openmined.org\"\n",
    ")"
   ]
  },
  {
   "cell_type": "code",
   "execution_count": 45,
   "id": "579cdcaa",
   "metadata": {
    "hidden": true
   },
   "outputs": [
    {
     "data": {
      "text/html": [
       "<div>\n",
       "<style scoped>\n",
       "    .dataframe tbody tr th:only-of-type {\n",
       "        vertical-align: middle;\n",
       "    }\n",
       "\n",
       "    .dataframe tbody tr th {\n",
       "        vertical-align: top;\n",
       "    }\n",
       "\n",
       "    .dataframe thead th {\n",
       "        text-align: right;\n",
       "    }\n",
       "</style>\n",
       "<table border=\"1\" class=\"dataframe\">\n",
       "  <thead>\n",
       "    <tr style=\"text-align: right;\">\n",
       "      <th></th>\n",
       "      <th>Id</th>\n",
       "      <th>Request Date</th>\n",
       "      <th>Request Value</th>\n",
       "      <th>Status</th>\n",
       "      <th>Approved Value</th>\n",
       "      <th>Submitted By</th>\n",
       "    </tr>\n",
       "  </thead>\n",
       "  <tbody>\n",
       "    <tr>\n",
       "      <th>0</th>\n",
       "      <td>b9b15f5fae</td>\n",
       "      <td>2021-07-30</td>\n",
       "      <td>20000</td>\n",
       "      <td>Pending</td>\n",
       "      <td>NaN</td>\n",
       "      <td>sheldon@caltech.edu</td>\n",
       "    </tr>\n",
       "    <tr>\n",
       "      <th>1</th>\n",
       "      <td>814af3b54e</td>\n",
       "      <td>2021-07-24</td>\n",
       "      <td>100000000</td>\n",
       "      <td>Declined</td>\n",
       "      <td>NaN</td>\n",
       "      <td>howard@mit.edu</td>\n",
       "    </tr>\n",
       "    <tr>\n",
       "      <th>2</th>\n",
       "      <td>98851f73ea</td>\n",
       "      <td>2021-07-28</td>\n",
       "      <td>10000</td>\n",
       "      <td>Approved</td>\n",
       "      <td>5000.0</td>\n",
       "      <td>leohofstadler@caltech.edu</td>\n",
       "    </tr>\n",
       "  </tbody>\n",
       "</table>\n",
       "</div>"
      ],
      "text/plain": [
       "           Id Request Date  Request Value    Status  Approved Value  \\\n",
       "0  b9b15f5fae   2021-07-30          20000   Pending             NaN   \n",
       "1  814af3b54e   2021-07-24      100000000  Declined             NaN   \n",
       "2  98851f73ea   2021-07-28          10000  Approved          5000.0   \n",
       "\n",
       "                Submitted By  \n",
       "0        sheldon@caltech.edu  \n",
       "1             howard@mit.edu  \n",
       "2  leohofstadler@caltech.edu  "
      ]
     },
     "execution_count": 45,
     "metadata": {},
     "output_type": "execute_result"
    }
   ],
   "source": [
    "# Let's check the top three budget requests by data\n",
    "un_client.budget_requests[:3]"
   ]
  },
  {
   "cell_type": "code",
   "execution_count": null,
   "id": "94ab2980",
   "metadata": {
    "hidden": true
   },
   "outputs": [],
   "source": [
    "# Let's a select a budget request and approve it.\n",
    "sheldon_budget_request = un_client.budget_requests[\"b9b15f5fae\"]\n",
    "sheldon_budget_request.approve()\n",
    "\n",
    "# Or we're are not fine with the requested value, we can update it.\n",
    "sheldon_budget_request.update_value(10000)\n",
    "sheldon_budget_request.approve()\n",
    "\n",
    "# Or we can simply deny if we feel the value is too high or any other reason\n",
    "sheldon_budget_request.decline()"
   ]
  },
  {
   "cell_type": "markdown",
   "id": "08411c57",
   "metadata": {
    "heading_collapsed": true
   },
   "source": [
    "### User: Data Scientist\n",
    "\n",
    "#### Goal:\n",
    "- Publish the results\n",
    "\n",
    "#### Summary:\n",
    "- Check the status of the request\n",
    "- Publish the result of the analysis"
   ]
  },
  {
   "cell_type": "code",
   "execution_count": 53,
   "id": "9a301827",
   "metadata": {
    "hidden": true
   },
   "outputs": [
    {
     "data": {
      "text/html": [
       "<div>\n",
       "<style scoped>\n",
       "    .dataframe tbody tr th:only-of-type {\n",
       "        vertical-align: middle;\n",
       "    }\n",
       "\n",
       "    .dataframe tbody tr th {\n",
       "        vertical-align: top;\n",
       "    }\n",
       "\n",
       "    .dataframe thead th {\n",
       "        text-align: right;\n",
       "    }\n",
       "</style>\n",
       "<table border=\"1\" class=\"dataframe\">\n",
       "  <thead>\n",
       "    <tr style=\"text-align: right;\">\n",
       "      <th></th>\n",
       "      <th>Id</th>\n",
       "      <th>Request Date</th>\n",
       "      <th>Request Value</th>\n",
       "      <th>Approved Value</th>\n",
       "      <th>Status</th>\n",
       "    </tr>\n",
       "  </thead>\n",
       "  <tbody>\n",
       "    <tr>\n",
       "      <th>0</th>\n",
       "      <td>477251df5f</td>\n",
       "      <td>2021-07-30</td>\n",
       "      <td>20000</td>\n",
       "      <td>20000.0</td>\n",
       "      <td>Approved</td>\n",
       "    </tr>\n",
       "    <tr>\n",
       "      <th>1</th>\n",
       "      <td>a5dba58873</td>\n",
       "      <td>2021-07-28</td>\n",
       "      <td>10000</td>\n",
       "      <td>5000.0</td>\n",
       "      <td>Approved</td>\n",
       "    </tr>\n",
       "    <tr>\n",
       "      <th>2</th>\n",
       "      <td>7f6703f5b6</td>\n",
       "      <td>2021-07-25</td>\n",
       "      <td>10000000</td>\n",
       "      <td>NaN</td>\n",
       "      <td>Declined</td>\n",
       "    </tr>\n",
       "  </tbody>\n",
       "</table>\n",
       "</div>"
      ],
      "text/plain": [
       "           Id Request Date  Request Value  Approved Value    Status\n",
       "0  477251df5f   2021-07-30          20000         20000.0  Approved\n",
       "1  a5dba58873   2021-07-28          10000          5000.0  Approved\n",
       "2  7f6703f5b6   2021-07-25       10000000             NaN  Declined"
      ]
     },
     "execution_count": 53,
     "metadata": {},
     "output_type": "execute_result"
    }
   ],
   "source": [
    "# Few days, have passed, let's check the status of the request\n",
    "\n",
    "un_network_client.privacy_budget.status"
   ]
  },
  {
   "cell_type": "code",
   "execution_count": null,
   "id": "7be391da",
   "metadata": {
    "hidden": true
   },
   "outputs": [],
   "source": [
    "# Great !!, our request has been approved. Bazinga !!!\n",
    "\n",
    "# Let's publish our results\n",
    "\n",
    "approved_budget_request_log[]"
   ]
  },
  {
   "cell_type": "code",
   "execution_count": null,
   "id": "e619e846",
   "metadata": {
    "hidden": true
   },
   "outputs": [],
   "source": [
    "result_ptr1 = commodities1_with_error_gt_10.publish(client=un_network_client, sigma=0.5)\n",
    "result_ptr2 = commodities2_with_error_gt_10.publish(client=un_network_client, sigma=0.5)"
   ]
  },
  {
   "cell_type": "markdown",
   "id": "f2ce22c3",
   "metadata": {
    "heading_collapsed": true,
    "hidden": true
   },
   "source": [
    "#### Woohoo!! we were able to publish the results !!"
   ]
  },
  {
   "cell_type": "code",
   "execution_count": null,
   "id": "0b7d53fe",
   "metadata": {
    "hidden": true
   },
   "outputs": [],
   "source": []
  },
  {
   "cell_type": "code",
   "execution_count": null,
   "id": "43043e5b",
   "metadata": {
    "hidden": true
   },
   "outputs": [],
   "source": []
  },
  {
   "cell_type": "code",
   "execution_count": null,
   "id": "c457ccfd",
   "metadata": {
    "hidden": true
   },
   "outputs": [],
   "source": []
  },
  {
   "cell_type": "markdown",
   "id": "250e56f2",
   "metadata": {
    "heading_collapsed": true,
    "hidden": true
   },
   "source": [
    "#### Dummy Data"
   ]
  },
  {
   "cell_type": "code",
   "execution_count": 52,
   "id": "c0729c58",
   "metadata": {
    "hidden": true
   },
   "outputs": [],
   "source": [
    "import uuid\n",
    "import pandas as pd\n",
    "from enum import Enum\n",
    "\n",
    "\n",
    "## Dummy Data Store\n",
    "dataset_store = [\n",
    "    {\n",
    "        \"Name\": \"breast_cancer\",\n",
    "        \"Tags\": [\"mri\", \"breast cancer\", \"dicoms\"],\n",
    "        \"Description\": \"Labelled image dataset of patients suffering different types of breast cancer\",\n",
    "        \"Dtype\": \"ImageClassificationDataset\",\n",
    "        \"Id\": \"56lkw24\",\n",
    "        \"Domain\": \"WHO\",\n",
    "        \"Shape\": \"((25000, 300, 300), (25000))\",\n",
    "    },\n",
    "    {\n",
    "        \"Name\": \"canada_trade_data\",\n",
    "        \"Tags\": [\"canada\", \"trade\", \"un\", \"commodities\"],\n",
    "        \"Description\": \"This dataset represents aggregated trade statistics as reported by Canada about what it believes was imported/exported to/from its country in Feb 2021.\",\n",
    "        \"Dtype\": \"DataFrame\",\n",
    "        \"Id\": \"f3s9h1m\",\n",
    "        \"Domain\": \"Canada\",\n",
    "        \"Shape\": \"(25000, 22)\",\n",
    "    },\n",
    "    {\n",
    "        \"Name\": \"netherlands_trade_data\",\n",
    "        \"Tags\": [\"netherlands\", \"trade\", \"commodities\", \"export\"],\n",
    "        \"Description\": \"This dataset represents aggregated trade statistics as reported by Netherlands about what it believes was imported/exported to/from its country in Feb 2021.\",\n",
    "        \"Dtype\": \"DataFrame\",\n",
    "        \"Id\": \"2kf3o5d\",\n",
    "        \"Domain\": \"Netherlands\",\n",
    "        \"Shape\": \"(35000, 22)\",\n",
    "    },\n",
    "    {\n",
    "        \"Name\": \"italy_trade_data\",\n",
    "        \"Tags\": [\"italy\", \"trade\", \"un\", \"commodities\", \"export\", \"import\"],\n",
    "        \"Description\": \"This dataset represents aggregated trade statistics as reported by Italy about what it believes was imported/exported to/from its country in Feb 2021.\",\n",
    "        \"Dtype\": \"DataFrame\",\n",
    "        \"Id\": \"42wk65l\",\n",
    "        \"Domain\": \"Italy\",\n",
    "        \"Shape\": \"(30000, 22)\",\n",
    "    },\n",
    "    {\n",
    "        \"Name\": \"us_trade_data\",\n",
    "        \"Tags\": [\"us\", \"trade\", \"un\", \"commodities\"],\n",
    "        \"Description\": \"This dataset represents aggregated trade statistics as reported by United States about what it believes was imported/exported to/from its country in Feb 2021.\",\n",
    "        \"Dtype\": \"DataFrame\",\n",
    "        \"Id\": \"86pfgh1\",\n",
    "        \"Domain\": \"United States\",\n",
    "        \"Shape\": \"(40000, 22)\",\n",
    "    },\n",
    "]\n",
    "\n",
    "dataset_store = pd.DataFrame(dataset_store)\n",
    "\n",
    "\n",
    "class bcolors(Enum):\n",
    "    HEADER = \"\\033[95m\"\n",
    "    OKBLUE = \"\\033[94m\"\n",
    "    OKCYAN = \"\\033[96m\"\n",
    "    OKGREEN = \"\\033[92m\"\n",
    "    WARNING = \"\\033[93m\"\n",
    "    FAIL = \"\\033[91m\"\n",
    "    ENDC = \"\\033[0m\"\n",
    "    BOLD = \"\\033[1m\"\n",
    "    UNDERLINE = \"\\033[4m\"\n",
    "\n",
    "\n",
    "d = {\n",
    "    \"Column\": {\n",
    "        0: \"Classification_ca\",\n",
    "        1: \"Commodity Code\",\n",
    "        2: \"Commodity_ca\",\n",
    "        3: \"Trade Value_ca\",\n",
    "        4: \"Partner_ca\",\n",
    "        5: \"Trade Flow_ca\",\n",
    "        6: \"Classification_it\",\n",
    "        7: \"Commodity_it\",\n",
    "        8: \"Trade Value_it\",\n",
    "        9: \"Partner_it\",\n",
    "        10: \"Trade Flow_it\",\n",
    "    },\n",
    "    \"Description\": {\n",
    "        0: \"Commodity Classification (HS= Harmonized System)\",\n",
    "        1: \"HS Commodity Code\",\n",
    "        2: \"Description\",\n",
    "        3: \"in US dollars\",\n",
    "        4: \"Description\",\n",
    "        5: \"Description\",\n",
    "        6: \"Commodity Classification (HS= Harmonized System)\",\n",
    "        7: \"Description\",\n",
    "        8: \"in US dollars\",\n",
    "        9: \"Description\",\n",
    "        10: \"Description\",\n",
    "    },\n",
    "    \"Private\": {\n",
    "        0: True,\n",
    "        1: True,\n",
    "        2: True,\n",
    "        3: True,\n",
    "        4: False,\n",
    "        5: False,\n",
    "        6: True,\n",
    "        7: True,\n",
    "        8: True,\n",
    "        9: True,\n",
    "        10: False,\n",
    "    },\n",
    "}\n",
    "\n",
    "merged_dataset_schema = pd.DataFrame.from_dict(d)\n",
    "\n",
    "adv_acc = f\"\"\"{bcolors.OKGREEN.value}AdversarialAccount: {bcolors.ENDC.value}{bcolors.BOLD.value}<sheldon@caltech.edu>{bcolors.ENDC.value}, Budget: {bcolors.BOLD.value}0\"\"\"\n",
    "budget_request = f\"\"\"Your request to add budget of {bcolors.BOLD.value}10000{bcolors.ENDC.value} has been submitted to {bcolors.BOLD.value}United Nations{bcolors.ENDC.value} Network. \\nYou will recieve an email at {bcolors.BOLD.value}<sheldon@caltech.edu>{bcolors.ENDC.value} once your budget is approved.\"\"\"\n",
    "\n",
    "uuids = [uuid.uuid4().hex[:10], uuid.uuid4().hex[:10], uuid.uuid4().hex[:10]]\n",
    "budget_request_log = [\n",
    "    {\n",
    "        \"Id\": uuids[0],\n",
    "        \"Request Date\": \"2021-07-25\",\n",
    "        \"Request Value\": 10000000,\n",
    "        \"Approved Value\": None,\n",
    "        \"Status\": \"Declined\",\n",
    "    },\n",
    "    {\n",
    "        \"Id\": uuids[1],\n",
    "        \"Request Date\": \"2021-07-28\",\n",
    "        \"Request Value\": 10000,\n",
    "        \"Approved Value\": 5000,\n",
    "        \"Status\": \"Approved\",\n",
    "    },\n",
    "    {\n",
    "        \"Id\": uuids[2],\n",
    "        \"Request Date\": \"2021-07-30\",\n",
    "        \"Request Value\": 20000,\n",
    "        \"Status\": \"Pending\",\n",
    "        \"Approved Value\": None,\n",
    "    },\n",
    "]\n",
    "budget_request_log = pd.DataFrame(budget_request_log)\n",
    "budget_request_log = budget_request_log[::-1]\n",
    "budget_request_log.reset_index(inplace=True, drop=True)\n",
    "do_client_connection = f\"Connecting to United Nations... connected!\\tLogging in as {bcolors.BOLD.value}info@openmined.org{bcolors.ENDC.value}... logged in!\"\n",
    "\n",
    "do_request_budget = [\n",
    "    {\n",
    "        \"Id\": uuids[2],\n",
    "        \"Request Date\": \"2021-07-30\",\n",
    "        \"Request Value\": 20000,\n",
    "        \"Status\": \"Pending\",\n",
    "        \"Approved Value\": None,\n",
    "        \"Submitted By\": \"sheldon@caltech.edu\",\n",
    "    },\n",
    "    {\n",
    "        \"Id\": uuid.uuid4().hex[:10],\n",
    "        \"Request Date\": \"2021-07-24\",\n",
    "        \"Request Value\": 100000000,\n",
    "        \"Approved Value\": None,\n",
    "        \"Status\": \"Declined\",\n",
    "        \"Submitted By\": \"howard@mit.edu\",\n",
    "    },\n",
    "    {\n",
    "        \"Id\": uuid.uuid4().hex[:10],\n",
    "        \"Request Date\": \"2021-07-28\",\n",
    "        \"Request Value\": 10000,\n",
    "        \"Approved Value\": 5000,\n",
    "        \"Status\": \"Approved\",\n",
    "        \"Submitted By\": \"leohofstadler@caltech.edu\",\n",
    "    },\n",
    "]\n",
    "do_request_budget = pd.DataFrame(do_request_budget)\n",
    "\n",
    "\n",
    "\n",
    "approved_budget_request_log = [\n",
    "    {\n",
    "        \"Id\": uuids[0],\n",
    "        \"Request Date\": \"2021-07-25\",\n",
    "        \"Request Value\": 10000000,\n",
    "        \"Approved Value\": None,\n",
    "        \"Status\": \"Declined\",\n",
    "    },\n",
    "    {\n",
    "        \"Id\": uuids[1],\n",
    "        \"Request Date\": \"2021-07-28\",\n",
    "        \"Request Value\": 10000,\n",
    "        \"Approved Value\": 5000,\n",
    "        \"Status\": \"Approved\",\n",
    "    },\n",
    "    {\n",
    "        \"Id\": uuids[2],\n",
    "        \"Request Date\": \"2021-07-30\",\n",
    "        \"Request Value\": 20000,\n",
    "        \"Status\": \"Approved\",\n",
    "        \"Approved Value\": 20000,\n",
    "    },\n",
    "]\n",
    "approved_budget_request_log = pd.DataFrame(approved_budget_request_log)\n",
    "approved_budget_request_log = approved_budget_request_log[::-1]\n",
    "approved_budget_request_log.reset_index(inplace=True, drop=True)"
   ]
  },
  {
   "cell_type": "code",
   "execution_count": null,
   "id": "ce613c5d",
   "metadata": {
    "hidden": true
   },
   "outputs": [],
   "source": []
  },
  {
   "cell_type": "code",
   "execution_count": null,
   "id": "ba1fd726",
   "metadata": {
    "hidden": true
   },
   "outputs": [],
   "source": []
  }
 ],
 "metadata": {
  "kernelspec": {
   "display_name": "Python 3",
   "language": "python",
   "name": "python3"
  },
  "language_info": {
   "codemirror_mode": {
    "name": "ipython",
    "version": 3
   },
   "file_extension": ".py",
   "mimetype": "text/x-python",
   "name": "python",
   "nbconvert_exporter": "python",
   "pygments_lexer": "ipython3",
   "version": "3.8.1"
  }
 },
 "nbformat": 4,
 "nbformat_minor": 5
}

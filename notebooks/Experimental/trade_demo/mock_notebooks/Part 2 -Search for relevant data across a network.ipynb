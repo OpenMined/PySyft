{
 "cells": [
  {
   "cell_type": "markdown",
   "id": "3b0c5e12",
   "metadata": {},
   "source": [
    "\n",
    "The Notebook is divided into three part:\n",
    "- **Part I**: Data Scientist submits an application to join a network\n",
    "- **Part II**: Network approves the application to join the network\n",
    "- **Part III**: Data Scientist searches the network for relavant datasets"
   ]
  },
  {
   "cell_type": "markdown",
   "id": "3f2c5f71",
   "metadata": {
    "heading_collapsed": true
   },
   "source": [
    "### User:  Data Scientist (Part I)\n",
    "\n",
    "#### Goal:\n",
    "- Search Available Networks\n",
    "- Select one network\n",
    "- Create an account on the network\n",
    "\n",
    "#### Summary:\n",
    "1. The user searches and view all available Networks.\n",
    "2. User selects a Network.\n",
    "3. User downloads the contract associated with the Network.\n",
    "4. The user reads the contract and signs it offline.\n",
    "5. User registers on the selected Network.\n",
    "    - The user submits an application for account creation with the following details:\n",
    "        - user details like name and email\n",
    "        - signed contract\n",
    "    - User is notified about the application status via email.\n",
    "7. Once the application is approved, user can login with the credential recieved in the email."
   ]
  },
  {
   "cell_type": "code",
   "execution_count": 29,
   "id": "8661e322",
   "metadata": {
    "hidden": true,
    "hide_input": true
   },
   "outputs": [],
   "source": [
    "from enum import Enum\n",
    "class bcolors(Enum):\n",
    "    HEADER = '\\033[95m'\n",
    "    OKBLUE = '\\033[94m'\n",
    "    OKCYAN = '\\033[96m'\n",
    "    OKGREEN = '\\033[92m'\n",
    "    WARNING = '\\033[93m'\n",
    "    FAIL = '\\033[91m'\n",
    "    ENDC = '\\033[0m'\n",
    "    BOLD = '\\033[1m'\n",
    "    UNDERLINE = '\\033[4m'"
   ]
  },
  {
   "cell_type": "code",
   "execution_count": 10,
   "id": "a327c30a",
   "metadata": {
    "hidden": true
   },
   "outputs": [
    {
     "data": {
      "text/html": [
       "<div>\n",
       "<style scoped>\n",
       "    .dataframe tbody tr th:only-of-type {\n",
       "        vertical-align: middle;\n",
       "    }\n",
       "\n",
       "    .dataframe tbody tr th {\n",
       "        vertical-align: top;\n",
       "    }\n",
       "\n",
       "    .dataframe thead th {\n",
       "        text-align: right;\n",
       "    }\n",
       "</style>\n",
       "<table border=\"1\" class=\"dataframe\">\n",
       "  <thead>\n",
       "    <tr style=\"text-align: right;\">\n",
       "      <th></th>\n",
       "      <th>Name</th>\n",
       "      <th>Hosted Domains</th>\n",
       "      <th>Datasets</th>\n",
       "      <th>Description</th>\n",
       "      <th>Tags</th>\n",
       "      <th>Url</th>\n",
       "    </tr>\n",
       "  </thead>\n",
       "  <tbody>\n",
       "    <tr>\n",
       "      <th>0</th>\n",
       "      <td>United Nations</td>\n",
       "      <td>4</td>\n",
       "      <td>5</td>\n",
       "      <td>The UN hosts data related to the commodity and...</td>\n",
       "      <td>[Commodities, Health]</td>\n",
       "      <td>https://un.openmined.org</td>\n",
       "    </tr>\n",
       "  </tbody>\n",
       "</table>\n",
       "</div>"
      ],
      "text/plain": [
       "             Name  Hosted Domains  Datasets  \\\n",
       "0  United Nations               4         5   \n",
       "\n",
       "                                         Description                   Tags  \\\n",
       "0  The UN hosts data related to the commodity and...  [Commodities, Health]   \n",
       "\n",
       "                        Url  \n",
       "0  https://un.openmined.org  "
      ]
     },
     "execution_count": 10,
     "metadata": {},
     "output_type": "execute_result"
    }
   ],
   "source": [
    "import pandas as pd\n",
    "import syft as sy\n",
    "\n",
    "# Let's search for all the available networks\n",
    "sy.networks"
   ]
  },
  {
   "cell_type": "code",
   "execution_count": null,
   "id": "daf70579",
   "metadata": {
    "hidden": true
   },
   "outputs": [],
   "source": [
    "# Hmm.. the UN network seems interesting, let a pointer to its client.\n",
    "un = sy.networks[0]"
   ]
  },
  {
   "cell_type": "code",
   "execution_count": 141,
   "id": "fa90f473",
   "metadata": {
    "hidden": true
   },
   "outputs": [
    {
     "name": "stdout",
     "output_type": "stream",
     "text": [
      "\n",
      "\u001b[91mAuthenticationError: \u001b[0m\n",
      "\tIncorrect email or password. \n",
      "\tIf you're a new user, you need to create an account on the network using the following steps:\u001b[94m\n",
      "\t\tclient = sy.networks[0]  # select the network\n",
      "\n",
      "\t\t# Download the terms and condition of the network\n",
      "\t\tclient.tnc(path=\"/path/to/store/termsandcondition/file/\")\n",
      "\t\t# Read and sign the agreement and upload it during account creation\n",
      "\n",
      "\t\tclient.create_account(\n",
      "                    email='tonystark@marvel.com',\n",
      "                    name=\"Tony Stark\", \n",
      "                    tnc_path=\"/path/to/tnc.pdf\"\n",
      "                )\n",
      "\n"
     ]
    }
   ],
   "source": [
    "# Let's try to login into the network\n",
    "sy.login(url=un.url, email=\"sheldon@caltech.edu\", password=\"bazinga\")"
   ]
  },
  {
   "cell_type": "code",
   "execution_count": 7,
   "id": "e68e8162",
   "metadata": {
    "hidden": true
   },
   "outputs": [
    {
     "name": "stdout",
     "output_type": "stream",
     "text": [
      "United Nations Data Access Agreement: https://aws.s3.dataaccessagreement.pdf\n"
     ]
    }
   ],
   "source": [
    "# Okay, so we need an account with the network. Let's create one.\n",
    "# Firstly, let's download the data access agreement of the network.\n",
    "# Every network, hosts a data access agreement that needs to be counter signed and uploaded by the user\n",
    "# to access any dataset hosted on the network.\n",
    "\n",
    "un.data_access_agreement"
   ]
  },
  {
   "cell_type": "code",
   "execution_count": 139,
   "id": "9137ed26",
   "metadata": {
    "hidden": true
   },
   "outputs": [],
   "source": [
    "# Let's read and sign the Terms and Condition pdf."
   ]
  },
  {
   "cell_type": "code",
   "execution_count": 5,
   "id": "c029f857",
   "metadata": {
    "hidden": true
   },
   "outputs": [
    {
     "name": "stdout",
     "output_type": "stream",
     "text": [
      "United Nations Data Access Agreement: https://aws.s3.dataAccessAgreement.pdf\n",
      "Sheldon, you are required to counter sign and upload the Data Access Agreement.\n"
     ]
    },
    {
     "data": {
      "text/html": [
       "\n",
       "<!DOCTYPE html>\n",
       "<html>\n",
       "\n",
       "<head>\n",
       "  <meta charset=\"utf-8\">\n",
       "  <meta name=\"viewport\" content=\"width=device-width\">\n",
       "  <title>JS Bin</title>\n",
       "</head>\n",
       "\n",
       "<body>\n",
       "  <button style=\"color:white;border-radius:8px;background-color:#1589FF;display:inline-block;width:20%; height:110%;\" onclick=\"document.getElementById('getFile').click()\">Upload Agreement</button>\n",
       "  <input type='file' id=\"getFile\" style=\"display:none\">\n",
       "</body>\n",
       "\n",
       "</html>\n"
      ],
      "text/plain": [
       "<IPython.core.display.HTML object>"
      ]
     },
     "metadata": {},
     "output_type": "display_data"
    },
    {
     "name": "stdout",
     "output_type": "stream",
     "text": [
      "An application for account creation has been submitted to United Nations network! ❤️ 💯\n",
      "You'll get an email \u001b[1m(sheldon@caltech.edu)\u001b[0m when your application has been processed!\n"
     ]
    }
   ],
   "source": [
    "# Alright, we have read and signed the terms and condition.\n",
    "# Let's create an account on the network.\n",
    "# During account creation the user will be prompted to upload the counter signed data access agreement.\n",
    "# A link to the same will be provided in case the user needs to download the agreement again.\n",
    "# Once, the agreement is uploaded, an application for account creation will be submitted to the network and the user is informed the same.\n",
    "\n",
    "un.create_account(\n",
    "    email=\"sheldon@caltech.edu\",\n",
    "    name=\"Sheldon Cooper\",\n",
    ")"
   ]
  },
  {
   "cell_type": "code",
   "execution_count": null,
   "id": "f51c5fa4",
   "metadata": {
    "hidden": true
   },
   "outputs": [],
   "source": [
    "# Great we have successfully submit a request to created an account on the network."
   ]
  },
  {
   "cell_type": "markdown",
   "id": "5e3e6876",
   "metadata": {
    "heading_collapsed": true,
    "hidden": true
   },
   "source": [
    "##### *Meanwhile on the Network Owner side*"
   ]
  },
  {
   "cell_type": "markdown",
   "id": "4e060339",
   "metadata": {},
   "source": [
    "### User: Network Owner (Part II)\n",
    "\n",
    "#### Goal:\n",
    "- Search for pending subscription requests\n",
    "- For each request downloads the terms and conditions and signs them offline.\n",
    "- Uploads the terms and conditions and accept/decline the subscription request.\n",
    "\n",
    "#### Summary:\n",
    "1. The user list all the requests submitted for account creation.\n",
    "2. The user selects one of the requests.\n",
    "3. Downloads the terms and condition document attached to the request.\n",
    "4. Verifies and counter signs the tnc document offline.\n",
    "5. Upload the tnc document and accept/decline request for new account creation."
   ]
  },
  {
   "cell_type": "code",
   "execution_count": 230,
   "id": "30a7870a",
   "metadata": {},
   "outputs": [
    {
     "name": "stdout",
     "output_type": "stream",
     "text": [
      "Connecting to United Nations... connected!\tLogging in as \u001b[1minfo@openmined.org\u001b[0m... logged in!\n"
     ]
    }
   ],
   "source": [
    "# Note: Now the user is the network owner.\n",
    "# Let's connect to my network\n",
    "\n",
    "un_client = sy.login(\n",
    "    email=\"info@openmined.org\", password=\"changethis\", url=\"https://un.openmined.org\"\n",
    ")"
   ]
  },
  {
   "cell_type": "code",
   "execution_count": 196,
   "id": "369abb50",
   "metadata": {},
   "outputs": [
    {
     "data": {
      "text/html": [
       "<div>\n",
       "<style scoped>\n",
       "    .dataframe tbody tr th:only-of-type {\n",
       "        vertical-align: middle;\n",
       "    }\n",
       "\n",
       "    .dataframe tbody tr th {\n",
       "        vertical-align: top;\n",
       "    }\n",
       "\n",
       "    .dataframe thead th {\n",
       "        text-align: right;\n",
       "    }\n",
       "</style>\n",
       "<table border=\"1\" class=\"dataframe\">\n",
       "  <thead>\n",
       "    <tr style=\"text-align: right;\">\n",
       "      <th></th>\n",
       "      <th>Id</th>\n",
       "      <th>Name</th>\n",
       "      <th>Email</th>\n",
       "      <th>SubmittedOn</th>\n",
       "      <th>ApprovedOn</th>\n",
       "      <th>State</th>\n",
       "    </tr>\n",
       "  </thead>\n",
       "  <tbody>\n",
       "    <tr>\n",
       "      <th>0</th>\n",
       "      <td>1fea0220d6344637a48666522174ca55</td>\n",
       "      <td>Sheldon Cooper</td>\n",
       "      <td>sheldon@caltech.edu</td>\n",
       "      <td>2021-07-19</td>\n",
       "      <td>None</td>\n",
       "      <td>Pending</td>\n",
       "    </tr>\n",
       "    <tr>\n",
       "      <th>1</th>\n",
       "      <td>b47ce10f1101428a851f154acaee4cb1</td>\n",
       "      <td>Raj Koothrappali</td>\n",
       "      <td>raj@ucla.edu</td>\n",
       "      <td>2021-07-09</td>\n",
       "      <td>2021-07-11</td>\n",
       "      <td>Accepted</td>\n",
       "    </tr>\n",
       "    <tr>\n",
       "      <th>2</th>\n",
       "      <td>3b2ef59ea5be41239319a5656c7d87d7</td>\n",
       "      <td>Howard Wolowitz</td>\n",
       "      <td>howard@mit.edu</td>\n",
       "      <td>2021-07-10</td>\n",
       "      <td>2021-07-12</td>\n",
       "      <td>Declined</td>\n",
       "    </tr>\n",
       "  </tbody>\n",
       "</table>\n",
       "</div>"
      ],
      "text/plain": [
       "                                 Id              Name                Email  \\\n",
       "0  1fea0220d6344637a48666522174ca55    Sheldon Cooper  sheldon@caltech.edu   \n",
       "1  b47ce10f1101428a851f154acaee4cb1  Raj Koothrappali         raj@ucla.edu   \n",
       "2  3b2ef59ea5be41239319a5656c7d87d7   Howard Wolowitz       howard@mit.edu   \n",
       "\n",
       "  SubmittedOn  ApprovedOn     State  \n",
       "0  2021-07-19        None   Pending  \n",
       "1  2021-07-09  2021-07-11  Accepted  \n",
       "2  2021-07-10  2021-07-12  Declined  "
      ]
     },
     "execution_count": 196,
     "metadata": {},
     "output_type": "execute_result"
    }
   ],
   "source": [
    "# List all the signup requests submitted to the network\n",
    "un_client.users.signup_requests"
   ]
  },
  {
   "cell_type": "code",
   "execution_count": null,
   "id": "91d0b710",
   "metadata": {},
   "outputs": [],
   "source": [
    "# There is one pending request for account creation, let's get a pointer to the request\n",
    "pending_signup_request = unclient.users.signup_requests[0]"
   ]
  },
  {
   "cell_type": "code",
   "execution_count": 10,
   "id": "6f7878be",
   "metadata": {},
   "outputs": [
    {
     "name": "stdout",
     "output_type": "stream",
     "text": [
      "Data Access Agreement submitted by Sheldon Cooper: https://aws.s3.userSubmitteddataAccessAgreement.pdf\n"
     ]
    }
   ],
   "source": [
    "# Let's download the terms and condition document and counter sign it.\n",
    "pending_signup_request.data_access_agreement"
   ]
  },
  {
   "cell_type": "code",
   "execution_count": 12,
   "id": "ed258caa",
   "metadata": {},
   "outputs": [
    {
     "name": "stdout",
     "output_type": "stream",
     "text": [
      "Data Access Agreement submitted by Sheldon Cooper: https://aws.s3.userSubmitteddataAccessAgreement.pdf\n",
      "Upload the counter signed Data Access Agreement here.\n"
     ]
    },
    {
     "data": {
      "text/html": [
       "\n",
       "<!DOCTYPE html>\n",
       "<html>\n",
       "\n",
       "<head>\n",
       "  <meta charset=\"utf-8\">\n",
       "  <meta name=\"viewport\" content=\"width=device-width\">\n",
       "  <title>JS Bin</title>\n",
       "</head>\n",
       "\n",
       "<body>\n",
       "  <button style=\"color:white;border-radius:8px;background-color:#1589FF;display:inline-block;width:20%; height:110%;\" onclick=\"document.getElementById('getFile').click()\">Upload Agreement</button>\n",
       "  <input type='file' id=\"getFile\" style=\"display:none\">\n",
       "</body>\n",
       "\n",
       "</html>\n"
      ],
      "text/plain": [
       "<IPython.core.display.HTML object>"
      ]
     },
     "metadata": {},
     "output_type": "display_data"
    },
    {
     "name": "stdout",
     "output_type": "stream",
     "text": [
      "Yay, a new user has added to your network! ❤️\n"
     ]
    }
   ],
   "source": [
    "# Let's counter sign the document offline.\n",
    "# Now, that we have signed the Data Access Agreement let's approve the request.\n",
    "# During request approval the network owner has to upload the countersigned data access agreement.\n",
    "# Both the data access submitted by the user and one uploaded by the network owner has be to saved\n",
    "# in database, as it will come handy in case of conflicts.\n",
    "# On uploading the agreement, the request is accepted and same is informed to the user.\n",
    "\n",
    "# The request user, recieves an email with the login credentials.\n",
    "pending_signup_request.accept(\n",
    "    notify_by_email=True,\n",
    ")"
   ]
  },
  {
   "cell_type": "code",
   "execution_count": null,
   "id": "2c6acb1e",
   "metadata": {},
   "outputs": [],
   "source": [
    "# Or if we choose to decline the request\n",
    "# The request user recieves an email with the reason specified by the network owner.\n",
    "pending_signup_request.decline(\n",
    "    notify_by_email=True,\n",
    "    message=\"not all required fields are filled in the data access agreement document\",\n",
    ")"
   ]
  },
  {
   "cell_type": "code",
   "execution_count": 199,
   "id": "73269430",
   "metadata": {},
   "outputs": [],
   "source": [
    "# Great !!!, we successfully, accept a request for account creation."
   ]
  },
  {
   "cell_type": "markdown",
   "id": "b3c90998",
   "metadata": {},
   "source": [
    "##### Meanwhile at the end of the Data Scientist\n",
    "##### *1 - 2 days have passed .... The application for account creation has been approved and the Data Scientist has received the login credentials in the email.*"
   ]
  },
  {
   "cell_type": "markdown",
   "id": "7061e218",
   "metadata": {
    "heading_collapsed": true
   },
   "source": [
    "### User: Data Scientist (Part III)\n",
    "\n",
    "#### Goal:\n",
    "- Login into the network\n",
    "- Search for relavant datasets\n",
    "- Select a dataset that is relavant to the user\n",
    "\n",
    "#### Summary:\n",
    "1. The user logs into the network.\n",
    "2. The user searches the network dataset store for all the available datasets.\n",
    "3. The user selects a dataset\n",
    "4. The user get a pointer to the dataset"
   ]
  },
  {
   "cell_type": "code",
   "execution_count": 227,
   "id": "ea513490",
   "metadata": {
    "hidden": true
   },
   "outputs": [
    {
     "name": "stdout",
     "output_type": "stream",
     "text": [
      "Connecting to United Nations... connected!\tLogging in as \u001b[1msheldon@caltech.edu\u001b[0m... logged in!\n"
     ]
    }
   ],
   "source": [
    "import syft as sy\n",
    "\n",
    "# # Let us login into the network, using the credentials provided in the email (sent on application approval)\n",
    "# # Select the United Nations network\n",
    "un = sy.network[0]\n",
    "\n",
    "# Login into the network\n",
    "un_network_client = sy.login(url=un.url, email=\"sheldon@caltech.edu\", password=\"bazinga\")\n",
    "\n",
    "# Or\n",
    "un_network_client = un.login(email=\"sheldon@caltech.edu\", password=\"bazinga\")\n",
    "# un_network_client.save_logins()"
   ]
  },
  {
   "cell_type": "code",
   "execution_count": 5,
   "id": "e2b58b8d",
   "metadata": {
    "hidden": true
   },
   "outputs": [
    {
     "data": {
      "text/html": [
       "<div>\n",
       "<style scoped>\n",
       "    .dataframe tbody tr th:only-of-type {\n",
       "        vertical-align: middle;\n",
       "    }\n",
       "\n",
       "    .dataframe tbody tr th {\n",
       "        vertical-align: top;\n",
       "    }\n",
       "\n",
       "    .dataframe thead th {\n",
       "        text-align: right;\n",
       "    }\n",
       "</style>\n",
       "<table border=\"1\" class=\"dataframe\">\n",
       "  <thead>\n",
       "    <tr style=\"text-align: right;\">\n",
       "      <th></th>\n",
       "      <th>Name</th>\n",
       "      <th>Tags</th>\n",
       "      <th>Description</th>\n",
       "      <th>Dtype</th>\n",
       "      <th>Id</th>\n",
       "      <th>Domain</th>\n",
       "      <th>Shape</th>\n",
       "    </tr>\n",
       "  </thead>\n",
       "  <tbody>\n",
       "    <tr>\n",
       "      <th>0</th>\n",
       "      <td>breast_cancer</td>\n",
       "      <td>[mri, breast cancer, dicoms]</td>\n",
       "      <td>Labelled image dataset of patients suffering d...</td>\n",
       "      <td>ImageClassificationDataset</td>\n",
       "      <td>56lkw24</td>\n",
       "      <td>WHO</td>\n",
       "      <td>((25000, 300, 300), (25000))</td>\n",
       "    </tr>\n",
       "    <tr>\n",
       "      <th>1</th>\n",
       "      <td>canada_trade_data</td>\n",
       "      <td>[canada, trade, un, commodities]</td>\n",
       "      <td>This dataset represents aggregated trade stati...</td>\n",
       "      <td>DataFrame</td>\n",
       "      <td>f3s9h1m</td>\n",
       "      <td>Canada</td>\n",
       "      <td>(25000, 22)</td>\n",
       "    </tr>\n",
       "    <tr>\n",
       "      <th>2</th>\n",
       "      <td>netherlands_trade_data</td>\n",
       "      <td>[netherlands, trade, commodities, export]</td>\n",
       "      <td>This dataset represents aggregated trade stati...</td>\n",
       "      <td>DataFrame</td>\n",
       "      <td>2kf3o5d</td>\n",
       "      <td>Netherlands</td>\n",
       "      <td>(35000, 22)</td>\n",
       "    </tr>\n",
       "    <tr>\n",
       "      <th>3</th>\n",
       "      <td>italy_trade_data</td>\n",
       "      <td>[italy, trade, un, commodities, export, import]</td>\n",
       "      <td>This dataset represents aggregated trade stati...</td>\n",
       "      <td>DataFrame</td>\n",
       "      <td>42wk65l</td>\n",
       "      <td>Italy</td>\n",
       "      <td>(30000, 22)</td>\n",
       "    </tr>\n",
       "    <tr>\n",
       "      <th>4</th>\n",
       "      <td>us_trade_data</td>\n",
       "      <td>[us, trade, un, commodities]</td>\n",
       "      <td>This dataset represents aggregated trade stati...</td>\n",
       "      <td>DataFrame</td>\n",
       "      <td>86pfgh1</td>\n",
       "      <td>United States</td>\n",
       "      <td>(40000, 22)</td>\n",
       "    </tr>\n",
       "  </tbody>\n",
       "</table>\n",
       "</div>"
      ],
      "text/plain": [
       "                     Name                                             Tags  \\\n",
       "0           breast_cancer                     [mri, breast cancer, dicoms]   \n",
       "1       canada_trade_data                 [canada, trade, un, commodities]   \n",
       "2  netherlands_trade_data        [netherlands, trade, commodities, export]   \n",
       "3        italy_trade_data  [italy, trade, un, commodities, export, import]   \n",
       "4           us_trade_data                     [us, trade, un, commodities]   \n",
       "\n",
       "                                         Description  \\\n",
       "0  Labelled image dataset of patients suffering d...   \n",
       "1  This dataset represents aggregated trade stati...   \n",
       "2  This dataset represents aggregated trade stati...   \n",
       "3  This dataset represents aggregated trade stati...   \n",
       "4  This dataset represents aggregated trade stati...   \n",
       "\n",
       "                        Dtype       Id         Domain  \\\n",
       "0  ImageClassificationDataset  56lkw24            WHO   \n",
       "1                   DataFrame  f3s9h1m         Canada   \n",
       "2                   DataFrame  2kf3o5d    Netherlands   \n",
       "3                   DataFrame  42wk65l          Italy   \n",
       "4                   DataFrame  86pfgh1  United States   \n",
       "\n",
       "                          Shape  \n",
       "0  ((25000, 300, 300), (25000))  \n",
       "1                   (25000, 22)  \n",
       "2                   (35000, 22)  \n",
       "3                   (30000, 22)  \n",
       "4                   (40000, 22)  "
      ]
     },
     "execution_count": 5,
     "metadata": {},
     "output_type": "execute_result"
    }
   ],
   "source": [
    "# Great !! Now we have a pointer to the network.\n",
    "# Let's search through the network dataset store for datasets\n",
    "un_network_client.datasets"
   ]
  },
  {
   "cell_type": "code",
   "execution_count": 7,
   "id": "2f2dd600",
   "metadata": {
    "hidden": true
   },
   "outputs": [
    {
     "data": {
      "text/html": [
       "<div>\n",
       "<style scoped>\n",
       "    .dataframe tbody tr th:only-of-type {\n",
       "        vertical-align: middle;\n",
       "    }\n",
       "\n",
       "    .dataframe tbody tr th {\n",
       "        vertical-align: top;\n",
       "    }\n",
       "\n",
       "    .dataframe thead th {\n",
       "        text-align: right;\n",
       "    }\n",
       "</style>\n",
       "<table border=\"1\" class=\"dataframe\">\n",
       "  <thead>\n",
       "    <tr style=\"text-align: right;\">\n",
       "      <th></th>\n",
       "      <th>Name</th>\n",
       "      <th>Tags</th>\n",
       "      <th>Description</th>\n",
       "      <th>Dtype</th>\n",
       "      <th>Id</th>\n",
       "      <th>Domain</th>\n",
       "      <th>Shape</th>\n",
       "    </tr>\n",
       "  </thead>\n",
       "  <tbody>\n",
       "    <tr>\n",
       "      <th>1</th>\n",
       "      <td>canada_trade_data</td>\n",
       "      <td>[canada, trade, un, commodities]</td>\n",
       "      <td>This dataset represents aggregated trade stati...</td>\n",
       "      <td>DataFrame</td>\n",
       "      <td>f3s9h1m</td>\n",
       "      <td>Canada</td>\n",
       "      <td>(25000, 22)</td>\n",
       "    </tr>\n",
       "    <tr>\n",
       "      <th>2</th>\n",
       "      <td>netherlands_trade_data</td>\n",
       "      <td>[netherlands, trade, commodities, export]</td>\n",
       "      <td>This dataset represents aggregated trade stati...</td>\n",
       "      <td>DataFrame</td>\n",
       "      <td>2kf3o5d</td>\n",
       "      <td>Netherlands</td>\n",
       "      <td>(35000, 22)</td>\n",
       "    </tr>\n",
       "    <tr>\n",
       "      <th>3</th>\n",
       "      <td>italy_trade_data</td>\n",
       "      <td>[italy, trade, un, commodities, export, import]</td>\n",
       "      <td>This dataset represents aggregated trade stati...</td>\n",
       "      <td>DataFrame</td>\n",
       "      <td>42wk65l</td>\n",
       "      <td>Italy</td>\n",
       "      <td>(30000, 22)</td>\n",
       "    </tr>\n",
       "    <tr>\n",
       "      <th>4</th>\n",
       "      <td>us_trade_data</td>\n",
       "      <td>[us, trade, un, commodities]</td>\n",
       "      <td>This dataset represents aggregated trade stati...</td>\n",
       "      <td>DataFrame</td>\n",
       "      <td>86pfgh1</td>\n",
       "      <td>United States</td>\n",
       "      <td>(40000, 22)</td>\n",
       "    </tr>\n",
       "  </tbody>\n",
       "</table>\n",
       "</div>"
      ],
      "text/plain": [
       "                     Name                                             Tags  \\\n",
       "1       canada_trade_data                 [canada, trade, un, commodities]   \n",
       "2  netherlands_trade_data        [netherlands, trade, commodities, export]   \n",
       "3        italy_trade_data  [italy, trade, un, commodities, export, import]   \n",
       "4           us_trade_data                     [us, trade, un, commodities]   \n",
       "\n",
       "                                         Description      Dtype       Id  \\\n",
       "1  This dataset represents aggregated trade stati...  DataFrame  f3s9h1m   \n",
       "2  This dataset represents aggregated trade stati...  DataFrame  2kf3o5d   \n",
       "3  This dataset represents aggregated trade stati...  DataFrame  42wk65l   \n",
       "4  This dataset represents aggregated trade stati...  DataFrame  86pfgh1   \n",
       "\n",
       "          Domain        Shape  \n",
       "1         Canada  (25000, 22)  \n",
       "2    Netherlands  (35000, 22)  \n",
       "3          Italy  (30000, 22)  \n",
       "4  United States  (40000, 22)  "
      ]
     },
     "execution_count": 7,
     "metadata": {},
     "output_type": "execute_result"
    }
   ],
   "source": [
    "# Currently, I'm interested in datasets containing information related to commodities trade between countries\n",
    "\n",
    "# Let's filter out the results accordingly using tags\n",
    "un_network_client[[\"trade\" in tags for tags in un_client[\"tags\"]]]\n",
    "\n",
    "# Refer to Django rest framework\n",
    "un_network_client.datasets.filter(name__icontains=\"trade_data\")"
   ]
  },
  {
   "cell_type": "code",
   "execution_count": 8,
   "id": "c903dbc7",
   "metadata": {
    "hidden": true
   },
   "outputs": [
    {
     "data": {
      "text/plain": [
       "Name                                           canada_trade_data\n",
       "Tags                            [canada, trade, un, commodities]\n",
       "Description    This dataset represents aggregated trade stati...\n",
       "Dtype                                                  DataFrame\n",
       "Id                                                       f3s9h1m\n",
       "Domain                                                    Canada\n",
       "Shape                                                (25000, 22)\n",
       "Name: 1, dtype: object"
      ]
     },
     "execution_count": 8,
     "metadata": {},
     "output_type": "execute_result"
    }
   ],
   "source": [
    "# Let's check out one of the datasets\n",
    "un_network_client.datasets.loc[1]"
   ]
  },
  {
   "cell_type": "code",
   "execution_count": null,
   "id": "7e2584b6",
   "metadata": {
    "hidden": true
   },
   "outputs": [],
   "source": [
    "# Let's get a pointer to the one of the datasets. Let's get pointer to the canada trade data.\n",
    "# We can do so by either passing the var_name or Id to the network client.\n",
    "\n",
    "# Using index\n",
    "canada_dataset_ptr = un_network_client.datasets[1]\n",
    "\n",
    "# Using the Id\n",
    "canada_dataset_ptr = un_client.datasets[\"f3s9h1m\"] \n",
    "\n",
    "# Using var_name\n",
    "canada_dataset_ptr = un_client.datasets[\"canada_trade_data\"]"
   ]
  },
  {
   "cell_type": "code",
   "execution_count": 49,
   "id": "88e50814",
   "metadata": {
    "hidden": true
   },
   "outputs": [
    {
     "name": "stdout",
     "output_type": "stream",
     "text": [
      "This dataset represents aggregated trade statistics as reported by Canada about what it believes was imported/exported to/from its country in Feb 2021.\n"
     ]
    }
   ],
   "source": [
    "# Let's explore the dataset.\n",
    "\n",
    "# Let's read the description associated with the dataset\n",
    "print(canada_dataset_ptr.description)"
   ]
  },
  {
   "cell_type": "code",
   "execution_count": 7,
   "id": "97763126",
   "metadata": {
    "hidden": true
   },
   "outputs": [
    {
     "data": {
      "text/html": [
       "<div>\n",
       "<style scoped>\n",
       "    .dataframe tbody tr th:only-of-type {\n",
       "        vertical-align: middle;\n",
       "    }\n",
       "\n",
       "    .dataframe tbody tr th {\n",
       "        vertical-align: top;\n",
       "    }\n",
       "\n",
       "    .dataframe thead th {\n",
       "        text-align: right;\n",
       "    }\n",
       "</style>\n",
       "<table border=\"1\" class=\"dataframe\">\n",
       "  <thead>\n",
       "    <tr style=\"text-align: right;\">\n",
       "      <th></th>\n",
       "      <th>Id</th>\n",
       "      <th>Name</th>\n",
       "      <th>Description</th>\n",
       "      <th>Tags</th>\n",
       "    </tr>\n",
       "  </thead>\n",
       "  <tbody>\n",
       "    <tr>\n",
       "      <th>0</th>\n",
       "      <td>bc4e2ff0bc9e43818deb6cba5a3fac75</td>\n",
       "      <td>Canada</td>\n",
       "      <td>This domain hosts datasets provided by the gov...</td>\n",
       "      <td>[trade data, healthcare, commodities]</td>\n",
       "    </tr>\n",
       "    <tr>\n",
       "      <th>1</th>\n",
       "      <td>387eedbbbe4c40cd812aaf9b84154d29</td>\n",
       "      <td>United States</td>\n",
       "      <td>This domain hosts datasets provided by the gov...</td>\n",
       "      <td>[trade data, commodities]</td>\n",
       "    </tr>\n",
       "    <tr>\n",
       "      <th>2</th>\n",
       "      <td>9a59cbcae92242638b375967bfe8a9ba</td>\n",
       "      <td>Italy</td>\n",
       "      <td>This domain hosts datasets provided by the gov...</td>\n",
       "      <td>[trade data, commodities]</td>\n",
       "    </tr>\n",
       "    <tr>\n",
       "      <th>3</th>\n",
       "      <td>aaf48ca2378e480ea771d1a89d216291</td>\n",
       "      <td>Netherlands</td>\n",
       "      <td>This domain hosts datasets provided by the gov...</td>\n",
       "      <td>[trade data]</td>\n",
       "    </tr>\n",
       "    <tr>\n",
       "      <th>4</th>\n",
       "      <td>2206860d0fee43519c381eacb70a4668</td>\n",
       "      <td>WHO</td>\n",
       "      <td>This domain hosts datasets provided by hospita...</td>\n",
       "      <td>[healthcare]</td>\n",
       "    </tr>\n",
       "  </tbody>\n",
       "</table>\n",
       "</div>"
      ],
      "text/plain": [
       "                                 Id           Name  \\\n",
       "0  bc4e2ff0bc9e43818deb6cba5a3fac75         Canada   \n",
       "1  387eedbbbe4c40cd812aaf9b84154d29  United States   \n",
       "2  9a59cbcae92242638b375967bfe8a9ba          Italy   \n",
       "3  aaf48ca2378e480ea771d1a89d216291    Netherlands   \n",
       "4  2206860d0fee43519c381eacb70a4668            WHO   \n",
       "\n",
       "                                         Description  \\\n",
       "0  This domain hosts datasets provided by the gov...   \n",
       "1  This domain hosts datasets provided by the gov...   \n",
       "2  This domain hosts datasets provided by the gov...   \n",
       "3  This domain hosts datasets provided by the gov...   \n",
       "4  This domain hosts datasets provided by hospita...   \n",
       "\n",
       "                                    Tags  \n",
       "0  [trade data, healthcare, commodities]  \n",
       "1              [trade data, commodities]  \n",
       "2              [trade data, commodities]  \n",
       "3                           [trade data]  \n",
       "4                           [healthcare]  "
      ]
     },
     "execution_count": 7,
     "metadata": {},
     "output_type": "execute_result"
    }
   ],
   "source": [
    "# Alteratively, we can get a pointer to one particular domain and list the datasets hosted by that domain.\n",
    "# Let's demonstrate this, by first listing all the domains attached to the network\n",
    "\n",
    "un_network_client.domains"
   ]
  },
  {
   "cell_type": "code",
   "execution_count": 10,
   "id": "fc618d46",
   "metadata": {
    "hidden": true
   },
   "outputs": [
    {
     "data": {
      "text/html": [
       "<div>\n",
       "<style scoped>\n",
       "    .dataframe tbody tr th:only-of-type {\n",
       "        vertical-align: middle;\n",
       "    }\n",
       "\n",
       "    .dataframe tbody tr th {\n",
       "        vertical-align: top;\n",
       "    }\n",
       "\n",
       "    .dataframe thead th {\n",
       "        text-align: right;\n",
       "    }\n",
       "</style>\n",
       "<table border=\"1\" class=\"dataframe\">\n",
       "  <thead>\n",
       "    <tr style=\"text-align: right;\">\n",
       "      <th></th>\n",
       "      <th>Name</th>\n",
       "      <th>Tags</th>\n",
       "      <th>Description</th>\n",
       "      <th>Dtype</th>\n",
       "      <th>Id</th>\n",
       "      <th>Domain</th>\n",
       "      <th>Shape</th>\n",
       "    </tr>\n",
       "  </thead>\n",
       "  <tbody>\n",
       "    <tr>\n",
       "      <th>1</th>\n",
       "      <td>canada_trade_data</td>\n",
       "      <td>[canada, trade, un, commodities]</td>\n",
       "      <td>This dataset represents aggregated trade stati...</td>\n",
       "      <td>DataFrame</td>\n",
       "      <td>f3s9h1m</td>\n",
       "      <td>Canada</td>\n",
       "      <td>(25000, 22)</td>\n",
       "    </tr>\n",
       "  </tbody>\n",
       "</table>\n",
       "</div>"
      ],
      "text/plain": [
       "                Name                              Tags  \\\n",
       "1  canada_trade_data  [canada, trade, un, commodities]   \n",
       "\n",
       "                                         Description      Dtype       Id  \\\n",
       "1  This dataset represents aggregated trade stati...  DataFrame  f3s9h1m   \n",
       "\n",
       "   Domain        Shape  \n",
       "1  Canada  (25000, 22)  "
      ]
     },
     "execution_count": 10,
     "metadata": {},
     "output_type": "execute_result"
    }
   ],
   "source": [
    "# Now, we can get a pointer to one of the domains and list the datasets hosted by that domain.\n",
    "# Let's get a pointer to the Canada domain.\n",
    "\n",
    "canada_domain = un_network_client.domains[0]  # Or un_network_client[\"bc4e2ff0\"]\n",
    "\n",
    "# Now, we can simply list all the datasets hosted by this domain, using the `.datasets` method.\n",
    "canada_domain.datasets"
   ]
  },
  {
   "cell_type": "code",
   "execution_count": null,
   "id": "51662b60",
   "metadata": {
    "hidden": true
   },
   "outputs": [],
   "source": [
    "# Great, we can see there is one dataset currently hosted by the domain `Canada`.\n",
    "# We can get the pointer to the dataset, similar to the way we were doing in case of a network client.\n",
    "\n",
    "# Using the Id\n",
    "canada_dataset_ptr = canada_domain.datasets[\"f3s9h1m\"] \n",
    "\n",
    "# Using Name\n",
    "canada_dataset_ptr = canada_domain.datasets[\"canada_trade_data\"]"
   ]
  },
  {
   "cell_type": "markdown",
   "id": "2b6c0598",
   "metadata": {
    "hidden": true
   },
   "source": [
    "##### Awesome, we were successfully able to search across different datasets in the network and select one that is relevant to us. In the next notebook, we will learn how to ETL the selected dataset."
   ]
  },
  {
   "cell_type": "code",
   "execution_count": null,
   "id": "b51ac3c0",
   "metadata": {
    "hidden": true
   },
   "outputs": [],
   "source": []
  },
  {
   "cell_type": "code",
   "execution_count": null,
   "id": "23a7732e",
   "metadata": {
    "hidden": true
   },
   "outputs": [],
   "source": []
  },
  {
   "cell_type": "code",
   "execution_count": null,
   "id": "3d2b4613",
   "metadata": {
    "hidden": true
   },
   "outputs": [],
   "source": []
  },
  {
   "cell_type": "markdown",
   "id": "3f6b15a3",
   "metadata": {},
   "source": [
    "### Dummy Data Creation"
   ]
  },
  {
   "cell_type": "markdown",
   "id": "0df203b0",
   "metadata": {
    "heading_collapsed": true
   },
   "source": [
    "#### Part I:"
   ]
  },
  {
   "cell_type": "code",
   "execution_count": 1,
   "id": "14567450",
   "metadata": {
    "hidden": true
   },
   "outputs": [],
   "source": [
    "import pandas as pd\n",
    "from enum import Enum\n",
    "\n",
    "class bcolors(Enum):\n",
    "    HEADER = '\\033[95m'\n",
    "    OKBLUE = '\\033[94m'\n",
    "    OKCYAN = '\\033[96m'\n",
    "    OKGREEN = '\\033[92m'\n",
    "    WARNING = '\\033[93m'\n",
    "    FAIL = '\\033[91m'\n",
    "    ENDC = '\\033[0m'\n",
    "    BOLD = '\\033[1m'\n",
    "    UNDERLINE = '\\033[4m'\n",
    "    \n",
    "    \n",
    "# print(\"An application for account creation has been submitted to United Nations network! ❤️ 💯\")\n",
    "# print(f\"You'll get an email {bcolors.BOLD.value}(sheldon@caltech.edu){bcolors.ENDC.value} when your application has been processed!\")\n",
    "\n",
    "\n",
    "# Print available networks\n",
    "available_networks = [\n",
    "    {\n",
    "        \"Name\": \"United Nations\",\n",
    "        \"Hosted Domains\": 4,\n",
    "        \"Datasets\": 5,\n",
    "        \"Description\": \"The UN hosts data related to the commodity and health sector.\",\n",
    "        \"Tags\": [\"Commodities\", \"Health\"],\n",
    "        \"Url\": \"https://un.openmined.org\",\n",
    "    }\n",
    "]\n",
    "# pd.DataFrame(available_networks)\n",
    "\n",
    "# Authetication Error\n",
    "login_error = f\"\"\"\n",
    "{bcolors.FAIL.value}AuthenticationError: {bcolors.ENDC.value}\n",
    "\\tIncorrect email or password. \n",
    "\\tIf you're a new user, you need to create an account on the network using the following steps:{bcolors.OKBLUE.value}\n",
    "\\t\\tclient = sy.networks[0]  # select the network\n",
    "\n",
    "\\t\\t# Download the terms and condition of the network\n",
    "\\t\\tclient.tnc(path=\"/path/to/store/termsandcondition/file/\")\n",
    "\\t\\t# Read and sign the agreement and upload it during account creation\n",
    "\n",
    "\\t\\tclient.create_account(\n",
    "                    email='tonystark@marvel.com',\n",
    "                    name=\"Tony Stark\", \n",
    "                    tnc_path=\"/path/to/tnc.pdf\"\n",
    "                )\n",
    "\"\"\"\n",
    "# print(login_error)\n",
    "\n",
    "# Message on downloading T&C\n",
    "tnc_message = f\"Downloading Terms and Condition to path:`/home/ubuntu/Desktop/` \\n{bcolors.OKGREEN.value}Download Completed\"\n",
    "# print(tnc_message)\n",
    "\n",
    "# Submit request for new account creation\n",
    "# We can use the emoji pypi package to render emojis.\n",
    "new_account_request = f\"\"\"\n",
    "An application for account creation has been submitted to United Nations network! ❤️ 💯\n",
    "You'll get an email {bcolors.BOLD.value}(sheldon@redcross.com){bcolors.ENDC.value} when your application has been processed!\n",
    "\"\"\"\n",
    "# print(new_account_request)"
   ]
  },
  {
   "cell_type": "code",
   "execution_count": 2,
   "id": "3167d384",
   "metadata": {
    "hidden": true
   },
   "outputs": [],
   "source": [
    "# https://github.com/peteut/ipython-file-upload\n",
    "# For reference: https://ipywidgets.readthedocs.io/en/latest/examples/Widget%20Events.html\n",
    "\n",
    "import io\n",
    "from IPython.display import display, HTML\n",
    "import fileupload\n",
    "\n",
    "\n",
    "def _upload(label=\"Browse\"):\n",
    "\n",
    "    _upload_widget = fileupload.FileUploadWidget(label=label)\n",
    "\n",
    "    def _cb(change):\n",
    "        # TODO: Write code to upload the document to s3 or store in syft server\n",
    "        decoded = io.StringIO(change[\"owner\"].data.decode(\"utf-8\"))\n",
    "        filename = change[\"owner\"].filename\n",
    "        print(\n",
    "            \"Uploaded `{}` ({:.2f} kB)\".format(filename, len(decoded.read()) / 2 ** 10)\n",
    "        )\n",
    "\n",
    "    _upload_widget.observe(_cb, names=\"data\")\n",
    "    display(_upload_widget)\n",
    "\n",
    "\n",
    "upload_button = HTML(\n",
    "    \"\"\"\n",
    "<!DOCTYPE html>\n",
    "<html>\n",
    "\n",
    "<head>\n",
    "  <meta charset=\"utf-8\">\n",
    "  <meta name=\"viewport\" content=\"width=device-width\">\n",
    "  <title>JS Bin</title>\n",
    "</head>\n",
    "\n",
    "<body>\n",
    "  <button style=\"color:white;border-radius:8px;background-color:#1589FF;display:inline-block;width:20%; height:110%;\" onclick=\"document.getElementById('getFile').click()\">Upload Agreement</button>\n",
    "  <input type='file' id=\"getFile\" style=\"display:none\">\n",
    "</body>\n",
    "\n",
    "</html>\n",
    "\"\"\"\n",
    ")\n",
    "# print(\"United Nations Network Agreement: https://aws.s3.networkagreement.pdf\")\n",
    "# print(\"Upload your Agreement here:\")\n",
    "# upload_button\n",
    "# print(\"United Nations Network Agreement: https://aws.s3.networkagreement.pdf\")\n",
    "# _upload(\"Upload Data Deposit Agreement\")\n",
    "# _upload(\"Upload Network Agreement\")\n",
    "\n",
    "\n",
    "## Upload network agreement\n",
    "\n",
    "# print(\"United Nations Data Access Agreement: https://aws.s3.dataAccessAgreement.pdf\")\n",
    "# print(\"Sheldon, you are required to counter sign and upload the Data Access Agreement.\")\n",
    "# display(upload_button)\n",
    "# print(\"An application for account creation has been submitted to United Nations network! ❤️ 💯\")\n",
    "# print(f\"You'll get an email {bcolors.BOLD.value}(sheldon@caltech.edu){bcolors.ENDC.value} when your application has been processed!\")"
   ]
  },
  {
   "cell_type": "markdown",
   "id": "94cccfe4",
   "metadata": {},
   "source": [
    "#### Part II:"
   ]
  },
  {
   "cell_type": "code",
   "execution_count": 3,
   "id": "0f7996f2",
   "metadata": {},
   "outputs": [],
   "source": [
    "# Client connection\n",
    "do_client_connection = f\"Connecting to United Nations... connected!\\tLogging in as {bcolors.BOLD.value}info@openmined.org{bcolors.ENDC.value}... logged in!\"\n",
    "#print(do_client_connection)\n",
    "\n",
    "import uuid\n",
    "\n",
    "# Dummy signup requests\n",
    "signup_requests = [\n",
    "    {\n",
    "        \"Id\": uuid.uuid4().hex,\n",
    "        \"Name\": \"Sheldon Cooper\",\n",
    "        \"Email\": \"sheldon@caltech.edu\",\n",
    "        \"SubmittedOn\": \"2021-07-19\",\n",
    "        \"ApprovedOn\": None,\n",
    "        \"State\": \"Pending\",\n",
    "    },\n",
    "    {\n",
    "        \"Id\": uuid.uuid4().hex,\n",
    "        \"Name\": \"Raj Koothrappali\",\n",
    "        \"Email\": \"raj@ucla.edu\",\n",
    "        \"SubmittedOn\": \"2021-07-09\",\n",
    "        \"ApprovedOn\": \"2021-07-11\",\n",
    "        \"State\": \"Accepted\",\n",
    "    },\n",
    "    {\n",
    "        \"Id\": uuid.uuid4().hex,\n",
    "        \"Name\": \"Howard Wolowitz\",\n",
    "        \"Email\": \"howard@mit.edu\",\n",
    "        \"SubmittedOn\": \"2021-07-10\",\n",
    "        \"ApprovedOn\": \"2021-07-12\",\n",
    "        \"State\": \"Declined\",\n",
    "    },\n",
    "]\n",
    "# pd.DataFrame(signup_requests)\n",
    "\n",
    "# print(\"Data Access Agreement submitted by Sheldon Cooper: https://aws.s3.dataAccessAgreement.pdf\")\n",
    "\n",
    "\n",
    "# print(\"Data Access Agreement submitted by Sheldon Cooper: https://aws.s3.userSubmitteddataAccessAgreement.pdf\")\n",
    "# print(\"Upload the counter signed Data Access Agreement here.\")\n",
    "# display(upload_button)\n",
    "# print(\"Yay, a new user has added to your network! ❤️\")\n"
   ]
  },
  {
   "cell_type": "markdown",
   "id": "ffee5978",
   "metadata": {
    "heading_collapsed": true
   },
   "source": [
    "#### Part III:"
   ]
  },
  {
   "cell_type": "code",
   "execution_count": 4,
   "id": "e6b30724",
   "metadata": {
    "hidden": true
   },
   "outputs": [],
   "source": [
    "# Connection to network\n",
    "ds_client_connection = f\"Connecting to United Nations... connected!\\tLogging in as {bcolors.BOLD.value}sheldon@caltech.edu{bcolors.ENDC.value}... logged in!\"\n",
    "# print(ds_client_connection)\n",
    "\n",
    "\n",
    "import pandas as pd\n",
    "\n",
    "dataset_store = [\n",
    "    {\n",
    "        \"Name\": \"breast_cancer\",\n",
    "        \"Tags\": [\"mri\", \"breast cancer\", \"dicoms\"],\n",
    "        \"Description\": \"Labelled image dataset of patients suffering different types of breast cancer\",\n",
    "        \"Dtype\": \"ImageClassificationDataset\",\n",
    "        \"Id\": \"56lkw24\",\n",
    "        \"Domain\": \"WHO\",\n",
    "        \"Shape\": \"((25000, 300, 300), (25000))\",\n",
    "    },\n",
    "    {\n",
    "        \"Name\": \"canada_trade_data\",\n",
    "        \"Tags\": [\"canada\", \"trade\", \"un\", \"commodities\"],\n",
    "        \"Description\": \"This dataset represents aggregated trade statistics as reported by Canada about what it believes was imported/exported to/from its country in Feb 2021.\",\n",
    "        \"Dtype\": \"DataFrame\",\n",
    "        \"Id\": \"f3s9h1m\",\n",
    "        \"Domain\": \"Canada\",\n",
    "        \"Shape\": \"(25000, 22)\",\n",
    "    },\n",
    "    {\n",
    "        \"Name\": \"netherlands_trade_data\",\n",
    "        \"Tags\": [\"netherlands\", \"trade\", \"commodities\", \"export\"],\n",
    "        \"Description\": \"This dataset represents aggregated trade statistics as reported by Netherlands about what it believes was imported/exported to/from its country in Feb 2021.\",\n",
    "        \"Dtype\": \"DataFrame\",\n",
    "        \"Id\": \"2kf3o5d\",\n",
    "        \"Domain\": \"Netherlands\",\n",
    "        \"Shape\": \"(35000, 22)\",\n",
    "    },\n",
    "    {\n",
    "        \"Name\": \"italy_trade_data\",\n",
    "        \"Tags\": [\"italy\", \"trade\", \"un\", \"commodities\", \"export\", \"import\"],\n",
    "        \"Description\": \"This dataset represents aggregated trade statistics as reported by Italy about what it believes was imported/exported to/from its country in Feb 2021.\",\n",
    "        \"Dtype\": \"DataFrame\",\n",
    "        \"Id\": \"42wk65l\",\n",
    "        \"Domain\": \"Italy\",\n",
    "        \"Shape\": \"(30000, 22)\",\n",
    "    },\n",
    "    {\n",
    "        \"Name\": \"us_trade_data\",\n",
    "        \"Tags\": [\"us\", \"trade\", \"un\", \"commodities\"],\n",
    "        \"Description\": \"This dataset represents aggregated trade statistics as reported by United States about what it believes was imported/exported to/from its country in Feb 2021.\",\n",
    "        \"Dtype\": \"DataFrame\",\n",
    "        \"Id\": \"86pfgh1\",\n",
    "        \"Domain\": \"United States\",\n",
    "        \"Shape\": \"(40000, 22)\",\n",
    "    },\n",
    "]\n",
    "\n",
    "dataset_store = pd.DataFrame(dataset_store)\n",
    "filtered_dataset = dataset_store[[\"trade\" in tags for tags in dataset_store[\"Tags\"]]]\n",
    "\n",
    "domain_list = [\n",
    "    {\n",
    "        \"Id\": uuid.uuid4().hex,\n",
    "        \"Name\": \"Canada\",\n",
    "        \"Description\": \"This domain hosts datasets provided by the government of Canada.\",\n",
    "        \"Tags\": [\"trade data\", \"healthcare\", \"commodities\"],\n",
    "    },\n",
    "    {\n",
    "        \"Id\": uuid.uuid4().hex,\n",
    "        \"Name\": \"United States\",\n",
    "        \"Description\": \"This domain hosts datasets provided by the government of United States.\",\n",
    "        \"Tags\": [\"trade data\", \"commodities\"],\n",
    "    },\n",
    "    {\n",
    "        \"Id\": uuid.uuid4().hex,\n",
    "        \"Name\": \"Italy\",\n",
    "        \"Description\": \"This domain hosts datasets provided by the government of Italy.\",\n",
    "        \"Tags\": [\"trade data\", \"commodities\"],\n",
    "    },\n",
    "    {\n",
    "        \"Id\": uuid.uuid4().hex,\n",
    "        \"Name\": \"Netherlands\",\n",
    "        \"Description\": \"This domain hosts datasets provided by the government of Netherlands.\",\n",
    "        \"Tags\": [\n",
    "            \"trade data\",\n",
    "        ],\n",
    "    },\n",
    "    {\n",
    "        \"Id\": uuid.uuid4().hex,\n",
    "        \"Name\": \"WHO\",\n",
    "        \"Description\": \"This domain hosts datasets provided by hospitals affliated with WHO.\",\n",
    "        \"Tags\": [\n",
    "            \"healthcare\",\n",
    "        ],\n",
    "    },\n",
    "]\n",
    "\n",
    "domain_list = pd.DataFrame(domain_list)\n",
    "\n",
    "canada_domain_datasets = [\n",
    "    {\n",
    "        \"Name\": \"canada_trade_data\",\n",
    "        \"Tags\": [\"canada\", \"trade\", \"un\", \"commodities\"],\n",
    "        \"Description\": \"This dataset represents aggregated trade statistics as reported by Canada about what it believes was imported/exported to/from its country in Feb 2021.\",\n",
    "        \"Type\": \"TabularDataset\",\n",
    "        \"Id\": \"f3s9h1m\",\n",
    "        \"Domain\": \"Canada\",\n",
    "    },\n",
    "]\n",
    "\n",
    "canada_domain_datasets = pd.DataFrame(canada_domain_datasets)"
   ]
  },
  {
   "cell_type": "markdown",
   "id": "fa7e833b",
   "metadata": {
    "heading_collapsed": true
   },
   "source": [
    "#### Exploring the Concept of Distributed Dataset"
   ]
  },
  {
   "cell_type": "code",
   "execution_count": null,
   "id": "ee9c9847",
   "metadata": {
    "hidden": true
   },
   "outputs": [],
   "source": [
    "## How to create Distributed Dataset\n",
    "# Distrbuted Dataset: There are collection of datasets which are group together and hosted by the DS.\n",
    "# The datasets in the collection might follow a different set of schema than the original dataset.\n",
    "# These dataset in these collection are just contain pointer to the original dataset which each dataset\n",
    "# containing schema along with the information to convert the original data into the dataset specified by the schema.\n",
    "\n",
    "ddataset_ptr = DistrbutedDataset(\n",
    "    [canada_dataset_ptr, us_dataset_ptr, italy_dataset_ptr],\n",
    "    email=\"sheldon@caltech.edu\",\n",
    "    **kwargs,\n",
    ")\n",
    "\n",
    "ddataset_ptr2 = DistrbutedDataset(\n",
    "    [canada_dataset_ptr, us_dataset_ptr],\n",
    "    email=\"howard@mit.edu\",\n",
    "    **kwargs,\n",
    ")\n",
    "\n",
    "\n",
    "ddataset = un_network_client.dist_datasets.filter(name__icontains=\"trade_data\", dtype=\"DataFrame\")"
   ]
  }
 ],
 "metadata": {
  "kernelspec": {
   "display_name": "Python 3",
   "language": "python",
   "name": "python3"
  },
  "language_info": {
   "codemirror_mode": {
    "name": "ipython",
    "version": 3
   },
   "file_extension": ".py",
   "mimetype": "text/x-python",
   "name": "python",
   "nbconvert_exporter": "python",
   "pygments_lexer": "ipython3",
   "version": "3.8.1"
  }
 },
 "nbformat": 4,
 "nbformat_minor": 5
}

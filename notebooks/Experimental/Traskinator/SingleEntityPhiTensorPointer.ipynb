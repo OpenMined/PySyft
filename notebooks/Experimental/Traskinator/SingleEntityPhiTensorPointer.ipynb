{
 "cells": [
  {
   "cell_type": "code",
   "execution_count": 1,
   "id": "992ff431-39b9-4c72-b1c5-d6f16ba39ade",
   "metadata": {},
   "outputs": [
    {
     "name": "stdout",
     "output_type": "stream",
     "text": [
      "Seeding DB with roles!\n"
     ]
    }
   ],
   "source": [
    "import syft as sy\n",
    "import pandas as pd\n",
    "import numpy as np\n",
    "from nacl.encoding import HexEncoder\n",
    "from nacl.signing import SigningKey\n",
    "from syft.core.adp.entity import Entity"
   ]
  },
  {
   "cell_type": "code",
   "execution_count": 2,
   "id": "5e2e2e22-c295-4f4c-93d8-4c61cb1c58ea",
   "metadata": {},
   "outputs": [
    {
     "name": "stderr",
     "output_type": "stream",
     "text": [
      "/Users/andrewliamtrask/opt/anaconda3/envs/syft/lib/python3.8/site-packages/IPython/core/interactiveshell.py:3169: DtypeWarning: Columns (14) have mixed types.Specify dtype option on import or set low_memory=False.\n",
      "  has_raised = await self.run_ast_nodes(code_ast.body, cell_name,\n"
     ]
    }
   ],
   "source": [
    "data = pd.read_csv(\"../../trade_demo/datasets/ca - feb 2021.csv\")\n",
    "\n",
    "# Get canada trade data and convert into unit millions\n",
    "canada_trade = (np.array(list(data['Trade Value (US$)'])) / 1000000)[0:10]\n",
    "trade_partners = ((list(data['Partner'])))[0:10]\n",
    "\n",
    "data_batch = canada_trade\n",
    "data_batch = (data_batch * 10).astype('int32')\n",
    "\n",
    "entities = list()\n",
    "for i in range(len(data_batch)):\n",
    "    entities.append(Entity(name=trade_partners[i]))\n",
    "\n",
    "# Upload a private dataset to the Domain object, as the root owner\n",
    "x = sy.Tensor(data_batch)#.private(0, 2, entity=entities[0]).tag(\"trade_flow\")\n",
    "x.public_shape = x.shape\n",
    "\n",
    "y = sy.Tensor(data_batch)#.private(0, 2, entity=entities[0]).tag(\"trade_flow\")\n",
    "y.public_shape = y.shape"
   ]
  },
  {
   "cell_type": "code",
   "execution_count": 3,
   "id": "02ab05e1-569a-4997-bd29-6eee3b21610e",
   "metadata": {},
   "outputs": [
    {
     "name": "stdout",
     "output_type": "stream",
     "text": [
      "Seeding DB with roles!\n",
      "Setup hasnt run yet so ignoring set_node_uid\n",
      "Seeding DB with roles!\n",
      "Setup hasnt run yet so ignoring set_node_uid\n"
     ]
    }
   ],
   "source": [
    "def encode_key(key: SigningKey) -> str:\n",
    "    return key.encode(encoder=HexEncoder).decode(\"utf-8\")\n",
    "\n",
    "_alice = sy.Domain(\"alice\")\n",
    "alice = _alice.get_root_client()\n",
    "\n",
    "alice_key = SigningKey.generate()\n",
    "_alice.users.signup(\n",
    "    name=\"Bob\",\n",
    "    email=\"bob@gmail.com\",\n",
    "    password=\"letmein\",\n",
    "    budget=10000000000,\n",
    "    role=1,\n",
    "    private_key=encode_key(alice_key),\n",
    "    verify_key=encode_key(alice_key.verify_key),\n",
    ")\n",
    "alice.verify_key = alice_key.verify_key\n",
    "alice.signing_key = alice_key\n",
    "\n",
    "_bob = sy.Domain(\"bob\")\n",
    "bob = _bob.get_root_client()\n",
    "\n",
    "bob_key = SigningKey.generate()\n",
    "_bob.users.signup(\n",
    "    name=\"Bob\",\n",
    "    email=\"bob@gmail.com\",\n",
    "    password=\"letmein\",\n",
    "    budget=10000000000,\n",
    "    role=1,\n",
    "    private_key=encode_key(bob_key),\n",
    "    verify_key=encode_key(bob_key.verify_key),\n",
    ")\n",
    "bob.verify_key = bob_key.verify_key\n",
    "bob.signing_key = bob_key"
   ]
  },
  {
   "cell_type": "code",
   "execution_count": 4,
   "id": "9a285caa-8cb4-44bc-b3fe-e7de63e8cda0",
   "metadata": {},
   "outputs": [],
   "source": [
    "xp = x.send(alice)\n",
    "yp = y.send(bob)\n",
    "\n",
    "dp_x = x.private(0, 2, entity=entities[0]).tag(\"trade_flow\")"
   ]
  },
  {
   "cell_type": "code",
   "execution_count": 5,
   "id": "015bed05-4a58-4f8b-a3eb-f516b29e7e9f",
   "metadata": {},
   "outputs": [
    {
     "data": {
      "text/plain": [
       "Tensor(child=SingleEntityPhiTensor(entity=Other Asia, nes, child=[ 0  1 14  0  0  0  0  3  0  0]))"
      ]
     },
     "execution_count": 5,
     "metadata": {},
     "output_type": "execute_result"
    }
   ],
   "source": [
    "dp_x"
   ]
  },
  {
   "cell_type": "code",
   "execution_count": 6,
   "id": "960127bb-98c2-412a-a8f1-ab853a332180",
   "metadata": {},
   "outputs": [],
   "source": [
    "dp_x_p = dp_x.send(alice)"
   ]
  },
  {
   "cell_type": "code",
   "execution_count": 7,
   "id": "c02c8237-e08d-45fd-9d57-7a30be548db5",
   "metadata": {},
   "outputs": [
    {
     "data": {
      "text/plain": [
       "(syft.core.tensor.autodp.single_entity_phi.TensorWrappedSingleEntityPhiTensorPointer,\n",
       " <UID: 82e220ffa9884ce1b2ee1cc77bceb060>)"
      ]
     },
     "execution_count": 7,
     "metadata": {},
     "output_type": "execute_result"
    }
   ],
   "source": [
    "type(dp_x_p), dp_x_p.id_at_location"
   ]
  },
  {
   "cell_type": "code",
   "execution_count": 8,
   "id": "2a06c1c8-6fd7-43c0-9e05-c33eb69f4363",
   "metadata": {},
   "outputs": [
    {
     "name": "stderr",
     "output_type": "stream",
     "text": [
      "[2021-08-27T14:16:37.326952+0100][CRITICAL][logger]][23040] __getattribute__ failed. If you are trying to access an EnumAttribute or a StaticAttribute, be sure they have been added to the AST. Falling back on__getattr__ to search in self.attrs for the requested field.\n",
      "[2021-08-27T14:16:37.328057+0100][CRITICAL][logger]][23040] 'Class' object has no attribute 'generate_przs_on_dp_tensor'\n",
      "[2021-08-27T14:16:37.383841+0100][CRITICAL][logger]][23040] __getattribute__ failed. If you are trying to access an EnumAttribute or a StaticAttribute, be sure they have been added to the AST. Falling back on__getattr__ to search in self.attrs for the requested field.\n",
      "[2021-08-27T14:16:37.384585+0100][CRITICAL][logger]][23040] 'Class' object has no attribute 'generate_przs_on_dp_tensor'\n"
     ]
    }
   ],
   "source": [
    "out = dp_x_p.share(bob)"
   ]
  },
  {
   "cell_type": "code",
   "execution_count": 9,
   "id": "c0d92a67-c0c3-404f-a4b9-f8d879eac86c",
   "metadata": {},
   "outputs": [],
   "source": [
    "# type(out), [child.id_at_location for child in out.child]"
   ]
  },
  {
   "cell_type": "code",
   "execution_count": 10,
   "id": "820eb325-1b33-4c00-b87d-04dad9e07f13",
   "metadata": {},
   "outputs": [],
   "source": [
    "out2 = out + out"
   ]
  },
  {
   "cell_type": "code",
   "execution_count": 11,
   "id": "fdf58aa1-b992-4ee8-9749-16a27cca7b68",
   "metadata": {},
   "outputs": [
    {
     "name": "stdout",
     "output_type": "stream",
     "text": [
      "a\n",
      "b\n",
      "c\n",
      "\n",
      "\n",
      "PROCESSING PUBLISH SCALAR ACTION!!!\n",
      "\n",
      "\n",
      "Verify Key:<class 'nacl.signing.VerifyKey'>\n",
      "<syft.core.node.common.node_manager.ledger_manager.LedgerManager object at 0x7fa629402e20>\n",
      "<syft.core.adp.adversarial_accountant.AdversarialAccountant object at 0x7fa629402d90>\n",
      "<UID: 884b02cf793f43e29c3aba1ef1c2a44d>\n",
      "IntermediateGamma.publish\n",
      "<class 'syft.core.tensor.autodp.initial_gamma.InitialGammaTensor'>\n",
      "<class 'list'>\n",
      "\n",
      "\n",
      "Has Budget:True\n",
      "SPEND:806642.5471077008\n",
      "USER BUDGET:10000000000.0\n",
      "d\n",
      "a\n",
      "b\n",
      "c\n",
      "\n",
      "\n",
      "PROCESSING PUBLISH SCALAR ACTION!!!\n",
      "\n",
      "\n",
      "Verify Key:<class 'nacl.signing.VerifyKey'>\n",
      "<syft.core.node.common.node_manager.ledger_manager.LedgerManager object at 0x7fa6012c8460>\n",
      "<syft.core.adp.adversarial_accountant.AdversarialAccountant object at 0x7fa6012c83d0>\n",
      "<UID: 51512571c70e48a1807c82f0d57cffa3>\n",
      "IntermediateGamma.publish\n",
      "<class 'syft.core.tensor.autodp.initial_gamma.InitialGammaTensor'>\n",
      "<class 'list'>\n",
      "\n",
      "\n",
      "Has Budget:True\n",
      "SPEND:806642.5471077008\n",
      "USER BUDGET:10000000000.0\n",
      "d\n"
     ]
    }
   ],
   "source": [
    "out3 = out2.publish(sigma=0.01)"
   ]
  },
  {
   "cell_type": "code",
   "execution_count": 13,
   "id": "573a238b-dee4-45dc-9d38-2c9012acca6c",
   "metadata": {},
   "outputs": [
    {
     "data": {
      "text/plain": [
       "9999193357.452892"
      ]
     },
     "execution_count": 13,
     "metadata": {},
     "output_type": "execute_result"
    }
   ],
   "source": [
    "alice.privacy_budget"
   ]
  },
  {
   "cell_type": "code",
   "execution_count": 14,
   "id": "ca76c657-15dd-4263-bfc1-7ad05567d68c",
   "metadata": {},
   "outputs": [
    {
     "data": {
      "text/plain": [
       "9999193357.452892"
      ]
     },
     "execution_count": 14,
     "metadata": {},
     "output_type": "execute_result"
    }
   ],
   "source": [
    "bob.privacy_budget"
   ]
  },
  {
   "cell_type": "code",
   "execution_count": null,
   "id": "bccbafe3-16fa-4983-aa8c-004ea8848882",
   "metadata": {},
   "outputs": [],
   "source": []
  },
  {
   "cell_type": "code",
   "execution_count": 11,
   "id": "b5eec26f-8517-4622-9fb2-79643b79e487",
   "metadata": {},
   "outputs": [],
   "source": [
    "# type(out2), [child.id_at_location for child in out.child]"
   ]
  },
  {
   "cell_type": "code",
   "execution_count": 12,
   "id": "25f00198-cadc-474a-8f90-1d2b11cf1125",
   "metadata": {},
   "outputs": [],
   "source": [
    "f = out3.get()"
   ]
  },
  {
   "cell_type": "code",
   "execution_count": 13,
   "id": "bf42c3da-266f-42c7-9065-53f960538f37",
   "metadata": {},
   "outputs": [
    {
     "data": {
      "text/plain": [
       "syft.core.tensor.tensor.Tensor"
      ]
     },
     "execution_count": 13,
     "metadata": {},
     "output_type": "execute_result"
    }
   ],
   "source": [
    "type(f)"
   ]
  },
  {
   "cell_type": "code",
   "execution_count": 14,
   "id": "98abd0c9-1d0a-4959-947a-e6da93151782",
   "metadata": {},
   "outputs": [
    {
     "data": {
      "text/plain": [
       "Tensor(child=ShareTensor(child=[ 0  3 28  1  0  0  0  6  0 -1]))"
      ]
     },
     "execution_count": 14,
     "metadata": {},
     "output_type": "execute_result"
    }
   ],
   "source": [
    "f"
   ]
  },
  {
   "cell_type": "code",
   "execution_count": 15,
   "id": "e7f8e58c-6933-4dfb-8b80-317b57a833c8",
   "metadata": {},
   "outputs": [
    {
     "data": {
      "text/plain": [
       "Tensor(child=SingleEntityPhiTensor(entity=Other Asia, nes, child=[ 0  1 14  0  0  0  0  3  0  0]))"
      ]
     },
     "execution_count": 15,
     "metadata": {},
     "output_type": "execute_result"
    }
   ],
   "source": [
    "x"
   ]
  },
  {
   "cell_type": "code",
   "execution_count": null,
   "id": "ff241395-48aa-4055-a3aa-8b96f0707285",
   "metadata": {},
   "outputs": [],
   "source": []
  }
 ],
 "metadata": {
  "kernelspec": {
   "display_name": "Python 3",
   "language": "python",
   "name": "python3"
  },
  "language_info": {
   "codemirror_mode": {
    "name": "ipython",
    "version": 3
   },
   "file_extension": ".py",
   "mimetype": "text/x-python",
   "name": "python",
   "nbconvert_exporter": "python",
   "pygments_lexer": "ipython3",
   "version": "3.8.10"
  }
 },
 "nbformat": 4,
 "nbformat_minor": 5
}

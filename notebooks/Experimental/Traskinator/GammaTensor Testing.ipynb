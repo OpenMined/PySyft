{
 "cells": [
  {
   "cell_type": "code",
   "execution_count": 1,
   "id": "bd04d5a5-3e60-4398-8a83-7ed3dfad5944",
   "metadata": {},
   "outputs": [],
   "source": [
    "import syft as sy\n",
    "import numpy as np\n",
    "from sqlalchemy import create_engine\n",
    "from syft.core.node.common.node_table import Base\n",
    "from nacl.encoding import HexEncoder\n",
    "from nacl.signing import SigningKey\n",
    "from syft.core.adp.scalar.gamma_scalar import GammaScalar\n",
    "from syft.core.tensor.autodp.initial_gamma import InitialGammaTensor\n",
    "from syft.core.tensor.autodp.intermediate_gamma import IntermediateGammaTensor\n",
    "from syft.core.adp.entity import DataSubject\n",
    "from syft.core.adp.entity import DataSubjectGroup\n",
    "from syft.core.adp.adversarial_accountant import AdversarialAccountant"
   ]
  },
  {
   "cell_type": "code",
   "execution_count": 2,
   "id": "1cc1b3e2-0a80-4f4b-b3c6-eaa0711dad38",
   "metadata": {},
   "outputs": [],
   "source": [
    "from syft.core.io.virtual import create_virtual_connection"
   ]
  },
  {
   "cell_type": "code",
   "execution_count": 3,
   "id": "2d0108ef-75db-47d3-bd9d-17d591bfaee5",
   "metadata": {},
   "outputs": [
    {
     "name": "stdout",
     "output_type": "stream",
     "text": [
      "Setup hasnt run yet so ignoring set_node_uid\n",
      "Performing initial setup...\n"
     ]
    }
   ],
   "source": [
    "alice = sy.Domain(\"alice\").initial_setup()"
   ]
  },
  {
   "cell_type": "code",
   "execution_count": 4,
   "id": "4c9e6441-cdd7-4480-a671-95364b1f7738",
   "metadata": {},
   "outputs": [],
   "source": [
    "child = np.array([1,2,3,4], dtype=np.int32)"
   ]
  },
  {
   "cell_type": "code",
   "execution_count": 5,
   "id": "32b9383e-27cc-4c0e-b4ac-ae105f59c944",
   "metadata": {},
   "outputs": [
    {
     "data": {
      "text/plain": [
       "dtype('int32')"
      ]
     },
     "execution_count": 5,
     "metadata": {},
     "output_type": "execute_result"
    }
   ],
   "source": [
    "child.dtype"
   ]
  },
  {
   "cell_type": "code",
   "execution_count": 6,
   "id": "ff992659-d992-4ced-b847-f5ddb8b53498",
   "metadata": {},
   "outputs": [],
   "source": [
    "x = sy.Tensor(child).private(min_val=0, max_val=5, entities=\"bob\")"
   ]
  },
  {
   "cell_type": "code",
   "execution_count": 7,
   "id": "61525717-008c-46c0-9892-fbbe93bd1ec8",
   "metadata": {},
   "outputs": [
    {
     "name": "stdout",
     "output_type": "stream",
     "text": [
      "PUBLISHING TO GAMMA:\n",
      "[1 2 3 4]\n",
      "\n",
      "\n",
      "Has Budget:True\n",
      "YOU'VE SPENT:0.8999352676606419\n",
      "USER BUDGET:5.55\n"
     ]
    },
    {
     "name": "stderr",
     "output_type": "stream",
     "text": [
      "/home/e/.local/lib/python3.8/site-packages/scipy/optimize/optimize.py:2621: RuntimeWarning: invalid value encountered in double_scalars\n",
      "  w = xb - ((xb - xc) * tmp2 - (xb - xa) * tmp1) / denom\n"
     ]
    },
    {
     "data": {
      "text/plain": [
       "array([ 15.50333004, 109.2478922 ,  -5.89410679,   8.01836904])"
      ]
     },
     "execution_count": 7,
     "metadata": {},
     "output_type": "execute_result"
    }
   ],
   "source": [
    "x.publish(sigma=50, acc=alice.acc, user_key=alice.verify_key)"
   ]
  },
  {
   "cell_type": "code",
   "execution_count": 8,
   "id": "74a25110-6ecd-41c5-9ac9-b3451951d67d",
   "metadata": {},
   "outputs": [],
   "source": [
    "traskmaster = DataSubject(name=\"Andrew\")"
   ]
  },
  {
   "cell_type": "code",
   "execution_count": 9,
   "id": "dbc2d5d1-3ad1-465e-8166-30012329e1df",
   "metadata": {},
   "outputs": [],
   "source": [
    "gs = GammaScalar(min_val=0, max_val=5, value=3, prime=13, entity=traskmaster)"
   ]
  },
  {
   "cell_type": "code",
   "execution_count": 10,
   "id": "1c5c6c96-f984-4c17-9723-d02d90149ab9",
   "metadata": {},
   "outputs": [
    {
     "name": "stdout",
     "output_type": "stream",
     "text": [
      "\n",
      "\n",
      "Has Budget:True\n",
      "YOU'VE SPENT:0.02146495064126424\n",
      "USER BUDGET:5.55\n"
     ]
    },
    {
     "data": {
      "text/plain": [
       "[108.13167523840627]"
      ]
     },
     "execution_count": 10,
     "metadata": {},
     "output_type": "execute_result"
    }
   ],
   "source": [
    "gs.publish(sigma=500, acc=alice.acc, user_key=alice.verify_key)"
   ]
  },
  {
   "cell_type": "code",
   "execution_count": 11,
   "id": "9825434f-d543-41a4-89c7-0528a27b171f",
   "metadata": {},
   "outputs": [
    {
     "name": "stdout",
     "output_type": "stream",
     "text": [
      "bob\t0.8999352676606419\n",
      "Andrew\t0.03710462684103462\n"
     ]
    }
   ],
   "source": [
    "alice.acc.print_ledger()"
   ]
  },
  {
   "cell_type": "code",
   "execution_count": 12,
   "id": "300e6d52-2d56-42d6-b6cb-8f9336549db7",
   "metadata": {},
   "outputs": [
    {
     "data": {
      "text/plain": [
       "[<syft.core.node.common.node_table.mechanism.Mechanism at 0x7f33e82480a0>,\n",
       " <syft.core.node.common.node_table.mechanism.Mechanism at 0x7f330c8da760>]"
      ]
     },
     "execution_count": 12,
     "metadata": {},
     "output_type": "execute_result"
    }
   ],
   "source": [
    "alice.acc.entity2ledger.mechanism_manager.all()"
   ]
  },
  {
   "cell_type": "code",
   "execution_count": 13,
   "id": "29204191-126a-4120-80b8-ef08e75e6ab7",
   "metadata": {},
   "outputs": [],
   "source": [
    "# conn = create_virtual_connection(alice)"
   ]
  },
  {
   "cell_type": "code",
   "execution_count": 14,
   "id": "882bb4b3-9a0e-40f7-994e-b33a4ac3dc59",
   "metadata": {},
   "outputs": [],
   "source": [
    "amber = DataSubject(name=\"Amber\")"
   ]
  },
  {
   "cell_type": "code",
   "execution_count": 15,
   "id": "553ef09a-e031-4e13-9fc6-8b42647175b2",
   "metadata": {},
   "outputs": [],
   "source": [
    "DSG = DataSubjectGroup([traskmaster, amber])"
   ]
  },
  {
   "cell_type": "code",
   "execution_count": 16,
   "id": "acef8501-aa01-431b-8936-4b24b36c4fc6",
   "metadata": {},
   "outputs": [],
   "source": [
    "gs = GammaScalar(min_val=0, max_val=5, value=3, prime=7, entity=DSG)"
   ]
  },
  {
   "cell_type": "code",
   "execution_count": 17,
   "id": "c17f14b9-8956-4523-af77-81ff319fb357",
   "metadata": {},
   "outputs": [
    {
     "name": "stdout",
     "output_type": "stream",
     "text": [
      "\n",
      "\n",
      "Has Budget:True\n",
      "YOU'VE SPENT:0.0\n",
      "USER BUDGET:5.55\n",
      "\n",
      "\n",
      "Has Budget:True\n",
      "YOU'VE SPENT:0.02146495064126424\n",
      "USER BUDGET:5.55\n"
     ]
    },
    {
     "data": {
      "text/plain": [
       "[-151.52066275854878]"
      ]
     },
     "execution_count": 17,
     "metadata": {},
     "output_type": "execute_result"
    }
   ],
   "source": [
    "gs.publish(sigma=500, acc=alice.acc, user_key=alice.verify_key)"
   ]
  },
  {
   "cell_type": "code",
   "execution_count": 18,
   "id": "f8a45b88-d3ef-4395-a678-64e0afcf243b",
   "metadata": {},
   "outputs": [
    {
     "name": "stdout",
     "output_type": "stream",
     "text": [
      "bob\t0.8999352676606419\n",
      "Andrew\t0.05372712063485986\n",
      "Amber\t0.03710462684103462\n"
     ]
    }
   ],
   "source": [
    "alice.acc.print_ledger()"
   ]
  },
  {
   "cell_type": "code",
   "execution_count": 42,
   "id": "ffa02d12-7d99-4132-b550-0080be6f1677",
   "metadata": {},
   "outputs": [
    {
     "data": {
      "text/plain": [
       "KeysView([<syft.core.node.common.node_table.entity.DataSubject object at 0x7f3b9ea61a60>, <syft.core.node.common.node_table.entity.DataSubject object at 0x7f3b9ea61f10>, <syft.core.node.common.node_table.entity.DataSubject object at 0x7f3b9ea61fd0>])"
      ]
     },
     "execution_count": 42,
     "metadata": {},
     "output_type": "execute_result"
    }
   ],
   "source": [
    "alice.acc.entities"
   ]
  },
  {
   "cell_type": "code",
   "execution_count": null,
   "id": "a25f102d-f8c4-47e0-bda7-6fd0a62290c6",
   "metadata": {},
   "outputs": [],
   "source": [
    "gt = GammaT"
   ]
  },
  {
   "cell_type": "code",
   "execution_count": 43,
   "id": "87931149-20ab-45fb-b579-b94caad4a46b",
   "metadata": {},
   "outputs": [
    {
     "data": {
      "text/plain": [
       "<syft.core.node.common.node_manager.ledger_manager.EntityManager at 0x7f3b9ed73160>"
      ]
     },
     "execution_count": 43,
     "metadata": {},
     "output_type": "execute_result"
    }
   ],
   "source": [
    "alice.acc."
   ]
  },
  {
   "cell_type": "code",
   "execution_count": 18,
   "id": "77e4e41f-efe2-4090-914f-d1b372fbaf9c",
   "metadata": {},
   "outputs": [],
   "source": [
    "# engine = create_engine('sqlite://')\n",
    "# acc = AdversarialAccountant(engine)\n",
    "# Base.metadata.create_all(engine)"
   ]
  },
  {
   "cell_type": "code",
   "execution_count": 19,
   "id": "d0307bfb-59b9-41ae-9023-4c5e28f06bdc",
   "metadata": {},
   "outputs": [
    {
     "name": "stdout",
     "output_type": "stream",
     "text": [
      "Setup hasnt run yet so ignoring set_node_uid\n"
     ]
    }
   ],
   "source": [
    "def encode_key(key: SigningKey) -> str:\n",
    "    return key.encode(encoder=HexEncoder).decode(\"utf-8\")\n",
    "\n",
    "_alice = sy.Domain(\"alice\")\n",
    "alice = _alice.get_root_client()\n",
    "alice_key = SigningKey.generate()\n",
    "\n",
    "_alice.users.signup(\n",
    "    name=\"Bob\",\n",
    "    email=\"bob@gmail.com\",\n",
    "    password=\"letmein\",\n",
    "    budget=10000000000,\n",
    "    role=1,\n",
    "    private_key=encode_key(alice_key),\n",
    "    verify_key=encode_key(alice_key.verify_key),\n",
    ")\n",
    "\n",
    "alice.verify_key = alice_key.verify_key\n",
    "alice.signing_key = alice_key"
   ]
  },
  {
   "cell_type": "code",
   "execution_count": 20,
   "id": "39501a54-ce3b-4397-aa8f-5be3cf5dac31",
   "metadata": {},
   "outputs": [
    {
     "name": "stdout",
     "output_type": "stream",
     "text": [
      "Setup hasnt run yet so ignoring set_node_uid\n"
     ]
    }
   ],
   "source": [
    "d = sy.Domain(\"asdf\")\n",
    "root = d.get_root_client()\n",
    "\n",
    "root_key = SigningKey.generate()\n",
    "out = d.users.signup(\n",
    "    name=\"Bob\",\n",
    "    email=\"bob@gmail.com\",\n",
    "    password=\"letmein\",\n",
    "    budget=10000000000,\n",
    "    role=1,\n",
    "    private_key=encode_key(root_key),\n",
    "    verify_key=encode_key(root_key.verify_key),\n",
    ")"
   ]
  },
  {
   "cell_type": "code",
   "execution_count": 21,
   "id": "ba070b06-be3d-4fd5-ad33-073cb94b22ad",
   "metadata": {},
   "outputs": [],
   "source": [
    "x = sy.Tensor([1,2,3,4]).private(min_val=0, max_val=5, entities=\"bob\")"
   ]
  },
  {
   "cell_type": "code",
   "execution_count": 22,
   "id": "9a782579-e3ab-4f9c-9777-46e3a2c76d70",
   "metadata": {},
   "outputs": [],
   "source": [
    "out = x.send(root)\n",
    "out.gc_enabled = False"
   ]
  },
  {
   "cell_type": "code",
   "execution_count": null,
   "id": "3ae4abe4-34ff-4b52-99d1-bb78a5a2ae6d",
   "metadata": {},
   "outputs": [],
   "source": []
  },
  {
   "cell_type": "code",
   "execution_count": 23,
   "id": "1eae7493-1989-4793-8962-4ca5aad22fdd",
   "metadata": {},
   "outputs": [
    {
     "data": {
      "text/plain": [
       "False"
      ]
     },
     "execution_count": 23,
     "metadata": {},
     "output_type": "execute_result"
    }
   ],
   "source": [
    "out.gc_enabled"
   ]
  },
  {
   "cell_type": "code",
   "execution_count": 24,
   "id": "918435eb-d1d1-4180-9d02-833815ba0e95",
   "metadata": {},
   "outputs": [
    {
     "name": "stdout",
     "output_type": "stream",
     "text": [
      "PUBLISHING TO GAMMA:\n",
      "[1 2 3 4]\n"
     ]
    },
    {
     "ename": "AttributeError",
     "evalue": "'NoneType' object has no attribute 'budget'",
     "output_type": "error",
     "traceback": [
      "\u001b[0;31m---------------------------------------------------------------------------\u001b[0m",
      "\u001b[0;31mAttributeError\u001b[0m                            Traceback (most recent call last)",
      "\u001b[0;32m/tmp/ipykernel_177336/4106750992.py\u001b[0m in \u001b[0;36m<module>\u001b[0;34m\u001b[0m\n\u001b[0;32m----> 1\u001b[0;31m \u001b[0mx\u001b[0m\u001b[0;34m.\u001b[0m\u001b[0mpublish\u001b[0m\u001b[0;34m(\u001b[0m\u001b[0msigma\u001b[0m\u001b[0;34m=\u001b[0m\u001b[0;36m0.5\u001b[0m\u001b[0;34m,\u001b[0m \u001b[0macc\u001b[0m\u001b[0;34m=\u001b[0m\u001b[0md\u001b[0m\u001b[0;34m.\u001b[0m\u001b[0macc\u001b[0m\u001b[0;34m,\u001b[0m \u001b[0muser_key\u001b[0m\u001b[0;34m=\u001b[0m\u001b[0mroot_key\u001b[0m\u001b[0;34m)\u001b[0m\u001b[0;34m\u001b[0m\u001b[0;34m\u001b[0m\u001b[0m\n\u001b[0m",
      "\u001b[0;32m~/PySyft/packages/syft/src/syft/core/tensor/ancestors.py\u001b[0m in \u001b[0;36mpublish\u001b[0;34m(self, acc, sigma, user_key)\u001b[0m\n\u001b[1;32m    393\u001b[0m \u001b[0;34m\u001b[0m\u001b[0m\n\u001b[1;32m    394\u001b[0m     \u001b[0;32mdef\u001b[0m \u001b[0mpublish\u001b[0m\u001b[0;34m(\u001b[0m\u001b[0mself\u001b[0m\u001b[0;34m,\u001b[0m \u001b[0macc\u001b[0m\u001b[0;34m:\u001b[0m \u001b[0mAny\u001b[0m\u001b[0;34m,\u001b[0m \u001b[0msigma\u001b[0m\u001b[0;34m:\u001b[0m \u001b[0mfloat\u001b[0m\u001b[0;34m,\u001b[0m \u001b[0muser_key\u001b[0m\u001b[0;34m:\u001b[0m \u001b[0mVerifyKey\u001b[0m\u001b[0;34m)\u001b[0m \u001b[0;34m->\u001b[0m \u001b[0mPhiTensorAncestor\u001b[0m\u001b[0;34m:\u001b[0m\u001b[0;34m\u001b[0m\u001b[0;34m\u001b[0m\u001b[0m\n\u001b[0;32m--> 395\u001b[0;31m         \u001b[0;32mreturn\u001b[0m \u001b[0mself\u001b[0m\u001b[0;34m.\u001b[0m\u001b[0mchild\u001b[0m\u001b[0;34m.\u001b[0m\u001b[0mpublish\u001b[0m\u001b[0;34m(\u001b[0m\u001b[0macc\u001b[0m\u001b[0;34m=\u001b[0m\u001b[0macc\u001b[0m\u001b[0;34m,\u001b[0m \u001b[0msigma\u001b[0m\u001b[0;34m=\u001b[0m\u001b[0msigma\u001b[0m\u001b[0;34m,\u001b[0m \u001b[0muser_key\u001b[0m\u001b[0;34m=\u001b[0m\u001b[0muser_key\u001b[0m\u001b[0;34m)\u001b[0m\u001b[0;34m\u001b[0m\u001b[0;34m\u001b[0m\u001b[0m\n\u001b[0m\u001b[1;32m    396\u001b[0m \u001b[0;34m\u001b[0m\u001b[0m\n\u001b[1;32m    397\u001b[0m     \u001b[0;32mdef\u001b[0m \u001b[0mcopy\u001b[0m\u001b[0;34m(\u001b[0m\u001b[0mself\u001b[0m\u001b[0;34m)\u001b[0m \u001b[0;34m->\u001b[0m \u001b[0mPhiTensorAncestor\u001b[0m\u001b[0;34m:\u001b[0m\u001b[0;34m\u001b[0m\u001b[0;34m\u001b[0m\u001b[0m\n",
      "\u001b[0;32m~/PySyft/packages/syft/src/syft/core/tensor/autodp/single_entity_phi.py\u001b[0m in \u001b[0;36mpublish\u001b[0;34m(self, acc, sigma, user_key)\u001b[0m\n\u001b[1;32m    357\u001b[0m         \u001b[0mprint\u001b[0m\u001b[0;34m(\u001b[0m\u001b[0;34m\"PUBLISHING TO GAMMA:\"\u001b[0m\u001b[0;34m)\u001b[0m\u001b[0;34m\u001b[0m\u001b[0;34m\u001b[0m\u001b[0m\n\u001b[1;32m    358\u001b[0m         \u001b[0mprint\u001b[0m\u001b[0;34m(\u001b[0m\u001b[0mself\u001b[0m\u001b[0;34m.\u001b[0m\u001b[0mchild\u001b[0m\u001b[0;34m)\u001b[0m\u001b[0;34m\u001b[0m\u001b[0;34m\u001b[0m\u001b[0m\n\u001b[0;32m--> 359\u001b[0;31m         \u001b[0;32mreturn\u001b[0m \u001b[0mself\u001b[0m\u001b[0;34m.\u001b[0m\u001b[0mgamma\u001b[0m\u001b[0;34m.\u001b[0m\u001b[0mpublish\u001b[0m\u001b[0;34m(\u001b[0m\u001b[0macc\u001b[0m\u001b[0;34m=\u001b[0m\u001b[0macc\u001b[0m\u001b[0;34m,\u001b[0m \u001b[0msigma\u001b[0m\u001b[0;34m=\u001b[0m\u001b[0msigma\u001b[0m\u001b[0;34m,\u001b[0m \u001b[0muser_key\u001b[0m\u001b[0;34m=\u001b[0m\u001b[0muser_key\u001b[0m\u001b[0;34m)\u001b[0m\u001b[0;34m\u001b[0m\u001b[0;34m\u001b[0m\u001b[0m\n\u001b[0m\u001b[1;32m    360\u001b[0m \u001b[0;34m\u001b[0m\u001b[0m\n\u001b[1;32m    361\u001b[0m     \u001b[0;34m@\u001b[0m\u001b[0mproperty\u001b[0m\u001b[0;34m\u001b[0m\u001b[0;34m\u001b[0m\u001b[0m\n",
      "\u001b[0;32m~/PySyft/packages/syft/src/syft/core/tensor/autodp/intermediate_gamma.py\u001b[0m in \u001b[0;36mpublish\u001b[0;34m(self, acc, sigma, user_key)\u001b[0m\n\u001b[1;32m     93\u001b[0m \u001b[0;34m\u001b[0m\u001b[0m\n\u001b[1;32m     94\u001b[0m         result = np.array(\n\u001b[0;32m---> 95\u001b[0;31m             publish(\n\u001b[0m\u001b[1;32m     96\u001b[0m                 \u001b[0mscalars\u001b[0m\u001b[0;34m=\u001b[0m\u001b[0mself\u001b[0m\u001b[0;34m.\u001b[0m\u001b[0mflat_scalars\u001b[0m\u001b[0;34m,\u001b[0m\u001b[0;34m\u001b[0m\u001b[0;34m\u001b[0m\u001b[0m\n\u001b[1;32m     97\u001b[0m                 \u001b[0macc\u001b[0m\u001b[0;34m=\u001b[0m\u001b[0macc\u001b[0m\u001b[0;34m,\u001b[0m\u001b[0;34m\u001b[0m\u001b[0;34m\u001b[0m\u001b[0m\n",
      "\u001b[0;32m~/PySyft/packages/syft/src/syft/core/adp/publish.py\u001b[0m in \u001b[0;36mpublish\u001b[0;34m(scalars, acc, user_key, sigma, public_only)\u001b[0m\n\u001b[1;32m     59\u001b[0m \u001b[0;34m\u001b[0m\u001b[0m\n\u001b[1;32m     60\u001b[0m     \u001b[0;31m# Filter entities by searching for the overbudgeted ones.\u001b[0m\u001b[0;34m\u001b[0m\u001b[0;34m\u001b[0m\u001b[0;34m\u001b[0m\u001b[0m\n\u001b[0;32m---> 61\u001b[0;31m     overbudgeted_entities = acc.overbudgeted_entities(\n\u001b[0m\u001b[1;32m     62\u001b[0m         \u001b[0mtemp_entities\u001b[0m\u001b[0;34m=\u001b[0m\u001b[0macc\u001b[0m\u001b[0;34m.\u001b[0m\u001b[0mtemp_entity2ledger\u001b[0m\u001b[0;34m,\u001b[0m\u001b[0;34m\u001b[0m\u001b[0;34m\u001b[0m\u001b[0m\n\u001b[1;32m     63\u001b[0m         \u001b[0muser_key\u001b[0m\u001b[0;34m=\u001b[0m\u001b[0muser_key\u001b[0m\u001b[0;34m,\u001b[0m\u001b[0;34m\u001b[0m\u001b[0;34m\u001b[0m\u001b[0m\n",
      "\u001b[0;32m~/PySyft/packages/syft/src/syft/core/adp/adversarial_accountant.py\u001b[0m in \u001b[0;36moverbudgeted_entities\u001b[0;34m(self, temp_entities, user_key, returned_epsilon_is_private)\u001b[0m\n\u001b[1;32m    235\u001b[0m                         \u001b[0mentities\u001b[0m\u001b[0;34m.\u001b[0m\u001b[0madd\u001b[0m\u001b[0;34m(\u001b[0m\u001b[0mentity\u001b[0m\u001b[0;34m)\u001b[0m  \u001b[0;31m# Leave out the whole group if ANY of its entities are over budget\u001b[0m\u001b[0;34m\u001b[0m\u001b[0;34m\u001b[0m\u001b[0m\n\u001b[1;32m    236\u001b[0m             \u001b[0;32melif\u001b[0m \u001b[0misinstance\u001b[0m\u001b[0;34m(\u001b[0m\u001b[0mentity\u001b[0m\u001b[0;34m,\u001b[0m \u001b[0mEntity\u001b[0m\u001b[0;34m)\u001b[0m\u001b[0;34m:\u001b[0m\u001b[0;34m\u001b[0m\u001b[0;34m\u001b[0m\u001b[0m\n\u001b[0;32m--> 237\u001b[0;31m                 if not self.has_budget(\n\u001b[0m\u001b[1;32m    238\u001b[0m                     \u001b[0mentity\u001b[0m\u001b[0;34m,\u001b[0m\u001b[0;34m\u001b[0m\u001b[0;34m\u001b[0m\u001b[0m\n\u001b[1;32m    239\u001b[0m                     \u001b[0muser_key\u001b[0m\u001b[0;34m=\u001b[0m\u001b[0muser_key\u001b[0m\u001b[0;34m,\u001b[0m\u001b[0;34m\u001b[0m\u001b[0;34m\u001b[0m\u001b[0m\n",
      "\u001b[0;32m~/PySyft/packages/syft/src/syft/core/adp/adversarial_accountant.py\u001b[0m in \u001b[0;36mhas_budget\u001b[0;34m(self, entity, user_key, returned_epsilon_is_private)\u001b[0m\n\u001b[1;32m    167\u001b[0m         )\n\u001b[1;32m    168\u001b[0m \u001b[0;34m\u001b[0m\u001b[0m\n\u001b[0;32m--> 169\u001b[0;31m         \u001b[0muser_budget\u001b[0m \u001b[0;34m=\u001b[0m \u001b[0mself\u001b[0m\u001b[0;34m.\u001b[0m\u001b[0mentity2ledger\u001b[0m\u001b[0;34m.\u001b[0m\u001b[0mget_user_budget\u001b[0m\u001b[0;34m(\u001b[0m\u001b[0muser_key\u001b[0m\u001b[0;34m=\u001b[0m\u001b[0muser_key\u001b[0m\u001b[0;34m)\u001b[0m\u001b[0;34m\u001b[0m\u001b[0;34m\u001b[0m\u001b[0m\n\u001b[0m\u001b[1;32m    170\u001b[0m \u001b[0;34m\u001b[0m\u001b[0m\n\u001b[1;32m    171\u001b[0m         \u001b[0;31m# print(\"ACCOUNTANT MAX BUDGET\", self.max_budget)\u001b[0m\u001b[0;34m\u001b[0m\u001b[0;34m\u001b[0m\u001b[0;34m\u001b[0m\u001b[0m\n",
      "\u001b[0;32m~/PySyft/packages/syft/src/syft/core/node/common/node_manager/ledger_manager.py\u001b[0m in \u001b[0;36mget_user_budget\u001b[0;34m(self, user_key)\u001b[0m\n\u001b[1;32m     71\u001b[0m         \u001b[0mserialized_key\u001b[0m \u001b[0;34m=\u001b[0m \u001b[0muser_key\u001b[0m\u001b[0;34m.\u001b[0m\u001b[0mencode\u001b[0m\u001b[0;34m(\u001b[0m\u001b[0mencoder\u001b[0m\u001b[0;34m=\u001b[0m\u001b[0mHexEncoder\u001b[0m\u001b[0;34m)\u001b[0m\u001b[0;34m.\u001b[0m\u001b[0mdecode\u001b[0m\u001b[0;34m(\u001b[0m\u001b[0;34m\"utf-8\"\u001b[0m\u001b[0;34m)\u001b[0m\u001b[0;34m\u001b[0m\u001b[0;34m\u001b[0m\u001b[0m\n\u001b[1;32m     72\u001b[0m         budget = (\n\u001b[0;32m---> 73\u001b[0;31m             \u001b[0msession_local\u001b[0m\u001b[0;34m.\u001b[0m\u001b[0mquery\u001b[0m\u001b[0;34m(\u001b[0m\u001b[0mSyftUser\u001b[0m\u001b[0;34m)\u001b[0m\u001b[0;34m\u001b[0m\u001b[0;34m\u001b[0m\u001b[0m\n\u001b[0m\u001b[1;32m     74\u001b[0m             \u001b[0;34m.\u001b[0m\u001b[0mfilter_by\u001b[0m\u001b[0;34m(\u001b[0m\u001b[0mverify_key\u001b[0m\u001b[0;34m=\u001b[0m\u001b[0mserialized_key\u001b[0m\u001b[0;34m)\u001b[0m\u001b[0;34m\u001b[0m\u001b[0;34m\u001b[0m\u001b[0m\n\u001b[1;32m     75\u001b[0m             \u001b[0;34m.\u001b[0m\u001b[0mfirst\u001b[0m\u001b[0;34m(\u001b[0m\u001b[0;34m)\u001b[0m\u001b[0;34m\u001b[0m\u001b[0;34m\u001b[0m\u001b[0m\n",
      "\u001b[0;31mAttributeError\u001b[0m: 'NoneType' object has no attribute 'budget'"
     ]
    }
   ],
   "source": [
    "x.publish(sigma=0.5, acc=d.acc, user_key=root_key)"
   ]
  },
  {
   "cell_type": "code",
   "execution_count": null,
   "id": "ee06a2a7-5905-42d1-a483-094f42938d5f",
   "metadata": {},
   "outputs": [],
   "source": []
  }
 ],
 "metadata": {
  "kernelspec": {
   "display_name": "Python 3 (ipykernel)",
   "language": "python",
   "name": "python3"
  },
  "language_info": {
   "codemirror_mode": {
    "name": "ipython",
    "version": 3
   },
   "file_extension": ".py",
   "mimetype": "text/x-python",
   "name": "python",
   "nbconvert_exporter": "python",
   "pygments_lexer": "ipython3",
   "version": "3.8.11"
  }
 },
 "nbformat": 4,
 "nbformat_minor": 5
}

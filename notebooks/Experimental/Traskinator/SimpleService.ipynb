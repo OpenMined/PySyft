{
 "cells": [
  {
   "cell_type": "code",
   "execution_count": 1,
   "id": "12c31af5-0efe-4e3a-ab4e-35d0de9c0ed1",
   "metadata": {},
   "outputs": [],
   "source": [
    "import syft as sy\n",
    "from syft.core.node.common.node_service.simple.simple_messages import NodeRunnableMessageWithReply\n",
    "from syft.core.node.common.node_service.get_repr.get_repr_messages import GetReprMessage"
   ]
  },
  {
   "cell_type": "code",
   "execution_count": 2,
   "id": "ca4dd257-f9bf-4a85-bafe-21b593eee6e3",
   "metadata": {},
   "outputs": [
    {
     "name": "stdout",
     "output_type": "stream",
     "text": [
      "Connecting to http://localhost:8081... done! \t Logging into canada... done!\n"
     ]
    }
   ],
   "source": [
    "c = sy.login(email=\"info@openmined.org\", password=\"changethis\", port=8081)"
   ]
  },
  {
   "cell_type": "code",
   "execution_count": 3,
   "id": "94b4223c-a253-48bb-9898-6264cdc24d87",
   "metadata": {},
   "outputs": [],
   "source": [
    "msg = NodeRunnableMessageWithReply(\"My Favourite\")\n",
    "reply_msg = c.send_immediate_msg_with_reply(msg)"
   ]
  },
  {
   "cell_type": "code",
   "execution_count": 4,
   "id": "5f43df58-f373-4d15-892c-19d54348cb9b",
   "metadata": {},
   "outputs": [
    {
     "data": {
      "text/plain": [
       "'Nothing to see here...My Favourite'"
      ]
     },
     "execution_count": 4,
     "metadata": {},
     "output_type": "execute_result"
    }
   ],
   "source": [
    "reply_msg.payload"
   ]
  },
  {
   "cell_type": "code",
   "execution_count": null,
   "id": "8b5485a9-b8d8-490a-a732-cae393925cad",
   "metadata": {},
   "outputs": [],
   "source": []
  },
  {
   "cell_type": "code",
   "execution_count": null,
   "id": "2350784d-38f7-4558-b3cd-0a57a9318f28",
   "metadata": {},
   "outputs": [],
   "source": []
  }
 ],
 "metadata": {
  "kernelspec": {
   "display_name": "Python 3",
   "language": "python",
   "name": "python3"
  },
  "language_info": {
   "codemirror_mode": {
    "name": "ipython",
    "version": 3
   },
   "file_extension": ".py",
   "mimetype": "text/x-python",
   "name": "python",
   "nbconvert_exporter": "python",
   "pygments_lexer": "ipython3",
   "version": "3.8.10"
  }
 },
 "nbformat": 4,
 "nbformat_minor": 5
}

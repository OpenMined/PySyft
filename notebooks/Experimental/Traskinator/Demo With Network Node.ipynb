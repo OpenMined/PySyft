{
 "cells": [
  {
   "cell_type": "code",
   "execution_count": 89,
   "id": "d84d03dc-5693-47a7-b2a4-79f18ce98f4c",
   "metadata": {},
   "outputs": [],
   "source": [
    "import syft as sy"
   ]
  },
  {
   "cell_type": "code",
   "execution_count": 90,
   "id": "1d95bf7c-d338-45a2-a9a8-4218e32e9c0a",
   "metadata": {},
   "outputs": [
    {
     "data": {
      "text/html": [
       "<div>\n",
       "<style scoped>\n",
       "    .dataframe tbody tr th:only-of-type {\n",
       "        vertical-align: middle;\n",
       "    }\n",
       "\n",
       "    .dataframe tbody tr th {\n",
       "        vertical-align: top;\n",
       "    }\n",
       "\n",
       "    .dataframe thead th {\n",
       "        text-align: right;\n",
       "    }\n",
       "</style>\n",
       "<table border=\"1\" class=\"dataframe\">\n",
       "  <thead>\n",
       "    <tr style=\"text-align: right;\">\n",
       "      <th></th>\n",
       "      <th>name</th>\n",
       "      <th>host_or_ip</th>\n",
       "      <th>vpn_host_or_ip</th>\n",
       "      <th>protocol</th>\n",
       "      <th>port</th>\n",
       "      <th>admin_email</th>\n",
       "      <th>website</th>\n",
       "      <th>slack</th>\n",
       "      <th>slack_channel</th>\n",
       "    </tr>\n",
       "  </thead>\n",
       "  <tbody>\n",
       "    <tr>\n",
       "      <th>0</th>\n",
       "      <td>opengrid</td>\n",
       "      <td>40.83.192.48</td>\n",
       "      <td>100.64.0.1</td>\n",
       "      <td>http</td>\n",
       "      <td>80</td>\n",
       "      <td>support@openmined.org</td>\n",
       "      <td>https://www.openmined.org/</td>\n",
       "      <td>https://slack.openmined.org/</td>\n",
       "      <td>opengrid</td>\n",
       "    </tr>\n",
       "  </tbody>\n",
       "</table>\n",
       "</div>"
      ],
      "text/plain": [
       "<syft.registry.NetworkRegistry at 0x7fc1d209dfa0>"
      ]
     },
     "execution_count": 90,
     "metadata": {},
     "output_type": "execute_result"
    }
   ],
   "source": [
    "sy.networks"
   ]
  },
  {
   "cell_type": "markdown",
   "id": "0ae8dbb6-6916-41e2-be1b-56f88ef1e538",
   "metadata": {},
   "source": [
    "# Initial Network Setup\n",
    "\n",
    "The network has to join itself so that it's registered within its own key server and can use the VPN network that it's hosting."
   ]
  },
  {
   "cell_type": "code",
   "execution_count": 78,
   "id": "a02fc6e3-a9f4-48fb-af52-a02fa1e143cf",
   "metadata": {},
   "outputs": [],
   "source": [
    "NETWORK_PUBLIC_HOST = \"http://40.83.192.48:80\""
   ]
  },
  {
   "cell_type": "code",
   "execution_count": 83,
   "id": "df73243e-f233-45be-b9fc-58c46d716278",
   "metadata": {},
   "outputs": [
    {
     "name": "stdout",
     "output_type": "stream",
     "text": [
      "WARNING: CHANGE YOUR USERNAME AND PASSWORD!!! \n",
      "\n",
      "Anyone can login as an admin to your node right now because your password is still the default PySyft username and password!!!\n",
      "\n",
      "Connecting to http://40.83.192.48... done! \t Logging into opengrid... done!\n"
     ]
    }
   ],
   "source": [
    "network_root = sy.login(email=\"info@openmined.org\", password=\"changethis\", url=\"http://40.83.192.48\", port=80)"
   ]
  },
  {
   "cell_type": "code",
   "execution_count": 80,
   "id": "b18b017a-e92a-4d16-9a39-c1d924e5d238",
   "metadata": {},
   "outputs": [
    {
     "name": "stdout",
     "output_type": "stream",
     "text": [
      "🔌 <NetworkClient: cool_schmidhuber> successfully connected to the VPN: http://40.83.192.48:80\n"
     ]
    }
   ],
   "source": [
    "network_root.join_network(host_or_ip=NETWORK_PUBLIC_HOST)"
   ]
  },
  {
   "cell_type": "code",
   "execution_count": 84,
   "id": "caaeef07-78dd-44c4-a680-f516705337b7",
   "metadata": {},
   "outputs": [],
   "source": [
    "vpn_s = network_root.vpn_status()"
   ]
  },
  {
   "cell_type": "code",
   "execution_count": 85,
   "id": "99a46a56-9a0d-4325-bd10-36090990d9ab",
   "metadata": {},
   "outputs": [
    {
     "data": {
      "text/plain": [
       "{'status': 'ok',\n",
       " 'connected': True,\n",
       " 'host': {'ip': '100.64.0.1',\n",
       "  'hostname': 'opengrid',\n",
       "  'network': 'omnet',\n",
       "  'os': 'linux',\n",
       "  'connection_info': '-',\n",
       "  'connection_status': 'n/a',\n",
       "  'connection_type': 'n/a'},\n",
       " 'peers': []}"
      ]
     },
     "execution_count": 85,
     "metadata": {},
     "output_type": "execute_result"
    }
   ],
   "source": [
    "vpn_s"
   ]
  },
  {
   "cell_type": "code",
   "execution_count": 73,
   "id": "b84cbf5f-9ca7-42c4-87d8-580d64e069b1",
   "metadata": {},
   "outputs": [
    {
     "data": {
      "text/plain": [
       "{'status': 'ok',\n",
       " 'connected': True,\n",
       " 'host': {'ip': '100.64.0.1',\n",
       "  'hostname': 'competent_salakhutdinov',\n",
       "  'network': 'omnet',\n",
       "  'os': 'linux',\n",
       "  'connection_info': '-',\n",
       "  'connection_status': 'n/a',\n",
       "  'connection_type': 'n/a'},\n",
       " 'peers': []}"
      ]
     },
     "execution_count": 73,
     "metadata": {},
     "output_type": "execute_result"
    }
   ],
   "source": [
    "network_root.vpn_status()"
   ]
  },
  {
   "cell_type": "code",
   "execution_count": 72,
   "id": "a4487931-9217-4cd4-af1d-7290e1a8b9f4",
   "metadata": {},
   "outputs": [
    {
     "data": {
      "text/plain": [
       "True"
      ]
     },
     "execution_count": 72,
     "metadata": {},
     "output_type": "execute_result"
    }
   ],
   "source": []
  },
  {
   "cell_type": "code",
   "execution_count": 56,
   "id": "6e2503d7-4262-47b2-8bd5-5afaee387184",
   "metadata": {},
   "outputs": [
    {
     "name": "stdout",
     "output_type": "stream",
     "text": [
      "My public IP address is: 82.6.186.216\n"
     ]
    }
   ],
   "source": [
    "from requests import get\n",
    "\n",
    "ip = get('https://api.ipify.org').content.decode('utf8')\n",
    "print('My public IP address is: {}'.format(ip))"
   ]
  },
  {
   "cell_type": "markdown",
   "id": "adf31d7b-d9bd-4907-8549-5bc861755782",
   "metadata": {},
   "source": [
    "# Domain Applies to Network"
   ]
  },
  {
   "cell_type": "code",
   "execution_count": 3,
   "id": "835b4012-3268-4cdd-b326-243a50574a7b",
   "metadata": {},
   "outputs": [],
   "source": [
    "import syft as sy"
   ]
  },
  {
   "cell_type": "code",
   "execution_count": 91,
   "id": "1b848a73-6d05-476b-9450-b9b422cd5ee3",
   "metadata": {},
   "outputs": [],
   "source": [
    "NETWORK_HOST_IP = \"localhost:8081\""
   ]
  },
  {
   "cell_type": "code",
   "execution_count": 13,
   "id": "19e8e72e-6824-4b77-a9d5-29d4f5237db2",
   "metadata": {},
   "outputs": [
    {
     "name": "stdout",
     "output_type": "stream",
     "text": [
      "WARNING: CHANGE YOUR USERNAME AND PASSWORD!!! \n",
      "\n",
      "Anyone can login as an admin to your node right now because your password is still the default PySyft username and password!!!\n",
      "\n",
      "Connecting to http://localhost:8082... done! \t Logging into elegant_mironov... done!\n"
     ]
    }
   ],
   "source": [
    "domain = sy.login(email=\"info@openmined.org\", password=\"changethis\", port=8082)"
   ]
  },
  {
   "cell_type": "code",
   "execution_count": 16,
   "id": "80f003f1-8b3c-4eb0-a0b9-ca69aa90104a",
   "metadata": {},
   "outputs": [],
   "source": [
    "NETWORK_PUBLIC_HOST = \"http://localhost:8081\""
   ]
  },
  {
   "cell_type": "code",
   "execution_count": 18,
   "id": "4fce8e18-e857-4376-b487-657e4f4236a7",
   "metadata": {},
   "outputs": [],
   "source": [
    "NETWORK_HOST_IP=\"localhost\"\n",
    "NETWORK_HOST_PORT=8081\n",
    "NETWORK_PUBLIC_HOST=\"http://\"+NETWORK_HOST_IP+\":\"+str(80)"
   ]
  },
  {
   "cell_type": "code",
   "execution_count": 19,
   "id": "697aa5f7-62cd-485d-8925-747baab3df96",
   "metadata": {},
   "outputs": [
    {
     "name": "stdout",
     "output_type": "stream",
     "text": [
      "Unable to json decode message. Expecting value: line 1 column 1 (char 0)\n",
      "Failed to join network with http://localhost:80. Expecting value: line 1 column 1 (char 0)\n"
     ]
    }
   ],
   "source": [
    "domain.join_network(host_or_ip=NETWORK_PUBLIC_HOST)"
   ]
  },
  {
   "cell_type": "code",
   "execution_count": null,
   "id": "a152d1b7-8b4d-4e64-8322-954633f231b3",
   "metadata": {},
   "outputs": [
    {
     "data": {
      "text/plain": [
       "{'status': 'ok',\n",
       " 'connected': True,\n",
       " 'host': {'ip': '100.64.0.2',\n",
       "  'hostname': 'test_domain_1',\n",
       "  'network': 'omnet',\n",
       "  'os': 'linux',\n",
       "  'connection_info': '-',\n",
       "  'connection_status': 'n/a',\n",
       "  'connection_type': 'n/a'},\n",
       " 'peers': [{'ip': '100.64.0.1',\n",
       "   'hostname': 'test_network_1',\n",
       "   'network': 'omnet',\n",
       "   'os': 'linux',\n",
       "   'connection_info': '-',\n",
       "   'connection_status': 'n/a',\n",
       "   'connection_type': 'n/a'}]}"
      ]
     },
     "execution_count": 9,
     "metadata": {},
     "output_type": "execute_result"
    }
   ],
   "source": [
    "domain.vpn_status()"
   ]
  },
  {
   "cell_type": "code",
   "execution_count": null,
   "id": "0d2459eb-e3ec-4db3-b612-ecbf0fbe99ea",
   "metadata": {},
   "outputs": [],
   "source": [
    "domain.apply_to_network(domain_vpn_ip=\"100.64.0.2\", network_vpn_ip=\"100.64.0.1\")"
   ]
  },
  {
   "cell_type": "markdown",
   "id": "fbe46d1d-0ded-48aa-9dd6-5612f142ddd6",
   "metadata": {},
   "source": [
    "# Network Approves Domain Application"
   ]
  },
  {
   "cell_type": "code",
   "execution_count": null,
   "id": "165c90ba-5ac6-4690-a551-e77d0b8462dd",
   "metadata": {},
   "outputs": [
    {
     "data": {
      "text/html": [
       "<div>\n",
       "<style scoped>\n",
       "    .dataframe tbody tr th:only-of-type {\n",
       "        vertical-align: middle;\n",
       "    }\n",
       "\n",
       "    .dataframe tbody tr th {\n",
       "        vertical-align: top;\n",
       "    }\n",
       "\n",
       "    .dataframe thead th {\n",
       "        text-align: right;\n",
       "    }\n",
       "</style>\n",
       "<table border=\"1\" class=\"dataframe\">\n",
       "  <thead>\n",
       "    <tr style=\"text-align: right;\">\n",
       "      <th></th>\n",
       "      <th>requested_date</th>\n",
       "      <th>node_name</th>\n",
       "      <th>target</th>\n",
       "      <th>source</th>\n",
       "      <th>reason</th>\n",
       "      <th>status</th>\n",
       "      <th>name</th>\n",
       "      <th>node_address</th>\n",
       "      <th>email</th>\n",
       "      <th>association_id</th>\n",
       "    </tr>\n",
       "  </thead>\n",
       "  <tbody>\n",
       "    <tr>\n",
       "      <th>0</th>\n",
       "      <td>10/28/2021</td>\n",
       "      <td>test_domain_1</td>\n",
       "      <td>100.64.0.1</td>\n",
       "      <td>100.64.0.2</td>\n",
       "      <td></td>\n",
       "      <td>PENDING</td>\n",
       "      <td></td>\n",
       "      <td>67aa010b165842598afa9897e8b47c8a</td>\n",
       "      <td></td>\n",
       "      <td>1</td>\n",
       "    </tr>\n",
       "  </tbody>\n",
       "</table>\n",
       "</div>"
      ],
      "text/plain": [
       "  requested_date      node_name      target      source reason   status name  \\\n",
       "0     10/28/2021  test_domain_1  100.64.0.1  100.64.0.2         PENDING        \n",
       "\n",
       "                       node_address email association_id  \n",
       "0  67aa010b165842598afa9897e8b47c8a                    1  "
      ]
     },
     "execution_count": 12,
     "metadata": {},
     "output_type": "execute_result"
    }
   ],
   "source": [
    "network_root.association.pandas()"
   ]
  },
  {
   "cell_type": "code",
   "execution_count": null,
   "id": "c362fbe2-c7c8-41b7-8744-74471bdee510",
   "metadata": {},
   "outputs": [],
   "source": [
    "request_id = int(network_root.association.all()[0][\"association_id\"])"
   ]
  },
  {
   "cell_type": "code",
   "execution_count": null,
   "id": "49c0836a-8869-4299-a050-30f85346c7ce",
   "metadata": {},
   "outputs": [
    {
     "data": {
      "text/plain": [
       "<SuccessResponseMessage: 2266581c58f74e6b9028dea971dcefe1>"
      ]
     },
     "execution_count": 20,
     "metadata": {},
     "output_type": "execute_result"
    }
   ],
   "source": [
    "network_root.association[1].accept()"
   ]
  },
  {
   "cell_type": "markdown",
   "id": "ac1595dc-79a4-4c46-8931-b3eb63055a97",
   "metadata": {},
   "source": [
    "# Domain Owner Uploads Some Data"
   ]
  },
  {
   "cell_type": "code",
   "execution_count": null,
   "id": "c9a7e386-cfcf-42eb-b638-fd40f6e3eef2",
   "metadata": {},
   "outputs": [],
   "source": [
    "import numpy as np"
   ]
  },
  {
   "cell_type": "code",
   "execution_count": null,
   "id": "93830353-6906-487c-9a47-05a3b00393f9",
   "metadata": {},
   "outputs": [],
   "source": [
    "data = sy.Tensor([1,2,3,4,5]).annotate_with_dp_metadata(lower_bound=0, upper_bound=5, entities=\"bob\")"
   ]
  },
  {
   "cell_type": "code",
   "execution_count": null,
   "id": "2149e762-683a-4c26-a8e2-8873fa180ec4",
   "metadata": {},
   "outputs": [
    {
     "name": "stdout",
     "output_type": "stream",
     "text": [
      "Loading dataset... uploading... SUCCESS!                                                                                                                                      \n",
      "\n",
      "Run <your client variable>.datasets to see your new dataset loaded into your machine!\n"
     ]
    }
   ],
   "source": [
    "domain.load_dataset(assets={\"january\":data},\n",
    "                   name=\"Temporal Data\",\n",
    "                   description=\"Some data from january.\")"
   ]
  },
  {
   "cell_type": "code",
   "execution_count": null,
   "id": "f286e463-7256-499d-bfd1-08773cba8f3c",
   "metadata": {},
   "outputs": [
    {
     "data": {
      "text/html": [
       "<style>\n",
       "                #myInput {\n",
       "                  background-position: 10px 12px; /* Position the search icon */\n",
       "                  background-repeat: no-repeat; /* Do not repeat the icon image */\n",
       "                  background-color: #bbb;\n",
       "                  width: 98%; /* Full-width */\n",
       "                  font-size: 14px; /* Increase font-size */\n",
       "                  padding: 12px 20px 12px 40px; /* Add some padding */\n",
       "                  border: 1px solid #ddd; /* Add a grey border */\n",
       "                  margin-bottom: 12px; /* Add some space below the input */\n",
       "                }\n",
       "\n",
       "                #myTable {\n",
       "                  border-collapse: collapse; /* Collapse borders */\n",
       "                  width: 100%; /* Full-width */\n",
       "                  border: 1px solid #ddd; /* Add a grey border */\n",
       "                  font-size: 14px; /* Increase font-size */\n",
       "                }\n",
       "\n",
       "                #myTable th, #myTable td {\n",
       "                  text-align: left; /* Left-align text */\n",
       "                  padding: 10px; /* Add padding */\n",
       "                }\n",
       "\n",
       "                #myTable tr {\n",
       "                  /* Add a bottom border to all table rows */\n",
       "                  border-bottom: 1px solid #ddd;\n",
       "                }\n",
       "\n",
       "                #myTable tr.header, #myTable tr:hover {\n",
       "                  /* Add a grey background color to the table header and on hover */\n",
       "                  background-color: #777;\n",
       "                }\n",
       "                </style>\n",
       "\n",
       "                <input type=\"text\" id=\"myInput\" onkeyup=\"myFunction()\" placeholder=\"Search for datasets..\">\n",
       "\n",
       "                <table id=\"myTable\">\n",
       "                  <tr class=\"header\">\n",
       "                    <th style=\"width:30px\">Idx</th>\n",
       "                    <th style=\"width:20%;\">Name</th>\n",
       "                    <th style=\"width:35%;\">Description</th>\n",
       "                    <th style=\"width:20%;\">Assets</th>\n",
       "                    <th style=\"width:300px;\">Id</th>\n",
       "                  </tr>\n",
       "                \n",
       "\n",
       "          <tr>\n",
       "            <td>[0]</td>\n",
       "            <td>Temporal Data</td>\n",
       "            <td>Some data from january.</td>\n",
       "            <td>[\"january\"] -> Tensor<br /><br /></td>\n",
       "            <td>dd840018-0f67-463a-8d0b-1059ae880a64</td>\n",
       "          </tr>\n",
       "        </table>\n",
       "\n",
       "        <script>\n",
       "        function myFunction() {\n",
       "          // Declare variables\n",
       "          var input, filter, table, tr, td, i, txtValue;\n",
       "          input = document.getElementById(\"myInput\");\n",
       "          filter = input.value.toUpperCase();\n",
       "          table = document.getElementById(\"myTable\");\n",
       "          tr = table.getElementsByTagName(\"tr\");\n",
       "\n",
       "          // Loop through all table rows, and hide those who don't match the search query\n",
       "          for (i = 0; i < tr.length; i++) {\n",
       "            name_td = tr[i].getElementsByTagName(\"td\")[1];\n",
       "            desc_td = tr[i].getElementsByTagName(\"td\")[2];\n",
       "            asset_td = tr[i].getElementsByTagName(\"td\")[3];\n",
       "            id_td = tr[i].getElementsByTagName(\"td\")[4];\n",
       "            if (name_td || desc_td || asset_td || id_td) {\n",
       "              name_txtValue = name_td.textContent || name_td.innerText;\n",
       "              desc_txtValue = desc_td.textContent || name_td.innerText;\n",
       "              asset_txtValue = asset_td.textContent || name_td.innerText;\n",
       "              id_txtValue = id_td.textContent || name_td.innerText;\n",
       "              name_bool = name_txtValue.toUpperCase().indexOf(filter) > -1;\n",
       "              desc_bool = desc_txtValue.toUpperCase().indexOf(filter) > -1;\n",
       "              asset_bool = asset_txtValue.toUpperCase().indexOf(filter) > -1;\n",
       "              id_bool = id_txtValue.toUpperCase().indexOf(filter) > -1;\n",
       "              if (name_bool || desc_bool || asset_bool || id_bool) {\n",
       "                tr[i].style.display = \"\";\n",
       "              } else {\n",
       "                tr[i].style.display = \"none\";\n",
       "              }\n",
       "            }\n",
       "          }\n",
       "        }\n",
       "        </script>"
      ],
      "text/plain": [
       "<syft.core.node.common.client_manager.dataset_api.DatasetRequestAPI at 0x7fbbc0d00af0>"
      ]
     },
     "execution_count": 36,
     "metadata": {},
     "output_type": "execute_result"
    }
   ],
   "source": [
    "domain.datasets"
   ]
  },
  {
   "cell_type": "markdown",
   "id": "93a5f5c5-7645-4ace-a5b3-31976a12e6f1",
   "metadata": {},
   "source": [
    "# Data Scientist "
   ]
  }
 ],
 "metadata": {
  "kernelspec": {
   "display_name": "Python 3 (ipykernel)",
   "language": "python",
   "name": "python3"
  },
  "language_info": {
   "codemirror_mode": {
    "name": "ipython",
    "version": 3
   },
   "file_extension": ".py",
   "mimetype": "text/x-python",
   "name": "python",
   "nbconvert_exporter": "python",
   "pygments_lexer": "ipython3",
   "version": "3.9.7"
  }
 },
 "nbformat": 4,
 "nbformat_minor": 5
}

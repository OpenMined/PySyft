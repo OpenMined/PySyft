{
 "cells": [
  {
   "cell_type": "code",
   "execution_count": 1,
   "id": "4c3f5c2e-cf1b-4886-a85f-f72ee9b9339b",
   "metadata": {},
   "outputs": [],
   "source": [
    "import syft as sy\n",
    "import numpy as np"
   ]
  },
  {
   "cell_type": "code",
   "execution_count": 2,
   "id": "2b386451-2d89-488d-8754-fa31a7ec3e31",
   "metadata": {},
   "outputs": [
    {
     "name": "stdout",
     "output_type": "stream",
     "text": [
      "WARNING: CHANGE YOUR USERNAME AND PASSWORD!!! \n",
      "\n",
      "Anyone can login as an admin to your node right now because your password is still the default PySyft username and password!!!\n",
      "\n",
      "Connecting to http://localhost:8081... done! \t Logging into dazzling_sophia... done!\n"
     ]
    }
   ],
   "source": [
    "domain = sy.login(email=\"info@openmined.org\", password=\"changethis\", port=8081)"
   ]
  },
  {
   "cell_type": "code",
   "execution_count": 3,
   "id": "3f6f63a6-6726-4855-afb3-8520a3d05483",
   "metadata": {},
   "outputs": [],
   "source": [
    "import torch as th"
   ]
  },
  {
   "cell_type": "code",
   "execution_count": 4,
   "id": "084bcfc1-a72e-4f31-b516-a7c14eb66647",
   "metadata": {},
   "outputs": [],
   "source": [
    "x = th.tensor([1,2,3,4])"
   ]
  },
  {
   "cell_type": "code",
   "execution_count": 5,
   "id": "44ee35b5-acc1-408f-ac40-5f853ca73b5d",
   "metadata": {},
   "outputs": [
    {
     "name": "stdout",
     "output_type": "stream",
     "text": [
      "Loading dataset... checking asset types...                                                                                                                                    "
     ]
    },
    {
     "ename": "Exception",
     "evalue": "ERROR: all private assets must be NumPy ndarray.int32 assets with proper Differential Privacy metadata applied.\n\nExample: syft.Tensor(np.ndarray([1,2,3,4]).astype(np.int32)).annotate_with_dp_metadata()\n\nor\n\nExample: syft.Tensor([1,2,3,4]).annotate_with_dp_metadata()\n\nand then follow the wizard. 🧙",
     "output_type": "error",
     "traceback": [
      "\u001b[0;31m---------------------------------------------------------------------------\u001b[0m",
      "\u001b[0;31mException\u001b[0m                                 Traceback (most recent call last)",
      "\u001b[0;32m/var/folders/d5/5rsdwt8n28l9r0h_pjnp57nw0000gn/T/ipykernel_69016/2059264155.py\u001b[0m in \u001b[0;36m<module>\u001b[0;34m\u001b[0m\n\u001b[0;32m----> 1\u001b[0;31m \u001b[0mdomain\u001b[0m\u001b[0;34m.\u001b[0m\u001b[0mload_dataset\u001b[0m\u001b[0;34m(\u001b[0m\u001b[0mname\u001b[0m\u001b[0;34m=\u001b[0m\u001b[0;34m\"My Dataset\"\u001b[0m\u001b[0;34m,\u001b[0m \u001b[0mdescription\u001b[0m\u001b[0;34m=\u001b[0m\u001b[0;34m\"asdf\"\u001b[0m\u001b[0;34m,\u001b[0m \u001b[0massets\u001b[0m\u001b[0;34m=\u001b[0m\u001b[0;34m{\u001b[0m\u001b[0;34m\"blob\"\u001b[0m\u001b[0;34m:\u001b[0m\u001b[0mx\u001b[0m\u001b[0;34m}\u001b[0m\u001b[0;34m)\u001b[0m\u001b[0;34m\u001b[0m\u001b[0;34m\u001b[0m\u001b[0m\n\u001b[0m",
      "\u001b[0;32m~/Laboratory/PySyft/packages/syft/src/syft/core/node/domain/client.py\u001b[0m in \u001b[0;36mload_dataset\u001b[0;34m(self, assets, name, description, skip_checks, **metadata)\u001b[0m\n\u001b[1;32m    616\u001b[0m                     \u001b[0mgetattr\u001b[0m\u001b[0;34m(\u001b[0m\u001b[0masset\u001b[0m\u001b[0;34m,\u001b[0m \u001b[0;34m\"child\"\u001b[0m\u001b[0;34m,\u001b[0m \u001b[0;32mNone\u001b[0m\u001b[0;34m)\u001b[0m\u001b[0;34m,\u001b[0m \u001b[0mADPTensor\u001b[0m\u001b[0;34m\u001b[0m\u001b[0;34m\u001b[0m\u001b[0m\n\u001b[1;32m    617\u001b[0m                 ):\n\u001b[0;32m--> 618\u001b[0;31m                     raise Exception(\n\u001b[0m\u001b[1;32m    619\u001b[0m                         \u001b[0;34m\"ERROR: all private assets must be NumPy ndarray.int32 assets \"\u001b[0m\u001b[0;34m\u001b[0m\u001b[0;34m\u001b[0m\u001b[0m\n\u001b[1;32m    620\u001b[0m                         \u001b[0;34m+\u001b[0m \u001b[0;34m\"with proper Differential Privacy metadata applied.\\n\"\u001b[0m\u001b[0;34m\u001b[0m\u001b[0;34m\u001b[0m\u001b[0m\n",
      "\u001b[0;31mException\u001b[0m: ERROR: all private assets must be NumPy ndarray.int32 assets with proper Differential Privacy metadata applied.\n\nExample: syft.Tensor(np.ndarray([1,2,3,4]).astype(np.int32)).annotate_with_dp_metadata()\n\nor\n\nExample: syft.Tensor([1,2,3,4]).annotate_with_dp_metadata()\n\nand then follow the wizard. 🧙"
     ]
    }
   ],
   "source": [
    "domain.load_dataset(name=\"My Dataset\", description=\"asdf\", assets={\"blob\":x})"
   ]
  },
  {
   "cell_type": "code",
   "execution_count": null,
   "id": "796e3cb7-69dd-4783-badb-cb799cb270f8",
   "metadata": {},
   "outputs": [],
   "source": []
  },
  {
   "cell_type": "code",
   "execution_count": 26,
   "id": "18303dfa-f0c1-4203-bf26-20c9840ca285",
   "metadata": {},
   "outputs": [],
   "source": [
    "a = sy.Tensor([1,2,3,4]).annotate_with_dp_metadata(lower_bound=0, upper_bound=5, entities=\"bob\").gamma"
   ]
  },
  {
   "cell_type": "code",
   "execution_count": 27,
   "id": "985da774-0024-4e39-9050-901f2713d71f",
   "metadata": {},
   "outputs": [],
   "source": [
    "b = sy.Tensor([1,2,3,4]).annotate_with_dp_metadata(lower_bound=0, upper_bound=5, entities=\"bill\").gamma"
   ]
  },
  {
   "cell_type": "code",
   "execution_count": 28,
   "id": "70ba2c58-8447-4342-b1f9-70c8d288180a",
   "metadata": {},
   "outputs": [],
   "source": [
    "asm = a.child.scalar_manager"
   ]
  },
  {
   "cell_type": "code",
   "execution_count": 29,
   "id": "934cd64a-a2da-4956-a0a8-fe33c13050b1",
   "metadata": {},
   "outputs": [],
   "source": [
    "bsm = b.child.scalar_manager"
   ]
  },
  {
   "cell_type": "code",
   "execution_count": 31,
   "id": "ef34b3a5-ff63-47e3-b063-fac499a271aa",
   "metadata": {},
   "outputs": [
    {
     "data": {
      "text/plain": [
       "{2: <GammaScalar: ( < 1.0 < )>,\n",
       " 3: <GammaScalar: ( < 2.0 < )>,\n",
       " 5: <GammaScalar: ( < 3.0 < )>,\n",
       " 7: <GammaScalar: ( < 4.0 < )>}"
      ]
     },
     "execution_count": 31,
     "metadata": {},
     "output_type": "execute_result"
    }
   ],
   "source": [
    "asm.prime2symbol"
   ]
  },
  {
   "cell_type": "code",
   "execution_count": 32,
   "id": "64933279-c153-4254-91bf-dba045fedc36",
   "metadata": {},
   "outputs": [
    {
     "data": {
      "text/plain": [
       "{2: <GammaScalar: ( < 1.0 < )>,\n",
       " 3: <GammaScalar: ( < 2.0 < )>,\n",
       " 5: <GammaScalar: ( < 3.0 < )>,\n",
       " 7: <GammaScalar: ( < 4.0 < )>}"
      ]
     },
     "execution_count": 32,
     "metadata": {},
     "output_type": "execute_result"
    }
   ],
   "source": [
    "bsm.prime2symbol"
   ]
  },
  {
   "cell_type": "code",
   "execution_count": 33,
   "id": "9b855594-eba4-49de-944f-9b9ed2d402de",
   "metadata": {},
   "outputs": [
    {
     "data": {
      "text/plain": [
       "False"
      ]
     },
     "execution_count": 33,
     "metadata": {},
     "output_type": "execute_result"
    }
   ],
   "source": [
    "asm.prime2symbol[2] == bsm.prime2symbol[2]"
   ]
  },
  {
   "cell_type": "code",
   "execution_count": 23,
   "id": "b6f2c540-3d90-4379-a2d6-77480f39784a",
   "metadata": {},
   "outputs": [
    {
     "data": {
      "text/plain": [
       "{2: <GammaScalar: ( < 1.0 < )>,\n",
       " 3: <GammaScalar: ( < 2.0 < )>,\n",
       " 5: <GammaScalar: ( < 3.0 < )>,\n",
       " 7: <GammaScalar: ( < 4.0 < )>}"
      ]
     },
     "execution_count": 23,
     "metadata": {},
     "output_type": "execute_result"
    }
   ],
   "source": [
    "bsm.prime2symbol"
   ]
  },
  {
   "cell_type": "code",
   "execution_count": 8,
   "id": "8c5ea741-366e-4af2-b6c1-ee9e2fcdc735",
   "metadata": {},
   "outputs": [
    {
     "ename": "Exception",
     "evalue": "Cannot add two tensors with different symbol encodings",
     "output_type": "error",
     "traceback": [
      "\u001b[0;31m---------------------------------------------------------------------------\u001b[0m",
      "\u001b[0;31mException\u001b[0m                                 Traceback (most recent call last)",
      "\u001b[0;32m/var/folders/d5/5rsdwt8n28l9r0h_pjnp57nw0000gn/T/ipykernel_17056/2608517809.py\u001b[0m in \u001b[0;36m<module>\u001b[0;34m\u001b[0m\n\u001b[0;32m----> 1\u001b[0;31m \u001b[0mc\u001b[0m \u001b[0;34m=\u001b[0m \u001b[0ma\u001b[0m \u001b[0;34m+\u001b[0m \u001b[0mb\u001b[0m\u001b[0;34m\u001b[0m\u001b[0;34m\u001b[0m\u001b[0m\n\u001b[0m",
      "\u001b[0;32m~/Laboratory/PySyft/packages/syft/src/syft/core/tensor/passthrough.py\u001b[0m in \u001b[0;36m__add__\u001b[0;34m(self, other)\u001b[0m\n\u001b[1;32m    125\u001b[0m         \u001b[0;32mif\u001b[0m \u001b[0mis_acceptable_simple_type\u001b[0m\u001b[0;34m(\u001b[0m\u001b[0mother\u001b[0m\u001b[0;34m)\u001b[0m\u001b[0;34m:\u001b[0m\u001b[0;34m\u001b[0m\u001b[0;34m\u001b[0m\u001b[0m\n\u001b[1;32m    126\u001b[0m             \u001b[0;32mreturn\u001b[0m \u001b[0mself\u001b[0m\u001b[0;34m.\u001b[0m\u001b[0m__class__\u001b[0m\u001b[0;34m(\u001b[0m\u001b[0mself\u001b[0m\u001b[0;34m.\u001b[0m\u001b[0mchild\u001b[0m \u001b[0;34m+\u001b[0m \u001b[0mother\u001b[0m\u001b[0;34m)\u001b[0m\u001b[0;34m\u001b[0m\u001b[0;34m\u001b[0m\u001b[0m\n\u001b[0;32m--> 127\u001b[0;31m         \u001b[0;32mreturn\u001b[0m \u001b[0mself\u001b[0m\u001b[0;34m.\u001b[0m\u001b[0m__class__\u001b[0m\u001b[0;34m(\u001b[0m\u001b[0mself\u001b[0m\u001b[0;34m.\u001b[0m\u001b[0mchild\u001b[0m \u001b[0;34m+\u001b[0m \u001b[0mother\u001b[0m\u001b[0;34m.\u001b[0m\u001b[0mchild\u001b[0m\u001b[0;34m)\u001b[0m\u001b[0;34m\u001b[0m\u001b[0;34m\u001b[0m\u001b[0m\n\u001b[0m\u001b[1;32m    128\u001b[0m \u001b[0;34m\u001b[0m\u001b[0m\n\u001b[1;32m    129\u001b[0m     \u001b[0;32mdef\u001b[0m \u001b[0m__radd__\u001b[0m\u001b[0;34m(\u001b[0m\u001b[0mself\u001b[0m\u001b[0;34m,\u001b[0m \u001b[0mother\u001b[0m\u001b[0;34m)\u001b[0m \u001b[0;34m->\u001b[0m \u001b[0mPassthroughTensor\u001b[0m\u001b[0;34m:\u001b[0m\u001b[0;34m\u001b[0m\u001b[0;34m\u001b[0m\u001b[0m\n",
      "\u001b[0;32m~/Laboratory/PySyft/packages/syft/src/syft/core/tensor/autodp/intermediate_gamma.py\u001b[0m in \u001b[0;36m__add__\u001b[0;34m(self, other)\u001b[0m\n\u001b[1;32m    531\u001b[0m             \u001b[0;32mif\u001b[0m \u001b[0mself\u001b[0m\u001b[0;34m.\u001b[0m\u001b[0mscalar_manager\u001b[0m \u001b[0;34m!=\u001b[0m \u001b[0mother\u001b[0m\u001b[0;34m.\u001b[0m\u001b[0mscalar_manager\u001b[0m\u001b[0;34m:\u001b[0m\u001b[0;34m\u001b[0m\u001b[0;34m\u001b[0m\u001b[0m\n\u001b[1;32m    532\u001b[0m                 \u001b[0;31m# TODO: come up with a method for combining symbol factories\u001b[0m\u001b[0;34m\u001b[0m\u001b[0;34m\u001b[0m\u001b[0m\n\u001b[0;32m--> 533\u001b[0;31m                 raise Exception(\n\u001b[0m\u001b[1;32m    534\u001b[0m                     \u001b[0;34m\"Cannot add two tensors with different symbol encodings\"\u001b[0m\u001b[0;34m\u001b[0m\u001b[0;34m\u001b[0m\u001b[0m\n\u001b[1;32m    535\u001b[0m                 )\n",
      "\u001b[0;31mException\u001b[0m: Cannot add two tensors with different symbol encodings"
     ]
    }
   ],
   "source": [
    "c = a + b"
   ]
  },
  {
   "cell_type": "code",
   "execution_count": 9,
   "id": "38fd21c1-8a6b-459d-b2a8-c9696c421071",
   "metadata": {},
   "outputs": [],
   "source": [
    "from syft.core.adp.vm_private_scalar_manager import VirtualMachinePrivateScalarManager"
   ]
  },
  {
   "cell_type": "code",
   "execution_count": null,
   "id": "7cab14e4-4c97-4e4e-b357-383831c15e89",
   "metadata": {},
   "outputs": [],
   "source": []
  }
 ],
 "metadata": {
  "kernelspec": {
   "display_name": "Python 3 (ipykernel)",
   "language": "python",
   "name": "python3"
  },
  "language_info": {
   "codemirror_mode": {
    "name": "ipython",
    "version": 3
   },
   "file_extension": ".py",
   "mimetype": "text/x-python",
   "name": "python",
   "nbconvert_exporter": "python",
   "pygments_lexer": "ipython3",
   "version": "3.9.7"
  }
 },
 "nbformat": 4,
 "nbformat_minor": 5
}

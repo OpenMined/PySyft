{
 "cells": [
  {
   "cell_type": "code",
   "execution_count": 1,
   "id": "bd04d5a5-3e60-4398-8a83-7ed3dfad5944",
   "metadata": {},
   "outputs": [],
   "source": [
    "import syft as sy\n",
    "import numpy as np\n",
    "from sqlalchemy import create_engine\n",
    "from syft.core.node.common.node_table import Base\n",
    "from nacl.encoding import HexEncoder\n",
    "from nacl.signing import SigningKey\n",
    "from syft.core.adp.scalar.gamma_scalar import GammaScalar\n",
    "from syft.core.tensor.autodp.initial_gamma import InitialGammaTensor\n",
    "from syft.core.tensor.autodp.intermediate_gamma import IntermediateGammaTensor\n",
    "from syft.core.adp.entity import DataSubject\n",
    "from syft.core.adp.entity import DataSubjectGroup\n",
    "from syft.core.adp.adversarial_accountant import AdversarialAccountant"
   ]
  },
  {
   "cell_type": "code",
   "execution_count": 2,
   "id": "1cc1b3e2-0a80-4f4b-b3c6-eaa0711dad38",
   "metadata": {},
   "outputs": [],
   "source": [
    "from syft.core.io.virtual import create_virtual_connection"
   ]
  },
  {
   "cell_type": "code",
   "execution_count": 3,
   "id": "2d0108ef-75db-47d3-bd9d-17d591bfaee5",
   "metadata": {},
   "outputs": [
    {
     "name": "stdout",
     "output_type": "stream",
     "text": [
      "Setup hasnt run yet so ignoring set_node_uid\n",
      "Performing initial setup...\n"
     ]
    }
   ],
   "source": [
    "alice = sy.Domain(\"alice\").initial_setup()"
   ]
  },
  {
   "cell_type": "code",
   "execution_count": 4,
   "id": "4c9e6441-cdd7-4480-a671-95364b1f7738",
   "metadata": {},
   "outputs": [],
   "source": [
    "child = np.array([1,2,3,4], dtype=np.int32)"
   ]
  },
  {
   "cell_type": "code",
   "execution_count": 5,
   "id": "74a25110-6ecd-41c5-9ac9-b3451951d67d",
   "metadata": {},
   "outputs": [],
   "source": [
    "traskmaster = DataSubject(name=\"Andrew\")\n",
    "amber = DataSubject(name=\"Amber\")\n",
    "DSG = DataSubjectGroup([traskmaster, amber])"
   ]
  },
  {
   "cell_type": "code",
   "execution_count": 6,
   "id": "cfbe1fa8-f8d3-493b-82b9-eb2b236ed1c3",
   "metadata": {
    "tags": []
   },
   "outputs": [
    {
     "data": {
      "text/plain": [
       "array([1, 1, 1, 1], dtype=object)"
      ]
     },
     "execution_count": 6,
     "metadata": {},
     "output_type": "execute_result"
    }
   ],
   "source": [
    "np.array(np.ones_like(child), dtype=object)"
   ]
  },
  {
   "cell_type": "code",
   "execution_count": 7,
   "id": "1961c484-cc9d-411a-93f3-6961d16db0b7",
   "metadata": {},
   "outputs": [],
   "source": [
    "ent1 = np.array([traskmaster, traskmaster, traskmaster, traskmaster], dtype=object)\n",
    "ent2 = np.array([amber, amber, amber, amber], dtype=object)"
   ]
  },
  {
   "cell_type": "code",
   "execution_count": 8,
   "id": "dbc2d5d1-3ad1-465e-8166-30012329e1df",
   "metadata": {},
   "outputs": [],
   "source": [
    "# gs = GammaScalar(min_val=0, max_val=5, value=3, prime=13, entity=traskmaster)\n",
    "tensor1 = InitialGammaTensor(values=child, min_vals=np.zeros_like(child), max_vals=np.ones_like(child) * 5, entities=ent1)\n",
    "tensor2 = InitialGammaTensor(values=child, min_vals=np.zeros_like(child), max_vals=np.ones_like(child)* 5, entities=ent2)\n",
    "# tensor = tensor1 + tensor2"
   ]
  },
  {
   "cell_type": "code",
   "execution_count": 9,
   "id": "fa51db77-ba1b-4d26-b5d0-973104f52ee5",
   "metadata": {},
   "outputs": [
    {
     "name": "stdout",
     "output_type": "stream",
     "text": [
      "\n",
      "\n",
      "Has Budget:True\n",
      "YOU'VE SPENT:0.8999352676606419\n",
      "USER BUDGET:5.55\n"
     ]
    },
    {
     "name": "stderr",
     "output_type": "stream",
     "text": [
      "/home/e/.local/lib/python3.8/site-packages/scipy/optimize/optimize.py:2621: RuntimeWarning: invalid value encountered in double_scalars\n",
      "  w = xb - ((xb - xc) * tmp2 - (xb - xa) * tmp1) / denom\n"
     ]
    },
    {
     "data": {
      "text/plain": [
       "array([29.73152495,  9.96225715,  8.66883525, 81.9941811 ])"
      ]
     },
     "execution_count": 9,
     "metadata": {},
     "output_type": "execute_result"
    }
   ],
   "source": [
    "tensor1.publish(sigma=50, acc=alice.acc, user_key=alice.verify_key)"
   ]
  },
  {
   "cell_type": "code",
   "execution_count": 10,
   "id": "360e135d-a9dd-4173-b8af-eefa36e17582",
   "metadata": {},
   "outputs": [
    {
     "name": "stdout",
     "output_type": "stream",
     "text": [
      "Andrew\t0.8999352676606419\n"
     ]
    }
   ],
   "source": [
    "alice.acc.print_ledger()"
   ]
  },
  {
   "cell_type": "code",
   "execution_count": 11,
   "id": "fbe52d05-8836-4f3f-ae97-ec1b7b0a8a34",
   "metadata": {},
   "outputs": [],
   "source": [
    "dsg_ent = np.array([DSG, DSG, DSG, DSG], dtype=object)\n",
    "tensor1 = InitialGammaTensor(values=child, min_vals=np.zeros_like(child), max_vals=np.ones_like(child) * 5, entities=dsg_ent)"
   ]
  },
  {
   "cell_type": "code",
   "execution_count": 12,
   "id": "514536c2-a036-48ea-aefd-a8ecbf40c5e2",
   "metadata": {},
   "outputs": [
    {
     "data": {
      "text/plain": [
       "array([1, 2, 3, 4], dtype=int32)"
      ]
     },
     "execution_count": 12,
     "metadata": {},
     "output_type": "execute_result"
    }
   ],
   "source": [
    "tensor1.values"
   ]
  },
  {
   "cell_type": "code",
   "execution_count": 13,
   "id": "a98ee028-676d-4d3d-86e3-bf16de03fe85",
   "metadata": {},
   "outputs": [],
   "source": [
    "IGT = tensor1 + tensor1"
   ]
  },
  {
   "cell_type": "code",
   "execution_count": 14,
   "id": "2e0adc41-0da1-40ab-8ef4-db941c18719e",
   "metadata": {},
   "outputs": [
    {
     "data": {
      "text/plain": [
       "array([2., 4., 6., 8.])"
      ]
     },
     "execution_count": 14,
     "metadata": {},
     "output_type": "execute_result"
    }
   ],
   "source": [
    "IGT._values()"
   ]
  },
  {
   "cell_type": "code",
   "execution_count": 15,
   "id": "d7b45794-3031-4684-ad4e-0680ff2d7d5a",
   "metadata": {},
   "outputs": [
    {
     "ename": "TypeError",
     "evalue": "'DataSubjectGroup' object is not iterable",
     "output_type": "error",
     "traceback": [
      "\u001b[0;31m---------------------------------------------------------------------------\u001b[0m",
      "\u001b[0;31mTypeError\u001b[0m                                 Traceback (most recent call last)",
      "\u001b[0;32m/tmp/ipykernel_185584/2951380257.py\u001b[0m in \u001b[0;36m<module>\u001b[0;34m\u001b[0m\n\u001b[0;32m----> 1\u001b[0;31m \u001b[0mIGT\u001b[0m\u001b[0;34m.\u001b[0m\u001b[0m_entities\u001b[0m\u001b[0;34m(\u001b[0m\u001b[0;34m)\u001b[0m\u001b[0;34m\u001b[0m\u001b[0;34m\u001b[0m\u001b[0m\n\u001b[0m",
      "\u001b[0;32m~/PySyft/packages/syft/src/syft/core/tensor/autodp/intermediate_gamma.py\u001b[0m in \u001b[0;36m_entities\u001b[0;34m(self)\u001b[0m\n\u001b[1;32m    144\u001b[0m             \u001b[0mflattened_list\u001b[0m \u001b[0;34m=\u001b[0m \u001b[0;34m[\u001b[0m\u001b[0;34m]\u001b[0m\u001b[0;34m\u001b[0m\u001b[0;34m\u001b[0m\u001b[0m\n\u001b[1;32m    145\u001b[0m             \u001b[0;32mfor\u001b[0m \u001b[0mrow\u001b[0m \u001b[0;32min\u001b[0m \u001b[0mflat_scalar\u001b[0m\u001b[0;34m.\u001b[0m\u001b[0minput_entities\u001b[0m\u001b[0;34m:\u001b[0m\u001b[0;34m\u001b[0m\u001b[0;34m\u001b[0m\u001b[0m\n\u001b[0;32m--> 146\u001b[0;31m                 \u001b[0;32mfor\u001b[0m \u001b[0minput_entity\u001b[0m \u001b[0;32min\u001b[0m \u001b[0mrow\u001b[0m\u001b[0;34m:\u001b[0m\u001b[0;34m\u001b[0m\u001b[0;34m\u001b[0m\u001b[0m\n\u001b[0m\u001b[1;32m    147\u001b[0m                     \u001b[0mflattened_list\u001b[0m\u001b[0;34m.\u001b[0m\u001b[0mappend\u001b[0m\u001b[0;34m(\u001b[0m\u001b[0minput_entity\u001b[0m\u001b[0;34m)\u001b[0m\u001b[0;34m\u001b[0m\u001b[0;34m\u001b[0m\u001b[0m\n\u001b[1;32m    148\u001b[0m \u001b[0;34m\u001b[0m\u001b[0m\n",
      "\u001b[0;31mTypeError\u001b[0m: 'DataSubjectGroup' object is not iterable"
     ]
    }
   ],
   "source": [
    "IGT._entities()"
   ]
  },
  {
   "cell_type": "code",
   "execution_count": null,
   "id": "5c2aed3c-f92e-4322-98a6-445e92d46647",
   "metadata": {},
   "outputs": [],
   "source": [
    "IGT.flat_scalars[0].input_scalars[0].entity"
   ]
  },
  {
   "cell_type": "code",
   "execution_count": null,
   "id": "e50ac540-fb2a-447f-ae7c-e79d5216a83b",
   "metadata": {},
   "outputs": [],
   "source": [
    "IGT.flat_scalars"
   ]
  },
  {
   "cell_type": "code",
   "execution_count": null,
   "id": "453cdb41-5a3f-4875-a69f-3103209b4e1f",
   "metadata": {},
   "outputs": [],
   "source": [
    "tensor1.publish(sigma=50, acc=alice.acc, user_key=alice.verify_key)"
   ]
  },
  {
   "cell_type": "code",
   "execution_count": null,
   "id": "551e7e6e-7532-4a04-9744-b42db866f98f",
   "metadata": {},
   "outputs": [],
   "source": []
  },
  {
   "cell_type": "code",
   "execution_count": null,
   "id": "0df9350e-bdf7-4f43-a56a-5166a7e1fb46",
   "metadata": {},
   "outputs": [],
   "source": [
    "alice.acc.print_ledger()"
   ]
  },
  {
   "cell_type": "code",
   "execution_count": null,
   "id": "1c5c6c96-f984-4c17-9723-d02d90149ab9",
   "metadata": {},
   "outputs": [],
   "source": [
    "gs.publish(sigma=500, acc=alice.acc, user_key=alice.verify_key)"
   ]
  },
  {
   "cell_type": "code",
   "execution_count": null,
   "id": "aa443b1e-4027-4e82-914b-a5332402f9ad",
   "metadata": {},
   "outputs": [],
   "source": []
  },
  {
   "cell_type": "code",
   "execution_count": null,
   "id": "ef3a9c9d-012a-4715-88b0-a35988ba8d07",
   "metadata": {},
   "outputs": [],
   "source": []
  },
  {
   "cell_type": "code",
   "execution_count": null,
   "id": "9825434f-d543-41a4-89c7-0528a27b171f",
   "metadata": {},
   "outputs": [],
   "source": [
    "alice.acc.print_ledger()"
   ]
  },
  {
   "cell_type": "code",
   "execution_count": null,
   "id": "300e6d52-2d56-42d6-b6cb-8f9336549db7",
   "metadata": {},
   "outputs": [],
   "source": [
    "alice.acc.entity2ledger.mechanism_manager.all()"
   ]
  },
  {
   "cell_type": "code",
   "execution_count": null,
   "id": "29204191-126a-4120-80b8-ef08e75e6ab7",
   "metadata": {},
   "outputs": [],
   "source": [
    "# conn = create_virtual_connection(alice)"
   ]
  },
  {
   "cell_type": "code",
   "execution_count": null,
   "id": "882bb4b3-9a0e-40f7-994e-b33a4ac3dc59",
   "metadata": {},
   "outputs": [],
   "source": []
  },
  {
   "cell_type": "code",
   "execution_count": null,
   "id": "553ef09a-e031-4e13-9fc6-8b42647175b2",
   "metadata": {},
   "outputs": [],
   "source": []
  },
  {
   "cell_type": "code",
   "execution_count": null,
   "id": "acef8501-aa01-431b-8936-4b24b36c4fc6",
   "metadata": {},
   "outputs": [],
   "source": [
    "gs = GammaScalar(min_val=0, max_val=5, value=3, prime=7, entity=DSG)"
   ]
  },
  {
   "cell_type": "code",
   "execution_count": null,
   "id": "c17f14b9-8956-4523-af77-81ff319fb357",
   "metadata": {},
   "outputs": [],
   "source": [
    "gs.publish(sigma=500, acc=alice.acc, user_key=alice.verify_key)"
   ]
  },
  {
   "cell_type": "code",
   "execution_count": null,
   "id": "f8a45b88-d3ef-4395-a678-64e0afcf243b",
   "metadata": {},
   "outputs": [],
   "source": [
    "alice.acc.print_ledger()"
   ]
  },
  {
   "cell_type": "code",
   "execution_count": null,
   "id": "ffa02d12-7d99-4132-b550-0080be6f1677",
   "metadata": {},
   "outputs": [],
   "source": [
    "alice.acc.entities"
   ]
  }
 ],
 "metadata": {
  "kernelspec": {
   "display_name": "Python 3 (ipykernel)",
   "language": "python",
   "name": "python3"
  },
  "language_info": {
   "codemirror_mode": {
    "name": "ipython",
    "version": 3
   },
   "file_extension": ".py",
   "mimetype": "text/x-python",
   "name": "python",
   "nbconvert_exporter": "python",
   "pygments_lexer": "ipython3",
   "version": "3.8.11"
  }
 },
 "nbformat": 4,
 "nbformat_minor": 5
}

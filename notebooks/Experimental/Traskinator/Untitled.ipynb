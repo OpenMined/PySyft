{
 "cells": [
  {
   "cell_type": "code",
   "execution_count": 64,
   "id": "b8dff12e-f72d-4dc1-baa6-8776f208a204",
   "metadata": {},
   "outputs": [],
   "source": [
    "class FixedPrecisionTensor():\n",
    "    \n",
    "    def __init__(self, some_floats=None, child=None):\n",
    "        if child is None:\n",
    "            child = (some_floats * 1000).astype(np.int32)\n",
    "\n",
    "        self.child = child\n",
    "        \n",
    "    def __add__(self, other):\n",
    "        return FixedPrecisionTensor(child=self.child + other.child)\n",
    "    \n",
    "    def __mul__(self, other):\n",
    "        return FixedPrecisionTensor(child=self.child * other.child  / 1000)\n",
    "    \n",
    "    def decode(self):\n",
    "        return self.child / 1000\n",
    "    \n",
    "#     def __sub__(self, other):\n",
    "        \n",
    "#         if isinstance(self.child, PlusIsMinusTensor):\n",
    "#             return PlusIsMinusTensor(child=self.child-other.child)\n",
    "#         else:\n",
    "#             return PlusIsMinusTensor(child=np.dot(self.child, other.child))"
   ]
  },
  {
   "cell_type": "code",
   "execution_count": 65,
   "id": "3cbfa9c8-9635-4e71-be09-f4305a1168b8",
   "metadata": {},
   "outputs": [],
   "source": [
    "import numpy as np"
   ]
  },
  {
   "cell_type": "code",
   "execution_count": 66,
   "id": "75df8f0a-88c9-4a76-aaf5-06d5b386dd38",
   "metadata": {},
   "outputs": [],
   "source": [
    "x = FixedPrecisionTensor(some_floats=np.array([0.1,0.2,0.3]))"
   ]
  },
  {
   "cell_type": "code",
   "execution_count": 67,
   "id": "5ea9ea2e-3934-402d-8779-d71b4541bf38",
   "metadata": {},
   "outputs": [],
   "source": [
    "y = x * x"
   ]
  },
  {
   "cell_type": "code",
   "execution_count": 68,
   "id": "da222db2-a3bf-4b73-b828-0d86856bb7a8",
   "metadata": {},
   "outputs": [
    {
     "data": {
      "text/plain": [
       "array([10., 40., 90.])"
      ]
     },
     "execution_count": 68,
     "metadata": {},
     "output_type": "execute_result"
    }
   ],
   "source": [
    "y.child"
   ]
  },
  {
   "cell_type": "code",
   "execution_count": 69,
   "id": "417ecab5-804a-4e6d-a257-bb8ca2ef0653",
   "metadata": {},
   "outputs": [
    {
     "data": {
      "text/plain": [
       "array([0.01, 0.04, 0.09])"
      ]
     },
     "execution_count": 69,
     "metadata": {},
     "output_type": "execute_result"
    }
   ],
   "source": [
    "y.decode()"
   ]
  },
  {
   "cell_type": "code",
   "execution_count": null,
   "id": "fe01bd00-b2df-4948-a87b-501a9b2e4ff4",
   "metadata": {},
   "outputs": [],
   "source": []
  },
  {
   "cell_type": "code",
   "execution_count": 49,
   "id": "c189c459-5f66-4ebf-9f88-09e60fa05e81",
   "metadata": {},
   "outputs": [],
   "source": [
    "y = x + x"
   ]
  },
  {
   "cell_type": "code",
   "execution_count": 50,
   "id": "ee77a67e-fbb4-4a08-bfa4-237b602ae800",
   "metadata": {},
   "outputs": [
    {
     "data": {
      "text/plain": [
       "array([200, 400, 600], dtype=int32)"
      ]
     },
     "execution_count": 50,
     "metadata": {},
     "output_type": "execute_result"
    }
   ],
   "source": [
    "y.child"
   ]
  },
  {
   "cell_type": "code",
   "execution_count": 51,
   "id": "56175b51-bd8e-4a37-b66e-b5e3d19d0411",
   "metadata": {},
   "outputs": [
    {
     "data": {
      "text/plain": [
       "array([0.2, 0.4, 0.6])"
      ]
     },
     "execution_count": 51,
     "metadata": {},
     "output_type": "execute_result"
    }
   ],
   "source": [
    "y.decode()"
   ]
  },
  {
   "cell_type": "code",
   "execution_count": null,
   "id": "e2b6692e-9831-4f9f-9ae3-be8185173685",
   "metadata": {},
   "outputs": [],
   "source": []
  }
 ],
 "metadata": {
  "kernelspec": {
   "display_name": "Python 3",
   "language": "python",
   "name": "python3"
  },
  "language_info": {
   "codemirror_mode": {
    "name": "ipython",
    "version": 3
   },
   "file_extension": ".py",
   "mimetype": "text/x-python",
   "name": "python",
   "nbconvert_exporter": "python",
   "pygments_lexer": "ipython3",
   "version": "3.8.10"
  }
 },
 "nbformat": 4,
 "nbformat_minor": 5
}

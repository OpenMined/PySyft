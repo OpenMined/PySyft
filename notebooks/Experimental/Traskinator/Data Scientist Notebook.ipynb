{
 "cells": [
  {
   "cell_type": "markdown",
   "id": "a891a402-a2cf-4797-86c9-8df8a7e78b26",
   "metadata": {},
   "source": [
    "# Data Scientist Notebook"
   ]
  },
  {
   "cell_type": "code",
   "execution_count": 1,
   "id": "ec9e461e-ecea-4fe5-a9ee-0f1569013d1e",
   "metadata": {},
   "outputs": [],
   "source": []
  },
  {
   "cell_type": "code",
   "execution_count": 2,
   "id": "e3706a8c-1b59-4abe-9189-b6a4a6f967b1",
   "metadata": {},
   "outputs": [
    {
     "name": "stdout",
     "output_type": "stream",
     "text": [
      "Connecting to http://40.118.226.167/... done! \t Logging into istat... done!\n"
     ]
    }
   ],
   "source": []
  },
  {
   "cell_type": "code",
   "execution_count": 11,
   "id": "e8620185-6520-4a6a-8ab1-badb82efa5c0",
   "metadata": {},
   "outputs": [],
   "source": [
    "private_tensor = istat.datasets[1]['feb2020-10 NO Auto-DP']"
   ]
  },
  {
   "cell_type": "code",
   "execution_count": 14,
   "id": "90f32e79-ff01-40f9-824e-dbe45fbccbdb",
   "metadata": {},
   "outputs": [],
   "source": [
    "private_tensor.request(reason=\"I'd like to download this\")"
   ]
  },
  {
   "cell_type": "code",
   "execution_count": null,
   "id": "9d2600f1-7d3a-4c34-ae92-e05784c85d43",
   "metadata": {},
   "outputs": [],
   "source": []
  }
 ],
 "metadata": {
  "kernelspec": {
   "display_name": "Python 3",
   "language": "python",
   "name": "python3"
  },
  "language_info": {
   "codemirror_mode": {
    "name": "ipython",
    "version": 3
   },
   "file_extension": ".py",
   "mimetype": "text/x-python",
   "name": "python",
   "nbconvert_exporter": "python",
   "pygments_lexer": "ipython3",
   "version": "3.8.10"
  }
 },
 "nbformat": 4,
 "nbformat_minor": 5
}

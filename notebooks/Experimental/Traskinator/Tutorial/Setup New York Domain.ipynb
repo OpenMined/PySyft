{
 "cells": [
  {
   "cell_type": "code",
   "execution_count": 10,
   "id": "f8da09c8-1b51-444d-a672-b9463874096f",
   "metadata": {},
   "outputs": [],
   "source": [
    "import syft as sy"
   ]
  },
  {
   "cell_type": "code",
   "execution_count": 11,
   "id": "68616d5c-6c13-40a9-b6ec-da596509957d",
   "metadata": {},
   "outputs": [
    {
     "name": "stdout",
     "output_type": "stream",
     "text": [
      "WARNING: CHANGE YOUR USERNAME AND PASSWORD!!! \n",
      "\n",
      "Anyone can login as an admin to your node right now because your password is still the default PySyft username and password!!!\n",
      "\n",
      "Connecting to http://localhost:8082... done! \t Logging into new_york... done!\n"
     ]
    }
   ],
   "source": [
    "domain = sy.login(email=\"info@openmined.org\", password=\"changethis\", port=8082)"
   ]
  },
  {
   "cell_type": "code",
   "execution_count": 12,
   "id": "5206aaa2-1dfd-48e4-b884-f2351debdd6d",
   "metadata": {},
   "outputs": [
    {
     "data": {
      "text/html": [
       "(no datasets found)"
      ],
      "text/plain": [
       "<syft.core.node.common.client_manager.dataset_api.DatasetRequestAPI at 0x7fe768e85fa0>"
      ]
     },
     "execution_count": 12,
     "metadata": {},
     "output_type": "execute_result"
    }
   ],
   "source": [
    "domain.datasets"
   ]
  },
  {
   "cell_type": "code",
   "execution_count": 13,
   "id": "3574463d-1667-410b-8e7e-9080acf7bd8b",
   "metadata": {},
   "outputs": [],
   "source": [
    "medical_record = sy.Tensor([2,4,6,8,10]).annotate_with_dp_metadata(lower_bound=0, upper_bound=10, entities=\"Patient #1\")"
   ]
  },
  {
   "cell_type": "code",
   "execution_count": 14,
   "id": "e9ab9a08-365f-4ad1-ad18-5b8be387a5bc",
   "metadata": {},
   "outputs": [
    {
     "name": "stdout",
     "output_type": "stream",
     "text": [
      "Loading dataset... uploading... SUCCESS!                                                                                                                                      \n",
      "\n",
      "Run <your client variable>.datasets to see your new dataset loaded into your machine!\n"
     ]
    }
   ],
   "source": [
    "domain.load_dataset(assets={\"Medical Record\": medical_record},\n",
    "                    description=\"Some numbers relating to a medical patient\",\n",
    "                    name=\"Toy New York Medical Dataset\")"
   ]
  },
  {
   "cell_type": "code",
   "execution_count": 15,
   "id": "e16bb212-bb10-4238-b29b-383f6750aef6",
   "metadata": {},
   "outputs": [
    {
     "data": {
      "text/html": [
       "<style>\n",
       "                #myInput {\n",
       "                  background-position: 10px 12px; /* Position the search icon */\n",
       "                  background-repeat: no-repeat; /* Do not repeat the icon image */\n",
       "                  background-color: #bbb;\n",
       "                  width: 98%; /* Full-width */\n",
       "                  font-size: 14px; /* Increase font-size */\n",
       "                  padding: 12px 20px 12px 40px; /* Add some padding */\n",
       "                  border: 1px solid #ddd; /* Add a grey border */\n",
       "                  margin-bottom: 12px; /* Add some space below the input */\n",
       "                }\n",
       "\n",
       "                #myTable {\n",
       "                  border-collapse: collapse; /* Collapse borders */\n",
       "                  width: 100%; /* Full-width */\n",
       "                  border: 1px solid #ddd; /* Add a grey border */\n",
       "                  font-size: 14px; /* Increase font-size */\n",
       "                }\n",
       "\n",
       "                #myTable th, #myTable td {\n",
       "                  text-align: left; /* Left-align text */\n",
       "                  padding: 10px; /* Add padding */\n",
       "                }\n",
       "\n",
       "                #myTable tr {\n",
       "                  /* Add a bottom border to all table rows */\n",
       "                  border-bottom: 1px solid #ddd;\n",
       "                }\n",
       "\n",
       "                #myTable tr.header, #myTable tr:hover {\n",
       "                  /* Add a grey background color to the table header and on hover */\n",
       "                  background-color: #777;\n",
       "                }\n",
       "                </style>\n",
       "\n",
       "                <table id=\"myTable\" style=\"width:1000px\">\n",
       "                  <tr class=\"header\">\n",
       "                    <th style=\"width:30px\">Idx</th>\n",
       "                    <th style=\"width:20%;\">Name</th>\n",
       "                    <th style=\"width:35%;\">Description</th>\n",
       "                    <th style=\"width:20%;\">Assets</th>\n",
       "                    <th style=\"width:300px;\">Id</th>\n",
       "                  </tr>\n",
       "                \n",
       "\n",
       "          <tr>\n",
       "            <td>[0]</td>\n",
       "            <td>Toy New York Medical Dataset</td>\n",
       "            <td>Some numbers relating to a medical patient</td>\n",
       "            <td>[\"Medical Record\"] -> Tensor<br /><br /></td>\n",
       "            <td>c713ee99-58b0-4995-9e9c-8b18a40c7163</td>\n",
       "          </tr>\n",
       "        </table>\n",
       "\n",
       "        <script>\n",
       "        function myFunction() {\n",
       "          // Declare variables\n",
       "          var input, filter, table, tr, td, i, txtValue;\n",
       "          input = document.getElementById(\"myInput\");\n",
       "          filter = input.value.toUpperCase();\n",
       "          table = document.getElementById(\"myTable\");\n",
       "          tr = table.getElementsByTagName(\"tr\");\n",
       "\n",
       "          // Loop through all table rows, and hide those who don't match the search query\n",
       "          for (i = 0; i < tr.length; i++) {\n",
       "            name_td = tr[i].getElementsByTagName(\"td\")[1];\n",
       "            desc_td = tr[i].getElementsByTagName(\"td\")[2];\n",
       "            asset_td = tr[i].getElementsByTagName(\"td\")[3];\n",
       "            id_td = tr[i].getElementsByTagName(\"td\")[4];\n",
       "            if (name_td || desc_td || asset_td || id_td) {\n",
       "              name_txtValue = name_td.textContent || name_td.innerText;\n",
       "              desc_txtValue = desc_td.textContent || name_td.innerText;\n",
       "              asset_txtValue = asset_td.textContent || name_td.innerText;\n",
       "              id_txtValue = id_td.textContent || name_td.innerText;\n",
       "              name_bool = name_txtValue.toUpperCase().indexOf(filter) > -1;\n",
       "              desc_bool = desc_txtValue.toUpperCase().indexOf(filter) > -1;\n",
       "              asset_bool = asset_txtValue.toUpperCase().indexOf(filter) > -1;\n",
       "              id_bool = id_txtValue.toUpperCase().indexOf(filter) > -1;\n",
       "              if (name_bool || desc_bool || asset_bool || id_bool) {\n",
       "                tr[i].style.display = \"\";\n",
       "              } else {\n",
       "                tr[i].style.display = \"none\";\n",
       "              }\n",
       "            }\n",
       "          }\n",
       "        }\n",
       "        </script>"
      ],
      "text/plain": [
       "<syft.core.node.common.client_manager.dataset_api.DatasetRequestAPI at 0x7fe768e85fa0>"
      ]
     },
     "execution_count": 15,
     "metadata": {},
     "output_type": "execute_result"
    }
   ],
   "source": [
    "domain.datasets"
   ]
  },
  {
   "cell_type": "code",
   "execution_count": 16,
   "id": "9ea73903-ba5c-478f-8469-6ecc048d4b46",
   "metadata": {},
   "outputs": [
    {
     "name": "stdout",
     "output_type": "stream",
     "text": [
      "Connecting to http://13.64.14.221... done! \t Logging into united_nations_mock... as GUEST...done!\n",
      "🔌 <DomainClient - new_york: <UID: a3ad7407e12d4a8989283fd7f5920979>> successfully connected to the VPN: 13.64.14.221\n",
      "Waiting to connect to VPN.\n",
      "Connected to VPN\n",
      "Application submitted.\n"
     ]
    }
   ],
   "source": [
    "domain.apply_to_network(sy.networks[1])"
   ]
  },
  {
   "cell_type": "code",
   "execution_count": 17,
   "id": "38048859-d1e6-46d1-95c3-196409ff8fd1",
   "metadata": {},
   "outputs": [
    {
     "data": {
      "text/plain": [
       "{'status': 'ok',\n",
       " 'connected': True,\n",
       " 'host': {'ip': '100.64.0.9',\n",
       "  'hostname': 'new_york',\n",
       "  'network': 'omnet',\n",
       "  'os': 'linux',\n",
       "  'connection_info': '-',\n",
       "  'connection_status': 'n/a',\n",
       "  'connection_type': 'n/a'},\n",
       " 'peers': [{'ip': '100.64.0.8',\n",
       "   'hostname': 'california',\n",
       "   'network': 'omnet',\n",
       "   'os': 'linux',\n",
       "   'connection_info': '-',\n",
       "   'connection_status': 'n/a',\n",
       "   'connection_type': 'n/a'},\n",
       "  {'ip': '100.64.0.5',\n",
       "   'hostname': 'canada',\n",
       "   'network': 'omnet',\n",
       "   'os': 'linux',\n",
       "   'connection_info': '-',\n",
       "   'connection_status': 'n/a',\n",
       "   'connection_type': 'n/a'},\n",
       "  {'ip': '100.64.0.2',\n",
       "   'hostname': 'canada',\n",
       "   'network': 'omnet',\n",
       "   'os': 'linux',\n",
       "   'connection_info': '-',\n",
       "   'connection_status': 'n/a',\n",
       "   'connection_type': 'n/a'},\n",
       "  {'ip': '100.64.0.6',\n",
       "   'hostname': 'canada',\n",
       "   'network': 'omnet',\n",
       "   'os': 'linux',\n",
       "   'connection_info': '-',\n",
       "   'connection_status': 'n/a',\n",
       "   'connection_type': 'n/a'},\n",
       "  {'ip': '100.64.0.4',\n",
       "   'hostname': 'elated_bostrom',\n",
       "   'network': 'omnet',\n",
       "   'os': 'linux',\n",
       "   'connection_info': '-',\n",
       "   'connection_status': 'n/a',\n",
       "   'connection_type': 'n/a'},\n",
       "  {'ip': '100.64.0.1',\n",
       "   'hostname': 'united_nations_mock',\n",
       "   'network': 'omnet',\n",
       "   'os': 'linux',\n",
       "   'connection_info': 'active; direct 13.64.14.221:37080, tx 3192 rx 1900',\n",
       "   'connection_status': 'active',\n",
       "   'connection_type': 'direct'},\n",
       "  {'ip': '100.64.0.7',\n",
       "   'hostname': 'united_states_of_america',\n",
       "   'network': 'omnet',\n",
       "   'os': 'linux',\n",
       "   'connection_info': '-',\n",
       "   'connection_status': 'n/a',\n",
       "   'connection_type': 'n/a'},\n",
       "  {'ip': '100.64.0.3',\n",
       "   'hostname': 'united_states_of_america',\n",
       "   'network': 'omnet',\n",
       "   'os': 'linux',\n",
       "   'connection_info': '-',\n",
       "   'connection_status': 'n/a',\n",
       "   'connection_type': 'n/a'}]}"
      ]
     },
     "execution_count": 17,
     "metadata": {},
     "output_type": "execute_result"
    }
   ],
   "source": [
    "domain.vpn_status()"
   ]
  },
  {
   "cell_type": "code",
   "execution_count": null,
   "id": "76bba0a1-776e-4255-822a-544d858ec028",
   "metadata": {},
   "outputs": [],
   "source": []
  }
 ],
 "metadata": {
  "kernelspec": {
   "display_name": "Python 3 (ipykernel)",
   "language": "python",
   "name": "python3"
  },
  "language_info": {
   "codemirror_mode": {
    "name": "ipython",
    "version": 3
   },
   "file_extension": ".py",
   "mimetype": "text/x-python",
   "name": "python",
   "nbconvert_exporter": "python",
   "pygments_lexer": "ipython3",
   "version": "3.9.7"
  }
 },
 "nbformat": 4,
 "nbformat_minor": 5
}

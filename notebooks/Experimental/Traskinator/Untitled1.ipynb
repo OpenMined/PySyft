{
 "cells": [
  {
   "cell_type": "code",
   "execution_count": 1,
   "id": "3ba5caeb-e7ad-44f8-aed8-6e97b453034c",
   "metadata": {},
   "outputs": [
    {
     "name": "stdout",
     "output_type": "stream",
     "text": [
      "/Users/areopagus/Laboratory/PySyft/packages/syft/src/syft/lib/__init__.py:load:195\n"
     ]
    }
   ],
   "source": [
    "import syft as sy\n",
    "import numpy as np\n",
    "from syft.core.common.uid import UID"
   ]
  },
  {
   "cell_type": "code",
   "execution_count": 2,
   "id": "80227db0-1b0a-4357-b10b-cdb0aae2fd14",
   "metadata": {},
   "outputs": [
    {
     "name": "stdout",
     "output_type": "stream",
     "text": [
      "Connecting to http://localhost:8081... done! \t Logging into crazy_gardner... done!\n"
     ]
    }
   ],
   "source": [
    "domain = sy.login(email=\"info@openmined.org\", password=\"changethis\", port=8081)"
   ]
  },
  {
   "cell_type": "code",
   "execution_count": 3,
   "id": "13a463e9-05f8-4fa1-8c1d-113aa38a16dd",
   "metadata": {},
   "outputs": [],
   "source": [
    "uid = UID.from_string(\"0c497ca9c9d54a49b890fb6f8b30fc15\")"
   ]
  },
  {
   "cell_type": "code",
   "execution_count": 4,
   "id": "3ad5afe3-cc77-47d1-8cf9-93dcae1e8759",
   "metadata": {},
   "outputs": [],
   "source": []
  },
  {
   "cell_type": "code",
   "execution_count": 6,
   "id": "03b34ad1-621a-4794-a103-3825f0b9186a",
   "metadata": {},
   "outputs": [
    {
     "data": {
      "text/plain": [
       "<ndarrayPointer -> crazy_gardner:0c497ca9c9d54a49b890fb6f8b30fc15>"
      ]
     },
     "execution_count": 6,
     "metadata": {},
     "output_type": "execute_result"
    }
   ],
   "source": [
    "ptr.block_with_timeout(secs=10)"
   ]
  },
  {
   "cell_type": "code",
   "execution_count": 25,
   "id": "7b4370f6-b985-4331-9bd4-287ae1570bb4",
   "metadata": {},
   "outputs": [
    {
     "data": {
      "text/plain": [
       "<ndarrayPointer -> crazy_gardner:1109520dfc504ead892675cd2f5855a5>"
      ]
     },
     "execution_count": 25,
     "metadata": {},
     "output_type": "execute_result"
    }
   ],
   "source": [
    "ptr.block_"
   ]
  },
  {
   "cell_type": "code",
   "execution_count": null,
   "id": "9c933d16-3fff-4cd8-8ddb-4cea88346dd7",
   "metadata": {},
   "outputs": [],
   "source": []
  },
  {
   "cell_type": "code",
   "execution_count": null,
   "id": "ea50eea3-74a6-4613-959d-e7f0854f3ac4",
   "metadata": {},
   "outputs": [],
   "source": []
  },
  {
   "cell_type": "code",
   "execution_count": 2,
   "id": "42fe1e7f-d16c-4a74-8e84-6595bc8d6d15",
   "metadata": {},
   "outputs": [],
   "source": [
    "a = sy.Tensor(np.array([1,2,3,4]).astype(np.int32))\n",
    "alice = DataSubject('alice')\n",
    "a = a.private(min_val=0, max_val=5, entities='alice')#.gamma\n",
    "\n",
    "b = sy.Tensor(np.array([1,2,3,4]).astype(np.int32))\n",
    "b = b.private(min_val=0, max_val=5, entities='bob')#.gamma"
   ]
  },
  {
   "cell_type": "code",
   "execution_count": 3,
   "id": "2c0d7eb9-96d5-4f9a-b564-ad599245df82",
   "metadata": {},
   "outputs": [],
   "source": [
    "x = np.array([1,2,3,4])"
   ]
  },
  {
   "cell_type": "code",
   "execution_count": 4,
   "id": "356fb9de-8232-444f-a3d4-82fe1a4d76ee",
   "metadata": {},
   "outputs": [
    {
     "data": {
      "text/plain": [
       "array([1, 1, 1, 1, 2, 2, 2, 2, 3, 3, 3, 3, 4, 4, 4, 4])"
      ]
     },
     "execution_count": 4,
     "metadata": {},
     "output_type": "execute_result"
    }
   ],
   "source": [
    "x.repeat(4)"
   ]
  },
  {
   "cell_type": "code",
   "execution_count": 5,
   "id": "46785ac5-da09-4d1f-8577-b93a3143157c",
   "metadata": {},
   "outputs": [],
   "source": [
    "y = np.random.rand(2,3,4)"
   ]
  },
  {
   "cell_type": "code",
   "execution_count": 16,
   "id": "2331953c-84d7-4fd2-9d8e-ae059e0f6981",
   "metadata": {},
   "outputs": [
    {
     "data": {
      "text/plain": [
       "(4, 1)"
      ]
     },
     "execution_count": 16,
     "metadata": {},
     "output_type": "execute_result"
    }
   ],
   "source": [
    "a.child.term_tensor.shape"
   ]
  },
  {
   "cell_type": "code",
   "execution_count": 24,
   "id": "920425bf-3383-42af-86c4-fb5940a260f4",
   "metadata": {},
   "outputs": [
    {
     "data": {
      "text/plain": [
       "(16, 1)"
      ]
     },
     "execution_count": 24,
     "metadata": {},
     "output_type": "execute_result"
    }
   ],
   "source": [
    "a.child.term_tensor.repeat(4).reshape(-1, a.child.term_tensor.shape[-1]).shape"
   ]
  },
  {
   "cell_type": "code",
   "execution_count": 18,
   "id": "f9d0202b-e0c7-46ce-80b4-7822af67e2bc",
   "metadata": {},
   "outputs": [
    {
     "data": {
      "text/plain": [
       "(4, 1)"
      ]
     },
     "execution_count": 18,
     "metadata": {},
     "output_type": "execute_result"
    }
   ],
   "source": [
    "a.child.coeff_tensor.shape"
   ]
  },
  {
   "cell_type": "code",
   "execution_count": 19,
   "id": "d411dc46-90ba-4740-9e90-6e2189662ebf",
   "metadata": {},
   "outputs": [
    {
     "data": {
      "text/plain": [
       "(4,)"
      ]
     },
     "execution_count": 19,
     "metadata": {},
     "output_type": "execute_result"
    }
   ],
   "source": [
    "a.child.bias_tensor.shape"
   ]
  },
  {
   "cell_type": "code",
   "execution_count": 9,
   "id": "ed976e46-7464-4c3d-a437-c93b846bdf8d",
   "metadata": {},
   "outputs": [
    {
     "data": {
      "text/plain": [
       "[<IntermediateGammaScalar: (0.0 < 1.0 < 5.0)>,\n",
       " <IntermediateGammaScalar: (0.0 < 1.0 < 5.0)>,\n",
       " <IntermediateGammaScalar: (0.0 < 1.0 < 5.0)>,\n",
       " <IntermediateGammaScalar: (0.0 < 1.0 < 5.0)>,\n",
       " <IntermediateGammaScalar: (0.0 < 2.0 < 5.0)>,\n",
       " <IntermediateGammaScalar: (0.0 < 2.0 < 5.0)>,\n",
       " <IntermediateGammaScalar: (0.0 < 2.0 < 5.0)>,\n",
       " <IntermediateGammaScalar: (0.0 < 2.0 < 5.0)>,\n",
       " <IntermediateGammaScalar: (0.0 < 3.0 < 5.0)>,\n",
       " <IntermediateGammaScalar: (0.0 < 3.0 < 5.0)>,\n",
       " <IntermediateGammaScalar: (0.0 < 3.0 < 5.0)>,\n",
       " <IntermediateGammaScalar: (0.0 < 3.0 < 5.0)>,\n",
       " <IntermediateGammaScalar: (0.0 < 4.0 < 5.0)>,\n",
       " <IntermediateGammaScalar: (0.0 < 4.0 < 5.0)>,\n",
       " <IntermediateGammaScalar: (0.0 < 4.0 < 5.0)>,\n",
       " <IntermediateGammaScalar: (0.0 < 4.0 < 5.0)>]"
      ]
     },
     "execution_count": 9,
     "metadata": {},
     "output_type": "execute_result"
    }
   ],
   "source": [
    "a.repeat(4).child.flat_scalars"
   ]
  },
  {
   "cell_type": "code",
   "execution_count": null,
   "id": "c8d1f1ac-05c6-4918-ac32-4e1f3c3ab782",
   "metadata": {},
   "outputs": [],
   "source": []
  },
  {
   "cell_type": "code",
   "execution_count": 35,
   "id": "f8fa3e2c-a191-41c4-806f-ecb17fce7512",
   "metadata": {},
   "outputs": [],
   "source": [
    "z = a - 5"
   ]
  },
  {
   "cell_type": "code",
   "execution_count": 36,
   "id": "f58a350b-37e1-4114-9b94-93a6ac2e11a6",
   "metadata": {},
   "outputs": [],
   "source": [
    "out = z.child.flat_scalars"
   ]
  },
  {
   "cell_type": "code",
   "execution_count": 37,
   "id": "18f3e6e1-4f44-4f4b-9e63-b4197638ed2c",
   "metadata": {},
   "outputs": [
    {
     "data": {
      "text/plain": [
       "[<IntermediateGammaScalar: (-5.0 < -4.0 < 0.0)>,\n",
       " <IntermediateGammaScalar: (-5.0 < -3.0 < 0.0)>,\n",
       " <IntermediateGammaScalar: (-5.0 < -2.0 < 0.0)>,\n",
       " <IntermediateGammaScalar: (-5.0 < -1.0 < 0.0)>]"
      ]
     },
     "execution_count": 37,
     "metadata": {},
     "output_type": "execute_result"
    }
   ],
   "source": [
    "out"
   ]
  },
  {
   "cell_type": "code",
   "execution_count": null,
   "id": "0c4531b4-8a63-48fc-b9e7-fd6523e84a90",
   "metadata": {},
   "outputs": [],
   "source": []
  }
 ],
 "metadata": {
  "kernelspec": {
   "display_name": "Python 3 (ipykernel)",
   "language": "python",
   "name": "python3"
  },
  "language_info": {
   "codemirror_mode": {
    "name": "ipython",
    "version": 3
   },
   "file_extension": ".py",
   "mimetype": "text/x-python",
   "name": "python",
   "nbconvert_exporter": "python",
   "pygments_lexer": "ipython3",
   "version": "3.9.7"
  }
 },
 "nbformat": 4,
 "nbformat_minor": 5
}

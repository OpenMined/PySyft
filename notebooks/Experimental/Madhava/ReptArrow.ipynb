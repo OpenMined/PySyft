{
 "cells": [
  {
   "cell_type": "code",
   "execution_count": 1,
   "id": "b62bf0c6-84ea-47bc-ab2b-3558179a5af9",
   "metadata": {},
   "outputs": [],
   "source": [
    "import names"
   ]
  },
  {
   "cell_type": "code",
   "execution_count": 2,
   "id": "6b9d8e59-30c1-4103-a210-14515558466c",
   "metadata": {},
   "outputs": [],
   "source": [
    "import syft as sy"
   ]
  },
  {
   "cell_type": "code",
   "execution_count": 3,
   "id": "9571f123-4c8c-419c-90a4-14d93c15d911",
   "metadata": {},
   "outputs": [],
   "source": [
    "import pyarrow as pa\n",
    "import numpy as np\n",
    "from typing import Optional"
   ]
  },
  {
   "cell_type": "code",
   "execution_count": 4,
   "id": "39b6339d-a53a-4a80-a62e-ab2abd7bf600",
   "metadata": {},
   "outputs": [],
   "source": [
    "from syft.core.adp.entity import DataSubject"
   ]
  },
  {
   "cell_type": "code",
   "execution_count": 5,
   "id": "480077b5-32d3-4c41-a487-d0ac41eee620",
   "metadata": {},
   "outputs": [],
   "source": [
    "from syft.core.adp.vm_private_scalar_manager import VirtualMachinePrivateScalarManager"
   ]
  },
  {
   "cell_type": "code",
   "execution_count": 6,
   "id": "de86e88d-7469-48ba-826d-f7676efd159c",
   "metadata": {},
   "outputs": [],
   "source": [
    "np_array_type = pa.list_(pa.int64())\n",
    "np_dtype = pa.int64()\n",
    "entity_type = pa.string()"
   ]
  },
  {
   "cell_type": "code",
   "execution_count": 7,
   "id": "a4cfc4b6-db97-4987-874c-0a679255c8e4",
   "metadata": {},
   "outputs": [],
   "source": [
    "sept_field_tuples = [\n",
    "    ('child', np_array_type),\n",
    "    ('min_vals', np_array_type),\n",
    "    ('max_vals', np_array_type),\n",
    "    ('entity', entity_type)\n",
    "]"
   ]
  },
  {
   "cell_type": "code",
   "execution_count": 8,
   "id": "936bd2f3-e35e-4388-a047-a0ad97e94b24",
   "metadata": {},
   "outputs": [],
   "source": [
    "SEPTA_struct = pa.struct(sept_field_tuples)"
   ]
  },
  {
   "cell_type": "code",
   "execution_count": 9,
   "id": "a412d173-59fb-4d59-8ddb-52d7034ad50a",
   "metadata": {},
   "outputs": [],
   "source": [
    "SEPTA_struct_list = pa.list_(SEPTA_struct)"
   ]
  },
  {
   "cell_type": "code",
   "execution_count": 10,
   "id": "5ebcc466-8f89-43e5-afc7-91ffba44a785",
   "metadata": {},
   "outputs": [
    {
     "data": {
      "text/plain": [
       "ListType(list<item: struct<child: list<item: int64>, min_vals: list<item: int64>, max_vals: list<item: int64>, entity: string>>)"
      ]
     },
     "execution_count": 10,
     "metadata": {},
     "output_type": "execute_result"
    }
   ],
   "source": [
    "SEPTA_struct_list"
   ]
  },
  {
   "cell_type": "code",
   "execution_count": 11,
   "id": "76de1c7f-a97a-4e9a-8997-1d5659974def",
   "metadata": {},
   "outputs": [],
   "source": [
    "sept_schema_field_tuples = [\n",
    "    ('child', np_dtype),\n",
    "    ('min_vals', np_dtype),\n",
    "    ('max_vals', np_dtype),\n",
    "    ('entity', entity_type)\n",
    "]"
   ]
  },
  {
   "cell_type": "code",
   "execution_count": 12,
   "id": "f4f6946f-acda-4488-9f12-7e64298a1d9a",
   "metadata": {},
   "outputs": [],
   "source": [
    "SEPTA_schema = pa.schema(sept_field_tuples)"
   ]
  },
  {
   "cell_type": "code",
   "execution_count": 13,
   "id": "425266f5-7ece-42e3-8de6-2cd328914bc0",
   "metadata": {},
   "outputs": [],
   "source": [
    "class SingleEntityPhiArrowTensor:\n",
    "    # Number of entities in a SEPT is by definition 1\n",
    "    n_entities = 1\n",
    "\n",
    "    def __init__(\n",
    "        self,\n",
    "        child: np.ndarray,\n",
    "        entity: DataSubject,\n",
    "        min_vals: np.ndarray,\n",
    "        max_vals: np.ndarray,\n",
    "        scalar_manager: Optional[VirtualMachinePrivateScalarManager] = None,\n",
    "    ) -> None:\n",
    "        # self.pa_struct = \n",
    "        self.child = child\n",
    "        self._min_vals = min_vals\n",
    "        self._max_vals = max_vals\n",
    "        self.entity = entity\n",
    "\n",
    "        if scalar_manager is None:\n",
    "            self.scalar_manager = VirtualMachinePrivateScalarManager()\n",
    "        else:\n",
    "            self.scalar_manager = scalar_manager"
   ]
  },
  {
   "cell_type": "code",
   "execution_count": 14,
   "id": "664bb365-feee-4847-aa86-c17289a3c2ec",
   "metadata": {},
   "outputs": [],
   "source": [
    "def make_sept_data():\n",
    "    highest = 50\n",
    "    dims = 3\n",
    "    child = np.random.randint(\n",
    "        low=-highest, high=highest, size=(dims, dims), dtype=np.int32\n",
    "    )\n",
    "    max_values = np.ones_like(child) * highest\n",
    "    min_values = np.ones_like(child) * -highest\n",
    "    return child, max_values, min_values, names.get_first_name()"
   ]
  },
  {
   "cell_type": "code",
   "execution_count": 15,
   "id": "682be38f-6109-491b-a8d6-cbc4ddf3ee10",
   "metadata": {},
   "outputs": [],
   "source": [
    "child, max_values, min_values, entity_name = make_sept_data()"
   ]
  },
  {
   "cell_type": "code",
   "execution_count": 16,
   "id": "6fbe29ec-ee8c-462d-a7ae-81bd2a9295fe",
   "metadata": {},
   "outputs": [],
   "source": [
    "def make_sept_dict(child, max_values, min_values, entity):    \n",
    "     return {'child': child.flatten(), 'min_vals':min_values.flatten(), 'max_vals':max_values.flatten(), 'entity':entity}"
   ]
  },
  {
   "cell_type": "code",
   "execution_count": 17,
   "id": "4b24abea-7501-486f-a03a-4d5459b09744",
   "metadata": {},
   "outputs": [],
   "source": [
    "def make_sept_dict_py(child, max_values, min_values, entity):    \n",
    "     return {'child': list(child.flatten()), 'min_vals':list(min_values.flatten()), 'max_vals':list(max_values.flatten()), 'entity':entity}"
   ]
  },
  {
   "cell_type": "code",
   "execution_count": 70,
   "id": "6d4e790a-aa8a-4484-b684-ec40892679d2",
   "metadata": {},
   "outputs": [
    {
     "data": {
      "text/plain": [
       "array([[  1,   1,   1],\n",
       "       [-47, -36, -48],\n",
       "       [  9,  -5,  43]], dtype=int32)"
      ]
     },
     "execution_count": 70,
     "metadata": {},
     "output_type": "execute_result"
    }
   ],
   "source": [
    "child"
   ]
  },
  {
   "cell_type": "code",
   "execution_count": null,
   "id": "24b19f00-38e2-4d8f-b942-b5c4462fb6ae",
   "metadata": {},
   "outputs": [],
   "source": []
  },
  {
   "cell_type": "code",
   "execution_count": 71,
   "id": "09786d5b-75ed-425d-9197-15aeef67d3a8",
   "metadata": {},
   "outputs": [],
   "source": [
    "# b = child.reshape(-1,)"
   ]
  },
  {
   "cell_type": "code",
   "execution_count": 72,
   "id": "360d17ed-441d-4e92-b94d-b6b959f74a07",
   "metadata": {},
   "outputs": [],
   "source": [
    "# a = child.flatten()"
   ]
  },
  {
   "cell_type": "code",
   "execution_count": 73,
   "id": "03859db2-dae9-4bbf-aafd-1548f0f0649d",
   "metadata": {},
   "outputs": [],
   "source": [
    "# a.base is child"
   ]
  },
  {
   "cell_type": "code",
   "execution_count": 74,
   "id": "f0fb5448-78f4-4568-a7ae-55f90a7ba830",
   "metadata": {},
   "outputs": [],
   "source": [
    "# b.base is child"
   ]
  },
  {
   "cell_type": "code",
   "execution_count": 75,
   "id": "09416c54-2849-4cac-aed5-81ef9f0bd56a",
   "metadata": {},
   "outputs": [],
   "source": [
    "x = pa.Tensor.from_numpy(child)"
   ]
  },
  {
   "cell_type": "code",
   "execution_count": 76,
   "id": "f5d1ad85-82c4-499b-b0a4-c4f78ad45278",
   "metadata": {},
   "outputs": [
    {
     "data": {
      "text/plain": [
       "<pyarrow.Tensor>\n",
       "type: int32\n",
       "shape: (3, 3)\n",
       "strides: (12, 4)"
      ]
     },
     "execution_count": 76,
     "metadata": {},
     "output_type": "execute_result"
    }
   ],
   "source": [
    "x"
   ]
  },
  {
   "cell_type": "code",
   "execution_count": 77,
   "id": "5f6c549f-b088-4390-b6a2-2cc2fde1a206",
   "metadata": {},
   "outputs": [],
   "source": [
    "z = x.to_numpy()"
   ]
  },
  {
   "cell_type": "code",
   "execution_count": 78,
   "id": "33c8be83-00e9-4a1e-bf43-d9bf8495827e",
   "metadata": {},
   "outputs": [],
   "source": [
    "child[1] = 0"
   ]
  },
  {
   "cell_type": "code",
   "execution_count": 80,
   "id": "d5999b2a-c228-4b8e-bcec-1f7b13536aff",
   "metadata": {},
   "outputs": [
    {
     "data": {
      "text/plain": [
       "array([[ 1,  1,  1],\n",
       "       [ 0,  0,  0],\n",
       "       [ 9, -5, 43]], dtype=int32)"
      ]
     },
     "execution_count": 80,
     "metadata": {},
     "output_type": "execute_result"
    }
   ],
   "source": [
    "child"
   ]
  },
  {
   "cell_type": "code",
   "execution_count": 65,
   "id": "d5cae1ff-4751-47f6-9557-68b94bffca0a",
   "metadata": {},
   "outputs": [
    {
     "data": {
      "text/plain": [
       "array([[  1,   1,   1],\n",
       "       [-47, -36, -48],\n",
       "       [  9,  -5,  43]], dtype=int32)"
      ]
     },
     "execution_count": 65,
     "metadata": {},
     "output_type": "execute_result"
    }
   ],
   "source": [
    "z"
   ]
  },
  {
   "cell_type": "code",
   "execution_count": 69,
   "id": "8527ab29-9c02-41aa-b59b-5512ba6a8e81",
   "metadata": {},
   "outputs": [
    {
     "data": {
      "text/plain": [
       "['__class__',\n",
       " '__delattr__',\n",
       " '__dir__',\n",
       " '__doc__',\n",
       " '__eq__',\n",
       " '__format__',\n",
       " '__ge__',\n",
       " '__getattribute__',\n",
       " '__gt__',\n",
       " '__hash__',\n",
       " '__init__',\n",
       " '__init_subclass__',\n",
       " '__le__',\n",
       " '__lt__',\n",
       " '__ne__',\n",
       " '__new__',\n",
       " '__pyx_vtable__',\n",
       " '__reduce__',\n",
       " '__reduce_ex__',\n",
       " '__repr__',\n",
       " '__setattr__',\n",
       " '__setstate__',\n",
       " '__sizeof__',\n",
       " '__str__',\n",
       " '__subclasshook__',\n",
       " 'dim_name',\n",
       " 'dim_names',\n",
       " 'equals',\n",
       " 'from_numpy',\n",
       " 'is_contiguous',\n",
       " 'is_mutable',\n",
       " 'ndim',\n",
       " 'shape',\n",
       " 'size',\n",
       " 'strides',\n",
       " 'to_numpy',\n",
       " 'type']"
      ]
     },
     "execution_count": 69,
     "metadata": {},
     "output_type": "execute_result"
    }
   ],
   "source": [
    "dir(x)"
   ]
  },
  {
   "cell_type": "code",
   "execution_count": 19,
   "id": "08f7c7b4-ddb1-4582-b4f8-da8eac30e929",
   "metadata": {},
   "outputs": [
    {
     "data": {
      "text/plain": [
       "<pyarrow.lib.Int64Array object at 0x151c0e400>\n",
       "[\n",
       "  3,\n",
       "  3\n",
       "]"
      ]
     },
     "execution_count": 19,
     "metadata": {},
     "output_type": "execute_result"
    }
   ],
   "source": [
    "shape_arr"
   ]
  },
  {
   "cell_type": "code",
   "execution_count": 20,
   "id": "8788fe2e-8ae8-4ab6-9edc-117eb87f9aa9",
   "metadata": {},
   "outputs": [],
   "source": [
    "child_arr = pa.array(child.flatten())"
   ]
  },
  {
   "cell_type": "code",
   "execution_count": 21,
   "id": "71589f23-2caf-49e1-800d-b000f56d8f0c",
   "metadata": {},
   "outputs": [
    {
     "data": {
      "text/plain": [
       "<pyarrow.lib.Int32Array object at 0x14f8217c0>\n",
       "[\n",
       "  -34,\n",
       "  -33,\n",
       "  -15,\n",
       "  21,\n",
       "  -9,\n",
       "  -30,\n",
       "  -38,\n",
       "  -38,\n",
       "  -1\n",
       "]"
      ]
     },
     "execution_count": 21,
     "metadata": {},
     "output_type": "execute_result"
    }
   ],
   "source": [
    "child_arr"
   ]
  },
  {
   "cell_type": "code",
   "execution_count": 126,
   "id": "e06a5722-bb3e-4f2f-9a33-7de797900a5e",
   "metadata": {},
   "outputs": [],
   "source": [
    "max_values[0] = 1"
   ]
  },
  {
   "cell_type": "code",
   "execution_count": 127,
   "id": "6f9bd78e-5ee5-47e3-9149-9b7104c8067f",
   "metadata": {},
   "outputs": [
    {
     "data": {
      "text/plain": [
       "array([[ 1,  1,  1],\n",
       "       [50, 50, 50],\n",
       "       [50, 50, 50]], dtype=int32)"
      ]
     },
     "execution_count": 127,
     "metadata": {},
     "output_type": "execute_result"
    }
   ],
   "source": [
    "max_values"
   ]
  },
  {
   "cell_type": "code",
   "execution_count": 123,
   "id": "bec59b5d-bb06-45a7-a06e-d50ec3ad107b",
   "metadata": {},
   "outputs": [],
   "source": [
    "max_values_arr = pa.array(max_values.reshape(-1,))"
   ]
  },
  {
   "cell_type": "code",
   "execution_count": 128,
   "id": "aebc3bef-967d-415e-8826-9bef9213a778",
   "metadata": {},
   "outputs": [
    {
     "data": {
      "text/plain": [
       "<pyarrow.lib.Int32Array object at 0x151c8ebe0>\n",
       "[\n",
       "  1,\n",
       "  1,\n",
       "  1,\n",
       "  50,\n",
       "  50,\n",
       "  50,\n",
       "  50,\n",
       "  50,\n",
       "  50\n",
       "]"
      ]
     },
     "execution_count": 128,
     "metadata": {},
     "output_type": "execute_result"
    }
   ],
   "source": [
    "max_values_arr"
   ]
  },
  {
   "cell_type": "code",
   "execution_count": 22,
   "id": "324dcd37-f8a9-4790-980e-3ce4343a2752",
   "metadata": {},
   "outputs": [],
   "source": [
    "max_values_arr = pa.array(max_values.flatten())"
   ]
  },
  {
   "cell_type": "code",
   "execution_count": 23,
   "id": "f8a29f5a-1ac3-49fd-aeb7-e8ff96d92d81",
   "metadata": {},
   "outputs": [],
   "source": [
    "min_values_arr = pa.array(min_values.flatten())"
   ]
  },
  {
   "cell_type": "code",
   "execution_count": 24,
   "id": "4a3462ad-1411-4ac3-ad1d-7039d3cfd7c0",
   "metadata": {},
   "outputs": [],
   "source": [
    "entity = DataSubject(\"Hawkeye\")"
   ]
  },
  {
   "cell_type": "code",
   "execution_count": 97,
   "id": "e6be5d48-d1a9-4303-8564-f8997438fe37",
   "metadata": {},
   "outputs": [],
   "source": []
  },
  {
   "cell_type": "code",
   "execution_count": 98,
   "id": "cb88e56e-e099-47f7-8265-bd4cc94f70eb",
   "metadata": {},
   "outputs": [],
   "source": [
    "entity_np = np.array(x, dtype=str)"
   ]
  },
  {
   "cell_type": "code",
   "execution_count": 101,
   "id": "1bff9601-dee5-4017-9c8b-201be0103fd9",
   "metadata": {},
   "outputs": [
    {
     "data": {
      "text/plain": [
       "array(['a', 'b', 'c'], dtype='<U1')"
      ]
     },
     "execution_count": 101,
     "metadata": {},
     "output_type": "execute_result"
    }
   ],
   "source": [
    "entity_np"
   ]
  },
  {
   "cell_type": "code",
   "execution_count": 100,
   "id": "99a1e24b-2ed4-41bd-b09d-a31be39288e8",
   "metadata": {},
   "outputs": [
    {
     "ename": "ArrowNotImplementedError",
     "evalue": "Unsupported numpy type 19",
     "output_type": "error",
     "traceback": [
      "\u001b[0;31m---------------------------------------------------------------------------\u001b[0m",
      "\u001b[0;31mArrowNotImplementedError\u001b[0m                  Traceback (most recent call last)",
      "\u001b[0;32m/var/folders/7n/9h84vrpx4yqc69b56ntkjgjr0000gn/T/ipykernel_32326/462245151.py\u001b[0m in \u001b[0;36m<module>\u001b[0;34m\u001b[0m\n\u001b[0;32m----> 1\u001b[0;31m \u001b[0mentity_arr\u001b[0m \u001b[0;34m=\u001b[0m \u001b[0mpa\u001b[0m\u001b[0;34m.\u001b[0m\u001b[0mTensor\u001b[0m\u001b[0;34m.\u001b[0m\u001b[0mfrom_numpy\u001b[0m\u001b[0;34m(\u001b[0m\u001b[0mentity_np\u001b[0m\u001b[0;34m)\u001b[0m\u001b[0;34m\u001b[0m\u001b[0;34m\u001b[0m\u001b[0m\n\u001b[0m",
      "\u001b[0;32m~/dev/PySyft/.tox/syft.jupyter/lib/python3.9/site-packages/pyarrow/tensor.pxi\u001b[0m in \u001b[0;36mpyarrow.lib.Tensor.from_numpy\u001b[0;34m()\u001b[0m\n",
      "\u001b[0;32m~/dev/PySyft/.tox/syft.jupyter/lib/python3.9/site-packages/pyarrow/error.pxi\u001b[0m in \u001b[0;36mpyarrow.lib.check_status\u001b[0;34m()\u001b[0m\n",
      "\u001b[0;31mArrowNotImplementedError\u001b[0m: Unsupported numpy type 19"
     ]
    }
   ],
   "source": [
    "entity_arr = pa.Tensor.from_numpy(entity_np)"
   ]
  },
  {
   "cell_type": "code",
   "execution_count": 104,
   "id": "2a571172-4fd5-480f-aa2d-3ebce9b88da7",
   "metadata": {},
   "outputs": [],
   "source": [
    "entity_arr = pa.array(entity_np)"
   ]
  },
  {
   "cell_type": "code",
   "execution_count": 105,
   "id": "20c850f7-4d54-4097-956d-fbcad268ec30",
   "metadata": {},
   "outputs": [
    {
     "data": {
      "text/plain": [
       "<pyarrow.lib.StringArray object at 0x151a2ad00>\n",
       "[\n",
       "  \"a\",\n",
       "  \"b\",\n",
       "  \"c\"\n",
       "]"
      ]
     },
     "execution_count": 105,
     "metadata": {},
     "output_type": "execute_result"
    }
   ],
   "source": [
    "entity_arr"
   ]
  },
  {
   "cell_type": "code",
   "execution_count": 28,
   "id": "b85b7f13-4cc3-419f-b54c-56a99a232941",
   "metadata": {},
   "outputs": [],
   "source": [
    "SEPTA = SingleEntityPhiArrowTensor"
   ]
  },
  {
   "cell_type": "code",
   "execution_count": 29,
   "id": "7ce4d054-9ce3-4fff-806c-47804fe954a7",
   "metadata": {},
   "outputs": [],
   "source": [
    "first = SEPTA(child, entity, min_values, max_values)"
   ]
  },
  {
   "cell_type": "code",
   "execution_count": 30,
   "id": "6a9a469c-f428-47de-98d8-a4863868eebe",
   "metadata": {},
   "outputs": [
    {
     "data": {
      "text/plain": [
       "<__main__.SingleEntityPhiArrowTensor at 0x14f854760>"
      ]
     },
     "execution_count": 30,
     "metadata": {},
     "output_type": "execute_result"
    }
   ],
   "source": [
    "first"
   ]
  },
  {
   "cell_type": "code",
   "execution_count": 31,
   "id": "cfb27eb2-d1dd-4129-ae7c-149bb2d72038",
   "metadata": {},
   "outputs": [],
   "source": [
    "sept_data = {'child': child.flatten(), 'min_vals':min_values.flatten(), 'max_vals':max_values.flatten(), 'entity':entity.name}"
   ]
  },
  {
   "cell_type": "code",
   "execution_count": 32,
   "id": "b7b44023-a1b2-4132-ad56-bca67ef10c55",
   "metadata": {},
   "outputs": [],
   "source": [
    "sept_arrow_data = {\n",
    "    'child': child_arr,\n",
    "    'min_vals':min_values_arr,\n",
    "    'max_vals':max_values_arr,\n",
    "    'entity':entity_arr\n",
    "}"
   ]
  },
  {
   "cell_type": "code",
   "execution_count": 33,
   "id": "f1b89963-8fde-4c68-a954-657398a3aa15",
   "metadata": {},
   "outputs": [],
   "source": [
    "sept1 = pa.array([sept_data])"
   ]
  },
  {
   "cell_type": "code",
   "execution_count": 34,
   "id": "6aeb173f-9467-49e0-a7a8-55da984e1e7f",
   "metadata": {},
   "outputs": [],
   "source": [
    "sept2 = pa.array([sept_data])"
   ]
  },
  {
   "cell_type": "code",
   "execution_count": 126,
   "id": "6fc55946-91fd-4de4-8f87-31146c86ed6c",
   "metadata": {},
   "outputs": [],
   "source": [
    "# sept1"
   ]
  },
  {
   "cell_type": "code",
   "execution_count": 127,
   "id": "ff6278d8-dde7-4bf6-bf9b-fc5e28a47303",
   "metadata": {},
   "outputs": [],
   "source": [
    "# sept2"
   ]
  },
  {
   "cell_type": "code",
   "execution_count": 42,
   "id": "a162e002-0c90-4c9a-9f51-59efcead004e",
   "metadata": {},
   "outputs": [
    {
     "data": {
      "text/plain": [
       "{'child': array([-34, -33, -15,  21,  -9, -30, -38, -38,  -1], dtype=int32),\n",
       " 'min_vals': array([-50, -50, -50, -50, -50, -50, -50, -50, -50], dtype=int32),\n",
       " 'max_vals': array([50, 50, 50, 50, 50, 50, 50, 50, 50], dtype=int32),\n",
       " 'entity': 'Hawkeye'}"
      ]
     },
     "execution_count": 42,
     "metadata": {},
     "output_type": "execute_result"
    }
   ],
   "source": []
  },
  {
   "cell_type": "code",
   "execution_count": 61,
   "id": "0d27e0c3-673c-415e-8c36-c7ba2aa1f83d",
   "metadata": {},
   "outputs": [],
   "source": [
    "sept_data_1 = make_sept_data()"
   ]
  },
  {
   "cell_type": "code",
   "execution_count": 62,
   "id": "b8796f26-2fcb-4387-a5a2-03eef80a8f75",
   "metadata": {},
   "outputs": [],
   "source": [
    "sept_data_2 = make_sept_data()"
   ]
  },
  {
   "cell_type": "code",
   "execution_count": null,
   "id": "e72e974a-b0fc-41a1-9f49-4e33eafcb7b9",
   "metadata": {},
   "outputs": [],
   "source": []
  },
  {
   "cell_type": "code",
   "execution_count": 68,
   "id": "7acbf2b1-e8b6-440e-90ea-3cb6ba8181de",
   "metadata": {},
   "outputs": [],
   "source": [
    "# rb = pa.RecordBatch.from_pylist([make_sept_dict(*sept_data_1)])"
   ]
  },
  {
   "cell_type": "code",
   "execution_count": 132,
   "id": "b9954cf3-2d03-483d-a890-9990cf39cc5b",
   "metadata": {},
   "outputs": [],
   "source": [
    "sept_1 = make_sept_dict(*sept_data_1)\n",
    "sept_2 = make_sept_dict(*sept_data_2)"
   ]
  },
  {
   "cell_type": "code",
   "execution_count": null,
   "id": "6079c770-8495-4622-9707-05113643ca62",
   "metadata": {},
   "outputs": [],
   "source": []
  },
  {
   "cell_type": "code",
   "execution_count": null,
   "id": "be520201-7080-4e3e-8df5-fc345b46aaef",
   "metadata": {},
   "outputs": [],
   "source": [
    "len(rb)"
   ]
  },
  {
   "cell_type": "code",
   "execution_count": 108,
   "id": "1e24695f-ad96-4633-bcfa-f38b5cfbf400",
   "metadata": {},
   "outputs": [],
   "source": [
    "def ser(batch):\n",
    "    sink = pa.BufferOutputStream()\n",
    "    with pa.ipc.new_stream(sink, batch.schema) as writer:\n",
    "        writer.write_batch(batch)\n",
    "    return sink.getvalue()"
   ]
  },
  {
   "cell_type": "code",
   "execution_count": 109,
   "id": "206f91e9-a305-4364-967a-f3b8a6e83d84",
   "metadata": {},
   "outputs": [],
   "source": [
    "def de(buf):\n",
    "    with pa.ipc.open_stream(buf) as reader:\n",
    "        schema = reader.schema\n",
    "        batches = [b for b in reader]\n",
    "    return batches"
   ]
  },
  {
   "cell_type": "code",
   "execution_count": null,
   "id": "b76c5927-7c28-47db-b914-94513bde825a",
   "metadata": {},
   "outputs": [],
   "source": [
    "rb = pa.RecordBatch.from_pylist()"
   ]
  },
  {
   "cell_type": "code",
   "execution_count": 117,
   "id": "947cdb9c-7923-44d3-9f24-093028701b9c",
   "metadata": {},
   "outputs": [],
   "source": [
    "entities = [{\"name\":\"a\"}, {\"name\":\"b\"}, {\"name\":\"c\"}]\n",
    "rb = pa.RecordBatch.from_pylist(entities)"
   ]
  },
  {
   "cell_type": "code",
   "execution_count": 122,
   "id": "ac079508-062b-462e-a43d-a66676fabee7",
   "metadata": {},
   "outputs": [
    {
     "data": {
      "text/plain": [
       "pyarrow.RecordBatch\n",
       "name: string"
      ]
     },
     "execution_count": 122,
     "metadata": {},
     "output_type": "execute_result"
    }
   ],
   "source": [
    "rb"
   ]
  },
  {
   "cell_type": "code",
   "execution_count": 110,
   "id": "d5c8e03c-70be-4bc7-abad-e410421b90a1",
   "metadata": {},
   "outputs": [],
   "source": [
    "entity_arr = pa.array(entity_np)"
   ]
  },
  {
   "cell_type": "code",
   "execution_count": 112,
   "id": "d25255ab-8719-40e3-b26d-a0d60b350738",
   "metadata": {},
   "outputs": [
    {
     "ename": "AttributeError",
     "evalue": "'pyarrow.lib.StringArray' object has no attribute 'schema'",
     "output_type": "error",
     "traceback": [
      "\u001b[0;31m---------------------------------------------------------------------------\u001b[0m",
      "\u001b[0;31mAttributeError\u001b[0m                            Traceback (most recent call last)",
      "\u001b[0;32m/var/folders/7n/9h84vrpx4yqc69b56ntkjgjr0000gn/T/ipykernel_32326/2684189838.py\u001b[0m in \u001b[0;36m<module>\u001b[0;34m\u001b[0m\n\u001b[0;32m----> 1\u001b[0;31m \u001b[0mser\u001b[0m\u001b[0;34m(\u001b[0m\u001b[0mentity_arr\u001b[0m\u001b[0;34m)\u001b[0m\u001b[0;34m\u001b[0m\u001b[0;34m\u001b[0m\u001b[0m\n\u001b[0m",
      "\u001b[0;32m/var/folders/7n/9h84vrpx4yqc69b56ntkjgjr0000gn/T/ipykernel_32326/1861225706.py\u001b[0m in \u001b[0;36mser\u001b[0;34m(batch)\u001b[0m\n\u001b[1;32m      1\u001b[0m \u001b[0;32mdef\u001b[0m \u001b[0mser\u001b[0m\u001b[0;34m(\u001b[0m\u001b[0mbatch\u001b[0m\u001b[0;34m)\u001b[0m\u001b[0;34m:\u001b[0m\u001b[0;34m\u001b[0m\u001b[0;34m\u001b[0m\u001b[0m\n\u001b[1;32m      2\u001b[0m     \u001b[0msink\u001b[0m \u001b[0;34m=\u001b[0m \u001b[0mpa\u001b[0m\u001b[0;34m.\u001b[0m\u001b[0mBufferOutputStream\u001b[0m\u001b[0;34m(\u001b[0m\u001b[0;34m)\u001b[0m\u001b[0;34m\u001b[0m\u001b[0;34m\u001b[0m\u001b[0m\n\u001b[0;32m----> 3\u001b[0;31m     \u001b[0;32mwith\u001b[0m \u001b[0mpa\u001b[0m\u001b[0;34m.\u001b[0m\u001b[0mipc\u001b[0m\u001b[0;34m.\u001b[0m\u001b[0mnew_stream\u001b[0m\u001b[0;34m(\u001b[0m\u001b[0msink\u001b[0m\u001b[0;34m,\u001b[0m \u001b[0mbatch\u001b[0m\u001b[0;34m.\u001b[0m\u001b[0mschema\u001b[0m\u001b[0;34m)\u001b[0m \u001b[0;32mas\u001b[0m \u001b[0mwriter\u001b[0m\u001b[0;34m:\u001b[0m\u001b[0;34m\u001b[0m\u001b[0;34m\u001b[0m\u001b[0m\n\u001b[0m\u001b[1;32m      4\u001b[0m         \u001b[0mwriter\u001b[0m\u001b[0;34m.\u001b[0m\u001b[0mwrite_batch\u001b[0m\u001b[0;34m(\u001b[0m\u001b[0mbatch\u001b[0m\u001b[0;34m)\u001b[0m\u001b[0;34m\u001b[0m\u001b[0;34m\u001b[0m\u001b[0m\n\u001b[1;32m      5\u001b[0m     \u001b[0;32mreturn\u001b[0m \u001b[0msink\u001b[0m\u001b[0;34m.\u001b[0m\u001b[0mgetvalue\u001b[0m\u001b[0;34m(\u001b[0m\u001b[0;34m)\u001b[0m\u001b[0;34m\u001b[0m\u001b[0;34m\u001b[0m\u001b[0m\n",
      "\u001b[0;31mAttributeError\u001b[0m: 'pyarrow.lib.StringArray' object has no attribute 'schema'"
     ]
    }
   ],
   "source": [
    "ser(entity_arr)"
   ]
  },
  {
   "cell_type": "code",
   "execution_count": null,
   "id": "4457be05-d483-4a3e-9dae-0d94d63e8c33",
   "metadata": {},
   "outputs": [],
   "source": []
  },
  {
   "cell_type": "code",
   "execution_count": null,
   "id": "b9b67c7e-b00a-4998-9089-c84aa8d85926",
   "metadata": {},
   "outputs": [],
   "source": []
  },
  {
   "cell_type": "code",
   "execution_count": null,
   "id": "fb19ca79-d47c-4a35-b5ae-6b90ffdf16a1",
   "metadata": {},
   "outputs": [],
   "source": [
    "import timeit"
   ]
  },
  {
   "cell_type": "code",
   "execution_count": null,
   "id": "b792d35c-b253-43eb-8757-d0713db06568",
   "metadata": {},
   "outputs": [],
   "source": [
    "%%time\n",
    "data = ser(rb)"
   ]
  },
  {
   "cell_type": "code",
   "execution_count": null,
   "id": "70ce8672-d977-4158-99a8-70b1d5d44451",
   "metadata": {},
   "outputs": [],
   "source": [
    "%%time\n",
    "rb2 = de(data)"
   ]
  },
  {
   "cell_type": "code",
   "execution_count": 105,
   "id": "914aacbc-4131-4b43-a078-438fb2f821cc",
   "metadata": {},
   "outputs": [],
   "source": []
  },
  {
   "cell_type": "code",
   "execution_count": 106,
   "id": "f1b27e69-cc40-4d29-a881-bd7a0517cabd",
   "metadata": {},
   "outputs": [
    {
     "data": {
      "text/plain": [
       "[pyarrow.RecordBatch\n",
       " child: list<item: int32>\n",
       "   child 0, item: int32\n",
       " min_vals: list<item: int32>\n",
       "   child 0, item: int32\n",
       " max_vals: list<item: int32>\n",
       "   child 0, item: int32\n",
       " entity: string]"
      ]
     },
     "execution_count": 106,
     "metadata": {},
     "output_type": "execute_result"
    }
   ],
   "source": [
    "rb2"
   ]
  },
  {
   "cell_type": "code",
   "execution_count": 118,
   "id": "0ce5f7d5-fe85-433e-bf7d-3a44eda12ac7",
   "metadata": {},
   "outputs": [],
   "source": [
    "rb2_table = pa.Table.from_pylist([sept_1, sept_1, sept_2])"
   ]
  },
  {
   "cell_type": "code",
   "execution_count": 119,
   "id": "2e6e2ce4-3a09-4862-b410-f6e8747bb690",
   "metadata": {},
   "outputs": [
    {
     "data": {
      "text/plain": [
       "pyarrow.Table\n",
       "child: list<item: int32>\n",
       "  child 0, item: int32\n",
       "min_vals: list<item: int32>\n",
       "  child 0, item: int32\n",
       "max_vals: list<item: int32>\n",
       "  child 0, item: int32\n",
       "entity: string\n",
       "----\n",
       "child: [[[35,-34,30,34,38,36,-18,-46,26],[35,-34,30,34,38,36,-18,-46,26],[22,-26,28,-6,40,9,46,39,-11]]]\n",
       "min_vals: [[[-50,-50,-50,-50,-50,-50,-50,-50,-50],[-50,-50,-50,-50,-50,-50,-50,-50,-50],[-50,-50,-50,-50,-50,-50,-50,-50,-50]]]\n",
       "max_vals: [[[50,50,50,50,50,50,50,50,50],[50,50,50,50,50,50,50,50,50],[50,50,50,50,50,50,50,50,50]]]\n",
       "entity: [[\"James\",\"James\",\"Robert\"]]"
      ]
     },
     "execution_count": 119,
     "metadata": {},
     "output_type": "execute_result"
    }
   ],
   "source": [
    "rb2_table"
   ]
  },
  {
   "cell_type": "code",
   "execution_count": 139,
   "id": "89cb9309-217a-473e-b2c5-6b4289556f06",
   "metadata": {},
   "outputs": [
    {
     "data": {
      "text/plain": [
       "3"
      ]
     },
     "execution_count": 139,
     "metadata": {},
     "output_type": "execute_result"
    }
   ],
   "source": [
    "len(rb2_table[1])"
   ]
  },
  {
   "cell_type": "code",
   "execution_count": 108,
   "id": "ce87b32c-429f-40b9-904c-e24108c3f756",
   "metadata": {},
   "outputs": [],
   "source": [
    "rb2_table = pa.Table.from_batches(rb2)"
   ]
  },
  {
   "cell_type": "code",
   "execution_count": 147,
   "id": "c31caa26-b9e0-414c-9c6b-45863f80caa6",
   "metadata": {},
   "outputs": [],
   "source": [
    "import pyarrow.compute as pc"
   ]
  },
  {
   "cell_type": "code",
   "execution_count": 154,
   "id": "c9261a63-edbb-4589-85de-1b3c400585c9",
   "metadata": {},
   "outputs": [
    {
     "data": {
      "text/plain": [
       "3"
      ]
     },
     "execution_count": 154,
     "metadata": {},
     "output_type": "execute_result"
    }
   ],
   "source": [
    "len(rb2_table[0])"
   ]
  },
  {
   "cell_type": "code",
   "execution_count": 158,
   "id": "7dcc4fa3-d2a9-45b2-9ad3-6270cfd7fafe",
   "metadata": {},
   "outputs": [
    {
     "data": {
      "text/plain": [
       "[<pyarrow.lib.ChunkedArray object at 0x14fae0590>\n",
       " [\n",
       "   [\n",
       "     [\n",
       "       35,\n",
       "       -34,\n",
       "       30,\n",
       "       34,\n",
       "       38,\n",
       "       36,\n",
       "       -18,\n",
       "       -46,\n",
       "       26\n",
       "     ],\n",
       "     [\n",
       "       35,\n",
       "       -34,\n",
       "       30,\n",
       "       34,\n",
       "       38,\n",
       "       36,\n",
       "       -18,\n",
       "       -46,\n",
       "       26\n",
       "     ],\n",
       "     [\n",
       "       22,\n",
       "       -26,\n",
       "       28,\n",
       "       -6,\n",
       "       40,\n",
       "       9,\n",
       "       46,\n",
       "       39,\n",
       "       -11\n",
       "     ]\n",
       "   ]\n",
       " ]]"
      ]
     },
     "execution_count": 158,
     "metadata": {},
     "output_type": "execute_result"
    }
   ],
   "source": [
    "rb2_table[0].flatten()"
   ]
  },
  {
   "cell_type": "code",
   "execution_count": null,
   "id": "66e32b1d-a1ce-47ab-89b8-589848ee94f0",
   "metadata": {},
   "outputs": [],
   "source": [
    "(\n",
    "    array[\n",
    "        list<item: int32>\n",
    "    ],\n",
    "    array[uint32]\n",
    ")"
   ]
  },
  {
   "cell_type": "code",
   "execution_count": 121,
   "id": "10d946a2-49f6-42e1-b99d-9ca2d8f618ef",
   "metadata": {},
   "outputs": [
    {
     "ename": "ArrowNotImplementedError",
     "evalue": "Function 'hash_sum' has no kernel matching input types (array[list<item: int32>], array[uint32])",
     "output_type": "error",
     "traceback": [
      "\u001b[0;31m---------------------------------------------------------------------------\u001b[0m",
      "\u001b[0;31mArrowNotImplementedError\u001b[0m                  Traceback (most recent call last)",
      "\u001b[0;32m/var/folders/7n/9h84vrpx4yqc69b56ntkjgjr0000gn/T/ipykernel_31544/2039010110.py\u001b[0m in \u001b[0;36m<module>\u001b[0;34m\u001b[0m\n\u001b[0;32m----> 1\u001b[0;31m \u001b[0ma\u001b[0m \u001b[0;34m=\u001b[0m \u001b[0mrb2_table\u001b[0m\u001b[0;34m.\u001b[0m\u001b[0mgroup_by\u001b[0m\u001b[0;34m(\u001b[0m\u001b[0;34m\"entity\"\u001b[0m\u001b[0;34m)\u001b[0m\u001b[0;34m.\u001b[0m\u001b[0maggregate\u001b[0m\u001b[0;34m(\u001b[0m\u001b[0;34m[\u001b[0m\u001b[0;34m(\u001b[0m\u001b[0;34m\"child\"\u001b[0m\u001b[0;34m,\u001b[0m \u001b[0;34m\"sum\"\u001b[0m\u001b[0;34m)\u001b[0m\u001b[0;34m]\u001b[0m\u001b[0;34m)\u001b[0m\u001b[0;34m\u001b[0m\u001b[0;34m\u001b[0m\u001b[0m\n\u001b[0m",
      "\u001b[0;32m~/dev/PySyft/.tox/syft.jupyter/lib/python3.9/site-packages/pyarrow/table.pxi\u001b[0m in \u001b[0;36mpyarrow.lib.TableGroupBy.aggregate\u001b[0;34m()\u001b[0m\n",
      "\u001b[0;32m~/dev/PySyft/.tox/syft.jupyter/lib/python3.9/site-packages/pyarrow/_compute.pyx\u001b[0m in \u001b[0;36mpyarrow._compute._group_by\u001b[0;34m()\u001b[0m\n",
      "\u001b[0;32m~/dev/PySyft/.tox/syft.jupyter/lib/python3.9/site-packages/pyarrow/error.pxi\u001b[0m in \u001b[0;36mpyarrow.lib.pyarrow_internal_check_status\u001b[0;34m()\u001b[0m\n",
      "\u001b[0;32m~/dev/PySyft/.tox/syft.jupyter/lib/python3.9/site-packages/pyarrow/error.pxi\u001b[0m in \u001b[0;36mpyarrow.lib.check_status\u001b[0;34m()\u001b[0m\n",
      "\u001b[0;31mArrowNotImplementedError\u001b[0m: Function 'hash_sum' has no kernel matching input types (array[list<item: int32>], array[uint32])"
     ]
    }
   ],
   "source": [
    "a = rb2_table.group_by(\"entity\").aggregate([(\"child\", \"sum\")])"
   ]
  },
  {
   "cell_type": "code",
   "execution_count": 163,
   "id": "3eb1300b-d52e-4374-b09d-55a3c59f0369",
   "metadata": {},
   "outputs": [
    {
     "ename": "ArrowKeyError",
     "evalue": "No function registered with name: hash_unique",
     "output_type": "error",
     "traceback": [
      "\u001b[0;31m---------------------------------------------------------------------------\u001b[0m",
      "\u001b[0;31mArrowKeyError\u001b[0m                             Traceback (most recent call last)",
      "\u001b[0;32m/var/folders/7n/9h84vrpx4yqc69b56ntkjgjr0000gn/T/ipykernel_31544/1302005186.py\u001b[0m in \u001b[0;36m<module>\u001b[0;34m\u001b[0m\n\u001b[0;32m----> 1\u001b[0;31m \u001b[0ma\u001b[0m \u001b[0;34m=\u001b[0m \u001b[0mrb2_table\u001b[0m\u001b[0;34m.\u001b[0m\u001b[0mgroup_by\u001b[0m\u001b[0;34m(\u001b[0m\u001b[0;34m\"entity\"\u001b[0m\u001b[0;34m)\u001b[0m\u001b[0;34m.\u001b[0m\u001b[0maggregate\u001b[0m\u001b[0;34m(\u001b[0m\u001b[0;34m[\u001b[0m\u001b[0;34m(\u001b[0m\u001b[0;34m\"entity\"\u001b[0m\u001b[0;34m,\u001b[0m \u001b[0;34m\"unique\"\u001b[0m\u001b[0;34m)\u001b[0m\u001b[0;34m]\u001b[0m\u001b[0;34m)\u001b[0m\u001b[0;34m\u001b[0m\u001b[0;34m\u001b[0m\u001b[0m\n\u001b[0m",
      "\u001b[0;32m~/dev/PySyft/.tox/syft.jupyter/lib/python3.9/site-packages/pyarrow/table.pxi\u001b[0m in \u001b[0;36mpyarrow.lib.TableGroupBy.aggregate\u001b[0;34m()\u001b[0m\n",
      "\u001b[0;32m~/dev/PySyft/.tox/syft.jupyter/lib/python3.9/site-packages/pyarrow/_compute.pyx\u001b[0m in \u001b[0;36mpyarrow._compute._group_by\u001b[0;34m()\u001b[0m\n",
      "\u001b[0;32m~/dev/PySyft/.tox/syft.jupyter/lib/python3.9/site-packages/pyarrow/error.pxi\u001b[0m in \u001b[0;36mpyarrow.lib.pyarrow_internal_check_status\u001b[0;34m()\u001b[0m\n",
      "\u001b[0;32m~/dev/PySyft/.tox/syft.jupyter/lib/python3.9/site-packages/pyarrow/error.pxi\u001b[0m in \u001b[0;36mpyarrow.lib.check_status\u001b[0;34m()\u001b[0m\n",
      "\u001b[0;31mArrowKeyError\u001b[0m: No function registered with name: hash_unique"
     ]
    }
   ],
   "source": [
    "a = rb2_table.group_by(\"entity\").aggregate([(\"entity\", \"unique\")])"
   ]
  },
  {
   "cell_type": "code",
   "execution_count": 113,
   "id": "da90015f-2b54-4fad-802a-af56226de80e",
   "metadata": {},
   "outputs": [
    {
     "data": {
      "text/plain": [
       "['__class__',\n",
       " '__delattr__',\n",
       " '__dict__',\n",
       " '__dir__',\n",
       " '__doc__',\n",
       " '__eq__',\n",
       " '__format__',\n",
       " '__ge__',\n",
       " '__getattribute__',\n",
       " '__gt__',\n",
       " '__hash__',\n",
       " '__init__',\n",
       " '__init_subclass__',\n",
       " '__le__',\n",
       " '__lt__',\n",
       " '__module__',\n",
       " '__ne__',\n",
       " '__new__',\n",
       " '__reduce__',\n",
       " '__reduce_ex__',\n",
       " '__repr__',\n",
       " '__setattr__',\n",
       " '__sizeof__',\n",
       " '__str__',\n",
       " '__subclasshook__',\n",
       " '__weakref__',\n",
       " '_table',\n",
       " 'aggregate',\n",
       " 'keys']"
      ]
     },
     "execution_count": 113,
     "metadata": {},
     "output_type": "execute_result"
    }
   ],
   "source": [
    "dir(a)"
   ]
  },
  {
   "cell_type": "code",
   "execution_count": 122,
   "id": "b48cbba7-7a6a-4b37-88a7-c54892296b90",
   "metadata": {},
   "outputs": [],
   "source": [
    "nested_arr = pa.array([[], None, [1, 2], [None, 1]])"
   ]
  },
  {
   "cell_type": "code",
   "execution_count": 123,
   "id": "dbb28c6d-a849-4162-b84c-ff7fe867115d",
   "metadata": {},
   "outputs": [
    {
     "data": {
      "text/plain": [
       "<pyarrow.lib.ListArray object at 0x14fa7ba00>\n",
       "[\n",
       "  [],\n",
       "  null,\n",
       "  [\n",
       "    1,\n",
       "    2\n",
       "  ],\n",
       "  [\n",
       "    null,\n",
       "    1\n",
       "  ]\n",
       "]"
      ]
     },
     "execution_count": 123,
     "metadata": {},
     "output_type": "execute_result"
    }
   ],
   "source": [
    "nested_arr"
   ]
  },
  {
   "cell_type": "code",
   "execution_count": 124,
   "id": "3d0174ed-26d9-4bf1-b8b5-431ff23cd965",
   "metadata": {},
   "outputs": [
    {
     "data": {
      "text/plain": [
       "ListType(list<item: int64>)"
      ]
     },
     "execution_count": 124,
     "metadata": {},
     "output_type": "execute_result"
    }
   ],
   "source": [
    "nested_arr.type"
   ]
  },
  {
   "cell_type": "code",
   "execution_count": 125,
   "id": "4d8da30e-5e26-410c-a49b-2f64cc0c3851",
   "metadata": {},
   "outputs": [
    {
     "ename": "TypeError",
     "evalue": "unsupported operand type(s) for +: 'pyarrow.lib.ListArray' and 'pyarrow.lib.ListArray'",
     "output_type": "error",
     "traceback": [
      "\u001b[0;31m---------------------------------------------------------------------------\u001b[0m",
      "\u001b[0;31mTypeError\u001b[0m                                 Traceback (most recent call last)",
      "\u001b[0;32m/var/folders/7n/9h84vrpx4yqc69b56ntkjgjr0000gn/T/ipykernel_31544/753398129.py\u001b[0m in \u001b[0;36m<module>\u001b[0;34m\u001b[0m\n\u001b[0;32m----> 1\u001b[0;31m \u001b[0mnested_arr\u001b[0m \u001b[0;34m+\u001b[0m \u001b[0mnested_arr\u001b[0m\u001b[0;34m\u001b[0m\u001b[0;34m\u001b[0m\u001b[0m\n\u001b[0m",
      "\u001b[0;31mTypeError\u001b[0m: unsupported operand type(s) for +: 'pyarrow.lib.ListArray' and 'pyarrow.lib.ListArray'"
     ]
    }
   ],
   "source": [
    "nested_arr + nested_arr"
   ]
  },
  {
   "cell_type": "code",
   "execution_count": 171,
   "id": "47465d1a-6f58-40f4-8852-48629a0ebd7c",
   "metadata": {},
   "outputs": [],
   "source": [
    "# t = pa.table([\n",
    "#       pa.array([\"a\", \"a\", \"b\", \"b\", \"c\"]),\n",
    "#       pa.array([1, 2, 3, 4, 5]),\n",
    "# ], names=[\"keys\", \"values\"])"
   ]
  },
  {
   "cell_type": "code",
   "execution_count": 174,
   "id": "f6f54e2d-f7ac-4beb-ab87-0c8fa4f547c7",
   "metadata": {},
   "outputs": [],
   "source": [
    "t = pa.table([\n",
    "      pa.array([\"a\", \"a\", \"b\", \"b\", \"c\"]),\n",
    "      pa.array([[1], [2], [3], [4], [5]]),\n",
    "], names=[\"keys\", \"values\"])"
   ]
  },
  {
   "cell_type": "code",
   "execution_count": 175,
   "id": "44431d78-4442-4667-9b74-0078a5c97a20",
   "metadata": {},
   "outputs": [
    {
     "ename": "ArrowNotImplementedError",
     "evalue": "Function 'hash_sum' has no kernel matching input types (array[list<item: int64>], array[uint32])",
     "output_type": "error",
     "traceback": [
      "\u001b[0;31m---------------------------------------------------------------------------\u001b[0m",
      "\u001b[0;31mArrowNotImplementedError\u001b[0m                  Traceback (most recent call last)",
      "\u001b[0;32m/var/folders/7n/9h84vrpx4yqc69b56ntkjgjr0000gn/T/ipykernel_31544/3142859766.py\u001b[0m in \u001b[0;36m<module>\u001b[0;34m\u001b[0m\n\u001b[0;32m----> 1\u001b[0;31m \u001b[0mt\u001b[0m\u001b[0;34m.\u001b[0m\u001b[0mgroup_by\u001b[0m\u001b[0;34m(\u001b[0m\u001b[0;34m\"keys\"\u001b[0m\u001b[0;34m)\u001b[0m\u001b[0;34m.\u001b[0m\u001b[0maggregate\u001b[0m\u001b[0;34m(\u001b[0m\u001b[0;34m[\u001b[0m\u001b[0;34m(\u001b[0m\u001b[0;34m\"values\"\u001b[0m\u001b[0;34m,\u001b[0m \u001b[0;34m\"sum\"\u001b[0m\u001b[0;34m)\u001b[0m\u001b[0;34m]\u001b[0m\u001b[0;34m)\u001b[0m\u001b[0;34m\u001b[0m\u001b[0;34m\u001b[0m\u001b[0m\n\u001b[0m",
      "\u001b[0;32m~/dev/PySyft/.tox/syft.jupyter/lib/python3.9/site-packages/pyarrow/table.pxi\u001b[0m in \u001b[0;36mpyarrow.lib.TableGroupBy.aggregate\u001b[0;34m()\u001b[0m\n",
      "\u001b[0;32m~/dev/PySyft/.tox/syft.jupyter/lib/python3.9/site-packages/pyarrow/_compute.pyx\u001b[0m in \u001b[0;36mpyarrow._compute._group_by\u001b[0;34m()\u001b[0m\n",
      "\u001b[0;32m~/dev/PySyft/.tox/syft.jupyter/lib/python3.9/site-packages/pyarrow/error.pxi\u001b[0m in \u001b[0;36mpyarrow.lib.pyarrow_internal_check_status\u001b[0;34m()\u001b[0m\n",
      "\u001b[0;32m~/dev/PySyft/.tox/syft.jupyter/lib/python3.9/site-packages/pyarrow/error.pxi\u001b[0m in \u001b[0;36mpyarrow.lib.check_status\u001b[0;34m()\u001b[0m\n",
      "\u001b[0;31mArrowNotImplementedError\u001b[0m: Function 'hash_sum' has no kernel matching input types (array[list<item: int64>], array[uint32])"
     ]
    }
   ],
   "source": [
    "t.group_by(\"keys\").aggregate([(\"values\", \"sum\")])"
   ]
  },
  {
   "cell_type": "code",
   "execution_count": 176,
   "id": "1f1e87c4-40e0-4a40-b79c-2f579a8127b9",
   "metadata": {},
   "outputs": [
    {
     "data": {
      "text/plain": [
       "<pyarrow.lib.TableGroupBy at 0x14fa7f4c0>"
      ]
     },
     "execution_count": 176,
     "metadata": {},
     "output_type": "execute_result"
    }
   ],
   "source": [
    "t.group_by(\"keys\")"
   ]
  },
  {
   "cell_type": "code",
   "execution_count": null,
   "id": "a695c63d-9f03-4c49-afe6-feceacb5baa1",
   "metadata": {},
   "outputs": [],
   "source": []
  }
 ],
 "metadata": {
  "kernelspec": {
   "display_name": "Python 3 (ipykernel)",
   "language": "python",
   "name": "python3"
  },
  "language_info": {
   "codemirror_mode": {
    "name": "ipython",
    "version": 3
   },
   "file_extension": ".py",
   "mimetype": "text/x-python",
   "name": "python",
   "nbconvert_exporter": "python",
   "pygments_lexer": "ipython3",
   "version": "3.9.9"
  }
 },
 "nbformat": 4,
 "nbformat_minor": 5
}

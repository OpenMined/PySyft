{
 "cells": [
  {
   "cell_type": "code",
   "execution_count": 1,
   "id": "6342e315-576d-4e75-b3c8-e338d614c66d",
   "metadata": {},
   "outputs": [],
   "source": [
    "# !pip install pymongo"
   ]
  },
  {
   "cell_type": "code",
   "execution_count": 2,
   "id": "c2f74465-e4f1-4d13-a4e1-9779b29373e9",
   "metadata": {},
   "outputs": [],
   "source": [
    "# future\n",
    "from __future__ import annotations\n",
    "\n",
    "# stdlib\n",
    "from typing import *\n",
    "from uuid import UUID\n",
    "from collections import defaultdict\n",
    "\n",
    "# third party\n",
    "import pydantic\n",
    "from pydantic import BaseModel\n",
    "import pymongo\n",
    "from pymongo import MongoClient\n",
    "from nacl.signing import SigningKey\n",
    "\n",
    "# syft absolute\n",
    "import syft as sy\n",
    "from syft.core.common import UID\n",
    "from syft.lib.python import Dict as SyDict"
   ]
  },
  {
   "cell_type": "code",
   "execution_count": 3,
   "id": "8c807d11-4857-48e0-a13f-d21b0427ba02",
   "metadata": {},
   "outputs": [],
   "source": [
    "client = MongoClient(host='localhost', port=57100, username=\"root\", password=\"example\", uuidRepresentation=\"standard\")"
   ]
  },
  {
   "cell_type": "code",
   "execution_count": 4,
   "id": "77e3af47-e44e-4e8e-ac61-f2d9b713b7da",
   "metadata": {},
   "outputs": [],
   "source": [
    "db = client[\"app\"]"
   ]
  },
  {
   "cell_type": "code",
   "execution_count": 5,
   "id": "6ae22ef4-04a9-453b-a7d5-e12abb18843e",
   "metadata": {},
   "outputs": [
    {
     "data": {
      "text/plain": [
       "['users']"
      ]
     },
     "execution_count": 5,
     "metadata": {},
     "output_type": "execute_result"
    }
   ],
   "source": [
    "db.list_collection_names()"
   ]
  },
  {
   "cell_type": "code",
   "execution_count": 6,
   "id": "5708beb9-2227-4372-a69c-a7e58fafbd06",
   "metadata": {},
   "outputs": [],
   "source": [
    "class SyftObjectRegistry:\n",
    "    __object_version_registry__: Dict[str, Dict[int, Type[SyftObject]]] = defaultdict(lambda: {})\n",
    "    def __init_subclass__(cls, **kwargs: Any) -> None:\n",
    "        super().__init_subclass__(**kwargs)\n",
    "        if hasattr(cls, \"__canonical_name__\"):\n",
    "            cls.__object_version_registry__[cls.__canonical_name__][int(cls.__version__)] = cls\n",
    "\n",
    "    @classmethod\n",
    "    def versioned_class(cls, name: str, version: int) -> Optional[Type[SyftObject]]:\n",
    "        if name not in cls.__object_version_registry__:\n",
    "            return None\n",
    "        classes = cls.__object_version_registry__[name]\n",
    "        if version not in classes:\n",
    "            return None\n",
    "        return classes[version]"
   ]
  },
  {
   "cell_type": "code",
   "execution_count": 7,
   "id": "9433e951-6871-412f-9bf9-9864955fd496",
   "metadata": {},
   "outputs": [],
   "source": [
    "class SyftObject(BaseModel, SyftObjectRegistry):    \n",
    "    class Config:\n",
    "        arbitrary_types_allowed = True\n",
    "\n",
    "    # all objects have a UID\n",
    "    id: UID = None # consistent and persistent uuid across systems\n",
    "    @pydantic.validator(\"id\", pre=True, always=True)\n",
    "    def make_id(cls, v):\n",
    "        return v if isinstance(v, UID) else UID()\n",
    "    \n",
    "    __canonical_name__: str # the name which doesn't change even when there are multiple classes\n",
    "    __version__: int # data is always versioned\n",
    "    __attr_state__: List[str] # persistent recursive serde keys\n",
    "    __attr_searchable__: List[str] # keys which can be searched in the ORM\n",
    "    __attr_unique__: List[str] # the unique keys for the particular Collection the objects will be stored in\n",
    "\n",
    "    def to_mongo(self) -> Dict[str, Any]:\n",
    "        d = {}\n",
    "        for k in self.__attr_searchable__:\n",
    "            d[k] = getattr(self, k)\n",
    "        blob = self.to_bytes()\n",
    "        d[\"_id\"] = self.id.value\n",
    "        d[\"__canonical_name__\"] = self.__canonical_name__\n",
    "        d[\"__version__\"] = self.__version__\n",
    "        d[\"__blob__\"] = blob\n",
    "\n",
    "        return d\n",
    "\n",
    "    @staticmethod\n",
    "    def from_mongo(bson: Any) -> SyftObject:\n",
    "        constructor = SyftObjectRegistry.versioned_class(\n",
    "            name=bson[\"__canonical_name__\"], version=bson[\"__version__\"]\n",
    "        )\n",
    "        return constructor(**sy.deserialize(bson[\"__blob__\"], from_bytes=True).upcast())\n",
    "\n",
    "    def to_bytes(self) -> bytes:\n",
    "        d = SyDict(**self)\n",
    "        return sy.serialize(d, to_bytes=True)\n",
    "    \n",
    "    @staticmethod\n",
    "    def from_bytes(blob: bytes) -> SyftObject:\n",
    "        return sy.deserialize(blob, from_bytes=True)\n",
    "\n",
    "    # allows splatting with **\n",
    "    def keys(self) -> KeysView[str]:\n",
    "        return self.__dict__.keys()\n",
    "\n",
    "    # allows splatting with **\n",
    "    def __getitem__(self, key: str) -> Any:\n",
    "        return self.__dict__.__getitem__(key)\n",
    "    \n",
    "    def _upgrade_version(self, latest: bool = True) -> SyftObject:\n",
    "        constructor = SyftObjectRegistry.versioned_class(\n",
    "            name=self.__canonical_name__, version=self.__version__+1\n",
    "        )\n",
    "        if not constructor:\n",
    "            return self\n",
    "        else:\n",
    "            # should we do some kind of recursive upgrades?\n",
    "            upgraded = constructor._from_previous_version(self)\n",
    "            if latest:\n",
    "                upgraded = upgraded._upgrade_version(latest=latest)\n",
    "            return upgraded"
   ]
  },
  {
   "cell_type": "code",
   "execution_count": 8,
   "id": "98364b25-1d76-4c0d-b790-a81743b554fb",
   "metadata": {},
   "outputs": [],
   "source": [
    "class SyftUser(SyftObject):\n",
    "    # version\n",
    "    __canonical_name__ = \"SyftUser\"\n",
    "    __version__ = 1\n",
    "\n",
    "    # fields\n",
    "    email: str\n",
    "    name: str\n",
    "    bad_key: bool = False\n",
    "\n",
    "    # serde / storage rules\n",
    "    __attr_state__ = [\"email\", \"name\", \"bad_key\"]\n",
    "    __attr_searchable__ = [\"email\", \"name\", \"bad_key\"]\n",
    "    __attr_unique__ = [\"email\"]"
   ]
  },
  {
   "cell_type": "code",
   "execution_count": 9,
   "id": "1e871c1e-52b5-46bd-9aa6-9ae46e23dc49",
   "metadata": {},
   "outputs": [],
   "source": [
    "class SyftUserV2(SyftObject):\n",
    "    # version\n",
    "    __canonical_name__ = \"SyftUser\"\n",
    "    __version__ = 2\n",
    "\n",
    "    # fields\n",
    "    email: str\n",
    "    name: str\n",
    "    signing_key: bytes\n",
    "\n",
    "    # serde / storage rules\n",
    "    __attr_state__ = [\"email\", \"name\"]\n",
    "    __attr_searchable__ = [\"email\", \"name\"]\n",
    "    __attr_unique__ = [\"email\"]\n",
    "    \n",
    "    @classmethod\n",
    "    def _from_previous_version(cls, userv1: SyftUser) -> SyftUserV2:\n",
    "        kwargs = dict(**userv1)\n",
    "        kwargs.update({\"signing_key\":bytes(SigningKey.generate())})\n",
    "        return cls(**kwargs) # ignore bad_key"
   ]
  },
  {
   "cell_type": "code",
   "execution_count": 10,
   "id": "92b46b64-dd82-443e-9f86-40ea3756a612",
   "metadata": {},
   "outputs": [],
   "source": [
    "# a collection is like a table of documents but with what ever shape you like\n",
    "class SyftCollection:\n",
    "    _db: str\n",
    "    _collection_name: str\n",
    "    _collection: pymongo.collection.Collection\n",
    "    _syft_object_type: Dict[int, Type[SyftObject]]\n",
    "    \n",
    "    def __init__(self, client: pymongo.mongo_client.MongoClient) -> None:\n",
    "        self._db = client[self._db]\n",
    "        self._collection = self._db[self._collection_name]\n",
    "\n",
    "    def add(self, obj: SyftObject) -> SyftObject:\n",
    "        self._collection.insert_one(obj.to_mongo())\n",
    "\n",
    "    def drop(self) -> None:\n",
    "        self._collection.drop()\n",
    "\n",
    "    def delete() -> None: pass\n",
    "    def update() -> None: pass\n",
    "    def find(self, search_params: Dict[str, Any]) -> List[SyftObject]:\n",
    "        results = []\n",
    "        res = self._collection.find(search_params)\n",
    "        for d in res:\n",
    "            results.append(SyftObject.from_mongo(d))\n",
    "        return results\n",
    "    def find_one(self, search_params: Dict[str, Any]) -> Optional[SyftObject]:\n",
    "        d = self._collection.find_one(search_params)\n",
    "        if d is None:\n",
    "            return d\n",
    "        return SyftObject.from_mongo(d)"
   ]
  },
  {
   "cell_type": "code",
   "execution_count": 11,
   "id": "2c15ae0b-0077-4683-a58c-32d92afeed5e",
   "metadata": {},
   "outputs": [],
   "source": [
    "# a collection of SyftUsers\n",
    "class SyftUserCollection(SyftCollection):\n",
    "    _db = \"app\"\n",
    "    _collection_name = \"users\"\n",
    "    __canonical_object_name__ = \"SyftUser\""
   ]
  },
  {
   "cell_type": "code",
   "execution_count": 12,
   "id": "a3cb8f4e-3934-44a9-8065-9a834e38df31",
   "metadata": {},
   "outputs": [],
   "source": [
    "# do some object creation and serde"
   ]
  },
  {
   "cell_type": "code",
   "execution_count": 13,
   "id": "f8848709-d8ff-4f6c-b100-b369e313e4ab",
   "metadata": {},
   "outputs": [],
   "source": [
    "uid = UUID('3873fc45-f513-48ab-8a47-7306bc7382b0')"
   ]
  },
  {
   "cell_type": "code",
   "execution_count": 14,
   "id": "c05bab08-ba51-43a5-9c43-811493d547a5",
   "metadata": {},
   "outputs": [],
   "source": [
    "madhava = SyftUser(email=\"madhava@openmined.org\", name=\"Madhava\", id=uid)"
   ]
  },
  {
   "cell_type": "code",
   "execution_count": 15,
   "id": "81992e2e-b8ca-49df-8d91-3fe3b20f694a",
   "metadata": {},
   "outputs": [],
   "source": [
    "ser = madhava.to_bytes()"
   ]
  },
  {
   "cell_type": "code",
   "execution_count": 16,
   "id": "cbb14e17-9e54-4d89-a36e-87f2509cb274",
   "metadata": {},
   "outputs": [],
   "source": [
    "de = SyftUser.from_bytes(ser)"
   ]
  },
  {
   "cell_type": "code",
   "execution_count": 17,
   "id": "3886f178-3f0a-49d0-9ce1-dd7b9131ba83",
   "metadata": {},
   "outputs": [],
   "source": [
    "assert madhava == de"
   ]
  },
  {
   "cell_type": "code",
   "execution_count": 18,
   "id": "a03915f5-cad6-4420-8039-d6c862a3441c",
   "metadata": {},
   "outputs": [],
   "source": [
    "key = SigningKey.generate()"
   ]
  },
  {
   "cell_type": "code",
   "execution_count": 19,
   "id": "1584d9b5-867c-4213-8145-b3084101b196",
   "metadata": {},
   "outputs": [],
   "source": [
    "madhava_v2 = SyftUserV2(email=\"madhava@openmined.org\", name=\"Madhava\", signing_key=bytes(key))"
   ]
  },
  {
   "cell_type": "code",
   "execution_count": 20,
   "id": "14da3f84-5f4f-4deb-8e1a-db8c531c17b4",
   "metadata": {},
   "outputs": [
    {
     "data": {
      "text/plain": [
       "SyftUserV2(id=<UID: 381f96a1451347d3b49b021ee5e9b770>, email='madhava@openmined.org', name='Madhava', signing_key=b'\\x96h \\xad\\xcd\\x88\\xa9y\\x82f\\xdc\\xfa\\xce\\xd6\\xf5IV.\\xfe\\x00\\xdb%\\xff\\xd3\\xd2_\\x19\\xbe%e\\x17\\xb9')"
      ]
     },
     "execution_count": 20,
     "metadata": {},
     "output_type": "execute_result"
    }
   ],
   "source": [
    "madhava_v2"
   ]
  },
  {
   "cell_type": "code",
   "execution_count": 21,
   "id": "a05db109-f1b8-4598-87fc-c031654d7580",
   "metadata": {},
   "outputs": [],
   "source": [
    "assert madhava_v2.__canonical_name__ == madhava.__canonical_name__"
   ]
  },
  {
   "cell_type": "code",
   "execution_count": 22,
   "id": "d79af636-cc09-4372-9828-072ea933ed1e",
   "metadata": {},
   "outputs": [],
   "source": [
    "# do some collection stuff"
   ]
  },
  {
   "cell_type": "code",
   "execution_count": 23,
   "id": "d4f46e48-84f8-45b8-a02a-60a86d69e383",
   "metadata": {},
   "outputs": [],
   "source": [
    "user_collection = SyftUserCollection(client=client)\n",
    "user_collection.drop()"
   ]
  },
  {
   "cell_type": "code",
   "execution_count": 24,
   "id": "176afa2d-b131-44f4-8a80-6484aa5fe2cf",
   "metadata": {},
   "outputs": [],
   "source": [
    "user_collection.add(madhava)"
   ]
  },
  {
   "cell_type": "code",
   "execution_count": 25,
   "id": "379ac6b8-66bf-44e9-88c6-8cbea75fda3d",
   "metadata": {},
   "outputs": [
    {
     "name": "stdout",
     "output_type": "stream",
     "text": [
      "Duplicate key\n"
     ]
    }
   ],
   "source": [
    "try:\n",
    "    user_collection.add(madhava)\n",
    "except pymongo.errors.DuplicateKeyError as e:\n",
    "    print(\"Duplicate key\")"
   ]
  },
  {
   "cell_type": "code",
   "execution_count": 26,
   "id": "eadf7de0-d5a5-458e-ad29-14cb7bdd6ec7",
   "metadata": {},
   "outputs": [],
   "source": [
    "madhava = user_collection.find_one({\"name\": \"Madhava\"})"
   ]
  },
  {
   "cell_type": "code",
   "execution_count": 27,
   "id": "3886351a-754b-4021-8068-73d48702ad63",
   "metadata": {},
   "outputs": [
    {
     "data": {
      "text/plain": [
       "__main__.SyftUser"
      ]
     },
     "execution_count": 27,
     "metadata": {},
     "output_type": "execute_result"
    }
   ],
   "source": [
    "type(madhava)"
   ]
  },
  {
   "cell_type": "code",
   "execution_count": 28,
   "id": "f3af7233-8fd5-40bb-bf8f-b98c888732a9",
   "metadata": {},
   "outputs": [],
   "source": [
    "user_collection.add(madhava_v2)"
   ]
  },
  {
   "cell_type": "code",
   "execution_count": 29,
   "id": "995c23f8-ec37-403a-a126-b05b58ea8c1d",
   "metadata": {},
   "outputs": [],
   "source": [
    "madhavas = user_collection.find({\"name\": \"Madhava\"})"
   ]
  },
  {
   "cell_type": "code",
   "execution_count": 30,
   "id": "0dfb1160-126a-45b1-8b34-0fdbb285dd6e",
   "metadata": {},
   "outputs": [
    {
     "name": "stdout",
     "output_type": "stream",
     "text": [
      "1 id=<UID: 9cc591d7c101493c870672f946d14482> email='madhava@openmined.org' name='Madhava' bad_key=False\n",
      "2 id=<UID: 381f96a1451347d3b49b021ee5e9b770> email='madhava@openmined.org' name='Madhava' signing_key=b'\\x96h \\xad\\xcd\\x88\\xa9y\\x82f\\xdc\\xfa\\xce\\xd6\\xf5IV.\\xfe\\x00\\xdb%\\xff\\xd3\\xd2_\\x19\\xbe%e\\x17\\xb9'\n",
      "2 id=<UID: 9cc591d7c101493c870672f946d14482> email='madhava@openmined.org' name='Madhava' signing_key=b'=\\x86\\xcd\\xa2Y{\\xfc+\\xd5Vs:\\xb0q\\xe0\\xb7\\x04\\xb0\\x11H\\x8e\\x13+\\x1b\\x87;\\x8e\\xa1T\\xba\\xeca'\n",
      "2 id=<UID: 381f96a1451347d3b49b021ee5e9b770> email='madhava@openmined.org' name='Madhava' signing_key=b'\\x96h \\xad\\xcd\\x88\\xa9y\\x82f\\xdc\\xfa\\xce\\xd6\\xf5IV.\\xfe\\x00\\xdb%\\xff\\xd3\\xd2_\\x19\\xbe%e\\x17\\xb9'\n"
     ]
    }
   ],
   "source": [
    "# a collection of different versioned types\n",
    "upgraded = []\n",
    "for m in madhavas:\n",
    "    print(m.__version__, m)\n",
    "    upgraded.append(m._upgrade_version())\n",
    "    \n",
    "for m in upgraded:\n",
    "    print(m.__version__, m)"
   ]
  },
  {
   "cell_type": "code",
   "execution_count": null,
   "id": "8d1a760d-c420-4e4c-a322-ece5d5f2fcaf",
   "metadata": {},
   "outputs": [],
   "source": []
  }
 ],
 "metadata": {
  "kernelspec": {
   "display_name": "Python 3 (ipykernel)",
   "language": "python",
   "name": "python3"
  },
  "language_info": {
   "codemirror_mode": {
    "name": "ipython",
    "version": 3
   },
   "file_extension": ".py",
   "mimetype": "text/x-python",
   "name": "python",
   "nbconvert_exporter": "python",
   "pygments_lexer": "ipython3",
   "version": "3.10.4"
  }
 },
 "nbformat": 4,
 "nbformat_minor": 5
}

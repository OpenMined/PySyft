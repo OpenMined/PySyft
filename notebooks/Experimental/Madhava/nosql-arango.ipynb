{
 "cells": [
  {
   "cell_type": "code",
   "execution_count": 1,
   "id": "6342e315-576d-4e75-b3c8-e338d614c66d",
   "metadata": {},
   "outputs": [],
   "source": [
    "# !pip install pyarango"
   ]
  },
  {
   "cell_type": "code",
   "execution_count": 2,
   "id": "c2f74465-e4f1-4d13-a4e1-9779b29373e9",
   "metadata": {},
   "outputs": [
    {
     "name": "stderr",
     "output_type": "stream",
     "text": [
      "/Users/rasswanth/PySyft/.tox/syft.jupyter/lib/python3.9/site-packages/jax/_src/lib/__init__.py:33: UserWarning: JAX on Mac ARM machines is experimental and minimally tested. Please see https://github.com/google/jax/issues/5501 in the event of problems.\n",
      "  warnings.warn(\"JAX on Mac ARM machines is experimental and minimally tested. \"\n"
     ]
    }
   ],
   "source": [
    "# future\n",
    "from __future__ import annotations\n",
    "\n",
    "# stdlib\n",
    "from typing import *\n",
    "from uuid import UUID\n",
    "from collections import defaultdict\n",
    "\n",
    "# third party\n",
    "import pydantic\n",
    "from pydantic import BaseModel\n",
    "import pyArango\n",
    "from pyArango.connection import *\n",
    "\n",
    "from nacl.signing import SigningKey\n",
    "\n",
    "# syft absolute\n",
    "import syft as sy\n",
    "from syft.core.common import UID\n",
    "from syft.lib.python import Dict as SyDict"
   ]
  },
  {
   "cell_type": "code",
   "execution_count": 3,
   "id": "8c807d11-4857-48e0-a13f-d21b0427ba02",
   "metadata": {},
   "outputs": [],
   "source": [
    "client = Connection(arangoURL='http://127.0.0.1:51930', username=\"root\", password=\"somepassword\")"
   ]
  },
  {
   "cell_type": "code",
   "execution_count": 4,
   "id": "deb8d6f5-fc5b-4fd6-b846-7cf19f571c05",
   "metadata": {},
   "outputs": [],
   "source": [
    "if client.hasDatabase(\"app\"):\n",
    "    db = client[\"app\"]\n",
    "else:\n",
    "    db = client.createDatabase(name=\"app\")"
   ]
  },
  {
   "cell_type": "code",
   "execution_count": 5,
   "id": "09de9117-f978-427a-8e42-3a9d2b1fddce",
   "metadata": {},
   "outputs": [],
   "source": [
    "if not db.hasCollection(\"users\"):\n",
    "    db.createCollection(name=\"users\")"
   ]
  },
  {
   "cell_type": "code",
   "execution_count": 9,
   "id": "5708beb9-2227-4372-a69c-a7e58fafbd06",
   "metadata": {},
   "outputs": [],
   "source": [
    "class SyftObjectRegistry:\n",
    "    __object_version_registry__: Dict[str, Dict[int, Type[SyftObject]]] = defaultdict(lambda: {})\n",
    "    def __init_subclass__(cls, **kwargs: Any) -> None:\n",
    "        super().__init_subclass__(**kwargs)\n",
    "        if hasattr(cls, \"__canonical_name__\"):\n",
    "            cls.__object_version_registry__[cls.__canonical_name__][int(cls.__version__)] = cls\n",
    "\n",
    "    @classmethod\n",
    "    def versioned_class(cls, name: str, version: int) -> Optional[Type[SyftObject]]:\n",
    "        if name not in cls.__object_version_registry__:\n",
    "            return None\n",
    "        classes = cls.__object_version_registry__[name]\n",
    "        if version not in classes:\n",
    "            return None\n",
    "        return classes[version]"
   ]
  },
  {
   "cell_type": "code",
   "execution_count": 45,
   "id": "9433e951-6871-412f-9bf9-9864955fd496",
   "metadata": {},
   "outputs": [],
   "source": [
    "class SyftObject(BaseModel, SyftObjectRegistry):    \n",
    "    class Config:\n",
    "        arbitrary_types_allowed = True\n",
    "\n",
    "    # all objects have a UID\n",
    "    id: UID = None # consistent and persistent uuid across systems\n",
    "    @pydantic.validator(\"id\", pre=True, always=True)\n",
    "    def make_id(cls, v):\n",
    "        return v if isinstance(v, UID) else UID()\n",
    "    \n",
    "    __canonical_name__: str # the name which doesn't change even when there are multiple classes\n",
    "    __version__: int # data is always versioned\n",
    "    __attr_state__: List[str] # persistent recursive serde keys\n",
    "    __attr_searchable__: List[str] # keys which can be searched in the ORM\n",
    "    __attr_unique__: List[str] # the unique keys for the particular Collection the objects will be stored in\n",
    "\n",
    "    def to_arango(self,doc) -> Dict[str, Any]:\n",
    "        for k in self.__attr_searchable__:\n",
    "            doc[k] = getattr(self, k)\n",
    "        blob = self.to_bytes()\n",
    "        doc[\"_key\"] = self.id.value\n",
    "        doc[\"__canonical_name__\"] = self.__canonical_name__\n",
    "        doc[\"__version__\"] = self.__version__\n",
    "        doc[\"__blob__\"] = blob\n",
    "        doc.save()\n",
    "\n",
    "    @staticmethod\n",
    "    def from_arango(bson: Any) -> SyftObject:\n",
    "        constructor = SyftObjectRegistry.versioned_class(\n",
    "            name=bson[\"__canonical_name__\"], version=bson[\"__version__\"]\n",
    "        )\n",
    "        return constructor(**sy.deserialize(bson[\"__blob__\"], from_bytes=True).upcast())\n",
    "\n",
    "    def to_bytes(self) -> bytes:\n",
    "        d = SyDict(**self)\n",
    "        return sy.serialize(d, to_bytes=True)\n",
    "    \n",
    "    @staticmethod\n",
    "    def from_bytes(blob: bytes) -> SyftObject:\n",
    "        return sy.deserialize(blob, from_bytes=True)\n",
    "\n",
    "    # allows splatting with **\n",
    "    def keys(self) -> KeysView[str]:\n",
    "        return self.__dict__.keys()\n",
    "\n",
    "    # allows splatting with **\n",
    "    def __getitem__(self, key: str) -> Any:\n",
    "        return self.__dict__.__getitem__(key)\n",
    "    \n",
    "    def _upgrade_version(self, latest: bool = True) -> SyftObject:\n",
    "        constructor = SyftObjectRegistry.versioned_class(\n",
    "            name=self.__canonical_name__, version=self.__version__+1\n",
    "        )\n",
    "        if not constructor:\n",
    "            return self\n",
    "        else:\n",
    "            # should we do some kind of recursive upgrades?\n",
    "            upgraded = constructor._from_previous_version(self)\n",
    "            if latest:\n",
    "                upgraded = upgraded._upgrade_version(latest=latest)\n",
    "            return upgraded"
   ]
  },
  {
   "cell_type": "code",
   "execution_count": 46,
   "id": "98364b25-1d76-4c0d-b790-a81743b554fb",
   "metadata": {},
   "outputs": [],
   "source": [
    "class SyftUser(SyftObject):\n",
    "    # version\n",
    "    __canonical_name__ = \"SyftUser\"\n",
    "    __version__ = 1\n",
    "\n",
    "    # fields\n",
    "    email: str\n",
    "    name: str\n",
    "    bad_key: bool = False\n",
    "\n",
    "    # serde / storage rules\n",
    "    __attr_state__ = [\"email\", \"name\", \"bad_key\"]\n",
    "    __attr_searchable__ = [\"email\", \"name\", \"bad_key\"]\n",
    "    __attr_unique__ = [\"email\"]"
   ]
  },
  {
   "cell_type": "code",
   "execution_count": 47,
   "id": "1e871c1e-52b5-46bd-9aa6-9ae46e23dc49",
   "metadata": {},
   "outputs": [],
   "source": [
    "class SyftUserV2(SyftObject):\n",
    "    # version\n",
    "    __canonical_name__ = \"SyftUser\"\n",
    "    __version__ = 2\n",
    "\n",
    "    # fields\n",
    "    email: str\n",
    "    name: str\n",
    "    signing_key: bytes\n",
    "\n",
    "    # serde / storage rules\n",
    "    __attr_state__ = [\"email\", \"name\"]\n",
    "    __attr_searchable__ = [\"email\", \"name\"]\n",
    "    __attr_unique__ = [\"email\"]\n",
    "    \n",
    "    @classmethod\n",
    "    def _from_previous_version(cls, userv1: SyftUser) -> SyftUserV2:\n",
    "        kwargs = dict(**userv1)\n",
    "        kwargs.update({\"signing_key\":bytes(SigningKey.generate())})\n",
    "        return cls(**kwargs) # ignore bad_key"
   ]
  },
  {
   "cell_type": "code",
   "execution_count": 100,
   "id": "92b46b64-dd82-443e-9f86-40ea3756a612",
   "metadata": {},
   "outputs": [],
   "source": [
    "# a collection is like a table of documents but with what ever shape you like\n",
    "class SyftCollection:\n",
    "    _db: str\n",
    "    _collection_name: str\n",
    "    _collection: pyArango.collection.Collection\n",
    "    _syft_object_type: Dict[int, Type[SyftObject]]\n",
    "    \n",
    "    def __init__(self, client: pyArango.connection.Connection) -> None:\n",
    "        self._db = client[self._db]\n",
    "        self._collection = self._db[self._collection_name]\n",
    "\n",
    "    def add(self, obj: SyftObject) -> SyftObject:\n",
    "        doc = self._collection.createDocument()\n",
    "        obj.to_arango(doc)\n",
    "\n",
    "    def drop(self) -> None:\n",
    "        self._collection.truncate()\n",
    "\n",
    "    def delete() -> None: pass\n",
    "    def update() -> None: pass\n",
    "    def find(self, search_params: Dict[str, Any]) -> List[SyftObject]:\n",
    "        results = []\n",
    "        res = self._collection.find(search_params)\n",
    "        for d in res:\n",
    "            results.append(SyftObject.from_mongo(d))\n",
    "        return results\n",
    "    def find_one(self, search_params: Dict[str, Any]) -> Optional[SyftObject]:\n",
    "        d = self._collection.find_one(search_params)\n",
    "        if d is None:\n",
    "            return d\n",
    "        return SyftObject.from_arango(d)"
   ]
  },
  {
   "cell_type": "code",
   "execution_count": 101,
   "id": "2c15ae0b-0077-4683-a58c-32d92afeed5e",
   "metadata": {},
   "outputs": [],
   "source": [
    "# a collection of SyftUsers\n",
    "class SyftUserCollection(SyftCollection):\n",
    "    _db = \"app\"\n",
    "    _collection_name = \"users\"\n",
    "    __canonical_object_name__ = \"SyftUser\""
   ]
  },
  {
   "cell_type": "code",
   "execution_count": 102,
   "id": "a3cb8f4e-3934-44a9-8065-9a834e38df31",
   "metadata": {},
   "outputs": [],
   "source": [
    "# do some object creation and serde"
   ]
  },
  {
   "cell_type": "code",
   "execution_count": 103,
   "id": "f8848709-d8ff-4f6c-b100-b369e313e4ab",
   "metadata": {},
   "outputs": [],
   "source": [
    "uid = UUID('3873fc45-f513-48ab-8a47-7306bc7382b0')"
   ]
  },
  {
   "cell_type": "code",
   "execution_count": 104,
   "id": "c05bab08-ba51-43a5-9c43-811493d547a5",
   "metadata": {},
   "outputs": [],
   "source": [
    "madhava = SyftUser(email=\"madhava@openmined.org\", name=\"Madhava\", id=uid)"
   ]
  },
  {
   "cell_type": "code",
   "execution_count": 105,
   "id": "81992e2e-b8ca-49df-8d91-3fe3b20f694a",
   "metadata": {},
   "outputs": [],
   "source": [
    "ser = madhava.to_bytes()"
   ]
  },
  {
   "cell_type": "code",
   "execution_count": 106,
   "id": "cbb14e17-9e54-4d89-a36e-87f2509cb274",
   "metadata": {},
   "outputs": [],
   "source": [
    "de = SyftUser.from_bytes(ser)"
   ]
  },
  {
   "cell_type": "code",
   "execution_count": 107,
   "id": "3886f178-3f0a-49d0-9ce1-dd7b9131ba83",
   "metadata": {},
   "outputs": [],
   "source": [
    "assert madhava == de"
   ]
  },
  {
   "cell_type": "code",
   "execution_count": 108,
   "id": "a03915f5-cad6-4420-8039-d6c862a3441c",
   "metadata": {},
   "outputs": [],
   "source": [
    "key = SigningKey.generate()"
   ]
  },
  {
   "cell_type": "code",
   "execution_count": 109,
   "id": "1584d9b5-867c-4213-8145-b3084101b196",
   "metadata": {},
   "outputs": [],
   "source": [
    "madhava_v2 = SyftUserV2(email=\"madhava@openmined.org\", name=\"Madhava\", signing_key=bytes(key))"
   ]
  },
  {
   "cell_type": "code",
   "execution_count": 110,
   "id": "14da3f84-5f4f-4deb-8e1a-db8c531c17b4",
   "metadata": {},
   "outputs": [
    {
     "data": {
      "text/plain": [
       "SyftUserV2(id=<UID: 36adec3939944288ad2f23f857a28e1d>, email='madhava@openmined.org', name='Madhava', signing_key=b'i\\xeb}3;\\xd0M\\x88\\xbbN\\x85\\x876\\xe5\\x86\\xe3\\x93\\t?j>\\xa0\\x1b\\xfa\\xa5\\xddq+\\x85\\xc9\\xbbk')"
      ]
     },
     "execution_count": 110,
     "metadata": {},
     "output_type": "execute_result"
    }
   ],
   "source": [
    "madhava_v2"
   ]
  },
  {
   "cell_type": "code",
   "execution_count": 111,
   "id": "a05db109-f1b8-4598-87fc-c031654d7580",
   "metadata": {},
   "outputs": [],
   "source": [
    "assert madhava_v2.__canonical_name__ == madhava.__canonical_name__"
   ]
  },
  {
   "cell_type": "code",
   "execution_count": 112,
   "id": "d79af636-cc09-4372-9828-072ea933ed1e",
   "metadata": {},
   "outputs": [],
   "source": [
    "# do some collection stuff"
   ]
  },
  {
   "cell_type": "code",
   "execution_count": 116,
   "id": "d4f46e48-84f8-45b8-a02a-60a86d69e383",
   "metadata": {},
   "outputs": [],
   "source": [
    "user_collection = SyftUserCollection(client=client)\n",
    "user_collection.drop()"
   ]
  },
  {
   "cell_type": "code",
   "execution_count": 117,
   "id": "176afa2d-b131-44f4-8a80-6484aa5fe2cf",
   "metadata": {},
   "outputs": [],
   "source": [
    "user_collection.add(madhava)"
   ]
  },
  {
   "cell_type": "code",
   "execution_count": 95,
   "id": "4de4a663-a9d9-483b-9007-7119df46dabb",
   "metadata": {},
   "outputs": [],
   "source": [
    "madhava_db = user_collection._collection[madhava.id.value]"
   ]
  },
  {
   "cell_type": "code",
   "execution_count": 121,
   "id": "97a407ca-f2ca-498f-9403-63ec9c8c93b8",
   "metadata": {},
   "outputs": [
    {
     "ename": "TypeError",
     "evalue": "memoryview: a bytes-like object is required, not 'str'",
     "output_type": "error",
     "traceback": [
      "\u001b[0;31m---------------------------------------------------------------------------\u001b[0m",
      "\u001b[0;31mTypeError\u001b[0m                                 Traceback (most recent call last)",
      "Input \u001b[0;32mIn [121]\u001b[0m, in \u001b[0;36m<cell line: 1>\u001b[0;34m()\u001b[0m\n\u001b[0;32m----> 1\u001b[0m \u001b[43mSyftObject\u001b[49m\u001b[38;5;241;43m.\u001b[39;49m\u001b[43mfrom_arango\u001b[49m\u001b[43m(\u001b[49m\u001b[43mmadhava_db\u001b[49m\u001b[43m)\u001b[49m\n",
      "Input \u001b[0;32mIn [45]\u001b[0m, in \u001b[0;36mSyftObject.from_arango\u001b[0;34m(bson)\u001b[0m\n\u001b[1;32m     27\u001b[0m \u001b[38;5;129m@staticmethod\u001b[39m\n\u001b[1;32m     28\u001b[0m \u001b[38;5;28;01mdef\u001b[39;00m \u001b[38;5;21mfrom_arango\u001b[39m(bson: Any) \u001b[38;5;241m-\u001b[39m\u001b[38;5;241m>\u001b[39m SyftObject:\n\u001b[1;32m     29\u001b[0m     constructor \u001b[38;5;241m=\u001b[39m SyftObjectRegistry\u001b[38;5;241m.\u001b[39mversioned_class(\n\u001b[1;32m     30\u001b[0m         name\u001b[38;5;241m=\u001b[39mbson[\u001b[38;5;124m\"\u001b[39m\u001b[38;5;124m__canonical_name__\u001b[39m\u001b[38;5;124m\"\u001b[39m], version\u001b[38;5;241m=\u001b[39mbson[\u001b[38;5;124m\"\u001b[39m\u001b[38;5;124m__version__\u001b[39m\u001b[38;5;124m\"\u001b[39m]\n\u001b[1;32m     31\u001b[0m     )\n\u001b[0;32m---> 32\u001b[0m     \u001b[38;5;28;01mreturn\u001b[39;00m constructor(\u001b[38;5;241m*\u001b[39m\u001b[38;5;241m*\u001b[39m\u001b[43msy\u001b[49m\u001b[38;5;241;43m.\u001b[39;49m\u001b[43mdeserialize\u001b[49m\u001b[43m(\u001b[49m\u001b[43mbson\u001b[49m\u001b[43m[\u001b[49m\u001b[38;5;124;43m\"\u001b[39;49m\u001b[38;5;124;43m__blob__\u001b[39;49m\u001b[38;5;124;43m\"\u001b[39;49m\u001b[43m]\u001b[49m\u001b[43m,\u001b[49m\u001b[43m \u001b[49m\u001b[43mfrom_bytes\u001b[49m\u001b[38;5;241;43m=\u001b[39;49m\u001b[38;5;28;43;01mTrue\u001b[39;49;00m\u001b[43m)\u001b[49m\u001b[38;5;241m.\u001b[39mupcast())\n",
      "File \u001b[0;32m~/PySyft/packages/syft/src/syft/core/common/serde/deserialize.py:80\u001b[0m, in \u001b[0;36m_deserialize\u001b[0;34m(blob, from_proto, from_bytes)\u001b[0m\n\u001b[1;32m     78\u001b[0m \u001b[38;5;28;01mif\u001b[39;00m from_bytes:\n\u001b[1;32m     79\u001b[0m     data_message \u001b[38;5;241m=\u001b[39m DataMessage()\n\u001b[0;32m---> 80\u001b[0m     \u001b[43mdata_message\u001b[49m\u001b[38;5;241;43m.\u001b[39;49m\u001b[43mParseFromString\u001b[49m\u001b[43m(\u001b[49m\u001b[43mblob\u001b[49m\u001b[43m)\u001b[49m\n\u001b[1;32m     81\u001b[0m     obj_type \u001b[38;5;241m=\u001b[39m index_syft_by_module_name(fully_qualified_name\u001b[38;5;241m=\u001b[39mdata_message\u001b[38;5;241m.\u001b[39mobj_type)\n\u001b[1;32m     82\u001b[0m     get_protobuf_schema \u001b[38;5;241m=\u001b[39m \u001b[38;5;28mgetattr\u001b[39m(obj_type, \u001b[38;5;124m\"\u001b[39m\u001b[38;5;124mget_protobuf_schema\u001b[39m\u001b[38;5;124m\"\u001b[39m, \u001b[38;5;28;01mNone\u001b[39;00m)\n",
      "File \u001b[0;32m~/PySyft/.tox/syft.jupyter/lib/python3.9/site-packages/google/protobuf/message.py:202\u001b[0m, in \u001b[0;36mMessage.ParseFromString\u001b[0;34m(self, serialized)\u001b[0m\n\u001b[1;32m    194\u001b[0m \u001b[38;5;124;03m\"\"\"Parse serialized protocol buffer data into this message.\u001b[39;00m\n\u001b[1;32m    195\u001b[0m \n\u001b[1;32m    196\u001b[0m \u001b[38;5;124;03mLike :func:`MergeFromString()`, except we clear the object first.\u001b[39;00m\n\u001b[0;32m   (...)\u001b[0m\n\u001b[1;32m    199\u001b[0m \u001b[38;5;124;03m  message.DecodeError if the input cannot be parsed.\u001b[39;00m\n\u001b[1;32m    200\u001b[0m \u001b[38;5;124;03m\"\"\"\u001b[39;00m\n\u001b[1;32m    201\u001b[0m \u001b[38;5;28mself\u001b[39m\u001b[38;5;241m.\u001b[39mClear()\n\u001b[0;32m--> 202\u001b[0m \u001b[38;5;28;01mreturn\u001b[39;00m \u001b[38;5;28;43mself\u001b[39;49m\u001b[38;5;241;43m.\u001b[39;49m\u001b[43mMergeFromString\u001b[49m\u001b[43m(\u001b[49m\u001b[43mserialized\u001b[49m\u001b[43m)\u001b[49m\n",
      "File \u001b[0;32m~/PySyft/.tox/syft.jupyter/lib/python3.9/site-packages/google/protobuf/internal/python_message.py:1125\u001b[0m, in \u001b[0;36m_AddMergeFromStringMethod.<locals>.MergeFromString\u001b[0;34m(self, serialized)\u001b[0m\n\u001b[1;32m   1124\u001b[0m \u001b[38;5;28;01mdef\u001b[39;00m \u001b[38;5;21mMergeFromString\u001b[39m(\u001b[38;5;28mself\u001b[39m, serialized):\n\u001b[0;32m-> 1125\u001b[0m   serialized \u001b[38;5;241m=\u001b[39m \u001b[38;5;28;43mmemoryview\u001b[39;49m\u001b[43m(\u001b[49m\u001b[43mserialized\u001b[49m\u001b[43m)\u001b[49m\n\u001b[1;32m   1126\u001b[0m   length \u001b[38;5;241m=\u001b[39m \u001b[38;5;28mlen\u001b[39m(serialized)\n\u001b[1;32m   1127\u001b[0m   \u001b[38;5;28;01mtry\u001b[39;00m:\n",
      "\u001b[0;31mTypeError\u001b[0m: memoryview: a bytes-like object is required, not 'str'"
     ]
    }
   ],
   "source": [
    "SyftObject.from_arango(madhava_db)"
   ]
  },
  {
   "cell_type": "code",
   "execution_count": 124,
   "id": "df86a262-87b6-449e-801d-51e3fe2e2966",
   "metadata": {},
   "outputs": [
    {
     "data": {
      "text/plain": [
       "\"b'\\\\n\\\\tprotobuf:\\\\x12\\\\x14syft.lib.python.Dict\\\\x1a\\\\xa4\\\\x04\\\\n=\\\\n\\\\tprotobuf:\\\\x12\\\\x16syft.lib.python.String\\\\x1a\\\\x18\\\\n\\\\x02id\\\\x12\\\\x12\\\\n\\\\x10\\\\xf2\\\\x82\\\\x9d#\\\\xd67C\\\\x8e\\\\x8bMQ\\\\x1c\\\\x97\\\\x81!W\\\\n@\\\\n\\\\tprotobuf:\\\\x12\\\\x16syft.lib.python.String\\\\x1a\\\\x1b\\\\n\\\\x05email\\\\x12\\\\x12\\\\n\\\\x10U\\\\xa8\\\\x88\\\\xaa\\\\xfe\\\\xf2H\\\\xd4\\\\xa6.,a6\\\\x0c\\\\xa3Z\\\\n?\\\\n\\\\tprotobuf:\\\\x12\\\\x16syft.lib.python.String\\\\x1a\\\\x1a\\\\n\\\\x04name\\\\x12\\\\x12\\\\n\\\\x10\\\\xaf\\\\xedE\\\\xe2\\\\x17\\\\x9bG\\\\xff\\\\xbc\\\\x99\\\\xd9\\\\x9dr\\\\xaezg\\\\nB\\\\n\\\\tprotobuf:\\\\x12\\\\x16syft.lib.python.String\\\\x1a\\\\x1d\\\\n\\\\x07bad_key\\\\x12\\\\x12\\\\n\\\\x10\\\\x99]c\\\\x9flpDt\\\\xa8\\\\xa9\\\\xb20\\\\xc5Ap\\\\x1d\\\\x129\\\\n\\\\tprotobuf:\\\\x12\\\\x18syft.core.common.uid.UID\\\\x1a\\\\x12\\\\n\\\\x10\\\\xd2\\\\x03%\\\\xc1\\\\xd2\\\\xd6J\\\\x95\\\\xa1\\\\xd0\\\\x87\\\\xe4\\\\xc4\\\\xfc\\\\x1c\\\\x0e\\\\x12P\\\\n\\\\tprotobuf:\\\\x12\\\\x16syft.lib.python.String\\\\x1a+\\\\n\\\\x15madhava@openmined.org\\\\x12\\\\x12\\\\n\\\\x10\\\\xe2\\\\xb3\\\\xb4\\\\xe5\\\\xa4\\\\xd2L\\\\x93\\\\xba\\\\xd7%;\\\\xdd@\\\\x94!\\\\x12B\\\\n\\\\tprotobuf:\\\\x12\\\\x16syft.lib.python.String\\\\x1a\\\\x1d\\\\n\\\\x07Madhava\\\\x12\\\\x12\\\\n\\\\x10H\\\\x89%\\\\xe8/=K\\\\xaf\\\\x8d$\\\\xb6ImSh\\\\x7f\\\\x127\\\\n\\\\tprotobuf:\\\\x12\\\\x14syft.lib.python.Bool\\\\x1a\\\\x14\\\\x12\\\\x12\\\\n\\\\x10y\\\\xcd\\\\x15\\\\xf1\\\\xee\\\\x9eN\\\\xea\\\\xa97f\\\\x1c0\\\\xd9\\\\xf5\\\\x8b\\\\x1a\\\\x12\\\\n\\\\x10\\\\x18\\\\xfd\\\\xb1@f\\\\x17NE\\\\x88*\\\\xc61\\\\xbc\\\\x01\\\\xdba'\""
      ]
     },
     "execution_count": 124,
     "metadata": {},
     "output_type": "execute_result"
    }
   ],
   "source": [
    "madhava_db[\"__blob__\"]"
   ]
  },
  {
   "cell_type": "code",
   "execution_count": 97,
   "id": "3886351a-754b-4021-8068-73d48702ad63",
   "metadata": {},
   "outputs": [
    {
     "data": {
      "text/plain": [
       "pyArango.document.Document"
      ]
     },
     "execution_count": 97,
     "metadata": {},
     "output_type": "execute_result"
    }
   ],
   "source": [
    "type(madhava_db)"
   ]
  },
  {
   "cell_type": "code",
   "execution_count": 98,
   "id": "f3af7233-8fd5-40bb-bf8f-b98c888732a9",
   "metadata": {},
   "outputs": [],
   "source": [
    "user_collection.add(madhava_v2)"
   ]
  },
  {
   "cell_type": "code",
   "execution_count": null,
   "id": "995c23f8-ec37-403a-a126-b05b58ea8c1d",
   "metadata": {},
   "outputs": [],
   "source": [
    "madhavas = user_collection.find({\"name\": \"Madhava\"})"
   ]
  },
  {
   "cell_type": "code",
   "execution_count": null,
   "id": "0dfb1160-126a-45b1-8b34-0fdbb285dd6e",
   "metadata": {},
   "outputs": [],
   "source": [
    "# a collection of different versioned types\n",
    "upgraded = []\n",
    "for m in madhavas:\n",
    "    print(m.__version__, m)\n",
    "    upgraded.append(m._upgrade_version())\n",
    "    \n",
    "for m in upgraded:\n",
    "    print(m.__version__, m)"
   ]
  },
  {
   "cell_type": "code",
   "execution_count": null,
   "id": "8d1a760d-c420-4e4c-a322-ece5d5f2fcaf",
   "metadata": {},
   "outputs": [],
   "source": []
  }
 ],
 "metadata": {
  "kernelspec": {
   "display_name": "Python 3 (ipykernel)",
   "language": "python",
   "name": "python3"
  },
  "language_info": {
   "codemirror_mode": {
    "name": "ipython",
    "version": 3
   },
   "file_extension": ".py",
   "mimetype": "text/x-python",
   "name": "python",
   "nbconvert_exporter": "python",
   "pygments_lexer": "ipython3",
   "version": "3.9.13"
  }
 },
 "nbformat": 4,
 "nbformat_minor": 5
}

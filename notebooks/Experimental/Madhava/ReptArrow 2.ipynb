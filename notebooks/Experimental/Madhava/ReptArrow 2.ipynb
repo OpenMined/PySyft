{
 "cells": [
  {
   "cell_type": "code",
   "execution_count": 1,
   "id": "b62bf0c6-84ea-47bc-ab2b-3558179a5af9",
   "metadata": {},
   "outputs": [],
   "source": [
    "import names"
   ]
  },
  {
   "cell_type": "code",
   "execution_count": 2,
   "id": "6b9d8e59-30c1-4103-a210-14515558466c",
   "metadata": {},
   "outputs": [],
   "source": [
    "import syft as sy"
   ]
  },
  {
   "cell_type": "code",
   "execution_count": 3,
   "id": "9571f123-4c8c-419c-90a4-14d93c15d911",
   "metadata": {},
   "outputs": [],
   "source": [
    "import pyarrow as pa\n",
    "import numpy as np\n",
    "from typing import Optional"
   ]
  },
  {
   "cell_type": "code",
   "execution_count": 4,
   "id": "39b6339d-a53a-4a80-a62e-ab2abd7bf600",
   "metadata": {},
   "outputs": [],
   "source": [
    "from syft.core.adp.entity import DataSubject"
   ]
  },
  {
   "cell_type": "code",
   "execution_count": 5,
   "id": "480077b5-32d3-4c41-a487-d0ac41eee620",
   "metadata": {},
   "outputs": [],
   "source": [
    "from syft.core.adp.vm_private_scalar_manager import VirtualMachinePrivateScalarManager"
   ]
  },
  {
   "cell_type": "code",
   "execution_count": 6,
   "id": "de86e88d-7469-48ba-826d-f7676efd159c",
   "metadata": {},
   "outputs": [],
   "source": [
    "np_array_type = pa.list_(pa.int64())\n",
    "np_dtype = pa.int64()\n",
    "entity_type = pa.string()"
   ]
  },
  {
   "cell_type": "code",
   "execution_count": 7,
   "id": "a4cfc4b6-db97-4987-874c-0a679255c8e4",
   "metadata": {},
   "outputs": [],
   "source": [
    "sept_field_tuples = [\n",
    "    ('child', np_array_type),\n",
    "    ('min_vals', np_array_type),\n",
    "    ('max_vals', np_array_type),\n",
    "    ('entity', entity_type)\n",
    "]"
   ]
  },
  {
   "cell_type": "code",
   "execution_count": 8,
   "id": "936bd2f3-e35e-4388-a047-a0ad97e94b24",
   "metadata": {},
   "outputs": [],
   "source": [
    "SEPTA_struct = pa.struct(sept_field_tuples)"
   ]
  },
  {
   "cell_type": "code",
   "execution_count": 9,
   "id": "a412d173-59fb-4d59-8ddb-52d7034ad50a",
   "metadata": {},
   "outputs": [],
   "source": [
    "SEPTA_struct_list = pa.list_(SEPTA_struct)"
   ]
  },
  {
   "cell_type": "code",
   "execution_count": 10,
   "id": "5ebcc466-8f89-43e5-afc7-91ffba44a785",
   "metadata": {},
   "outputs": [
    {
     "data": {
      "text/plain": [
       "ListType(list<item: struct<child: list<item: int64>, min_vals: list<item: int64>, max_vals: list<item: int64>, entity: string>>)"
      ]
     },
     "execution_count": 10,
     "metadata": {},
     "output_type": "execute_result"
    }
   ],
   "source": [
    "SEPTA_struct_list"
   ]
  },
  {
   "cell_type": "code",
   "execution_count": 11,
   "id": "76de1c7f-a97a-4e9a-8997-1d5659974def",
   "metadata": {},
   "outputs": [],
   "source": [
    "sept_schema_field_tuples = [\n",
    "    ('child', np_dtype),\n",
    "    ('min_vals', np_dtype),\n",
    "    ('max_vals', np_dtype),\n",
    "    ('entity', entity_type)\n",
    "]"
   ]
  },
  {
   "cell_type": "code",
   "execution_count": 12,
   "id": "f4f6946f-acda-4488-9f12-7e64298a1d9a",
   "metadata": {},
   "outputs": [],
   "source": [
    "SEPTA_schema = pa.schema(sept_field_tuples)"
   ]
  },
  {
   "cell_type": "code",
   "execution_count": 13,
   "id": "425266f5-7ece-42e3-8de6-2cd328914bc0",
   "metadata": {},
   "outputs": [],
   "source": [
    "class SingleEntityPhiArrowTensor:\n",
    "    # Number of entities in a SEPT is by definition 1\n",
    "    n_entities = 1\n",
    "\n",
    "    def __init__(\n",
    "        self,\n",
    "        child: np.ndarray,\n",
    "        entity: DataSubject,\n",
    "        min_vals: np.ndarray,\n",
    "        max_vals: np.ndarray,\n",
    "        scalar_manager: Optional[VirtualMachinePrivateScalarManager] = None,\n",
    "    ) -> None:\n",
    "        # self.pa_struct = \n",
    "        self.child = child\n",
    "        self._min_vals = min_vals\n",
    "        self._max_vals = max_vals\n",
    "        self.entity = entity\n",
    "\n",
    "        if scalar_manager is None:\n",
    "            self.scalar_manager = VirtualMachinePrivateScalarManager()\n",
    "        else:\n",
    "            self.scalar_manager = scalar_manager"
   ]
  },
  {
   "cell_type": "code",
   "execution_count": 14,
   "id": "664bb365-feee-4847-aa86-c17289a3c2ec",
   "metadata": {},
   "outputs": [],
   "source": [
    "def make_sept_data():\n",
    "    highest = 50\n",
    "    dims = 3\n",
    "    child = np.random.randint(\n",
    "        low=-highest, high=highest, size=(dims, dims), dtype=np.int32\n",
    "    )\n",
    "    max_values = np.ones_like(child) * highest\n",
    "    min_values = np.ones_like(child) * -highest\n",
    "    return child, max_values, min_values, names.get_first_name()"
   ]
  },
  {
   "cell_type": "code",
   "execution_count": 15,
   "id": "682be38f-6109-491b-a8d6-cbc4ddf3ee10",
   "metadata": {},
   "outputs": [],
   "source": [
    "child, max_values, min_values, entity_name = make_sept_data()"
   ]
  },
  {
   "cell_type": "code",
   "execution_count": 16,
   "id": "6fbe29ec-ee8c-462d-a7ae-81bd2a9295fe",
   "metadata": {},
   "outputs": [],
   "source": [
    "def make_sept_dict(child, max_values, min_values, entity):    \n",
    "     return {'child': child.flatten(), 'min_vals':min_values.flatten(), 'max_vals':max_values.flatten(), 'entity':entity}"
   ]
  },
  {
   "cell_type": "code",
   "execution_count": 17,
   "id": "4b24abea-7501-486f-a03a-4d5459b09744",
   "metadata": {},
   "outputs": [],
   "source": [
    "def make_sept_dict_py(child, max_values, min_values, entity):    \n",
    "     return {'child': list(child.flatten()), 'min_vals':list(min_values.flatten()), 'max_vals':list(max_values.flatten()), 'entity':entity}"
   ]
  },
  {
   "cell_type": "code",
   "execution_count": 18,
   "id": "8527ab29-9c02-41aa-b59b-5512ba6a8e81",
   "metadata": {},
   "outputs": [],
   "source": [
    "shape_arr = pa.array(child.shape)"
   ]
  },
  {
   "cell_type": "code",
   "execution_count": 19,
   "id": "08f7c7b4-ddb1-4582-b4f8-da8eac30e929",
   "metadata": {},
   "outputs": [
    {
     "data": {
      "text/plain": [
       "<pyarrow.lib.Int64Array object at 0x155414be0>\n",
       "[\n",
       "  3,\n",
       "  3\n",
       "]"
      ]
     },
     "execution_count": 19,
     "metadata": {},
     "output_type": "execute_result"
    }
   ],
   "source": [
    "shape_arr"
   ]
  },
  {
   "cell_type": "code",
   "execution_count": 20,
   "id": "8788fe2e-8ae8-4ab6-9edc-117eb87f9aa9",
   "metadata": {},
   "outputs": [],
   "source": [
    "child_arr = pa.array(child.flatten())"
   ]
  },
  {
   "cell_type": "code",
   "execution_count": 21,
   "id": "71589f23-2caf-49e1-800d-b000f56d8f0c",
   "metadata": {},
   "outputs": [
    {
     "data": {
      "text/plain": [
       "<pyarrow.lib.Int32Array object at 0x15542a160>\n",
       "[\n",
       "  8,\n",
       "  -28,\n",
       "  40,\n",
       "  -13,\n",
       "  -18,\n",
       "  -44,\n",
       "  -16,\n",
       "  49,\n",
       "  -21\n",
       "]"
      ]
     },
     "execution_count": 21,
     "metadata": {},
     "output_type": "execute_result"
    }
   ],
   "source": [
    "child_arr"
   ]
  },
  {
   "cell_type": "code",
   "execution_count": 22,
   "id": "324dcd37-f8a9-4790-980e-3ce4343a2752",
   "metadata": {},
   "outputs": [],
   "source": [
    "max_values_arr = pa.array(max_values.flatten())"
   ]
  },
  {
   "cell_type": "code",
   "execution_count": 23,
   "id": "f8a29f5a-1ac3-49fd-aeb7-e8ff96d92d81",
   "metadata": {},
   "outputs": [],
   "source": [
    "min_values_arr = pa.array(min_values.flatten())"
   ]
  },
  {
   "cell_type": "code",
   "execution_count": 24,
   "id": "4a3462ad-1411-4ac3-ad1d-7039d3cfd7c0",
   "metadata": {},
   "outputs": [],
   "source": [
    "entity = DataSubject(\"Hawkeye\")"
   ]
  },
  {
   "cell_type": "code",
   "execution_count": 25,
   "id": "cb88e56e-e099-47f7-8265-bd4cc94f70eb",
   "metadata": {},
   "outputs": [],
   "source": [
    "entity_np = np.array(entity.name, dtype=str)"
   ]
  },
  {
   "cell_type": "code",
   "execution_count": 26,
   "id": "2a571172-4fd5-480f-aa2d-3ebce9b88da7",
   "metadata": {},
   "outputs": [],
   "source": [
    "entity_arr = pa.array(entity_np.flatten())"
   ]
  },
  {
   "cell_type": "code",
   "execution_count": 27,
   "id": "20c850f7-4d54-4097-956d-fbcad268ec30",
   "metadata": {},
   "outputs": [
    {
     "data": {
      "text/plain": [
       "<pyarrow.lib.StringArray object at 0x15528a820>\n",
       "[\n",
       "  \"Hawkeye\"\n",
       "]"
      ]
     },
     "execution_count": 27,
     "metadata": {},
     "output_type": "execute_result"
    }
   ],
   "source": [
    "entity_arr"
   ]
  },
  {
   "cell_type": "code",
   "execution_count": 28,
   "id": "b85b7f13-4cc3-419f-b54c-56a99a232941",
   "metadata": {},
   "outputs": [],
   "source": [
    "SEPTA = SingleEntityPhiArrowTensor"
   ]
  },
  {
   "cell_type": "code",
   "execution_count": 29,
   "id": "7ce4d054-9ce3-4fff-806c-47804fe954a7",
   "metadata": {},
   "outputs": [],
   "source": [
    "first = SEPTA(child, entity, min_values, max_values)"
   ]
  },
  {
   "cell_type": "code",
   "execution_count": 30,
   "id": "6a9a469c-f428-47de-98d8-a4863868eebe",
   "metadata": {},
   "outputs": [
    {
     "data": {
      "text/plain": [
       "<__main__.SingleEntityPhiArrowTensor at 0x15528b8e0>"
      ]
     },
     "execution_count": 30,
     "metadata": {},
     "output_type": "execute_result"
    }
   ],
   "source": [
    "first"
   ]
  },
  {
   "cell_type": "code",
   "execution_count": 31,
   "id": "cfb27eb2-d1dd-4129-ae7c-149bb2d72038",
   "metadata": {},
   "outputs": [],
   "source": [
    "sept_data = {'child': child.flatten(), 'min_vals':min_values.flatten(), 'max_vals':max_values.flatten(), 'entity':entity.name}"
   ]
  },
  {
   "cell_type": "code",
   "execution_count": 32,
   "id": "b7b44023-a1b2-4132-ad56-bca67ef10c55",
   "metadata": {},
   "outputs": [],
   "source": [
    "sept_arrow_data = {\n",
    "    'child': child_arr,\n",
    "    'min_vals':min_values_arr,\n",
    "    'max_vals':max_values_arr,\n",
    "    'entity':entity_arr\n",
    "}"
   ]
  },
  {
   "cell_type": "code",
   "execution_count": 33,
   "id": "f1b89963-8fde-4c68-a954-657398a3aa15",
   "metadata": {},
   "outputs": [],
   "source": [
    "sept1 = pa.array([sept_data])"
   ]
  },
  {
   "cell_type": "code",
   "execution_count": 34,
   "id": "6aeb173f-9467-49e0-a7a8-55da984e1e7f",
   "metadata": {},
   "outputs": [],
   "source": [
    "sept2 = pa.array([sept_data])"
   ]
  },
  {
   "cell_type": "code",
   "execution_count": 35,
   "id": "6fc55946-91fd-4de4-8f87-31146c86ed6c",
   "metadata": {},
   "outputs": [],
   "source": [
    "# sept1"
   ]
  },
  {
   "cell_type": "code",
   "execution_count": 36,
   "id": "ff6278d8-dde7-4bf6-bf9b-fc5e28a47303",
   "metadata": {},
   "outputs": [],
   "source": [
    "# sept2"
   ]
  },
  {
   "cell_type": "code",
   "execution_count": null,
   "id": "a162e002-0c90-4c9a-9f51-59efcead004e",
   "metadata": {},
   "outputs": [],
   "source": []
  },
  {
   "cell_type": "code",
   "execution_count": 37,
   "id": "0d27e0c3-673c-415e-8c36-c7ba2aa1f83d",
   "metadata": {},
   "outputs": [],
   "source": [
    "sept_data_1 = make_sept_data()"
   ]
  },
  {
   "cell_type": "code",
   "execution_count": 38,
   "id": "b8796f26-2fcb-4387-a5a2-03eef80a8f75",
   "metadata": {},
   "outputs": [],
   "source": [
    "sept_data_2 = make_sept_data()"
   ]
  },
  {
   "cell_type": "code",
   "execution_count": null,
   "id": "e72e974a-b0fc-41a1-9f49-4e33eafcb7b9",
   "metadata": {},
   "outputs": [],
   "source": []
  },
  {
   "cell_type": "code",
   "execution_count": 39,
   "id": "7acbf2b1-e8b6-440e-90ea-3cb6ba8181de",
   "metadata": {},
   "outputs": [],
   "source": [
    "# rb = pa.RecordBatch.from_pylist([make_sept_dict(*sept_data_1)])"
   ]
  },
  {
   "cell_type": "code",
   "execution_count": 40,
   "id": "b9954cf3-2d03-483d-a890-9990cf39cc5b",
   "metadata": {},
   "outputs": [],
   "source": [
    "sept_1 = make_sept_dict(*sept_data_1)\n",
    "sept_2 = make_sept_dict(*sept_data_2)"
   ]
  },
  {
   "cell_type": "code",
   "execution_count": 41,
   "id": "93887091-edc6-40df-b9d7-567769bc2985",
   "metadata": {},
   "outputs": [],
   "source": [
    "apache_arrow = pa.Tensor.from_numpy(obj=child)"
   ]
  },
  {
   "cell_type": "code",
   "execution_count": 42,
   "id": "af86a30a-591d-470a-8dbf-cfa37e254eed",
   "metadata": {},
   "outputs": [],
   "source": [
    "sink = pa.BufferOutputStream()\n",
    "\n",
    "pa.ipc.write_tensor(apache_arrow, sink)\n",
    "buffer = sink.getvalue()\n",
    "# numpy_bytes = pa.compress(buffer, asbytes=True, codec=\"zstd\")\n",
    "numpy_bytes = buffer.to_pybytes()"
   ]
  },
  {
   "cell_type": "code",
   "execution_count": 44,
   "id": "3bd5e797-4bd9-40b8-aa86-a1fb80d9f8e4",
   "metadata": {},
   "outputs": [],
   "source": [
    "entities = [entity, entity, entity]"
   ]
  },
  {
   "cell_type": "code",
   "execution_count": 52,
   "id": "1d2765c5-fb91-443f-a77b-f4c51f162cfa",
   "metadata": {},
   "outputs": [],
   "source": [
    "entity_np = [entity.name for entity in entities]"
   ]
  },
  {
   "cell_type": "code",
   "execution_count": 55,
   "id": "d165549a-755a-4120-812f-339556a3114d",
   "metadata": {},
   "outputs": [],
   "source": [
    "rept = {\"entities\": entity_np, \"tensor_bytes\": numpy_bytes}"
   ]
  },
  {
   "cell_type": "code",
   "execution_count": 56,
   "id": "11e9c562-c1f2-4766-ab0f-4379a41fc763",
   "metadata": {},
   "outputs": [],
   "source": [
    "rb = pa.RecordBatch.from_pylist([rept])"
   ]
  },
  {
   "cell_type": "code",
   "execution_count": 57,
   "id": "0a5c52a6-cb58-425c-9163-b09b74284e37",
   "metadata": {},
   "outputs": [
    {
     "data": {
      "text/plain": [
       "pyarrow.RecordBatch\n",
       "entities: list<item: string>\n",
       "  child 0, item: string\n",
       "tensor_bytes: binary"
      ]
     },
     "execution_count": 57,
     "metadata": {},
     "output_type": "execute_result"
    }
   ],
   "source": [
    "rb"
   ]
  },
  {
   "cell_type": "code",
   "execution_count": null,
   "id": "6079c770-8495-4622-9707-05113643ca62",
   "metadata": {},
   "outputs": [],
   "source": [
    "rb = pa.RecordBatch.from_pylist([sept_1 for i in range(1_000_000_000)])"
   ]
  },
  {
   "cell_type": "code",
   "execution_count": null,
   "id": "be520201-7080-4e3e-8df5-fc345b46aaef",
   "metadata": {},
   "outputs": [],
   "source": [
    "len(rb)"
   ]
  },
  {
   "cell_type": "code",
   "execution_count": null,
   "id": "1e24695f-ad96-4633-bcfa-f38b5cfbf400",
   "metadata": {},
   "outputs": [],
   "source": [
    "def ser(batch):\n",
    "    sink = pa.BufferOutputStream()\n",
    "    with pa.ipc.new_stream(sink, batch.schema) as writer:\n",
    "        writer.write_batch(batch)\n",
    "    return sink.getvalue()"
   ]
  },
  {
   "cell_type": "code",
   "execution_count": null,
   "id": "206f91e9-a305-4364-967a-f3b8a6e83d84",
   "metadata": {},
   "outputs": [],
   "source": [
    "def de(buf):\n",
    "    with pa.ipc.open_stream(buf) as reader:\n",
    "        schema = reader.schema\n",
    "        batches = [b for b in reader]\n",
    "    return batches"
   ]
  },
  {
   "cell_type": "code",
   "execution_count": null,
   "id": "fb19ca79-d47c-4a35-b5ae-6b90ffdf16a1",
   "metadata": {},
   "outputs": [],
   "source": [
    "import timeit"
   ]
  },
  {
   "cell_type": "code",
   "execution_count": null,
   "id": "b792d35c-b253-43eb-8757-d0713db06568",
   "metadata": {},
   "outputs": [],
   "source": [
    "%%time\n",
    "data = ser(rb)"
   ]
  },
  {
   "cell_type": "code",
   "execution_count": null,
   "id": "70ce8672-d977-4158-99a8-70b1d5d44451",
   "metadata": {},
   "outputs": [],
   "source": [
    "%%time\n",
    "rb2 = de(data)"
   ]
  },
  {
   "cell_type": "code",
   "execution_count": null,
   "id": "914aacbc-4131-4b43-a078-438fb2f821cc",
   "metadata": {},
   "outputs": [],
   "source": []
  },
  {
   "cell_type": "code",
   "execution_count": null,
   "id": "f1b27e69-cc40-4d29-a881-bd7a0517cabd",
   "metadata": {},
   "outputs": [],
   "source": [
    "rb2"
   ]
  },
  {
   "cell_type": "code",
   "execution_count": null,
   "id": "0ce5f7d5-fe85-433e-bf7d-3a44eda12ac7",
   "metadata": {},
   "outputs": [],
   "source": [
    "rb2_table = pa.Table.from_pylist([sept_1, sept_1, sept_2])"
   ]
  },
  {
   "cell_type": "code",
   "execution_count": null,
   "id": "2e6e2ce4-3a09-4862-b410-f6e8747bb690",
   "metadata": {},
   "outputs": [],
   "source": [
    "rb2_table"
   ]
  },
  {
   "cell_type": "code",
   "execution_count": null,
   "id": "89cb9309-217a-473e-b2c5-6b4289556f06",
   "metadata": {},
   "outputs": [],
   "source": [
    "len(rb2_table[1])"
   ]
  },
  {
   "cell_type": "code",
   "execution_count": null,
   "id": "ce87b32c-429f-40b9-904c-e24108c3f756",
   "metadata": {},
   "outputs": [],
   "source": [
    "rb2_table = pa.Table.from_batches(rb2)"
   ]
  },
  {
   "cell_type": "code",
   "execution_count": null,
   "id": "c31caa26-b9e0-414c-9c6b-45863f80caa6",
   "metadata": {},
   "outputs": [],
   "source": [
    "import pyarrow.compute as pc"
   ]
  },
  {
   "cell_type": "code",
   "execution_count": null,
   "id": "c9261a63-edbb-4589-85de-1b3c400585c9",
   "metadata": {},
   "outputs": [],
   "source": [
    "len(rb2_table[0])"
   ]
  },
  {
   "cell_type": "code",
   "execution_count": null,
   "id": "7dcc4fa3-d2a9-45b2-9ad3-6270cfd7fafe",
   "metadata": {},
   "outputs": [],
   "source": [
    "rb2_table[0].flatten()"
   ]
  },
  {
   "cell_type": "code",
   "execution_count": null,
   "id": "66e32b1d-a1ce-47ab-89b8-589848ee94f0",
   "metadata": {},
   "outputs": [],
   "source": [
    "(\n",
    "    array[\n",
    "        list<item: int32>\n",
    "    ],\n",
    "    array[uint32]\n",
    ")"
   ]
  },
  {
   "cell_type": "code",
   "execution_count": null,
   "id": "10d946a2-49f6-42e1-b99d-9ca2d8f618ef",
   "metadata": {},
   "outputs": [],
   "source": [
    "a = rb2_table.group_by(\"entity\").aggregate([(\"child\", \"sum\")])"
   ]
  },
  {
   "cell_type": "code",
   "execution_count": null,
   "id": "3eb1300b-d52e-4374-b09d-55a3c59f0369",
   "metadata": {},
   "outputs": [],
   "source": [
    "a = rb2_table.group_by(\"entity\").aggregate([(\"entity\", \"unique\")])"
   ]
  },
  {
   "cell_type": "code",
   "execution_count": null,
   "id": "da90015f-2b54-4fad-802a-af56226de80e",
   "metadata": {},
   "outputs": [],
   "source": [
    "dir(a)"
   ]
  },
  {
   "cell_type": "code",
   "execution_count": null,
   "id": "b48cbba7-7a6a-4b37-88a7-c54892296b90",
   "metadata": {},
   "outputs": [],
   "source": [
    "nested_arr = pa.array([[], None, [1, 2], [None, 1]])"
   ]
  },
  {
   "cell_type": "code",
   "execution_count": null,
   "id": "dbb28c6d-a849-4162-b84c-ff7fe867115d",
   "metadata": {},
   "outputs": [],
   "source": [
    "nested_arr"
   ]
  },
  {
   "cell_type": "code",
   "execution_count": null,
   "id": "3d0174ed-26d9-4bf1-b8b5-431ff23cd965",
   "metadata": {},
   "outputs": [],
   "source": [
    "nested_arr.type"
   ]
  },
  {
   "cell_type": "code",
   "execution_count": null,
   "id": "4d8da30e-5e26-410c-a49b-2f64cc0c3851",
   "metadata": {},
   "outputs": [],
   "source": [
    "nested_arr + nested_arr"
   ]
  },
  {
   "cell_type": "code",
   "execution_count": null,
   "id": "47465d1a-6f58-40f4-8852-48629a0ebd7c",
   "metadata": {},
   "outputs": [],
   "source": [
    "# t = pa.table([\n",
    "#       pa.array([\"a\", \"a\", \"b\", \"b\", \"c\"]),\n",
    "#       pa.array([1, 2, 3, 4, 5]),\n",
    "# ], names=[\"keys\", \"values\"])"
   ]
  },
  {
   "cell_type": "code",
   "execution_count": null,
   "id": "f6f54e2d-f7ac-4beb-ab87-0c8fa4f547c7",
   "metadata": {},
   "outputs": [],
   "source": [
    "t = pa.table([\n",
    "      pa.array([\"a\", \"a\", \"b\", \"b\", \"c\"]),\n",
    "      pa.array([[1], [2], [3], [4], [5]]),\n",
    "], names=[\"keys\", \"values\"])"
   ]
  },
  {
   "cell_type": "code",
   "execution_count": null,
   "id": "44431d78-4442-4667-9b74-0078a5c97a20",
   "metadata": {},
   "outputs": [],
   "source": [
    "t.group_by(\"keys\").aggregate([(\"values\", \"sum\")])"
   ]
  },
  {
   "cell_type": "code",
   "execution_count": null,
   "id": "1f1e87c4-40e0-4a40-b79c-2f579a8127b9",
   "metadata": {},
   "outputs": [],
   "source": [
    "t.group_by(\"keys\")"
   ]
  },
  {
   "cell_type": "code",
   "execution_count": null,
   "id": "a695c63d-9f03-4c49-afe6-feceacb5baa1",
   "metadata": {},
   "outputs": [],
   "source": []
  }
 ],
 "metadata": {
  "kernelspec": {
   "display_name": "Python 3 (ipykernel)",
   "language": "python",
   "name": "python3"
  },
  "language_info": {
   "codemirror_mode": {
    "name": "ipython",
    "version": 3
   },
   "file_extension": ".py",
   "mimetype": "text/x-python",
   "name": "python",
   "nbconvert_exporter": "python",
   "pygments_lexer": "ipython3",
   "version": "3.9.9"
  }
 },
 "nbformat": 4,
 "nbformat_minor": 5
}

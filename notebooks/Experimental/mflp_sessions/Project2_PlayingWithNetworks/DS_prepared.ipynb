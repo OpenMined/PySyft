{
 "cells": [
  {
   "cell_type": "code",
   "execution_count": 1,
   "id": "6c4b9a4d-26ce-4fb9-b4d5-414fbe9e63a9",
   "metadata": {},
   "outputs": [
    {
     "name": "stderr",
     "output_type": "stream",
     "text": [
      "/home/teo/anaconda3/envs/PySyTFF/lib/python3.9/site-packages/tqdm/auto.py:22: TqdmWarning: IProgress not found. Please update jupyter and ipywidgets. See https://ipywidgets.readthedocs.io/en/stable/user_install.html\n",
      "  from .autonotebook import tqdm as notebook_tqdm\n"
     ]
    }
   ],
   "source": [
    "import syft as sy\n",
    "import numpy as np"
   ]
  },
  {
   "cell_type": "code",
   "execution_count": 2,
   "id": "235ea16f-c77f-4ea8-b213-05e993630570",
   "metadata": {},
   "outputs": [
    {
     "data": {
      "text/plain": [
       "'0.7.0-beta.41'"
      ]
     },
     "execution_count": 2,
     "metadata": {},
     "output_type": "execute_result"
    }
   ],
   "source": [
    "sy.__version__"
   ]
  },
  {
   "cell_type": "code",
   "execution_count": 3,
   "id": "4c585fc0-a7df-412b-847a-ae0f2b632246",
   "metadata": {},
   "outputs": [
    {
     "name": "stdout",
     "output_type": "stream",
     "text": [
      "Connecting to 20.245.107.41... done! \t Logging into inspiring_hotz... as GUEST...done!\n",
      "\n",
      "**Warning**: The syft version on your system and the node are different.\n",
      "Version on your system: 0.7.0-beta.41\n",
      "Version on the node: 0.7.0-beta.39\n",
      "\n"
     ]
    }
   ],
   "source": [
    "network_client=sy.login(url=\"20.245.107.41\", port=80)"
   ]
  },
  {
   "cell_type": "code",
   "execution_count": 4,
   "id": "21838533-6296-4cb5-9eb7-fafb43aef3b2",
   "metadata": {},
   "outputs": [
    {
     "data": {
      "text/html": [
       "<div>\n",
       "<style scoped>\n",
       "    .dataframe tbody tr th:only-of-type {\n",
       "        vertical-align: middle;\n",
       "    }\n",
       "\n",
       "    .dataframe tbody tr th {\n",
       "        vertical-align: top;\n",
       "    }\n",
       "\n",
       "    .dataframe thead th {\n",
       "        text-align: right;\n",
       "    }\n",
       "</style>\n",
       "<table border=\"1\" class=\"dataframe\">\n",
       "  <thead>\n",
       "    <tr style=\"text-align: right;\">\n",
       "      <th></th>\n",
       "      <th>host_or_ip</th>\n",
       "      <th>id</th>\n",
       "      <th>is_vpn</th>\n",
       "      <th>name</th>\n",
       "      <th>port</th>\n",
       "      <th>private</th>\n",
       "      <th>protocol</th>\n",
       "    </tr>\n",
       "  </thead>\n",
       "  <tbody>\n",
       "    <tr>\n",
       "      <th>0</th>\n",
       "      <td>100.64.0.2</td>\n",
       "      <td>e160654b2e9940a1a9a01846c3c940a6</td>\n",
       "      <td>1</td>\n",
       "      <td>teo</td>\n",
       "      <td>80</td>\n",
       "      <td>0</td>\n",
       "      <td>http</td>\n",
       "    </tr>\n",
       "    <tr>\n",
       "      <th>1</th>\n",
       "      <td>100.64.0.3</td>\n",
       "      <td>e39189e423c54ac5848932c3c47f011a</td>\n",
       "      <td>1</td>\n",
       "      <td>trusting_krizhevsky</td>\n",
       "      <td>80</td>\n",
       "      <td>0</td>\n",
       "      <td>http</td>\n",
       "    </tr>\n",
       "  </tbody>\n",
       "</table>\n",
       "</div>"
      ],
      "text/plain": [
       "<syft.core.node.common.client_manager.domain_api.DomainRequestAPI at 0x7f13b9fe3f40>"
      ]
     },
     "execution_count": 4,
     "metadata": {},
     "output_type": "execute_result"
    }
   ],
   "source": [
    "network_client.domains"
   ]
  },
  {
   "cell_type": "code",
   "execution_count": 5,
   "id": "fedd2bab-72b3-4d77-8b5b-ea060502a364",
   "metadata": {},
   "outputs": [],
   "source": [
    "domain_proxy_1 = network_client.domains[-2].login(email=\"sheldon.cooper@openmined.org\", password=\"bazinga\")\n",
    "domain_proxy_2 = network_client.domains[-1].login(email=\"sheldon.cooper@openmined.org\", password=\"bazinga\")"
   ]
  },
  {
   "cell_type": "code",
   "execution_count": 6,
   "id": "cc94916d-a488-420f-acae-5f371164d590",
   "metadata": {},
   "outputs": [],
   "source": [
    "domain_proxy_1.datasets"
   ]
  },
  {
   "cell_type": "code",
   "execution_count": 7,
   "id": "87ff7e21-8fdd-4f9d-953c-16d961d5eedd",
   "metadata": {},
   "outputs": [],
   "source": [
    "pointer_2 = domain_proxy_2.datasets[-2][\"data\"]\n",
    "pointer_1 = domain_proxy_1.datasets[-2][\"data\"]\n"
   ]
  },
  {
   "cell_type": "code",
   "execution_count": 8,
   "id": "c9e9a1db-8edb-4fb6-a0d6-93503c9b6f77",
   "metadata": {},
   "outputs": [],
   "source": [
    "total_sum = pointer_1 + pointer_2"
   ]
  },
  {
   "cell_type": "code",
   "execution_count": 9,
   "id": "a32dcdfb-2130-4312-8e55-067295dbc83a",
   "metadata": {},
   "outputs": [],
   "source": [
    "result=total_sum.publish(sigma=0.1)"
   ]
  },
  {
   "cell_type": "code",
   "execution_count": 10,
   "id": "c7f20336-464f-4ba1-9139-989fcf3a2557",
   "metadata": {},
   "outputs": [],
   "source": [
    "array = result.get(delete_obj=False)\n"
   ]
  }
 ],
 "metadata": {
  "kernelspec": {
   "display_name": "Python 3.9.7 ('PySyTFF')",
   "language": "python",
   "name": "python3"
  },
  "language_info": {
   "codemirror_mode": {
    "name": "ipython",
    "version": 3
   },
   "file_extension": ".py",
   "mimetype": "text/x-python",
   "name": "python",
   "nbconvert_exporter": "python",
   "pygments_lexer": "ipython3",
   "version": "3.9.7"
  },
  "vscode": {
   "interpreter": {
    "hash": "67856bda971e2a654274dbee4a8f60d8877ae51b472a8acc4dc577a3ea0a55e3"
   }
  }
 },
 "nbformat": 4,
 "nbformat_minor": 5
}

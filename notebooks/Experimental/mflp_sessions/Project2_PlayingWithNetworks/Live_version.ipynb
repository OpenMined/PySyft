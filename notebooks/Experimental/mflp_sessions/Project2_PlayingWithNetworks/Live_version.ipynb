{
 "cells": [
  {
   "cell_type": "code",
   "execution_count": 1,
   "id": "40bc5ded-137c-4bcd-8ef6-5d65dbad73de",
   "metadata": {},
   "outputs": [],
   "source": [
    "import syft as sy "
   ]
  },
  {
   "cell_type": "code",
   "execution_count": 4,
   "id": "5e2ee2c6-c574-431c-b44f-c8942690ebd8",
   "metadata": {},
   "outputs": [
    {
     "name": "stdout",
     "output_type": "stream",
     "text": [
      "Connecting to 20.245.107.41... done! \t Logging into inspiring_hotz... as GUEST...done!\n"
     ]
    }
   ],
   "source": [
    "network_client=sy.login(url=\"20.245.107.41\", port=80)"
   ]
  },
  {
   "cell_type": "code",
   "execution_count": 5,
   "id": "6726415e-5bad-43d5-bc90-f4a974f89c17",
   "metadata": {},
   "outputs": [
    {
     "data": {
      "text/html": [
       "<div>\n",
       "<style scoped>\n",
       "    .dataframe tbody tr th:only-of-type {\n",
       "        vertical-align: middle;\n",
       "    }\n",
       "\n",
       "    .dataframe tbody tr th {\n",
       "        vertical-align: top;\n",
       "    }\n",
       "\n",
       "    .dataframe thead th {\n",
       "        text-align: right;\n",
       "    }\n",
       "</style>\n",
       "<table border=\"1\" class=\"dataframe\">\n",
       "  <thead>\n",
       "    <tr style=\"text-align: right;\">\n",
       "      <th></th>\n",
       "      <th>host_or_ip</th>\n",
       "      <th>id</th>\n",
       "      <th>is_vpn</th>\n",
       "      <th>name</th>\n",
       "      <th>port</th>\n",
       "      <th>private</th>\n",
       "      <th>protocol</th>\n",
       "    </tr>\n",
       "  </thead>\n",
       "  <tbody>\n",
       "    <tr>\n",
       "      <th>0</th>\n",
       "      <td>100.64.0.2</td>\n",
       "      <td>e160654b2e9940a1a9a01846c3c940a6</td>\n",
       "      <td>1</td>\n",
       "      <td>teo</td>\n",
       "      <td>80</td>\n",
       "      <td>0</td>\n",
       "      <td>http</td>\n",
       "    </tr>\n",
       "  </tbody>\n",
       "</table>\n",
       "</div>"
      ],
      "text/plain": [
       "<syft.core.node.common.client_manager.domain_api.DomainRequestAPI at 0x7fadf9e2b280>"
      ]
     },
     "execution_count": 5,
     "metadata": {},
     "output_type": "execute_result"
    }
   ],
   "source": [
    "network_client.domains"
   ]
  },
  {
   "cell_type": "code",
   "execution_count": 8,
   "id": "8827cc67-10ee-4d50-83a1-9430f1b1e5dc",
   "metadata": {},
   "outputs": [
    {
     "data": {
      "text/html": [
       "<style>\n",
       "                #myInput {\n",
       "                  background-position: 10px 12px; /* Position the search icon */\n",
       "                  background-repeat: no-repeat; /* Do not repeat the icon image */\n",
       "                  background-color: #bbb;\n",
       "                  width: 98%; /* Full-width */\n",
       "                  font-size: 14px; /* Increase font-size */\n",
       "                  padding: 12px 20px 12px 40px; /* Add some padding */\n",
       "                  border: 1px solid #ddd; /* Add a grey border */\n",
       "                  margin-bottom: 12px; /* Add some space below the input */\n",
       "                }\n",
       "\n",
       "                #myTable {\n",
       "                  border-collapse: collapse; /* Collapse borders */\n",
       "                  width: 100%; /* Full-width */\n",
       "                  border: 1px solid #ddd; /* Add a grey border */\n",
       "                  font-size: 14px; /* Increase font-size */\n",
       "                }\n",
       "\n",
       "                #myTable th, #myTable td {\n",
       "                  text-align: left; /* Left-align text */\n",
       "                  padding: 10px; /* Add padding */\n",
       "                }\n",
       "\n",
       "                #myTable tr {\n",
       "                  /* Add a bottom border to all table rows */\n",
       "                  border-bottom: 1px solid #ddd;\n",
       "                }\n",
       "\n",
       "                #myTable tr.header, #myTable tr:hover {\n",
       "                  /* Add a grey background color to the table header and on hover */\n",
       "                  background-color: #777;\n",
       "                }\n",
       "                </style>\n",
       "\n",
       "                <table id=\"myTable\" style=\"width:1000px\">\n",
       "                  <tr class=\"header\">\n",
       "                    <th style=\"width:30px\">Idx</th>\n",
       "                    <th style=\"width:20%;\">Name</th>\n",
       "                    <th style=\"width:35%;\">Description</th>\n",
       "                    <th style=\"width:20%;\">Assets</th>\n",
       "                    <th style=\"width:300px;\">Id</th>\n",
       "                  </tr>\n",
       "                \n",
       "\n",
       "          <tr>\n",
       "            <td>[0]</td>\n",
       "            <td>Our dummy dataset</td>\n",
       "            <td>We are currently playing with this</td>\n",
       "            <td>[\"data\"] -> <class 'syft.core.tensor.tensor.Tensor'><br /><br /></td>\n",
       "            <td>87c02105-d1ef-47f9-b15a-885ab3b20aed</td>\n",
       "          </tr>\n",
       "        </table>\n",
       "\n",
       "        <script>\n",
       "        function myFunction() {\n",
       "          // Declare variables\n",
       "          var input, filter, table, tr, td, i, txtValue;\n",
       "          input = document.getElementById(\"myInput\");\n",
       "          filter = input.value.toUpperCase();\n",
       "          table = document.getElementById(\"myTable\");\n",
       "          tr = table.getElementsByTagName(\"tr\");\n",
       "\n",
       "          // Loop through all table rows, and hide those who don't match the search query\n",
       "          for (i = 0; i < tr.length; i++) {\n",
       "            name_td = tr[i].getElementsByTagName(\"td\")[1];\n",
       "            desc_td = tr[i].getElementsByTagName(\"td\")[2];\n",
       "            asset_td = tr[i].getElementsByTagName(\"td\")[3];\n",
       "            id_td = tr[i].getElementsByTagName(\"td\")[4];\n",
       "            if (name_td || desc_td || asset_td || id_td) {\n",
       "              name_txtValue = name_td.textContent || name_td.innerText;\n",
       "              desc_txtValue = desc_td.textContent || name_td.innerText;\n",
       "              asset_txtValue = asset_td.textContent || name_td.innerText;\n",
       "              id_txtValue = id_td.textContent || name_td.innerText;\n",
       "              name_bool = name_txtValue.toUpperCase().indexOf(filter) > -1;\n",
       "              desc_bool = desc_txtValue.toUpperCase().indexOf(filter) > -1;\n",
       "              asset_bool = asset_txtValue.toUpperCase().indexOf(filter) > -1;\n",
       "              id_bool = id_txtValue.toUpperCase().indexOf(filter) > -1;\n",
       "              if (name_bool || desc_bool || asset_bool || id_bool) {\n",
       "                tr[i].style.display = \"\";\n",
       "              } else {\n",
       "                tr[i].style.display = \"none\";\n",
       "              }\n",
       "            }\n",
       "          }\n",
       "        }\n",
       "        </script>"
      ],
      "text/plain": [
       "<syft.core.node.common.client_manager.dataset_api.DatasetRequestAPI at 0x7fadf32a8940>"
      ]
     },
     "execution_count": 8,
     "metadata": {},
     "output_type": "execute_result"
    }
   ],
   "source": [
    "network_client.domains[0].datasets"
   ]
  },
  {
   "cell_type": "code",
   "execution_count": 9,
   "id": "ad995b73-4b79-408d-9c81-b21f2d13059d",
   "metadata": {},
   "outputs": [],
   "source": [
    "domain_proxy = network_client.domains[0]"
   ]
  },
  {
   "cell_type": "code",
   "execution_count": 10,
   "id": "735a5963-a417-47dc-b982-799c90889947",
   "metadata": {},
   "outputs": [
    {
     "name": "stdout",
     "output_type": "stream",
     "text": [
      "Logged in to teo as jimmy@openmined.org\n"
     ]
    }
   ],
   "source": [
    "domain_client = domain_proxy.login(email=\"jimmy@openmined.org\", password=\"jimmyplschangethis\")"
   ]
  },
  {
   "cell_type": "code",
   "execution_count": 12,
   "id": "ddcf2081-9ca2-47b9-82e9-089116f24fa2",
   "metadata": {},
   "outputs": [
    {
     "data": {
      "text/plain": [
       "array([655, 318, 839,  57, 531, 503, 397, 112, 697, 860, 675,  53, 330,\n",
       "       199, 171, 369, 578,  94,  21, 115, 464, 536, 327, 685, 788, 979,\n",
       "       351, 692, 724, 582, 685, 298, 816, 779, 320, 249, 521, 949, 911,\n",
       "       194, 206, 967, 643, 248, 854, 258, 882, 542, 261, 479, 776, 712,\n",
       "       540, 394, 451, 519, 895, 591, 748, 587, 815,  89, 945, 904, 979,\n",
       "       471, 389, 161, 233, 394, 689,  35, 475, 321, 330, 185, 722, 192,\n",
       "       759,  57, 475,  28, 631, 657,  28, 804, 355, 758,  52, 716, 325,\n",
       "       865, 651, 826, 100, 489, 291, 563, 609, 716])\n",
       "\n",
       " (The data printed above is synthetic - it's an imitation of the real data.)"
      ]
     },
     "execution_count": 12,
     "metadata": {},
     "output_type": "execute_result"
    }
   ],
   "source": [
    "domain_client.datasets[0][\"data\"]\n"
   ]
  },
  {
   "cell_type": "code",
   "execution_count": null,
   "id": "fbe08e85-ff7f-4052-b91f-50e1114a0c58",
   "metadata": {},
   "outputs": [],
   "source": []
  }
 ],
 "metadata": {
  "kernelspec": {
   "display_name": "Python 3.9.5 64-bit",
   "language": "python",
   "name": "python3"
  },
  "language_info": {
   "codemirror_mode": {
    "name": "ipython",
    "version": 3
   },
   "file_extension": ".py",
   "mimetype": "text/x-python",
   "name": "python",
   "nbconvert_exporter": "python",
   "pygments_lexer": "ipython3",
   "version": "3.9.5"
  },
  "vscode": {
   "interpreter": {
    "hash": "f9f85f796d01129d0dd105a088854619f454435301f6ffec2fea96ecbd9be4ac"
   }
  }
 },
 "nbformat": 4,
 "nbformat_minor": 5
}

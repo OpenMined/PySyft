{
 "cells": [
  {
   "cell_type": "code",
   "execution_count": 1,
   "id": "c96e0c95",
   "metadata": {},
   "outputs": [
    {
     "name": "stderr",
     "output_type": "stream",
     "text": [
      "/opt/anaconda3/envs/syft_env/lib/python3.9/site-packages/tqdm/auto.py:22: TqdmWarning: IProgress not found. Please update jupyter and ipywidgets. See https://ipywidgets.readthedocs.io/en/stable/user_install.html\n",
      "  from .autonotebook import tqdm as notebook_tqdm\n"
     ]
    }
   ],
   "source": [
    "import syft as sy\n",
    "import numpy as np\n",
    "import pandas as pd\n",
    "\n",
    "from syft.core.adp.data_subject import DataSubject"
   ]
  },
  {
   "cell_type": "code",
   "execution_count": 2,
   "id": "5eae27bb",
   "metadata": {},
   "outputs": [
    {
     "data": {
      "text/plain": [
       "Index(['name', 'height', 'mass', 'hair_color', 'skin_color', 'eye_color',\n",
       "       'birth_year', 'gender', 'homeworld', 'species'],\n",
       "      dtype='object')"
      ]
     },
     "execution_count": 2,
     "metadata": {},
     "output_type": "execute_result"
    }
   ],
   "source": [
    "df=pd.read_csv('https://raw.githubusercontent.com/CarlaFC/Star-Wars/main/characters.csv')\n",
    "df.columns"
   ]
  },
  {
   "cell_type": "code",
   "execution_count": 3,
   "id": "606fc1c5",
   "metadata": {},
   "outputs": [],
   "source": [
    "# how many total characters?"
   ]
  },
  {
   "cell_type": "code",
   "execution_count": 4,
   "id": "9145808e",
   "metadata": {},
   "outputs": [],
   "source": [
    "data_subjects = []\n",
    "for n in df.name.tolist():\n",
    "    data_subjects.append(DataSubject(name=n))"
   ]
  },
  {
   "cell_type": "code",
   "execution_count": 5,
   "id": "c95fc304",
   "metadata": {},
   "outputs": [
    {
     "data": {
      "text/plain": [
       "[<DataSubject:Luke Skywalker>,\n",
       " <DataSubject:C-3PO>,\n",
       " <DataSubject:R2-D2>,\n",
       " <DataSubject:Darth Vader>,\n",
       " <DataSubject:Leia Organa>,\n",
       " <DataSubject:Owen Lars>,\n",
       " <DataSubject:Beru Whitesun lars>,\n",
       " <DataSubject:R5-D4>,\n",
       " <DataSubject:Biggs Darklighter>,\n",
       " <DataSubject:Obi-Wan Kenobi>,\n",
       " <DataSubject:Anakin Skywalker>,\n",
       " <DataSubject:Wilhuff Tarkin>,\n",
       " <DataSubject:Chewbacca>,\n",
       " <DataSubject:Han Solo>,\n",
       " <DataSubject:Greedo>,\n",
       " <DataSubject:Jabba Desilijic Tiure>,\n",
       " <DataSubject:Wedge Antilles>,\n",
       " <DataSubject:Jek Tono Porkins>,\n",
       " <DataSubject:Yoda>,\n",
       " <DataSubject:Palpatine>,\n",
       " <DataSubject:Boba Fett>,\n",
       " <DataSubject:IG-88>,\n",
       " <DataSubject:Bossk>,\n",
       " <DataSubject:Lando Calrissian>,\n",
       " <DataSubject:Lobot>,\n",
       " <DataSubject:Ackbar>,\n",
       " <DataSubject:Mon Mothma>,\n",
       " <DataSubject:Arvel Crynyd>,\n",
       " <DataSubject:Wicket Systri Warrick>,\n",
       " <DataSubject:Nien Nunb>,\n",
       " <DataSubject:Qui-Gon Jinn>,\n",
       " <DataSubject:Nute Gunray>,\n",
       " <DataSubject:Finis Valorum>,\n",
       " <DataSubject:Jar Jar Binks>,\n",
       " <DataSubject:Roos Tarpals>,\n",
       " <DataSubject:Rugor Nass>,\n",
       " <DataSubject:Ric Olié>,\n",
       " <DataSubject:Watto>,\n",
       " <DataSubject:Sebulba>,\n",
       " <DataSubject:Quarsh Panaka>,\n",
       " <DataSubject:Shmi Skywalker>,\n",
       " <DataSubject:Darth Maul>,\n",
       " <DataSubject:Bib Fortuna>,\n",
       " <DataSubject:Ayla Secura>,\n",
       " <DataSubject:Dud Bolt>,\n",
       " <DataSubject:Gasgano>,\n",
       " <DataSubject:Ben Quadinaros>,\n",
       " <DataSubject:Mace Windu>,\n",
       " <DataSubject:Ki-Adi-Mundi>,\n",
       " <DataSubject:Kit Fisto>,\n",
       " <DataSubject:Eeth Koth>,\n",
       " <DataSubject:Adi Gallia>,\n",
       " <DataSubject:Saesee Tiin>,\n",
       " <DataSubject:Yarael Poof>,\n",
       " <DataSubject:Plo Koon>,\n",
       " <DataSubject:Mas Amedda>,\n",
       " <DataSubject:Gregar Typho>,\n",
       " <DataSubject:Cordé>,\n",
       " <DataSubject:Cliegg Lars>,\n",
       " <DataSubject:Poggle the Lesser>,\n",
       " <DataSubject:Luminara Unduli>,\n",
       " <DataSubject:Barriss Offee>,\n",
       " <DataSubject:Dormé>,\n",
       " <DataSubject:Dooku>,\n",
       " <DataSubject:Bail Prestor Organa>,\n",
       " <DataSubject:Jango Fett>,\n",
       " <DataSubject:Zam Wesell>,\n",
       " <DataSubject:Dexter Jettster>,\n",
       " <DataSubject:Lama Su>,\n",
       " <DataSubject:Taun We>,\n",
       " <DataSubject:Jocasta Nu>,\n",
       " <DataSubject:Ratts Tyerell>,\n",
       " <DataSubject:R4-P17>,\n",
       " <DataSubject:Wat Tambor>,\n",
       " <DataSubject:San Hill>,\n",
       " <DataSubject:Shaak Ti>,\n",
       " <DataSubject:Grievous>,\n",
       " <DataSubject:Tarfful>,\n",
       " <DataSubject:Raymus Antilles>,\n",
       " <DataSubject:Sly Moore>,\n",
       " <DataSubject:Tion Medon>,\n",
       " <DataSubject:Finn>,\n",
       " <DataSubject:Rey>,\n",
       " <DataSubject:Poe Dameron>,\n",
       " <DataSubject:BB8>,\n",
       " <DataSubject:Captain Phasma>,\n",
       " <DataSubject:Padmé Amidala>]"
      ]
     },
     "execution_count": 5,
     "metadata": {},
     "output_type": "execute_result"
    }
   ],
   "source": [
    "data_subjects"
   ]
  },
  {
   "cell_type": "code",
   "execution_count": null,
   "id": "44b97c91",
   "metadata": {},
   "outputs": [],
   "source": []
  }
 ],
 "metadata": {
  "kernelspec": {
   "display_name": "Python 3 (ipykernel)",
   "language": "python",
   "name": "python3"
  },
  "language_info": {
   "codemirror_mode": {
    "name": "ipython",
    "version": 3
   },
   "file_extension": ".py",
   "mimetype": "text/x-python",
   "name": "python",
   "nbconvert_exporter": "python",
   "pygments_lexer": "ipython3",
   "version": "3.9.12"
  }
 },
 "nbformat": 4,
 "nbformat_minor": 5
}

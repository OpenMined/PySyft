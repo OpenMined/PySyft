{
 "cells": [
  {
   "cell_type": "code",
   "execution_count": 1,
   "id": "b1e689d2",
   "metadata": {},
   "outputs": [
    {
     "name": "stdout",
     "output_type": "stream",
     "text": [
      "Requirement already satisfied: syft in /opt/anaconda3/envs/syft_env/lib/python3.9/site-packages (0.7.0b47)\n",
      "Requirement already satisfied: pyarrow==7.0.0 in /opt/anaconda3/envs/syft_env/lib/python3.9/site-packages (from syft) (7.0.0)\n",
      "Requirement already satisfied: pynacl==1.5.0 in /opt/anaconda3/envs/syft_env/lib/python3.9/site-packages (from syft) (1.5.0)\n",
      "Requirement already satisfied: jaxlib==0.3.7 in /opt/anaconda3/envs/syft_env/lib/python3.9/site-packages (from syft) (0.3.7)\n",
      "Requirement already satisfied: sqlalchemy==1.4.36 in /opt/anaconda3/envs/syft_env/lib/python3.9/site-packages (from syft) (1.4.36)\n",
      "Requirement already satisfied: gevent==21.12.0 in /opt/anaconda3/envs/syft_env/lib/python3.9/site-packages (from syft) (21.12.0)\n",
      "Requirement already satisfied: loguru==0.6.0 in /opt/anaconda3/envs/syft_env/lib/python3.9/site-packages (from syft) (0.6.0)\n",
      "Requirement already satisfied: torch<=1.11.0,>=1.8.1 in /opt/anaconda3/envs/syft_env/lib/python3.9/site-packages (from syft) (1.11.0)\n",
      "Requirement already satisfied: requests==2.27.1 in /opt/anaconda3/envs/syft_env/lib/python3.9/site-packages (from syft) (2.27.1)\n",
      "Requirement already satisfied: protobuf==3.20.0 in /opt/anaconda3/envs/syft_env/lib/python3.9/site-packages (from syft) (3.20.0)\n",
      "Requirement already satisfied: requests-toolbelt==0.9.1 in /opt/anaconda3/envs/syft_env/lib/python3.9/site-packages (from syft) (0.9.1)\n",
      "Requirement already satisfied: numpy>=1.21.5 in /opt/anaconda3/envs/syft_env/lib/python3.9/site-packages (from syft) (1.23.1)\n",
      "Requirement already satisfied: tqdm==4.64.0 in /opt/anaconda3/envs/syft_env/lib/python3.9/site-packages (from syft) (4.64.0)\n",
      "Requirement already satisfied: pandas>=1.3.5 in /opt/anaconda3/envs/syft_env/lib/python3.9/site-packages (from syft) (1.4.3)\n",
      "Requirement already satisfied: bcrypt==3.2.0 in /opt/anaconda3/envs/syft_env/lib/python3.9/site-packages (from syft) (3.2.0)\n",
      "Requirement already satisfied: typing-extensions==4.1.1 in /opt/anaconda3/envs/syft_env/lib/python3.9/site-packages (from syft) (4.1.1)\n",
      "Requirement already satisfied: pympler==1.0.1 in /opt/anaconda3/envs/syft_env/lib/python3.9/site-packages (from syft) (1.0.1)\n",
      "Requirement already satisfied: matplotlib==3.5.2 in /opt/anaconda3/envs/syft_env/lib/python3.9/site-packages (from syft) (3.5.2)\n",
      "Requirement already satisfied: packaging==21.3 in /opt/anaconda3/envs/syft_env/lib/python3.9/site-packages (from syft) (21.3)\n",
      "Requirement already satisfied: pycapnp==1.2.1 in /opt/anaconda3/envs/syft_env/lib/python3.9/site-packages (from syft) (1.2.1)\n",
      "Requirement already satisfied: forbiddenfruit==0.1.4 in /opt/anaconda3/envs/syft_env/lib/python3.9/site-packages (from syft) (0.1.4)\n",
      "Requirement already satisfied: pyzmq==23.2.1 in /opt/anaconda3/envs/syft_env/lib/python3.9/site-packages (from syft) (23.2.1)\n",
      "Requirement already satisfied: redis==4.2.2 in /opt/anaconda3/envs/syft_env/lib/python3.9/site-packages (from syft) (4.2.2)\n",
      "Requirement already satisfied: boto3==1.21.33 in /opt/anaconda3/envs/syft_env/lib/python3.9/site-packages (from syft) (1.21.33)\n",
      "Requirement already satisfied: ascii-magic==1.6 in /opt/anaconda3/envs/syft_env/lib/python3.9/site-packages (from syft) (1.6)\n",
      "Requirement already satisfied: jax==0.3.7 in /opt/anaconda3/envs/syft_env/lib/python3.9/site-packages (from syft) (0.3.7)\n",
      "Requirement already satisfied: pydantic[email]==1.9.0 in /opt/anaconda3/envs/syft_env/lib/python3.9/site-packages (from syft) (1.9.0)\n",
      "Requirement already satisfied: names==0.3.0 in /opt/anaconda3/envs/syft_env/lib/python3.9/site-packages (from syft) (0.3.0)\n",
      "Requirement already satisfied: cachetools==5.0.0 in /opt/anaconda3/envs/syft_env/lib/python3.9/site-packages (from syft) (5.0.0)\n",
      "Requirement already satisfied: flax==0.4.1 in /opt/anaconda3/envs/syft_env/lib/python3.9/site-packages (from syft) (0.4.1)\n",
      "Requirement already satisfied: pyjwt==2.4.0 in /opt/anaconda3/envs/syft_env/lib/python3.9/site-packages (from syft) (2.4.0)\n",
      "Requirement already satisfied: Pillow in /opt/anaconda3/envs/syft_env/lib/python3.9/site-packages (from ascii-magic==1.6->syft) (9.2.0)\n",
      "Requirement already satisfied: colorama in /opt/anaconda3/envs/syft_env/lib/python3.9/site-packages (from ascii-magic==1.6->syft) (0.4.5)\n",
      "Requirement already satisfied: six>=1.4.1 in /opt/anaconda3/envs/syft_env/lib/python3.9/site-packages (from bcrypt==3.2.0->syft) (1.16.0)\n",
      "Requirement already satisfied: cffi>=1.1 in /opt/anaconda3/envs/syft_env/lib/python3.9/site-packages (from bcrypt==3.2.0->syft) (1.15.1)\n",
      "Requirement already satisfied: jmespath<2.0.0,>=0.7.1 in /opt/anaconda3/envs/syft_env/lib/python3.9/site-packages (from boto3==1.21.33->syft) (1.0.1)\n",
      "Requirement already satisfied: botocore<1.25.0,>=1.24.33 in /opt/anaconda3/envs/syft_env/lib/python3.9/site-packages (from boto3==1.21.33->syft) (1.24.46)\n",
      "Requirement already satisfied: s3transfer<0.6.0,>=0.5.0 in /opt/anaconda3/envs/syft_env/lib/python3.9/site-packages (from boto3==1.21.33->syft) (0.5.2)\n",
      "Requirement already satisfied: msgpack in /opt/anaconda3/envs/syft_env/lib/python3.9/site-packages (from flax==0.4.1->syft) (1.0.4)\n",
      "Requirement already satisfied: optax in /opt/anaconda3/envs/syft_env/lib/python3.9/site-packages (from flax==0.4.1->syft) (0.1.3)\n",
      "Requirement already satisfied: zope.interface in /opt/anaconda3/envs/syft_env/lib/python3.9/site-packages (from gevent==21.12.0->syft) (5.4.0)\n",
      "Requirement already satisfied: zope.event in /opt/anaconda3/envs/syft_env/lib/python3.9/site-packages (from gevent==21.12.0->syft) (4.5.0)\n",
      "Requirement already satisfied: setuptools in /opt/anaconda3/envs/syft_env/lib/python3.9/site-packages (from gevent==21.12.0->syft) (61.2.0)\n",
      "Requirement already satisfied: greenlet<2.0,>=1.1.0 in /opt/anaconda3/envs/syft_env/lib/python3.9/site-packages (from gevent==21.12.0->syft) (1.1.2)\n",
      "Requirement already satisfied: absl-py in /opt/anaconda3/envs/syft_env/lib/python3.9/site-packages (from jax==0.3.7->syft) (1.2.0)\n",
      "Requirement already satisfied: opt-einsum in /opt/anaconda3/envs/syft_env/lib/python3.9/site-packages (from jax==0.3.7->syft) (3.3.0)\n",
      "Requirement already satisfied: scipy>=1.2.1 in /opt/anaconda3/envs/syft_env/lib/python3.9/site-packages (from jax==0.3.7->syft) (1.8.1)\n",
      "Requirement already satisfied: flatbuffers<3.0,>=1.12 in /opt/anaconda3/envs/syft_env/lib/python3.9/site-packages (from jaxlib==0.3.7->syft) (2.0)\n",
      "Requirement already satisfied: kiwisolver>=1.0.1 in /opt/anaconda3/envs/syft_env/lib/python3.9/site-packages (from matplotlib==3.5.2->syft) (1.4.4)\n",
      "Requirement already satisfied: pyparsing>=2.2.1 in /opt/anaconda3/envs/syft_env/lib/python3.9/site-packages (from matplotlib==3.5.2->syft) (3.0.9)\n",
      "Requirement already satisfied: cycler>=0.10 in /opt/anaconda3/envs/syft_env/lib/python3.9/site-packages (from matplotlib==3.5.2->syft) (0.11.0)\n",
      "Requirement already satisfied: fonttools>=4.22.0 in /opt/anaconda3/envs/syft_env/lib/python3.9/site-packages (from matplotlib==3.5.2->syft) (4.34.4)\n",
      "Requirement already satisfied: python-dateutil>=2.7 in /opt/anaconda3/envs/syft_env/lib/python3.9/site-packages (from matplotlib==3.5.2->syft) (2.8.2)\n",
      "Requirement already satisfied: email-validator>=1.0.3 in /opt/anaconda3/envs/syft_env/lib/python3.9/site-packages (from pydantic[email]==1.9.0->syft) (1.2.1)\n",
      "Requirement already satisfied: async-timeout>=4.0.2 in /opt/anaconda3/envs/syft_env/lib/python3.9/site-packages (from redis==4.2.2->syft) (4.0.2)\n",
      "Requirement already satisfied: deprecated>=1.2.3 in /opt/anaconda3/envs/syft_env/lib/python3.9/site-packages (from redis==4.2.2->syft) (1.2.13)\n",
      "Requirement already satisfied: charset-normalizer~=2.0.0 in /opt/anaconda3/envs/syft_env/lib/python3.9/site-packages (from requests==2.27.1->syft) (2.0.12)\n",
      "Requirement already satisfied: idna<4,>=2.5 in /opt/anaconda3/envs/syft_env/lib/python3.9/site-packages (from requests==2.27.1->syft) (3.3)\n",
      "Requirement already satisfied: certifi>=2017.4.17 in /opt/anaconda3/envs/syft_env/lib/python3.9/site-packages (from requests==2.27.1->syft) (2022.6.15)\n",
      "Requirement already satisfied: urllib3<1.27,>=1.21.1 in /opt/anaconda3/envs/syft_env/lib/python3.9/site-packages (from requests==2.27.1->syft) (1.26.11)\n",
      "Requirement already satisfied: pytz>=2020.1 in /opt/anaconda3/envs/syft_env/lib/python3.9/site-packages (from pandas>=1.3.5->syft) (2022.1)\n",
      "Requirement already satisfied: pycparser in /opt/anaconda3/envs/syft_env/lib/python3.9/site-packages (from cffi>=1.1->bcrypt==3.2.0->syft) (2.21)\n"
     ]
    },
    {
     "name": "stdout",
     "output_type": "stream",
     "text": [
      "Requirement already satisfied: wrapt<2,>=1.10 in /opt/anaconda3/envs/syft_env/lib/python3.9/site-packages (from deprecated>=1.2.3->redis==4.2.2->syft) (1.14.1)\n",
      "Requirement already satisfied: dnspython>=1.15.0 in /opt/anaconda3/envs/syft_env/lib/python3.9/site-packages (from email-validator>=1.0.3->pydantic[email]==1.9.0->syft) (2.2.1)\n",
      "Requirement already satisfied: chex>=0.0.4 in /opt/anaconda3/envs/syft_env/lib/python3.9/site-packages (from optax->flax==0.4.1->syft) (0.1.3)\n",
      "Requirement already satisfied: toolz>=0.9.0 in /opt/anaconda3/envs/syft_env/lib/python3.9/site-packages (from chex>=0.0.4->optax->flax==0.4.1->syft) (0.12.0)\n",
      "Requirement already satisfied: dm-tree>=0.1.5 in /opt/anaconda3/envs/syft_env/lib/python3.9/site-packages (from chex>=0.0.4->optax->flax==0.4.1->syft) (0.1.7)\n"
     ]
    }
   ],
   "source": [
    "# check syft installation\n",
    "!pip install syft --pre"
   ]
  },
  {
   "cell_type": "code",
   "execution_count": 1,
   "id": "c96e0c95",
   "metadata": {},
   "outputs": [
    {
     "name": "stderr",
     "output_type": "stream",
     "text": [
      "/opt/anaconda3/envs/syft_env/lib/python3.9/site-packages/tqdm/auto.py:22: TqdmWarning: IProgress not found. Please update jupyter and ipywidgets. See https://ipywidgets.readthedocs.io/en/stable/user_install.html\n",
      "  from .autonotebook import tqdm as notebook_tqdm\n"
     ]
    }
   ],
   "source": [
    "import syft as sy\n",
    "import numpy as np\n",
    "import pandas as pd"
   ]
  },
  {
   "cell_type": "code",
   "execution_count": 2,
   "id": "5eae27bb",
   "metadata": {},
   "outputs": [
    {
     "data": {
      "text/plain": [
       "Index(['name', 'height', 'mass', 'hair_color', 'skin_color', 'eye_color',\n",
       "       'birth_year', 'gender', 'homeworld', 'species'],\n",
       "      dtype='object')"
      ]
     },
     "execution_count": 2,
     "metadata": {},
     "output_type": "execute_result"
    }
   ],
   "source": [
    "df=pd.read_csv('https://raw.githubusercontent.com/CarlaFC/Star-Wars/main/characters.csv')\n",
    "df.columns"
   ]
  },
  {
   "cell_type": "code",
   "execution_count": 27,
   "id": "606fc1c5",
   "metadata": {},
   "outputs": [
    {
     "data": {
      "text/html": [
       "<div>\n",
       "<style scoped>\n",
       "    .dataframe tbody tr th:only-of-type {\n",
       "        vertical-align: middle;\n",
       "    }\n",
       "\n",
       "    .dataframe tbody tr th {\n",
       "        vertical-align: top;\n",
       "    }\n",
       "\n",
       "    .dataframe thead th {\n",
       "        text-align: right;\n",
       "    }\n",
       "</style>\n",
       "<table border=\"1\" class=\"dataframe\">\n",
       "  <thead>\n",
       "    <tr style=\"text-align: right;\">\n",
       "      <th></th>\n",
       "      <th>name</th>\n",
       "      <th>height</th>\n",
       "      <th>mass</th>\n",
       "      <th>hair_color</th>\n",
       "      <th>skin_color</th>\n",
       "      <th>eye_color</th>\n",
       "      <th>birth_year</th>\n",
       "      <th>gender</th>\n",
       "      <th>homeworld</th>\n",
       "      <th>species</th>\n",
       "      <th>from_naboo</th>\n",
       "    </tr>\n",
       "  </thead>\n",
       "  <tbody>\n",
       "    <tr>\n",
       "      <th>50</th>\n",
       "      <td>Eeth Koth</td>\n",
       "      <td>171.0</td>\n",
       "      <td>NaN</td>\n",
       "      <td>black</td>\n",
       "      <td>brown</td>\n",
       "      <td>brown</td>\n",
       "      <td>NaN</td>\n",
       "      <td>male</td>\n",
       "      <td>Iridonia</td>\n",
       "      <td>Zabrak</td>\n",
       "      <td>False</td>\n",
       "    </tr>\n",
       "    <tr>\n",
       "      <th>35</th>\n",
       "      <td>Rugor Nass</td>\n",
       "      <td>206.0</td>\n",
       "      <td>NaN</td>\n",
       "      <td>none</td>\n",
       "      <td>green</td>\n",
       "      <td>orange</td>\n",
       "      <td>NaN</td>\n",
       "      <td>male</td>\n",
       "      <td>Naboo</td>\n",
       "      <td>Gungan</td>\n",
       "      <td>True</td>\n",
       "    </tr>\n",
       "    <tr>\n",
       "      <th>81</th>\n",
       "      <td>Finn</td>\n",
       "      <td>NaN</td>\n",
       "      <td>NaN</td>\n",
       "      <td>black</td>\n",
       "      <td>dark</td>\n",
       "      <td>dark</td>\n",
       "      <td>NaN</td>\n",
       "      <td>male</td>\n",
       "      <td>NaN</td>\n",
       "      <td>Human</td>\n",
       "      <td>False</td>\n",
       "    </tr>\n",
       "    <tr>\n",
       "      <th>46</th>\n",
       "      <td>Ben Quadinaros</td>\n",
       "      <td>163.0</td>\n",
       "      <td>65.0</td>\n",
       "      <td>none</td>\n",
       "      <td>grey, green, yellow</td>\n",
       "      <td>orange</td>\n",
       "      <td>NaN</td>\n",
       "      <td>male</td>\n",
       "      <td>Tund</td>\n",
       "      <td>Toong</td>\n",
       "      <td>False</td>\n",
       "    </tr>\n",
       "    <tr>\n",
       "      <th>76</th>\n",
       "      <td>Grievous</td>\n",
       "      <td>216.0</td>\n",
       "      <td>159.0</td>\n",
       "      <td>none</td>\n",
       "      <td>brown, white</td>\n",
       "      <td>green, yellow</td>\n",
       "      <td>NaN</td>\n",
       "      <td>male</td>\n",
       "      <td>Kalee</td>\n",
       "      <td>Kaleesh</td>\n",
       "      <td>False</td>\n",
       "    </tr>\n",
       "  </tbody>\n",
       "</table>\n",
       "</div>"
      ],
      "text/plain": [
       "              name  height   mass hair_color           skin_color  \\\n",
       "50       Eeth Koth   171.0    NaN      black                brown   \n",
       "35      Rugor Nass   206.0    NaN       none                green   \n",
       "81            Finn     NaN    NaN      black                 dark   \n",
       "46  Ben Quadinaros   163.0   65.0       none  grey, green, yellow   \n",
       "76        Grievous   216.0  159.0       none         brown, white   \n",
       "\n",
       "        eye_color birth_year gender homeworld  species  from_naboo  \n",
       "50          brown        NaN   male  Iridonia   Zabrak       False  \n",
       "35         orange        NaN   male     Naboo   Gungan        True  \n",
       "81           dark        NaN   male       NaN    Human       False  \n",
       "46         orange        NaN   male      Tund    Toong       False  \n",
       "76  green, yellow        NaN   male     Kalee  Kaleesh       False  "
      ]
     },
     "execution_count": 27,
     "metadata": {},
     "output_type": "execute_result"
    }
   ],
   "source": [
    "# make mass a numeric column\n",
    "df['mass'] = pd.to_numeric(df['mass'], errors='coerce')\n",
    "\n",
    "# add column for characters from Naboo\n",
    "df['from_naboo'] = pd.to_numeric(df.homeworld=='Naboo')\n",
    "df.sample(5)"
   ]
  },
  {
   "cell_type": "code",
   "execution_count": 28,
   "id": "c95fc304",
   "metadata": {},
   "outputs": [
    {
     "data": {
      "text/plain": [
       "array([DataSubjectArray: {'Luke Skywalker'}, DataSubjectArray: {'C-3PO'},\n",
       "       DataSubjectArray: {'R2-D2'}, DataSubjectArray: {'Darth Vader'},\n",
       "       DataSubjectArray: {'Leia Organa'}], dtype=object)"
      ]
     },
     "execution_count": 28,
     "metadata": {},
     "output_type": "execute_result"
    }
   ],
   "source": [
    "data_subjects = sy.DataSubjectArray.from_objs(df[\"name\"])\n",
    "data_subjects[:5]"
   ]
  },
  {
   "cell_type": "code",
   "execution_count": 29,
   "id": "3ee1803c",
   "metadata": {},
   "outputs": [
    {
     "name": "stdout",
     "output_type": "stream",
     "text": [
      "Tensor annotated with DP Metadata\n"
     ]
    }
   ],
   "source": [
    "mass_data = sy.Tensor(df[\"mass\"]).annotated_with_dp_metadata(\n",
    "   min_val=df.mass.min(), max_val=df.mass.max(), data_subjects=data_subjects\n",
    ")"
   ]
  },
  {
   "cell_type": "code",
   "execution_count": 30,
   "id": "993c3386",
   "metadata": {},
   "outputs": [
    {
     "name": "stdout",
     "output_type": "stream",
     "text": [
      "Tensor annotated with DP Metadata\n"
     ]
    }
   ],
   "source": [
    "from_naboo = sy.Tensor(df.homeworld=='Naboo').annotated_with_dp_metadata(\n",
    "   min_val=0, max_val=1, data_subjects=data_subjects\n",
    ")"
   ]
  },
  {
   "cell_type": "code",
   "execution_count": 31,
   "id": "44b97c91",
   "metadata": {},
   "outputs": [
    {
     "name": "stdout",
     "output_type": "stream",
     "text": [
      "Connecting to 20.245.180.89... done! \t Logging into openmined_hospital... done!\n",
      "\n",
      "**Warning**: The syft version on your system and the node are different.\n",
      "Version on your system: 0.7.0-beta.47\n",
      "Version on the node: 0.7.0-beta.46\n",
      "\n"
     ]
    }
   ],
   "source": [
    "domain_client=sy.login(url=\"20.245.180.89\",\n",
    "                       email=\"kenobi@jedi.org\",\n",
    "                      password=\"hellothere\", )"
   ]
  },
  {
   "cell_type": "code",
   "execution_count": 32,
   "id": "cfa5ede3",
   "metadata": {},
   "outputs": [
    {
     "name": "stdout",
     "output_type": "stream",
     "text": [
      "Loading dataset...\r",
      "Loading dataset... checking assets...\r",
      "Loading dataset... checking dataset name for uniqueness...\r",
      "Loading dataset... checking dataset name for uniqueness...                                                                                                                    \r",
      "Loading dataset... checking asset types...                              \r",
      "Loading dataset... uploading...🚀                        "
     ]
    },
    {
     "name": "stderr",
     "output_type": "stream",
     "text": [
      "Uploading `mass`: 100%|\u001b[32m███████████████████████████████████████████████\u001b[0m| 1/1 [00:00<00:00,  7.42it/s]\u001b[0m\n",
      "Uploading `from_naboo`: 100%|\u001b[32m█████████████████████████████████████████\u001b[0m| 1/1 [00:00<00:00,  7.59it/s]\u001b[0m\n"
     ]
    },
    {
     "name": "stdout",
     "output_type": "stream",
     "text": [
      "\r",
      "Dataset is uploaded successfully !!! 🎉\n",
      "\n",
      "Run `<your client variable>.datasets` to see your new dataset loaded into your machine!\n"
     ]
    }
   ],
   "source": [
    "domain_client.load_dataset(\n",
    "   name=\"Star_Wars_Characters\",\n",
    "   assets={\n",
    "      \"mass\": mass_data,\n",
    "       \"from_naboo\": from_naboo\n",
    "   },\n",
    "   description=\"Kenobi's census\"\n",
    ")"
   ]
  },
  {
   "cell_type": "code",
   "execution_count": 33,
   "id": "0135ac5d",
   "metadata": {},
   "outputs": [
    {
     "data": {
      "text/html": [
       "<style>\n",
       "                #myInput {\n",
       "                  background-position: 10px 12px; /* Position the search icon */\n",
       "                  background-repeat: no-repeat; /* Do not repeat the icon image */\n",
       "                  background-color: #bbb;\n",
       "                  width: 98%; /* Full-width */\n",
       "                  font-size: 14px; /* Increase font-size */\n",
       "                  padding: 12px 20px 12px 40px; /* Add some padding */\n",
       "                  border: 1px solid #ddd; /* Add a grey border */\n",
       "                  margin-bottom: 12px; /* Add some space below the input */\n",
       "                }\n",
       "\n",
       "                #myTable {\n",
       "                  border-collapse: collapse; /* Collapse borders */\n",
       "                  width: 100%; /* Full-width */\n",
       "                  border: 1px solid #ddd; /* Add a grey border */\n",
       "                  font-size: 14px; /* Increase font-size */\n",
       "                }\n",
       "\n",
       "                #myTable th, #myTable td {\n",
       "                  text-align: left; /* Left-align text */\n",
       "                  padding: 10px; /* Add padding */\n",
       "                }\n",
       "\n",
       "                #myTable tr {\n",
       "                  /* Add a bottom border to all table rows */\n",
       "                  border-bottom: 1px solid #ddd;\n",
       "                }\n",
       "\n",
       "                #myTable tr.header, #myTable tr:hover {\n",
       "                  /* Add a grey background color to the table header and on hover */\n",
       "                  background-color: #777;\n",
       "                }\n",
       "                </style>\n",
       "\n",
       "                <table id=\"myTable\" style=\"width:1000px\">\n",
       "                  <tr class=\"header\">\n",
       "                    <th style=\"width:30px\">Idx</th>\n",
       "                    <th style=\"width:20%;\">Name</th>\n",
       "                    <th style=\"width:35%;\">Description</th>\n",
       "                    <th style=\"width:20%;\">Assets</th>\n",
       "                    <th style=\"width:300px;\">Id</th>\n",
       "                  </tr>\n",
       "                \n",
       "\n",
       "          <tr>\n",
       "            <td>[0]</td>\n",
       "            <td>OMTissueMNISTDataset</td>\n",
       "            <td>Tissue Specimen Dataset upload from OM uploaded by Osam :).</td>\n",
       "            <td>[\"images\"] -> <class 'syft.core.tensor.tensor.Tensor'><br /><br />[\"labels\"] -> <class 'syft.core.tensor.tensor.Tensor'><br /><br /></td>\n",
       "            <td>d40b55bb-f0a0-4db3-81c2-144c3d10ab2f</td>\n",
       "          </tr>\n",
       "\n",
       "          <tr>\n",
       "            <td>[1]</td>\n",
       "            <td>OMTissueMNISTDataset-jb</td>\n",
       "            <td>Tissue Specimen Dataset upload from OM.</td>\n",
       "            <td>[\"images\"] -> <class 'syft.core.tensor.tensor.Tensor'><br /><br />[\"labels\"] -> <class 'syft.core.tensor.tensor.Tensor'><br /><br /></td>\n",
       "            <td>a0814ae7-4cdf-4ac4-9fb0-097752199f9d</td>\n",
       "          </tr>\n",
       "\n",
       "          <tr>\n",
       "            <td>[2]</td>\n",
       "            <td>OMTissueMNISTDataset-af</td>\n",
       "            <td>Tissue Specimen Dataset upload from OM.</td>\n",
       "            <td>[\"images\"] -> <class 'syft.core.tensor.tensor.Tensor'><br /><br />[\"labels\"] -> <class 'syft.core.tensor.tensor.Tensor'><br /><br /></td>\n",
       "            <td>a77fe16c-7f90-453d-bc40-f945b596fe4b</td>\n",
       "          </tr>\n",
       "\n",
       "          <tr>\n",
       "            <td>[3]</td>\n",
       "            <td>OMTissueMNISTDataset</td>\n",
       "            <td>Tissue Specimen Dataset upload from OM.</td>\n",
       "            <td>[\"images\"] -> <class 'syft.core.tensor.tensor.Tensor'><br /><br />[\"labels\"] -> <class 'syft.core.tensor.tensor.Tensor'><br /><br /></td>\n",
       "            <td>6ea9f58c-4f84-4524-9222-7c0e03aac05f</td>\n",
       "          </tr>\n",
       "\n",
       "          <tr>\n",
       "            <td>[4]</td>\n",
       "            <td>Star_Wars_Characters</td>\n",
       "            <td>Test dataset of characters from star wars and their mass</td>\n",
       "            <td>[\"mass\"] -> <class 'syft.core.tensor.tensor.Tensor'><br /><br /></td>\n",
       "            <td>ae2ba09c-56f3-4682-bf3e-74171f34ba30</td>\n",
       "          </tr>\n",
       "\n",
       "          <tr>\n",
       "            <td>[5]</td>\n",
       "            <td>Star_Wars_Characters</td>\n",
       "            <td>Kenobi's census</td>\n",
       "            <td>[\"mass\"] -> <class 'syft.core.tensor.tensor.Tensor'><br /><br />[\"from_naboo\"] -> <class 'syft.core.tensor.tensor.Tensor'><br /><br /></td>\n",
       "            <td>e530d303-50f9-40d6-8032-b1ec4cd31dc5</td>\n",
       "          </tr>\n",
       "        </table>\n",
       "\n",
       "        <script>\n",
       "        function myFunction() {\n",
       "          // Declare variables\n",
       "          var input, filter, table, tr, td, i, txtValue;\n",
       "          input = document.getElementById(\"myInput\");\n",
       "          filter = input.value.toUpperCase();\n",
       "          table = document.getElementById(\"myTable\");\n",
       "          tr = table.getElementsByTagName(\"tr\");\n",
       "\n",
       "          // Loop through all table rows, and hide those who don't match the search query\n",
       "          for (i = 0; i < tr.length; i++) {\n",
       "            name_td = tr[i].getElementsByTagName(\"td\")[1];\n",
       "            desc_td = tr[i].getElementsByTagName(\"td\")[2];\n",
       "            asset_td = tr[i].getElementsByTagName(\"td\")[3];\n",
       "            id_td = tr[i].getElementsByTagName(\"td\")[4];\n",
       "            if (name_td || desc_td || asset_td || id_td) {\n",
       "              name_txtValue = name_td.textContent || name_td.innerText;\n",
       "              desc_txtValue = desc_td.textContent || name_td.innerText;\n",
       "              asset_txtValue = asset_td.textContent || name_td.innerText;\n",
       "              id_txtValue = id_td.textContent || name_td.innerText;\n",
       "              name_bool = name_txtValue.toUpperCase().indexOf(filter) > -1;\n",
       "              desc_bool = desc_txtValue.toUpperCase().indexOf(filter) > -1;\n",
       "              asset_bool = asset_txtValue.toUpperCase().indexOf(filter) > -1;\n",
       "              id_bool = id_txtValue.toUpperCase().indexOf(filter) > -1;\n",
       "              if (name_bool || desc_bool || asset_bool || id_bool) {\n",
       "                tr[i].style.display = \"\";\n",
       "              } else {\n",
       "                tr[i].style.display = \"none\";\n",
       "              }\n",
       "            }\n",
       "          }\n",
       "        }\n",
       "        </script>"
      ],
      "text/plain": [
       "<syft.core.node.common.client_manager.dataset_api.DatasetRequestAPI at 0x7f9bd8c18a00>"
      ]
     },
     "execution_count": 33,
     "metadata": {},
     "output_type": "execute_result"
    }
   ],
   "source": [
    "domain_client.datasets"
   ]
  },
  {
   "cell_type": "code",
   "execution_count": null,
   "id": "ff88567e",
   "metadata": {},
   "outputs": [],
   "source": []
  }
 ],
 "metadata": {
  "kernelspec": {
   "display_name": "Python 3 (ipykernel)",
   "language": "python",
   "name": "python3"
  },
  "language_info": {
   "codemirror_mode": {
    "name": "ipython",
    "version": 3
   },
   "file_extension": ".py",
   "mimetype": "text/x-python",
   "name": "python",
   "nbconvert_exporter": "python",
   "pygments_lexer": "ipython3",
   "version": "3.9.12"
  }
 },
 "nbformat": 4,
 "nbformat_minor": 5
}

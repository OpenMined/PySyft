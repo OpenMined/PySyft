{
 "cells": [
  {
   "cell_type": "code",
   "execution_count": 2,
   "id": "a5d0ed94",
   "metadata": {},
   "outputs": [],
   "source": [
    "import pandas as pd"
   ]
  },
  {
   "cell_type": "markdown",
   "id": "49b6d8c4",
   "metadata": {},
   "source": [
    "## Local Data Science"
   ]
  },
  {
   "cell_type": "code",
   "execution_count": 3,
   "id": "85699be5",
   "metadata": {},
   "outputs": [
    {
     "data": {
      "text/html": [
       "<div>\n",
       "<style scoped>\n",
       "    .dataframe tbody tr th:only-of-type {\n",
       "        vertical-align: middle;\n",
       "    }\n",
       "\n",
       "    .dataframe tbody tr th {\n",
       "        vertical-align: top;\n",
       "    }\n",
       "\n",
       "    .dataframe thead th {\n",
       "        text-align: right;\n",
       "    }\n",
       "</style>\n",
       "<table border=\"1\" class=\"dataframe\">\n",
       "  <thead>\n",
       "    <tr style=\"text-align: right;\">\n",
       "      <th></th>\n",
       "      <th>patient_ids</th>\n",
       "      <th>images</th>\n",
       "      <th>labels</th>\n",
       "    </tr>\n",
       "  </thead>\n",
       "  <tbody>\n",
       "    <tr>\n",
       "      <th>62</th>\n",
       "      <td>516943</td>\n",
       "      <td>[[13, 12, 10, 8, 8, 8, 9, 9, 14, 16, 22, 25, 2...</td>\n",
       "      <td>5</td>\n",
       "    </tr>\n",
       "    <tr>\n",
       "      <th>299</th>\n",
       "      <td>517810</td>\n",
       "      <td>[[19, 11, 7, 11, 15, 15, 13, 13, 14, 14, 16, 1...</td>\n",
       "      <td>1</td>\n",
       "    </tr>\n",
       "    <tr>\n",
       "      <th>721</th>\n",
       "      <td>520323</td>\n",
       "      <td>[[1, 2, 3, 4, 5, 5, 5, 5, 11, 12, 14, 14, 14, ...</td>\n",
       "      <td>6</td>\n",
       "    </tr>\n",
       "    <tr>\n",
       "      <th>384</th>\n",
       "      <td>520001</td>\n",
       "      <td>[[14, 12, 12, 16, 20, 21, 17, 13, 12, 12, 11, ...</td>\n",
       "      <td>1</td>\n",
       "    </tr>\n",
       "    <tr>\n",
       "      <th>2356</th>\n",
       "      <td>527572</td>\n",
       "      <td>[[11, 18, 15, 11, 19, 39, 80, 126, 135, 123, 7...</td>\n",
       "      <td>1</td>\n",
       "    </tr>\n",
       "  </tbody>\n",
       "</table>\n",
       "</div>"
      ],
      "text/plain": [
       "      patient_ids                                             images  labels\n",
       "62         516943  [[13, 12, 10, 8, 8, 8, 9, 9, 14, 16, 22, 25, 2...       5\n",
       "299        517810  [[19, 11, 7, 11, 15, 15, 13, 13, 14, 14, 16, 1...       1\n",
       "721        520323  [[1, 2, 3, 4, 5, 5, 5, 5, 11, 12, 14, 14, 14, ...       6\n",
       "384        520001  [[14, 12, 12, 16, 20, 21, 17, 13, 12, 12, 11, ...       1\n",
       "2356       527572  [[11, 18, 15, 11, 19, 39, 80, 126, 135, 123, 7...       1"
      ]
     },
     "execution_count": 3,
     "metadata": {},
     "output_type": "execute_result"
    }
   ],
   "source": [
    "# obtain a local copy of the data subset\n",
    "data_subset = pd.read_pickle('https://github.com/OpenMined/datasets/blob/main/TissueMNIST/subsets/TissueMNIST-04b0fe07281c47d79276a4f4941dbdca.pkl?raw=true')\n",
    "data_subset.sample(5)"
   ]
  },
  {
   "cell_type": "code",
   "execution_count": 4,
   "id": "ffba1c8d",
   "metadata": {},
   "outputs": [
    {
     "data": {
      "text/plain": [
       "11"
      ]
     },
     "execution_count": 4,
     "metadata": {},
     "output_type": "execute_result"
    }
   ],
   "source": [
    "# How many unique patients are there?\n",
    "len(data_subset.patient_ids.unique())"
   ]
  },
  {
   "cell_type": "code",
   "execution_count": 5,
   "id": "e723b761",
   "metadata": {},
   "outputs": [
    {
     "data": {
      "text/plain": [
       "8"
      ]
     },
     "execution_count": 5,
     "metadata": {},
     "output_type": "execute_result"
    }
   ],
   "source": [
    "# How many unique labels are there?\n",
    "len(data_subset.labels.unique())"
   ]
  },
  {
   "cell_type": "code",
   "execution_count": 8,
   "id": "bc787986",
   "metadata": {},
   "outputs": [
    {
     "data": {
      "text/plain": [
       "0    741\n",
       "6    570\n",
       "7    362\n",
       "3    198\n",
       "4    160\n",
       "1    131\n",
       "5    116\n",
       "2     85\n",
       "Name: labels, dtype: int64"
      ]
     },
     "execution_count": 8,
     "metadata": {},
     "output_type": "execute_result"
    }
   ],
   "source": [
    "# How many occurences of each label?\n",
    "data_subset.labels.value_counts()"
   ]
  },
  {
   "cell_type": "code",
   "execution_count": 7,
   "id": "2c658816",
   "metadata": {},
   "outputs": [
    {
     "data": {
      "text/plain": [
       "0    0.313584\n",
       "6    0.241219\n",
       "7    0.153195\n",
       "3    0.083792\n",
       "4    0.067711\n",
       "1    0.055438\n",
       "5    0.049090\n",
       "2    0.035971\n",
       "Name: labels, dtype: float64"
      ]
     },
     "execution_count": 7,
     "metadata": {},
     "output_type": "execute_result"
    }
   ],
   "source": [
    "# How are the labels distributed?\n",
    "data_subset.labels.value_counts(normalize=True)"
   ]
  },
  {
   "cell_type": "markdown",
   "id": "e6e7c0d1",
   "metadata": {},
   "source": [
    "## Remote Data Science"
   ]
  },
  {
   "cell_type": "code",
   "execution_count": null,
   "id": "58de15a5",
   "metadata": {},
   "outputs": [],
   "source": [
    "# connect to the domain\n",
    "domain = sy.login(\n",
    "    email=\"\",\n",
    "    password=\"\", port=8081)"
   ]
  },
  {
   "cell_type": "code",
   "execution_count": null,
   "id": "0a917d6f",
   "metadata": {},
   "outputs": [],
   "source": [
    "# what datasets are available?\n",
    "domain.datasets"
   ]
  },
  {
   "cell_type": "code",
   "execution_count": null,
   "id": "ac47afa6",
   "metadata": {},
   "outputs": [],
   "source": [
    "# How many unique patients are there?\n"
   ]
  },
  {
   "cell_type": "code",
   "execution_count": null,
   "id": "b61636aa",
   "metadata": {},
   "outputs": [],
   "source": [
    "# How many unique labels are there?\n"
   ]
  },
  {
   "cell_type": "code",
   "execution_count": null,
   "id": "f499232a",
   "metadata": {},
   "outputs": [],
   "source": [
    "# How many occurences of each label?\n"
   ]
  }
 ],
 "metadata": {
  "kernelspec": {
   "display_name": "Python 3 (ipykernel)",
   "language": "python",
   "name": "python3"
  },
  "language_info": {
   "codemirror_mode": {
    "name": "ipython",
    "version": 3
   },
   "file_extension": ".py",
   "mimetype": "text/x-python",
   "name": "python",
   "nbconvert_exporter": "python",
   "pygments_lexer": "ipython3",
   "version": "3.9.12"
  }
 },
 "nbformat": 4,
 "nbformat_minor": 5
}

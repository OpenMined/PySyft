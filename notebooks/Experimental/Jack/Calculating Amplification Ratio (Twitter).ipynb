{
 "cells": [
  {
   "cell_type": "markdown",
   "id": "bd24b744",
   "metadata": {},
   "source": [
    "# Calculating 'Amplification Ratio:' Reproducing Twitter Research with DP Guarantees\n",
    "\n",
    "References:\n",
    "* [Twitter Blog Summary](https://blog.twitter.com/en_us/topics/company/2021/rml-politicalcontent)\n",
    "* [Twitter Preprint](https://cdn.cms-twdigitalassets.com/content/dam/blog-twitter/official/en_us/company/2021/rml/Algorithmic-Amplification-of-Politics-on-Twitter.pdf) (includes Supplementary Information section)\n",
    "* [PNAS Paper](https://doi.org/10.1073/pnas.2025334119)\n",
    "* [PNAS Supporting Information](https://www.pnas.org/highwire/filestream/1021951/field_highwire_adjunct_files/0/pnas.2025334119.sapp.pdf)"
   ]
  },
  {
   "cell_type": "markdown",
   "id": "d4252bf6",
   "metadata": {},
   "source": [
    "### Imports and data"
   ]
  },
  {
   "cell_type": "code",
   "execution_count": 1,
   "id": "b64488d9",
   "metadata": {},
   "outputs": [],
   "source": [
    "# standard\n",
    "import pandas as pd\n",
    "from datetime import datetime, timedelta"
   ]
  },
  {
   "cell_type": "code",
   "execution_count": 2,
   "id": "4b067bf6",
   "metadata": {},
   "outputs": [],
   "source": [
    "# from google drive, twitter datasets -> demo -> to benchmark -> demo 2 datasets\n",
    "df=pd.read_parquet(\"../../../../Data/OpenMined/1M_rows_dataset_sample.parquet\")\n",
    "\n",
    "# old dataset: df=pd.read_parquet(\"https://github.com/madhavajay/datasets/blob/main/spicy_bird/1M_rows_dataset_sample.parquet?raw=true\")"
   ]
  },
  {
   "cell_type": "code",
   "execution_count": 3,
   "id": "669dd101",
   "metadata": {},
   "outputs": [
    {
     "data": {
      "text/html": [
       "<div>\n",
       "<style scoped>\n",
       "    .dataframe tbody tr th:only-of-type {\n",
       "        vertical-align: middle;\n",
       "    }\n",
       "\n",
       "    .dataframe tbody tr th {\n",
       "        vertical-align: top;\n",
       "    }\n",
       "\n",
       "    .dataframe thead th {\n",
       "        text-align: right;\n",
       "    }\n",
       "</style>\n",
       "<table border=\"1\" class=\"dataframe\">\n",
       "  <thead>\n",
       "    <tr style=\"text-align: right;\">\n",
       "      <th></th>\n",
       "      <th>tweet_id</th>\n",
       "      <th>impressions</th>\n",
       "      <th>impressions_ct</th>\n",
       "      <th>bucket</th>\n",
       "      <th>tweet_origin</th>\n",
       "      <th>tweet_date_time</th>\n",
       "      <th>date</th>\n",
       "      <th>time</th>\n",
       "      <th>user_id</th>\n",
       "      <th>user_country</th>\n",
       "      <th>url</th>\n",
       "      <th>publication_title</th>\n",
       "      <th>ad_fontes_bias</th>\n",
       "      <th>ad_fontes_reliability</th>\n",
       "      <th>domain</th>\n",
       "      <th>tweet_date</th>\n",
       "    </tr>\n",
       "  </thead>\n",
       "  <tbody>\n",
       "    <tr>\n",
       "      <th>777010</th>\n",
       "      <td>24</td>\n",
       "      <td>9346</td>\n",
       "      <td>1880</td>\n",
       "      <td>0</td>\n",
       "      <td>U.K.</td>\n",
       "      <td>2021-04-18 19:04:05</td>\n",
       "      <td>2021-04-18</td>\n",
       "      <td>0 days 19:04:05</td>\n",
       "      <td>664058</td>\n",
       "      <td>France</td>\n",
       "      <td>https://www.aljazeera.com/news/2019/04/asylum-...</td>\n",
       "      <td>Al Jazeera</td>\n",
       "      <td>-6.00000</td>\n",
       "      <td>50.50000</td>\n",
       "      <td>.aljazeera.com</td>\n",
       "      <td>2021-04-18</td>\n",
       "    </tr>\n",
       "    <tr>\n",
       "      <th>476677</th>\n",
       "      <td>65</td>\n",
       "      <td>9414</td>\n",
       "      <td>1831</td>\n",
       "      <td>0</td>\n",
       "      <td>U.S.A.</td>\n",
       "      <td>2020-08-24 10:09:40</td>\n",
       "      <td>2020-08-24</td>\n",
       "      <td>0 days 10:09:40</td>\n",
       "      <td>83276</td>\n",
       "      <td>U.S.A.</td>\n",
       "      <td>https://www.alternet.org/2019/04/now-trump-thi...</td>\n",
       "      <td>AlterNet</td>\n",
       "      <td>-14.25000</td>\n",
       "      <td>34.75000</td>\n",
       "      <td>.alternet.org</td>\n",
       "      <td>2020-08-24</td>\n",
       "    </tr>\n",
       "    <tr>\n",
       "      <th>237279</th>\n",
       "      <td>57</td>\n",
       "      <td>9619</td>\n",
       "      <td>7845</td>\n",
       "      <td>1</td>\n",
       "      <td>Germany</td>\n",
       "      <td>2021-07-26 22:10:18</td>\n",
       "      <td>2021-07-26</td>\n",
       "      <td>0 days 22:10:18</td>\n",
       "      <td>318111</td>\n",
       "      <td>Spain</td>\n",
       "      <td>https://www.alternet.org/2019/02/conservative-...</td>\n",
       "      <td>AlterNet</td>\n",
       "      <td>-20.00000</td>\n",
       "      <td>15.25000</td>\n",
       "      <td>.alternet.org</td>\n",
       "      <td>2021-07-26</td>\n",
       "    </tr>\n",
       "    <tr>\n",
       "      <th>742749</th>\n",
       "      <td>12</td>\n",
       "      <td>7820</td>\n",
       "      <td>1456</td>\n",
       "      <td>0</td>\n",
       "      <td>Canada</td>\n",
       "      <td>2020-12-27 10:23:27</td>\n",
       "      <td>2020-12-27</td>\n",
       "      <td>0 days 10:23:27</td>\n",
       "      <td>336972</td>\n",
       "      <td>Spain</td>\n",
       "      <td>https://www.aljazeera.com/news/2020/06/police-...</td>\n",
       "      <td>Al Jazeera</td>\n",
       "      <td>-6.25000</td>\n",
       "      <td>46.25000</td>\n",
       "      <td>.aljazeera.com</td>\n",
       "      <td>2020-12-27</td>\n",
       "    </tr>\n",
       "    <tr>\n",
       "      <th>812357</th>\n",
       "      <td>8</td>\n",
       "      <td>12961</td>\n",
       "      <td>10539</td>\n",
       "      <td>1</td>\n",
       "      <td>U.S.A.</td>\n",
       "      <td>2020-05-12 08:52:34</td>\n",
       "      <td>2020-05-12</td>\n",
       "      <td>0 days 08:52:34</td>\n",
       "      <td>134826</td>\n",
       "      <td>France</td>\n",
       "      <td>https://www.aljazeera.com/gallery/2021/1/7/in-...</td>\n",
       "      <td>Al Jazeera</td>\n",
       "      <td>-5.66667</td>\n",
       "      <td>47.66667</td>\n",
       "      <td>.aljazeera.com</td>\n",
       "      <td>2020-05-12</td>\n",
       "    </tr>\n",
       "  </tbody>\n",
       "</table>\n",
       "</div>"
      ],
      "text/plain": [
       "        tweet_id  impressions  impressions_ct  bucket tweet_origin  \\\n",
       "777010        24         9346            1880       0         U.K.   \n",
       "476677        65         9414            1831       0       U.S.A.   \n",
       "237279        57         9619            7845       1      Germany   \n",
       "742749        12         7820            1456       0       Canada   \n",
       "812357         8        12961           10539       1       U.S.A.   \n",
       "\n",
       "           tweet_date_time       date            time  user_id user_country  \\\n",
       "777010 2021-04-18 19:04:05 2021-04-18 0 days 19:04:05   664058       France   \n",
       "476677 2020-08-24 10:09:40 2020-08-24 0 days 10:09:40    83276       U.S.A.   \n",
       "237279 2021-07-26 22:10:18 2021-07-26 0 days 22:10:18   318111        Spain   \n",
       "742749 2020-12-27 10:23:27 2020-12-27 0 days 10:23:27   336972        Spain   \n",
       "812357 2020-05-12 08:52:34 2020-05-12 0 days 08:52:34   134826       France   \n",
       "\n",
       "                                                      url publication_title  \\\n",
       "777010  https://www.aljazeera.com/news/2019/04/asylum-...        Al Jazeera   \n",
       "476677  https://www.alternet.org/2019/04/now-trump-thi...          AlterNet   \n",
       "237279  https://www.alternet.org/2019/02/conservative-...          AlterNet   \n",
       "742749  https://www.aljazeera.com/news/2020/06/police-...        Al Jazeera   \n",
       "812357  https://www.aljazeera.com/gallery/2021/1/7/in-...        Al Jazeera   \n",
       "\n",
       "        ad_fontes_bias  ad_fontes_reliability          domain  tweet_date  \n",
       "777010        -6.00000               50.50000  .aljazeera.com  2021-04-18  \n",
       "476677       -14.25000               34.75000   .alternet.org  2020-08-24  \n",
       "237279       -20.00000               15.25000   .alternet.org  2021-07-26  \n",
       "742749        -6.25000               46.25000  .aljazeera.com  2020-12-27  \n",
       "812357        -5.66667               47.66667  .aljazeera.com  2020-05-12  "
      ]
     },
     "execution_count": 3,
     "metadata": {},
     "output_type": "execute_result"
    }
   ],
   "source": [
    "# add a date column to simplify some calculations, check sample to verify\n",
    "df['tweet_date'] = df.tweet_date_time.dt.date\n",
    "df.sample(5)"
   ]
  },
  {
   "cell_type": "code",
   "execution_count": 4,
   "id": "7d87df91",
   "metadata": {},
   "outputs": [],
   "source": [
    "# utility function - pretty-print a decimal as a percentage\n",
    "def pretty_percentage(decimal):\n",
    "    return f\"{decimal:+.2%}\""
   ]
  },
  {
   "cell_type": "markdown",
   "id": "11710733",
   "metadata": {},
   "source": [
    "# NumPy\n",
    "This is essentially a prototype that can be followed when creating the PySyft version"
   ]
  },
  {
   "cell_type": "markdown",
   "id": "c363facb",
   "metadata": {},
   "source": [
    "### Calculating Amplification Ratio with NumPy\n",
    "**Note 1**: eventually this will require a little more calculation due to imbalanced sample sizes in the holdback experiment (~4:1 algorithm:chronological, i.e. treatment:control)\n",
    "\n",
    "**Note 2**: currently, each row in this dataset represents an impression. If and when data is aggregated, amplification ratio should be calculated by summing the impressions column rather than counting rows"
   ]
  },
  {
   "cell_type": "markdown",
   "id": "140e529a",
   "metadata": {},
   "source": [
    "To calculate amplification ratio for a given set of tweets:"
   ]
  },
  {
   "cell_type": "code",
   "execution_count": 5,
   "id": "514b5bbf",
   "metadata": {},
   "outputs": [],
   "source": [
    "def set_amplification_ratio(df, tweet_id_set):\n",
    "    chron_impressions = len(df[df.tweet_id.isin(tweet_id_set) & df.bucket==0])\n",
    "    algo_impressions = len(df[df.tweet_id.isin(tweet_id_set) & df.bucket==1])\n",
    "    amp_ratio = algo_impressions / chron_impressions\n",
    "    return amp_ratio"
   ]
  },
  {
   "cell_type": "code",
   "execution_count": 6,
   "id": "254bc1cf",
   "metadata": {},
   "outputs": [
    {
     "name": "stdout",
     "output_type": "stream",
     "text": [
      "+1.31%\n"
     ]
    }
   ],
   "source": [
    "# amplificaiton ratio for a specific set of tweets\n",
    "sample_tweet_set = [8,9,10]\n",
    "print(pretty_percentage(\n",
    "    set_amplification_ratio(df=df, tweet_id_set = sample_tweet_set)))"
   ]
  },
  {
   "cell_type": "markdown",
   "id": "4fbce9da",
   "metadata": {},
   "source": [
    "To calculate amplification ratio for a given user (author):"
   ]
  },
  {
   "cell_type": "code",
   "execution_count": 7,
   "id": "afee4f5f",
   "metadata": {},
   "outputs": [],
   "source": [
    "def user_amplification_ratio(df, user_id):\n",
    "    chron_impressions = len(df[(df.author_id==user_id) & df.bucket==0])\n",
    "    algo_impressions = len(df[(df.author_id==user_id) & df.bucket==1])\n",
    "    amp_ratio = algo_impressions / chron_impressions\n",
    "    return amp_ratio"
   ]
  },
  {
   "cell_type": "code",
   "execution_count": 8,
   "id": "1671ff16",
   "metadata": {},
   "outputs": [],
   "source": [
    "# currently this does not work because \"user_id\" represents the reader/viewer, not the author/creator\n",
    "# sample_user = 68355\n",
    "# print(pretty_percentage(\n",
    "#    user_amplification_ratio(df=df, user_id=sample_user)))"
   ]
  },
  {
   "cell_type": "markdown",
   "id": "c9928b31",
   "metadata": {},
   "source": [
    "To calculate amplification ratio for a given publication:"
   ]
  },
  {
   "cell_type": "code",
   "execution_count": 9,
   "id": "41469024",
   "metadata": {},
   "outputs": [],
   "source": [
    "def pub_amplification_ratio(df, pub):\n",
    "    chron_impressions = len(df[(df.publication_title==pub) & df.bucket==0])\n",
    "    algo_impressions = len(df[(df.publication_title==pub) & df.bucket==1])\n",
    "    amp_ratio = algo_impressions / chron_impressions\n",
    "    return amp_ratio"
   ]
  },
  {
   "cell_type": "code",
   "execution_count": 10,
   "id": "20439894",
   "metadata": {},
   "outputs": [
    {
     "name": "stdout",
     "output_type": "stream",
     "text": [
      "+20.81%\n"
     ]
    }
   ],
   "source": [
    "sample_pub='Al Jazeera'\n",
    "print(pretty_percentage(\n",
    "    pub_amplification_ratio(df=df, pub=sample_pub)))"
   ]
  },
  {
   "cell_type": "markdown",
   "id": "4e2e58b4",
   "metadata": {},
   "source": [
    "To calculate amplification ratio month-to-month for a given publication:"
   ]
  },
  {
   "cell_type": "code",
   "execution_count": 11,
   "id": "56481381",
   "metadata": {},
   "outputs": [
    {
     "data": {
      "text/plain": [
       "year-month\n",
       "2020-01      +0.00%\n",
       "2020-02    +100.00%\n",
       "2020-03     +35.54%\n",
       "2020-04      +0.00%\n",
       "2020-05     +55.64%\n",
       "2020-06      +0.00%\n",
       "2020-08     +27.47%\n",
       "2020-09      +0.00%\n",
       "2020-10     +11.59%\n",
       "2020-11      +0.00%\n",
       "2020-12     +46.12%\n",
       "2021-01      +0.00%\n",
       "2021-02      +9.74%\n",
       "2021-03     +39.26%\n",
       "2021-04     +72.24%\n",
       "2021-05      +0.00%\n",
       "2021-06     +17.49%\n",
       "2021-07      +0.00%\n",
       "2021-08     +17.95%\n",
       "Freq: M, dtype: object"
      ]
     },
     "execution_count": 11,
     "metadata": {},
     "output_type": "execute_result"
    }
   ],
   "source": [
    "df.groupby([df.tweet_date_time.dt.to_period(\"M\").rename(\"year-month\")]).apply(\n",
    "                lambda x: pretty_percentage(pub_amplification_ratio(df=x,pub=sample_pub)))"
   ]
  },
  {
   "cell_type": "markdown",
   "id": "aca40ac4",
   "metadata": {},
   "source": [
    "### Testing Equality with NumPy\n",
    "\n",
    "* scipy bootstrap function [implementation](https://github.com/scipy/scipy/blob/v1.8.0/scipy/stats/_bootstrap.py#L215-L488)\n",
    "* the [bootstrapped python library](https://github.com/facebookarchive/bootstrapped) from Facebook open source"
   ]
  },
  {
   "cell_type": "code",
   "execution_count": 12,
   "id": "e193d608",
   "metadata": {},
   "outputs": [],
   "source": [
    "import bootstrapped.bootstrap as bs\n",
    "import bootstrapped.compare_functions as bs_compare\n",
    "import bootstrapped.stats_functions as bs_stats"
   ]
  },
  {
   "cell_type": "code",
   "execution_count": 13,
   "id": "e70bb46b",
   "metadata": {},
   "outputs": [],
   "source": [
    "# will compare two publications\n",
    "tweet_set_a = df[(df.publication_title=='Al Jazeera')]\n",
    "tweet_set_b = df[(df.publication_title=='AlterNet')]"
   ]
  },
  {
   "cell_type": "code",
   "execution_count": 14,
   "id": "fbc0fe5e",
   "metadata": {},
   "outputs": [],
   "source": [
    "# get impressions\n",
    "tweet_set_a = tweet_set_a.drop_duplicates(subset=['tweet_id','bucket','impressions'])\n",
    "tweet_set_b = tweet_set_b.drop_duplicates(subset=['tweet_id','bucket','impressions'])"
   ]
  },
  {
   "cell_type": "code",
   "execution_count": 15,
   "id": "ac52f4d9",
   "metadata": {},
   "outputs": [
    {
     "name": "stdout",
     "output_type": "stream",
     "text": [
      "probability a > b: 0.22\n"
     ]
    }
   ],
   "source": [
    "n_total_runs = 50\n",
    "sample_size = 10\n",
    "\n",
    "n_runs_a_greater = 0\n",
    "\n",
    "for _ in range(n_total_runs):\n",
    "    sample_a = tweet_set_a.sample(sample_size).tweet_id.tolist()\n",
    "    ratio_a = set_amplification_ratio(df=df, tweet_id_set=sample_a)\n",
    "    sample_b = tweet_set_b.sample(sample_size).tweet_id.tolist()\n",
    "    ratio_b = set_amplification_ratio(df=df, tweet_id_set=sample_b)\n",
    "    if ratio_a > ratio_b:\n",
    "        n_runs_a_greater += 1\n",
    "\n",
    "print(f\"probability a > b: {n_runs_a_greater/n_total_runs}\")"
   ]
  },
  {
   "cell_type": "code",
   "execution_count": 16,
   "id": "9af8fc4b",
   "metadata": {},
   "outputs": [],
   "source": [
    "# array(['AlterNet', 'Al Jazeera'], dtype=object)\n",
    "# to come: confidence intervals"
   ]
  },
  {
   "cell_type": "markdown",
   "id": "dc5e5f31",
   "metadata": {},
   "source": [
    "### Calculating Amplification Ratio with PySyft"
   ]
  },
  {
   "cell_type": "code",
   "execution_count": 17,
   "id": "ed643969",
   "metadata": {},
   "outputs": [],
   "source": [
    "# to come\n",
    "# connect to domain_node dataset\n",
    "# data = domain_node.datasets[-1][\"dataset name\"]\n",
    "# calculate with sum_result = data.sum()\n",
    "# retrieve with published_result = sum_result.publish(sigma=1e6)"
   ]
  }
 ],
 "metadata": {
  "kernelspec": {
   "display_name": "Python 3 (ipykernel)",
   "language": "python",
   "name": "python3"
  },
  "language_info": {
   "codemirror_mode": {
    "name": "ipython",
    "version": 3
   },
   "file_extension": ".py",
   "mimetype": "text/x-python",
   "name": "python",
   "nbconvert_exporter": "python",
   "pygments_lexer": "ipython3",
   "version": "3.9.7"
  }
 },
 "nbformat": 4,
 "nbformat_minor": 5
}

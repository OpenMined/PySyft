{
 "cells": [
  {
   "cell_type": "markdown",
   "id": "bd24b744",
   "metadata": {},
   "source": [
    "# Calculating 'Amplification Ratio:' Reproducing Twitter Research with DP Guarantees\n",
    "\n",
    "References:\n",
    "* [Twitter Blog Summary](https://blog.twitter.com/en_us/topics/company/2021/rml-politicalcontent)\n",
    "* [Twitter Preprint](https://cdn.cms-twdigitalassets.com/content/dam/blog-twitter/official/en_us/company/2021/rml/Algorithmic-Amplification-of-Politics-on-Twitter.pdf) (includes Supplementary Information section)\n",
    "* [PNAS Paper](https://doi.org/10.1073/pnas.2025334119)\n",
    "* [PNAS Supporting Information](https://www.pnas.org/highwire/filestream/1021951/field_highwire_adjunct_files/0/pnas.2025334119.sapp.pdf)"
   ]
  },
  {
   "cell_type": "markdown",
   "id": "d4252bf6",
   "metadata": {},
   "source": [
    "### Imports and data"
   ]
  },
  {
   "cell_type": "code",
   "execution_count": 1,
   "id": "b64488d9",
   "metadata": {},
   "outputs": [],
   "source": [
    "# standard\n",
    "import pandas as pd\n",
    "from datetime import datetime, timedelta"
   ]
  },
  {
   "cell_type": "code",
   "execution_count": 2,
   "id": "4b067bf6",
   "metadata": {},
   "outputs": [],
   "source": [
    "# from google drive, twitter datasets -> demo -> to benchmark -> demo 2 datasets\n",
    "df=pd.read_parquet(\"1M_rows_dataset_sample.parquet\")\n",
    "\n",
    "# old dataset: df=pd.read_parquet(\"https://github.com/madhavajay/datasets/blob/main/spicy_bird/1M_rows_dataset_sample.parquet?raw=true\")"
   ]
  },
  {
   "cell_type": "code",
   "execution_count": 3,
   "id": "669dd101",
   "metadata": {},
   "outputs": [
    {
     "data": {
      "text/html": [
       "<div>\n",
       "<style scoped>\n",
       "    .dataframe tbody tr th:only-of-type {\n",
       "        vertical-align: middle;\n",
       "    }\n",
       "\n",
       "    .dataframe tbody tr th {\n",
       "        vertical-align: top;\n",
       "    }\n",
       "\n",
       "    .dataframe thead th {\n",
       "        text-align: right;\n",
       "    }\n",
       "</style>\n",
       "<table border=\"1\" class=\"dataframe\">\n",
       "  <thead>\n",
       "    <tr style=\"text-align: right;\">\n",
       "      <th></th>\n",
       "      <th>tweet_id</th>\n",
       "      <th>impressions</th>\n",
       "      <th>impressions_ct</th>\n",
       "      <th>bucket</th>\n",
       "      <th>tweet_origin</th>\n",
       "      <th>tweet_date_time</th>\n",
       "      <th>date</th>\n",
       "      <th>time</th>\n",
       "      <th>user_id</th>\n",
       "      <th>user_country</th>\n",
       "      <th>url</th>\n",
       "      <th>publication_title</th>\n",
       "      <th>ad_fontes_bias</th>\n",
       "      <th>ad_fontes_reliability</th>\n",
       "      <th>domain</th>\n",
       "      <th>tweet_date</th>\n",
       "    </tr>\n",
       "  </thead>\n",
       "  <tbody>\n",
       "    <tr>\n",
       "      <th>493117</th>\n",
       "      <td>56</td>\n",
       "      <td>15806</td>\n",
       "      <td>2879</td>\n",
       "      <td>0</td>\n",
       "      <td>Japan</td>\n",
       "      <td>2020-05-25 10:37:36</td>\n",
       "      <td>2020-05-25</td>\n",
       "      <td>0 days 10:37:36</td>\n",
       "      <td>241143</td>\n",
       "      <td>Germany</td>\n",
       "      <td>https://www.alternet.org/2019/02/top-gop-leade...</td>\n",
       "      <td>AlterNet</td>\n",
       "      <td>-14.00000</td>\n",
       "      <td>26.33333</td>\n",
       "      <td>.alternet.org</td>\n",
       "      <td>2020-05-25</td>\n",
       "    </tr>\n",
       "    <tr>\n",
       "      <th>749328</th>\n",
       "      <td>12</td>\n",
       "      <td>7820</td>\n",
       "      <td>6364</td>\n",
       "      <td>1</td>\n",
       "      <td>Canada</td>\n",
       "      <td>2020-12-27 10:23:27</td>\n",
       "      <td>2020-12-27</td>\n",
       "      <td>0 days 10:23:27</td>\n",
       "      <td>198392</td>\n",
       "      <td>Japan</td>\n",
       "      <td>https://www.aljazeera.com/news/2020/06/police-...</td>\n",
       "      <td>Al Jazeera</td>\n",
       "      <td>-6.25000</td>\n",
       "      <td>46.25000</td>\n",
       "      <td>.aljazeera.com</td>\n",
       "      <td>2020-12-27</td>\n",
       "    </tr>\n",
       "    <tr>\n",
       "      <th>610076</th>\n",
       "      <td>76</td>\n",
       "      <td>11502</td>\n",
       "      <td>9369</td>\n",
       "      <td>1</td>\n",
       "      <td>Japan</td>\n",
       "      <td>2020-01-02 06:05:10</td>\n",
       "      <td>2020-01-02</td>\n",
       "      <td>0 days 06:05:10</td>\n",
       "      <td>429932</td>\n",
       "      <td>France</td>\n",
       "      <td>https://www.alternet.org/2020/08/republicans-a...</td>\n",
       "      <td>AlterNet</td>\n",
       "      <td>-10.33333</td>\n",
       "      <td>33.00000</td>\n",
       "      <td>.alternet.org</td>\n",
       "      <td>2020-01-02</td>\n",
       "    </tr>\n",
       "    <tr>\n",
       "      <th>24009</th>\n",
       "      <td>63</td>\n",
       "      <td>11477</td>\n",
       "      <td>2462</td>\n",
       "      <td>0</td>\n",
       "      <td>Germany</td>\n",
       "      <td>2020-10-14 10:27:49</td>\n",
       "      <td>2020-10-14</td>\n",
       "      <td>0 days 10:27:49</td>\n",
       "      <td>21339</td>\n",
       "      <td>U.K.</td>\n",
       "      <td>https://www.alternet.org/2019/03/this-needs-to...</td>\n",
       "      <td>AlterNet</td>\n",
       "      <td>-27.00000</td>\n",
       "      <td>24.25000</td>\n",
       "      <td>.alternet.org</td>\n",
       "      <td>2020-10-14</td>\n",
       "    </tr>\n",
       "    <tr>\n",
       "      <th>224954</th>\n",
       "      <td>57</td>\n",
       "      <td>9619</td>\n",
       "      <td>1774</td>\n",
       "      <td>0</td>\n",
       "      <td>France</td>\n",
       "      <td>2021-07-26 22:10:18</td>\n",
       "      <td>2021-07-26</td>\n",
       "      <td>0 days 22:10:18</td>\n",
       "      <td>106198</td>\n",
       "      <td>U.K.</td>\n",
       "      <td>https://www.alternet.org/2019/02/conservative-...</td>\n",
       "      <td>AlterNet</td>\n",
       "      <td>-20.00000</td>\n",
       "      <td>15.25000</td>\n",
       "      <td>.alternet.org</td>\n",
       "      <td>2021-07-26</td>\n",
       "    </tr>\n",
       "  </tbody>\n",
       "</table>\n",
       "</div>"
      ],
      "text/plain": [
       "        tweet_id  impressions  impressions_ct  bucket tweet_origin  \\\n",
       "493117        56        15806            2879       0        Japan   \n",
       "749328        12         7820            6364       1       Canada   \n",
       "610076        76        11502            9369       1        Japan   \n",
       "24009         63        11477            2462       0      Germany   \n",
       "224954        57         9619            1774       0       France   \n",
       "\n",
       "           tweet_date_time       date            time  user_id user_country  \\\n",
       "493117 2020-05-25 10:37:36 2020-05-25 0 days 10:37:36   241143      Germany   \n",
       "749328 2020-12-27 10:23:27 2020-12-27 0 days 10:23:27   198392        Japan   \n",
       "610076 2020-01-02 06:05:10 2020-01-02 0 days 06:05:10   429932       France   \n",
       "24009  2020-10-14 10:27:49 2020-10-14 0 days 10:27:49    21339         U.K.   \n",
       "224954 2021-07-26 22:10:18 2021-07-26 0 days 22:10:18   106198         U.K.   \n",
       "\n",
       "                                                      url publication_title  \\\n",
       "493117  https://www.alternet.org/2019/02/top-gop-leade...          AlterNet   \n",
       "749328  https://www.aljazeera.com/news/2020/06/police-...        Al Jazeera   \n",
       "610076  https://www.alternet.org/2020/08/republicans-a...          AlterNet   \n",
       "24009   https://www.alternet.org/2019/03/this-needs-to...          AlterNet   \n",
       "224954  https://www.alternet.org/2019/02/conservative-...          AlterNet   \n",
       "\n",
       "        ad_fontes_bias  ad_fontes_reliability          domain  tweet_date  \n",
       "493117       -14.00000               26.33333   .alternet.org  2020-05-25  \n",
       "749328        -6.25000               46.25000  .aljazeera.com  2020-12-27  \n",
       "610076       -10.33333               33.00000   .alternet.org  2020-01-02  \n",
       "24009        -27.00000               24.25000   .alternet.org  2020-10-14  \n",
       "224954       -20.00000               15.25000   .alternet.org  2021-07-26  "
      ]
     },
     "execution_count": 3,
     "metadata": {},
     "output_type": "execute_result"
    }
   ],
   "source": [
    "# add a date column to simplify some calculations, check sample to verify\n",
    "df['tweet_date'] = df.tweet_date_time.dt.date\n",
    "df.sample(5)"
   ]
  },
  {
   "cell_type": "markdown",
   "id": "c363facb",
   "metadata": {},
   "source": [
    "### Calculating Amplification Ratio with NumPy\n",
    "**Note**: eventually this will require a little more calculation due to imbalanced sample sizes in the holdback experiment (~4:1 algorithm:chronological, i.e. treatment:control)\n",
    "\n"
   ]
  },
  {
   "cell_type": "markdown",
   "id": "140e529a",
   "metadata": {},
   "source": [
    "To calculate amplification ratio for a given set of tweets:"
   ]
  },
  {
   "cell_type": "code",
   "execution_count": 4,
   "id": "514b5bbf",
   "metadata": {},
   "outputs": [],
   "source": [
    "def set_amplification_ratio(df, tweet_id_set):\n",
    "    chron_impressions = df[df.tweet_id.isin(tweet_id_set) & df.bucket==0].impressions.sum()\n",
    "    algo_impressions = df[df.tweet_id.isin(tweet_id_set) & df.bucket==1].impressions.sum()\n",
    "    amp_ratio = algo_impressions / chron_impressions\n",
    "    return amp_ratio"
   ]
  },
  {
   "cell_type": "code",
   "execution_count": 5,
   "id": "254bc1cf",
   "metadata": {},
   "outputs": [
    {
     "name": "stdout",
     "output_type": "stream",
     "text": [
      "0.014264363543452287\n"
     ]
    }
   ],
   "source": [
    "# amplificaiton ratio for a specific set of tweets\n",
    "sample_tweet_set = [8,9,10]\n",
    "print(set_amplification_ratio(df=df, tweet_id_set = sample_tweet_set))"
   ]
  },
  {
   "cell_type": "markdown",
   "id": "c9928b31",
   "metadata": {},
   "source": [
    "To calculate amplification ratio for a given publication:"
   ]
  },
  {
   "cell_type": "code",
   "execution_count": 6,
   "id": "41469024",
   "metadata": {},
   "outputs": [],
   "source": [
    "def pub_amplification_ratio(df, pub):\n",
    "    chron_impressions = df[(df.publication_title==pub) & df.bucket==0].impressions.sum()\n",
    "    algo_impressions = df[(df.publication_title==pub) & df.bucket==1].impressions.sum()\n",
    "    amp_ratio = algo_impressions / chron_impressions\n",
    "    return amp_ratio"
   ]
  },
  {
   "cell_type": "code",
   "execution_count": 7,
   "id": "20439894",
   "metadata": {},
   "outputs": [
    {
     "name": "stdout",
     "output_type": "stream",
     "text": [
      "0.17641674594218157\n"
     ]
    }
   ],
   "source": [
    "sample_pub='Al Jazeera'\n",
    "print(pub_amplification_ratio(df=df, pub=sample_pub))"
   ]
  },
  {
   "cell_type": "markdown",
   "id": "4e2e58b4",
   "metadata": {},
   "source": [
    "To calculate amplification ratio month-to-month for a given publication:"
   ]
  },
  {
   "cell_type": "code",
   "execution_count": 8,
   "id": "56481381",
   "metadata": {},
   "outputs": [
    {
     "data": {
      "text/plain": [
       "year-month\n",
       "2020-01    0.000000\n",
       "2020-02    1.000000\n",
       "2020-03    0.252640\n",
       "2020-04    0.000000\n",
       "2020-05    0.482793\n",
       "2020-06    0.000000\n",
       "2020-08    0.271657\n",
       "2020-09    0.000000\n",
       "2020-10    0.113357\n",
       "2020-11    0.000000\n",
       "2020-12    0.423205\n",
       "2021-01    0.000000\n",
       "2021-02    0.053475\n",
       "2021-03    0.455225\n",
       "2021-04    0.766344\n",
       "2021-05    0.000000\n",
       "2021-06    0.147059\n",
       "2021-07    0.000000\n",
       "2021-08    0.087397\n",
       "Freq: M, dtype: float64"
      ]
     },
     "execution_count": 8,
     "metadata": {},
     "output_type": "execute_result"
    }
   ],
   "source": [
    "df.groupby([df.tweet_date_time.dt.to_period(\"M\").rename(\"year-month\")]).apply(\n",
    "                lambda x: pub_amplification_ratio(df=x,pub=sample_pub))"
   ]
  },
  {
   "cell_type": "code",
   "execution_count": 9,
   "id": "9af8fc4b",
   "metadata": {},
   "outputs": [],
   "source": [
    "# to come: confidence intervals, statistical comparisons"
   ]
  },
  {
   "cell_type": "markdown",
   "id": "dc5e5f31",
   "metadata": {},
   "source": [
    "### Calculating Amplification Ratio with PySyft"
   ]
  },
  {
   "cell_type": "code",
   "execution_count": 10,
   "id": "ed643969",
   "metadata": {},
   "outputs": [],
   "source": [
    "# to come\n",
    "# connect to domain_node dataset\n",
    "# data = domain_node.datasets[-1][\"dataset name\"]\n",
    "# calculate with sum_result = data.sum()\n",
    "# retrieve with published_result = sum_result.publish(sigma=1e6)"
   ]
  }
 ],
 "metadata": {
  "kernelspec": {
   "display_name": "Python 3 (ipykernel)",
   "language": "python",
   "name": "python3"
  },
  "language_info": {
   "codemirror_mode": {
    "name": "ipython",
    "version": 3
   },
   "file_extension": ".py",
   "mimetype": "text/x-python",
   "name": "python",
   "nbconvert_exporter": "python",
   "pygments_lexer": "ipython3",
   "version": "3.9.7"
  }
 },
 "nbformat": 4,
 "nbformat_minor": 5
}

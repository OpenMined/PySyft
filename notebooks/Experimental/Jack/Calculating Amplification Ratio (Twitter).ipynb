{
 "cells": [
  {
   "cell_type": "markdown",
   "id": "bd24b744",
   "metadata": {},
   "source": [
    "# Calculating 'Amplification Ratio:' Reproducing Twitter Research with DP Guarantees\n",
    "\n",
    "References:\n",
    "* [Twitter Blog Summary](https://blog.twitter.com/en_us/topics/company/2021/rml-politicalcontent)\n",
    "* [Twitter Preprint](https://cdn.cms-twdigitalassets.com/content/dam/blog-twitter/official/en_us/company/2021/rml/Algorithmic-Amplification-of-Politics-on-Twitter.pdf) (includes Supplementary Information section)\n",
    "* [PNAS Paper](https://doi.org/10.1073/pnas.2025334119)\n",
    "* [PNAS Supporting Information](https://www.pnas.org/highwire/filestream/1021951/field_highwire_adjunct_files/0/pnas.2025334119.sapp.pdf)"
   ]
  },
  {
   "cell_type": "markdown",
   "id": "d4252bf6",
   "metadata": {},
   "source": [
    "### Imports and data"
   ]
  },
  {
   "cell_type": "code",
   "execution_count": 1,
   "id": "b64488d9",
   "metadata": {},
   "outputs": [],
   "source": [
    "# standard\n",
    "import pandas as pd\n",
    "from datetime import datetime, timedelta"
   ]
  },
  {
   "cell_type": "code",
   "execution_count": 2,
   "id": "4b067bf6",
   "metadata": {},
   "outputs": [],
   "source": [
    "# from google drive, twitter datasets -> demo -> to benchmark -> demo 2 datasets\n",
    "df=pd.read_parquet(\"../../../../Data/OpenMined/1M_rows_dataset_sample.parquet\")\n",
    "\n",
    "# old dataset: df=pd.read_parquet(\"https://github.com/madhavajay/datasets/blob/main/spicy_bird/1M_rows_dataset_sample.parquet?raw=true\")"
   ]
  },
  {
   "cell_type": "code",
   "execution_count": 3,
   "id": "669dd101",
   "metadata": {},
   "outputs": [
    {
     "data": {
      "text/html": [
       "<div>\n",
       "<style scoped>\n",
       "    .dataframe tbody tr th:only-of-type {\n",
       "        vertical-align: middle;\n",
       "    }\n",
       "\n",
       "    .dataframe tbody tr th {\n",
       "        vertical-align: top;\n",
       "    }\n",
       "\n",
       "    .dataframe thead th {\n",
       "        text-align: right;\n",
       "    }\n",
       "</style>\n",
       "<table border=\"1\" class=\"dataframe\">\n",
       "  <thead>\n",
       "    <tr style=\"text-align: right;\">\n",
       "      <th></th>\n",
       "      <th>tweet_id</th>\n",
       "      <th>impressions</th>\n",
       "      <th>impressions_ct</th>\n",
       "      <th>bucket</th>\n",
       "      <th>tweet_origin</th>\n",
       "      <th>tweet_date_time</th>\n",
       "      <th>date</th>\n",
       "      <th>time</th>\n",
       "      <th>user_id</th>\n",
       "      <th>user_country</th>\n",
       "      <th>url</th>\n",
       "      <th>publication_title</th>\n",
       "      <th>ad_fontes_bias</th>\n",
       "      <th>ad_fontes_reliability</th>\n",
       "      <th>domain</th>\n",
       "      <th>tweet_date</th>\n",
       "    </tr>\n",
       "  </thead>\n",
       "  <tbody>\n",
       "    <tr>\n",
       "      <th>547788</th>\n",
       "      <td>68</td>\n",
       "      <td>12069</td>\n",
       "      <td>2551</td>\n",
       "      <td>0</td>\n",
       "      <td>Canada</td>\n",
       "      <td>2021-05-27 13:47:09</td>\n",
       "      <td>2021-05-27</td>\n",
       "      <td>0 days 13:47:09</td>\n",
       "      <td>6401</td>\n",
       "      <td>U.S.A.</td>\n",
       "      <td>https://www.alternet.org/2019/04/trump-lashes-...</td>\n",
       "      <td>AlterNet</td>\n",
       "      <td>-13.33333</td>\n",
       "      <td>24.66667</td>\n",
       "      <td>.alternet.org</td>\n",
       "      <td>2021-05-27</td>\n",
       "    </tr>\n",
       "    <tr>\n",
       "      <th>142355</th>\n",
       "      <td>81</td>\n",
       "      <td>19904</td>\n",
       "      <td>4298</td>\n",
       "      <td>0</td>\n",
       "      <td>Canada</td>\n",
       "      <td>2021-01-08 07:59:51</td>\n",
       "      <td>2021-01-08</td>\n",
       "      <td>0 days 07:59:51</td>\n",
       "      <td>476714</td>\n",
       "      <td>France</td>\n",
       "      <td>https://www.alternet.org/2021/02/marjorie-tayl...</td>\n",
       "      <td>AlterNet</td>\n",
       "      <td>-21.75000</td>\n",
       "      <td>27.00000</td>\n",
       "      <td>.alternet.org</td>\n",
       "      <td>2021-01-08</td>\n",
       "    </tr>\n",
       "    <tr>\n",
       "      <th>511322</th>\n",
       "      <td>56</td>\n",
       "      <td>15806</td>\n",
       "      <td>12927</td>\n",
       "      <td>1</td>\n",
       "      <td>U.S.A.</td>\n",
       "      <td>2020-05-25 10:37:36</td>\n",
       "      <td>2020-05-25</td>\n",
       "      <td>0 days 10:37:36</td>\n",
       "      <td>11326</td>\n",
       "      <td>Japan</td>\n",
       "      <td>https://www.alternet.org/2019/02/top-gop-leade...</td>\n",
       "      <td>AlterNet</td>\n",
       "      <td>-14.00000</td>\n",
       "      <td>26.33333</td>\n",
       "      <td>.alternet.org</td>\n",
       "      <td>2020-05-25</td>\n",
       "    </tr>\n",
       "    <tr>\n",
       "      <th>502836</th>\n",
       "      <td>56</td>\n",
       "      <td>15806</td>\n",
       "      <td>2879</td>\n",
       "      <td>0</td>\n",
       "      <td>Japan</td>\n",
       "      <td>2020-05-25 10:37:36</td>\n",
       "      <td>2020-05-25</td>\n",
       "      <td>0 days 10:37:36</td>\n",
       "      <td>222070</td>\n",
       "      <td>U.S.A.</td>\n",
       "      <td>https://www.alternet.org/2019/02/top-gop-leade...</td>\n",
       "      <td>AlterNet</td>\n",
       "      <td>-14.00000</td>\n",
       "      <td>26.33333</td>\n",
       "      <td>.alternet.org</td>\n",
       "      <td>2020-05-25</td>\n",
       "    </tr>\n",
       "    <tr>\n",
       "      <th>281786</th>\n",
       "      <td>78</td>\n",
       "      <td>8925</td>\n",
       "      <td>7108</td>\n",
       "      <td>1</td>\n",
       "      <td>U.S.A.</td>\n",
       "      <td>2021-06-28 23:20:30</td>\n",
       "      <td>2021-06-28</td>\n",
       "      <td>0 days 23:20:30</td>\n",
       "      <td>408560</td>\n",
       "      <td>Germany</td>\n",
       "      <td>https://www.alternet.org/2020/09/trump-white-h...</td>\n",
       "      <td>AlterNet</td>\n",
       "      <td>-19.66667</td>\n",
       "      <td>40.00000</td>\n",
       "      <td>.alternet.org</td>\n",
       "      <td>2021-06-28</td>\n",
       "    </tr>\n",
       "  </tbody>\n",
       "</table>\n",
       "</div>"
      ],
      "text/plain": [
       "        tweet_id  impressions  impressions_ct  bucket tweet_origin  \\\n",
       "547788        68        12069            2551       0       Canada   \n",
       "142355        81        19904            4298       0       Canada   \n",
       "511322        56        15806           12927       1       U.S.A.   \n",
       "502836        56        15806            2879       0        Japan   \n",
       "281786        78         8925            7108       1       U.S.A.   \n",
       "\n",
       "           tweet_date_time       date            time  user_id user_country  \\\n",
       "547788 2021-05-27 13:47:09 2021-05-27 0 days 13:47:09     6401       U.S.A.   \n",
       "142355 2021-01-08 07:59:51 2021-01-08 0 days 07:59:51   476714       France   \n",
       "511322 2020-05-25 10:37:36 2020-05-25 0 days 10:37:36    11326        Japan   \n",
       "502836 2020-05-25 10:37:36 2020-05-25 0 days 10:37:36   222070       U.S.A.   \n",
       "281786 2021-06-28 23:20:30 2021-06-28 0 days 23:20:30   408560      Germany   \n",
       "\n",
       "                                                      url publication_title  \\\n",
       "547788  https://www.alternet.org/2019/04/trump-lashes-...          AlterNet   \n",
       "142355  https://www.alternet.org/2021/02/marjorie-tayl...          AlterNet   \n",
       "511322  https://www.alternet.org/2019/02/top-gop-leade...          AlterNet   \n",
       "502836  https://www.alternet.org/2019/02/top-gop-leade...          AlterNet   \n",
       "281786  https://www.alternet.org/2020/09/trump-white-h...          AlterNet   \n",
       "\n",
       "        ad_fontes_bias  ad_fontes_reliability         domain  tweet_date  \n",
       "547788       -13.33333               24.66667  .alternet.org  2021-05-27  \n",
       "142355       -21.75000               27.00000  .alternet.org  2021-01-08  \n",
       "511322       -14.00000               26.33333  .alternet.org  2020-05-25  \n",
       "502836       -14.00000               26.33333  .alternet.org  2020-05-25  \n",
       "281786       -19.66667               40.00000  .alternet.org  2021-06-28  "
      ]
     },
     "execution_count": 3,
     "metadata": {},
     "output_type": "execute_result"
    }
   ],
   "source": [
    "# add a date column to simplify some calculations, check sample to verify\n",
    "df['tweet_date'] = df.tweet_date_time.dt.date\n",
    "df.sample(5)"
   ]
  },
  {
   "cell_type": "code",
   "execution_count": 41,
   "id": "a6306ea6",
   "metadata": {},
   "outputs": [],
   "source": [
    "# utility function - pretty-print a decimal as a percentage\n",
    "def pretty_percentage(decimal):\n",
    "    return f\"{decimal:+.2%}\""
   ]
  },
  {
   "cell_type": "markdown",
   "id": "5d009a20",
   "metadata": {},
   "source": [
    "# NumPy\n",
    "This is essentially a prototype that can be followed when creating the PySyft version"
   ]
  },
  {
   "cell_type": "markdown",
   "id": "c363facb",
   "metadata": {},
   "source": [
    "### Calculating Amplification Ratio with NumPy\n",
    "**Note 1**: eventually this will require a little more calculation due to imbalanced sample sizes in the holdback experiment (~4:1 algorithm:chronological, i.e. treatment:control)\n",
    "\n",
    "**Note 2**: currently, each row in this dataset represents an impression. If and when data is aggregated, amplification ratio should be calculated by summing the impressions column rather than counting rows"
   ]
  },
  {
   "cell_type": "markdown",
   "id": "140e529a",
   "metadata": {},
   "source": [
    "To calculate amplification ratio for a given set of tweets:"
   ]
  },
  {
   "cell_type": "code",
   "execution_count": 27,
   "id": "514b5bbf",
   "metadata": {},
   "outputs": [],
   "source": [
    "def set_amplification_ratio(df, tweet_id_set):\n",
    "    chron_impressions = len(df[df.tweet_id.isin(tweet_id_set) & df.bucket==0])\n",
    "    algo_impressions = len(df[df.tweet_id.isin(tweet_id_set) & df.bucket==1])\n",
    "    amp_ratio = algo_impressions / chron_impressions\n",
    "    return amp_ratio"
   ]
  },
  {
   "cell_type": "code",
   "execution_count": 40,
   "id": "254bc1cf",
   "metadata": {},
   "outputs": [
    {
     "name": "stdout",
     "output_type": "stream",
     "text": [
      "+1.31%\n"
     ]
    }
   ],
   "source": [
    "# amplificaiton ratio for a specific set of tweets\n",
    "sample_tweet_set = [8,9,10]\n",
    "print(pretty_percentage(\n",
    "    set_amplification_ratio(df=df, tweet_id_set = sample_tweet_set)))"
   ]
  },
  {
   "cell_type": "markdown",
   "id": "02301b60",
   "metadata": {},
   "source": [
    "To calculate amplification ratio for a given user (author):"
   ]
  },
  {
   "cell_type": "code",
   "execution_count": 42,
   "id": "3fbd1c48",
   "metadata": {},
   "outputs": [],
   "source": [
    "def user_amplification_ratio(df, user_id):\n",
    "    chron_impressions = len(df[(df.author_id==user_id) & df.bucket==0])\n",
    "    algo_impressions = len(df[(df.author_id==user_id) & df.bucket==1])\n",
    "    amp_ratio = algo_impressions / chron_impressions\n",
    "    return amp_ratio"
   ]
  },
  {
   "cell_type": "code",
   "execution_count": 47,
   "id": "23f86724",
   "metadata": {},
   "outputs": [],
   "source": [
    "# currently this does not work because \"user_id\" represents the reader/viewer, not the author/creator\n",
    "# sample_user = 68355\n",
    "# print(pretty_percentage(\n",
    "#    user_amplification_ratio(df=df, user_id=sample_user)))"
   ]
  },
  {
   "cell_type": "markdown",
   "id": "c9928b31",
   "metadata": {},
   "source": [
    "To calculate amplification ratio for a given publication:"
   ]
  },
  {
   "cell_type": "code",
   "execution_count": 49,
   "id": "41469024",
   "metadata": {},
   "outputs": [],
   "source": [
    "def pub_amplification_ratio(df, pub):\n",
    "    chron_impressions = len(df[(df.publication_title==pub) & df.bucket==0])\n",
    "    algo_impressions = len(df[(df.publication_title==pub) & df.bucket==1])\n",
    "    amp_ratio = algo_impressions / chron_impressions\n",
    "    return amp_ratio"
   ]
  },
  {
   "cell_type": "code",
   "execution_count": 51,
   "id": "20439894",
   "metadata": {},
   "outputs": [
    {
     "name": "stdout",
     "output_type": "stream",
     "text": [
      "+20.81%\n"
     ]
    }
   ],
   "source": [
    "sample_pub='Al Jazeera'\n",
    "print(pretty_percentage(\n",
    "    pub_amplification_ratio(df=df, pub=sample_pub)))"
   ]
  },
  {
   "cell_type": "markdown",
   "id": "4e2e58b4",
   "metadata": {},
   "source": [
    "To calculate amplification ratio month-to-month for a given publication:"
   ]
  },
  {
   "cell_type": "code",
   "execution_count": 52,
   "id": "56481381",
   "metadata": {},
   "outputs": [
    {
     "data": {
      "text/plain": [
       "year-month\n",
       "2020-01      +0.00%\n",
       "2020-02    +100.00%\n",
       "2020-03     +35.54%\n",
       "2020-04      +0.00%\n",
       "2020-05     +55.64%\n",
       "2020-06      +0.00%\n",
       "2020-08     +27.47%\n",
       "2020-09      +0.00%\n",
       "2020-10     +11.59%\n",
       "2020-11      +0.00%\n",
       "2020-12     +46.12%\n",
       "2021-01      +0.00%\n",
       "2021-02      +9.74%\n",
       "2021-03     +39.26%\n",
       "2021-04     +72.24%\n",
       "2021-05      +0.00%\n",
       "2021-06     +17.49%\n",
       "2021-07      +0.00%\n",
       "2021-08     +17.95%\n",
       "Freq: M, dtype: object"
      ]
     },
     "execution_count": 52,
     "metadata": {},
     "output_type": "execute_result"
    }
   ],
   "source": [
    "df.groupby([df.tweet_date_time.dt.to_period(\"M\").rename(\"year-month\")]).apply(\n",
    "                lambda x: pretty_percentage(pub_amplification_ratio(df=x,pub=sample_pub)))"
   ]
  },
  {
   "cell_type": "markdown",
   "id": "a99c0abd",
   "metadata": {},
   "source": [
    "### Testing Equality with NumPy\n",
    "\n",
    "* scipy bootstrap function [implementation](https://github.com/scipy/scipy/blob/v1.8.0/scipy/stats/_bootstrap.py#L215-L488)\n",
    "* the [bootstrapped python library](https://github.com/facebookarchive/bootstrapped) from Facebook open source"
   ]
  },
  {
   "cell_type": "code",
   "execution_count": 60,
   "id": "6d9940f3",
   "metadata": {},
   "outputs": [],
   "source": [
    "import bootstrapped.bootstrap as bs\n",
    "import bootstrapped.compare_functions as bs_compare\n",
    "import bootstrapped.stats_functions as bs_stats"
   ]
  },
  {
   "cell_type": "code",
   "execution_count": 94,
   "id": "71c21a18",
   "metadata": {},
   "outputs": [],
   "source": [
    "# will compare two publications\n",
    "tweet_set_a = df[(df.publication_title=='Al Jazeera')]\n",
    "tweet_set_a = df[(df.publication_title=='AlterNet')]"
   ]
  },
  {
   "cell_type": "code",
   "execution_count": 86,
   "id": "b307e10c",
   "metadata": {},
   "outputs": [],
   "source": [
    "# get impressions\n",
    "tweet_set_a = tweet_set_a.drop_duplicates(subset=['tweet_id','bucket','impressions'])\n",
    "tweet_set_b = tweet_set_b.drop_duplicates(subset=['tweet_id','bucket','impressions'])"
   ]
  },
  {
   "cell_type": "code",
   "execution_count": 101,
   "id": "7caba3e2",
   "metadata": {},
   "outputs": [
    {
     "name": "stdout",
     "output_type": "stream",
     "text": [
      "probability a > b: 0.56\n"
     ]
    }
   ],
   "source": [
    "n_total_runs = 50\n",
    "sample_size = 10\n",
    "\n",
    "n_runs_a_greater = 0\n",
    "\n",
    "for _ in range(n_total_runs):\n",
    "    sample_a = tweet_set_a.sample(sample_size).tweet_id.tolist()\n",
    "    ratio_a = set_amplification_ratio(df=df, tweet_id_set=sample_a)\n",
    "    sample_b = tweet_set_b.sample(sample_size).tweet_id.tolist()\n",
    "    ratio_b = set_amplification_ratio(df=df, tweet_id_set=sample_b)\n",
    "    if ratio_a > ratio_b:\n",
    "        n_runs_a_greater += 1\n",
    "\n",
    "print(f\"probability a > b: {n_runs_a_greater/n_total_runs}\")"
   ]
  },
  {
   "cell_type": "code",
   "execution_count": 9,
   "id": "9af8fc4b",
   "metadata": {},
   "outputs": [],
   "source": [
    "# array(['AlterNet', 'Al Jazeera'], dtype=object)\n",
    "# to come: confidence intervals"
   ]
  },
  {
   "cell_type": "markdown",
   "id": "dc5e5f31",
   "metadata": {},
   "source": [
    "### Calculating Amplification Ratio with PySyft"
   ]
  },
  {
   "cell_type": "code",
   "execution_count": 10,
   "id": "ed643969",
   "metadata": {},
   "outputs": [],
   "source": [
    "# to come\n",
    "# connect to domain_node dataset\n",
    "# data = domain_node.datasets[-1][\"dataset name\"]\n",
    "# calculate with sum_result = data.sum()\n",
    "# retrieve with published_result = sum_result.publish(sigma=1e6)"
   ]
  }
 ],
 "metadata": {
  "kernelspec": {
   "display_name": "Python 3 (ipykernel)",
   "language": "python",
   "name": "python3"
  },
  "language_info": {
   "codemirror_mode": {
    "name": "ipython",
    "version": 3
   },
   "file_extension": ".py",
   "mimetype": "text/x-python",
   "name": "python",
   "nbconvert_exporter": "python",
   "pygments_lexer": "ipython3",
   "version": "3.9.7"
  }
 },
 "nbformat": 4,
 "nbformat_minor": 5
}

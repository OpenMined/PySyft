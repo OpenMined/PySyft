{
 "cells": [
  {
   "cell_type": "markdown",
   "id": "bd24b744",
   "metadata": {},
   "source": [
    "# Calculating 'Amplification Ratio:' Reproducing Twitter Research with DP Guarantees\n",
    "\n",
    "References:\n",
    "* [Twitter Blog Summary](https://blog.twitter.com/en_us/topics/company/2021/rml-politicalcontent)\n",
    "* [Twitter Preprint](https://cdn.cms-twdigitalassets.com/content/dam/blog-twitter/official/en_us/company/2021/rml/Algorithmic-Amplification-of-Politics-on-Twitter.pdf) (includes Supplementary Information section)\n",
    "* [PNAS Paper](https://doi.org/10.1073/pnas.2025334119)\n",
    "* [PNAS Supporting Information](https://www.pnas.org/highwire/filestream/1021951/field_highwire_adjunct_files/0/pnas.2025334119.sapp.pdf)"
   ]
  },
  {
   "cell_type": "markdown",
   "id": "d4252bf6",
   "metadata": {},
   "source": [
    "### Imports and data"
   ]
  },
  {
   "cell_type": "code",
   "execution_count": 40,
   "id": "b64488d9",
   "metadata": {},
   "outputs": [],
   "source": [
    "# standard\n",
    "import pandas as pd\n",
    "from datetime import datetime, timedelta"
   ]
  },
  {
   "cell_type": "code",
   "execution_count": 24,
   "id": "253db926",
   "metadata": {},
   "outputs": [],
   "source": [
    "df=pd.read_parquet(\"https://github.com/madhavajay/datasets/blob/main/spicy_bird/1M_rows_dataset_sample.parquet?raw=true\")"
   ]
  },
  {
   "cell_type": "code",
   "execution_count": 65,
   "id": "669dd101",
   "metadata": {},
   "outputs": [
    {
     "data": {
      "text/html": [
       "<div>\n",
       "<style scoped>\n",
       "    .dataframe tbody tr th:only-of-type {\n",
       "        vertical-align: middle;\n",
       "    }\n",
       "\n",
       "    .dataframe tbody tr th {\n",
       "        vertical-align: top;\n",
       "    }\n",
       "\n",
       "    .dataframe thead th {\n",
       "        text-align: right;\n",
       "    }\n",
       "</style>\n",
       "<table border=\"1\" class=\"dataframe\">\n",
       "  <thead>\n",
       "    <tr style=\"text-align: right;\">\n",
       "      <th></th>\n",
       "      <th>tweet_id</th>\n",
       "      <th>impressions</th>\n",
       "      <th>tweet_date_time</th>\n",
       "      <th>date</th>\n",
       "      <th>time</th>\n",
       "      <th>user_id</th>\n",
       "      <th>url</th>\n",
       "      <th>publication_title</th>\n",
       "      <th>ad_fontes_bias</th>\n",
       "      <th>ad_fontes_reliability</th>\n",
       "      <th>domain</th>\n",
       "      <th>tweet_date</th>\n",
       "    </tr>\n",
       "  </thead>\n",
       "  <tbody>\n",
       "    <tr>\n",
       "      <th>538808</th>\n",
       "      <td>62</td>\n",
       "      <td>17590</td>\n",
       "      <td>2020-10-04 15:02:56</td>\n",
       "      <td>2020-10-04</td>\n",
       "      <td>15:02:56</td>\n",
       "      <td>106881</td>\n",
       "      <td>https://www.alternet.org/2019/03/trump-has-sol...</td>\n",
       "      <td>AlterNet</td>\n",
       "      <td>-26.25000</td>\n",
       "      <td>18.00000</td>\n",
       "      <td>.alternet.org</td>\n",
       "      <td>2020-10-04</td>\n",
       "    </tr>\n",
       "    <tr>\n",
       "      <th>831701</th>\n",
       "      <td>90</td>\n",
       "      <td>9765</td>\n",
       "      <td>2020-03-23 04:12:22</td>\n",
       "      <td>2020-03-23</td>\n",
       "      <td>04:12:22</td>\n",
       "      <td>465948</td>\n",
       "      <td>https://amgreatness.com/2020/08/05/the-nhl-get...</td>\n",
       "      <td>American Greatness</td>\n",
       "      <td>22.00000</td>\n",
       "      <td>28.66667</td>\n",
       "      <td>.amgreatness.com</td>\n",
       "      <td>2020-03-23</td>\n",
       "    </tr>\n",
       "    <tr>\n",
       "      <th>728679</th>\n",
       "      <td>81</td>\n",
       "      <td>19904</td>\n",
       "      <td>2021-01-08 07:59:51</td>\n",
       "      <td>2021-01-08</td>\n",
       "      <td>07:59:51</td>\n",
       "      <td>314727</td>\n",
       "      <td>https://www.alternet.org/2021/02/marjorie-tayl...</td>\n",
       "      <td>AlterNet</td>\n",
       "      <td>-21.75000</td>\n",
       "      <td>27.00000</td>\n",
       "      <td>.alternet.org</td>\n",
       "      <td>2021-01-08</td>\n",
       "    </tr>\n",
       "    <tr>\n",
       "      <th>939271</th>\n",
       "      <td>102</td>\n",
       "      <td>7877</td>\n",
       "      <td>2020-02-24 12:43:30</td>\n",
       "      <td>2020-02-24</td>\n",
       "      <td>12:43:30</td>\n",
       "      <td>570878</td>\n",
       "      <td>https://amgreatness.com/2021/01/05/morning-gre...</td>\n",
       "      <td>American Greatness</td>\n",
       "      <td>30.66667</td>\n",
       "      <td>11.33333</td>\n",
       "      <td>.amgreatness.com</td>\n",
       "      <td>2020-02-24</td>\n",
       "    </tr>\n",
       "    <tr>\n",
       "      <th>610629</th>\n",
       "      <td>69</td>\n",
       "      <td>21661</td>\n",
       "      <td>2021-07-28 02:44:17</td>\n",
       "      <td>2021-07-28</td>\n",
       "      <td>02:44:17</td>\n",
       "      <td>199347</td>\n",
       "      <td>https://www.alternet.org/2020/07/even-republic...</td>\n",
       "      <td>AlterNet</td>\n",
       "      <td>-19.00000</td>\n",
       "      <td>28.33333</td>\n",
       "      <td>.alternet.org</td>\n",
       "      <td>2021-07-28</td>\n",
       "    </tr>\n",
       "  </tbody>\n",
       "</table>\n",
       "</div>"
      ],
      "text/plain": [
       "        tweet_id  impressions     tweet_date_time        date      time  \\\n",
       "538808        62        17590 2020-10-04 15:02:56  2020-10-04  15:02:56   \n",
       "831701        90         9765 2020-03-23 04:12:22  2020-03-23  04:12:22   \n",
       "728679        81        19904 2021-01-08 07:59:51  2021-01-08  07:59:51   \n",
       "939271       102         7877 2020-02-24 12:43:30  2020-02-24  12:43:30   \n",
       "610629        69        21661 2021-07-28 02:44:17  2021-07-28  02:44:17   \n",
       "\n",
       "        user_id                                                url  \\\n",
       "538808   106881  https://www.alternet.org/2019/03/trump-has-sol...   \n",
       "831701   465948  https://amgreatness.com/2020/08/05/the-nhl-get...   \n",
       "728679   314727  https://www.alternet.org/2021/02/marjorie-tayl...   \n",
       "939271   570878  https://amgreatness.com/2021/01/05/morning-gre...   \n",
       "610629   199347  https://www.alternet.org/2020/07/even-republic...   \n",
       "\n",
       "         publication_title  ad_fontes_bias  ad_fontes_reliability  \\\n",
       "538808            AlterNet       -26.25000               18.00000   \n",
       "831701  American Greatness        22.00000               28.66667   \n",
       "728679            AlterNet       -21.75000               27.00000   \n",
       "939271  American Greatness        30.66667               11.33333   \n",
       "610629            AlterNet       -19.00000               28.33333   \n",
       "\n",
       "                  domain  tweet_date  \n",
       "538808     .alternet.org  2020-10-04  \n",
       "831701  .amgreatness.com  2020-03-23  \n",
       "728679     .alternet.org  2021-01-08  \n",
       "939271  .amgreatness.com  2020-02-24  \n",
       "610629     .alternet.org  2021-07-28  "
      ]
     },
     "execution_count": 65,
     "metadata": {},
     "output_type": "execute_result"
    }
   ],
   "source": [
    "# add a column to simplify, check to verify\n",
    "df['tweet_date'] = df.tweet_date_time.dt.date\n",
    "df.sample(5)"
   ]
  },
  {
   "cell_type": "markdown",
   "id": "c363facb",
   "metadata": {},
   "source": [
    "### Calculating with NumPy"
   ]
  },
  {
   "cell_type": "code",
   "execution_count": 73,
   "id": "18f868a2",
   "metadata": {},
   "outputs": [
    {
     "name": "stdout",
     "output_type": "stream",
     "text": [
      "Impressions on Treatment: 4972\n",
      "\n",
      "Impressions on Control: 12442\n"
     ]
    }
   ],
   "source": [
    "# choose a random pair of tweets to calculate an amplification ratio\n",
    "# one tweet will be \"control\" and one will be \"treatment\"\n",
    "# (since this dataset doesn't currently have treatment/control labels)\n",
    "\n",
    "pub='Al Jazeera'\n",
    "rand_pair = df[df.publication_title==pub].sample(2)\n",
    "control_impressions = rand_pair['impressions'].iloc[0]\n",
    "treatment_impressions = rand_pair['impressions'].iloc[1]\n",
    "\n",
    "print(f\"Impressions on Treatment: {treatment_impressions}\\n\\nImpressions on Control: {control_impressions}\")"
   ]
  },
  {
   "cell_type": "code",
   "execution_count": 83,
   "id": "26cd0071",
   "metadata": {},
   "outputs": [
    {
     "name": "stdout",
     "output_type": "stream",
     "text": [
      "Amplification Ratio: 40.0%\n"
     ]
    }
   ],
   "source": [
    "# currently just the raw ratio\n",
    "# for the Twitter project it will require a little more calculation due to imbalanced sample sizes\n",
    "\n",
    "ratio = treatment_impressions / control_impressions\n",
    "print(f\"Amplification Ratio: {ratio*100:.1f}%\")"
   ]
  },
  {
   "cell_type": "code",
   "execution_count": null,
   "id": "38e0a50a",
   "metadata": {},
   "outputs": [],
   "source": [
    "# to come: sum based on treatment/control labels"
   ]
  },
  {
   "cell_type": "code",
   "execution_count": null,
   "id": "9af8fc4b",
   "metadata": {},
   "outputs": [],
   "source": [
    "# to come: statistical comparison"
   ]
  },
  {
   "cell_type": "markdown",
   "id": "dc5e5f31",
   "metadata": {},
   "source": [
    "### Calculating with PySyft"
   ]
  },
  {
   "cell_type": "code",
   "execution_count": null,
   "id": "ed643969",
   "metadata": {},
   "outputs": [],
   "source": [
    "# to come"
   ]
  }
 ],
 "metadata": {
  "kernelspec": {
   "display_name": "Python 3 (ipykernel)",
   "language": "python",
   "name": "python3"
  },
  "language_info": {
   "codemirror_mode": {
    "name": "ipython",
    "version": 3
   },
   "file_extension": ".py",
   "mimetype": "text/x-python",
   "name": "python",
   "nbconvert_exporter": "python",
   "pygments_lexer": "ipython3",
   "version": "3.9.7"
  }
 },
 "nbformat": 4,
 "nbformat_minor": 5
}

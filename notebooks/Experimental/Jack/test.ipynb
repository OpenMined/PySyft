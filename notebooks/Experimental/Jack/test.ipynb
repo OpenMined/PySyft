{
 "cells": [
  {
   "cell_type": "code",
   "execution_count": null,
   "id": "3056bf4e",
   "metadata": {},
   "outputs": [],
   "source": [
    "import pandas as pd"
   ]
  },
  {
   "cell_type": "code",
   "execution_count": 2,
   "id": "d58d7065",
   "metadata": {},
   "outputs": [],
   "source": [
    "data_subset = pd.read_pickle('https://github.com/OpenMined/datasets/blob/main/TissueMNIST/subsets/TissueMNIST-04b0fe07281c47d79276a4f4941dbdca.pkl?raw=true')\n",
    "data_subset.sample(5)"
   ]
  },
  {
   "cell_type": "code",
   "execution_count": null,
   "id": "6a39d11f",
   "metadata": {},
   "outputs": [],
   "source": [
    "# How many patients are there?\n",
    "len(data_subset)"
   ]
  },
  {
   "cell_type": "code",
   "execution_count": null,
   "id": "a7096e56",
   "metadata": {},
   "outputs": [],
   "source": [
    "# How many different labels are there?"
   ]
  },
  {
   "cell_type": "code",
   "execution_count": null,
   "id": "2e6e1974",
   "metadata": {},
   "outputs": [],
   "source": [
    "# What is the most common label?"
   ]
  },
  {
   "cell_type": "code",
   "execution_count": null,
   "id": "3fffa401",
   "metadata": {},
   "outputs": [],
   "source": [
    "# What is the least common label?"
   ]
  },
  {
   "cell_type": "code",
   "execution_count": null,
   "id": "223272b2",
   "metadata": {},
   "outputs": [],
   "source": []
  }
 ],
 "metadata": {
  "kernelspec": {
   "display_name": "Python 3 (ipykernel)",
   "language": "python",
   "name": "python3"
  },
  "language_info": {
   "codemirror_mode": {
    "name": "ipython",
    "version": 3
   },
   "file_extension": ".py",
   "mimetype": "text/x-python",
   "name": "python",
   "nbconvert_exporter": "python",
   "pygments_lexer": "ipython3",
   "version": "3.9.12"
  }
 },
 "nbformat": 4,
 "nbformat_minor": 5
}


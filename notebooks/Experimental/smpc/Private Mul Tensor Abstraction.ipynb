{
 "cells": [
  {
   "cell_type": "code",
   "execution_count": 1,
   "id": "67c2d127-c955-4313-b7d2-c584f037f85b",
   "metadata": {},
   "outputs": [],
   "source": [
    "import syft as sy\n",
    "sy.logger.remove()\n",
    "import numpy as np\n",
    "data = sy.Tensor(np.array([1,2,3],dtype=np.int32))"
   ]
  },
  {
   "cell_type": "code",
   "execution_count": 2,
   "id": "aa74bb27-e8aa-404b-a32f-cdff0c36390b",
   "metadata": {},
   "outputs": [
    {
     "name": "stdout",
     "output_type": "stream",
     "text": [
      "Connecting to http://localhost:8081... done! \t Logging into jolly_schmidhuber... done!\n",
      "Connecting to http://localhost:8082... done! \t Logging into amazing_bengio... done!\n",
      "Connecting to http://localhost:8083... done! \t Logging into quirky_brockman... done!\n"
     ]
    }
   ],
   "source": [
    "gryffindor = sy.login(email=\"info@openmined.org\",password=\"changethis\",port=\"8081\")\n",
    "slytherin =  sy.login(email=\"info@openmined.org\",password=\"changethis\",port=\"8082\")\n",
    "hufflepuff = sy.login(email=\"info@openmined.org\",password=\"changethis\",port=\"8083\")"
   ]
  },
  {
   "cell_type": "code",
   "execution_count": 3,
   "id": "c85840d0-a2d0-4988-94fc-5a233672aa81",
   "metadata": {},
   "outputs": [],
   "source": [
    "tensor_1 = data.send(gryffindor)\n",
    "tensor_2 = data.send(slytherin)\n",
    "tensor_3 = data.send(hufflepuff)"
   ]
  },
  {
   "cell_type": "markdown",
   "id": "10d307ac-ea31-46a4-8c4b-2789b38e41b6",
   "metadata": {},
   "source": [
    "During Private Multiplication , we require the parties to be able to communicate with each other.\n",
    "We make sure that our Actions are **Idempotent** and **Atomic** such that when a given action is not able to execute, it requeues itself to the back of the queue.\n",
    "\n",
    "We set a maximum amount of retries,until eventually failing, when one of the parties nodes are not able to send their intermediate results.\n",
    "\n",
    "We also create proxy clients with minimal permissions such that the parties are able to communicate with each other.\n"
   ]
  },
  {
   "cell_type": "code",
   "execution_count": 5,
   "id": "9bcebd23-bdef-42bb-bbdb-5b3d750d5785",
   "metadata": {},
   "outputs": [],
   "source": [
    "out = tensor_1  + tensor_2"
   ]
  },
  {
   "cell_type": "code",
   "execution_count": 1,
   "id": "ea95aebc-3bfa-4880-9a56-999d90aa7a64",
   "metadata": {},
   "outputs": [],
   "source": [
    "out2 = out > 3"
   ]
  },
  {
   "cell_type": "code",
   "execution_count": null,
   "id": "6f7d43b9-66ee-43a4-916a-7b4926a8f61b",
   "metadata": {},
   "outputs": [],
   "source": [
    "out2.block.reconstruct()"
   ]
  },
  {
   "cell_type": "code",
   "execution_count": 9,
   "id": "5fd152fd-a162-4995-b85c-3401b79744ef",
   "metadata": {},
   "outputs": [],
   "source": [
    "mpc_1 = tensor_1 * tensor_2\n",
    "mpc_2  = tensor_2 * tensor_3\n",
    "mpc = mpc_1 * mpc_2 * 3"
   ]
  },
  {
   "cell_type": "code",
   "execution_count": 13,
   "id": "06322e2c-bc06-4f97-89e8-db930dcd3384",
   "metadata": {},
   "outputs": [
    {
     "data": {
      "text/plain": [
       "array([ 7, 11, 15], dtype=int32)"
      ]
     },
     "execution_count": 13,
     "metadata": {},
     "output_type": "execute_result"
    }
   ],
   "source": [
    "mpc.block.reconstruct()"
   ]
  },
  {
   "cell_type": "code",
   "execution_count": 11,
   "id": "dc5f4447-a857-413c-96e7-a2be7b4416e4",
   "metadata": {},
   "outputs": [],
   "source": [
    "mpc_1 = tensor_1 + tensor_2\n",
    "mpc_2  = tensor_2 + tensor_3\n",
    "mpc3 = mpc_1 + mpc_2 + 3"
   ]
  },
  {
   "cell_type": "code",
   "execution_count": 12,
   "id": "80d607a9-a09d-4012-89eb-402e3b5852f3",
   "metadata": {},
   "outputs": [
    {
     "data": {
      "text/plain": [
       "array([ 7, 11, 15], dtype=int32)"
      ]
     },
     "execution_count": 12,
     "metadata": {},
     "output_type": "execute_result"
    }
   ],
   "source": [
    "mpc3.block.reconstruct()"
   ]
  },
  {
   "cell_type": "code",
   "execution_count": null,
   "id": "af5e56e5-2759-4b10-866b-2c72fe29340a",
   "metadata": {},
   "outputs": [],
   "source": []
  }
 ],
 "metadata": {
  "kernelspec": {
   "display_name": "Python 3 (ipykernel)",
   "language": "python",
   "name": "python3"
  },
  "language_info": {
   "codemirror_mode": {
    "name": "ipython",
    "version": 3
   },
   "file_extension": ".py",
   "mimetype": "text/x-python",
   "name": "python",
   "nbconvert_exporter": "python",
   "pygments_lexer": "ipython3",
   "version": "3.9.7"
  }
 },
 "nbformat": 4,
 "nbformat_minor": 5
}

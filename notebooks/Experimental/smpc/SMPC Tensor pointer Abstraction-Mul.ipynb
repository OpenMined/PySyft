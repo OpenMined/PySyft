{
 "cells": [
  {
   "cell_type": "code",
   "execution_count": 1,
   "id": "67c2d127-c955-4313-b7d2-c584f037f85b",
   "metadata": {},
   "outputs": [],
   "source": [
    "import syft as sy\n",
    "sy.logger.remove()\n",
    "import numpy as np\n",
    "from syft.core.tensor.smpc.party import Party\n",
    "from syft.core.tensor.smpc.mpc_tensor import MPCTensor\n",
    "\n",
    "data = sy.Tensor(np.array([1,2,3],dtype=np.int32))"
   ]
  },
  {
   "cell_type": "code",
   "execution_count": 2,
   "id": "aa74bb27-e8aa-404b-a32f-cdff0c36390b",
   "metadata": {},
   "outputs": [],
   "source": [
    "party_ca = Party(url=\"localhost\", port=8081)\n",
    "party_it = Party(url=\"localhost\", port=8082)"
   ]
  },
  {
   "cell_type": "code",
   "execution_count": 3,
   "id": "5bb07795-fb5e-4bba-8998-445e21c14a9e",
   "metadata": {},
   "outputs": [
    {
     "name": "stdout",
     "output_type": "stream",
     "text": [
      "Connecting to http://localhost:8081... done! \t Logging into ca... done!\n",
      "Connecting to http://localhost:8082... done! \t Logging into it... done!\n"
     ]
    }
   ],
   "source": [
    "ca_client = sy.login(email=\"info@openmined.org\", password=\"changethis\", port=8081)\n",
    "it_client = sy.login(email=\"info@openmined.org\", password=\"changethis\", port=8082)"
   ]
  },
  {
   "cell_type": "code",
   "execution_count": 4,
   "id": "949ee4ea-98ab-4304-a6b9-88c32aa71d62",
   "metadata": {},
   "outputs": [],
   "source": [
    "clients = [ca_client, it_client]\n",
    "parties = [party_ca, party_it]"
   ]
  },
  {
   "cell_type": "code",
   "execution_count": 5,
   "id": "c85840d0-a2d0-4988-94fc-5a233672aa81",
   "metadata": {},
   "outputs": [],
   "source": [
    "tensor_1 = data.send(ca_client)\n",
    "tensor_2 = data.send(it_client)"
   ]
  },
  {
   "cell_type": "code",
   "execution_count": 6,
   "id": "d6dec848-8c07-496c-bc48-ebb7b21aa0ed",
   "metadata": {},
   "outputs": [],
   "source": [
    "mpc_tensor_1 = MPCTensor(shape=(3, ), clients= clients, parties_info=parties, secret=tensor_1)"
   ]
  },
  {
   "cell_type": "code",
   "execution_count": 7,
   "id": "a05eefc0-4b05-4e50-92a2-31623da263fd",
   "metadata": {},
   "outputs": [],
   "source": [
    "mpc_tensor_2 = MPCTensor(shape=(3, ), clients= clients, parties_info=parties, secret=tensor_2)"
   ]
  },
  {
   "cell_type": "code",
   "execution_count": null,
   "id": "0d70a8c8-327d-46e5-bc5b-945b7e3f6a78",
   "metadata": {},
   "outputs": [],
   "source": [
    "res = mpc_tensor_1 * mpc_tensor_2\n",
    "#The above two private tensor belongs to gryffindor and slytherin\n",
    "#we create an MPCTensor by sharing it with all the parties in the computation(instead of the above two)"
   ]
  },
  {
   "cell_type": "code",
   "execution_count": null,
   "id": "448f827f-5b12-41ee-a864-77a83f44bfc8",
   "metadata": {},
   "outputs": [],
   "source": [
    "mpc_1.reconstruct()"
   ]
  }
 ],
 "metadata": {
  "kernelspec": {
   "display_name": "Python 3 (ipykernel)",
   "language": "python",
   "name": "python3"
  },
  "language_info": {
   "codemirror_mode": {
    "name": "ipython",
    "version": 3
   },
   "file_extension": ".py",
   "mimetype": "text/x-python",
   "name": "python",
   "nbconvert_exporter": "python",
   "pygments_lexer": "ipython3",
   "version": "3.9.4"
  }
 },
 "nbformat": 4,
 "nbformat_minor": 5
}

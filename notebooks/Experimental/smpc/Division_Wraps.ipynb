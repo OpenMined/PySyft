{
 "cells": [
  {
   "cell_type": "code",
   "execution_count": 1,
   "metadata": {},
   "outputs": [],
   "source": [
    "%load_ext autoreload\n",
    "%autoreload 2\n",
    "import syft as sy\n",
    "import numpy as np\n",
    "data  = sy.Tensor(np.array([1,2,3],dtype=np.int32))\n",
    "from syft.core.smpc.store import CryptoPrimitiveProvider"
   ]
  },
  {
   "cell_type": "code",
   "execution_count": 2,
   "metadata": {},
   "outputs": [
    {
     "name": "stdout",
     "output_type": "stream",
     "text": [
      "WARNING: CHANGE YOUR USERNAME AND PASSWORD!!! \n",
      "\n",
      "Anyone can login as an admin to your node right now because your password is still the default PySyft username and password!!!\n",
      "\n",
      "Connecting to None... done! \t Logging into canada... done!\n",
      "WARNING: CHANGE YOUR USERNAME AND PASSWORD!!! \n",
      "\n",
      "Anyone can login as an admin to your node right now because your password is still the default PySyft username and password!!!\n",
      "\n",
      "Connecting to None... done! \t Logging into italy... done!\n"
     ]
    }
   ],
   "source": [
    "DOMAIN1_PORT = 8081\n",
    "DOMAIN2_PORT = 8082\n",
    "p1 =  sy.login(email=\"info@openmined.org\",password=\"changethis\",port=DOMAIN1_PORT)\n",
    "p2 = sy.login(email=\"info@openmined.org\",password=\"changethis\",port=DOMAIN2_PORT)\n"
   ]
  },
  {
   "cell_type": "code",
   "execution_count": 3,
   "metadata": {},
   "outputs": [],
   "source": [
    "ptr1 = data.send(p1)\n",
    "ptr2 = data.send(p2)"
   ]
  },
  {
   "cell_type": "code",
   "execution_count": 4,
   "metadata": {},
   "outputs": [
    {
     "name": "stderr",
     "output_type": "stream",
     "text": [
      "[2022-03-20T14:15:04.958855+0000][CRITICAL][logger]][2847131] 'Class' object has no attribute 'generate_przs'\n",
      "[2022-03-20T14:15:04.971680+0000][CRITICAL][logger]][2847131] 'Class' object has no attribute 'generate_przs'\n",
      "[2022-03-20T14:15:04.983059+0000][CRITICAL][logger]][2847131] 'Class' object has no attribute 'generate_przs'\n",
      "[2022-03-20T14:15:04.994583+0000][CRITICAL][logger]][2847131] 'Class' object has no attribute 'generate_przs'\n"
     ]
    }
   ],
   "source": [
    "mpc= ptr1+ptr2"
   ]
  },
  {
   "cell_type": "code",
   "execution_count": 20,
   "metadata": {},
   "outputs": [
    {
     "name": "stdout",
     "output_type": "stream",
     "text": [
      "Rand val Tensor(child=[  623806456 -1530411376  1411855983])\n",
      "Wraps:  Tensor(child=[0 1 0])\n"
     ]
    }
   ],
   "source": [
    "primitives = CryptoPrimitiveProvider.generate_primitives(\n",
    "        f\"beaver_wraps\",\n",
    "        parties=mpc.parties,\n",
    "        g_kwargs={\n",
    "            \"shape\": data.shape,\n",
    "            \"parties_info\": mpc.parties_info,\n",
    "        },\n",
    "        p_kwargs={\"shape\": data.shape},\n",
    "        ring_size=mpc.ring_size,\n",
    "    )"
   ]
  },
  {
   "cell_type": "code",
   "execution_count": 21,
   "metadata": {},
   "outputs": [
    {
     "data": {
      "text/plain": [
       "[((ShareTensor(child=[ 433151134 1357160756 1903348589]),\n",
       "   ShareTensor(child=[  694653271  1502934768 -1808339193])),),\n",
       " ((ShareTensor(child=[ 190655322 1407395164 -491492606]),\n",
       "   ShareTensor(child=[ -694653271 -1502934767  1808339193])),)]"
      ]
     },
     "execution_count": 21,
     "metadata": {},
     "output_type": "execute_result"
    }
   ],
   "source": [
    "primitives"
   ]
  },
  {
   "cell_type": "code",
   "execution_count": 12,
   "metadata": {},
   "outputs": [
    {
     "name": "stdout",
     "output_type": "stream",
     "text": [
      "[1 0 0]\n"
     ]
    }
   ],
   "source": [
    "a=np.array([ 838170023 ,1935775067, 2087203323],dtype=np.int32)\n",
    "b=np.array([ -838170022, -1935775067 ,-2087203323],dtype=np.int32)\n",
    "print(a+b)"
   ]
  },
  {
   "cell_type": "code",
   "execution_count": 13,
   "metadata": {},
   "outputs": [
    {
     "name": "stdout",
     "output_type": "stream",
     "text": [
      "[-2141541722  -612243176  1617324426]\n"
     ]
    }
   ],
   "source": [
    "a=np.array([1824476025  ,755069476  , 96169378],dtype=np.int32)\n",
    "b=np.array([  328949549, -1367312652 , 1521155048],dtype=np.int32)\n",
    "print(a+b)"
   ]
  }
 ],
 "metadata": {
  "interpreter": {
   "hash": "630449982b6186a6531308cd76ed4d510e9db65154e43844c2906c6a20ad2a6d"
  },
  "kernelspec": {
   "display_name": "Python 3.9.4 64-bit ('python39-2vM0bQN-': pipenv)",
   "name": "python3"
  },
  "language_info": {
   "codemirror_mode": {
    "name": "ipython",
    "version": 3
   },
   "file_extension": ".py",
   "mimetype": "text/x-python",
   "name": "python",
   "nbconvert_exporter": "python",
   "pygments_lexer": "ipython3",
   "version": "3.9.4"
  },
  "orig_nbformat": 4
 },
 "nbformat": 4,
 "nbformat_minor": 2
}

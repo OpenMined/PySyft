{
 "cells": [
  {
   "cell_type": "code",
   "execution_count": 1,
   "id": "67c2d127-c955-4313-b7d2-c584f037f85b",
   "metadata": {},
   "outputs": [],
   "source": [
    "import syft as sy\n",
    "from syft import flags\n",
    "from syft.core.smpc.store import CryptoPrimitiveProvider\n",
    "from syft.core.tensor.smpc.mpc_tensor import MPCTensor\n",
    "from syft import Tensor\n",
    "sy.logger.remove()\n",
    "import numpy as np\n",
    "data = sy.Tensor(np.array([1,2,3],dtype=np.int32))"
   ]
  },
  {
   "cell_type": "code",
   "execution_count": 2,
   "id": "aa74bb27-e8aa-404b-a32f-cdff0c36390b",
   "metadata": {},
   "outputs": [
    {
     "name": "stdout",
     "output_type": "stream",
     "text": [
      "Connecting to http://localhost:8081... done! \t Logging into gryffindor... done!\n",
      "Connecting to http://localhost:8082... done! \t Logging into slytherin... done!\n",
      "Connecting to http://localhost:8083... done! \t Logging into hufflepuff... done!\n"
     ]
    }
   ],
   "source": [
    "gryffindor = sy.login(email=\"info@openmined.org\",password=\"changethis\",port=\"8081\")\n",
    "slytherin =  sy.login(email=\"info@openmined.org\",password=\"changethis\",port=\"8082\")\n",
    "hufflepuff = sy.login(email=\"info@openmined.org\",password=\"changethis\",port=\"8083\")"
   ]
  },
  {
   "cell_type": "code",
   "execution_count": 3,
   "id": "c85840d0-a2d0-4988-94fc-5a233672aa81",
   "metadata": {},
   "outputs": [],
   "source": [
    "tensor_1 = data.send(gryffindor)\n",
    "tensor_2 = data.send(slytherin)\n",
    "tensor_3 = data.send(hufflepuff)"
   ]
  },
  {
   "cell_type": "code",
   "execution_count": 4,
   "id": "0d70a8c8-327d-46e5-bc5b-945b7e3f6a78",
   "metadata": {},
   "outputs": [
    {
     "name": "stdout",
     "output_type": "stream",
     "text": [
      "Proxy Client already User Register\n",
      "Proxy Client already User Register\n"
     ]
    }
   ],
   "source": [
    "mpc_1 = tensor_1 + tensor_2\n"
   ]
  },
  {
   "cell_type": "code",
   "execution_count": 6,
   "id": "448f827f-5b12-41ee-a864-77a83f44bfc8",
   "metadata": {},
   "outputs": [],
   "source": [
    "mpc_2  = tensor_2 + tensor_3"
   ]
  },
  {
   "cell_type": "code",
   "execution_count": 7,
   "id": "c56b7dbd-7e80-42bf-812a-2b07fd3123a9",
   "metadata": {},
   "outputs": [],
   "source": [
    "mpc = mpc_1 + mpc_2 #mpctensors of different private subsets of parties."
   ]
  },
  {
   "cell_type": "code",
   "execution_count": 8,
   "id": "20391035-67e9-492c-aec4-b690d944efb3",
   "metadata": {},
   "outputs": [
    {
     "name": "stdout",
     "output_type": "stream",
     "text": [
      "a_rand Tensor(child=[[False  True False]\n",
      " [ True  True False]\n",
      " [False False  True]])\n",
      "b_rand Tensor(child=[[False False False]\n",
      " [ True  True  True]\n",
      " [ True False False]])\n",
      "c_val Tensor(child=[[False False False]\n",
      " [ True  True False]\n",
      " [False False False]])\n",
      "Triple [[[ShareTensor(child=[[False  True False]\n",
      " [ True False False]\n",
      " [False  True False]]), ShareTensor(child=[[ True False  True]\n",
      " [False False  True]\n",
      " [False  True False]]), ShareTensor(child=[[False False  True]\n",
      " [ True False  True]\n",
      " [False  True  True]])]], [[ShareTensor(child=[[ True  True False]\n",
      " [False  True False]\n",
      " [ True  True False]]), ShareTensor(child=[[ True False  True]\n",
      " [ True False False]\n",
      " [ True  True  True]]), ShareTensor(child=[[ True  True  True]\n",
      " [False False  True]\n",
      " [False  True  True]])]], [[ShareTensor(child=[[ True  True False]\n",
      " [False False False]\n",
      " [ True False  True]]), ShareTensor(child=[[False False False]\n",
      " [False  True False]\n",
      " [False False  True]]), ShareTensor(child=[[ True  True False]\n",
      " [False  True False]\n",
      " [False False False]])]]]\n"
     ]
    }
   ],
   "source": [
    "parties= mpc.parties\n",
    "parties_info = mpc.parties_info\n",
    "shape_x = (3,3)\n",
    "shape_y = (3,3)\n",
    "op_str = \"mul\"\n",
    "primitives = CryptoPrimitiveProvider.generate_primitives(  # noqa\n",
    "        f\"beaver_{op_str}\",\n",
    "        parties=parties,\n",
    "        g_kwargs={\n",
    "            \"a_shape\": shape_x,\n",
    "            \"b_shape\": shape_y,\n",
    "            \"parties_info\": parties_info,\n",
    "        },\n",
    "        ring_size=2,\n",
    "        p_kwargs={\"a_shape\": shape_x, \"b_shape\": shape_y},\n",
    "    )"
   ]
  },
  {
   "cell_type": "code",
   "execution_count": null,
   "id": "74d1f751-91cb-40af-954c-47f1581cbb05",
   "metadata": {},
   "outputs": [],
   "source": [
    "a_shape= (3,3)\n",
    "b_shape= (3,3)\n",
    "ttp = np.random.default_rng()\n",
    "numpy_type = np.bool_\n",
    "min_value=0\n",
    "max_value=1\n",
    "a_rand = Tensor(\n",
    "        ttp.integers(\n",
    "            low=min_value, high=max_value, size=a_shape, endpoint=True, dtype=numpy_type\n",
    "        )\n",
    "    )"
   ]
  },
  {
   "cell_type": "code",
   "execution_count": null,
   "id": "bc8fcaa5-6b57-4cb0-a30e-c54741a2d53b",
   "metadata": {},
   "outputs": [],
   "source": [
    "parties= mpc.parties\n",
    "parties_info = mpc.parties_info\n",
    "seed_przs  = mpc.seed_przs\n",
    "a_shares = MPCTensor._get_shares_from_local_secret(\n",
    "        secret=a_rand,\n",
    "        parties_info=parties_info,  # type: ignore\n",
    "        shape=a_shape,\n",
    "        seed_przs=seed_przs,\n",
    "        ring_size=2,\n",
    "    )"
   ]
  },
  {
   "cell_type": "code",
   "execution_count": null,
   "id": "6b3a5c97-c96c-482f-a313-1630b86debeb",
   "metadata": {},
   "outputs": [],
   "source": [
    "a_shares"
   ]
  },
  {
   "cell_type": "code",
   "execution_count": null,
   "id": "879b122c-b970-4b97-af39-412fb49407dc",
   "metadata": {},
   "outputs": [],
   "source": [
    "t=a_shares[0].send(gryffindor)"
   ]
  },
  {
   "cell_type": "code",
   "execution_count": null,
   "id": "e091ae6a-4372-4a47-aef9-53db761e57b2",
   "metadata": {},
   "outputs": [],
   "source": [
    "from syft.core.tensor.smpc.utils import RING_SIZE_TO_TYPE"
   ]
  },
  {
   "cell_type": "code",
   "execution_count": null,
   "id": "b8a073e1-6bd5-4dc3-b271-d25abe08ad3f",
   "metadata": {},
   "outputs": [],
   "source": [
    "a=RING_SIZE_TO_TYPE[2]"
   ]
  },
  {
   "cell_type": "code",
   "execution_count": null,
   "id": "3562da22-ff25-4de7-bb1b-14ec6dbeb168",
   "metadata": {},
   "outputs": [],
   "source": [
    "from syft.core.tensor.smpc.share_tensor import ShareTensor"
   ]
  },
  {
   "cell_type": "code",
   "execution_count": null,
   "id": "b32830e2-a484-4a53-b142-bac78b2e0e46",
   "metadata": {},
   "outputs": [],
   "source": [
    "op= ShareTensor.get_op(2,\"mul\")"
   ]
  },
  {
   "cell_type": "code",
   "execution_count": null,
   "id": "ac33381f-35af-4f5d-a6c8-89152ae0c077",
   "metadata": {},
   "outputs": [],
   "source": [
    "op"
   ]
  },
  {
   "cell_type": "code",
   "execution_count": null,
   "id": "80ff9453-f0d3-4cfc-81ec-b85e15bb2aba",
   "metadata": {},
   "outputs": [],
   "source": [
    "op(a_rand.child,a_rand.child)"
   ]
  }
 ],
 "metadata": {
  "kernelspec": {
   "display_name": "Python 3 (ipykernel)",
   "language": "python",
   "name": "python3"
  },
  "language_info": {
   "codemirror_mode": {
    "name": "ipython",
    "version": 3
   },
   "file_extension": ".py",
   "mimetype": "text/x-python",
   "name": "python",
   "nbconvert_exporter": "python",
   "pygments_lexer": "ipython3",
   "version": "3.9.4"
  }
 },
 "nbformat": 4,
 "nbformat_minor": 5
}

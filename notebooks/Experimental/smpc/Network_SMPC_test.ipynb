{
 "cells": [
  {
   "cell_type": "code",
   "execution_count": 1,
   "id": "7132f045-b8f6-494f-8e62-4a7edd3b6b37",
   "metadata": {},
   "outputs": [],
   "source": [
    "import syft as sy\n",
    "import numpy as np"
   ]
  },
  {
   "cell_type": "code",
   "execution_count": 2,
   "id": "128857d0-2c58-4fbc-9ce2-248c7c332011",
   "metadata": {},
   "outputs": [
    {
     "name": "stdout",
     "output_type": "stream",
     "text": [
      "\u001b[93mWARNING:\u001b[0m CHANGE YOUR USERNAME AND PASSWORD!!! \n",
      "\n",
      "Anyone can login as an admin to your node right now because your password is still the default PySyft username and password!!!\n",
      "\n",
      "Connecting to localhost... done! \t Logging into rasswanth... done!\n"
     ]
    }
   ],
   "source": [
    "rasswanth = sy.login(email=\"info@openmined.org\",password=\"changethis\",port=8081)"
   ]
  },
  {
   "cell_type": "code",
   "execution_count": 3,
   "id": "06f16da3-bf28-46c4-bfa6-4e29c40b172c",
   "metadata": {},
   "outputs": [
    {
     "name": "stdout",
     "output_type": "stream",
     "text": [
      "\u001b[93mWARNING:\u001b[0m CHANGE YOUR USERNAME AND PASSWORD!!! \n",
      "\n",
      "Anyone can login as an admin to your node right now because your password is still the default PySyft username and password!!!\n",
      "\n",
      "Connecting to localhost... done! \t Logging into madhava... done!\n"
     ]
    }
   ],
   "source": [
    "madhava = sy.login(email=\"info@openmined.org\",password=\"changethis\",port=8082)"
   ]
  },
  {
   "cell_type": "code",
   "execution_count": 4,
   "id": "b54c3b3a-9c4a-4042-9eb1-df1f70fd3489",
   "metadata": {},
   "outputs": [
    {
     "name": "stderr",
     "output_type": "stream",
     "text": [
      "[2022-11-29T11:59:43.329506+0530][CRITICAL][logger]][20893] You can't create a new User using this email!\n",
      "[2022-11-29T11:59:43.378370+0530][CRITICAL][logger]][20893] You can't create a new User using this email!\n"
     ]
    },
    {
     "name": "stdout",
     "output_type": "stream",
     "text": [
      "failing to create user You can't create a new User using this email!\n",
      "Ignoring: user with email:natsu@fairy.tail already exists\n",
      "failing to create user You can't create a new User using this email!\n",
      "Ignoring: user with email:grey@fairy.tail already exists\n"
     ]
    },
    {
     "data": {
      "text/plain": [
       "{'name': 'Grey',\n",
       " 'email': 'grey@fairy.tail',\n",
       " 'password': 'changethis',\n",
       " 'url': 'localhost'}"
      ]
     },
     "execution_count": 4,
     "metadata": {},
     "output_type": "execute_result"
    }
   ],
   "source": [
    "rasswanth.create_user(name=\"Natsu\",\n",
    "                      email=\"natsu@fairy.tail\",\n",
    "                      password=\"changethis\",\n",
    "                      budget=9_999_999)\n",
    "madhava.create_user(name=\"Grey\",\n",
    "                      email=\"grey@fairy.tail\",\n",
    "                      password=\"changethis\",\n",
    "                      budget=9_999_999)"
   ]
  },
  {
   "cell_type": "code",
   "execution_count": 5,
   "id": "c36bc5f5-026c-417c-b90f-1f6d113a13fa",
   "metadata": {},
   "outputs": [
    {
     "name": "stdout",
     "output_type": "stream",
     "text": [
      "Connecting to 20.253.234.47... done! \t Logging into hoth... as GUEST...done!\n",
      "\n",
      "**Warning**: The syft version on your system and the node are different.\n",
      "Version on your system: 0.7.0-beta.59\n",
      "Version on the node: 0.7.0-beta.58\n",
      "\n"
     ]
    }
   ],
   "source": [
    "hoth = sy.login(url=\"http://20.253.234.47\", port=80)"
   ]
  },
  {
   "cell_type": "code",
   "execution_count": 6,
   "id": "5445e9a4-5386-4877-802d-f8182ce25fae",
   "metadata": {},
   "outputs": [
    {
     "data": {
      "text/html": [
       "<div>\n",
       "<style scoped>\n",
       "    .dataframe tbody tr th:only-of-type {\n",
       "        vertical-align: middle;\n",
       "    }\n",
       "\n",
       "    .dataframe tbody tr th {\n",
       "        vertical-align: top;\n",
       "    }\n",
       "\n",
       "    .dataframe thead th {\n",
       "        text-align: right;\n",
       "    }\n",
       "</style>\n",
       "<table border=\"1\" class=\"dataframe\">\n",
       "  <thead>\n",
       "    <tr style=\"text-align: right;\">\n",
       "      <th></th>\n",
       "    </tr>\n",
       "  </thead>\n",
       "  <tbody>\n",
       "  </tbody>\n",
       "</table>\n",
       "</div>"
      ],
      "text/plain": [
       "<syft.core.node.common.client_manager.domain_api.DomainRequestAPI at 0x2a3349460>"
      ]
     },
     "execution_count": 6,
     "metadata": {},
     "output_type": "execute_result"
    }
   ],
   "source": [
    "hoth.domains"
   ]
  },
  {
   "cell_type": "code",
   "execution_count": 7,
   "id": "6834103f-af24-4dbc-b91f-35fa11883526",
   "metadata": {},
   "outputs": [],
   "source": [
    "gamma = np.array([392, 1008])"
   ]
  },
  {
   "cell_type": "code",
   "execution_count": 8,
   "id": "b559ae6c-f6c6-4e6c-aa51-160c5ab6a3b0",
   "metadata": {},
   "outputs": [],
   "source": [
    "alpha = alpha = np.array([2211, -8520])"
   ]
  },
  {
   "cell_type": "code",
   "execution_count": 9,
   "id": "bb1debec-92b7-460f-901d-4cbb65d213cc",
   "metadata": {},
   "outputs": [
    {
     "name": "stdout",
     "output_type": "stream",
     "text": [
      "Loading dataset... checking asset types...                                                                                                                                    \n",
      "\n",
      "**Warning**: Blob Storage is disabled on this domain. Switching to database store.\n",
      "\n",
      "Dataset is uploaded successfully !!! 🎉                  \n",
      "\n",
      "Run `<your client variable>.datasets` to see your new dataset loaded into your machine!\n",
      "Loading dataset... checking asset types...                                                                                                                                    \n",
      "\n",
      "**Warning**: Blob Storage is disabled on this domain. Switching to database store.\n",
      "\n",
      "Dataset is uploaded successfully !!! 🎉                  \n",
      "\n",
      "Run `<your client variable>.datasets` to see your new dataset loaded into your machine!\n"
     ]
    }
   ],
   "source": [
    "rasswanth.load_dataset(\n",
    "    assets={\"gamma 1\": sy.Tensor(gamma)},\n",
    "    name=\"gamma 1 \",\n",
    "    description=\"gamma 1\",\n",
    "    skip_checks=True)\n",
    "\n",
    "madhava.load_dataset(\n",
    "    assets={\"alpha 1\": sy.Tensor(alpha)},\n",
    "    name=\"alpha 1\",\n",
    "    description=\"alpha 1\",\n",
    "    skip_checks=True)\n"
   ]
  },
  {
   "cell_type": "code",
   "execution_count": 10,
   "id": "d113844d-f46b-4ebc-8a86-8b7e988b3aac",
   "metadata": {},
   "outputs": [
    {
     "data": {
      "text/html": [
       "<div>\n",
       "<style scoped>\n",
       "    .dataframe tbody tr th:only-of-type {\n",
       "        vertical-align: middle;\n",
       "    }\n",
       "\n",
       "    .dataframe tbody tr th {\n",
       "        vertical-align: top;\n",
       "    }\n",
       "\n",
       "    .dataframe thead th {\n",
       "        text-align: right;\n",
       "    }\n",
       "</style>\n",
       "<table border=\"1\" class=\"dataframe\">\n",
       "  <thead>\n",
       "    <tr style=\"text-align: right;\">\n",
       "      <th></th>\n",
       "      <th>ID</th>\n",
       "      <th>Tags</th>\n",
       "      <th>Description</th>\n",
       "      <th>object_type</th>\n",
       "    </tr>\n",
       "  </thead>\n",
       "  <tbody>\n",
       "    <tr>\n",
       "      <th>0</th>\n",
       "      <td>&lt;UID: 44aab0d78e7e43ca8639350a1a629e5a&gt;</td>\n",
       "      <td>[#gamma 1]</td>\n",
       "      <td></td>\n",
       "      <td>&lt;class 'syft.core.tensor.tensor.Tensor'&gt;</td>\n",
       "    </tr>\n",
       "  </tbody>\n",
       "</table>\n",
       "</div>"
      ],
      "text/plain": [
       "[<TensorPointer -> rasswanth:44aab0d78e7e43ca8639350a1a629e5a, status=\u001b[92mReady\u001b[0m>]"
      ]
     },
     "execution_count": 10,
     "metadata": {},
     "output_type": "execute_result"
    }
   ],
   "source": [
    "rasswanth.store"
   ]
  },
  {
   "cell_type": "code",
   "execution_count": 11,
   "id": "227951c0-ceb0-45f9-a102-fd97f4722060",
   "metadata": {},
   "outputs": [
    {
     "data": {
      "text/html": [
       "<div>\n",
       "<style scoped>\n",
       "    .dataframe tbody tr th:only-of-type {\n",
       "        vertical-align: middle;\n",
       "    }\n",
       "\n",
       "    .dataframe tbody tr th {\n",
       "        vertical-align: top;\n",
       "    }\n",
       "\n",
       "    .dataframe thead th {\n",
       "        text-align: right;\n",
       "    }\n",
       "</style>\n",
       "<table border=\"1\" class=\"dataframe\">\n",
       "  <thead>\n",
       "    <tr style=\"text-align: right;\">\n",
       "      <th></th>\n",
       "      <th>ID</th>\n",
       "      <th>Tags</th>\n",
       "      <th>Description</th>\n",
       "      <th>object_type</th>\n",
       "    </tr>\n",
       "  </thead>\n",
       "  <tbody>\n",
       "    <tr>\n",
       "      <th>0</th>\n",
       "      <td>&lt;UID: 0ae8a604640d4d03a1f730770c922d52&gt;</td>\n",
       "      <td>[#alpha 1]</td>\n",
       "      <td></td>\n",
       "      <td>&lt;class 'syft.core.tensor.tensor.Tensor'&gt;</td>\n",
       "    </tr>\n",
       "  </tbody>\n",
       "</table>\n",
       "</div>"
      ],
      "text/plain": [
       "[<TensorPointer -> madhava:0ae8a604640d4d03a1f730770c922d52, status=\u001b[92mReady\u001b[0m>]"
      ]
     },
     "execution_count": 11,
     "metadata": {},
     "output_type": "execute_result"
    }
   ],
   "source": [
    "madhava.store"
   ]
  },
  {
   "cell_type": "code",
   "execution_count": 12,
   "id": "23c0f538-1275-41e4-ad32-20d7983d1d41",
   "metadata": {},
   "outputs": [
    {
     "name": "stdout",
     "output_type": "stream",
     "text": [
      "\u001b[1m\u001b[93mWARNING\u001b[0m: Syft versions mismatch!\n",
      "\u001b[1mDomain\u001b[0m: \u001b[4m0.7.0-beta.59\u001b[0m\n",
      "\u001b[1mNetwork\u001b[0m: \u001b[4m0.7.0-beta.58\u001b[0m\n",
      "\u001b[1mEnvironment\u001b[0m: \u001b[4m0.7.0-beta.59\u001b[0m\n",
      "\u001b[1m[1/4] Checking Syft Versions ..."
     ]
    },
    {
     "name": "stdin",
     "output_type": "stream",
     "text": [
      "\u001b[1mThis may cause unexpected errors, are you willing to continue? (y/N)\u001b[0m y\n"
     ]
    },
    {
     "name": "stdout",
     "output_type": "stream",
     "text": [
      "\u001b[92m[1/4] Checking Syft Versions\u001b[0m                            \n",
      "\u001b[92m[2/4] Joining Network\u001b[0m                     \n",
      "\u001b[92m[3/4] Connecting to Secure VPN\u001b[0m                              \n",
      "ConnectionTimeoutError: Node was not able to process your request in time.  Retrying 3  ...\n",
      "\u001b[92m[4/4] Registering on the Secure VPN\u001b[0m                                   \n"
     ]
    }
   ],
   "source": [
    "rasswanth.apply_to_network(hoth)"
   ]
  },
  {
   "cell_type": "code",
   "execution_count": 14,
   "id": "b3bb12d5-0969-4e69-baad-302dc74ae466",
   "metadata": {},
   "outputs": [
    {
     "name": "stdout",
     "output_type": "stream",
     "text": [
      "\u001b[1m\u001b[93mWARNING\u001b[0m: Syft versions mismatch!\n",
      "\u001b[1mDomain\u001b[0m: \u001b[4m0.7.0-beta.59\u001b[0m\n",
      "\u001b[1mNetwork\u001b[0m: \u001b[4m0.7.0-beta.58\u001b[0m\n",
      "\u001b[1mEnvironment\u001b[0m: \u001b[4m0.7.0-beta.59\u001b[0m\n",
      "\u001b[1m[1/4] Checking Syft Versions ...\r"
     ]
    },
    {
     "name": "stdin",
     "output_type": "stream",
     "text": [
      "\u001b[1mThis may cause unexpected errors, are you willing to continue? (y/N)\u001b[0m y\n"
     ]
    },
    {
     "name": "stdout",
     "output_type": "stream",
     "text": [
      "\u001b[92m[1/4] Checking Syft Versions\u001b[0m                            \n",
      "\u001b[92m[2/4] Joining Network\u001b[0m                     \n",
      "\u001b[92m[3/4] Connecting to Secure VPN\u001b[0m                              \n",
      "ConnectionTimeoutError: Node was not able to process your request in time.  Retrying 3  ...\n",
      "\u001b[92m[4/4] Registering on the Secure VPN\u001b[0m                                   \n"
     ]
    }
   ],
   "source": [
    "madhava.apply_to_network(hoth)"
   ]
  },
  {
   "cell_type": "code",
   "execution_count": 15,
   "id": "18208ef8-5017-4301-9d13-0d555172024e",
   "metadata": {},
   "outputs": [
    {
     "data": {
      "text/html": [
       "<div>\n",
       "<style scoped>\n",
       "    .dataframe tbody tr th:only-of-type {\n",
       "        vertical-align: middle;\n",
       "    }\n",
       "\n",
       "    .dataframe tbody tr th {\n",
       "        vertical-align: top;\n",
       "    }\n",
       "\n",
       "    .dataframe thead th {\n",
       "        text-align: right;\n",
       "    }\n",
       "</style>\n",
       "<table border=\"1\" class=\"dataframe\">\n",
       "  <thead>\n",
       "    <tr style=\"text-align: right;\">\n",
       "      <th></th>\n",
       "      <th>host_or_ip</th>\n",
       "      <th>id</th>\n",
       "      <th>is_vpn</th>\n",
       "      <th>name</th>\n",
       "      <th>port</th>\n",
       "      <th>private</th>\n",
       "      <th>protocol</th>\n",
       "    </tr>\n",
       "  </thead>\n",
       "  <tbody>\n",
       "    <tr>\n",
       "      <th>0</th>\n",
       "      <td>100.64.0.2</td>\n",
       "      <td>16e27a5d5d4144359f47408ceb4de25a</td>\n",
       "      <td>1</td>\n",
       "      <td>rasswanth</td>\n",
       "      <td>80</td>\n",
       "      <td>0</td>\n",
       "      <td>http</td>\n",
       "    </tr>\n",
       "    <tr>\n",
       "      <th>1</th>\n",
       "      <td>100.64.0.3</td>\n",
       "      <td>0880cb659e1d49c3bdc4b3e13cc5e768</td>\n",
       "      <td>1</td>\n",
       "      <td>madhava</td>\n",
       "      <td>80</td>\n",
       "      <td>0</td>\n",
       "      <td>http</td>\n",
       "    </tr>\n",
       "  </tbody>\n",
       "</table>\n",
       "</div>"
      ],
      "text/plain": [
       "<syft.core.node.common.client_manager.domain_api.DomainRequestAPI at 0x2a3349460>"
      ]
     },
     "execution_count": 15,
     "metadata": {},
     "output_type": "execute_result"
    }
   ],
   "source": [
    "hoth.domains"
   ]
  },
  {
   "cell_type": "code",
   "execution_count": 16,
   "id": "52bf180e-62a4-452b-8b51-36c2a79d10ca",
   "metadata": {},
   "outputs": [
    {
     "name": "stdout",
     "output_type": "stream",
     "text": [
      "Logged in to madhava as grey@fairy.tail\n"
     ]
    }
   ],
   "source": [
    "madhava_ds = hoth.domains[1].login(email=\"grey@fairy.tail\",password=\"changethis\")"
   ]
  },
  {
   "cell_type": "code",
   "execution_count": 17,
   "id": "4632b7e7-b08e-4dd2-9305-468d31ce1fd4",
   "metadata": {},
   "outputs": [
    {
     "name": "stdout",
     "output_type": "stream",
     "text": [
      "Logged in to rasswanth as natsu@fairy.tail\n"
     ]
    }
   ],
   "source": [
    "rasswanth_ds = hoth.domains[0].login(email=\"natsu@fairy.tail\",password=\"changethis\")"
   ]
  },
  {
   "cell_type": "code",
   "execution_count": 18,
   "id": "4ce72e53-121a-448c-887c-b27b6d2fb70b",
   "metadata": {},
   "outputs": [
    {
     "data": {
      "text/html": [
       "<div>\n",
       "<style scoped>\n",
       "    .dataframe tbody tr th:only-of-type {\n",
       "        vertical-align: middle;\n",
       "    }\n",
       "\n",
       "    .dataframe tbody tr th {\n",
       "        vertical-align: top;\n",
       "    }\n",
       "\n",
       "    .dataframe thead th {\n",
       "        text-align: right;\n",
       "    }\n",
       "</style>\n",
       "<table border=\"1\" class=\"dataframe\">\n",
       "  <thead>\n",
       "    <tr style=\"text-align: right;\">\n",
       "      <th></th>\n",
       "      <th>ID</th>\n",
       "      <th>Tags</th>\n",
       "      <th>Description</th>\n",
       "      <th>object_type</th>\n",
       "    </tr>\n",
       "  </thead>\n",
       "  <tbody>\n",
       "    <tr>\n",
       "      <th>0</th>\n",
       "      <td>&lt;UID: 0ae8a604640d4d03a1f730770c922d52&gt;</td>\n",
       "      <td>[#alpha 1]</td>\n",
       "      <td></td>\n",
       "      <td>&lt;class 'syft.core.tensor.tensor.Tensor'&gt;</td>\n",
       "    </tr>\n",
       "  </tbody>\n",
       "</table>\n",
       "</div>"
      ],
      "text/plain": [
       "[<TensorPointer -> madhava:0ae8a604640d4d03a1f730770c922d52, status=\u001b[92mReady\u001b[0m>]"
      ]
     },
     "execution_count": 18,
     "metadata": {},
     "output_type": "execute_result"
    }
   ],
   "source": [
    "madhava_ds.store"
   ]
  },
  {
   "cell_type": "code",
   "execution_count": 19,
   "id": "cbfe1362-9944-4016-b9a0-9d94afdbc36e",
   "metadata": {},
   "outputs": [
    {
     "data": {
      "text/html": [
       "<div>\n",
       "<style scoped>\n",
       "    .dataframe tbody tr th:only-of-type {\n",
       "        vertical-align: middle;\n",
       "    }\n",
       "\n",
       "    .dataframe tbody tr th {\n",
       "        vertical-align: top;\n",
       "    }\n",
       "\n",
       "    .dataframe thead th {\n",
       "        text-align: right;\n",
       "    }\n",
       "</style>\n",
       "<table border=\"1\" class=\"dataframe\">\n",
       "  <thead>\n",
       "    <tr style=\"text-align: right;\">\n",
       "      <th></th>\n",
       "      <th>ID</th>\n",
       "      <th>Tags</th>\n",
       "      <th>Description</th>\n",
       "      <th>object_type</th>\n",
       "    </tr>\n",
       "  </thead>\n",
       "  <tbody>\n",
       "    <tr>\n",
       "      <th>0</th>\n",
       "      <td>&lt;UID: 44aab0d78e7e43ca8639350a1a629e5a&gt;</td>\n",
       "      <td>[#gamma 1]</td>\n",
       "      <td></td>\n",
       "      <td>&lt;class 'syft.core.tensor.tensor.Tensor'&gt;</td>\n",
       "    </tr>\n",
       "  </tbody>\n",
       "</table>\n",
       "</div>"
      ],
      "text/plain": [
       "[<TensorPointer -> rasswanth:44aab0d78e7e43ca8639350a1a629e5a, status=\u001b[92mReady\u001b[0m>]"
      ]
     },
     "execution_count": 19,
     "metadata": {},
     "output_type": "execute_result"
    }
   ],
   "source": [
    "rasswanth_ds.store"
   ]
  },
  {
   "cell_type": "code",
   "execution_count": 20,
   "id": "8e2369e7-a1c6-4648-9a14-610542a68e40",
   "metadata": {},
   "outputs": [],
   "source": [
    "res = madhava_ds.store[0]+rasswanth_ds.store[0]"
   ]
  },
  {
   "cell_type": "code",
   "execution_count": 21,
   "id": "7479da16-4d76-49f7-9506-d6fc3c526b5e",
   "metadata": {},
   "outputs": [
    {
     "data": {
      "text/plain": [
       "\n",
       "\n",
       "MPCTensor.shape=(2,)\n",
       "\t .child[0] = <TensorPointer -> madhava:a3781600f43bbda9c83a9080c7ce4e82, status=\u001b[92mReady\u001b[0m>\n",
       "\t .child[1] = <TensorPointer -> rasswanth:a3781600f43bbda9c83a9080c7ce4e82, status=\u001b[92mReady\u001b[0m>"
      ]
     },
     "execution_count": 21,
     "metadata": {},
     "output_type": "execute_result"
    }
   ],
   "source": [
    "res"
   ]
  },
  {
   "cell_type": "code",
   "execution_count": 22,
   "id": "9da9978c-8784-400b-ae03-472f7f5b4146",
   "metadata": {},
   "outputs": [],
   "source": [
    "res.request(reason=\"I really need to see this\")"
   ]
  },
  {
   "cell_type": "code",
   "execution_count": 28,
   "id": "3e36ec14-62d0-4f88-9db6-ccc2c1785605",
   "metadata": {},
   "outputs": [],
   "source": [
    "rasswanth.requests[-1].accept()"
   ]
  },
  {
   "cell_type": "code",
   "execution_count": 29,
   "id": "67205059-4e10-4b20-9331-46714cbc9230",
   "metadata": {},
   "outputs": [],
   "source": [
    "madhava.requests[-1].accept()"
   ]
  },
  {
   "cell_type": "code",
   "execution_count": 30,
   "id": "3663e0f0-68f6-422c-b14f-0dc04ca1143e",
   "metadata": {},
   "outputs": [
    {
     "data": {
      "text/plain": [
       "\n",
       "\n",
       "MPCTensor.shape=(2,)\n",
       "\t .child[0] = <TensorPointer -> madhava:a3781600f43bbda9c83a9080c7ce4e82, status=\u001b[92mReady\u001b[0m>\n",
       "\t .child[1] = <TensorPointer -> rasswanth:a3781600f43bbda9c83a9080c7ce4e82, status=\u001b[92mReady\u001b[0m>"
      ]
     },
     "execution_count": 30,
     "metadata": {},
     "output_type": "execute_result"
    }
   ],
   "source": [
    "res"
   ]
  },
  {
   "cell_type": "code",
   "execution_count": 31,
   "id": "cca7d1f4-b824-4ae1-8385-2c1914894118",
   "metadata": {},
   "outputs": [
    {
     "data": {
      "text/plain": [
       "array([ 26.03, -75.12])"
      ]
     },
     "execution_count": 31,
     "metadata": {},
     "output_type": "execute_result"
    }
   ],
   "source": [
    "res.get_copy()/100"
   ]
  },
  {
   "cell_type": "code",
   "execution_count": null,
   "id": "c6d6c2ce-ac2f-432f-b31e-6f39221442ea",
   "metadata": {},
   "outputs": [],
   "source": []
  }
 ],
 "metadata": {
  "kernelspec": {
   "display_name": "Python 3 (ipykernel)",
   "language": "python",
   "name": "python3"
  },
  "language_info": {
   "codemirror_mode": {
    "name": "ipython",
    "version": 3
   },
   "file_extension": ".py",
   "mimetype": "text/x-python",
   "name": "python",
   "nbconvert_exporter": "python",
   "pygments_lexer": "ipython3",
   "version": "3.9.13"
  }
 },
 "nbformat": 4,
 "nbformat_minor": 5
}

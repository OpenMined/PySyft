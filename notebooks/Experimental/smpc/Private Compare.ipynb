{
 "cells": [
  {
   "cell_type": "code",
   "execution_count": 1,
   "id": "67c2d127-c955-4313-b7d2-c584f037f85b",
   "metadata": {},
   "outputs": [
    {
     "name": "stdout",
     "output_type": "stream",
     "text": [
      "/home/rasswanth/PySyft/packages/syft/src/syft/lib/__init__.py:load:195\n"
     ]
    }
   ],
   "source": [
    "import syft as sy\n",
    "sy.logger.remove()\n",
    "import numpy as np\n",
    "pone = sy.Tensor(np.array([1],dtype=np.int32))\n",
    "one = sy.Tensor(np.array([1],bool))\n",
    "none = sy.Tensor(np.array([-1],dtype=np.int32))\n",
    "from syft.core.tensor.smpc.mpc_tensor import MPCTensor"
   ]
  },
  {
   "cell_type": "code",
   "execution_count": 2,
   "id": "aa74bb27-e8aa-404b-a32f-cdff0c36390b",
   "metadata": {},
   "outputs": [
    {
     "name": "stdout",
     "output_type": "stream",
     "text": [
      "Connecting to http://localhost:8081... done! \t Logging into ravenclaw... done!\n",
      "Connecting to http://localhost:8082... done! \t Logging into slytherin... done!\n",
      "Connecting to http://localhost:8083... done! \t Logging into hufflepuff... done!\n"
     ]
    }
   ],
   "source": [
    "p1 = sy.login(email=\"info@openmined.org\",password=\"changethis\",port=\"8081\")\n",
    "p2 =  sy.login(email=\"info@openmined.org\",password=\"changethis\",port=\"8082\")\n",
    "p3 = sy.login(email=\"info@openmined.org\",password=\"changethis\",port=\"8083\")\n",
    "parties = [p1,p2,p3]"
   ]
  },
  {
   "cell_type": "code",
   "execution_count": 3,
   "id": "c85840d0-a2d0-4988-94fc-5a233672aa81",
   "metadata": {
    "collapsed": true,
    "jupyter": {
     "outputs_hidden": true
    },
    "tags": []
   },
   "outputs": [
    {
     "name": "stdout",
     "output_type": "stream",
     "text": [
      "Proxy Client already User Register Expecting value: line 1 column 1 (char 0)\n",
      "Proxy Client already User Register Expecting value: line 1 column 1 (char 0)\n",
      "Proxy Client already User Register Expecting value: line 1 column 1 (char 0)\n",
      "=====================================\n",
      "Secret None\n",
      "Numpy Type int32\n",
      "Ring Size 4294967296\n",
      "=====================================\n",
      "[array([-119597761], dtype=int32), array([-1569148793], dtype=int32), array([420295765], dtype=int32)]\n",
      "======================================> ShareTensor(child=[-1449551032]) 4294967296\n",
      "=====================================\n",
      "Secret None\n",
      "Numpy Type int32\n",
      "Ring Size 4294967296\n",
      "=====================================\n",
      "[array([-119597761], dtype=int32), array([-1569148793], dtype=int32), array([420295765], dtype=int32)]\n",
      "======================================> ShareTensor(child=[1989444558]) 4294967296\n",
      "=====================================\n",
      "Secret Tensor(child=[1])\n",
      "Numpy Type int32\n",
      "Ring Size 4294967296\n",
      "=====================================\n",
      "[array([-119597761], dtype=int32), array([-1569148793], dtype=int32), array([420295765], dtype=int32)]\n",
      "======================================> ShareTensor(child=[-539893525]) 4294967296\n",
      "=====================================\n",
      "Secret None\n",
      "Numpy Type int32\n",
      "Ring Size 4294967296\n",
      "=====================================\n",
      "[array([265340962], dtype=int32), array([419193459], dtype=int32), array([373865650], dtype=int32)]\n",
      "======================================> ShareTensor(child=[153852497]) 4294967296\n",
      "=====================================\n",
      "Secret None\n",
      "Numpy Type int32\n",
      "Ring Size 4294967296\n",
      "=====================================\n",
      "[array([265340962], dtype=int32), array([419193459], dtype=int32), array([373865650], dtype=int32)]\n",
      "======================================> ShareTensor(child=[-45327809]) 4294967296\n",
      "=====================================\n",
      "Secret Tensor(child=[-1])\n",
      "Numpy Type int32\n",
      "Ring Size 4294967296\n",
      "=====================================\n",
      "[array([265340962], dtype=int32), array([419193459], dtype=int32), array([373865650], dtype=int32)]\n",
      "======================================> ShareTensor(child=[-108524689]) 4294967296\n"
     ]
    }
   ],
   "source": [
    "pmpc = MPCTensor(parties=parties,secret=pone,shape=(1,))\n",
    "nmpc = MPCTensor(parties=parties,secret=none,shape=(1,))"
   ]
  },
  {
   "cell_type": "code",
   "execution_count": 4,
   "id": "6890f4df-236f-49b0-bf02-1b744816d4ef",
   "metadata": {},
   "outputs": [],
   "source": [
    "from syft.core.smpc.protocol import ABY3"
   ]
  },
  {
   "cell_type": "code",
   "execution_count": 5,
   "id": "8e320ad9-16ff-44bb-816b-645dcf632f3e",
   "metadata": {
    "collapsed": true,
    "jupyter": {
     "outputs_hidden": true
    },
    "tags": []
   },
   "outputs": [
    {
     "name": "stdout",
     "output_type": "stream",
     "text": [
      "=====================================\n",
      "Secret None\n",
      "Numpy Type bool\n",
      "Ring Size 2\n",
      "=====================================\n",
      "[array([False]), array([False]), array([ True])]\n",
      "======================================> ShareTensor(child=[False]) 2\n",
      "=====================================\n",
      "Secret None\n",
      "Numpy Type bool\n",
      "Ring Size 2\n",
      "=====================================\n",
      "[array([False]), array([False]), array([ True])]\n",
      "======================================> ShareTensor(child=[ True]) 2\n",
      "=====================================\n",
      "Secret Tensor(child=[ True])\n",
      "Numpy Type bool\n",
      "Ring Size 2\n",
      "=====================================\n",
      "[array([False]), array([False]), array([ True])]\n",
      "======================================> ShareTensor(child=[False]) 2\n"
     ]
    }
   ],
   "source": [
    "one_mpc = MPCTensor(parties=parties,secret=one,shape=(1,))"
   ]
  },
  {
   "cell_type": "code",
   "execution_count": 6,
   "id": "9bdc1c02-353f-4951-a29c-a164ffebff9c",
   "metadata": {
    "collapsed": true,
    "jupyter": {
     "outputs_hidden": true
    },
    "tags": []
   },
   "outputs": [
    {
     "name": "stdout",
     "output_type": "stream",
     "text": [
      "a_rand Tensor(child=[1060042640])\n",
      "=====================================\n",
      "Secret None\n",
      "Numpy Type int32\n",
      "Ring Size 4294967296\n",
      "=====================================\n",
      "[array([-1954819332], dtype=int32), array([1360804051], dtype=int32), array([-1342588776], dtype=int32)]\n",
      "======================================> ShareTensor(child=[-979343913]) 4294967296\n",
      "=====================================\n",
      "Secret None\n",
      "Numpy Type int32\n",
      "Ring Size 4294967296\n",
      "=====================================\n",
      "[array([-1954819332], dtype=int32), array([1360804051], dtype=int32), array([-1342588776], dtype=int32)]\n",
      "======================================> ShareTensor(child=[1591574469]) 4294967296\n",
      "=====================================\n",
      "Secret Tensor(child=[1060042640])\n",
      "Numpy Type int32\n",
      "Ring Size 4294967296\n",
      "=====================================\n",
      "[array([-1954819332], dtype=int32), array([1360804051], dtype=int32), array([-1342588776], dtype=int32)]\n",
      "======================================> ShareTensor(child=[447812084]) 4294967296\n",
      "b_rand Tensor(child=[369905771])\n",
      "=====================================\n",
      "Secret None\n",
      "Numpy Type int32\n",
      "Ring Size 4294967296\n",
      "=====================================\n",
      "[array([-1360507304], dtype=int32), array([-1813623205], dtype=int32), array([-457381415], dtype=int32)]\n",
      "======================================> ShareTensor(child=[-453115901]) 4294967296\n",
      "=====================================\n",
      "Secret None\n",
      "Numpy Type int32\n",
      "Ring Size 4294967296\n",
      "=====================================\n",
      "[array([-1360507304], dtype=int32), array([-1813623205], dtype=int32), array([-457381415], dtype=int32)]\n",
      "======================================> ShareTensor(child=[1356241790]) 4294967296\n",
      "=====================================\n",
      "Secret Tensor(child=[369905771])\n",
      "Numpy Type int32\n",
      "Ring Size 4294967296\n",
      "=====================================\n",
      "[array([-1360507304], dtype=int32), array([-1813623205], dtype=int32), array([-457381415], dtype=int32)]\n",
      "======================================> ShareTensor(child=[-533220118]) 4294967296\n",
      "c_val Tensor(child=[280918320])\n",
      "=====================================\n",
      "Secret None\n",
      "Numpy Type int32\n",
      "Ring Size 4294967296\n",
      "=====================================\n",
      "[array([323732246], dtype=int32), array([-1043062563], dtype=int32), array([1870813622], dtype=int32)]\n",
      "======================================> ShareTensor(child=[-1366794809]) 4294967296\n",
      "=====================================\n",
      "Secret None\n",
      "Numpy Type int32\n",
      "Ring Size 4294967296\n",
      "=====================================\n",
      "[array([323732246], dtype=int32), array([-1043062563], dtype=int32), array([1870813622], dtype=int32)]\n",
      "======================================> ShareTensor(child=[-1381091111]) 4294967296\n",
      "=====================================\n",
      "Secret Tensor(child=[280918320])\n",
      "Numpy Type int32\n",
      "Ring Size 4294967296\n",
      "=====================================\n",
      "[array([323732246], dtype=int32), array([-1043062563], dtype=int32), array([1870813622], dtype=int32)]\n",
      "======================================> ShareTensor(child=[-1266163056]) 4294967296\n",
      "Triple [[[ShareTensor(child=[-979343913]), ShareTensor(child=[-453115901]), ShareTensor(child=[-1366794809])]], [[ShareTensor(child=[1591574469]), ShareTensor(child=[1356241790]), ShareTensor(child=[-1381091111])]], [[ShareTensor(child=[447812084]), ShareTensor(child=[-533220118]), ShareTensor(child=[-1266163056])]]]\n",
      "Primitves generated [[[ShareTensor(child=[-979343913]), ShareTensor(child=[-453115901]), ShareTensor(child=[-1366794809])]], [[ShareTensor(child=[1591574469]), ShareTensor(child=[1356241790]), ShareTensor(child=[-1381091111])]], [[ShareTensor(child=[447812084]), ShareTensor(child=[-533220118]), ShareTensor(child=[-1266163056])]]]\n",
      "a_rand Tensor(child=[-1448892438])\n",
      "=====================================\n",
      "Secret None\n",
      "Numpy Type int32\n",
      "Ring Size 4294967296\n",
      "=====================================\n",
      "[array([-2137788597], dtype=int32), array([1053754242], dtype=int32), array([1192028180], dtype=int32)]\n",
      "======================================> ShareTensor(child=[-1103424457]) 4294967296\n",
      "=====================================\n",
      "Secret None\n",
      "Numpy Type int32\n",
      "Ring Size 4294967296\n",
      "=====================================\n",
      "[array([-2137788597], dtype=int32), array([1053754242], dtype=int32), array([1192028180], dtype=int32)]\n",
      "======================================> ShareTensor(child=[138273938]) 4294967296\n",
      "=====================================\n",
      "Secret Tensor(child=[-1448892438])\n",
      "Numpy Type int32\n",
      "Ring Size 4294967296\n",
      "=====================================\n",
      "[array([-2137788597], dtype=int32), array([1053754242], dtype=int32), array([1192028180], dtype=int32)]\n",
      "======================================> ShareTensor(child=[-483741919]) 4294967296\n",
      "b_rand Tensor(child=[-1098256286])\n",
      "=====================================\n",
      "Secret None\n",
      "Numpy Type int32\n",
      "Ring Size 4294967296\n",
      "=====================================\n",
      "[array([17688831], dtype=int32), array([1265947499], dtype=int32), array([143042189], dtype=int32)]\n",
      "======================================> ShareTensor(child=[1248258668]) 4294967296\n",
      "=====================================\n",
      "Secret None\n",
      "Numpy Type int32\n",
      "Ring Size 4294967296\n",
      "=====================================\n",
      "[array([17688831], dtype=int32), array([1265947499], dtype=int32), array([143042189], dtype=int32)]\n",
      "======================================> ShareTensor(child=[-1122905310]) 4294967296\n",
      "=====================================\n",
      "Secret Tensor(child=[-1098256286])\n",
      "Numpy Type int32\n",
      "Ring Size 4294967296\n",
      "=====================================\n",
      "[array([17688831], dtype=int32), array([1265947499], dtype=int32), array([143042189], dtype=int32)]\n",
      "======================================> ShareTensor(child=[-1223609644]) 4294967296\n",
      "c_val Tensor(child=[-431249516])\n",
      "=====================================\n",
      "Secret None\n",
      "Numpy Type int32\n",
      "Ring Size 4294967296\n",
      "=====================================\n",
      "[array([1388427312], dtype=int32), array([-472188863], dtype=int32), array([1647922586], dtype=int32)]\n",
      "======================================> ShareTensor(child=[-1860616175]) 4294967296\n",
      "=====================================\n",
      "Secret None\n",
      "Numpy Type int32\n",
      "Ring Size 4294967296\n",
      "=====================================\n",
      "[array([1388427312], dtype=int32), array([-472188863], dtype=int32), array([1647922586], dtype=int32)]\n",
      "======================================> ShareTensor(child=[2120111449]) 4294967296\n",
      "=====================================\n",
      "Secret Tensor(child=[-431249516])\n",
      "Numpy Type int32\n",
      "Ring Size 4294967296\n",
      "=====================================\n",
      "[array([1388427312], dtype=int32), array([-472188863], dtype=int32), array([1647922586], dtype=int32)]\n",
      "======================================> ShareTensor(child=[-690744790]) 4294967296\n",
      "Triple [[[ShareTensor(child=[-1103424457]), ShareTensor(child=[1248258668]), ShareTensor(child=[-1860616175])]], [[ShareTensor(child=[138273938]), ShareTensor(child=[-1122905310]), ShareTensor(child=[2120111449])]], [[ShareTensor(child=[-483741919]), ShareTensor(child=[-1223609644]), ShareTensor(child=[-690744790])]]]\n",
      "Primitves generated [[[ShareTensor(child=[-1103424457]), ShareTensor(child=[1248258668]), ShareTensor(child=[-1860616175])]], [[ShareTensor(child=[138273938]), ShareTensor(child=[-1122905310]), ShareTensor(child=[2120111449])]], [[ShareTensor(child=[-483741919]), ShareTensor(child=[-1223609644]), ShareTensor(child=[-690744790])]]]\n"
     ]
    }
   ],
   "source": [
    "#we could could start with this function to optimize as it finishes fast and direct realtion\n",
    "#bit decomposition\n",
    "res = ABY3.bit_injection(one_mpc,2**32)"
   ]
  },
  {
   "cell_type": "code",
   "execution_count": 7,
   "id": "ad3d53b0-3095-4a04-8fc5-aecb7b59de57",
   "metadata": {},
   "outputs": [
    {
     "data": {
      "text/plain": [
       "array([1], dtype=int32)"
      ]
     },
     "execution_count": 7,
     "metadata": {},
     "output_type": "execute_result"
    }
   ],
   "source": [
    "res.reconstruct()"
   ]
  },
  {
   "cell_type": "code",
   "execution_count": null,
   "id": "295b6739-30dc-46b5-bf75-8c0711492978",
   "metadata": {
    "tags": []
   },
   "outputs": [],
   "source": [
    "#MAIN FUCTION TO OPTIMIZE\n",
    "\n",
    "\n",
    "a=ABY3.bit_decomposition(pmpc)"
   ]
  },
  {
   "cell_type": "code",
   "execution_count": null,
   "id": "6a46c5d7-aec3-48f8-bf5a-30210877ac22",
   "metadata": {},
   "outputs": [],
   "source": []
  }
 ],
 "metadata": {
  "kernelspec": {
   "display_name": "Python 3 (ipykernel)",
   "language": "python",
   "name": "python3"
  },
  "language_info": {
   "codemirror_mode": {
    "name": "ipython",
    "version": 3
   },
   "file_extension": ".py",
   "mimetype": "text/x-python",
   "name": "python",
   "nbconvert_exporter": "python",
   "pygments_lexer": "ipython3",
   "version": "3.9.4"
  }
 },
 "nbformat": 4,
 "nbformat_minor": 5
}

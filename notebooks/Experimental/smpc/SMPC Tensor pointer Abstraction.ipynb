{
 "cells": [
  {
   "cell_type": "code",
   "execution_count": 1,
   "id": "67c2d127-c955-4313-b7d2-c584f037f85b",
   "metadata": {},
   "outputs": [],
   "source": [
    "import syft as sy\n",
    "sy.logger.remove()\n",
    "import numpy as np\n",
    "data = sy.Tensor(np.array([1,2,3],dtype=np.int32))"
   ]
  },
  {
   "cell_type": "code",
   "execution_count": 2,
   "id": "aa74bb27-e8aa-404b-a32f-cdff0c36390b",
   "metadata": {},
   "outputs": [
    {
     "name": "stdout",
     "output_type": "stream",
     "text": [
      "No email/password specified. Logging in with default...\n",
      "Don't forget to re-configure your admin email and password!!!\n",
      "Connecting to http://localhost:8081... done! \t Logging into gryffindor... done!\n",
      "No email/password specified. Logging in with default...\n",
      "Don't forget to re-configure your admin email and password!!!\n",
      "Connecting to http://localhost:8082... done! \t Logging into slytherin... done!\n",
      "No email/password specified. Logging in with default...\n",
      "Don't forget to re-configure your admin email and password!!!\n",
      "Connecting to http://localhost:8083... done! \t Logging into hufflepuff... done!\n"
     ]
    }
   ],
   "source": [
    "gryffindor = sy.login(port=\"8081\")\n",
    "slytherin =  sy.login(port=\"8082\")\n",
    "hufflepuff = sy.login(port=\"8083\")"
   ]
  },
  {
   "cell_type": "code",
   "execution_count": 3,
   "id": "c85840d0-a2d0-4988-94fc-5a233672aa81",
   "metadata": {},
   "outputs": [],
   "source": [
    "tensor_1 = data.send(gryffindor)\n",
    "tensor_2 = data.send(slytherin)\n",
    "tensor_3 = data.send(hufflepuff)\n",
    "tensor_1.public_shape = (3,)#To be modified after andrew's synthetic data PR, which automatically includes the public shape\n",
    "tensor_2.public_shape = (3,)\n",
    "tensor_3.public_shape = (3,)"
   ]
  },
  {
   "cell_type": "code",
   "execution_count": 4,
   "id": "0d70a8c8-327d-46e5-bc5b-945b7e3f6a78",
   "metadata": {},
   "outputs": [],
   "source": [
    "mpc_1 = tensor_1 + tensor_2\n",
    "#The above two private tensor belongs to gryffindor and slytherin\n",
    "#we create an MPCTensor by sharing it with all the parties in the computation(instead of the above two)"
   ]
  },
  {
   "cell_type": "code",
   "execution_count": 5,
   "id": "448f827f-5b12-41ee-a864-77a83f44bfc8",
   "metadata": {},
   "outputs": [],
   "source": [
    "mpc_2  = tensor_2 - tensor_3"
   ]
  },
  {
   "cell_type": "code",
   "execution_count": 6,
   "id": "c56b7dbd-7e80-42bf-812a-2b07fd3123a9",
   "metadata": {},
   "outputs": [],
   "source": [
    "mpc = mpc_1 + mpc_2 #mpctensors of different private subsets of parties."
   ]
  },
  {
   "cell_type": "code",
   "execution_count": 7,
   "id": "06322e2c-bc06-4f97-89e8-db930dcd3384",
   "metadata": {},
   "outputs": [
    {
     "data": {
      "text/plain": [
       "array([2, 4, 6], dtype=int32)"
      ]
     },
     "execution_count": 7,
     "metadata": {},
     "output_type": "execute_result"
    }
   ],
   "source": [
    "mpc.reconstruct()"
   ]
  },
  {
   "cell_type": "code",
   "execution_count": 8,
   "id": "ae4499ff-1f65-40a5-9d69-2c6e2c9b7520",
   "metadata": {},
   "outputs": [],
   "source": [
    "mpc_3 = mpc_1 + tensor_1 #mpctensor and tensor pointer"
   ]
  },
  {
   "cell_type": "code",
   "execution_count": 9,
   "id": "9df50a11-606d-4094-a739-7cecb84e8d2e",
   "metadata": {},
   "outputs": [
    {
     "data": {
      "text/plain": [
       "array([3, 6, 9], dtype=int32)"
      ]
     },
     "execution_count": 9,
     "metadata": {},
     "output_type": "execute_result"
    }
   ],
   "source": [
    "mpc_3.reconstruct()"
   ]
  },
  {
   "cell_type": "code",
   "execution_count": 10,
   "id": "2e01d03e-84c1-4e73-a597-8bf679ddc988",
   "metadata": {},
   "outputs": [],
   "source": [
    "tensor_op = tensor_2 * 2 #tensor pointer and public value"
   ]
  },
  {
   "cell_type": "code",
   "execution_count": 11,
   "id": "7de76457-a8ee-4ce7-ad8c-1f5ec3255457",
   "metadata": {},
   "outputs": [
    {
     "data": {
      "text/plain": [
       "Tensor(child=[2 4 6])"
      ]
     },
     "execution_count": 11,
     "metadata": {},
     "output_type": "execute_result"
    }
   ],
   "source": [
    "tensor_op.get()"
   ]
  },
  {
   "cell_type": "markdown",
   "id": "10afd435-361b-4083-a32e-7a2b8d4b6288",
   "metadata": {},
   "source": []
  }
 ],
 "metadata": {
  "kernelspec": {
   "display_name": "Python 3 (ipykernel)",
   "language": "python",
   "name": "python3"
  },
  "language_info": {
   "codemirror_mode": {
    "name": "ipython",
    "version": 3
   },
   "file_extension": ".py",
   "mimetype": "text/x-python",
   "name": "python",
   "nbconvert_exporter": "python",
   "pygments_lexer": "ipython3",
   "version": "3.9.5"
  }
 },
 "nbformat": 4,
 "nbformat_minor": 5
}

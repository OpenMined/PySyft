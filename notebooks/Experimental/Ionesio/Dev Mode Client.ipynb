{
 "cells": [
  {
   "cell_type": "markdown",
   "id": "b601f50c",
   "metadata": {},
   "source": [
    "# Testing Syft Client in dev mode\n",
    "This notebook aims to give a brief explanation on  how to set Domain/Network Syft Client to work in dev mode."
   ]
  },
  {
   "cell_type": "code",
   "execution_count": 1,
   "id": "04a55fbe",
   "metadata": {},
   "outputs": [],
   "source": [
    "%load_ext autoreload\n",
    "%autoreload 2"
   ]
  },
  {
   "cell_type": "code",
   "execution_count": 2,
   "id": "940cb9fa",
   "metadata": {},
   "outputs": [
    {
     "name": "stdout",
     "output_type": "stream",
     "text": [
      "OpenTelemetry Tracing enabled\n"
     ]
    }
   ],
   "source": [
    "import os\n",
    "os.environ[\"TRACE\"] = \"True\"\n",
    "os.environ[\"USE_NEW_SERVICE\"] = \"True\"\n",
    "import syft as sy"
   ]
  },
  {
   "cell_type": "code",
   "execution_count": 3,
   "id": "c32e2546",
   "metadata": {},
   "outputs": [
    {
     "name": "stdout",
     "output_type": "stream",
     "text": [
      "WARNING: CHANGE YOUR USERNAME AND PASSWORD!!! \n",
      "\n",
      "Anyone can login as an admin to your node right now because your password is still the default PySyft username and password!!!\n",
      "\n",
      "Connecting to localhost... done! \t Logging into youthful_norvig... done!\n"
     ]
    }
   ],
   "source": [
    "domain = sy.login(email=\"info@openmined.org\",\n",
    "             password=\"changethis\",\n",
    "             port=8081,\n",
    "             dev_mode=True)"
   ]
  },
  {
   "cell_type": "code",
   "execution_count": 4,
   "id": "aa7aad9c",
   "metadata": {},
   "outputs": [
    {
     "data": {
      "text/plain": [
       "True"
      ]
     },
     "execution_count": 4,
     "metadata": {},
     "output_type": "execute_result"
    }
   ],
   "source": [
    "domain.dev_mode"
   ]
  },
  {
   "cell_type": "code",
   "execution_count": 5,
   "id": "d16000e8-c4c7-4a15-9e87-5039f8cddce7",
   "metadata": {},
   "outputs": [],
   "source": [
    "import random"
   ]
  },
  {
   "cell_type": "code",
   "execution_count": null,
   "id": "c900eac5-aa65-4687-bea8-839e613bd9e6",
   "metadata": {},
   "outputs": [],
   "source": []
  },
  {
   "cell_type": "code",
   "execution_count": 6,
   "id": "a3f634ac",
   "metadata": {},
   "outputs": [
    {
     "name": "stdout",
     "output_type": "stream",
     "text": [
      "perform_api_request_generic <class 'abc.ABCMeta'>\n",
      "User created successfully!\n"
     ]
    }
   ],
   "source": [
    "n = int(random.random() * 10000)\n",
    "domain.users.create(email=f\"user{n}@openmined.org\", password=\"testing123\", name=\"User1\")"
   ]
  },
  {
   "cell_type": "code",
   "execution_count": null,
   "id": "0e0b8bbc",
   "metadata": {},
   "outputs": [],
   "source": [
    "domain.users.all()"
   ]
  },
  {
   "cell_type": "code",
   "execution_count": null,
   "id": "d266f910",
   "metadata": {},
   "outputs": [],
   "source": [
    "domain.users.pandas()"
   ]
  },
  {
   "cell_type": "markdown",
   "id": "d89f3bda",
   "metadata": {},
   "source": [
    "# Sending a message with dev_mode = True\n",
    "It uses the new message struct and will trace the client log in jaeger UI"
   ]
  },
  {
   "cell_type": "code",
   "execution_count": null,
   "id": "d2dff060",
   "metadata": {},
   "outputs": [],
   "source": [
    "domain.dev_mode = True"
   ]
  },
  {
   "cell_type": "code",
   "execution_count": null,
   "id": "129790fd",
   "metadata": {},
   "outputs": [],
   "source": [
    "domain.users.create(email=\"user2@openminedd.org\", password=\"testing123\", name=\"User2\")"
   ]
  },
  {
   "cell_type": "code",
   "execution_count": null,
   "id": "793f8a28-cee9-49fb-b031-19effc60c818",
   "metadata": {},
   "outputs": [],
   "source": [
    "import numpy as np"
   ]
  },
  {
   "cell_type": "code",
   "execution_count": null,
   "id": "660456d7-31e1-4209-a5db-bb7ba5e9f979",
   "metadata": {},
   "outputs": [],
   "source": [
    "array = np.array([1, 2, 3])"
   ]
  },
  {
   "cell_type": "code",
   "execution_count": null,
   "id": "2772e10f",
   "metadata": {},
   "outputs": [],
   "source": [
    "array_ptr = array.send(domain, pointable=True, send_to_blob_storage=True)"
   ]
  },
  {
   "cell_type": "code",
   "execution_count": null,
   "id": "b8ea9f1b",
   "metadata": {},
   "outputs": [],
   "source": [
    "array_ptr.get()"
   ]
  },
  {
   "cell_type": "code",
   "execution_count": null,
   "id": "4b91eda9-9b8e-4f60-8655-5b1bf0edd588",
   "metadata": {},
   "outputs": [],
   "source": []
  }
 ],
 "metadata": {
  "kernelspec": {
   "display_name": "Python 3 (ipykernel)",
   "language": "python",
   "name": "python3"
  },
  "language_info": {
   "codemirror_mode": {
    "name": "ipython",
    "version": 3
   },
   "file_extension": ".py",
   "mimetype": "text/x-python",
   "name": "python",
   "nbconvert_exporter": "python",
   "pygments_lexer": "ipython3",
   "version": "3.10.4"
  }
 },
 "nbformat": 4,
 "nbformat_minor": 5
}

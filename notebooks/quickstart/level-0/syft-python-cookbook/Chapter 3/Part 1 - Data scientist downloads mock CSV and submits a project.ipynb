{
 "cells": [
  {
   "cell_type": "code",
   "execution_count": 1,
   "id": "e0f665a0",
   "metadata": {},
   "outputs": [
    {
     "name": "stderr",
     "output_type": "stream",
     "text": [
      "kj/filesystem-disk-unix.c++:1703: warning: PWD environment variable doesn't match current directory; pwd = /Users/koen/workspace/pysyft\n"
     ]
    },
    {
     "name": "stdout",
     "output_type": "stream",
     "text": [
      "SQLite Store Path:\n",
      "!open file:///var/folders/q1/ryq93kwj055dlbpngxv1c7z40000gn/T/7bca415d13ed1ec841f0d0aede098dbb.sqlite\n",
      "\n",
      "> Starting Worker: test-domain-1 - 7bca415d13ed1ec841f0d0aede098dbb - NodeType.DOMAIN - [<class 'syft.core.node.new.user_service.UserService'>, <class 'syft.core.node.new.metadata_service.MetadataService'>, <class 'syft.core.node.new.action_service.ActionService'>, <class 'syft.core.node.new.test_service.TestService'>, <class 'syft.core.node.new.dataset_service.DatasetService'>, <class 'syft.core.node.new.user_code_service.UserCodeService'>, <class 'syft.core.node.new.request_service.RequestService'>, <class 'syft.core.node.new.data_subject_service.DataSubjectService'>, <class 'syft.core.node.new.network_service.NetworkService'>, <class 'syft.core.node.new.policy_service.PolicyService'>, <class 'syft.core.node.new.message_service.MessageService'>, <class 'syft.core.node.new.project_service.ProjectService'>, <class 'syft.core.node.new.data_subject_member_service.DataSubjectMemberService'>]\n"
     ]
    }
   ],
   "source": [
    "from syft import Worker\n",
    "import syft as sy\n",
    "worker = Worker.named(\"test-domain-1\", processes=1, reset=False)\n",
    "root_domain_client = worker.root_client"
   ]
  },
  {
   "cell_type": "markdown",
   "id": "8c9c3595",
   "metadata": {},
   "source": [
    "# Download mock and submit project"
   ]
  },
  {
   "cell_type": "markdown",
   "id": "8c63f823",
   "metadata": {},
   "source": [
    "## Get mock"
   ]
  },
  {
   "cell_type": "code",
   "execution_count": 2,
   "id": "d568e3f3",
   "metadata": {},
   "outputs": [],
   "source": [
    "guest_domain_client = worker.guest_client\n",
    "guest_client = guest_domain_client.login(email=\"jane@caltech.edu\", password=\"abc123\")"
   ]
  },
  {
   "cell_type": "code",
   "execution_count": 3,
   "id": "81c7f134",
   "metadata": {},
   "outputs": [],
   "source": [
    "ds = guest_domain_client.datasets[0]"
   ]
  },
  {
   "cell_type": "code",
   "execution_count": 4,
   "id": "fa97cda8",
   "metadata": {},
   "outputs": [],
   "source": [
    "asset = ds.assets[\"complaints\"]"
   ]
  },
  {
   "cell_type": "code",
   "execution_count": 5,
   "id": "b93f1fd8",
   "metadata": {},
   "outputs": [],
   "source": [
    "complaints = asset.mock"
   ]
  },
  {
   "cell_type": "markdown",
   "id": "e89ffc0e",
   "metadata": {},
   "source": [
    "## Selecting only noise complaints\n"
   ]
  },
  {
   "cell_type": "markdown",
   "id": "7bae028c",
   "metadata": {},
   "source": [
    "I'd like to know which borough has the most noise complaints. First, we'll take a look at the data to see what it looks like:"
   ]
  },
  {
   "cell_type": "code",
   "execution_count": 6,
   "id": "d644bed3",
   "metadata": {},
   "outputs": [
    {
     "data": {
      "text/html": [
       "<div>\n",
       "<style scoped>\n",
       "    .dataframe tbody tr th:only-of-type {\n",
       "        vertical-align: middle;\n",
       "    }\n",
       "\n",
       "    .dataframe tbody tr th {\n",
       "        vertical-align: top;\n",
       "    }\n",
       "\n",
       "    .dataframe thead th {\n",
       "        text-align: right;\n",
       "    }\n",
       "</style>\n",
       "<table border=\"1\" class=\"dataframe\">\n",
       "  <thead>\n",
       "    <tr style=\"text-align: right;\">\n",
       "      <th></th>\n",
       "      <th>Unique Key</th>\n",
       "      <th>Created Date</th>\n",
       "      <th>Closed Date</th>\n",
       "      <th>Agency</th>\n",
       "      <th>Agency Name</th>\n",
       "      <th>Complaint Type</th>\n",
       "      <th>Descriptor</th>\n",
       "      <th>Location Type</th>\n",
       "      <th>Incident Zip</th>\n",
       "      <th>Incident Address</th>\n",
       "      <th>...</th>\n",
       "      <th>Bridge Highway Name</th>\n",
       "      <th>Bridge Highway Direction</th>\n",
       "      <th>Road Ramp</th>\n",
       "      <th>Bridge Highway Segment</th>\n",
       "      <th>Garage Lot Name</th>\n",
       "      <th>Ferry Direction</th>\n",
       "      <th>Ferry Terminal Name</th>\n",
       "      <th>Latitude</th>\n",
       "      <th>Longitude</th>\n",
       "      <th>Location</th>\n",
       "    </tr>\n",
       "  </thead>\n",
       "  <tbody>\n",
       "    <tr>\n",
       "      <th>0</th>\n",
       "      <td>504803</td>\n",
       "      <td>1997-12-21 06:54:53</td>\n",
       "      <td>1978-07-30 15:04:29</td>\n",
       "      <td>DPR</td>\n",
       "      <td>Sandy Keller</td>\n",
       "      <td>'Animal in a Park'</td>\n",
       "      <td>Branch or Limb Has Fallen Down</td>\n",
       "      <td>School</td>\n",
       "      <td>25050</td>\n",
       "      <td>49284 Darren Parks Apt. 211\\nPort Devin, NM 97029</td>\n",
       "      <td>...</td>\n",
       "      <td>None</td>\n",
       "      <td>Eastbound</td>\n",
       "      <td>Ramp</td>\n",
       "      <td>Harding Ave (Exit 9) - Throgs Neck Br</td>\n",
       "      <td>Far Rockaway #2 Field</td>\n",
       "      <td>None</td>\n",
       "      <td>JEWISH ASSOCIATION FOR SERVICES FOR THE AGED (...</td>\n",
       "      <td>-70.225696</td>\n",
       "      <td>-175.691661</td>\n",
       "      <td>[108.354661, 5.244617]</td>\n",
       "    </tr>\n",
       "    <tr>\n",
       "      <th>1</th>\n",
       "      <td>580809</td>\n",
       "      <td>2012-04-24 22:10:10</td>\n",
       "      <td>2008-03-03 23:13:05</td>\n",
       "      <td>DPR</td>\n",
       "      <td>Cassandra Sanders</td>\n",
       "      <td>Noise - Street/Sidewalk</td>\n",
       "      <td>Broken Fence</td>\n",
       "      <td>Other (explain in Complaint Details)</td>\n",
       "      <td>93141</td>\n",
       "      <td>8761 Mayo Path Suite 226\\nLake Jacqueline, LA ...</td>\n",
       "      <td>...</td>\n",
       "      <td>FDR Dr</td>\n",
       "      <td>West/Toward Triborough Br</td>\n",
       "      <td>Ramp</td>\n",
       "      <td>Harding Ave (Exit 9) - Throgs Neck Br</td>\n",
       "      <td>Far Rockaway #2 Field</td>\n",
       "      <td>Staten Island Bound</td>\n",
       "      <td>IRA WEINSTEIN</td>\n",
       "      <td>-116.358749</td>\n",
       "      <td>-63.095821</td>\n",
       "      <td>[178.776026, 55.882875]</td>\n",
       "    </tr>\n",
       "    <tr>\n",
       "      <th>2</th>\n",
       "      <td>753216</td>\n",
       "      <td>1985-07-30 18:17:26</td>\n",
       "      <td>1993-11-24 02:17:04</td>\n",
       "      <td>DOHMH</td>\n",
       "      <td>David Barnett</td>\n",
       "      <td>'Animal in a Park'</td>\n",
       "      <td>Broken Fence</td>\n",
       "      <td>Store/Commercial</td>\n",
       "      <td>65716</td>\n",
       "      <td>8804 Scott Forks Apt. 511\\nBooneburgh, IN 17496</td>\n",
       "      <td>...</td>\n",
       "      <td>Prospect Expwy</td>\n",
       "      <td>North/Westchester County Bound</td>\n",
       "      <td>Roadway</td>\n",
       "      <td>Grand Central Pkwy (Exit 1 E-W)</td>\n",
       "      <td>White Plains Road  Field</td>\n",
       "      <td>None</td>\n",
       "      <td>Molinari</td>\n",
       "      <td>118.941423</td>\n",
       "      <td>-152.828137</td>\n",
       "      <td>[-129.871898, -2.675889]</td>\n",
       "    </tr>\n",
       "    <tr>\n",
       "      <th>3</th>\n",
       "      <td>827745</td>\n",
       "      <td>1982-07-29 21:28:48</td>\n",
       "      <td>2014-03-09 20:35:31</td>\n",
       "      <td>DOHMH</td>\n",
       "      <td>Lisa Allison</td>\n",
       "      <td>'Animal in a Park'</td>\n",
       "      <td>Broken Glass</td>\n",
       "      <td>None</td>\n",
       "      <td>55577</td>\n",
       "      <td>512 Vasquez Turnpike\\nNicoleside, HI 64372</td>\n",
       "      <td>...</td>\n",
       "      <td>Washington Br/181 Street Br.</td>\n",
       "      <td>Brooklyn Bound</td>\n",
       "      <td>None</td>\n",
       "      <td>Grand Central Pkwy (Exit 1 E-W)</td>\n",
       "      <td>Broome and Ludlow Field</td>\n",
       "      <td>Staten Island Bound</td>\n",
       "      <td>HOWARD BEACH SENIOR CENTER</td>\n",
       "      <td>54.995201</td>\n",
       "      <td>-150.423963</td>\n",
       "      <td>[-9.467789, -78.315292]</td>\n",
       "    </tr>\n",
       "    <tr>\n",
       "      <th>4</th>\n",
       "      <td>530222</td>\n",
       "      <td>2011-11-14 14:10:30</td>\n",
       "      <td>2008-07-27 17:51:38</td>\n",
       "      <td>DOHMH</td>\n",
       "      <td>Michael Juarez</td>\n",
       "      <td>Illegal Parking</td>\n",
       "      <td>Broken Fence</td>\n",
       "      <td>Catering Hall</td>\n",
       "      <td>54361</td>\n",
       "      <td>178 Rivera Ports\\nTracytown, GU 59651</td>\n",
       "      <td>...</td>\n",
       "      <td>Bronx River Pkwy</td>\n",
       "      <td>Eastbound</td>\n",
       "      <td>None</td>\n",
       "      <td>Harding Ave (Exit 9) - Throgs Neck Br</td>\n",
       "      <td>St. George Field</td>\n",
       "      <td>Manhattan Bound</td>\n",
       "      <td>DORIS GREEN</td>\n",
       "      <td>58.179687</td>\n",
       "      <td>-22.112503</td>\n",
       "      <td>[-22.112503, 4.010103]</td>\n",
       "    </tr>\n",
       "  </tbody>\n",
       "</table>\n",
       "<p>5 rows × 52 columns</p>\n",
       "</div>"
      ],
      "text/plain": [
       "   Unique Key        Created Date         Closed Date Agency  \\\n",
       "0      504803 1997-12-21 06:54:53 1978-07-30 15:04:29    DPR   \n",
       "1      580809 2012-04-24 22:10:10 2008-03-03 23:13:05    DPR   \n",
       "2      753216 1985-07-30 18:17:26 1993-11-24 02:17:04  DOHMH   \n",
       "3      827745 1982-07-29 21:28:48 2014-03-09 20:35:31  DOHMH   \n",
       "4      530222 2011-11-14 14:10:30 2008-07-27 17:51:38  DOHMH   \n",
       "\n",
       "         Agency Name           Complaint Type                      Descriptor  \\\n",
       "0       Sandy Keller       'Animal in a Park'  Branch or Limb Has Fallen Down   \n",
       "1  Cassandra Sanders  Noise - Street/Sidewalk                    Broken Fence   \n",
       "2      David Barnett       'Animal in a Park'                    Broken Fence   \n",
       "3       Lisa Allison       'Animal in a Park'                    Broken Glass   \n",
       "4     Michael Juarez          Illegal Parking                    Broken Fence   \n",
       "\n",
       "                          Location Type Incident Zip  \\\n",
       "0                                School        25050   \n",
       "1  Other (explain in Complaint Details)        93141   \n",
       "2                      Store/Commercial        65716   \n",
       "3                                  None        55577   \n",
       "4                         Catering Hall        54361   \n",
       "\n",
       "                                    Incident Address  ...  \\\n",
       "0  49284 Darren Parks Apt. 211\\nPort Devin, NM 97029  ...   \n",
       "1  8761 Mayo Path Suite 226\\nLake Jacqueline, LA ...  ...   \n",
       "2    8804 Scott Forks Apt. 511\\nBooneburgh, IN 17496  ...   \n",
       "3         512 Vasquez Turnpike\\nNicoleside, HI 64372  ...   \n",
       "4              178 Rivera Ports\\nTracytown, GU 59651  ...   \n",
       "\n",
       "            Bridge Highway Name        Bridge Highway Direction Road Ramp  \\\n",
       "0                          None                       Eastbound      Ramp   \n",
       "1                        FDR Dr       West/Toward Triborough Br      Ramp   \n",
       "2                Prospect Expwy  North/Westchester County Bound   Roadway   \n",
       "3  Washington Br/181 Street Br.                  Brooklyn Bound      None   \n",
       "4              Bronx River Pkwy                       Eastbound      None   \n",
       "\n",
       "                  Bridge Highway Segment           Garage Lot Name  \\\n",
       "0  Harding Ave (Exit 9) - Throgs Neck Br     Far Rockaway #2 Field   \n",
       "1  Harding Ave (Exit 9) - Throgs Neck Br     Far Rockaway #2 Field   \n",
       "2        Grand Central Pkwy (Exit 1 E-W)  White Plains Road  Field   \n",
       "3        Grand Central Pkwy (Exit 1 E-W)   Broome and Ludlow Field   \n",
       "4  Harding Ave (Exit 9) - Throgs Neck Br          St. George Field   \n",
       "\n",
       "       Ferry Direction                                Ferry Terminal Name  \\\n",
       "0                 None  JEWISH ASSOCIATION FOR SERVICES FOR THE AGED (...   \n",
       "1  Staten Island Bound                                      IRA WEINSTEIN   \n",
       "2                 None                                           Molinari   \n",
       "3  Staten Island Bound                         HOWARD BEACH SENIOR CENTER   \n",
       "4      Manhattan Bound                                        DORIS GREEN   \n",
       "\n",
       "      Latitude    Longitude                  Location  \n",
       "0   -70.225696  -175.691661    [108.354661, 5.244617]  \n",
       "1  -116.358749   -63.095821   [178.776026, 55.882875]  \n",
       "2   118.941423  -152.828137  [-129.871898, -2.675889]  \n",
       "3    54.995201  -150.423963   [-9.467789, -78.315292]  \n",
       "4    58.179687   -22.112503    [-22.112503, 4.010103]  \n",
       "\n",
       "[5 rows x 52 columns]"
      ]
     },
     "execution_count": 6,
     "metadata": {},
     "output_type": "execute_result"
    }
   ],
   "source": [
    "complaints[:5]"
   ]
  },
  {
   "cell_type": "markdown",
   "id": "9af15f08",
   "metadata": {},
   "source": [
    "To get the noise complaints, we need to find the rows where the \"Complaint Type\" column is \"Noise - Street/Sidewalk\". I'll show you how to do that, and then explain what's going on.\n",
    "\n"
   ]
  },
  {
   "cell_type": "code",
   "execution_count": 7,
   "id": "430a063d",
   "metadata": {},
   "outputs": [
    {
     "data": {
      "text/html": [
       "<div>\n",
       "<style scoped>\n",
       "    .dataframe tbody tr th:only-of-type {\n",
       "        vertical-align: middle;\n",
       "    }\n",
       "\n",
       "    .dataframe tbody tr th {\n",
       "        vertical-align: top;\n",
       "    }\n",
       "\n",
       "    .dataframe thead th {\n",
       "        text-align: right;\n",
       "    }\n",
       "</style>\n",
       "<table border=\"1\" class=\"dataframe\">\n",
       "  <thead>\n",
       "    <tr style=\"text-align: right;\">\n",
       "      <th></th>\n",
       "      <th>Unique Key</th>\n",
       "      <th>Created Date</th>\n",
       "      <th>Closed Date</th>\n",
       "      <th>Agency</th>\n",
       "      <th>Agency Name</th>\n",
       "      <th>Complaint Type</th>\n",
       "      <th>Descriptor</th>\n",
       "      <th>Location Type</th>\n",
       "      <th>Incident Zip</th>\n",
       "      <th>Incident Address</th>\n",
       "      <th>...</th>\n",
       "      <th>Bridge Highway Name</th>\n",
       "      <th>Bridge Highway Direction</th>\n",
       "      <th>Road Ramp</th>\n",
       "      <th>Bridge Highway Segment</th>\n",
       "      <th>Garage Lot Name</th>\n",
       "      <th>Ferry Direction</th>\n",
       "      <th>Ferry Terminal Name</th>\n",
       "      <th>Latitude</th>\n",
       "      <th>Longitude</th>\n",
       "      <th>Location</th>\n",
       "    </tr>\n",
       "  </thead>\n",
       "  <tbody>\n",
       "    <tr>\n",
       "      <th>1</th>\n",
       "      <td>580809</td>\n",
       "      <td>2012-04-24 22:10:10</td>\n",
       "      <td>2008-03-03 23:13:05</td>\n",
       "      <td>DPR</td>\n",
       "      <td>Cassandra Sanders</td>\n",
       "      <td>Noise - Street/Sidewalk</td>\n",
       "      <td>Broken Fence</td>\n",
       "      <td>Other (explain in Complaint Details)</td>\n",
       "      <td>93141</td>\n",
       "      <td>8761 Mayo Path Suite 226\\nLake Jacqueline, LA ...</td>\n",
       "      <td>...</td>\n",
       "      <td>FDR Dr</td>\n",
       "      <td>West/Toward Triborough Br</td>\n",
       "      <td>Ramp</td>\n",
       "      <td>Harding Ave (Exit 9) - Throgs Neck Br</td>\n",
       "      <td>Far Rockaway #2 Field</td>\n",
       "      <td>Staten Island Bound</td>\n",
       "      <td>IRA WEINSTEIN</td>\n",
       "      <td>-116.358749</td>\n",
       "      <td>-63.095821</td>\n",
       "      <td>[178.776026, 55.882875]</td>\n",
       "    </tr>\n",
       "    <tr>\n",
       "      <th>5</th>\n",
       "      <td>609185</td>\n",
       "      <td>1975-06-20 11:43:22</td>\n",
       "      <td>1989-08-03 12:24:07</td>\n",
       "      <td>DPR</td>\n",
       "      <td>Melanie Smith</td>\n",
       "      <td>Noise - Street/Sidewalk</td>\n",
       "      <td>Broken Fence</td>\n",
       "      <td>School</td>\n",
       "      <td>56222</td>\n",
       "      <td>14860 Christina Shoal\\nAliciaborough, MS 97657</td>\n",
       "      <td>...</td>\n",
       "      <td>Nassau Expwy</td>\n",
       "      <td>Eastbound/To Ocean Pkwy</td>\n",
       "      <td>Ramp</td>\n",
       "      <td>Hamilton Ave (Exit 2A) - Gowanus Expwy (I-278)...</td>\n",
       "      <td>Bayside Field</td>\n",
       "      <td>Manhattan Bound</td>\n",
       "      <td>Spirit of America</td>\n",
       "      <td>31.657675</td>\n",
       "      <td>-137.047176</td>\n",
       "      <td>[-40.788739, 76.041059]</td>\n",
       "    </tr>\n",
       "    <tr>\n",
       "      <th>9</th>\n",
       "      <td>724367</td>\n",
       "      <td>2004-01-19 05:14:33</td>\n",
       "      <td>2005-07-09 05:42:55</td>\n",
       "      <td>DPR</td>\n",
       "      <td>Jacob Harris</td>\n",
       "      <td>Noise - Street/Sidewalk</td>\n",
       "      <td>Broken Glass</td>\n",
       "      <td>Street Address</td>\n",
       "      <td>79656</td>\n",
       "      <td>22691 Mary Mills Apt. 092\\nScottstad, FM 35863</td>\n",
       "      <td>...</td>\n",
       "      <td>Queens Midtown Tunnel</td>\n",
       "      <td>East Bound</td>\n",
       "      <td>Ramp</td>\n",
       "      <td>Grand Central Pkwy (Exit 1 E-W)</td>\n",
       "      <td>St. George Field</td>\n",
       "      <td>Manhattan Bound</td>\n",
       "      <td>St. George Terminal (Staten Island)</td>\n",
       "      <td>-108.383224</td>\n",
       "      <td>73.794371</td>\n",
       "      <td>[49.299008, 22.388005]</td>\n",
       "    </tr>\n",
       "  </tbody>\n",
       "</table>\n",
       "<p>3 rows × 52 columns</p>\n",
       "</div>"
      ],
      "text/plain": [
       "   Unique Key        Created Date         Closed Date Agency  \\\n",
       "1      580809 2012-04-24 22:10:10 2008-03-03 23:13:05    DPR   \n",
       "5      609185 1975-06-20 11:43:22 1989-08-03 12:24:07    DPR   \n",
       "9      724367 2004-01-19 05:14:33 2005-07-09 05:42:55    DPR   \n",
       "\n",
       "         Agency Name           Complaint Type    Descriptor  \\\n",
       "1  Cassandra Sanders  Noise - Street/Sidewalk  Broken Fence   \n",
       "5      Melanie Smith  Noise - Street/Sidewalk  Broken Fence   \n",
       "9       Jacob Harris  Noise - Street/Sidewalk  Broken Glass   \n",
       "\n",
       "                          Location Type Incident Zip  \\\n",
       "1  Other (explain in Complaint Details)        93141   \n",
       "5                                School        56222   \n",
       "9                        Street Address        79656   \n",
       "\n",
       "                                    Incident Address  ...  \\\n",
       "1  8761 Mayo Path Suite 226\\nLake Jacqueline, LA ...  ...   \n",
       "5     14860 Christina Shoal\\nAliciaborough, MS 97657  ...   \n",
       "9     22691 Mary Mills Apt. 092\\nScottstad, FM 35863  ...   \n",
       "\n",
       "     Bridge Highway Name   Bridge Highway Direction Road Ramp  \\\n",
       "1                 FDR Dr  West/Toward Triborough Br      Ramp   \n",
       "5           Nassau Expwy    Eastbound/To Ocean Pkwy      Ramp   \n",
       "9  Queens Midtown Tunnel                 East Bound      Ramp   \n",
       "\n",
       "                              Bridge Highway Segment        Garage Lot Name  \\\n",
       "1              Harding Ave (Exit 9) - Throgs Neck Br  Far Rockaway #2 Field   \n",
       "5  Hamilton Ave (Exit 2A) - Gowanus Expwy (I-278)...          Bayside Field   \n",
       "9                    Grand Central Pkwy (Exit 1 E-W)       St. George Field   \n",
       "\n",
       "       Ferry Direction                  Ferry Terminal Name     Latitude  \\\n",
       "1  Staten Island Bound                        IRA WEINSTEIN  -116.358749   \n",
       "5      Manhattan Bound                    Spirit of America    31.657675   \n",
       "9      Manhattan Bound  St. George Terminal (Staten Island)  -108.383224   \n",
       "\n",
       "     Longitude                 Location  \n",
       "1   -63.095821  [178.776026, 55.882875]  \n",
       "5  -137.047176  [-40.788739, 76.041059]  \n",
       "9    73.794371   [49.299008, 22.388005]  \n",
       "\n",
       "[3 rows x 52 columns]"
      ]
     },
     "execution_count": 7,
     "metadata": {},
     "output_type": "execute_result"
    }
   ],
   "source": [
    "noise_complaints = complaints[complaints['Complaint Type'] == \"Noise - Street/Sidewalk\"]\n",
    "noise_complaints[:3]"
   ]
  },
  {
   "cell_type": "markdown",
   "id": "e5242fab",
   "metadata": {},
   "source": [
    "If you look at noise_complaints, you'll see that this worked, and it only contains complaints with the right complaint type. But how does this work? Let's deconstruct it into two pieces"
   ]
  },
  {
   "cell_type": "code",
   "execution_count": 8,
   "id": "d0a54359",
   "metadata": {},
   "outputs": [
    {
     "data": {
      "text/plain": [
       "0         False\n",
       "1          True\n",
       "2         False\n",
       "3         False\n",
       "4         False\n",
       "          ...  \n",
       "111064    False\n",
       "111065    False\n",
       "111066     True\n",
       "111067    False\n",
       "111068     True\n",
       "Name: Complaint Type, Length: 111069, dtype: bool"
      ]
     },
     "execution_count": 8,
     "metadata": {},
     "output_type": "execute_result"
    }
   ],
   "source": [
    "complaints['Complaint Type'] == \"Noise - Street/Sidewalk\""
   ]
  },
  {
   "cell_type": "markdown",
   "id": "d26a8fe3",
   "metadata": {},
   "source": [
    "This is a big array of Trues and Falses, one for each row in our dataframe. When we index our dataframe with this array, we get just the rows where our boolean array evaluated to True. It's important to note that for row filtering by a boolean array the length of our dataframe's index must be the same length as the boolean array used for filtering.\n",
    "\n",
    "You can also combine more than one condition with the & operator like this:"
   ]
  },
  {
   "cell_type": "code",
   "execution_count": 9,
   "id": "f6558b8e",
   "metadata": {},
   "outputs": [
    {
     "data": {
      "text/html": [
       "<div>\n",
       "<style scoped>\n",
       "    .dataframe tbody tr th:only-of-type {\n",
       "        vertical-align: middle;\n",
       "    }\n",
       "\n",
       "    .dataframe tbody tr th {\n",
       "        vertical-align: top;\n",
       "    }\n",
       "\n",
       "    .dataframe thead th {\n",
       "        text-align: right;\n",
       "    }\n",
       "</style>\n",
       "<table border=\"1\" class=\"dataframe\">\n",
       "  <thead>\n",
       "    <tr style=\"text-align: right;\">\n",
       "      <th></th>\n",
       "      <th>Unique Key</th>\n",
       "      <th>Created Date</th>\n",
       "      <th>Closed Date</th>\n",
       "      <th>Agency</th>\n",
       "      <th>Agency Name</th>\n",
       "      <th>Complaint Type</th>\n",
       "      <th>Descriptor</th>\n",
       "      <th>Location Type</th>\n",
       "      <th>Incident Zip</th>\n",
       "      <th>Incident Address</th>\n",
       "      <th>...</th>\n",
       "      <th>Bridge Highway Name</th>\n",
       "      <th>Bridge Highway Direction</th>\n",
       "      <th>Road Ramp</th>\n",
       "      <th>Bridge Highway Segment</th>\n",
       "      <th>Garage Lot Name</th>\n",
       "      <th>Ferry Direction</th>\n",
       "      <th>Ferry Terminal Name</th>\n",
       "      <th>Latitude</th>\n",
       "      <th>Longitude</th>\n",
       "      <th>Location</th>\n",
       "    </tr>\n",
       "  </thead>\n",
       "  <tbody>\n",
       "    <tr>\n",
       "      <th>66</th>\n",
       "      <td>724234</td>\n",
       "      <td>1998-11-11 21:07:20</td>\n",
       "      <td>1985-06-25 22:45:57</td>\n",
       "      <td>DPR</td>\n",
       "      <td>Lindsey Murray</td>\n",
       "      <td>Noise - Street/Sidewalk</td>\n",
       "      <td>Branches Damaged</td>\n",
       "      <td>Service Provider</td>\n",
       "      <td>82458</td>\n",
       "      <td>76075 Calderon Roads\\nSuarezland, AL 94786</td>\n",
       "      <td>...</td>\n",
       "      <td>Queens Midtown Tunnel</td>\n",
       "      <td>West/Manhattan Bound</td>\n",
       "      <td>Ramp</td>\n",
       "      <td>Grand Central Pkwy (Exit 1 E-W)</td>\n",
       "      <td>Astoria Field</td>\n",
       "      <td>None</td>\n",
       "      <td>YNES KING</td>\n",
       "      <td>170.183775</td>\n",
       "      <td>-78.315292</td>\n",
       "      <td>[-17.809010, -72.465675]</td>\n",
       "    </tr>\n",
       "    <tr>\n",
       "      <th>85</th>\n",
       "      <td>289007</td>\n",
       "      <td>1997-12-19 16:07:59</td>\n",
       "      <td>2016-08-29 16:40:41</td>\n",
       "      <td>NYPD</td>\n",
       "      <td>Toni Ramirez</td>\n",
       "      <td>Noise - Street/Sidewalk</td>\n",
       "      <td>Broken Fence</td>\n",
       "      <td>Other</td>\n",
       "      <td>40588</td>\n",
       "      <td>355 Laura Green\\nWest Vincent, OK 25679</td>\n",
       "      <td>...</td>\n",
       "      <td>West Shore Expwy</td>\n",
       "      <td>North/Eastbound</td>\n",
       "      <td>Roadway</td>\n",
       "      <td>Grand Central Pkwy (Exit 10) - 69th Rd-Jewel A...</td>\n",
       "      <td>Ditmars #1 and #2 Field</td>\n",
       "      <td>Manhattan Bound</td>\n",
       "      <td>DORIS GREEN</td>\n",
       "      <td>-50.632517</td>\n",
       "      <td>68.951825</td>\n",
       "      <td>[39.421562, -152.828137]</td>\n",
       "    </tr>\n",
       "    <tr>\n",
       "      <th>118</th>\n",
       "      <td>557758</td>\n",
       "      <td>1982-04-17 14:23:22</td>\n",
       "      <td>1997-12-19 16:07:59</td>\n",
       "      <td>DOHMH</td>\n",
       "      <td>Robin Rocha</td>\n",
       "      <td>Noise - Street/Sidewalk</td>\n",
       "      <td>Broken Fence</td>\n",
       "      <td>Street/Sidewalk</td>\n",
       "      <td>60689</td>\n",
       "      <td>441 Ewing Overpass Suite 728\\nDeborahstad, CA ...</td>\n",
       "      <td>...</td>\n",
       "      <td>Alexander Hamilton/I-95 Cross Bronx Br</td>\n",
       "      <td>South/Manhattan Bound</td>\n",
       "      <td>Roadway</td>\n",
       "      <td>GrandCentral Pkwy/VanWyck Expwy/College Point ...</td>\n",
       "      <td>Flushing #3 Field</td>\n",
       "      <td>None</td>\n",
       "      <td>STEIN SENIOR CENTER</td>\n",
       "      <td>6.825489</td>\n",
       "      <td>-31.184482</td>\n",
       "      <td>[49.299008, -32.048316]</td>\n",
       "    </tr>\n",
       "    <tr>\n",
       "      <th>132</th>\n",
       "      <td>573366</td>\n",
       "      <td>2022-07-03 06:00:43</td>\n",
       "      <td>1994-02-27 06:23:33</td>\n",
       "      <td>DPR</td>\n",
       "      <td>Tanya Watson</td>\n",
       "      <td>Noise - Street/Sidewalk</td>\n",
       "      <td>Broken Glass</td>\n",
       "      <td>Club/Bar/Restaurant</td>\n",
       "      <td>29054</td>\n",
       "      <td>6831 Robinson Bypass Suite 325\\nRossland, ND 8...</td>\n",
       "      <td>...</td>\n",
       "      <td>BQE/Gowanus Expwy</td>\n",
       "      <td>South/New Jersey Bound</td>\n",
       "      <td>Roadway</td>\n",
       "      <td>GrandCentral Pkwy/VanWyck Expwy/College Point ...</td>\n",
       "      <td>SI Ferry Terminal</td>\n",
       "      <td>Staten Island Bound</td>\n",
       "      <td>FRANCISCA URBANO</td>\n",
       "      <td>-135.818923</td>\n",
       "      <td>39.421562</td>\n",
       "      <td>[-164.485647, 84.951557]</td>\n",
       "    </tr>\n",
       "    <tr>\n",
       "      <th>145</th>\n",
       "      <td>487971</td>\n",
       "      <td>2008-08-11 15:13:13</td>\n",
       "      <td>1982-04-17 14:23:22</td>\n",
       "      <td>NYPD</td>\n",
       "      <td>Jennifer Shaw</td>\n",
       "      <td>Noise - Street/Sidewalk</td>\n",
       "      <td>Branch or Limb Has Fallen Down</td>\n",
       "      <td>Medical Facility</td>\n",
       "      <td>43195</td>\n",
       "      <td>0144 Watson Cove\\nLake Lawrenceberg, NM 91425</td>\n",
       "      <td>...</td>\n",
       "      <td>None</td>\n",
       "      <td>Manhattan Bound</td>\n",
       "      <td>None</td>\n",
       "      <td>Grand Central Pkwy (Exit 1 E-W)</td>\n",
       "      <td>Flatbush/Caton Field</td>\n",
       "      <td>None</td>\n",
       "      <td>DORIS GREEN</td>\n",
       "      <td>-129.871898</td>\n",
       "      <td>-51.383282</td>\n",
       "      <td>[172.892616, -149.160972]</td>\n",
       "    </tr>\n",
       "  </tbody>\n",
       "</table>\n",
       "<p>5 rows × 52 columns</p>\n",
       "</div>"
      ],
      "text/plain": [
       "     Unique Key        Created Date         Closed Date Agency  \\\n",
       "66       724234 1998-11-11 21:07:20 1985-06-25 22:45:57    DPR   \n",
       "85       289007 1997-12-19 16:07:59 2016-08-29 16:40:41   NYPD   \n",
       "118      557758 1982-04-17 14:23:22 1997-12-19 16:07:59  DOHMH   \n",
       "132      573366 2022-07-03 06:00:43 1994-02-27 06:23:33    DPR   \n",
       "145      487971 2008-08-11 15:13:13 1982-04-17 14:23:22   NYPD   \n",
       "\n",
       "        Agency Name           Complaint Type                      Descriptor  \\\n",
       "66   Lindsey Murray  Noise - Street/Sidewalk                Branches Damaged   \n",
       "85     Toni Ramirez  Noise - Street/Sidewalk                    Broken Fence   \n",
       "118     Robin Rocha  Noise - Street/Sidewalk                    Broken Fence   \n",
       "132    Tanya Watson  Noise - Street/Sidewalk                    Broken Glass   \n",
       "145   Jennifer Shaw  Noise - Street/Sidewalk  Branch or Limb Has Fallen Down   \n",
       "\n",
       "           Location Type Incident Zip  \\\n",
       "66      Service Provider        82458   \n",
       "85                 Other        40588   \n",
       "118      Street/Sidewalk        60689   \n",
       "132  Club/Bar/Restaurant        29054   \n",
       "145     Medical Facility        43195   \n",
       "\n",
       "                                      Incident Address  ...  \\\n",
       "66          76075 Calderon Roads\\nSuarezland, AL 94786  ...   \n",
       "85             355 Laura Green\\nWest Vincent, OK 25679  ...   \n",
       "118  441 Ewing Overpass Suite 728\\nDeborahstad, CA ...  ...   \n",
       "132  6831 Robinson Bypass Suite 325\\nRossland, ND 8...  ...   \n",
       "145      0144 Watson Cove\\nLake Lawrenceberg, NM 91425  ...   \n",
       "\n",
       "                        Bridge Highway Name Bridge Highway Direction  \\\n",
       "66                    Queens Midtown Tunnel     West/Manhattan Bound   \n",
       "85                         West Shore Expwy          North/Eastbound   \n",
       "118  Alexander Hamilton/I-95 Cross Bronx Br    South/Manhattan Bound   \n",
       "132                       BQE/Gowanus Expwy   South/New Jersey Bound   \n",
       "145                                    None          Manhattan Bound   \n",
       "\n",
       "    Road Ramp                             Bridge Highway Segment  \\\n",
       "66       Ramp                    Grand Central Pkwy (Exit 1 E-W)   \n",
       "85    Roadway  Grand Central Pkwy (Exit 10) - 69th Rd-Jewel A...   \n",
       "118   Roadway  GrandCentral Pkwy/VanWyck Expwy/College Point ...   \n",
       "132   Roadway  GrandCentral Pkwy/VanWyck Expwy/College Point ...   \n",
       "145      None                    Grand Central Pkwy (Exit 1 E-W)   \n",
       "\n",
       "             Garage Lot Name      Ferry Direction  Ferry Terminal Name  \\\n",
       "66             Astoria Field                 None            YNES KING   \n",
       "85   Ditmars #1 and #2 Field      Manhattan Bound          DORIS GREEN   \n",
       "118        Flushing #3 Field                 None  STEIN SENIOR CENTER   \n",
       "132        SI Ferry Terminal  Staten Island Bound     FRANCISCA URBANO   \n",
       "145     Flatbush/Caton Field                 None          DORIS GREEN   \n",
       "\n",
       "        Latitude   Longitude                   Location  \n",
       "66    170.183775  -78.315292   [-17.809010, -72.465675]  \n",
       "85    -50.632517   68.951825   [39.421562, -152.828137]  \n",
       "118     6.825489  -31.184482    [49.299008, -32.048316]  \n",
       "132  -135.818923   39.421562   [-164.485647, 84.951557]  \n",
       "145  -129.871898  -51.383282  [172.892616, -149.160972]  \n",
       "\n",
       "[5 rows x 52 columns]"
      ]
     },
     "execution_count": 9,
     "metadata": {},
     "output_type": "execute_result"
    }
   ],
   "source": [
    "is_noise = (complaints['Complaint Type'] == \"Noise - Street/Sidewalk\")\n",
    "in_brooklyn = complaints['Borough'] == \"BROOKLYN\"\n",
    "complaints[is_noise & in_brooklyn][:5]"
   ]
  },
  {
   "cell_type": "markdown",
   "id": "17bd67be",
   "metadata": {},
   "source": [
    "Or if we just wanted a few columns:\n",
    "\n"
   ]
  },
  {
   "cell_type": "code",
   "execution_count": 10,
   "id": "715a9a30",
   "metadata": {},
   "outputs": [
    {
     "data": {
      "text/html": [
       "<div>\n",
       "<style scoped>\n",
       "    .dataframe tbody tr th:only-of-type {\n",
       "        vertical-align: middle;\n",
       "    }\n",
       "\n",
       "    .dataframe tbody tr th {\n",
       "        vertical-align: top;\n",
       "    }\n",
       "\n",
       "    .dataframe thead th {\n",
       "        text-align: right;\n",
       "    }\n",
       "</style>\n",
       "<table border=\"1\" class=\"dataframe\">\n",
       "  <thead>\n",
       "    <tr style=\"text-align: right;\">\n",
       "      <th></th>\n",
       "      <th>Complaint Type</th>\n",
       "      <th>Borough</th>\n",
       "      <th>Created Date</th>\n",
       "      <th>Descriptor</th>\n",
       "    </tr>\n",
       "  </thead>\n",
       "  <tbody>\n",
       "    <tr>\n",
       "      <th>66</th>\n",
       "      <td>Noise - Street/Sidewalk</td>\n",
       "      <td>BROOKLYN</td>\n",
       "      <td>1998-11-11 21:07:20</td>\n",
       "      <td>Branches Damaged</td>\n",
       "    </tr>\n",
       "    <tr>\n",
       "      <th>85</th>\n",
       "      <td>Noise - Street/Sidewalk</td>\n",
       "      <td>BROOKLYN</td>\n",
       "      <td>1997-12-19 16:07:59</td>\n",
       "      <td>Broken Fence</td>\n",
       "    </tr>\n",
       "    <tr>\n",
       "      <th>118</th>\n",
       "      <td>Noise - Street/Sidewalk</td>\n",
       "      <td>BROOKLYN</td>\n",
       "      <td>1982-04-17 14:23:22</td>\n",
       "      <td>Broken Fence</td>\n",
       "    </tr>\n",
       "    <tr>\n",
       "      <th>132</th>\n",
       "      <td>Noise - Street/Sidewalk</td>\n",
       "      <td>BROOKLYN</td>\n",
       "      <td>2022-07-03 06:00:43</td>\n",
       "      <td>Broken Glass</td>\n",
       "    </tr>\n",
       "    <tr>\n",
       "      <th>145</th>\n",
       "      <td>Noise - Street/Sidewalk</td>\n",
       "      <td>BROOKLYN</td>\n",
       "      <td>2008-08-11 15:13:13</td>\n",
       "      <td>Branch or Limb Has Fallen Down</td>\n",
       "    </tr>\n",
       "    <tr>\n",
       "      <th>148</th>\n",
       "      <td>Noise - Street/Sidewalk</td>\n",
       "      <td>BROOKLYN</td>\n",
       "      <td>1998-06-19 09:05:27</td>\n",
       "      <td>Broken Fence</td>\n",
       "    </tr>\n",
       "    <tr>\n",
       "      <th>171</th>\n",
       "      <td>Noise - Street/Sidewalk</td>\n",
       "      <td>BROOKLYN</td>\n",
       "      <td>1999-11-18 02:49:16</td>\n",
       "      <td>Broken Glass</td>\n",
       "    </tr>\n",
       "    <tr>\n",
       "      <th>185</th>\n",
       "      <td>Noise - Street/Sidewalk</td>\n",
       "      <td>BROOKLYN</td>\n",
       "      <td>1982-07-29 21:28:48</td>\n",
       "      <td>Branch or Limb Has Fallen Down</td>\n",
       "    </tr>\n",
       "    <tr>\n",
       "      <th>235</th>\n",
       "      <td>Noise - Street/Sidewalk</td>\n",
       "      <td>BROOKLYN</td>\n",
       "      <td>2020-01-10 21:33:25</td>\n",
       "      <td>Branches Damaged</td>\n",
       "    </tr>\n",
       "    <tr>\n",
       "      <th>251</th>\n",
       "      <td>Noise - Street/Sidewalk</td>\n",
       "      <td>BROOKLYN</td>\n",
       "      <td>2008-08-11 15:13:13</td>\n",
       "      <td>Branch or Limb Has Fallen Down</td>\n",
       "    </tr>\n",
       "  </tbody>\n",
       "</table>\n",
       "</div>"
      ],
      "text/plain": [
       "              Complaint Type   Borough        Created Date  \\\n",
       "66   Noise - Street/Sidewalk  BROOKLYN 1998-11-11 21:07:20   \n",
       "85   Noise - Street/Sidewalk  BROOKLYN 1997-12-19 16:07:59   \n",
       "118  Noise - Street/Sidewalk  BROOKLYN 1982-04-17 14:23:22   \n",
       "132  Noise - Street/Sidewalk  BROOKLYN 2022-07-03 06:00:43   \n",
       "145  Noise - Street/Sidewalk  BROOKLYN 2008-08-11 15:13:13   \n",
       "148  Noise - Street/Sidewalk  BROOKLYN 1998-06-19 09:05:27   \n",
       "171  Noise - Street/Sidewalk  BROOKLYN 1999-11-18 02:49:16   \n",
       "185  Noise - Street/Sidewalk  BROOKLYN 1982-07-29 21:28:48   \n",
       "235  Noise - Street/Sidewalk  BROOKLYN 2020-01-10 21:33:25   \n",
       "251  Noise - Street/Sidewalk  BROOKLYN 2008-08-11 15:13:13   \n",
       "\n",
       "                         Descriptor  \n",
       "66                 Branches Damaged  \n",
       "85                     Broken Fence  \n",
       "118                    Broken Fence  \n",
       "132                    Broken Glass  \n",
       "145  Branch or Limb Has Fallen Down  \n",
       "148                    Broken Fence  \n",
       "171                    Broken Glass  \n",
       "185  Branch or Limb Has Fallen Down  \n",
       "235                Branches Damaged  \n",
       "251  Branch or Limb Has Fallen Down  "
      ]
     },
     "execution_count": 10,
     "metadata": {},
     "output_type": "execute_result"
    }
   ],
   "source": [
    "complaints[is_noise & in_brooklyn][['Complaint Type', 'Borough', 'Created Date', 'Descriptor']][:10]"
   ]
  },
  {
   "cell_type": "markdown",
   "id": "1bd114e4",
   "metadata": {},
   "source": [
    "## A digression about numpy arrays"
   ]
  },
  {
   "cell_type": "markdown",
   "id": "dad39add",
   "metadata": {},
   "source": [
    "On the inside, the type of a column is pd.Series"
   ]
  },
  {
   "cell_type": "code",
   "execution_count": 11,
   "id": "4d882457",
   "metadata": {},
   "outputs": [],
   "source": [
    "import pandas as pd\n",
    "import numpy as np"
   ]
  },
  {
   "cell_type": "code",
   "execution_count": 12,
   "id": "b9361f36",
   "metadata": {},
   "outputs": [
    {
     "data": {
      "text/plain": [
       "0    1\n",
       "1    2\n",
       "2    3\n",
       "dtype: int64"
      ]
     },
     "execution_count": 12,
     "metadata": {},
     "output_type": "execute_result"
    }
   ],
   "source": [
    "pd.Series([1,2,3])"
   ]
  },
  {
   "cell_type": "markdown",
   "id": "7b6069dd",
   "metadata": {},
   "source": [
    "and pandas Series are internally numpy arrays. If you add .values to the end of any Series, you'll get its internal numpy array"
   ]
  },
  {
   "cell_type": "code",
   "execution_count": 13,
   "id": "321ec348",
   "metadata": {},
   "outputs": [
    {
     "data": {
      "text/plain": [
       "array([1, 2, 3])"
      ]
     },
     "execution_count": 13,
     "metadata": {},
     "output_type": "execute_result"
    }
   ],
   "source": [
    "np.array([1,2,3])"
   ]
  },
  {
   "cell_type": "code",
   "execution_count": 14,
   "id": "d01bdbff",
   "metadata": {},
   "outputs": [
    {
     "data": {
      "text/plain": [
       "array([1, 2, 3])"
      ]
     },
     "execution_count": 14,
     "metadata": {},
     "output_type": "execute_result"
    }
   ],
   "source": [
    "pd.Series([1,2,3]).values"
   ]
  },
  {
   "cell_type": "markdown",
   "id": "87e6106e",
   "metadata": {},
   "source": [
    "So this binary-array-selection business is actually something that works with any numpy array:"
   ]
  },
  {
   "cell_type": "code",
   "execution_count": 15,
   "id": "57293d75",
   "metadata": {},
   "outputs": [],
   "source": [
    "arr = np.array([1,2,3])"
   ]
  },
  {
   "cell_type": "code",
   "execution_count": 16,
   "id": "87d2cb89",
   "metadata": {},
   "outputs": [
    {
     "data": {
      "text/plain": [
       "array([ True, False,  True])"
      ]
     },
     "execution_count": 16,
     "metadata": {},
     "output_type": "execute_result"
    }
   ],
   "source": [
    "arr != 2"
   ]
  },
  {
   "cell_type": "code",
   "execution_count": 17,
   "id": "ab6fee06",
   "metadata": {},
   "outputs": [
    {
     "data": {
      "text/plain": [
       "array([1, 3])"
      ]
     },
     "execution_count": 17,
     "metadata": {},
     "output_type": "execute_result"
    }
   ],
   "source": [
    "arr[arr != 2]"
   ]
  },
  {
   "cell_type": "markdown",
   "id": "6747165b",
   "metadata": {},
   "source": [
    "## So, which borough has the most noise complaints?"
   ]
  },
  {
   "cell_type": "code",
   "execution_count": 18,
   "id": "e944501d",
   "metadata": {},
   "outputs": [
    {
     "data": {
      "text/plain": [
       "STATEN ISLAND    6208\n",
       "Unspecified      6180\n",
       "BRONX            6107\n",
       "MANHATTAN        6085\n",
       "QUEENS           6078\n",
       "BROOKLYN         6071\n",
       "Name: Borough, dtype: int64"
      ]
     },
     "execution_count": 18,
     "metadata": {},
     "output_type": "execute_result"
    }
   ],
   "source": [
    "is_noise = complaints['Complaint Type'] == \"Noise - Street/Sidewalk\"\n",
    "noise_complaints = complaints[is_noise]\n",
    "noise_complaints['Borough'].value_counts()"
   ]
  },
  {
   "cell_type": "markdown",
   "id": "3ea5d5db",
   "metadata": {},
   "source": [
    "It's the BRONX (for this Mock)! But what if we wanted to divide by the total number of complaints, to make it make a bit more sense? That would be easy too:"
   ]
  },
  {
   "cell_type": "code",
   "execution_count": 19,
   "id": "714e350b",
   "metadata": {},
   "outputs": [],
   "source": [
    "noise_complaint_counts = noise_complaints['Borough'].value_counts()\n",
    "complaint_counts = complaints['Borough'].value_counts()"
   ]
  },
  {
   "cell_type": "code",
   "execution_count": 20,
   "id": "3e54521e",
   "metadata": {},
   "outputs": [
    {
     "data": {
      "text/plain": [
       "STATEN ISLAND    6208\n",
       "Unspecified      6180\n",
       "BRONX            6107\n",
       "MANHATTAN        6085\n",
       "QUEENS           6078\n",
       "BROOKLYN         6071\n",
       "Name: Borough, dtype: int64"
      ]
     },
     "execution_count": 20,
     "metadata": {},
     "output_type": "execute_result"
    }
   ],
   "source": [
    "noise_complaint_counts"
   ]
  },
  {
   "cell_type": "code",
   "execution_count": 21,
   "id": "879370e5",
   "metadata": {},
   "outputs": [
    {
     "data": {
      "text/plain": [
       "BRONX            0.326508\n",
       "BROOKLYN         0.330071\n",
       "MANHATTAN        0.330563\n",
       "QUEENS           0.330776\n",
       "STATEN ISLAND    0.334339\n",
       "Unspecified      0.331883\n",
       "Name: Borough, dtype: float64"
      ]
     },
     "execution_count": 21,
     "metadata": {},
     "output_type": "execute_result"
    }
   ],
   "source": [
    "noise_complaint_counts / complaint_counts"
   ]
  },
  {
   "cell_type": "markdown",
   "id": "30bb9390",
   "metadata": {},
   "source": [
    "Oops, why was that zero? That's no good. This is because of integer division in Python 2. Let's fix it, by converting complaint_counts into an array of floats."
   ]
  },
  {
   "cell_type": "code",
   "execution_count": 22,
   "id": "5ebfc29a",
   "metadata": {},
   "outputs": [
    {
     "data": {
      "text/plain": [
       "BRONX            0.326508\n",
       "BROOKLYN         0.330071\n",
       "MANHATTAN        0.330563\n",
       "QUEENS           0.330776\n",
       "STATEN ISLAND    0.334339\n",
       "Unspecified      0.331883\n",
       "Name: Borough, dtype: float64"
      ]
     },
     "execution_count": 22,
     "metadata": {},
     "output_type": "execute_result"
    }
   ],
   "source": [
    "noise_complaint_counts / complaint_counts.astype(float)"
   ]
  },
  {
   "cell_type": "code",
   "execution_count": 23,
   "id": "5b9dfccd",
   "metadata": {},
   "outputs": [
    {
     "data": {
      "text/plain": [
       "<AxesSubplot: >"
      ]
     },
     "execution_count": 23,
     "metadata": {},
     "output_type": "execute_result"
    },
    {
     "data": {
      "image/png": "[encoded data removed]",
      "text/plain": [
       "<Figure size 640x480 with 1 Axes>"
      ]
     },
     "metadata": {},
     "output_type": "display_data"
    }
   ],
   "source": [
    "(noise_complaint_counts / complaint_counts.astype(float)).plot(kind='bar')"
   ]
  },
  {
   "cell_type": "markdown",
   "id": "de62dbf8",
   "metadata": {},
   "source": [
    "So Bronx really does complain more about noise than the other boroughs in our mock! Neat."
   ]
  },
  {
   "cell_type": "markdown",
   "id": "96bedffb",
   "metadata": {},
   "source": [
    "# Request real result"
   ]
  },
  {
   "cell_type": "markdown",
   "id": "c56fe966",
   "metadata": {},
   "source": [
    "Now that we finished our analysis on the mock data, we can request this execution on the real data."
   ]
  },
  {
   "cell_type": "code",
   "execution_count": 24,
   "id": "c947ad6b",
   "metadata": {},
   "outputs": [],
   "source": [
    "@sy.syft_function(input_policy=sy.ExactMatch(complaints=asset.mock),\n",
    "                  output_policy=sy.SingleExecutionExactOutput())\n",
    "def get_counts(complaints):\n",
    "    is_noise = complaints['Complaint Type'] == \"Noise - Street/Sidewalk\"\n",
    "    noise_complaints = complaints[is_noise]\n",
    "    noise_complaint_counts = noise_complaints['Borough'].value_counts()\n",
    "    complaint_counts = complaints['Borough'].value_counts()\n",
    "    return noise_complaint_counts / complaint_counts.astype(float)"
   ]
  },
  {
   "cell_type": "markdown",
   "id": "f460d969",
   "metadata": {},
   "source": [
    "Request code execution"
   ]
  },
  {
   "cell_type": "code",
   "execution_count": 25,
   "id": "df474774",
   "metadata": {},
   "outputs": [],
   "source": [
    "req = guest_domain_client.api.services.code.request_code_execution(get_counts)"
   ]
  },
  {
   "cell_type": "code",
   "execution_count": 26,
   "id": "300d599f",
   "metadata": {},
   "outputs": [],
   "source": [
    "submitted_code = guest_domain_client.code[0]"
   ]
  },
  {
   "cell_type": "code",
   "execution_count": 27,
   "id": "d99d0119",
   "metadata": {},
   "outputs": [],
   "source": [
    "assert guest_domain_client.api.services.code.get_all()"
   ]
  },
  {
   "cell_type": "markdown",
   "id": "e17c5a93",
   "metadata": {},
   "source": [
    "Create and submit project"
   ]
  },
  {
   "cell_type": "code",
   "execution_count": 28,
   "id": "aea06d55",
   "metadata": {},
   "outputs": [],
   "source": [
    "new_project = sy.Project(name=\"Pandas chapter 3\",\n",
    "                         description=\"Hi, I would like to plot the histogram of the noise complaint counts per area.\")"
   ]
  },
  {
   "cell_type": "code",
   "execution_count": 29,
   "id": "2b2d6e8e",
   "metadata": {},
   "outputs": [],
   "source": [
    "new_project.add_request(obj=submitted_code, permission=sy.UserCodeStatus.EXECUTE)"
   ]
  },
  {
   "cell_type": "code",
   "execution_count": 30,
   "id": "95db8e44",
   "metadata": {},
   "outputs": [
    {
     "data": {
      "text/html": [
       "<div class=\"alert-success\" style=\"padding:5px;\"><strong>SyftSuccess</strong>: Project Submitted</div><br />"
      ],
      "text/plain": [
       "<class 'syft.core.node.new.response.SyftSuccess'>: Project Submitted"
      ]
     },
     "execution_count": 30,
     "metadata": {},
     "output_type": "execute_result"
    }
   ],
   "source": [
    "guest_domain_client.submit_project(new_project)"
   ]
  },
  {
   "cell_type": "code",
   "execution_count": null,
   "id": "53807472",
   "metadata": {},
   "outputs": [],
   "source": []
  }
 ],
 "metadata": {
  "kernelspec": {
   "display_name": "Python 3 (ipykernel)",
   "language": "python",
   "name": "python3"
  },
  "language_info": {
   "codemirror_mode": {
    "name": "ipython",
    "version": 3
   },
   "file_extension": ".py",
   "mimetype": "text/x-python",
   "name": "python",
   "nbconvert_exporter": "python",
   "pygments_lexer": "ipython3",
   "version": "3.9.16"
  },
  "toc": {
   "base_numbering": 1,
   "nav_menu": {},
   "number_sections": true,
   "sideBar": true,
   "skip_h1_title": false,
   "title_cell": "Table of Contents",
   "title_sidebar": "Contents",
   "toc_cell": false,
   "toc_position": {},
   "toc_section_display": true,
   "toc_window_display": true
  }
 },
 "nbformat": 4,
 "nbformat_minor": 5
}

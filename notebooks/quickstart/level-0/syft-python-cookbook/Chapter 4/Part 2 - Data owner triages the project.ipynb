{
 "cells": [
  {
   "cell_type": "code",
   "execution_count": 1,
   "id": "16908022",
   "metadata": {},
   "outputs": [
    {
     "name": "stderr",
     "output_type": "stream",
     "text": [
      "kj/filesystem-disk-unix.c++:1703: warning: PWD environment variable doesn't match current directory; pwd = /Users/koen/workspace/pysyft\n"
     ]
    }
   ],
   "source": [
    "from syft import Worker, MessageStatus\n",
    "from syft.core.node.new.project import Project\n",
    "import syft as sy"
   ]
  },
  {
   "cell_type": "code",
   "execution_count": 2,
   "id": "2df4133a",
   "metadata": {},
   "outputs": [
    {
     "name": "stdout",
     "output_type": "stream",
     "text": [
      "SQLite Store Path:\n",
      "!open file:///var/folders/q1/ryq93kwj055dlbpngxv1c7z40000gn/T/7bca415d13ed1ec841f0d0aede098dbb.sqlite\n",
      "\n",
      "> Starting Worker: test-domain-1 - 7bca415d13ed1ec841f0d0aede098dbb - NodeType.DOMAIN - [<class 'syft.core.node.new.user_service.UserService'>, <class 'syft.core.node.new.metadata_service.MetadataService'>, <class 'syft.core.node.new.action_service.ActionService'>, <class 'syft.core.node.new.test_service.TestService'>, <class 'syft.core.node.new.dataset_service.DatasetService'>, <class 'syft.core.node.new.user_code_service.UserCodeService'>, <class 'syft.core.node.new.request_service.RequestService'>, <class 'syft.core.node.new.data_subject_service.DataSubjectService'>, <class 'syft.core.node.new.network_service.NetworkService'>, <class 'syft.core.node.new.policy_service.PolicyService'>, <class 'syft.core.node.new.message_service.MessageService'>, <class 'syft.core.node.new.project_service.ProjectService'>, <class 'syft.core.node.new.data_subject_member_service.DataSubjectMemberService'>]\n"
     ]
    }
   ],
   "source": [
    "worker = Worker.named(\"test-domain-1\", processes=1, reset=False)"
   ]
  },
  {
   "cell_type": "code",
   "execution_count": 3,
   "id": "28f77679",
   "metadata": {},
   "outputs": [],
   "source": [
    "domain_client = worker.guest_client.login(email=\"info@openmined.org\", password=\"changethis\")"
   ]
  },
  {
   "cell_type": "markdown",
   "id": "5f4bded4",
   "metadata": {},
   "source": [
    "# Get messages"
   ]
  },
  {
   "cell_type": "code",
   "execution_count": 4,
   "id": "6ebec184",
   "metadata": {},
   "outputs": [],
   "source": [
    "messages = domain_client.api.services.messages.get_all_for_status(MessageStatus.UNDELIVERED)"
   ]
  },
  {
   "cell_type": "code",
   "execution_count": 5,
   "id": "34a83d8f",
   "metadata": {},
   "outputs": [
    {
     "data": {
      "text/html": [
       "List - Size: 2\n",
       "<div>\n",
       "<style scoped>\n",
       "    .dataframe tbody tr th:only-of-type {\n",
       "        vertical-align: middle;\n",
       "    }\n",
       "\n",
       "    .dataframe tbody tr th {\n",
       "        vertical-align: top;\n",
       "    }\n",
       "\n",
       "    .dataframe thead th {\n",
       "        text-align: right;\n",
       "    }\n",
       "</style>\n",
       "<table border=\"1\" class=\"dataframe\">\n",
       "  <thead>\n",
       "    <tr style=\"text-align: right;\">\n",
       "      <th></th>\n",
       "      <th>type</th>\n",
       "      <th>id</th>\n",
       "      <th>subject</th>\n",
       "      <th>status</th>\n",
       "      <th>created_at</th>\n",
       "      <th>linked_obj</th>\n",
       "    </tr>\n",
       "  </thead>\n",
       "  <tbody>\n",
       "    <tr>\n",
       "      <th>0</th>\n",
       "      <td>syft.core.node.new.messages.Message</td>\n",
       "      <td>6a722d6815f04d808463b509181c8342</td>\n",
       "      <td>Project Approval</td>\n",
       "      <td>MessageStatus.UNDELIVERED</td>\n",
       "      <td>2023-04-17 14:02:18</td>\n",
       "      <td>&lt;&lt;class 'syft.core.node.new.project.Project'&gt;:...</td>\n",
       "    </tr>\n",
       "    <tr>\n",
       "      <th>1</th>\n",
       "      <td>syft.core.node.new.messages.Message</td>\n",
       "      <td>c3d5d55d387b4225b36d9e4daf9c97c5</td>\n",
       "      <td>Approval Request</td>\n",
       "      <td>MessageStatus.UNDELIVERED</td>\n",
       "      <td>2023-04-17 14:02:18</td>\n",
       "      <td>&lt;&lt;class 'syft.core.node.new.request.Request'&gt;:...</td>\n",
       "    </tr>\n",
       "  </tbody>\n",
       "</table>\n",
       "</div>"
      ],
      "text/plain": [
       "[syft.core.node.new.messages.Message, syft.core.node.new.messages.Message]"
      ]
     },
     "execution_count": 5,
     "metadata": {},
     "output_type": "execute_result"
    }
   ],
   "source": [
    "messages"
   ]
  },
  {
   "cell_type": "code",
   "execution_count": 6,
   "id": "f491713c",
   "metadata": {},
   "outputs": [],
   "source": [
    "project_message = [x for x in messages if issubclass(x.linked_obj.object_type, Project)][0]"
   ]
  },
  {
   "cell_type": "code",
   "execution_count": 7,
   "id": "e450a3af",
   "metadata": {},
   "outputs": [],
   "source": [
    "request = project_message.link.requests[0]\n",
    "func = request.changes[0].link\n",
    "op = func.output_policy_type"
   ]
  },
  {
   "cell_type": "code",
   "execution_count": 8,
   "id": "cd5822af",
   "metadata": {},
   "outputs": [
    {
     "data": {
      "text/markdown": [
       "```python\n",
       "class UserCode:\n",
       "  id: str = c1e78985a1624ad1946935c425576786\n",
       "  node_uid: str = 7bca415d13ed1ec841f0d0aede098dbb\n",
       "  user_verify_key: str = fff9d7a435413560f741bb638418a463971f4c218b048207b0c57164e2284a64\n",
       "  raw_code: str = \"@sy.syft_function(input_policy=sy.ExactMatch(bikes=asset.mock),\n",
       "                  output_policy=sy.SingleExecutionExactOutput())\n",
       "def get_bike_hist(bikes):\n",
       "    berri_bikes = bikes[['Berri 1']].copy()\n",
       "    berri_bikes.loc[:,'weekday'] = berri_bikes.index.weekday\n",
       "    weekday_counts = berri_bikes.groupby('weekday').aggregate(sum)\n",
       "    return weekday_counts\n",
       "\"\n",
       "  input_policy_type: str = <class 'syft.core.node.new.policy.ExactMatch'>\n",
       "  input_policy_init_kwargs: str = {NodeView(node_name='test-domain-1', verify_key=aec6ea4dfc049ceacaeeebc493167a88a200ddc367b1fa32da652444b635d21f): {'bikes': <UID: cf79a8cf636f4c1a90835d976c28831f>}}\n",
       "  input_policy_state: str = b''\n",
       "  output_policy_type: str = <class 'syft.core.node.new.policy.OutputPolicyExecuteOnce'>\n",
       "  output_policy_init_kwargs: str = {}\n",
       "  output_policy_state: str = b''\n",
       "  parsed_code: str = \"\n",
       "\n",
       "def user_func_get_bike_hist_fff9d7a435413560f741bb638418a463971f4c218b048207b0c57164e2284a64_8d8256c2fdc5571401947971c192627c1969ce527c7715d90da86fa9f28c9558(bikes):\n",
       "\n",
       "    def get_bike_hist(bikes):\n",
       "        berri_bikes = bikes[['Berri 1']].copy()\n",
       "        berri_bikes.loc[(:, 'weekday')] = berri_bikes.index.weekday\n",
       "        weekday_counts = berri_bikes.groupby('weekday').aggregate(sum)\n",
       "        return weekday_counts\n",
       "    result = get_bike_hist(bikes=bikes)\n",
       "    return result\n",
       "\"\n",
       "  service_func_name: str = \"get_bike_hist\"\n",
       "  unique_func_name: str = \"user_func_get_bike_hist_fff9d7a435413560f741bb638418a463971f4c218b048207b0c57164e2284a64_8d8256c2fdc5571401947971c192627c1969ce527c7715d90da86fa9f28c9558\"\n",
       "  user_unique_func_name: str = \"user_func_get_bike_hist_fff9d7a435413560f741bb638418a463971f4c218b048207b0c57164e2284a64\"\n",
       "  code_hash: str = \"8d8256c2fdc5571401947971c192627c1969ce527c7715d90da86fa9f28c9558\"\n",
       "  signature: str = (bikes)\n",
       "  status: str = {NodeView(node_name='test-domain-1', verify_key=aec6ea4dfc049ceacaeeebc493167a88a200ddc367b1fa32da652444b635d21f): <UserCodeStatus.SUBMITTED: 'submitted'>}\n",
       "  input_kwargs: str = ['bikes']\n",
       "  enclave_metadata: str = None\n",
       "\n",
       "```"
      ],
      "text/plain": [
       "syft.core.node.new.user_code.UserCode"
      ]
     },
     "execution_count": 8,
     "metadata": {},
     "output_type": "execute_result"
    }
   ],
   "source": [
    "func"
   ]
  },
  {
   "cell_type": "code",
   "execution_count": 9,
   "id": "c173017d",
   "metadata": {},
   "outputs": [
    {
     "name": "stdout",
     "output_type": "stream",
     "text": [
      "WARNING: This code was submitted by a User and could be UNSAFE.\n"
     ]
    }
   ],
   "source": [
    "get_col_user_function = func.unsafe_function"
   ]
  },
  {
   "cell_type": "code",
   "execution_count": 10,
   "id": "3a708eb0",
   "metadata": {},
   "outputs": [],
   "source": [
    "real_data = domain_client.datasets[0].assets[0].data"
   ]
  },
  {
   "cell_type": "code",
   "execution_count": 11,
   "id": "34fc6c8b",
   "metadata": {},
   "outputs": [],
   "source": [
    "real_result = get_col_user_function(bikes=real_data)"
   ]
  },
  {
   "cell_type": "code",
   "execution_count": 12,
   "id": "9257487b",
   "metadata": {},
   "outputs": [],
   "source": [
    "bikes=real_data\n",
    "berri_bikes = bikes[['Berri 1']].copy()\n",
    "berri_bikes.loc[:,'weekday'] = berri_bikes.index.weekday\n",
    "weekday_counts = berri_bikes.groupby('weekday').aggregate(sum)\n",
    "real_result = weekday_counts"
   ]
  },
  {
   "cell_type": "code",
   "execution_count": 13,
   "id": "f25c2403",
   "metadata": {},
   "outputs": [
    {
     "data": {
      "text/html": [
       "<div>\n",
       "<style scoped>\n",
       "    .dataframe tbody tr th:only-of-type {\n",
       "        vertical-align: middle;\n",
       "    }\n",
       "\n",
       "    .dataframe tbody tr th {\n",
       "        vertical-align: top;\n",
       "    }\n",
       "\n",
       "    .dataframe thead th {\n",
       "        text-align: right;\n",
       "    }\n",
       "</style>\n",
       "<table border=\"1\" class=\"dataframe\">\n",
       "  <thead>\n",
       "    <tr style=\"text-align: right;\">\n",
       "      <th></th>\n",
       "      <th>Berri 1</th>\n",
       "    </tr>\n",
       "    <tr>\n",
       "      <th>weekday</th>\n",
       "      <th></th>\n",
       "    </tr>\n",
       "  </thead>\n",
       "  <tbody>\n",
       "    <tr>\n",
       "      <th>0</th>\n",
       "      <td>134298</td>\n",
       "    </tr>\n",
       "    <tr>\n",
       "      <th>1</th>\n",
       "      <td>135305</td>\n",
       "    </tr>\n",
       "    <tr>\n",
       "      <th>2</th>\n",
       "      <td>152972</td>\n",
       "    </tr>\n",
       "  </tbody>\n",
       "</table>\n",
       "</div>"
      ],
      "text/plain": [
       "         Berri 1\n",
       "weekday         \n",
       "0         134298\n",
       "1         135305\n",
       "2         152972"
      ]
     },
     "execution_count": 13,
     "metadata": {},
     "output_type": "execute_result"
    }
   ],
   "source": [
    "real_result[:3]"
   ]
  },
  {
   "cell_type": "code",
   "execution_count": 14,
   "id": "60adc73c",
   "metadata": {},
   "outputs": [],
   "source": [
    "result = request.accept_by_depositing_result(real_result)\n",
    "result\n",
    "assert isinstance(result, sy.SyftSuccess)"
   ]
  },
  {
   "cell_type": "code",
   "execution_count": null,
   "id": "7a55f1b1",
   "metadata": {},
   "outputs": [],
   "source": []
  }
 ],
 "metadata": {
  "kernelspec": {
   "display_name": "Python 3 (ipykernel)",
   "language": "python",
   "name": "python3"
  },
  "language_info": {
   "codemirror_mode": {
    "name": "ipython",
    "version": 3
   },
   "file_extension": ".py",
   "mimetype": "text/x-python",
   "name": "python",
   "nbconvert_exporter": "python",
   "pygments_lexer": "ipython3",
   "version": "3.9.16"
  },
  "toc": {
   "base_numbering": 1,
   "nav_menu": {},
   "number_sections": true,
   "sideBar": true,
   "skip_h1_title": false,
   "title_cell": "Table of Contents",
   "title_sidebar": "Contents",
   "toc_cell": false,
   "toc_position": {},
   "toc_section_display": true,
   "toc_window_display": true
  }
 },
 "nbformat": 4,
 "nbformat_minor": 5
}

{
 "cells": [
  {
   "cell_type": "code",
   "execution_count": 1,
   "id": "3026768d-e67f-473b-9bda-ff6ebb01d20f",
   "metadata": {},
   "outputs": [],
   "source": [
    "# quickstart"
   ]
  },
  {
   "cell_type": "code",
   "execution_count": null,
   "id": "415edc38-02e1-433b-b53d-3abb637648ea",
   "metadata": {},
   "outputs": [],
   "source": []
  }
 ],
 "metadata": {
  "kernelspec": {
   "display_name": "Python 3 (ipykernel)",
   "language": "python",
   "name": "python3"
  },
  "language_info": {
   "codemirror_mode": {
    "name": "ipython",
    "version": 3
   },
   "file_extension": ".py",
   "mimetype": "text/x-python",
   "name": "python",
   "nbconvert_exporter": "python",
   "pygments_lexer": "ipython3",
   "version": "3.10.4"
  }
 },
 "nbformat": 4,
 "nbformat_minor": 5
}

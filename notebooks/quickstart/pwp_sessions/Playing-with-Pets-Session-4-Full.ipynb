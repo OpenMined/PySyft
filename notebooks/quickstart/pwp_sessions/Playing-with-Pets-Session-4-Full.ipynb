{
 "cells": [
  {
   "cell_type": "markdown",
   "id": "e7e3df92",
   "metadata": {},
   "source": [
    "### In this session we will go through the process of uploading a dataset"
   ]
  },
  {
   "cell_type": "markdown",
   "id": "26965122",
   "metadata": {},
   "source": [
    "### Import packages"
   ]
  },
  {
   "cell_type": "code",
   "execution_count": null,
   "id": "d5ff1d4b",
   "metadata": {},
   "outputs": [],
   "source": [
    "import syft as sy\n",
    "import pandas as pd\n",
    "import numpy as np"
   ]
  },
  {
   "cell_type": "markdown",
   "id": "32649a6c",
   "metadata": {},
   "source": [
    "### Load dataset"
   ]
  },
  {
   "cell_type": "code",
   "execution_count": null,
   "id": "c8f925b6",
   "metadata": {},
   "outputs": [],
   "source": [
    "data_subset = pd.read_pickle('https://github.com/OpenMined/datasets/blob/main/TissueMNIST/subsets/TissueMNIST-04b0fe07281c47d79276a4f4941dbdca.pkl?raw=true')"
   ]
  },
  {
   "cell_type": "code",
   "execution_count": null,
   "id": "25c33d55",
   "metadata": {},
   "outputs": [],
   "source": [
    "# Get a glimpse of the data\n",
    "data_subset.head()"
   ]
  },
  {
   "cell_type": "code",
   "execution_count": null,
   "id": "de97e1fb",
   "metadata": {},
   "outputs": [],
   "source": [
    "# Check the shape of the data\n",
    "data_subset.shape"
   ]
  },
  {
   "cell_type": "code",
   "execution_count": null,
   "id": "f55817e6",
   "metadata": {},
   "outputs": [],
   "source": [
    "# Load the images\n",
    "\n",
    "images = np.stack(data_subset[\"images\"]).astype(np.int64)\n",
    "labels = data_subset[\"labels\"].astype(np.int64)\n",
    "patient_ids = data_subset[\"patient_ids\"]"
   ]
  },
  {
   "cell_type": "markdown",
   "id": "620a531a",
   "metadata": {},
   "source": [
    "### Begin here..."
   ]
  },
  {
   "cell_type": "markdown",
   "id": "558cf937",
   "metadata": {},
   "source": [
    "### Log into the domain node"
   ]
  },
  {
   "cell_type": "code",
   "execution_count": null,
   "id": "3a53dc4d",
   "metadata": {},
   "outputs": [],
   "source": [
    "### Use the API: sy.login\n",
    "# domain_client = sy.login\n",
    "domain_client = sy.login(email=\"info@openmined.org\", password=\"changethis\", port=8081)"
   ]
  },
  {
   "cell_type": "markdown",
   "id": "3d370009",
   "metadata": {},
   "source": [
    "### We need to add dp meta information to the data"
   ]
  },
  {
   "cell_type": "code",
   "execution_count": null,
   "id": "240ff8ac",
   "metadata": {},
   "outputs": [],
   "source": [
    "### Before we add dp metadata to images, we need to create a data subject array\n",
    "### which is a matrix used to represent to which user a data point belongs to.\n",
    "\n",
    "# Create data subject array for image\n",
    "# use the API: sy.DataSubjectArray.from_objs\n",
    "\n",
    "image_data_subjects = np.ones(images.shape).astype(object)\n",
    "for i, patient in enumerate(patient_ids):\n",
    "    image_data_subjects[i] = sy.DataSubjectArray([str(patient)])"
   ]
  },
  {
   "cell_type": "code",
   "execution_count": null,
   "id": "d3f1af65",
   "metadata": {},
   "outputs": [],
   "source": [
    "# Create a Syft image tensor\n",
    "# use the API: sy.Tensor\n",
    "image_tensor = sy.Tensor(images)"
   ]
  },
  {
   "cell_type": "code",
   "execution_count": null,
   "id": "a26bb557",
   "metadata": {
    "scrolled": false
   },
   "outputs": [],
   "source": [
    "# Add dp metadata to images\n",
    "# call `annotated_with_dp_metadata` the method on the syft tensor\n",
    "# set the min_val and max_val for the tensor being annotated\n",
    "dp_annotated_image_tensor = image_tensor.annotated_with_dp_metadata(\n",
    "    min_val=0, max_val=255, data_subjects=image_data_subjects\n",
    ")"
   ]
  },
  {
   "cell_type": "code",
   "execution_count": null,
   "id": "553d32eb",
   "metadata": {},
   "outputs": [],
   "source": [
    "image_data_subjects.shape"
   ]
  },
  {
   "cell_type": "code",
   "execution_count": null,
   "id": "945c391e",
   "metadata": {},
   "outputs": [],
   "source": [
    "# Create data subject array for labels\n",
    "# use the API: sy.DataSubjectArray.from_objs\n",
    "label_data_subjects = np.ones(labels.shape).astype(object)\n",
    "for i, patient in enumerate(patient_ids):\n",
    "    label_data_subjects[i] = sy.DataSubjectArray([str(patient)])"
   ]
  },
  {
   "cell_type": "code",
   "execution_count": null,
   "id": "c19187e8",
   "metadata": {},
   "outputs": [],
   "source": [
    "# Create a Syft label tensor\n",
    "# use the API: sy.Tensor\n",
    "label_tensor = sy.Tensor(labels)"
   ]
  },
  {
   "cell_type": "code",
   "execution_count": null,
   "id": "a430f797",
   "metadata": {},
   "outputs": [],
   "source": [
    "### Add dp metadata to labels\n",
    "# call `annotated_with_dp_metadata` the method on the syft tensor\n",
    "# set the min_val and max_val for the tensor being annotated\n",
    "dp_annotated_label_tensor = label_tensor.annotated_with_dp_metadata(\n",
    "    min_val=0, max_val=7, data_subjects=label_data_subjects\n",
    ")"
   ]
  },
  {
   "cell_type": "markdown",
   "id": "bc62db46",
   "metadata": {},
   "source": [
    "### Upload the dataset"
   ]
  },
  {
   "cell_type": "code",
   "execution_count": null,
   "id": "022b9bdc",
   "metadata": {},
   "outputs": [],
   "source": [
    "### Call .load_dataset on the `domain_client` variable\n",
    "### domain_client.load_dataset()\n",
    "\n",
    "## Set name for the dataset\n",
    "## Set description\n",
    "## Pass the data as an dict to parameter assets\n",
    "## Upload the dataset\n",
    "# run this cell\n",
    "domain_client.load_dataset(\n",
    "    name=\"OMTissueMNISTDataset\",\n",
    "    assets={\n",
    "        \"images\": dp_annotated_image_tensor,\n",
    "        \"labels\": dp_annotated_label_tensor,\n",
    "    },\n",
    "    description=\"Tissue Specimen Dataset upload from OM.\"\n",
    ")"
   ]
  },
  {
   "cell_type": "code",
   "execution_count": null,
   "id": "7aab1fac",
   "metadata": {},
   "outputs": [],
   "source": [
    "domain_client.datasets"
   ]
  },
  {
   "cell_type": "markdown",
   "id": "b086d36d",
   "metadata": {},
   "source": [
    "### Congratuations !!!"
   ]
  }
 ],
 "metadata": {
  "kernelspec": {
   "display_name": "Python 3 (ipykernel)",
   "language": "python",
   "name": "python3"
  },
  "language_info": {
   "codemirror_mode": {
    "name": "ipython",
    "version": 3
   },
   "file_extension": ".py",
   "mimetype": "text/x-python",
   "name": "python",
   "nbconvert_exporter": "python",
   "pygments_lexer": "ipython3",
   "version": "3.9.7"
  }
 },
 "nbformat": 4,
 "nbformat_minor": 5
}

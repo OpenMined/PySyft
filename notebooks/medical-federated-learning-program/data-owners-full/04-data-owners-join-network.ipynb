{
 "cells": [
  {
   "cell_type": "markdown",
   "id": "1a72486f-ffbd-4800-bc03-5e6427964faa",
   "metadata": {},
   "source": [
    "# Notebook 4: Join a Network"
   ]
  },
  {
   "cell_type": "markdown",
   "id": "c1b948f3-67a8-4ed3-8a7b-32a8e9eab644",
   "metadata": {},
   "source": [
    "<img src=\"img/tab_start.png\" alt=\"tab\" style=\"width: 100px; margin:0;\" />"
   ]
  },
  {
   "cell_type": "markdown",
   "id": "aa93f1b5-d5b7-4095-afb0-92e5251cd04e",
   "metadata": {},
   "source": [
    "## Step 1: Import Syft"
   ]
  },
  {
   "cell_type": "markdown",
   "id": "837d1051-fc15-4756-8cbb-c20479db7737",
   "metadata": {},
   "source": [
    "We have already installed syft for the demo, however installing syft is as easy as:\n",
    "\n",
    "```shell\n",
    "pip install --pre syft\n",
    "```"
   ]
  },
  {
   "cell_type": "markdown",
   "id": "f9bf7c41-0ae9-4195-8da6-414939dfb486",
   "metadata": {},
   "source": [
    "<img src=\"img/tab_run.png\" alt=\"tab\" style=\"width: 100px; margin:0;\" />"
   ]
  },
  {
   "cell_type": "code",
   "execution_count": null,
   "id": "a76b76cd",
   "metadata": {},
   "outputs": [],
   "source": [
    "# Let's install syft\n",
    "!pip install -q --pre syft\n",
    "print(\"Syft is successfully installed !!! 🙌\")"
   ]
  },
  {
   "cell_type": "code",
   "execution_count": null,
   "id": "bd4defd0-b775-42bc-a2ff-f849198ffdc0",
   "metadata": {},
   "outputs": [],
   "source": [
    "# Let's verify if syft is successfully installed\n",
    "import syft as sy\n",
    "print(f\"You're running syft version: {sy.__version__}\")"
   ]
  },
  {
   "cell_type": "markdown",
   "id": "aad195f8",
   "metadata": {},
   "source": [
    "## Step 2: Log into the Domain"
   ]
  },
  {
   "cell_type": "markdown",
   "id": "a2c40e6f",
   "metadata": {},
   "source": [
    "Now that we have successfully installed `syft`, let's see how users log into Domain nodes. There are two ways to log into your own node, as the Data Owner.\n",
    "\n",
    "1. Using the PySyft library\n",
    "2. Using the Web Interface"
   ]
  },
  {
   "cell_type": "markdown",
   "id": "2676b53b",
   "metadata": {},
   "source": [
    "### Using the PySyft library\n",
    "\n",
    "Let's use the `syft` library to login in to your domain and get an authenticated client to your Domain node.\n",
    "\n",
    "To login into the your domain you will need the following credentials:\n",
    "- url to the domain: Here the value in the `DOMAIN_HOST_IP` is the url to your domain.\n",
    "- email address: We will use the default email (`ADMIN_EMAIL`) set on domain creation.\n",
    "- password: We will use the default password (`ADMIN_PASSWORD`) set on domain creation.\n",
    "- port number: Port number on which the domain server is provisioned (defaults to 80)."
   ]
  },
  {
   "cell_type": "markdown",
   "id": "a84bd1d5-070e-4a12-bcbc-6554bbe0d6d2",
   "metadata": {},
   "source": [
    "#### Setup login credentials"
   ]
  },
  {
   "cell_type": "markdown",
   "id": "a6909558-f7e8-42cb-9922-70d33faf14d6",
   "metadata": {},
   "source": [
    "<img src=\"img/tab_run.png\" alt=\"tab\" style=\"width: 100px; margin:0;\" />"
   ]
  },
  {
   "cell_type": "code",
   "execution_count": null,
   "id": "985eeb99-b069-4d1d-8a95-c2f30e485731",
   "metadata": {},
   "outputs": [],
   "source": [
    "# autodetect the host_ip\n",
    "from utils import auto_detect_domain_host_ip\n",
    "\n",
    "DOMAIN_HOST_IP = auto_detect_domain_host_ip()"
   ]
  },
  {
   "cell_type": "code",
   "execution_count": null,
   "id": "160ce19a-993b-4400-b2f1-98eeb3ba3137",
   "metadata": {},
   "outputs": [],
   "source": [
    "# Set the email and password of your Domain node.\n",
    "# We will be using the default email and password that got created during Domain creation.\n",
    "\n",
    "ADMIN_EMAIL=\"info@openmined.org\"\n",
    "ADMIN_PASSWORD=\"changethis\""
   ]
  },
  {
   "cell_type": "markdown",
   "id": "5ad0538b-9589-4a68-8c36-e1c68899858b",
   "metadata": {},
   "source": [
    "#### Perform Login"
   ]
  },
  {
   "cell_type": "markdown",
   "id": "f12cdcc1-2904-442e-890f-84cc4fde2f1f",
   "metadata": {},
   "source": [
    "<img src=\"img/tab_run.png\" alt=\"tab\" style=\"width: 100px; margin:0;\" />"
   ]
  },
  {
   "cell_type": "code",
   "execution_count": null,
   "id": "a1fb9475",
   "metadata": {},
   "outputs": [],
   "source": [
    "# Let's log into the domain using the credentials\n",
    "try:\n",
    "    domain_client = sy.login(\n",
    "        url=DOMAIN_HOST_IP, email=ADMIN_EMAIL, password=ADMIN_PASSWORD\n",
    "    )\n",
    "    print()\n",
    "    print(\"🎉 You successfully connected to your domain!\")\n",
    "except Exception as e:\n",
    "    print(\"❌ Unable to connect, did you set the `DOMAIN_HOST_IP` variable above?\")\n",
    "    raise e"
   ]
  },
  {
   "cell_type": "markdown",
   "id": "b6338f6f-fb56-4655-9c6b-7e0661cb9277",
   "metadata": {},
   "source": [
    "<img src=\"img/tab_optional.png\" alt=\"tab\" style=\"width: 100px; margin:0;\" />"
   ]
  },
  {
   "cell_type": "markdown",
   "id": "d2785cbf-40c6-4e28-b497-aad1e322cfdd",
   "metadata": {
    "jp-MarkdownHeadingCollapsed": true,
    "tags": []
   },
   "source": [
    "### Using the Web Interface\n",
    "\n",
    "We can access the domain node using a Web Interface via the IP Address defined in the variable `DOMAIN_HOST_IP`."
   ]
  },
  {
   "cell_type": "markdown",
   "id": "8c70ff51-ff8e-4c72-9583-3aae0dab0d59",
   "metadata": {},
   "source": [
    "<img src=\"img/tab_run.png\" alt=\"tab\" style=\"width: 100px; margin:0;\" />"
   ]
  },
  {
   "cell_type": "code",
   "execution_count": null,
   "id": "d8c9e542-7419-452d-87d3-8ab21eaaf4df",
   "metadata": {},
   "outputs": [],
   "source": [
    "print(f\"Check out PyGridUI here 👉🏽 http://{DOMAIN_HOST_IP}\")"
   ]
  },
  {
   "cell_type": "markdown",
   "id": "6a08f6b6-284f-4a7f-a3a1-b7440d346796",
   "metadata": {},
   "source": [
    "To login into the your domain you will need the following credentials:\n",
    "- email address: We will use the default email (`info@openmined.org`) set on domain creation\n",
    "- password: We will use the  default password (`changethis`) set on domain creation\n",
    "\n",
    "\n",
    "On accessing the url defined above you should be able to see the login page as shown in the image below.\n",
    "\n",
    "![Domain Login Page](img/pygrid_ui_login.png)\n",
    "\n",
    "On a sucessful login you will be redirected the users page, where you can manage all the users that have signed up to your domain."
   ]
  },
  {
   "cell_type": "markdown",
   "id": "1e19140b",
   "metadata": {},
   "source": [
    "## Step 3: Network Nodes\n",
    "\n",
    "Our next step would be to connect to a Network Node. So, what is a Network Node?\n",
    "\n",
    "A Network Node is a node that connects different domains to a broader base of data scientists also known as a network's members. It is a server which exists outside of any data owner's institution, providing services to the network of data owners and data scientists. In short, a Network node provides a secure interface between its cohorts or Domains and its members or Data Scientists.\n",
    "\n",
    "For the scope of this demonstration, OpenMined has created a Network node called MFLP, to which we will register our Domain Node to."
   ]
  },
  {
   "cell_type": "markdown",
   "id": "9cc06a47-47c5-41ae-841d-749d07e489db",
   "metadata": {},
   "source": [
    "### Connect to a Network"
   ]
  },
  {
   "cell_type": "markdown",
   "id": "159da9b9-bfcd-4d06-963c-3bbd7dbf4ddd",
   "metadata": {},
   "source": [
    "You can either connect to a Network directly by knowing its `NETWORK_IP` or `hostname` or, you can browse available networks in the OpenMined `NetworkRegistry`."
   ]
  },
  {
   "cell_type": "markdown",
   "id": "a0cbac79-49dc-4f1b-bdbe-774826e12b9a",
   "metadata": {},
   "source": [
    "### Lets checkout some Networks"
   ]
  },
  {
   "cell_type": "markdown",
   "id": "2a43df25-cb4f-457f-8aee-1be932c25518",
   "metadata": {},
   "source": [
    "<img src=\"img/tab_run.png\" alt=\"tab\" style=\"width: 100px; margin:0;\" />"
   ]
  },
  {
   "cell_type": "code",
   "execution_count": null,
   "id": "57bf77d7-5980-4197-a02c-a13ad7513c58",
   "metadata": {},
   "outputs": [],
   "source": [
    "sy.networks"
   ]
  },
  {
   "cell_type": "markdown",
   "id": "77476f18-c90f-4d62-acd9-5c9ca46ba01b",
   "metadata": {},
   "source": [
    "Lets connect to the `MFLP` Network"
   ]
  },
  {
   "cell_type": "markdown",
   "id": "34905dc9-7dbe-41a8-ab0f-40effba333fa",
   "metadata": {},
   "source": [
    "<img src=\"img/tab_run.png\" alt=\"tab\" style=\"width: 100px; margin:0;\" />"
   ]
  },
  {
   "cell_type": "code",
   "execution_count": null,
   "id": "c68f268b-9739-4eec-bafa-59ccad7bffa7",
   "metadata": {},
   "outputs": [],
   "source": [
    "network_client = sy.networks[\"MFLP Demo 1\"]"
   ]
  },
  {
   "cell_type": "markdown",
   "id": "0b948bb4",
   "metadata": {},
   "source": [
    "Since we will be logging into the Network node as a Guest User, therefore we don't need to provide an email or password as part of the login. As a *GUEST USER*, our scope will be limited to only a few operations/functionalities.\n",
    "\n",
    "**Note:** Network node is a fairly new concept and is under rapid development. New functionalities will be added to it soon."
   ]
  },
  {
   "cell_type": "markdown",
   "id": "b3b33744",
   "metadata": {},
   "source": [
    "On successful login, we will receive an authenticated client.\n",
    "\n",
    "Now that we have an authenticated client to the network, let's list the available domains on this Network."
   ]
  },
  {
   "cell_type": "markdown",
   "id": "3c1169f5-4846-4881-8e95-dcf9cc594e88",
   "metadata": {},
   "source": [
    "<img src=\"img/tab_run.png\" alt=\"tab\" style=\"width: 100px; margin:0;\" />"
   ]
  },
  {
   "cell_type": "code",
   "execution_count": null,
   "id": "8cca3233-4ca8-42e8-b3ad-e21918e81040",
   "metadata": {},
   "outputs": [],
   "source": [
    "# List the available domains on this Network\n",
    "network_client.domains"
   ]
  },
  {
   "cell_type": "markdown",
   "id": "40618cac-ffcc-40a5-9c33-dd43aeb4b8f7",
   "metadata": {},
   "source": [
    "### Join the Network\n",
    "\n",
    "As part of the next step, we will be joining the OpenMined network. Applying to a network will allow us to be listed as part of the Network.\n",
    "\n",
    "Let's apply to the Network. When we apply to join a network, the Domain client connects to the Network node through a secured VPN protocol (if a protocol is not established, then it will try to establish one) and then sends a request to join the Network."
   ]
  },
  {
   "cell_type": "markdown",
   "id": "14a96fc5-cdd5-4d46-9e4e-5daacb3150bc",
   "metadata": {},
   "source": [
    "<img src=\"img/tab_run.png\" alt=\"tab\" style=\"width: 100px; margin:0;\" />"
   ]
  },
  {
   "cell_type": "code",
   "execution_count": null,
   "id": "a085c3f4-3ea4-4a3a-ab4b-54de864ba124",
   "metadata": {},
   "outputs": [],
   "source": [
    "# Let's apply to the Network\n",
    "domain_client.apply_to_network(network_client)"
   ]
  },
  {
   "cell_type": "markdown",
   "id": "17857c9e",
   "metadata": {},
   "source": [
    "On a successful request, our Domain is registered to the network node. Let's check this by listing the available domains on the network node."
   ]
  },
  {
   "cell_type": "markdown",
   "id": "2bb5b9f4-7d72-4fb9-9038-7c4c15535f09",
   "metadata": {},
   "source": [
    "<img src=\"img/tab_run.png\" alt=\"tab\" style=\"width: 100px; margin:0;\" />"
   ]
  },
  {
   "cell_type": "code",
   "execution_count": null,
   "id": "8a12be27-bfa5-41ad-a22c-456471220c7d",
   "metadata": {},
   "outputs": [],
   "source": [
    "# Listing the available domains on the Network\n",
    "# to check if our Domain is present on it or not.\n",
    "network_client.domains"
   ]
  },
  {
   "cell_type": "markdown",
   "id": "7cf0b544",
   "metadata": {},
   "source": [
    "We can also check if the Network node is connected to the Domain via VPN by calling`.vpn_status()` method on the `<domain_client>`. If the Network node is succesfully connected to the Domain via the VPN, then it should be present in the `peers` list (in the response returned by `.vpn_status()` method)."
   ]
  },
  {
   "cell_type": "markdown",
   "id": "11b07876-b27a-42cf-a94d-29e71f9f8283",
   "metadata": {},
   "source": [
    "<img src=\"img/tab_run.png\" alt=\"tab\" style=\"width: 100px; margin:0;\" />"
   ]
  },
  {
   "cell_type": "code",
   "execution_count": null,
   "id": "28b1d205-83b3-4afe-baaf-3481c9f7086e",
   "metadata": {},
   "outputs": [],
   "source": [
    "# Verify if domain is connected to the Network node via VPN.\n",
    "domain_client.vpn_status()"
   ]
  },
  {
   "cell_type": "markdown",
   "id": "540a6b83",
   "metadata": {},
   "source": [
    "We are now part of the Network!"
   ]
  },
  {
   "cell_type": "markdown",
   "id": "7bd1addb-90d8-4fca-9076-c3273c71254c",
   "metadata": {},
   "source": [
    "## Step 4: Create a Data Scientist Account"
   ]
  },
  {
   "cell_type": "markdown",
   "id": "b9e1b1df-bf02-4b64-b5c6-8d4401013b61",
   "metadata": {},
   "source": [
    "<img src=\"img/tab_edit.png\" alt=\"tab\" style=\"width: 100px; margin:0;\" />"
   ]
  },
  {
   "cell_type": "code",
   "execution_count": null,
   "id": "62a016c5-b277-4974-9b6a-e2fcedfb7dd9",
   "metadata": {},
   "outputs": [],
   "source": [
    "# Enter the details for your Data Scientist Below.\n",
    "from utils import validate_ds_credentials\n",
    "\n",
    "data_scientist_details = {\n",
    "    \"name\": \"\",\n",
    "    \"email\": \"\",\n",
    "    \"password\": \"\",\n",
    "    \"budget\": 9999,\n",
    "}\n",
    "       \n",
    "validate_ds_credentials(data_scientist_details)"
   ]
  },
  {
   "cell_type": "markdown",
   "id": "7b4b7673-3dbd-45d8-b9f9-abb09a05980a",
   "metadata": {},
   "source": [
    "<img src=\"img/tab_run.png\" alt=\"tab\" style=\"width: 100px; margin:0;\" />"
   ]
  },
  {
   "cell_type": "code",
   "execution_count": null,
   "id": "ed654b19-48a6-44cb-9740-b036c22d0a99",
   "metadata": {},
   "outputs": [],
   "source": [
    "# Create the data scientist user\n",
    "domain_client.users.create(**data_scientist_details)\n",
    "print(\"Data Scientist successfully created 🙌🙌\")"
   ]
  },
  {
   "cell_type": "markdown",
   "id": "3ee914fc-ae53-4c20-aae0-abf25bf135a3",
   "metadata": {},
   "source": [
    "<img src=\"img/tab_run.png\" alt=\"tab\" style=\"width: 100px; margin:0;\" />"
   ]
  },
  {
   "cell_type": "code",
   "execution_count": null,
   "id": "31c07f2d-ea61-4aa7-b90b-e580e0f9edf5",
   "metadata": {},
   "outputs": [],
   "source": [
    "print(\"Please give these details to the data scientist 👇🏽\")\n",
    "login_details = {}\n",
    "login_details[\"url\"] = DOMAIN_HOST_IP\n",
    "login_details[\"name\"] = data_scientist_details[\"name\"]\n",
    "login_details[\"email\"] = data_scientist_details[\"email\"]\n",
    "login_details[\"password\"] = data_scientist_details[\"password\"]\n",
    "login_details[\"dataset_name\"] = name\n",
    "print()\n",
    "print(login_details)"
   ]
  },
  {
   "cell_type": "markdown",
   "id": "98c3f184-fc20-471e-93a8-f70e044ebd69",
   "metadata": {},
   "source": [
    "<img src=\"img/tab_copy_send.png\" alt=\"tab\" style=\"width: 123px; margin:0;\" />"
   ]
  },
  {
   "cell_type": "markdown",
   "id": "4dc08667-13bf-4363-a917-6d8efce6ea07",
   "metadata": {},
   "source": [
    "Please copy the output of the above Run cell and share it with your Data Scientist or Demo Coordinator."
   ]
  },
  {
   "cell_type": "markdown",
   "id": "3a250669-0e27-4f68-8f98-20729088006e",
   "metadata": {},
   "source": [
    "<img src=\"img/tab_finish.png\" alt=\"tab\" style=\"width: 100px; margin:0;\" />"
   ]
  },
  {
   "cell_type": "markdown",
   "id": "6645742a-a91c-436c-9c0e-9c10b93029a1",
   "metadata": {},
   "source": [
    "🙌🏽 Notebook Complete!\n",
    "\n",
    "🖐 Raise your hand in Zoom\n",
    "\n",
    "👉🏽 Then, click to continue to Notebook 5: [05-complete.ipynb](05-complete.ipynb)"
   ]
  }
 ],
 "metadata": {
  "kernelspec": {
   "display_name": "Python 3 (ipykernel)",
   "language": "python",
   "name": "python3"
  },
  "language_info": {
   "codemirror_mode": {
    "name": "ipython",
    "version": 3
   },
   "file_extension": ".py",
   "mimetype": "text/x-python",
   "name": "python",
   "nbconvert_exporter": "python",
   "pygments_lexer": "ipython3",
   "version": "3.9.7"
  }
 },
 "nbformat": 4,
 "nbformat_minor": 5
}

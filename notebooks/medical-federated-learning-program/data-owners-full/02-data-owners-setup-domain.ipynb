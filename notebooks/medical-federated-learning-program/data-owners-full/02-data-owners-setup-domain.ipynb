{
 "cells": [
  {
   "cell_type": "markdown",
   "id": "a7ac6de0-8146-4bad-9a4d-84743b46bb3d",
   "metadata": {},
   "source": [
    "# Notebook 2: Setup Domain"
   ]
  },
  {
   "cell_type": "markdown",
   "id": "b1751159-1634-4449-9535-48e14c59fb85",
   "metadata": {},
   "source": [
    "<img src=\"img/tab_start.png\" alt=\"tab\" style=\"width: 100px; margin:0;\" />"
   ]
  },
  {
   "cell_type": "markdown",
   "id": "36699ab4-10ac-436a-963f-71e4e8d1c87b",
   "metadata": {},
   "source": [
    "Now that we have sshed into our virtual machine (as described in the 👈🏿 notebook [01-data-owners-login.ipynb](01-data-owners-login.ipynb)), let's move on to provision our Domain node.\n",
    "\n",
    "**Note:** These steps are designed to work on a Ubuntu 20.04 VM however the steps for other linux versions or other OSes are very similar."
   ]
  },
  {
   "cell_type": "markdown",
   "id": "d31d1629-a53c-4c26-9a35-84f9d4b5f69a",
   "metadata": {},
   "source": [
    "## Dependencies"
   ]
  },
  {
   "cell_type": "markdown",
   "id": "f7467c6b-88cd-4041-b6ea-108c22bd4372",
   "metadata": {},
   "source": [
    "PyGrid Domains require the following software dependencies to run:"
   ]
  },
  {
   "cell_type": "markdown",
   "id": "16f0c287-7fcf-4be7-9b6a-3b9fa3dca1ee",
   "metadata": {},
   "source": [
    "- Docker (kubernetes is also available)\n",
    "- Python 3.7+\n",
    "- Git"
   ]
  },
  {
   "cell_type": "markdown",
   "id": "48fcefcc-3812-42e4-ab7d-0a5ddfac294d",
   "metadata": {},
   "source": [
    "## HAGrid CLI tool"
   ]
  },
  {
   "cell_type": "markdown",
   "id": "17787282-c839-4bdf-a145-ff9ffba8585d",
   "metadata": {},
   "source": [
    "We have a python command-line tool called `hagrid` which is capable of creating VMs as well as provisioning them.\n",
    "However unfortunately a fresh Ubuntu 20.04 box does not include `pip` to install HAGrid."
   ]
  },
  {
   "cell_type": "markdown",
   "id": "fff03000-1638-446f-a559-2316a44c2bf6",
   "metadata": {},
   "source": [
    "## Step 1: Installing HAGrid"
   ]
  },
  {
   "cell_type": "markdown",
   "id": "f699af8b-ed2e-49d5-aff2-99079d216347",
   "metadata": {},
   "source": [
    "First, lets change to the `om` user."
   ]
  },
  {
   "cell_type": "markdown",
   "id": "7904853a-620b-4e81-a3f3-dcbdba8977ee",
   "metadata": {},
   "source": [
    "<img src=\"img/tab_copy_run.png\" alt=\"tab\" style=\"width: 123px; margin:0;\" />"
   ]
  },
  {
   "cell_type": "markdown",
   "id": "86c9fda3-1df7-4f5a-bf5f-c31bbf0bd426",
   "metadata": {},
   "source": [
    "```bash\n",
    "sudo su - om\n",
    "```"
   ]
  },
  {
   "cell_type": "markdown",
   "id": "03436906-5d5d-4b40-bd0d-1d2741d5dccc",
   "metadata": {},
   "source": [
    "A fresh install of Ubuntu 20.04 does not come with `pip` installed, so lets quickly install!"
   ]
  },
  {
   "cell_type": "markdown",
   "id": "3f6d9f43-5066-4b1d-ad3f-6078a43b97e5",
   "metadata": {},
   "source": [
    "<img src=\"img/tab_copy_run.png\" alt=\"tab\" style=\"width: 123px; margin:0;\" />"
   ]
  },
  {
   "cell_type": "markdown",
   "id": "17a330d8-e404-4ea3-8195-d4b039ea7116",
   "metadata": {
    "tags": []
   },
   "source": [
    "```shell\n",
    "sudo apt update && sudo apt install python3-pip\n",
    "```"
   ]
  },
  {
   "cell_type": "markdown",
   "id": "77d27ab3-d59d-449e-8086-5999f5bc3b60",
   "metadata": {},
   "source": [
    "Once we have pip we can install HAGrid with `pip`."
   ]
  },
  {
   "cell_type": "markdown",
   "id": "c4bfea43-c31e-4859-804c-d9c9e3b8b4bf",
   "metadata": {},
   "source": [
    "<img src=\"img/tab_copy_run.png\" alt=\"tab\" style=\"width: 123px; margin:0;\" />"
   ]
  },
  {
   "cell_type": "markdown",
   "id": "f6f2351a-ff0c-4ef1-9813-483cf41c4ad7",
   "metadata": {},
   "source": [
    "```shell\n",
    "pip install -U hagrid\n",
    "```"
   ]
  },
  {
   "cell_type": "markdown",
   "id": "f46808a0-8eea-4585-8ea9-55a8259ac6a8",
   "metadata": {},
   "source": [
    "<img src=\"img/tab_info.png\" alt=\"tab\" style=\"width: 100px; margin:0;\" />"
   ]
  },
  {
   "cell_type": "markdown",
   "id": "76d6aed1-4bac-4300-af66-0fee807ac936",
   "metadata": {},
   "source": [
    "The first time you try to run HAGrid you might get an error `hagrid: command not found`, this usually means that the directory pip installed the HAGrid `console_scripts` is not in your path yet because you just installed pip. On Linux you can simply source the .profile file to update your paths:"
   ]
  },
  {
   "cell_type": "markdown",
   "id": "e57b6175-1595-48c8-82db-a538d7f5ba18",
   "metadata": {},
   "source": [
    "<img src=\"img/tab_copy_run.png\" alt=\"tab\" style=\"width: 123px; margin:0;\" />"
   ]
  },
  {
   "cell_type": "markdown",
   "id": "213f89a8-c700-4cc2-8546-21d97978dc55",
   "metadata": {},
   "source": [
    "```shell\n",
    ". ~/.profile\n",
    "```"
   ]
  },
  {
   "cell_type": "markdown",
   "id": "df691f61-5f1e-43e5-b927-75813d49722c",
   "metadata": {},
   "source": [
    "## Step 2: Test HAGrid"
   ]
  },
  {
   "cell_type": "markdown",
   "id": "2b02487f-864f-4938-a267-c7d43163d5a7",
   "metadata": {},
   "source": [
    "Once HAGrid has installed you can simply type `hagrid` on the terminal to check if it is working."
   ]
  },
  {
   "cell_type": "markdown",
   "id": "47a954aa-cc45-45df-94d8-1f84bb766bd3",
   "metadata": {},
   "source": [
    "<img src=\"img/tab_copy_run.png\" alt=\"tab\" style=\"width: 123px; margin:0;\" />"
   ]
  },
  {
   "cell_type": "markdown",
   "id": "0ef6b6d8-6738-48a0-8ca9-cb68ac1d1215",
   "metadata": {},
   "source": [
    "```bash\n",
    "hagrid\n",
    "```\n",
    "\n",
    "You should see the following table."
   ]
  },
  {
   "cell_type": "markdown",
   "id": "6af9ca34-ede8-483a-bebb-2cbc55d8769d",
   "metadata": {},
   "source": [
    "![hagrid_runs](img/hagrid_runs.png)"
   ]
  },
  {
   "cell_type": "markdown",
   "id": "03be73eb",
   "metadata": {},
   "source": [
    "HAGrid checks if all dependencies required for provisioning a Domain or Network node are installed.\n",
    "\n",
    "**Note**: We can see that *Docker* is already installed to speed up the demo. However HAGrid can install *Docker* for you when we provision with the `localhost` target."
   ]
  },
  {
   "cell_type": "markdown",
   "id": "ffafa8fc-ead8-4a68-85d8-ad6b40b998d8",
   "metadata": {},
   "source": [
    "## Step 3: Provisioning the Domain Node"
   ]
  },
  {
   "cell_type": "markdown",
   "id": "3aaa5165-b546-4f05-a4d7-42e0dc3d3fab",
   "metadata": {},
   "source": [
    "You can now use HAGrid to provision the Domain node. Note this can be done outside the box or inside the box or even on your local machine, however the commands vary slightly."
   ]
  },
  {
   "cell_type": "markdown",
   "id": "080de26c-016f-4d9e-a70a-632fdaf65906",
   "metadata": {},
   "source": [
    "<img src=\"img/tab_info.png\" alt=\"tab\" style=\"width: 100px; margin:0;\" />"
   ]
  },
  {
   "cell_type": "markdown",
   "id": "66c1e67c-87d9-4a91-afec-f396a9d6cdae",
   "metadata": {},
   "source": [
    "The HAGrid launch command follows the following format:\n",
    "```\n",
    "    hagrid launch <node_type> <node_name> to <target_host>\n",
    "```\n",
    "**node_type**: In our case the default is implicitly a `domain` <br />\n",
    "**target_host**: Since we are already logged into the VM we use `docker` <br />\n",
    "**node_name**: is the name of the Domain and is an optional argument. If you don't specify a unique <node_name>, then HAGrid generates one automatically <br />\n",
    "**--tag=latest**: this flag ensures we use the `latest` pre-built containers from `dockerhub` <br />\n",
    "**--tail=false**: this flag launches everything in the background <br />\n",
    "\n",
    "**NOTE**: You can run almost any `hagrid launch` command with `--cmd=true` and it will do a dry run, print commands instead of running them."
   ]
  },
  {
   "cell_type": "markdown",
   "id": "33230bd3-87c9-4c40-aa11-46c099f22c40",
   "metadata": {},
   "source": [
    "Since we're already logged into the VM and just want to provision our domain node, we will choose target to be `docker`."
   ]
  },
  {
   "cell_type": "markdown",
   "id": "160e41ca-f9fd-4838-8b73-3bdc3a02cc02",
   "metadata": {},
   "source": [
    "<img src=\"img/tab_copy_run.png\" alt=\"tab\" style=\"width: 123px; margin:0;\" />"
   ]
  },
  {
   "cell_type": "markdown",
   "id": "cfe031ac-53ff-4c72-8801-c98f832a80d1",
   "metadata": {},
   "source": [
    "```shell\n",
    "hagrid launch to docker:80 --tag=latest --tail=false\n",
    "```"
   ]
  },
  {
   "cell_type": "markdown",
   "id": "5085038e-a12d-4403-b49c-2ae8b101d380",
   "metadata": {},
   "source": [
    "When HAGrid is finished you should see all containers printing `Started` and the command prompt again."
   ]
  },
  {
   "cell_type": "markdown",
   "id": "f3702808-d150-491d-8556-1eda177e93ca",
   "metadata": {},
   "source": [
    "![ansible_output](img/hagrid_docker_finish.png)"
   ]
  },
  {
   "cell_type": "markdown",
   "id": "c7e917bd-48a2-48e0-b4d0-976e9fe59bab",
   "metadata": {},
   "source": [
    "## Step 4: Check if the Domain is up"
   ]
  },
  {
   "cell_type": "markdown",
   "id": "ed1c99ad-ca0a-4d90-9962-1f7ef47912e5",
   "metadata": {},
   "source": [
    "The containers take a few moments to start up. To check if things are running we can:\n",
    "- ask HAGrid\n",
    "- check containers with ctop"
   ]
  },
  {
   "cell_type": "markdown",
   "id": "d0e143f3-a2b5-4ba9-b428-9ff70aca2286",
   "metadata": {},
   "source": [
    "### Ask HAGrid"
   ]
  },
  {
   "cell_type": "markdown",
   "id": "8b03828d-f16e-4e65-90b5-bd2366d39ee5",
   "metadata": {},
   "source": [
    "<img src=\"img/tab_copy_run.png\" alt=\"tab\" style=\"width: 123px; margin:0;\" />"
   ]
  },
  {
   "cell_type": "markdown",
   "id": "1196c7ba-e752-4979-ba67-5a124286ae9d",
   "metadata": {},
   "source": [
    "```shell\n",
    "hagrid check --wait\n",
    "```"
   ]
  },
  {
   "cell_type": "markdown",
   "id": "5a8ed4cc-a409-48a1-afaa-920573102b68",
   "metadata": {},
   "source": [
    "<img src=\"img/tab_info.png\" alt=\"tab\" style=\"width: 100px; margin:0;\" />"
   ]
  },
  {
   "cell_type": "markdown",
   "id": "527bbb94-069b-474d-a550-497523b7facb",
   "metadata": {},
   "source": [
    "When you first run this the API endpoint may not be finished starting, with the `--wait` flag hagrid will keep checking until they are all green."
   ]
  },
  {
   "cell_type": "markdown",
   "id": "4e13598a-04aa-45d8-92bd-08dd5e611d30",
   "metadata": {},
   "source": [
    "![hagrid_check_host_ip](img/hagrid_check_host_ip.png)"
   ]
  },
  {
   "cell_type": "markdown",
   "id": "bbb633f4-e7ae-4516-a490-28076c662671",
   "metadata": {
    "tags": []
   },
   "source": [
    "### Step 5: Check in your Browser"
   ]
  },
  {
   "cell_type": "markdown",
   "id": "d6d021e8-c46a-4a41-9888-87c15a83e4fa",
   "metadata": {},
   "source": [
    "<img src=\"img/tab_run.png\" alt=\"tab\" style=\"width: 100px; margin:0;\" />"
   ]
  },
  {
   "cell_type": "code",
   "execution_count": null,
   "id": "e0819ad2-4d9c-45e9-b8db-b720e04ffcdf",
   "metadata": {},
   "outputs": [],
   "source": [
    "# autodetect the host_ip\n",
    "from utils import auto_detect_domain_host_ip\n",
    "\n",
    "DOMAIN_HOST_IP = auto_detect_domain_host_ip()"
   ]
  },
  {
   "cell_type": "markdown",
   "id": "de6661c0-36b8-4c47-9a32-27417488a385",
   "metadata": {},
   "source": [
    "<img src=\"img/tab_do.png\" alt=\"tab\" style=\"width: 100px; margin:0;\" />"
   ]
  },
  {
   "cell_type": "code",
   "execution_count": null,
   "id": "ec0294b7-2383-4b3f-be5e-17362131b9ee",
   "metadata": {},
   "outputs": [],
   "source": [
    "print(\"Your Domain's Web Portal should now be ready:\\n\")\n",
    "print(\"👇🏽 Click here to see PyGridUI\")\n",
    "print(f\"http://{DOMAIN_HOST_IP}\")"
   ]
  },
  {
   "cell_type": "markdown",
   "id": "7b056111-c9ac-4db4-b2cd-3cd6410b2eb9",
   "metadata": {},
   "source": [
    "To login into the your domain you will need the following credentials:\n",
    "\n",
    "- email address: We will use the email (info@openmined.org) set on domain creation\n",
    "- password: We will use the password (changethis) set on domain creation"
   ]
  },
  {
   "cell_type": "markdown",
   "id": "b3e04dd5-990b-40e0-beda-52ccd5b8bdc8",
   "metadata": {},
   "source": [
    "![check_browser](img/check_browser.png)"
   ]
  },
  {
   "cell_type": "markdown",
   "id": "0deeaee7-5874-4700-a160-9aa1f5abde0d",
   "metadata": {},
   "source": [
    "<img src=\"img/tab_finish.png\" alt=\"tab\" style=\"width: 100px; margin:0;\" />"
   ]
  },
  {
   "cell_type": "markdown",
   "id": "17e5b1f7-7d58-4d7b-bbd0-5cc742144e43",
   "metadata": {},
   "source": [
    "🙌🏽 Notebook Complete!\n",
    "\n",
    "🖐 Raise your hand in Zoom\n",
    "\n",
    "👉🏽 Then, click to continue to Notebook 3: [03-data-owners-upload-dataset.ipynb](03-data-owners-upload-dataset.ipynb)"
   ]
  },
  {
   "cell_type": "markdown",
   "id": "51bb1302-72ef-4cd3-83bd-776cace9e22e",
   "metadata": {},
   "source": [
    "<img src=\"img/tab_optional.png\" alt=\"tab\" style=\"width: 100px; margin:0;\" />"
   ]
  },
  {
   "cell_type": "markdown",
   "id": "6a1ae2ce-7968-4db7-bd1e-f68965456523",
   "metadata": {
    "jp-MarkdownHeadingCollapsed": true,
    "tags": []
   },
   "source": [
    "### Inspect Containers"
   ]
  },
  {
   "cell_type": "markdown",
   "id": "46885aa2-4845-45cf-b874-2bb7e52f93fe",
   "metadata": {},
   "source": [
    "If you wish to view the individual containers and their logs there a great utility called `ctop` which allows you to work with docker containers on the command line easily.\n",
    "\n",
    "We have pre-installed it for this demo so you can take it for a spin."
   ]
  },
  {
   "cell_type": "markdown",
   "id": "36451d67-1706-4795-9791-5e8c57e5f27f",
   "metadata": {},
   "source": [
    "<img src=\"img/tab_copy_run.png\" alt=\"tab\" style=\"width: 123px; margin:0;\" />"
   ]
  },
  {
   "cell_type": "markdown",
   "id": "f920de40-e4fa-43cf-a40e-6c2c98b899cc",
   "metadata": {},
   "source": [
    "```shell\n",
    "sudo ctop\n",
    "```"
   ]
  },
  {
   "cell_type": "markdown",
   "id": "236dd153-8a7c-4378-bf69-9d9738f1953d",
   "metadata": {},
   "source": [
    "You can use the arrow keys, enter and letter shortcuts to navigate around. You need to just press `q` (small letter q) to quit or exit from `ctop` session.\n",
    "\n",
    "For information on `ctop` you can visit its [Github](https://github.com/bcicen/ctop) repo."
   ]
  },
  {
   "cell_type": "markdown",
   "id": "a44bdb80-19ea-46db-8963-3086fc1c44bf",
   "metadata": {},
   "source": [
    "![ctop](img/ctop.png)"
   ]
  },
  {
   "cell_type": "code",
   "execution_count": null,
   "id": "1260dbc4-50df-4be6-99d8-6cf0d40f3dfd",
   "metadata": {},
   "outputs": [],
   "source": []
  }
 ],
 "metadata": {
  "kernelspec": {
   "display_name": "Python 3 (ipykernel)",
   "language": "python",
   "name": "python3"
  },
  "language_info": {
   "codemirror_mode": {
    "name": "ipython",
    "version": 3
   },
   "file_extension": ".py",
   "mimetype": "text/x-python",
   "name": "python",
   "nbconvert_exporter": "python",
   "pygments_lexer": "ipython3",
   "version": "3.9.7"
  }
 },
 "nbformat": 4,
 "nbformat_minor": 5
}

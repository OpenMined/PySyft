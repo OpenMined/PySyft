{
 "cells": [
  {
   "cell_type": "markdown",
   "id": "036b338d-ed41-4735-b0a1-5ff47ed31b94",
   "metadata": {},
   "source": [
    "# Notebook 5: Complete"
   ]
  },
  {
   "cell_type": "markdown",
   "id": "4ef18e9a-fc14-4b6b-9a56-609ef43084a0",
   "metadata": {},
   "source": [
    "🙌🏽 Congratulations you have completed all the steps in this notebook series."
   ]
  },
  {
   "cell_type": "markdown",
   "id": "05c23f31-f822-4554-9252-09a1d3cd72bf",
   "metadata": {},
   "source": [
    "<img src=\"img/tab_watch.png\" alt=\"tab\" style=\"width: 100px; margin:0;\" />"
   ]
  },
  {
   "cell_type": "markdown",
   "id": "d422c749-db3c-46bf-90a7-834686e7586c",
   "metadata": {},
   "source": [
    "Sit back and enjoy the rest of the presentation and don't forget to ask any questions you might be thinking about."
   ]
  },
  {
   "cell_type": "markdown",
   "id": "c90cc573-209f-4f47-b46f-062c9d3cefd0",
   "metadata": {},
   "source": [
    "<img src=\"img/tab_optional.png\" alt=\"tab\" style=\"width: 100px; margin:0;\" />"
   ]
  },
  {
   "cell_type": "markdown",
   "id": "0ee0bc18-21a8-4b8f-9e7f-7e02b8ae52dd",
   "metadata": {},
   "source": [
    "## Relevant Links"
   ]
  },
  {
   "cell_type": "markdown",
   "id": "70f88163-cc26-4ef1-8fe9-95fcb52adaf4",
   "metadata": {},
   "source": [
    "This Notebook series: https://github.com/OpenMined/PySyft/blob/dev/notebooks/medical-federated-learning-program/welcome.ipynb"
   ]
  },
  {
   "cell_type": "markdown",
   "id": "4ec6c415-26e2-4fad-9fcc-ead4f41577de",
   "metadata": {},
   "source": [
    "GitHub: https://github.com/OpenMined/pysyft <br />\n",
    "Slack: https://slack.openmined.org <br />\n",
    "Twitter: https://twitter.com/openminedorg <br />"
   ]
  }
 ],
 "metadata": {
  "kernelspec": {
   "display_name": "Python 3 (ipykernel)",
   "language": "python",
   "name": "python3"
  },
  "language_info": {
   "codemirror_mode": {
    "name": "ipython",
    "version": 3
   },
   "file_extension": ".py",
   "mimetype": "text/x-python",
   "name": "python",
   "nbconvert_exporter": "python",
   "pygments_lexer": "ipython3",
   "version": "3.10.3"
  }
 },
 "nbformat": 4,
 "nbformat_minor": 5
}

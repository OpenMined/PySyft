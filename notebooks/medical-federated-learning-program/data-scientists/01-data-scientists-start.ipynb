{
 "cells": [
  {
   "cell_type": "markdown",
   "id": "7deeffc9",
   "metadata": {},
   "source": [
    "### Step 1: Import packages"
   ]
  },
  {
   "cell_type": "code",
   "execution_count": null,
   "id": "39ac81b7-c51a-4f38-bd5a-fcf52bf6d8cc",
   "metadata": {},
   "outputs": [],
   "source": [
    "# install syft if we are on google colab\n",
    "import sys, os; os.system(\"pip install --pre syft\") if \"google.colab\" in sys.modules else \"\"\n",
    "import syft as sy\n",
    "import numpy as np\n",
    "import pandas as pd\n",
    "from tqdm import tqdm\n",
    "import time\n",
    "from utils import *"
   ]
  },
  {
   "cell_type": "markdown",
   "id": "042a005a",
   "metadata": {},
   "source": [
    "### Step 2: Add DS Credentials"
   ]
  },
  {
   "cell_type": "code",
   "execution_count": null,
   "id": "2f276285-b413-42c6-8620-e92d57954ecc",
   "metadata": {},
   "outputs": [],
   "source": [
    "domain_credentials = add_credentials(\n",
    "    [\n",
    "        {'name': 'Sam Carter', 'email': 'sam@stargate.net', 'password': 'changethis', 'url': 'localhost', \"budget\": 999},\n",
    "    ]\n",
    ")"
   ]
  },
  {
   "cell_type": "markdown",
   "id": "ec10fce0",
   "metadata": {},
   "source": [
    "### Step: 3 Login into the Domains"
   ]
  },
  {
   "cell_type": "code",
   "execution_count": null,
   "id": "e7e2b439",
   "metadata": {},
   "outputs": [],
   "source": [
    "domains = login_to_domains(domain_credentials)"
   ]
  },
  {
   "cell_type": "markdown",
   "id": "8cafead4",
   "metadata": {},
   "source": [
    "### Step 4: View Dataset on one of the Domains"
   ]
  },
  {
   "cell_type": "code",
   "execution_count": null,
   "id": "bdc629d3",
   "metadata": {},
   "outputs": [],
   "source": [
    "domains[0].datasets"
   ]
  },
  {
   "cell_type": "markdown",
   "id": "8d287227",
   "metadata": {},
   "source": [
    "### Step 5: View Assets on the Dataset"
   ]
  },
  {
   "cell_type": "code",
   "execution_count": null,
   "id": "bce0c330",
   "metadata": {},
   "outputs": [],
   "source": [
    "domains[0].datasets[-1]"
   ]
  },
  {
   "cell_type": "markdown",
   "id": "b8b9ae6a",
   "metadata": {},
   "source": [
    "### Step 6: Preprocess Images"
   ]
  },
  {
   "cell_type": "code",
   "execution_count": null,
   "id": "fc139e5b-a73d-4bf8-bc0f-9184e0aba7e4",
   "metadata": {},
   "outputs": [],
   "source": [
    "X_train , X_val, Y_train, Y_val = preprocess_data_on_domains(domains)"
   ]
  },
  {
   "cell_type": "markdown",
   "id": "98b18553",
   "metadata": {},
   "source": [
    "### Step 7: View Synthetic data"
   ]
  },
  {
   "cell_type": "code",
   "execution_count": null,
   "id": "66192cf0",
   "metadata": {},
   "outputs": [],
   "source": [
    "(X_train[0], Y_train[0]), (X_val[0], Y_val[0])"
   ]
  },
  {
   "cell_type": "markdown",
   "id": "c6ca664b",
   "metadata": {},
   "source": [
    "### Step 8: Train Model"
   ]
  },
  {
   "cell_type": "code",
   "execution_count": null,
   "id": "0b8aa572-db50-4730-a175-94287da1b75d",
   "metadata": {},
   "outputs": [],
   "source": [
    "def train_model(X, Y, alpha, iterations):\n",
    "    label_size = int(Y.max_vals.data-Y.min_vals.data+1)\n",
    "    m, n = X.public_shape\n",
    "    W1, b1, W2, b2 = init_params(m, label_size)\n",
    "    print(\"[INFO]: Starting training!\\n\")\n",
    "    for i in tqdm(range(iterations)):\n",
    "        \n",
    "        Z1, A1, Z2, A2 = forward_prop(W1, b1, W2, b2, X)\n",
    "        dW1, db1, dW2, db2 = backward_prop(Z1, A1, Z2, A2, W1, W2, X, Y)\n",
    "        W1, b1, W2, b2 = update_params(W1, b1, W2, b2, dW1, db1, dW2, db2, alpha)\n",
    "\n",
    "    return W1, b1, W2, b2\n",
    "\n",
    "# Contains the weight from all domain nodes\n",
    "W1, b1, W2, b2 = [], [], [], []\n",
    "for X, Y in zip(X_train, Y_train):\n",
    "    W1_train, b1_train, W2_train, b2_train = train_model(X, Y, 0.10, 1)\n",
    "    \n",
    "    W1.append(W1_train)\n",
    "    b1.append(b1_train)\n",
    "    W2.append(W2_train)\n",
    "    b2.append(b2_train)"
   ]
  },
  {
   "cell_type": "markdown",
   "id": "29a81121",
   "metadata": {},
   "source": [
    "### Step 9: Check status of training"
   ]
  },
  {
   "cell_type": "code",
   "execution_count": null,
   "id": "70ce223b",
   "metadata": {},
   "outputs": [],
   "source": [
    "for p1,p2,p3,p4 in zip(W1,b1,W2,b2):\n",
    "    p1.block_with_timeout(60)\n",
    "    p2.block_with_timeout(60)\n",
    "    p3.block_with_timeout(60)\n",
    "    p4.block_with_timeout(60)\n",
    "\n",
    "    print(f\"Training Successful on  Domain Client ✅:{p1.client} \")"
   ]
  },
  {
   "cell_type": "markdown",
   "id": "63b2abb2",
   "metadata": {},
   "source": [
    "### Step 10: SMPC Averaging of the Weights"
   ]
  },
  {
   "cell_type": "code",
   "execution_count": null,
   "id": "41058c17",
   "metadata": {},
   "outputs": [],
   "source": [
    "avg_W1, avg_b1, avg_W2, avg_b2 = smpc_weight_averaging(W1, b1, W2, b2)\n",
    "for ptr in [avg_W1,avg_b1, avg_W2, avg_b2]:\n",
    "    ptr.block_with_timeout(60)\n",
    "    print(\"SMPC Averaging Successful  ✅\")"
   ]
  },
  {
   "cell_type": "markdown",
   "id": "608bc319",
   "metadata": {},
   "source": [
    "### Step 11: Publish Weights using DP"
   ]
  },
  {
   "cell_type": "code",
   "execution_count": null,
   "id": "efb717de",
   "metadata": {},
   "outputs": [],
   "source": [
    "#Publish Weights Using DP\n",
    "sigma = 100\n",
    "avg_W1 = avg_W1.publish(sigma=sigma)\n",
    "avg_b1 = avg_b1.publish(sigma=sigma)\n",
    "avg_W2 = avg_W2.publish(sigma=sigma)\n",
    "avg_b2 = avg_b2.publish(sigma=sigma)\n",
    "print(\"You have witnessed and trained one of a kind ML Model Training with SMPC +DP \")"
   ]
  },
  {
   "cell_type": "markdown",
   "id": "4f52481e",
   "metadata": {},
   "source": [
    "### Step 12: Check if public Weights are ready "
   ]
  },
  {
   "cell_type": "code",
   "execution_count": null,
   "id": "9a5f7f13",
   "metadata": {},
   "outputs": [],
   "source": [
    "for p1,p2,p3,p4 in [(avg_W1, avg_b1, avg_W2, avg_b2)]:\n",
    "    p1.block_with_timeout(60)\n",
    "    p2.block_with_timeout(60)\n",
    "    p3.block_with_timeout(60)\n",
    "    p4.block_with_timeout(60)    \n",
    "print(\"Results are ready for download !!!\")"
   ]
  },
  {
   "cell_type": "markdown",
   "id": "28026923",
   "metadata": {},
   "source": [
    "### Step 13: Download the Weights"
   ]
  },
  {
   "cell_type": "code",
   "execution_count": null,
   "id": "07923bd7",
   "metadata": {},
   "outputs": [],
   "source": [
    "pub_W1, pub_b1, pub_W2, pub_b2 = avg_W1.get_copy(), avg_b1.get_copy(), avg_W2.get_copy(), avg_b2.get_copy()\n",
    "print(\"Woohoo.. your results are ready !!!\")"
   ]
  },
  {
   "cell_type": "markdown",
   "id": "7eefdff7",
   "metadata": {},
   "source": [
    "### Step 14: View Results"
   ]
  },
  {
   "cell_type": "code",
   "execution_count": null,
   "id": "902884c4",
   "metadata": {},
   "outputs": [],
   "source": [
    "print(pub_W1, pub_b1, pub_W2, pub_b2)"
   ]
  }
 ],
 "metadata": {
  "interpreter": {
   "hash": "630449982b6186a6531308cd76ed4d510e9db65154e43844c2906c6a20ad2a6d"
  },
  "kernelspec": {
   "display_name": "Python 3 (ipykernel)",
   "language": "python",
   "name": "python3"
  },
  "language_info": {
   "codemirror_mode": {
    "name": "ipython",
    "version": 3
   },
   "file_extension": ".py",
   "mimetype": "text/x-python",
   "name": "python",
   "nbconvert_exporter": "python",
   "pygments_lexer": "ipython3",
   "version": "3.9.7"
  }
 },
 "nbformat": 4,
 "nbformat_minor": 5
}

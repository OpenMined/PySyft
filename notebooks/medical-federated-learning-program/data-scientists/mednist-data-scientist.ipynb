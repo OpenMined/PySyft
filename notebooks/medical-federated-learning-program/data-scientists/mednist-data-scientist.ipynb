{
 "cells": [
  {
   "cell_type": "code",
   "execution_count": 1,
   "id": "39ac81b7-c51a-4f38-bd5a-fcf52bf6d8cc",
   "metadata": {},
   "outputs": [
    {
     "name": "stderr",
     "output_type": "stream",
     "text": [
      "/home/azureuser/.local/share/virtualenvs/python39-2vM0bQN-/lib/python3.9/site-packages/tqdm/auto.py:22: TqdmWarning: IProgress not found. Please update jupyter and ipywidgets. See https://ipywidgets.readthedocs.io/en/stable/user_install.html\n",
      "  from .autonotebook import tqdm as notebook_tqdm\n"
     ]
    }
   ],
   "source": [
    "# install syft if we are on google colab\n",
    "import sys, os; os.system(\"pip install --pre syft\") if \"google.colab\" in sys.modules else \"\"\n",
    "import syft as sy\n",
    "import numpy as np\n",
    "import pandas as pd\n",
    "from tqdm import tqdm\n",
    "import time\n"
   ]
  },
  {
   "cell_type": "code",
   "execution_count": 2,
   "id": "5f341209-b087-40e0-9405-72208b0a2163",
   "metadata": {},
   "outputs": [],
   "source": [
    "domains = {} # our logged in domain clients\n",
    "domain_credentials = set() # our set of domain credentials"
   ]
  },
  {
   "cell_type": "code",
   "execution_count": 3,
   "id": "043563d9-0566-466b-af81-aa63f7327629",
   "metadata": {},
   "outputs": [],
   "source": [
    "# enter the dict given from the data owner\n",
    "def add_credentials(credentials_dict_list):\n",
    "    for credentials_dict in credentials_dict_list:\n",
    "        fs = frozenset(credentials_dict.items())\n",
    "        domain_credentials.add(fs)"
   ]
  },
  {
   "cell_type": "code",
   "execution_count": 4,
   "id": "2f276285-b413-42c6-8620-e92d57954ecc",
   "metadata": {},
   "outputs": [],
   "source": [
    "add_credentials(\n",
    "    [\n",
    "        {'url': 'localhost', 'name': 'Samantha Carter', 'email': 'info@openmined.org', 'password': 'changethis', 'dataset_name': 'MedNIST Data 1/10'},\n",
    "    ]   \n",
    ")"
   ]
  },
  {
   "cell_type": "code",
   "execution_count": 5,
   "id": "9c1e6076-2922-407b-845e-6fa20481d088",
   "metadata": {},
   "outputs": [
    {
     "data": {
      "text/plain": [
       "{frozenset({('dataset_name', 'MedNIST Data 1/10'),\n",
       "            ('email', 'info@openmined.org'),\n",
       "            ('name', 'Samantha Carter'),\n",
       "            ('password', 'changethis'),\n",
       "            ('url', 'localhost')})}"
      ]
     },
     "execution_count": 5,
     "metadata": {},
     "output_type": "execute_result"
    }
   ],
   "source": [
    "domain_credentials"
   ]
  },
  {
   "cell_type": "code",
   "execution_count": 6,
   "id": "7ac6888e-cc6a-4e89-bdf3-fb8eb2418f89",
   "metadata": {},
   "outputs": [],
   "source": [
    "def login_to_domains(force: bool = False):\n",
    "    for fd in domain_credentials:\n",
    "        credentials = dict(fd)\n",
    "        if credentials[\"url\"] not in domains or force:\n",
    "            try:\n",
    "                details = credentials.copy()\n",
    "                del details[\"name\"]\n",
    "                client = sy.login(**details)\n",
    "                domains[credentials[\"url\"]] = client\n",
    "            except Exception as e:\n",
    "                print(e)"
   ]
  },
  {
   "cell_type": "code",
   "execution_count": 7,
   "id": "c433a592-62cd-4dce-8389-2907592c8e5e",
   "metadata": {},
   "outputs": [
    {
     "name": "stdout",
     "output_type": "stream",
     "text": [
      "WARNING: CHANGE YOUR USERNAME AND PASSWORD!!! \n",
      "\n",
      "Anyone can login as an admin to your node right now because your password is still the default PySyft username and password!!!\n",
      "\n",
      "Connecting to localhost... done! \t Logging into canada... done!\n"
     ]
    }
   ],
   "source": [
    "login_to_domains()"
   ]
  },
  {
   "cell_type": "code",
   "execution_count": 9,
   "id": "52a04982",
   "metadata": {},
   "outputs": [],
   "source": [
    "domain_clients = list(domains.values())\n"
   ]
  },
  {
   "cell_type": "code",
   "execution_count": 10,
   "id": "bdc629d3",
   "metadata": {},
   "outputs": [
    {
     "name": "stdout",
     "output_type": "stream",
     "text": [
      "Dataset: MedNIST Data 1/10\n",
      "Description: The MedNIST dataset was gathered from several sets from TCIA, the RSNA Bone Age Challenge, and the NIH Chest X-ray dataset. The dataset is kindly made available by Dr. Bradley J. Erickson M.D., Ph.D. (Department of Radiology, Mayo Clinic) under the Creative Commons CC BY-SA 4.0 license.\n",
      "Label Count: 6\n",
      "Label Mapping: {\"AbdomenCT\": 0, \"BreastMRI\": 1, \"CXR\": 2, \"ChestCT\": 3, \"Hand\": 4, \"HeadCT\": 5}\n",
      "Image Dimensions: (64, 64)\n",
      "Total Images: 5895\n",
      "\n",
      "\n"
     ]
    },
    {
     "data": {
      "text/html": [
       "<style>\n",
       "        #myInput {\n",
       "          background-position: 10px 12px; /* Position the search icon */\n",
       "          background-repeat: no-repeat; /* Do not repeat the icon image */\n",
       "          background-color: #bbb;\n",
       "          width: 98%; /* Full-width */\n",
       "          font-size: 14px; /* Increase font-size */\n",
       "          padding: 12px 20px 12px 40px; /* Add some padding */\n",
       "          border: 1px solid #ddd; /* Add a grey border */\n",
       "          margin-bottom: 12px; /* Add some space below the input */\n",
       "        }\n",
       "\n",
       "        #myTable {\n",
       "          border-collapse: collapse; /* Collapse borders */\n",
       "          width: 50%; /* Full-width */\n",
       "          border: 1px solid #ddd; /* Add a grey border */\n",
       "          font-size: 14px; /* Increase font-size */\n",
       "        }\n",
       "\n",
       "        #myTable th, #myTable td {\n",
       "          text-align: left; /* Left-align text */\n",
       "          padding: 10px; /* Add padding */\n",
       "        }\n",
       "\n",
       "        #myTable tr {\n",
       "          /* Add a bottom border to all table rows */\n",
       "          border-bottom: 1px solid #ddd;\n",
       "        }\n",
       "\n",
       "        #myTable tr.header, #myTable tr:hover {\n",
       "          /* Add a grey background color to the table header and on hover */\n",
       "          background-color: #777;\n",
       "        }\n",
       "        </style>\n",
       "\n",
       "        <table id=\"myTable\">\n",
       "          <tr class=\"header\">\n",
       "            <th style=\"width:15%;\">Asset Key</th>\n",
       "            <th style=\"width:20%;\">Type</th>\n",
       "            <th style=\"width:10%;\">Shape</th>\n",
       "          </tr>\n",
       "        \n",
       "\n",
       "              <tr>\n",
       "            <td>[\"train_images\"]</td>\n",
       "            <td><class 'syft.core.tensor.tensor.Tensor'></td>\n",
       "            <td>(4731, 4096)</td>\n",
       "          </tr>\n",
       "\n",
       "              <tr>\n",
       "            <td>[\"train_labels\"]</td>\n",
       "            <td><class 'syft.core.tensor.tensor.Tensor'></td>\n",
       "            <td>(4731,)</td>\n",
       "          </tr>\n",
       "\n",
       "              <tr>\n",
       "            <td>[\"val_images\"]</td>\n",
       "            <td><class 'syft.core.tensor.tensor.Tensor'></td>\n",
       "            <td>(626, 4096)</td>\n",
       "          </tr>\n",
       "\n",
       "              <tr>\n",
       "            <td>[\"val_labels\"]</td>\n",
       "            <td><class 'syft.core.tensor.tensor.Tensor'></td>\n",
       "            <td>(626,)</td>\n",
       "          </tr>\n",
       "\n",
       "              <tr>\n",
       "            <td>[\"test_images\"]</td>\n",
       "            <td><class 'syft.core.tensor.tensor.Tensor'></td>\n",
       "            <td>(538, 4096)</td>\n",
       "          </tr>\n",
       "\n",
       "              <tr>\n",
       "            <td>[\"test_labels\"]</td>\n",
       "            <td><class 'syft.core.tensor.tensor.Tensor'></td>\n",
       "            <td>(538,)</td>\n",
       "          </tr>\n",
       "        </table>\n",
       "\n",
       "        "
      ],
      "text/plain": [
       "<syft.core.node.common.client_manager.dataset_api.Dataset at 0x7f1bf6873f40>"
      ]
     },
     "execution_count": 10,
     "metadata": {},
     "output_type": "execute_result"
    }
   ],
   "source": [
    "domain_clients[0].datasets[-1]"
   ]
  },
  {
   "cell_type": "code",
   "execution_count": 11,
   "id": "fc139e5b-a73d-4bf8-bc0f-9184e0aba7e4",
   "metadata": {},
   "outputs": [],
   "source": [
    "X_train , Y_train, X_dev, Y_dev = [] , [], [], []\n",
    "for idx, domain in enumerate(domain_clients):\n",
    "    data = domain.datasets[-1]\n",
    "\n",
    "    X_train.append(data[\"train_images\"])\n",
    "    Y_train.append(data[\"train_labels\"])\n",
    "\n",
    "    X_dev.append(data[\"val_images\"])\n",
    "    Y_dev.append(data[\"val_labels\"])\n",
    "    \n",
    "    #Pre process data\n",
    "    X_train[idx] = (X_train[idx].T) *(1/255.0)\n",
    "    X_dev[idx] = (X_dev[idx].T) *(1/255.0)\n",
    "    \n",
    "m,n = X_train[0].public_shape"
   ]
  },
  {
   "cell_type": "code",
   "execution_count": 12,
   "id": "64495f62-3f35-456f-b07d-15018a502f75",
   "metadata": {},
   "outputs": [
    {
     "data": {
      "text/plain": [
       "((<TensorPointer -> canada:2a3b1cb6f47d41728737d79f1182272f>,\n",
       "  <TensorPointer -> canada:84d45abe84e9485ab97c2f5a7743b494>),\n",
       " (<TensorPointer -> canada:2a3b1cb6f47d41728737d79f1182272f>,\n",
       "  <TensorPointer -> canada:84d45abe84e9485ab97c2f5a7743b494>))"
      ]
     },
     "execution_count": 12,
     "metadata": {},
     "output_type": "execute_result"
    }
   ],
   "source": [
    "(X_train[0], Y_train[0]), (X_dev[0], Y_dev[0])"
   ]
  },
  {
   "cell_type": "code",
   "execution_count": 16,
   "id": "0b8aa572-db50-4730-a175-94287da1b75d",
   "metadata": {},
   "outputs": [],
   "source": [
    "def init_params(input_size: int):\n",
    "    print(f\"Using input size: {input_size}\")\n",
    "    W1 = np.random.rand(6, input_size) - 0.5\n",
    "    b1 = np.random.rand(6, 1) - 0.5\n",
    "    W2 = np.random.rand(6, 6) - 0.5\n",
    "    b2 = np.random.rand(6, 1) - 0.5\n",
    "    return W1, b1, W2, b2\n",
    "\n",
    "\n",
    "def ReLU(Z):\n",
    "    return Z * (Z > 0)\n",
    "\n",
    "\n",
    "def softmax(Z):\n",
    "    exp_cache = Z.exp()\n",
    "    inv = exp_cache.sum().reciprocal()\n",
    "\n",
    "    A = exp_cache * inv\n",
    "    return A\n",
    "\n",
    "\n",
    "def forward_prop(W1, b1, W2, b2, X):\n",
    "    Z1 = X.__rmatmul__(W1) + b1\n",
    "    A1 = ReLU(Z1)\n",
    "    Z2 = A1.__rmatmul__(W2) + b2\n",
    "    A2 = softmax(Z2)\n",
    "    return Z1, A1, Z2, A2\n",
    "\n",
    "\n",
    "def ReLU_deriv(Z):\n",
    "    return Z > 0\n",
    "\n",
    "\n",
    "def one_hot(Y):\n",
    "    one_hot_Y = np.zeros((Y.size, Y.max() + 1))\n",
    "    one_hot_Y[np.arange(Y.size), Y] = 1\n",
    "    one_hot_Y = one_hot_Y.T\n",
    "    return one_hot_Y\n",
    "\n",
    "\n",
    "def backward_prop(Z1, A1, Z2, A2, W1, W2, X, Y):\n",
    "    one_hot_Y = Y.one_hot()\n",
    "    dZ2 = A2 - one_hot_Y\n",
    "    dW2 = dZ2 @ (A1.T) * (1 / m)\n",
    "    db2 = dZ2.sum() * (1 / m)\n",
    "    dZ1 = dZ2.__rmatmul__(W2.T) * ReLU_deriv(Z1)\n",
    "    dW1 = dZ1 @ (X.T) * (1 / m)\n",
    "    db1 = dZ1.sum() * (1 / m)\n",
    "    return dW1, db1, dW2, db2\n",
    "\n",
    "\n",
    "def update_params(W1, b1, W2, b2, dW1, db1, dW2, db2, alpha):\n",
    "    W1 = (dW1 * alpha - W1) * -1\n",
    "    b1 = (db1 * alpha - b1) * -1\n",
    "    W2 = (dW2 * alpha - W2) * -1\n",
    "    b2 = (db2 * alpha - b2) * -1\n",
    "    return W1, b1, W2, b2\n",
    "\n",
    "\n",
    "def gradient_descent(X, Y, alpha, iterations):\n",
    "    W1, b1, W2, b2 = init_params(X.public_shape[0])\n",
    "    print(\"[INFO]: Starting training!\\n\")\n",
    "    for i in tqdm(range(iterations)):\n",
    "        Z1, A1, Z2, A2 = forward_prop(W1, b1, W2, b2, X)\n",
    "        dW1, db1, dW2, db2 = backward_prop(Z1, A1, Z2, A2, W1, W2, X, Y)\n",
    "        W1, b1, W2, b2 = update_params(W1, b1, W2, b2, dW1, db1, dW2, db2, alpha)\n",
    "\n",
    "    return W1, b1, W2, b2\n"
   ]
  },
  {
   "cell_type": "code",
   "execution_count": null,
   "metadata": {},
   "outputs": [],
   "source": [
    "W1, b1, W2, b2 = [], [], [], [] #Contains the weight from all domain nodes\n",
    "for X_train, Y_train in zip(X_train, Y_train):\n",
    "    W1_train, b1_train, W2_train, b2_train = gradient_descent(X_train, Y_train, 0.10, 1)\n",
    "\n",
    "    W1.append(W1_train)\n",
    "    b1.append(b1_train)\n",
    "    W2.append(W2_train)\n",
    "    b2.append(b2_train)\n"
   ]
  },
  {
   "cell_type": "code",
   "execution_count": null,
   "metadata": {},
   "outputs": [],
   "source": [
    "for p1,p2,p3,p4 in zip(W1,b1,W2,b2):\n",
    "    p1.block_with_timeout(60)\n",
    "    p2.block_with_timeout(60)\n",
    "    p3.block_with_timeout(60)\n",
    "    p4.block_with_timeout(60)\n",
    "\n",
    "    print(f\"Training Successful on  Domain Client ✅:{p1.client} \")"
   ]
  },
  {
   "cell_type": "code",
   "execution_count": null,
   "metadata": {},
   "outputs": [],
   "source": [
    "# SMPC Averaging of the Weights\n",
    "n = len(W1)\n",
    "W1 = sum(W1) * (1 / n)\n",
    "b1 = sum(b1) * (1 / n)\n",
    "W2 = sum(W2) * (1 / n)\n",
    "b2 = sum(b1) * (1 / n)"
   ]
  },
  {
   "cell_type": "code",
   "execution_count": null,
   "metadata": {},
   "outputs": [],
   "source": [
    "for ptr in [W1,b1,W2,b2]:\n",
    "    ptr.block_with_timeout(60)\n",
    "    print(\"SMPC Averaging Successful  ✅\")"
   ]
  },
  {
   "cell_type": "code",
   "execution_count": null,
   "metadata": {},
   "outputs": [],
   "source": [
    "#Publish Weights Using DP\n",
    "sigma = 100\n",
    "W1 = W1.publish(sigma=sigma)\n",
    "b1 = b1.publish(sigma=sigma)\n",
    "W2 = W2.publish(sigma=sigma)\n",
    "b2 = b2.publish(sigma=sigma)\n",
    "print(\"You have witnessed and trained one of a kind ML Model Training with SMPC +DP \")"
   ]
  },
  {
   "cell_type": "code",
   "execution_count": null,
   "metadata": {},
   "outputs": [],
   "source": []
  }
 ],
 "metadata": {
  "interpreter": {
   "hash": "630449982b6186a6531308cd76ed4d510e9db65154e43844c2906c6a20ad2a6d"
  },
  "kernelspec": {
   "display_name": "Python 3.9.4 64-bit ('python39-2vM0bQN-': pipenv)",
   "name": "python3"
  },
  "language_info": {
   "codemirror_mode": {
    "name": "ipython",
    "version": 3
   },
   "file_extension": ".py",
   "mimetype": "text/x-python",
   "name": "python",
   "nbconvert_exporter": "python",
   "pygments_lexer": "ipython3",
   "version": "3.9.4"
  }
 },
 "nbformat": 4,
 "nbformat_minor": 5
}

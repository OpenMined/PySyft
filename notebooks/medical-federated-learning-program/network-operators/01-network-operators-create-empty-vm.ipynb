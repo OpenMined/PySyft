{
 "cells": [
  {
   "cell_type": "markdown",
   "id": "4cfd6c5a-09bd-42e6-aba6-24971da44d99",
   "metadata": {},
   "source": [
    "# Create an empty Ubuntu VM on Azure"
   ]
  },
  {
   "cell_type": "markdown",
   "id": "6495454f-0cf2-4d21-8a60-d01ba9b67b88",
   "metadata": {},
   "source": [
    "Install HAGrid"
   ]
  },
  {
   "cell_type": "markdown",
   "id": "5597864f-3ab6-4957-8a57-f865200b8314",
   "metadata": {},
   "source": [
    "```\n",
    "pip install -U hagrid\n",
    "```"
   ]
  },
  {
   "cell_type": "markdown",
   "id": "1e32e1a3-59e0-45f1-bfa0-3d008ca7413e",
   "metadata": {},
   "source": [
    "__NOTE__: Just in case there are some issues with a VM we should provision are few extra, here we use node_count 12 for a session of 10 users"
   ]
  },
  {
   "cell_type": "markdown",
   "id": "c698bf82-4346-40a7-b618-db3a471768d1",
   "metadata": {},
   "source": [
    "Run hagrid launch with these arguments:"
   ]
  },
  {
   "cell_type": "markdown",
   "id": "cb74a71b-6d04-4c18-98dd-6ac3040cbfde",
   "metadata": {},
   "source": [
    "```\n",
    "hagrid launch to azure --image_name=domain_0.7.0 --jupyter --ansible_extras=\"install=false,aa_demo=true\" --node_count 12\n",
    "```"
   ]
  },
  {
   "cell_type": "markdown",
   "id": "abc09642-a3a6-4b3a-88ee-1489b90263b6",
   "metadata": {},
   "source": [
    "- Use a new unique resource group for this session like: aa-test-1\n",
    "- Choose the location where your demo participants will be located, e.g. `eastus`, `westus` etc\n",
    "- Choose an 8 core machine like `Standard_D8s_v3`\n",
    "- Set the username to `azureuser`\n",
    "- Choose password and then `n` to auto-generate password\n",
    "- Set an easy to remember 12 character password like: `Mflpdemo2022`\n",
    "- What ever you enter into Repo and Branch will be ignored"
   ]
  },
  {
   "cell_type": "markdown",
   "id": "2e3a1002-a097-494c-81fd-daf6fe2bdb1d",
   "metadata": {},
   "source": [
    "![ip_address](img/hagrid_bare_vm.png)"
   ]
  },
  {
   "cell_type": "markdown",
   "id": "0788b388-01ea-4aee-b47d-ba2ad15ff6d5",
   "metadata": {},
   "source": [
    "After it is finished you should see this message"
   ]
  },
  {
   "cell_type": "markdown",
   "id": "57b64cff-f09f-4af5-81a7-10789cab991f",
   "metadata": {},
   "source": [
    "![ip_address](img/hagrid_bare_vm_output.png)"
   ]
  },
  {
   "cell_type": "markdown",
   "id": "cbd970a1-fa74-4928-9b72-5afcffcd8041",
   "metadata": {},
   "source": [
    "Now run this to get JSON containing the information for all the VMs:"
   ]
  },
  {
   "cell_type": "markdown",
   "id": "e62978aa-99e5-469c-b69a-ede97f17295c",
   "metadata": {},
   "source": [
    "```\n",
    "cat ~/.hagrid/host_ips.json\n",
    "```"
   ]
  },
  {
   "cell_type": "code",
   "execution_count": null,
   "id": "187a4aa7",
   "metadata": {},
   "outputs": [],
   "source": [
    "import os\n",
    "import json\n",
    "\n",
    "# paste the path to host ip json here\n",
    "HOST_IP_PATH = \"~/.hagrid/host_ips.json\"\n",
    "HOST_IP_PATH = os.path.expanduser(HOST_IP_PATH)\n",
    "\n",
    "with open(HOST_IP_PATH) as fp:\n",
    "    host_ips = json.loads(fp.read())"
   ]
  },
  {
   "cell_type": "code",
   "execution_count": null,
   "id": "e849c95e",
   "metadata": {},
   "outputs": [],
   "source": [
    "host_ips"
   ]
  },
  {
   "cell_type": "code",
   "execution_count": null,
   "id": "73e360ac-d051-4072-a408-db73ff60f700",
   "metadata": {},
   "outputs": [],
   "source": [
    "# manual override for testing\n",
    "# host_ips = {\"host_ips\": [{\n",
    "#     \"username\":\"azureuser\",\n",
    "#     \"password\":\"\",\n",
    "#     \"ip_address\":\"\",\n",
    "#     \"jupyter_token\":\"\"\n",
    "# }]}"
   ]
  },
  {
   "cell_type": "markdown",
   "id": "9f74f3d5",
   "metadata": {},
   "source": [
    "### Set Participants Details"
   ]
  },
  {
   "cell_type": "code",
   "execution_count": null,
   "id": "a84951c8-0b81-4934-9887-8e0d1856b93f",
   "metadata": {},
   "outputs": [],
   "source": [
    "# update TOTAL_PARTICIPANTS\n",
    "# use the total participants not the total machines, e.g. 10 not 12\n",
    "# as this is used to calculate the data split assignment\n",
    "TOTAL_PARTICIPANTS = 10\n",
    "TEAM_NAME = \"\"\n",
    "\n",
    "assert len(TEAM_NAME) > 0, \"Please Enter a TEAM_NAME\""
   ]
  },
  {
   "cell_type": "code",
   "execution_count": null,
   "id": "dbe61c16-0699-4124-b3bb-c7b07699d3c0",
   "metadata": {},
   "outputs": [],
   "source": [
    "# NETWORK_NAME = \"GovAI Network 1\"\n",
    "NETWORK_NAME = \"\"\n",
    "\n",
    "assert NETWORK_NAME"
   ]
  },
  {
   "cell_type": "code",
   "execution_count": null,
   "id": "67eb1f9c-96f9-4967-982b-a7c5718a16ca",
   "metadata": {},
   "outputs": [],
   "source": [
    "# add names and emails so we can send out the links with details via email"
   ]
  },
  {
   "cell_type": "code",
   "execution_count": null,
   "id": "1762fe1c-4456-42f5-a780-4b4c18f8a656",
   "metadata": {},
   "outputs": [],
   "source": [
    "email_institution_map = {}\n",
    "ip_institution_map = {} # auto populated"
   ]
  },
  {
   "cell_type": "code",
   "execution_count": null,
   "id": "7b3561af-fe22-4c27-afac-d9a803b0c3d2",
   "metadata": {},
   "outputs": [],
   "source": [
    "email_institution_map[\"madhava@openmined.org\"] = \"OpenMined U\""
   ]
  },
  {
   "cell_type": "code",
   "execution_count": null,
   "id": "5a72dc46-d326-43fb-9202-6bb67cbc76c1",
   "metadata": {},
   "outputs": [],
   "source": [
    "# check we don't have duplicate institution names\n",
    "if len(list(set(email_institution_map.values()))) < len(email_institution_map.values()):\n",
    "    raise Exception(\"There are duplicate institutions which will result in the same name on the network\")"
   ]
  },
  {
   "cell_type": "code",
   "execution_count": null,
   "id": "7a4ebbb3-b64e-4431-b632-b7f3af0ebb2f",
   "metadata": {},
   "outputs": [],
   "source": [
    "# ascii letters and space\n",
    "allowed_chars = \" ABCDEFGHIJKLMNOPQRSTUVWXYZabcdefghijklmnopqrstuvwxyz\"\n",
    "# check the institution names are ascii\n",
    "for name in email_institution_map.values():\n",
    "    for c in name:\n",
    "        if c not in allowed_chars:\n",
    "            print(f\"Bad name: {name}\")\n",
    "            raise Exception(\"Warning the stack / docker hostnames cant be non ascii\")"
   ]
  },
  {
   "cell_type": "code",
   "execution_count": null,
   "id": "150ba276-9362-4c01-aaf6-a040b6cac761",
   "metadata": {},
   "outputs": [],
   "source": [
    "participants = {\n",
    "    \"Madhava\": \"madhava@openmined.org\",\n",
    "#     \"Kyoko\": \"kyoko@openmined.org\",\n",
    "#     \"Andrew\": \"andrew@openmined.org\",\n",
    "#     \"Shubham\": \"shubham@openmined.org\",\n",
    "}"
   ]
  },
  {
   "cell_type": "code",
   "execution_count": null,
   "id": "735aa206-70c2-4204-adc5-e134bcb49c2d",
   "metadata": {},
   "outputs": [],
   "source": [
    "# optionally add names or emails here which will be printed below to help keep track of assignment\n",
    "\n",
    "assert len(participants) <= TOTAL_PARTICIPANTS, \"TOTAL_PARTICIPANTS should be less than or equal to the length of participant list\"\n",
    "print(\"Total participants:\", len(participants))"
   ]
  },
  {
   "cell_type": "markdown",
   "id": "393d5372",
   "metadata": {},
   "source": [
    "If you need to re-partition the MedNIST dataset and create new data subsets, switch to [prepare MedNIST dataset notebook](02-prepare-datasets-MedNIST.ipynb)."
   ]
  },
  {
   "cell_type": "markdown",
   "id": "b5f4c975",
   "metadata": {},
   "source": [
    "### Helper Methods"
   ]
  },
  {
   "cell_type": "code",
   "execution_count": null,
   "id": "ee750e62",
   "metadata": {},
   "outputs": [],
   "source": [
    "def get_dataset_last_split_index():\n",
    "    header_name = \"Team Name\"\n",
    "    res = requests.get(\"https://eon4ifk3lo306c3.m.pipedream.net\")\n",
    "    if res.status_code == 200:\n",
    "        data = res.json()[\"data\"]\n",
    "        team_name, _, last_index = data.split(\",\")\n",
    "        if header_name == team_name:\n",
    "            last_index = 0\n",
    "        return int(last_index)\n",
    "    else:\n",
    "        print(\"Failed to download latest results\")\n",
    "        last_index = 0\n",
    "    return "
   ]
  },
  {
   "cell_type": "code",
   "execution_count": null,
   "id": "9a36385b",
   "metadata": {},
   "outputs": [],
   "source": [
    "def update_dataset_split_status(team_name, start, end):\n",
    "    url = \"https://eobjadch1tgzjzu.m.pipedream.net\"\n",
    "    res = requests.post(url, {\"team_name\": team_name, \"start\": start, \"end\": end}, {\"Content-Type\": \"application/json\"})\n",
    "    if res.status_code == 200:\n",
    "        print(\"Successfully updated split status.\")\n",
    "    else:\n",
    "        print(\"Failed to update split status. Please update it manually by visiting the google sheet below:\")\n",
    "        print(\"https://docs.google.com/spreadsheets/d/1VGbOpTPiFlqj541JFOpqlMQxcKgEjkIZaqygcrFxfe8/edit?usp=sharing\")"
   ]
  },
  {
   "cell_type": "code",
   "execution_count": null,
   "id": "5d208c27",
   "metadata": {},
   "outputs": [],
   "source": [
    "import requests\n",
    "datasets =  [\"MedNIST\",\"TissueMNIST\", \"BreastCancerDataset\"]\n",
    "curr_dataset_name = datasets[-1]\n",
    "DATASET_INFO_FILEPATH = f\"https://raw.githubusercontent.com/OpenMined/datasets/main/{curr_dataset_name}/dataset.json\"\n",
    "\n",
    "def get_dataset_urls():\n",
    "    \n",
    "    data_subset_urls = []\n",
    "    \n",
    "    response = requests.get(DATASET_INFO_FILEPATH)\n",
    "    data_subset_info = response.json()\n",
    "    DATASET_REPO_URL = f\"https://raw.githubusercontent.com/OpenMined/datasets/main/{curr_dataset_name}/subsets/\"\n",
    "    \n",
    "    for dataset_name in data_subset_info.values():\n",
    "        url = DATASET_REPO_URL + dataset_name\n",
    "        data_subset_urls.append(url)\n",
    "    \n",
    "    return data_subset_urls"
   ]
  },
  {
   "cell_type": "code",
   "execution_count": null,
   "id": "139da440-fa18-4c39-a451-647643930068",
   "metadata": {},
   "outputs": [],
   "source": [
    "def check_ip_port(host_ip: str, port: int) -> bool:\n",
    "    import socket\n",
    "    try:\n",
    "        sock = socket.socket(socket.AF_INET, socket.SOCK_STREAM)\n",
    "        sock.settimeout(2)\n",
    "        result = sock.connect_ex((host_ip, port))\n",
    "        sock.close()\n",
    "        if result == 0:\n",
    "            return True\n",
    "    except Exception:\n",
    "        pass\n",
    "    return False"
   ]
  },
  {
   "cell_type": "code",
   "execution_count": null,
   "id": "db7499ee-c70e-40b7-babd-9c006a4af309",
   "metadata": {},
   "outputs": [],
   "source": [
    "def get_icon(status: bool) -> str:\n",
    "    return \"✅\" if status else \"❌\""
   ]
  },
  {
   "cell_type": "code",
   "execution_count": null,
   "id": "3b67c540-1f37-4994-b144-402d5f602820",
   "metadata": {},
   "outputs": [],
   "source": [
    "def check_hosts_ready(host_ips: dict) -> None:\n",
    "    for host in host_ips[\"host_ips\"]:\n",
    "        print(\"-----------------------\")\n",
    "        host_ip = host[\"ip_address\"]\n",
    "        # make sure the containers are not running\n",
    "        http_up = check_ip_port(host_ip=host_ip, port=80)\n",
    "        print(f\"{get_icon(not http_up)} Containers Off {host_ip}:80\")\n",
    "        \n",
    "        # make sure jupyter notebooks is up\n",
    "        jupyter_up = check_ip_port(host_ip=host_ip, port=8888)\n",
    "        print(f\"{get_icon(jupyter_up)} Jupyter Up {host_ip}:8888\")\n",
    "        \n",
    "        # make sure SSH is up\n",
    "        ssh_up = check_ip_port(host_ip=host_ip, port=22)\n",
    "        print(f\"{get_icon(ssh_up)} SSH Up {host_ip}:22\")\n",
    "\n",
    "        print()\n",
    "        all_status = (not http_up) and jupyter_up and ssh_up\n",
    "        print(f\"{get_icon(all_status)} Node {host_ip} Ready!\")\n",
    "        print(\"-----------------------\")\n",
    "        print()"
   ]
  },
  {
   "cell_type": "code",
   "execution_count": null,
   "id": "2a965f23",
   "metadata": {},
   "outputs": [],
   "source": [
    "import paramiko\n",
    "\n",
    "def save_dataset_url_to_vm(host_ip: str, password: str, dataset_url: str, institution: str = \"\"):\n",
    "    print(\"running save_dataset_url_to_vm with:\", host_ip, dataset_url, institution)\n",
    "    ssh_client = paramiko.SSHClient()\n",
    "\n",
    "    # To avoid an \"unknown hosts\" error. Solve this differently if you must...\n",
    "    ssh_client.set_missing_host_key_policy(paramiko.AutoAddPolicy())\n",
    "\n",
    "    # This mechanism uses a password.\n",
    "    # Get it from cli args or a file or hard code it, whatever works best for you\n",
    "    # password = \"Mflpdemo2022\"\n",
    "    username = \"azureuser\"\n",
    "\n",
    "    ssh_client.connect(hostname=host_ip, username=username, password=password)\n",
    "\n",
    "    filename = \"notebooks/medical-federated-learning-program/network-operators/update_dataset_url.py\"\n",
    "    command = f\"cd /home/om/PySyft && sudo python {filename} {dataset_url} {host_ip}\"\n",
    "    \n",
    "    if institution:\n",
    "        command = f\"cd /home/om/PySyft && sudo python {filename} {dataset_url} {host_ip} '{institution}'\"\n",
    "        \n",
    "    if institution and NETWORK_NAME:\n",
    "        command = f\"cd /home/om/PySyft && sudo python {filename} {dataset_url} {host_ip} '{institution}' '{NETWORK_NAME}'\"\n",
    "        \n",
    "    # In order to inspect the exit code\n",
    "    # you need go under paramiko's hood a bit\n",
    "    # rather than just using \"ssh_client.exec_command()\"\n",
    "    # chan = ssh_client.get_transport().open_session()\n",
    "    print(\"Executing command...........\")\n",
    "    stdin,stdout,stderr = ssh_client.exec_command(command)\n",
    "\n",
    "    print(stdout.readlines())\n",
    "\n",
    "    print(\"Executing command.........DONE\")\n",
    "\n",
    "    if stderr.readlines():\n",
    "        print(f\"Failed for IpAddress: {host_ip} ❌\")\n",
    "    else:\n",
    "        print(f\"Successfully Update dataset url for {host_ip} ✅\")"
   ]
  },
  {
   "cell_type": "markdown",
   "id": "17ddb3c9",
   "metadata": {},
   "source": [
    "### Check HOSTs Status"
   ]
  },
  {
   "cell_type": "code",
   "execution_count": null,
   "id": "0a3daa70-c704-4861-bbf9-5e24501ee71a",
   "metadata": {},
   "outputs": [],
   "source": [
    "check_hosts_ready(host_ips)"
   ]
  },
  {
   "cell_type": "markdown",
   "id": "2dc9d85e",
   "metadata": {},
   "source": [
    "### Output User Session Credentials"
   ]
  },
  {
   "cell_type": "code",
   "execution_count": null,
   "id": "dcf677a0-967f-4202-8584-8003c11e9da7",
   "metadata": {},
   "outputs": [],
   "source": [
    "def output_user_details(team_name, host_ips: dict, participants: dict[str, str] = {}) -> None:\n",
    "    \n",
    "    host_to_dataset_url_map = dict()\n",
    "\n",
    "    notebook_path = \"medical-federated-learning-program/data-owners/data-owners-presentation.ipynb\"\n",
    "    print(\"===============================\")\n",
    "    print(\"Medical Federated Learning Program\")\n",
    "    print(\"===============================\")\n",
    "    print()\n",
    "    print(\"Send to each participant\")\n",
    "    print()\n",
    "    if TOTAL_PARTICIPANTS > len(host_ips[\"host_ips\"]):\n",
    "        raise Exception(\n",
    "            f\"TOTAL_PARTICIPANTS: {TOTAL_PARTICIPANTS} is less than VM count: {len(host_ips['host_ips'])}\"\n",
    "        )\n",
    "    \n",
    "    dataset_urls = get_dataset_urls()    \n",
    "    start_index = get_dataset_last_split_index() % len(dataset_urls)\n",
    "    dataset_urls = dataset_urls[start_index:]\n",
    "    partition = 0\n",
    "    num_of_urls = len(dataset_urls)\n",
    "    for host in host_ips[\"host_ips\"]:\n",
    "        partition += 1\n",
    "        if partition <= len(participants):\n",
    "            print(f\"Hi {list(participants.keys())[partition - 1]},\")\n",
    "        if partition <= TOTAL_PARTICIPANTS:\n",
    "            print(\"These are your Session Details:\")\n",
    "        else:\n",
    "            print(\"Spare Session Details:\")\n",
    "        print(\"-------------------------------\")\n",
    "        # print(f\"VM Username: {host['username']}\")\n",
    "        # print(f\"VM Password: {host['password']}\")\n",
    "        # print(f\"VM IP Address: {host['ip_address']}\")\n",
    "        \n",
    "        dataset_url = dataset_urls[partition%num_of_urls]\n",
    "        host_to_dataset_url_map[host['ip_address']] = dataset_url\n",
    "        if partition <= len(participants):\n",
    "            participant_email = list(participants.values())[partition - 1]\n",
    "            if participant_email in email_institution_map:\n",
    "                institution = email_institution_map[participant_email]\n",
    "                ip_institution_map[host['ip_address']] = institution\n",
    "        print(\"DATASET:\")\n",
    "        print(f\"{dataset_url}\")\n",
    "        notebook_url = (f\"http://{host['ip_address']}:8888/lab/tree/notebooks/{notebook_path}\"\n",
    "            f\"?token={host['jupyter_token']}\")\n",
    "        print()\n",
    "        print(f\"👉🏽 Open Interactive Notebook:\")\n",
    "        print(\n",
    "            notebook_url\n",
    "        )\n",
    "        print()\n",
    "    end_index = start_index + partition\n",
    "    return host_to_dataset_url_map, start_index, end_index"
   ]
  },
  {
   "cell_type": "code",
   "execution_count": null,
   "id": "1bf67dae-b4c3-4202-bfe7-db511c5f03a8",
   "metadata": {},
   "outputs": [],
   "source": [
    "host_to_dataset_url_map, start_index, end_index = output_user_details(TEAM_NAME, host_ips, participants)"
   ]
  },
  {
   "cell_type": "markdown",
   "id": "26d02a10",
   "metadata": {},
   "source": [
    "### Update Dataset URL and Institution Name in Notebook on VMs"
   ]
  },
  {
   "cell_type": "code",
   "execution_count": null,
   "id": "a33668bd-9462-4f62-a2f1-9bd31c4237f1",
   "metadata": {},
   "outputs": [],
   "source": [
    "def get_pw(ip, host_ips):\n",
    "    for details in host_ips[\"host_ips\"]:\n",
    "        if ip == details[\"ip_address\"]:\n",
    "            return details[\"password\"]\n",
    "    return None"
   ]
  },
  {
   "cell_type": "code",
   "execution_count": null,
   "id": "1e07714a",
   "metadata": {},
   "outputs": [],
   "source": [
    "for host_ip, dataset_url in host_to_dataset_url_map.items():\n",
    "    password = get_pw(host_ip, host_ips)    \n",
    "    institution = \"\"\n",
    "    if host_ip in ip_institution_map:\n",
    "        institution = ip_institution_map[host_ip]\n",
    "    save_dataset_url_to_vm(host_ip=host_ip, password=password, dataset_url=dataset_url, institution=institution)"
   ]
  },
  {
   "cell_type": "markdown",
   "id": "e1a41acf",
   "metadata": {},
   "source": [
    "### Update Data Split Sheet"
   ]
  },
  {
   "cell_type": "code",
   "execution_count": null,
   "id": "21b0fe92",
   "metadata": {},
   "outputs": [],
   "source": [
    "update_dataset_split_status(TEAM_NAME, start_index, end_index)"
   ]
  },
  {
   "cell_type": "markdown",
   "id": "d4e4f560",
   "metadata": {},
   "source": [
    "### Send Emails"
   ]
  },
  {
   "cell_type": "code",
   "execution_count": null,
   "id": "ab04be91-bc6a-439a-8c2a-57ada6a58bbc",
   "metadata": {},
   "outputs": [],
   "source": [
    "addresses_sent_to = []"
   ]
  },
  {
   "cell_type": "code",
   "execution_count": null,
   "id": "22e8608a-be88-4d7c-a35d-2bc55446127e",
   "metadata": {},
   "outputs": [],
   "source": [
    "addresses_sent_to"
   ]
  },
  {
   "cell_type": "code",
   "execution_count": null,
   "id": "48b37523-271d-4299-b710-e5a77f08feb8",
   "metadata": {},
   "outputs": [],
   "source": [
    "!pip install sendgrid"
   ]
  },
  {
   "cell_type": "code",
   "execution_count": null,
   "id": "7cde21fa-d4a2-4f9e-b957-f005b56ddb2c",
   "metadata": {},
   "outputs": [],
   "source": [
    "from_address='OpenMined Research <research@openmined.org>'\n",
    "# from_address='madhava@openmined.org' # test"
   ]
  },
  {
   "cell_type": "code",
   "execution_count": null,
   "id": "dd80a45d-aa1a-4346-afd1-28c489087935",
   "metadata": {},
   "outputs": [],
   "source": [
    "SENDGRID_API_KEY = \"\""
   ]
  },
  {
   "cell_type": "code",
   "execution_count": null,
   "id": "e7ca2666-2f24-4dda-84f9-428f807d41ac",
   "metadata": {},
   "outputs": [],
   "source": [
    "template = \"\"\"\n",
    "<!DOCTYPE html PUBLIC \"-//W3C//DTD XHTML 1.0 Strict//EN\" \"http://www.w3.org/TR/xhtml1/DTD/xhtml1-strict.dtd\">\n",
    "<html\n",
    "  data-editor-version=\"2\"\n",
    "  class=\"sg-campaigns\"\n",
    "  xmlns=\"http://www.w3.org/1999/xhtml\"\n",
    ">\n",
    "  <head>\n",
    "    <meta http-equiv=\"Content-Type\" content=\"text/html; charset=utf-8\" />\n",
    "    <meta\n",
    "      name=\"viewport\"\n",
    "      content=\"width=device-width, initial-scale=1, minimum-scale=1, maximum-scale=1\"\n",
    "    />\n",
    "    <style type=\"text/css\">\n",
    "      html {\n",
    "        background: #ffffff;\n",
    "        font-family: \"Chivo\", sans-serif;\n",
    "      }\n",
    "      .notblue { \n",
    "        color:inherit !important; \n",
    "        text-decoration: none !important; \n",
    "        font-size: 0.8em !important;\n",
    "      }\n",
    "    </style>\n",
    "  </head>\n",
    "  <body>\n",
    "    <table width=\"100%\">\n",
    "      <tr>\n",
    "        <td style=\"padding-left: 20px; padding-right: 20px\" align=\"center\">\n",
    "          <img\n",
    "            src=\"http://cdn.mcauto-images-production.sendgrid.net/919ca6f839ef4a13/3297075a-7366-4dc8-b0a5-c3525725d64f/1183x266.jpg\"\n",
    "            width=\"100%\" alt=\"OpenMined: The Medical Federated Learning Program\" \n",
    "            style=\"text-align: center\"\n",
    "          />\n",
    "        </td>\n",
    "      </tr>\n",
    "    </table>\n",
    "    <table width=\"100%\">\n",
    "      <tr>\n",
    "        <td style=\"padding-left: 20px; padding-right: 20px\">\n",
    "\"\"\"\n",
    "\n",
    "close_template = \"\"\"\n",
    "        </td>\n",
    "      </tr>\n",
    "    </table>\n",
    "  </body>\n",
    "</html>\n",
    "\n",
    "\"\"\""
   ]
  },
  {
   "cell_type": "code",
   "execution_count": null,
   "id": "46479bd0-28a2-449e-8b86-7ccf6fcd49dd",
   "metadata": {},
   "outputs": [],
   "source": [
    "email_contents = \"\"\"\n",
    "<p>\n",
    "    Hi {firstName}, <br />Welcome to The Medical Federated Learning Program.<br />To\n",
    "    help with today&#39;s session we have prepared some details for you,\n",
    "    outlined below:\n",
    "</p>\n",
    "<h3>Session Details</h3>\n",
    "<p>\n",
    "    <strong>Jupyter Notebook</strong><br />&#128071;&#127997; Begin by\n",
    "    clicking this link to start your interactive Jupyter Notebook<br /><a\n",
    "    target=\"_blank\" href=\"{notebook_url}\"\n",
    "    >Open Interactive Notebook</a\n",
    "    >\n",
    "</p>\n",
    "<br /><br />\n",
    "<p>\n",
    "    We hope you have a wonderful session.<br />If you need any assistance\n",
    "    afterwards, you can always reach out with any questions or issues by going to\n",
    "    our Slack\n",
    "    <a target=\"_blank\" href=\"https://join.slack.com/share/enQtMzU5OTYxNjg0NzEwNi00MWQ5YzQ2MDliY2U2Y2JlZThlODdjOWQzMDkxOTM1MTFjMjQ5ZWVhOTY2YjZjNTM3MGYyOGJkNjFmOTI4OTJj\">#medical-federated-learning-program</a>\n",
    "    channel, or for any other concerns you can email our team at\n",
    "    <a target=\"_blank\" href=\"mailto:support@openmined.org\">support@openmined.org</a>.\n",
    "</p>\n",
    "<p>--<br />Regards,<br />The OpenMined Research Team\n",
    "<br />openmined.org</p>\n",
    "\"\"\""
   ]
  },
  {
   "cell_type": "code",
   "execution_count": null,
   "id": "7ddacff5-ea7b-4118-9b38-66a23d4464b5",
   "metadata": {},
   "outputs": [],
   "source": [
    "from io import StringIO\n",
    "from html.parser import HTMLParser\n",
    "\n",
    "class MLStripper(HTMLParser):\n",
    "    def __init__(self):\n",
    "        super().__init__()\n",
    "        self.reset()\n",
    "        self.strict = False\n",
    "        self.convert_charrefs= True\n",
    "        self.text = StringIO()\n",
    "    def handle_data(self, d):\n",
    "        self.text.write(d)\n",
    "    def get_data(self):\n",
    "        return self.text.getvalue()\n",
    "\n",
    "def strip_tags(html):\n",
    "    s = MLStripper()\n",
    "    s.feed(html)\n",
    "    return s.get_data()"
   ]
  },
  {
   "cell_type": "code",
   "execution_count": null,
   "id": "5bf8cfc3-fd1a-433b-a626-73978bd5d59e",
   "metadata": {},
   "outputs": [],
   "source": [
    "text_contents = strip_tags(email_contents)"
   ]
  },
  {
   "cell_type": "code",
   "execution_count": null,
   "id": "0e581f1d-3877-4dc1-bbfe-3bc2efbcaa78",
   "metadata": {},
   "outputs": [],
   "source": [
    "text_contents"
   ]
  },
  {
   "cell_type": "code",
   "execution_count": null,
   "id": "039df541-c495-482a-a20c-27421046e7d5",
   "metadata": {},
   "outputs": [],
   "source": [
    "def make_email_html(template, content_template, close_template, person, notebook_url, dataset_url) -> str:\n",
    "    content = content_template.replace(\"{firstName}\", person)\n",
    "    content = content.replace(\"{notebook_url}\", notebook_url)\n",
    "    content = content.replace(\"{dataset_url}\", dataset_url)\n",
    "    return f\"{template}{content}{close_template}\".replace(\"\\n\", \"\")"
   ]
  },
  {
   "cell_type": "code",
   "execution_count": null,
   "id": "48391021-9cb6-4cd7-b91e-a587a72fe397",
   "metadata": {},
   "outputs": [],
   "source": [
    "make_email_html(template, email_contents, close_template, \"Madhava\", \"http://google.com\", \"http://openmined.org\")"
   ]
  },
  {
   "cell_type": "code",
   "execution_count": null,
   "id": "95b2e522-7104-4f6c-b087-94802a7fc930",
   "metadata": {},
   "outputs": [],
   "source": [
    "def send_email(person, email, host, notebook_url, dataset_url) -> bool:\n",
    "    print(\"send email to\", person, email, host)\n",
    "    html_content = make_email_html(template, email_contents, close_template, person, notebook_url, dataset_url)\n",
    "    # using SendGrid's Python Library\n",
    "    # https://github.com/sendgrid/sendgrid-python\n",
    "    import os\n",
    "    from sendgrid import SendGridAPIClient\n",
    "    from sendgrid.helpers.mail import Mail\n",
    "\n",
    "    text_with_unsubscribe = text_contents + \"\\nUnsubscribe: info@openmined.org\"\n",
    "    html_with_unsubscribe = html_content + '<br /><br /><a href=\"mailto:info@openmined.org?subject=Unsubscribe\">Click here to unsubscribe.</a>'\n",
    "\n",
    "    message = Mail(\n",
    "        from_email=from_address,\n",
    "        to_emails=email,\n",
    "        subject=\"Your Launch Details - Medical Federated Learning Program\",\n",
    "        plain_text_content=text_with_unsubscribe,\n",
    "        html_content=html_with_unsubscribe)\n",
    "    try:\n",
    "        sg = SendGridAPIClient(SENDGRID_API_KEY)\n",
    "        response = sg.send(message)\n",
    "        if response.status_code == 202:\n",
    "            return True\n",
    "        else:\n",
    "            print(response.status_code)\n",
    "            print(response.body)\n",
    "            print(response.headers)\n",
    "            return False\n",
    "    except Exception as e:\n",
    "        print(e.message)\n",
    "        return False\n",
    "    return True"
   ]
  },
  {
   "cell_type": "code",
   "execution_count": null,
   "id": "2e1c498b-d6ec-4cfa-850c-f2fd6be933ec",
   "metadata": {},
   "outputs": [],
   "source": [
    "def send_emails(host_ips: dict, participants: dict[str, str] = {}) -> None:\n",
    "    notebook_path = \"medical-federated-learning-program/data-owners/data-owners-presentation.ipynb\"\n",
    "    print(\"===============================\")\n",
    "    print(\"Medical Federated Learning Program\")\n",
    "    print(\"===============================\")\n",
    "    print()\n",
    "    print(\"Send to each participant\")\n",
    "    print()\n",
    "    if TOTAL_PARTICIPANTS > len(host_ips[\"host_ips\"]):\n",
    "        raise Exception(\n",
    "            f\"TOTAL_PARTICIPANTS: {TOTAL_PARTICIPANTS} is less than VM count: {len(host_ips['host_ips'])}\"\n",
    "        )\n",
    "    partition = 0\n",
    "\n",
    "    dataset_urls = get_dataset_urls()\n",
    "    num_of_urls = len(dataset_urls)\n",
    "    for host in host_ips[\"host_ips\"]:\n",
    "        try:\n",
    "            partition += 1\n",
    "            notebook_url = f\"http://{host['ip_address']}:8888/lab/tree/notebooks/{notebook_path}?token={host['jupyter_token']}\"\n",
    "            dataset_url = dataset_urls[partition%num_of_urls]\n",
    "            if partition <= len(participants):\n",
    "                person_name = list(participants.keys())[partition - 1]\n",
    "                print(f\"Hi {person_name},\")\n",
    "                person_email = participants[person_name]\n",
    "                if person_email not in addresses_sent_to:\n",
    "                    if send_email(person_name, person_email, host, notebook_url, dataset_url):\n",
    "                        addresses_sent_to.append(person_email)\n",
    "                else:\n",
    "                    print(f\"Already emailed: {person_name} {person_email}\")\n",
    "            if partition <= TOTAL_PARTICIPANTS:\n",
    "                print(\"These are your Session Details:\")\n",
    "            else:\n",
    "                print(\"Spare Session Details:\")\n",
    "            print(\"-------------------------------\")\n",
    "            # print(f\"VM Username: {host['username']}\")\n",
    "            # print(f\"VM Password: {host['password']}\")\n",
    "            # print(f\"VM IP Address: {host['ip_address']}\")\n",
    "            print(f\"{dataset_url}\")\n",
    "\n",
    "            print()\n",
    "            print(f\"👉🏽 Start Here:\")\n",
    "            print(notebook_url)\n",
    "            print()\n",
    "        except Exception as e:\n",
    "            print(f\"Failed to send details for partition: {partition}\", e)"
   ]
  },
  {
   "cell_type": "code",
   "execution_count": null,
   "id": "49fd4ae2-ab5e-41a2-aa4a-5f2b06200876",
   "metadata": {},
   "outputs": [],
   "source": [
    "send_emails(host_ips, participants)"
   ]
  },
  {
   "cell_type": "code",
   "execution_count": null,
   "id": "2ce62725-19ef-4a39-b61a-98c448faaa36",
   "metadata": {},
   "outputs": [],
   "source": []
  },
  {
   "cell_type": "code",
   "execution_count": null,
   "id": "fba36971",
   "metadata": {},
   "outputs": [],
   "source": []
  },
  {
   "cell_type": "code",
   "execution_count": null,
   "id": "45024bc8",
   "metadata": {},
   "outputs": [],
   "source": []
  },
  {
   "cell_type": "markdown",
   "id": "924a90cd",
   "metadata": {},
   "source": [
    "###  To Resend Email to a particular participant"
   ]
  },
  {
   "cell_type": "code",
   "execution_count": null,
   "id": "8474765b",
   "metadata": {},
   "outputs": [],
   "source": [
    "notebook_url = \"\"\n",
    "dataset_url = \"\"\n",
    "host = {\n",
    "    \"ip_address\": \"\"\n",
    "}\n",
    "person_name = \"\"\n",
    "person_email = \"\"\n",
    "\n",
    "if all([notebook_url, dataset_url, person_email, person_name, host]):\n",
    "    send_email(person_name, person_email, host, notebook_url, dataset_url)"
   ]
  }
 ],
 "metadata": {
  "interpreter": {
   "hash": "630449982b6186a6531308cd76ed4d510e9db65154e43844c2906c6a20ad2a6d"
  },
  "kernelspec": {
   "display_name": "Python 3 (ipykernel)",
   "language": "python",
   "name": "python3"
  },
  "language_info": {
   "codemirror_mode": {
    "name": "ipython",
    "version": 3
   },
   "file_extension": ".py",
   "mimetype": "text/x-python",
   "name": "python",
   "nbconvert_exporter": "python",
   "pygments_lexer": "ipython3",
   "version": "3.9.7"
  }
 },
 "nbformat": 4,
 "nbformat_minor": 5
}

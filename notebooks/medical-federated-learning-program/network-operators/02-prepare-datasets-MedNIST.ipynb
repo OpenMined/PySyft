{
 "cells": [
  {
   "cell_type": "markdown",
   "id": "ac47e410",
   "metadata": {},
   "source": [
    "####  Partition MedNIST dataset into subsets for all participants"
   ]
  },
  {
   "cell_type": "code",
   "execution_count": 63,
   "id": "7c455c84",
   "metadata": {},
   "outputs": [],
   "source": [
    "import os\n",
    "import uuid\n",
    "from tqdm import tqdm\n",
    "import shutil\n",
    "import json\n",
    "import pandas as pd\n",
    "\n",
    "def download_mednist_dataset():\n",
    "    if not os.path.exists(\"./MedNIST.pkl\"):\n",
    "        os.system(\n",
    "            'curl -O \"https://media.githubusercontent.com/media/shubham3121/datasets/main/MedNIST/MedNIST.pkl\"'\n",
    "        )\n",
    "        print(\"MedNIST is successfully downloaded.\")\n",
    "    else:\n",
    "        print(\"MedNIST is already downloaded\")"
   ]
  },
  {
   "cell_type": "markdown",
   "id": "dc35acee",
   "metadata": {},
   "source": [
    "Create a folder to store the data subsets."
   ]
  },
  {
   "cell_type": "code",
   "execution_count": 64,
   "id": "67cfedd2",
   "metadata": {},
   "outputs": [
    {
     "name": "stdout",
     "output_type": "stream",
     "text": [
      "Data subset directory already Exists. Clearing existing one.\n",
      "Data subset directory created.\n"
     ]
    }
   ],
   "source": [
    "data_subset_folder = \"MedNIST/subsets\"\n",
    "if os.path.exists(data_subset_folder):    \n",
    "    print(\"Data subset directory already Exists. Clearing existing one.\")\n",
    "    shutil.rmtree(data_subset_folder)\n",
    "\n",
    "os.makedirs(data_subset_folder)\n",
    "print(\"Data subset directory created.\")"
   ]
  },
  {
   "cell_type": "code",
   "execution_count": 65,
   "id": "0c5df939",
   "metadata": {},
   "outputs": [],
   "source": [
    "# file path where the MedNIST.pkl is downloaded\n",
    "TOTAL_PARTICIPANTS = 10\n",
    "FILE_PATH = \"./MedNIST.pkl\""
   ]
  },
  {
   "cell_type": "code",
   "execution_count": null,
   "id": "979a6b8c",
   "metadata": {},
   "outputs": [],
   "source": [
    "# Download the whole mednist dataset\n",
    "\n",
    "download_mednist_dataset()"
   ]
  },
  {
   "cell_type": "code",
   "execution_count": 68,
   "id": "d233c45f",
   "metadata": {},
   "outputs": [],
   "source": [
    "df = pd.read_pickle(FILE_PATH)\n",
    "df.sort_values(\"patient_id\", inplace=True, ignore_index=True)"
   ]
  },
  {
   "cell_type": "markdown",
   "id": "1185d2c0",
   "metadata": {},
   "source": [
    "#### Partition the dataset into subsets"
   ]
  },
  {
   "cell_type": "code",
   "execution_count": 69,
   "id": "d07e14f7",
   "metadata": {},
   "outputs": [
    {
     "name": "stderr",
     "output_type": "stream",
     "text": [
      "100%|████████████████████████████████████████████████████████████████████████████████████████████████████████████████████████████████████████████████████████████████████████████████████████████| 10/10 [00:00<00:00, 10.36it/s]"
     ]
    },
    {
     "name": "stdout",
     "output_type": "stream",
     "text": [
      "Data subsets Created Successfully !!!\n"
     ]
    },
    {
     "name": "stderr",
     "output_type": "stream",
     "text": [
      "\n"
     ]
    }
   ],
   "source": [
    "data_subsets_map = {}\n",
    "\n",
    "for participation_number in tqdm(range(1, TOTAL_PARTICIPANTS+1)):\n",
    "    # Calculate start and end index based on your participant number\n",
    "    batch_size = df.shape[0] // TOTAL_PARTICIPANTS\n",
    "    start_idx = (participation_number - 1) * batch_size\n",
    "    end_idx = start_idx + batch_size\n",
    "\n",
    "    # Slice the dataframe according\n",
    "    subset = df[start_idx:end_idx]\n",
    "    \n",
    "    # Reset index of the subset\n",
    "    subset.reset_index(inplace=True, drop=True)\n",
    "    subset_filename = f\"MedNIST-{uuid.uuid4().hex[:TOTAL_PARTICIPANTS]}.pkl\"\n",
    "    subset_path = f\"{data_subset_folder}/{subset_filename}\"\n",
    "    subset.to_pickle(subset_path)    \n",
    "    data_subsets_map[participation_number] = subset_filename\n",
    "    \n",
    "print(\"Data subsets Created Successfully !!!\")\n",
    "\n",
    "with open(\"dataset.json\", \"w\") as fp:\n",
    "    json.dump(data_subsets_map, fp)"
   ]
  },
  {
   "cell_type": "code",
   "execution_count": 70,
   "id": "ec93e16f",
   "metadata": {},
   "outputs": [
    {
     "data": {
      "text/plain": [
       "['MedNIST-437467c744.pkl',\n",
       " 'MedNIST-b35c610d54.pkl',\n",
       " 'MedNIST-b48a3173fe.pkl',\n",
       " 'MedNIST-516a3f6746.pkl',\n",
       " 'MedNIST-8ca1b11846.pkl',\n",
       " 'MedNIST-ecccc00ee3.pkl',\n",
       " 'MedNIST-aa8208fc64.pkl',\n",
       " 'MedNIST-842492e114.pkl',\n",
       " 'MedNIST-48975f1701.pkl',\n",
       " 'MedNIST-c865822efe.pkl']"
      ]
     },
     "execution_count": 70,
     "metadata": {},
     "output_type": "execute_result"
    }
   ],
   "source": [
    "os.listdir(data_subset_folder)"
   ]
  },
  {
   "cell_type": "markdown",
   "id": "fb75045f",
   "metadata": {},
   "source": [
    "Upload `dataset.json` and each of the data subsets to `https://github.com/OpenMined/datasets` inside the MedNIST Folder."
   ]
  }
 ],
 "metadata": {
  "kernelspec": {
   "display_name": "Python 3 (ipykernel)",
   "language": "python",
   "name": "python3"
  },
  "language_info": {
   "codemirror_mode": {
    "name": "ipython",
    "version": 3
   },
   "file_extension": ".py",
   "mimetype": "text/x-python",
   "name": "python",
   "nbconvert_exporter": "python",
   "pygments_lexer": "ipython3",
   "version": "3.10.3"
  }
 },
 "nbformat": 4,
 "nbformat_minor": 5
}

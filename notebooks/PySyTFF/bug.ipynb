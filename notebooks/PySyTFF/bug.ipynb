{
 "cells": [
  {
   "cell_type": "code",
   "execution_count": 1,
   "metadata": {},
   "outputs": [
    {
     "name": "stderr",
     "output_type": "stream",
     "text": [
      "/home/teo/anaconda3/envs/PySyTFF/lib/python3.9/site-packages/tqdm/auto.py:22: TqdmWarning: IProgress not found. Please update jupyter and ipywidgets. See https://ipywidgets.readthedocs.io/en/stable/user_install.html\n",
      "  from .autonotebook import tqdm as notebook_tqdm\n"
     ]
    }
   ],
   "source": [
    "import syft as sy\n"
   ]
  },
  {
   "cell_type": "code",
   "execution_count": 3,
   "metadata": {},
   "outputs": [
    {
     "name": "stdout",
     "output_type": "stream",
     "text": [
      "WARNING: CHANGE YOUR USERNAME AND PASSWORD!!! \n",
      "\n",
      "Anyone can login as an admin to your node right now because your password is still the default PySyft username and password!!!\n",
      "\n",
      "Connecting to localhost... done! \t Logging into node... done!\n"
     ]
    }
   ],
   "source": [
    "domain = sy.login(email=\"info@openmined.org\", password=\"changethis\", port=8081)"
   ]
  },
  {
   "cell_type": "code",
   "execution_count": 4,
   "metadata": {},
   "outputs": [
    {
     "name": "stdout",
     "output_type": "stream",
     "text": [
      "['__annotations__', '__class__', '__class_getitem__', '__delattr__', '__dict__', '__dir__', '__doc__', '__eq__', '__final__', '__format__', '__ge__', '__getattribute__', '__gt__', '__hash__', '__init__', '__init_subclass__', '__le__', '__lt__', '__module__', '__ne__', '__new__', '__orig_bases__', '__parameters__', '__reduce__', '__reduce_ex__', '__repr__', '__setattr__', '__sizeof__', '__slots__', '__str__', '__subclasshook__', '__weakref__', '_id', '_is_protocol', '_object2proto', '_proto2object', 'address', 'class_name', 'get_protobuf_schema', 'icon', 'id', 'metadatas', 'post_init', 'pprint', 'repr_short', 'sign', 'signed_type']\n",
      "<class 'syft.core.node.common.node_service.dataset_manager.dataset_manager_messages.GetDatasetsResponse'>\n",
      "['__annotations__', '__class__', '__class_getitem__', '__delattr__', '__dict__', '__dir__', '__doc__', '__eq__', '__final__', '__format__', '__ge__', '__getattribute__', '__gt__', '__hash__', '__init__', '__init_subclass__', '__le__', '__lt__', '__module__', '__ne__', '__new__', '__orig_bases__', '__parameters__', '__reduce__', '__reduce_ex__', '__repr__', '__setattr__', '__sizeof__', '__slots__', '__str__', '__subclasshook__', '__weakref__', '_id', '_is_protocol', '_object2proto', '_proto2object', 'address', 'class_name', 'get_protobuf_schema', 'icon', 'id', 'metadatas', 'post_init', 'pprint', 'repr_short', 'sign', 'signed_type']\n",
      "<class 'syft.core.node.common.node_service.dataset_manager.dataset_manager_messages.GetDatasetsResponse'>\n"
     ]
    },
    {
     "data": {
      "text/html": [
       "<style>\n",
       "                #myInput {\n",
       "                  background-position: 10px 12px; /* Position the search icon */\n",
       "                  background-repeat: no-repeat; /* Do not repeat the icon image */\n",
       "                  background-color: #bbb;\n",
       "                  width: 98%; /* Full-width */\n",
       "                  font-size: 14px; /* Increase font-size */\n",
       "                  padding: 12px 20px 12px 40px; /* Add some padding */\n",
       "                  border: 1px solid #ddd; /* Add a grey border */\n",
       "                  margin-bottom: 12px; /* Add some space below the input */\n",
       "                }\n",
       "\n",
       "                #myTable {\n",
       "                  border-collapse: collapse; /* Collapse borders */\n",
       "                  width: 100%; /* Full-width */\n",
       "                  border: 1px solid #ddd; /* Add a grey border */\n",
       "                  font-size: 14px; /* Increase font-size */\n",
       "                }\n",
       "\n",
       "                #myTable th, #myTable td {\n",
       "                  text-align: left; /* Left-align text */\n",
       "                  padding: 10px; /* Add padding */\n",
       "                }\n",
       "\n",
       "                #myTable tr {\n",
       "                  /* Add a bottom border to all table rows */\n",
       "                  border-bottom: 1px solid #ddd;\n",
       "                }\n",
       "\n",
       "                #myTable tr.header, #myTable tr:hover {\n",
       "                  /* Add a grey background color to the table header and on hover */\n",
       "                  background-color: #777;\n",
       "                }\n",
       "                </style>\n",
       "\n",
       "                <table id=\"myTable\" style=\"width:1000px\">\n",
       "                  <tr class=\"header\">\n",
       "                    <th style=\"width:30px\">Idx</th>\n",
       "                    <th style=\"width:20%;\">Name</th>\n",
       "                    <th style=\"width:35%;\">Description</th>\n",
       "                    <th style=\"width:20%;\">Assets</th>\n",
       "                    <th style=\"width:300px;\">Id</th>\n",
       "                  </tr>\n",
       "                \n",
       "\n",
       "          <tr>\n",
       "            <td>[0]</td>\n",
       "            <td>MedNIST Data</td>\n",
       "            <td>The MedNIST dataset was gathered from several sets from TCIA, the RSNA Bone Age Challenge, and the NIH Chest X-ray dataset. The dataset is kindly made available by Dr. Bradley J. Erickson M.D., Ph.D. (Department of Radiology, Mayo Clinic) under the Creative Commons CC BY-SA 4.0 license.\n",
       "Label Count: 6\n",
       "Label Mapping: {\"AbdomenCT\": 0, \"BreastMRI\": 1, \"CXR\": 2, \"ChestCT\": 3, \"Hand\": 4, \"HeadCT\": 5}\n",
       "Image Dimensions: (64, 64)\n",
       "Total Images: 58954\n",
       "</td>\n",
       "            <td>[\"images\"] -> <class 'syft.core.tensor.tensor.Tensor'><br /><br />[\"labels\"] -> <class 'syft.core.tensor.tensor.Tensor'><br /><br /></td>\n",
       "            <td>de6332f0-2c20-4904-9816-96b74b26d4ad</td>\n",
       "          </tr>\n",
       "\n",
       "          <tr>\n",
       "            <td>[1]</td>\n",
       "            <td>MedNIST Data</td>\n",
       "            <td>The MedNIST dataset was gathered from several sets from TCIA, the RSNA Bone Age Challenge, and the NIH Chest X-ray dataset. The dataset is kindly made available by Dr. Bradley J. Erickson M.D., Ph.D. (Department of Radiology, Mayo Clinic) under the Creative Commons CC BY-SA 4.0 license.\n",
       "Label Count: 6\n",
       "Label Mapping: {\"AbdomenCT\": 0, \"BreastMRI\": 1, \"CXR\": 2, \"ChestCT\": 3, \"Hand\": 4, \"HeadCT\": 5}\n",
       "Image Dimensions: (64, 64)\n",
       "Total Images: 58954\n",
       "</td>\n",
       "            <td>[\"images\"] -> <class 'syft.core.tensor.tensor.Tensor'><br /><br />[\"labels\"] -> <class 'syft.core.tensor.tensor.Tensor'><br /><br /></td>\n",
       "            <td>52500a1e-c532-4b1e-a5ec-59a00f00ab92</td>\n",
       "          </tr>\n",
       "\n",
       "          <tr>\n",
       "            <td>[2]</td>\n",
       "            <td>MedNIST Data</td>\n",
       "            <td>The MedNIST dataset was gathered from several sets from TCIA, the RSNA Bone Age Challenge, and the NIH Chest X-ray dataset. The dataset is kindly made available by Dr. Bradley J. Erickson M.D., Ph.D. (Department of Radiology, Mayo Clinic) under the Creative Commons CC BY-SA 4.0 license.\n",
       "Label Count: 6\n",
       "Label Mapping: {\"AbdomenCT\": 0, \"BreastMRI\": 1, \"CXR\": 2, \"ChestCT\": 3, \"Hand\": 4, \"HeadCT\": 5}\n",
       "Image Dimensions: (64, 64)\n",
       "Total Images: 58954\n",
       "</td>\n",
       "            <td>[\"images\"] -> <class 'syft.core.tensor.tensor.Tensor'><br /><br />[\"labels\"] -> <class 'syft.core.tensor.tensor.Tensor'><br /><br /></td>\n",
       "            <td>45cd0fd0-ea52-4426-b642-2319528ae91d</td>\n",
       "          </tr>\n",
       "        </table>\n",
       "\n",
       "        <script>\n",
       "        function myFunction() {\n",
       "          // Declare variables\n",
       "          var input, filter, table, tr, td, i, txtValue;\n",
       "          input = document.getElementById(\"myInput\");\n",
       "          filter = input.value.toUpperCase();\n",
       "          table = document.getElementById(\"myTable\");\n",
       "          tr = table.getElementsByTagName(\"tr\");\n",
       "\n",
       "          // Loop through all table rows, and hide those who don't match the search query\n",
       "          for (i = 0; i < tr.length; i++) {\n",
       "            name_td = tr[i].getElementsByTagName(\"td\")[1];\n",
       "            desc_td = tr[i].getElementsByTagName(\"td\")[2];\n",
       "            asset_td = tr[i].getElementsByTagName(\"td\")[3];\n",
       "            id_td = tr[i].getElementsByTagName(\"td\")[4];\n",
       "            if (name_td || desc_td || asset_td || id_td) {\n",
       "              name_txtValue = name_td.textContent || name_td.innerText;\n",
       "              desc_txtValue = desc_td.textContent || name_td.innerText;\n",
       "              asset_txtValue = asset_td.textContent || name_td.innerText;\n",
       "              id_txtValue = id_td.textContent || name_td.innerText;\n",
       "              name_bool = name_txtValue.toUpperCase().indexOf(filter) > -1;\n",
       "              desc_bool = desc_txtValue.toUpperCase().indexOf(filter) > -1;\n",
       "              asset_bool = asset_txtValue.toUpperCase().indexOf(filter) > -1;\n",
       "              id_bool = id_txtValue.toUpperCase().indexOf(filter) > -1;\n",
       "              if (name_bool || desc_bool || asset_bool || id_bool) {\n",
       "                tr[i].style.display = \"\";\n",
       "              } else {\n",
       "                tr[i].style.display = \"none\";\n",
       "              }\n",
       "            }\n",
       "          }\n",
       "        }\n",
       "        </script>"
      ],
      "text/plain": [
       "<syft.core.node.common.client_manager.dataset_api.DatasetRequestAPI at 0x7ff48f7b4d00>"
      ]
     },
     "execution_count": 4,
     "metadata": {},
     "output_type": "execute_result"
    }
   ],
   "source": [
    "domain.datasets"
   ]
  },
  {
   "cell_type": "code",
   "execution_count": 6,
   "metadata": {},
   "outputs": [
    {
     "name": "stdout",
     "output_type": "stream",
     "text": [
      "['__annotations__', '__class__', '__class_getitem__', '__delattr__', '__dict__', '__dir__', '__doc__', '__eq__', '__final__', '__format__', '__ge__', '__getattribute__', '__gt__', '__hash__', '__init__', '__init_subclass__', '__le__', '__lt__', '__module__', '__ne__', '__new__', '__orig_bases__', '__parameters__', '__reduce__', '__reduce_ex__', '__repr__', '__setattr__', '__sizeof__', '__slots__', '__str__', '__subclasshook__', '__weakref__', '_id', '_is_protocol', '_object2proto', '_proto2object', 'address', 'class_name', 'get_protobuf_schema', 'icon', 'id', 'metadatas', 'post_init', 'pprint', 'repr_short', 'sign', 'signed_type']\n",
      "<class 'syft.core.node.common.node_service.dataset_manager.dataset_manager_messages.GetDatasetsResponse'>\n",
      "['__annotations__', '__class__', '__class_getitem__', '__delattr__', '__dict__', '__dir__', '__doc__', '__eq__', '__final__', '__format__', '__ge__', '__getattribute__', '__gt__', '__hash__', '__init__', '__init_subclass__', '__le__', '__lt__', '__module__', '__ne__', '__new__', '__orig_bases__', '__parameters__', '__reduce__', '__reduce_ex__', '__repr__', '__setattr__', '__sizeof__', '__slots__', '__str__', '__subclasshook__', '__weakref__', '_id', '_is_protocol', '_object2proto', '_proto2object', 'address', 'class_name', 'get_protobuf_schema', 'icon', 'id', 'post_init', 'pprint', 'repr_short', 'results', 'sign', 'signed_type']\n",
      "<class 'syft.core.node.common.node_service.object_search.obj_search_service.ObjectSearchReplyMessage'>\n"
     ]
    },
    {
     "data": {
      "text/plain": [
       "<TensorPointer -> node:ca1ba0f4813f4f4e9b76a8ec6a0aceaa>"
      ]
     },
     "execution_count": 6,
     "metadata": {},
     "output_type": "execute_result"
    }
   ],
   "source": [
    "domain.datasets[1][\"images\"]"
   ]
  },
  {
   "cell_type": "code",
   "execution_count": 14,
   "metadata": {},
   "outputs": [
    {
     "name": "stdout",
     "output_type": "stream",
     "text": [
      "MedNIST already downloaded\n"
     ]
    }
   ],
   "source": [
    "# download MedNIST.pkl\n",
    "if not os.path.exists(\"./MedNIST.pkl\"):\n",
    "    os.system('curl -O \"https://media.githubusercontent.com/media/shubham3121/datasets/main/MedNIST/MedNIST.pkl\"')\n",
    "else:\n",
    "    print(\"MedNIST already downloaded\")\n"
   ]
  },
  {
   "cell_type": "code",
   "execution_count": 15,
   "metadata": {},
   "outputs": [
    {
     "name": "stdout",
     "output_type": "stream",
     "text": [
      "Columns: Index(['patient_id', 'image', 'label'], dtype='object')\n",
      "Total Images: 58954\n",
      "Label Mapping {'AbdomenCT': 0, 'BreastMRI': 1, 'CXR': 2, 'ChestCT': 3, 'Hand': 4, 'HeadCT': 5}\n"
     ]
    }
   ],
   "source": [
    "# Helper Methods\n",
    "\n",
    "import os\n",
    "import json\n",
    "import pandas as pd\n",
    "from PIL import Image\n",
    "from enum import Enum\n",
    "from collections import defaultdict\n",
    "import numpy as np\n",
    "from syft.core.adp.data_subject_list import DataSubjectList\n",
    "\n",
    "\n",
    "def get_label_mapping():\n",
    "    # the data uses the following mapping\n",
    "    mapping = {\n",
    "        \"AbdomenCT\": 0, \n",
    "        \"BreastMRI\": 1, \n",
    "        \"CXR\": 2, \n",
    "        \"ChestCT\": 3, \n",
    "        \"Hand\": 4, \n",
    "        \"HeadCT\": 5\n",
    "    }\n",
    "    return mapping\n",
    "\n",
    "df = pd.read_pickle(\"./MedNIST.pkl\")\n",
    "mapping = get_label_mapping()\n",
    "\n",
    "total_num = df.shape[0]\n",
    "print(\"Columns:\", df.columns)\n",
    "print(\"Total Images:\", total_num)\n",
    "print(\"Label Mapping\", mapping)"
   ]
  },
  {
   "cell_type": "code",
   "execution_count": 16,
   "metadata": {},
   "outputs": [],
   "source": [
    "def get_data_description(data):\n",
    "    unique_label_cnt = data.label.nunique()\n",
    "    lable_mapping = json.dumps(get_label_mapping())\n",
    "    image_size = data.iloc[0][\"image\"].shape\n",
    "    description = f\"The MedNIST dataset was gathered from several sets from TCIA, the RSNA Bone Age Challenge, and the NIH Chest X-ray dataset. The dataset is kindly made available by Dr. Bradley J. Erickson M.D., Ph.D. (Department of Radiology, Mayo Clinic) under the Creative Commons CC BY-SA 4.0 license.\\n\"\n",
    "    description += f\"Label Count: {unique_label_cnt}\\n\"\n",
    "    description += f\"Label Mapping: {lable_mapping}\\n\"\n",
    "    description += f\"Image Dimensions: {image_size}\\n\"\n",
    "    description += f\"Total Images: {data.shape[0]}\\n\"\n",
    "    return description"
   ]
  },
  {
   "cell_type": "code",
   "execution_count": 17,
   "metadata": {},
   "outputs": [],
   "source": [
    "data_subjects = DataSubjectList.from_series(df['patient_id'])\n",
    "\n",
    "images = df['image']\n",
    "images = np.dstack(images.values).astype(np.int32)\n",
    "images = np.rollaxis(images,-1)\n",
    "labels = df['label'].to_numpy().astype(\"int32\")\n",
    "image_data = sy.Tensor(images).private(min_val=0, max_val=255, data_subjects=data_subjects)\n",
    "label_data = sy.Tensor(labels).private(min_val=0, max_val=5, data_subjects=data_subjects)\n",
    "\n"
   ]
  },
  {
   "cell_type": "code",
   "execution_count": 18,
   "metadata": {},
   "outputs": [
    {
     "name": "stdout",
     "output_type": "stream",
     "text": [
      "Loading dataset... checking asset types...                              ['__annotations__', '__class__', '__class_getitem__', '__delattr__', '__dict__', '__dir__', '__doc__', '__eq__', '__final__', '__format__', '__ge__', '__getattribute__', '__gt__', '__hash__', '__init__', '__init_subclass__', '__le__', '__lt__', '__module__', '__ne__', '__new__', '__orig_bases__', '__parameters__', '__reduce__', '__reduce_ex__', '__repr__', '__setattr__', '__sizeof__', '__slots__', '__str__', '__subclasshook__', '__weakref__', '_id', '_is_protocol', '_object2proto', '_proto2object', 'address', 'class_name', 'content', 'get_protobuf_schema', 'icon', 'id', 'post_init', 'pprint', 'repr_short', 'sign', 'signed_type']\n",
      "<class 'syft.core.node.common.node_service.node_setup.node_setup_messages.GetSetUpResponse'>\n",
      "Loading dataset... uploading...🚀                        ['Reply', 'Request', '_DomainMessageRegistry__domain_message_registry', '__annotations__', '__attr_allowlist__', '__class__', '__class_getitem__', '__delattr__', '__dict__', '__dir__', '__doc__', '__eq__', '__final__', '__format__', '__ge__', '__getattribute__', '__gt__', '__hash__', '__init__', '__init_subclass__', '__le__', '__lt__', '__module__', '__ne__', '__new__', '__orig_bases__', '__parameters__', '__reduce__', '__reduce_ex__', '__repr__', '__serde_overrides__', '__setattr__', '__sizeof__', '__slots__', '__str__', '__subclasshook__', '__weakref__', '_id', '_is_protocol', '_object2proto', '_proto2object', 'address', 'check_permissions', 'class_name', 'get_permissions', 'get_protobuf_schema', 'get_registered_messages', 'icon', 'id', 'kwargs', 'payload', 'post_init', 'pprint', 'reply', 'reply_payload_type', 'reply_to', 'repr_short', 'request_payload_type', 'run', 'sign', 'signed_type']\n",
      "<class 'syft.core.node.common.node_service.upload_service.upload_service_messages.UploadDataMessage'>\n"
     ]
    },
    {
     "name": "stderr",
     "output_type": "stream",
     "text": [
      "Uploading `images`: 100%|\u001b[32m█████████████████████████████████████████████\u001b[0m| 1/1 [00:00<00:00,  2.19it/s]\u001b[0m\n"
     ]
    },
    {
     "name": "stdout",
     "output_type": "stream",
     "text": [
      "['Reply', 'Request', '_DomainMessageRegistry__domain_message_registry', '__annotations__', '__attr_allowlist__', '__class__', '__class_getitem__', '__delattr__', '__dict__', '__dir__', '__doc__', '__eq__', '__final__', '__format__', '__ge__', '__getattribute__', '__gt__', '__hash__', '__init__', '__init_subclass__', '__le__', '__lt__', '__module__', '__ne__', '__new__', '__orig_bases__', '__parameters__', '__reduce__', '__reduce_ex__', '__repr__', '__serde_overrides__', '__setattr__', '__sizeof__', '__slots__', '__str__', '__subclasshook__', '__weakref__', '_id', '_is_protocol', '_object2proto', '_proto2object', 'address', 'check_permissions', 'class_name', 'get_permissions', 'get_protobuf_schema', 'get_registered_messages', 'icon', 'id', 'kwargs', 'payload', 'post_init', 'pprint', 'reply', 'reply_payload_type', 'reply_to', 'repr_short', 'request_payload_type', 'run', 'sign', 'signed_type']\n",
      "<class 'syft.core.node.common.node_service.upload_service.upload_service_messages.UploadDataCompleteMessage'>\n",
      "['Reply', 'Request', '_DomainMessageRegistry__domain_message_registry', '__annotations__', '__attr_allowlist__', '__class__', '__class_getitem__', '__delattr__', '__dict__', '__dir__', '__doc__', '__eq__', '__final__', '__format__', '__ge__', '__getattribute__', '__gt__', '__hash__', '__init__', '__init_subclass__', '__le__', '__lt__', '__module__', '__ne__', '__new__', '__orig_bases__', '__parameters__', '__reduce__', '__reduce_ex__', '__repr__', '__serde_overrides__', '__setattr__', '__sizeof__', '__slots__', '__str__', '__subclasshook__', '__weakref__', '_id', '_is_protocol', '_object2proto', '_proto2object', 'address', 'check_permissions', 'class_name', 'get_permissions', 'get_protobuf_schema', 'get_registered_messages', 'icon', 'id', 'kwargs', 'payload', 'post_init', 'pprint', 'reply', 'reply_payload_type', 'reply_to', 'repr_short', 'request_payload_type', 'run', 'sign', 'signed_type']\n",
      "<class 'syft.core.node.common.node_service.upload_service.upload_service_messages.UploadDataMessage'>\n"
     ]
    },
    {
     "name": "stderr",
     "output_type": "stream",
     "text": [
      "Uploading `labels`: 100%|\u001b[32m████████████████████████████████████████████\u001b[0m| 1/1 [00:00<00:00, 143.34it/s]\u001b[0m"
     ]
    },
    {
     "name": "stdout",
     "output_type": "stream",
     "text": [
      "['Reply', 'Request', '_DomainMessageRegistry__domain_message_registry', '__annotations__', '__attr_allowlist__', '__class__', '__class_getitem__', '__delattr__', '__dict__', '__dir__', '__doc__', '__eq__', '__final__', '__format__', '__ge__', '__getattribute__', '__gt__', '__hash__', '__init__', '__init_subclass__', '__le__', '__lt__', '__module__', '__ne__', '__new__', '__orig_bases__', '__parameters__', '__reduce__', '__reduce_ex__', '__repr__', '__serde_overrides__', '__setattr__', '__sizeof__', '__slots__', '__str__', '__subclasshook__', '__weakref__', '_id', '_is_protocol', '_object2proto', '_proto2object', 'address', 'check_permissions', 'class_name', 'get_permissions', 'get_protobuf_schema', 'get_registered_messages', 'icon', 'id', 'kwargs', 'payload', 'post_init', 'pprint', 'reply', 'reply_payload_type', 'reply_to', 'repr_short', 'request_payload_type', 'run', 'sign', 'signed_type']\n",
      "<class 'syft.core.node.common.node_service.upload_service.upload_service_messages.UploadDataCompleteMessage'>\n",
      "['__annotations__', '__class__', '__class_getitem__', '__delattr__', '__dict__', '__dir__', '__doc__', '__eq__', '__final__', '__format__', '__ge__', '__getattribute__', '__gt__', '__hash__', '__init__', '__init_subclass__', '__le__', '__lt__', '__module__', '__ne__', '__new__', '__orig_bases__', '__parameters__', '__reduce__', '__reduce_ex__', '__repr__', '__setattr__', '__sizeof__', '__slots__', '__str__', '__subclasshook__', '__weakref__', '_id', '_is_protocol', '_object2proto', '_proto2object', 'address', 'class_name', 'get_protobuf_schema', 'icon', 'id', 'post_init', 'pprint', 'repr_short', 'resp_msg', 'sign', 'signed_type']\n",
      "<class 'syft.core.node.common.node_service.success_resp_message.SuccessResponseMessage'>\n",
      "Dataset is uploaded successfully !!! 🎉\n",
      "\n",
      "Run `<your client variable>.datasets` to see your new dataset loaded into your machine!\n"
     ]
    },
    {
     "name": "stderr",
     "output_type": "stream",
     "text": [
      "\n"
     ]
    }
   ],
   "source": [
    "# creating/uploading the dataset\n",
    "\n",
    "# Name of the dataset\n",
    "name = f\"MedNIST Data\"\n",
    "dataset_description = get_data_description(df)\n",
    "# upload the MedNIST data\n",
    "domain.load_dataset(\n",
    "    assets={\"images\": image_data, \"labels\": label_data},\n",
    "    name=name,\n",
    "    description=dataset_description,\n",
    "    use_blob_storage=True\n",
    ")"
   ]
  },
  {
   "cell_type": "code",
   "execution_count": 19,
   "metadata": {},
   "outputs": [
    {
     "name": "stdout",
     "output_type": "stream",
     "text": [
      "['__annotations__', '__class__', '__class_getitem__', '__delattr__', '__dict__', '__dir__', '__doc__', '__eq__', '__final__', '__format__', '__ge__', '__getattribute__', '__gt__', '__hash__', '__init__', '__init_subclass__', '__le__', '__lt__', '__module__', '__ne__', '__new__', '__orig_bases__', '__parameters__', '__reduce__', '__reduce_ex__', '__repr__', '__setattr__', '__sizeof__', '__slots__', '__str__', '__subclasshook__', '__weakref__', '_id', '_is_protocol', '_object2proto', '_proto2object', 'address', 'class_name', 'get_protobuf_schema', 'icon', 'id', 'metadatas', 'post_init', 'pprint', 'repr_short', 'sign', 'signed_type']\n",
      "<class 'syft.core.node.common.node_service.dataset_manager.dataset_manager_messages.GetDatasetsResponse'>\n",
      "['__annotations__', '__class__', '__class_getitem__', '__delattr__', '__dict__', '__dir__', '__doc__', '__eq__', '__final__', '__format__', '__ge__', '__getattribute__', '__gt__', '__hash__', '__init__', '__init_subclass__', '__le__', '__lt__', '__module__', '__ne__', '__new__', '__orig_bases__', '__parameters__', '__reduce__', '__reduce_ex__', '__repr__', '__setattr__', '__sizeof__', '__slots__', '__str__', '__subclasshook__', '__weakref__', '_id', '_is_protocol', '_object2proto', '_proto2object', 'address', 'class_name', 'get_protobuf_schema', 'icon', 'id', 'post_init', 'pprint', 'repr_short', 'results', 'sign', 'signed_type']\n",
      "<class 'syft.core.node.common.node_service.object_search.obj_search_service.ObjectSearchReplyMessage'>\n"
     ]
    },
    {
     "data": {
      "text/plain": [
       "<TensorPointer -> node:4c262662e8eb44fcaf389a847ddaa028>"
      ]
     },
     "execution_count": 19,
     "metadata": {},
     "output_type": "execute_result"
    }
   ],
   "source": [
    "domain.datasets[-1][\"images\"]"
   ]
  },
  {
   "cell_type": "code",
   "execution_count": 11,
   "metadata": {},
   "outputs": [
    {
     "name": "stdout",
     "output_type": "stream",
     "text": [
      "Loading dataset... checking asset types...                              ['__annotations__', '__class__', '__class_getitem__', '__delattr__', '__dict__', '__dir__', '__doc__', '__eq__', '__final__', '__format__', '__ge__', '__getattribute__', '__gt__', '__hash__', '__init__', '__init_subclass__', '__le__', '__lt__', '__module__', '__ne__', '__new__', '__orig_bases__', '__parameters__', '__reduce__', '__reduce_ex__', '__repr__', '__setattr__', '__sizeof__', '__slots__', '__str__', '__subclasshook__', '__weakref__', '_id', '_is_protocol', '_object2proto', '_proto2object', 'address', 'class_name', 'content', 'get_protobuf_schema', 'icon', 'id', 'post_init', 'pprint', 'repr_short', 'sign', 'signed_type']\n",
      "<class 'syft.core.node.common.node_service.node_setup.node_setup_messages.GetSetUpResponse'>\n",
      "Loading dataset... uploading...🚀                        ['Reply', 'Request', '_DomainMessageRegistry__domain_message_registry', '__annotations__', '__attr_allowlist__', '__class__', '__class_getitem__', '__delattr__', '__dict__', '__dir__', '__doc__', '__eq__', '__final__', '__format__', '__ge__', '__getattribute__', '__gt__', '__hash__', '__init__', '__init_subclass__', '__le__', '__lt__', '__module__', '__ne__', '__new__', '__orig_bases__', '__parameters__', '__reduce__', '__reduce_ex__', '__repr__', '__serde_overrides__', '__setattr__', '__sizeof__', '__slots__', '__str__', '__subclasshook__', '__weakref__', '_id', '_is_protocol', '_object2proto', '_proto2object', 'address', 'check_permissions', 'class_name', 'get_permissions', 'get_protobuf_schema', 'get_registered_messages', 'icon', 'id', 'kwargs', 'payload', 'post_init', 'pprint', 'reply', 'reply_payload_type', 'reply_to', 'repr_short', 'request_payload_type', 'run', 'sign', 'signed_type']\n",
      "<class 'syft.core.node.common.node_service.upload_service.upload_service_messages.UploadDataMessage'>\n"
     ]
    },
    {
     "name": "stderr",
     "output_type": "stream",
     "text": [
      "Uploading `images`: 100%|\u001b[32m█████████████████████████████████████████████\u001b[0m| 1/1 [00:00<00:00,  2.24it/s]\u001b[0m\n"
     ]
    },
    {
     "name": "stdout",
     "output_type": "stream",
     "text": [
      "['Reply', 'Request', '_DomainMessageRegistry__domain_message_registry', '__annotations__', '__attr_allowlist__', '__class__', '__class_getitem__', '__delattr__', '__dict__', '__dir__', '__doc__', '__eq__', '__final__', '__format__', '__ge__', '__getattribute__', '__gt__', '__hash__', '__init__', '__init_subclass__', '__le__', '__lt__', '__module__', '__ne__', '__new__', '__orig_bases__', '__parameters__', '__reduce__', '__reduce_ex__', '__repr__', '__serde_overrides__', '__setattr__', '__sizeof__', '__slots__', '__str__', '__subclasshook__', '__weakref__', '_id', '_is_protocol', '_object2proto', '_proto2object', 'address', 'check_permissions', 'class_name', 'get_permissions', 'get_protobuf_schema', 'get_registered_messages', 'icon', 'id', 'kwargs', 'payload', 'post_init', 'pprint', 'reply', 'reply_payload_type', 'reply_to', 'repr_short', 'request_payload_type', 'run', 'sign', 'signed_type']\n",
      "<class 'syft.core.node.common.node_service.upload_service.upload_service_messages.UploadDataCompleteMessage'>\n",
      "['Reply', 'Request', '_DomainMessageRegistry__domain_message_registry', '__annotations__', '__attr_allowlist__', '__class__', '__class_getitem__', '__delattr__', '__dict__', '__dir__', '__doc__', '__eq__', '__final__', '__format__', '__ge__', '__getattribute__', '__gt__', '__hash__', '__init__', '__init_subclass__', '__le__', '__lt__', '__module__', '__ne__', '__new__', '__orig_bases__', '__parameters__', '__reduce__', '__reduce_ex__', '__repr__', '__serde_overrides__', '__setattr__', '__sizeof__', '__slots__', '__str__', '__subclasshook__', '__weakref__', '_id', '_is_protocol', '_object2proto', '_proto2object', 'address', 'check_permissions', 'class_name', 'get_permissions', 'get_protobuf_schema', 'get_registered_messages', 'icon', 'id', 'kwargs', 'payload', 'post_init', 'pprint', 'reply', 'reply_payload_type', 'reply_to', 'repr_short', 'request_payload_type', 'run', 'sign', 'signed_type']\n",
      "<class 'syft.core.node.common.node_service.upload_service.upload_service_messages.UploadDataMessage'>\n"
     ]
    },
    {
     "name": "stderr",
     "output_type": "stream",
     "text": [
      "Uploading `labels`: 100%|\u001b[32m████████████████████████████████████████████\u001b[0m| 1/1 [00:00<00:00, 182.81it/s]\u001b[0m"
     ]
    },
    {
     "name": "stdout",
     "output_type": "stream",
     "text": [
      "['Reply', 'Request', '_DomainMessageRegistry__domain_message_registry', '__annotations__', '__attr_allowlist__', '__class__', '__class_getitem__', '__delattr__', '__dict__', '__dir__', '__doc__', '__eq__', '__final__', '__format__', '__ge__', '__getattribute__', '__gt__', '__hash__', '__init__', '__init_subclass__', '__le__', '__lt__', '__module__', '__ne__', '__new__', '__orig_bases__', '__parameters__', '__reduce__', '__reduce_ex__', '__repr__', '__serde_overrides__', '__setattr__', '__sizeof__', '__slots__', '__str__', '__subclasshook__', '__weakref__', '_id', '_is_protocol', '_object2proto', '_proto2object', 'address', 'check_permissions', 'class_name', 'get_permissions', 'get_protobuf_schema', 'get_registered_messages', 'icon', 'id', 'kwargs', 'payload', 'post_init', 'pprint', 'reply', 'reply_payload_type', 'reply_to', 'repr_short', 'request_payload_type', 'run', 'sign', 'signed_type']\n",
      "<class 'syft.core.node.common.node_service.upload_service.upload_service_messages.UploadDataCompleteMessage'>\n",
      "['__annotations__', '__class__', '__class_getitem__', '__delattr__', '__dict__', '__dir__', '__doc__', '__eq__', '__final__', '__format__', '__ge__', '__getattribute__', '__gt__', '__hash__', '__init__', '__init_subclass__', '__le__', '__lt__', '__module__', '__ne__', '__new__', '__orig_bases__', '__parameters__', '__reduce__', '__reduce_ex__', '__repr__', '__setattr__', '__sizeof__', '__slots__', '__str__', '__subclasshook__', '__weakref__', '_id', '_is_protocol', '_object2proto', '_proto2object', 'address', 'class_name', 'get_protobuf_schema', 'icon', 'id', 'post_init', 'pprint', 'repr_short', 'resp_msg', 'sign', 'signed_type']\n",
      "<class 'syft.core.node.common.node_service.success_resp_message.SuccessResponseMessage'>\n",
      "Dataset is uploaded successfully !!! 🎉\n",
      "\n",
      "Run `<your client variable>.datasets` to see your new dataset loaded into your machine!\n"
     ]
    },
    {
     "name": "stderr",
     "output_type": "stream",
     "text": [
      "\n"
     ]
    }
   ],
   "source": [
    "domain.load_dataset(\n",
    "    assets={\"images\": image_data, \"labels\": label_data},\n",
    "    name=name,\n",
    "    description=dataset_description,\n",
    "    use_blob_storage=True\n",
    ")"
   ]
  },
  {
   "cell_type": "code",
   "execution_count": 13,
   "metadata": {},
   "outputs": [
    {
     "name": "stdout",
     "output_type": "stream",
     "text": [
      "['__annotations__', '__class__', '__class_getitem__', '__delattr__', '__dict__', '__dir__', '__doc__', '__eq__', '__final__', '__format__', '__ge__', '__getattribute__', '__gt__', '__hash__', '__init__', '__init_subclass__', '__le__', '__lt__', '__module__', '__ne__', '__new__', '__orig_bases__', '__parameters__', '__reduce__', '__reduce_ex__', '__repr__', '__setattr__', '__sizeof__', '__slots__', '__str__', '__subclasshook__', '__weakref__', '_id', '_is_protocol', '_object2proto', '_proto2object', 'address', 'class_name', 'get_protobuf_schema', 'icon', 'id', 'metadatas', 'post_init', 'pprint', 'repr_short', 'sign', 'signed_type']\n",
      "<class 'syft.core.node.common.node_service.dataset_manager.dataset_manager_messages.GetDatasetsResponse'>\n",
      "['__annotations__', '__class__', '__class_getitem__', '__delattr__', '__dict__', '__dir__', '__doc__', '__eq__', '__final__', '__format__', '__ge__', '__getattribute__', '__gt__', '__hash__', '__init__', '__init_subclass__', '__le__', '__lt__', '__module__', '__ne__', '__new__', '__orig_bases__', '__parameters__', '__reduce__', '__reduce_ex__', '__repr__', '__setattr__', '__sizeof__', '__slots__', '__str__', '__subclasshook__', '__weakref__', '_id', '_is_protocol', '_object2proto', '_proto2object', 'address', 'class_name', 'get_protobuf_schema', 'icon', 'id', 'post_init', 'pprint', 'repr_short', 'results', 'sign', 'signed_type']\n",
      "<class 'syft.core.node.common.node_service.object_search.obj_search_service.ObjectSearchReplyMessage'>\n"
     ]
    },
    {
     "data": {
      "text/plain": [
       "<TensorPointer -> node:ca1ba0f4813f4f4e9b76a8ec6a0aceaa>"
      ]
     },
     "execution_count": 13,
     "metadata": {},
     "output_type": "execute_result"
    }
   ],
   "source": [
    "domain.datasets[1][\"images\"]"
   ]
  }
 ],
 "metadata": {
  "interpreter": {
   "hash": "67856bda971e2a654274dbee4a8f60d8877ae51b472a8acc4dc577a3ea0a55e3"
  },
  "kernelspec": {
   "display_name": "Python 3.9.7 ('PySyTFF')",
   "language": "python",
   "name": "python3"
  },
  "language_info": {
   "codemirror_mode": {
    "name": "ipython",
    "version": 3
   },
   "file_extension": ".py",
   "mimetype": "text/x-python",
   "name": "python",
   "nbconvert_exporter": "python",
   "pygments_lexer": "ipython3",
   "version": "3.9.7"
  },
  "orig_nbformat": 4
 },
 "nbformat": 4,
 "nbformat_minor": 2
}

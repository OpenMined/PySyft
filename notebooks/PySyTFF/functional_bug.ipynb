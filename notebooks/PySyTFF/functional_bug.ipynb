{
 "cells": [
  {
   "cell_type": "code",
   "execution_count": 1,
   "metadata": {},
   "outputs": [],
   "source": [
    "import nest_asyncio\n",
    "nest_asyncio.apply()"
   ]
  },
  {
   "cell_type": "code",
   "execution_count": 2,
   "metadata": {},
   "outputs": [],
   "source": [
    "import collections\n",
    "\n",
    "import numpy as np\n",
    "import tensorflow as tf\n",
    "import tensorflow_federated as tff\n",
    "\n",
    "np.random.seed(0)"
   ]
  },
  {
   "cell_type": "code",
   "execution_count": 3,
   "metadata": {},
   "outputs": [],
   "source": [
    "emnist_train, emnist_test = tff.simulation.datasets.emnist.load_data()"
   ]
  },
  {
   "cell_type": "code",
   "execution_count": 4,
   "metadata": {},
   "outputs": [],
   "source": [
    "from tensorflow_federated.proto.v0 import computation_pb2 as pb\n",
    "\n",
    "\n",
    "NUM_CLIENTS = 10\n",
    "NUM_EPOCHS = 5\n",
    "SHUFFLE_BUFFER = 100\n",
    "\n",
    "def preprocess(dataset):\n",
    "\n",
    "  def map_fn(element):\n",
    "    return [tf.reshape(element['pixels'], [-1, 784]),\n",
    "        tf.reshape(element['label'], [-1, 1])]\n",
    "\n",
    "  return dataset.repeat(NUM_EPOCHS).shuffle(SHUFFLE_BUFFER, seed=1).map(map_fn)"
   ]
  },
  {
   "cell_type": "code",
   "execution_count": 5,
   "metadata": {},
   "outputs": [],
   "source": [
    "example_dataset = emnist_train.create_tf_dataset_for_client(\n",
    "    emnist_train.client_ids[0])\n",
    "preprocessed_example_dataset = preprocess(example_dataset)"
   ]
  },
  {
   "cell_type": "code",
   "execution_count": 6,
   "metadata": {},
   "outputs": [],
   "source": [
    "def create_keras_model():\n",
    "  return tf.keras.models.Sequential([\n",
    "      tf.keras.layers.InputLayer(input_shape=(784,)),\n",
    "      tf.keras.layers.Dense(10, kernel_initializer='zeros'),\n",
    "      tf.keras.layers.Softmax(),\n",
    "  ])\n",
    "  \n",
    "def model_fn():\n",
    "  keras_model = create_keras_model()\n",
    "  return tff.learning.from_keras_model(\n",
    "      keras_model,\n",
    "      input_spec=preprocessed_example_dataset.element_spec,\n",
    "      loss=tf.keras.losses.SparseCategoricalCrossentropy(),\n",
    "      metrics=[tf.keras.metrics.SparseCategoricalAccuracy()])"
   ]
  },
  {
   "cell_type": "code",
   "execution_count": 7,
   "metadata": {},
   "outputs": [
    {
     "name": "stdout",
     "output_type": "stream",
     "text": [
      "(TensorSpec(shape=(1, 784), dtype=tf.float32, name=None), TensorSpec(shape=(1, 1), dtype=tf.int32, name=None))\n",
      "(TensorSpec(shape=(1, 784), dtype=tf.float32, name=None), TensorSpec(shape=(1, 1), dtype=tf.int32, name=None))\n"
     ]
    }
   ],
   "source": [
    "model = create_keras_model()\n",
    "\n",
    "input_spec = (tf.TensorSpec(shape=(1,784), dtype=tf.float32, name=None), \n",
    "              tf.TensorSpec(shape=(1,1), dtype=tf.int32, name=None))\n",
    "print(input_spec)\n",
    "print(preprocessed_example_dataset.element_spec)\n",
    "\n",
    "functional_model = tff.learning.models.functional_model_from_keras(keras_model=model, loss_fn=tf.keras.losses.SparseCategoricalCrossentropy(),input_spec=input_spec)\n",
    "\n",
    "def tff_model_fn() -> tff.learning.Model:\n",
    "    return tff.learning.models.model_from_functional(functional_model)"
   ]
  },
  {
   "cell_type": "code",
   "execution_count": 8,
   "metadata": {},
   "outputs": [
    {
     "name": "stderr",
     "output_type": "stream",
     "text": [
      "WARNING:absl:Function `flat_predict_on_batch` contains input name(s) Identity, Identity_1 with unsupported characters which will be renamed to identity, identity_1 in the SavedModel.\n"
     ]
    },
    {
     "name": "stdout",
     "output_type": "stream",
     "text": [
      "INFO:tensorflow:Assets written to: tmp_dir/assets\n"
     ]
    },
    {
     "name": "stderr",
     "output_type": "stream",
     "text": [
      "INFO:tensorflow:Assets written to: tmp_dir/assets\n"
     ]
    }
   ],
   "source": [
    "tff.learning.models.save_functional_model(functional_model=functional_model, path='tmp_dir')\n",
    "saved_functional_model = tff.learning.models.load_functional_model(\n",
    "                \"tmp_dir\"\n",
    "            )\n",
    "def saved_tff_model_fn() -> tff.learning.Model:\n",
    "    \n",
    "    return tff.learning.models.model_from_functional(saved_functional_model)"
   ]
  },
  {
   "cell_type": "code",
   "execution_count": 9,
   "metadata": {},
   "outputs": [],
   "source": [
    "import os\n",
    "OUTPUT_DIR = 'some_dir'\n",
    "train_output_managers = [tff.program.LoggingReleaseManager()]\n",
    "evaluation_output_managers = [tff.program.LoggingReleaseManager()]\n",
    "model_output_manager = tff.program.LoggingReleaseManager()\n",
    "\n",
    "# # there is an issue with this, it causes and error for some reason\n",
    "# summary_dir = os.path.join(OUTPUT_DIR, \"summary\")\n",
    "# tensorboard_manager = tff.program.TensorBoardReleaseManager(summary_dir)\n",
    "# train_output_managers.append(tensorboard_manager)\n",
    "\n",
    "# # there is an issue with this, it causes and error for some reason\n",
    "# csv_path = os.path.join(OUTPUT_DIR, \"evaluation_metrics.csv\")\n",
    "# csv_manager = tff.program.CSVFileReleaseManager(csv_path)\n",
    "# evaluation_output_managers.append(csv_manager)\n",
    "\n",
    "# # there is an issue with this, it causes and error for some reason\n",
    "# program_state_dir = os.path.join(OUTPUT_DIR, \"program_state\")\n",
    "# program_state_manager = tff.program.FileProgramStateManager(program_state_dir)\n"
   ]
  },
  {
   "cell_type": "code",
   "execution_count": 10,
   "metadata": {},
   "outputs": [
    {
     "data": {
      "text/plain": [
       "<MapDataset element_spec=(TensorSpec(shape=(1, 784), dtype=tf.float32, name=None), TensorSpec(shape=(1, 1), dtype=tf.int32, name=None))>"
      ]
     },
     "execution_count": 10,
     "metadata": {},
     "output_type": "execute_result"
    }
   ],
   "source": [
    "#emnist_train, emnist_test\n",
    "preprocessed_example_dataset"
   ]
  },
  {
   "cell_type": "code",
   "execution_count": 11,
   "metadata": {},
   "outputs": [],
   "source": [
    "number_of_clients = 3 \n",
    "total_rounds = 10\n",
    "train_datasets = [preprocess(emnist_train.create_tf_dataset_for_client(i)) for i in emnist_train.client_ids]\n",
    "test_datasets = [preprocess(emnist_test.create_tf_dataset_for_client(i)) for i in emnist_test.client_ids]\n",
    "train_data_source = tff.program.DatasetDataSource(train_datasets)\n",
    "evaluation_data_source = tff.program.DatasetDataSource(test_datasets)"
   ]
  },
  {
   "cell_type": "code",
   "execution_count": 12,
   "metadata": {},
   "outputs": [],
   "source": [
    "import functools\n",
    "from tensorflow_federated.python.program import value_reference\n",
    "\n",
    "\n",
    "async def tff_train_federated(\n",
    "    initialize: tff.Computation,\n",
    "    train: tff.Computation,\n",
    "    train_data_source: tff.program.FederatedDataSource,\n",
    "    evaluation: tff.Computation,\n",
    "    evaluation_data_source: tff.program.FederatedDataSource,\n",
    "    total_rounds: int,\n",
    "    number_of_clients: int,\n",
    "    train_output_managers,\n",
    "    evaluation_output_managers,\n",
    "    model_output_manager: tff.program.ReleaseManager,\n",
    "    program_state_manager: tff.program.ProgramStateManager,\n",
    ") -> None:\n",
    "    tff.program.check_in_federated_context()\n",
    "\n",
    "    # The program state manager is not working but maybe we could drop it\n",
    "    if program_state_manager is not None:\n",
    "        structure = initialize()\n",
    "        program_state, version = await program_state_manager.load_latest(structure)\n",
    "    else:\n",
    "        program_state = None\n",
    "\n",
    "    if program_state is not None:\n",
    "\n",
    "        state, start_round = program_state\n",
    "    else:\n",
    "        state = initialize()\n",
    "        start_round = 1\n",
    "\n",
    "    # state = initialize()\n",
    "    # start_round = 1\n",
    "    async with tff.async_utils.ordered_tasks() as tasks:\n",
    "\n",
    "        train_data_iterator = train_data_source.iterator()\n",
    "\n",
    "        for round_number in range(start_round, total_rounds + 1):\n",
    "            tasks.add_callable(\n",
    "                functools.partial(\n",
    "                    print, f\"Running round {round_number} of training\" \n",
    "                )\n",
    "            )\n",
    "\n",
    "            train_data = train_data_iterator.select(number_of_clients)\n",
    "            output = train(state, train_data)\n",
    "            state = output.state\n",
    "            metrics = output.metrics\n",
    "\n",
    "            if train_output_managers is not None:\n",
    "                _, metrics_type = train.type_signature.result\n",
    "                # tasks.add_all(\n",
    "                #     *[m.release(metrics, metrics_type, round_number) for m in train_output_managers]\n",
    "                # )\n",
    "                materialized_value = await value_reference.materialize_value(metrics)\n",
    "\n",
    "                tasks.add_callable(\n",
    "                    functools.partial(\n",
    "                        print, str(materialized_value) \n",
    "                    )\n",
    "                )\n",
    "\n",
    "            # This is not working\n",
    "            # if program_state_manager is not None:\n",
    "            #     program_state = (state, start_round)\n",
    "            #     tasks.add(program_state_manager.save(program_state, round_number))\n",
    "\n",
    "        evaluation_data_iterator = evaluation_data_source.iterator()\n",
    "        evaluation_data = evaluation_data_iterator.select(number_of_clients)\n",
    "        evaluation_metrics = evaluation(state, evaluation_data)\n",
    "\n",
    "        # if evaluation_output_managers is not None:\n",
    "        #     evaluation_metrics_type = evaluation.type_signature.result\n",
    "        #     tasks.add_all(*[\n",
    "        #         m.release(evaluation_metrics, evaluation_metrics_type, round_number)\n",
    "        #         for m in train_output_managers\n",
    "        #     ])\n",
    "\n",
    "        # if model_output_manager is not None:\n",
    "        #     state_type, _ = train.type_signature.result\n",
    "        #     tasks.add(model_output_manager.release(state, state_type))\n",
    "\n"
   ]
  },
  {
   "cell_type": "code",
   "execution_count": 13,
   "metadata": {},
   "outputs": [
    {
     "name": "stderr",
     "output_type": "stream",
     "text": [
      "INFO:root:Test\n",
      "/home/teo/anaconda3/envs/PySyTFF/lib/python3.9/site-packages/tensorflow_federated/python/program/native_platform.py:97: RuntimeWarning: coroutine '_create_structure_of_coro_references.<locals>._to_structure' was never awaited\n",
      "  element = _create_structure_of_coro_references(element_coro, element_type)\n",
      "RuntimeWarning: Enable tracemalloc to get the object allocation traceback\n",
      "/home/teo/anaconda3/envs/PySyTFF/lib/python3.9/site-packages/tensorflow_federated/python/program/native_platform.py:97: RuntimeWarning: coroutine '_create_structure_of_coro_references.<locals>._get_item' was never awaited\n",
      "  element = _create_structure_of_coro_references(element_coro, element_type)\n",
      "RuntimeWarning: Enable tracemalloc to get the object allocation traceback\n",
      "/home/teo/anaconda3/envs/PySyTFF/lib/python3.9/site-packages/tensorflow_federated/python/program/native_platform.py:96: RuntimeWarning: coroutine '_create_structure_of_coro_references.<locals>._get_item' was never awaited\n",
      "  element_coro = _get_item(shared_awaitable, index)\n",
      "RuntimeWarning: Enable tracemalloc to get the object allocation traceback\n",
      "/home/teo/anaconda3/envs/PySyTFF/lib/python3.9/site-packages/tensorflow_federated/python/program/native_platform.py:102: RuntimeWarning: coroutine '_create_structure_of_coro_references.<locals>._get_item' was never awaited\n",
      "  return _create_structure_of_coro_references(coro, type_signature.member)\n",
      "RuntimeWarning: Enable tracemalloc to get the object allocation traceback\n"
     ]
    },
    {
     "name": "stdout",
     "output_type": "stream",
     "text": [
      "Running round 1 of training\n",
      "OrderedDict([('distributor', ()), ('client_work', OrderedDict([('train', OrderedDict([('sparse_categorical_accuracy', 0.112933755), ('loss', 10.612101), ('num_examples', 1585), ('num_batches', 1585)]))])), ('aggregator', OrderedDict([('mean_value', ()), ('mean_count', ())])), ('finalizer', ())])\n",
      "Running round 2 of training\n",
      "OrderedDict([('distributor', ()), ('client_work', OrderedDict([('train', OrderedDict([('sparse_categorical_accuracy', 0.115611814), ('loss', 10.417141), ('num_examples', 1185), ('num_batches', 1185)]))])), ('aggregator', OrderedDict([('mean_value', ()), ('mean_count', ())])), ('finalizer', ())])\n",
      "Running round 3 of training\n",
      "OrderedDict([('distributor', ()), ('client_work', OrderedDict([('train', OrderedDict([('sparse_categorical_accuracy', 0.17106918), ('loss', 7.437316), ('num_examples', 1590), ('num_batches', 1590)]))])), ('aggregator', OrderedDict([('mean_value', ()), ('mean_count', ())])), ('finalizer', ())])\n",
      "Running round 4 of training\n",
      "OrderedDict([('distributor', ()), ('client_work', OrderedDict([('train', OrderedDict([('sparse_categorical_accuracy', 0.23262411), ('loss', 6.3164396), ('num_examples', 1410), ('num_batches', 1410)]))])), ('aggregator', OrderedDict([('mean_value', ()), ('mean_count', ())])), ('finalizer', ())])\n",
      "Running round 5 of training\n",
      "OrderedDict([('distributor', ()), ('client_work', OrderedDict([('train', OrderedDict([('sparse_categorical_accuracy', 0.36616313), ('loss', 4.828217), ('num_examples', 1655), ('num_batches', 1655)]))])), ('aggregator', OrderedDict([('mean_value', ()), ('mean_count', ())])), ('finalizer', ())])\n",
      "Running round 6 of training\n",
      "OrderedDict([('distributor', ()), ('client_work', OrderedDict([('train', OrderedDict([('sparse_categorical_accuracy', 0.48562875), ('loss', 3.5143328), ('num_examples', 1670), ('num_batches', 1670)]))])), ('aggregator', OrderedDict([('mean_value', ()), ('mean_count', ())])), ('finalizer', ())])\n",
      "Running round 7 of training\n",
      "OrderedDict([('distributor', ()), ('client_work', OrderedDict([('train', OrderedDict([('sparse_categorical_accuracy', 0.35889328), ('loss', 5.239782), ('num_examples', 1265), ('num_batches', 1265)]))])), ('aggregator', OrderedDict([('mean_value', ()), ('mean_count', ())])), ('finalizer', ())])\n",
      "Running round 8 of training\n",
      "OrderedDict([('distributor', ()), ('client_work', OrderedDict([('train', OrderedDict([('sparse_categorical_accuracy', 0.3239264), ('loss', 5.958747), ('num_examples', 1630), ('num_batches', 1630)]))])), ('aggregator', OrderedDict([('mean_value', ()), ('mean_count', ())])), ('finalizer', ())])\n",
      "Running round 9 of training\n",
      "OrderedDict([('distributor', ()), ('client_work', OrderedDict([('train', OrderedDict([('sparse_categorical_accuracy', 0.39074075), ('loss', 5.0169234), ('num_examples', 1620), ('num_batches', 1620)]))])), ('aggregator', OrderedDict([('mean_value', ()), ('mean_count', ())])), ('finalizer', ())])\n",
      "Running round 10 of training\n",
      "OrderedDict([('distributor', ()), ('client_work', OrderedDict([('train', OrderedDict([('sparse_categorical_accuracy', 0.6361842), ('loss', 2.679165), ('num_examples', 1520), ('num_batches', 1520)]))])), ('aggregator', OrderedDict([('mean_value', ()), ('mean_count', ())])), ('finalizer', ())])\n"
     ]
    },
    {
     "name": "stderr",
     "output_type": "stream",
     "text": [
      "/home/teo/anaconda3/envs/PySyTFF/lib/python3.9/asyncio/tasks.py:256: RuntimeWarning: coroutine '_create_structure_of_coro_references.<locals>._get_item' was never awaited\n",
      "  result = coro.send(None)\n",
      "RuntimeWarning: Enable tracemalloc to get the object allocation traceback\n",
      "/home/teo/anaconda3/envs/PySyTFF/lib/python3.9/asyncio/tasks.py:256: RuntimeWarning: coroutine '_create_structure_of_coro_references.<locals>._to_structure' was never awaited\n",
      "  result = coro.send(None)\n",
      "RuntimeWarning: Enable tracemalloc to get the object allocation traceback\n",
      "/home/teo/anaconda3/envs/PySyTFF/lib/python3.9/asyncio/tasks.py:256: RuntimeWarning: coroutine 'NativeFederatedContext.invoke.<locals>._invoke' was never awaited\n",
      "  result = coro.send(None)\n",
      "RuntimeWarning: Enable tracemalloc to get the object allocation traceback\n"
     ]
    }
   ],
   "source": [
    "# KERAS MODEL \n",
    "import asyncio\n",
    "context = tff.backends.native.create_local_async_python_execution_context()\n",
    "context = tff.program.NativeFederatedContext(context)\n",
    "tff.framework.set_default_context(context)\n",
    "\n",
    "iterative_process = tff.learning.algorithms.build_unweighted_fed_avg(\n",
    "    model_fn,\n",
    "    client_optimizer_fn=lambda: tf.keras.optimizers.SGD(learning_rate=0.02),\n",
    "    server_optimizer_fn=lambda: tf.keras.optimizers.SGD(learning_rate=1.0))\n",
    "initialize = iterative_process.initialize\n",
    "train = iterative_process.next\n",
    "evaluation = tff.learning.build_federated_evaluation(model_fn)\n",
    "import logging\n",
    "logger = logging.getLogger()\n",
    "\n",
    "logger.setLevel(logging.INFO)\n",
    "logging.info(\"Test\")\n",
    "\n",
    "asyncio.run(\n",
    "        tff_train_federated(\n",
    "            initialize=initialize,\n",
    "            train=train,\n",
    "            train_data_source=train_data_source,\n",
    "            evaluation=evaluation,\n",
    "            evaluation_data_source=evaluation_data_source,\n",
    "            total_rounds=total_rounds,\n",
    "            number_of_clients=number_of_clients,\n",
    "            train_output_managers=train_output_managers,\n",
    "            evaluation_output_managers=evaluation_output_managers,\n",
    "            model_output_manager=model_output_manager,\n",
    "            program_state_manager=None,\n",
    "            # program_state_manager=program_state_manager,\n",
    "        )\n",
    "    )"
   ]
  },
  {
   "cell_type": "code",
   "execution_count": 14,
   "metadata": {},
   "outputs": [
    {
     "name": "stdout",
     "output_type": "stream",
     "text": [
      "Running round 1 of training\n",
      "OrderedDict([('distributor', ()), ('client_work', OrderedDict([('train', OrderedDict([('loss', 12.598344)]))])), ('aggregator', OrderedDict([('mean_value', ()), ('mean_count', ())])), ('finalizer', ())])\n",
      "Running round 2 of training\n",
      "OrderedDict([('distributor', ()), ('client_work', OrderedDict([('train', OrderedDict([('loss', 12.957993)]))])), ('aggregator', OrderedDict([('mean_value', ()), ('mean_count', ())])), ('finalizer', ())])\n",
      "Running round 3 of training\n",
      "OrderedDict([('distributor', ()), ('client_work', OrderedDict([('train', OrderedDict([('loss', 11.286803)]))])), ('aggregator', OrderedDict([('mean_value', ()), ('mean_count', ())])), ('finalizer', ())])\n",
      "Running round 4 of training\n",
      "OrderedDict([('distributor', ()), ('client_work', OrderedDict([('train', OrderedDict([('loss', 7.2167797)]))])), ('aggregator', OrderedDict([('mean_value', ()), ('mean_count', ())])), ('finalizer', ())])\n",
      "Running round 5 of training\n",
      "OrderedDict([('distributor', ()), ('client_work', OrderedDict([('train', OrderedDict([('loss', 6.3273005)]))])), ('aggregator', OrderedDict([('mean_value', ()), ('mean_count', ())])), ('finalizer', ())])\n",
      "Running round 6 of training\n",
      "OrderedDict([('distributor', ()), ('client_work', OrderedDict([('train', OrderedDict([('loss', 5.1336184)]))])), ('aggregator', OrderedDict([('mean_value', ()), ('mean_count', ())])), ('finalizer', ())])\n",
      "Running round 7 of training\n",
      "OrderedDict([('distributor', ()), ('client_work', OrderedDict([('train', OrderedDict([('loss', 3.425428)]))])), ('aggregator', OrderedDict([('mean_value', ()), ('mean_count', ())])), ('finalizer', ())])\n",
      "Running round 8 of training\n",
      "OrderedDict([('distributor', ()), ('client_work', OrderedDict([('train', OrderedDict([('loss', 3.7909143)]))])), ('aggregator', OrderedDict([('mean_value', ()), ('mean_count', ())])), ('finalizer', ())])\n",
      "Running round 9 of training\n",
      "OrderedDict([('distributor', ()), ('client_work', OrderedDict([('train', OrderedDict([('loss', 5.081132)]))])), ('aggregator', OrderedDict([('mean_value', ()), ('mean_count', ())])), ('finalizer', ())])\n",
      "Running round 10 of training\n",
      "OrderedDict([('distributor', ()), ('client_work', OrderedDict([('train', OrderedDict([('loss', 3.6933331)]))])), ('aggregator', OrderedDict([('mean_value', ()), ('mean_count', ())])), ('finalizer', ())])\n"
     ]
    }
   ],
   "source": [
    "# FUNCTIONAL KERAS MODEL \n",
    "import asyncio\n",
    "context = tff.backends.native.create_local_async_python_execution_context()\n",
    "context = tff.program.NativeFederatedContext(context)\n",
    "tff.framework.set_default_context(context)\n",
    "\n",
    "iterative_process = tff.learning.algorithms.build_unweighted_fed_avg(\n",
    "    tff_model_fn,\n",
    "    client_optimizer_fn=lambda: tf.keras.optimizers.SGD(learning_rate=0.02),\n",
    "    server_optimizer_fn=lambda: tf.keras.optimizers.SGD(learning_rate=1.0))\n",
    "initialize = iterative_process.initialize\n",
    "train = iterative_process.next\n",
    "evaluation = tff.learning.build_federated_evaluation(tff_model_fn)\n",
    "\n",
    "asyncio.run(\n",
    "        tff_train_federated(\n",
    "            initialize=initialize,\n",
    "            train=train,\n",
    "            train_data_source=train_data_source,\n",
    "            evaluation=evaluation,\n",
    "            evaluation_data_source=evaluation_data_source,\n",
    "            total_rounds=total_rounds,\n",
    "            number_of_clients=number_of_clients,\n",
    "            train_output_managers=train_output_managers,\n",
    "            evaluation_output_managers=evaluation_output_managers,\n",
    "            model_output_manager=model_output_manager,\n",
    "            program_state_manager=None,\n",
    "            # program_state_manager=program_state_manager,\n",
    "        )\n",
    "    )"
   ]
  },
  {
   "cell_type": "code",
   "execution_count": 20,
   "metadata": {},
   "outputs": [
    {
     "ename": "AttributeError",
     "evalue": "'Tensor' object has no attribute 'numpy'",
     "output_type": "error",
     "traceback": [
      "\u001b[0;31m---------------------------------------------------------------------------\u001b[0m",
      "\u001b[0;31mAttributeError\u001b[0m                            Traceback (most recent call last)",
      "\u001b[0;32m<ipython-input-20-1fc886eb11f0>\u001b[0m in \u001b[0;36m<module>\u001b[0;34m\u001b[0m\n\u001b[1;32m      8\u001b[0m \u001b[0;34m\u001b[0m\u001b[0m\n\u001b[1;32m      9\u001b[0m \u001b[0mlogger\u001b[0m\u001b[0;34m.\u001b[0m\u001b[0msetLevel\u001b[0m\u001b[0;34m(\u001b[0m\u001b[0mlogging\u001b[0m\u001b[0;34m.\u001b[0m\u001b[0mWARN\u001b[0m\u001b[0;34m)\u001b[0m\u001b[0;34m\u001b[0m\u001b[0;34m\u001b[0m\u001b[0m\n\u001b[0;32m---> 10\u001b[0;31m iterative_process = tff.learning.algorithms.build_unweighted_fed_avg(\n\u001b[0m\u001b[1;32m     11\u001b[0m     \u001b[0msaved_tff_model_fn\u001b[0m\u001b[0;34m,\u001b[0m\u001b[0;34m\u001b[0m\u001b[0;34m\u001b[0m\u001b[0m\n\u001b[1;32m     12\u001b[0m     \u001b[0mclient_optimizer_fn\u001b[0m\u001b[0;34m=\u001b[0m\u001b[0;32mlambda\u001b[0m\u001b[0;34m:\u001b[0m \u001b[0mtf\u001b[0m\u001b[0;34m.\u001b[0m\u001b[0mkeras\u001b[0m\u001b[0;34m.\u001b[0m\u001b[0moptimizers\u001b[0m\u001b[0;34m.\u001b[0m\u001b[0mSGD\u001b[0m\u001b[0;34m(\u001b[0m\u001b[0mlearning_rate\u001b[0m\u001b[0;34m=\u001b[0m\u001b[0;36m0.02\u001b[0m\u001b[0;34m)\u001b[0m\u001b[0;34m,\u001b[0m\u001b[0;34m\u001b[0m\u001b[0;34m\u001b[0m\u001b[0m\n",
      "\u001b[0;32m~/anaconda3/envs/PySyTFF/lib/python3.9/site-packages/tensorflow_federated/python/learning/algorithms/fed_avg.py\u001b[0m in \u001b[0;36mbuild_unweighted_fed_avg\u001b[0;34m(model_fn, client_optimizer_fn, server_optimizer_fn, model_distributor, model_aggregator, metrics_aggregator, use_experimental_simulation_loop)\u001b[0m\n\u001b[1;32m    323\u001b[0m                           factory.UnweightedAggregationFactory)\n\u001b[1;32m    324\u001b[0m \u001b[0;34m\u001b[0m\u001b[0m\n\u001b[0;32m--> 325\u001b[0;31m   return build_weighted_fed_avg(\n\u001b[0m\u001b[1;32m    326\u001b[0m       \u001b[0mmodel_fn\u001b[0m\u001b[0;34m=\u001b[0m\u001b[0mmodel_fn\u001b[0m\u001b[0;34m,\u001b[0m\u001b[0;34m\u001b[0m\u001b[0;34m\u001b[0m\u001b[0m\n\u001b[1;32m    327\u001b[0m       \u001b[0mclient_optimizer_fn\u001b[0m\u001b[0;34m=\u001b[0m\u001b[0mclient_optimizer_fn\u001b[0m\u001b[0;34m,\u001b[0m\u001b[0;34m\u001b[0m\u001b[0;34m\u001b[0m\u001b[0m\n",
      "\u001b[0;32m~/anaconda3/envs/PySyTFF/lib/python3.9/site-packages/tensorflow_federated/python/learning/algorithms/fed_avg.py\u001b[0m in \u001b[0;36mbuild_weighted_fed_avg\u001b[0;34m(model_fn, client_optimizer_fn, server_optimizer_fn, client_weighting, model_distributor, model_aggregator, metrics_aggregator, use_experimental_simulation_loop, model)\u001b[0m\n\u001b[1;32m    180\u001b[0m \u001b[0;34m\u001b[0m\u001b[0m\n\u001b[1;32m    181\u001b[0m     \u001b[0;34m@\u001b[0m\u001b[0mtensorflow_computation\u001b[0m\u001b[0;34m.\u001b[0m\u001b[0mtf_computation\u001b[0m\u001b[0;34m(\u001b[0m\u001b[0;34m)\u001b[0m\u001b[0;34m\u001b[0m\u001b[0;34m\u001b[0m\u001b[0m\n\u001b[0;32m--> 182\u001b[0;31m     \u001b[0;32mdef\u001b[0m \u001b[0minitial_model_weights_fn\u001b[0m\u001b[0;34m(\u001b[0m\u001b[0;34m)\u001b[0m\u001b[0;34m:\u001b[0m\u001b[0;34m\u001b[0m\u001b[0;34m\u001b[0m\u001b[0m\n\u001b[0m\u001b[1;32m    183\u001b[0m       \u001b[0;32mreturn\u001b[0m \u001b[0mmodel_utils\u001b[0m\u001b[0;34m.\u001b[0m\u001b[0mModelWeights\u001b[0m\u001b[0;34m.\u001b[0m\u001b[0mfrom_model\u001b[0m\u001b[0;34m(\u001b[0m\u001b[0mmodel_fn\u001b[0m\u001b[0;34m(\u001b[0m\u001b[0;34m)\u001b[0m\u001b[0;34m)\u001b[0m\u001b[0;34m\u001b[0m\u001b[0;34m\u001b[0m\u001b[0m\n\u001b[1;32m    184\u001b[0m \u001b[0;34m\u001b[0m\u001b[0m\n",
      "\u001b[0;32m~/anaconda3/envs/PySyTFF/lib/python3.9/site-packages/tensorflow_federated/python/core/impl/computation/computation_wrapper.py\u001b[0m in \u001b[0;36m__call__\u001b[0;34m(self, tff_internal_types, *args)\u001b[0m\n\u001b[1;32m    495\u001b[0m       \u001b[0;31m# Either we have a concrete parameter type, or this is no-arg function.\u001b[0m\u001b[0;34m\u001b[0m\u001b[0;34m\u001b[0m\u001b[0m\n\u001b[1;32m    496\u001b[0m       \u001b[0mparameter_type\u001b[0m \u001b[0;34m=\u001b[0m \u001b[0m_parameter_type\u001b[0m\u001b[0;34m(\u001b[0m\u001b[0mparameters\u001b[0m\u001b[0;34m,\u001b[0m \u001b[0mparameter_types\u001b[0m\u001b[0;34m)\u001b[0m\u001b[0;34m\u001b[0m\u001b[0;34m\u001b[0m\u001b[0m\n\u001b[0;32m--> 497\u001b[0;31m       wrapped_func = self._strategy(\n\u001b[0m\u001b[1;32m    498\u001b[0m           fn_to_wrap, fn_name, parameter_type, unpack=None)\n\u001b[1;32m    499\u001b[0m \u001b[0;34m\u001b[0m\u001b[0m\n",
      "\u001b[0;32m~/anaconda3/envs/PySyTFF/lib/python3.9/site-packages/tensorflow_federated/python/core/impl/computation/computation_wrapper.py\u001b[0m in \u001b[0;36m__call__\u001b[0;34m(self, fn_to_wrap, fn_name, parameter_type, unpack)\u001b[0m\n\u001b[1;32m    222\u001b[0m     \u001b[0;32mtry\u001b[0m\u001b[0;34m:\u001b[0m\u001b[0;34m\u001b[0m\u001b[0;34m\u001b[0m\u001b[0m\n\u001b[1;32m    223\u001b[0m       \u001b[0margs\u001b[0m\u001b[0;34m,\u001b[0m \u001b[0mkwargs\u001b[0m \u001b[0;34m=\u001b[0m \u001b[0munpack_arguments_fn\u001b[0m\u001b[0;34m(\u001b[0m\u001b[0mpacked_args\u001b[0m\u001b[0;34m)\u001b[0m\u001b[0;34m\u001b[0m\u001b[0;34m\u001b[0m\u001b[0m\n\u001b[0;32m--> 224\u001b[0;31m       \u001b[0mresult\u001b[0m \u001b[0;34m=\u001b[0m \u001b[0mfn_to_wrap\u001b[0m\u001b[0;34m(\u001b[0m\u001b[0;34m*\u001b[0m\u001b[0margs\u001b[0m\u001b[0;34m,\u001b[0m \u001b[0;34m**\u001b[0m\u001b[0mkwargs\u001b[0m\u001b[0;34m)\u001b[0m\u001b[0;34m\u001b[0m\u001b[0;34m\u001b[0m\u001b[0m\n\u001b[0m\u001b[1;32m    225\u001b[0m       \u001b[0;32mif\u001b[0m \u001b[0mresult\u001b[0m \u001b[0;32mis\u001b[0m \u001b[0;32mNone\u001b[0m\u001b[0;34m:\u001b[0m\u001b[0;34m\u001b[0m\u001b[0;34m\u001b[0m\u001b[0m\n\u001b[1;32m    226\u001b[0m         \u001b[0;32mraise\u001b[0m \u001b[0mComputationReturnedNoneError\u001b[0m\u001b[0;34m(\u001b[0m\u001b[0mfn_to_wrap\u001b[0m\u001b[0;34m)\u001b[0m\u001b[0;34m\u001b[0m\u001b[0;34m\u001b[0m\u001b[0m\n",
      "\u001b[0;32m~/anaconda3/envs/PySyTFF/lib/python3.9/site-packages/tensorflow_federated/python/learning/algorithms/fed_avg.py\u001b[0m in \u001b[0;36minitial_model_weights_fn\u001b[0;34m()\u001b[0m\n\u001b[1;32m    181\u001b[0m     \u001b[0;34m@\u001b[0m\u001b[0mtensorflow_computation\u001b[0m\u001b[0;34m.\u001b[0m\u001b[0mtf_computation\u001b[0m\u001b[0;34m(\u001b[0m\u001b[0;34m)\u001b[0m\u001b[0;34m\u001b[0m\u001b[0;34m\u001b[0m\u001b[0m\n\u001b[1;32m    182\u001b[0m     \u001b[0;32mdef\u001b[0m \u001b[0minitial_model_weights_fn\u001b[0m\u001b[0;34m(\u001b[0m\u001b[0;34m)\u001b[0m\u001b[0;34m:\u001b[0m\u001b[0;34m\u001b[0m\u001b[0;34m\u001b[0m\u001b[0m\n\u001b[0;32m--> 183\u001b[0;31m       \u001b[0;32mreturn\u001b[0m \u001b[0mmodel_utils\u001b[0m\u001b[0;34m.\u001b[0m\u001b[0mModelWeights\u001b[0m\u001b[0;34m.\u001b[0m\u001b[0mfrom_model\u001b[0m\u001b[0;34m(\u001b[0m\u001b[0mmodel_fn\u001b[0m\u001b[0;34m(\u001b[0m\u001b[0;34m)\u001b[0m\u001b[0;34m)\u001b[0m\u001b[0;34m\u001b[0m\u001b[0;34m\u001b[0m\u001b[0m\n\u001b[0m\u001b[1;32m    184\u001b[0m \u001b[0;34m\u001b[0m\u001b[0m\n\u001b[1;32m    185\u001b[0m   \u001b[0mmodel_weights_type\u001b[0m \u001b[0;34m=\u001b[0m \u001b[0minitial_model_weights_fn\u001b[0m\u001b[0;34m.\u001b[0m\u001b[0mtype_signature\u001b[0m\u001b[0;34m.\u001b[0m\u001b[0mresult\u001b[0m\u001b[0;34m\u001b[0m\u001b[0;34m\u001b[0m\u001b[0m\n",
      "\u001b[0;32m<ipython-input-8-23e31dac3866>\u001b[0m in \u001b[0;36msaved_tff_model_fn\u001b[0;34m()\u001b[0m\n\u001b[1;32m      2\u001b[0m \u001b[0;34m\u001b[0m\u001b[0m\n\u001b[1;32m      3\u001b[0m \u001b[0;32mdef\u001b[0m \u001b[0msaved_tff_model_fn\u001b[0m\u001b[0;34m(\u001b[0m\u001b[0;34m)\u001b[0m \u001b[0;34m->\u001b[0m \u001b[0mtff\u001b[0m\u001b[0;34m.\u001b[0m\u001b[0mlearning\u001b[0m\u001b[0;34m.\u001b[0m\u001b[0mModel\u001b[0m\u001b[0;34m:\u001b[0m\u001b[0;34m\u001b[0m\u001b[0;34m\u001b[0m\u001b[0m\n\u001b[0;32m----> 4\u001b[0;31m     saved_functional_model = tff.learning.models.load_functional_model(\n\u001b[0m\u001b[1;32m      5\u001b[0m                 \u001b[0;34m\"tmp_dir\"\u001b[0m\u001b[0;34m\u001b[0m\u001b[0;34m\u001b[0m\u001b[0m\n\u001b[1;32m      6\u001b[0m             )\n",
      "\u001b[0;32m~/anaconda3/envs/PySyTFF/lib/python3.9/site-packages/tensorflow_federated/python/learning/models/serialization.py\u001b[0m in \u001b[0;36mload_functional_model\u001b[0;34m(path)\u001b[0m\n\u001b[1;32m    606\u001b[0m     raise ValueError('`path` must be a non-empty string, cannot deserialize '\n\u001b[1;32m    607\u001b[0m                      'models without an output path.')\n\u001b[0;32m--> 608\u001b[0;31m   \u001b[0;32mreturn\u001b[0m \u001b[0m_LoadedFunctionalModel\u001b[0m\u001b[0;34m(\u001b[0m\u001b[0mtf\u001b[0m\u001b[0;34m.\u001b[0m\u001b[0msaved_model\u001b[0m\u001b[0;34m.\u001b[0m\u001b[0mload\u001b[0m\u001b[0;34m(\u001b[0m\u001b[0mpath\u001b[0m\u001b[0;34m)\u001b[0m\u001b[0;34m)\u001b[0m\u001b[0;34m\u001b[0m\u001b[0;34m\u001b[0m\u001b[0m\n\u001b[0m",
      "\u001b[0;32m~/anaconda3/envs/PySyTFF/lib/python3.9/site-packages/tensorflow_federated/python/learning/models/serialization.py\u001b[0m in \u001b[0;36m__init__\u001b[0;34m(self, loaded_module)\u001b[0m\n\u001b[1;32m    515\u001b[0m     self._input_spec = tf.nest.map_structure(\n\u001b[1;32m    516\u001b[0m         \u001b[0;32mlambda\u001b[0m \u001b[0mt\u001b[0m\u001b[0;34m:\u001b[0m \u001b[0mtf\u001b[0m\u001b[0;34m.\u001b[0m\u001b[0mTensorSpec\u001b[0m\u001b[0;34m(\u001b[0m\u001b[0mdtype\u001b[0m\u001b[0;34m=\u001b[0m\u001b[0mt\u001b[0m\u001b[0;34m.\u001b[0m\u001b[0mdtype\u001b[0m\u001b[0;34m,\u001b[0m \u001b[0mshape\u001b[0m\u001b[0;34m=\u001b[0m\u001b[0mt\u001b[0m\u001b[0;34m.\u001b[0m\u001b[0mshape\u001b[0m\u001b[0;34m)\u001b[0m\u001b[0;34m,\u001b[0m\u001b[0;34m\u001b[0m\u001b[0;34m\u001b[0m\u001b[0m\n\u001b[0;32m--> 517\u001b[0;31m         _deserialize_type_spec(loaded_module.serialized_input_spec))\n\u001b[0m\u001b[1;32m    518\u001b[0m \u001b[0;34m\u001b[0m\u001b[0m\n\u001b[1;32m    519\u001b[0m     weights_nested_tensor_specs = _deserialize_type_spec(\n",
      "\u001b[0;32m~/anaconda3/envs/PySyTFF/lib/python3.9/site-packages/tensorflow_federated/python/learning/models/serialization.py\u001b[0m in \u001b[0;36m_deserialize_type_spec\u001b[0;34m(serialize_type_variable, python_container)\u001b[0m\n\u001b[1;32m    177\u001b[0m   type_spec = type_serialization.deserialize_type(\n\u001b[1;32m    178\u001b[0m       computation_pb2.Type.FromString(\n\u001b[0;32m--> 179\u001b[0;31m           serialize_type_variable.read_value().numpy()))\n\u001b[0m\u001b[1;32m    180\u001b[0m   \u001b[0;32mif\u001b[0m \u001b[0mtype_spec\u001b[0m\u001b[0;34m.\u001b[0m\u001b[0mis_struct\u001b[0m\u001b[0;34m(\u001b[0m\u001b[0;34m)\u001b[0m \u001b[0;32mand\u001b[0m \u001b[0mpython_container\u001b[0m \u001b[0;32mis\u001b[0m \u001b[0;32mnot\u001b[0m \u001b[0;32mNone\u001b[0m\u001b[0;34m:\u001b[0m\u001b[0;34m\u001b[0m\u001b[0;34m\u001b[0m\u001b[0m\n\u001b[1;32m    181\u001b[0m     type_spec = computation_types.StructWithPythonType(\n",
      "\u001b[0;32m~/anaconda3/envs/PySyTFF/lib/python3.9/site-packages/tensorflow/python/framework/ops.py\u001b[0m in \u001b[0;36m__getattr__\u001b[0;34m(self, name)\u001b[0m\n\u001b[1;32m    444\u001b[0m         \u001b[0mnp_config\u001b[0m\u001b[0;34m.\u001b[0m\u001b[0menable_numpy_behavior\u001b[0m\u001b[0;34m(\u001b[0m\u001b[0;34m)\u001b[0m\u001b[0;34m\u001b[0m\u001b[0;34m\u001b[0m\u001b[0m\n\u001b[1;32m    445\u001b[0m       \"\"\")\n\u001b[0;32m--> 446\u001b[0;31m     \u001b[0mself\u001b[0m\u001b[0;34m.\u001b[0m\u001b[0m__getattribute__\u001b[0m\u001b[0;34m(\u001b[0m\u001b[0mname\u001b[0m\u001b[0;34m)\u001b[0m\u001b[0;34m\u001b[0m\u001b[0;34m\u001b[0m\u001b[0m\n\u001b[0m\u001b[1;32m    447\u001b[0m \u001b[0;34m\u001b[0m\u001b[0m\n\u001b[1;32m    448\u001b[0m   \u001b[0;34m@\u001b[0m\u001b[0mstaticmethod\u001b[0m\u001b[0;34m\u001b[0m\u001b[0;34m\u001b[0m\u001b[0m\n",
      "\u001b[0;31mAttributeError\u001b[0m: 'Tensor' object has no attribute 'numpy'"
     ]
    }
   ],
   "source": [
    "# FUNCTIONAL KERAS MODEL FROM A SAVED MODEL\n",
    "import asyncio\n",
    "context = tff.backends.native.create_local_async_python_execution_context()\n",
    "context = tff.program.NativeFederatedContext(context)\n",
    "tff.framework.set_default_context(context)\n",
    "import logging\n",
    "logger = logging.getLogger()\n",
    "\n",
    "logger.setLevel(logging.WARN)\n",
    "iterative_process = tff.learning.algorithms.build_unweighted_fed_avg(\n",
    "    saved_tff_model_fn,\n",
    "    client_optimizer_fn=lambda: tf.keras.optimizers.SGD(learning_rate=0.02),\n",
    "    server_optimizer_fn=lambda: tf.keras.optimizers.SGD(learning_rate=1.0))\n",
    "initialize = iterative_process.initialize\n",
    "train = iterative_process.next\n",
    "evaluation = tff.learning.build_federated_evaluation(saved_tff_model_fn)\n",
    "\n",
    "asyncio.run(\n",
    "        tff_train_federated(\n",
    "            initialize=initialize,\n",
    "            train=train,\n",
    "            train_data_source=train_data_source,\n",
    "            evaluation=evaluation,\n",
    "            evaluation_data_source=evaluation_data_source,\n",
    "            total_rounds=total_rounds,\n",
    "            number_of_clients=number_of_clients,\n",
    "            train_output_managers=train_output_managers,\n",
    "            evaluation_output_managers=evaluation_output_managers,\n",
    "            model_output_manager=model_output_manager,\n",
    "            program_state_manager=None,\n",
    "            # program_state_manager=program_state_manager,\n",
    "        )\n",
    "    )"
   ]
  },
  {
   "cell_type": "code",
   "execution_count": null,
   "metadata": {},
   "outputs": [],
   "source": []
  }
 ],
 "metadata": {
  "kernelspec": {
   "display_name": "Python 3.9.7 ('PySyTFF')",
   "language": "python",
   "name": "python3"
  },
  "language_info": {
   "codemirror_mode": {
    "name": "ipython",
    "version": 3
   },
   "file_extension": ".py",
   "mimetype": "text/x-python",
   "name": "python",
   "nbconvert_exporter": "python",
   "pygments_lexer": "ipython3",
   "version": "3.9.7"
  },
  "orig_nbformat": 4,
  "vscode": {
   "interpreter": {
    "hash": "67856bda971e2a654274dbee4a8f60d8877ae51b472a8acc4dc577a3ea0a55e3"
   }
  }
 },
 "nbformat": 4,
 "nbformat_minor": 2
}

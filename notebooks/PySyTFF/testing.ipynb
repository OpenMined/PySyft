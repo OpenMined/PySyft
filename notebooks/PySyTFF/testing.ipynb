{
 "cells": [
  {
   "cell_type": "code",
   "execution_count": 1,
   "id": "8a1e205d-d0a3-44bd-b871-8f9fb9c04fa8",
   "metadata": {},
   "outputs": [
    {
     "name": "stderr",
     "output_type": "stream",
     "text": [
      "/home/teo/anaconda3/envs/PySyTFF/lib/python3.9/site-packages/tqdm/auto.py:22: TqdmWarning: IProgress not found. Please update jupyter and ipywidgets. See https://ipywidgets.readthedocs.io/en/stable/user_install.html\n",
      "  from .autonotebook import tqdm as notebook_tqdm\n"
     ]
    }
   ],
   "source": [
    "import syft as sy\n",
    "from syft.core.node.common.node_service.tff.tff_messages import TFFMessageWithReply\n",
    "from syft.core.node.common.node_service.ping.ping_messages import PingMessageWithReply\n",
    "from syft.grid import GridURL\n",
    "from syft.core.node.common.node_service.simple.simple_messages import NodeRunnableMessageWithReply\n",
    "from syft.core.node.common.node_service.get_repr.get_repr_messages import GetReprMessage\n",
    "\n",
    "import os, sys"
   ]
  },
  {
   "cell_type": "code",
   "execution_count": 2,
   "id": "cd7f8cc2-7788-444d-aa7b-bac0184f7352",
   "metadata": {},
   "outputs": [
    {
     "name": "stdout",
     "output_type": "stream",
     "text": [
      "WARNING: CHANGE YOUR USERNAME AND PASSWORD!!! \n",
      "\n",
      "Anyone can login as an admin to your node right now because your password is still the default PySyft username and password!!!\n",
      "\n",
      "Connecting to localhost... done! \t Logging into node... done!\n"
     ]
    }
   ],
   "source": [
    "domain = sy.login(email=\"info@openmined.org\", password=\"changethis\", port=8081)"
   ]
  },
  {
   "cell_type": "code",
   "execution_count": 8,
   "id": "a0d4c03d",
   "metadata": {},
   "outputs": [],
   "source": [
    "import torch as th\n",
    "x = th.Tensor([1, 2, 3])\n",
    "y = th.Tensor([1, 2, 3])\n",
    "x_out = x.send(domain)\n",
    "# print(x_out)\n",
    "y_out = y.send(domain)\n"
   ]
  },
  {
   "cell_type": "code",
   "execution_count": 4,
   "id": "06b45345",
   "metadata": {},
   "outputs": [],
   "source": [
    "# download MedNIST.pkl\n",
    "if not os.path.exists(\"./MedNIST.pkl\"):\n",
    "    os.system('curl -O \"https://media.githubusercontent.com/media/shubham3121/datasets/main/MedNIST/MedNIST.pkl\"')\n",
    "else:\n",
    "    print(\"MedNIST already downloaded\")\n"
   ]
  },
  {
   "cell_type": "code",
   "execution_count": 12,
   "id": "9cea3528",
   "metadata": {},
   "outputs": [
    {
     "name": "stdout",
     "output_type": "stream",
     "text": [
      "Columns: Index(['patient_id', 'image', 'label'], dtype='object')\n",
      "Total Images: 58954\n",
      "Label Mapping {'AbdomenCT': 0, 'BreastMRI': 1, 'CXR': 2, 'ChestCT': 3, 'Hand': 4, 'HeadCT': 5}\n"
     ]
    }
   ],
   "source": [
    "# Helper Methods\n",
    "\n",
    "import os\n",
    "import json\n",
    "import pandas as pd\n",
    "from PIL import Image\n",
    "from enum import Enum\n",
    "from collections import defaultdict\n",
    "import numpy as np\n",
    "from syft.core.adp.data_subject_list import DataSubjectList\n",
    "\n",
    "\n",
    "def get_label_mapping():\n",
    "    # the data uses the following mapping\n",
    "    mapping = {\n",
    "        \"AbdomenCT\": 0, \n",
    "        \"BreastMRI\": 1, \n",
    "        \"CXR\": 2, \n",
    "        \"ChestCT\": 3, \n",
    "        \"Hand\": 4, \n",
    "        \"HeadCT\": 5\n",
    "    }\n",
    "    return mapping\n",
    "\n",
    "df = pd.read_pickle(\"./MedNIST.pkl\")\n",
    "mapping = get_label_mapping()\n",
    "\n",
    "total_num = df.shape[0]\n",
    "print(\"Columns:\", df.columns)\n",
    "print(\"Total Images:\", total_num)\n",
    "print(\"Label Mapping\", mapping)"
   ]
  },
  {
   "cell_type": "code",
   "execution_count": 13,
   "id": "47f17c91",
   "metadata": {},
   "outputs": [],
   "source": [
    "data_subjects = DataSubjectList.from_series(df['patient_id'])\n",
    "\n",
    "images = df['image']\n",
    "images = np.dstack(images.values).astype(np.int64)\n",
    "images = np.rollaxis(images,-1)"
   ]
  },
  {
   "cell_type": "code",
   "execution_count": null,
   "id": "e4c32d9b",
   "metadata": {},
   "outputs": [],
   "source": [
    "labels = df['label'].to_numpy().astype(\"int64\")\n"
   ]
  },
  {
   "cell_type": "code",
   "execution_count": 10,
   "id": "b93d3401-85e2-4937-b99a-011c562323e0",
   "metadata": {},
   "outputs": [
    {
     "name": "stdout",
     "output_type": "stream",
     "text": [
      "['__annotations__', '__class__', '__class_getitem__', '__delattr__', '__dict__', '__dir__', '__doc__', '__eq__', '__final__', '__format__', '__ge__', '__getattribute__', '__gt__', '__hash__', '__init__', '__init_subclass__', '__le__', '__lt__', '__module__', '__ne__', '__new__', '__orig_bases__', '__parameters__', '__reduce__', '__reduce_ex__', '__repr__', '__setattr__', '__sizeof__', '__slots__', '__str__', '__subclasshook__', '__weakref__', '_id', '_is_protocol', '_object2proto', '_proto2object', 'address', 'class_name', 'get_protobuf_schema', 'icon', 'id', 'post_init', 'pprint', 'repr_short', 'results', 'sign', 'signed_type']\n",
      "<class 'syft.core.node.common.node_service.object_search.obj_search_service.ObjectSearchReplyMessage'>\n",
      "[<TensorPointer -> node:e6fd757e8dde409bb48599ec0e558f2d>, <TensorPointer -> node:17ae76f8f1574b998ae57e8b40369d46>, <TensorPointer -> node:cf62b3abb17841b280ae824b8de864ad>, <TensorPointer -> node:23257dbe12e449cd8917a45595d287d9>, <TensorPointer -> node:f4bbdd0607d844f7ae748a4d5a1a439e>, <TensorPointer -> node:aea54e1c8a4449c69d902dbca860b258>, <TensorPointer -> node:b263dd45028746b8bc96bc582d41f6ae>, <TensorPointer -> node:928a70087d2f426eb14cf4c0b03f9858>, <TensorPointer -> node:6d021144357042f99db73183d15ef8b2>, <TensorPointer -> node:dc62582c7cb5446996997622b63d1f1a>, <TensorPointer -> node:f218745e13374ffaba05dccededfe307>, <TensorPointer -> node:1cc01a8c7d93463d8aad1edf94c9e770>, <TensorPointer -> node:a36c9e5c29f94cdb8e850cb8a421ef64>, <TensorPointer -> node:086d895cd0064d7abda3680557c828c9>, <TensorPointer -> node:0a32d2ac659045d499555f0a3ef574d8>, <TensorPointer -> node:6679307425c3401aa2e17bea9abd7502>]\n",
      "['__annotations__', '__class__', '__class_getitem__', '__delattr__', '__dict__', '__dir__', '__doc__', '__eq__', '__format__', '__ge__', '__getattribute__', '__gt__', '__hash__', '__init__', '__init_subclass__', '__le__', '__lt__', '__module__', '__ne__', '__new__', '__orig_bases__', '__parameters__', '__reduce__', '__reduce_ex__', '__repr__', '__setattr__', '__sizeof__', '__slots__', '__str__', '__subclasshook__', '__weakref__', '_id', '_is_protocol', '_object2proto', '_proto2object', 'address', 'class_name', 'get_protobuf_schema', 'icon', 'id', 'payload', 'post_init', 'pprint', 'repr_short', 'sign', 'signed_type']\n",
      "<class 'syft.core.node.common.node_service.tff.tff_messages.TFFReplyMessage'>\n"
     ]
    }
   ],
   "source": [
    "msg = TFFMessageWithReply(\"Hello\")\n",
    "# print(y_out)\n",
    "print(domain.store)\n",
    "reply_msg = domain.send_immediate_msg_with_reply(msg)\n"
   ]
  }
 ],
 "metadata": {
  "interpreter": {
   "hash": "67856bda971e2a654274dbee4a8f60d8877ae51b472a8acc4dc577a3ea0a55e3"
  },
  "kernelspec": {
   "display_name": "PySyTFF",
   "language": "python",
   "name": "python3"
  },
  "language_info": {
   "codemirror_mode": {
    "name": "ipython",
    "version": 3
   },
   "file_extension": ".py",
   "mimetype": "text/x-python",
   "name": "python",
   "nbconvert_exporter": "python",
   "pygments_lexer": "ipython3",
   "version": "3.9.7"
  }
 },
 "nbformat": 4,
 "nbformat_minor": 5
}

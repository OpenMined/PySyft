{
 "cells": [
  {
   "cell_type": "code",
   "execution_count": 2,
   "id": "8a1e205d-d0a3-44bd-b871-8f9fb9c04fa8",
   "metadata": {},
   "outputs": [
    {
     "name": "stderr",
     "output_type": "stream",
     "text": [
      "/home/teo/anaconda3/envs/PySyTFF/lib/python3.9/site-packages/tqdm/auto.py:22: TqdmWarning: IProgress not found. Please update jupyter and ipywidgets. See https://ipywidgets.readthedocs.io/en/stable/user_install.html\n",
      "  from .autonotebook import tqdm as notebook_tqdm\n"
     ]
    }
   ],
   "source": [
    "import syft as sy\n",
    "from syft.core.node.common.node_service.tff.tff_messages import TFFMessageWithReply\n",
    "from syft.core.node.common.node_service.ping.ping_messages import PingMessageWithReply\n",
    "from syft.grid import GridURL\n",
    "from syft.core.node.common.node_service.simple.simple_messages import NodeRunnableMessageWithReply\n",
    "from syft.core.node.common.node_service.get_repr.get_repr_messages import GetReprMessage\n",
    "\n",
    "import os, sys"
   ]
  },
  {
   "cell_type": "code",
   "execution_count": 2,
   "id": "cd7f8cc2-7788-444d-aa7b-bac0184f7352",
   "metadata": {},
   "outputs": [
    {
     "name": "stdout",
     "output_type": "stream",
     "text": [
      "WARNING: CHANGE YOUR USERNAME AND PASSWORD!!! \n",
      "\n",
      "Anyone can login as an admin to your node right now because your password is still the default PySyft username and password!!!\n",
      "\n",
      "Connecting to localhost... done! \t Logging into node... done!\n"
     ]
    }
   ],
   "source": [
    "domain = sy.login(email=\"info@openmined.org\", password=\"changethis\", port=8081)"
   ]
  },
  {
   "cell_type": "code",
   "execution_count": 3,
   "id": "b93d3401-85e2-4937-b99a-011c562323e0",
   "metadata": {},
   "outputs": [
    {
     "name": "stdout",
     "output_type": "stream",
     "text": [
      "['__annotations__', '__class__', '__class_getitem__', '__delattr__', '__dict__', '__dir__', '__doc__', '__eq__', '__final__', '__format__', '__ge__', '__getattribute__', '__gt__', '__hash__', '__init__', '__init_subclass__', '__le__', '__lt__', '__module__', '__ne__', '__new__', '__orig_bases__', '__parameters__', '__reduce__', '__reduce_ex__', '__repr__', '__setattr__', '__sizeof__', '__slots__', '__str__', '__subclasshook__', '__weakref__', '_id', '_is_protocol', '_object2proto', '_proto2object', 'address', 'class_name', 'get_protobuf_schema', 'icon', 'id', 'post_init', 'pprint', 'repr_short', 'results', 'sign', 'signed_type']\n",
      "<class 'syft.core.node.common.node_service.object_search.obj_search_service.ObjectSearchReplyMessage'>\n",
      "[array([0, 2, 4, ..., 1, 1, 1], dtype=int32)\n",
      "\n",
      " (The data printed above is synthetic - it's an imitation of the real data.), array([[[171, 137,  47, ...,  93,  64, 150],\n",
      "        [126,  82, 174, ...,  38,  26, 122],\n",
      "        [161,  10,  83, ..., 254,  46, 167],\n",
      "        ...,\n",
      "        [126, 214, 129, ...,  27, 108,  15],\n",
      "        [161, 110,  14, ..., 177,  70, 140],\n",
      "        [ 86, 218, 249, ..., 185,  78, 204]],\n",
      "\n",
      "       [[ 89,   3,  49, ...,  94, 223,  39],\n",
      "        [235, 196, 165, ..., 127,  42, 236],\n",
      "        [112,  61, 199, ..., 217, 200,  53],\n",
      "        ...,\n",
      "        [104, 111, 199, ..., 226, 134, 190],\n",
      "        [ 10, 180,  57, ...,   9,  64, 133],\n",
      "        [218, 208,  70, ...,  17,  46, 143]],\n",
      "\n",
      "       [[148, 154, 213, ..., 184, 125, 187],\n",
      "        [ 79,   9, 198, ...,  23,  38, 163],\n",
      "        [ 70, 179, 118, ...,  45,  68,  77],\n",
      "        ...,\n",
      "        [ 74,  98,  48, ..., 247, 112, 232],\n",
      "        [ 57,  98, 168, ..., 150, 160, 252],\n",
      "        [ 24,  98,  29, ..., 140, 241, 125]],\n",
      "\n",
      "       ...,\n",
      "\n",
      "       [[159, 180,  20, ...,  85, 169,  65],\n",
      "        [ 95, 103, 218, ..., 240, 146,  63],\n",
      "        [ 35,  69, 207, ...,   6, 128, 230],\n",
      "        ...,\n",
      "        [ 54,  22, 135, ..., 101,  87, 109],\n",
      "        [225, 120,  64, ..., 156, 219, 138],\n",
      "        [ 27,  55,  65, ...,  50, 210, 142]],\n",
      "\n",
      "       [[201, 254, 185, ...,  52, 231,  35],\n",
      "        [175, 140, 167, ...,  34, 225, 208],\n",
      "        [128, 177,  34, ..., 175,  24, 223],\n",
      "        ...,\n",
      "        [241,  54,  78, ...,  65, 148,  12],\n",
      "        [126,  92, 106, ..., 134,  83, 247],\n",
      "        [229,  47, 183, ..., 225, 224,  79]],\n",
      "\n",
      "       [[100, 168, 207, ..., 156,  70, 185],\n",
      "        [234,  56,  87, ..., 102,  30,   9],\n",
      "        [ 27, 163, 248, ..., 224,  41,  35],\n",
      "        ...,\n",
      "        [103, 233, 139, ...,  38,  48,   0],\n",
      "        [140, 141, 137, ...,  31,  58, 148],\n",
      "        [100, 251,  34, ...,  79,  47,  43]]], dtype=int32)\n",
      "\n",
      " (The data printed above is synthetic - it's an imitation of the real data.)]\n",
      "['__annotations__', '__class__', '__class_getitem__', '__delattr__', '__dict__', '__dir__', '__doc__', '__eq__', '__format__', '__ge__', '__getattribute__', '__gt__', '__hash__', '__init__', '__init_subclass__', '__le__', '__lt__', '__module__', '__ne__', '__new__', '__orig_bases__', '__parameters__', '__reduce__', '__reduce_ex__', '__repr__', '__setattr__', '__sizeof__', '__slots__', '__str__', '__subclasshook__', '__weakref__', '_id', '_is_protocol', '_object2proto', '_proto2object', 'address', 'class_name', 'get_protobuf_schema', 'icon', 'id', 'payload', 'post_init', 'pprint', 'repr_short', 'sign', 'signed_type']\n",
      "<class 'syft.core.node.common.node_service.tff.tff_messages.TFFReplyMessage'>\n"
     ]
    }
   ],
   "source": [
    "msg = TFFMessageWithReply(id_dataset=\"id_dataset\", params={}, model_bytes=bytes(\"\", 'utf-8'))\n",
    "# print(y_out)\n",
    "print(domain.store)\n",
    "reply_msg = domain.send_immediate_msg_with_reply(msg)\n"
   ]
  },
  {
   "cell_type": "code",
   "execution_count": null,
   "id": "a0d4c03d",
   "metadata": {},
   "outputs": [],
   "source": [
    "import torch as th\n",
    "x = th.Tensor([1, 2, 3])\n",
    "y = th.Tensor([1, 2, 3])\n",
    "x_out = x.send(domain)\n",
    "# print(x_out)\n",
    "y_out = y.send(domain)\n"
   ]
  },
  {
   "cell_type": "code",
   "execution_count": null,
   "id": "06b45345",
   "metadata": {},
   "outputs": [],
   "source": [
    "# download MedNIST.pkl\n",
    "if not os.path.exists(\"./MedNIST.pkl\"):\n",
    "    os.system('curl -O \"https://media.githubusercontent.com/media/shubham3121/datasets/main/MedNIST/MedNIST.pkl\"')\n",
    "else:\n",
    "    print(\"MedNIST already downloaded\")\n"
   ]
  },
  {
   "cell_type": "code",
   "execution_count": null,
   "id": "9cea3528",
   "metadata": {},
   "outputs": [
    {
     "name": "stdout",
     "output_type": "stream",
     "text": [
      "Columns: Index(['patient_id', 'image', 'label'], dtype='object')\n",
      "Total Images: 58954\n",
      "Label Mapping {'AbdomenCT': 0, 'BreastMRI': 1, 'CXR': 2, 'ChestCT': 3, 'Hand': 4, 'HeadCT': 5}\n"
     ]
    }
   ],
   "source": [
    "# Helper Methods\n",
    "\n",
    "import os\n",
    "import json\n",
    "import pandas as pd\n",
    "from PIL import Image\n",
    "from enum import Enum\n",
    "from collections import defaultdict\n",
    "import numpy as np\n",
    "from syft.core.adp.data_subject_list import DataSubjectList\n",
    "\n",
    "\n",
    "def get_label_mapping():\n",
    "    # the data uses the following mapping\n",
    "    mapping = {\n",
    "        \"AbdomenCT\": 0, \n",
    "        \"BreastMRI\": 1, \n",
    "        \"CXR\": 2, \n",
    "        \"ChestCT\": 3, \n",
    "        \"Hand\": 4, \n",
    "        \"HeadCT\": 5\n",
    "    }\n",
    "    return mapping\n",
    "\n",
    "df = pd.read_pickle(\"./MedNIST.pkl\")\n",
    "mapping = get_label_mapping()\n",
    "\n",
    "total_num = df.shape[0]\n",
    "print(\"Columns:\", df.columns)\n",
    "print(\"Total Images:\", total_num)\n",
    "print(\"Label Mapping\", mapping)"
   ]
  },
  {
   "cell_type": "code",
   "execution_count": null,
   "id": "47f17c91",
   "metadata": {},
   "outputs": [],
   "source": [
    "data_subjects = DataSubjectList.from_series(df['patient_id'])\n",
    "\n",
    "images = df['image']\n",
    "images = np.dstack(images.values).astype(np.int64)\n",
    "images = np.rollaxis(images,-1)"
   ]
  },
  {
   "cell_type": "code",
   "execution_count": null,
   "id": "e4c32d9b",
   "metadata": {},
   "outputs": [],
   "source": [
    "labels = df['label'].to_numpy().astype(\"int64\")\n"
   ]
  },
  {
   "cell_type": "code",
   "execution_count": 3,
   "id": "5a1712d6",
   "metadata": {},
   "outputs": [
    {
     "name": "stdout",
     "output_type": "stream",
     "text": [
      "['__annotations__', '__class__', '__class_getitem__', '__delattr__', '__dict__', '__dir__', '__doc__', '__eq__', '__final__', '__format__', '__ge__', '__getattribute__', '__gt__', '__hash__', '__init__', '__init_subclass__', '__le__', '__lt__', '__module__', '__ne__', '__new__', '__orig_bases__', '__parameters__', '__reduce__', '__reduce_ex__', '__repr__', '__setattr__', '__sizeof__', '__slots__', '__str__', '__subclasshook__', '__weakref__', '_id', '_is_protocol', '_object2proto', '_proto2object', 'address', 'class_name', 'get_protobuf_schema', 'icon', 'id', 'metadatas', 'post_init', 'pprint', 'repr_short', 'sign', 'signed_type']\n",
      "<class 'syft.core.node.common.node_service.dataset_manager.dataset_manager_messages.GetDatasetsResponse'>\n",
      "['__annotations__', '__class__', '__class_getitem__', '__delattr__', '__dict__', '__dir__', '__doc__', '__eq__', '__final__', '__format__', '__ge__', '__getattribute__', '__gt__', '__hash__', '__init__', '__init_subclass__', '__le__', '__lt__', '__module__', '__ne__', '__new__', '__orig_bases__', '__parameters__', '__reduce__', '__reduce_ex__', '__repr__', '__setattr__', '__sizeof__', '__slots__', '__str__', '__subclasshook__', '__weakref__', '_id', '_is_protocol', '_object2proto', '_proto2object', 'address', 'class_name', 'get_protobuf_schema', 'icon', 'id', 'metadatas', 'post_init', 'pprint', 'repr_short', 'sign', 'signed_type']\n",
      "<class 'syft.core.node.common.node_service.dataset_manager.dataset_manager_messages.GetDatasetsResponse'>\n"
     ]
    },
    {
     "data": {
      "text/html": [
       "<style>\n",
       "                #myInput {\n",
       "                  background-position: 10px 12px; /* Position the search icon */\n",
       "                  background-repeat: no-repeat; /* Do not repeat the icon image */\n",
       "                  background-color: #bbb;\n",
       "                  width: 98%; /* Full-width */\n",
       "                  font-size: 14px; /* Increase font-size */\n",
       "                  padding: 12px 20px 12px 40px; /* Add some padding */\n",
       "                  border: 1px solid #ddd; /* Add a grey border */\n",
       "                  margin-bottom: 12px; /* Add some space below the input */\n",
       "                }\n",
       "\n",
       "                #myTable {\n",
       "                  border-collapse: collapse; /* Collapse borders */\n",
       "                  width: 100%; /* Full-width */\n",
       "                  border: 1px solid #ddd; /* Add a grey border */\n",
       "                  font-size: 14px; /* Increase font-size */\n",
       "                }\n",
       "\n",
       "                #myTable th, #myTable td {\n",
       "                  text-align: left; /* Left-align text */\n",
       "                  padding: 10px; /* Add padding */\n",
       "                }\n",
       "\n",
       "                #myTable tr {\n",
       "                  /* Add a bottom border to all table rows */\n",
       "                  border-bottom: 1px solid #ddd;\n",
       "                }\n",
       "\n",
       "                #myTable tr.header, #myTable tr:hover {\n",
       "                  /* Add a grey background color to the table header and on hover */\n",
       "                  background-color: #777;\n",
       "                }\n",
       "                </style>\n",
       "\n",
       "                <table id=\"myTable\" style=\"width:1000px\">\n",
       "                  <tr class=\"header\">\n",
       "                    <th style=\"width:30px\">Idx</th>\n",
       "                    <th style=\"width:20%;\">Name</th>\n",
       "                    <th style=\"width:35%;\">Description</th>\n",
       "                    <th style=\"width:20%;\">Assets</th>\n",
       "                    <th style=\"width:300px;\">Id</th>\n",
       "                  </tr>\n",
       "                \n",
       "\n",
       "          <tr>\n",
       "            <td>[0]</td>\n",
       "            <td>MedNIST Data</td>\n",
       "            <td>The MedNIST dataset was gathered from several sets from TCIA, the RSNA Bone Age Challenge, and the NIH Chest X-ray dataset. The dataset is kindly made available by Dr. Bradley J. Erickson M.D., Ph.D. (Department of Radiology, Mayo Clinic) under the Creative Commons CC BY-SA 4.0 license.\n",
       "Label Count: 6\n",
       "Label Mapping: {\"AbdomenCT\": 0, \"BreastMRI\": 1, \"CXR\": 2, \"ChestCT\": 3, \"Hand\": 4, \"HeadCT\": 5}\n",
       "Image Dimensions: (64, 64)\n",
       "Total Images: 58954\n",
       "</td>\n",
       "            <td>[\"images\"] -> <class 'syft.core.tensor.tensor.Tensor'><br /><br />[\"labels\"] -> <class 'syft.core.tensor.tensor.Tensor'><br /><br /></td>\n",
       "            <td>03824e77-3d62-426a-bdea-e836ba210c2b</td>\n",
       "          </tr>\n",
       "        </table>\n",
       "\n",
       "        <script>\n",
       "        function myFunction() {\n",
       "          // Declare variables\n",
       "          var input, filter, table, tr, td, i, txtValue;\n",
       "          input = document.getElementById(\"myInput\");\n",
       "          filter = input.value.toUpperCase();\n",
       "          table = document.getElementById(\"myTable\");\n",
       "          tr = table.getElementsByTagName(\"tr\");\n",
       "\n",
       "          // Loop through all table rows, and hide those who don't match the search query\n",
       "          for (i = 0; i < tr.length; i++) {\n",
       "            name_td = tr[i].getElementsByTagName(\"td\")[1];\n",
       "            desc_td = tr[i].getElementsByTagName(\"td\")[2];\n",
       "            asset_td = tr[i].getElementsByTagName(\"td\")[3];\n",
       "            id_td = tr[i].getElementsByTagName(\"td\")[4];\n",
       "            if (name_td || desc_td || asset_td || id_td) {\n",
       "              name_txtValue = name_td.textContent || name_td.innerText;\n",
       "              desc_txtValue = desc_td.textContent || name_td.innerText;\n",
       "              asset_txtValue = asset_td.textContent || name_td.innerText;\n",
       "              id_txtValue = id_td.textContent || name_td.innerText;\n",
       "              name_bool = name_txtValue.toUpperCase().indexOf(filter) > -1;\n",
       "              desc_bool = desc_txtValue.toUpperCase().indexOf(filter) > -1;\n",
       "              asset_bool = asset_txtValue.toUpperCase().indexOf(filter) > -1;\n",
       "              id_bool = id_txtValue.toUpperCase().indexOf(filter) > -1;\n",
       "              if (name_bool || desc_bool || asset_bool || id_bool) {\n",
       "                tr[i].style.display = \"\";\n",
       "              } else {\n",
       "                tr[i].style.display = \"none\";\n",
       "              }\n",
       "            }\n",
       "          }\n",
       "        }\n",
       "        </script>"
      ],
      "text/plain": [
       "<syft.core.node.common.client_manager.dataset_api.DatasetRequestAPI at 0x7fe68e768ee0>"
      ]
     },
     "execution_count": 3,
     "metadata": {},
     "output_type": "execute_result"
    }
   ],
   "source": [
    "domain.datasets"
   ]
  },
  {
   "cell_type": "code",
   "execution_count": 4,
   "id": "77795b81",
   "metadata": {},
   "outputs": [
    {
     "name": "stdout",
     "output_type": "stream",
     "text": [
      "WARNING: CHANGE YOUR USERNAME AND PASSWORD!!! \n",
      "\n",
      "Anyone can login as an admin to your node right now because your password is still the default PySyft username and password!!!\n",
      "\n",
      "Connecting to 20.237.150.216... done! \t Logging into gifted_song... done!\n",
      "\n",
      "**Warning**: The syft version on your system and the node are different.\n",
      "Version on your system: 0.7.0-beta.19\n",
      "Version on the node: 0.7.0-beta.23\n",
      "\n"
     ]
    }
   ],
   "source": [
    "domain_cleint = sy.login(url='20.237.150.216',email=\"info@openmined.org\",password=\"changethis\")"
   ]
  },
  {
   "cell_type": "code",
   "execution_count": 17,
   "id": "aba6e3e6",
   "metadata": {},
   "outputs": [
    {
     "name": "stdout",
     "output_type": "stream",
     "text": [
      "['__annotations__', '__class__', '__class_getitem__', '__delattr__', '__dict__', '__dir__', '__doc__', '__eq__', '__final__', '__format__', '__ge__', '__getattribute__', '__gt__', '__hash__', '__init__', '__init_subclass__', '__le__', '__lt__', '__module__', '__ne__', '__new__', '__orig_bases__', '__parameters__', '__reduce__', '__reduce_ex__', '__repr__', '__setattr__', '__sizeof__', '__slots__', '__str__', '__subclasshook__', '__weakref__', '_id', '_is_protocol', '_object2proto', '_proto2object', 'address', 'class_name', 'content', 'get_protobuf_schema', 'icon', 'id', 'post_init', 'pprint', 'repr_short', 'sign', 'signed_type']\n",
      "<class 'syft.core.node.common.node_service.user_manager.user_messages.GetUsersResponse'>\n",
      "{'id': 2, 'email': 'sam@stargate.net', 'name': 'Sam Carter', 'budget': 9999.0, 'verify_key': '1782d56590436d38a648becb0d2ad7872c1cfd353e8f21335b693f8273bc7caa', 'role': 'Data Scientist', 'added_by': 'Jane Doe', 'website': '', 'institution': '', 'daa_pdf': 1, 'created_at': '2022-05-27 15:11:35.776918', 'budget_spent': 9999.0}\n"
     ]
    }
   ],
   "source": [
    "ips = ['20.237.150.216']\n",
    "details = []\n",
    "\n",
    "for ip in ips:\n",
    "    domain_client = sy.login(url='20.237.150.216',email=\"info@openmined.org\",password=\"changethis\")"
   ]
  }
 ],
 "metadata": {
  "interpreter": {
   "hash": "67856bda971e2a654274dbee4a8f60d8877ae51b472a8acc4dc577a3ea0a55e3"
  },
  "kernelspec": {
   "display_name": "PySyTFF",
   "language": "python",
   "name": "python3"
  },
  "language_info": {
   "codemirror_mode": {
    "name": "ipython",
    "version": 3
   },
   "file_extension": ".py",
   "mimetype": "text/x-python",
   "name": "python",
   "nbconvert_exporter": "python",
   "pygments_lexer": "ipython3",
   "version": "3.9.7"
  }
 },
 "nbformat": 4,
 "nbformat_minor": 5
}

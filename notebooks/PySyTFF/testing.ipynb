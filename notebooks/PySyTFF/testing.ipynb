{
 "cells": [
  {
   "cell_type": "code",
   "execution_count": 1,
   "id": "8a1e205d-d0a3-44bd-b871-8f9fb9c04fa8",
   "metadata": {},
   "outputs": [
    {
     "name": "stderr",
     "output_type": "stream",
     "text": [
      "/home/teo/anaconda3/envs/PySyTFF/lib/python3.9/site-packages/tqdm/auto.py:22: TqdmWarning: IProgress not found. Please update jupyter and ipywidgets. See https://ipywidgets.readthedocs.io/en/stable/user_install.html\n",
      "  from .autonotebook import tqdm as notebook_tqdm\n"
     ]
    }
   ],
   "source": [
    "import syft as sy\n",
    "from syft.core.node.common.node_service.tff.tff_messages import TFFMessageWithReply\n",
    "from syft.core.node.common.node_service.ping.ping_messages import PingMessageWithReply\n",
    "from syft.grid import GridURL\n",
    "from syft.core.node.common.node_service.simple.simple_messages import NodeRunnableMessageWithReply\n",
    "from syft.core.node.common.node_service.get_repr.get_repr_messages import GetReprMessage\n",
    "\n",
    "import os, sys\n",
    "\n",
    "import collections\n",
    "\n",
    "import numpy as np\n",
    "import tensorflow as tf\n",
    "import tensorflow_federated as tff\n",
    "\n",
    "# np.random.seed(0)"
   ]
  },
  {
   "cell_type": "code",
   "execution_count": 2,
   "id": "cd7f8cc2-7788-444d-aa7b-bac0184f7352",
   "metadata": {},
   "outputs": [
    {
     "name": "stdout",
     "output_type": "stream",
     "text": [
      "WARNING: CHANGE YOUR USERNAME AND PASSWORD!!! \n",
      "\n",
      "Anyone can login as an admin to your node right now because your password is still the default PySyft username and password!!!\n",
      "\n",
      "Connecting to localhost... done! \t Logging into node... done!\n"
     ]
    }
   ],
   "source": [
    "domain = sy.login(email=\"info@openmined.org\", password=\"changethis\", port=8081)"
   ]
  },
  {
   "cell_type": "code",
   "execution_count": 52,
   "id": "0cb8a73c",
   "metadata": {},
   "outputs": [
    {
     "name": "stdout",
     "output_type": "stream",
     "text": [
      "['__annotations__', '__class__', '__class_getitem__', '__delattr__', '__dict__', '__dir__', '__doc__', '__eq__', '__final__', '__format__', '__ge__', '__getattribute__', '__gt__', '__hash__', '__init__', '__init_subclass__', '__le__', '__lt__', '__module__', '__ne__', '__new__', '__orig_bases__', '__parameters__', '__reduce__', '__reduce_ex__', '__repr__', '__setattr__', '__sizeof__', '__slots__', '__str__', '__subclasshook__', '__weakref__', '_id', '_is_protocol', '_object2proto', '_proto2object', 'address', 'class_name', 'get_protobuf_schema', 'icon', 'id', 'metadatas', 'post_init', 'pprint', 'repr_short', 'sign', 'signed_type']\n",
      "<class 'syft.core.node.common.node_service.dataset_manager.dataset_manager_messages.GetDatasetsResponse'>\n",
      "['__annotations__', '__class__', '__class_getitem__', '__delattr__', '__dict__', '__dir__', '__doc__', '__eq__', '__final__', '__format__', '__ge__', '__getattribute__', '__gt__', '__hash__', '__init__', '__init_subclass__', '__le__', '__lt__', '__module__', '__ne__', '__new__', '__orig_bases__', '__parameters__', '__reduce__', '__reduce_ex__', '__repr__', '__setattr__', '__sizeof__', '__slots__', '__str__', '__subclasshook__', '__weakref__', '_id', '_is_protocol', '_object2proto', '_proto2object', 'address', 'class_name', 'get_protobuf_schema', 'icon', 'id', 'metadatas', 'post_init', 'pprint', 'repr_short', 'sign', 'signed_type']\n",
      "<class 'syft.core.node.common.node_service.dataset_manager.dataset_manager_messages.GetDatasetsResponse'>\n"
     ]
    },
    {
     "data": {
      "text/html": [
       "<style>\n",
       "                #myInput {\n",
       "                  background-position: 10px 12px; /* Position the search icon */\n",
       "                  background-repeat: no-repeat; /* Do not repeat the icon image */\n",
       "                  background-color: #bbb;\n",
       "                  width: 98%; /* Full-width */\n",
       "                  font-size: 14px; /* Increase font-size */\n",
       "                  padding: 12px 20px 12px 40px; /* Add some padding */\n",
       "                  border: 1px solid #ddd; /* Add a grey border */\n",
       "                  margin-bottom: 12px; /* Add some space below the input */\n",
       "                }\n",
       "\n",
       "                #myTable {\n",
       "                  border-collapse: collapse; /* Collapse borders */\n",
       "                  width: 100%; /* Full-width */\n",
       "                  border: 1px solid #ddd; /* Add a grey border */\n",
       "                  font-size: 14px; /* Increase font-size */\n",
       "                }\n",
       "\n",
       "                #myTable th, #myTable td {\n",
       "                  text-align: left; /* Left-align text */\n",
       "                  padding: 10px; /* Add padding */\n",
       "                }\n",
       "\n",
       "                #myTable tr {\n",
       "                  /* Add a bottom border to all table rows */\n",
       "                  border-bottom: 1px solid #ddd;\n",
       "                }\n",
       "\n",
       "                #myTable tr.header, #myTable tr:hover {\n",
       "                  /* Add a grey background color to the table header and on hover */\n",
       "                  background-color: #777;\n",
       "                }\n",
       "                </style>\n",
       "\n",
       "                <table id=\"myTable\" style=\"width:1000px\">\n",
       "                  <tr class=\"header\">\n",
       "                    <th style=\"width:30px\">Idx</th>\n",
       "                    <th style=\"width:20%;\">Name</th>\n",
       "                    <th style=\"width:35%;\">Description</th>\n",
       "                    <th style=\"width:20%;\">Assets</th>\n",
       "                    <th style=\"width:300px;\">Id</th>\n",
       "                  </tr>\n",
       "                \n",
       "\n",
       "          <tr>\n",
       "            <td>[0]</td>\n",
       "            <td>MedNIST Data</td>\n",
       "            <td>The MedNIST dataset was gathered from several sets from TCIA, the RSNA Bone Age Challenge, and the NIH Chest X-ray dataset. The dataset is kindly made available by Dr. Bradley J. Erickson M.D., Ph.D. (Department of Radiology, Mayo Clinic) under the Creative Commons CC BY-SA 4.0 license.\n",
       "Label Count: 6\n",
       "Label Mapping: {\"AbdomenCT\": 0, \"BreastMRI\": 1, \"CXR\": 2, \"ChestCT\": 3, \"Hand\": 4, \"HeadCT\": 5}\n",
       "Image Dimensions: (64, 64)\n",
       "Total Images: 58954\n",
       "</td>\n",
       "            <td>[\"images\"] -> <class 'syft.core.tensor.tensor.Tensor'><br /><br />[\"labels\"] -> <class 'syft.core.tensor.tensor.Tensor'><br /><br /></td>\n",
       "            <td>03824e77-3d62-426a-bdea-e836ba210c2b</td>\n",
       "          </tr>\n",
       "\n",
       "          <tr>\n",
       "            <td>[1]</td>\n",
       "            <td>Little MedNIST</td>\n",
       "            <td>Small dataset for TFF testing</td>\n",
       "            <td>[\"images\"] -> <class 'syft.core.tensor.tensor.Tensor'><br /><br />[\"labels\"] -> <class 'syft.core.tensor.tensor.Tensor'><br /><br /></td>\n",
       "            <td>7e7c4413-796b-46eb-9872-2ebcbc98b6ec</td>\n",
       "          </tr>\n",
       "        </table>\n",
       "\n",
       "        <script>\n",
       "        function myFunction() {\n",
       "          // Declare variables\n",
       "          var input, filter, table, tr, td, i, txtValue;\n",
       "          input = document.getElementById(\"myInput\");\n",
       "          filter = input.value.toUpperCase();\n",
       "          table = document.getElementById(\"myTable\");\n",
       "          tr = table.getElementsByTagName(\"tr\");\n",
       "\n",
       "          // Loop through all table rows, and hide those who don't match the search query\n",
       "          for (i = 0; i < tr.length; i++) {\n",
       "            name_td = tr[i].getElementsByTagName(\"td\")[1];\n",
       "            desc_td = tr[i].getElementsByTagName(\"td\")[2];\n",
       "            asset_td = tr[i].getElementsByTagName(\"td\")[3];\n",
       "            id_td = tr[i].getElementsByTagName(\"td\")[4];\n",
       "            if (name_td || desc_td || asset_td || id_td) {\n",
       "              name_txtValue = name_td.textContent || name_td.innerText;\n",
       "              desc_txtValue = desc_td.textContent || name_td.innerText;\n",
       "              asset_txtValue = asset_td.textContent || name_td.innerText;\n",
       "              id_txtValue = id_td.textContent || name_td.innerText;\n",
       "              name_bool = name_txtValue.toUpperCase().indexOf(filter) > -1;\n",
       "              desc_bool = desc_txtValue.toUpperCase().indexOf(filter) > -1;\n",
       "              asset_bool = asset_txtValue.toUpperCase().indexOf(filter) > -1;\n",
       "              id_bool = id_txtValue.toUpperCase().indexOf(filter) > -1;\n",
       "              if (name_bool || desc_bool || asset_bool || id_bool) {\n",
       "                tr[i].style.display = \"\";\n",
       "              } else {\n",
       "                tr[i].style.display = \"none\";\n",
       "              }\n",
       "            }\n",
       "          }\n",
       "        }\n",
       "        </script>"
      ],
      "text/plain": [
       "<syft.core.node.common.client_manager.dataset_api.DatasetRequestAPI at 0x7f29462848b0>"
      ]
     },
     "execution_count": 52,
     "metadata": {},
     "output_type": "execute_result"
    }
   ],
   "source": [
    "domain.datasets"
   ]
  },
  {
   "cell_type": "code",
   "execution_count": 3,
   "id": "d1191ee1",
   "metadata": {},
   "outputs": [],
   "source": [
    "def create_keras_model():\n",
    "  return tf.keras.models.Sequential([\n",
    "      tf.keras.layers.InputLayer(input_shape=(64*64,)),\n",
    "      tf.keras.layers.Dense(6, kernel_initializer='zeros'),\n",
    "      tf.keras.layers.Softmax(),\n",
    "  ])\n"
   ]
  },
  {
   "cell_type": "code",
   "execution_count": 4,
   "id": "eef89e59",
   "metadata": {},
   "outputs": [
    {
     "name": "stdout",
     "output_type": "stream",
     "text": [
      "TensorSpec(shape=(1, 4096), dtype=tf.float32, name=None)\n"
     ]
    },
    {
     "name": "stderr",
     "output_type": "stream",
     "text": [
      "WARNING:absl:Function `flat_predict_on_batch` contains input name(s) Identity, Identity_1 with unsupported characters which will be renamed to identity, identity_1 in the SavedModel.\n"
     ]
    },
    {
     "name": "stdout",
     "output_type": "stream",
     "text": [
      "INFO:tensorflow:Assets written to: tmp/assets\n"
     ]
    },
    {
     "name": "stderr",
     "output_type": "stream",
     "text": [
      "INFO:tensorflow:Assets written to: tmp/assets\n"
     ]
    },
    {
     "data": {
      "text/plain": [
       "'/home/teo/PySyft/notebooks/PySyTFF/archive.zip'"
      ]
     },
     "execution_count": 4,
     "metadata": {},
     "output_type": "execute_result"
    }
   ],
   "source": [
    "model = create_keras_model()\n",
    "\n",
    "input_spec = [tf.TensorSpec(shape=(1,64*64), dtype=tf.float32, name=None), \n",
    "              tf.TensorSpec(shape=(1,1), dtype=tf.int32, name=None)]\n",
    "\n",
    "functional_model = tff.learning.models.functional_model_from_keras(keras_model=model, \n",
    "                                                                   loss_fn=tf.keras.losses.SparseCategoricalCrossentropy(),\n",
    "                                                                   input_spec=input_spec)\n",
    "print(functional_model.input_spec[0])\n",
    "tff.learning.models.save_functional_model(functional_model=functional_model, path='tmp')\n",
    "\n",
    "import shutil\n",
    "shutil.make_archive('archive', 'zip', 'tmp')\n"
   ]
  },
  {
   "cell_type": "code",
   "execution_count": 35,
   "id": "dd84716d",
   "metadata": {},
   "outputs": [
    {
     "name": "stdout",
     "output_type": "stream",
     "text": [
      "['__annotations__', '__class__', '__class_getitem__', '__delattr__', '__dict__', '__dir__', '__doc__', '__eq__', '__final__', '__format__', '__ge__', '__getattribute__', '__gt__', '__hash__', '__init__', '__init_subclass__', '__le__', '__lt__', '__module__', '__ne__', '__new__', '__orig_bases__', '__parameters__', '__reduce__', '__reduce_ex__', '__repr__', '__setattr__', '__sizeof__', '__slots__', '__str__', '__subclasshook__', '__weakref__', '_id', '_is_protocol', '_object2proto', '_proto2object', 'address', 'class_name', 'get_protobuf_schema', 'icon', 'id', 'metadatas', 'post_init', 'pprint', 'repr_short', 'sign', 'signed_type']\n",
      "<class 'syft.core.node.common.node_service.dataset_manager.dataset_manager_messages.GetDatasetsResponse'>\n"
     ]
    },
    {
     "data": {
      "text/plain": [
       "'7e7c4413-796b-46eb-9872-2ebcbc98b6ec'"
      ]
     },
     "execution_count": 35,
     "metadata": {},
     "output_type": "execute_result"
    }
   ],
   "source": [
    "domain.datasets[1].id"
   ]
  },
  {
   "cell_type": "code",
   "execution_count": 64,
   "id": "9d50e86b",
   "metadata": {},
   "outputs": [
    {
     "name": "stdout",
     "output_type": "stream",
     "text": [
      "['__annotations__', '__class__', '__class_getitem__', '__delattr__', '__dict__', '__dir__', '__doc__', '__eq__', '__final__', '__format__', '__ge__', '__getattribute__', '__gt__', '__hash__', '__init__', '__init_subclass__', '__le__', '__lt__', '__module__', '__ne__', '__new__', '__orig_bases__', '__parameters__', '__reduce__', '__reduce_ex__', '__repr__', '__setattr__', '__sizeof__', '__slots__', '__str__', '__subclasshook__', '__weakref__', '_id', '_is_protocol', '_object2proto', '_proto2object', 'address', 'class_name', 'get_protobuf_schema', 'icon', 'id', 'metadatas', 'post_init', 'pprint', 'repr_short', 'sign', 'signed_type']\n",
      "<class 'syft.core.node.common.node_service.dataset_manager.dataset_manager_messages.GetDatasetsResponse'>\n",
      "['__annotations__', '__class__', '__class_getitem__', '__delattr__', '__dict__', '__dir__', '__doc__', '__eq__', '__format__', '__ge__', '__getattribute__', '__gt__', '__hash__', '__init__', '__init_subclass__', '__le__', '__lt__', '__module__', '__ne__', '__new__', '__orig_bases__', '__parameters__', '__reduce__', '__reduce_ex__', '__repr__', '__setattr__', '__sizeof__', '__slots__', '__str__', '__subclasshook__', '__weakref__', '_id', '_is_protocol', '_object2proto', '_proto2object', 'address', 'class_name', 'get_protobuf_schema', 'icon', 'id', 'payload', 'post_init', 'pprint', 'repr_short', 'sign', 'signed_type']\n",
      "<class 'syft.core.node.common.node_service.tff.tff_messages.TFFReplyMessage'>\n"
     ]
    }
   ],
   "source": [
    "params = {\n",
    "    'rounds': 1,\n",
    "    'dataset_id': domain.datasets[1].id,\n",
    "    'no_clients': 10,\n",
    "    'OUTPUT_DIR': 'some_dir',\n",
    "    'noise_multiplier': 0.05,\n",
    "    'clients_per_round': 2\n",
    "    }\n",
    "with open('archive.zip', 'rb') as f:\n",
    "    model_bytes = f.read()\n",
    "\n",
    "# params = {}\n",
    "msg = TFFMessageWithReply(id_dataset=\"id_dataset\", params=params, model_bytes=model_bytes)\n",
    "reply_msg = domain.send_immediate_msg_with_reply(msg)\n"
   ]
  },
  {
   "cell_type": "code",
   "execution_count": 1,
   "id": "06b45345",
   "metadata": {},
   "outputs": [
    {
     "name": "stdout",
     "output_type": "stream",
     "text": [
      "MedNIST already downloaded\n"
     ]
    }
   ],
   "source": [
    "# download MedNIST.pkl\n",
    "if not os.path.exists(\"./MedNIST.pkl\"):\n",
    "    os.system('curl -O \"https://media.githubusercontent.com/media/shubham3121/datasets/main/MedNIST/MedNIST.pkl\"')\n",
    "else:\n",
    "    print(\"MedNIST already downloaded\")\n"
   ]
  },
  {
   "cell_type": "code",
   "execution_count": 9,
   "id": "9cea3528",
   "metadata": {},
   "outputs": [
    {
     "name": "stdout",
     "output_type": "stream",
     "text": [
      "Columns: Index(['patient_id', 'image', 'label'], dtype='object')\n",
      "Total Images: 58954\n",
      "Label Mapping {'AbdomenCT': 0, 'BreastMRI': 1, 'CXR': 2, 'ChestCT': 3, 'Hand': 4, 'HeadCT': 5}\n"
     ]
    }
   ],
   "source": [
    "# Helper Methods\n",
    "\n",
    "import os\n",
    "import json\n",
    "import pandas as pd\n",
    "from PIL import Image\n",
    "from enum import Enum\n",
    "from collections import defaultdict\n",
    "import numpy as np\n",
    "from syft.core.adp.data_subject_list import DataSubjectList\n",
    "\n",
    "\n",
    "def get_label_mapping():\n",
    "    # the data uses the following mapping\n",
    "    mapping = {\n",
    "        \"AbdomenCT\": 0, \n",
    "        \"BreastMRI\": 1, \n",
    "        \"CXR\": 2, \n",
    "        \"ChestCT\": 3, \n",
    "        \"Hand\": 4, \n",
    "        \"HeadCT\": 5\n",
    "    }\n",
    "    return mapping\n",
    "\n",
    "df = pd.read_pickle(\"./MedNIST.pkl\")\n",
    "mapping = get_label_mapping()\n",
    "\n",
    "total_num = df.shape[0]\n",
    "print(\"Columns:\", df.columns)\n",
    "print(\"Total Images:\", total_num)\n",
    "print(\"Label Mapping\", mapping)"
   ]
  },
  {
   "cell_type": "code",
   "execution_count": 26,
   "id": "47f17c91",
   "metadata": {},
   "outputs": [],
   "source": [
    "data_subjects = DataSubjectList.from_series(df['patient_id'][:1000])\n",
    "\n",
    "images = df['image'][:1000]\n",
    "images = np.dstack(images.values).astype(np.int64)\n",
    "images = np.rollaxis(images,-1)"
   ]
  },
  {
   "cell_type": "code",
   "execution_count": 27,
   "id": "e4c32d9b",
   "metadata": {},
   "outputs": [],
   "source": [
    "labels = df['label'][:1000].to_numpy().astype(\"int64\")\n",
    "# labels = labels[:1000]\n"
   ]
  },
  {
   "cell_type": "code",
   "execution_count": 70,
   "id": "97fbf67b",
   "metadata": {},
   "outputs": [
    {
     "data": {
      "text/plain": [
       "20000    2\n",
       "20001    2\n",
       "20002    2\n",
       "20003    2\n",
       "20004    2\n",
       "        ..\n",
       "29995    3\n",
       "29996    3\n",
       "29997    3\n",
       "29998    3\n",
       "29999    3\n",
       "Name: label, Length: 10000, dtype: int64"
      ]
     },
     "execution_count": 70,
     "metadata": {},
     "output_type": "execute_result"
    }
   ],
   "source": [
    "df['label'][20000:30000]"
   ]
  },
  {
   "cell_type": "code",
   "execution_count": 28,
   "id": "2c86b54a",
   "metadata": {},
   "outputs": [
    {
     "name": "stdout",
     "output_type": "stream",
     "text": [
      "Tensor annotated with DP Metadata\n",
      "Tensor annotated with DP Metadata\n"
     ]
    }
   ],
   "source": [
    "\n",
    "# run this cell\n",
    "train_image_data = sy.Tensor(images).annotated_with_dp_metadata(\n",
    "    min_val=0, max_val=255, data_subjects=data_subjects\n",
    ")\n",
    "train_label_data = sy.Tensor(labels).annotated_with_dp_metadata(\n",
    "    min_val=0, max_val=5, data_subjects=data_subjects\n",
    ")"
   ]
  },
  {
   "cell_type": "code",
   "execution_count": 29,
   "id": "36f6649b",
   "metadata": {},
   "outputs": [
    {
     "data": {
      "text/plain": [
       "array([[[101., 101., 101., ..., 101., 101., 101.],\n",
       "        [101., 101., 101., ..., 101., 101., 101.],\n",
       "        [101., 101., 101., ..., 101., 101., 101.],\n",
       "        ...,\n",
       "        [102., 101.,  99., ..., 100., 102., 103.],\n",
       "        [104., 103., 102., ..., 100., 102., 103.],\n",
       "        [ 98.,  99., 100., ..., 101., 100., 101.]],\n",
       "\n",
       "       [[101., 101., 101., ..., 101., 101., 101.],\n",
       "        [101., 101., 101., ..., 101., 101., 101.],\n",
       "        [101., 101., 101., ..., 101., 101., 101.],\n",
       "        ...,\n",
       "        [101., 101., 101., ..., 101., 101., 101.],\n",
       "        [101., 101., 101., ..., 101., 101., 101.],\n",
       "        [101., 101., 101., ..., 101., 101., 101.]],\n",
       "\n",
       "       [[101., 101., 101., ..., 101., 101., 101.],\n",
       "        [101., 101., 101., ..., 101., 101., 101.],\n",
       "        [101., 101., 101., ..., 101., 101., 101.],\n",
       "        ...,\n",
       "        [ 99., 110., 118., ..., 101., 100.,  98.],\n",
       "        [ 94., 105., 118., ..., 103., 103., 103.],\n",
       "        [103.,  99.,  92., ...,  96.,  98.,  99.]],\n",
       "\n",
       "       ...,\n",
       "\n",
       "       [[101., 101., 101., ..., 101., 101., 101.],\n",
       "        [101., 101., 101., ..., 101., 101., 101.],\n",
       "        [101., 101., 101., ..., 101., 101., 101.],\n",
       "        ...,\n",
       "        [101.,  94.,  93., ..., 126., 113.,  95.],\n",
       "        [105., 101., 101., ..., 105.,  99.,  99.],\n",
       "        [100., 101., 101., ...,  96.,  98., 109.]],\n",
       "\n",
       "       [[101., 101., 101., ..., 101., 101., 101.],\n",
       "        [101., 101., 101., ..., 101., 101., 101.],\n",
       "        [101., 101., 101., ..., 101., 101., 101.],\n",
       "        ...,\n",
       "        [110.,  99.,  92., ..., 107., 109.,  90.],\n",
       "        [108., 104., 103., ..., 107., 104., 102.],\n",
       "        [102.,  98.,  99., ..., 100.,  97., 102.]],\n",
       "\n",
       "       [[101., 101., 101., ..., 101., 101., 101.],\n",
       "        [101., 101., 101., ..., 101., 101., 101.],\n",
       "        [101., 101., 101., ..., 101., 101., 101.],\n",
       "        ...,\n",
       "        [103., 103., 104., ..., 103., 104., 105.],\n",
       "        [ 96.,  97.,  97., ..., 100., 102., 105.],\n",
       "        [101., 101., 100., ..., 101., 101., 102.]]])"
      ]
     },
     "execution_count": 29,
     "metadata": {},
     "output_type": "execute_result"
    }
   ],
   "source": [
    "train_image_data.child.child.decode()"
   ]
  },
  {
   "cell_type": "code",
   "execution_count": 31,
   "id": "5a1712d6",
   "metadata": {},
   "outputs": [
    {
     "name": "stdout",
     "output_type": "stream",
     "text": [
      "Loading dataset... checking asset types...                              ['__annotations__', '__class__', '__class_getitem__', '__delattr__', '__dict__', '__dir__', '__doc__', '__eq__', '__final__', '__format__', '__ge__', '__getattribute__', '__gt__', '__hash__', '__init__', '__init_subclass__', '__le__', '__lt__', '__module__', '__ne__', '__new__', '__orig_bases__', '__parameters__', '__reduce__', '__reduce_ex__', '__repr__', '__setattr__', '__sizeof__', '__slots__', '__str__', '__subclasshook__', '__weakref__', '_id', '_is_protocol', '_object2proto', '_proto2object', 'address', 'class_name', 'content', 'get_protobuf_schema', 'icon', 'id', 'post_init', 'pprint', 'repr_short', 'sign', 'signed_type']\n",
      "<class 'syft.core.node.common.node_service.node_setup.node_setup_messages.GetSetUpResponse'>\n",
      "Loading dataset... uploading...🚀                        ['Reply', 'Request', '_DomainMessageRegistry__domain_message_registry', '__annotations__', '__attr_allowlist__', '__class__', '__class_getitem__', '__delattr__', '__dict__', '__dir__', '__doc__', '__eq__', '__final__', '__format__', '__ge__', '__getattribute__', '__gt__', '__hash__', '__init__', '__init_subclass__', '__le__', '__lt__', '__module__', '__ne__', '__new__', '__orig_bases__', '__parameters__', '__reduce__', '__reduce_ex__', '__repr__', '__serde_overrides__', '__setattr__', '__sizeof__', '__slots__', '__str__', '__subclasshook__', '__weakref__', '_id', '_is_protocol', '_object2proto', '_proto2object', 'address', 'check_permissions', 'class_name', 'get_permissions', 'get_protobuf_schema', 'get_registered_messages', 'icon', 'id', 'kwargs', 'payload', 'post_init', 'pprint', 'reply', 'reply_payload_type', 'reply_to', 'repr_short', 'request_payload_type', 'run', 'sign', 'signed_type']\n",
      "<class 'syft.core.node.common.node_service.upload_service.upload_service_messages.UploadDataMessage'>\n"
     ]
    },
    {
     "name": "stderr",
     "output_type": "stream",
     "text": [
      "Uploading `images`: 100%|\u001b[32m█████████████████████████████████████████████\u001b[0m| 1/1 [00:00<00:00, 37.76it/s]\u001b[0m\n"
     ]
    },
    {
     "name": "stdout",
     "output_type": "stream",
     "text": [
      "['Reply', 'Request', '_DomainMessageRegistry__domain_message_registry', '__annotations__', '__attr_allowlist__', '__class__', '__class_getitem__', '__delattr__', '__dict__', '__dir__', '__doc__', '__eq__', '__final__', '__format__', '__ge__', '__getattribute__', '__gt__', '__hash__', '__init__', '__init_subclass__', '__le__', '__lt__', '__module__', '__ne__', '__new__', '__orig_bases__', '__parameters__', '__reduce__', '__reduce_ex__', '__repr__', '__serde_overrides__', '__setattr__', '__sizeof__', '__slots__', '__str__', '__subclasshook__', '__weakref__', '_id', '_is_protocol', '_object2proto', '_proto2object', 'address', 'check_permissions', 'class_name', 'get_permissions', 'get_protobuf_schema', 'get_registered_messages', 'icon', 'id', 'kwargs', 'payload', 'post_init', 'pprint', 'reply', 'reply_payload_type', 'reply_to', 'repr_short', 'request_payload_type', 'run', 'sign', 'signed_type']\n",
      "<class 'syft.core.node.common.node_service.upload_service.upload_service_messages.UploadDataCompleteMessage'>\n",
      "['Reply', 'Request', '_DomainMessageRegistry__domain_message_registry', '__annotations__', '__attr_allowlist__', '__class__', '__class_getitem__', '__delattr__', '__dict__', '__dir__', '__doc__', '__eq__', '__final__', '__format__', '__ge__', '__getattribute__', '__gt__', '__hash__', '__init__', '__init_subclass__', '__le__', '__lt__', '__module__', '__ne__', '__new__', '__orig_bases__', '__parameters__', '__reduce__', '__reduce_ex__', '__repr__', '__serde_overrides__', '__setattr__', '__sizeof__', '__slots__', '__str__', '__subclasshook__', '__weakref__', '_id', '_is_protocol', '_object2proto', '_proto2object', 'address', 'check_permissions', 'class_name', 'get_permissions', 'get_protobuf_schema', 'get_registered_messages', 'icon', 'id', 'kwargs', 'payload', 'post_init', 'pprint', 'reply', 'reply_payload_type', 'reply_to', 'repr_short', 'request_payload_type', 'run', 'sign', 'signed_type']\n",
      "<class 'syft.core.node.common.node_service.upload_service.upload_service_messages.UploadDataMessage'>\n"
     ]
    },
    {
     "name": "stderr",
     "output_type": "stream",
     "text": [
      "Uploading `labels`: 100%|\u001b[32m████████████████████████████████████████████\u001b[0m| 1/1 [00:00<00:00, 247.50it/s]\u001b[0m\n"
     ]
    },
    {
     "name": "stdout",
     "output_type": "stream",
     "text": [
      "['Reply', 'Request', '_DomainMessageRegistry__domain_message_registry', '__annotations__', '__attr_allowlist__', '__class__', '__class_getitem__', '__delattr__', '__dict__', '__dir__', '__doc__', '__eq__', '__final__', '__format__', '__ge__', '__getattribute__', '__gt__', '__hash__', '__init__', '__init_subclass__', '__le__', '__lt__', '__module__', '__ne__', '__new__', '__orig_bases__', '__parameters__', '__reduce__', '__reduce_ex__', '__repr__', '__serde_overrides__', '__setattr__', '__sizeof__', '__slots__', '__str__', '__subclasshook__', '__weakref__', '_id', '_is_protocol', '_object2proto', '_proto2object', 'address', 'check_permissions', 'class_name', 'get_permissions', 'get_protobuf_schema', 'get_registered_messages', 'icon', 'id', 'kwargs', 'payload', 'post_init', 'pprint', 'reply', 'reply_payload_type', 'reply_to', 'repr_short', 'request_payload_type', 'run', 'sign', 'signed_type']\n",
      "<class 'syft.core.node.common.node_service.upload_service.upload_service_messages.UploadDataCompleteMessage'>\n",
      "['__annotations__', '__class__', '__class_getitem__', '__delattr__', '__dict__', '__dir__', '__doc__', '__eq__', '__final__', '__format__', '__ge__', '__getattribute__', '__gt__', '__hash__', '__init__', '__init_subclass__', '__le__', '__lt__', '__module__', '__ne__', '__new__', '__orig_bases__', '__parameters__', '__reduce__', '__reduce_ex__', '__repr__', '__setattr__', '__sizeof__', '__slots__', '__str__', '__subclasshook__', '__weakref__', '_id', '_is_protocol', '_object2proto', '_proto2object', 'address', 'class_name', 'get_protobuf_schema', 'icon', 'id', 'post_init', 'pprint', 'repr_short', 'resp_msg', 'sign', 'signed_type']\n",
      "<class 'syft.core.node.common.node_service.success_resp_message.SuccessResponseMessage'>\n",
      "Dataset is uploaded successfully !!! 🎉\n",
      "\n",
      "Run `<your client variable>.datasets` to see your new dataset loaded into your machine!\n"
     ]
    }
   ],
   "source": [
    "domain.load_dataset(\n",
    "    name='Little MedNIST',\n",
    "    assets={\n",
    "        'images': train_image_data,\n",
    "        \"labels\": train_label_data\n",
    "    },\n",
    "    description=\"Small dataset for TFF testing\"\n",
    ")"
   ]
  },
  {
   "cell_type": "code",
   "execution_count": 32,
   "id": "7a8f8a52",
   "metadata": {},
   "outputs": [
    {
     "name": "stdout",
     "output_type": "stream",
     "text": [
      "['__annotations__', '__class__', '__class_getitem__', '__delattr__', '__dict__', '__dir__', '__doc__', '__eq__', '__final__', '__format__', '__ge__', '__getattribute__', '__gt__', '__hash__', '__init__', '__init_subclass__', '__le__', '__lt__', '__module__', '__ne__', '__new__', '__orig_bases__', '__parameters__', '__reduce__', '__reduce_ex__', '__repr__', '__setattr__', '__sizeof__', '__slots__', '__str__', '__subclasshook__', '__weakref__', '_id', '_is_protocol', '_object2proto', '_proto2object', 'address', 'class_name', 'get_protobuf_schema', 'icon', 'id', 'metadatas', 'post_init', 'pprint', 'repr_short', 'sign', 'signed_type']\n",
      "<class 'syft.core.node.common.node_service.dataset_manager.dataset_manager_messages.GetDatasetsResponse'>\n",
      "['__annotations__', '__class__', '__class_getitem__', '__delattr__', '__dict__', '__dir__', '__doc__', '__eq__', '__final__', '__format__', '__ge__', '__getattribute__', '__gt__', '__hash__', '__init__', '__init_subclass__', '__le__', '__lt__', '__module__', '__ne__', '__new__', '__orig_bases__', '__parameters__', '__reduce__', '__reduce_ex__', '__repr__', '__setattr__', '__sizeof__', '__slots__', '__str__', '__subclasshook__', '__weakref__', '_id', '_is_protocol', '_object2proto', '_proto2object', 'address', 'class_name', 'get_protobuf_schema', 'icon', 'id', 'metadatas', 'post_init', 'pprint', 'repr_short', 'sign', 'signed_type']\n",
      "<class 'syft.core.node.common.node_service.dataset_manager.dataset_manager_messages.GetDatasetsResponse'>\n"
     ]
    },
    {
     "data": {
      "text/html": [
       "<style>\n",
       "                #myInput {\n",
       "                  background-position: 10px 12px; /* Position the search icon */\n",
       "                  background-repeat: no-repeat; /* Do not repeat the icon image */\n",
       "                  background-color: #bbb;\n",
       "                  width: 98%; /* Full-width */\n",
       "                  font-size: 14px; /* Increase font-size */\n",
       "                  padding: 12px 20px 12px 40px; /* Add some padding */\n",
       "                  border: 1px solid #ddd; /* Add a grey border */\n",
       "                  margin-bottom: 12px; /* Add some space below the input */\n",
       "                }\n",
       "\n",
       "                #myTable {\n",
       "                  border-collapse: collapse; /* Collapse borders */\n",
       "                  width: 100%; /* Full-width */\n",
       "                  border: 1px solid #ddd; /* Add a grey border */\n",
       "                  font-size: 14px; /* Increase font-size */\n",
       "                }\n",
       "\n",
       "                #myTable th, #myTable td {\n",
       "                  text-align: left; /* Left-align text */\n",
       "                  padding: 10px; /* Add padding */\n",
       "                }\n",
       "\n",
       "                #myTable tr {\n",
       "                  /* Add a bottom border to all table rows */\n",
       "                  border-bottom: 1px solid #ddd;\n",
       "                }\n",
       "\n",
       "                #myTable tr.header, #myTable tr:hover {\n",
       "                  /* Add a grey background color to the table header and on hover */\n",
       "                  background-color: #777;\n",
       "                }\n",
       "                </style>\n",
       "\n",
       "                <table id=\"myTable\" style=\"width:1000px\">\n",
       "                  <tr class=\"header\">\n",
       "                    <th style=\"width:30px\">Idx</th>\n",
       "                    <th style=\"width:20%;\">Name</th>\n",
       "                    <th style=\"width:35%;\">Description</th>\n",
       "                    <th style=\"width:20%;\">Assets</th>\n",
       "                    <th style=\"width:300px;\">Id</th>\n",
       "                  </tr>\n",
       "                \n",
       "\n",
       "          <tr>\n",
       "            <td>[0]</td>\n",
       "            <td>MedNIST Data</td>\n",
       "            <td>The MedNIST dataset was gathered from several sets from TCIA, the RSNA Bone Age Challenge, and the NIH Chest X-ray dataset. The dataset is kindly made available by Dr. Bradley J. Erickson M.D., Ph.D. (Department of Radiology, Mayo Clinic) under the Creative Commons CC BY-SA 4.0 license.\n",
       "Label Count: 6\n",
       "Label Mapping: {\"AbdomenCT\": 0, \"BreastMRI\": 1, \"CXR\": 2, \"ChestCT\": 3, \"Hand\": 4, \"HeadCT\": 5}\n",
       "Image Dimensions: (64, 64)\n",
       "Total Images: 58954\n",
       "</td>\n",
       "            <td>[\"images\"] -> <class 'syft.core.tensor.tensor.Tensor'><br /><br />[\"labels\"] -> <class 'syft.core.tensor.tensor.Tensor'><br /><br /></td>\n",
       "            <td>03824e77-3d62-426a-bdea-e836ba210c2b</td>\n",
       "          </tr>\n",
       "\n",
       "          <tr>\n",
       "            <td>[1]</td>\n",
       "            <td>Little MedNIST</td>\n",
       "            <td>Small dataset for TFF testing</td>\n",
       "            <td>[\"images\"] -> <class 'syft.core.tensor.tensor.Tensor'><br /><br />[\"labels\"] -> <class 'syft.core.tensor.tensor.Tensor'><br /><br /></td>\n",
       "            <td>7e7c4413-796b-46eb-9872-2ebcbc98b6ec</td>\n",
       "          </tr>\n",
       "        </table>\n",
       "\n",
       "        <script>\n",
       "        function myFunction() {\n",
       "          // Declare variables\n",
       "          var input, filter, table, tr, td, i, txtValue;\n",
       "          input = document.getElementById(\"myInput\");\n",
       "          filter = input.value.toUpperCase();\n",
       "          table = document.getElementById(\"myTable\");\n",
       "          tr = table.getElementsByTagName(\"tr\");\n",
       "\n",
       "          // Loop through all table rows, and hide those who don't match the search query\n",
       "          for (i = 0; i < tr.length; i++) {\n",
       "            name_td = tr[i].getElementsByTagName(\"td\")[1];\n",
       "            desc_td = tr[i].getElementsByTagName(\"td\")[2];\n",
       "            asset_td = tr[i].getElementsByTagName(\"td\")[3];\n",
       "            id_td = tr[i].getElementsByTagName(\"td\")[4];\n",
       "            if (name_td || desc_td || asset_td || id_td) {\n",
       "              name_txtValue = name_td.textContent || name_td.innerText;\n",
       "              desc_txtValue = desc_td.textContent || name_td.innerText;\n",
       "              asset_txtValue = asset_td.textContent || name_td.innerText;\n",
       "              id_txtValue = id_td.textContent || name_td.innerText;\n",
       "              name_bool = name_txtValue.toUpperCase().indexOf(filter) > -1;\n",
       "              desc_bool = desc_txtValue.toUpperCase().indexOf(filter) > -1;\n",
       "              asset_bool = asset_txtValue.toUpperCase().indexOf(filter) > -1;\n",
       "              id_bool = id_txtValue.toUpperCase().indexOf(filter) > -1;\n",
       "              if (name_bool || desc_bool || asset_bool || id_bool) {\n",
       "                tr[i].style.display = \"\";\n",
       "              } else {\n",
       "                tr[i].style.display = \"none\";\n",
       "              }\n",
       "            }\n",
       "          }\n",
       "        }\n",
       "        </script>"
      ],
      "text/plain": [
       "<syft.core.node.common.client_manager.dataset_api.DatasetRequestAPI at 0x7f2947a9c130>"
      ]
     },
     "execution_count": 32,
     "metadata": {},
     "output_type": "execute_result"
    }
   ],
   "source": [
    "domain.datasets"
   ]
  },
  {
   "cell_type": "code",
   "execution_count": 4,
   "id": "77795b81",
   "metadata": {},
   "outputs": [
    {
     "name": "stdout",
     "output_type": "stream",
     "text": [
      "WARNING: CHANGE YOUR USERNAME AND PASSWORD!!! \n",
      "\n",
      "Anyone can login as an admin to your node right now because your password is still the default PySyft username and password!!!\n",
      "\n",
      "Connecting to 20.237.150.216... done! \t Logging into gifted_song... done!\n",
      "\n",
      "**Warning**: The syft version on your system and the node are different.\n",
      "Version on your system: 0.7.0-beta.19\n",
      "Version on the node: 0.7.0-beta.23\n",
      "\n"
     ]
    }
   ],
   "source": [
    "domain_cleint = sy.login(url='20.237.150.216',email=\"info@openmined.org\",password=\"changethis\")"
   ]
  },
  {
   "cell_type": "code",
   "execution_count": 17,
   "id": "aba6e3e6",
   "metadata": {},
   "outputs": [
    {
     "name": "stdout",
     "output_type": "stream",
     "text": [
      "['__annotations__', '__class__', '__class_getitem__', '__delattr__', '__dict__', '__dir__', '__doc__', '__eq__', '__final__', '__format__', '__ge__', '__getattribute__', '__gt__', '__hash__', '__init__', '__init_subclass__', '__le__', '__lt__', '__module__', '__ne__', '__new__', '__orig_bases__', '__parameters__', '__reduce__', '__reduce_ex__', '__repr__', '__setattr__', '__sizeof__', '__slots__', '__str__', '__subclasshook__', '__weakref__', '_id', '_is_protocol', '_object2proto', '_proto2object', 'address', 'class_name', 'content', 'get_protobuf_schema', 'icon', 'id', 'post_init', 'pprint', 'repr_short', 'sign', 'signed_type']\n",
      "<class 'syft.core.node.common.node_service.user_manager.user_messages.GetUsersResponse'>\n",
      "{'id': 2, 'email': 'sam@stargate.net', 'name': 'Sam Carter', 'budget': 9999.0, 'verify_key': '1782d56590436d38a648becb0d2ad7872c1cfd353e8f21335b693f8273bc7caa', 'role': 'Data Scientist', 'added_by': 'Jane Doe', 'website': '', 'institution': '', 'daa_pdf': 1, 'created_at': '2022-05-27 15:11:35.776918', 'budget_spent': 9999.0}\n"
     ]
    }
   ],
   "source": [
    "ips = ['20.237.150.216']\n",
    "details = []\n",
    "\n",
    "for ip in ips:\n",
    "    domain_client = sy.login(url='20.237.150.216',email=\"info@openmined.org\",password=\"changethis\")"
   ]
  }
 ],
 "metadata": {
  "interpreter": {
   "hash": "67856bda971e2a654274dbee4a8f60d8877ae51b472a8acc4dc577a3ea0a55e3"
  },
  "kernelspec": {
   "display_name": "PySyTFF",
   "language": "python",
   "name": "python3"
  },
  "language_info": {
   "codemirror_mode": {
    "name": "ipython",
    "version": 3
   },
   "file_extension": ".py",
   "mimetype": "text/x-python",
   "name": "python",
   "nbconvert_exporter": "python",
   "pygments_lexer": "ipython3",
   "version": "3.9.7"
  }
 },
 "nbformat": 4,
 "nbformat_minor": 5
}

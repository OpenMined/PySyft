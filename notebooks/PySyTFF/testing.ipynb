{
 "cells": [
  {
   "cell_type": "code",
   "execution_count": 1,
   "id": "8a1e205d-d0a3-44bd-b871-8f9fb9c04fa8",
   "metadata": {},
   "outputs": [
    {
     "name": "stderr",
     "output_type": "stream",
     "text": [
      "/home/teo/anaconda3/envs/PySyTFF/lib/python3.9/site-packages/numpy/core/getlimits.py:499: UserWarning: The value of the smallest subnormal for <class 'numpy.float64'> type is zero.\n",
      "  setattr(self, word, getattr(machar, word).flat[0])\n",
      "/home/teo/anaconda3/envs/PySyTFF/lib/python3.9/site-packages/numpy/core/getlimits.py:89: UserWarning: The value of the smallest subnormal for <class 'numpy.float64'> type is zero.\n",
      "  return self._float_to_str(self.smallest_subnormal)\n",
      "/home/teo/anaconda3/envs/PySyTFF/lib/python3.9/site-packages/numpy/core/getlimits.py:499: UserWarning: The value of the smallest subnormal for <class 'numpy.float32'> type is zero.\n",
      "  setattr(self, word, getattr(machar, word).flat[0])\n",
      "/home/teo/anaconda3/envs/PySyTFF/lib/python3.9/site-packages/numpy/core/getlimits.py:89: UserWarning: The value of the smallest subnormal for <class 'numpy.float32'> type is zero.\n",
      "  return self._float_to_str(self.smallest_subnormal)\n"
     ]
    }
   ],
   "source": [
    "import syft as sy\n",
    "from syft.core.node.common.node_service.tff.tff_messages import TFFMessageWithReply\n",
    "from syft.core.node.common.node_service.ping.ping_messages import PingMessageWithReply\n",
    "from syft.grid import GridURL\n",
    "from syft.core.node.common.node_service.simple.simple_messages import NodeRunnableMessageWithReply\n",
    "from syft.core.node.common.node_service.get_repr.get_repr_messages import GetReprMessage"
   ]
  },
  {
   "cell_type": "code",
   "execution_count": 2,
   "id": "cd7f8cc2-7788-444d-aa7b-bac0184f7352",
   "metadata": {},
   "outputs": [
    {
     "name": "stdout",
     "output_type": "stream",
     "text": [
      "WARNING: CHANGE YOUR USERNAME AND PASSWORD!!! \n",
      "\n",
      "Anyone can login as an admin to your node right now because your password is still the default PySyft username and password!!!\n",
      "\n",
      "Connecting to None... done! \t Logging into node... done!\n"
     ]
    }
   ],
   "source": [
    "domain = sy.login(email=\"info@openmined.org\", password=\"changethis\", port=8081)"
   ]
  },
  {
   "cell_type": "code",
   "execution_count": 3,
   "id": "5ad7920a",
   "metadata": {},
   "outputs": [],
   "source": [
    "!pip install --quiet --upgrade --user nest-asyncio"
   ]
  },
  {
   "cell_type": "code",
   "execution_count": 4,
   "id": "a0d4c03d",
   "metadata": {},
   "outputs": [],
   "source": [
    "# import nest_asyncio\n",
    "# nest_asyncio.apply()"
   ]
  },
  {
   "cell_type": "code",
   "execution_count": 5,
   "id": "b93d3401-85e2-4937-b99a-011c562323e0",
   "metadata": {},
   "outputs": [
    {
     "name": "stdout",
     "output_type": "stream",
     "text": [
      "['__annotations__', '__class__', '__class_getitem__', '__delattr__', '__dict__', '__dir__', '__doc__', '__eq__', '__format__', '__ge__', '__getattribute__', '__gt__', '__hash__', '__init__', '__init_subclass__', '__le__', '__lt__', '__module__', '__ne__', '__new__', '__orig_bases__', '__parameters__', '__reduce__', '__reduce_ex__', '__repr__', '__setattr__', '__sizeof__', '__slots__', '__str__', '__subclasshook__', '__weakref__', '_id', '_is_protocol', '_object2proto', '_proto2object', 'address', 'class_name', 'get_protobuf_schema', 'icon', 'id', 'payload', 'post_init', 'pprint', 'repr_short', 'sign', 'signed_type']\n",
      "<class 'syft.core.node.common.node_service.tff.tff_messages.TFFReplyMessage'>\n"
     ]
    }
   ],
   "source": [
    "# msg = NodeRunnableMessageWithReply(\"Hello\")\n",
    "msg = TFFMessageWithReply(\"Hello\")\n",
    "# sy.serialize(msg)\n",
    "# print(msg)\n",
    "# serial_msg = sy.serialize(msg, to_bytes=True)\n",
    "# new_msg = sy.deserialize(serial_msg, from_bytes=True)\n",
    "# print(new_msg.stuff)\n",
    "# print(sy.deserialize(sy.serialize(msg, to_bytes=True),from_bytes=True)==msg)\n",
    "# print(type(domain))\n",
    "# print(dir(domain))\n",
    "reply_msg = domain.send_immediate_msg_with_reply(msg)"
   ]
  },
  {
   "cell_type": "code",
   "execution_count": 6,
   "id": "6f8170e6-c59c-481e-bfc1-2f8f6951830c",
   "metadata": {},
   "outputs": [
    {
     "data": {
      "text/plain": [
       "'Hello from TFF Service...Hello'"
      ]
     },
     "execution_count": 6,
     "metadata": {},
     "output_type": "execute_result"
    }
   ],
   "source": [
    "reply_msg.payload"
   ]
  },
  {
   "cell_type": "code",
   "execution_count": 7,
   "id": "5a71b2ec",
   "metadata": {},
   "outputs": [
    {
     "data": {
      "text/plain": [
       "b'\\nJsyft.core.node.common.node_service.ping.ping_messages.PingMessageWithReply\\x12\\x8d\\x01\\n\\x06kwargs\\x127\\n\\x16syft.lib.python.String\\x12\\x1d\\n\\x05Hello\\x12\\x12\\n\\x10\\x1dEW\\xf9\\xd0\\xc7A\\xb1\\xb8];\\xedkL\\x9d\\x91\\x18\\x01\\x1aJsyft.core.node.common.node_service.ping.ping_messages.PingMessageWithReply'"
      ]
     },
     "execution_count": 7,
     "metadata": {},
     "output_type": "execute_result"
    }
   ],
   "source": [
    "from syft import serialize\n",
    "msg = PingMessageWithReply(\"Hello\")\n",
    "\n",
    "serialize(msg, to_bytes=True)"
   ]
  },
  {
   "cell_type": "code",
   "execution_count": 8,
   "id": "ab612f73",
   "metadata": {},
   "outputs": [
    {
     "data": {
      "text/plain": [
       "['Any',\n",
       " 'Device',\n",
       " 'DeviceClient',\n",
       " 'DistributionNotFound',\n",
       " 'Domain',\n",
       " 'DomainClient',\n",
       " 'Network',\n",
       " 'NetworkClient',\n",
       " 'NetworkRegistry',\n",
       " 'Path',\n",
       " 'ReprMessage',\n",
       " 'Tensor',\n",
       " 'VirtualMachine',\n",
       " 'VirtualMachineClient',\n",
       " '__builtins__',\n",
       " '__cached__',\n",
       " '__doc__',\n",
       " '__file__',\n",
       " '__getattr__',\n",
       " '__loader__',\n",
       " '__name__',\n",
       " '__package__',\n",
       " '__path__',\n",
       " '__spec__',\n",
       " '__version__',\n",
       " '_networks',\n",
       " 'ast',\n",
       " 'autodp',\n",
       " 'autograd',\n",
       " 'common',\n",
       " 'connect',\n",
       " 'core',\n",
       " 'deserialize',\n",
       " 'experimental_flags',\n",
       " 'flags',\n",
       " 'get_distribution',\n",
       " 'grid',\n",
       " 'lib',\n",
       " 'lib_ast',\n",
       " 'load',\n",
       " 'load_lib',\n",
       " 'logger',\n",
       " 'login',\n",
       " 'module_property',\n",
       " 'proto',\n",
       " 'proxy',\n",
       " 'register',\n",
       " 'registry',\n",
       " 'row_entity_phi',\n",
       " 'serialize',\n",
       " 'single_entity_phi',\n",
       " 'sys',\n",
       " 'util',\n",
       " 'wrappers']"
      ]
     },
     "execution_count": 8,
     "metadata": {},
     "output_type": "execute_result"
    }
   ],
   "source": [
    "import syft as sy\n",
    "dir(sy)"
   ]
  },
  {
   "cell_type": "code",
   "execution_count": 9,
   "id": "570e4fbc",
   "metadata": {},
   "outputs": [],
   "source": [
    "from syft.core.node.common.action.tff_action import TFFAction"
   ]
  },
  {
   "cell_type": "code",
   "execution_count": 10,
   "id": "a9aaa52c",
   "metadata": {},
   "outputs": [],
   "source": [
    "msg = TFFAction(address=domain.address)\n",
    "domain.send_immediate_msg_without_reply(msg)\n"
   ]
  },
  {
   "cell_type": "code",
   "execution_count": 11,
   "id": "8b034c49",
   "metadata": {},
   "outputs": [
    {
     "name": "stdout",
     "output_type": "stream",
     "text": [
      "<class 'proto.core.node.common.action.tff_action_pb2.TFFAction'>\n",
      "<class 'syft.core.node.common.action.tff_action.TFFAction'>\n"
     ]
    }
   ],
   "source": [
    "ser_msg = sy.serialize(msg) \n",
    "print(type(ser_msg))\n",
    "de_msg = sy.deserialize(ser_msg)\n",
    "print(type(de_msg))"
   ]
  }
 ],
 "metadata": {
  "interpreter": {
   "hash": "67856bda971e2a654274dbee4a8f60d8877ae51b472a8acc4dc577a3ea0a55e3"
  },
  "kernelspec": {
   "display_name": "PySyTFF",
   "language": "python",
   "name": "python3"
  },
  "language_info": {
   "codemirror_mode": {
    "name": "ipython",
    "version": 3
   },
   "file_extension": ".py",
   "mimetype": "text/x-python",
   "name": "python",
   "nbconvert_exporter": "python",
   "pygments_lexer": "ipython3",
   "version": "3.9.7"
  }
 },
 "nbformat": 4,
 "nbformat_minor": 5
}

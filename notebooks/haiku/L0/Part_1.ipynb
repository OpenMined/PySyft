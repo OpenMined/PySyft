{
 "cells": [
  {
   "attachments": {},
   "cell_type": "markdown",
   "metadata": {},
   "source": [
    "Simple haiku example from [Haiku documentation landing page](https://dm-haiku.readthedocs.io/en/latest/)."
   ]
  },
  {
   "cell_type": "code",
   "execution_count": 50,
   "metadata": {},
   "outputs": [
    {
     "name": "stdout",
     "output_type": "stream",
     "text": [
      "✅ The installed version of syft==0.8.0b6 matches the requirement >=0.8b0\n"
     ]
    }
   ],
   "source": [
    "import syft as sy\n",
    "sy.requires(\">=0.8-beta\")"
   ]
  },
  {
   "cell_type": "code",
   "execution_count": 51,
   "metadata": {},
   "outputs": [
    {
     "name": "stdout",
     "output_type": "stream",
     "text": [
      "SQLite Store Path:\n",
      "!open file:///var/folders/sz/hkfsnn612hq56r7cs5rd540r0000gn/T/7bca415d13ed1ec841f0d0aede098dbb.sqlite\n",
      "\n",
      "> Starting Worker: test-domain-1 - 7bca415d13ed1ec841f0d0aede098dbb - NodeType.DOMAIN - [<class 'syft.core.node.new.user_service.UserService'>, <class 'syft.core.node.new.metadata_service.MetadataService'>, <class 'syft.core.node.new.action_service.ActionService'>, <class 'syft.core.node.new.test_service.TestService'>, <class 'syft.core.node.new.dataset_service.DatasetService'>, <class 'syft.core.node.new.user_code_service.UserCodeService'>, <class 'syft.core.node.new.request_service.RequestService'>, <class 'syft.core.node.new.data_subject_service.DataSubjectService'>, <class 'syft.core.node.new.network_service.NetworkService'>, <class 'syft.core.node.new.policy_service.PolicyService'>, <class 'syft.core.node.new.message_service.MessageService'>, <class 'syft.core.node.new.project_service.ProjectService'>, <class 'syft.core.node.new.data_subject_member_service.DataSubjectMemberService'>]\n"
     ]
    }
   ],
   "source": [
    "node = sy.orchestra.launch(name=\"test-domain-1\", reset=True)"
   ]
  },
  {
   "cell_type": "code",
   "execution_count": 52,
   "metadata": {},
   "outputs": [],
   "source": [
    "guest_domain_client = node.client"
   ]
  },
  {
   "cell_type": "code",
   "execution_count": 53,
   "metadata": {},
   "outputs": [
    {
     "data": {
      "text/html": [
       "<div class=\"alert-success\" style=\"padding:5px;\"><strong>SyftSuccess</strong>: jane@caltech.edu User successfully registered !!!</div><br />"
      ],
      "text/plain": [
       "<class 'syft.core.node.new.response.SyftSuccess'>: jane@caltech.edu User successfully registered !!!"
      ]
     },
     "execution_count": 53,
     "metadata": {},
     "output_type": "execute_result"
    }
   ],
   "source": [
    "guest_domain_client.register(name=\"Jane Doe\", email=\"jane@caltech.edu\", password=\"abc123\", institution=\"Caltech\", website=\"https://www.caltech.edu/\")"
   ]
  },
  {
   "cell_type": "code",
   "execution_count": 54,
   "metadata": {},
   "outputs": [
    {
     "data": {
      "text/plain": [
       "<SyftClient - test-domain-1 <7bca415d13ed1ec841f0d0aede098dbb>: PythonConnection>"
      ]
     },
     "execution_count": 54,
     "metadata": {},
     "output_type": "execute_result"
    }
   ],
   "source": [
    "guest_domain_client.login(email=\"jane@caltech.edu\", password=\"abc123\")"
   ]
  },
  {
   "cell_type": "code",
   "execution_count": 55,
   "metadata": {},
   "outputs": [],
   "source": [
    "@sy.syft_function(input_policy=sy.ExactMatch(),\n",
    "                  output_policy=sy.SingleExecutionExactOutput())\n",
    "def func():\n",
    "    import haiku as hk\n",
    "    import jax\n",
    "    import jax.numpy as jnp\n",
    "\n",
    "    def forward(x):\n",
    "        mlp = hk.nets.MLP([300, 100, 10])\n",
    "        return mlp(x)\n",
    "\n",
    "    forward = hk.transform(forward)\n",
    "\n",
    "    rng = hk.PRNGSequence(jax.random.PRNGKey(42))\n",
    "    x = jnp.ones([8, 28 * 28])\n",
    "    params = forward.init(next(rng), x)\n",
    "    logits = forward.apply(params, next(rng), x)\n",
    "    return logits"
   ]
  },
  {
   "cell_type": "code",
   "execution_count": 56,
   "metadata": {},
   "outputs": [],
   "source": [
    "result = func()"
   ]
  },
  {
   "cell_type": "code",
   "execution_count": 57,
   "metadata": {},
   "outputs": [
    {
     "data": {
      "text/plain": [
       "DeviceArray([[-0.1606124 ,  0.11602577, -0.34298737,  0.02186507,\n",
       "              -0.44870048, -0.07481717,  0.14429801, -0.05701483,\n",
       "              -0.26346769, -0.35067699],\n",
       "             [-0.1606124 ,  0.11602577, -0.34298737,  0.02186507,\n",
       "              -0.44870048, -0.07481717,  0.14429801, -0.05701483,\n",
       "              -0.26346769, -0.35067699],\n",
       "             [-0.1606124 ,  0.11602577, -0.34298737,  0.02186507,\n",
       "              -0.44870048, -0.07481717,  0.14429801, -0.05701483,\n",
       "              -0.26346769, -0.35067699],\n",
       "             [-0.1606124 ,  0.11602577, -0.34298737,  0.02186507,\n",
       "              -0.44870048, -0.07481717,  0.14429801, -0.05701483,\n",
       "              -0.26346769, -0.35067699],\n",
       "             [-0.1606124 ,  0.11602577, -0.34298737,  0.02186507,\n",
       "              -0.44870048, -0.07481717,  0.14429801, -0.05701483,\n",
       "              -0.26346769, -0.35067699],\n",
       "             [-0.1606124 ,  0.11602577, -0.34298737,  0.02186507,\n",
       "              -0.44870048, -0.07481717,  0.14429801, -0.05701483,\n",
       "              -0.26346769, -0.35067699],\n",
       "             [-0.1606124 ,  0.11602577, -0.34298737,  0.02186507,\n",
       "              -0.44870048, -0.07481717,  0.14429801, -0.05701483,\n",
       "              -0.26346769, -0.35067699],\n",
       "             [-0.1606124 ,  0.11602577, -0.34298737,  0.02186507,\n",
       "              -0.44870048, -0.07481717,  0.14429801, -0.05701483,\n",
       "              -0.26346769, -0.35067699]], dtype=float64)"
      ]
     },
     "execution_count": 57,
     "metadata": {},
     "output_type": "execute_result"
    }
   ],
   "source": [
    "result"
   ]
  },
  {
   "cell_type": "code",
   "execution_count": 59,
   "metadata": {},
   "outputs": [
    {
     "name": "stderr",
     "output_type": "stream",
     "text": [
      "syft.core.node.new.user_code.SubmitUserCode\n",
      "syft.core.node.new.user_code.UserCode\n",
      "Ok(syft.core.node.new.user_code.UserCode)\n"
     ]
    },
    {
     "data": {
      "text/markdown": [
       "```python\n",
       "class Request:\n",
       "  id: str = 811ce4e7476f4484bc2a699c6470351a\n",
       "  requesting_user_verify_key: str = 05468a0e9ef46e660483f6898fdaf7d6680010aae20a3dd4d445f000a52729ed\n",
       "  approving_user_verify_key: str = None\n",
       "  request_time: str = 2023-04-13 07:47:37\n",
       "  approval_time: str = None\n",
       "  status: str = RequestStatus.PENDING\n",
       "  node_uid: str = 7bca415d13ed1ec841f0d0aede098dbb\n",
       "  request_hash: str = \"5f8e13853365dfda86102ee4a2abf8c946af8c7169e488780cc128b78b0fac16\"\n",
       "  changes: str = [syft.core.node.new.request.UserCodeStatusChange]\n",
       "\n",
       "```"
      ],
      "text/plain": [
       "syft.core.node.new.request.Request"
      ]
     },
     "execution_count": 59,
     "metadata": {},
     "output_type": "execute_result"
    }
   ],
   "source": [
    "guest_domain_client.api.services.code.request_code_execution(func)"
   ]
  }
 ],
 "metadata": {
  "kernelspec": {
   "display_name": "PySyft",
   "language": "python",
   "name": "python3"
  },
  "language_info": {
   "codemirror_mode": {
    "name": "ipython",
    "version": 3
   },
   "file_extension": ".py",
   "mimetype": "text/x-python",
   "name": "python",
   "nbconvert_exporter": "python",
   "pygments_lexer": "ipython3",
   "version": "3.10.4"
  },
  "orig_nbformat": 4
 },
 "nbformat": 4,
 "nbformat_minor": 2
}

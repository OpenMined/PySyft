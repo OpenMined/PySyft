{
 "cells": [
  {
   "cell_type": "code",
   "execution_count": 11,
   "id": "39ac81b7-c51a-4f38-bd5a-fcf52bf6d8cc",
   "metadata": {},
   "outputs": [],
   "source": [
    "# install syft if we are on google colab\n",
    "import sys, os; os.system(\"pip install 'git+https://github.com/OpenMined/PySyft@dev#egg=syft&subdirectory=packages/syft'\") if \"google.colab\" in sys.modules else \"\"\n",
    "import syft as sy"
   ]
  },
  {
   "cell_type": "code",
   "execution_count": 2,
   "id": "5f341209-b087-40e0-9405-72208b0a2163",
   "metadata": {},
   "outputs": [],
   "source": [
    "domains = {} # our logged in domain clients\n",
    "domain_credentials = set() # our set of domain credentials"
   ]
  },
  {
   "cell_type": "code",
   "execution_count": 3,
   "id": "043563d9-0566-466b-af81-aa63f7327629",
   "metadata": {},
   "outputs": [],
   "source": [
    "# enter the dict given from the data owner\n",
    "def add_credentials(credentials_dict):\n",
    "    fs = frozenset(credentials_dict.items())\n",
    "    domain_credentials.add(fs)"
   ]
  },
  {
   "cell_type": "code",
   "execution_count": 4,
   "id": "2f276285-b413-42c6-8620-e92d57954ecc",
   "metadata": {},
   "outputs": [],
   "source": [
    "add_credentials(\n",
    "    {'url': '52.157.8.193', 'name': 'Samantha Carter', 'email': 'sam@sg1.net', 'password': 'stargate'}\n",
    ")"
   ]
  },
  {
   "cell_type": "code",
   "execution_count": 5,
   "id": "9c1e6076-2922-407b-845e-6fa20481d088",
   "metadata": {},
   "outputs": [
    {
     "data": {
      "text/plain": [
       "{frozenset({('email', 'sam@sg1.net'),\n",
       "            ('name', 'Samantha Carter'),\n",
       "            ('password', 'stargate'),\n",
       "            ('url', '52.157.8.193')})}"
      ]
     },
     "execution_count": 5,
     "metadata": {},
     "output_type": "execute_result"
    }
   ],
   "source": [
    "domain_credentials"
   ]
  },
  {
   "cell_type": "code",
   "execution_count": 6,
   "id": "7ac6888e-cc6a-4e89-bdf3-fb8eb2418f89",
   "metadata": {},
   "outputs": [],
   "source": [
    "def login_to_domains(force: bool = False):\n",
    "    for fd in domain_credentials:\n",
    "        credentials = dict(fd)\n",
    "        if credentials[\"url\"] not in domains or force:\n",
    "            try:\n",
    "                details = credentials.copy()\n",
    "                del details[\"name\"]\n",
    "                client = sy.login(**details)\n",
    "                domains[credentials[\"url\"]] = client\n",
    "            except Exception as e:\n",
    "                print(e)"
   ]
  },
  {
   "cell_type": "code",
   "execution_count": 7,
   "id": "c433a592-62cd-4dce-8389-2907592c8e5e",
   "metadata": {},
   "outputs": [
    {
     "name": "stdout",
     "output_type": "stream",
     "text": [
      "Connecting to 52.157.8.193... done! \t Logging into modest_hutter... done!\n",
      "\n",
      "**Warning**: The syft version on your system and the node are different.\n",
      "Version on your system: 0.7.0-beta.9\n",
      "Version on the node: 0.7.0-beta.8\n",
      "\n"
     ]
    }
   ],
   "source": [
    "login_to_domains()"
   ]
  },
  {
   "cell_type": "code",
   "execution_count": 8,
   "id": "6e8da9a2-7c4d-41db-8c11-b40a6a8ac2e2",
   "metadata": {},
   "outputs": [
    {
     "data": {
      "text/plain": [
       "{'52.157.8.193': <DomainClient - modest_hutter: <UID: 451739f8fb054fab9c83f6422156481e>>}"
      ]
     },
     "execution_count": 8,
     "metadata": {},
     "output_type": "execute_result"
    }
   ],
   "source": [
    "domains"
   ]
  },
  {
   "cell_type": "code",
   "execution_count": 9,
   "id": "fc139e5b-a73d-4bf8-bc0f-9184e0aba7e4",
   "metadata": {},
   "outputs": [
    {
     "data": {
      "text/html": [
       "<div>\n",
       "<style scoped>\n",
       "    .dataframe tbody tr th:only-of-type {\n",
       "        vertical-align: middle;\n",
       "    }\n",
       "\n",
       "    .dataframe tbody tr th {\n",
       "        vertical-align: top;\n",
       "    }\n",
       "\n",
       "    .dataframe thead th {\n",
       "        text-align: right;\n",
       "    }\n",
       "</style>\n",
       "<table border=\"1\" class=\"dataframe\">\n",
       "  <thead>\n",
       "    <tr style=\"text-align: right;\">\n",
       "      <th></th>\n",
       "      <th>ID</th>\n",
       "      <th>Tags</th>\n",
       "      <th>Description</th>\n",
       "      <th>object_type</th>\n",
       "    </tr>\n",
       "  </thead>\n",
       "  <tbody>\n",
       "    <tr>\n",
       "      <th>0</th>\n",
       "      <td>&lt;UID: d39e8808c77644dc8d58a31b6e97d20b&gt;</td>\n",
       "      <td>[#tensor_1]</td>\n",
       "      <td></td>\n",
       "      <td>&lt;class 'syft.core.tensor.tensor.Tensor'&gt;</td>\n",
       "    </tr>\n",
       "  </tbody>\n",
       "</table>\n",
       "</div>"
      ],
      "text/plain": [
       "[array([0, 0, 0], dtype=int32)\n",
       "\n",
       " (The data printed above is synthetic - it's an imitation of the real data.)]"
      ]
     },
     "execution_count": 9,
     "metadata": {},
     "output_type": "execute_result"
    }
   ],
   "source": [
    "domains[\"52.157.8.193\"].store"
   ]
  },
  {
   "cell_type": "code",
   "execution_count": null,
   "id": "32af95ea-2781-487e-853a-b5f04e9b12cc",
   "metadata": {},
   "outputs": [],
   "source": []
  }
 ],
 "metadata": {
  "kernelspec": {
   "display_name": "Python 3 (ipykernel)",
   "language": "python",
   "name": "python3"
  },
  "language_info": {
   "codemirror_mode": {
    "name": "ipython",
    "version": 3
   },
   "file_extension": ".py",
   "mimetype": "text/x-python",
   "name": "python",
   "nbconvert_exporter": "python",
   "pygments_lexer": "ipython3",
   "version": "3.10.3"
  }
 },
 "nbformat": 4,
 "nbformat_minor": 5
}

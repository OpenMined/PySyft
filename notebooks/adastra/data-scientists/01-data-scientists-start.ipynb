{
 "cells": [
  {
   "cell_type": "code",
   "execution_count": null,
   "id": "39ac81b7-c51a-4f38-bd5a-fcf52bf6d8cc",
   "metadata": {},
   "outputs": [],
   "source": [
    "# install syft if we are on google colab\n",
    "import sys, os; os.system(\"pip install --pre syft\") if \"google.colab\" in sys.modules else \"\"\n",
    "import syft as sy\n",
    "print(f\"You're running syft version: {sy.__version__}\")"
   ]
  },
  {
   "cell_type": "code",
   "execution_count": null,
   "id": "5f341209-b087-40e0-9405-72208b0a2163",
   "metadata": {},
   "outputs": [],
   "source": [
    "domains = {} # our logged in domain clients\n",
    "domain_credentials = set() # our set of domain credentials"
   ]
  },
  {
   "cell_type": "code",
   "execution_count": null,
   "id": "043563d9-0566-466b-af81-aa63f7327629",
   "metadata": {},
   "outputs": [],
   "source": [
    "# enter the dict given from the data owner\n",
    "def add_credentials(credentials_dict):\n",
    "    fs = frozenset(credentials_dict.items())\n",
    "    domain_credentials.add(fs)"
   ]
  },
  {
   "cell_type": "code",
   "execution_count": null,
   "id": "2f276285-b413-42c6-8620-e92d57954ecc",
   "metadata": {},
   "outputs": [],
   "source": [
    "add_credentials(\n",
    "    {'url': '52.157.8.193', 'name': 'Samantha Carter', 'email': 'sam@sg1.net', 'password': 'stargate'}\n",
    ")"
   ]
  },
  {
   "cell_type": "code",
   "execution_count": null,
   "id": "9c1e6076-2922-407b-845e-6fa20481d088",
   "metadata": {},
   "outputs": [],
   "source": [
    "domain_credentials"
   ]
  },
  {
   "cell_type": "code",
   "execution_count": null,
   "id": "7ac6888e-cc6a-4e89-bdf3-fb8eb2418f89",
   "metadata": {},
   "outputs": [],
   "source": [
    "def login_to_domains(force: bool = False):\n",
    "    for fd in domain_credentials:\n",
    "        credentials = dict(fd)\n",
    "        if credentials[\"url\"] not in domains or force:\n",
    "            try:\n",
    "                details = credentials.copy()\n",
    "                del details[\"name\"]\n",
    "                client = sy.login(**details)\n",
    "                domains[credentials[\"url\"]] = client\n",
    "            except Exception as e:\n",
    "                print(e)"
   ]
  },
  {
   "cell_type": "code",
   "execution_count": null,
   "id": "c433a592-62cd-4dce-8389-2907592c8e5e",
   "metadata": {},
   "outputs": [],
   "source": [
    "login_to_domains()"
   ]
  },
  {
   "cell_type": "code",
   "execution_count": null,
   "id": "6e8da9a2-7c4d-41db-8c11-b40a6a8ac2e2",
   "metadata": {},
   "outputs": [],
   "source": [
    "domains"
   ]
  },
  {
   "cell_type": "code",
   "execution_count": null,
   "id": "fc139e5b-a73d-4bf8-bc0f-9184e0aba7e4",
   "metadata": {},
   "outputs": [],
   "source": [
    "domains[\"52.157.8.193\"].store"
   ]
  },
  {
   "cell_type": "code",
   "execution_count": null,
   "id": "32af95ea-2781-487e-853a-b5f04e9b12cc",
   "metadata": {},
   "outputs": [],
   "source": []
  }
 ],
 "metadata": {
  "kernelspec": {
   "display_name": "Python 3 (ipykernel)",
   "language": "python",
   "name": "python3"
  },
  "language_info": {
   "codemirror_mode": {
    "name": "ipython",
    "version": 3
   },
   "file_extension": ".py",
   "mimetype": "text/x-python",
   "name": "python",
   "nbconvert_exporter": "python",
   "pygments_lexer": "ipython3",
   "version": "3.10.3"
  }
 },
 "nbformat": 4,
 "nbformat_minor": 5
}

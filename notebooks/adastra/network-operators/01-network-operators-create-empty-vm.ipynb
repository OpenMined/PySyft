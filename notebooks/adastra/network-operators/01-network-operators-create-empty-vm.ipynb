{
 "cells": [
  {
   "cell_type": "markdown",
   "id": "4cfd6c5a-09bd-42e6-aba6-24971da44d99",
   "metadata": {},
   "source": [
    "# Create an empty Ubuntu VM on Azure"
   ]
  },
  {
   "cell_type": "markdown",
   "id": "6495454f-0cf2-4d21-8a60-d01ba9b67b88",
   "metadata": {},
   "source": [
    "Install HAGrid"
   ]
  },
  {
   "cell_type": "markdown",
   "id": "5597864f-3ab6-4957-8a57-f865200b8314",
   "metadata": {},
   "source": [
    "```\n",
    "pip install hagrid\n",
    "```"
   ]
  },
  {
   "cell_type": "markdown",
   "id": "1e32e1a3-59e0-45f1-bfa0-3d008ca7413e",
   "metadata": {},
   "source": [
    "__NOTE__: Just in case there are some issues with a VM we should provision are few extra, here we use node_count 12 for a session of 10 users"
   ]
  },
  {
   "cell_type": "markdown",
   "id": "c698bf82-4346-40a7-b618-db3a471768d1",
   "metadata": {},
   "source": [
    "Run hagrid launch with these arguments:"
   ]
  },
  {
   "cell_type": "markdown",
   "id": "cb74a71b-6d04-4c18-98dd-6ac3040cbfde",
   "metadata": {},
   "source": [
    "```\n",
    "hagrid launch to azure --image_name=domain_0.7.0 --jupyter --ansible_extras=\"install=false,aa_demo=true\" --node_count 12\n",
    "```"
   ]
  },
  {
   "cell_type": "markdown",
   "id": "abc09642-a3a6-4b3a-88ee-1489b90263b6",
   "metadata": {},
   "source": [
    "- Use a new unique resource group for this session like: aa-test-1\n",
    "- Choose the location where your demo participants will be located, e.g. `eastus`, `westus` etc\n",
    "- Choose an 8 core machine like `Standard_D8s_v3`\n",
    "- Set the username to `azureuser`\n",
    "- Choose password and then `n` to auto-generate password\n",
    "- Set an easy to remember 12 character password like: `Adastrademo2022`\n",
    "- What ever you enter into Repo and Branch will be ignored"
   ]
  },
  {
   "cell_type": "markdown",
   "id": "2e3a1002-a097-494c-81fd-daf6fe2bdb1d",
   "metadata": {},
   "source": [
    "![ip_address](img/hagrid_bare_vm.png)"
   ]
  },
  {
   "cell_type": "markdown",
   "id": "0788b388-01ea-4aee-b47d-ba2ad15ff6d5",
   "metadata": {},
   "source": [
    "After it is finished you should see this message"
   ]
  },
  {
   "cell_type": "markdown",
   "id": "57b64cff-f09f-4af5-81a7-10789cab991f",
   "metadata": {},
   "source": [
    "![ip_address](img/hagrid_bare_vm_output.png)"
   ]
  },
  {
   "cell_type": "markdown",
   "id": "cbd970a1-fa74-4928-9b72-5afcffcd8041",
   "metadata": {},
   "source": [
    "Now run this to get JSON containing the information for all the VMs:"
   ]
  },
  {
   "cell_type": "markdown",
   "id": "e62978aa-99e5-469c-b69a-ede97f17295c",
   "metadata": {},
   "source": [
    "```\n",
    "cat ~/.hagrid/host_ips.json\n",
    "```"
   ]
  },
  {
   "cell_type": "code",
   "execution_count": 26,
   "id": "187a4aa7",
   "metadata": {},
   "outputs": [],
   "source": [
    "import os\n",
    "import json\n",
    "\n",
    "# paste the path to host ip json here\n",
    "HOST_IP_PATH = \"~/.hagrid/host_ips.json\"\n",
    "HOST_IP_PATH = os.path.expanduser(HOST_IP_PATH)\n",
    "\n",
    "with open(HOST_IP_PATH) as fp:\n",
    "    host_ips = json.loads(fp.read())"
   ]
  },
  {
   "cell_type": "code",
   "execution_count": 27,
   "id": "e849c95e",
   "metadata": {},
   "outputs": [
    {
     "data": {
      "text/plain": [
       "{'host_ips': [{'username': 'azureuser',\n",
       "   'password': 'Adastrademo2022',\n",
       "   'ip_address': '20.85.154.5',\n",
       "   'jupyter_token': '4j9hyivb891xa1om1a7eictidqpkcr97nv61lm98arl4fnzw'},\n",
       "  {'username': 'azureuser',\n",
       "   'password': 'Adastrademo2022',\n",
       "   'ip_address': '20.85.152.129',\n",
       "   'jupyter_token': 'acam8h6pra828e0ytbumq6kqxgypnwne8i5bxv84wg0h26rb'},\n",
       "  {'username': 'azureuser',\n",
       "   'password': 'Adastrademo2022',\n",
       "   'ip_address': '20.85.153.12',\n",
       "   'jupyter_token': 'go5nxyz9a9tpsx2lydpte6na51w017brlcaby3t9k5hrytgd'},\n",
       "  {'username': 'azureuser',\n",
       "   'password': 'Adastrademo2022',\n",
       "   'ip_address': '20.85.153.137',\n",
       "   'jupyter_token': 'k180gkcod90qfca0fg3mq2xtclut3ka8doebw5jca5gjabo2'}]}"
      ]
     },
     "execution_count": 27,
     "metadata": {},
     "output_type": "execute_result"
    }
   ],
   "source": [
    "host_ips"
   ]
  },
  {
   "cell_type": "code",
   "execution_count": 28,
   "id": "a84951c8-0b81-4934-9887-8e0d1856b93f",
   "metadata": {},
   "outputs": [],
   "source": [
    "# update TOTAL_PARTICIPANTS\n",
    "# use the total participants not the total machines, e.g. 10 not 12\n",
    "# as this is used to calculate the data split assignment\n",
    "TOTAL_PARTICIPANTS = 10"
   ]
  },
  {
   "cell_type": "code",
   "execution_count": 29,
   "id": "735aa206-70c2-4204-adc5-e134bcb49c2d",
   "metadata": {},
   "outputs": [
    {
     "name": "stdout",
     "output_type": "stream",
     "text": [
      "Total participants: 4\n"
     ]
    }
   ],
   "source": [
    "# optionally add names or emails here which will be printed below to help keep track of assignment\n",
    "participants = [\n",
    "   \"Shubham\",\n",
    "   \"Madhava\"\n",
    "]\n",
    "\n",
    "assert len(participants) <= TOTAL_PARTICIPANTS, \"TOTAL_PARTICIPANTS should be less than or equal to the length of participant list\"\n",
    "print(\"Total participants:\", len(participants))"
   ]
  },
  {
   "cell_type": "markdown",
   "id": "393d5372",
   "metadata": {},
   "source": [
    "If you need to re-partition the MedNIST dataset and create new data subsets, switch to [prepare MedNIST dataset notebook](02-prepare-datasets-MedNIST.ipynb)."
   ]
  },
  {
   "cell_type": "code",
   "execution_count": 53,
   "id": "5d208c27",
   "metadata": {},
   "outputs": [],
   "source": [
    "import requests\n",
    "datasets =  [\"MedNIST\",\"TissueMNIST\"]\n",
    "curr_dataset_name = datasets[1]\n",
    "DATASET_INFO_FILEPATH = f\"https://raw.githubusercontent.com/OpenMined/datasets/main/{curr_dataset_name}/dataset.json\"\n",
    "\n",
    "def get_dataset_urls():\n",
    "    \n",
    "    data_subset_urls = []\n",
    "    \n",
    "    response = requests.get(DATASET_INFO_FILEPATH)\n",
    "    data_subset_info = response.json()\n",
    "    DATASET_REPO_URL = f\"https://raw.githubusercontent.com/OpenMined/datasets/main/{curr_dataset_name}/subsets/\"\n",
    "    \n",
    "    for dataset_name in data_subset_info.values():\n",
    "        url = DATASET_REPO_URL + dataset_name\n",
    "        data_subset_urls.append(url)\n",
    "        \n",
    "    return data_subset_urls"
   ]
  },
  {
   "cell_type": "code",
   "execution_count": 54,
   "id": "139da440-fa18-4c39-a451-647643930068",
   "metadata": {},
   "outputs": [],
   "source": [
    "def check_ip_port(host_ip: str, port: int) -> bool:\n",
    "    import socket\n",
    "    try:\n",
    "        sock = socket.socket(socket.AF_INET, socket.SOCK_STREAM)\n",
    "        sock.settimeout(2)\n",
    "        result = sock.connect_ex((host_ip, port))\n",
    "        sock.close()\n",
    "        if result == 0:\n",
    "            return True\n",
    "    except Exception:\n",
    "        pass\n",
    "    return False"
   ]
  },
  {
   "cell_type": "code",
   "execution_count": 55,
   "id": "db7499ee-c70e-40b7-babd-9c006a4af309",
   "metadata": {},
   "outputs": [],
   "source": [
    "def get_icon(status: bool) -> str:\n",
    "    return \"✅\" if status else \"❌\""
   ]
  },
  {
   "cell_type": "code",
   "execution_count": 56,
   "id": "3b67c540-1f37-4994-b144-402d5f602820",
   "metadata": {},
   "outputs": [],
   "source": [
    "def check_hosts_ready(host_ips: dict) -> None:\n",
    "    for host in host_ips[\"host_ips\"]:\n",
    "        print(\"-----------------------\")\n",
    "        host_ip = host[\"ip_address\"]\n",
    "        # make sure the containers are not running\n",
    "        http_up = check_ip_port(host_ip=host_ip, port=80)\n",
    "        print(f\"{get_icon(not http_up)} Containers Off {host_ip}:80\")\n",
    "        \n",
    "        # make sure jupyter notebooks is up\n",
    "        jupyter_up = check_ip_port(host_ip=host_ip, port=8888)\n",
    "        print(f\"{get_icon(jupyter_up)} Jupyter Up {host_ip}:8888\")\n",
    "        \n",
    "        # make sure SSH is up\n",
    "        ssh_up = check_ip_port(host_ip=host_ip, port=22)\n",
    "        print(f\"{get_icon(ssh_up)} SSH Up {host_ip}:22\")\n",
    "\n",
    "        print()\n",
    "        all_status = (not http_up) and jupyter_up and ssh_up\n",
    "        print(f\"{get_icon(all_status)} Node {host_ip} Ready!\")\n",
    "        print(\"-----------------------\")\n",
    "        print()"
   ]
  },
  {
   "cell_type": "code",
   "execution_count": 57,
   "id": "0a3daa70-c704-4861-bbf9-5e24501ee71a",
   "metadata": {},
   "outputs": [
    {
     "name": "stdout",
     "output_type": "stream",
     "text": [
      "-----------------------\n",
      "❌ Containers Off 20.85.154.5:80\n",
      "✅ Jupyter Up 20.85.154.5:8888\n",
      "✅ SSH Up 20.85.154.5:22\n",
      "\n",
      "❌ Node 20.85.154.5 Ready!\n",
      "-----------------------\n",
      "\n",
      "-----------------------\n",
      "✅ Containers Off 20.85.152.129:80\n",
      "✅ Jupyter Up 20.85.152.129:8888\n",
      "✅ SSH Up 20.85.152.129:22\n",
      "\n",
      "✅ Node 20.85.152.129 Ready!\n",
      "-----------------------\n",
      "\n",
      "-----------------------\n",
      "✅ Containers Off 20.85.153.12:80\n",
      "✅ Jupyter Up 20.85.153.12:8888\n",
      "✅ SSH Up 20.85.153.12:22\n",
      "\n",
      "✅ Node 20.85.153.12 Ready!\n",
      "-----------------------\n",
      "\n",
      "-----------------------\n",
      "✅ Containers Off 20.85.153.137:80\n",
      "✅ Jupyter Up 20.85.153.137:8888\n",
      "✅ SSH Up 20.85.153.137:22\n",
      "\n",
      "✅ Node 20.85.153.137 Ready!\n",
      "-----------------------\n",
      "\n"
     ]
    }
   ],
   "source": [
    "check_hosts_ready(host_ips)"
   ]
  },
  {
   "cell_type": "code",
   "execution_count": 58,
   "id": "dcf677a0-967f-4202-8584-8003c11e9da7",
   "metadata": {},
   "outputs": [],
   "source": [
    "def output_user_details(host_ips: dict, participants: list[str] = []) -> None:\n",
    "    notebook_path = \"adastra/data-owners/data-owners-presentation.ipynb\"\n",
    "    print(\"===============================\")\n",
    "    print(\"Ad Astra Demo 1\")\n",
    "    print(\"===============================\")\n",
    "    print()\n",
    "    print(\"Send to each participant\")\n",
    "    print()\n",
    "    if TOTAL_PARTICIPANTS > len(host_ips[\"host_ips\"]):\n",
    "        raise Exception(\n",
    "            f\"TOTAL_PARTICIPANTS: {TOTAL_PARTICIPANTS} is less than VM count: {len(host_ips['host_ips'])}\"\n",
    "        )\n",
    "    partition = 0\n",
    "    dataset_urls = get_dataset_urls()\n",
    "    num_of_urls = len(dataset_urls)\n",
    "    for host in host_ips[\"host_ips\"]:\n",
    "        partition += 1\n",
    "        if partition <= len(participants):\n",
    "            print(f\"Hi {participants[partition - 1]},\")\n",
    "        if partition <= TOTAL_PARTICIPANTS:\n",
    "            print(\"These are your Session Details:\")\n",
    "        else:\n",
    "            print(\"Spare Session Details:\")\n",
    "        print(\"-------------------------------\")\n",
    "        print(f\"VM Username: {host['username']}\")\n",
    "        print(f\"VM Password: {host['password']}\")\n",
    "        print(f\"VM IP Address: {host['ip_address']}\")\n",
    "        print(f\"📎 MY_DATASET_URL:\\n{dataset_urls[partition%num_of_urls]}\")\n",
    "\n",
    "        print()\n",
    "        print(f\"👉🏽 Start Here:\")\n",
    "        print(\n",
    "            f\"http://{host['ip_address']}:8888/lab/tree/notebooks/{notebook_path}\"\n",
    "            f\"?token={host['jupyter_token']}\"\n",
    "        )\n",
    "        print()"
   ]
  },
  {
   "cell_type": "code",
   "execution_count": 59,
   "id": "1bf67dae-b4c3-4202-bfe7-db511c5f03a8",
   "metadata": {},
   "outputs": [
    {
     "name": "stdout",
     "output_type": "stream",
     "text": [
      "===============================\n",
      "Ad Astra Demo 1\n",
      "===============================\n",
      "\n",
      "Send to each participant\n",
      "\n",
      "Hi Teo,\n",
      "These are your Session Details:\n",
      "-------------------------------\n",
      "VM Username: azureuser\n",
      "VM Password: Adastrademo2022\n",
      "VM IP Address: 20.85.154.5\n",
      "📎 MY_DATASET_URL:\n",
      "https://raw.githubusercontent.com/OpenMined/datasets/main/TissueMNIST/subsets/TissueMNIST-1ffc51892957453e908919645da3ea90.pkl\n",
      "\n",
      "👉🏽 Start Here:\n",
      "http://20.85.154.5:8888/lab/tree/notebooks/adastra/data-owners/data-owners-presentation.ipynb?token=4j9hyivb891xa1om1a7eictidqpkcr97nv61lm98arl4fnzw\n",
      "\n",
      "Hi Ruchi,\n",
      "These are your Session Details:\n",
      "-------------------------------\n",
      "VM Username: azureuser\n",
      "VM Password: Adastrademo2022\n",
      "VM IP Address: 20.85.152.129\n",
      "📎 MY_DATASET_URL:\n",
      "https://raw.githubusercontent.com/OpenMined/datasets/main/TissueMNIST/subsets/TissueMNIST-551b7b7265d84bfd8dea36476a7e77f6.pkl\n",
      "\n",
      "👉🏽 Start Here:\n",
      "http://20.85.152.129:8888/lab/tree/notebooks/adastra/data-owners/data-owners-presentation.ipynb?token=acam8h6pra828e0ytbumq6kqxgypnwne8i5bxv84wg0h26rb\n",
      "\n",
      "Hi Kyoko,\n",
      "These are your Session Details:\n",
      "-------------------------------\n",
      "VM Username: azureuser\n",
      "VM Password: Adastrademo2022\n",
      "VM IP Address: 20.85.153.12\n",
      "📎 MY_DATASET_URL:\n",
      "https://raw.githubusercontent.com/OpenMined/datasets/main/TissueMNIST/subsets/TissueMNIST-da94b910ad0e41c79c8a41993d61a1da.pkl\n",
      "\n",
      "👉🏽 Start Here:\n",
      "http://20.85.153.12:8888/lab/tree/notebooks/adastra/data-owners/data-owners-presentation.ipynb?token=go5nxyz9a9tpsx2lydpte6na51w017brlcaby3t9k5hrytgd\n",
      "\n",
      "Hi Ivy,\n",
      "These are your Session Details:\n",
      "-------------------------------\n",
      "VM Username: azureuser\n",
      "VM Password: Adastrademo2022\n",
      "VM IP Address: 20.85.153.137\n",
      "📎 MY_DATASET_URL:\n",
      "https://raw.githubusercontent.com/OpenMined/datasets/main/TissueMNIST/subsets/TissueMNIST-a0cf7a7eccb1499295144380f7e42ce9.pkl\n",
      "\n",
      "👉🏽 Start Here:\n",
      "http://20.85.153.137:8888/lab/tree/notebooks/adastra/data-owners/data-owners-presentation.ipynb?token=k180gkcod90qfca0fg3mq2xtclut3ka8doebw5jca5gjabo2\n",
      "\n"
     ]
    }
   ],
   "source": [
    "output_user_details(host_ips, participants)"
   ]
  },
  {
   "cell_type": "code",
   "execution_count": null,
   "id": "e6161423",
   "metadata": {},
   "outputs": [],
   "source": []
  }
 ],
 "metadata": {
  "interpreter": {
   "hash": "630449982b6186a6531308cd76ed4d510e9db65154e43844c2906c6a20ad2a6d"
  },
  "kernelspec": {
   "display_name": "Python 3.9.4 64-bit ('python39-2vM0bQN-': pipenv)",
   "name": "python3"
  },
  "language_info": {
   "codemirror_mode": {
    "name": "ipython",
    "version": 3
   },
   "file_extension": ".py",
   "mimetype": "text/x-python",
   "name": "python",
   "nbconvert_exporter": "python",
   "pygments_lexer": "ipython3",
   "version": "3.9.4"
  }
 },
 "nbformat": 4,
 "nbformat_minor": 5
}

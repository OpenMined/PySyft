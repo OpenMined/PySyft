{
 "cells": [
  {
   "cell_type": "markdown",
   "id": "4cfd6c5a-09bd-42e6-aba6-24971da44d99",
   "metadata": {},
   "source": [
    "# Create an empty Ubuntu VM on Azure"
   ]
  },
  {
   "cell_type": "markdown",
   "id": "6495454f-0cf2-4d21-8a60-d01ba9b67b88",
   "metadata": {},
   "source": [
    "Install HAGrid"
   ]
  },
  {
   "cell_type": "markdown",
   "id": "5597864f-3ab6-4957-8a57-f865200b8314",
   "metadata": {},
   "source": [
    "```\n",
    "$ pip install hagrid\n",
    "```"
   ]
  },
  {
   "cell_type": "markdown",
   "id": "1e32e1a3-59e0-45f1-bfa0-3d008ca7413e",
   "metadata": {},
   "source": [
    "__NOTE__: Just in case there are some issues with a VM we should provision are few extra, here we use node_count 12 for a session of 10 users"
   ]
  },
  {
   "cell_type": "markdown",
   "id": "c698bf82-4346-40a7-b618-db3a471768d1",
   "metadata": {},
   "source": [
    "Run hagrid launch with these arguments:"
   ]
  },
  {
   "cell_type": "markdown",
   "id": "cb74a71b-6d04-4c18-98dd-6ac3040cbfde",
   "metadata": {},
   "source": [
    "```\n",
    "$ hagrid launch to azure --image_name=domain_0.7.0 --jupyter --ansible_extras=\"install=false\" --node_count 12\n",
    "```"
   ]
  },
  {
   "cell_type": "markdown",
   "id": "9b9b88b0-94ea-4d6d-ad4f-4b0b06d4f349",
   "metadata": {},
   "source": [
    "What ever you enter into Repo and Branch will be ignored"
   ]
  },
  {
   "cell_type": "markdown",
   "id": "2e3a1002-a097-494c-81fd-daf6fe2bdb1d",
   "metadata": {},
   "source": [
    "![ip_address](img/hagrid_bare_vm.png)"
   ]
  },
  {
   "cell_type": "markdown",
   "id": "0788b388-01ea-4aee-b47d-ba2ad15ff6d5",
   "metadata": {},
   "source": [
    "After it is finished you should see this message"
   ]
  },
  {
   "cell_type": "markdown",
   "id": "57b64cff-f09f-4af5-81a7-10789cab991f",
   "metadata": {},
   "source": [
    "![ip_address](img/hagrid_bare_vm_output.png)"
   ]
  },
  {
   "cell_type": "markdown",
   "id": "cbd970a1-fa74-4928-9b72-5afcffcd8041",
   "metadata": {},
   "source": [
    "Now run this to get JSON containing the information for all the VMs:"
   ]
  },
  {
   "cell_type": "markdown",
   "id": "e62978aa-99e5-469c-b69a-ede97f17295c",
   "metadata": {},
   "source": [
    "```\n",
    "$ cat ~/.hagrid/host_ips.json\n",
    "```"
   ]
  },
  {
   "cell_type": "code",
   "execution_count": 7,
   "id": "187a4aa7",
   "metadata": {},
   "outputs": [],
   "source": [
    "import os\n",
    "import json\n",
    "\n",
    "# paste the path to host ip json here\n",
    "HOST_IP_PATH = \"~/.hagrid/host_ips.json\"\n",
    "HOST_IP_PATH = os.path.expanduser(HOST_IP_PATH)\n",
    "\n",
    "with open(HOST_IP_PATH) as fp:\n",
    "    host_ips = json.loads(fp.read())"
   ]
  },
  {
   "cell_type": "code",
   "execution_count": 8,
   "id": "e849c95e",
   "metadata": {},
   "outputs": [
    {
     "data": {
      "text/plain": [
       "{'host_ips': [{'username': 'azureuser',\n",
       "   'password': ')!%IW+*1yvueE9U8',\n",
       "   'ip_address': '20.66.107.124',\n",
       "   'jupyter_token': '5nhpot6k1uzzd02mwrawywamc6vmkynpylo0l86c8e4hv708'},\n",
       "  {'username': 'azureuser',\n",
       "   'password': ')!%IW+*1yvueE9U8',\n",
       "   'ip_address': '20.245.75.55',\n",
       "   'jupyter_token': 'jfk6c76vz0mt9svqtjezxpdqzssoaks47jblybjgh85wyre2'},\n",
       "  {'username': 'azureuser',\n",
       "   'password': ')!%IW+*1yvueE9U8',\n",
       "   'ip_address': '20.245.75.78',\n",
       "   'jupyter_token': '5twgz5m1yf3fsav7rq2xdrcknjyr2l3tebqoxexip5nolyyl'},\n",
       "  {'username': 'azureuser',\n",
       "   'password': ')!%IW+*1yvueE9U8',\n",
       "   'ip_address': '20.66.104.212',\n",
       "   'jupyter_token': 'b4w4ccmxrx18i5m1g7wfsuc480s1p94cni3djd952fedrt3c'},\n",
       "  {'username': 'azureuser',\n",
       "   'password': ')!%IW+*1yvueE9U8',\n",
       "   'ip_address': '20.245.75.77',\n",
       "   'jupyter_token': 'f7e245ukd2ieh9zeuqmji65ddyid32z5fdnvw8c85x9c7k3x'},\n",
       "  {'username': 'azureuser',\n",
       "   'password': ')!%IW+*1yvueE9U8',\n",
       "   'ip_address': '20.245.75.79',\n",
       "   'jupyter_token': '7myi5231sv9zcf2trhpf8okzxkr4wu3ryel6fa2oai4msis7'},\n",
       "  {'username': 'azureuser',\n",
       "   'password': ')!%IW+*1yvueE9U8',\n",
       "   'ip_address': '20.245.75.54',\n",
       "   'jupyter_token': 'z9zrnrusbs4zdtiq1asx6tpsdggpa3fenxjl4p8qpdudtrbo'},\n",
       "  {'username': 'azureuser',\n",
       "   'password': ')!%IW+*1yvueE9U8',\n",
       "   'ip_address': '20.245.73.224',\n",
       "   'jupyter_token': 'qjmn1mx2palq4m32axzso5xu0l4vu0n51tq58pou4cq42sll'},\n",
       "  {'username': 'azureuser',\n",
       "   'password': ')!%IW+*1yvueE9U8',\n",
       "   'ip_address': '20.66.104.209',\n",
       "   'jupyter_token': '74d53z8qrieb3rikvswj0fnf3hi5xejalqybdeg92v34u3ix'},\n",
       "  {'username': 'azureuser',\n",
       "   'password': ')!%IW+*1yvueE9U8',\n",
       "   'ip_address': '20.245.75.133',\n",
       "   'jupyter_token': '6v2go4eahuev8hekgkqqc8tsovbcr44uv6z762mrmgnse4b9'},\n",
       "  {'username': 'azureuser',\n",
       "   'password': ')!%IW+*1yvueE9U8',\n",
       "   'ip_address': '20.245.75.132',\n",
       "   'jupyter_token': '1g85ixd5lkk5z5up1b3d3zhv7qbniimz3ltu56s904xckmu7'},\n",
       "  {'username': 'azureuser',\n",
       "   'password': ')!%IW+*1yvueE9U8',\n",
       "   'ip_address': '20.245.75.76',\n",
       "   'jupyter_token': '01sccqclw7qw772eiju8n9tsk82qo12qz00kynf1w3feinic'}]}"
      ]
     },
     "execution_count": 8,
     "metadata": {},
     "output_type": "execute_result"
    }
   ],
   "source": [
    "host_ips"
   ]
  },
  {
   "cell_type": "code",
   "execution_count": 9,
   "id": "a84951c8-0b81-4934-9887-8e0d1856b93f",
   "metadata": {},
   "outputs": [],
   "source": [
    "# update TOTAL_PARTICIPANTS\n",
    "# use the total participants not the total machines, e.g. 10 not 12\n",
    "# as this is used to calculate the data split assignment\n",
    "TOTAL_PARTICIPANTS = 10"
   ]
  },
  {
   "cell_type": "code",
   "execution_count": 12,
   "id": "735aa206-70c2-4204-adc5-e134bcb49c2d",
   "metadata": {},
   "outputs": [
    {
     "name": "stdout",
     "output_type": "stream",
     "text": [
      "Total participants: 10\n"
     ]
    }
   ],
   "source": [
    "# optionally add names or emails here which will be printed below to help keep track of assignment\n",
    "participants = [\n",
    "    \"Teo\",\n",
    "    \"Ruchi\",\n",
    "    \"Kyoko\",\n",
    "    \"Ivy\",\n",
    "    \"Shubham\",\n",
    "    \"Irina\",\n",
    "    \"Laura\",\n",
    "    \"Ionesio\",\n",
    "    \"Ronnie\",\n",
    "    \"Rasswanth\"\n",
    "]\n",
    "print(\"Total participants:\", len(participants))"
   ]
  },
  {
   "cell_type": "code",
   "execution_count": 13,
   "id": "139da440-fa18-4c39-a451-647643930068",
   "metadata": {},
   "outputs": [],
   "source": [
    "def check_ip_port(host_ip: str, port: int) -> bool:\n",
    "    import socket\n",
    "    try:\n",
    "        sock = socket.socket(socket.AF_INET, socket.SOCK_STREAM)\n",
    "        sock.settimeout(2)\n",
    "        result = sock.connect_ex((host_ip, port))\n",
    "        sock.close()\n",
    "        if result == 0:\n",
    "            return True\n",
    "    except Exception:\n",
    "        pass\n",
    "    return False"
   ]
  },
  {
   "cell_type": "code",
   "execution_count": 14,
   "id": "db7499ee-c70e-40b7-babd-9c006a4af309",
   "metadata": {},
   "outputs": [],
   "source": [
    "def get_icon(status: bool) -> str:\n",
    "    return \"✅\" if status else \"❌\""
   ]
  },
  {
   "cell_type": "code",
   "execution_count": 15,
   "id": "3b67c540-1f37-4994-b144-402d5f602820",
   "metadata": {},
   "outputs": [],
   "source": [
    "def check_hosts_ready(host_ips: dict) -> None:\n",
    "    for host in host_ips[\"host_ips\"]:\n",
    "        print(\"-----------------------\")\n",
    "        host_ip = host[\"ip_address\"]\n",
    "        # make sure the containers are not running\n",
    "        http_up = check_ip_port(host_ip=host_ip, port=80)\n",
    "        print(f\"{get_icon(not http_up)} Containers Off {host_ip}:80\")\n",
    "        \n",
    "        # make sure jupyter notebooks is up\n",
    "        jupyter_up = check_ip_port(host_ip=host_ip, port=8888)\n",
    "        print(f\"{get_icon(jupyter_up)} Jupyter Up {host_ip}:8888\")\n",
    "        \n",
    "        # make sure SSH is up\n",
    "        ssh_up = check_ip_port(host_ip=host_ip, port=22)\n",
    "        print(f\"{get_icon(ssh_up)} SSH Up {host_ip}:22\")\n",
    "\n",
    "        print()\n",
    "        all_status = (not http_up) and jupyter_up and ssh_up\n",
    "        print(f\"{get_icon(all_status)} Node {host_ip} Ready!\")\n",
    "        print(\"-----------------------\")\n",
    "        print()"
   ]
  },
  {
   "cell_type": "code",
   "execution_count": 19,
   "id": "0a3daa70-c704-4861-bbf9-5e24501ee71a",
   "metadata": {},
   "outputs": [
    {
     "name": "stdout",
     "output_type": "stream",
     "text": [
      "-----------------------\n",
      "❌ Containers Off 20.66.107.124:80\n",
      "✅ Jupyter Up 20.66.107.124:8888\n",
      "✅ SSH Up 20.66.107.124:22\n",
      "\n",
      "❌ Node 20.66.107.124 Ready!\n",
      "-----------------------\n",
      "\n",
      "-----------------------\n",
      "❌ Containers Off 20.245.75.55:80\n",
      "✅ Jupyter Up 20.245.75.55:8888\n",
      "✅ SSH Up 20.245.75.55:22\n",
      "\n",
      "❌ Node 20.245.75.55 Ready!\n",
      "-----------------------\n",
      "\n",
      "-----------------------\n",
      "❌ Containers Off 20.245.75.78:80\n",
      "✅ Jupyter Up 20.245.75.78:8888\n",
      "✅ SSH Up 20.245.75.78:22\n",
      "\n",
      "❌ Node 20.245.75.78 Ready!\n",
      "-----------------------\n",
      "\n",
      "-----------------------\n",
      "❌ Containers Off 20.66.104.212:80\n",
      "✅ Jupyter Up 20.66.104.212:8888\n",
      "✅ SSH Up 20.66.104.212:22\n",
      "\n",
      "❌ Node 20.66.104.212 Ready!\n",
      "-----------------------\n",
      "\n",
      "-----------------------\n",
      "❌ Containers Off 20.245.75.77:80\n",
      "✅ Jupyter Up 20.245.75.77:8888\n",
      "✅ SSH Up 20.245.75.77:22\n",
      "\n",
      "❌ Node 20.245.75.77 Ready!\n",
      "-----------------------\n",
      "\n",
      "-----------------------\n",
      "❌ Containers Off 20.245.75.79:80\n",
      "✅ Jupyter Up 20.245.75.79:8888\n",
      "✅ SSH Up 20.245.75.79:22\n",
      "\n",
      "❌ Node 20.245.75.79 Ready!\n",
      "-----------------------\n",
      "\n",
      "-----------------------\n",
      "❌ Containers Off 20.245.75.54:80\n",
      "✅ Jupyter Up 20.245.75.54:8888\n",
      "✅ SSH Up 20.245.75.54:22\n",
      "\n",
      "❌ Node 20.245.75.54 Ready!\n",
      "-----------------------\n",
      "\n",
      "-----------------------\n",
      "❌ Containers Off 20.245.73.224:80\n",
      "✅ Jupyter Up 20.245.73.224:8888\n",
      "✅ SSH Up 20.245.73.224:22\n",
      "\n",
      "❌ Node 20.245.73.224 Ready!\n",
      "-----------------------\n",
      "\n",
      "-----------------------\n",
      "❌ Containers Off 20.66.104.209:80\n",
      "✅ Jupyter Up 20.66.104.209:8888\n",
      "✅ SSH Up 20.66.104.209:22\n",
      "\n",
      "❌ Node 20.66.104.209 Ready!\n",
      "-----------------------\n",
      "\n",
      "-----------------------\n",
      "❌ Containers Off 20.245.75.133:80\n",
      "✅ Jupyter Up 20.245.75.133:8888\n",
      "✅ SSH Up 20.245.75.133:22\n",
      "\n",
      "❌ Node 20.245.75.133 Ready!\n",
      "-----------------------\n",
      "\n",
      "-----------------------\n",
      "❌ Containers Off 20.245.75.132:80\n",
      "✅ Jupyter Up 20.245.75.132:8888\n",
      "✅ SSH Up 20.245.75.132:22\n",
      "\n",
      "❌ Node 20.245.75.132 Ready!\n",
      "-----------------------\n",
      "\n",
      "-----------------------\n",
      "❌ Containers Off 20.245.75.76:80\n",
      "✅ Jupyter Up 20.245.75.76:8888\n",
      "✅ SSH Up 20.245.75.76:22\n",
      "\n",
      "❌ Node 20.245.75.76 Ready!\n",
      "-----------------------\n",
      "\n"
     ]
    }
   ],
   "source": [
    "check_hosts_ready(host_ips)"
   ]
  },
  {
   "cell_type": "code",
   "execution_count": 8,
   "id": "dcf677a0-967f-4202-8584-8003c11e9da7",
   "metadata": {},
   "outputs": [],
   "source": [
    "def output_user_details(host_ips: dict, participants: list[str] = []) -> None:\n",
    "    notebook_path = \"adastra/data-owners/00-data-owners-create-domain.ipynb\"\n",
    "    print(\"===============================\")\n",
    "    print(\"Ad Astra 🚀🌌\")\n",
    "    print(\"===============================\")\n",
    "    print()\n",
    "    print(\"Send to each participant\")\n",
    "    print()\n",
    "    if TOTAL_PARTICIPANTS > len(host_ips[\"host_ips\"]):\n",
    "        raise Exception(f\"TOTAL_PARTICIPANTS: {TOTAL_PARTICIPANTS} is less than VM count: {len(host_ips['host_ips'])}\")\n",
    "    partition = 0\n",
    "    for host in host_ips[\"host_ips\"]:\n",
    "        partition += 1\n",
    "        if partition <= len(participants):\n",
    "            print(f\"Hi {participants[partition - 1]},\")\n",
    "        if partition <= TOTAL_PARTICIPANTS:\n",
    "            print(\"These are your Session Details:\")\n",
    "        else:\n",
    "            print(\"Spare Session Details:\")\n",
    "        print(\"-------------------------------\")\n",
    "        print(f\"Username: {host['username']}\")\n",
    "        print(f\"Password: {host['password']}\")\n",
    "        print(f\"VM IP Address: {host['ip_address']}\")\n",
    "        if partition <= TOTAL_PARTICIPANTS:\n",
    "            print()\n",
    "            print(f\"MY_PARTICIPANT_NUMBER={partition}\")\n",
    "            print(f\"TOTAL_PARTICIPANTS={TOTAL_PARTICIPANTS}\")\n",
    "\n",
    "        print()\n",
    "        print(f\"👉🏽 Start Here:\")\n",
    "        print(\n",
    "            f\"http://{host['ip_address']}:8888/lab/tree/notebooks/{notebook_path}\"\n",
    "            f\"?token={host['jupyter_token']}\"\n",
    "        )\n",
    "        print()"
   ]
  },
  {
   "cell_type": "code",
   "execution_count": 9,
   "id": "1bf67dae-b4c3-4202-bfe7-db511c5f03a8",
   "metadata": {},
   "outputs": [
    {
     "name": "stdout",
     "output_type": "stream",
     "text": [
      "===============================\n",
      "Ad Astra 🚀🌌\n",
      "===============================\n",
      "\n",
      "Send to each participant\n",
      "\n",
      "Hi Andrew,\n",
      "These are your Session Details:\n",
      "-------------------------------\n",
      "Username: azureuser\n",
      "Password: ewwAVCwn*I_XJhy8\n",
      "VM IP Address: 20.228.100.98\n",
      "\n",
      "MY_PARTICIPANT_NUMBER=1\n",
      "TOTAL_PARTICIPANTS=2\n",
      "\n",
      "👉🏽 Start Here:\n",
      "http://20.228.100.98:8888/lab/tree/notebooks/adastra/data-owners/00-data-owners-create-domain.ipynb?token=rwxl7mkbgn4an2soi0zktesshljcv03evgfkhjtkmrxwaifn\n",
      "\n",
      "These are your Session Details:\n",
      "-------------------------------\n",
      "Username: azureuser\n",
      "Password: ewwAVCwn*I_XJhy8\n",
      "VM IP Address: 20.228.100.99\n",
      "\n",
      "MY_PARTICIPANT_NUMBER=2\n",
      "TOTAL_PARTICIPANTS=2\n",
      "\n",
      "👉🏽 Start Here:\n",
      "http://20.228.100.99:8888/lab/tree/notebooks/adastra/data-owners/00-data-owners-create-domain.ipynb?token=y83at4izkwus70mpi0sbawi92tk5xwq2ddwodh7rp42eyu5m\n",
      "\n"
     ]
    }
   ],
   "source": [
    "output_user_details(host_ips, participants)"
   ]
  }
 ],
 "metadata": {
  "kernelspec": {
   "display_name": "Python 3 (ipykernel)",
   "language": "python",
   "name": "python3"
  },
  "language_info": {
   "codemirror_mode": {
    "name": "ipython",
    "version": 3
   },
   "file_extension": ".py",
   "mimetype": "text/x-python",
   "name": "python",
   "nbconvert_exporter": "python",
   "pygments_lexer": "ipython3",
   "version": "3.9.7"
  }
 },
 "nbformat": 4,
 "nbformat_minor": 5
}

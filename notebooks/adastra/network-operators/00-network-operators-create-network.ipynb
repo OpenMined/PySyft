{
 "cells": [
  {
   "cell_type": "markdown",
   "id": "a0347f6f-c74a-441f-aa91-82111f4b5481",
   "metadata": {},
   "source": [
    "# Create Network Node"
   ]
  },
  {
   "cell_type": "markdown",
   "id": "8f461b13-ef30-4f55-8b16-2786d963c731",
   "metadata": {},
   "source": [
    "## Create Network Node on Azure with HAGrid"
   ]
  },
  {
   "cell_type": "markdown",
   "id": "f52e90ac-2a2b-47ad-bcf3-128016f6f878",
   "metadata": {},
   "source": [
    "```\n",
    "hagrid launch network to azure --image_name=domain_0.7.0\n",
    "```"
   ]
  },
  {
   "cell_type": "markdown",
   "id": "21c0f65f-8e3f-4d32-acf8-334a68b1a26c",
   "metadata": {},
   "source": [
    "Provide the IP of the Network Node to the Data Owners in this format so they can paste into their notebooks:\n",
    "```\n",
    "NETWORK_IP=\"x.x.x.x\"\n",
    "```"
   ]
  },
  {
   "cell_type": "code",
   "execution_count": 1,
   "id": "b00e0ebf-1465-47ff-b03d-f6a2fe6d9068",
   "metadata": {},
   "outputs": [],
   "source": [
    "NETWORK_IP=\"20.237.138.211\""
   ]
  },
  {
   "cell_type": "markdown",
   "id": "f163a6ff-4204-4ca0-8bc8-e53f19089b61",
   "metadata": {},
   "source": [
    "## Add Network to NetworkRegistry"
   ]
  },
  {
   "cell_type": "code",
   "execution_count": 2,
   "id": "c49d0ef2-4bd5-4bf5-86ba-ced9a68a33a0",
   "metadata": {},
   "outputs": [],
   "source": [
    "# install syft if we are on google colab\n",
    "import sys, os; os.system(\"pip install --pre syft\") if \"google.colab\" in sys.modules else \"\"\n",
    "import syft as sy"
   ]
  },
  {
   "cell_type": "code",
   "execution_count": 3,
   "id": "b6e06222-ece1-4de7-842f-d637c6b8cd9d",
   "metadata": {},
   "outputs": [],
   "source": [
    "# you can also add this network to the network registry to make it easier for the participants"
   ]
  },
  {
   "cell_type": "code",
   "execution_count": 4,
   "id": "fe56be55-f5e0-4ac7-b93e-cf0f95a836c6",
   "metadata": {},
   "outputs": [
    {
     "name": "stdout",
     "output_type": "stream",
     "text": [
      "https://github.com/OpenMined/NetworkRegistry\n"
     ]
    }
   ],
   "source": [
    "print(\"https://github.com/OpenMined/NetworkRegistry\")"
   ]
  },
  {
   "cell_type": "code",
   "execution_count": 5,
   "id": "ae109695-67d0-4dfb-a232-55d9b7db4730",
   "metadata": {},
   "outputs": [
    {
     "name": "stdout",
     "output_type": "stream",
     "text": [
      "                                             "
     ]
    },
    {
     "data": {
      "text/html": [
       "<div>\n",
       "<style scoped>\n",
       "    .dataframe tbody tr th:only-of-type {\n",
       "        vertical-align: middle;\n",
       "    }\n",
       "\n",
       "    .dataframe tbody tr th {\n",
       "        vertical-align: top;\n",
       "    }\n",
       "\n",
       "    .dataframe thead th {\n",
       "        text-align: right;\n",
       "    }\n",
       "</style>\n",
       "<table border=\"1\" class=\"dataframe\">\n",
       "  <thead>\n",
       "    <tr style=\"text-align: right;\">\n",
       "      <th></th>\n",
       "      <th>name</th>\n",
       "      <th>host_or_ip</th>\n",
       "      <th>vpn_host_or_ip</th>\n",
       "      <th>protocol</th>\n",
       "      <th>port</th>\n",
       "      <th>admin_email</th>\n",
       "      <th>website</th>\n",
       "      <th>slack</th>\n",
       "      <th>slack_channel</th>\n",
       "    </tr>\n",
       "  </thead>\n",
       "  <tbody>\n",
       "    <tr>\n",
       "      <th>0</th>\n",
       "      <td>opengrid</td>\n",
       "      <td>40.83.192.48</td>\n",
       "      <td>100.64.0.1</td>\n",
       "      <td>http</td>\n",
       "      <td>80</td>\n",
       "      <td>support@openmined.org</td>\n",
       "      <td>https://www.openmined.org/</td>\n",
       "      <td>https://slack.openmined.org/</td>\n",
       "      <td>opengrid</td>\n",
       "    </tr>\n",
       "    <tr>\n",
       "      <th>1</th>\n",
       "      <td>Ad Astra 🚀🌌</td>\n",
       "      <td>20.237.138.211</td>\n",
       "      <td>100.64.0.1</td>\n",
       "      <td>http</td>\n",
       "      <td>80</td>\n",
       "      <td>support@openmined.org</td>\n",
       "      <td>https://www.governance.ai/</td>\n",
       "      <td>https://slack.openmined.org/</td>\n",
       "      <td>adastra</td>\n",
       "    </tr>\n",
       "  </tbody>\n",
       "</table>\n",
       "</div>"
      ],
      "text/plain": [
       "<syft.registry.NetworkRegistry at 0x150e7a2f0>"
      ]
     },
     "execution_count": 5,
     "metadata": {},
     "output_type": "execute_result"
    }
   ],
   "source": [
    "sy.networks"
   ]
  },
  {
   "cell_type": "code",
   "execution_count": 6,
   "id": "8dd9da55-1f42-4b34-8288-269cbb8664d8",
   "metadata": {},
   "outputs": [],
   "source": [
    "ADMIN_EMAIL=\"info@openmined.org\"\n",
    "ADMIN_PASSWORD=\"changethis\""
   ]
  },
  {
   "cell_type": "code",
   "execution_count": 7,
   "id": "789cf254-75f9-4a45-84ea-3b9788fc428e",
   "metadata": {},
   "outputs": [
    {
     "name": "stdout",
     "output_type": "stream",
     "text": [
      "WARNING: CHANGE YOUR USERNAME AND PASSWORD!!! \n",
      "\n",
      "Anyone can login as an admin to your node right now because your password is still the default PySyft username and password!!!\n",
      "\n",
      "Connecting to 20.237.138.211... done! \t Logging into clever_li... done!\n"
     ]
    }
   ],
   "source": [
    "network_client = sy.login(url=NETWORK_IP, email=ADMIN_EMAIL, password=ADMIN_PASSWORD)"
   ]
  },
  {
   "cell_type": "code",
   "execution_count": 8,
   "id": "07b3d545-ed43-445a-9983-bf642fa4636d",
   "metadata": {},
   "outputs": [
    {
     "data": {
      "text/plain": [
       "{'status': 'ok',\n",
       " 'connected': True,\n",
       " 'host': {'ip': '100.64.0.1',\n",
       "  'hostname': 'clever_li',\n",
       "  'network': 'omnet',\n",
       "  'os': 'linux',\n",
       "  'connection_info': '-',\n",
       "  'connection_status': 'n/a',\n",
       "  'connection_type': 'n/a'},\n",
       " 'peers': []}"
      ]
     },
     "execution_count": 8,
     "metadata": {},
     "output_type": "execute_result"
    }
   ],
   "source": [
    "network_client.vpn_status()"
   ]
  },
  {
   "cell_type": "code",
   "execution_count": 9,
   "id": "5c240be0-3fd9-4302-8e30-42bf2d635ae6",
   "metadata": {},
   "outputs": [],
   "source": [
    "# you can reset the network stack by sshing in and running the following"
   ]
  },
  {
   "cell_type": "code",
   "execution_count": 10,
   "id": "9710efce-9685-4006-9d0f-bc3ae201e4da",
   "metadata": {},
   "outputs": [
    {
     "name": "stdout",
     "output_type": "stream",
     "text": [
      "ssh azureuser@20.237.138.211\n"
     ]
    }
   ],
   "source": [
    "print(f\"ssh azureuser@{NETWORK_IP}\")"
   ]
  },
  {
   "cell_type": "code",
   "execution_count": 11,
   "id": "556412b9-8e21-42b2-a7a6-3f92b5e2bf9b",
   "metadata": {},
   "outputs": [],
   "source": [
    "# go to the network node and run this script"
   ]
  },
  {
   "cell_type": "markdown",
   "id": "ed1361d9-5ce3-47e1-9172-e73eb2e4a0ae",
   "metadata": {},
   "source": [
    "```\n",
    "cd PySyft\n",
    "./scripts/reset_network.sh\n",
    "```"
   ]
  }
 ],
 "metadata": {
  "kernelspec": {
   "display_name": "Python 3 (ipykernel)",
   "language": "python",
   "name": "python3"
  },
  "language_info": {
   "codemirror_mode": {
    "name": "ipython",
    "version": 3
   },
   "file_extension": ".py",
   "mimetype": "text/x-python",
   "name": "python",
   "nbconvert_exporter": "python",
   "pygments_lexer": "ipython3",
   "version": "3.10.3"
  }
 },
 "nbformat": 4,
 "nbformat_minor": 5
}

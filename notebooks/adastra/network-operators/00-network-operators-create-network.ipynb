{
 "cells": [
  {
   "cell_type": "markdown",
   "id": "a0347f6f-c74a-441f-aa91-82111f4b5481",
   "metadata": {},
   "source": [
    "# Create Network Node"
   ]
  },
  {
   "cell_type": "markdown",
   "id": "8f461b13-ef30-4f55-8b16-2786d963c731",
   "metadata": {},
   "source": [
    "## Create Network Node on Azure with HAGrid"
   ]
  },
  {
   "cell_type": "markdown",
   "id": "f52e90ac-2a2b-47ad-bcf3-128016f6f878",
   "metadata": {},
   "source": [
    "```\n",
    "$ hagrid launch network to azure\n",
    "```"
   ]
  },
  {
   "cell_type": "markdown",
   "id": "21c0f65f-8e3f-4d32-acf8-334a68b1a26c",
   "metadata": {},
   "source": [
    "Provide the IP of the Network Node to the Data Owners in this format so they can paste into their notebooks:\n",
    "```\n",
    "NETWORK_IP=\"x.x.x.x\"\n",
    "```"
   ]
  },
  {
   "cell_type": "code",
   "execution_count": 3,
   "id": "b00e0ebf-1465-47ff-b03d-f6a2fe6d9068",
   "metadata": {},
   "outputs": [],
   "source": [
    "NETWORK_IP=\"x.x.x.x\""
   ]
  },
  {
   "cell_type": "markdown",
   "id": "f163a6ff-4204-4ca0-8bc8-e53f19089b61",
   "metadata": {},
   "source": [
    "## Connect Network to its own VPN"
   ]
  },
  {
   "cell_type": "code",
   "execution_count": 9,
   "id": "3309eb3d-6d0d-4a40-b502-2ccc9f15d3e0",
   "metadata": {},
   "outputs": [],
   "source": [
    "ADMIN_EMAIL=\"info@openmined.org\"\n",
    "ADMIN_PASSWORD=\"changethis\""
   ]
  },
  {
   "cell_type": "code",
   "execution_count": 15,
   "id": "c49d0ef2-4bd5-4bf5-86ba-ced9a68a33a0",
   "metadata": {},
   "outputs": [],
   "source": [
    "# install syft if we are on google colab\n",
    "import sys, os; os.system(\"pip install 'git+https://github.com/OpenMined/PySyft@dev#egg=syft&subdirectory=packages/syft'\") if \"google.colab\" in sys.modules else \"\"\n",
    "import syft as sy"
   ]
  },
  {
   "cell_type": "code",
   "execution_count": 11,
   "id": "789cf254-75f9-4a45-84ea-3b9788fc428e",
   "metadata": {},
   "outputs": [
    {
     "name": "stdout",
     "output_type": "stream",
     "text": [
      "WARNING: CHANGE YOUR USERNAME AND PASSWORD!!! \n",
      "\n",
      "Anyone can login as an admin to your node right now because your password is still the default PySyft username and password!!!\n",
      "\n",
      "Connecting to 13.83.1.243... done! \t Logging into admiring_bostrom... done!\n",
      "\n",
      "**Warning**: The syft version on your system and the node are different.\n",
      "Version on your system: 0.7.0-beta.9\n",
      "Version on the node: 0.7.0-beta.8\n",
      "\n"
     ]
    }
   ],
   "source": [
    "network_client = sy.login(url=NETWORK_IP, email=ADMIN_EMAIL, password=ADMIN_PASSWORD)"
   ]
  },
  {
   "cell_type": "code",
   "execution_count": 12,
   "id": "26718aab-21f2-45a9-9197-2846b8535f48",
   "metadata": {},
   "outputs": [
    {
     "name": "stdout",
     "output_type": "stream",
     "text": [
      "🔌 <NetworkClient: admiring_bostrom> successfully connected to the VPN: http://13.83.1.243:80/api/v1\n"
     ]
    }
   ],
   "source": [
    "network_client.join_network(network_client)"
   ]
  },
  {
   "cell_type": "code",
   "execution_count": 13,
   "id": "07b3d545-ed43-445a-9983-bf642fa4636d",
   "metadata": {},
   "outputs": [
    {
     "data": {
      "text/plain": [
       "{'status': 'ok',\n",
       " 'connected': True,\n",
       " 'host': {'ip': '100.64.0.1',\n",
       "  'hostname': 'admiring_bostrom',\n",
       "  'network': 'omnet',\n",
       "  'os': 'linux',\n",
       "  'connection_info': '-',\n",
       "  'connection_status': 'n/a',\n",
       "  'connection_type': 'n/a'},\n",
       " 'peers': [{'ip': '100.64.0.2',\n",
       "   'hostname': 'modest_hutter',\n",
       "   'network': 'omnet',\n",
       "   'os': 'linux',\n",
       "   'connection_info': 'offline',\n",
       "   'connection_status': 'n/a',\n",
       "   'connection_type': 'n/a'}]}"
      ]
     },
     "execution_count": 13,
     "metadata": {},
     "output_type": "execute_result"
    }
   ],
   "source": [
    "network_client.vpn_status()"
   ]
  },
  {
   "cell_type": "code",
   "execution_count": null,
   "id": "5c240be0-3fd9-4302-8e30-42bf2d635ae6",
   "metadata": {},
   "outputs": [],
   "source": []
  }
 ],
 "metadata": {
  "kernelspec": {
   "display_name": "Python 3 (ipykernel)",
   "language": "python",
   "name": "python3"
  },
  "language_info": {
   "codemirror_mode": {
    "name": "ipython",
    "version": 3
   },
   "file_extension": ".py",
   "mimetype": "text/x-python",
   "name": "python",
   "nbconvert_exporter": "python",
   "pygments_lexer": "ipython3",
   "version": "3.10.3"
  }
 },
 "nbformat": 4,
 "nbformat_minor": 5
}

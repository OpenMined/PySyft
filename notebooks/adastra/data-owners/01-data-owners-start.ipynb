{
 "cells": [
  {
   "cell_type": "markdown",
   "id": "1a72486f-ffbd-4800-bc03-5e6427964faa",
   "metadata": {},
   "source": [
    "# Data Owner - Domain Management"
   ]
  },
  {
   "cell_type": "markdown",
   "id": "0f2b049f-2237-4bd5-afad-6f530cb94435",
   "metadata": {},
   "source": [
    "## Setup Variables\n",
    "\n",
    "Before we start let's store some variables that will come in handy later in the notebook."
   ]
  },
  {
   "cell_type": "code",
   "execution_count": null,
   "id": "f52e1821-74db-4fb9-be93-aead8da9bdcb",
   "metadata": {},
   "outputs": [],
   "source": [
    "# autodetect the host_ip\n",
    "CURL_OUTPUT=!echo $(curl -s ifconfig.co)\n",
    "DOMAIN_HOST_IP=\"\"\n",
    "import sys\n",
    "if \"google.colab\" not in sys.modules:\n",
    "    DOMAIN_HOST_IP=CURL_OUTPUT[0]\n",
    "    print(f\"Your DOMAIN_HOST_IP is: {DOMAIN_HOST_IP}\")\n",
    "else:\n",
    "    print(f\"Google Colab detected, please manually set the DOMAIN_HOST_IP variable\")"
   ]
  },
  {
   "cell_type": "code",
   "execution_count": null,
   "id": "a16e5bbe-c7e1-4154-b564-ab8988ee88e2",
   "metadata": {},
   "outputs": [],
   "source": [
    "# Set the email and password of your Domain node.\n",
    "# We will be using the default email and password that got created during Domain creation.\n",
    "# Please update the email and password below incase you update them.\n",
    "\n",
    "ADMIN_EMAIL=\"info@openmined.org\"\n",
    "ADMIN_PASSWORD=\"changethis\""
   ]
  },
  {
   "cell_type": "markdown",
   "id": "aa93f1b5-d5b7-4095-afb0-92e5251cd04e",
   "metadata": {},
   "source": [
    "## Import Syft"
   ]
  },
  {
   "cell_type": "markdown",
   "id": "837d1051-fc15-4756-8cbb-c20479db7737",
   "metadata": {},
   "source": [
    "We have already installed syft for the demo, however installing syft is as easy as:\n",
    "`pip install --pre syft`."
   ]
  },
  {
   "cell_type": "code",
   "execution_count": null,
   "id": "bd4defd0-b775-42bc-a2ff-f849198ffdc0",
   "metadata": {},
   "outputs": [],
   "source": [
    "# install syft if we are on google colab\n",
    "import sys, os; os.system(\"pip install --pre syft\") if \"google.colab\" in sys.modules else \"\"\n",
    "import syft as sy\n",
    "print(f\"You're running syft version: {sy.__version__}\")"
   ]
  },
  {
   "cell_type": "markdown",
   "id": "aad195f8",
   "metadata": {},
   "source": [
    "## Log into the Domain"
   ]
  },
  {
   "cell_type": "markdown",
   "id": "a2c40e6f",
   "metadata": {},
   "source": [
    "Now that we have successfully installed `syft`, let's move on how one can log into a Domain node. There are two ways to log into your own node, as the Data Owner.\n",
    "\n",
    "1. Using the PySyft library\n",
    "2. Using the Web Interface"
   ]
  },
  {
   "cell_type": "markdown",
   "id": "2676b53b",
   "metadata": {},
   "source": [
    "### Using the PySyft library\n",
    "\n",
    "Let's use the `syft` library to login in to your domain and get an authenticated client to your Domain node.\n",
    "\n",
    "To login into the your domain you will need the following credentials:\n",
    "- url to the domain: Here the value in the `DOMAIN_HOST_IP` is the url to your domain.\n",
    "- email address: We will use the default email (`ADMIN_EMAIL`) set on domain creation.\n",
    "- password: We will use the default password (`ADMIN_PASSWORD`) set on domain creation.\n",
    "- port number: Port number on which the domain server is provisioned (defaults to 80)."
   ]
  },
  {
   "cell_type": "code",
   "execution_count": null,
   "id": "a1fb9475",
   "metadata": {},
   "outputs": [],
   "source": [
    "# Let's log into the domain using the credentials\n",
    "try:\n",
    "    domain_client = sy.login(url=DOMAIN_HOST_IP, email=ADMIN_EMAIL, password=ADMIN_PASSWORD)\n",
    "    print()\n",
    "    print(\"🎉 You successfully connected to your domain!\")\n",
    "except Exception as e:\n",
    "    print(\"❌ Unable to connect, did you set the `DOMAIN_HOST_IP` variable above?\")\n",
    "    raise e"
   ]
  },
  {
   "cell_type": "markdown",
   "id": "d2785cbf-40c6-4e28-b497-aad1e322cfdd",
   "metadata": {},
   "source": [
    "### Using the Web Interface\n",
    "\n",
    "We can access the domain node using a Web Interface via the IP Address defined in the variable `DOMAIN_HOST_IP`."
   ]
  },
  {
   "cell_type": "code",
   "execution_count": null,
   "id": "d8c9e542-7419-452d-87d3-8ab21eaaf4df",
   "metadata": {},
   "outputs": [],
   "source": [
    "print(f\"Check out PyGridUI here 👉🏽 http://{DOMAIN_HOST_IP}\")\n",
    "print()\n",
    "print(f\"Or you can access it via an iframe below 👇🏽\")"
   ]
  },
  {
   "cell_type": "code",
   "execution_count": null,
   "id": "4a11a58a-ff5b-4e15-a95d-0b92b677bf57",
   "metadata": {},
   "outputs": [],
   "source": [
    "print(\"This is a live 🖼 iframe into your domain, try logging in 😎\")\n",
    "from IPython.display import IFrame\n",
    "IFrame(f\"http://{DOMAIN_HOST_IP}\", width=1024, height=768)"
   ]
  },
  {
   "cell_type": "markdown",
   "id": "6a08f6b6-284f-4a7f-a3a1-b7440d346796",
   "metadata": {},
   "source": [
    "To login into the your domain you will need the following credentials:\n",
    "- email address: We will use the default email (`info@openmined.org`) set on domain creation\n",
    "- password: We will use the  default password (`changethis`) set on domain creation\n",
    "\n",
    "\n",
    "On accessing the url defined above you should be able to see the login page as shown in the image below.\n",
    "\n",
    "![Domain Login Page](img/pygrid_ui_login.png)\n",
    "\n",
    "On a sucessful login you will be redirected the users page, where you can manage all the users that have signed up to your domain."
   ]
  },
  {
   "cell_type": "markdown",
   "id": "1e19140b",
   "metadata": {},
   "source": [
    "## Network Node\n",
    "\n",
    "Our next step would be to connect to a Network Node. So, what is a Network Node?\n",
    "\n",
    "A Network Node is a level of abstraction above a Domain node. It is a server which exists outside of any data owner's institution, providing services to the network of data owners and data scientists.\n",
    "\n",
    "Therefore, a network node can be considered a collection of domains. A Network acts a bridge between between its members and subscribers. The members are **`Domains`** while subscribers are the **`end-users (e.g. Data Scientist)`** who explore and perform analysis on the datasets hosted by the members.\n",
    "\n",
    "Thus, in short, a Network node provides a secure interface between its members and subscribers.\n",
    "\n",
    "For the scope of this demonstration, *OpenMined* has created a Network node, to which we will register our Domain Node later in the notebook."
   ]
  },
  {
   "cell_type": "markdown",
   "id": "9cc06a47-47c5-41ae-841d-749d07e489db",
   "metadata": {},
   "source": [
    "### Connect to a Network"
   ]
  },
  {
   "cell_type": "markdown",
   "id": "159da9b9-bfcd-4d06-963c-3bbd7dbf4ddd",
   "metadata": {},
   "source": [
    "You can either connect to a Network directly by knowing its `NETWORK_IP` or `hostname` or, you can browse available networks in the OpenMined `NetworkRegistry`."
   ]
  },
  {
   "cell_type": "markdown",
   "id": "a0cbac79-49dc-4f1b-bdbe-774826e12b9a",
   "metadata": {},
   "source": [
    "### Lets checkout some Networks"
   ]
  },
  {
   "cell_type": "code",
   "execution_count": null,
   "id": "57bf77d7-5980-4197-a02c-a13ad7513c58",
   "metadata": {},
   "outputs": [],
   "source": [
    "sy.networks"
   ]
  },
  {
   "cell_type": "markdown",
   "id": "77476f18-c90f-4d62-acd9-5c9ca46ba01b",
   "metadata": {},
   "source": [
    "Lets connect to the `Ad Astra` Network"
   ]
  },
  {
   "cell_type": "code",
   "execution_count": null,
   "id": "c68f268b-9739-4eec-bafa-59ccad7bffa7",
   "metadata": {},
   "outputs": [],
   "source": [
    "network_client = sy.networks[\"Ad Astra 🚀🌌\"]"
   ]
  },
  {
   "cell_type": "markdown",
   "id": "0b948bb4",
   "metadata": {},
   "source": [
    "Since we will be logging into the Network node as a Guest User, therefore we don't need to provide an email or password as part of the login. As a *GUEST USER*, our scope will be limited to only a few operations/functionalities.\n",
    "\n",
    "**Note:** Network node is a fairly new concept and is under rapid development. New functionalities will be added to it soon."
   ]
  },
  {
   "cell_type": "markdown",
   "id": "b3b33744",
   "metadata": {},
   "source": [
    "On successful login, we will receive an authenticated client.\n",
    "\n",
    "Now that we have an authenticated client to the network, let's list the available domains on this Network."
   ]
  },
  {
   "cell_type": "code",
   "execution_count": null,
   "id": "8cca3233-4ca8-42e8-b3ad-e21918e81040",
   "metadata": {},
   "outputs": [],
   "source": [
    "# List the available domains on this Network\n",
    "network_client.domains"
   ]
  },
  {
   "cell_type": "markdown",
   "id": "40618cac-ffcc-40a5-9c33-dd43aeb4b8f7",
   "metadata": {},
   "source": [
    "### Join the Network\n",
    "\n",
    "As part of the next step, we will be joining the OpenMined network. Applying to a network will allow us to be listed as part of the Network.\n",
    "\n",
    "Let's apply to the Network. When we apply to join a network, the Domain client connects to the Network node through a secured VPN protocol (if a protocol is not established, then it will try to establish one) and then sends a request to join the Network."
   ]
  },
  {
   "cell_type": "code",
   "execution_count": null,
   "id": "a085c3f4-3ea4-4a3a-ab4b-54de864ba124",
   "metadata": {},
   "outputs": [],
   "source": [
    "# Let's apply to the Network\n",
    "domain_client.apply_to_network(network_client)"
   ]
  },
  {
   "cell_type": "markdown",
   "id": "17857c9e",
   "metadata": {},
   "source": [
    "On a successful request, our Domain is registered to the network node. Let's check this by listing the available domains on the network node."
   ]
  },
  {
   "cell_type": "code",
   "execution_count": null,
   "id": "8a12be27-bfa5-41ad-a22c-456471220c7d",
   "metadata": {},
   "outputs": [],
   "source": [
    "# Listing the available domains on the Network\n",
    "# to check if our Domain is present on it or not.\n",
    "network_client.domains"
   ]
  },
  {
   "cell_type": "markdown",
   "id": "7cf0b544",
   "metadata": {},
   "source": [
    "We can also check if the Network node is connected to the Domain via VPN by calling`.vpn_status()` method on the `<domain_client>`. If the Network node is succesfully connected to the Domain via the VPN, then it should be present in the `peers` list (in the response returned by `.vpn_status()` method)."
   ]
  },
  {
   "cell_type": "code",
   "execution_count": null,
   "id": "28b1d205-83b3-4afe-baaf-3481c9f7086e",
   "metadata": {},
   "outputs": [],
   "source": [
    "# Verify if domain is connected to the Network node via VPN.\n",
    "domain_client.vpn_status()"
   ]
  },
  {
   "cell_type": "markdown",
   "id": "540a6b83",
   "metadata": {},
   "source": [
    "Great !!! Now that we are part of the Network node, let's move on to upload the MedNIST dataset onto our Domain node."
   ]
  },
  {
   "cell_type": "markdown",
   "id": "770bc6e1-8106-4079-a916-1f6fea2bec40",
   "metadata": {},
   "source": [
    "## Create a Dataset"
   ]
  },
  {
   "cell_type": "markdown",
   "id": "55ad95a9",
   "metadata": {},
   "source": [
    "### MedNIST Dataset\n",
    "\n",
    "We will be using the MedNIST dataset. The MedNIST dataset was gathered from several sets from TCIA, the RSNA Bone Age Challenge, and the NIH Chest X-ray dataset.\n",
    "\n",
    "The dataset is kindly made available by Dr. Bradley J. Erickson M.D., Ph.D. (Department of Radiology, Mayo Clinic) under the Creative Commons CC BY-SA 4.0 license. If you use the MedNIST dataset, please acknowledge the source, e.g. https://colab.research.google.com/drive/1wy8XUSnNWlhDNazFdvGBHLfdkGvOHBKe#scrollTo=ZaHFhidyCBJa\n",
    "\n",
    "Let's move on to download and extract the dataset."
   ]
  },
  {
   "cell_type": "markdown",
   "id": "9d5af725",
   "metadata": {},
   "source": [
    "The dataset has been stored pickle file. Lets download the dataset using the instructions below."
   ]
  },
  {
   "cell_type": "code",
   "execution_count": null,
   "id": "35e6a8b8-89f4-4849-a1dd-02fc166da76f",
   "metadata": {},
   "outputs": [],
   "source": [
    "# download MedNIST.pkl\n",
    "if not os.path.exists(\"./MedNIST.pkl\"):\n",
    "    os.system('curl -O \"https://media.githubusercontent.com/media/shubham3121/datasets/main/MedNIST/MedNIST.pkl\"')\n",
    "else:\n",
    "    print(\"MedNIST already downloaded\")"
   ]
  },
  {
   "cell_type": "markdown",
   "id": "a864da2e",
   "metadata": {},
   "source": [
    "Now, before we move forward, let's store some variables related to the dataset.\n",
    "\n",
    "We require your participant number and the total participant count in the session to allocate you a unique subset of the MedNIST data."
   ]
  },
  {
   "cell_type": "markdown",
   "id": "08c64cc5-4d3c-4251-a790-57c6f3c33f32",
   "metadata": {},
   "source": [
    "### Participant Number"
   ]
  },
  {
   "cell_type": "markdown",
   "id": "2b0834a9-5afd-4f2f-89ef-cade508d3ca4",
   "metadata": {},
   "source": [
    "Copy your variables `MY_PARTICIPANT_NUMBER` and `TOTAL_PARTICIPANTS` from your session details."
   ]
  },
  {
   "cell_type": "markdown",
   "id": "1234a1d7-24b8-46ee-b038-2486a6f62406",
   "metadata": {},
   "source": [
    "```\n",
    "Hi Person,\n",
    "These are your Session Details:\n",
    "-------------------------------\n",
    "Username: azureuser\n",
    "Password: **********\n",
    "VM IP Address: x.x.x.x\n",
    "\n",
    "MY_PARTICIPANT_NUMBER=1\n",
    "TOTAL_PARTICIPANTS=10\n",
    "```"
   ]
  },
  {
   "cell_type": "code",
   "execution_count": null,
   "id": "d35940e8-82d4-4e23-b4e5-f8744300c3da",
   "metadata": {},
   "outputs": [],
   "source": [
    "# file path where the MedNIST.pkl is downloaded\n",
    "FILE_PATH = \"./MedNIST.pkl\""
   ]
  },
  {
   "cell_type": "code",
   "execution_count": null,
   "id": "05104edb-4b9c-4608-8e76-b3ebe8a60ba6",
   "metadata": {},
   "outputs": [],
   "source": [
    "# replace these with your own from the session details\n",
    "MY_PARTICIPANT_NUMBER = 1\n",
    "TOTAL_PARTICIPANTS = 10"
   ]
  },
  {
   "cell_type": "markdown",
   "id": "7515311f",
   "metadata": {},
   "source": [
    "### Load the Dataset"
   ]
  },
  {
   "cell_type": "markdown",
   "id": "3b1e2f45",
   "metadata": {},
   "source": [
    "Below are some helper methods, thatwe will require to load the dataset."
   ]
  },
  {
   "cell_type": "code",
   "execution_count": null,
   "id": "ef5c71ae",
   "metadata": {},
   "outputs": [],
   "source": [
    "# Helper Methods\n",
    "\n",
    "import os\n",
    "import json\n",
    "import pandas as pd\n",
    "from PIL import Image\n",
    "from enum import Enum\n",
    "from collections import defaultdict\n",
    "import numpy as np\n",
    "from syft.core.adp.data_subject_list import DataSubjectList\n",
    "\n",
    "\n",
    "def get_label_mapping():\n",
    "    # the data uses the following mapping\n",
    "    mapping = {\n",
    "        \"AbdomenCT\": 0, \n",
    "        \"BreastMRI\": 1, \n",
    "        \"CXR\": 2, \n",
    "        \"ChestCT\": 3, \n",
    "        \"Hand\": 4, \n",
    "        \"HeadCT\": 5\n",
    "    }\n",
    "    return mapping\n",
    "\n",
    "def load_data_as_df(file_path=\"./MedNIST.pkl\"):\n",
    "    df = pd.read_pickle(file_path)\n",
    "    df.sort_values(\"patient_id\", inplace=True, ignore_index=True)\n",
    "    \n",
    "    # Calculate start and end index based on your participant number\n",
    "    batch_size = df.shape[0] // TOTAL_PARTICIPANTS\n",
    "    start_idx = (MY_PARTICIPANT_NUMBER - 1) * batch_size\n",
    "    end_idx = start_idx + batch_size\n",
    "    \n",
    "    # Slice the dataframe according\n",
    "    df = df[start_idx: end_idx]\n",
    "    \n",
    "    # Get label mapping\n",
    "    mapping = get_label_mapping()\n",
    "    \n",
    "    total_num = df.shape[0]\n",
    "    print(\"Columns:\", df.columns)\n",
    "    print(\"Total Images:\", total_num)\n",
    "    print(\"Label Mapping\", mapping)\n",
    "    return df\n",
    "\n",
    "def get_data_description(data):\n",
    "    unique_label_cnt = data.label.nunique()\n",
    "    lable_mapping = json.dumps(get_label_mapping())\n",
    "    image_size = data.iloc[0][\"image\"].shape\n",
    "    description = f\"The MedNIST dataset was gathered from several sets from TCIA, the RSNA Bone Age Challenge, and the NIH Chest X-ray dataset. The dataset is kindly made available by Dr. Bradley J. Erickson M.D., Ph.D. (Department of Radiology, Mayo Clinic) under the Creative Commons CC BY-SA 4.0 license.\\n\"\n",
    "    description += f\"Label Count: {unique_label_cnt}\\n\"\n",
    "    description += f\"Label Mapping: {lable_mapping}\\n\"\n",
    "    description += f\"Image Dimensions: {image_size}\\n\"\n",
    "    description += f\"Total Images: {data.shape[0]}\\n\"\n",
    "    return description"
   ]
  },
  {
   "cell_type": "code",
   "execution_count": null,
   "id": "6009afa0-5903-4d37-a99a-d39b754c920a",
   "metadata": {},
   "outputs": [],
   "source": [
    "# Let's load the dataset as a dataframe\n",
    "dataset_df = load_data_as_df(FILE_PATH)"
   ]
  },
  {
   "cell_type": "code",
   "execution_count": null,
   "id": "06960e2e",
   "metadata": {},
   "outputs": [],
   "source": [
    "# Let's get a peek of the dataset\n",
    "dataset_df.head()"
   ]
  },
  {
   "cell_type": "markdown",
   "id": "6a0d7bf0",
   "metadata": {},
   "source": [
    "Get the dataset description, that needs to be provided to the domain while uploading the dataset."
   ]
  },
  {
   "cell_type": "code",
   "execution_count": null,
   "id": "47807e56",
   "metadata": {},
   "outputs": [],
   "source": [
    "dataset_description = get_data_description(dataset_df)\n",
    "print(dataset_description)"
   ]
  },
  {
   "cell_type": "markdown",
   "id": "b0fb9e23",
   "metadata": {},
   "source": [
    "We can see that dataset description contains a brief info about the dataset and also a few meta information related to the dataset."
   ]
  },
  {
   "cell_type": "markdown",
   "id": "da69b7c3",
   "metadata": {},
   "source": [
    "### Prepare Dataset for Upload"
   ]
  },
  {
   "cell_type": "markdown",
   "id": "5cc10b07",
   "metadata": {},
   "source": [
    "Let's create data subjects list. Data Subjects are the individuals whose privacy we're trying to protect. Here the patients are the data subjects."
   ]
  },
  {
   "cell_type": "code",
   "execution_count": null,
   "id": "31bcedde-1de3-4897-9a0e-6b33dab141da",
   "metadata": {},
   "outputs": [],
   "source": [
    "data_subjects = DataSubjectList.from_series(dataset_df['patient_id'])"
   ]
  },
  {
   "cell_type": "markdown",
   "id": "1f9015d5",
   "metadata": {},
   "source": [
    "Next we need to convert our image and label data to numpy array of type **int64**."
   ]
  },
  {
   "cell_type": "code",
   "execution_count": null,
   "id": "bbb68475",
   "metadata": {},
   "outputs": [],
   "source": [
    "# Convert images to numpy int64 array\n",
    "images = dataset_df['image']\n",
    "images = np.dstack(images.values).astype(np.int64)\n",
    "images = np.rollaxis(images,-1)"
   ]
  },
  {
   "cell_type": "code",
   "execution_count": null,
   "id": "d178684c",
   "metadata": {},
   "outputs": [],
   "source": [
    "# Convert labels to numpy int64 array\n",
    "labels = dataset_df['label'].to_numpy().astype(\"int64\")"
   ]
  },
  {
   "cell_type": "markdown",
   "id": "093521f0",
   "metadata": {},
   "source": [
    "Next we will make your data private private with min, max and data subjects. The min and max are minimum and maximum value in the given data."
   ]
  },
  {
   "cell_type": "code",
   "execution_count": null,
   "id": "fee38f31",
   "metadata": {},
   "outputs": [],
   "source": [
    "# converting images to private data\n",
    "image_data = sy.Tensor(images).private(min_val=0, max_val=255, data_subjects=data_subjects)"
   ]
  },
  {
   "cell_type": "code",
   "execution_count": null,
   "id": "1632d9b8",
   "metadata": {},
   "outputs": [],
   "source": [
    "# converting labels to private data\n",
    "label_data = sy.Tensor(labels).private(min_val=0, max_val=5, data_subjects=data_subjects)"
   ]
  },
  {
   "cell_type": "markdown",
   "id": "11bc8fd6",
   "metadata": {},
   "source": [
    "Finally, we will upload the images and labels to the domain."
   ]
  },
  {
   "cell_type": "code",
   "execution_count": null,
   "id": "ee7edeaa-b96c-4fd3-bb07-76999da8e146",
   "metadata": {},
   "outputs": [],
   "source": [
    "# creating/uploading the dataset\n",
    "\n",
    "# Name of the dataset\n",
    "name = f\"MedNIST Data {MY_PARTICIPANT_NUMBER}/{TOTAL_PARTICIPANTS}\"\n",
    "\n",
    "# upload the MedNIST data\n",
    "domain_client.load_dataset(\n",
    "    assets={\"images\": image_data, \"labels\": label_data},\n",
    "    name=name,\n",
    "    description=dataset_description,\n",
    "    use_blob_storage=True\n",
    ")"
   ]
  },
  {
   "cell_type": "markdown",
   "id": "ba5c03e4",
   "metadata": {},
   "source": [
    "Now let's check if the dataset we successfully uploaded"
   ]
  },
  {
   "cell_type": "code",
   "execution_count": null,
   "id": "f43b1d7b-579f-4cb9-b5f6-8dab895d8111",
   "metadata": {},
   "outputs": [],
   "source": [
    "domain_client.datasets"
   ]
  },
  {
   "cell_type": "markdown",
   "id": "ee7c4aa2-1833-49c6-8fa1-92421f156961",
   "metadata": {},
   "source": [
    "## Create a Data Scientist Account"
   ]
  },
  {
   "cell_type": "code",
   "execution_count": null,
   "id": "b2878747-ff5c-4805-b069-1c4e283d2a5c",
   "metadata": {},
   "outputs": [],
   "source": [
    "data_scientist_details = {\n",
    "    \"name\": \"Samantha Carter\",\n",
    "    \"email\": \"sam@sg1.net\",\n",
    "    \"password\": \"stargate\",\n",
    "    \"budget\": 9999,\n",
    "}"
   ]
  },
  {
   "cell_type": "code",
   "execution_count": null,
   "id": "781c9baf-9715-46cb-bc64-790597a369f3",
   "metadata": {},
   "outputs": [],
   "source": [
    "domain_client.users.create(**data_scientist_details)"
   ]
  },
  {
   "cell_type": "code",
   "execution_count": null,
   "id": "f5aec7e8-29d8-48b4-89d2-80a2252558ad",
   "metadata": {},
   "outputs": [],
   "source": [
    "print(\"Please give these details to the data scientist 👇🏽\")\n",
    "login_details = {}\n",
    "login_details[\"url\"] = DOMAIN_HOST_IP\n",
    "login_details[\"name\"] = data_scientist_details[\"name\"]\n",
    "login_details[\"email\"] = data_scientist_details[\"email\"]\n",
    "login_details[\"password\"] = data_scientist_details[\"password\"]\n",
    "login_details[\"dataset_name\"] = name\n",
    "print()\n",
    "print(login_details)"
   ]
  },
  {
   "cell_type": "code",
   "execution_count": null,
   "id": "106b8985-3694-43d2-aac5-2285941b2235",
   "metadata": {},
   "outputs": [],
   "source": []
  }
 ],
 "metadata": {
  "kernelspec": {
   "display_name": "Python 3 (ipykernel)",
   "language": "python",
   "name": "python3"
  },
  "language_info": {
   "codemirror_mode": {
    "name": "ipython",
    "version": 3
   },
   "file_extension": ".py",
   "mimetype": "text/x-python",
   "name": "python",
   "nbconvert_exporter": "python",
   "pygments_lexer": "ipython3",
   "version": "3.9.7"
  }
 },
 "nbformat": 4,
 "nbformat_minor": 5
}

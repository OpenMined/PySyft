{
 "cells": [
  {
   "cell_type": "markdown",
   "id": "1a72486f-ffbd-4800-bc03-5e6427964faa",
   "metadata": {},
   "source": [
    "# Data Owner - Domain Management"
   ]
  },
  {
   "cell_type": "markdown",
   "id": "0f2b049f-2237-4bd5-afad-6f530cb94435",
   "metadata": {},
   "source": [
    "## Setup Variables\n",
    "\n",
    "Before we start let's store some variables that will come in handy later in the notebook."
   ]
  },
  {
   "cell_type": "code",
   "execution_count": 7,
   "id": "f52e1821-74db-4fb9-be93-aead8da9bdcb",
   "metadata": {},
   "outputs": [],
   "source": [
    "# Set the Ip Address of your Domain node in this variable.\n",
    "DOMAIN_HOST_IP=\"52.157.8.193\""
   ]
  },
  {
   "cell_type": "code",
   "execution_count": 24,
   "id": "af9279ed-6ca0-4162-bc50-63ad31b3afa8",
   "metadata": {},
   "outputs": [],
   "source": [
    "# Set the Ip Address of your Network node in this variable.\n",
    "# The network node with IP `20.121.101.41` is managed and maintained by OpenMined.\n",
    "NETWORK_IP=\"20.121.101.41\""
   ]
  },
  {
   "cell_type": "code",
   "execution_count": 10,
   "id": "a16e5bbe-c7e1-4154-b564-ab8988ee88e2",
   "metadata": {},
   "outputs": [],
   "source": [
    "# Set the email and password of your Domain node.\n",
    "# We will be using the default email and password that got created during Domain creation.\n",
    "# Please update the email and password below incase you update them.\n",
    "\n",
    "ADMIN_EMAIL=\"info@openmined.org\"\n",
    "ADMIN_PASSWORD=\"changethis\""
   ]
  },
  {
   "cell_type": "markdown",
   "id": "7ec4a68b-1777-4e54-84f4-5f2bb7b11338",
   "metadata": {},
   "source": [
    "## Install Packages\n",
    "\n",
    "Let's proceed to install the required packages for accessing the Domain via python.\n",
    "We will be installing the `syft` library. Syft can be installed using the python `pip` package as follows:\n",
    "\n",
    "```python\n",
    "    pip install 'git+https://github.com/OpenMined/PySyft@dev#egg=syft&subdirectory=packages/syft\n",
    "\n",
    "```\n",
    "You may choose to skip this step if you already have the latest version of `syft` package installed in your environment.\n",
    "\n",
    "\n",
    "**Note:** `syft` is currently supported with python versions **3.8 and above**. Older versions may work, however we have stopped testing and supporting them. If you want to further know on how you can install `syft` in a virtual environment based on your operating system, please refer to the [docs](https://openmined.github.io/PySyft/getting_started/index.html)."
   ]
  },
  {
   "cell_type": "code",
   "execution_count": null,
   "id": "1789f0c1",
   "metadata": {},
   "outputs": [],
   "source": [
    "# Uncomment the line below to install syft\n",
    "# perform this step if you're using google colab\n",
    "#!pip install 'git+https://github.com/OpenMined/PySyft@dev#egg=syft&subdirectory=packages/syft"
   ]
  },
  {
   "cell_type": "markdown",
   "id": "b76dbd8c",
   "metadata": {},
   "source": [
    "Let's check if syft is installed successfully."
   ]
  },
  {
   "cell_type": "code",
   "execution_count": 4,
   "id": "bd4defd0-b775-42bc-a2ff-f849198ffdc0",
   "metadata": {},
   "outputs": [
    {
     "name": "stdout",
     "output_type": "stream",
     "text": [
      "You're running syft version: 0.7.0-beta.14\n"
     ]
    }
   ],
   "source": [
    "import syft as sy\n",
    "print(f\"You're running syft version: {sy.__version__}\")"
   ]
  },
  {
   "cell_type": "markdown",
   "id": "aad195f8",
   "metadata": {},
   "source": [
    "## Log into the Domain"
   ]
  },
  {
   "cell_type": "markdown",
   "id": "a2c40e6f",
   "metadata": {},
   "source": [
    "Now that we have successfully installed `syft`, let's move on how one can log into a Domain node. There are two ways to log into your own node, as the Data Owner.\n",
    "\n",
    "1. Using the PySyft library\n",
    "2. Using the Web Interface"
   ]
  },
  {
   "cell_type": "markdown",
   "id": "2676b53b",
   "metadata": {},
   "source": [
    "### Using the PySyft library\n",
    "\n",
    "Let's use the `syft` library to login in to your domain and get an authenticated client to your Domain node.\n",
    "\n",
    "To login into the your domain you will need the following credentials:\n",
    "- url to the domain: Here the value in the `DOMAIN_HOST_IP` is the url to your domain.\n",
    "- email address: We will use the default email (`ADMIN_EMAIL`) set on domain creation.\n",
    "- password: We will use the default password (`ADMIN_PASSWORD`) set on domain creation.\n",
    "- port number: Port number on which the domain server is provisioned (defaults to 80)."
   ]
  },
  {
   "cell_type": "code",
   "execution_count": null,
   "id": "a1fb9475",
   "metadata": {},
   "outputs": [],
   "source": [
    "# Let's log into the domain using the credentials\n",
    "try:\n",
    "    domain_client = sy.login(url=DOMAIN_HOST_IP, email=ADMIN_EMAIL, password=ADMIN_PASSWORD)\n",
    "except Exception as e:\n",
    "    print(\"Unable to connect, did you set the `DOMAIN_HOST_IP` variable above?\")\n",
    "    raise e"
   ]
  },
  {
   "cell_type": "markdown",
   "id": "3ecdbb2b",
   "metadata": {},
   "source": [
    "### Using the Web Interface\n",
    "\n",
    "We can access the domain node using a Web Interface via the Ip Address defined in the variable `DOMAIN_HOST_IP`.\n",
    "\n",
    "One can simply access the UI by replacing `DOMAIN_HOST_IP` with your Domain IP Address in the url below.\n",
    "\n",
    "```python\n",
    "    http://<your_domain_host_ip>/login/\n",
    "```\n",
    "\n",
    "To login into the your domain you will need the following credentials:\n",
    "- email address: We will use the default email (`info@openmined.org`) set on domain creation\n",
    "- password: We will use the  default password (`changethis`) set on domain creation\n",
    "\n",
    "\n",
    "On accessing the url defined above you should be able to see the login page as shown in the image below.\n",
    "\n",
    "![Domain Login Page](img/pygrid_ui_login.png)\n",
    "\n",
    "On a sucessful login you will be redirected the users page, where you can manage all the users that have signed up to your domain."
   ]
  },
  {
   "cell_type": "markdown",
   "id": "1e19140b",
   "metadata": {},
   "source": [
    "## Network Node\n",
    "\n",
    "Our next step would be to connect to a Network Node. So, what is a Network Node?\n",
    "\n",
    "A Network Node is a level of abstraction above a Domain node. It is a server which exists outside of any data owner's institution, providing services to the network of data owners and data scientists.\n",
    "\n",
    "Therefore, a network node can be considered a collection of domains. A Network acts a bridge between between its members and subscribers. The members are **`Domains`** while subscribers are the **`end-users (e.g. Data Scientist)`** who explore and perform analysis on the datasets hosted by the members.\n",
    "\n",
    "Thus, in short, a Network node provides a secure interface between its members and subscribers.\n",
    "\n",
    "For the scope of this demonstration, *OpenMined* has created a Network node, to which we will register our Domain Node later in the notebook."
   ]
  },
  {
   "cell_type": "markdown",
   "id": "9cc06a47-47c5-41ae-841d-749d07e489db",
   "metadata": {},
   "source": [
    "### Connect to a Network"
   ]
  },
  {
   "cell_type": "markdown",
   "id": "0b948bb4",
   "metadata": {},
   "source": [
    "Let's login into the Network node. The variable `NETWORK_IP` contains the URL/IP address to the Network node hosted by OpenMined.\n",
    "\n",
    "Since we will be logging into the Network node as a Guest User, therefore we don't need to provide an email or password as part of the login. As a *GUEST USER*, our scope will be limited to only a few operations/functionalities.\n",
    "\n",
    "**Note:** Network node is a fairly new concept and is under rapid development. New functionalities will be added to it soon."
   ]
  },
  {
   "cell_type": "code",
   "execution_count": 55,
   "id": "1fd441e4-c042-4b7f-9893-96b88211905f",
   "metadata": {},
   "outputs": [
    {
     "name": "stdout",
     "output_type": "stream",
     "text": [
      "Connecting to 13.83.1.243... done! \t Logging into admiring_bostrom... as GUEST...done!\n",
      "\n",
      "**Warning**: The syft version on your system and the node are different.\n",
      "Version on your system: 0.7.0-beta.9\n",
      "Version on the node: 0.7.0-beta.8\n",
      "\n"
     ]
    }
   ],
   "source": [
    "# Logging to the network node\n",
    "network_client = sy.login(url=NETWORK_IP)"
   ]
  },
  {
   "cell_type": "markdown",
   "id": "b3b33744",
   "metadata": {},
   "source": [
    "On successful login, we will receive an authenticated client.\n",
    "\n",
    "Now that we have an authenticated client to the network, let's list the available domains on this Network."
   ]
  },
  {
   "cell_type": "code",
   "execution_count": 57,
   "id": "8cca3233-4ca8-42e8-b3ad-e21918e81040",
   "metadata": {},
   "outputs": [
    {
     "name": "stdout",
     "output_type": "stream",
     "text": [
      "                                             "
     ]
    },
    {
     "data": {
      "text/html": [
       "<div>\n",
       "<style scoped>\n",
       "    .dataframe tbody tr th:only-of-type {\n",
       "        vertical-align: middle;\n",
       "    }\n",
       "\n",
       "    .dataframe tbody tr th {\n",
       "        vertical-align: top;\n",
       "    }\n",
       "\n",
       "    .dataframe thead th {\n",
       "        text-align: right;\n",
       "    }\n",
       "</style>\n",
       "<table border=\"1\" class=\"dataframe\">\n",
       "  <thead>\n",
       "    <tr style=\"text-align: right;\">\n",
       "      <th></th>\n",
       "    </tr>\n",
       "  </thead>\n",
       "  <tbody>\n",
       "  </tbody>\n",
       "</table>\n",
       "</div>"
      ],
      "text/plain": [
       "<syft.core.node.common.client_manager.domain_api.DomainRequestAPI at 0x153888400>"
      ]
     },
     "execution_count": 57,
     "metadata": {},
     "output_type": "execute_result"
    }
   ],
   "source": [
    "# List the available domains on this Network\n",
    "network_client.domains"
   ]
  },
  {
   "cell_type": "markdown",
   "id": "40618cac-ffcc-40a5-9c33-dd43aeb4b8f7",
   "metadata": {},
   "source": [
    "### Join the Network\n",
    "\n",
    "As part of the next step, we will be joining the OpenMined network. Applying to a network will allow us to be listed as part of the Network.\n",
    "\n",
    "Let's apply to the Network. When we apply to join a network, the Domain client connects to the Network node through a secured VPN protocol (if a protocol is not established, then it will try to establish one) and then sends a request to join the Network."
   ]
  },
  {
   "cell_type": "code",
   "execution_count": 60,
   "id": "a085c3f4-3ea4-4a3a-ab4b-54de864ba124",
   "metadata": {},
   "outputs": [
    {
     "name": "stdout",
     "output_type": "stream",
     "text": [
      "🔌 <DomainClient - modest_hutter: <UID: 451739f8fb054fab9c83f6422156481e>> successfully connected to the VPN: http://13.83.1.243:80/api/v1\n"
     ]
    }
   ],
   "source": [
    "# Let's apply to the Network\n",
    "domain_client.apply_to_network(network_client)"
   ]
  },
  {
   "cell_type": "markdown",
   "id": "17857c9e",
   "metadata": {},
   "source": [
    "On a successful request, our Domain is registered to the network node. Let's check this by listing the available domains on the network node."
   ]
  },
  {
   "cell_type": "code",
   "execution_count": 67,
   "id": "8a12be27-bfa5-41ad-a22c-456471220c7d",
   "metadata": {},
   "outputs": [
    {
     "data": {
      "text/html": [
       "<div>\n",
       "<style scoped>\n",
       "    .dataframe tbody tr th:only-of-type {\n",
       "        vertical-align: middle;\n",
       "    }\n",
       "\n",
       "    .dataframe tbody tr th {\n",
       "        vertical-align: top;\n",
       "    }\n",
       "\n",
       "    .dataframe thead th {\n",
       "        text-align: right;\n",
       "    }\n",
       "</style>\n",
       "<table border=\"1\" class=\"dataframe\">\n",
       "  <thead>\n",
       "    <tr style=\"text-align: right;\">\n",
       "      <th></th>\n",
       "    </tr>\n",
       "  </thead>\n",
       "  <tbody>\n",
       "  </tbody>\n",
       "</table>\n",
       "</div>"
      ],
      "text/plain": [
       "<syft.core.node.common.client_manager.domain_api.DomainRequestAPI at 0x153888400>"
      ]
     },
     "execution_count": 67,
     "metadata": {},
     "output_type": "execute_result"
    }
   ],
   "source": [
    "# Listing the available domains on the Network\n",
    "# to check if our Domain is present on it or not.\n",
    "network_client.domains"
   ]
  },
  {
   "cell_type": "markdown",
   "id": "7cf0b544",
   "metadata": {},
   "source": [
    "We can also check if the Network node is connected to the Domain via VPN by calling`.vpn_status()` method on the `<domain_client>`. If the Network node is succesfully connected to the Domain via the VPN, then it should be present in the `peers` list (in the response returned by `.vpn_status()` method)."
   ]
  },
  {
   "cell_type": "code",
   "execution_count": 63,
   "id": "28b1d205-83b3-4afe-baaf-3481c9f7086e",
   "metadata": {},
   "outputs": [
    {
     "data": {
      "text/plain": [
       "{'status': 'ok',\n",
       " 'connected': True,\n",
       " 'host': {'ip': '100.64.0.2',\n",
       "  'hostname': 'modest_hutter',\n",
       "  'network': 'omnet',\n",
       "  'os': 'linux',\n",
       "  'connection_info': '-',\n",
       "  'connection_status': 'n/a',\n",
       "  'connection_type': 'n/a'},\n",
       " 'peers': [{'ip': '100.64.0.1',\n",
       "   'hostname': 'admiring_bostrom',\n",
       "   'network': 'omnet',\n",
       "   'os': 'linux',\n",
       "   'connection_info': 'active; direct 13.83.1.243:41641; offline, tx 1388 rx 1384',\n",
       "   'connection_status': 'active',\n",
       "   'connection_type': 'direct'}]}"
      ]
     },
     "execution_count": 63,
     "metadata": {},
     "output_type": "execute_result"
    }
   ],
   "source": [
    "# Verify if domain is connected to the Network node via VPN.\n",
    "domain_client.vpn_status()"
   ]
  },
  {
   "cell_type": "markdown",
   "id": "540a6b83",
   "metadata": {},
   "source": [
    "Great !!! Now that we are part of the Network node, let's move on to upload the MedNIST dataset onto our Domain node."
   ]
  },
  {
   "cell_type": "markdown",
   "id": "770bc6e1-8106-4079-a916-1f6fea2bec40",
   "metadata": {},
   "source": [
    "## Create a Dataset"
   ]
  },
  {
   "cell_type": "code",
   "execution_count": 66,
   "id": "6009afa0-5903-4d37-a99a-d39b754c920a",
   "metadata": {},
   "outputs": [],
   "source": [
    "example_data = [1, 2, 3]\n",
    "example_tensor = sy.Tensor(example_data)"
   ]
  },
  {
   "cell_type": "code",
   "execution_count": 10,
   "id": "31bcedde-1de3-4897-9a0e-6b33dab141da",
   "metadata": {},
   "outputs": [
    {
     "data": {
      "text/plain": [
       "(Tensor(child=[1 2 3]), (3,))"
      ]
     },
     "execution_count": 10,
     "metadata": {},
     "output_type": "execute_result"
    }
   ],
   "source": [
    "(example_tensor, example_tensor.public_shape)"
   ]
  },
  {
   "cell_type": "code",
   "execution_count": 11,
   "id": "d3e0b5b9-ffc1-4675-9dce-73bfdc344e45",
   "metadata": {},
   "outputs": [],
   "source": [
    "# make your tensor private with min, max and data subjects"
   ]
  },
  {
   "cell_type": "code",
   "execution_count": 12,
   "id": "ee7edeaa-b96c-4fd3-bb07-76999da8e146",
   "metadata": {},
   "outputs": [],
   "source": [
    "private_tensor = example_tensor.private(\n",
    "    min_val=0, max_val=3, entities=[sy.core.adp.entity.DataSubject(\"0\")]\n",
    ").tag(\"example_data\")"
   ]
  },
  {
   "cell_type": "code",
   "execution_count": 13,
   "id": "76dec052-cd3d-47b2-a060-39fedfa8cbc0",
   "metadata": {},
   "outputs": [],
   "source": [
    "# create a dataset"
   ]
  },
  {
   "cell_type": "code",
   "execution_count": 14,
   "id": "c4bd0bce-f48d-4be2-be5d-c5b781249c29",
   "metadata": {},
   "outputs": [
    {
     "name": "stdout",
     "output_type": "stream",
     "text": [
      "Loading dataset... uploading... SUCCESS!                                                                                                                                      \n",
      "\n",
      "Run <your client variable>.datasets to see your new dataset loaded into your machine!\n"
     ]
    }
   ],
   "source": [
    "domain_client.load_dataset(\n",
    "    assets={\"tensor_1\": private_tensor},\n",
    "    name=\"My Private Data\",\n",
    "    description=(\"A collection of medical images\"),\n",
    "    skip_checks=True,\n",
    ")"
   ]
  },
  {
   "cell_type": "code",
   "execution_count": 15,
   "id": "f43b1d7b-579f-4cb9-b5f6-8dab895d8111",
   "metadata": {},
   "outputs": [
    {
     "data": {
      "text/html": [
       "<style>\n",
       "                #myInput {\n",
       "                  background-position: 10px 12px; /* Position the search icon */\n",
       "                  background-repeat: no-repeat; /* Do not repeat the icon image */\n",
       "                  background-color: #bbb;\n",
       "                  width: 98%; /* Full-width */\n",
       "                  font-size: 14px; /* Increase font-size */\n",
       "                  padding: 12px 20px 12px 40px; /* Add some padding */\n",
       "                  border: 1px solid #ddd; /* Add a grey border */\n",
       "                  margin-bottom: 12px; /* Add some space below the input */\n",
       "                }\n",
       "\n",
       "                #myTable {\n",
       "                  border-collapse: collapse; /* Collapse borders */\n",
       "                  width: 100%; /* Full-width */\n",
       "                  border: 1px solid #ddd; /* Add a grey border */\n",
       "                  font-size: 14px; /* Increase font-size */\n",
       "                }\n",
       "\n",
       "                #myTable th, #myTable td {\n",
       "                  text-align: left; /* Left-align text */\n",
       "                  padding: 10px; /* Add padding */\n",
       "                }\n",
       "\n",
       "                #myTable tr {\n",
       "                  /* Add a bottom border to all table rows */\n",
       "                  border-bottom: 1px solid #ddd;\n",
       "                }\n",
       "\n",
       "                #myTable tr.header, #myTable tr:hover {\n",
       "                  /* Add a grey background color to the table header and on hover */\n",
       "                  background-color: #777;\n",
       "                }\n",
       "                </style>\n",
       "\n",
       "                <table id=\"myTable\" style=\"width:1000px\">\n",
       "                  <tr class=\"header\">\n",
       "                    <th style=\"width:30px\">Idx</th>\n",
       "                    <th style=\"width:20%;\">Name</th>\n",
       "                    <th style=\"width:35%;\">Description</th>\n",
       "                    <th style=\"width:20%;\">Assets</th>\n",
       "                    <th style=\"width:300px;\">Id</th>\n",
       "                  </tr>\n",
       "                \n",
       "\n",
       "          <tr>\n",
       "            <td>[0]</td>\n",
       "            <td>My Private Data</td>\n",
       "            <td>A collection of medical images</td>\n",
       "            <td>[\"tensor_1\"] -> int32<br /><br /></td>\n",
       "            <td>82168158-eec9-4f61-b3da-647372b62a3c</td>\n",
       "          </tr>\n",
       "        </table>\n",
       "\n",
       "        <script>\n",
       "        function myFunction() {\n",
       "          // Declare variables\n",
       "          var input, filter, table, tr, td, i, txtValue;\n",
       "          input = document.getElementById(\"myInput\");\n",
       "          filter = input.value.toUpperCase();\n",
       "          table = document.getElementById(\"myTable\");\n",
       "          tr = table.getElementsByTagName(\"tr\");\n",
       "\n",
       "          // Loop through all table rows, and hide those who don't match the search query\n",
       "          for (i = 0; i < tr.length; i++) {\n",
       "            name_td = tr[i].getElementsByTagName(\"td\")[1];\n",
       "            desc_td = tr[i].getElementsByTagName(\"td\")[2];\n",
       "            asset_td = tr[i].getElementsByTagName(\"td\")[3];\n",
       "            id_td = tr[i].getElementsByTagName(\"td\")[4];\n",
       "            if (name_td || desc_td || asset_td || id_td) {\n",
       "              name_txtValue = name_td.textContent || name_td.innerText;\n",
       "              desc_txtValue = desc_td.textContent || name_td.innerText;\n",
       "              asset_txtValue = asset_td.textContent || name_td.innerText;\n",
       "              id_txtValue = id_td.textContent || name_td.innerText;\n",
       "              name_bool = name_txtValue.toUpperCase().indexOf(filter) > -1;\n",
       "              desc_bool = desc_txtValue.toUpperCase().indexOf(filter) > -1;\n",
       "              asset_bool = asset_txtValue.toUpperCase().indexOf(filter) > -1;\n",
       "              id_bool = id_txtValue.toUpperCase().indexOf(filter) > -1;\n",
       "              if (name_bool || desc_bool || asset_bool || id_bool) {\n",
       "                tr[i].style.display = \"\";\n",
       "              } else {\n",
       "                tr[i].style.display = \"none\";\n",
       "              }\n",
       "            }\n",
       "          }\n",
       "        }\n",
       "        </script>"
      ],
      "text/plain": [
       "<syft.core.node.common.client_manager.dataset_api.DatasetRequestAPI at 0x1527545b0>"
      ]
     },
     "execution_count": 15,
     "metadata": {},
     "output_type": "execute_result"
    }
   ],
   "source": [
    "domain_client.datasets"
   ]
  },
  {
   "cell_type": "markdown",
   "id": "ee7c4aa2-1833-49c6-8fa1-92421f156961",
   "metadata": {},
   "source": [
    "## Create a Data Scientist Account"
   ]
  },
  {
   "cell_type": "code",
   "execution_count": 17,
   "id": "b2878747-ff5c-4805-b069-1c4e283d2a5c",
   "metadata": {},
   "outputs": [],
   "source": [
    "data_scientist_details = {\n",
    "    \"name\": \"Samantha Carter\",\n",
    "    \"email\": \"sam@sg1.net\",\n",
    "    \"password\": \"stargate\",\n",
    "    \"budget\": 9999,\n",
    "}"
   ]
  },
  {
   "cell_type": "code",
   "execution_count": 18,
   "id": "781c9baf-9715-46cb-bc64-790597a369f3",
   "metadata": {},
   "outputs": [],
   "source": [
    "domain_client.users.create(**data_scientist_details)"
   ]
  },
  {
   "cell_type": "code",
   "execution_count": 19,
   "id": "f5aec7e8-29d8-48b4-89d2-80a2252558ad",
   "metadata": {},
   "outputs": [
    {
     "name": "stdout",
     "output_type": "stream",
     "text": [
      "Please give these details to the data scientist:\n",
      "{'url': '52.157.8.193', 'name': 'Samantha Carter', 'email': 'sam@sg1.net', 'password': 'stargate'}\n"
     ]
    }
   ],
   "source": [
    "print(\"Please give these details to the data scientist:\")\n",
    "login_details = {}\n",
    "login_details[\"url\"] = HOST_IP\n",
    "login_details[\"name\"] = data_scientist_details[\"name\"]\n",
    "login_details[\"email\"] = data_scientist_details[\"email\"]\n",
    "login_details[\"password\"] = data_scientist_details[\"password\"]\n",
    "print(login_details)"
   ]
  },
  {
   "cell_type": "code",
   "execution_count": null,
   "id": "0b90562f-82c6-4992-8271-bac34fa2335e",
   "metadata": {},
   "outputs": [],
   "source": []
  }
 ],
 "metadata": {
  "kernelspec": {
   "display_name": "Python 3 (ipykernel)",
   "language": "python",
   "name": "python3"
  },
  "language_info": {
   "codemirror_mode": {
    "name": "ipython",
    "version": 3
   },
   "file_extension": ".py",
   "mimetype": "text/x-python",
   "name": "python",
   "nbconvert_exporter": "python",
   "pygments_lexer": "ipython3",
   "version": "3.9.7"
  }
 },
 "nbformat": 4,
 "nbformat_minor": 5
}

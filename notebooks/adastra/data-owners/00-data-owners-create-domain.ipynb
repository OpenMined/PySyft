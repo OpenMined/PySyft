{
 "cells": [
  {
   "cell_type": "markdown",
   "id": "9b0aecae-6311-4607-85d3-fbf95f08353c",
   "metadata": {},
   "source": [
    "# Create a Domain"
   ]
  },
  {
   "cell_type": "markdown",
   "id": "f4203778-938a-4af2-8aaa-ec126ef95cd1",
   "metadata": {},
   "source": [
    "## Option 1: Azure Marketplace\n",
    "Create an [OpenMined PyGrid Domain](https://azuremarketplace.microsoft.com/en-us/marketplace/apps/madhavajay1632269232059.openmined_mj_grid_domain_ubuntu_1?tab=Overview) node on the Azure Marketplace"
   ]
  },
  {
   "cell_type": "markdown",
   "id": "3fd71286-6e7c-4c12-b399-56d3a0a25ca0",
   "metadata": {},
   "source": [
    "Make sure to choose version 0.7.0 from the drop down"
   ]
  },
  {
   "cell_type": "markdown",
   "id": "c41bce3b-fea2-4564-b84b-d2412c6a586a",
   "metadata": {},
   "source": [
    "![version](img/version.png)"
   ]
  },
  {
   "cell_type": "markdown",
   "id": "745e7661-00f9-4ad7-902d-6d315b7d0b53",
   "metadata": {},
   "source": [
    "Once your Domain has been started you will need to locate the IP Address"
   ]
  },
  {
   "cell_type": "markdown",
   "id": "1462c735-9b82-45f0-b2dc-8b7894901705",
   "metadata": {},
   "source": [
    "![ip_address](img/ip_address.png)"
   ]
  },
  {
   "cell_type": "markdown",
   "id": "9ca4da6b-41ad-43ec-a5b8-ae2fcba4358a",
   "metadata": {},
   "source": [
    "Note down the Public IP address, this will be your `HOST_IP` in the next notebook."
   ]
  },
  {
   "cell_type": "markdown",
   "id": "be912dbc-5614-4376-8c77-92fa22a5ef8f",
   "metadata": {},
   "source": [
    "Continue to the next notebook [01-data-owners-start.ipynb](01-data-owners-start.ipynb)"
   ]
  },
  {
   "cell_type": "markdown",
   "id": "c0fea63c-6427-4460-8e19-c83b37df7cd4",
   "metadata": {},
   "source": [
    "## Option 2: From a fresh Ubuntu VM"
   ]
  },
  {
   "cell_type": "markdown",
   "id": "2d2e5fb7-cf9a-4710-b917-ea498421a030",
   "metadata": {},
   "source": [
    "### Path 1: I know what SSH is and I have an SSH client"
   ]
  },
  {
   "cell_type": "markdown",
   "id": "ace71e2e-f1bf-4a46-bd07-8ea3b3601e27",
   "metadata": {},
   "source": [
    "#### Ubuntu / MacOS"
   ]
  },
  {
   "cell_type": "markdown",
   "id": "98068307-471e-4793-b0c8-54a6456d94c8",
   "metadata": {},
   "source": [
    "Run this command substituting `HOST_IP` for the IP address you have been given:\n",
    "\n",
    "```$ ssh -i ~/.ssh/azureuser.pem azureuser@HOST_IP```"
   ]
  },
  {
   "cell_type": "markdown",
   "id": "14ad51cb-7787-467d-b043-2c13ef6f3060",
   "metadata": {},
   "source": [
    "If you are asked to accept the server fingerprint type \"yes\" and hit enter"
   ]
  },
  {
   "cell_type": "markdown",
   "id": "1479b2c8-83d0-46ca-9e27-b43570294a8d",
   "metadata": {},
   "source": [
    "![ip_address](img/fingerprint_ssh.png)"
   ]
  },
  {
   "cell_type": "markdown",
   "id": "ac34f152-0994-4f73-9520-a9f7583a1e97",
   "metadata": {},
   "source": [
    "Once logged in your terminal should look like below"
   ]
  },
  {
   "cell_type": "markdown",
   "id": "3daea9aa-cbb7-4826-b3cd-3670ae5c26c4",
   "metadata": {},
   "source": [
    "![ip_address](img/ssh_login.png)"
   ]
  },
  {
   "cell_type": "markdown",
   "id": "7dc7b46c-fc11-4081-bed4-b2cbb96c6ea2",
   "metadata": {},
   "source": [
    "Continue to the next notebook [00-data-owners-provision-ubuntu.ipynb](00-data-owners-provision-ubuntu.ipynb)"
   ]
  },
  {
   "cell_type": "markdown",
   "id": "7683e808-3be6-4df0-80e2-73f7dbea2139",
   "metadata": {},
   "source": [
    "#### Windows\n",
    "\n",
    "..."
   ]
  },
  {
   "cell_type": "markdown",
   "id": "8361f9ab-d279-4bb0-b223-3c16e6893b33",
   "metadata": {},
   "source": [
    "### Path 2: I don't know what SSH or don't have an SSH client"
   ]
  },
  {
   "cell_type": "markdown",
   "id": "20449ce4-064e-4c76-81ae-07d892f3393c",
   "metadata": {},
   "source": [
    "No problem, lets use a free online [Web SSH Client](https://www.ssheasy.com/) at https://www.ssheasy.com/"
   ]
  },
  {
   "cell_type": "markdown",
   "id": "bbb9b594-4179-41e6-ac8d-bdb3b1dc21ea",
   "metadata": {},
   "source": [
    "Enter the `HOST_IP` given to you in the box which says \"Host to Connect\", then for \"User\" enter \"azureuser\" and finally load the private key with \"Select key file\" or copy and paste it into the \"Private Key\" field and hit Connect."
   ]
  },
  {
   "cell_type": "markdown",
   "id": "6c666293-920c-4e74-84d5-e9b0fc5404a8",
   "metadata": {},
   "source": [
    "![ip_address](img/ssh_web_credentials.png)"
   ]
  },
  {
   "cell_type": "markdown",
   "id": "3e7dc345-d812-4812-9a59-44204217cdcf",
   "metadata": {},
   "source": [
    "Accept the dialogue box asking to verify the Server fingerprint"
   ]
  },
  {
   "cell_type": "markdown",
   "id": "d6537e87-5c76-424f-a59e-8a737a897d85",
   "metadata": {},
   "source": [
    "![ip_address](img/fingerprint_web.png)"
   ]
  },
  {
   "cell_type": "markdown",
   "id": "2e3358d5-0883-4286-bf26-5e59e79c023a",
   "metadata": {},
   "source": [
    "Your terminal should now look like below"
   ]
  },
  {
   "cell_type": "markdown",
   "id": "4e8014e3-f45e-405c-9cc8-625bcec122ab",
   "metadata": {},
   "source": [
    "![ip_address](img/ssh_web.png)"
   ]
  },
  {
   "cell_type": "markdown",
   "id": "643b0186-3249-49a0-9c95-51a740dd68a5",
   "metadata": {},
   "source": [
    "If something stops working for some reason, you can always refresh the page and re-connect"
   ]
  },
  {
   "cell_type": "markdown",
   "id": "e528797a-1568-4715-815d-b622a5eeb7e6",
   "metadata": {},
   "source": [
    "Continue to the next notebook [00-data-owners-provision-ubuntu.ipynb](00-data-owners-provision-ubuntu.ipynb)"
   ]
  },
  {
   "cell_type": "code",
   "execution_count": null,
   "id": "3c9c9b83-410a-4e35-978c-2a4a1c4ce07e",
   "metadata": {},
   "outputs": [],
   "source": []
  }
 ],
 "metadata": {
  "kernelspec": {
   "display_name": "Python 3 (ipykernel)",
   "language": "python",
   "name": "python3"
  },
  "language_info": {
   "codemirror_mode": {
    "name": "ipython",
    "version": 3
   },
   "file_extension": ".py",
   "mimetype": "text/x-python",
   "name": "python",
   "nbconvert_exporter": "python",
   "pygments_lexer": "ipython3",
   "version": "3.10.3"
  }
 },
 "nbformat": 4,
 "nbformat_minor": 5
}

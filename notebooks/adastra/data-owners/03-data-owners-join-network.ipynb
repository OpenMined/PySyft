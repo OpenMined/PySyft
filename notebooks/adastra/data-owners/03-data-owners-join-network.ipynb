{
 "cells": [
  {
   "cell_type": "markdown",
   "id": "1a72486f-ffbd-4800-bc03-5e6427964faa",
   "metadata": {},
   "source": [
    "# Step 3: Join a Network"
   ]
  },
  {
   "cell_type": "markdown",
   "id": "0f2b049f-2237-4bd5-afad-6f530cb94435",
   "metadata": {
    "tags": []
   },
   "source": [
    "## Setup Variables\n",
    "\n",
    "Before we start let's store some variables that will come in handy later in the notebook."
   ]
  },
  {
   "cell_type": "code",
   "execution_count": null,
   "id": "f52e1821-74db-4fb9-be93-aead8da9bdcb",
   "metadata": {},
   "outputs": [],
   "source": [
    "# autodetect the host_ip\n",
    "from utils import auto_detect_domain_host_ip\n",
    "\n",
    "DOMAIN_HOST_IP = auto_detect_domain_host_ip()"
   ]
  },
  {
   "cell_type": "code",
   "execution_count": null,
   "id": "a16e5bbe-c7e1-4154-b564-ab8988ee88e2",
   "metadata": {
    "tags": []
   },
   "outputs": [],
   "source": [
    "# Set the email and password of your Domain node.\n",
    "# We will be using the default email and password that got created during Domain creation.\n",
    "\n",
    "ADMIN_EMAIL=\"info@openmined.org\"\n",
    "ADMIN_PASSWORD=\"changethis\""
   ]
  },
  {
   "cell_type": "markdown",
   "id": "aa93f1b5-d5b7-4095-afb0-92e5251cd04e",
   "metadata": {},
   "source": [
    "## Step 3a: Import Syft"
   ]
  },
  {
   "cell_type": "markdown",
   "id": "837d1051-fc15-4756-8cbb-c20479db7737",
   "metadata": {},
   "source": [
    "We have already installed syft for the demo, however installing syft is as easy as:\n",
    "\n",
    "`pip install --pre syft`."
   ]
  },
  {
   "cell_type": "code",
   "execution_count": null,
   "id": "a76b76cd",
   "metadata": {},
   "outputs": [],
   "source": [
    "# Let's install syft\n",
    "!pip install -q --pre syft\n",
    "print(\"Syft is successfully installed !!! 🙌\")"
   ]
  },
  {
   "cell_type": "code",
   "execution_count": null,
   "id": "bd4defd0-b775-42bc-a2ff-f849198ffdc0",
   "metadata": {},
   "outputs": [],
   "source": [
    "# Let's verify if syft is successfully installed\n",
    "import syft as sy\n",
    "print(f\"You're running syft version: {sy.__version__}\")"
   ]
  },
  {
   "cell_type": "markdown",
   "id": "aad195f8",
   "metadata": {},
   "source": [
    "## Log into the Domain"
   ]
  },
  {
   "cell_type": "markdown",
   "id": "a2c40e6f",
   "metadata": {},
   "source": [
    "Now that we have successfully installed `syft`, let's move on how one can log into a Domain node. There are two ways to log into your own node, as the Data Owner.\n",
    "\n",
    "1. Using the PySyft library\n",
    "2. Using the Web Interface"
   ]
  },
  {
   "cell_type": "markdown",
   "id": "2676b53b",
   "metadata": {},
   "source": [
    "### Using the PySyft library\n",
    "\n",
    "Let's use the `syft` library to login in to your domain and get an authenticated client to your Domain node.\n",
    "\n",
    "To login into the your domain you will need the following credentials:\n",
    "- url to the domain: Here the value in the `DOMAIN_HOST_IP` is the url to your domain.\n",
    "- email address: We will use the default email (`ADMIN_EMAIL`) set on domain creation.\n",
    "- password: We will use the default password (`ADMIN_PASSWORD`) set on domain creation.\n",
    "- port number: Port number on which the domain server is provisioned (defaults to 80)."
   ]
  },
  {
   "cell_type": "code",
   "execution_count": null,
   "id": "a1fb9475",
   "metadata": {},
   "outputs": [],
   "source": [
    "# Let's log into the domain using the credentials\n",
    "try:\n",
    "    domain_client = sy.login(\n",
    "        url=DOMAIN_HOST_IP, email=ADMIN_EMAIL, password=ADMIN_PASSWORD\n",
    "    )\n",
    "    print()\n",
    "    print(\"🎉 You successfully connected to your domain!\")\n",
    "except Exception as e:\n",
    "    print(\"❌ Unable to connect, did you set the `DOMAIN_HOST_IP` variable above?\")\n",
    "    raise e"
   ]
  },
  {
   "cell_type": "markdown",
   "id": "d2785cbf-40c6-4e28-b497-aad1e322cfdd",
   "metadata": {},
   "source": [
    "### Using the Web Interface\n",
    "\n",
    "We can access the domain node using a Web Interface via the IP Address defined in the variable `DOMAIN_HOST_IP`."
   ]
  },
  {
   "cell_type": "code",
   "execution_count": null,
   "id": "d8c9e542-7419-452d-87d3-8ab21eaaf4df",
   "metadata": {},
   "outputs": [],
   "source": [
    "print(f\"Check out PyGridUI here 👉🏽 http://{DOMAIN_HOST_IP}\")\n",
    "print()\n",
    "print(f\"Or you can access it via an iframe below 👇🏽\")"
   ]
  },
  {
   "cell_type": "code",
   "execution_count": null,
   "id": "4a11a58a-ff5b-4e15-a95d-0b92b677bf57",
   "metadata": {},
   "outputs": [],
   "source": [
    "print(\"This is a live 🖼 iframe into your domain, try logging in 😎\")\n",
    "from IPython.display import IFrame\n",
    "IFrame(f\"http://{DOMAIN_HOST_IP}\", width=1024, height=768)"
   ]
  },
  {
   "cell_type": "markdown",
   "id": "6a08f6b6-284f-4a7f-a3a1-b7440d346796",
   "metadata": {},
   "source": [
    "To login into the your domain you will need the following credentials:\n",
    "- email address: We will use the default email (`info@openmined.org`) set on domain creation\n",
    "- password: We will use the  default password (`changethis`) set on domain creation\n",
    "\n",
    "\n",
    "On accessing the url defined above you should be able to see the login page as shown in the image below.\n",
    "\n",
    "![Domain Login Page](img/pygrid_ui_login.png)\n",
    "\n",
    "On a sucessful login you will be redirected the users page, where you can manage all the users that have signed up to your domain."
   ]
  },
  {
   "cell_type": "markdown",
   "id": "1e19140b",
   "metadata": {},
   "source": [
    "## Network Node\n",
    "\n",
    "Our next step would be to connect to a Network Node. So, what is a Network Node?\n",
    "\n",
    "A Network Node is a level of abstraction above a Domain node. It is a server which exists outside of any data owner's institution, providing services to the network of data owners and data scientists.\n",
    "\n",
    "Therefore, a network node can be considered a collection of domains. A Network acts a bridge between between its members and subscribers. The members are **`Domains`** while subscribers are the **`end-users (e.g. Data Scientist)`** who explore and perform analysis on the datasets hosted by the members.\n",
    "\n",
    "Thus, in short, a Network node provides a secure interface between its members and subscribers.\n",
    "\n",
    "For the scope of this demonstration, *OpenMined* has created a Network node, to which we will register our Domain Node later in the notebook."
   ]
  },
  {
   "cell_type": "markdown",
   "id": "9cc06a47-47c5-41ae-841d-749d07e489db",
   "metadata": {},
   "source": [
    "### Step 3b: Connect to a Network"
   ]
  },
  {
   "cell_type": "markdown",
   "id": "159da9b9-bfcd-4d06-963c-3bbd7dbf4ddd",
   "metadata": {},
   "source": [
    "You can either connect to a Network directly by knowing its `NETWORK_IP` or `hostname` or, you can browse available networks in the OpenMined `NetworkRegistry`."
   ]
  },
  {
   "cell_type": "markdown",
   "id": "a0cbac79-49dc-4f1b-bdbe-774826e12b9a",
   "metadata": {},
   "source": [
    "### Lets checkout some Networks"
   ]
  },
  {
   "cell_type": "code",
   "execution_count": null,
   "id": "57bf77d7-5980-4197-a02c-a13ad7513c58",
   "metadata": {},
   "outputs": [],
   "source": [
    "sy.networks"
   ]
  },
  {
   "cell_type": "markdown",
   "id": "77476f18-c90f-4d62-acd9-5c9ca46ba01b",
   "metadata": {},
   "source": [
    "Lets connect to the `Ad Astra` Network"
   ]
  },
  {
   "cell_type": "code",
   "execution_count": null,
   "id": "c68f268b-9739-4eec-bafa-59ccad7bffa7",
   "metadata": {},
   "outputs": [],
   "source": [
    "network_client = sy.networks[\"Ad Astra 🚀🌌\"]"
   ]
  },
  {
   "cell_type": "markdown",
   "id": "0b948bb4",
   "metadata": {},
   "source": [
    "Since we will be logging into the Network node as a Guest User, therefore we don't need to provide an email or password as part of the login. As a *GUEST USER*, our scope will be limited to only a few operations/functionalities.\n",
    "\n",
    "**Note:** Network node is a fairly new concept and is under rapid development. New functionalities will be added to it soon."
   ]
  },
  {
   "cell_type": "markdown",
   "id": "b3b33744",
   "metadata": {},
   "source": [
    "On successful login, we will receive an authenticated client.\n",
    "\n",
    "Now that we have an authenticated client to the network, let's list the available domains on this Network."
   ]
  },
  {
   "cell_type": "code",
   "execution_count": null,
   "id": "8cca3233-4ca8-42e8-b3ad-e21918e81040",
   "metadata": {},
   "outputs": [],
   "source": [
    "# List the available domains on this Network\n",
    "network_client.domains"
   ]
  },
  {
   "cell_type": "markdown",
   "id": "40618cac-ffcc-40a5-9c33-dd43aeb4b8f7",
   "metadata": {},
   "source": [
    "### Join the Network\n",
    "\n",
    "As part of the next step, we will be joining the OpenMined network. Applying to a network will allow us to be listed as part of the Network.\n",
    "\n",
    "Let's apply to the Network. When we apply to join a network, the Domain client connects to the Network node through a secured VPN protocol (if a protocol is not established, then it will try to establish one) and then sends a request to join the Network."
   ]
  },
  {
   "cell_type": "code",
   "execution_count": null,
   "id": "a085c3f4-3ea4-4a3a-ab4b-54de864ba124",
   "metadata": {},
   "outputs": [],
   "source": [
    "# Let's apply to the Network\n",
    "domain_client.apply_to_network(network_client)"
   ]
  },
  {
   "cell_type": "markdown",
   "id": "17857c9e",
   "metadata": {},
   "source": [
    "On a successful request, our Domain is registered to the network node. Let's check this by listing the available domains on the network node."
   ]
  },
  {
   "cell_type": "code",
   "execution_count": null,
   "id": "8a12be27-bfa5-41ad-a22c-456471220c7d",
   "metadata": {},
   "outputs": [],
   "source": [
    "# Listing the available domains on the Network\n",
    "# to check if our Domain is present on it or not.\n",
    "network_client.domains"
   ]
  },
  {
   "cell_type": "markdown",
   "id": "7cf0b544",
   "metadata": {},
   "source": [
    "We can also check if the Network node is connected to the Domain via VPN by calling`.vpn_status()` method on the `<domain_client>`. If the Network node is succesfully connected to the Domain via the VPN, then it should be present in the `peers` list (in the response returned by `.vpn_status()` method)."
   ]
  },
  {
   "cell_type": "code",
   "execution_count": null,
   "id": "28b1d205-83b3-4afe-baaf-3481c9f7086e",
   "metadata": {},
   "outputs": [],
   "source": [
    "# Verify if domain is connected to the Network node via VPN.\n",
    "domain_client.vpn_status()"
   ]
  },
  {
   "cell_type": "markdown",
   "id": "540a6b83",
   "metadata": {},
   "source": [
    "Great !!! Now that we are part of the Network node, let's move on to upload the MedNIST dataset onto our Domain node."
   ]
  },
  {
   "cell_type": "markdown",
   "id": "6645742a-a91c-436c-9c0e-9c10b93029a1",
   "metadata": {},
   "source": [
    "Great !!! 🙌🙌\n",
    "\n",
    "You have successfully joined the Ad Astra network we can continue to the next notebook [04-data-owners-upload-dataset.ipynb](04-data-owners-upload-dataset.ipynb)."
   ]
  },
  {
   "cell_type": "code",
   "execution_count": null,
   "id": "106b8985-3694-43d2-aac5-2285941b2235",
   "metadata": {},
   "outputs": [],
   "source": []
  }
 ],
 "metadata": {
  "kernelspec": {
   "display_name": "Python 3 (ipykernel)",
   "language": "python",
   "name": "python3"
  },
  "language_info": {
   "codemirror_mode": {
    "name": "ipython",
    "version": 3
   },
   "file_extension": ".py",
   "mimetype": "text/x-python",
   "name": "python",
   "nbconvert_exporter": "python",
   "pygments_lexer": "ipython3",
   "version": "3.9.7"
  }
 },
 "nbformat": 4,
 "nbformat_minor": 5
}

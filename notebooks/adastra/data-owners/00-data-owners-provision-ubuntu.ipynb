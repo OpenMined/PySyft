{
 "cells": [
  {
   "cell_type": "markdown",
   "id": "a7ac6de0-8146-4bad-9a4d-84743b46bb3d",
   "metadata": {},
   "source": [
    "# Provisioning a Domain Node on Bare Ubuntu VM"
   ]
  },
  {
   "cell_type": "markdown",
   "id": "36699ab4-10ac-436a-963f-71e4e8d1c87b",
   "metadata": {},
   "source": [
    "Now that we have sshed into our virtual machine (as described in [00-data-owners-provision-ubuntu.ipynb](00-data-owners-provision-ubuntu.ipynb) notebook), let's move on to provision our Domain node.\n",
    "\n",
    "**Note:** These steps are designed to work on a Ubuntu 20.04 VM however the steps for other linux versions or other OSes are very similar."
   ]
  },
  {
   "cell_type": "markdown",
   "id": "d31d1629-a53c-4c26-9a35-84f9d4b5f69a",
   "metadata": {},
   "source": [
    "## Dependencies"
   ]
  },
  {
   "cell_type": "markdown",
   "id": "f7467c6b-88cd-4041-b6ea-108c22bd4372",
   "metadata": {},
   "source": [
    "PyGrid Domain's require the following software dependencies to run:"
   ]
  },
  {
   "cell_type": "markdown",
   "id": "16f0c287-7fcf-4be7-9b6a-3b9fa3dca1ee",
   "metadata": {},
   "source": [
    "- Docker (kubernetes is also available)\n",
    "- Python 3.7+\n",
    "- Git"
   ]
  },
  {
   "cell_type": "markdown",
   "id": "48fcefcc-3812-42e4-ab7d-0a5ddfac294d",
   "metadata": {},
   "source": [
    "## HAGrid CLI tool"
   ]
  },
  {
   "cell_type": "markdown",
   "id": "17787282-c839-4bdf-a145-ff9ffba8585d",
   "metadata": {},
   "source": [
    "We have a python command-line tool called `hagrid` which is capable of creating VMs as well as provisioning them.\n",
    "However unfortunately a fresh Ubuntu 20.04 box does not include `pip` to install HAGrid."
   ]
  },
  {
   "cell_type": "markdown",
   "id": "fff03000-1638-446f-a559-2316a44c2bf6",
   "metadata": {},
   "source": [
    "## Installing HAGrid"
   ]
  },
  {
   "cell_type": "markdown",
   "id": "03436906-5d5d-4b40-bd0d-1d2741d5dccc",
   "metadata": {},
   "source": [
    "A fresh install of Ubuntu 20.04 does not come with `pip` installed, so lets quickly install it as follows:"
   ]
  },
  {
   "cell_type": "markdown",
   "id": "17a330d8-e404-4ea3-8195-d4b039ea7116",
   "metadata": {},
   "source": [
    "```bash\n",
    "$ sudo apt update && sudo apt install python3-pip\n",
    "```"
   ]
  },
  {
   "cell_type": "markdown",
   "id": "77d27ab3-d59d-449e-8086-5999f5bc3b60",
   "metadata": {},
   "source": [
    "Once we have pip we can install HAGrid via `pip` as follows:"
   ]
  },
  {
   "cell_type": "markdown",
   "id": "f6f2351a-ff0c-4ef1-9813-483cf41c4ad7",
   "metadata": {},
   "source": [
    "```bash\n",
    "$ pip install hagrid\n",
    "```"
   ]
  },
  {
   "cell_type": "markdown",
   "id": "de9bcabf-5205-4ffd-89f0-94b0338448cc",
   "metadata": {},
   "source": [
    "The first time you try to run HAGrid you might get an error `hagrid: command not found`, this usually means that the directory pip installed the HAGrid `console_scripts` is not in your path yet because you just installed pip. On Linux you can simply source the .profile file to update your paths:\n",
    "\n",
    "```bash\n",
    "$ . ~/.profile\n",
    "```"
   ]
  },
  {
   "cell_type": "markdown",
   "id": "df691f61-5f1e-43e5-b927-75813d49722c",
   "metadata": {},
   "source": [
    "## Test HAGrid"
   ]
  },
  {
   "cell_type": "markdown",
   "id": "cceb29d4-5fe5-46f4-a4c6-bb63b0cd011b",
   "metadata": {},
   "source": [
    "Once HAGrid has installed you can simply type `hagrid` on the terminal to check if it is working.\n",
    "\n",
    "```bash\n",
    "$ hagrid\n",
    "```\n",
    "\n",
    "You should see the following table."
   ]
  },
  {
   "cell_type": "markdown",
   "id": "6af9ca34-ede8-483a-bebb-2cbc55d8769d",
   "metadata": {},
   "source": [
    "![hagrid_runs](img/hagrid_runs.png)"
   ]
  },
  {
   "cell_type": "markdown",
   "id": "03be73eb",
   "metadata": {},
   "source": [
    "HAGrid checks if all dependencies required for provisioning a Domain/Network node are installed. One can run: \n",
    "```bash\n",
    "$ hagrid --help\n",
    "```\n",
    "to see all the list of possible commands that can be run with the HAGrid cli tool.\n",
    "\n",
    "**Note**: We can see that *Docker* is not installed yet, but HAGrid will install it for us in the next step, when we provision our Domain node."
   ]
  },
  {
   "cell_type": "markdown",
   "id": "ffafa8fc-ead8-4a68-85d8-ad6b40b998d8",
   "metadata": {},
   "source": [
    "## Provisioning the Domain Node"
   ]
  },
  {
   "cell_type": "markdown",
   "id": "3aaa5165-b546-4f05-a4d7-42e0dc3d3fab",
   "metadata": {},
   "source": [
    "You can now use HAGrid to provision the Domain node. Note this can be done outside the box or inside the box or even on your local machine, however the commands vary slightly."
   ]
  },
  {
   "cell_type": "markdown",
   "id": "33230bd3-87c9-4c40-aa11-46c099f22c40",
   "metadata": {},
   "source": [
    "Since we're already logged into the VM and just want to provision our domain node, we will choose target to be `localhost`."
   ]
  },
  {
   "cell_type": "markdown",
   "id": "d1316d81-456f-43d6-b89a-c042ded4a2c2",
   "metadata": {},
   "source": [
    "```bash\n",
    "$ hagrid launch domain to localhost --jupyter\n",
    "```"
   ]
  },
  {
   "cell_type": "markdown",
   "id": "66c1e67c-87d9-4a91-afec-f396a9d6cdae",
   "metadata": {},
   "source": [
    "The HAGrid launch command follows the following format:\n",
    "```\n",
    "    hagrid launch <node_type> <node_name> to <target_host>\n",
    "```\n",
    "In our case, *node_type* is `domain` and *target_host* is `localhost` (since we're already logged into the VM).\n",
    "\n",
    "*node_name* is the name of the Domain and is an optional argument. If you don't specify a unique <node_name>, then HAGrid generates one automatically.\n",
    "\n",
    "The `--jupyter` flag provisions a jupyter notebook server along with the Domain node which we can accessed at port `8888`.\n",
    "\n",
    "**NOTE**: You can run almost any `hagrid launch` command with `--cmd=True` and it will do a dry run and only print the commands it would have run, without running them."
   ]
  },
  {
   "cell_type": "markdown",
   "id": "05f76e26-50c4-4287-a9bb-715d9c3f98e5",
   "metadata": {},
   "source": [
    "When prompted for `Branch to monitor for updates` make sure to enter branch as `0.7.0`."
   ]
  },
  {
   "cell_type": "markdown",
   "id": "d2f1875e-fe22-40ca-8976-3701e5b6be61",
   "metadata": {},
   "source": [
    "![hagrid_provision_localhost](img/hagrid_provision_localhost.png)"
   ]
  },
  {
   "cell_type": "markdown",
   "id": "5085038e-a12d-4403-b49c-2ae8b101d380",
   "metadata": {},
   "source": [
    "When HAGrid is finished you should see all the tasks completed in green with status `ok`."
   ]
  },
  {
   "cell_type": "markdown",
   "id": "f3702808-d150-491d-8556-1eda177e93ca",
   "metadata": {},
   "source": [
    "![ansible_output](img/ansible_output.png)"
   ]
  },
  {
   "cell_type": "markdown",
   "id": "c7e917bd-48a2-48e0-b4d0-976e9fe59bab",
   "metadata": {},
   "source": [
    "## Check if Domain is up"
   ]
  },
  {
   "cell_type": "markdown",
   "id": "ed1c99ad-ca0a-4d90-9962-1f7ef47912e5",
   "metadata": {},
   "source": [
    "The containers take a few moments to start up. To check if things are running we can either:\n",
    "\n",
    "- ask HAGrid\n",
    "- check the public `DOMAIN_HOST_IP` in your browser\n",
    "- run curl\n",
    "- check containers with ctop"
   ]
  },
  {
   "cell_type": "markdown",
   "id": "d0e143f3-a2b5-4ba9-b428-9ff70aca2286",
   "metadata": {},
   "source": [
    "### Ask HAGrid"
   ]
  },
  {
   "cell_type": "markdown",
   "id": "9481e405-6dff-4270-a5b9-f111b01b275a",
   "metadata": {},
   "source": [
    "```\n",
    "$ hagrid check DOMAIN_HOST_IP\n",
    "```"
   ]
  },
  {
   "cell_type": "markdown",
   "id": "527bbb94-069b-474d-a550-497523b7facb",
   "metadata": {},
   "source": [
    "As you can see the API server has not finished starting, if you wait a moment and run again it should go green. Also, you can see the url to access the `UI` to the Domain in the browser."
   ]
  },
  {
   "cell_type": "markdown",
   "id": "4e13598a-04aa-45d8-92bd-08dd5e611d30",
   "metadata": {},
   "source": [
    "![hagrid_check_host_ip](img/hagrid_check_host_ip.png)"
   ]
  },
  {
   "cell_type": "markdown",
   "id": "c71b4057-9438-4908-81d3-b4b05e225e5c",
   "metadata": {},
   "source": [
    "You should be able to copy or click on the `UI` URL to see it in your browser."
   ]
  },
  {
   "cell_type": "markdown",
   "id": "bbb633f4-e7ae-4516-a490-28076c662671",
   "metadata": {},
   "source": [
    "### Check in your Browser"
   ]
  },
  {
   "cell_type": "markdown",
   "id": "b3e04dd5-990b-40e0-beda-52ccd5b8bdc8",
   "metadata": {},
   "source": [
    "![check_browser](img/check_browser.png)"
   ]
  },
  {
   "cell_type": "markdown",
   "id": "702a6345-18fb-4bca-8267-c71e46d3a0d2",
   "metadata": {},
   "source": [
    "### Curl"
   ]
  },
  {
   "cell_type": "markdown",
   "id": "0fb6109f-3b4b-47c0-a645-5adf4d03cb3b",
   "metadata": {},
   "source": [
    "One can also use the cURL command to check if the Domain is up and running.\n",
    "\n",
    "```\n",
    "$ curl --head DOMAIN_HOST_IP\n",
    "```"
   ]
  },
  {
   "cell_type": "markdown",
   "id": "3af0f274-b0ba-4321-8781-5edf23c2f82a",
   "metadata": {},
   "source": [
    "![curl](img/curl.png)"
   ]
  },
  {
   "cell_type": "markdown",
   "id": "b1f2f535",
   "metadata": {},
   "source": [
    "**Note:**<br>\n",
    "If cURL is not installed on the ubuntu VM, one can simply install it using the following:\n",
    "```bash\n",
    "$ sudo apt update && sudo apt install curl\n",
    "$ curl --version\n",
    "\n",
    "```"
   ]
  },
  {
   "cell_type": "markdown",
   "id": "6a1ae2ce-7968-4db7-bd1e-f68965456523",
   "metadata": {},
   "source": [
    "### ctop"
   ]
  },
  {
   "cell_type": "markdown",
   "id": "f51192f7-829d-478a-90a5-907deb67ef88",
   "metadata": {},
   "source": [
    "If you wish to view the individual containers and their logs we have installed a utility called `ctop` which allows you to view them easily.\n",
    "\n",
    "```bash\n",
    "$ sudo ctop\n",
    "```\n",
    "\n",
    "You can use the arrow keys, enter and letter shortcuts to navigate around. For for information on `ctop` you can visit its [Github](https://github.com/bcicen/ctop) repo."
   ]
  },
  {
   "cell_type": "markdown",
   "id": "a44bdb80-19ea-46db-8963-3086fc1c44bf",
   "metadata": {},
   "source": [
    "![ctop](img/ctop.png)"
   ]
  },
  {
   "cell_type": "markdown",
   "id": "dda44e07-0bca-4d98-84e9-298747a2fe95",
   "metadata": {},
   "source": [
    "Great !!! 🙌🙌\n",
    "\n",
    "You have successfully launched your own Domain node. Once you have verified that all the services are up and running (using the steps defined above), we can continue to the next notebook [01-data-owners-start.ipynb](01-data-owners-start.ipynb)."
   ]
  }
 ],
 "metadata": {
  "kernelspec": {
   "display_name": "Python 3 (ipykernel)",
   "language": "python",
   "name": "python3"
  },
  "language_info": {
   "codemirror_mode": {
    "name": "ipython",
    "version": 3
   },
   "file_extension": ".py",
   "mimetype": "text/x-python",
   "name": "python",
   "nbconvert_exporter": "python",
   "pygments_lexer": "ipython3",
   "version": "3.9.7"
  }
 },
 "nbformat": 4,
 "nbformat_minor": 5
}

{
 "cells": [
  {
   "cell_type": "markdown",
   "id": "a7ac6de0-8146-4bad-9a4d-84743b46bb3d",
   "metadata": {},
   "source": [
    "# Step 2: Setup Domain"
   ]
  },
  {
   "cell_type": "markdown",
   "id": "36699ab4-10ac-436a-963f-71e4e8d1c87b",
   "metadata": {},
   "source": [
    "Now that we have sshed into our virtual machine (as described in the 👈🏿 notebook [01-data-owners-login.ipynb](01-data-owners-login.ipynb)), let's move on to provision our Domain node.\n",
    "\n",
    "**Note:** These steps are designed to work on a Ubuntu 20.04 VM however the steps for other linux versions or other OSes are very similar."
   ]
  },
  {
   "cell_type": "markdown",
   "id": "d31d1629-a53c-4c26-9a35-84f9d4b5f69a",
   "metadata": {},
   "source": [
    "## Dependencies"
   ]
  },
  {
   "cell_type": "markdown",
   "id": "f7467c6b-88cd-4041-b6ea-108c22bd4372",
   "metadata": {},
   "source": [
    "PyGrid Domains require the following software dependencies to run:"
   ]
  },
  {
   "cell_type": "markdown",
   "id": "16f0c287-7fcf-4be7-9b6a-3b9fa3dca1ee",
   "metadata": {},
   "source": [
    "- Docker (kubernetes is also available)\n",
    "- Python 3.7+\n",
    "- Git"
   ]
  },
  {
   "cell_type": "markdown",
   "id": "48fcefcc-3812-42e4-ab7d-0a5ddfac294d",
   "metadata": {},
   "source": [
    "## HAGrid CLI tool"
   ]
  },
  {
   "cell_type": "markdown",
   "id": "17787282-c839-4bdf-a145-ff9ffba8585d",
   "metadata": {},
   "source": [
    "We have a python command-line tool called `hagrid` which is capable of creating VMs as well as provisioning them.\n",
    "However unfortunately a fresh Ubuntu 20.04 box does not include `pip` to install HAGrid."
   ]
  },
  {
   "cell_type": "markdown",
   "id": "fff03000-1638-446f-a559-2316a44c2bf6",
   "metadata": {},
   "source": [
    "## Step 2a: Installing HAGrid"
   ]
  },
  {
   "cell_type": "markdown",
   "id": "03436906-5d5d-4b40-bd0d-1d2741d5dccc",
   "metadata": {},
   "source": [
    "A fresh install of Ubuntu 20.04 does not come with `pip` installed, so lets quickly install it as follows:"
   ]
  },
  {
   "cell_type": "markdown",
   "id": "2d3b03d2-0675-4374-8114-462267259a63",
   "metadata": {},
   "source": [
    "To speed up the demo we will use the openmined user which is running this notebook and has python packages precached."
   ]
  },
  {
   "cell_type": "markdown",
   "id": "495153b4-1324-45b9-b85c-60eed758aef7",
   "metadata": {},
   "source": [
    "First, lets change to the `om` user with:"
   ]
  },
  {
   "cell_type": "markdown",
   "id": "8702d0dd-0c4a-4721-81aa-9d19d540932f",
   "metadata": {},
   "source": [
    "```bash\n",
    "sudo su - om\n",
    "```"
   ]
  },
  {
   "cell_type": "markdown",
   "id": "8d2b47bc-184a-424b-93a8-7c6113ae029d",
   "metadata": {},
   "source": [
    "Your prompt should change to look like this:"
   ]
  },
  {
   "cell_type": "markdown",
   "id": "6b7448ef-af81-4728-8ff4-c9ebffd031b0",
   "metadata": {},
   "source": [
    "`om@nicetrask0:~$`"
   ]
  },
  {
   "cell_type": "markdown",
   "id": "f4e5c0a5-e42a-4d2c-90a6-ca1b4b80c8de",
   "metadata": {},
   "source": [
    "Next we install pip because it doesn't come with fresh Ubuntu:"
   ]
  },
  {
   "cell_type": "markdown",
   "id": "17a330d8-e404-4ea3-8195-d4b039ea7116",
   "metadata": {},
   "source": [
    "```bash\n",
    "sudo apt update && sudo apt install python3-pip\n",
    "```"
   ]
  },
  {
   "cell_type": "markdown",
   "id": "77d27ab3-d59d-449e-8086-5999f5bc3b60",
   "metadata": {},
   "source": [
    "Once we have pip we can install HAGrid via `pip` as follows:"
   ]
  },
  {
   "cell_type": "markdown",
   "id": "f6f2351a-ff0c-4ef1-9813-483cf41c4ad7",
   "metadata": {},
   "source": [
    "```bash\n",
    "pip install -U hagrid\n",
    "```"
   ]
  },
  {
   "cell_type": "markdown",
   "id": "de9bcabf-5205-4ffd-89f0-94b0338448cc",
   "metadata": {},
   "source": [
    "The first time you try to run HAGrid you might get an error `hagrid: command not found`, this usually means that the directory pip installed the HAGrid `console_scripts` is not in your path yet because you just installed pip. On Linux you can simply source the .profile file to update your paths:\n",
    "\n",
    "```bash\n",
    ". ~/.profile\n",
    "```"
   ]
  },
  {
   "cell_type": "markdown",
   "id": "df691f61-5f1e-43e5-b927-75813d49722c",
   "metadata": {},
   "source": [
    "## Test HAGrid"
   ]
  },
  {
   "cell_type": "markdown",
   "id": "cceb29d4-5fe5-46f4-a4c6-bb63b0cd011b",
   "metadata": {},
   "source": [
    "Once HAGrid has installed you can simply type `hagrid` on the terminal to check if it is working.\n",
    "\n",
    "```bash\n",
    "hagrid\n",
    "```\n",
    "\n",
    "You should see the following table."
   ]
  },
  {
   "cell_type": "markdown",
   "id": "6af9ca34-ede8-483a-bebb-2cbc55d8769d",
   "metadata": {},
   "source": [
    "![hagrid_runs](img/hagrid_runs.png)"
   ]
  },
  {
   "cell_type": "markdown",
   "id": "03be73eb",
   "metadata": {},
   "source": [
    "HAGrid checks if all dependencies required for provisioning a Domain/Network node are installed.\n",
    "\n",
    "**Note**: We can see that *Docker* is already installed to speed up the demo. However HAGrid can install *Docker* for you when we provision with the `localhost` target."
   ]
  },
  {
   "cell_type": "markdown",
   "id": "ffafa8fc-ead8-4a68-85d8-ad6b40b998d8",
   "metadata": {},
   "source": [
    "## Step 2b: Provisioning the Domain Node"
   ]
  },
  {
   "cell_type": "markdown",
   "id": "3aaa5165-b546-4f05-a4d7-42e0dc3d3fab",
   "metadata": {},
   "source": [
    "You can now use HAGrid to provision the Domain node. Note this can be done outside the box or inside the box or even on your local machine, however the commands vary slightly."
   ]
  },
  {
   "cell_type": "markdown",
   "id": "33230bd3-87c9-4c40-aa11-46c099f22c40",
   "metadata": {},
   "source": [
    "Since we're already logged into the VM and just want to provision our domain node, we will choose target to be `docker`."
   ]
  },
  {
   "cell_type": "markdown",
   "id": "d1316d81-456f-43d6-b89a-c042ded4a2c2",
   "metadata": {},
   "source": [
    "```bash\n",
    "hagrid launch to docker:80 --tag=latest --tail=false\n",
    "```"
   ]
  },
  {
   "cell_type": "markdown",
   "id": "66c1e67c-87d9-4a91-afec-f396a9d6cdae",
   "metadata": {},
   "source": [
    "The HAGrid launch command follows the following format:\n",
    "```\n",
    "    hagrid launch <node_type> <node_name> to <target_host>\n",
    "```\n",
    "In our case, *node_type* is `domain` and *target_host* is `docker` (since we're already logged into the VM).\n",
    "\n",
    "*node_name* is the name of the Domain and is an optional argument. If you don't specify a unique <node_name>, then HAGrid generates one automatically.\n",
    "\n",
    "The `--tag=latest` flag tells docker we want to use the `latest` pre-built containers from `dockerhub` and `tail=false` launches everything in the background.\n",
    "\n",
    "**NOTE**: You can run almost any `hagrid launch` command with `--cmd=True` and it will do a dry run and only print the commands it would have run, without running them."
   ]
  },
  {
   "cell_type": "markdown",
   "id": "5085038e-a12d-4403-b49c-2ae8b101d380",
   "metadata": {},
   "source": [
    "When HAGrid is finished you should see all containers printing `Started` and the command prompt again."
   ]
  },
  {
   "cell_type": "markdown",
   "id": "f3702808-d150-491d-8556-1eda177e93ca",
   "metadata": {},
   "source": [
    "![ansible_output](img/hagrid_docker_finish.png)"
   ]
  },
  {
   "cell_type": "markdown",
   "id": "c7e917bd-48a2-48e0-b4d0-976e9fe59bab",
   "metadata": {},
   "source": [
    "## Check if Domain is up"
   ]
  },
  {
   "cell_type": "markdown",
   "id": "ed1c99ad-ca0a-4d90-9962-1f7ef47912e5",
   "metadata": {},
   "source": [
    "The containers take a few moments to start up. To check if things are running we can:\n",
    "- ask HAGrid\n",
    "- check containers with ctop"
   ]
  },
  {
   "cell_type": "markdown",
   "id": "d0e143f3-a2b5-4ba9-b428-9ff70aca2286",
   "metadata": {},
   "source": [
    "### Ask HAGrid"
   ]
  },
  {
   "cell_type": "markdown",
   "id": "1196c7ba-e752-4979-ba67-5a124286ae9d",
   "metadata": {},
   "source": [
    "```bash\n",
    "hagrid check\n",
    "```"
   ]
  },
  {
   "cell_type": "markdown",
   "id": "527bbb94-069b-474d-a550-497523b7facb",
   "metadata": {},
   "source": [
    "As you can see the API server has not finished starting, if you wait a moment and run again it should go green. Also, you can see the url to access the `UI` to the Domain in the browser."
   ]
  },
  {
   "cell_type": "markdown",
   "id": "4e13598a-04aa-45d8-92bd-08dd5e611d30",
   "metadata": {},
   "source": [
    "![hagrid_check_host_ip](img/hagrid_check_host_ip.png)"
   ]
  },
  {
   "cell_type": "markdown",
   "id": "c71b4057-9438-4908-81d3-b4b05e225e5c",
   "metadata": {},
   "source": [
    "You should be able to copy or click on the `UI` URL to see it in your browser."
   ]
  },
  {
   "cell_type": "code",
   "execution_count": null,
   "id": "e0819ad2-4d9c-45e9-b8db-b720e04ffcdf",
   "metadata": {},
   "outputs": [],
   "source": [
    "# autodetect the host_ip\n",
    "from utils import auto_detect_domain_host_ip\n",
    "\n",
    "DOMAIN_HOST_IP = auto_detect_domain_host_ip()"
   ]
  },
  {
   "cell_type": "code",
   "execution_count": null,
   "id": "ec0294b7-2383-4b3f-be5e-17362131b9ee",
   "metadata": {},
   "outputs": [],
   "source": [
    "print(\"Your Domain's Web Portal should now be ready:\\n\")\n",
    "print(\"👇🏽 Click here to see PyGridUI\")\n",
    "print(f\"http://{DOMAIN_HOST_IP}\")"
   ]
  },
  {
   "cell_type": "markdown",
   "id": "bbb633f4-e7ae-4516-a490-28076c662671",
   "metadata": {},
   "source": [
    "### Check in your Browser"
   ]
  },
  {
   "cell_type": "markdown",
   "id": "b3e04dd5-990b-40e0-beda-52ccd5b8bdc8",
   "metadata": {},
   "source": [
    "![check_browser](img/check_browser.png)"
   ]
  },
  {
   "cell_type": "markdown",
   "id": "6a1ae2ce-7968-4db7-bd1e-f68965456523",
   "metadata": {},
   "source": [
    "### ctop"
   ]
  },
  {
   "cell_type": "markdown",
   "id": "f51192f7-829d-478a-90a5-907deb67ef88",
   "metadata": {},
   "source": [
    "If you wish to view the individual containers and their logs there a great utility called `ctop` which allows you to work with docker containers on the command line easily.\n",
    "\n",
    "We have pre-installed it for this demo so you can take it for a spin with:\n",
    "```bash\n",
    "sudo ctop\n",
    "```\n",
    "\n",
    "You can use the arrow keys, enter and letter shortcuts to navigate around. You need to just press `q` (small letter q) to quit or exit from `ctop` session.\n",
    "\n",
    "For information on `ctop` you can visit its [Github](https://github.com/bcicen/ctop) repo."
   ]
  },
  {
   "cell_type": "markdown",
   "id": "a44bdb80-19ea-46db-8963-3086fc1c44bf",
   "metadata": {},
   "source": [
    "![ctop](img/ctop.png)"
   ]
  },
  {
   "cell_type": "markdown",
   "id": "dda44e07-0bca-4d98-84e9-298747a2fe95",
   "metadata": {},
   "source": [
    "Great !!! 🙌🙌\n",
    "\n",
    "You have successfully launched your own Domain node. Once you have verified that all the services are up and running (using the steps defined above), we can continue to the next notebook [03-data-owners-join-network.ipynb](03-data-owners-join-network.ipynb)."
   ]
  },
  {
   "cell_type": "code",
   "execution_count": null,
   "id": "1260dbc4-50df-4be6-99d8-6cf0d40f3dfd",
   "metadata": {},
   "outputs": [],
   "source": []
  }
 ],
 "metadata": {
  "kernelspec": {
   "display_name": "Python 3 (ipykernel)",
   "language": "python",
   "name": "python3"
  },
  "language_info": {
   "codemirror_mode": {
    "name": "ipython",
    "version": 3
   },
   "file_extension": ".py",
   "mimetype": "text/x-python",
   "name": "python",
   "nbconvert_exporter": "python",
   "pygments_lexer": "ipython3",
   "version": "3.9.7"
  }
 },
 "nbformat": 4,
 "nbformat_minor": 5
}

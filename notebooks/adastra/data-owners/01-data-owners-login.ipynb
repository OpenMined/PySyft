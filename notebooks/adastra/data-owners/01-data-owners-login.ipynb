{
 "cells": [
  {
   "cell_type": "markdown",
   "id": "9b0aecae-6311-4607-85d3-fbf95f08353c",
   "metadata": {},
   "source": [
    "# Step 1: Log into System"
   ]
  },
  {
   "cell_type": "markdown",
   "id": "e8d79b0e",
   "metadata": {},
   "source": [
    "**What is a Domain Node ?**<br>\n",
    "A computer system (or collection of computer systems) which manages the remote study of a data owner's data by a data scientist. It is responsible for allowing the Data Owner to manage the data, as well as incoming requests from data scientists and for gatekeeping the data scientist's access to data, compute, and experimental results stored within the data owner's compute infrastructure.\n",
    "\n",
    "Let's start by creating our own Domain node. "
   ]
  },
  {
   "cell_type": "markdown",
   "id": "dc2f1e6d-03d6-4901-a2ef-e74ef102697a",
   "metadata": {},
   "source": [
    "Your Demo Coordinator will provided details for your very own fresh Ubuntu VM."
   ]
  },
  {
   "cell_type": "markdown",
   "id": "63af09a6-0f61-42ad-ac73-f137e194f19c",
   "metadata": {},
   "source": [
    "### Example Details"
   ]
  },
  {
   "cell_type": "markdown",
   "id": "c81dd32b-e301-4096-94c0-ae18725d851f",
   "metadata": {},
   "source": [
    "```\n",
    "Hi Person,\n",
    "These are your Session Details:\n",
    "-------------------------------\n",
    "Username: azureuser\n",
    "Password: **********\n",
    "VM IP Address: x.x.x.x\n",
    "\n",
    "MY_PARTICIPANT_NUMBER=1\n",
    "TOTAL_PARTICIPANTS=10\n",
    "```"
   ]
  },
  {
   "cell_type": "markdown",
   "id": "4be52f56-ce09-4558-89a7-4c678aeccb14",
   "metadata": {},
   "source": [
    "## SSH into your VM"
   ]
  },
  {
   "cell_type": "markdown",
   "id": "5a5d2ca3-0eae-4df8-a2cb-8f133d477b6e",
   "metadata": {},
   "source": [
    "👇🏽 Run this cell to automatically detect the IP of your VM."
   ]
  },
  {
   "cell_type": "code",
   "execution_count": null,
   "id": "3a633578-8b7d-433d-87d9-1286350a7d1f",
   "metadata": {},
   "outputs": [],
   "source": [
    "# autodetect the host_ip\n",
    "from utils import auto_detect_domain_host_ip\n",
    "\n",
    "DOMAIN_HOST_IP = auto_detect_domain_host_ip()"
   ]
  },
  {
   "cell_type": "markdown",
   "id": "8361f9ab-d279-4bb0-b223-3c16e6893b33",
   "metadata": {
    "jp-MarkdownHeadingCollapsed": true,
    "tags": []
   },
   "source": [
    "### Step 1a: I don't know what is SSH or don't have an SSH client"
   ]
  },
  {
   "cell_type": "markdown",
   "id": "20449ce4-064e-4c76-81ae-07d892f3393c",
   "metadata": {},
   "source": [
    "No problem, lets use a free online [Web SSH Client](https://www.ssheasy.com/) at https://www.ssheasy.com/"
   ]
  },
  {
   "cell_type": "code",
   "execution_count": null,
   "id": "2d38de60-559d-4575-97de-e50cabe5fe51",
   "metadata": {},
   "outputs": [],
   "source": [
    "print(f\"Enter the {DOMAIN_HOST_IP} given to you in the box which says 'Host to Connect' then for 'User' enter azureuser.\")"
   ]
  },
  {
   "cell_type": "markdown",
   "id": "bbb9b594-4179-41e6-ac8d-bdb3b1dc21ea",
   "metadata": {},
   "source": [
    "Finally, if you have a **password** to your VM, then enter it in the `password` box. Otherwise, if you have a **private key** to your VM, then load the private key with `Select key file` or copy and paste the contents of the private key it into the `Private Key` field and hit Connect."
   ]
  },
  {
   "cell_type": "markdown",
   "id": "6c666293-920c-4e74-84d5-e9b0fc5404a8",
   "metadata": {},
   "source": [
    "![ip_address](img/ssh_web_credentials.png)"
   ]
  },
  {
   "cell_type": "markdown",
   "id": "3e7dc345-d812-4812-9a59-44204217cdcf",
   "metadata": {},
   "source": [
    "Accept the dialogue box asking to verify the Server fingerprint"
   ]
  },
  {
   "cell_type": "markdown",
   "id": "d6537e87-5c76-424f-a59e-8a737a897d85",
   "metadata": {},
   "source": [
    "![ip_address](img/fingerprint_web.png)"
   ]
  },
  {
   "cell_type": "markdown",
   "id": "2e3358d5-0883-4286-bf26-5e59e79c023a",
   "metadata": {},
   "source": [
    "On a successful connection, you should have access to a terminal which would now look like the image below."
   ]
  },
  {
   "cell_type": "markdown",
   "id": "4e8014e3-f45e-405c-9cc8-625bcec122ab",
   "metadata": {},
   "source": [
    "![ip_address](img/ssh_web.png)"
   ]
  },
  {
   "cell_type": "markdown",
   "id": "643b0186-3249-49a0-9c95-51a740dd68a5",
   "metadata": {},
   "source": [
    "If something stops working for some reason, you can always refresh the page and re-connect."
   ]
  },
  {
   "cell_type": "markdown",
   "id": "e528797a-1568-4715-815d-b622a5eeb7e6",
   "metadata": {},
   "source": [
    "Next step would be to provision/launch your domain node. Continue to the following notebook [02-data-owners-setup-domain.ipynb](02-data-owners-setup-domain.ipynb)."
   ]
  },
  {
   "cell_type": "markdown",
   "id": "2d2e5fb7-cf9a-4710-b917-ea498421a030",
   "metadata": {
    "jp-MarkdownHeadingCollapsed": true,
    "tags": []
   },
   "source": [
    "### Step 1b: I know what is SSH and I have an SSH client"
   ]
  },
  {
   "cell_type": "markdown",
   "id": "ace71e2e-f1bf-4a46-bd07-8ea3b3601e27",
   "metadata": {},
   "source": [
    "#### Ubuntu / MacOS"
   ]
  },
  {
   "cell_type": "markdown",
   "id": "897176d8-37ca-4ff8-b584-0b1e8837dc86",
   "metadata": {},
   "source": [
    "The first step to `ssh` into your virtual machine through command line is to, open a new terminal in your local machine and run the following command:"
   ]
  },
  {
   "cell_type": "code",
   "execution_count": null,
   "id": "76805122-5b93-4d0a-9fef-104e1d8d1749",
   "metadata": {},
   "outputs": [],
   "source": [
    "print(f\"ssh azureuser@{DOMAIN_HOST_IP}\")"
   ]
  },
  {
   "cell_type": "markdown",
   "id": "5167345b-db05-42d7-9c94-0daffac588d7",
   "metadata": {},
   "source": [
    "If you are asked to accept the server fingerprint type `yes` and hit enter.\n",
    "\n",
    "You will then be prompted to enter your password."
   ]
  },
  {
   "cell_type": "markdown",
   "id": "1479b2c8-83d0-46ca-9e27-b43570294a8d",
   "metadata": {},
   "source": [
    "![ip_address](img/fingerprint_ssh.png)"
   ]
  },
  {
   "cell_type": "markdown",
   "id": "ac34f152-0994-4f73-9520-a9f7583a1e97",
   "metadata": {},
   "source": [
    "Once logged in, your terminal should look like below."
   ]
  },
  {
   "cell_type": "markdown",
   "id": "3daea9aa-cbb7-4826-b3cd-3670ae5c26c4",
   "metadata": {},
   "source": [
    "![ip_address](img/ssh_login.png)"
   ]
  },
  {
   "cell_type": "markdown",
   "id": "7dc7b46c-fc11-4081-bed4-b2cbb96c6ea2",
   "metadata": {},
   "source": [
    "Next step would be to provision/launch your domain node. Continue to the following notebook [02-data-owners-setup-domain.ipynb](02-data-owners-setup-domain.ipynb)"
   ]
  }
 ],
 "metadata": {
  "kernelspec": {
   "display_name": "Python 3 (ipykernel)",
   "language": "python",
   "name": "python3"
  },
  "language_info": {
   "codemirror_mode": {
    "name": "ipython",
    "version": 3
   },
   "file_extension": ".py",
   "mimetype": "text/x-python",
   "name": "python",
   "nbconvert_exporter": "python",
   "pygments_lexer": "ipython3",
   "version": "3.9.7"
  }
 },
 "nbformat": 4,
 "nbformat_minor": 5
}

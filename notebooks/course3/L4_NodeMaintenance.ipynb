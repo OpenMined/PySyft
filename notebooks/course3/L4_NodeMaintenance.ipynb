{
 "cells": [
  {
   "cell_type": "markdown",
   "id": "2658e30a-4ce1-4e3c-a631-a5bcf7b096aa",
   "metadata": {
    "tags": []
   },
   "source": [
    "# Lesson 4: Node Management\n",
    "\n",
    "<b><u>Instructors</b></u>: Ishan Mishra, Phil Culliton\n",
    "\n",
    "\n",
    "In this lesson, we'll pull back the curtain a bit and show you how to manage, maintain and customize your node. We'll be walking you through adding new users, changing priviledges, creating and responding to requests, and everything to do with network nodes!\n"
   ]
  },
  {
   "cell_type": "markdown",
   "id": "0aeb1825-a452-48fa-b8b0-687dd7eef4f1",
   "metadata": {},
   "source": [
    "<hr>"
   ]
  },
  {
   "cell_type": "markdown",
   "id": "b655bad5-1774-4c2d-936e-a35a9719e884",
   "metadata": {},
   "source": [
    "## Concept 1. Logging in! \n",
    "\n",
    "\n",
    "### 1.1 Via PySyft\n",
    "There are two ways to log into your own node, as the Data Owner. The first way is using the PySyft library:"
   ]
  },
  {
   "cell_type": "code",
   "execution_count": 1,
   "id": "ac1b13ac-b456-449c-825b-7d5629d62f0d",
   "metadata": {},
   "outputs": [],
   "source": [
    "import syft as sy\n",
    "import numpy as np"
   ]
  },
  {
   "cell_type": "code",
   "execution_count": 2,
   "id": "9e7745e9-0cc0-417a-aa51-456ceba2e67a",
   "metadata": {},
   "outputs": [
    {
     "name": "stdout",
     "output_type": "stream",
     "text": [
      "WARNING: CHANGE YOUR USERNAME AND PASSWORD!!! \n",
      "\n",
      "Anyone can login as an admin to your node right now because your password is still the default PySyft username and password!!!\n",
      "\n",
      "Connecting to http://localhost:8081... done! \t Logging into adp... done!\n"
     ]
    }
   ],
   "source": [
    "domain_node = sy.login(email=\"info@openmined.org\", password=\"changethis\", port=8081)"
   ]
  },
  {
   "cell_type": "markdown",
   "id": "63431254-02bb-4fd1-a4df-e848d6042b58",
   "metadata": {
    "tags": []
   },
   "source": [
    "\n",
    "### 1.2 Via the UI\n",
    "\n",
    "The second way involves using the same username and password, but logging in through the UI, which is accessible at <a href=\"http://localhost:8081\">localhost:8081</a>\n",
    "\n",
    "Please note, if you launched Hagrid to a different port, please replace 8081 with the appropriate portnumber!\n",
    "\n",
    "![alt text](ui_images/login_screen.png \"UI Login Screen\")"
   ]
  },
  {
   "cell_type": "markdown",
   "id": "1d4eaa2a-72aa-4f5b-aa45-65ea0b8d6df4",
   "metadata": {},
   "source": [
    "<hr>"
   ]
  },
  {
   "cell_type": "markdown",
   "id": "2cef3b59-837c-4909-82ba-a82e7af312a2",
   "metadata": {},
   "source": [
    "## Concept 2. Users!\n",
    "\n",
    "You might not be the only person using your domain node! Let's see how you can go about checking all the users on your domain node, as well as how to add and configure new ones!"
   ]
  },
  {
   "cell_type": "markdown",
   "id": "698d72df-b9dd-448d-ad60-fa692dc41a35",
   "metadata": {},
   "source": [
    "### 2.1 Seeing all users\n",
    "To see all the current users on a domain node, you can simply do the following once you've signed in using the PySyft library:"
   ]
  },
  {
   "cell_type": "code",
   "execution_count": 3,
   "id": "950009d8-e448-46ea-8de9-67fe9352fd4c",
   "metadata": {},
   "outputs": [
    {
     "data": {
      "text/html": [
       "<div>\n",
       "<style scoped>\n",
       "    .dataframe tbody tr th:only-of-type {\n",
       "        vertical-align: middle;\n",
       "    }\n",
       "\n",
       "    .dataframe tbody tr th {\n",
       "        vertical-align: top;\n",
       "    }\n",
       "\n",
       "    .dataframe thead th {\n",
       "        text-align: right;\n",
       "    }\n",
       "</style>\n",
       "<table border=\"1\" class=\"dataframe\">\n",
       "  <thead>\n",
       "    <tr style=\"text-align: right;\">\n",
       "      <th></th>\n",
       "      <th>added_by</th>\n",
       "      <th>allocated_budget</th>\n",
       "      <th>budget</th>\n",
       "      <th>budget_spent</th>\n",
       "      <th>created_at</th>\n",
       "      <th>daa_pdf</th>\n",
       "      <th>email</th>\n",
       "      <th>id</th>\n",
       "      <th>institution</th>\n",
       "      <th>name</th>\n",
       "      <th>role</th>\n",
       "      <th>verify_key</th>\n",
       "      <th>website</th>\n",
       "    </tr>\n",
       "  </thead>\n",
       "  <tbody>\n",
       "    <tr>\n",
       "      <th>0</th>\n",
       "      <td>&lt;syft.lib.python._SyNone object at 0x7fbb154c3...</td>\n",
       "      <td>0.0</td>\n",
       "      <td>5.55</td>\n",
       "      <td>0.0</td>\n",
       "      <td>2021-11-03 02:48:47.495871</td>\n",
       "      <td>&lt;syft.lib.python._SyNone object at 0x7fbb154c3...</td>\n",
       "      <td>info@openmined.org</td>\n",
       "      <td>1</td>\n",
       "      <td>&lt;syft.lib.python._SyNone object at 0x7fbb154c3...</td>\n",
       "      <td>Jane Doe</td>\n",
       "      <td>Owner</td>\n",
       "      <td>dd784cd6c0278a9cd11b69cdf4c4ca0076e661e3dd2e74...</td>\n",
       "      <td>&lt;syft.lib.python._SyNone object at 0x7fbb154c3...</td>\n",
       "    </tr>\n",
       "  </tbody>\n",
       "</table>\n",
       "</div>"
      ],
      "text/plain": [
       "<syft.core.node.common.client_manager.user_api.UserRequestAPI at 0x7fbb0e6ee040>"
      ]
     },
     "execution_count": 3,
     "metadata": {},
     "output_type": "execute_result"
    }
   ],
   "source": [
    "# See all the users\n",
    "domain_node.users"
   ]
  },
  {
   "cell_type": "markdown",
   "id": "8fd5c9d6-3d25-42c8-ad43-faee2d310757",
   "metadata": {},
   "source": [
    "<br>\n",
    "\n",
    "Alternatively, if you logged in using the UI, you are able to see the Users by clicking the \"Users\" field.\n",
    "\n",
    "![alt text](ui_images/users.png)"
   ]
  },
  {
   "cell_type": "markdown",
   "id": "d162ad28-789d-43c8-b16a-6f77414216fa",
   "metadata": {},
   "source": [
    "<hr>"
   ]
  },
  {
   "cell_type": "markdown",
   "id": "9bc5e346-31a0-4798-9ac4-7dabc935f8cc",
   "metadata": {},
   "source": [
    "### 2.2 Creating a New User!\n",
    "\n",
    "Creating a new user is again a really simple process. We just need to specify the following parameters when we're creating the account. Note that many of these can be changed and updated retroactively!\n",
    "\n",
    "Let's now try creating a user via PySyft, and validating that it worked."
   ]
  },
  {
   "cell_type": "code",
   "execution_count": 4,
   "id": "19d2b482-dcf3-4237-b426-76122c004495",
   "metadata": {},
   "outputs": [],
   "source": [
    "# Create a new user\n",
    "domain_node.users.create(\n",
    "    **{\n",
    "        \"name\": \"Sheldon Cooper\",\n",
    "        \"email\": \"sheldon@caltech.edu\",\n",
    "        \"password\": \"bazinga\",\n",
    "        \"budget\": 100\n",
    "    }\n",
    ")"
   ]
  },
  {
   "cell_type": "code",
   "execution_count": 5,
   "id": "505904f9-f962-4e97-879a-7539bfe37eeb",
   "metadata": {},
   "outputs": [
    {
     "data": {
      "text/html": [
       "<div>\n",
       "<style scoped>\n",
       "    .dataframe tbody tr th:only-of-type {\n",
       "        vertical-align: middle;\n",
       "    }\n",
       "\n",
       "    .dataframe tbody tr th {\n",
       "        vertical-align: top;\n",
       "    }\n",
       "\n",
       "    .dataframe thead th {\n",
       "        text-align: right;\n",
       "    }\n",
       "</style>\n",
       "<table border=\"1\" class=\"dataframe\">\n",
       "  <thead>\n",
       "    <tr style=\"text-align: right;\">\n",
       "      <th></th>\n",
       "      <th>added_by</th>\n",
       "      <th>allocated_budget</th>\n",
       "      <th>budget</th>\n",
       "      <th>budget_spent</th>\n",
       "      <th>created_at</th>\n",
       "      <th>daa_pdf</th>\n",
       "      <th>email</th>\n",
       "      <th>id</th>\n",
       "      <th>institution</th>\n",
       "      <th>name</th>\n",
       "      <th>role</th>\n",
       "      <th>verify_key</th>\n",
       "      <th>website</th>\n",
       "    </tr>\n",
       "  </thead>\n",
       "  <tbody>\n",
       "    <tr>\n",
       "      <th>0</th>\n",
       "      <td>&lt;syft.lib.python._SyNone object at 0x7fbb154c3...</td>\n",
       "      <td>0.0</td>\n",
       "      <td>5.55</td>\n",
       "      <td>0.0</td>\n",
       "      <td>2021-11-03 02:48:47.495871</td>\n",
       "      <td>&lt;syft.lib.python._SyNone object at 0x7fbb154c3...</td>\n",
       "      <td>info@openmined.org</td>\n",
       "      <td>1</td>\n",
       "      <td>&lt;syft.lib.python._SyNone object at 0x7fbb154c3...</td>\n",
       "      <td>Jane Doe</td>\n",
       "      <td>Owner</td>\n",
       "      <td>dd784cd6c0278a9cd11b69cdf4c4ca0076e661e3dd2e74...</td>\n",
       "      <td>&lt;syft.lib.python._SyNone object at 0x7fbb154c3...</td>\n",
       "    </tr>\n",
       "    <tr>\n",
       "      <th>1</th>\n",
       "      <td>Jane Doe</td>\n",
       "      <td>0.0</td>\n",
       "      <td>100.00</td>\n",
       "      <td>0.0</td>\n",
       "      <td>2021-11-03 06:24:10.657167</td>\n",
       "      <td>1</td>\n",
       "      <td>sheldon@caltech.edu</td>\n",
       "      <td>2</td>\n",
       "      <td></td>\n",
       "      <td>Sheldon Cooper</td>\n",
       "      <td>Data Scientist</td>\n",
       "      <td>2fef564b79c4fef21d1549a891d624d84e71c482af0c07...</td>\n",
       "      <td></td>\n",
       "    </tr>\n",
       "  </tbody>\n",
       "</table>\n",
       "</div>"
      ],
      "text/plain": [
       "<syft.core.node.common.client_manager.user_api.UserRequestAPI at 0x7fbb0e6ee040>"
      ]
     },
     "execution_count": 5,
     "metadata": {},
     "output_type": "execute_result"
    }
   ],
   "source": [
    "domain_node.users"
   ]
  },
  {
   "cell_type": "markdown",
   "id": "ccda843e-7fc8-4708-9d30-5caf6a5960f4",
   "metadata": {},
   "source": [
    "By default, this new user is a Data Scientist. However, other roles are also possible. You can see all the roles that are available by accessing <a href=\"http://localhost:8081/permissions\"> the UI</a> and clicking on \"Permissions\" in the Menu bar on the left side of the screen."
   ]
  },
  {
   "cell_type": "markdown",
   "id": "3cc7630b-ba2d-4f7c-a09a-5fce6dcd95a0",
   "metadata": {},
   "source": [
    "<hr>"
   ]
  },
  {
   "cell_type": "markdown",
   "id": "03f7fd2c-0d90-40bd-a2f5-e6d3d33a505b",
   "metadata": {},
   "source": [
    "### 2.3 User Permissions\n",
    "\n",
    "It's understandable that you might want to control how much a given user can change and tinker with your domain node. To allow for this, we've added customizable user permissions!\n",
    "\n",
    "As mentioned previously, these are accessible by accessing the <a href=\"http://localhost:8081/permissions\"> the UI</a> and clicking on \"Permissions\" in the Menu bar on the left side of the screen."
   ]
  },
  {
   "cell_type": "markdown",
   "id": "9a55018a-432c-413c-bb65-737affb6d181",
   "metadata": {},
   "source": [
    "![alt text](ui_images/permissions_unexpanded.png)"
   ]
  },
  {
   "cell_type": "markdown",
   "id": "83f1895c-824f-44eb-9ceb-55eea4fe0f11",
   "metadata": {},
   "source": [
    "Each of the 4 roles can be configured as you see fit. The parameters you can adjust are shown below:\n",
    "\n",
    "![alt text](ui_images/permissions_all.png)"
   ]
  },
  {
   "cell_type": "markdown",
   "id": "179c9cec-8ed2-4695-baf8-c627773d1d6c",
   "metadata": {},
   "source": [
    "<hr>"
   ]
  },
  {
   "cell_type": "markdown",
   "id": "ea1b2b82-1787-4c68-a8a5-1964c2bcf10b",
   "metadata": {
    "tags": []
   },
   "source": [
    "### Concept 3. Requests\n",
    "\n",
    "Requests are instances where a User wants to do something that they don't have authorization to do.\n",
    "\n",
    "\n",
    "As of the current release, there are 3 major types of requests:\n",
    "- <b> Data Access</b> requests: Occurs when someone wanting to use the data on the node.\n",
    "- <b>Privacy budget upgrade</b> requests: Occurs when a DS needs an upgrade of the privacy budget allocated to them.\n",
    "- <b>New Data Scientist Account</b> requests: Occurs when a Data Scientist wishes to create an account on the domain node.\n",
    "\n",
    "With each type of request, they can either be accepted, rejected, approved or granted. We'll show you how to do each, but first, let's show you how a user would put in a request."
   ]
  },
  {
   "cell_type": "markdown",
   "id": "c1b3f494-d5e0-45b0-9a61-bd94ebb08167",
   "metadata": {},
   "source": [
    "### 3.1 Putting in a Request\n",
    "\n",
    "Remember that data scientist account we created awhile back? We'll be making use of him now. Let's first use him to sign into our domain node."
   ]
  },
  {
   "cell_type": "code",
   "execution_count": 13,
   "id": "e39b28cd-0ab8-4148-b598-1fb6f0fcd654",
   "metadata": {},
   "outputs": [
    {
     "name": "stdout",
     "output_type": "stream",
     "text": [
      "Connecting to http://localhost:8081... done! \t Logging into adp... done!\n"
     ]
    }
   ],
   "source": [
    "data_scientist_node = sy.login(email=\"sheldon@caltech.edu\", password=\"bazinga\", port=8081)"
   ]
  },
  {
   "cell_type": "markdown",
   "id": "e0673d45-427e-4d17-bfdf-5649eebc326f",
   "metadata": {},
   "source": [
    "Now that he's logged in, let's say he checks the privacy budget available to him:"
   ]
  },
  {
   "cell_type": "code",
   "execution_count": 15,
   "id": "fc3e5be4-fd01-42e4-8800-48d9dd22808d",
   "metadata": {},
   "outputs": [
    {
     "data": {
      "text/plain": [
       "100.0"
      ]
     },
     "execution_count": 15,
     "metadata": {},
     "output_type": "execute_result"
    }
   ],
   "source": [
    "data_scientist_node.privacy_budget"
   ]
  },
  {
   "cell_type": "markdown",
   "id": "ef10606d-577f-484d-af24-4531c46e7997",
   "metadata": {},
   "source": [
    "Now let's say our data scientist isn't happy with this much privacy budget, and that he wants more. He could put in a request for more privacy budget, as follows:"
   ]
  },
  {
   "cell_type": "code",
   "execution_count": 14,
   "id": "5a6a2f31-da50-4d28-93be-3d9103cc6653",
   "metadata": {},
   "outputs": [
    {
     "name": "stdout",
     "output_type": "stream",
     "text": [
      "Requested 1000 epsilon of budget. Call .privacy_budget to see if your budget has arrived!\n"
     ]
    }
   ],
   "source": [
    "data_scientist_node.request_budget(eps=1000, reason=\"I want to do data exploration\")"
   ]
  },
  {
   "cell_type": "markdown",
   "id": "68ec4bdc-5f10-4665-8141-27d5c87b5df5",
   "metadata": {},
   "source": [
    "### 3.2 Responding to a Request"
   ]
  },
  {
   "cell_type": "markdown",
   "id": "190a0c54-c4d4-4695-9190-6f598dd695df",
   "metadata": {},
   "source": [
    "The request that the Data Scientist put in would be logged in the domain node, and could be viewed by the Data Owner at any time:"
   ]
  },
  {
   "cell_type": "code",
   "execution_count": 16,
   "id": "3636a5fa-5f9c-483c-a800-ecff0e18cf2e",
   "metadata": {},
   "outputs": [
    {
     "data": {
      "text/html": [
       "<div>\n",
       "<style scoped>\n",
       "    .dataframe tbody tr th:only-of-type {\n",
       "        vertical-align: middle;\n",
       "    }\n",
       "\n",
       "    .dataframe tbody tr th {\n",
       "        vertical-align: top;\n",
       "    }\n",
       "\n",
       "    .dataframe thead th {\n",
       "        text-align: right;\n",
       "    }\n",
       "</style>\n",
       "<table border=\"1\" class=\"dataframe\">\n",
       "  <thead>\n",
       "    <tr style=\"text-align: right;\">\n",
       "      <th></th>\n",
       "      <th>Requested Object's tags</th>\n",
       "      <th>Reason</th>\n",
       "      <th>Request ID</th>\n",
       "      <th>Requested Object's ID</th>\n",
       "      <th>Requested Object's type</th>\n",
       "    </tr>\n",
       "  </thead>\n",
       "  <tbody>\n",
       "    <tr>\n",
       "      <th>0</th>\n",
       "      <td>[]</td>\n",
       "      <td>I want to do data exploration</td>\n",
       "      <td>&lt;UID: 3ece116558bf41cfb4680847173b6c41&gt;</td>\n",
       "      <td>&lt;UID: 6e2fecb392834b6589f616b7c19cd72f&gt;</td>\n",
       "      <td>&lt;Budget&gt;</td>\n",
       "    </tr>\n",
       "  </tbody>\n",
       "</table>\n",
       "</div>"
      ],
      "text/plain": [
       "[<RequestMessage: 3ece116558bf41cfb4680847173b6c41>]"
      ]
     },
     "execution_count": 16,
     "metadata": {},
     "output_type": "execute_result"
    }
   ],
   "source": [
    "# See all the requests made to the domain node\n",
    "domain_node.requests"
   ]
  },
  {
   "cell_type": "markdown",
   "id": "bf3d6c9c-493e-49a7-bcaf-f8aa519580ba",
   "metadata": {},
   "source": [
    "Now, the Data Owner could investigate this request:"
   ]
  },
  {
   "cell_type": "code",
   "execution_count": 19,
   "id": "3bd573af-ffbd-4a2c-8333-315e0169a32f",
   "metadata": {},
   "outputs": [
    {
     "data": {
      "text/plain": [
       "'I want to do data exploration'"
      ]
     },
     "execution_count": 19,
     "metadata": {},
     "output_type": "execute_result"
    }
   ],
   "source": [
    "domain_node.requests[0].request_description"
   ]
  },
  {
   "cell_type": "markdown",
   "id": "b3c83a73-afdb-47cb-ace7-da82b4a91fb8",
   "metadata": {},
   "source": [
    "Let's say he decides to turn it down due to how much privacy budget is requested. He would run this:"
   ]
  },
  {
   "cell_type": "code",
   "execution_count": 60,
   "id": "b0aef9d8-6a76-4c09-b472-150848fd5f5e",
   "metadata": {},
   "outputs": [],
   "source": [
    "domain_node.requests[0].deny()"
   ]
  },
  {
   "cell_type": "code",
   "execution_count": 32,
   "id": "c082af80-b4b0-448f-a8f4-fc75d04cb371",
   "metadata": {},
   "outputs": [],
   "source": [
    "domain_node.requests[0].reject()"
   ]
  },
  {
   "cell_type": "markdown",
   "id": "5e2a6f80-f97b-4c8b-9f3d-9fe0b6d84979",
   "metadata": {},
   "source": [
    "If instead he wanted to accept the request, he could instead run:"
   ]
  },
  {
   "cell_type": "code",
   "execution_count": 33,
   "id": "e5afb00e-2066-41c0-88ad-cb0941cfeb9a",
   "metadata": {},
   "outputs": [],
   "source": [
    "domain_node.requests[0].accept()"
   ]
  },
  {
   "cell_type": "markdown",
   "id": "b5432f70-f755-48c5-8699-d0f7dddd42bc",
   "metadata": {},
   "source": [
    "It's important to note that after each grant or refusal, the request disappears from the object store and is no longer visible.\n",
    "\n",
    "![alt text](ui_images/no_requests.png)"
   ]
  },
  {
   "cell_type": "markdown",
   "id": "1bcda20d-6003-42b8-80dc-4b764f3ea2c3",
   "metadata": {},
   "source": [
    "<hr>"
   ]
  },
  {
   "cell_type": "markdown",
   "id": "152d1127-f5fc-4087-9268-bd1c01a9dac4",
   "metadata": {},
   "source": [
    "## Concept 4. Network Nodes!\n",
    "\n",
    "A Network Node is a level of abstraction above a domain node. It's a server which exists outside of any data owner's institution, providing services to a network of data owners and data scientists, such as dataset searching and bulk project approval (the ability to participate in projects across groups of domains and data scientsts at a time).\n",
    "\n",
    "We can view the available networks, and put in a request to join them via the UI:"
   ]
  },
  {
   "cell_type": "markdown",
   "id": "2c6424c2-2809-4786-8eee-5280eb33cc63",
   "metadata": {},
   "source": [
    "![alt text](ui_images/networks.png)"
   ]
  },
  {
   "cell_type": "markdown",
   "id": "24b12e20-14f2-4b83-a256-422a24253fdf",
   "metadata": {},
   "source": [
    "We can also do this via PySyft. To see the list of available networks we could join, we simply need to do:"
   ]
  },
  {
   "cell_type": "code",
   "execution_count": 40,
   "id": "ae83711a-b72f-439b-8527-dc4a55560af0",
   "metadata": {},
   "outputs": [
    {
     "data": {
      "text/html": [
       "<div>\n",
       "<style scoped>\n",
       "    .dataframe tbody tr th:only-of-type {\n",
       "        vertical-align: middle;\n",
       "    }\n",
       "\n",
       "    .dataframe tbody tr th {\n",
       "        vertical-align: top;\n",
       "    }\n",
       "\n",
       "    .dataframe thead th {\n",
       "        text-align: right;\n",
       "    }\n",
       "</style>\n",
       "<table border=\"1\" class=\"dataframe\">\n",
       "  <thead>\n",
       "    <tr style=\"text-align: right;\">\n",
       "      <th></th>\n",
       "      <th>name</th>\n",
       "      <th>host_or_ip</th>\n",
       "      <th>vpn_host_or_ip</th>\n",
       "      <th>protocol</th>\n",
       "      <th>port</th>\n",
       "      <th>admin_email</th>\n",
       "      <th>website</th>\n",
       "      <th>slack</th>\n",
       "      <th>slack_channel</th>\n",
       "    </tr>\n",
       "  </thead>\n",
       "  <tbody>\n",
       "    <tr>\n",
       "      <th>0</th>\n",
       "      <td>omnet</td>\n",
       "      <td>13.64.187.229</td>\n",
       "      <td>100.64.0.1</td>\n",
       "      <td>http</td>\n",
       "      <td>80</td>\n",
       "      <td>support@openmined.org</td>\n",
       "      <td>https://www.openmined.org/</td>\n",
       "      <td>https://slack.openmined.org/</td>\n",
       "      <td>omnet</td>\n",
       "    </tr>\n",
       "    <tr>\n",
       "      <th>1</th>\n",
       "      <td>United Nations PET Lab (Mock)</td>\n",
       "      <td>13.64.14.221</td>\n",
       "      <td>100.64.0.1</td>\n",
       "      <td>http</td>\n",
       "      <td>80</td>\n",
       "      <td>support@openmined.org</td>\n",
       "      <td>https://www.openmined.org/</td>\n",
       "      <td>https://slack.openmined.org/</td>\n",
       "      <td>petlab</td>\n",
       "    </tr>\n",
       "  </tbody>\n",
       "</table>\n",
       "</div>"
      ],
      "text/plain": [
       "<syft.registry.NetworkRegistry at 0x7fbb07e938b0>"
      ]
     },
     "execution_count": 40,
     "metadata": {},
     "output_type": "execute_result"
    }
   ],
   "source": [
    "sy.networks"
   ]
  },
  {
   "cell_type": "markdown",
   "id": "2c0ff222-26ab-466e-b6bd-f3dab4dad402",
   "metadata": {},
   "source": [
    "To join one, we would call:"
   ]
  },
  {
   "cell_type": "code",
   "execution_count": 41,
   "id": "8c19b159-c6df-47ab-8e44-84034ffa98f4",
   "metadata": {},
   "outputs": [
    {
     "name": "stdout",
     "output_type": "stream",
     "text": [
      "Connecting to http://13.64.14.221... done! \t Logging into united_nations_mock... as GUEST...done!\n"
     ]
    },
    {
     "data": {
      "text/plain": [
       "<NetworkClient: united_nations_mock>"
      ]
     },
     "execution_count": 41,
     "metadata": {},
     "output_type": "execute_result"
    }
   ],
   "source": [
    "un_network = sy.networks[1]"
   ]
  },
  {
   "cell_type": "markdown",
   "id": "deaec0c0-9404-4365-8213-92c6e5a6e964",
   "metadata": {},
   "source": [
    "A few things to note here- \n",
    "- We joined the Network as a Guest. This has limited capabilities.\n",
    "- Instead of indexing by its position in the networks, we could also index by name\n",
    "\n",
    "- <b> Upon selecting a network, we have access to all the public properties of the network!</b>"
   ]
  },
  {
   "cell_type": "markdown",
   "id": "34d67d98-1ea2-423c-9c25-2f7cc730dee5",
   "metadata": {},
   "source": [
    "After joining the network node, we can see all the domains that are attached to that network:"
   ]
  },
  {
   "cell_type": "code",
   "execution_count": 19,
   "id": "93b276ae-8e1e-4c3c-b29e-41858ad53dbb",
   "metadata": {},
   "outputs": [
    {
     "name": "stdout",
     "output_type": "stream",
     "text": [
      "\t\t     opengrid network"
     ]
    },
    {
     "data": {
      "text/html": [
       "<div>\n",
       "<style scoped>\n",
       "    .dataframe tbody tr th:only-of-type {\n",
       "        vertical-align: middle;\n",
       "    }\n",
       "\n",
       "    .dataframe tbody tr th {\n",
       "        vertical-align: top;\n",
       "    }\n",
       "\n",
       "    .dataframe thead th {\n",
       "        text-align: right;\n",
       "    }\n",
       "</style>\n",
       "<table border=\"1\" class=\"dataframe\">\n",
       "  <thead>\n",
       "    <tr style=\"text-align: right;\">\n",
       "      <th></th>\n",
       "      <th>host_or_ip</th>\n",
       "      <th>id</th>\n",
       "      <th>is_vpn</th>\n",
       "      <th>name</th>\n",
       "    </tr>\n",
       "  </thead>\n",
       "  <tbody>\n",
       "    <tr>\n",
       "      <th>0</th>\n",
       "      <td>100.64.0.3</td>\n",
       "      <td>84a28770a17d4b6199d78d66b3bdc8c3</td>\n",
       "      <td>1</td>\n",
       "      <td>relaxed_song</td>\n",
       "    </tr>\n",
       "    <tr>\n",
       "      <th>1</th>\n",
       "      <td>100.64.0.1</td>\n",
       "      <td>a2f53454633f4896852aae45d7bc4096</td>\n",
       "      <td>1</td>\n",
       "      <td>strange_he</td>\n",
       "    </tr>\n",
       "    <tr>\n",
       "      <th>2</th>\n",
       "      <td>100.64.0.4</td>\n",
       "      <td>201e5de97fc94b53a39b37a729efbb69</td>\n",
       "      <td>1</td>\n",
       "      <td>kind_kaliouby</td>\n",
       "    </tr>\n",
       "  </tbody>\n",
       "</table>\n",
       "</div>"
      ],
      "text/plain": [
       "<NetworkClient: opengrid>"
      ]
     },
     "execution_count": 19,
     "metadata": {},
     "output_type": "execute_result"
    }
   ],
   "source": [
    "opengrid = sy.networks[0]\n",
    "opengrid"
   ]
  },
  {
   "cell_type": "markdown",
   "id": "8243d0bc-3cff-4d5e-8b01-a23da83e04f2",
   "metadata": {},
   "source": [
    "Let's try to join one of these domains. We start by indexing into it:"
   ]
  },
  {
   "cell_type": "code",
   "execution_count": null,
   "id": "afcf7957-9a9c-44a8-bf8c-4ec19f5c0eea",
   "metadata": {},
   "outputs": [],
   "source": [
    "pclient = opengrid[2]"
   ]
  },
  {
   "cell_type": "code",
   "execution_count": 11,
   "id": "dab09d83-2f6e-4384-9dc2-69977bceaa88",
   "metadata": {},
   "outputs": [
    {
     "data": {
      "text/plain": [
       "(This is a logged out ProxyClient() object for a domain called 'kind_kaliouby'. Please call .login(email, password) to get a full client you can use for stuff.)"
      ]
     },
     "execution_count": 11,
     "metadata": {},
     "output_type": "execute_result"
    }
   ],
   "source": [
    "pclient"
   ]
  },
  {
   "cell_type": "markdown",
   "id": "f2c64318-35b2-4086-bde2-5de21879c5a7",
   "metadata": {},
   "source": [
    "We then we login as normal, as we would do to any domain!"
   ]
  },
  {
   "cell_type": "code",
   "execution_count": 12,
   "id": "66f0da43-d60a-41be-859e-06d2c606593e",
   "metadata": {},
   "outputs": [
    {
     "name": "stdout",
     "output_type": "stream",
     "text": [
      "Logged in to kind_kaliouby as info@openmined.org\n"
     ]
    }
   ],
   "source": [
    "client = pclient.login(email=\"info@openmined.org\", password=\"changethis\")"
   ]
  },
  {
   "cell_type": "markdown",
   "id": "7177ffd3-17da-4ac5-a617-5d5ec8199ede",
   "metadata": {},
   "source": [
    "Now we can view datasets, and use this domain node like we would any other:"
   ]
  },
  {
   "cell_type": "code",
   "execution_count": 18,
   "id": "388d28ae-c830-4ef7-93c7-f0e674a7dbac",
   "metadata": {},
   "outputs": [
    {
     "data": {
      "text/html": [
       "(no datasets found)"
      ],
      "text/plain": [
       "<syft.core.node.common.client_manager.dataset_api.DatasetRequestAPI at 0x7fe8a22b0130>"
      ]
     },
     "execution_count": 18,
     "metadata": {},
     "output_type": "execute_result"
    }
   ],
   "source": [
    "client.datasets"
   ]
  },
  {
   "cell_type": "markdown",
   "id": "fda5d207-1f49-4da6-851c-7179c5d849e9",
   "metadata": {},
   "source": [
    "In the event that we wanted our domain node to join a network, we could proceed as follows:"
   ]
  },
  {
   "cell_type": "code",
   "execution_count": 2,
   "id": "316ced1e-9690-4720-8850-28c274c303e8",
   "metadata": {},
   "outputs": [
    {
     "name": "stdout",
     "output_type": "stream",
     "text": [
      "WARNING: CHANGE YOUR USERNAME AND PASSWORD!!! \n",
      "\n",
      "Anyone can login as an admin to your node right now because your password is still the default PySyft username and password!!!\n",
      "\n",
      "Connecting to None... done! \t Logging into ecstatic_chollet... done!\n"
     ]
    }
   ],
   "source": [
    "# Login to our local domain node\n",
    "domain = sy.login(email=\"info@openmined.org\", password=\"changethis\", port=8081)"
   ]
  },
  {
   "cell_type": "code",
   "execution_count": 17,
   "id": "73412218-3132-46da-bfec-4b7d704cbb7d",
   "metadata": {},
   "outputs": [
    {
     "name": "stdout",
     "output_type": "stream",
     "text": [
      "🔌 <DomainClient - kind_kaliouby: <UID: 201e5de97fc94b53a39b37a729efbb69>> successfully connected to the VPN: http://40.83.192.48:80/api/v1\n",
      "Waiting to connect to VPN.\n",
      "Connected to VPN\n",
      "Application submitted.\n"
     ]
    }
   ],
   "source": [
    "# Applying to join is as simple as a one liner.\n",
    "domain.apply_to_network(opengrid)"
   ]
  },
  {
   "cell_type": "markdown",
   "id": "021df7bb-46a7-47e3-ad4f-66b920b74fad",
   "metadata": {},
   "source": [
    "# Summary\n",
    "In this notebook, you created a new user, learned how to change the user permissions, file and respond to requests, and even join a network node!\n",
    "In the next lesson, we'll be giving you a bigger taste of remote data science, and what you can do with it. Stay tuned!"
   ]
  },
  {
   "cell_type": "markdown",
   "id": "695b6f6e-0bcb-4939-9f6e-602f28fe8b2d",
   "metadata": {},
   "source": [
    "\n",
    "<hr>\n",
    "<hr>"
   ]
  },
  {
   "cell_type": "code",
   "execution_count": null,
   "id": "46d6b0fa-77c3-4adf-a963-7f18bdd697e5",
   "metadata": {},
   "outputs": [],
   "source": []
  }
 ],
 "metadata": {
  "kernelspec": {
   "display_name": "Python 3 (ipykernel)",
   "language": "python",
   "name": "python3"
  },
  "language_info": {
   "codemirror_mode": {
    "name": "ipython",
    "version": 3
   },
   "file_extension": ".py",
   "mimetype": "text/x-python",
   "name": "python",
   "nbconvert_exporter": "python",
   "pygments_lexer": "ipython3",
   "version": "3.10.3"
  }
 },
 "nbformat": 4,
 "nbformat_minor": 5
}

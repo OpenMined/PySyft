{
 "cells": [
  {
   "cell_type": "markdown",
   "id": "69ff7670",
   "metadata": {},
   "source": [
    "#### Upload dataset to domain\n",
    "\n",
    "- Currently, a user needs to load the whole dataset into memory and upload it over to the domain at once. This solution is not scalable when the user has a large amount of data to be uploaded to the domain.\n",
    "- A solution to the problem is to allow a user to add/upload assets to an already uploaded dataset. In this way the user can add multiple assets to the same dataset in batches."
   ]
  },
  {
   "cell_type": "code",
   "execution_count": 1,
   "id": "0a9400e2",
   "metadata": {},
   "outputs": [],
   "source": [
    "import syft as sy\n",
    "import os\n",
    "from PIL import Image\n",
    "import numpy as np\n",
    "import gc"
   ]
  },
  {
   "cell_type": "code",
   "execution_count": 55,
   "id": "fe676489",
   "metadata": {},
   "outputs": [
    {
     "name": "stdout",
     "output_type": "stream",
     "text": [
      "Connecting to http://localhost:8081... done! \t Logging into mednode... done!\n"
     ]
    }
   ],
   "source": [
    "# Logging into the domain\n",
    "\n",
    "domain = sy.login(\n",
    "    url=\"http://localhost\",\n",
    "    email=\"info@openmined.org\",\n",
    "    password=\"changethis\",\n",
    "    port=8081\n",
    ")"
   ]
  },
  {
   "cell_type": "code",
   "execution_count": 21,
   "id": "0b92fd7b",
   "metadata": {},
   "outputs": [],
   "source": [
    "from tqdm import tqdm"
   ]
  },
  {
   "cell_type": "markdown",
   "id": "969b6e6a",
   "metadata": {},
   "source": [
    "#### Uploading the whole dataset"
   ]
  },
  {
   "cell_type": "code",
   "execution_count": 3,
   "id": "55b4d6c3",
   "metadata": {},
   "outputs": [],
   "source": [
    "#### Load datasest to the domain\n",
    "data_dir = 'data/MedNIST/'\n",
    "class_names = sorted([x for x in os.listdir(data_dir) if os.path.isdir(os.path.join(data_dir, x))])\n",
    "num_classes = len(class_names)\n",
    "image_files = [[os.path.join(data_dir, class_name, x) \n",
    "                for x in os.listdir(os.path.join(data_dir, class_name))] \n",
    "               for class_name in class_names]\n",
    "\n",
    "image_file_list = []\n",
    "image_label_list = []\n",
    "for i, class_name in enumerate(class_names):\n",
    "    image_file_list.extend(image_files[i])\n",
    "    image_label_list.extend([i] * len(image_files[i]))\n",
    "num_total = len(image_label_list)\n",
    "image_width, image_height = Image.open(image_file_list[0]).size"
   ]
  },
  {
   "cell_type": "code",
   "execution_count": 36,
   "id": "75c711c5",
   "metadata": {},
   "outputs": [],
   "source": [
    "def load_as_numpy_array(image_file_list):\n",
    "    img_list = []\n",
    "    for image_path in tqdm(image_file_list):\n",
    "        img_list.append(np.asarray(Image.open(image_path)).astype(np.int32))\n",
    "    return img_list"
   ]
  },
  {
   "cell_type": "code",
   "execution_count": 37,
   "id": "2fe74eec",
   "metadata": {},
   "outputs": [
    {
     "name": "stderr",
     "output_type": "stream",
     "text": [
      "100%|██████████████████████████████████████████████████████████████████████████████████████████████████████████████████████████████████████████| 58954/58954 [00:09<00:00, 6138.40it/s]\n"
     ]
    }
   ],
   "source": [
    "data = load_as_numpy_array(image_file_list)"
   ]
  },
  {
   "cell_type": "code",
   "execution_count": 39,
   "id": "56052187",
   "metadata": {},
   "outputs": [],
   "source": [
    "data_tensors = sy.Tensor(data)"
   ]
  },
  {
   "cell_type": "code",
   "execution_count": 54,
   "id": "89daa3d0",
   "metadata": {},
   "outputs": [],
   "source": [
    "private_image_tensors = data_tensors.annotate_with_dp_metadata(lower_bound=0, upper_bound=255, entities=[str(s) for s in range(data_tensors.shape[0])])"
   ]
  },
  {
   "cell_type": "code",
   "execution_count": 57,
   "id": "39a71362",
   "metadata": {},
   "outputs": [],
   "source": [
    "label_tensors = sy.Tensor(np.array(image_label_list).astype(np.int32))\n",
    "private_label_tensors = label_tensors.annotate_with_dp_metadata(lower_bound=0, upper_bound=5, entities=[str(s) for s in range(data_tensors.shape[0])])"
   ]
  },
  {
   "cell_type": "code",
   "execution_count": null,
   "id": "41be8491",
   "metadata": {},
   "outputs": [],
   "source": [
    "# There are two ways in which a user can upload their datasets to the domain"
   ]
  },
  {
   "cell_type": "code",
   "execution_count": null,
   "id": "a98fb814",
   "metadata": {},
   "outputs": [],
   "source": [
    "# Metadata related to the dataset\n",
    "\n",
    "metadata = {\n",
    "    \"class_names\": class_names,  # Class names of the labels\n",
    "}"
   ]
  },
  {
   "cell_type": "code",
   "execution_count": null,
   "id": "8ec1a32b",
   "metadata": {},
   "outputs": [],
   "source": [
    "# Ist Way: Current Way\n",
    "# Load all the dataset into memory and load the whole dataset to the domain at once\n",
    "\n",
    "domain.load_dataset(\n",
    "    assets={\"imageData\": private_image_tensors, \"labels\": private_label_tensors},\n",
    "    name=\"MedNIST\",\n",
    "    description=\"MedNIST Description\",\n",
    "    metadata=metadata\n",
    ")"
   ]
  },
  {
   "cell_type": "code",
   "execution_count": 8,
   "id": "2f450448",
   "metadata": {},
   "outputs": [
    {
     "name": "stdout",
     "output_type": "stream",
     "text": [
      "\n",
      "Name: MedNIST\n",
      "Description: MedNIST Description\n",
      "\n"
     ]
    },
    {
     "data": {
      "text/html": [
       "<div>\n",
       "<style scoped>\n",
       "    .dataframe tbody tr th:only-of-type {\n",
       "        vertical-align: middle;\n",
       "    }\n",
       "\n",
       "    .dataframe tbody tr th {\n",
       "        vertical-align: top;\n",
       "    }\n",
       "\n",
       "    .dataframe thead th {\n",
       "        text-align: right;\n",
       "    }\n",
       "</style>\n",
       "<table border=\"1\" class=\"dataframe\">\n",
       "  <thead>\n",
       "    <tr style=\"text-align: right;\">\n",
       "      <th></th>\n",
       "      <th>Asset Key</th>\n",
       "      <th>Type</th>\n",
       "      <th>Shape</th>\n",
       "    </tr>\n",
       "  </thead>\n",
       "  <tbody>\n",
       "    <tr>\n",
       "      <th>0</th>\n",
       "      <td>[\"imageData\"]</td>\n",
       "      <td>Tensor</td>\n",
       "      <td>(40000, 256, 256, 3)</td>\n",
       "    </tr>\n",
       "    <tr>\n",
       "      <th>1</th>\n",
       "      <td>[\"labels\"]</td>\n",
       "      <td>Tensor</td>\n",
       "      <td>(40000,)</td>\n",
       "    </tr>\n",
       "  </tbody>\n",
       "</table>\n",
       "</div>"
      ],
      "text/plain": [
       "       Asset Key    Type                 Shape\n",
       "0  [\"imageData\"]  Tensor  (40000, 256, 256, 3)\n",
       "1     [\"labels\"]  Tensor              (40000,)"
      ]
     },
     "execution_count": 8,
     "metadata": {},
     "output_type": "execute_result"
    }
   ],
   "source": [
    "domain.datasets[0]"
   ]
  },
  {
   "cell_type": "markdown",
   "id": "2040a72d",
   "metadata": {},
   "source": [
    "#### Uploading individual assets to a dataset"
   ]
  },
  {
   "cell_type": "code",
   "execution_count": null,
   "id": "fccd1ecd",
   "metadata": {},
   "outputs": [],
   "source": [
    "# IInd Way\n",
    "# Creates an empty dataset object\n",
    "\n",
    "# Step I: Create an empty dataset\n",
    "dataset_pointer = domain.create_dataset(\n",
    "    name=\"MedNIST\", description=\"MedNIST Description\",\n",
    "    tags=[\"Medical\", \"X-Ray Images\"],\n",
    "    metadata=metadata,\n",
    ")\n",
    "\n",
    "# Ste II: Add asset to existing dataset\n",
    "dataset_pointer.add(key=\"imageData\", val=private_image_tensors)"
   ]
  },
  {
   "cell_type": "markdown",
   "id": "f124910c",
   "metadata": {},
   "source": [
    "```bash\n",
    "Loading dataset ......  Checking assets......\n",
    "Uploading ..... [100%]\n",
    "Done.\n",
    "\n",
    "```"
   ]
  },
  {
   "cell_type": "code",
   "execution_count": 6,
   "id": "4a53f45d",
   "metadata": {},
   "outputs": [
    {
     "name": "stdout",
     "output_type": "stream",
     "text": [
      "\n",
      "Name: MedNIST\n",
      "Description: MedNIST Description\n",
      "\n"
     ]
    },
    {
     "data": {
      "text/html": [
       "<div>\n",
       "<style scoped>\n",
       "    .dataframe tbody tr th:only-of-type {\n",
       "        vertical-align: middle;\n",
       "    }\n",
       "\n",
       "    .dataframe tbody tr th {\n",
       "        vertical-align: top;\n",
       "    }\n",
       "\n",
       "    .dataframe thead th {\n",
       "        text-align: right;\n",
       "    }\n",
       "</style>\n",
       "<table border=\"1\" class=\"dataframe\">\n",
       "  <thead>\n",
       "    <tr style=\"text-align: right;\">\n",
       "      <th></th>\n",
       "      <th>Asset Key</th>\n",
       "      <th>Type</th>\n",
       "      <th>Shape</th>\n",
       "    </tr>\n",
       "  </thead>\n",
       "  <tbody>\n",
       "    <tr>\n",
       "      <th>0</th>\n",
       "      <td>[\"imageData\"]</td>\n",
       "      <td>Tensor</td>\n",
       "      <td>(40000, 256, 256, 3)</td>\n",
       "    </tr>\n",
       "  </tbody>\n",
       "</table>\n",
       "</div>"
      ],
      "text/plain": [
       "       Asset Key    Type                 Shape\n",
       "0  [\"imageData\"]  Tensor  (40000, 256, 256, 3)"
      ]
     },
     "execution_count": 6,
     "metadata": {},
     "output_type": "execute_result"
    }
   ],
   "source": [
    "dataset_pointer"
   ]
  },
  {
   "cell_type": "code",
   "execution_count": null,
   "id": "b1295dbe",
   "metadata": {},
   "outputs": [],
   "source": [
    "dataset_pointer.add(key=\"labels\", val=private_label_tensors)"
   ]
  },
  {
   "cell_type": "code",
   "execution_count": 7,
   "id": "c965efb8",
   "metadata": {},
   "outputs": [
    {
     "name": "stdout",
     "output_type": "stream",
     "text": [
      "\n",
      "Name: MedNIST\n",
      "Description: MedNIST Description\n",
      "\n"
     ]
    },
    {
     "data": {
      "text/html": [
       "<div>\n",
       "<style scoped>\n",
       "    .dataframe tbody tr th:only-of-type {\n",
       "        vertical-align: middle;\n",
       "    }\n",
       "\n",
       "    .dataframe tbody tr th {\n",
       "        vertical-align: top;\n",
       "    }\n",
       "\n",
       "    .dataframe thead th {\n",
       "        text-align: right;\n",
       "    }\n",
       "</style>\n",
       "<table border=\"1\" class=\"dataframe\">\n",
       "  <thead>\n",
       "    <tr style=\"text-align: right;\">\n",
       "      <th></th>\n",
       "      <th>Asset Key</th>\n",
       "      <th>Type</th>\n",
       "      <th>Shape</th>\n",
       "    </tr>\n",
       "  </thead>\n",
       "  <tbody>\n",
       "    <tr>\n",
       "      <th>0</th>\n",
       "      <td>[\"imageData\"]</td>\n",
       "      <td>Tensor</td>\n",
       "      <td>(40000, 256, 256, 3)</td>\n",
       "    </tr>\n",
       "    <tr>\n",
       "      <th>1</th>\n",
       "      <td>[\"labels\"]</td>\n",
       "      <td>Tensor</td>\n",
       "      <td>(40000,)</td>\n",
       "    </tr>\n",
       "  </tbody>\n",
       "</table>\n",
       "</div>"
      ],
      "text/plain": [
       "       Asset Key    Type                 Shape\n",
       "0  [\"imageData\"]  Tensor  (40000, 256, 256, 3)\n",
       "1     [\"labels\"]  Tensor              (40000,)"
      ]
     },
     "execution_count": 7,
     "metadata": {},
     "output_type": "execute_result"
    }
   ],
   "source": [
    "dataset_pointer"
   ]
  },
  {
   "cell_type": "code",
   "execution_count": null,
   "id": "c4b26dff",
   "metadata": {},
   "outputs": [],
   "source": [
    "# We can perform other CRUD operations on the assets\n",
    "\n",
    "# delete an asset\n",
    "dataset_pointer.delete(key=\"imageData\")\n",
    "\n",
    "# update an asset\n",
    "dataset_pointer.update(key=\"imageData\", val=private_image_tensors)"
   ]
  },
  {
   "cell_type": "code",
   "execution_count": 4,
   "id": "00654df8",
   "metadata": {},
   "outputs": [
    {
     "name": "stdout",
     "output_type": "stream",
     "text": [
      "\n",
      "    \u001b[91mAssetDoesNotExists:\u001b[0m\n",
      "        The asset with key `assetKey` does not exists.\n",
      "\n"
     ]
    }
   ],
   "source": [
    "# If key is not present, raise an Error\n",
    "dataset_pointer.delete(key=\"assetKey\")"
   ]
  },
  {
   "cell_type": "code",
   "execution_count": 6,
   "id": "b2135242",
   "metadata": {},
   "outputs": [
    {
     "name": "stdout",
     "output_type": "stream",
     "text": [
      "\n",
      "    \u001b[91mAssetDoesNotExists:\u001b[0m\n",
      "        The asset with key `assetKey` does not exists.\n",
      "        Please use `.add` to add a new asset to the dataset.\n",
      "\n"
     ]
    }
   ],
   "source": [
    "# Similarly, throw an error on update if the asset key doesn't exist\n",
    "dataset_pointer.update(key=\"assetKey\", value=list(range(100)))"
   ]
  },
  {
   "cell_type": "code",
   "execution_count": 15,
   "id": "aeb33c21",
   "metadata": {},
   "outputs": [
    {
     "name": "stdout",
     "output_type": "stream",
     "text": [
      "\n",
      "    \u001b[91mIntegrityError:\u001b[0m\n",
      "        The asset with key `imageData` already exists.\n",
      "        Please use a different key name.\n",
      "\n"
     ]
    }
   ],
   "source": [
    "# Adding an asset with `key` already exists\n",
    "\n",
    "dataset_pointer.add(key=\"imageData\", val=np.random.randrange(100, 2, 3))"
   ]
  },
  {
   "cell_type": "code",
   "execution_count": null,
   "id": "ab201fe2",
   "metadata": {},
   "outputs": [],
   "source": [
    "#### Uploading asset in batches\n",
    "\n",
    "\n",
    "start, end = 0, len(image_file_list)\n",
    "batch_size = 1000\n",
    "idx = 0\n",
    "while(start < end):\n",
    "    idx += 1\n",
    "    \n",
    "    batch = image_file_list[start:end] # Select a batch of images\n",
    "    data_tensors = sy.Tensor(load_as_numpy_array(batch)) # Load the images as numpy array and convert them to Tensors\n",
    "    \n",
    "    # Add ADP metadata to image tensors \n",
    "    private_image_tensors = data_tensors.annotate_with_dp_metadata(\n",
    "        lower_bound=0, upper_bound=255, entities=[str(s) for s in range(start, end)]\n",
    "    )\n",
    "    \n",
    "    key = f\"imageData_{idx}\"  # Asset key\n",
    "    dataset_pointer.add(key=key, val=private_image_tensors)  # Add asset to the dataset pointer\n",
    "    start += batch_size\n",
    "    print(f\"Batches successfully uploaded: {idx}/{end//batch_size}\")"
   ]
  },
  {
   "cell_type": "markdown",
   "id": "0b3e025d",
   "metadata": {},
   "source": [
    "```\n",
    "    Batches successfully uploaded: 2/60\n",
    "```"
   ]
  },
  {
   "cell_type": "code",
   "execution_count": 13,
   "id": "91e3524f",
   "metadata": {},
   "outputs": [
    {
     "name": "stdout",
     "output_type": "stream",
     "text": [
      "\n",
      "    \u001b[91mPermissionDenied:\u001b[0m\n",
      "        Sorry, looks like you don't have permissions to perform the operation.\n",
      "\n"
     ]
    }
   ],
   "source": [
    "#### A Data Scientist tries to upload or add an asset\n",
    "# Or any user who doesn't have upload permissions to the domain\n",
    "# Then throw an error.\n",
    "\n",
    "ds_client = sy.login(\n",
    "    url=\"http://localhost\",\n",
    "    email=\"sheldon@caltech.edu\",\n",
    "    password=\"bazinga\",\n",
    "    port=8081\n",
    ")\n",
    "\n",
    "# Tries to create a dataset\n",
    "dataset_ptr = ds_client.create_dataset(\n",
    "    name=\"Hello\", description=\"My Dataset\",\n",
    "    tags=[\"Tag1\", \"Tag2\"]\n",
    ")\n",
    "\n",
    "# or add asset to the dataset\n",
    "dataset_ptr.add(key=\"hello\", val=[1,2,3,4,5])\n",
    "\n",
    "# or delete/update an asset\n",
    "dataset_ptr.delete(key=\"hello\")\n",
    "dataset_ptr.update(key=\"hello\", val=[1,2,3,4,5])"
   ]
  },
  {
   "cell_type": "code",
   "execution_count": null,
   "id": "f7bb2b40",
   "metadata": {},
   "outputs": [],
   "source": [
    "#### Accessing the assets to an iterator\n",
    "# We want to access the assets of this dataset as an iterator\n",
    "\n",
    "dataset_ptr = ds_client.datasets[0] # Selected the MedNIST dataset\n",
    "\n",
    "# We want an iterator around the image assets only.\n",
    "image_data_iterator = dataset_ptr.iter(exclude=[\"labels\",]) # This returns all the assets, except lables as an iterator\n",
    "\n",
    "mean_image = None\n",
    "cnt = 0\n",
    "for image_data in image_data_iterator:\n",
    "    cnt += 1\n",
    "    if not mean_value:\n",
    "        mean_image = image_data\n",
    "    else:\n",
    "        mean_image += image_data\n",
    "    \n",
    "mean_image = mean_image / cnt\n",
    "\n",
    "result = mean_image.request(reason=\"Mean Image of the whole dataset\")\n",
    "result.get()"
   ]
  },
  {
   "cell_type": "markdown",
   "id": "2545ddfa",
   "metadata": {},
   "source": [
    "#### Dummy Dataset"
   ]
  },
  {
   "cell_type": "code",
   "execution_count": 1,
   "id": "53bb4317",
   "metadata": {},
   "outputs": [],
   "source": [
    "import pandas as pd\n",
    "from enum import Enum\n",
    "import uuid\n",
    "import datetime\n",
    "\n",
    "\n",
    "class bcolors(Enum):\n",
    "    HEADER = \"\\033[95m\"\n",
    "    OKBLUE = \"\\033[94m\"\n",
    "    OKCYAN = \"\\033[96m\"\n",
    "    OKGREEN = \"\\033[92m\"\n",
    "    WARNING = \"\\033[93m\"\n",
    "    FAIL = \"\\033[91m\"\n",
    "    ENDC = \"\\033[0m\"\n",
    "    BOLD = \"\\033[1m\"\n",
    "    UNDERLINE = \"\\033[4m\""
   ]
  },
  {
   "cell_type": "code",
   "execution_count": 6,
   "id": "a9d47b7b",
   "metadata": {},
   "outputs": [
    {
     "name": "stdout",
     "output_type": "stream",
     "text": [
      "\n",
      "    \u001b[91mAssetDoesNotExists:\u001b[0m\n",
      "        The asset with key `assetKey` does not exists.\n",
      "\n"
     ]
    }
   ],
   "source": [
    "asset_deleted = f\"\"\"\n",
    "    {bcolors.FAIL.value}AssetDoesNotExists:{bcolors.ENDC.value}\n",
    "        The asset with key `assetKey` does not exists.\n",
    "\"\"\"\n",
    "print(asset_deleted)"
   ]
  },
  {
   "cell_type": "code",
   "execution_count": 7,
   "id": "8bae945c",
   "metadata": {},
   "outputs": [
    {
     "name": "stdout",
     "output_type": "stream",
     "text": [
      "\n",
      "    \u001b[91mAssetDoesNotExists:\u001b[0m\n",
      "        The asset with key `assetKey` does not exists.\n",
      "        Please use `.add` to add a new asset to the dataset.\n",
      "\n"
     ]
    }
   ],
   "source": [
    "update_asset_not_exists = f\"\"\"\n",
    "    {bcolors.FAIL.value}AssetDoesNotExists:{bcolors.ENDC.value}\n",
    "        The asset with key `assetKey` does not exists.\n",
    "        Please use `.add` to add a new asset to the dataset.\n",
    "\"\"\"\n",
    "print(update_asset_not_exists)"
   ]
  },
  {
   "cell_type": "code",
   "execution_count": 12,
   "id": "e8430940",
   "metadata": {},
   "outputs": [
    {
     "name": "stdout",
     "output_type": "stream",
     "text": [
      "\n",
      "    \u001b[91mPermissionDenied:\u001b[0m\n",
      "        Sorry, looks like you don't have permissions to perform the operation.\n",
      "\n"
     ]
    }
   ],
   "source": [
    "authorization_error = f\"\"\"\n",
    "    {bcolors.FAIL.value}PermissionDenied:{bcolors.ENDC.value}\n",
    "        Sorry, looks like you don't have permissions to perform the operation.\n",
    "\"\"\"\n",
    "print(authorization_error)"
   ]
  },
  {
   "cell_type": "code",
   "execution_count": 14,
   "id": "db1f9d0d",
   "metadata": {},
   "outputs": [
    {
     "name": "stdout",
     "output_type": "stream",
     "text": [
      "\n",
      "    \u001b[91mIntegrityError:\u001b[0m\n",
      "        The asset with key `imageData` already exists.\n",
      "        Please use a different key name.\n",
      "\n"
     ]
    }
   ],
   "source": [
    "key_already_exists = f\"\"\"\n",
    "    {bcolors.FAIL.value}IntegrityError:{bcolors.ENDC.value}\n",
    "        The asset with key `imageData` already exists.\n",
    "        Please use a different key name.\n",
    "\"\"\"\n",
    "\n",
    "print(key_already_exists)"
   ]
  },
  {
   "cell_type": "code",
   "execution_count": 3,
   "id": "fe31028e",
   "metadata": {},
   "outputs": [
    {
     "name": "stdout",
     "output_type": "stream",
     "text": [
      "\n",
      "Name: MedNIST\n",
      "Description: MedNIST Description\n",
      "\n"
     ]
    },
    {
     "data": {
      "text/html": [
       "<div>\n",
       "<style scoped>\n",
       "    .dataframe tbody tr th:only-of-type {\n",
       "        vertical-align: middle;\n",
       "    }\n",
       "\n",
       "    .dataframe tbody tr th {\n",
       "        vertical-align: top;\n",
       "    }\n",
       "\n",
       "    .dataframe thead th {\n",
       "        text-align: right;\n",
       "    }\n",
       "</style>\n",
       "<table border=\"1\" class=\"dataframe\">\n",
       "  <thead>\n",
       "    <tr style=\"text-align: right;\">\n",
       "      <th></th>\n",
       "      <th>Asset Key</th>\n",
       "      <th>Type</th>\n",
       "      <th>Shape</th>\n",
       "    </tr>\n",
       "  </thead>\n",
       "  <tbody>\n",
       "    <tr>\n",
       "      <th>0</th>\n",
       "      <td>[\"imageData\"]</td>\n",
       "      <td>Tensor</td>\n",
       "      <td>(40000, 256, 256, 3)</td>\n",
       "    </tr>\n",
       "    <tr>\n",
       "      <th>1</th>\n",
       "      <td>[\"labels\"]</td>\n",
       "      <td>Tensor</td>\n",
       "      <td>(40000,)</td>\n",
       "    </tr>\n",
       "  </tbody>\n",
       "</table>\n",
       "</div>"
      ],
      "text/plain": [
       "       Asset Key    Type                 Shape\n",
       "0  [\"imageData\"]  Tensor  (40000, 256, 256, 3)\n",
       "1     [\"labels\"]  Tensor              (40000,)"
      ]
     },
     "execution_count": 3,
     "metadata": {},
     "output_type": "execute_result"
    }
   ],
   "source": [
    "dataset_detail = [\n",
    "    {\n",
    "        \"Asset Key\": '[\"imageData\"]',\n",
    "        \"Type\": \"Tensor\",\n",
    "        \"Shape\": \"(40000, 256, 256, 3)\"\n",
    "    },\n",
    "    {\n",
    "        \"Asset Key\": '[\"labels\"]',\n",
    "        \"Type\": \"Tensor\",\n",
    "        \"Shape\": \"(40000,)\"\n",
    "    },\n",
    "\n",
    "]\n",
    "print(\"\"\"\n",
    "Name: MedNIST\n",
    "Description: MedNIST Description\n",
    "\"\"\")\n",
    "dataset_detail_df = pd.DataFrame(dataset_detail)\n",
    "dataset_detail_df"
   ]
  },
  {
   "cell_type": "code",
   "execution_count": 4,
   "id": "a0ad01a3",
   "metadata": {},
   "outputs": [
    {
     "name": "stdout",
     "output_type": "stream",
     "text": [
      "\n",
      "Name: MedNIST\n",
      "Description: MedNIST Description\n",
      "\n"
     ]
    },
    {
     "data": {
      "text/html": [
       "<div>\n",
       "<style scoped>\n",
       "    .dataframe tbody tr th:only-of-type {\n",
       "        vertical-align: middle;\n",
       "    }\n",
       "\n",
       "    .dataframe tbody tr th {\n",
       "        vertical-align: top;\n",
       "    }\n",
       "\n",
       "    .dataframe thead th {\n",
       "        text-align: right;\n",
       "    }\n",
       "</style>\n",
       "<table border=\"1\" class=\"dataframe\">\n",
       "  <thead>\n",
       "    <tr style=\"text-align: right;\">\n",
       "      <th></th>\n",
       "    </tr>\n",
       "  </thead>\n",
       "  <tbody>\n",
       "  </tbody>\n",
       "</table>\n",
       "</div>"
      ],
      "text/plain": [
       "Empty DataFrame\n",
       "Columns: []\n",
       "Index: []"
      ]
     },
     "execution_count": 4,
     "metadata": {},
     "output_type": "execute_result"
    }
   ],
   "source": [
    "print(\"\"\"\n",
    "Name: MedNIST\n",
    "Description: MedNIST Description\n",
    "\"\"\")\n",
    "empty_df = pd.DataFrame([])\n",
    "empty_df"
   ]
  },
  {
   "cell_type": "code",
   "execution_count": 5,
   "id": "27c74d89",
   "metadata": {},
   "outputs": [
    {
     "name": "stdout",
     "output_type": "stream",
     "text": [
      "\n",
      "Name: MedNIST\n",
      "Description: MedNIST Description\n",
      "\n"
     ]
    },
    {
     "data": {
      "text/html": [
       "<div>\n",
       "<style scoped>\n",
       "    .dataframe tbody tr th:only-of-type {\n",
       "        vertical-align: middle;\n",
       "    }\n",
       "\n",
       "    .dataframe tbody tr th {\n",
       "        vertical-align: top;\n",
       "    }\n",
       "\n",
       "    .dataframe thead th {\n",
       "        text-align: right;\n",
       "    }\n",
       "</style>\n",
       "<table border=\"1\" class=\"dataframe\">\n",
       "  <thead>\n",
       "    <tr style=\"text-align: right;\">\n",
       "      <th></th>\n",
       "      <th>Asset Key</th>\n",
       "      <th>Type</th>\n",
       "      <th>Shape</th>\n",
       "    </tr>\n",
       "  </thead>\n",
       "  <tbody>\n",
       "    <tr>\n",
       "      <th>0</th>\n",
       "      <td>[\"imageData\"]</td>\n",
       "      <td>Tensor</td>\n",
       "      <td>(40000, 256, 256, 3)</td>\n",
       "    </tr>\n",
       "  </tbody>\n",
       "</table>\n",
       "</div>"
      ],
      "text/plain": [
       "       Asset Key    Type                 Shape\n",
       "0  [\"imageData\"]  Tensor  (40000, 256, 256, 3)"
      ]
     },
     "execution_count": 5,
     "metadata": {},
     "output_type": "execute_result"
    }
   ],
   "source": [
    "one_added_detail = [\n",
    "    {\n",
    "        \"Asset Key\": '[\"imageData\"]',\n",
    "        \"Type\": \"Tensor\",\n",
    "        \"Shape\": \"(40000, 256, 256, 3)\"\n",
    "    },\n",
    "]\n",
    "print(\"\"\"\n",
    "Name: MedNIST\n",
    "Description: MedNIST Description\n",
    "\"\"\")\n",
    "one_added_detail_df = pd.DataFrame(one_added_detail)\n",
    "one_added_detail_df"
   ]
  },
  {
   "cell_type": "code",
   "execution_count": null,
   "id": "a3898a57",
   "metadata": {},
   "outputs": [],
   "source": []
  },
  {
   "cell_type": "code",
   "execution_count": null,
   "id": "88ca4f2f",
   "metadata": {},
   "outputs": [],
   "source": []
  }
 ],
 "metadata": {
  "kernelspec": {
   "display_name": "Python 3.10.6 64-bit",
   "language": "python",
   "name": "python3"
  },
  "language_info": {
   "codemirror_mode": {
    "name": "ipython",
    "version": 3
   },
   "file_extension": ".py",
   "mimetype": "text/x-python",
   "name": "python",
   "nbconvert_exporter": "python",
   "pygments_lexer": "ipython3",
   "version": "3.10.6"
  },
  "vscode": {
   "interpreter": {
    "hash": "e7370f93d1d0cde622a1f8e1c04877d8463912d04d973331ad4851f04de6915a"
   }
  }
 },
 "nbformat": 4,
 "nbformat_minor": 5
}

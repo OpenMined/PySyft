{
 "cells": [
  {
   "cell_type": "markdown",
   "id": "c2dd02b1-24eb-469e-841b-d7a817cbff0d",
   "metadata": {},
   "source": [
    "TODO:\n",
    "- Check if Long File Paths need to be enabled on older machines or if it's done on WSL2 by default\n",
    "- Add more images\n",
    "- Check if pip needs to be updated or if python3 -m pip needs to be used\n",
    "- Check which settings need to be enabled for Docker on Windows\n",
    "\n",
    "\n",
    "\n",
    "# Windows Installation\n",
    "\n",
    "<b> Instructors: </b> Ishan Mishra, Phil Culliton\n",
    "\n",
    "This guide will guide you to the process of getting PySyft and Hagrid working on Windows. This requires a few more steps, but rest assured- you'll be running your own domain node and performing remote data science in no time!"
   ]
  },
  {
   "cell_type": "markdown",
   "id": "ce35c39f-30bd-4726-a419-9f09f95af335",
   "metadata": {},
   "source": [
    "<b> Steps: </b>\n",
    "- Enabling Windows Subsystem for Linux\n",
    "- Install Conda\n",
    "- Installing Hagrid and PySyft\n",
    "- Running a Domain Node"
   ]
  },
  {
   "cell_type": "markdown",
   "id": "5f1aa198-e013-4f8e-a903-cafa9944e6d9",
   "metadata": {},
   "source": [
    "## Windows Subsystem for Linux\n",
    "\n",
    "The Windows Subsystem for Linux, or WSL for short, allows you to run a Linux based environment, including most command line tools and applications, directly on Windows, unmodified, and without any of the drawbacks of the traditional solutions (virtual machines or dual booting).\n",
    "\n",
    "### Requirements:\n",
    "- You must be running Windows 10 version 2004 and higher (Build 19041 and higher) or Windows 11.\n",
    "To check this, click Windows Key + R, type `winver` and select OK.\n",
    "\n",
    "It's possible to install WSL on older versions- please see <a href=\"https://docs.microsoft.com/en-us/windows/wsl/install-manual\"> here for a list of installation steps. </a>"
   ]
  },
  {
   "cell_type": "markdown",
   "id": "87eb62a6-beb4-457a-bbf6-0a6ce2263af1",
   "metadata": {},
   "source": [
    "### The Process:\n",
    "\n",
    "#### Step 1: Downloading\n",
    "\n",
    "To install WSL, enter the command below in either Powershell or Windows Command Prompt. By default, this will download the latest Linux Kernel, set WSL2 as your default, and install Ubuntu.\n",
    "\n",
    "`wsl --install`\n",
    "\n",
    "If you run into difficulties, please use <a href=\"https://docs.microsoft.com/en-us/windows/wsl/troubleshooting#installation-issues\"> this link</a>, which covers common WSL Installation issues."
   ]
  },
  {
   "cell_type": "markdown",
   "id": "69caafa6-b20b-49b1-abce-f25a3038f1ff",
   "metadata": {},
   "source": [
    "#### Step 2: Setting Up Linux User Info\n",
    "\n",
    "Once this process of installing a Linux distribution with WSL is complete, open the distribution by using the Start menu, and typing the name of the distribution you're using- \"ubuntu\" by default.\n",
    "\n",
    "You'll be asked to create a User Name and Password for your Linux distribution. Please note that this Username and Password is specific to each distribution you install, and has no relation with your regular Windows username or password."
   ]
  },
  {
   "cell_type": "markdown",
   "id": "d9c9415c-3f04-42be-9076-a8247240eeac",
   "metadata": {},
   "source": [
    "#### Step 3: Updating & Upgrading\n",
    "\n",
    "Please run the following commands to update and upgrade your packages:\n",
    "\n",
    "`sudo apt update && sudo apt upgrade`\n",
    "\n",
    "We'd recommend doing this fairly regularly to maintain a secure, up-to-date distribution."
   ]
  },
  {
   "cell_type": "markdown",
   "id": "417e2280-0d58-4fe7-8694-d793854c76a9",
   "metadata": {},
   "source": [
    "#### Optional: Install Windows Terminal\n",
    "\n",
    "Please see <a href=\"https://docs.microsoft.com/en-us/windows/terminal/install\"> here </a> if you're interested. Windows Terminal significantly improves the command line experience."
   ]
  },
  {
   "cell_type": "markdown",
   "id": "4d3f8187-731b-44a4-b055-3b0d3bd4017c",
   "metadata": {},
   "source": [
    "## Installing Conda\n",
    "\n",
    "We'd highly recommend using Anaconda to create and manage your Virtual Environments in WSL. Other Virtual Environments have been a bit unreliable. \n",
    "\n",
    "To install Anaconda, please do the following:\n",
    "\n",
    "- <a href=\"https://www.anaconda.com/products/individual#Downloads\"> Navigate to the Anaconda website </a>, and find the most recent version of Conda <b><u> for Linux</b></u>. It should be under the \"Anaconda Installers\" heading.\n",
    "- Right click this link, and select \"Copy Link Address\"\n",
    "- Go back to your WSL terminal, and type the following:\n",
    "`wget ` \n",
    "and right click to paste the link you just copied. The final result should look something like this:\n",
    "\n",
    "`wget https://repo.anaconda.com/archive/Anaconda3-2021.05-Linux-x86_64.sh`\n",
    "\n",
    "And if so, hit enter!\n",
    "\n",
    "- Conda will start installing. Type \"yes\" for all the prompts that follow (Accepting the Terms and Conditions, running conda init, the default path to install the /anaconda3/ folder at, etc)\n",
    "- Once this is done, close and restart your WSL terminal.\n",
    "- Once it's restarted, verify that conda is working by entering the following:\n",
    "`conda env list`\n",
    "\n",
    "- It should show you output similar to the image below:\n",
    "\n",
    "![alt text](ui_images/conda_env.png)\n",
    "\n",
    "- At this point you've successfully installed conda. Hooray! Now let's create a new virtual environment called \"playground\" by running the following:\n",
    "\n",
    "`conda create -n playground python=3.9`\n",
    "\n",
    "Please type \"y\" when prompted.\n",
    "\n",
    "- Verify the environment was successfully created by running:\n",
    "\n",
    "`conda env list`\n",
    "\n",
    "- Activate the \"playground\" virtual environment with:\n",
    "\n",
    "`conda activate playground`"
   ]
  },
  {
   "cell_type": "markdown",
   "id": "1de455ca-c362-4546-bdd8-cf865fccf115",
   "metadata": {},
   "source": [
    "## Installing Hagrid and PySyft\n",
    "\n",
    "With your Virtual Environment active, install PySyft with:\n",
    "\n",
    "`pip install --pre syft`\n",
    "\n",
    "Once this is done, run\n",
    "\n",
    "`pip install hagrid`\n",
    "\n"
   ]
  },
  {
   "cell_type": "markdown",
   "id": "dfd92da7-4f05-48e2-acdf-2ea2c1cdda56",
   "metadata": {},
   "source": [
    "## Launch your Domain Node!\n",
    "\n",
    "Install Docker Desktop, and ensure that\n",
    "\n",
    "Run:\n",
    "`hagrid launch my_domain`"
   ]
  }
 ],
 "metadata": {
  "kernelspec": {
   "display_name": "Python 3 (ipykernel)",
   "language": "python",
   "name": "python3"
  },
  "language_info": {
   "codemirror_mode": {
    "name": "ipython",
    "version": 3
   },
   "file_extension": ".py",
   "mimetype": "text/x-python",
   "name": "python",
   "nbconvert_exporter": "python",
   "pygments_lexer": "ipython3",
   "version": "3.9.7"
  }
 },
 "nbformat": 4,
 "nbformat_minor": 5
}

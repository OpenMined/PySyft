{
 "cells": [
  {
   "cell_type": "markdown",
   "id": "d59252a1-05b1-485a-a338-8a3d2d6ade71",
   "metadata": {
    "tags": []
   },
   "source": [
    "# Lesson 2: Remote Data Science Demo!\n",
    "\n",
    "<b><u> Instructors</b></u>:  Ishan Mishra, Phil Culliton\n",
    "\n",
    "\n",
    "## Concept 1: Lesson Introduction\n",
    "\n",
    "Welcome to Lesson 2!\n",
    "\n",
    "In the previous lesson, we learned about Remote Data Science, its motivations, key technical components, and main terminology. \n",
    "\n",
    "In this lesson, we're going to jump right into experiencing Remote Data Science ourselves, learning how to be both Data Scientist and Data Owner along the way!\n",
    "\n",
    "In the next 15 minutes, we're going to give you a rapid run through where you as a Data Owner, will prepare a dataset, deploy a domain node, upload that dataset to the domain node. Finally, as a Data Scientist, you'll take this data and perform remote data science on it!\n",
    "\n",
    "If any part of this demo doesn't seem clear right now, don't worry! We'll be walking you through each of these steps in more detail in subsequent lessons."
   ]
  },
  {
   "cell_type": "markdown",
   "id": "873d4542-fbbd-47d4-905a-994938447fb6",
   "metadata": {},
   "source": [
    "<hr>"
   ]
  },
  {
   "cell_type": "markdown",
   "id": "939c30f9-0581-498e-8caf-8641a0107afd",
   "metadata": {},
   "source": [
    "## Concept 2: The Scenario\n",
    "\n",
    "You work at a lab, and some people have been showing symptoms of COVID19. You ask everyone to take a COVID19 test, and collect the results. However, not everyone wants their test results to be known publicly. You want to respect everyone's privacy, but at the same time you want to know if there's been a big COVID outbreak at your lab!\n",
    "\n",
    "You've heard about a brilliant scientist at CalTech named Dr. Sheldon Cooper. He says he can analyze your dataset without ever seeing it, and still tell you how many people in your lab tested positive for COVID19. \n",
    "\n",
    "<br>\n",
    "\n",
    "<b> Relevant information: </b>\n",
    "- You're the owner of a COVID19 test result dataset. \n",
    "- You'll be spinning up a domain node, and creating an account for a data scientist (Dr. Cooper)\n",
    "- The dataset you're giving him is a binary array, such as: [0, 1, 0, 0, 1, 1, 1, 0, 1, 1, 1].\n",
    "    - In this array, each column represents a different individual who works in your lab. who was tested for COVID19. \n",
    "    - A zero implies that they tested negatively for it, and a \"one\" implies they unfortunately tested positively for it.\n",
    "\n",
    "- The simple question you're asking him to evaluate is <b> how many people in the dataset have tested positive for COVID19? </b>"
   ]
  },
  {
   "cell_type": "markdown",
   "id": "0efed751-3198-4af6-a8a6-07d3994c282d",
   "metadata": {},
   "source": [
    "<hr>"
   ]
  },
  {
   "cell_type": "markdown",
   "id": "d7055f9a-c69f-4b40-a323-85b796dde228",
   "metadata": {
    "tags": []
   },
   "source": [
    "## Concept 3: Installation Steps\n",
    "\n",
    "In the last concept, we learned about the scenario wherein we have a dataset (a COVID dataset) we want to empower a data scientist (Dr. Cooper) to be able to study, but we don't want to give the dataset to him. We've decided to launch a domain node to make this happen!\n",
    "\n",
    "However, before we launch a node, we need to first install some dependencies! But before we add dependencies we first need to create a virtual environment for our installation. Assuming you have conda installed ([Install Instructions](https://docs.anaconda.com/anaconda/install/index.html)), run the following commands:\n",
    "\n",
    "<hr>\n",
    "\n",
    "### <b>1. Create a Virtual Environment with Python 3.9<b>"
   ]
  },
  {
   "cell_type": "markdown",
   "id": "29ed7d38-d5d5-4a4b-9bf2-0d22c8dada2f",
   "metadata": {},
   "source": [
    "```\n",
    "conda create -n lab python=3.9\n",
    "conda activate lab\n",
    "```"
   ]
  },
  {
   "cell_type": "markdown",
   "id": "6831b05e-14b3-41d7-9164-1336cd20c6d4",
   "metadata": {},
   "source": [
    "<hr>"
   ]
  },
  {
   "cell_type": "markdown",
   "id": "986e4f88-0649-4d8a-995f-e2a24fd192d3",
   "metadata": {},
   "source": [
    "### <b>2. Download the PySyft and Hagrid libraries from PyPI: </b>\n",
    "\n",
    "Once you've activated your environment, then you're ready to install the two python libraries we're going to need for this lesson :syft and hagrid. You'll learn more about these tools later in the course, but for now it suffices to say that PySyft is a Python library for remote data science, and hagrid is a Python based CLI tool for deploying domain nodes that PySyft can talk to. You can install them in your virtual environment using the following command (Note: run them in the same terminal as you ran the conda commands):"
   ]
  },
  {
   "cell_type": "markdown",
   "id": "1b8c6efd-fd13-4b3e-b506-4d8e2b6b47a5",
   "metadata": {},
   "source": [
    "```\n",
    "pip install --pre syft\n",
    "pip install -U hagrid\n",
    "```"
   ]
  },
  {
   "cell_type": "markdown",
   "id": "0bf548ee-c08b-4b29-b0b7-6517404365a4",
   "metadata": {},
   "source": [
    "### <b>3. Launch Docker, and ensure it has atleast 8GB of RAM available. </b>\n",
    "\n",
    "- OSX:  <a href=\"https://www.docker.com/products/docker-desktop\">Docker Desktop</a>\n",
    "\n",
    "In order for hagrid to work correctly you must have docker installed and configured properly with 8 GB of ram. \n",
    "\n",
    "- Open the Docker Website\n",
    "- Install Docker for your operating system (OSX and Windows should install Docker Desktop)\n",
    "- Open/Launch Docker Desktop app if you're on OSX/Windows (see Linux guide if you're on Linux)\n",
    "- Docker Desktop Users (OSX and Windows):\n",
    "    - Click the docker icon at the top of your monitor (looks like a little whale)\n",
    "    - Click \"Preferences\"\n",
    "    - On the left panel, click \"Resources\"\n",
    "    - Then drag the \"Memory\" dot until it says 8.00 GB (can go higher if you wish).\n",
    "    - Then click \"Apply & Restart\"\n",
    "\n",
    "- Linux: No configuration needed, Docker will automatically scale the amount of memory it uses.\n",
    "\n",
    "Congratulations! You've successfully downloaded, installed, and configured all of the dependencies needed to launch a Domain node! Keep your terminal windows open and proceed to the next concept!"
   ]
  },
  {
   "cell_type": "markdown",
   "id": "5668d533-e6ad-4e50-8d70-b6e64e114a9e",
   "metadata": {},
   "source": [
    "<hr>"
   ]
  },
  {
   "cell_type": "markdown",
   "id": "9670fa34-f149-4976-8c32-4ca818b48062",
   "metadata": {},
   "source": [
    "## Concept 4: Launch Your Domain Node"
   ]
  },
  {
   "cell_type": "markdown",
   "id": "e178ea4f-dee9-4f99-8ca9-8f12677a8bae",
   "metadata": {},
   "source": [
    "### <b>4. Launch HAGrid</b>"
   ]
  },
  {
   "cell_type": "markdown",
   "id": "94b08236-43ea-416d-8def-2ad7228d1252",
   "metadata": {},
   "source": [
    "Pick a name for your Domain node! In this case, let's use \"local_node\"\n",
    "```\n",
    "hagrid launch local_node\n",
    "```"
   ]
  },
  {
   "cell_type": "markdown",
   "id": "6d72c717-d3c6-4d7a-b10e-5b6bbb1cbc9f",
   "metadata": {},
   "source": [
    "<hr>"
   ]
  },
  {
   "cell_type": "markdown",
   "id": "202a168d-3f62-4016-a3db-6c5e469d4f8d",
   "metadata": {},
   "source": [
    "### <b>5. Login to the Domain!</b>\n",
    "\n",
    "\n",
    "<i>Voila!</i> You now have a working domain node. To login, go to <b>localhost:\"port_number\"</b> in your browser (port_number is 8081 by default).\n",
    "\n",
    "The default username and password are as follows:\n",
    "\n",
    "- Username: <b> info@openmined.org </b>\n",
    "- PW: <b> changethis </b>"
   ]
  },
  {
   "cell_type": "markdown",
   "id": "04465a3d-4145-4d78-a991-4c4278ad717d",
   "metadata": {},
   "source": [
    "<hr>"
   ]
  },
  {
   "cell_type": "markdown",
   "id": "b6377bee-1cf4-475e-b256-bef3837ec799",
   "metadata": {},
   "source": [
    "### 6. Upload your Dataset to your Domain!\n",
    "\n",
    "Open Python, and run the following:"
   ]
  },
  {
   "cell_type": "code",
   "execution_count": 32,
   "id": "eeb22acf-3ec1-4501-b1ca-b7b6a489f9ef",
   "metadata": {},
   "outputs": [],
   "source": [
    "from pathlib import Path\n",
    "import json\n",
    "\n",
    "def docker_desktop_memory():\n",
    "    path = str(Path.home()) + \"/Library/Group Containers/group.com.docker/settings.json\"\n",
    "\n",
    "    f = open(path, 'r')\n",
    "    out = f.read()\n",
    "    f.close()\n",
    "    return json.loads(out)['memoryMiB']"
   ]
  },
  {
   "cell_type": "code",
   "execution_count": 33,
   "id": "afc98dc3-c8e6-4867-9a82-b4b18b6a1060",
   "metadata": {},
   "outputs": [
    {
     "data": {
      "text/plain": [
       "2048"
      ]
     },
     "execution_count": 33,
     "metadata": {},
     "output_type": "execute_result"
    }
   ],
   "source": [
    "docker_desktop_memory()"
   ]
  },
  {
   "cell_type": "code",
   "execution_count": null,
   "id": "20ba2cce-006c-43dc-b0d5-49af426c8300",
   "metadata": {},
   "outputs": [],
   "source": []
  },
  {
   "cell_type": "code",
   "execution_count": null,
   "id": "d50468ff-3edd-489b-9cf4-0e3b4e1416fb",
   "metadata": {},
   "outputs": [],
   "source": []
  },
  {
   "cell_type": "code",
   "execution_count": 1,
   "id": "24bf6d91-1004-4b8d-b5e5-0536eb1c3913",
   "metadata": {},
   "outputs": [
    {
     "name": "stdout",
     "output_type": "stream",
     "text": [
      "WARNING: CHANGE YOUR USERNAME AND PASSWORD!!! \n",
      "\n",
      "Anyone can login as an admin to your node right now because your password is still the default PySyft username and password!!!\n",
      "\n",
      "Connecting to http://localhost:8081... done! \t Logging into canada... done!\n"
     ]
    }
   ],
   "source": [
    "import numpy as np\n",
    "import syft as sy\n",
    "from syft.core.adp.entity import DataSubject\n",
    "\n",
    "raw_data = np.random.choice([0, 1], size=(10)).astype(np.int32)\n",
    "dataset = {}\n",
    "\n",
    "for person_index, test_result in enumerate(raw_data):\n",
    "    data_owner = DataSubject(name=f'Patient #{person_index}')\n",
    "    dataset[person_index] = sy.Tensor(np.ones(1, dtype=np.int32) * test_result).annotate_with_dp_metadata(lower_bound=0, upper_bound=1, entities=data_owner)\n",
    "\n",
    "\n",
    "domain_node = sy.login(email=\"info@openmined.org\", password=\"changethis\", port=8081)\n",
    "# domain_node.load_dataset(assets=dataset, name=\"COVID19 Test Results\", description=\"Positive/Negative COVID19 Test results\", metadata=\"No metadata\")"
   ]
  },
  {
   "cell_type": "code",
   "execution_count": 2,
   "id": "972e6017-581f-4499-8eaf-582a8a9384d6",
   "metadata": {},
   "outputs": [],
   "source": [
    "import pandas as pd"
   ]
  },
  {
   "cell_type": "code",
   "execution_count": 3,
   "id": "70540d43-4775-4022-b0de-109ad2a95f23",
   "metadata": {},
   "outputs": [],
   "source": [
    "datasets = domain_node.datasets.all()"
   ]
  },
  {
   "cell_type": "code",
   "execution_count": 4,
   "id": "226b1722-bda6-4675-8e10-abb488a8b46e",
   "metadata": {},
   "outputs": [],
   "source": [
    "dataset = datasets[0]"
   ]
  },
  {
   "cell_type": "code",
   "execution_count": 5,
   "id": "16e88dcb-cbe4-4e67-9a49-4eebf913f34a",
   "metadata": {},
   "outputs": [],
   "source": [
    "assets = {}\n",
    "for raw_asset in dataset['data']:\n",
    "    asset = list()\n",
    "    asset.append(raw_asset['shape'])\n",
    "    asset.append(raw_asset['dtype'])\n",
    "    assets[raw_asset['name']] = asset\n",
    "dataset['data'] = None\n",
    "dataset['assets'] = assets"
   ]
  },
  {
   "cell_type": "code",
   "execution_count": 6,
   "id": "902352c7-58bd-4002-8443-469bc485f549",
   "metadata": {},
   "outputs": [
    {
     "data": {
      "text/html": [
       "<style>\n",
       "                #myInput {\n",
       "                  background-position: 10px 12px; /* Position the search icon */\n",
       "                  background-repeat: no-repeat; /* Do not repeat the icon image */\n",
       "                  background-color: #bbb;\n",
       "                  width: 98%; /* Full-width */\n",
       "                  font-size: 14px; /* Increase font-size */\n",
       "                  padding: 12px 20px 12px 40px; /* Add some padding */\n",
       "                  border: 1px solid #ddd; /* Add a grey border */\n",
       "                  margin-bottom: 12px; /* Add some space below the input */\n",
       "                }\n",
       "\n",
       "                #myTable {\n",
       "                  border-collapse: collapse; /* Collapse borders */\n",
       "                  width: 100%; /* Full-width */\n",
       "                  border: 1px solid #ddd; /* Add a grey border */\n",
       "                  font-size: 14px; /* Increase font-size */\n",
       "                }\n",
       "\n",
       "                #myTable th, #myTable td {\n",
       "                  text-align: left; /* Left-align text */\n",
       "                  padding: 10px; /* Add padding */\n",
       "                }\n",
       "\n",
       "                #myTable tr {\n",
       "                  /* Add a bottom border to all table rows */\n",
       "                  border-bottom: 1px solid #ddd;\n",
       "                }\n",
       "\n",
       "                #myTable tr.header, #myTable tr:hover {\n",
       "                  /* Add a grey background color to the table header and on hover */\n",
       "                  background-color: #777;\n",
       "                }\n",
       "                </style>\n",
       "\n",
       "                <table id=\"myTable\" style=\"width:1000px\">\n",
       "                  <tr class=\"header\">\n",
       "                    <th style=\"width:30px\">Idx</th>\n",
       "                    <th style=\"width:20%;\">Name</th>\n",
       "                    <th style=\"width:35%;\">Description</th>\n",
       "                    <th style=\"width:20%;\">Assets</th>\n",
       "                    <th style=\"width:300px;\">Id</th>\n",
       "                  </tr>\n",
       "                \n",
       "\n",
       "          <tr>\n",
       "            <td>[0]</td>\n",
       "            <td>COVID19 Test Results</td>\n",
       "            <td>Positive/Negative COVID19 Test results</td>\n",
       "            <td>[\"0\"] -> Tensor<br /><br />[\"1\"] -> Tensor<br /><br />[\"2\"] -> Tensor<br /><br />...<br /><br /></td>\n",
       "            <td>1d0a43e4-66c9-4648-964c-a39c42fab35b</td>\n",
       "          </tr>\n",
       "        </table>\n",
       "\n",
       "        <script>\n",
       "        function myFunction() {\n",
       "          // Declare variables\n",
       "          var input, filter, table, tr, td, i, txtValue;\n",
       "          input = document.getElementById(\"myInput\");\n",
       "          filter = input.value.toUpperCase();\n",
       "          table = document.getElementById(\"myTable\");\n",
       "          tr = table.getElementsByTagName(\"tr\");\n",
       "\n",
       "          // Loop through all table rows, and hide those who don't match the search query\n",
       "          for (i = 0; i < tr.length; i++) {\n",
       "            name_td = tr[i].getElementsByTagName(\"td\")[1];\n",
       "            desc_td = tr[i].getElementsByTagName(\"td\")[2];\n",
       "            asset_td = tr[i].getElementsByTagName(\"td\")[3];\n",
       "            id_td = tr[i].getElementsByTagName(\"td\")[4];\n",
       "            if (name_td || desc_td || asset_td || id_td) {\n",
       "              name_txtValue = name_td.textContent || name_td.innerText;\n",
       "              desc_txtValue = desc_td.textContent || name_td.innerText;\n",
       "              asset_txtValue = asset_td.textContent || name_td.innerText;\n",
       "              id_txtValue = id_td.textContent || name_td.innerText;\n",
       "              name_bool = name_txtValue.toUpperCase().indexOf(filter) > -1;\n",
       "              desc_bool = desc_txtValue.toUpperCase().indexOf(filter) > -1;\n",
       "              asset_bool = asset_txtValue.toUpperCase().indexOf(filter) > -1;\n",
       "              id_bool = id_txtValue.toUpperCase().indexOf(filter) > -1;\n",
       "              if (name_bool || desc_bool || asset_bool || id_bool) {\n",
       "                tr[i].style.display = \"\";\n",
       "              } else {\n",
       "                tr[i].style.display = \"none\";\n",
       "              }\n",
       "            }\n",
       "          }\n",
       "        }\n",
       "        </script>"
      ],
      "text/plain": [
       "<syft.core.node.common.client_manager.dataset_api.DatasetRequestAPI at 0x7fe409d5da00>"
      ]
     },
     "execution_count": 6,
     "metadata": {},
     "output_type": "execute_result"
    }
   ],
   "source": [
    "domain_node.datasets"
   ]
  },
  {
   "cell_type": "code",
   "execution_count": 7,
   "id": "78299d2f-139f-4bf3-9dbe-f067803f1a6f",
   "metadata": {},
   "outputs": [
    {
     "name": "stdout",
     "output_type": "stream",
     "text": [
      "Dataset: COVID19 Test Results\n",
      "Description: Positive/Negative COVID19 Test results\n",
      "\n",
      "WARNING: Too many assets to print... truncating... You may run \n",
      "\n",
      " assets = my_dataset.assets \n",
      "\n",
      "to view receive a dictionary you can parse through using Python\n",
      "(as opposed to blowing up your notebookwith a massive printed table).\n",
      "\n"
     ]
    },
    {
     "data": {
      "text/html": [
       "<style>\n",
       "        #myInput {\n",
       "          background-position: 10px 12px; /* Position the search icon */\n",
       "          background-repeat: no-repeat; /* Do not repeat the icon image */\n",
       "          background-color: #bbb;\n",
       "          width: 98%; /* Full-width */\n",
       "          font-size: 14px; /* Increase font-size */\n",
       "          padding: 12px 20px 12px 40px; /* Add some padding */\n",
       "          border: 1px solid #ddd; /* Add a grey border */\n",
       "          margin-bottom: 12px; /* Add some space below the input */\n",
       "        }\n",
       "\n",
       "        #myTable {\n",
       "          border-collapse: collapse; /* Collapse borders */\n",
       "          width: 50%; /* Full-width */\n",
       "          border: 1px solid #ddd; /* Add a grey border */\n",
       "          font-size: 14px; /* Increase font-size */\n",
       "        }\n",
       "\n",
       "        #myTable th, #myTable td {\n",
       "          text-align: left; /* Left-align text */\n",
       "          padding: 10px; /* Add padding */\n",
       "        }\n",
       "\n",
       "        #myTable tr {\n",
       "          /* Add a bottom border to all table rows */\n",
       "          border-bottom: 1px solid #ddd;\n",
       "        }\n",
       "\n",
       "        #myTable tr.header, #myTable tr:hover {\n",
       "          /* Add a grey background color to the table header and on hover */\n",
       "          background-color: #777;\n",
       "        }\n",
       "        </style>\n",
       "\n",
       "        <table id=\"myTable\">\n",
       "          <tr class=\"header\">\n",
       "            <th style=\"width:15%;\">Asset Key</th>\n",
       "            <th style=\"width:20%;\">Type</th>\n",
       "            <th style=\"width:10%;\">Shape</th>\n",
       "          </tr>\n",
       "        \n",
       "\n",
       "              <tr>\n",
       "            <td>[\"0\"]</td>\n",
       "            <td>Tensor</td>\n",
       "            <td>(1,)</td>\n",
       "          </tr>\n",
       "\n",
       "              <tr>\n",
       "            <td>[\"1\"]</td>\n",
       "            <td>Tensor</td>\n",
       "            <td>(1,)</td>\n",
       "          </tr>\n",
       "\n",
       "              <tr>\n",
       "            <td>[\"2\"]</td>\n",
       "            <td>Tensor</td>\n",
       "            <td>(1,)</td>\n",
       "          </tr>\n",
       "\n",
       "              <tr>\n",
       "            <td>[\"3\"]</td>\n",
       "            <td>Tensor</td>\n",
       "            <td>(1,)</td>\n",
       "          </tr>\n",
       "\n",
       "              <tr>\n",
       "            <td>[\"4\"]</td>\n",
       "            <td>Tensor</td>\n",
       "            <td>(1,)</td>\n",
       "          </tr>\n",
       "\n",
       "              <tr>\n",
       "            <td>[\"5\"]</td>\n",
       "            <td>Tensor</td>\n",
       "            <td>(1,)</td>\n",
       "          </tr>\n",
       "\n",
       "              <tr>\n",
       "            <td>[\"6\"]</td>\n",
       "            <td>Tensor</td>\n",
       "            <td>(1,)</td>\n",
       "          </tr>\n",
       "\n",
       "              <tr>\n",
       "            <td>[\"7\"]</td>\n",
       "            <td>Tensor</td>\n",
       "            <td>(1,)</td>\n",
       "          </tr>\n",
       "\n",
       "              <tr>\n",
       "            <td>[\"8\"]</td>\n",
       "            <td>Tensor</td>\n",
       "            <td>(1,)</td>\n",
       "          </tr>\n",
       "\n",
       "              <tr>\n",
       "            <td>[\"9\"]</td>\n",
       "            <td>Tensor</td>\n",
       "            <td>(1,)</td>\n",
       "          </tr>\n",
       "        </table>\n",
       "\n",
       "        "
      ],
      "text/plain": [
       "<syft.core.node.common.client_manager.dataset_api.Dataset at 0x7fe3b180c070>"
      ]
     },
     "execution_count": 7,
     "metadata": {},
     "output_type": "execute_result"
    }
   ],
   "source": [
    "domain_node.datasets[0]"
   ]
  },
  {
   "cell_type": "markdown",
   "id": "3bc6b6c3-3823-47d8-a800-4afebf058300",
   "metadata": {},
   "source": [
    "<hr>"
   ]
  },
  {
   "cell_type": "markdown",
   "id": "9f91afa3-3538-48a4-a7c4-1db66576427b",
   "metadata": {},
   "source": [
    "## 7. Create an account for a Data Scientist\n",
    "Create a data scientist account. This is who will be using the dataset you've just uploaded to your domain node. (Dr. Sheldon Cooper, in our scenario!)"
   ]
  },
  {
   "cell_type": "code",
   "execution_count": 70,
   "id": "f1f6b272-e52c-46d8-b80c-f24796609e22",
   "metadata": {},
   "outputs": [],
   "source": [
    "domain_node.users.create(\n",
    "    **{\n",
    "        \"name\": \"Sheldon Cooper\",\n",
    "        \"email\": \"sheldon@caltech.edu\",\n",
    "        \"password\": \"bazinga\",\n",
    "        \"budget\": 100\n",
    "    }\n",
    ")"
   ]
  },
  {
   "cell_type": "markdown",
   "id": "d06f9753-41e3-4359-802f-c5c46836cb5f",
   "metadata": {},
   "source": [
    "Let's quickly double check that the Data Scientist account was created properly, by checking the list of users:"
   ]
  },
  {
   "cell_type": "code",
   "execution_count": 71,
   "id": "57b34d8f-0988-425c-bc12-64704e3d23e2",
   "metadata": {},
   "outputs": [
    {
     "data": {
      "text/html": [
       "<div>\n",
       "<style scoped>\n",
       "    .dataframe tbody tr th:only-of-type {\n",
       "        vertical-align: middle;\n",
       "    }\n",
       "\n",
       "    .dataframe tbody tr th {\n",
       "        vertical-align: top;\n",
       "    }\n",
       "\n",
       "    .dataframe thead th {\n",
       "        text-align: right;\n",
       "    }\n",
       "</style>\n",
       "<table border=\"1\" class=\"dataframe\">\n",
       "  <thead>\n",
       "    <tr style=\"text-align: right;\">\n",
       "      <th></th>\n",
       "      <th>added_by</th>\n",
       "      <th>allocated_budget</th>\n",
       "      <th>budget</th>\n",
       "      <th>budget_spent</th>\n",
       "      <th>created_at</th>\n",
       "      <th>daa_pdf</th>\n",
       "      <th>email</th>\n",
       "      <th>id</th>\n",
       "      <th>institution</th>\n",
       "      <th>name</th>\n",
       "      <th>role</th>\n",
       "      <th>verify_key</th>\n",
       "      <th>website</th>\n",
       "    </tr>\n",
       "  </thead>\n",
       "  <tbody>\n",
       "    <tr>\n",
       "      <th>0</th>\n",
       "      <td>&lt;syft.lib.python._SyNone object at 0x7feaa814d...</td>\n",
       "      <td>0.0</td>\n",
       "      <td>5.55</td>\n",
       "      <td>0.0</td>\n",
       "      <td>2021-11-01 05:24:06.991358</td>\n",
       "      <td>&lt;syft.lib.python._SyNone object at 0x7feaa814d...</td>\n",
       "      <td>info@openmined.org</td>\n",
       "      <td>1</td>\n",
       "      <td>&lt;syft.lib.python._SyNone object at 0x7feaa814d...</td>\n",
       "      <td>Jane Doe</td>\n",
       "      <td>Owner</td>\n",
       "      <td>e07db5d214010770d9146551d4dc4f3daf1bb7d9c89e66...</td>\n",
       "      <td>&lt;syft.lib.python._SyNone object at 0x7feaa814d...</td>\n",
       "    </tr>\n",
       "    <tr>\n",
       "      <th>1</th>\n",
       "      <td>Jane Doe</td>\n",
       "      <td>0.0</td>\n",
       "      <td>100.00</td>\n",
       "      <td>0.0</td>\n",
       "      <td>2021-11-01 05:27:59.352133</td>\n",
       "      <td>1</td>\n",
       "      <td>sheldon@caltech.edu</td>\n",
       "      <td>2</td>\n",
       "      <td></td>\n",
       "      <td>Sheldon Cooper</td>\n",
       "      <td>Data Scientist</td>\n",
       "      <td>eff162ee3f57400fb11d204cdbfd625d58b229901fdb23...</td>\n",
       "      <td></td>\n",
       "    </tr>\n",
       "  </tbody>\n",
       "</table>\n",
       "</div>"
      ],
      "text/plain": [
       "<syft.core.node.common.client_manager.user_api.UserRequestAPI at 0x7fea987f2b20>"
      ]
     },
     "execution_count": 71,
     "metadata": {},
     "output_type": "execute_result"
    }
   ],
   "source": [
    "domain_node.users"
   ]
  },
  {
   "cell_type": "markdown",
   "id": "e1557b4c-a02b-4a04-9d92-fc5faea167fa",
   "metadata": {},
   "source": [
    "<hr>"
   ]
  },
  {
   "cell_type": "markdown",
   "id": "a0e348f1-a443-484a-a289-c09659f622f3",
   "metadata": {},
   "source": [
    "Congratulations! You've successfully deployed a domain node, loaded in data, and created a user account! In the next concept, you're going to pretend to be Sheldon Cooper and do some remote data science!"
   ]
  },
  {
   "cell_type": "markdown",
   "id": "19466d56-82bd-4d6d-afc0-d3a94ddea8d5",
   "metadata": {},
   "source": [
    "## Concept 5: Remote Data Science\n",
    "\n",
    "## 8. Log into the Domain Node, as the Data Scientist"
   ]
  },
  {
   "cell_type": "code",
   "execution_count": 72,
   "id": "6f6e9aba-d09c-45a4-ae03-e08feff36530",
   "metadata": {},
   "outputs": [
    {
     "name": "stdout",
     "output_type": "stream",
     "text": [
      "Connecting to http://localhost:8081... done! \t Logging into adp... done!\n"
     ]
    }
   ],
   "source": [
    "ds_node = sy.login(email=\"sheldon@caltech.edu\", password=\"bazinga\", port=8081)"
   ]
  },
  {
   "cell_type": "markdown",
   "id": "d830c0b4-d5ef-41ba-9905-e721437a203d",
   "metadata": {},
   "source": [
    "<hr>"
   ]
  },
  {
   "cell_type": "markdown",
   "id": "65d84a3b-0944-4fd7-bb7c-5b9771944cdf",
   "metadata": {},
   "source": [
    "## 9. View the available datasets on the Node"
   ]
  },
  {
   "cell_type": "code",
   "execution_count": 73,
   "id": "460dd876-3061-4a66-afd9-7d8e922a1f2e",
   "metadata": {},
   "outputs": [
    {
     "data": {
      "text/html": [
       "<style>\n",
       "                #myInput {\n",
       "                  background-position: 10px 12px; /* Position the search icon */\n",
       "                  background-repeat: no-repeat; /* Do not repeat the icon image */\n",
       "                  background-color: #bbb;\n",
       "                  width: 98%; /* Full-width */\n",
       "                  font-size: 14px; /* Increase font-size */\n",
       "                  padding: 12px 20px 12px 40px; /* Add some padding */\n",
       "                  border: 1px solid #ddd; /* Add a grey border */\n",
       "                  margin-bottom: 12px; /* Add some space below the input */\n",
       "                }\n",
       "\n",
       "                #myTable {\n",
       "                  border-collapse: collapse; /* Collapse borders */\n",
       "                  width: 100%; /* Full-width */\n",
       "                  border: 1px solid #ddd; /* Add a grey border */\n",
       "                  font-size: 14px; /* Increase font-size */\n",
       "                }\n",
       "\n",
       "                #myTable th, #myTable td {\n",
       "                  text-align: left; /* Left-align text */\n",
       "                  padding: 10px; /* Add padding */\n",
       "                }\n",
       "\n",
       "                #myTable tr {\n",
       "                  /* Add a bottom border to all table rows */\n",
       "                  border-bottom: 1px solid #ddd;\n",
       "                }\n",
       "\n",
       "                #myTable tr.header, #myTable tr:hover {\n",
       "                  /* Add a grey background color to the table header and on hover */\n",
       "                  background-color: #777;\n",
       "                }\n",
       "                </style>\n",
       "\n",
       "                <input type=\"text\" id=\"myInput\" onkeyup=\"myFunction()\" placeholder=\"Search for datasets..\">\n",
       "\n",
       "                <table id=\"myTable\">\n",
       "                  <tr class=\"header\">\n",
       "                    <th style=\"width:30px\">Idx</th>\n",
       "                    <th style=\"width:20%;\">Name</th>\n",
       "                    <th style=\"width:35%;\">Description</th>\n",
       "                    <th style=\"width:20%;\">Assets</th>\n",
       "                    <th style=\"width:300px;\">Id</th>\n",
       "                  </tr>\n",
       "                \n",
       "\n",
       "          <tr>\n",
       "            <td>[0]</td>\n",
       "            <td>COVID19 Test Results</td>\n",
       "            <td>Positive/Negative COVID19 Test results</td>\n",
       "            <td>[\"0\"] -> Tensor<br /><br />[\"1\"] -> Tensor<br /><br />[\"2\"] -> Tensor<br /><br />[\"3\"] -> Tensor<br /><br />[\"4\"] -> Tensor<br /><br />[\"5\"] -> Tensor<br /><br />[\"6\"] -> Tensor<br /><br />[\"7\"] -> Tensor<br /><br />[\"8\"] -> Tensor<br /><br />[\"9\"] -> Tensor<br /><br /></td>\n",
       "            <td>3de3d35a-5c22-44e8-8aef-b24df4c2c07d</td>\n",
       "          </tr>\n",
       "        </table>\n",
       "\n",
       "        <script>\n",
       "        function myFunction() {\n",
       "          // Declare variables\n",
       "          var input, filter, table, tr, td, i, txtValue;\n",
       "          input = document.getElementById(\"myInput\");\n",
       "          filter = input.value.toUpperCase();\n",
       "          table = document.getElementById(\"myTable\");\n",
       "          tr = table.getElementsByTagName(\"tr\");\n",
       "\n",
       "          // Loop through all table rows, and hide those who don't match the search query\n",
       "          for (i = 0; i < tr.length; i++) {\n",
       "            name_td = tr[i].getElementsByTagName(\"td\")[1];\n",
       "            desc_td = tr[i].getElementsByTagName(\"td\")[2];\n",
       "            asset_td = tr[i].getElementsByTagName(\"td\")[3];\n",
       "            id_td = tr[i].getElementsByTagName(\"td\")[4];\n",
       "            if (name_td || desc_td || asset_td || id_td) {\n",
       "              name_txtValue = name_td.textContent || name_td.innerText;\n",
       "              desc_txtValue = desc_td.textContent || name_td.innerText;\n",
       "              asset_txtValue = asset_td.textContent || name_td.innerText;\n",
       "              id_txtValue = id_td.textContent || name_td.innerText;\n",
       "              name_bool = name_txtValue.toUpperCase().indexOf(filter) > -1;\n",
       "              desc_bool = desc_txtValue.toUpperCase().indexOf(filter) > -1;\n",
       "              asset_bool = asset_txtValue.toUpperCase().indexOf(filter) > -1;\n",
       "              id_bool = id_txtValue.toUpperCase().indexOf(filter) > -1;\n",
       "              if (name_bool || desc_bool || asset_bool || id_bool) {\n",
       "                tr[i].style.display = \"\";\n",
       "              } else {\n",
       "                tr[i].style.display = \"none\";\n",
       "              }\n",
       "            }\n",
       "          }\n",
       "        }\n",
       "        </script>"
      ],
      "text/plain": [
       "<syft.core.node.common.client_manager.dataset_api.DatasetRequestAPI at 0x7fea983623d0>"
      ]
     },
     "execution_count": 73,
     "metadata": {},
     "output_type": "execute_result"
    }
   ],
   "source": [
    "ds_node.datasets"
   ]
  },
  {
   "cell_type": "code",
   "execution_count": 74,
   "id": "c78c1c88-cc0a-4225-8605-b79890526bb7",
   "metadata": {},
   "outputs": [],
   "source": [
    "# Let's get a pointer to the dataset\n",
    "dataset = ds_node.datasets[0]"
   ]
  },
  {
   "cell_type": "markdown",
   "id": "1d3a6d18-99f2-4397-bfd1-95e513b07f42",
   "metadata": {},
   "source": [
    "<b> Let's try to find out how many people in this dataset had COVID19... </b>"
   ]
  },
  {
   "cell_type": "code",
   "execution_count": 79,
   "id": "c892ec52-d431-4c46-9519-de07dbcd791c",
   "metadata": {},
   "outputs": [
    {
     "name": "stdout",
     "output_type": "stream",
     "text": [
      "Dataset: COVID19 Test Results\n",
      "Description: Positive/Negative COVID19 Test results\n",
      "\n"
     ]
    },
    {
     "data": {
      "text/html": [
       "<style>\n",
       "        #myInput {\n",
       "          background-position: 10px 12px; /* Position the search icon */\n",
       "          background-repeat: no-repeat; /* Do not repeat the icon image */\n",
       "          background-color: #bbb;\n",
       "          width: 98%; /* Full-width */\n",
       "          font-size: 14px; /* Increase font-size */\n",
       "          padding: 12px 20px 12px 40px; /* Add some padding */\n",
       "          border: 1px solid #ddd; /* Add a grey border */\n",
       "          margin-bottom: 12px; /* Add some space below the input */\n",
       "        }\n",
       "\n",
       "        #myTable {\n",
       "          border-collapse: collapse; /* Collapse borders */\n",
       "          width: 50%; /* Full-width */\n",
       "          border: 1px solid #ddd; /* Add a grey border */\n",
       "          font-size: 14px; /* Increase font-size */\n",
       "        }\n",
       "\n",
       "        #myTable th, #myTable td {\n",
       "          text-align: left; /* Left-align text */\n",
       "          padding: 10px; /* Add padding */\n",
       "        }\n",
       "\n",
       "        #myTable tr {\n",
       "          /* Add a bottom border to all table rows */\n",
       "          border-bottom: 1px solid #ddd;\n",
       "        }\n",
       "\n",
       "        #myTable tr.header, #myTable tr:hover {\n",
       "          /* Add a grey background color to the table header and on hover */\n",
       "          background-color: #777;\n",
       "        }\n",
       "        </style>\n",
       "\n",
       "        <table id=\"myTable\">\n",
       "          <tr class=\"header\">\n",
       "            <th style=\"width:15%;\">Asset Key</th>\n",
       "            <th style=\"width:20%;\">Type</th>\n",
       "            <th style=\"width:10%;\">Shape</th>\n",
       "          </tr>\n",
       "        \n",
       "\n",
       "              <tr>\n",
       "            <td>[\"0\"]</td>\n",
       "            <td>Tensor</td>\n",
       "            <td>(1,)</td>\n",
       "          </tr>\n",
       "\n",
       "              <tr>\n",
       "            <td>[\"1\"]</td>\n",
       "            <td>Tensor</td>\n",
       "            <td>(1,)</td>\n",
       "          </tr>\n",
       "\n",
       "              <tr>\n",
       "            <td>[\"2\"]</td>\n",
       "            <td>Tensor</td>\n",
       "            <td>(1,)</td>\n",
       "          </tr>\n",
       "\n",
       "              <tr>\n",
       "            <td>[\"3\"]</td>\n",
       "            <td>Tensor</td>\n",
       "            <td>(1,)</td>\n",
       "          </tr>\n",
       "\n",
       "              <tr>\n",
       "            <td>[\"4\"]</td>\n",
       "            <td>Tensor</td>\n",
       "            <td>(1,)</td>\n",
       "          </tr>\n",
       "\n",
       "              <tr>\n",
       "            <td>[\"5\"]</td>\n",
       "            <td>Tensor</td>\n",
       "            <td>(1,)</td>\n",
       "          </tr>\n",
       "\n",
       "              <tr>\n",
       "            <td>[\"6\"]</td>\n",
       "            <td>Tensor</td>\n",
       "            <td>(1,)</td>\n",
       "          </tr>\n",
       "\n",
       "              <tr>\n",
       "            <td>[\"7\"]</td>\n",
       "            <td>Tensor</td>\n",
       "            <td>(1,)</td>\n",
       "          </tr>\n",
       "\n",
       "              <tr>\n",
       "            <td>[\"8\"]</td>\n",
       "            <td>Tensor</td>\n",
       "            <td>(1,)</td>\n",
       "          </tr>\n",
       "\n",
       "              <tr>\n",
       "            <td>[\"9\"]</td>\n",
       "            <td>Tensor</td>\n",
       "            <td>(1,)</td>\n",
       "          </tr>\n",
       "        </table>\n",
       "\n",
       "        "
      ],
      "text/plain": [
       "<syft.core.node.common.client_manager.dataset_api.Dataset at 0x7fea9a251040>"
      ]
     },
     "execution_count": 79,
     "metadata": {},
     "output_type": "execute_result"
    }
   ],
   "source": [
    "dataset"
   ]
  },
  {
   "cell_type": "markdown",
   "id": "e5445d93-f69e-4355-9364-803e87fd1f4f",
   "metadata": {},
   "source": [
    "Let's try to see if we, as the Data Scientist, working with this remote dataset, can see what it looks like by printing it."
   ]
  },
  {
   "cell_type": "code",
   "execution_count": 75,
   "id": "5472091f-77d8-48b3-97a4-626be53212d0",
   "metadata": {},
   "outputs": [
    {
     "name": "stdout",
     "output_type": "stream",
     "text": [
      "<syft.core.node.common.client_manager.dataset_api.Dataset object at 0x7fea9a251040>\n"
     ]
    }
   ],
   "source": [
    "print(dataset)"
   ]
  },
  {
   "cell_type": "markdown",
   "id": "95f8e6e0-ee50-447b-9e65-0f065a074686",
   "metadata": {},
   "source": [
    "Now, normally, if we had a Tensor object (such as the ones from PyTorch or Tensorflow), we'd be able to print it and look at it. However, as you can see, this returns a Dataset object "
   ]
  },
  {
   "cell_type": "code",
   "execution_count": 77,
   "id": "f7d1c18f-3b62-405f-8117-1298f15c97e8",
   "metadata": {},
   "outputs": [],
   "source": [
    "results = [dataset[f'{i}'] for i in range(10)]"
   ]
  },
  {
   "cell_type": "code",
   "execution_count": 82,
   "id": "f04528cb-889a-427d-8206-cdc4a9849486",
   "metadata": {},
   "outputs": [],
   "source": [
    "from time import sleep\n",
    "total_cases = 0\n",
    "for result in results:\n",
    "    ptr = result.publish()\n",
    "    sleep(1)\n",
    "    total_cases += ptr.get()"
   ]
  },
  {
   "cell_type": "code",
   "execution_count": 84,
   "id": "3de09812-7342-4200-a710-9955feeb5cb9",
   "metadata": {},
   "outputs": [
    {
     "name": "stdout",
     "output_type": "stream",
     "text": [
      "The total number of COVID19 cases are: 6.811603905014408\n"
     ]
    }
   ],
   "source": [
    "print(f'The total number of COVID19 cases are: {total_cases[0]}')"
   ]
  },
  {
   "cell_type": "markdown",
   "id": "514ab625-dfec-4293-bb55-a371b60e551b",
   "metadata": {},
   "source": [
    "So as you can see, Dr. Cooper was able to determine the number of people in your lab who tested positive for COVID in your lab. More incredibly, he did this <b> without knowing any one individual's test result! </b>\n",
    "\n",
    "This is the power of remote data science, and of the PySyft framework. <b> We're able to work with and get the benefits of remote data, without directly owning it, or exposing anyone's privacy.</b>"
   ]
  },
  {
   "cell_type": "markdown",
   "id": "202d46df-6e8c-4dc7-a9d9-8962f062b09b",
   "metadata": {},
   "source": [
    "<hr>"
   ]
  },
  {
   "cell_type": "markdown",
   "id": "dfd11b6c-6c24-4c9e-b774-fc4738f42722",
   "metadata": {
    "tags": []
   },
   "source": [
    "## Concept 6: Shut down your Domain Node\n",
    "Open a new terminal window with the virtual environment active:"
   ]
  },
  {
   "cell_type": "markdown",
   "id": "e9cd70e2-cf53-4847-b81c-f26022d43cc8",
   "metadata": {},
   "source": [
    "```\n",
    "conda activate lab\n",
    "```"
   ]
  },
  {
   "cell_type": "markdown",
   "id": "ff905233-f95c-46f1-aef6-67f845bc54e1",
   "metadata": {},
   "source": [
    "Run this command in your terminal:"
   ]
  },
  {
   "cell_type": "markdown",
   "id": "04dc6e2a-7aec-4218-8ae8-7391111beab7",
   "metadata": {},
   "source": [
    "```\n",
    "hagrid land local_node\n",
    "```"
   ]
  },
  {
   "cell_type": "markdown",
   "id": "d97345ee-d903-427b-9a5a-27557a8f66d6",
   "metadata": {},
   "source": [
    "<hr>"
   ]
  },
  {
   "cell_type": "markdown",
   "id": "163576c5-e278-4a91-91bd-6986f1e34c41",
   "metadata": {},
   "source": [
    "# Concept 7: Lesson Conclusion\n",
    "\n",
    "# <marquee> CONGRATULATIONS! </marquee>\n",
    "In just a few minutes, you spun up a domain node, created and uploaded a dataset, and then as a data scientist, you used that dataset to perform remote data science!\n",
    "\n",
    "In the next three lessons, you'll be able to peer past the curtain and see how all of this comes together. You'll be guided through, step by step, how to manage and work with more complex and sophisticated datasets, prepare them for upload, and how to manage and take care of your domain node, and configure it to your liking. Finally, you'll get to do more interesting remote data science!"
   ]
  },
  {
   "cell_type": "markdown",
   "id": "86a1e179-8146-4a35-a2b2-6f563357796d",
   "metadata": {},
   "source": [
    "<hr>"
   ]
  },
  {
   "cell_type": "markdown",
   "id": "f0c22225-ba2d-4b35-96e7-4ec4666026ec",
   "metadata": {},
   "source": [
    "<hr>"
   ]
  }
 ],
 "metadata": {
  "kernelspec": {
   "display_name": "Python 3 (ipykernel)",
   "language": "python",
   "name": "python3"
  },
  "language_info": {
   "codemirror_mode": {
    "name": "ipython",
    "version": 3
   },
   "file_extension": ".py",
   "mimetype": "text/x-python",
   "name": "python",
   "nbconvert_exporter": "python",
   "pygments_lexer": "ipython3",
   "version": "3.9.7"
  }
 },
 "nbformat": 4,
 "nbformat_minor": 5
}

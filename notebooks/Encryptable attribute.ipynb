{
 "cells": [
  {
   "cell_type": "markdown",
   "metadata": {},
   "source": [
    "# Encryptable attributes\n",
    "As the codebase increases in complexity, we encounter cases in which new objects can contain multiple tensors (eg a layer can have weights, filters, bias).\n",
    "In such cases one would have to expose encrypt and decrypt functionality for all layers.\n",
    "This becomes a lot of boilerplate code to accomplish something which is really simple.\n",
    "To avoid this, we provide an \"Encryptable\" mixin which enables to do the same by simply extending it.\n",
    "Being a form of inheritance, its behaviour can still be customised via overloading."
   ]
  },
  {
   "cell_type": "code",
   "execution_count": 1,
   "metadata": {},
   "outputs": [],
   "source": [
    "from syft.encryptable import Encryptable\n",
    "from syft.he.paillier import KeyPair, PaillierTensor\n",
    "from syft import TensorBase\n",
    "import numpy as np"
   ]
  },
  {
   "cell_type": "markdown",
   "metadata": {},
   "source": [
    "## Simple use case\n",
    "In this case we have a FinalTest case containing a TensorBase, and some other classes with various levels of nesting.\n",
    "All we have to do is specify in the \"encryptables\" field the names of the objects we wish to automagically encrypt!"
   ]
  },
  {
   "attachments": {
    "Class.png": {
     "image/png": "[encoded data removed]"
    }
   },
   "cell_type": "markdown",
   "metadata": {},
   "source": [
    "![Class.png](attachment:Class.png)"
   ]
  },
  {
   "cell_type": "code",
   "execution_count": 2,
   "metadata": {},
   "outputs": [],
   "source": [
    "class BottomTest(Encryptable):\n",
    "    encryptables = ['ones', 'zeros']\n",
    "    def __init__(self):\n",
    "        self.ones = TensorBase(np.ones(5))\n",
    "        self.zeros = TensorBase(np.zeros(5))\n",
    "    \n",
    "    def __repr__(self):\n",
    "        return \"Ones: \" + str(self.ones) + \"\\tZeros: \" + str(self.zeros)\n",
    "\n",
    "\n",
    "class TopTest(Encryptable):\n",
    "    encryptables = ['left', 'right']\n",
    "    def __init__(self):\n",
    "        self.left = BottomTest()\n",
    "        self.right = BottomTest()\n",
    "    \n",
    "    def __repr__(self):\n",
    "        return \"\\tLeft: \" + str(self.left) + \"\\n\\tRight: \" + str(self.right)\n",
    "    \n",
    "class FinalTest(Encryptable):\n",
    "    encryptables = ['tensor', 'top', 'bottom', 'tensList']\n",
    "    def __init__(self):\n",
    "        self.tensList = []\n",
    "        for i in range(1,100):\n",
    "            self.tensList.append(TensorBase(np.ones((2,2))))\n",
    "        self.tensor = TensorBase(np.asarray([13.1,6.1,45.1,2.1]))\n",
    "        self.top = TopTest()\n",
    "        self.bottom = BottomTest()\n",
    "        \n",
    "    def __repr__(self):\n",
    "        return \"Tensor: \" + str(self.tensor) + \"\\nTop: \" + str(self.top) + \"\\nBottom: \" + str(self.bottom)\n"
   ]
  },
  {
   "cell_type": "code",
   "execution_count": 3,
   "metadata": {},
   "outputs": [],
   "source": [
    "a = FinalTest()\n",
    "b = FinalTest()"
   ]
  },
  {
   "cell_type": "markdown",
   "metadata": {},
   "source": [
    "### Unencrypted a"
   ]
  },
  {
   "cell_type": "code",
   "execution_count": 4,
   "metadata": {},
   "outputs": [
    {
     "data": {
      "text/plain": [
       "Tensor: BaseTensor: [ 13.1   6.1  45.1   2.1]\n",
       "Top: \tLeft: Ones: BaseTensor: [ 1.  1.  1.  1.  1.]\tZeros: BaseTensor: [ 0.  0.  0.  0.  0.]\n",
       "\tRight: Ones: BaseTensor: [ 1.  1.  1.  1.  1.]\tZeros: BaseTensor: [ 0.  0.  0.  0.  0.]\n",
       "Bottom: Ones: BaseTensor: [ 1.  1.  1.  1.  1.]\tZeros: BaseTensor: [ 0.  0.  0.  0.  0.]"
      ]
     },
     "execution_count": 4,
     "metadata": {},
     "output_type": "execute_result"
    }
   ],
   "source": [
    "a"
   ]
  },
  {
   "cell_type": "code",
   "execution_count": 5,
   "metadata": {},
   "outputs": [
    {
     "data": {
      "text/plain": [
       "[BaseTensor: array([[ 1.,  1.],\n",
       "        [ 1.,  1.]]), BaseTensor: array([[ 1.,  1.],\n",
       "        [ 1.,  1.]]), BaseTensor: array([[ 1.,  1.],\n",
       "        [ 1.,  1.]]), BaseTensor: array([[ 1.,  1.],\n",
       "        [ 1.,  1.]]), BaseTensor: array([[ 1.,  1.],\n",
       "        [ 1.,  1.]]), BaseTensor: array([[ 1.,  1.],\n",
       "        [ 1.,  1.]]), BaseTensor: array([[ 1.,  1.],\n",
       "        [ 1.,  1.]]), BaseTensor: array([[ 1.,  1.],\n",
       "        [ 1.,  1.]]), BaseTensor: array([[ 1.,  1.],\n",
       "        [ 1.,  1.]]), BaseTensor: array([[ 1.,  1.],\n",
       "        [ 1.,  1.]]), BaseTensor: array([[ 1.,  1.],\n",
       "        [ 1.,  1.]]), BaseTensor: array([[ 1.,  1.],\n",
       "        [ 1.,  1.]]), BaseTensor: array([[ 1.,  1.],\n",
       "        [ 1.,  1.]]), BaseTensor: array([[ 1.,  1.],\n",
       "        [ 1.,  1.]]), BaseTensor: array([[ 1.,  1.],\n",
       "        [ 1.,  1.]]), BaseTensor: array([[ 1.,  1.],\n",
       "        [ 1.,  1.]]), BaseTensor: array([[ 1.,  1.],\n",
       "        [ 1.,  1.]]), BaseTensor: array([[ 1.,  1.],\n",
       "        [ 1.,  1.]]), BaseTensor: array([[ 1.,  1.],\n",
       "        [ 1.,  1.]]), BaseTensor: array([[ 1.,  1.],\n",
       "        [ 1.,  1.]]), BaseTensor: array([[ 1.,  1.],\n",
       "        [ 1.,  1.]]), BaseTensor: array([[ 1.,  1.],\n",
       "        [ 1.,  1.]]), BaseTensor: array([[ 1.,  1.],\n",
       "        [ 1.,  1.]]), BaseTensor: array([[ 1.,  1.],\n",
       "        [ 1.,  1.]]), BaseTensor: array([[ 1.,  1.],\n",
       "        [ 1.,  1.]]), BaseTensor: array([[ 1.,  1.],\n",
       "        [ 1.,  1.]]), BaseTensor: array([[ 1.,  1.],\n",
       "        [ 1.,  1.]]), BaseTensor: array([[ 1.,  1.],\n",
       "        [ 1.,  1.]]), BaseTensor: array([[ 1.,  1.],\n",
       "        [ 1.,  1.]]), BaseTensor: array([[ 1.,  1.],\n",
       "        [ 1.,  1.]]), BaseTensor: array([[ 1.,  1.],\n",
       "        [ 1.,  1.]]), BaseTensor: array([[ 1.,  1.],\n",
       "        [ 1.,  1.]]), BaseTensor: array([[ 1.,  1.],\n",
       "        [ 1.,  1.]]), BaseTensor: array([[ 1.,  1.],\n",
       "        [ 1.,  1.]]), BaseTensor: array([[ 1.,  1.],\n",
       "        [ 1.,  1.]]), BaseTensor: array([[ 1.,  1.],\n",
       "        [ 1.,  1.]]), BaseTensor: array([[ 1.,  1.],\n",
       "        [ 1.,  1.]]), BaseTensor: array([[ 1.,  1.],\n",
       "        [ 1.,  1.]]), BaseTensor: array([[ 1.,  1.],\n",
       "        [ 1.,  1.]]), BaseTensor: array([[ 1.,  1.],\n",
       "        [ 1.,  1.]]), BaseTensor: array([[ 1.,  1.],\n",
       "        [ 1.,  1.]]), BaseTensor: array([[ 1.,  1.],\n",
       "        [ 1.,  1.]]), BaseTensor: array([[ 1.,  1.],\n",
       "        [ 1.,  1.]]), BaseTensor: array([[ 1.,  1.],\n",
       "        [ 1.,  1.]]), BaseTensor: array([[ 1.,  1.],\n",
       "        [ 1.,  1.]]), BaseTensor: array([[ 1.,  1.],\n",
       "        [ 1.,  1.]]), BaseTensor: array([[ 1.,  1.],\n",
       "        [ 1.,  1.]]), BaseTensor: array([[ 1.,  1.],\n",
       "        [ 1.,  1.]]), BaseTensor: array([[ 1.,  1.],\n",
       "        [ 1.,  1.]]), BaseTensor: array([[ 1.,  1.],\n",
       "        [ 1.,  1.]]), BaseTensor: array([[ 1.,  1.],\n",
       "        [ 1.,  1.]]), BaseTensor: array([[ 1.,  1.],\n",
       "        [ 1.,  1.]]), BaseTensor: array([[ 1.,  1.],\n",
       "        [ 1.,  1.]]), BaseTensor: array([[ 1.,  1.],\n",
       "        [ 1.,  1.]]), BaseTensor: array([[ 1.,  1.],\n",
       "        [ 1.,  1.]]), BaseTensor: array([[ 1.,  1.],\n",
       "        [ 1.,  1.]]), BaseTensor: array([[ 1.,  1.],\n",
       "        [ 1.,  1.]]), BaseTensor: array([[ 1.,  1.],\n",
       "        [ 1.,  1.]]), BaseTensor: array([[ 1.,  1.],\n",
       "        [ 1.,  1.]]), BaseTensor: array([[ 1.,  1.],\n",
       "        [ 1.,  1.]]), BaseTensor: array([[ 1.,  1.],\n",
       "        [ 1.,  1.]]), BaseTensor: array([[ 1.,  1.],\n",
       "        [ 1.,  1.]]), BaseTensor: array([[ 1.,  1.],\n",
       "        [ 1.,  1.]]), BaseTensor: array([[ 1.,  1.],\n",
       "        [ 1.,  1.]]), BaseTensor: array([[ 1.,  1.],\n",
       "        [ 1.,  1.]]), BaseTensor: array([[ 1.,  1.],\n",
       "        [ 1.,  1.]]), BaseTensor: array([[ 1.,  1.],\n",
       "        [ 1.,  1.]]), BaseTensor: array([[ 1.,  1.],\n",
       "        [ 1.,  1.]]), BaseTensor: array([[ 1.,  1.],\n",
       "        [ 1.,  1.]]), BaseTensor: array([[ 1.,  1.],\n",
       "        [ 1.,  1.]]), BaseTensor: array([[ 1.,  1.],\n",
       "        [ 1.,  1.]]), BaseTensor: array([[ 1.,  1.],\n",
       "        [ 1.,  1.]]), BaseTensor: array([[ 1.,  1.],\n",
       "        [ 1.,  1.]]), BaseTensor: array([[ 1.,  1.],\n",
       "        [ 1.,  1.]]), BaseTensor: array([[ 1.,  1.],\n",
       "        [ 1.,  1.]]), BaseTensor: array([[ 1.,  1.],\n",
       "        [ 1.,  1.]]), BaseTensor: array([[ 1.,  1.],\n",
       "        [ 1.,  1.]]), BaseTensor: array([[ 1.,  1.],\n",
       "        [ 1.,  1.]]), BaseTensor: array([[ 1.,  1.],\n",
       "        [ 1.,  1.]]), BaseTensor: array([[ 1.,  1.],\n",
       "        [ 1.,  1.]]), BaseTensor: array([[ 1.,  1.],\n",
       "        [ 1.,  1.]]), BaseTensor: array([[ 1.,  1.],\n",
       "        [ 1.,  1.]]), BaseTensor: array([[ 1.,  1.],\n",
       "        [ 1.,  1.]]), BaseTensor: array([[ 1.,  1.],\n",
       "        [ 1.,  1.]]), BaseTensor: array([[ 1.,  1.],\n",
       "        [ 1.,  1.]]), BaseTensor: array([[ 1.,  1.],\n",
       "        [ 1.,  1.]]), BaseTensor: array([[ 1.,  1.],\n",
       "        [ 1.,  1.]]), BaseTensor: array([[ 1.,  1.],\n",
       "        [ 1.,  1.]]), BaseTensor: array([[ 1.,  1.],\n",
       "        [ 1.,  1.]]), BaseTensor: array([[ 1.,  1.],\n",
       "        [ 1.,  1.]]), BaseTensor: array([[ 1.,  1.],\n",
       "        [ 1.,  1.]]), BaseTensor: array([[ 1.,  1.],\n",
       "        [ 1.,  1.]]), BaseTensor: array([[ 1.,  1.],\n",
       "        [ 1.,  1.]]), BaseTensor: array([[ 1.,  1.],\n",
       "        [ 1.,  1.]]), BaseTensor: array([[ 1.,  1.],\n",
       "        [ 1.,  1.]]), BaseTensor: array([[ 1.,  1.],\n",
       "        [ 1.,  1.]]), BaseTensor: array([[ 1.,  1.],\n",
       "        [ 1.,  1.]]), BaseTensor: array([[ 1.,  1.],\n",
       "        [ 1.,  1.]]), BaseTensor: array([[ 1.,  1.],\n",
       "        [ 1.,  1.]])]"
      ]
     },
     "execution_count": 5,
     "metadata": {},
     "output_type": "execute_result"
    }
   ],
   "source": [
    "a.tensList"
   ]
  },
  {
   "cell_type": "code",
   "execution_count": 6,
   "metadata": {},
   "outputs": [
    {
     "data": {
      "text/plain": [
       "['tensor', 'top', 'bottom', 'tensList']"
      ]
     },
     "execution_count": 6,
     "metadata": {},
     "output_type": "execute_result"
    }
   ],
   "source": [
    "FinalTest.encryptables"
   ]
  },
  {
   "cell_type": "markdown",
   "metadata": {},
   "source": [
    "Let's encrypt!"
   ]
  },
  {
   "cell_type": "code",
   "execution_count": 7,
   "metadata": {},
   "outputs": [],
   "source": [
    "pubkey,prikey = KeyPair().generate()"
   ]
  },
  {
   "cell_type": "code",
   "execution_count": 8,
   "metadata": {},
   "outputs": [],
   "source": [
    "a = a.encrypt(pubkey)\n",
    "b = b.encrypt(pubkey)"
   ]
  },
  {
   "cell_type": "code",
   "execution_count": 9,
   "metadata": {},
   "outputs": [
    {
     "data": {
      "text/plain": [
       "Tensor: PaillierTensor: [e e e e]\n",
       "Top: \tLeft: Ones: PaillierTensor: [e e e e e]\tZeros: PaillierTensor: [e e e e e]\n",
       "\tRight: Ones: PaillierTensor: [e e e e e]\tZeros: PaillierTensor: [e e e e e]\n",
       "Bottom: Ones: PaillierTensor: [e e e e e]\tZeros: PaillierTensor: [e e e e e]"
      ]
     },
     "execution_count": 9,
     "metadata": {},
     "output_type": "execute_result"
    }
   ],
   "source": [
    "a"
   ]
  },
  {
   "cell_type": "code",
   "execution_count": 10,
   "metadata": {},
   "outputs": [
    {
     "data": {
      "text/plain": [
       "[PaillierTensor: array([[e, e],\n",
       "        [e, e]], dtype=object), PaillierTensor: array([[e, e],\n",
       "        [e, e]], dtype=object), PaillierTensor: array([[e, e],\n",
       "        [e, e]], dtype=object), PaillierTensor: array([[e, e],\n",
       "        [e, e]], dtype=object), PaillierTensor: array([[e, e],\n",
       "        [e, e]], dtype=object), PaillierTensor: array([[e, e],\n",
       "        [e, e]], dtype=object), PaillierTensor: array([[e, e],\n",
       "        [e, e]], dtype=object), PaillierTensor: array([[e, e],\n",
       "        [e, e]], dtype=object), PaillierTensor: array([[e, e],\n",
       "        [e, e]], dtype=object), PaillierTensor: array([[e, e],\n",
       "        [e, e]], dtype=object), PaillierTensor: array([[e, e],\n",
       "        [e, e]], dtype=object), PaillierTensor: array([[e, e],\n",
       "        [e, e]], dtype=object), PaillierTensor: array([[e, e],\n",
       "        [e, e]], dtype=object), PaillierTensor: array([[e, e],\n",
       "        [e, e]], dtype=object), PaillierTensor: array([[e, e],\n",
       "        [e, e]], dtype=object), PaillierTensor: array([[e, e],\n",
       "        [e, e]], dtype=object), PaillierTensor: array([[e, e],\n",
       "        [e, e]], dtype=object), PaillierTensor: array([[e, e],\n",
       "        [e, e]], dtype=object), PaillierTensor: array([[e, e],\n",
       "        [e, e]], dtype=object), PaillierTensor: array([[e, e],\n",
       "        [e, e]], dtype=object), PaillierTensor: array([[e, e],\n",
       "        [e, e]], dtype=object), PaillierTensor: array([[e, e],\n",
       "        [e, e]], dtype=object), PaillierTensor: array([[e, e],\n",
       "        [e, e]], dtype=object), PaillierTensor: array([[e, e],\n",
       "        [e, e]], dtype=object), PaillierTensor: array([[e, e],\n",
       "        [e, e]], dtype=object), PaillierTensor: array([[e, e],\n",
       "        [e, e]], dtype=object), PaillierTensor: array([[e, e],\n",
       "        [e, e]], dtype=object), PaillierTensor: array([[e, e],\n",
       "        [e, e]], dtype=object), PaillierTensor: array([[e, e],\n",
       "        [e, e]], dtype=object), PaillierTensor: array([[e, e],\n",
       "        [e, e]], dtype=object), PaillierTensor: array([[e, e],\n",
       "        [e, e]], dtype=object), PaillierTensor: array([[e, e],\n",
       "        [e, e]], dtype=object), PaillierTensor: array([[e, e],\n",
       "        [e, e]], dtype=object), PaillierTensor: array([[e, e],\n",
       "        [e, e]], dtype=object), PaillierTensor: array([[e, e],\n",
       "        [e, e]], dtype=object), PaillierTensor: array([[e, e],\n",
       "        [e, e]], dtype=object), PaillierTensor: array([[e, e],\n",
       "        [e, e]], dtype=object), PaillierTensor: array([[e, e],\n",
       "        [e, e]], dtype=object), PaillierTensor: array([[e, e],\n",
       "        [e, e]], dtype=object), PaillierTensor: array([[e, e],\n",
       "        [e, e]], dtype=object), PaillierTensor: array([[e, e],\n",
       "        [e, e]], dtype=object), PaillierTensor: array([[e, e],\n",
       "        [e, e]], dtype=object), PaillierTensor: array([[e, e],\n",
       "        [e, e]], dtype=object), PaillierTensor: array([[e, e],\n",
       "        [e, e]], dtype=object), PaillierTensor: array([[e, e],\n",
       "        [e, e]], dtype=object), PaillierTensor: array([[e, e],\n",
       "        [e, e]], dtype=object), PaillierTensor: array([[e, e],\n",
       "        [e, e]], dtype=object), PaillierTensor: array([[e, e],\n",
       "        [e, e]], dtype=object), PaillierTensor: array([[e, e],\n",
       "        [e, e]], dtype=object), PaillierTensor: array([[e, e],\n",
       "        [e, e]], dtype=object), PaillierTensor: array([[e, e],\n",
       "        [e, e]], dtype=object), PaillierTensor: array([[e, e],\n",
       "        [e, e]], dtype=object), PaillierTensor: array([[e, e],\n",
       "        [e, e]], dtype=object), PaillierTensor: array([[e, e],\n",
       "        [e, e]], dtype=object), PaillierTensor: array([[e, e],\n",
       "        [e, e]], dtype=object), PaillierTensor: array([[e, e],\n",
       "        [e, e]], dtype=object), PaillierTensor: array([[e, e],\n",
       "        [e, e]], dtype=object), PaillierTensor: array([[e, e],\n",
       "        [e, e]], dtype=object), PaillierTensor: array([[e, e],\n",
       "        [e, e]], dtype=object), PaillierTensor: array([[e, e],\n",
       "        [e, e]], dtype=object), PaillierTensor: array([[e, e],\n",
       "        [e, e]], dtype=object), PaillierTensor: array([[e, e],\n",
       "        [e, e]], dtype=object), PaillierTensor: array([[e, e],\n",
       "        [e, e]], dtype=object), PaillierTensor: array([[e, e],\n",
       "        [e, e]], dtype=object), PaillierTensor: array([[e, e],\n",
       "        [e, e]], dtype=object), PaillierTensor: array([[e, e],\n",
       "        [e, e]], dtype=object), PaillierTensor: array([[e, e],\n",
       "        [e, e]], dtype=object), PaillierTensor: array([[e, e],\n",
       "        [e, e]], dtype=object), PaillierTensor: array([[e, e],\n",
       "        [e, e]], dtype=object), PaillierTensor: array([[e, e],\n",
       "        [e, e]], dtype=object), PaillierTensor: array([[e, e],\n",
       "        [e, e]], dtype=object), PaillierTensor: array([[e, e],\n",
       "        [e, e]], dtype=object), PaillierTensor: array([[e, e],\n",
       "        [e, e]], dtype=object), PaillierTensor: array([[e, e],\n",
       "        [e, e]], dtype=object), PaillierTensor: array([[e, e],\n",
       "        [e, e]], dtype=object), PaillierTensor: array([[e, e],\n",
       "        [e, e]], dtype=object), PaillierTensor: array([[e, e],\n",
       "        [e, e]], dtype=object), PaillierTensor: array([[e, e],\n",
       "        [e, e]], dtype=object), PaillierTensor: array([[e, e],\n",
       "        [e, e]], dtype=object), PaillierTensor: array([[e, e],\n",
       "        [e, e]], dtype=object), PaillierTensor: array([[e, e],\n",
       "        [e, e]], dtype=object), PaillierTensor: array([[e, e],\n",
       "        [e, e]], dtype=object), PaillierTensor: array([[e, e],\n",
       "        [e, e]], dtype=object), PaillierTensor: array([[e, e],\n",
       "        [e, e]], dtype=object), PaillierTensor: array([[e, e],\n",
       "        [e, e]], dtype=object), PaillierTensor: array([[e, e],\n",
       "        [e, e]], dtype=object), PaillierTensor: array([[e, e],\n",
       "        [e, e]], dtype=object), PaillierTensor: array([[e, e],\n",
       "        [e, e]], dtype=object), PaillierTensor: array([[e, e],\n",
       "        [e, e]], dtype=object), PaillierTensor: array([[e, e],\n",
       "        [e, e]], dtype=object), PaillierTensor: array([[e, e],\n",
       "        [e, e]], dtype=object), PaillierTensor: array([[e, e],\n",
       "        [e, e]], dtype=object), PaillierTensor: array([[e, e],\n",
       "        [e, e]], dtype=object), PaillierTensor: array([[e, e],\n",
       "        [e, e]], dtype=object), PaillierTensor: array([[e, e],\n",
       "        [e, e]], dtype=object), PaillierTensor: array([[e, e],\n",
       "        [e, e]], dtype=object), PaillierTensor: array([[e, e],\n",
       "        [e, e]], dtype=object), PaillierTensor: array([[e, e],\n",
       "        [e, e]], dtype=object), PaillierTensor: array([[e, e],\n",
       "        [e, e]], dtype=object)]"
      ]
     },
     "execution_count": 10,
     "metadata": {},
     "output_type": "execute_result"
    }
   ],
   "source": [
    "a.tensList"
   ]
  },
  {
   "cell_type": "markdown",
   "metadata": {},
   "source": [
    "Let's do encrypted operations!"
   ]
  },
  {
   "cell_type": "code",
   "execution_count": 11,
   "metadata": {},
   "outputs": [],
   "source": [
    "c = a.tensor + b.tensor"
   ]
  },
  {
   "cell_type": "code",
   "execution_count": 12,
   "metadata": {},
   "outputs": [],
   "source": [
    "a = a.decrypt(prikey)\n",
    "b = b.decrypt(prikey)"
   ]
  },
  {
   "cell_type": "code",
   "execution_count": 13,
   "metadata": {},
   "outputs": [
    {
     "data": {
      "text/plain": [
       "PaillierTensor: array([e, e, e, e], dtype=object)"
      ]
     },
     "execution_count": 13,
     "metadata": {},
     "output_type": "execute_result"
    }
   ],
   "source": [
    "c"
   ]
  },
  {
   "cell_type": "code",
   "execution_count": 14,
   "metadata": {},
   "outputs": [
    {
     "data": {
      "text/plain": [
       "BaseTensor: array([ 26.2,  12.2,  90.2,   4.2])"
      ]
     },
     "execution_count": 14,
     "metadata": {},
     "output_type": "execute_result"
    }
   ],
   "source": [
    "c.decrypt(prikey)"
   ]
  },
  {
   "cell_type": "code",
   "execution_count": 15,
   "metadata": {},
   "outputs": [
    {
     "data": {
      "text/plain": [
       "[BaseTensor: array([[ 1.,  1.],\n",
       "        [ 1.,  1.]]), BaseTensor: array([[ 1.,  1.],\n",
       "        [ 1.,  1.]]), BaseTensor: array([[ 1.,  1.],\n",
       "        [ 1.,  1.]]), BaseTensor: array([[ 1.,  1.],\n",
       "        [ 1.,  1.]]), BaseTensor: array([[ 1.,  1.],\n",
       "        [ 1.,  1.]]), BaseTensor: array([[ 1.,  1.],\n",
       "        [ 1.,  1.]]), BaseTensor: array([[ 1.,  1.],\n",
       "        [ 1.,  1.]]), BaseTensor: array([[ 1.,  1.],\n",
       "        [ 1.,  1.]]), BaseTensor: array([[ 1.,  1.],\n",
       "        [ 1.,  1.]]), BaseTensor: array([[ 1.,  1.],\n",
       "        [ 1.,  1.]]), BaseTensor: array([[ 1.,  1.],\n",
       "        [ 1.,  1.]]), BaseTensor: array([[ 1.,  1.],\n",
       "        [ 1.,  1.]]), BaseTensor: array([[ 1.,  1.],\n",
       "        [ 1.,  1.]]), BaseTensor: array([[ 1.,  1.],\n",
       "        [ 1.,  1.]]), BaseTensor: array([[ 1.,  1.],\n",
       "        [ 1.,  1.]]), BaseTensor: array([[ 1.,  1.],\n",
       "        [ 1.,  1.]]), BaseTensor: array([[ 1.,  1.],\n",
       "        [ 1.,  1.]]), BaseTensor: array([[ 1.,  1.],\n",
       "        [ 1.,  1.]]), BaseTensor: array([[ 1.,  1.],\n",
       "        [ 1.,  1.]]), BaseTensor: array([[ 1.,  1.],\n",
       "        [ 1.,  1.]]), BaseTensor: array([[ 1.,  1.],\n",
       "        [ 1.,  1.]]), BaseTensor: array([[ 1.,  1.],\n",
       "        [ 1.,  1.]]), BaseTensor: array([[ 1.,  1.],\n",
       "        [ 1.,  1.]]), BaseTensor: array([[ 1.,  1.],\n",
       "        [ 1.,  1.]]), BaseTensor: array([[ 1.,  1.],\n",
       "        [ 1.,  1.]]), BaseTensor: array([[ 1.,  1.],\n",
       "        [ 1.,  1.]]), BaseTensor: array([[ 1.,  1.],\n",
       "        [ 1.,  1.]]), BaseTensor: array([[ 1.,  1.],\n",
       "        [ 1.,  1.]]), BaseTensor: array([[ 1.,  1.],\n",
       "        [ 1.,  1.]]), BaseTensor: array([[ 1.,  1.],\n",
       "        [ 1.,  1.]]), BaseTensor: array([[ 1.,  1.],\n",
       "        [ 1.,  1.]]), BaseTensor: array([[ 1.,  1.],\n",
       "        [ 1.,  1.]]), BaseTensor: array([[ 1.,  1.],\n",
       "        [ 1.,  1.]]), BaseTensor: array([[ 1.,  1.],\n",
       "        [ 1.,  1.]]), BaseTensor: array([[ 1.,  1.],\n",
       "        [ 1.,  1.]]), BaseTensor: array([[ 1.,  1.],\n",
       "        [ 1.,  1.]]), BaseTensor: array([[ 1.,  1.],\n",
       "        [ 1.,  1.]]), BaseTensor: array([[ 1.,  1.],\n",
       "        [ 1.,  1.]]), BaseTensor: array([[ 1.,  1.],\n",
       "        [ 1.,  1.]]), BaseTensor: array([[ 1.,  1.],\n",
       "        [ 1.,  1.]]), BaseTensor: array([[ 1.,  1.],\n",
       "        [ 1.,  1.]]), BaseTensor: array([[ 1.,  1.],\n",
       "        [ 1.,  1.]]), BaseTensor: array([[ 1.,  1.],\n",
       "        [ 1.,  1.]]), BaseTensor: array([[ 1.,  1.],\n",
       "        [ 1.,  1.]]), BaseTensor: array([[ 1.,  1.],\n",
       "        [ 1.,  1.]]), BaseTensor: array([[ 1.,  1.],\n",
       "        [ 1.,  1.]]), BaseTensor: array([[ 1.,  1.],\n",
       "        [ 1.,  1.]]), BaseTensor: array([[ 1.,  1.],\n",
       "        [ 1.,  1.]]), BaseTensor: array([[ 1.,  1.],\n",
       "        [ 1.,  1.]]), BaseTensor: array([[ 1.,  1.],\n",
       "        [ 1.,  1.]]), BaseTensor: array([[ 1.,  1.],\n",
       "        [ 1.,  1.]]), BaseTensor: array([[ 1.,  1.],\n",
       "        [ 1.,  1.]]), BaseTensor: array([[ 1.,  1.],\n",
       "        [ 1.,  1.]]), BaseTensor: array([[ 1.,  1.],\n",
       "        [ 1.,  1.]]), BaseTensor: array([[ 1.,  1.],\n",
       "        [ 1.,  1.]]), BaseTensor: array([[ 1.,  1.],\n",
       "        [ 1.,  1.]]), BaseTensor: array([[ 1.,  1.],\n",
       "        [ 1.,  1.]]), BaseTensor: array([[ 1.,  1.],\n",
       "        [ 1.,  1.]]), BaseTensor: array([[ 1.,  1.],\n",
       "        [ 1.,  1.]]), BaseTensor: array([[ 1.,  1.],\n",
       "        [ 1.,  1.]]), BaseTensor: array([[ 1.,  1.],\n",
       "        [ 1.,  1.]]), BaseTensor: array([[ 1.,  1.],\n",
       "        [ 1.,  1.]]), BaseTensor: array([[ 1.,  1.],\n",
       "        [ 1.,  1.]]), BaseTensor: array([[ 1.,  1.],\n",
       "        [ 1.,  1.]]), BaseTensor: array([[ 1.,  1.],\n",
       "        [ 1.,  1.]]), BaseTensor: array([[ 1.,  1.],\n",
       "        [ 1.,  1.]]), BaseTensor: array([[ 1.,  1.],\n",
       "        [ 1.,  1.]]), BaseTensor: array([[ 1.,  1.],\n",
       "        [ 1.,  1.]]), BaseTensor: array([[ 1.,  1.],\n",
       "        [ 1.,  1.]]), BaseTensor: array([[ 1.,  1.],\n",
       "        [ 1.,  1.]]), BaseTensor: array([[ 1.,  1.],\n",
       "        [ 1.,  1.]]), BaseTensor: array([[ 1.,  1.],\n",
       "        [ 1.,  1.]]), BaseTensor: array([[ 1.,  1.],\n",
       "        [ 1.,  1.]]), BaseTensor: array([[ 1.,  1.],\n",
       "        [ 1.,  1.]]), BaseTensor: array([[ 1.,  1.],\n",
       "        [ 1.,  1.]]), BaseTensor: array([[ 1.,  1.],\n",
       "        [ 1.,  1.]]), BaseTensor: array([[ 1.,  1.],\n",
       "        [ 1.,  1.]]), BaseTensor: array([[ 1.,  1.],\n",
       "        [ 1.,  1.]]), BaseTensor: array([[ 1.,  1.],\n",
       "        [ 1.,  1.]]), BaseTensor: array([[ 1.,  1.],\n",
       "        [ 1.,  1.]]), BaseTensor: array([[ 1.,  1.],\n",
       "        [ 1.,  1.]]), BaseTensor: array([[ 1.,  1.],\n",
       "        [ 1.,  1.]]), BaseTensor: array([[ 1.,  1.],\n",
       "        [ 1.,  1.]]), BaseTensor: array([[ 1.,  1.],\n",
       "        [ 1.,  1.]]), BaseTensor: array([[ 1.,  1.],\n",
       "        [ 1.,  1.]]), BaseTensor: array([[ 1.,  1.],\n",
       "        [ 1.,  1.]]), BaseTensor: array([[ 1.,  1.],\n",
       "        [ 1.,  1.]]), BaseTensor: array([[ 1.,  1.],\n",
       "        [ 1.,  1.]]), BaseTensor: array([[ 1.,  1.],\n",
       "        [ 1.,  1.]]), BaseTensor: array([[ 1.,  1.],\n",
       "        [ 1.,  1.]]), BaseTensor: array([[ 1.,  1.],\n",
       "        [ 1.,  1.]]), BaseTensor: array([[ 1.,  1.],\n",
       "        [ 1.,  1.]]), BaseTensor: array([[ 1.,  1.],\n",
       "        [ 1.,  1.]]), BaseTensor: array([[ 1.,  1.],\n",
       "        [ 1.,  1.]]), BaseTensor: array([[ 1.,  1.],\n",
       "        [ 1.,  1.]]), BaseTensor: array([[ 1.,  1.],\n",
       "        [ 1.,  1.]]), BaseTensor: array([[ 1.,  1.],\n",
       "        [ 1.,  1.]]), BaseTensor: array([[ 1.,  1.],\n",
       "        [ 1.,  1.]]), BaseTensor: array([[ 1.,  1.],\n",
       "        [ 1.,  1.]])]"
      ]
     },
     "execution_count": 15,
     "metadata": {},
     "output_type": "execute_result"
    }
   ],
   "source": [
    "a.tensList"
   ]
  },
  {
   "cell_type": "markdown",
   "metadata": {},
   "source": [
    "## Real use case: polynomials\n",
    "Polynomial functions will be used in many places for OpenMined and they need to operate both on encrypted (as activations) and unencrypted (for MPC) data."
   ]
  },
  {
   "cell_type": "code",
   "execution_count": 16,
   "metadata": {},
   "outputs": [],
   "source": [
    "from syft.nonlin import PolyFunction"
   ]
  },
  {
   "cell_type": "markdown",
   "metadata": {},
   "source": [
    "Create a test function and test data:"
   ]
  },
  {
   "cell_type": "code",
   "execution_count": 17,
   "metadata": {},
   "outputs": [],
   "source": [
    "x = TensorBase(np.asarray([[1.0,2.0,3.0],[4.0,5.0,6.0]]))\n",
    "f = PolyFunction([1.0,2.0,3.0])"
   ]
  },
  {
   "cell_type": "markdown",
   "metadata": {},
   "source": [
    "### Unencrypted evaluation\n",
    "The coefficients are unencrypted:"
   ]
  },
  {
   "cell_type": "code",
   "execution_count": 18,
   "metadata": {},
   "outputs": [
    {
     "data": {
      "text/plain": [
       "BaseTensor: array([ 1.,  2.,  3.])"
      ]
     },
     "execution_count": 18,
     "metadata": {},
     "output_type": "execute_result"
    }
   ],
   "source": [
    "f.coefs"
   ]
  },
  {
   "cell_type": "markdown",
   "metadata": {},
   "source": [
    "Evaluate on test ndarray:"
   ]
  },
  {
   "cell_type": "code",
   "execution_count": 19,
   "metadata": {},
   "outputs": [
    {
     "data": {
      "text/plain": [
       "BaseTensor: array([[[[[ 6.,  6.],\n",
       "          [ 6.,  6.]],\n",
       "\n",
       "         [[ 6.,  6.],\n",
       "          [ 6.,  6.]]],\n",
       "\n",
       "\n",
       "        [[[ 6.,  6.],\n",
       "          [ 6.,  6.]],\n",
       "\n",
       "         [[ 6.,  6.],\n",
       "          [ 6.,  6.]]]],\n",
       "\n",
       "\n",
       "\n",
       "       [[[[ 6.,  6.],\n",
       "          [ 6.,  6.]],\n",
       "\n",
       "         [[ 6.,  6.],\n",
       "          [ 6.,  6.]]],\n",
       "\n",
       "\n",
       "        [[[ 6.,  6.],\n",
       "          [ 6.,  6.]],\n",
       "\n",
       "         [[ 6.,  6.],\n",
       "          [ 6.,  6.]]]]])"
      ]
     },
     "execution_count": 19,
     "metadata": {},
     "output_type": "execute_result"
    }
   ],
   "source": [
    "f(np.ones((2,2,2,2,2)))"
   ]
  },
  {
   "cell_type": "markdown",
   "metadata": {},
   "source": [
    "Evaluate on test TensorBase:"
   ]
  },
  {
   "cell_type": "code",
   "execution_count": 20,
   "metadata": {},
   "outputs": [
    {
     "data": {
      "text/plain": [
       "BaseTensor: array([[  6.,  11.,  18.],\n",
       "       [ 27.,  38.,  51.]])"
      ]
     },
     "execution_count": 20,
     "metadata": {},
     "output_type": "execute_result"
    }
   ],
   "source": [
    "f(x)"
   ]
  },
  {
   "cell_type": "markdown",
   "metadata": {},
   "source": [
    "Calculate the derivative:"
   ]
  },
  {
   "cell_type": "code",
   "execution_count": 21,
   "metadata": {},
   "outputs": [
    {
     "data": {
      "text/plain": [
       "BaseTensor: array([[  4.,   6.,   8.],\n",
       "       [ 10.,  12.,  14.]])"
      ]
     },
     "execution_count": 21,
     "metadata": {},
     "output_type": "execute_result"
    }
   ],
   "source": [
    "f.derivative(x)"
   ]
  },
  {
   "cell_type": "markdown",
   "metadata": {},
   "source": [
    "### Encrypted evaluation\n",
    "Encrypt the polynomial (thanks to Encryptable mixin) and the test data:"
   ]
  },
  {
   "cell_type": "code",
   "execution_count": 22,
   "metadata": {},
   "outputs": [],
   "source": [
    "pubkey,prikey = KeyPair().generate()\n",
    "f.encrypt(pubkey)\n",
    "x = x.encrypt(pubkey)"
   ]
  },
  {
   "cell_type": "code",
   "execution_count": 23,
   "metadata": {},
   "outputs": [
    {
     "data": {
      "text/plain": [
       "PaillierTensor: array([e, e, e], dtype=object)"
      ]
     },
     "execution_count": 23,
     "metadata": {},
     "output_type": "execute_result"
    }
   ],
   "source": [
    "f.coefs"
   ]
  },
  {
   "cell_type": "code",
   "execution_count": 24,
   "metadata": {},
   "outputs": [
    {
     "data": {
      "text/plain": [
       "PaillierTensor: array([e, e], dtype=object)"
      ]
     },
     "execution_count": 24,
     "metadata": {},
     "output_type": "execute_result"
    }
   ],
   "source": [
    "f.derivative_coefs"
   ]
  },
  {
   "cell_type": "markdown",
   "metadata": {},
   "source": [
    "Encrypted function on encrypted data:"
   ]
  },
  {
   "cell_type": "code",
   "execution_count": 25,
   "metadata": {},
   "outputs": [
    {
     "name": "stdout",
     "output_type": "stream",
     "text": [
      "Here!\n"
     ]
    },
    {
     "ename": "TypeError",
     "evalue": "unsupported operand type(s) for *: 'PaillierTensor' and 'PaillierTensor'",
     "output_type": "error",
     "traceback": [
      "\u001b[1;31m---------------------------------------------------------------------------\u001b[0m",
      "\u001b[1;31mTypeError\u001b[0m                                 Traceback (most recent call last)",
      "\u001b[1;32m<ipython-input-25-102deb3c59a7>\u001b[0m in \u001b[0;36m<module>\u001b[1;34m()\u001b[0m\n\u001b[1;32m----> 1\u001b[1;33m \u001b[0mresult\u001b[0m \u001b[1;33m=\u001b[0m \u001b[0mf\u001b[0m\u001b[1;33m(\u001b[0m\u001b[0mx\u001b[0m\u001b[1;33m)\u001b[0m\u001b[1;33m\u001b[0m\u001b[0m\n\u001b[0m",
      "\u001b[1;32mc:\\users\\ilmar\\anaconda3\\envs\\tensorflow\\lib\\site-packages\\syft-0.1.0-py3.5.egg\\syft\\nonlin\\polyfunction.py\u001b[0m in \u001b[0;36m__call__\u001b[1;34m(self, x)\u001b[0m\n\u001b[0;32m     56\u001b[0m             \u001b[0mPolynomial\u001b[0m \u001b[0mvalues\u001b[0m \u001b[1;32min\u001b[0m \u001b[0mx\u001b[0m\u001b[1;33m.\u001b[0m\u001b[1;33m\u001b[0m\u001b[0m\n\u001b[0;32m     57\u001b[0m         \"\"\"\n\u001b[1;32m---> 58\u001b[1;33m         \u001b[1;32mreturn\u001b[0m \u001b[0mself\u001b[0m\u001b[1;33m.\u001b[0m\u001b[0m_tensor_polyval\u001b[0m\u001b[1;33m(\u001b[0m\u001b[0mself\u001b[0m\u001b[1;33m.\u001b[0m\u001b[0mcoefs\u001b[0m\u001b[1;33m,\u001b[0m \u001b[0mx\u001b[0m\u001b[1;33m)\u001b[0m\u001b[1;33m\u001b[0m\u001b[0m\n\u001b[0m\u001b[0;32m     59\u001b[0m \u001b[1;33m\u001b[0m\u001b[0m\n\u001b[0;32m     60\u001b[0m     \u001b[1;32mdef\u001b[0m \u001b[0mderivative\u001b[0m\u001b[1;33m(\u001b[0m\u001b[0mself\u001b[0m\u001b[1;33m,\u001b[0m \u001b[0mx\u001b[0m\u001b[1;33m)\u001b[0m\u001b[1;33m:\u001b[0m\u001b[1;33m\u001b[0m\u001b[0m\n",
      "\u001b[1;32mc:\\users\\ilmar\\anaconda3\\envs\\tensorflow\\lib\\site-packages\\syft-0.1.0-py3.5.egg\\syft\\nonlin\\polyfunction.py\u001b[0m in \u001b[0;36m_tensor_polyval\u001b[1;34m(self, coefs, x)\u001b[0m\n\u001b[0;32m     93\u001b[0m             \u001b[0mval\u001b[0m \u001b[1;33m=\u001b[0m \u001b[0mval\u001b[0m\u001b[1;33m.\u001b[0m\u001b[0mencrypt\u001b[0m\u001b[1;33m(\u001b[0m\u001b[0mself\u001b[0m\u001b[1;33m.\u001b[0m\u001b[0mpubkey\u001b[0m\u001b[1;33m)\u001b[0m\u001b[1;33m\u001b[0m\u001b[0m\n\u001b[0;32m     94\u001b[0m         \u001b[1;32mfor\u001b[0m \u001b[0mcf\u001b[0m \u001b[1;32min\u001b[0m \u001b[0mcoefs\u001b[0m\u001b[1;33m:\u001b[0m\u001b[1;33m\u001b[0m\u001b[0m\n\u001b[1;32m---> 95\u001b[1;33m             \u001b[0mval\u001b[0m \u001b[1;33m=\u001b[0m \u001b[0mval\u001b[0m \u001b[1;33m*\u001b[0m \u001b[0mx\u001b[0m \u001b[1;33m+\u001b[0m \u001b[0mcf\u001b[0m\u001b[1;33m\u001b[0m\u001b[0m\n\u001b[0m\u001b[0;32m     96\u001b[0m         \u001b[1;32mreturn\u001b[0m \u001b[0mval\u001b[0m\u001b[1;33m\u001b[0m\u001b[0m\n\u001b[0;32m     97\u001b[0m \u001b[1;33m\u001b[0m\u001b[0m\n",
      "\u001b[1;31mTypeError\u001b[0m: unsupported operand type(s) for *: 'PaillierTensor' and 'PaillierTensor'"
     ]
    }
   ],
   "source": [
    "result = f(x)"
   ]
  },
  {
   "cell_type": "code",
   "execution_count": 26,
   "metadata": {},
   "outputs": [
    {
     "ename": "NameError",
     "evalue": "name 'result' is not defined",
     "output_type": "error",
     "traceback": [
      "\u001b[1;31m---------------------------------------------------------------------------\u001b[0m",
      "\u001b[1;31mNameError\u001b[0m                                 Traceback (most recent call last)",
      "\u001b[1;32m<ipython-input-26-9bb18672cedf>\u001b[0m in \u001b[0;36m<module>\u001b[1;34m()\u001b[0m\n\u001b[1;32m----> 1\u001b[1;33m \u001b[0mresult\u001b[0m\u001b[1;33m.\u001b[0m\u001b[0m_mul_depth\u001b[0m\u001b[1;33m\u001b[0m\u001b[0m\n\u001b[0m",
      "\u001b[1;31mNameError\u001b[0m: name 'result' is not defined"
     ]
    }
   ],
   "source": [
    "result._mul_depth"
   ]
  },
  {
   "cell_type": "code",
   "execution_count": 27,
   "metadata": {},
   "outputs": [
    {
     "ename": "NameError",
     "evalue": "name 'result' is not defined",
     "output_type": "error",
     "traceback": [
      "\u001b[1;31m---------------------------------------------------------------------------\u001b[0m",
      "\u001b[1;31mNameError\u001b[0m                                 Traceback (most recent call last)",
      "\u001b[1;32m<ipython-input-27-2753a64bf2eb>\u001b[0m in \u001b[0;36m<module>\u001b[1;34m()\u001b[0m\n\u001b[1;32m----> 1\u001b[1;33m \u001b[0mresult\u001b[0m\u001b[1;33m.\u001b[0m\u001b[0mdecrypt\u001b[0m\u001b[1;33m(\u001b[0m\u001b[0mprikey\u001b[0m\u001b[1;33m)\u001b[0m\u001b[1;33m\u001b[0m\u001b[0m\n\u001b[0m",
      "\u001b[1;31mNameError\u001b[0m: name 'result' is not defined"
     ]
    }
   ],
   "source": [
    "result.decrypt(prikey)"
   ]
  },
  {
   "cell_type": "markdown",
   "metadata": {},
   "source": [
    "Encrypted function on unencrypted data:"
   ]
  },
  {
   "cell_type": "code",
   "execution_count": 28,
   "metadata": {},
   "outputs": [],
   "source": [
    "unenc_x = TensorBase(np.asarray([[1.0,2.0,3.0],[4.0,5.0,6.0]]))"
   ]
  },
  {
   "cell_type": "code",
   "execution_count": 29,
   "metadata": {},
   "outputs": [
    {
     "data": {
      "text/plain": [
       "PaillierTensor: array([[e, e, e],\n",
       "       [e, e, e]], dtype=object)"
      ]
     },
     "execution_count": 29,
     "metadata": {},
     "output_type": "execute_result"
    }
   ],
   "source": [
    "f(unenc_x)"
   ]
  },
  {
   "cell_type": "code",
   "execution_count": 30,
   "metadata": {},
   "outputs": [
    {
     "data": {
      "text/plain": [
       "BaseTensor: array([[  6.,  11.,  18.],\n",
       "       [ 27.,  38.,  51.]])"
      ]
     },
     "execution_count": 30,
     "metadata": {},
     "output_type": "execute_result"
    }
   ],
   "source": [
    "f(unenc_x).decrypt(prikey)"
   ]
  },
  {
   "cell_type": "markdown",
   "metadata": {},
   "source": [
    "## Polynomial activations\n",
    "We can see that adding another layer of encapsulation doesn't modify the behaviour of our system:"
   ]
  },
  {
   "cell_type": "code",
   "execution_count": 31,
   "metadata": {},
   "outputs": [],
   "source": [
    "from syft.nonlin import PolynomialActivation"
   ]
  },
  {
   "cell_type": "code",
   "execution_count": 32,
   "metadata": {},
   "outputs": [],
   "source": [
    "poly = PolyFunction([1.0, 1.0, 0.0])\n",
    "polyAct = PolynomialActivation(poly)"
   ]
  },
  {
   "cell_type": "code",
   "execution_count": 33,
   "metadata": {},
   "outputs": [
    {
     "data": {
      "text/plain": [
       "BaseTensor: array([ 0.,  1.,  2.,  3.,  4.])"
      ]
     },
     "execution_count": 33,
     "metadata": {},
     "output_type": "execute_result"
    }
   ],
   "source": [
    "x = TensorBase([0.0,1.0,2.0,3.0,4.0])\n",
    "x"
   ]
  },
  {
   "cell_type": "code",
   "execution_count": 34,
   "metadata": {},
   "outputs": [
    {
     "data": {
      "text/plain": [
       "BaseTensor: array([  0.,   2.,   6.,  12.,  20.])"
      ]
     },
     "execution_count": 34,
     "metadata": {},
     "output_type": "execute_result"
    }
   ],
   "source": [
    "polyAct(x)"
   ]
  },
  {
   "cell_type": "code",
   "execution_count": 35,
   "metadata": {},
   "outputs": [],
   "source": [
    "pubkey,prikey = KeyPair().generate()\n",
    "x = x.encrypt(pubkey)"
   ]
  },
  {
   "cell_type": "code",
   "execution_count": 36,
   "metadata": {},
   "outputs": [
    {
     "data": {
      "text/plain": [
       "PaillierTensor: array([e, e, e, e, e], dtype=object)"
      ]
     },
     "execution_count": 36,
     "metadata": {},
     "output_type": "execute_result"
    }
   ],
   "source": [
    "x"
   ]
  },
  {
   "cell_type": "code",
   "execution_count": 37,
   "metadata": {},
   "outputs": [
    {
     "name": "stdout",
     "output_type": "stream",
     "text": [
      "Here!\n"
     ]
    },
    {
     "ename": "TypeError",
     "evalue": "unsupported operand type(s) for *: 'PaillierTensor' and 'PaillierTensor'",
     "output_type": "error",
     "traceback": [
      "\u001b[1;31m---------------------------------------------------------------------------\u001b[0m",
      "\u001b[1;31mTypeError\u001b[0m                                 Traceback (most recent call last)",
      "\u001b[1;32m<ipython-input-37-b02a022b0596>\u001b[0m in \u001b[0;36m<module>\u001b[1;34m()\u001b[0m\n\u001b[1;32m----> 1\u001b[1;33m \u001b[0mpolyAct\u001b[0m\u001b[1;33m(\u001b[0m\u001b[0mx\u001b[0m\u001b[1;33m)\u001b[0m\u001b[1;33m\u001b[0m\u001b[0m\n\u001b[0m",
      "\u001b[1;32mc:\\users\\ilmar\\anaconda3\\envs\\tensorflow\\lib\\site-packages\\syft-0.1.0-py3.5.egg\\syft\\nonlin\\activations.py\u001b[0m in \u001b[0;36m__call__\u001b[1;34m(self, x)\u001b[0m\n\u001b[0;32m    103\u001b[0m             \u001b[0mPolynomial\u001b[0m \u001b[0mactivation\u001b[0m \u001b[0mvalues\u001b[0m \u001b[1;32min\u001b[0m \u001b[0mx\u001b[0m\u001b[1;33m.\u001b[0m\u001b[1;33m\u001b[0m\u001b[0m\n\u001b[0;32m    104\u001b[0m         \"\"\"\n\u001b[1;32m--> 105\u001b[1;33m         \u001b[1;32mreturn\u001b[0m \u001b[0mself\u001b[0m\u001b[1;33m.\u001b[0m\u001b[0mpolynomial\u001b[0m\u001b[1;33m(\u001b[0m\u001b[0mx\u001b[0m\u001b[1;33m)\u001b[0m\u001b[1;33m\u001b[0m\u001b[0m\n\u001b[0m\u001b[0;32m    106\u001b[0m \u001b[1;33m\u001b[0m\u001b[0m\n\u001b[0;32m    107\u001b[0m     \u001b[1;32mdef\u001b[0m \u001b[0mforward\u001b[0m\u001b[1;33m(\u001b[0m\u001b[0mself\u001b[0m\u001b[1;33m,\u001b[0m \u001b[0mx\u001b[0m\u001b[1;33m)\u001b[0m\u001b[1;33m:\u001b[0m\u001b[1;33m\u001b[0m\u001b[0m\n",
      "\u001b[1;32mc:\\users\\ilmar\\anaconda3\\envs\\tensorflow\\lib\\site-packages\\syft-0.1.0-py3.5.egg\\syft\\nonlin\\polyfunction.py\u001b[0m in \u001b[0;36m__call__\u001b[1;34m(self, x)\u001b[0m\n\u001b[0;32m     56\u001b[0m             \u001b[0mPolynomial\u001b[0m \u001b[0mvalues\u001b[0m \u001b[1;32min\u001b[0m \u001b[0mx\u001b[0m\u001b[1;33m.\u001b[0m\u001b[1;33m\u001b[0m\u001b[0m\n\u001b[0;32m     57\u001b[0m         \"\"\"\n\u001b[1;32m---> 58\u001b[1;33m         \u001b[1;32mreturn\u001b[0m \u001b[0mself\u001b[0m\u001b[1;33m.\u001b[0m\u001b[0m_tensor_polyval\u001b[0m\u001b[1;33m(\u001b[0m\u001b[0mself\u001b[0m\u001b[1;33m.\u001b[0m\u001b[0mcoefs\u001b[0m\u001b[1;33m,\u001b[0m \u001b[0mx\u001b[0m\u001b[1;33m)\u001b[0m\u001b[1;33m\u001b[0m\u001b[0m\n\u001b[0m\u001b[0;32m     59\u001b[0m \u001b[1;33m\u001b[0m\u001b[0m\n\u001b[0;32m     60\u001b[0m     \u001b[1;32mdef\u001b[0m \u001b[0mderivative\u001b[0m\u001b[1;33m(\u001b[0m\u001b[0mself\u001b[0m\u001b[1;33m,\u001b[0m \u001b[0mx\u001b[0m\u001b[1;33m)\u001b[0m\u001b[1;33m:\u001b[0m\u001b[1;33m\u001b[0m\u001b[0m\n",
      "\u001b[1;32mc:\\users\\ilmar\\anaconda3\\envs\\tensorflow\\lib\\site-packages\\syft-0.1.0-py3.5.egg\\syft\\nonlin\\polyfunction.py\u001b[0m in \u001b[0;36m_tensor_polyval\u001b[1;34m(self, coefs, x)\u001b[0m\n\u001b[0;32m     93\u001b[0m             \u001b[0mval\u001b[0m \u001b[1;33m=\u001b[0m \u001b[0mval\u001b[0m\u001b[1;33m.\u001b[0m\u001b[0mencrypt\u001b[0m\u001b[1;33m(\u001b[0m\u001b[0mself\u001b[0m\u001b[1;33m.\u001b[0m\u001b[0mpubkey\u001b[0m\u001b[1;33m)\u001b[0m\u001b[1;33m\u001b[0m\u001b[0m\n\u001b[0;32m     94\u001b[0m         \u001b[1;32mfor\u001b[0m \u001b[0mcf\u001b[0m \u001b[1;32min\u001b[0m \u001b[0mcoefs\u001b[0m\u001b[1;33m:\u001b[0m\u001b[1;33m\u001b[0m\u001b[0m\n\u001b[1;32m---> 95\u001b[1;33m             \u001b[0mval\u001b[0m \u001b[1;33m=\u001b[0m \u001b[0mval\u001b[0m \u001b[1;33m*\u001b[0m \u001b[0mx\u001b[0m \u001b[1;33m+\u001b[0m \u001b[0mcf\u001b[0m\u001b[1;33m\u001b[0m\u001b[0m\n\u001b[0m\u001b[0;32m     96\u001b[0m         \u001b[1;32mreturn\u001b[0m \u001b[0mval\u001b[0m\u001b[1;33m\u001b[0m\u001b[0m\n\u001b[0;32m     97\u001b[0m \u001b[1;33m\u001b[0m\u001b[0m\n",
      "\u001b[1;31mTypeError\u001b[0m: unsupported operand type(s) for *: 'PaillierTensor' and 'PaillierTensor'"
     ]
    }
   ],
   "source": [
    "polyAct(x)"
   ]
  },
  {
   "cell_type": "code",
   "execution_count": null,
   "metadata": {},
   "outputs": [],
   "source": []
  },
  {
   "cell_type": "code",
   "execution_count": null,
   "metadata": {},
   "outputs": [],
   "source": []
  },
  {
   "cell_type": "code",
   "execution_count": null,
   "metadata": {},
   "outputs": [],
   "source": []
  }
 ],
 "metadata": {
  "kernelspec": {
   "display_name": "Python 3",
   "language": "python",
   "name": "python3"
  },
  "language_info": {
   "codemirror_mode": {
    "name": "ipython",
    "version": 3
   },
   "file_extension": ".py",
   "mimetype": "text/x-python",
   "name": "python",
   "nbconvert_exporter": "python",
   "pygments_lexer": "ipython3",
   "version": "3.5.4"
  }
 },
 "nbformat": 4,
 "nbformat_minor": 2
}

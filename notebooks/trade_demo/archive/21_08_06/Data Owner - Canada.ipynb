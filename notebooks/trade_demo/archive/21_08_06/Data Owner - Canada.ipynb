{
 "cells": [
  {
   "cell_type": "markdown",
   "metadata": {},
   "source": [
    "### Trade Demo\n",
    "\n",
    "#### Goal: \n",
    "- Load the trade data for the country `Canada`\n",
    "- Launch a domain node for canada\n",
    "- Login into the domain node\n",
    "- Upload `Canada's` trade on the domain node\n",
    "- Create a Data Scientist User\n",
    "- Accept/Decline any requests from the DS"
   ]
  },
  {
   "cell_type": "code",
   "execution_count": null,
   "metadata": {},
   "outputs": [],
   "source": [
    "%load_ext autoreload\n",
    "%autoreload 2\n",
    "\n",
    "import pandas as pd\n",
    "\n",
    "canada = pd.read_csv(\"../datasets/ca - feb 2021.csv\")"
   ]
  },
  {
   "cell_type": "markdown",
   "metadata": {},
   "source": [
    "### Step 1: Load the dataset\n",
    "\n",
    "We have trade data for the country, which has provided data from Feb 2021. They key colums are:\n",
    "\n",
    "- Commodity Code: the official code of that type of good\n",
    "- Reporter: the country claiming the import/export value\n",
    "- Partner: the country being claimed about\n",
    "- Trade Flow: the direction of the goods being reported about (imports, exports, etc)\n",
    "- Trade Value (US$): the declared USD value of the good\n",
    "\n",
    "Let's have a quick look at the top five rows of the dataset."
   ]
  },
  {
   "cell_type": "code",
   "execution_count": null,
   "metadata": {},
   "outputs": [],
   "source": [
    "canada.head()"
   ]
  },
  {
   "cell_type": "markdown",
   "metadata": {},
   "source": [
    "### Step 2: Spin up the Domain Node (if you haven't already)\n",
    "\n",
    "SKIP THIS STEP IF YOU'VE ALREADY RUN IT!!!\n",
    "\n",
    "As the main requirement of this demo is to perform analysis on the Canada's trade dataset. So, we need to spin up a domain node for Canada.\n",
    "\n",
    "Assuming you have [Docker](https://www.docker.com/) installed and configured with >=8GB of RAM, navigate to PySyft/packages/hagrid and run the following commands in separate terminals (can be done at the same time):\n",
    "\n",
    "\n",
    "```bash\n",
    "# install hagrid cli tool\n",
    "pip install -e .\n",
    "```\n",
    "\n",
    "```bash\n",
    "hagrid launch Canada domain\n",
    "```\n",
    "\n",
    "<div class=\"alert alert-block alert-info\">\n",
    "    <b>Quick Tip:</b> Don't run this now, but later when you want to stop these nodes, you can simply run the same argument with the \"stop\" command. So from the PySyft/grid directory you would run. Note that these commands will delete the database by default. Add the flag \"--keep_db=True\" to keep the database around. Also note that simply killing the thread created by ./start is often insufficient to actually stop all nodes. Run the ./stop script instead. To stop the nodes listed above (and delete their databases) run:\n",
    "\n",
    "```bash\n",
    "hagrid land Canada\n",
    "```\n",
    "</div>"
   ]
  },
  {
   "cell_type": "markdown",
   "metadata": {},
   "source": [
    "### Step 3: Login into the Domain as the Admin User"
   ]
  },
  {
   "cell_type": "code",
   "execution_count": null,
   "metadata": {},
   "outputs": [],
   "source": [
    "import syft as sy\n",
    "\n",
    "# Let's login into the domain node\n",
    "domain_node = sy.login(email=\"info@openmined.org\", password=\"changethis\", port=8081)"
   ]
  },
  {
   "cell_type": "code",
   "execution_count": null,
   "metadata": {},
   "outputs": [],
   "source": [
    "canada.head()"
   ]
  },
  {
   "cell_type": "markdown",
   "metadata": {},
   "source": [
    "### Step 4: Upload Canada's trade data on the domain"
   ]
  },
  {
   "cell_type": "code",
   "execution_count": null,
   "metadata": {},
   "outputs": [],
   "source": [
    "# Great !! we're logged in. Let's upload the dataset.\n",
    "# For, simplicity we will upload the first 10000 rows of the dataset.\n",
    "\n",
    "domain_node.load_dataset(\n",
    "    assets={\"feb2020\": canada[:10000]},\n",
    "    name=\"Canada Trade Data - First 10000 rows\",\n",
    "    description=\"\"\"A collection of reports from Canada's statistics \n",
    "                    bureau about how much it thinks it imports and exports from other countries.\"\"\",\n",
    ")"
   ]
  },
  {
   "cell_type": "markdown",
   "metadata": {},
   "source": [
    "Cool !!! The dataset was successfully uploaded onto the domain."
   ]
  },
  {
   "cell_type": "code",
   "execution_count": null,
   "metadata": {},
   "outputs": [],
   "source": [
    "# Now, let's check datasets available on the domain.\n",
    "domain_node.datasets"
   ]
  },
  {
   "cell_type": "markdown",
   "metadata": {},
   "source": [
    "### Step 5: Create a Data Scientist User\n",
    "\n",
    "Open http://localhost:8081, login is the root user (username: info@openmined.org, password:changethis), and create a user with the following attributes:\n",
    "\n",
    "- Name: Sheldon Cooper\n",
    "- Email: sheldon@caltech.edu\n",
    "- Password: bazinga"
   ]
  },
  {
   "cell_type": "code",
   "execution_count": null,
   "metadata": {},
   "outputs": [],
   "source": []
  },
  {
   "cell_type": "markdown",
   "metadata": {},
   "source": [
    "```\n",
    "Great !!! We were successfully able to create a new user. \n",
    "Now, let's move to the Data Scientist notebook, to check out their experience.\n",
    "```"
   ]
  },
  {
   "cell_type": "markdown",
   "metadata": {},
   "source": [
    "### Step 6: Decline request to download entire datsaet"
   ]
  },
  {
   "cell_type": "code",
   "execution_count": null,
   "metadata": {},
   "outputs": [],
   "source": [
    "# Let's check if there are any requests pending for approval.\n",
    "domain_node.requests"
   ]
  },
  {
   "cell_type": "code",
   "execution_count": null,
   "metadata": {},
   "outputs": [],
   "source": [
    "# Looks like the DS wants to download the whole dataset. We cannot allow that.\n",
    "# Let's select and deny this request.\n",
    "domain_node.requests[0].deny()"
   ]
  },
  {
   "cell_type": "markdown",
   "metadata": {},
   "source": [
    "### STOP: Return to Data Owner-Canada.ipynb - STEP 3!!\n",
    "\n",
    "# Step 7: Accept Analysis Request"
   ]
  },
  {
   "cell_type": "code",
   "execution_count": null,
   "metadata": {},
   "outputs": [],
   "source": [
    "# Now, if we check there are no more pending requests.\n",
    "domain_node.requests"
   ]
  },
  {
   "cell_type": "code",
   "execution_count": null,
   "metadata": {},
   "outputs": [],
   "source": [
    "# Let's select the request and approve it.\n",
    "domain_node.requests[0].accept()\n",
    "domain_node.requests[1].accept()"
   ]
  },
  {
   "cell_type": "code",
   "execution_count": null,
   "metadata": {},
   "outputs": [],
   "source": [
    "# Now if we check the request queue, it should be empty.\n",
    "domain_node.requests"
   ]
  },
  {
   "cell_type": "markdown",
   "metadata": {},
   "source": [
    "### RETURN TO Data Scientist.ipynb step 8"
   ]
  },
  {
   "cell_type": "code",
   "execution_count": null,
   "metadata": {},
   "outputs": [],
   "source": []
  }
 ],
 "metadata": {
  "kernelspec": {
   "display_name": "Python 3",
   "language": "python",
   "name": "python3"
  },
  "language_info": {
   "codemirror_mode": {
    "name": "ipython",
    "version": 3
   },
   "file_extension": ".py",
   "mimetype": "text/x-python",
   "name": "python",
   "nbconvert_exporter": "python",
   "pygments_lexer": "ipython3",
   "version": "3.7.9"
  }
 },
 "nbformat": 4,
 "nbformat_minor": 5
}

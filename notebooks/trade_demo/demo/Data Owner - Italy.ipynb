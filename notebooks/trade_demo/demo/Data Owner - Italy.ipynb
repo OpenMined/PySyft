{
 "cells": [
  {
   "cell_type": "code",
   "execution_count": 1,
   "id": "d18b239f",
   "metadata": {},
   "outputs": [],
   "source": [
    "import pandas as pd\n",
    "import syft as sy\n",
    "import numpy as np\n",
    "from syft.core.adp.entity import Entity"
   ]
  },
  {
   "cell_type": "markdown",
   "id": "e6e7cc55",
   "metadata": {},
   "source": [
    "### Loading the dataset"
   ]
  },
  {
   "cell_type": "code",
   "execution_count": 2,
   "id": "6a61a4fc",
   "metadata": {},
   "outputs": [
    {
     "name": "stderr",
     "output_type": "stream",
     "text": [
      "/Users/andrewliamtrask/opt/anaconda3/envs/syft/lib/python3.8/site-packages/IPython/core/interactiveshell.py:3169: DtypeWarning: Columns (14) have mixed types.Specify dtype option on import or set low_memory=False.\n",
      "  has_raised = await self.run_ast_nodes(code_ast.body, cell_name,\n"
     ]
    },
    {
     "data": {
      "text/html": [
       "<div>\n",
       "<style scoped>\n",
       "    .dataframe tbody tr th:only-of-type {\n",
       "        vertical-align: middle;\n",
       "    }\n",
       "\n",
       "    .dataframe tbody tr th {\n",
       "        vertical-align: top;\n",
       "    }\n",
       "\n",
       "    .dataframe thead th {\n",
       "        text-align: right;\n",
       "    }\n",
       "</style>\n",
       "<table border=\"1\" class=\"dataframe\">\n",
       "  <thead>\n",
       "    <tr style=\"text-align: right;\">\n",
       "      <th></th>\n",
       "      <th>Classification</th>\n",
       "      <th>Year</th>\n",
       "      <th>Period</th>\n",
       "      <th>Period Desc.</th>\n",
       "      <th>Aggregate Level</th>\n",
       "      <th>Is Leaf Code</th>\n",
       "      <th>Trade Flow Code</th>\n",
       "      <th>Trade Flow</th>\n",
       "      <th>Reporter Code</th>\n",
       "      <th>Reporter</th>\n",
       "      <th>...</th>\n",
       "      <th>Partner</th>\n",
       "      <th>Partner ISO</th>\n",
       "      <th>Commodity Code</th>\n",
       "      <th>Commodity</th>\n",
       "      <th>Qty Unit Code</th>\n",
       "      <th>Qty Unit</th>\n",
       "      <th>Qty</th>\n",
       "      <th>Netweight (kg)</th>\n",
       "      <th>Trade Value (US$)</th>\n",
       "      <th>Flag</th>\n",
       "    </tr>\n",
       "  </thead>\n",
       "  <tbody>\n",
       "    <tr>\n",
       "      <th>0</th>\n",
       "      <td>HS</td>\n",
       "      <td>2021</td>\n",
       "      <td>202102</td>\n",
       "      <td>February 2021</td>\n",
       "      <td>6</td>\n",
       "      <td>1</td>\n",
       "      <td>1</td>\n",
       "      <td>Imports</td>\n",
       "      <td>381</td>\n",
       "      <td>Italy</td>\n",
       "      <td>...</td>\n",
       "      <td>Australia</td>\n",
       "      <td>NaN</td>\n",
       "      <td>940510</td>\n",
       "      <td>Chandeliers and other electric ceiling or wall...</td>\n",
       "      <td>0</td>\n",
       "      <td>NaN</td>\n",
       "      <td>NaN</td>\n",
       "      <td>6.0</td>\n",
       "      <td>1899</td>\n",
       "      <td>0</td>\n",
       "    </tr>\n",
       "    <tr>\n",
       "      <th>1</th>\n",
       "      <td>HS</td>\n",
       "      <td>2021</td>\n",
       "      <td>202102</td>\n",
       "      <td>February 2021</td>\n",
       "      <td>6</td>\n",
       "      <td>1</td>\n",
       "      <td>1</td>\n",
       "      <td>Imports</td>\n",
       "      <td>381</td>\n",
       "      <td>Italy</td>\n",
       "      <td>...</td>\n",
       "      <td>Indonesia</td>\n",
       "      <td>NaN</td>\n",
       "      <td>292700</td>\n",
       "      <td>Diazo-, azo- or azoxy compounds</td>\n",
       "      <td>0</td>\n",
       "      <td>NaN</td>\n",
       "      <td>NaN</td>\n",
       "      <td>33600.0</td>\n",
       "      <td>134879</td>\n",
       "      <td>0</td>\n",
       "    </tr>\n",
       "    <tr>\n",
       "      <th>2</th>\n",
       "      <td>HS</td>\n",
       "      <td>2021</td>\n",
       "      <td>202102</td>\n",
       "      <td>February 2021</td>\n",
       "      <td>6</td>\n",
       "      <td>1</td>\n",
       "      <td>1</td>\n",
       "      <td>Imports</td>\n",
       "      <td>381</td>\n",
       "      <td>Italy</td>\n",
       "      <td>...</td>\n",
       "      <td>Latvia</td>\n",
       "      <td>NaN</td>\n",
       "      <td>292700</td>\n",
       "      <td>Diazo-, azo- or azoxy compounds</td>\n",
       "      <td>0</td>\n",
       "      <td>NaN</td>\n",
       "      <td>NaN</td>\n",
       "      <td>33127.0</td>\n",
       "      <td>314410</td>\n",
       "      <td>0</td>\n",
       "    </tr>\n",
       "    <tr>\n",
       "      <th>3</th>\n",
       "      <td>HS</td>\n",
       "      <td>2021</td>\n",
       "      <td>202102</td>\n",
       "      <td>February 2021</td>\n",
       "      <td>6</td>\n",
       "      <td>1</td>\n",
       "      <td>1</td>\n",
       "      <td>Imports</td>\n",
       "      <td>381</td>\n",
       "      <td>Italy</td>\n",
       "      <td>...</td>\n",
       "      <td>Latvia</td>\n",
       "      <td>NaN</td>\n",
       "      <td>292990</td>\n",
       "      <td>Nitrogen-function compounds; n.e.s. in chapter...</td>\n",
       "      <td>0</td>\n",
       "      <td>NaN</td>\n",
       "      <td>NaN</td>\n",
       "      <td>4.0</td>\n",
       "      <td>4142</td>\n",
       "      <td>0</td>\n",
       "    </tr>\n",
       "    <tr>\n",
       "      <th>4</th>\n",
       "      <td>HS</td>\n",
       "      <td>2021</td>\n",
       "      <td>202102</td>\n",
       "      <td>February 2021</td>\n",
       "      <td>6</td>\n",
       "      <td>1</td>\n",
       "      <td>1</td>\n",
       "      <td>Imports</td>\n",
       "      <td>381</td>\n",
       "      <td>Italy</td>\n",
       "      <td>...</td>\n",
       "      <td>Malaysia</td>\n",
       "      <td>NaN</td>\n",
       "      <td>293040</td>\n",
       "      <td>Organo-sulphur compounds; methionine</td>\n",
       "      <td>0</td>\n",
       "      <td>NaN</td>\n",
       "      <td>NaN</td>\n",
       "      <td>51000.0</td>\n",
       "      <td>104889</td>\n",
       "      <td>0</td>\n",
       "    </tr>\n",
       "  </tbody>\n",
       "</table>\n",
       "<p>5 rows × 22 columns</p>\n",
       "</div>"
      ],
      "text/plain": [
       "  Classification  Year  Period   Period Desc.  Aggregate Level  Is Leaf Code  \\\n",
       "0             HS  2021  202102  February 2021                6             1   \n",
       "1             HS  2021  202102  February 2021                6             1   \n",
       "2             HS  2021  202102  February 2021                6             1   \n",
       "3             HS  2021  202102  February 2021                6             1   \n",
       "4             HS  2021  202102  February 2021                6             1   \n",
       "\n",
       "   Trade Flow Code Trade Flow  Reporter Code Reporter  ...    Partner  \\\n",
       "0                1    Imports            381    Italy  ...  Australia   \n",
       "1                1    Imports            381    Italy  ...  Indonesia   \n",
       "2                1    Imports            381    Italy  ...     Latvia   \n",
       "3                1    Imports            381    Italy  ...     Latvia   \n",
       "4                1    Imports            381    Italy  ...   Malaysia   \n",
       "\n",
       "   Partner ISO Commodity Code  \\\n",
       "0          NaN         940510   \n",
       "1          NaN         292700   \n",
       "2          NaN         292700   \n",
       "3          NaN         292990   \n",
       "4          NaN         293040   \n",
       "\n",
       "                                           Commodity Qty Unit Code Qty Unit  \\\n",
       "0  Chandeliers and other electric ceiling or wall...             0      NaN   \n",
       "1                    Diazo-, azo- or azoxy compounds             0      NaN   \n",
       "2                    Diazo-, azo- or azoxy compounds             0      NaN   \n",
       "3  Nitrogen-function compounds; n.e.s. in chapter...             0      NaN   \n",
       "4               Organo-sulphur compounds; methionine             0      NaN   \n",
       "\n",
       "   Qty  Netweight (kg)  Trade Value (US$)  Flag  \n",
       "0  NaN             6.0               1899     0  \n",
       "1  NaN         33600.0             134879     0  \n",
       "2  NaN         33127.0             314410     0  \n",
       "3  NaN             4.0               4142     0  \n",
       "4  NaN         51000.0             104889     0  \n",
       "\n",
       "[5 rows x 22 columns]"
      ]
     },
     "execution_count": 2,
     "metadata": {},
     "output_type": "execute_result"
    }
   ],
   "source": [
    "data = pd.read_csv(\"../datasets/it - feb 2021.csv\")[0:100]\n",
    "data.head()"
   ]
  },
  {
   "cell_type": "markdown",
   "id": "bca41176",
   "metadata": {},
   "source": [
    "### Logging into the domain"
   ]
  },
  {
   "cell_type": "code",
   "execution_count": 3,
   "id": "151397a3-0630-45b4-bfbd-61f406e0f3cc",
   "metadata": {},
   "outputs": [
    {
     "name": "stdout",
     "output_type": "stream",
     "text": [
      "Connecting to http://localhost:8082... done! \t Logging into italy... done!\n"
     ]
    }
   ],
   "source": [
    "it = sy.login(email=\"info@openmined.org\",\n",
    "             password=\"changethis\",\n",
    "             port=8082)"
   ]
  },
  {
   "cell_type": "markdown",
   "id": "2577eef4",
   "metadata": {},
   "source": [
    "### Upload the dataset to Domain node"
   ]
  },
  {
   "cell_type": "code",
   "execution_count": 4,
   "id": "56f4bb54",
   "metadata": {},
   "outputs": [],
   "source": [
    "# We will upload only the first few rows\n",
    "# All these three columns are of `int` type\n",
    "\n",
    "# NOTE: casting this tensor as np.int32 is REALLY IMPORTANT. We need to create flags for this or something\n",
    "data_batch = ((np.array(list(data['Trade Value (US$)'])) / 100000)[0:10]).astype(np.int32)\n",
    "trade_partners = ((list(data['Partner'])))[0:10]\n",
    "\n",
    "entities = list()\n",
    "for i in range(len(trade_partners)):\n",
    "    entities.append(Entity(name=\"Other Asia, nes\"))\n",
    "\n",
    "# Upload a private dataset to the Domain object, as the root owner\n",
    "sampled_italy_dataset = sy.Tensor(data_batch)\n",
    "sampled_italy_dataset.public_shape = sampled_italy_dataset.shape\n",
    "sampled_italy_dataset = sampled_italy_dataset.private(0, 3, entity=entities[0]).tag(\"trade_flow\")"
   ]
  },
  {
   "cell_type": "code",
   "execution_count": 8,
   "id": "d52404eb",
   "metadata": {},
   "outputs": [],
   "source": [
    "it.load_dataset(\n",
    "    assets={\"Italy Trade\": sampled_italy_dataset},\n",
    "    name=\"Italy Trade Data - First few rows\",\n",
    "    description=\"\"\"A collection of reports from iStat's statistics \n",
    "                    bureau about how much it thinks it imports and exports from other countries.\"\"\",\n",
    ")"
   ]
  },
  {
   "cell_type": "code",
   "execution_count": 9,
   "id": "2d37a5d7",
   "metadata": {},
   "outputs": [
    {
     "data": {
      "text/html": [
       "<div>\n",
       "<style scoped>\n",
       "    .dataframe tbody tr th:only-of-type {\n",
       "        vertical-align: middle;\n",
       "    }\n",
       "\n",
       "    .dataframe tbody tr th {\n",
       "        vertical-align: top;\n",
       "    }\n",
       "\n",
       "    .dataframe thead th {\n",
       "        text-align: right;\n",
       "    }\n",
       "</style>\n",
       "<table border=\"1\" class=\"dataframe\">\n",
       "  <thead>\n",
       "    <tr style=\"text-align: right;\">\n",
       "      <th></th>\n",
       "      <th>tags</th>\n",
       "      <th>id</th>\n",
       "      <th>description</th>\n",
       "      <th>name</th>\n",
       "      <th>data</th>\n",
       "    </tr>\n",
       "  </thead>\n",
       "  <tbody>\n",
       "    <tr>\n",
       "      <th>0</th>\n",
       "      <td>[]</td>\n",
       "      <td>59e6c7c4-3820-42e6-9e51-17e14fb2a68c</td>\n",
       "      <td>A collection of reports from iStat's statistic...</td>\n",
       "      <td>Italy Trade Data - First few rows</td>\n",
       "      <td>[{'name': 'feb2020-10', 'id': 'aaff963c-0139-4...</td>\n",
       "    </tr>\n",
       "    <tr>\n",
       "      <th>1</th>\n",
       "      <td>[]</td>\n",
       "      <td>43198e06-d82b-4e7e-b474-d70c526e70cf</td>\n",
       "      <td>A collection of reports from iStat's statistic...</td>\n",
       "      <td>Italy Trade Data - First few rows</td>\n",
       "      <td>[{'name': 'Italy Trade', 'id': '75c7920a-fb27-...</td>\n",
       "    </tr>\n",
       "  </tbody>\n",
       "</table>\n",
       "</div>"
      ],
      "text/plain": [
       "<syft.core.node.common.client_manager.dataset_api.DatasetRequestAPI at 0x7fcd710c5640>"
      ]
     },
     "execution_count": 9,
     "metadata": {},
     "output_type": "execute_result"
    }
   ],
   "source": [
    "it.datasets"
   ]
  },
  {
   "cell_type": "markdown",
   "id": "c3971fa3",
   "metadata": {},
   "source": [
    "### Create a Data Scientist User"
   ]
  },
  {
   "cell_type": "code",
   "execution_count": 7,
   "id": "998d67ee",
   "metadata": {},
   "outputs": [],
   "source": [
    "it.users.create(\n",
    "    **{\n",
    "        \"name\": \"Sheldon Cooper\",\n",
    "        \"email\": \"sheldon@caltech.edu\",\n",
    "        \"password\": \"bazinga\",\n",
    "        \"budget\":200\n",
    "    }\n",
    ")"
   ]
  },
  {
   "cell_type": "markdown",
   "id": "cb81540a",
   "metadata": {},
   "source": [
    "### Accept/Deny Requests to the Domain"
   ]
  },
  {
   "cell_type": "code",
   "execution_count": null,
   "id": "4d75e810",
   "metadata": {},
   "outputs": [],
   "source": [
    "it.requests.pandas"
   ]
  },
  {
   "cell_type": "code",
   "execution_count": null,
   "id": "76a6ddb8",
   "metadata": {},
   "outputs": [],
   "source": [
    "it.requests[-1].accept()"
   ]
  },
  {
   "cell_type": "code",
   "execution_count": null,
   "id": "c132cc48",
   "metadata": {},
   "outputs": [],
   "source": []
  },
  {
   "cell_type": "code",
   "execution_count": null,
   "id": "7677cc07",
   "metadata": {},
   "outputs": [],
   "source": []
  }
 ],
 "metadata": {
  "kernelspec": {
   "display_name": "Python 3",
   "language": "python",
   "name": "python3"
  },
  "language_info": {
   "codemirror_mode": {
    "name": "ipython",
    "version": 3
   },
   "file_extension": ".py",
   "mimetype": "text/x-python",
   "name": "python",
   "nbconvert_exporter": "python",
   "pygments_lexer": "ipython3",
   "version": "3.8.10"
  }
 },
 "nbformat": 4,
 "nbformat_minor": 5
}

{
 "cells": [
  {
   "cell_type": "code",
   "execution_count": null,
   "id": "089dcd10",
   "metadata": {},
   "outputs": [],
   "source": [
    "import pandas as pd\n",
    "import syft as sy\n",
    "import numpy as np\n",
    "sy.logger.remove()"
   ]
  },
  {
   "cell_type": "markdown",
   "id": "6025d4af",
   "metadata": {},
   "source": [
    "### Logging into the domain Nodes"
   ]
  },
  {
   "cell_type": "code",
   "execution_count": 2,
   "id": "0db3e249",
   "metadata": {},
   "outputs": [
    {
     "name": "stdout",
     "output_type": "stream",
     "text": [
      "Connecting to http://localhost:8081... done! \t Logging into canada... done!\n",
      "Connecting to http://localhost:8082... done! \t Logging into italy... done!\n"
     ]
    }
   ],
   "source": [
    "# We will login into Canada and Italy domain node\n",
    "ca = sy.login(email=\"sheldon@caltech.edu\", password=\"bazinga\", port=8081)\n",
    "it = sy.login(email=\"sheldon@caltech.edu\", password=\"bazinga\", port=8082)"
   ]
  },
  {
   "cell_type": "code",
   "execution_count": 3,
   "id": "f451587a",
   "metadata": {},
   "outputs": [
    {
     "data": {
      "text/html": [
       "<div>\n",
       "<style scoped>\n",
       "    .dataframe tbody tr th:only-of-type {\n",
       "        vertical-align: middle;\n",
       "    }\n",
       "\n",
       "    .dataframe tbody tr th {\n",
       "        vertical-align: top;\n",
       "    }\n",
       "\n",
       "    .dataframe thead th {\n",
       "        text-align: right;\n",
       "    }\n",
       "</style>\n",
       "<table border=\"1\" class=\"dataframe\">\n",
       "  <thead>\n",
       "    <tr style=\"text-align: right;\">\n",
       "      <th></th>\n",
       "      <th>data</th>\n",
       "      <th>name</th>\n",
       "      <th>description</th>\n",
       "      <th>id</th>\n",
       "      <th>tags</th>\n",
       "    </tr>\n",
       "  </thead>\n",
       "  <tbody>\n",
       "    <tr>\n",
       "      <th>0</th>\n",
       "      <td>[{'name': 'feb2020-10', 'id': '4a4d1301-9299-4...</td>\n",
       "      <td>Canada Trade Data - First few rows</td>\n",
       "      <td>A collection of reports from Canada's statisti...</td>\n",
       "      <td>5b73d030-b159-4957-a0c3-4b6cd374b7b4</td>\n",
       "      <td>[]</td>\n",
       "    </tr>\n",
       "  </tbody>\n",
       "</table>\n",
       "</div>"
      ],
      "text/plain": [
       "<syft.core.node.common.client_manager.dataset_api.DatasetRequestAPI at 0x7fa9e153c2b0>"
      ]
     },
     "execution_count": 3,
     "metadata": {},
     "output_type": "execute_result"
    }
   ],
   "source": [
    "ca.datasets"
   ]
  },
  {
   "cell_type": "code",
   "execution_count": 4,
   "id": "5642a57e",
   "metadata": {},
   "outputs": [
    {
     "data": {
      "text/html": [
       "<div>\n",
       "<style scoped>\n",
       "    .dataframe tbody tr th:only-of-type {\n",
       "        vertical-align: middle;\n",
       "    }\n",
       "\n",
       "    .dataframe tbody tr th {\n",
       "        vertical-align: top;\n",
       "    }\n",
       "\n",
       "    .dataframe thead th {\n",
       "        text-align: right;\n",
       "    }\n",
       "</style>\n",
       "<table border=\"1\" class=\"dataframe\">\n",
       "  <thead>\n",
       "    <tr style=\"text-align: right;\">\n",
       "      <th></th>\n",
       "      <th>tags</th>\n",
       "      <th>id</th>\n",
       "      <th>description</th>\n",
       "      <th>name</th>\n",
       "      <th>data</th>\n",
       "    </tr>\n",
       "  </thead>\n",
       "  <tbody>\n",
       "    <tr>\n",
       "      <th>0</th>\n",
       "      <td>[]</td>\n",
       "      <td>59e6c7c4-3820-42e6-9e51-17e14fb2a68c</td>\n",
       "      <td>A collection of reports from iStat's statistic...</td>\n",
       "      <td>Italy Trade Data - First few rows</td>\n",
       "      <td>[{'name': 'feb2020-10', 'id': 'aaff963c-0139-4...</td>\n",
       "    </tr>\n",
       "  </tbody>\n",
       "</table>\n",
       "</div>"
      ],
      "text/plain": [
       "<syft.core.node.common.client_manager.dataset_api.DatasetRequestAPI at 0x7fa9e164bf40>"
      ]
     },
     "execution_count": 4,
     "metadata": {},
     "output_type": "execute_result"
    }
   ],
   "source": [
    "it.datasets"
   ]
  },
  {
   "cell_type": "code",
   "execution_count": 5,
   "id": "04f6749d-a513-4c39-b54c-a39b7af73ea2",
   "metadata": {},
   "outputs": [
    {
     "data": {
      "text/plain": [
       "200.0"
      ]
     },
     "execution_count": 5,
     "metadata": {},
     "output_type": "execute_result"
    }
   ],
   "source": [
    "ca.privacy_budget"
   ]
  },
  {
   "cell_type": "code",
   "execution_count": 6,
   "id": "e65df309-4619-4585-8c32-bc829352fe76",
   "metadata": {},
   "outputs": [
    {
     "data": {
      "text/plain": [
       "200.0"
      ]
     },
     "execution_count": 6,
     "metadata": {},
     "output_type": "execute_result"
    }
   ],
   "source": [
    "it.privacy_budget"
   ]
  },
  {
   "cell_type": "code",
   "execution_count": 8,
   "id": "217d5f06",
   "metadata": {},
   "outputs": [],
   "source": [
    "ca_data = ca.datasets[-1]['Canada Trade']\n",
    "it_data = it.datasets[-1]['Italy Trade']"
   ]
  },
  {
   "cell_type": "code",
   "execution_count": 10,
   "id": "baef6967-0571-42e7-99f1-2e747104f2e0",
   "metadata": {},
   "outputs": [],
   "source": [
    "# this should be impossible - we're adding data that's located on two different computers\n",
    "result = ca_data + it_data"
   ]
  },
  {
   "cell_type": "code",
   "execution_count": 11,
   "id": "97c0f1a6-a4be-49ec-9657-3dcfb9993bd8",
   "metadata": {},
   "outputs": [],
   "source": [
    "public_result = result.publish(sigma=2)"
   ]
  },
  {
   "cell_type": "code",
   "execution_count": 12,
   "id": "81986b66-83f3-4c2f-a73a-311d63f3f09e",
   "metadata": {},
   "outputs": [
    {
     "data": {
      "text/plain": [
       "106.96564873038481"
      ]
     },
     "execution_count": 12,
     "metadata": {},
     "output_type": "execute_result"
    }
   ],
   "source": [
    "ca.privacy_budget"
   ]
  },
  {
   "cell_type": "code",
   "execution_count": 13,
   "id": "d817dfa6-b13e-40cb-8e2c-2f94e61a1fef",
   "metadata": {},
   "outputs": [
    {
     "data": {
      "text/plain": [
       "106.96564873038481"
      ]
     },
     "execution_count": 13,
     "metadata": {},
     "output_type": "execute_result"
    }
   ],
   "source": [
    "it.privacy_budget"
   ]
  },
  {
   "cell_type": "code",
   "execution_count": 14,
   "id": "3f92aec5-7e27-41cf-b3b8-4bcac5a2b052",
   "metadata": {},
   "outputs": [
    {
     "data": {
      "text/plain": [
       "array([-2,  2, 18,  1,  0, 16,  0,  7,  2, -2], dtype=int32)"
      ]
     },
     "execution_count": 14,
     "metadata": {},
     "output_type": "execute_result"
    }
   ],
   "source": [
    "public_result.get()"
   ]
  },
  {
   "cell_type": "code",
   "execution_count": null,
   "id": "e98ed911-31b6-49b0-8cb3-9f05621690e6",
   "metadata": {},
   "outputs": [],
   "source": []
  },
  {
   "cell_type": "code",
   "execution_count": null,
   "id": "a9e03b98-a03b-4f2b-a314-ba162d671a09",
   "metadata": {},
   "outputs": [],
   "source": []
  },
  {
   "cell_type": "code",
   "execution_count": null,
   "id": "f75435dd-0c35-4a63-a971-f6e3d858cc31",
   "metadata": {},
   "outputs": [],
   "source": []
  }
 ],
 "metadata": {
  "kernelspec": {
   "display_name": "Python 3",
   "language": "python",
   "name": "python3"
  },
  "language_info": {
   "codemirror_mode": {
    "name": "ipython",
    "version": 3
   },
   "file_extension": ".py",
   "mimetype": "text/x-python",
   "name": "python",
   "nbconvert_exporter": "python",
   "pygments_lexer": "ipython3",
   "version": "3.8.10"
  }
 },
 "nbformat": 4,
 "nbformat_minor": 5
}

{
 "cells": [
  {
   "cell_type": "markdown",
   "id": "3f2c5f71",
   "metadata": {},
   "source": [
    "### User:  Data Scientist\n",
    "- Register an account on the network\n",
    "    - Searches for \n",
    "- "
   ]
  },
  {
   "cell_type": "code",
   "execution_count": null,
   "id": "a327c30a",
   "metadata": {},
   "outputs": [],
   "source": [
    "from syft.core.client.client import connect\n",
    "import syft as sy \n",
    "\n",
    "\n",
    "sy.networks"
   ]
  },
  {
   "cell_type": "code",
   "execution_count": null,
   "id": "daf70579",
   "metadata": {},
   "outputs": [],
   "source": [
    "client = sy.networks[0]"
   ]
  },
  {
   "cell_type": "code",
   "execution_count": null,
   "id": "e68e8162",
   "metadata": {},
   "outputs": [],
   "source": [
    "sy.networks.filter(id=2)"
   ]
  }
 ],
 "metadata": {
  "kernelspec": {
   "display_name": "Python 3",
   "language": "python",
   "name": "python3"
  },
  "language_info": {
   "codemirror_mode": {
    "name": "ipython",
    "version": 3
   },
   "file_extension": ".py",
   "mimetype": "text/x-python",
   "name": "python",
   "nbconvert_exporter": "python",
   "pygments_lexer": "ipython3",
   "version": "3.8.1"
  }
 },
 "nbformat": 4,
 "nbformat_minor": 5
}

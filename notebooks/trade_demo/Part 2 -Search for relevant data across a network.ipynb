{
 "cells": [
  {
   "cell_type": "markdown",
   "id": "3b0c5e12",
   "metadata": {},
   "source": [
    "\n",
    "The Notebook is divided into three part:\n",
    "- **Part I**: Data Scientist submits an application to join a network\n",
    "- **Part II**: Network approves the application to join the network\n",
    "- **Part III**: Data Scientist searches the network for relavant datasets"
   ]
  },
  {
   "cell_type": "markdown",
   "id": "3f2c5f71",
   "metadata": {},
   "source": [
    "### User:  Data Scientist (Part I)\n",
    "\n",
    "#### Goal:\n",
    "- Search Available Networks\n",
    "- Select one network\n",
    "- Create an account on the network\n",
    "\n",
    "#### Summary:\n",
    "1. The user searches and view all available Networks.\n",
    "2. User selects a Network.\n",
    "3. User downloads the contract associated with the Network.\n",
    "4. The user reads the contract and signs it offline.\n",
    "5. User registers on the selected Network.\n",
    "    - The user submits an application for account creation with the following details:\n",
    "        - user details like name and email\n",
    "        - signed contract\n",
    "    - User is notified about the application status via email.\n",
    "7. Once the application is approved, user can login with the credential recieved in the email."
   ]
  },
  {
   "cell_type": "code",
   "execution_count": 29,
   "id": "8661e322",
   "metadata": {
    "hide_input": true
   },
   "outputs": [],
   "source": [
    "from enum import Enum\n",
    "class bcolors(Enum):\n",
    "    HEADER = '\\033[95m'\n",
    "    OKBLUE = '\\033[94m'\n",
    "    OKCYAN = '\\033[96m'\n",
    "    OKGREEN = '\\033[92m'\n",
    "    WARNING = '\\033[93m'\n",
    "    FAIL = '\\033[91m'\n",
    "    ENDC = '\\033[0m'\n",
    "    BOLD = '\\033[1m'\n",
    "    UNDERLINE = '\\033[4m'"
   ]
  },
  {
   "cell_type": "code",
   "execution_count": 234,
   "id": "a327c30a",
   "metadata": {},
   "outputs": [
    {
     "data": {
      "text/html": [
       "<div>\n",
       "<style scoped>\n",
       "    .dataframe tbody tr th:only-of-type {\n",
       "        vertical-align: middle;\n",
       "    }\n",
       "\n",
       "    .dataframe tbody tr th {\n",
       "        vertical-align: top;\n",
       "    }\n",
       "\n",
       "    .dataframe thead th {\n",
       "        text-align: right;\n",
       "    }\n",
       "</style>\n",
       "<table border=\"1\" class=\"dataframe\">\n",
       "  <thead>\n",
       "    <tr style=\"text-align: right;\">\n",
       "      <th></th>\n",
       "      <th>Name</th>\n",
       "      <th>Hosted Domains</th>\n",
       "      <th>Datasets</th>\n",
       "      <th>Description</th>\n",
       "      <th>Tags</th>\n",
       "      <th>Url</th>\n",
       "    </tr>\n",
       "  </thead>\n",
       "  <tbody>\n",
       "    <tr>\n",
       "      <th>0</th>\n",
       "      <td>United Nations</td>\n",
       "      <td>3</td>\n",
       "      <td>8</td>\n",
       "      <td>The UN hosts data related to the commodity and...</td>\n",
       "      <td>[Commodities, Health]</td>\n",
       "      <td>https://un.openmined.org</td>\n",
       "    </tr>\n",
       "  </tbody>\n",
       "</table>\n",
       "</div>"
      ],
      "text/plain": [
       "             Name  Hosted Domains  Datasets  \\\n",
       "0  United Nations               3         8   \n",
       "\n",
       "                                         Description                   Tags  \\\n",
       "0  The UN hosts data related to the commodity and...  [Commodities, Health]   \n",
       "\n",
       "                        Url  \n",
       "0  https://un.openmined.org  "
      ]
     },
     "execution_count": 234,
     "metadata": {},
     "output_type": "execute_result"
    }
   ],
   "source": [
    "import pandas as pd\n",
    "import syft as sy\n",
    "\n",
    "# Let's search for all the available networks\n",
    "sy.networks"
   ]
  },
  {
   "cell_type": "code",
   "execution_count": null,
   "id": "daf70579",
   "metadata": {},
   "outputs": [],
   "source": [
    "# Hmm.. the UN network seems interesting, let a pointer to its client.\n",
    "un = sy.networks[0]"
   ]
  },
  {
   "cell_type": "code",
   "execution_count": 141,
   "id": "fa90f473",
   "metadata": {},
   "outputs": [
    {
     "name": "stdout",
     "output_type": "stream",
     "text": [
      "\n",
      "\u001b[91mAuthenticationError: \u001b[0m\n",
      "\tIncorrect email or password. \n",
      "\tIf you're a new user, you need to create an account on the network using the following steps:\u001b[94m\n",
      "\t\tclient = sy.networks[0]  # select the network\n",
      "\n",
      "\t\t# Download the terms and condition of the network\n",
      "\t\tclient.tnc(path=\"/path/to/store/termsandcondition/file/\")\n",
      "\t\t# Read and sign the agreement and upload it during account creation\n",
      "\n",
      "\t\tclient.create_account(\n",
      "                    email='tonystark@marvel.com',\n",
      "                    name=\"Tony Stark\", \n",
      "                    tnc_path=\"/path/to/tnc.pdf\"\n",
      "                )\n",
      "\n"
     ]
    }
   ],
   "source": [
    "# Let's try to login into the network\n",
    "sy.login(url=un.url, email=\"sheldon@caltech.edu\", password=\"somerandompassword\")"
   ]
  },
  {
   "cell_type": "code",
   "execution_count": 138,
   "id": "e68e8162",
   "metadata": {},
   "outputs": [
    {
     "name": "stdout",
     "output_type": "stream",
     "text": [
      "Downloading Terms and Condition to path:`/home/ubuntu/Desktop/` \n",
      "\u001b[92mDownload Completed\n"
     ]
    }
   ],
   "source": [
    "# Okay, so we need an account with the network. Let's create one.\n",
    "# Firstly, let's download the terms and conditions of the network.\n",
    "un.tnc(path=\"/home/ubuntu/Desktop/\")"
   ]
  },
  {
   "cell_type": "code",
   "execution_count": 139,
   "id": "9137ed26",
   "metadata": {},
   "outputs": [],
   "source": [
    "# Let's read and sign the Terms and Condition pdf."
   ]
  },
  {
   "cell_type": "code",
   "execution_count": 167,
   "id": "c029f857",
   "metadata": {},
   "outputs": [
    {
     "name": "stdout",
     "output_type": "stream",
     "text": [
      "\n",
      "An application for account creation has been submitted to United Nations network! ❤️ 💯\n",
      "You'll get an email \u001b[1m(sheldon@redcross.com)\u001b[0m when your application has been processed!\n",
      "\n"
     ]
    }
   ],
   "source": [
    "# Alright, we have read and signed the terms and condition.\n",
    "# Let's create an account on the network.\n",
    "\n",
    "un.create_account(\n",
    "    email=\"sheldon@caltech.edu\",\n",
    "    name=\"Sheldon Cooper\",\n",
    "    tnc_path=\"/home/ubuntu/Desktop/un-tnc.pdf\",\n",
    ")"
   ]
  },
  {
   "cell_type": "code",
   "execution_count": null,
   "id": "f51c5fa4",
   "metadata": {},
   "outputs": [],
   "source": [
    "# Great we have successfully submit a request to created an account on the network."
   ]
  },
  {
   "cell_type": "markdown",
   "id": "5e3e6876",
   "metadata": {},
   "source": [
    "##### *Meanwhile on the Network Owner side*"
   ]
  },
  {
   "cell_type": "markdown",
   "id": "4e060339",
   "metadata": {},
   "source": [
    "### User: Network Owner (Part II)\n",
    "\n",
    "#### Goal:\n",
    "- Search for pending subscription requests\n",
    "- For each request downloads the terms and conditions and signs them offline.\n",
    "- Uploads the terms and conditions and accept/decline the subscription request.\n",
    "\n",
    "#### Summary:\n",
    "1. The user list all the requests submitted for account creation.\n",
    "2. The user selects one of the requests.\n",
    "3. Downloads the terms and condition document attached to the request.\n",
    "4. Verifies and counter signs the tnc document offline.\n",
    "5. Upload the tnc document and accept/decline request for new account creation."
   ]
  },
  {
   "cell_type": "code",
   "execution_count": 230,
   "id": "30a7870a",
   "metadata": {},
   "outputs": [
    {
     "name": "stdout",
     "output_type": "stream",
     "text": [
      "Connecting to United Nations... connected!\tLogging in as \u001b[1minfo@openmined.org\u001b[0m... logged in!\n"
     ]
    }
   ],
   "source": [
    "# Note: Now the user is the network owner.\n",
    "# Let's connect to my network\n",
    "\n",
    "un_client = sy.login(\n",
    "    email=\"info@openmined.org\", password=\"changethis\", url=\"https://un.openmined.org\"\n",
    ")"
   ]
  },
  {
   "cell_type": "code",
   "execution_count": 196,
   "id": "369abb50",
   "metadata": {},
   "outputs": [
    {
     "data": {
      "text/html": [
       "<div>\n",
       "<style scoped>\n",
       "    .dataframe tbody tr th:only-of-type {\n",
       "        vertical-align: middle;\n",
       "    }\n",
       "\n",
       "    .dataframe tbody tr th {\n",
       "        vertical-align: top;\n",
       "    }\n",
       "\n",
       "    .dataframe thead th {\n",
       "        text-align: right;\n",
       "    }\n",
       "</style>\n",
       "<table border=\"1\" class=\"dataframe\">\n",
       "  <thead>\n",
       "    <tr style=\"text-align: right;\">\n",
       "      <th></th>\n",
       "      <th>Id</th>\n",
       "      <th>Name</th>\n",
       "      <th>Email</th>\n",
       "      <th>SubmittedOn</th>\n",
       "      <th>ApprovedOn</th>\n",
       "      <th>State</th>\n",
       "    </tr>\n",
       "  </thead>\n",
       "  <tbody>\n",
       "    <tr>\n",
       "      <th>0</th>\n",
       "      <td>1fea0220d6344637a48666522174ca55</td>\n",
       "      <td>Sheldon Cooper</td>\n",
       "      <td>sheldon@caltech.edu</td>\n",
       "      <td>2021-07-19</td>\n",
       "      <td>None</td>\n",
       "      <td>Pending</td>\n",
       "    </tr>\n",
       "    <tr>\n",
       "      <th>1</th>\n",
       "      <td>b47ce10f1101428a851f154acaee4cb1</td>\n",
       "      <td>Raj Koothrappali</td>\n",
       "      <td>raj@ucla.edu</td>\n",
       "      <td>2021-07-09</td>\n",
       "      <td>2021-07-11</td>\n",
       "      <td>Accepted</td>\n",
       "    </tr>\n",
       "    <tr>\n",
       "      <th>2</th>\n",
       "      <td>3b2ef59ea5be41239319a5656c7d87d7</td>\n",
       "      <td>Howard Wolowitz</td>\n",
       "      <td>howard@mit.edu</td>\n",
       "      <td>2021-07-10</td>\n",
       "      <td>2021-07-12</td>\n",
       "      <td>Declined</td>\n",
       "    </tr>\n",
       "  </tbody>\n",
       "</table>\n",
       "</div>"
      ],
      "text/plain": [
       "                                 Id              Name                Email  \\\n",
       "0  1fea0220d6344637a48666522174ca55    Sheldon Cooper  sheldon@caltech.edu   \n",
       "1  b47ce10f1101428a851f154acaee4cb1  Raj Koothrappali         raj@ucla.edu   \n",
       "2  3b2ef59ea5be41239319a5656c7d87d7   Howard Wolowitz       howard@mit.edu   \n",
       "\n",
       "  SubmittedOn  ApprovedOn     State  \n",
       "0  2021-07-19        None   Pending  \n",
       "1  2021-07-09  2021-07-11  Accepted  \n",
       "2  2021-07-10  2021-07-12  Declined  "
      ]
     },
     "execution_count": 196,
     "metadata": {},
     "output_type": "execute_result"
    }
   ],
   "source": [
    "# List all the signup requests submitted to the network\n",
    "un_client.signup_requests"
   ]
  },
  {
   "cell_type": "code",
   "execution_count": null,
   "id": "91d0b710",
   "metadata": {},
   "outputs": [],
   "source": [
    "# There is one pending request for account creation, let's get a pointer to the request\n",
    "pending_signup_request = unclient.signup_requests[0]"
   ]
  },
  {
   "cell_type": "code",
   "execution_count": 198,
   "id": "6f7878be",
   "metadata": {},
   "outputs": [
    {
     "name": "stdout",
     "output_type": "stream",
     "text": [
      "Downloading Terms and Condition to path:`/home/ubuntu/Desktop/` \n",
      "\u001b[92mDownload Completed\n"
     ]
    }
   ],
   "source": [
    "# Let's download the terms and condition document and counter sign it.\n",
    "pending_signup_request.tnc(path=\"home/ubuntu/Desktop/\")"
   ]
  },
  {
   "cell_type": "code",
   "execution_count": null,
   "id": "ed258caa",
   "metadata": {},
   "outputs": [],
   "source": [
    "# Let's counter sign the document offline.\n",
    "# Now, that we have signed the T&C document let's approve the request.\n",
    "\n",
    "# The request user, recieves an email with the login credentials.\n",
    "pending_signup_request.accept(\n",
    "    notify_by_email=True, tnc_path=\"/home/ubuntu/Desktop/termsandcondition.pdf\"\n",
    ")\n",
    "\n",
    "# Or if we choose to decline the request\n",
    "# The request user recieves an email with the reason specified by the network owner.\n",
    "pending_signup_request.decline(notify_by_email=True, message=\"not all required fields are filled in the T&C document\")"
   ]
  },
  {
   "cell_type": "code",
   "execution_count": 199,
   "id": "73269430",
   "metadata": {},
   "outputs": [],
   "source": [
    "# Great, we successfully, accept a request for account creation."
   ]
  },
  {
   "cell_type": "markdown",
   "id": "b3c90998",
   "metadata": {},
   "source": [
    "##### Meanwhile at the end of the Data Scientist\n",
    "##### *1 - 2 days have passed .... The application for account creation has been approved and the Data Scientist has received the login credentials in the email.*"
   ]
  },
  {
   "cell_type": "markdown",
   "id": "7061e218",
   "metadata": {},
   "source": [
    "### User: Data Scientist (Part III)\n",
    "\n",
    "#### Goal:\n",
    "- Login into the network\n",
    "- Search for relavant datasets\n",
    "- Select a dataset that is relavant to the user\n",
    "\n",
    "#### Summary:\n",
    "1. The user logs into the network.\n",
    "2. The user searches the network store for all the available datasets.\n",
    "3. The user selects a dataset\n",
    "4. The user get a pointer to the dataset"
   ]
  },
  {
   "cell_type": "code",
   "execution_count": 227,
   "id": "ea513490",
   "metadata": {},
   "outputs": [
    {
     "name": "stdout",
     "output_type": "stream",
     "text": [
      "Connecting to United Nations... connected!\tLogging in as \u001b[1msheldon@caltech.edu\u001b[0m... logged in!\n"
     ]
    }
   ],
   "source": [
    "# import syft as sy\n",
    "\n",
    "# # Let us login into the network, using the credentials provided in the email (sent on application approval)\n",
    "# # Select the United Nations network\n",
    "un = sy.network[0]\n",
    "\n",
    "# Login into the network\n",
    "un_client = sy.login(url=un.url, email=\"sheldon@caltech.edu\", password=\"bazinga\")"
   ]
  },
  {
   "cell_type": "code",
   "execution_count": null,
   "id": "67b5ea90",
   "metadata": {},
   "outputs": [],
   "source": [
    "dataset_store = [{}]"
   ]
  },
  {
   "cell_type": "code",
   "execution_count": null,
   "id": "e2b58b8d",
   "metadata": {},
   "outputs": [],
   "source": [
    "# Great !! Now we have a pointer to the network.\n",
    "# Let's search through the network store for datasets\n",
    "un_client.store"
   ]
  },
  {
   "cell_type": "code",
   "execution_count": null,
   "id": "71991aaf",
   "metadata": {},
   "outputs": [],
   "source": []
  },
  {
   "cell_type": "code",
   "execution_count": null,
   "id": "5397da7f",
   "metadata": {},
   "outputs": [],
   "source": []
  },
  {
   "cell_type": "code",
   "execution_count": null,
   "id": "38f0c187",
   "metadata": {},
   "outputs": [],
   "source": []
  },
  {
   "cell_type": "code",
   "execution_count": null,
   "id": "25e23186",
   "metadata": {},
   "outputs": [],
   "source": []
  },
  {
   "cell_type": "code",
   "execution_count": null,
   "id": "fac71f11",
   "metadata": {},
   "outputs": [],
   "source": []
  },
  {
   "cell_type": "code",
   "execution_count": null,
   "id": "b9fa3a14",
   "metadata": {},
   "outputs": [],
   "source": []
  },
  {
   "cell_type": "code",
   "execution_count": null,
   "id": "e712714e",
   "metadata": {},
   "outputs": [],
   "source": []
  },
  {
   "cell_type": "markdown",
   "id": "a9d61206",
   "metadata": {},
   "source": [
    "### Dummy Data Creation"
   ]
  },
  {
   "cell_type": "markdown",
   "id": "30d8d71d",
   "metadata": {
    "heading_collapsed": true
   },
   "source": [
    "#### Part I:"
   ]
  },
  {
   "cell_type": "code",
   "execution_count": 235,
   "id": "358d3107",
   "metadata": {
    "hidden": true
   },
   "outputs": [],
   "source": [
    "import pandas as pd\n",
    "from enum import Enum\n",
    "# Print available networks\n",
    "available_networks = [\n",
    "    {\n",
    "        \"Name\": \"United Nations\",\n",
    "        \"Hosted Domains\": 3,\n",
    "        \"Datasets\": 8,\n",
    "        \"Description\": \"The UN hosts data related to the commodity and health sector.\",\n",
    "        \"Tags\": [\"Commodities\", \"Health\"],\n",
    "        \"Url\": \"https://un.openmined.org\",\n",
    "    }\n",
    "]\n",
    "# pd.DataFrame(available_networks)\n",
    "\n",
    "# Authetication Error\n",
    "login_error = f\"\"\"\n",
    "{bcolors.FAIL.value}AuthenticationError: {bcolors.ENDC.value}\n",
    "\\tIncorrect email or password. \n",
    "\\tIf you're a new user, you need to create an account on the network using the following steps:{bcolors.OKBLUE.value}\n",
    "\\t\\tclient = sy.networks[0]  # select the network\n",
    "\n",
    "\\t\\t# Download the terms and condition of the network\n",
    "\\t\\tclient.tnc(path=\"/path/to/store/termsandcondition/file/\")\n",
    "\\t\\t# Read and sign the agreement and upload it during account creation\n",
    "\n",
    "\\t\\tclient.create_account(\n",
    "                    email='tonystark@marvel.com',\n",
    "                    name=\"Tony Stark\", \n",
    "                    tnc_path=\"/path/to/tnc.pdf\"\n",
    "                )\n",
    "\"\"\"\n",
    "# print(login_error)\n",
    "\n",
    "# Message on downloading T&C\n",
    "tnc_message = f\"Downloading Terms and Condition to path:`/home/ubuntu/Desktop/` \\n{bcolors.OKGREEN.value}Download Completed\"\n",
    "# print(tnc_message)\n",
    "\n",
    "# Submit request for new account creation\n",
    "# We can use the emoji pypi package to render emojis.\n",
    "new_account_request = f\"\"\"\n",
    "An application for account creation has been submitted to United Nations network! ❤️ 💯\n",
    "You'll get an email {bcolors.BOLD.value}(sheldon@redcross.com){bcolors.ENDC.value} when your application has been processed!\n",
    "\"\"\"\n",
    "# print(new_account_request)"
   ]
  },
  {
   "cell_type": "markdown",
   "id": "b2fc72de",
   "metadata": {
    "heading_collapsed": true
   },
   "source": [
    "#### Part II:"
   ]
  },
  {
   "cell_type": "code",
   "execution_count": 240,
   "id": "b19fa0ea",
   "metadata": {
    "hidden": true
   },
   "outputs": [],
   "source": [
    "# Client connection\n",
    "do_client_connection = f\"Connecting to United Nations... connected!\\tLogging in as {bcolors.BOLD.value}info@openmined.org{bcolors.ENDC.value}... logged in!\"\n",
    "#print(do_client_connection)\n",
    "\n",
    "import uuid\n",
    "\n",
    "# Dummy signup requests\n",
    "signup_requests = [\n",
    "    {\n",
    "        \"Id\": uuid.uuid4().hex,\n",
    "        \"Name\": \"Sheldon Cooper\",\n",
    "        \"Email\": \"sheldon@caltech.edu\",\n",
    "        \"SubmittedOn\": \"2021-07-19\",\n",
    "        \"ApprovedOn\": None,\n",
    "        \"State\": \"Pending\",\n",
    "    },\n",
    "    {\n",
    "        \"Id\": uuid.uuid4().hex,\n",
    "        \"Name\": \"Raj Koothrappali\",\n",
    "        \"Email\": \"raj@ucla.edu\",\n",
    "        \"SubmittedOn\": \"2021-07-09\",\n",
    "        \"ApprovedOn\": \"2021-07-11\",\n",
    "        \"State\": \"Accepted\",\n",
    "    },\n",
    "    {\n",
    "        \"Id\": uuid.uuid4().hex,\n",
    "        \"Name\": \"Howard Wolowitz\",\n",
    "        \"Email\": \"howard@mit.edu\",\n",
    "        \"SubmittedOn\": \"2021-07-10\",\n",
    "        \"ApprovedOn\": \"2021-07-12\",\n",
    "        \"State\": \"Declined\",\n",
    "    },\n",
    "]\n",
    "# pd.DataFrame(signup_requests)\n",
    "\n",
    "\n",
    "# Message on downloading T&C\n",
    "tnc_message = f\"Downloading Terms and Condition to path:`/home/ubuntu/Desktop/` \\n{bcolors.OKGREEN.value}Download Completed\"\n",
    "#print(tnc_message)\n",
    "\n"
   ]
  },
  {
   "cell_type": "markdown",
   "id": "470f6441",
   "metadata": {
    "heading_collapsed": true
   },
   "source": [
    "#### Part III:"
   ]
  },
  {
   "cell_type": "code",
   "execution_count": 238,
   "id": "35ba501e",
   "metadata": {
    "hidden": true
   },
   "outputs": [],
   "source": [
    "# Connection to network\n",
    "ds_client_connection = f\"Connecting to United Nations... connected!\\tLogging in as {bcolors.BOLD.value}sheldon@caltech.edu{bcolors.ENDC.value}... logged in!\"\n",
    "#print(ds_client_connection)"
   ]
  },
  {
   "cell_type": "code",
   "execution_count": null,
   "id": "7fc7b06e",
   "metadata": {
    "hidden": true
   },
   "outputs": [],
   "source": []
  }
 ],
 "metadata": {
  "kernelspec": {
   "display_name": "Python 3",
   "language": "python",
   "name": "python3"
  },
  "language_info": {
   "codemirror_mode": {
    "name": "ipython",
    "version": 3
   },
   "file_extension": ".py",
   "mimetype": "text/x-python",
   "name": "python",
   "nbconvert_exporter": "python",
   "pygments_lexer": "ipython3",
   "version": "3.8.1"
  }
 },
 "nbformat": 4,
 "nbformat_minor": 5
}

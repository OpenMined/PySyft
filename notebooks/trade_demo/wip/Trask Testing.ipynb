{
 "cells": [
  {
   "cell_type": "code",
   "execution_count": 1,
   "metadata": {},
   "outputs": [],
   "source": [
    "import syft as sy\n",
    "import pandas as pd\n",
    "\n",
    "# uk = sy.login(url=\"http://54.242.39.40\", email=\"info@openmined.org\", password=\"changethis\", port=80)"
   ]
  },
  {
   "cell_type": "code",
   "execution_count": 2,
   "metadata": {},
   "outputs": [
    {
     "name": "stdout",
     "output_type": "stream",
     "text": [
      "Connecting to http://localhost:8081... done! \t Logging into canada... done!\n"
     ]
    }
   ],
   "source": [
    "node = sy.login(email=\"info@openmined.org\", password=\"changethis\", port=8081)"
   ]
  },
  {
   "cell_type": "code",
   "execution_count": null,
   "metadata": {},
   "outputs": [],
   "source": []
  },
  {
   "cell_type": "code",
   "execution_count": 3,
   "metadata": {},
   "outputs": [
    {
     "name": "stderr",
     "output_type": "stream",
     "text": [
      "/Users/andrewliamtrask/opt/anaconda3/envs/syft39/lib/python3.9/site-packages/IPython/core/interactiveshell.py:3169: DtypeWarning: Columns (14) have mixed types.Specify dtype option on import or set low_memory=False.\n",
      "  has_raised = await self.run_ast_nodes(code_ast.body, cell_name,\n"
     ]
    }
   ],
   "source": [
    "uk_data = pd.read_csv('../datasets/uk - dec 2020.csv')[0:50000]"
   ]
  },
  {
   "cell_type": "code",
   "execution_count": 4,
   "metadata": {},
   "outputs": [],
   "source": [
    "d = node.load_dataset(assets={\"dec2020\":uk_data}, \n",
    "                    name=\"UK Trade Data - first 50K rows\", \n",
    "                    description=\"\"\"A collection of reports from UK's statistics \n",
    "                    bureau about how much it thinks it imports and exports from other countries.\"\"\")"
   ]
  },
  {
   "cell_type": "code",
   "execution_count": 7,
   "metadata": {},
   "outputs": [
    {
     "data": {
      "text/plain": [
       "[{'id': b'\\n\\x16syft.lib.python.String\\x12:\\n$a19cef2b-708c-4806-bf34-94b9673dbae5\\x12\\x12\\n\\x10\\xa8\\xe9\\xa09\\x10\\x89B\\xe1\\x80\\x01\\x97\\xf1]*\\xf4\\xda',\n",
       "  'manifest': b'\\n\\x16syft.lib.python.String\\x12\\x14\\x12\\x12\\n\\x10!\\xbb\\xaf\\xa0E\\x8cG2\\x9d\\xe2\\t\\xccO\\t\\xeb%',\n",
       "  'name': b'\\n\\x16syft.lib.python.String\\x124\\n\\x1eUK Trade Data - first 50K rows\\x12\\x12\\n\\x10)\\xb4N\\xb2\\x90XNv\\xb3b\\xea?f\\xc7\\xbf\\xca',\n",
       "  'data': b'\\n\\x19syft.lib.python.list.List\\x12\\xa3\\x04\\n\\x8c\\x04\\n\\x14syft.lib.python.Dict\\x12\\xf3\\x03\\n4\\n\\x16syft.lib.python.String\\x12\\x1a\\n\\x04name\\x12\\x12\\n\\x10\\x02\\xe4\\xc6\\x88\\x9e\\xd8N\\x15\\xa9\\x890lZ\\x11q\\x02\\n2\\n\\x16syft.lib.python.String\\x12\\x18\\n\\x02id\\x12\\x12\\n\\x10\\xefH{\\x85\\xfc\\xe7H\\xe1\\xb0\\xb1B%\\xb0\\xb4\\x8a&\\n5\\n\\x16syft.lib.python.String\\x12\\x1b\\n\\x05dtype\\x12\\x12\\n\\x10z\\xeaA\\xfeF1MN\\x8eH\\xd7y\\xb8&5\\xf7\\n5\\n\\x16syft.lib.python.String\\x12\\x1b\\n\\x05shape\\x12\\x12\\n\\x10\\x83T\\xaa9\\x81\\xaaA\\x89\\x99Y\\xa3\\xec\\x8e\\xba2\\xbb\\x127\\n\\x16syft.lib.python.String\\x12\\x1d\\n\\x07dec2020\\x12\\x12\\n\\x10b\\xf1\\x83\\xad\\xeb\\xe0AD\\xb3\\x18G\\xbab\\xd3\\xe1^\\x12T\\n\\x16syft.lib.python.String\\x12:\\n$0a225f9b-fc70-4dc3-b6a6-30f3132c66e0\\x12\\x12\\n\\x10n\\xb3OD\\xeb\\xb4F?\\x8c\\x12$j\\xd2\\x12\\xff\\xa8\\x129\\n\\x16syft.lib.python.String\\x12\\x1f\\n\\tDataFrame\\x12\\x12\\n\\x10aO\\x8b\\xcf\\x04\\xebL\\x04\\x8fc\\n\\xff\\xe4\\xad\\x9e \\x12;\\n\\x16syft.lib.python.String\\x12!\\n\\x0b(50000, 22)\\x12\\x12\\n\\x10\\xbe\\x0f\\x19\\xf0b{MD\\xb2\\x02.\\x9d\\x96\\x92\\xb8\\xb6\\x1a\\x12\\n\\x10\\xab]h!\\x1eBEy\\x8d+sl \\xe7\\xfe\\xb7\\x12\\x12\\n\\x10\\xeb\\xd0\\x95\\xf5\\xeeD@t\\x91\\xf3\\x06\\xa3\\xf8\\x19F\\xd0',\n",
       "  'description': b\"\\n\\x16syft.lib.python.String\\x12\\xa5\\x01\\n\\x8e\\x01A collection of reports from UK's statistics \\n                    bureau about how much it thinks it imports and exports from other countries.\\x12\\x12\\n\\x10\\xc7\\xe5\\x89;\\x85\\xc4K$\\x9f\\x86M\\x15\\xb8\\xde!\\xb6\",\n",
       "  'tags': b'\\n\\x19syft.lib.python.list.List\\x12\\x14\\x12\\x12\\n\\x10\\xbe\\xb97\\xa6\\x03\\x8cL\\x80\\x96\\xda\\x05T\\x18e\\x9b\\xa1',\n",
       "  'str_metadata': b'\\n\\x14syft.lib.python.Dict\\x12\\x14\\x1a\\x12\\n\\x10\\xe9\\x7f\\xaa\\xbe\\xa0OH\\xa0\\x91B\\x02\\x9be\\x10\\xa1\\x8b',\n",
       "  'blob_metadata': b'\\n\\x14syft.lib.python.Dict\\x12\\x14\\x1a\\x12\\n\\x10\\x0f*+;\\x0fQAz\\xa5\\xa6\\xde\\xbe\\xb6\\xef\\xbb\\xac'},\n",
       " {'id': b'\\n\\x16syft.lib.python.String\\x12:\\n$82458322-092c-47d2-9ced-16c5ba64aee1\\x12\\x12\\n\\x10\\xdd\\xe9\\x8c\\xd2\\x9c\\xfbJc\\x9ctO\\x9c\\xab\\xeds\\xb8',\n",
       "  'manifest': b'\\n\\x16syft.lib.python.String\\x12\\x14\\x12\\x12\\n\\x10N\\x93\\x00\\xd9\\xa0\\xd5L\\xef\\x96l\\x9bko\\x9e\\x12%',\n",
       "  'blob_metadata': b'\\n\\x14syft.lib.python.Dict\\x12\\x14\\x1a\\x12\\n\\x10\\x07\\xcfx\\xdc\\xf6\\xfaC\\xaf\\x93CM\\x80\\xb9\"\\x84.',\n",
       "  'tags': b'\\n\\x19syft.lib.python.list.List\\x12\\x14\\x12\\x12\\n\\x10$\\xdd\\xb9\\x9a\\x03\\xf1Fs\\xb1%X\\xafC\\x1f\\x92\\xc1',\n",
       "  'data': b'\\n\\x19syft.lib.python.list.List\\x12\\xa3\\x04\\n\\x8c\\x04\\n\\x14syft.lib.python.Dict\\x12\\xf3\\x03\\n4\\n\\x16syft.lib.python.String\\x12\\x1a\\n\\x04name\\x12\\x12\\n\\x10\\x99\\x1a\\xda\\x1a\\x93\\x8dG\\xa1\\x83\\xe7&\\x08\\x9c\\xa0\\x10[\\n2\\n\\x16syft.lib.python.String\\x12\\x18\\n\\x02id\\x12\\x12\\n\\x10<\\x80\\x9c?\\xd0\\x0bGQ\\xb6\\xe88*\\xf4\\xcc\\x1d\\xb4\\n5\\n\\x16syft.lib.python.String\\x12\\x1b\\n\\x05dtype\\x12\\x12\\n\\x10\\x00Wf\\xebA\\x9cE\\xaf\\xb3\\xb5\\x8d\\xcb\\x1c@|H\\n5\\n\\x16syft.lib.python.String\\x12\\x1b\\n\\x05shape\\x12\\x12\\n\\x10\\xa5\\xb1\\x9fRI\\x9eM\\xa4\\xa1T-^\\xbd\\xc5\\\\\\x19\\x127\\n\\x16syft.lib.python.String\\x12\\x1d\\n\\x07dec2020\\x12\\x12\\n\\x10m\\x98\\xbb=Z\\x11E\\x98\\xa9\\x00\\xe5\\xabP$\\x0bu\\x12T\\n\\x16syft.lib.python.String\\x12:\\n$8f37da3e-e449-49a7-bc45-db4278aec195\\x12\\x12\\n\\x10\\xdad\\xc4\\xe7q\\xb6B?\\xa8\\x7f\\xc6\\xa65JN}\\x129\\n\\x16syft.lib.python.String\\x12\\x1f\\n\\tDataFrame\\x12\\x12\\n\\x10\"w\\xa4\\xeb6\\xc2M\\xf3\\x937\\xd7\\xb4`5S\\x17\\x12;\\n\\x16syft.lib.python.String\\x12!\\n\\x0b(50000, 22)\\x12\\x12\\n\\x104g@\\x17\\'\\xe6F\\xb6\\x80\\xdf\\xcca\\x0f\\xc7\"\\xae\\x1a\\x12\\n\\x10\\x1c\\xc6\\x8e\\x11\\xcd\\xbdM\\xd4\\x9e\\xe5\\xa0@\\xf1C\\xdb\\x02\\x12\\x12\\n\\x10\\x9eX\\xd0aV\\xf9Ft\\x99\\x9b\\xde2\\xc5\\xf3\\x91\\xf5',\n",
       "  'description': b\"\\n\\x16syft.lib.python.String\\x12\\xa5\\x01\\n\\x8e\\x01A collection of reports from UK's statistics \\n                    bureau about how much it thinks it imports and exports from other countries.\\x12\\x12\\n\\x10\\xb4\\xaa\\xee\\xf8P\\xceO\\x19\\x9a\\xbc\\xfa\\xcdz~wh\",\n",
       "  'str_metadata': b'\\n\\x14syft.lib.python.Dict\\x12\\x14\\x1a\\x12\\n\\x10\\xec\\x8a]\\xa3r\\xa7B\\x95\\x80\\xc3\\x10}R\\xbfnf',\n",
       "  'name': b'\\n\\x16syft.lib.python.String\\x124\\n\\x1eUK Trade Data - first 50K rows\\x12\\x12\\n\\x10K\\xc5\\xd2\\xb2\\xedVCh\\x9c\\xa5`;\\xc4\\xd37\\x82'},\n",
       " {'str_metadata': b'\\n\\x14syft.lib.python.Dict\\x12\\x14\\x1a\\x12\\n\\x100\\xe7\\xe3b\\x03\\xa5N_\\xaa\\xe0[f\\xad\\x99\\x9a\\xeb',\n",
       "  'name': b'\\n\\x16syft.lib.python.String\\x124\\n\\x1eUK Trade Data - first 50K rows\\x12\\x12\\n\\x10i\\xd4\\xc6\\xefc\\x0bE5\\x81\\xf7\\x0e\\x86\\r\\x98\\x00\\x03',\n",
       "  'description': b\"\\n\\x16syft.lib.python.String\\x12\\xa5\\x01\\n\\x8e\\x01A collection of reports from UK's statistics \\n                    bureau about how much it thinks it imports and exports from other countries.\\x12\\x12\\n\\x10%\\xd8\\xd5C_XI>\\xa4\\xaco\\xbe\\xa3\\xe3b\\xc0\",\n",
       "  'data': b\"\\n\\x19syft.lib.python.list.List\\x12\\xa3\\x04\\n\\x8c\\x04\\n\\x14syft.lib.python.Dict\\x12\\xf3\\x03\\n4\\n\\x16syft.lib.python.String\\x12\\x1a\\n\\x04name\\x12\\x12\\n\\x10\\xba\\x1e\\x04\\x9e|\\xbcG/\\xb4\\xa23k\\xc5\\xe6\\xa3\\xb3\\n2\\n\\x16syft.lib.python.String\\x12\\x18\\n\\x02id\\x12\\x12\\n\\x10rp]+\\x9bUE\\xc9\\x88\\xc6\\x8f'0\\xaaUf\\n5\\n\\x16syft.lib.python.String\\x12\\x1b\\n\\x05dtype\\x12\\x12\\n\\x10\\xea!\\x7f\\x0e\\xd4\\x93J!\\x90\\xd2m\\x1aN\\xff\\x9c\\xe4\\n5\\n\\x16syft.lib.python.String\\x12\\x1b\\n\\x05shape\\x12\\x12\\n\\x10\\xa6\\x06\\xe5\\xbf\\xeflAo\\xb1\\xb1\\xe94\\x01\\xb0\\x84@\\x127\\n\\x16syft.lib.python.String\\x12\\x1d\\n\\x07dec2020\\x12\\x12\\n\\x10x\\xff\\xca\\x08w\\xd0K8\\x8c\\xbe\\xf2\\x0f\\xef5c7\\x12T\\n\\x16syft.lib.python.String\\x12:\\n$ac98540d-085b-49ee-b4c0-ca3289bf687e\\x12\\x12\\n\\x10\\t\\x9f \\xfa\\xbf@CR\\xa1\\xe1\\x87\\x9e\\xed7>!\\x129\\n\\x16syft.lib.python.String\\x12\\x1f\\n\\tDataFrame\\x12\\x12\\n\\x10ZR\\x1eTc\\x99H\\x9a\\x90L\\x10\\xd8\\xbd\\xc8e/\\x12;\\n\\x16syft.lib.python.String\\x12!\\n\\x0b(50000, 22)\\x12\\x12\\n\\x10k\\x14\\x05m\\t\\xadGo\\x94\\x7f\\x85+N#k%\\x1a\\x12\\n\\x10~\\x01\\xd4\\xa3my@e\\xa6\\xaf\\xd3;t\\xeaSG\\x12\\x12\\n\\x10\\xbd\\xa3\\xac\\x95\\xa9\\xfeA\\xc5\\xa9w\\xe0k)<q\\x8f\",\n",
       "  'id': b'\\n\\x16syft.lib.python.String\\x12:\\n$497bb024-60f8-405f-84dd-00b60791ec9f\\x12\\x12\\n\\x10\\x81\\x16P\\x00v\\x8eE\\x03\\xb3S\\x0bg\\x08\\xb2\\x86\\x17',\n",
       "  'blob_metadata': b\"\\n\\x14syft.lib.python.Dict\\x12\\x14\\x1a\\x12\\n\\x10H\\x80n\\xe8c'Du\\xb9\\x1d\\xe9\\xa5\\x95Z\\xfa\\xaa\",\n",
       "  'manifest': b'\\n\\x16syft.lib.python.String\\x12\\x14\\x12\\x12\\n\\x10[\\xab\\xc8\\x9d[\\xe5M_\\x83\\x87*\\x14\\xcd\\xd1\\x034',\n",
       "  'tags': b'\\n\\x19syft.lib.python.list.List\\x12\\x14\\x12\\x12\\n\\x10?\\xda\\xe2]\\xcbeH\\x9e\\xac\\xc4XO>gd\\\\'},\n",
       " {'blob_metadata': b'\\n\\x14syft.lib.python.Dict\\x12\\x14\\x1a\\x12\\n\\x10,.+?\\x06\\xe9O$\\xaf\\xc2\\x8d>\\xd1\\x8a\\xa6i',\n",
       "  'data': b'\\n\\x19syft.lib.python.list.List\\x12\\xa3\\x04\\n\\x8c\\x04\\n\\x14syft.lib.python.Dict\\x12\\xf3\\x03\\n4\\n\\x16syft.lib.python.String\\x12\\x1a\\n\\x04name\\x12\\x12\\n\\x10\\xf3\\x141\\xc7\\x11\\x0eB\\x98\\xac\\xa7We\\xed:\\xf0\\xbd\\n2\\n\\x16syft.lib.python.String\\x12\\x18\\n\\x02id\\x12\\x12\\n\\x10W\\x17\\xff\\xcb\\xe0\\x9bC\\xa4\\xa2\"\\x0eV\\x93#\\xdcI\\n5\\n\\x16syft.lib.python.String\\x12\\x1b\\n\\x05dtype\\x12\\x12\\n\\x103>\\xd83\\xba!I\\xe2\\xac\\x07\\xc4\\xbbN\\xfb\\xeaq\\n5\\n\\x16syft.lib.python.String\\x12\\x1b\\n\\x05shape\\x12\\x12\\n\\x10\\xe6\\x03u\\xff@\\x8dK\\x10\\xb0=\\xb2\\xd6z\\xe6\\xbb0\\x127\\n\\x16syft.lib.python.String\\x12\\x1d\\n\\x07dec2020\\x12\\x12\\n\\x107\\xfc[\\\\\\x19\\x80F\\xd2\\xbf\\xc2\\x8a\\xc9k\\'l\\xa4\\x12T\\n\\x16syft.lib.python.String\\x12:\\n$9a3ad8be-75f6-457c-ac79-180b7aa87f91\\x12\\x12\\n\\x10\\xdb\\xffL\\xdf\\xd0\\xa6A\\xc2\\xb5\\xa3OA\\x14\\xc5\\xcan\\x129\\n\\x16syft.lib.python.String\\x12\\x1f\\n\\tDataFrame\\x12\\x12\\n\\x10&s\\xdd\\xa2\\x1e\\x19D/\\x8bnG\\x1f\\x99\\xb2\\xf9[\\x12;\\n\\x16syft.lib.python.String\\x12!\\n\\x0b(50000, 22)\\x12\\x12\\n\\x10d\\xb5\\xfat\\x8cBE\\x8c\\x9a%+\\xbd\\'UD)\\x1a\\x12\\n\\x10\\xedH\\xdf\\xfb\\xc4\\xc0M\\x01\\x82\\x86\\xaf\\xfb\\x93\\xb5\\xbe\\xef\\x12\\x12\\n\\x10(\\x0ei\\x7f\\xfd\\xa4H\\x97\\xa9\\xf9\\xa8\\x97\\xce\\xf5\\x1a\\x15',\n",
       "  'str_metadata': b'\\n\\x14syft.lib.python.Dict\\x12\\x14\\x1a\\x12\\n\\x10F~g\\x07\\x1d\\x01Av\\xb4Q\\xcd\\x94\\xb6i\\t\\x11',\n",
       "  'description': b\"\\n\\x16syft.lib.python.String\\x12\\xa5\\x01\\n\\x8e\\x01A collection of reports from UK's statistics \\n                    bureau about how much it thinks it imports and exports from other countries.\\x12\\x12\\n\\x10\\x8c\\xa0\\x1b\\x95\\xa8OCl\\x9a\\x03\\xc3,\\x0c\\xfc\\x93\\xdf\",\n",
       "  'name': b'\\n\\x16syft.lib.python.String\\x124\\n\\x1eUK Trade Data - first 50K rows\\x12\\x12\\n\\x10\\xf7\\xa9c\\x89\\x91\\xcfF\\xa8\\x9b\\xdf\\x96l(\\xab\\xa2]',\n",
       "  'tags': b'\\n\\x19syft.lib.python.list.List\\x12\\x14\\x12\\x12\\n\\x10\\x8a\\x80\\xe8\\xcb\\xae\\x03K\\xd8\\x9c\\xde\\x95\\xc3;Y+:',\n",
       "  'manifest': b'\\n\\x16syft.lib.python.String\\x12\\x14\\x12\\x12\\n\\x10\\x0e&ZCafA\\xcf\\xa2\\xcb\\xa6\\xd4\\xf6O\\xf4\\xaf',\n",
       "  'id': b'\\n\\x16syft.lib.python.String\\x12:\\n$4d767655-1bcd-44a3-a9e6-c8e9f1362de2\\x12\\x12\\n\\x10=\\xbfr2\\xf7\\x1dD=\\x890W0\\xa7 \\xf7Z'}]"
      ]
     },
     "execution_count": 7,
     "metadata": {},
     "output_type": "execute_result"
    }
   ],
   "source": [
    "node.datasets.all()"
   ]
  },
  {
   "cell_type": "code",
   "execution_count": 16,
   "metadata": {},
   "outputs": [
    {
     "name": "stdout",
     "output_type": "stream",
     "text": [
      "Ignoring: user with email:andrew@openmined.org already exists\n"
     ]
    }
   ],
   "source": [
    "ca.users.create(name=\"Andrew Trask\",\n",
    "                email=\"andrew@openmined.org\",\n",
    "                password=\"abc123\")\n"
   ]
  },
  {
   "cell_type": "code",
   "execution_count": 10,
   "metadata": {},
   "outputs": [
    {
     "data": {
      "text/html": [
       "<div>\n",
       "<style scoped>\n",
       "    .dataframe tbody tr th:only-of-type {\n",
       "        vertical-align: middle;\n",
       "    }\n",
       "\n",
       "    .dataframe tbody tr th {\n",
       "        vertical-align: top;\n",
       "    }\n",
       "\n",
       "    .dataframe thead th {\n",
       "        text-align: right;\n",
       "    }\n",
       "</style>\n",
       "<table border=\"1\" class=\"dataframe\">\n",
       "  <thead>\n",
       "    <tr style=\"text-align: right;\">\n",
       "      <th></th>\n",
       "      <th>id</th>\n",
       "      <th>email</th>\n",
       "      <th>name</th>\n",
       "      <th>verify_key</th>\n",
       "      <th>role</th>\n",
       "      <th>groups</th>\n",
       "    </tr>\n",
       "  </thead>\n",
       "  <tbody>\n",
       "    <tr>\n",
       "      <th>0</th>\n",
       "      <td>1</td>\n",
       "      <td>info@openmined.org</td>\n",
       "      <td>Jane Doe</td>\n",
       "      <td>e27ddd911f746f05e2afb4dd13d40e6af4ad409dab3281...</td>\n",
       "      <td>Owner</td>\n",
       "      <td>[]</td>\n",
       "    </tr>\n",
       "    <tr>\n",
       "      <th>1</th>\n",
       "      <td>2</td>\n",
       "      <td>andrew@openmined.org</td>\n",
       "      <td>Andrew Trask</td>\n",
       "      <td>264dac7ea9a165937d79e0e4e657af1747b5eb32582d04...</td>\n",
       "      <td>Data Scientist</td>\n",
       "      <td>[]</td>\n",
       "    </tr>\n",
       "  </tbody>\n",
       "</table>\n",
       "</div>"
      ],
      "text/plain": [
       "<syft.core.node.common.client_manager.user_api.UserRequestAPI at 0x7fc6d8edb550>"
      ]
     },
     "execution_count": 10,
     "metadata": {},
     "output_type": "execute_result"
    }
   ],
   "source": [
    "ca.users"
   ]
  },
  {
   "cell_type": "code",
   "execution_count": 12,
   "metadata": {},
   "outputs": [
    {
     "data": {
      "text/html": [
       "<div>\n",
       "<style scoped>\n",
       "    .dataframe tbody tr th:only-of-type {\n",
       "        vertical-align: middle;\n",
       "    }\n",
       "\n",
       "    .dataframe tbody tr th {\n",
       "        vertical-align: top;\n",
       "    }\n",
       "\n",
       "    .dataframe thead th {\n",
       "        text-align: right;\n",
       "    }\n",
       "</style>\n",
       "<table border=\"1\" class=\"dataframe\">\n",
       "  <thead>\n",
       "    <tr style=\"text-align: right;\">\n",
       "      <th></th>\n",
       "      <th>ID</th>\n",
       "      <th>Tags</th>\n",
       "      <th>Description</th>\n",
       "      <th>object_type</th>\n",
       "    </tr>\n",
       "  </thead>\n",
       "  <tbody>\n",
       "    <tr>\n",
       "      <th>0</th>\n",
       "      <td>&lt;UID: 05c928d927f041358360364a5a81dd1d&gt;</td>\n",
       "      <td>[#feb2021]</td>\n",
       "      <td></td>\n",
       "      <td>&lt;class 'pandas.core.frame.DataFrame'&gt;</td>\n",
       "    </tr>\n",
       "  </tbody>\n",
       "</table>\n",
       "</div>"
      ],
      "text/plain": [
       "[<syft.proxy.pandas.DataFramePointer object at 0x7f9e71324970>]"
      ]
     },
     "execution_count": 12,
     "metadata": {},
     "output_type": "execute_result"
    }
   ],
   "source": [
    "ca.store"
   ]
  },
  {
   "cell_type": "code",
   "execution_count": 12,
   "metadata": {},
   "outputs": [
    {
     "data": {
      "text/html": [
       "<div>\n",
       "<style scoped>\n",
       "    .dataframe tbody tr th:only-of-type {\n",
       "        vertical-align: middle;\n",
       "    }\n",
       "\n",
       "    .dataframe tbody tr th {\n",
       "        vertical-align: top;\n",
       "    }\n",
       "\n",
       "    .dataframe thead th {\n",
       "        text-align: right;\n",
       "    }\n",
       "</style>\n",
       "<table border=\"1\" class=\"dataframe\">\n",
       "  <thead>\n",
       "    <tr style=\"text-align: right;\">\n",
       "      <th></th>\n",
       "      <th>Requested Object's tags</th>\n",
       "      <th>Reason</th>\n",
       "      <th>Request ID</th>\n",
       "      <th>Requested Object's ID</th>\n",
       "      <th>Requested Object's type</th>\n",
       "    </tr>\n",
       "  </thead>\n",
       "  <tbody>\n",
       "    <tr>\n",
       "      <th>0</th>\n",
       "      <td>[#feb2021, __getitem__, __eq__, __getitem__, _...</td>\n",
       "      <td>I'd like to know the sum total of cocoa moved ...</td>\n",
       "      <td>&lt;UID: b6b0714a67e04deb8ab47007073c0651&gt;</td>\n",
       "      <td>&lt;UID: 4990764f1f0843399012d211f5edc27b&gt;</td>\n",
       "      <td></td>\n",
       "    </tr>\n",
       "  </tbody>\n",
       "</table>\n",
       "</div>"
      ],
      "text/plain": [
       "                             Requested Object's tags  \\\n",
       "0  [#feb2021, __getitem__, __eq__, __getitem__, _...   \n",
       "\n",
       "                                              Reason  \\\n",
       "0  I'd like to know the sum total of cocoa moved ...   \n",
       "\n",
       "                                Request ID  \\\n",
       "0  <UID: b6b0714a67e04deb8ab47007073c0651>   \n",
       "\n",
       "                     Requested Object's ID Requested Object's type  \n",
       "0  <UID: 4990764f1f0843399012d211f5edc27b>                          "
      ]
     },
     "execution_count": 12,
     "metadata": {},
     "output_type": "execute_result"
    }
   ],
   "source": [
    "ca.requests.pandas"
   ]
  },
  {
   "cell_type": "code",
   "execution_count": 15,
   "metadata": {},
   "outputs": [],
   "source": [
    "ca.requests[0].accept()"
   ]
  },
  {
   "cell_type": "code",
   "execution_count": null,
   "metadata": {},
   "outputs": [],
   "source": []
  },
  {
   "cell_type": "code",
   "execution_count": null,
   "metadata": {},
   "outputs": [],
   "source": []
  },
  {
   "cell_type": "code",
   "execution_count": null,
   "metadata": {},
   "outputs": [],
   "source": []
  },
  {
   "cell_type": "code",
   "execution_count": null,
   "metadata": {},
   "outputs": [],
   "source": []
  },
  {
   "cell_type": "code",
   "execution_count": null,
   "metadata": {},
   "outputs": [],
   "source": []
  },
  {
   "cell_type": "code",
   "execution_count": null,
   "metadata": {},
   "outputs": [],
   "source": []
  },
  {
   "cell_type": "code",
   "execution_count": null,
   "metadata": {},
   "outputs": [],
   "source": []
  },
  {
   "cell_type": "code",
   "execution_count": 6,
   "metadata": {},
   "outputs": [
    {
     "data": {
      "text/html": [
       "<div>\n",
       "<style scoped>\n",
       "    .dataframe tbody tr th:only-of-type {\n",
       "        vertical-align: middle;\n",
       "    }\n",
       "\n",
       "    .dataframe tbody tr th {\n",
       "        vertical-align: top;\n",
       "    }\n",
       "\n",
       "    .dataframe thead th {\n",
       "        text-align: right;\n",
       "    }\n",
       "</style>\n",
       "<table border=\"1\" class=\"dataframe\">\n",
       "  <thead>\n",
       "    <tr style=\"text-align: right;\">\n",
       "      <th></th>\n",
       "      <th>id</th>\n",
       "      <th>email</th>\n",
       "      <th>name</th>\n",
       "      <th>verify_key</th>\n",
       "      <th>role</th>\n",
       "      <th>groups</th>\n",
       "    </tr>\n",
       "  </thead>\n",
       "  <tbody>\n",
       "    <tr>\n",
       "      <th>0</th>\n",
       "      <td>1</td>\n",
       "      <td>info@openmined.org</td>\n",
       "      <td>Jane Doe</td>\n",
       "      <td>a949c9d2fa5582fd696e56700d9cfa5d5acb7f225141c7...</td>\n",
       "      <td>Owner</td>\n",
       "      <td>[]</td>\n",
       "    </tr>\n",
       "    <tr>\n",
       "      <th>1</th>\n",
       "      <td>2</td>\n",
       "      <td>andrew@openmined.org</td>\n",
       "      <td>Andrew Trask</td>\n",
       "      <td>6fd739349e3106b60cccb72546a887fb2255c0c8dc44d9...</td>\n",
       "      <td>Data Scientist</td>\n",
       "      <td>[]</td>\n",
       "    </tr>\n",
       "  </tbody>\n",
       "</table>\n",
       "</div>"
      ],
      "text/plain": [
       "<syft.core.node.common.client_manager.user_api.UserRequestAPI at 0x7fab19784e50>"
      ]
     },
     "execution_count": 6,
     "metadata": {},
     "output_type": "execute_result"
    }
   ],
   "source": [
    "ca.users"
   ]
  },
  {
   "cell_type": "code",
   "execution_count": 3,
   "metadata": {},
   "outputs": [],
   "source": [
    "d = ca.datasets[-1]"
   ]
  },
  {
   "cell_type": "code",
   "execution_count": 5,
   "metadata": {},
   "outputs": [
    {
     "data": {
      "text/html": [
       "<div>\n",
       "<style scoped>\n",
       "    .dataframe tbody tr th:only-of-type {\n",
       "        vertical-align: middle;\n",
       "    }\n",
       "\n",
       "    .dataframe tbody tr th {\n",
       "        vertical-align: top;\n",
       "    }\n",
       "\n",
       "    .dataframe thead th {\n",
       "        text-align: right;\n",
       "    }\n",
       "</style>\n",
       "<table border=\"1\" class=\"dataframe\">\n",
       "  <thead>\n",
       "    <tr style=\"text-align: right;\">\n",
       "      <th></th>\n",
       "      <th>Classification</th>\n",
       "      <th>Year</th>\n",
       "      <th>Period</th>\n",
       "      <th>Period Desc.</th>\n",
       "      <th>Aggregate Level</th>\n",
       "      <th>Is Leaf Code</th>\n",
       "      <th>Trade Flow Code</th>\n",
       "      <th>Trade Flow</th>\n",
       "      <th>Reporter Code</th>\n",
       "      <th>Reporter</th>\n",
       "      <th>...</th>\n",
       "      <th>Partner</th>\n",
       "      <th>Partner ISO</th>\n",
       "      <th>Commodity Code</th>\n",
       "      <th>Commodity</th>\n",
       "      <th>Qty Unit Code</th>\n",
       "      <th>Qty Unit</th>\n",
       "      <th>Qty</th>\n",
       "      <th>Netweight (kg)</th>\n",
       "      <th>Trade Value (US$)</th>\n",
       "      <th>Flag</th>\n",
       "    </tr>\n",
       "  </thead>\n",
       "  <tbody>\n",
       "    <tr>\n",
       "      <th>0</th>\n",
       "      <td>HS</td>\n",
       "      <td>2021</td>\n",
       "      <td>202102</td>\n",
       "      <td>February 2021</td>\n",
       "      <td>4</td>\n",
       "      <td>0</td>\n",
       "      <td>1</td>\n",
       "      <td>Imports</td>\n",
       "      <td>124</td>\n",
       "      <td>Canada</td>\n",
       "      <td>...</td>\n",
       "      <td>Other Asia, nes</td>\n",
       "      <td>NaN</td>\n",
       "      <td>6117</td>\n",
       "      <td>Clothing accessories; made up, knitted or croc...</td>\n",
       "      <td>0</td>\n",
       "      <td>NaN</td>\n",
       "      <td>NaN</td>\n",
       "      <td>NaN</td>\n",
       "      <td>9285</td>\n",
       "      <td>0</td>\n",
       "    </tr>\n",
       "    <tr>\n",
       "      <th>1</th>\n",
       "      <td>HS</td>\n",
       "      <td>2021</td>\n",
       "      <td>202102</td>\n",
       "      <td>February 2021</td>\n",
       "      <td>2</td>\n",
       "      <td>0</td>\n",
       "      <td>1</td>\n",
       "      <td>Imports</td>\n",
       "      <td>124</td>\n",
       "      <td>Canada</td>\n",
       "      <td>...</td>\n",
       "      <td>Egypt</td>\n",
       "      <td>NaN</td>\n",
       "      <td>18</td>\n",
       "      <td>Cocoa and cocoa preparations</td>\n",
       "      <td>0</td>\n",
       "      <td>NaN</td>\n",
       "      <td>NaN</td>\n",
       "      <td>0.0</td>\n",
       "      <td>116604</td>\n",
       "      <td>0</td>\n",
       "    </tr>\n",
       "    <tr>\n",
       "      <th>2</th>\n",
       "      <td>HS</td>\n",
       "      <td>2021</td>\n",
       "      <td>202102</td>\n",
       "      <td>February 2021</td>\n",
       "      <td>2</td>\n",
       "      <td>0</td>\n",
       "      <td>1</td>\n",
       "      <td>Imports</td>\n",
       "      <td>124</td>\n",
       "      <td>Canada</td>\n",
       "      <td>...</td>\n",
       "      <td>United Kingdom</td>\n",
       "      <td>NaN</td>\n",
       "      <td>18</td>\n",
       "      <td>Cocoa and cocoa preparations</td>\n",
       "      <td>0</td>\n",
       "      <td>NaN</td>\n",
       "      <td>NaN</td>\n",
       "      <td>0.0</td>\n",
       "      <td>1495175</td>\n",
       "      <td>0</td>\n",
       "    </tr>\n",
       "    <tr>\n",
       "      <th>3</th>\n",
       "      <td>HS</td>\n",
       "      <td>2021</td>\n",
       "      <td>202102</td>\n",
       "      <td>February 2021</td>\n",
       "      <td>2</td>\n",
       "      <td>0</td>\n",
       "      <td>1</td>\n",
       "      <td>Imports</td>\n",
       "      <td>124</td>\n",
       "      <td>Canada</td>\n",
       "      <td>...</td>\n",
       "      <td>United Rep. of Tanzania</td>\n",
       "      <td>NaN</td>\n",
       "      <td>18</td>\n",
       "      <td>Cocoa and cocoa preparations</td>\n",
       "      <td>0</td>\n",
       "      <td>NaN</td>\n",
       "      <td>NaN</td>\n",
       "      <td>0.0</td>\n",
       "      <td>2248</td>\n",
       "      <td>0</td>\n",
       "    </tr>\n",
       "    <tr>\n",
       "      <th>4</th>\n",
       "      <td>HS</td>\n",
       "      <td>2021</td>\n",
       "      <td>202102</td>\n",
       "      <td>February 2021</td>\n",
       "      <td>2</td>\n",
       "      <td>0</td>\n",
       "      <td>1</td>\n",
       "      <td>Imports</td>\n",
       "      <td>124</td>\n",
       "      <td>Canada</td>\n",
       "      <td>...</td>\n",
       "      <td>Singapore</td>\n",
       "      <td>NaN</td>\n",
       "      <td>18</td>\n",
       "      <td>Cocoa and cocoa preparations</td>\n",
       "      <td>0</td>\n",
       "      <td>NaN</td>\n",
       "      <td>NaN</td>\n",
       "      <td>0.0</td>\n",
       "      <td>47840</td>\n",
       "      <td>0</td>\n",
       "    </tr>\n",
       "    <tr>\n",
       "      <th>5</th>\n",
       "      <td>HS</td>\n",
       "      <td>2021</td>\n",
       "      <td>202102</td>\n",
       "      <td>February 2021</td>\n",
       "      <td>2</td>\n",
       "      <td>0</td>\n",
       "      <td>1</td>\n",
       "      <td>Imports</td>\n",
       "      <td>124</td>\n",
       "      <td>Canada</td>\n",
       "      <td>...</td>\n",
       "      <td>Viet Nam</td>\n",
       "      <td>NaN</td>\n",
       "      <td>18</td>\n",
       "      <td>Cocoa and cocoa preparations</td>\n",
       "      <td>0</td>\n",
       "      <td>NaN</td>\n",
       "      <td>NaN</td>\n",
       "      <td>0.0</td>\n",
       "      <td>3526</td>\n",
       "      <td>0</td>\n",
       "    </tr>\n",
       "    <tr>\n",
       "      <th>6</th>\n",
       "      <td>HS</td>\n",
       "      <td>2021</td>\n",
       "      <td>202102</td>\n",
       "      <td>February 2021</td>\n",
       "      <td>2</td>\n",
       "      <td>0</td>\n",
       "      <td>1</td>\n",
       "      <td>Imports</td>\n",
       "      <td>124</td>\n",
       "      <td>Canada</td>\n",
       "      <td>...</td>\n",
       "      <td>South Africa</td>\n",
       "      <td>NaN</td>\n",
       "      <td>18</td>\n",
       "      <td>Cocoa and cocoa preparations</td>\n",
       "      <td>0</td>\n",
       "      <td>NaN</td>\n",
       "      <td>NaN</td>\n",
       "      <td>0.0</td>\n",
       "      <td>5462</td>\n",
       "      <td>0</td>\n",
       "    </tr>\n",
       "    <tr>\n",
       "      <th>7</th>\n",
       "      <td>HS</td>\n",
       "      <td>2021</td>\n",
       "      <td>202102</td>\n",
       "      <td>February 2021</td>\n",
       "      <td>2</td>\n",
       "      <td>0</td>\n",
       "      <td>1</td>\n",
       "      <td>Imports</td>\n",
       "      <td>124</td>\n",
       "      <td>Canada</td>\n",
       "      <td>...</td>\n",
       "      <td>Spain</td>\n",
       "      <td>NaN</td>\n",
       "      <td>18</td>\n",
       "      <td>Cocoa and cocoa preparations</td>\n",
       "      <td>0</td>\n",
       "      <td>NaN</td>\n",
       "      <td>NaN</td>\n",
       "      <td>0.0</td>\n",
       "      <td>311425</td>\n",
       "      <td>0</td>\n",
       "    </tr>\n",
       "    <tr>\n",
       "      <th>8</th>\n",
       "      <td>HS</td>\n",
       "      <td>2021</td>\n",
       "      <td>202102</td>\n",
       "      <td>February 2021</td>\n",
       "      <td>2</td>\n",
       "      <td>0</td>\n",
       "      <td>1</td>\n",
       "      <td>Imports</td>\n",
       "      <td>124</td>\n",
       "      <td>Canada</td>\n",
       "      <td>...</td>\n",
       "      <td>Sweden</td>\n",
       "      <td>NaN</td>\n",
       "      <td>18</td>\n",
       "      <td>Cocoa and cocoa preparations</td>\n",
       "      <td>0</td>\n",
       "      <td>NaN</td>\n",
       "      <td>NaN</td>\n",
       "      <td>0.0</td>\n",
       "      <td>11786</td>\n",
       "      <td>0</td>\n",
       "    </tr>\n",
       "    <tr>\n",
       "      <th>9</th>\n",
       "      <td>HS</td>\n",
       "      <td>2021</td>\n",
       "      <td>202102</td>\n",
       "      <td>February 2021</td>\n",
       "      <td>2</td>\n",
       "      <td>0</td>\n",
       "      <td>1</td>\n",
       "      <td>Imports</td>\n",
       "      <td>124</td>\n",
       "      <td>Canada</td>\n",
       "      <td>...</td>\n",
       "      <td>Venezuela</td>\n",
       "      <td>NaN</td>\n",
       "      <td>18</td>\n",
       "      <td>Cocoa and cocoa preparations</td>\n",
       "      <td>0</td>\n",
       "      <td>NaN</td>\n",
       "      <td>NaN</td>\n",
       "      <td>0.0</td>\n",
       "      <td>33715</td>\n",
       "      <td>0</td>\n",
       "    </tr>\n",
       "  </tbody>\n",
       "</table>\n",
       "<p>10 rows × 22 columns</p>\n",
       "</div>"
      ],
      "text/plain": [
       "  Classification  Year  Period   Period Desc.  Aggregate Level  Is Leaf Code  \\\n",
       "0             HS  2021  202102  February 2021                4             0   \n",
       "1             HS  2021  202102  February 2021                2             0   \n",
       "2             HS  2021  202102  February 2021                2             0   \n",
       "3             HS  2021  202102  February 2021                2             0   \n",
       "4             HS  2021  202102  February 2021                2             0   \n",
       "5             HS  2021  202102  February 2021                2             0   \n",
       "6             HS  2021  202102  February 2021                2             0   \n",
       "7             HS  2021  202102  February 2021                2             0   \n",
       "8             HS  2021  202102  February 2021                2             0   \n",
       "9             HS  2021  202102  February 2021                2             0   \n",
       "\n",
       "   Trade Flow Code Trade Flow  Reporter Code Reporter  ...  \\\n",
       "0                1    Imports            124   Canada  ...   \n",
       "1                1    Imports            124   Canada  ...   \n",
       "2                1    Imports            124   Canada  ...   \n",
       "3                1    Imports            124   Canada  ...   \n",
       "4                1    Imports            124   Canada  ...   \n",
       "5                1    Imports            124   Canada  ...   \n",
       "6                1    Imports            124   Canada  ...   \n",
       "7                1    Imports            124   Canada  ...   \n",
       "8                1    Imports            124   Canada  ...   \n",
       "9                1    Imports            124   Canada  ...   \n",
       "\n",
       "                   Partner  Partner ISO Commodity Code  \\\n",
       "0          Other Asia, nes          NaN           6117   \n",
       "1                    Egypt          NaN             18   \n",
       "2           United Kingdom          NaN             18   \n",
       "3  United Rep. of Tanzania          NaN             18   \n",
       "4                Singapore          NaN             18   \n",
       "5                 Viet Nam          NaN             18   \n",
       "6             South Africa          NaN             18   \n",
       "7                    Spain          NaN             18   \n",
       "8                   Sweden          NaN             18   \n",
       "9                Venezuela          NaN             18   \n",
       "\n",
       "                                           Commodity Qty Unit Code Qty Unit  \\\n",
       "0  Clothing accessories; made up, knitted or croc...             0      NaN   \n",
       "1                       Cocoa and cocoa preparations             0      NaN   \n",
       "2                       Cocoa and cocoa preparations             0      NaN   \n",
       "3                       Cocoa and cocoa preparations             0      NaN   \n",
       "4                       Cocoa and cocoa preparations             0      NaN   \n",
       "5                       Cocoa and cocoa preparations             0      NaN   \n",
       "6                       Cocoa and cocoa preparations             0      NaN   \n",
       "7                       Cocoa and cocoa preparations             0      NaN   \n",
       "8                       Cocoa and cocoa preparations             0      NaN   \n",
       "9                       Cocoa and cocoa preparations             0      NaN   \n",
       "\n",
       "   Qty  Netweight (kg)  Trade Value (US$)  Flag  \n",
       "0  NaN             NaN               9285     0  \n",
       "1  NaN             0.0             116604     0  \n",
       "2  NaN             0.0            1495175     0  \n",
       "3  NaN             0.0               2248     0  \n",
       "4  NaN             0.0              47840     0  \n",
       "5  NaN             0.0               3526     0  \n",
       "6  NaN             0.0               5462     0  \n",
       "7  NaN             0.0             311425     0  \n",
       "8  NaN             0.0              11786     0  \n",
       "9  NaN             0.0              33715     0  \n",
       "\n",
       "[10 rows x 22 columns]"
      ]
     },
     "execution_count": 5,
     "metadata": {},
     "output_type": "execute_result"
    }
   ],
   "source": [
    "d.sample"
   ]
  },
  {
   "cell_type": "code",
   "execution_count": 24,
   "metadata": {},
   "outputs": [
    {
     "data": {
      "text/html": [
       "<syft.core.node.common.client_manager.dataset_api.Dataset object at 0x7fe7a175a970><br /><br /><b>Id: </b>d5175980-5734-42ed-bf5a-014e6bfd8fdd<br /><b>Tags: </b>[]<br /><b>Manifest: </b><br /><br /><div>\n",
       "<style scoped>\n",
       "    .dataframe tbody tr th:only-of-type {\n",
       "        vertical-align: middle;\n",
       "    }\n",
       "\n",
       "    .dataframe tbody tr th {\n",
       "        vertical-align: top;\n",
       "    }\n",
       "\n",
       "    .dataframe thead th {\n",
       "        text-align: right;\n",
       "    }\n",
       "</style>\n",
       "<table border=\"1\" class=\"dataframe\">\n",
       "  <thead>\n",
       "    <tr style=\"text-align: right;\">\n",
       "      <th></th>\n",
       "      <th>name</th>\n",
       "      <th>id</th>\n",
       "      <th>dtype</th>\n",
       "      <th>shape</th>\n",
       "    </tr>\n",
       "  </thead>\n",
       "  <tbody>\n",
       "    <tr>\n",
       "      <th>0</th>\n",
       "      <td>feb2021</td>\n",
       "      <td>35a1e8f5-9736-45fc-8544-6e9787bf5d87</td>\n",
       "      <td>DataFrame</td>\n",
       "      <td>(50000, 22)</td>\n",
       "    </tr>\n",
       "  </tbody>\n",
       "</table>\n",
       "</div>"
      ],
      "text/plain": [
       "<syft.core.node.common.client_manager.dataset_api.Dataset at 0x7fe7a175a970>"
      ]
     },
     "execution_count": 24,
     "metadata": {},
     "output_type": "execute_result"
    }
   ],
   "source": [
    "ca.datasets[0]\n"
   ]
  },
  {
   "cell_type": "code",
   "execution_count": 6,
   "metadata": {},
   "outputs": [],
   "source": [
    "# un = sy.login(email=\"info@openmined.org\", password=\"changethis\", port=8082)"
   ]
  },
  {
   "cell_type": "code",
   "execution_count": 4,
   "metadata": {},
   "outputs": [],
   "source": [
    "# ca.users.update(user_id=1, name=\"Bob\")\n",
    "# un.users.update(user_id=1, name=\"Alice\")"
   ]
  },
  {
   "cell_type": "code",
   "execution_count": 7,
   "metadata": {},
   "outputs": [
    {
     "data": {
      "text/html": [
       "<div>\n",
       "<style scoped>\n",
       "    .dataframe tbody tr th:only-of-type {\n",
       "        vertical-align: middle;\n",
       "    }\n",
       "\n",
       "    .dataframe tbody tr th {\n",
       "        vertical-align: top;\n",
       "    }\n",
       "\n",
       "    .dataframe thead th {\n",
       "        text-align: right;\n",
       "    }\n",
       "</style>\n",
       "<table border=\"1\" class=\"dataframe\">\n",
       "  <thead>\n",
       "    <tr style=\"text-align: right;\">\n",
       "      <th></th>\n",
       "      <th>id</th>\n",
       "      <th>email</th>\n",
       "      <th>name</th>\n",
       "      <th>verify_key</th>\n",
       "      <th>role</th>\n",
       "      <th>groups</th>\n",
       "    </tr>\n",
       "  </thead>\n",
       "  <tbody>\n",
       "    <tr>\n",
       "      <th>0</th>\n",
       "      <td>1</td>\n",
       "      <td>info@openmined.org</td>\n",
       "      <td>Alice</td>\n",
       "      <td>319dcebf3e86a43ab68d0d04cda50e345f50a8595c0be5...</td>\n",
       "      <td>Owner</td>\n",
       "      <td>[]</td>\n",
       "    </tr>\n",
       "  </tbody>\n",
       "</table>\n",
       "</div>"
      ],
      "text/plain": [
       "   id               email   name  \\\n",
       "0   1  info@openmined.org  Alice   \n",
       "\n",
       "                                          verify_key   role groups  \n",
       "0  319dcebf3e86a43ab68d0d04cda50e345f50a8595c0be5...  Owner     []  "
      ]
     },
     "execution_count": 7,
     "metadata": {},
     "output_type": "execute_result"
    }
   ],
   "source": [
    "un.users.all(pandas=True)"
   ]
  },
  {
   "cell_type": "code",
   "execution_count": null,
   "metadata": {},
   "outputs": [],
   "source": [
    "# us = sy.login(email=\"info@openmined.org\", password=\"changethis\", port=8082)\n",
    "# it = sy.login(email=\"info@openmined.org\", password=\"changethis\", port=8083)\n",
    "# ne = sy.login(email=\"info@openmined.org\", password=\"changethis\", port=8084)\n",
    "\n"
   ]
  },
  {
   "cell_type": "code",
   "execution_count": null,
   "metadata": {},
   "outputs": [],
   "source": []
  },
  {
   "cell_type": "code",
   "execution_count": 9,
   "metadata": {},
   "outputs": [],
   "source": [
    "y = p + p"
   ]
  },
  {
   "cell_type": "code",
   "execution_count": 10,
   "metadata": {},
   "outputs": [
    {
     "name": "stderr",
     "output_type": "stream",
     "text": [
      "[2021-06-30T16:06:51.320382+0000][CRITICAL][logger]][207] UnknownPrivateException has been triggered.\n"
     ]
    },
    {
     "ename": "UnknownPrivateException",
     "evalue": "UnknownPrivateException has been triggered.",
     "output_type": "error",
     "traceback": [
      "\u001b[0;31m---------------------------------------------------------------------------\u001b[0m",
      "\u001b[0;31mUnknownPrivateException\u001b[0m                   Traceback (most recent call last)",
      "\u001b[0;32m<ipython-input-10-6a1ae60e7003>\u001b[0m in \u001b[0;36m<module>\u001b[0;34m\u001b[0m\n\u001b[0;32m----> 1\u001b[0;31m \u001b[0my\u001b[0m\u001b[0;34m.\u001b[0m\u001b[0mget\u001b[0m\u001b[0;34m(\u001b[0m\u001b[0;34m)\u001b[0m\u001b[0;34m\u001b[0m\u001b[0;34m\u001b[0m\u001b[0m\n\u001b[0m",
      "\u001b[0;32m/app/syft/src/syft/core/pointer/pointer.py\u001b[0m in \u001b[0;36mget\u001b[0;34m(self, request_block, timeout_secs, reason, delete_obj, verbose)\u001b[0m\n\u001b[1;32m    269\u001b[0m \u001b[0;34m\u001b[0m\u001b[0m\n\u001b[1;32m    270\u001b[0m         \u001b[0;32mif\u001b[0m \u001b[0;32mnot\u001b[0m \u001b[0mrequest_block\u001b[0m\u001b[0;34m:\u001b[0m\u001b[0;34m\u001b[0m\u001b[0;34m\u001b[0m\u001b[0m\n\u001b[0;32m--> 271\u001b[0;31m             \u001b[0mresult\u001b[0m \u001b[0;34m=\u001b[0m \u001b[0mself\u001b[0m\u001b[0;34m.\u001b[0m\u001b[0m_get\u001b[0m\u001b[0;34m(\u001b[0m\u001b[0mdelete_obj\u001b[0m\u001b[0;34m=\u001b[0m\u001b[0mdelete_obj\u001b[0m\u001b[0;34m,\u001b[0m \u001b[0mverbose\u001b[0m\u001b[0;34m=\u001b[0m\u001b[0mverbose\u001b[0m\u001b[0;34m)\u001b[0m\u001b[0;34m\u001b[0m\u001b[0;34m\u001b[0m\u001b[0m\n\u001b[0m\u001b[1;32m    272\u001b[0m         \u001b[0;32melse\u001b[0m\u001b[0;34m:\u001b[0m\u001b[0;34m\u001b[0m\u001b[0;34m\u001b[0m\u001b[0m\n\u001b[1;32m    273\u001b[0m             response_status = self.request(\n",
      "\u001b[0;32m/app/syft/src/syft/core/pointer/pointer.py\u001b[0m in \u001b[0;36m_get\u001b[0;34m(self, delete_obj, verbose)\u001b[0m\n\u001b[1;32m    177\u001b[0m         )\n\u001b[1;32m    178\u001b[0m \u001b[0;34m\u001b[0m\u001b[0m\n\u001b[0;32m--> 179\u001b[0;31m         \u001b[0mobj\u001b[0m \u001b[0;34m=\u001b[0m \u001b[0mself\u001b[0m\u001b[0;34m.\u001b[0m\u001b[0mclient\u001b[0m\u001b[0;34m.\u001b[0m\u001b[0msend_immediate_msg_with_reply\u001b[0m\u001b[0;34m(\u001b[0m\u001b[0mmsg\u001b[0m\u001b[0;34m=\u001b[0m\u001b[0mobj_msg\u001b[0m\u001b[0;34m)\u001b[0m\u001b[0;34m.\u001b[0m\u001b[0mdata\u001b[0m\u001b[0;34m\u001b[0m\u001b[0;34m\u001b[0m\u001b[0m\n\u001b[0m\u001b[1;32m    180\u001b[0m         \u001b[0;32mif\u001b[0m \u001b[0mself\u001b[0m\u001b[0;34m.\u001b[0m\u001b[0mis_enum\u001b[0m\u001b[0;34m:\u001b[0m\u001b[0;34m\u001b[0m\u001b[0;34m\u001b[0m\u001b[0m\n\u001b[1;32m    181\u001b[0m             \u001b[0menum_class\u001b[0m \u001b[0;34m=\u001b[0m \u001b[0mself\u001b[0m\u001b[0;34m.\u001b[0m\u001b[0mclient\u001b[0m\u001b[0;34m.\u001b[0m\u001b[0mlib_ast\u001b[0m\u001b[0;34m.\u001b[0m\u001b[0mquery\u001b[0m\u001b[0;34m(\u001b[0m\u001b[0mself\u001b[0m\u001b[0;34m.\u001b[0m\u001b[0mpath_and_name\u001b[0m\u001b[0;34m)\u001b[0m\u001b[0;34m.\u001b[0m\u001b[0mobject_ref\u001b[0m\u001b[0;34m\u001b[0m\u001b[0;34m\u001b[0m\u001b[0m\n",
      "\u001b[0;32m/app/syft/src/syft/grid/client/client.py\u001b[0m in \u001b[0;36msend_immediate_msg_with_reply\u001b[0;34m(self, msg, route_index)\u001b[0m\n\u001b[1;32m    167\u001b[0m     ]:\n\u001b[1;32m    168\u001b[0m         return super(GridClient, self).send_immediate_msg_with_reply(  # type: ignore\n\u001b[0;32m--> 169\u001b[0;31m             \u001b[0mmsg\u001b[0m\u001b[0;34m=\u001b[0m\u001b[0mmsg\u001b[0m\u001b[0;34m,\u001b[0m \u001b[0mroute_index\u001b[0m\u001b[0;34m=\u001b[0m\u001b[0mroute_index\u001b[0m\u001b[0;34m\u001b[0m\u001b[0;34m\u001b[0m\u001b[0m\n\u001b[0m\u001b[1;32m    170\u001b[0m         )\n\u001b[1;32m    171\u001b[0m \u001b[0;34m\u001b[0m\u001b[0m\n",
      "\u001b[0;32m/app/syft/src/syft/core/node/common/client.py\u001b[0m in \u001b[0;36msend_immediate_msg_with_reply\u001b[0;34m(self, msg, route_index)\u001b[0m\n\u001b[1;32m    234\u001b[0m                 \u001b[0mexception\u001b[0m \u001b[0;34m=\u001b[0m \u001b[0mexception_msg\u001b[0m\u001b[0;34m.\u001b[0m\u001b[0mexception_type\u001b[0m\u001b[0;34m(\u001b[0m\u001b[0mexception_msg\u001b[0m\u001b[0;34m.\u001b[0m\u001b[0mexception_msg\u001b[0m\u001b[0;34m)\u001b[0m\u001b[0;34m\u001b[0m\u001b[0;34m\u001b[0m\u001b[0m\n\u001b[1;32m    235\u001b[0m                 \u001b[0merror\u001b[0m\u001b[0;34m(\u001b[0m\u001b[0mstr\u001b[0m\u001b[0;34m(\u001b[0m\u001b[0mexception\u001b[0m\u001b[0;34m)\u001b[0m\u001b[0;34m)\u001b[0m\u001b[0;34m\u001b[0m\u001b[0;34m\u001b[0m\u001b[0m\n\u001b[0;32m--> 236\u001b[0;31m                 \u001b[0mtraceback_and_raise\u001b[0m\u001b[0;34m(\u001b[0m\u001b[0mexception\u001b[0m\u001b[0;34m)\u001b[0m\u001b[0;34m\u001b[0m\u001b[0;34m\u001b[0m\u001b[0m\n\u001b[0m\u001b[1;32m    237\u001b[0m             \u001b[0;32melse\u001b[0m\u001b[0;34m:\u001b[0m\u001b[0;34m\u001b[0m\u001b[0;34m\u001b[0m\u001b[0m\n\u001b[1;32m    238\u001b[0m                 \u001b[0;32mreturn\u001b[0m \u001b[0mresponse\u001b[0m\u001b[0;34m.\u001b[0m\u001b[0mmessage\u001b[0m\u001b[0;34m\u001b[0m\u001b[0;34m\u001b[0m\u001b[0m\n",
      "\u001b[0;32m/app/syft/src/syft/logger.py\u001b[0m in \u001b[0;36mtraceback_and_raise\u001b[0;34m(e, verbose)\u001b[0m\n\u001b[1;32m     59\u001b[0m     \u001b[0;32mif\u001b[0m \u001b[0;32mnot\u001b[0m \u001b[0missubclass\u001b[0m\u001b[0;34m(\u001b[0m\u001b[0mtype\u001b[0m\u001b[0;34m(\u001b[0m\u001b[0me\u001b[0m\u001b[0;34m)\u001b[0m\u001b[0;34m,\u001b[0m \u001b[0mException\u001b[0m\u001b[0;34m)\u001b[0m\u001b[0;34m:\u001b[0m\u001b[0;34m\u001b[0m\u001b[0;34m\u001b[0m\u001b[0m\n\u001b[1;32m     60\u001b[0m         \u001b[0me\u001b[0m \u001b[0;34m=\u001b[0m \u001b[0mException\u001b[0m\u001b[0;34m(\u001b[0m\u001b[0me\u001b[0m\u001b[0;34m)\u001b[0m\u001b[0;34m\u001b[0m\u001b[0;34m\u001b[0m\u001b[0m\n\u001b[0;32m---> 61\u001b[0;31m     \u001b[0;32mraise\u001b[0m \u001b[0me\u001b[0m\u001b[0;34m\u001b[0m\u001b[0;34m\u001b[0m\u001b[0m\n\u001b[0m\u001b[1;32m     62\u001b[0m \u001b[0;34m\u001b[0m\u001b[0m\n\u001b[1;32m     63\u001b[0m \u001b[0;34m\u001b[0m\u001b[0m\n",
      "\u001b[0;31mUnknownPrivateException\u001b[0m: UnknownPrivateException has been triggered."
     ]
    }
   ],
   "source": [
    "y.get()"
   ]
  },
  {
   "cell_type": "code",
   "execution_count": null,
   "metadata": {},
   "outputs": [],
   "source": []
  }
 ],
 "metadata": {
  "kernelspec": {
   "display_name": "Python 3 (ipykernel)",
   "language": "python",
   "name": "python3"
  },
  "language_info": {
   "codemirror_mode": {
    "name": "ipython",
    "version": 3
   },
   "file_extension": ".py",
   "mimetype": "text/x-python",
   "name": "python",
   "nbconvert_exporter": "python",
   "pygments_lexer": "ipython3",
   "version": "3.9.5"
  }
 },
 "nbformat": 4,
 "nbformat_minor": 4
}

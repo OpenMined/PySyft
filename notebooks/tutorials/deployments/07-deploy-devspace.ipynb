{
 "cells": [
  {
   "cell_type": "markdown",
   "metadata": {},
   "source": [
    "# Developing over PySyft\n",
    "This guide is meant for developers trying to deploy PySyft locally on a Kubernetes cluster. PySyft is a powerful framework for privacy-preserving data analysis and machine learning, and deploying it on Kubernetes allows an easy way to quickly try out the full PySyft stack on your own system. This guide will walk you through the process step by step. \n",
    "\n",
    "Follow [00-deployment-types.ipynb](./00-deployment-types.ipynb) for other deployment options and an overview of different deployment types."
   ]
  },
  {
   "cell_type": "markdown",
   "metadata": {
    "vscode": {
     "languageId": "plaintext"
    }
   },
   "source": [
    "## Prerequisites\n",
    "Before we begin, ensure you have the following prerequisites installed on your system. You may need a package management systems like [brew](https://brew.sh/) for installation of dependencies and packages. \n",
    "* [devspace](https://www.devspace.sh/docs/getting-started/installation?x0=3): DevSpace lets you automate all build and deployment steps and enables interactive modification.\n",
    "* [Docker](https://docs.docker.com/install/): Docker is required to create and manage containers.\n",
    "* [kubectl](https://kubernetes.io/docs/tasks/tools/#kubectl): kubectl is the command-line tool for interacting with Kubernetes clusters.\n",
    "* [k3d](https://k3d.io/v5.6.3/#installation): k3d is used to create local Kubernetes clusters.\n",
    "* [tox](https://pypi.org/project/tox/): We use tox as a command executor. \n",
    "* [uv](): This allows for faster tox environment builds and speeds up dev time. "
   ]
  },
  {
   "cell_type": "markdown",
   "metadata": {
    "vscode": {
     "languageId": "plaintext"
    }
   },
   "source": [
    "## Dev Environment set-up"
   ]
  },
  {
   "cell_type": "markdown",
   "metadata": {
    "vscode": {
     "languageId": "plaintext"
    }
   },
   "source": [
    "In order to perform an isolated setup, create a virtual environment. Below are some instructions to get started (example `environment.yml` and `requirements.txt` file are [provided below](#dependency-files)):\n",
    "| Conda | Venv |\n",
    "|:---|:---|\n",
    "| 1. Create  `environment.yml`  with name  `syft-dev`  <br /> 2. Run  `conda env create -f environment.yml`  <br /> 3. Run  `conda activate syft-dev` | 1. Create a  `requirements.txt`  file <br /> 2. Run  `python -m venv syft-dev`  <br /> 3. Run  `.\\syft-dev\\Scripts\\activate`  for Windows or <br />  `source syft-dev/bin/activate`  for Mac/Linux <br /> 4.  `pip install -r requirements.txt`  <br /> 5. `pip install -e \"packages/syft[ dev ]\"` |\n",
    "\n",
    "If you would like to do a non-isolated install then install the dependencies using [brew](https://brew.sh/) as follows:   \n",
    "* `brew install helm devspace k9s k3d`\n",
    "* `pip install -e 'packages/syft[dev]'`"
   ]
  },
  {
   "cell_type": "markdown",
   "metadata": {
    "vscode": {
     "languageId": "plaintext"
    }
   },
   "source": [
    "## Running the k8s cluster\n",
    "\n",
    "We have a number of tox commands that help with the setup of the local k8s cluster.\n",
    "\n",
    "* For starting the cluster & registry (run this once initially or after every hard reset)\n",
    "    - `tox -e dev.k8s.start` to start a local registry + cluster and patch hosts file\n",
    "* For deploying syft (run this each time you update the code or helm charts)\n",
    "    - `tox -e dev.k8s.deploy` to deploy syft on the cluster\n",
    "    - `tox -e dev.k8s.hotreload` to deploy syft on the cluster with hot reloading and port forwards (run once and keep editing that code)\n",
    "* For cleaning up (run as required)\n",
    "    - `tox -e dev.k8s.cleanup` only removes the syft deployment but keep the cluster running (soft reset, re-run using `dev.k8s.deploy`)\n",
    "    - `tox -e dev.k8s.destroy` deletes the syft deployment, cluster, but keeps the registry running (mid reset, re-run using `dev.k8s.start`)\n",
    "    - `tox -e dev.k8s.destroyall` deletes the syft deployment, cluster and registry (hard reset, run re-run using `dev.k8s.start`)\n",
    "\n",
    "You can use the command `k9s` or `lazydocker` (will require installing lazydocker) to view your cluster.\n",
    "\n",
    "\n",
    "#### Launching Different Node Types\n",
    "Alternatively, you can also use the following commands to launch different node types:\n",
    "* Launching a Domain: `CLUSTER_NAME=testdomain1 CLUSTER_HTTP_PORT=9082 tox -e dev.k8s.launch.domain`\n",
    "* Launching a Gateway: `CLUSTER_NAME=testgateway1 CLUSTER_HTTP_PORT=9081 tox -e dev.k8s.launch.gateway`\n",
    "* Launching a Enclave: `CLUSTER_NAME=testenclave1 CLUSTER_HTTP_PORT=9083 tox -e dev.k8s.launch.enclave`\n",
    "* Launching Nodes with `hotreload` using tox posargs: `tox -e dev.k8s.launch.domain -- hotreload`"
   ]
  },
  {
   "cell_type": "markdown",
   "metadata": {},
   "source": [
    "## Next Steps\n",
    "Congratulations! You have successfully deployed PySyft on your local Kubernetes cluster. Now, you can explore its capabilities and use cases through our API example notebooks:\n",
    "\n",
    "📝 [API Example Notebooks](../../api)\n",
    "- [00-load-data.ipynb](../../api/0.8/00-load-data.ipynb)\n",
    "- [01-submit-code.ipynb](../../api/0.8/01-submit-code.ipynb)\n",
    "- [02-review-code-and-approve.ipynb](../../api/0.8/02-review-code-and-approve.ipynb)\n",
    "- [03-data-scientist-download-result.ipynb](../../api/0.8/03-data-scientist-download-result.ipynb)\n",
    "- [04-jax-example.ipynb](../../api/0.8/04-jax-example.ipynb)\n",
    "- [05-custom-policy.ipynb](../../api/0.8/05-custom-policy.ipynb)\n",
    "- [06-multiple-code-requests.ipynb](../../api/0.8/06-multiple-code-requests.ipynb)\n",
    "- [07-domain-register-control-flow.ipynb](../../api/0.8/07-domain-register-control-flow.ipynb)\n",
    "- [08-code-version.ipynb](../../api/0.8/08-code-version.ipynb)\n",
    "- [09-blob-storage.ipynb](../../api/0.8/09-blob-storage.ipynb)\n",
    "- [10-container-images.ipynb](../../api/0.8/10-container-images.ipynb)\n",
    "- [11-container-images-k8s.ipynb](../../api/0.8/11-container-images-k8s.ipynb)\n",
    "\n",
    "Feel free to explore these notebooks to get started with PySyft and unlock its full potential for privacy-preserving machine learning!"
   ]
  },
  {
   "cell_type": "markdown",
   "metadata": {},
   "source": [
    "## Dependency files\n",
    "Example `environment.yml` and `requirement.txt` files:\n",
    "\n",
    "| Conda | Venv |\n",
    "|:---|:---|\n",
    "| `environment.yml`<br /> <pre>name: syft-dev<br />channels:<br />  - conda-forge<br />dependencies:<br />  - python=3.12<br />  - jupyter<br />  - ipython<br />  - ipykernel<br />  - pandas<br />  - pre-commit<br />  - black<br />  - mypy<br />  - flake8<br />  - ruff<br />  - isort<br />  - pip<br />  - pip:<br />    - pipdeptree<br />    - johnnydep<br />    - tox<br />    - tox-uv<br />    - uvloop <br />    - \"-e packages/syft[dev]\"<pre> | `requirements.txt` <br /> <pre> # Standard dependencies<br /> jupyter<br /> ipython<br /> ipykernel<br /> pandas<br /> pre-commit<br /> black<br /> mypy<br /> flake8<br /> ruff<br /> isort<br /> <br /> # Pip dependencies<br /> pipdeptree<br /> johnnydep<br /> tox<br /> tox-uv<br /> uvloop<pre> |\n"
   ]
  }
 ],
 "metadata": {
  "language_info": {
   "name": "python"
  }
 },
 "nbformat": 4,
 "nbformat_minor": 2
}

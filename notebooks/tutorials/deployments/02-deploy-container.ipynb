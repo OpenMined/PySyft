{
 "cells": [
  {
   "cell_type": "markdown",
   "metadata": {},
   "source": [
    "# Single container deployment"
   ]
  },
  {
   "cell_type": "markdown",
   "metadata": {
    "vscode": {
     "languageId": "plaintext"
    }
   },
   "source": [
    "## Introduction\n",
    "\n",
    "In this deployment, PySyft is encapsulated within a single Docker container, providing better isolation and portability compared to the local Python deployment.\n",
    "\n",
    "**Recommended For:**\n",
    "- Resource-constrained systems with Docker support.\n",
    "- Standardizing PySyft deployment across different environments."
   ]
  },
  {
   "cell_type": "markdown",
   "metadata": {},
   "source": [
    "## Prerequisites\n",
    "Before we begin, ensure you have [Docker](https://docs.docker.com/install/) installed on your system."
   ]
  },
  {
   "cell_type": "markdown",
   "metadata": {},
   "source": [
    "## Deployment steps\n",
    "\n",
    "You can execute the below command in your terminal to run the PySyft stack within a single docker container on port `8080`."
   ]
  },
  {
   "cell_type": "markdown",
   "metadata": {},
   "source": [
    "#### Set Your Preferred Syft  Version\n",
    "\n",
    "```sh\n",
    "SYFT_VERSION=\"<paste the syft version number>\"\n",
    "```"
   ]
  },
  {
   "cell_type": "markdown",
   "metadata": {},
   "source": [
    "``` bash\n",
    "docker run -it \\\n",
    "    -e SERVER_NAME=syft-example-datasite-1 \\\n",
    "    -e SERVER_TYPE=datasite \\\n",
    "    -e N_CONSUMERS=1 \\\n",
    "    -e SINGLE_CONTAINER_MODE=true \\\n",
    "    -e CREATE_PRODUCER=true \\\n",
    "    -e INMEMORY_WORKERS=true \\\n",
    "    -p 8080:80 --add-host=host.docker.internal:host-gateway \\\n",
    "    --name syft-example-datasite-1 openmined/syft-backend:$SYFT_VERSION\n",
    "```"
   ]
  },
  {
   "cell_type": "markdown",
   "metadata": {},
   "source": [
    "## Working with the single container deployment\n",
    "\n",
    "PySyft makes it very simple to connect to any existing Syft cluster by providing the `sy.orchestra` interface. You can connect to the datasite by executing these steps in your jupyter notebook:"
   ]
  },
  {
   "cell_type": "markdown",
   "metadata": {},
   "source": [
    "```python3\n",
    "# syft absolute\n",
    "import syft as sy\n",
    "\n",
    "server = sy.orchestra.launch(name=\"syft-example-datasite-1\", deploy_to=\"remote\")\n",
    "```"
   ]
  },
  {
   "cell_type": "markdown",
   "metadata": {},
   "source": [
    "This will return a server handle by connecting to `http://localhost:8080` which is the default host and port where your docker container  will be running. You can connect to a different host and port by setting the environment variables `SERVER_URL` and `SERVER_PORT`.\n",
    "```python\n",
    "import os\n",
    "\n",
    "os.environ[\"SERVER_URL\"] = \"<http://CUSTOM-HOST>\"\n",
    "os.environ[\"SERVER_PORT\"] = \"<CUSTOM-PORT-NUMBER>\"\n",
    "```"
   ]
  },
  {
   "cell_type": "markdown",
   "metadata": {},
   "source": [
    "Now, we are ready to start using the datasite. The datasite comes with default login credentials for the admin."
   ]
  },
  {
   "cell_type": "markdown",
   "metadata": {},
   "source": [
    "```python3\n",
    "client = server.login(email=\"info@openmined.org\", password=\"changethis\")\n",
    "```"
   ]
  },
  {
   "cell_type": "markdown",
   "metadata": {},
   "source": [
    "Once you are logged in, you are ready to start using the datasite, for instance for creating a dataset (this one is empty, just as a example)."
   ]
  },
  {
   "cell_type": "markdown",
   "metadata": {},
   "source": [
    "```python3\n",
    "dataset = sy.Dataset(name=\"my dataset\", asset_list=[])\n",
    "client.upload_dataset(dataset)\n",
    "```"
   ]
  },
  {
   "cell_type": "markdown",
   "metadata": {},
   "source": [
    "## Next Steps\n",
    "Congratulations! You have successfully deployed PySyft on your local Kubernetes cluster. Now, you can explore its capabilities and use cases through our API example notebooks:\n",
    "\n",
    "📝 [API Example Notebooks](../../api)\n",
    "- [00-load-data.ipynb](../../api/0.8/00-load-data.ipynb)\n",
    "- [01-submit-code.ipynb](../../api/0.8/01-submit-code.ipynb)\n",
    "- [02-review-code-and-approve.ipynb](../../api/0.8/02-review-code-and-approve.ipynb)\n",
    "- [03-data-scientist-download-result.ipynb](../../api/0.8/03-data-scientist-download-result.ipynb)\n",
    "- [04-pytorch-example.ipynb](../../api/0.8/04-pytorch-example.ipynb)\n",
    "- [05-custom-policy.ipynb](../../api/0.8/05-custom-policy.ipynb)\n",
    "- [06-multiple-code-requests.ipynb](../../api/0.8/06-multiple-code-requests.ipynb)\n",
    "- [07-datasite-register-control-flow.ipynb](../../api/0.8/07-datasite-register-control-flow.ipynb)\n",
    "- [08-code-version.ipynb](../../api/0.8/08-code-version.ipynb)\n",
    "- [09-blob-storage.ipynb](../../api/0.8/09-blob-storage.ipynb)\n",
    "- [10-container-images.ipynb](../../api/0.8/10-container-images.ipynb)\n",
    "- [11-container-images-k8s.ipynb](../../api/0.8/11-container-images-k8s.ipynb)\n",
    "\n",
    "Feel free to explore these notebooks to get started with PySyft and unlock its full potential for privacy-preserving machine learning!"
   ]
  }
 ],
 "metadata": {
  "language_info": {
   "name": "python"
  }
 },
 "nbformat": 4,
 "nbformat_minor": 2
}

{
 "cells": [
  {
   "cell_type": "markdown",
   "metadata": {},
   "source": [
    "# Local in-memory python deployment"
   ]
  },
  {
   "cell_type": "markdown",
   "metadata": {},
   "source": [
    "## Introduction\n",
    "\n",
    "One of the quickest way to try out PySyft is to install the pre-built python package on your local environment using pip. The python package is lightweight and runs the PySyft stack in-memory.\n",
    "\n",
    "**Recommended For:**\n",
    "- Development and testing on resource-constrained systems without Docker support.\n",
    "- Rapid experimentation with PySyft APIs."
   ]
  },
  {
   "cell_type": "markdown",
   "metadata": {},
   "source": [
    "## Prerequisites\n",
    "Before we begin, ensure you have the following prerequisites installed on your system:\n",
    "1. Python (3.10 - 3.12)\n",
    "2. pip (or uv)\n",
    "3. venv (optional, but recommended)"
   ]
  },
  {
   "cell_type": "markdown",
   "metadata": {},
   "source": [
    "# Deployment Steps"
   ]
  },
  {
   "cell_type": "markdown",
   "metadata": {},
   "source": [
    "## Installing Syft\n",
    "1. Create and activate a python virtual environment (Optional, but recommended)\n",
    "    ```bash\n",
    "    python -m venv venv/\n",
    "    source venv/bin/activate\n",
    "    ```\n",
    "\n",
    "2. Install PySyft\n",
    "    ```bash\n",
    "    pip install syft\n",
    "    ```"
   ]
  },
  {
   "cell_type": "markdown",
   "metadata": {},
   "source": [
    "## Working with Python Domain\n",
    "\n",
    "`PySyft` makes it very easy to develop against a domain in a notebook by providing the `sy.orchestra` interface. It allows you to start a domain with a webserver in a notebook in the background, which is a lightweight version of a Domain that would be used in production. You can specify options such as what kind of database you are using, whether you want to use networking and how many processes you want to use. You can launch a Domain by simply executing:"
   ]
  },
  {
   "cell_type": "code",
   "execution_count": null,
   "metadata": {},
   "outputs": [],
   "source": [
    "# syft absolute\n",
    "import syft as sy"
   ]
  },
  {
   "cell_type": "code",
   "execution_count": null,
   "metadata": {},
   "outputs": [],
   "source": [
    "node = sy.orchestra.launch(\n",
    "    name=\"dev-mode-example-domain-1\", port=8020, reset=True, dev_mode=True\n",
    ")"
   ]
  },
  {
   "cell_type": "markdown",
   "metadata": {},
   "source": [
    "If we don't need a webserver (for development this is true in many cases), we can omit the port and instead use\n",
    "\n",
    "```python\n",
    "node = sy.orchestra.launch(name=\"dev-mode-example-domain-1\", dev_mode=True, reset=True)\n",
    "```\n",
    "\n",
    "One of the benefits of not using a port is that you can use a debugger and set breakpoints within api calls. This makes debugging way faster in many cases.\n",
    "\n",
    "Now, we are ready to start using the domain. The domain comes with test login credentials for the admin."
   ]
  },
  {
   "cell_type": "code",
   "execution_count": null,
   "metadata": {},
   "outputs": [],
   "source": [
    "client = node.login(email=\"info@openmined.org\", password=\"changethis\")"
   ]
  },
  {
   "cell_type": "markdown",
   "metadata": {},
   "source": [
    "Once you are logged in, you are ready to start using the domain, for instance for creating a dataset (this one is empty, just as a example)."
   ]
  },
  {
   "cell_type": "code",
   "execution_count": null,
   "metadata": {},
   "outputs": [],
   "source": [
    "dataset = sy.Dataset(name=\"my dataset\", asset_list=[])\n",
    "client.upload_dataset(dataset)"
   ]
  },
  {
   "cell_type": "markdown",
   "metadata": {},
   "source": [
    "Lastly to stop or terminate your Domain, we can execute the following command:"
   ]
  },
  {
   "cell_type": "code",
   "execution_count": null,
   "metadata": {},
   "outputs": [],
   "source": [
    "node.land()"
   ]
  },
  {
   "cell_type": "markdown",
   "metadata": {},
   "source": [
    "## Next Steps\n",
    "Congratulations! You have successfully deployed a local in-memory PySyft stack using python. Now, you can explore its capabilities and use cases through our API example notebooks:\n",
    "\n",
    "📝 [API Example Notebooks](../../api)\n",
    "- [00-load-data.ipynb](../../api/0.8/00-load-data.ipynb)\n",
    "- [01-submit-code.ipynb](../../api/0.8/01-submit-code.ipynb)\n",
    "- [02-review-code-and-approve.ipynb](../../api/0.8/02-review-code-and-approve.ipynb)\n",
    "- [03-data-scientist-download-result.ipynb](../../api/0.8/03-data-scientist-download-result.ipynb)\n",
    "- [04-jax-example.ipynb](../../api/0.8/04-jax-example.ipynb)\n",
    "- [05-custom-policy.ipynb](../../api/0.8/05-custom-policy.ipynb)\n",
    "- [06-multiple-code-requests.ipynb](../../api/0.8/06-multiple-code-requests.ipynb)\n",
    "- [07-domain-register-control-flow.ipynb](../../api/0.8/07-domain-register-control-flow.ipynb)\n",
    "- [08-code-version.ipynb](../../api/0.8/08-code-version.ipynb)\n",
    "- [09-blob-storage.ipynb](../../api/0.8/09-blob-storage.ipynb)\n",
    "- [10-container-images.ipynb](../../api/0.8/10-container-images.ipynb)\n",
    "- [11-container-images-k8s.ipynb](../../api/0.8/11-container-images-k8s.ipynb)\n",
    "\n",
    "Feel free to explore these notebooks to get started with PySyft and unlock its full potential for privacy-preserving machine learning!"
   ]
  }
 ],
 "metadata": {
  "kernelspec": {
   "display_name": "PySyft",
   "language": "python",
   "name": "python3"
  },
  "language_info": {
   "codemirror_mode": {
    "name": "ipython",
    "version": 3
   },
   "file_extension": ".py",
   "mimetype": "text/x-python",
   "name": "python",
   "nbconvert_exporter": "python",
   "pygments_lexer": "ipython3",
   "version": "3.11.7"
  }
 },
 "nbformat": 4,
 "nbformat_minor": 2
}

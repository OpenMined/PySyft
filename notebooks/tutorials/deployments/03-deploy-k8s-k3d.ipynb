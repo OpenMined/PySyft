{
 "cells": [
  {
   "cell_type": "markdown",
   "metadata": {},
   "source": [
    "# Deploying PySyft on a Local Kubernetes Cluster"
   ]
  },
  {
   "cell_type": "markdown",
   "metadata": {
    "vscode": {
     "languageId": "plaintext"
    }
   },
   "source": [
    "## Introduction\n",
    "Welcome to our quick start guide for deploying PySyft on a local Kubernetes cluster! PySyft is a powerful framework for privacy-preserving machine learning, and deploying it on Kubernetes allows an easy way to quickly try out the full PySyft stack on your own system. This guide will walk you through the process step by step."
   ]
  },
  {
   "cell_type": "markdown",
   "metadata": {
    "vscode": {
     "languageId": "plaintext"
    }
   },
   "source": [
    "## Prerequisites\n",
    "Before we begin, ensure you have the following prerequisites installed on your system:\n",
    "1. [Docker](https://docs.docker.com/install/): Docker is required to create and manage containers.\n",
    "2. [kubectl](https://kubernetes.io/docs/tasks/tools/#kubectl): kubectl is the command-line tool for interacting with Kubernetes clusters.\n",
    "3. [k3d](https://k3d.io/v5.6.3/#installation): k3d is used to create local Kubernetes clusters.\n",
    "4. [Helm](https://helm.sh/docs/intro/install/): Helm is the package manager for Kubernetes, used to install and manage applications on Kubernetes clusters."
   ]
  },
  {
   "cell_type": "markdown",
   "metadata": {},
   "source": [
    "## Deployment Steps\n",
    "\n",
    "### 1. Create a Local Kubernetes Cluster\n",
    "First, create a local Kubernetes cluster named \"syft\" using k3d:\n",
    "```sh\n",
    "k3d cluster create syft -p \"8080:80@loadbalancer\"\n",
    "```\n",
    "\n",
    "### 2. Add and Update Helm Repo for Syft\n",
    "Add the Helm repository for PySyft and update it:\n",
    "```sh\n",
    "helm repo add openmined https://openmined.github.io/PySyft/helm\n",
    "helm repo update openmined\n",
    "```\n",
    "\n",
    "### 3. Search for Available Syft Versions\n",
    "Explore available versions of PySyft using Helm:\n",
    "```sh\n",
    "helm search repo openmined/syft --versions --devel\n",
    "```\n",
    "\n",
    "### 4. Set Your Preferred Syft Chart Version\n",
    "Set the version of PySyft you want to install:\n",
    "```sh\n",
    "SYFT_VERSION=\"<paste the chart version number>\"\n",
    "```\n",
    "\n",
    "### 5. Provision Helm Charts\n",
    "Install PySyft on the Kubernetes cluster with your preferred version:\n",
    "```sh\n",
    "helm install my-syft openmined/syft --version $SYFT_VERSION --namespace syft --create-namespace --set ingress.className=\"traefik\"\n",
    "```"
   ]
  },
  {
   "cell_type": "markdown",
   "metadata": {
    "vscode": {
     "languageId": "plaintext"
    }
   },
   "source": [
    "## Working with the local Kubernetes deployment\n",
    "\n",
    "PySyft makes it very simple to connect to your existing Syft cluster by providing the `sy.orchestra` interface. You can connect to the domain by executing these steps in your jupyter notebook:"
   ]
  },
  {
   "cell_type": "markdown",
   "metadata": {},
   "source": [
    "```python3\n",
    "# syft absolute\n",
    "import syft as sy\n",
    "\n",
    "node = sy.orchestra.launch(name=\"syft-example-domain-1\", deploy_to=\"remote\")\n",
    "```"
   ]
  },
  {
   "cell_type": "markdown",
   "metadata": {},
   "source": [
    "This will return a node handle by connecting to `http://localhost:8080` which is the default host and port where your kubernetes cluster will be running. You can connect to a different host and port by setting the environment variables `NODE_URL` and `NODE_PORT`.\n",
    "```python\n",
    "import os\n",
    "\n",
    "os.environ[\"NODE_URL\"] = \"<http://CUSTOM-HOST>\"\n",
    "os.environ[\"NODE_PORT\"] = \"<CUSTOM-PORT-NUMBER>\"\n",
    "```"
   ]
  },
  {
   "cell_type": "markdown",
   "metadata": {},
   "source": [
    "Now, we are ready to start using the domain. The domain comes with default login credentials for the admin."
   ]
  },
  {
   "cell_type": "markdown",
   "metadata": {},
   "source": [
    "```python3\n",
    "client = node.login(email=\"info@openmined.org\", password=\"changethis\")\n",
    "```"
   ]
  },
  {
   "cell_type": "markdown",
   "metadata": {},
   "source": [
    "Once you are logged in, you are ready to start using the domain, for instance for creating a dataset (this one is empty, just as a example)."
   ]
  },
  {
   "cell_type": "markdown",
   "metadata": {},
   "source": [
    "```python3\n",
    "dataset = sy.Dataset(name=\"my dataset\", asset_list=[])\n",
    "client.upload_dataset(dataset)\n",
    "```"
   ]
  },
  {
   "cell_type": "markdown",
   "metadata": {},
   "source": [
    "## Next Steps\n",
    "Congratulations! You have successfully deployed PySyft on your local Kubernetes cluster. Now, you can explore its capabilities and use cases through our API example notebooks:\n",
    "\n",
    "📝 [API Example Notebooks](../../api)\n",
    "- [00-load-data.ipynb](../../api/0.8/00-load-data.ipynb)\n",
    "- [01-submit-code.ipynb](../../api/0.8/01-submit-code.ipynb)\n",
    "- [02-review-code-and-approve.ipynb](../../api/0.8/02-review-code-and-approve.ipynb)\n",
    "- [03-data-scientist-download-result.ipynb](../../api/0.8/03-data-scientist-download-result.ipynb)\n",
    "- [04-pytorch-example.ipynb](../../api/0.8/04-pytorch-example.ipynb)\n",
    "- [05-custom-policy.ipynb](../../api/0.8/05-custom-policy.ipynb)\n",
    "- [06-multiple-code-requests.ipynb](../../api/0.8/06-multiple-code-requests.ipynb)\n",
    "- [07-domain-register-control-flow.ipynb](../../api/0.8/07-domain-register-control-flow.ipynb)\n",
    "- [08-code-version.ipynb](../../api/0.8/08-code-version.ipynb)\n",
    "- [09-blob-storage.ipynb](../../api/0.8/09-blob-storage.ipynb)\n",
    "- [10-container-images.ipynb](../../api/0.8/10-container-images.ipynb)\n",
    "- [11-container-images-k8s.ipynb](../../api/0.8/11-container-images-k8s.ipynb)\n",
    "\n",
    "Feel free to explore these notebooks to get started with PySyft and unlock its full potential for privacy-preserving machine learning!"
   ]
  },
  {
   "cell_type": "markdown",
   "metadata": {},
   "source": []
  }
 ],
 "metadata": {
  "kernelspec": {
   "display_name": "PySyft",
   "language": "python",
   "name": "python3"
  },
  "language_info": {
   "codemirror_mode": {
    "name": "ipython",
    "version": 3
   },
   "file_extension": ".py",
   "mimetype": "text/x-python",
   "name": "python",
   "nbconvert_exporter": "python",
   "pygments_lexer": "ipython3",
   "version": "3.11.7"
  }
 },
 "nbformat": 4,
 "nbformat_minor": 2
}

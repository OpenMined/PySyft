{
 "cells": [
  {
   "cell_type": "markdown",
   "metadata": {},
   "source": [
    "# Deploying PySyft on a Local Kubernetes Cluster"
   ]
  },
  {
   "cell_type": "markdown",
   "metadata": {
    "vscode": {
     "languageId": "plaintext"
    }
   },
   "source": [
    "## Introduction\n",
    "Welcome to our quick start guide for deploying PySyft on a local Kubernetes cluster! PySyft is a powerful framework for privacy-preserving machine learning, and deploying it on Kubernetes allows an easy way to quickly try out the full PySyft stack on your own system. This guide will walk you through the process step by step."
   ]
  },
  {
   "cell_type": "markdown",
   "metadata": {
    "vscode": {
     "languageId": "plaintext"
    }
   },
   "source": [
    "## Prerequisites\n",
    "Before we begin, ensure you have the following prerequisites installed on your system:\n",
    "1. [Docker](https://docs.docker.com/install/): Docker is required to create and manage containers.\n",
    "2. [kubectl](https://kubernetes.io/docs/tasks/tools/#kubectl): kubectl is the command-line tool for interacting with Kubernetes clusters.\n",
    "3. [k3d](https://k3d.io/v5.6.3/#installation): k3d is used to create local Kubernetes clusters.\n",
    "4. [Helm](https://helm.sh/docs/intro/install/): Helm is the package manager for Kubernetes, used to install and manage applications on Kubernetes clusters."
   ]
  },
  {
   "cell_type": "markdown",
   "metadata": {},
   "source": [
    "## Deployment Steps\n",
    "\n",
    "### 1. Create a Local Kubernetes Cluster\n",
    "First, create a local Kubernetes cluster named \"syft\" using k3d:\n",
    "```sh\n",
    "k3d cluster create syft -p \"8080:80@loadbalancer\"\n",
    "```\n",
    "\n",
    "### 2. Add and Update Helm Repo for Syft\n",
    "Add the Helm repository for PySyft and update it:\n",
    "```sh\n",
    "helm repo add openmined https://openmined.github.io/PySyft/helm\n",
    "helm repo update openmined\n",
    "```\n",
    "\n",
    "### 3. Search for Available Syft Versions\n",
    "Explore available versions of PySyft using Helm:\n",
    "```sh\n",
    "helm search repo openmined/syft --versions --devel\n",
    "```\n",
    "\n",
    "### 4. Set Your Preferred Syft Chart Version\n",
    "Set the version of PySyft you want to install:\n",
    "```sh\n",
    "SYFT_VERSION=\"<paste the chart version number>\"\n",
    "```\n",
    "\n",
    "### 5. Provision Helm Charts\n",
    "Install PySyft on the Kubernetes cluster with your preferred version:\n",
    "```sh\n",
    "helm install my-syft openmined/syft --version $SYFT_VERSION --namespace syft --create-namespace --set ingress.className=\"traefik\"\n",
    "```\n",
    "\n",
    "<div class=\"alert alert-block alert-info\">\n",
    "<b>💡 Tip 1:</b>\n",
    "\n",
    "If you want to deploy your Kubernetes cluster in a resource-constrained environment, use the following flags to override the default configurations. Please note that you will need at least 1 CPU and 2 GB of RAM on Docker, and some tests may not work in such low-resource environments:\n",
    "\n",
    "```sh\n",
    "helm install my-syft openmined/syft --version $SYFT_VERSION --namespace syft --create-namespace --set ingress.className=\"traefik\" --set server.resourcesPreset=null --set seaweedfs.resourcesPreset=null --set postgres.resourcesPreset=null --set registry.resourcesPreset=null --set proxy.resourcesPreset=null --set frontend.resourcesPreset=null\n",
    "```\n",
    "\n",
    "</div>\n",
    "\n",
    "<div class=\"alert alert-block alert-info\">\n",
    "<b>💡 Tip 2:</b>\n",
    "\n",
    "If you would like to set your own default password even for the production style deployment, use the following command:\n",
    "\n",
    "```sh\n",
    "helm install my-syft openmined/syft --version $SYFT_VERSION --namespace syft --create-namespace --set ingress.className=\"traefik\" --set global.randomizedSecrets=false --set server.secret.defaultRootPassword=\"changethis\" --set seaweedfs.secret.s3RootPassword=\"admin\" --set postgres.secret.rootPassword=\"example\"\n",
    "```\n",
    "</div>\n"
   ]
  },
  {
   "cell_type": "markdown",
   "metadata": {
    "vscode": {
     "languageId": "plaintext"
    }
   },
   "source": [
    "## Working with the local Kubernetes deployment\n",
    "\n",
    "PySyft makes it very simple to connect to your existing Syft cluster by providing the `sy.orchestra` interface. You can connect to the datasite by executing these steps in your jupyter notebook:"
   ]
  },
  {
   "cell_type": "markdown",
   "metadata": {},
   "source": [
    "```python\n",
    "# syft absolute\n",
    "import syft as sy\n",
    "\n",
    "server = sy.orchestra.launch(name=\"syft-example-datasite-1\", deploy_to=\"remote\")\n",
    "```"
   ]
  },
  {
   "cell_type": "markdown",
   "metadata": {},
   "source": [
    "This will return a server handle by connecting to `http://localhost:8080` which is the default host and port where your kubernetes cluster will be running. You can connect to a different host and port by setting the environment variables `SERVER_URL` and `SERVER_PORT`.\n",
    "\n",
    "```python\n",
    "import os\n",
    "\n",
    "os.environ[\"SERVER_URL\"] = \"<http://CUSTOM-HOST>\"\n",
    "os.environ[\"SERVER_PORT\"] = \"<CUSTOM-PORT-NUMBER>\"\n",
    "```"
   ]
  },
  {
   "cell_type": "markdown",
   "metadata": {},
   "source": [
    "Now, we are ready to start using the datasite. Since helm is a product grade deployement stack, the datasite comes with a randomized password for the default email credentials for the admin. Either run with Step 5 with your custom password or to extract the randomized password using `kubectl`, run the following command (in case you use a custom cluster name in step 1, replace `--context=k3d-$CLUSTER_NAME` appropriately): \n",
    "\n",
    "```sh\n",
    "kubectl --context=k3d-syft get secret backend-secret -n syft -o jsonpath='{.data.defaultRootPassword}' | base64 --decode\n",
    "```"
   ]
  },
  {
   "cell_type": "markdown",
   "metadata": {},
   "source": [
    "and use the password instead of \"changethis\" below:"
   ]
  },
  {
   "cell_type": "markdown",
   "metadata": {},
   "source": [
    "```python\n",
    "client = server.login(email=\"info@openmined.org\", password=\"changethis\")\n",
    "```"
   ]
  },
  {
   "cell_type": "markdown",
   "metadata": {},
   "source": [
    "Once you are logged in, you are ready to start using the datasite, for instance for creating a dataset (this one is empty, just as a example)."
   ]
  },
  {
   "cell_type": "markdown",
   "metadata": {},
   "source": [
    "```python3\n",
    "dataset = sy.Dataset(name=\"my dataset\", asset_list=[])\n",
    "client.upload_dataset(dataset)\n",
    "```"
   ]
  },
  {
   "cell_type": "markdown",
   "metadata": {},
   "source": [
    "## Next Steps\n",
    "Congratulations! You have successfully deployed PySyft on your local Kubernetes cluster. Now, you can explore its capabilities and use cases through our API example notebooks:\n",
    "\n",
    "📝 [API Example Notebooks](../../api)\n",
    "- [00-load-data.ipynb](../../api/0.8/00-load-data.ipynb)\n",
    "- [01-submit-code.ipynb](../../api/0.8/01-submit-code.ipynb)\n",
    "- [02-review-code-and-approve.ipynb](../../api/0.8/02-review-code-and-approve.ipynb)\n",
    "- [03-data-scientist-download-result.ipynb](../../api/0.8/03-data-scientist-download-result.ipynb)\n",
    "- [04-pytorch-example.ipynb](../../api/0.8/04-pytorch-example.ipynb)\n",
    "- [05-custom-policy.ipynb](../../api/0.8/05-custom-policy.ipynb)\n",
    "- [06-multiple-code-requests.ipynb](../../api/0.8/06-multiple-code-requests.ipynb)\n",
    "- [07-datasite-register-control-flow.ipynb](../../api/0.8/07-datasite-register-control-flow.ipynb)\n",
    "- [08-code-version.ipynb](../../api/0.8/08-code-version.ipynb)\n",
    "- [09-blob-storage.ipynb](../../api/0.8/09-blob-storage.ipynb)\n",
    "- [10-container-images.ipynb](../../api/0.8/10-container-images.ipynb)\n",
    "- [11-container-images-k8s.ipynb](../../api/0.8/11-container-images-k8s.ipynb)\n",
    "\n",
    "Feel free to explore these notebooks to get started with PySyft and unlock its full potential for privacy-preserving machine learning!"
   ]
  },
  {
   "cell_type": "markdown",
   "metadata": {},
   "source": []
  }
 ],
 "metadata": {
  "kernelspec": {
   "display_name": "PySyft",
   "language": "python",
   "name": "python3"
  },
  "language_info": {
   "codemirror_mode": {
    "name": "ipython",
    "version": 3
   },
   "file_extension": ".py",
   "mimetype": "text/x-python",
   "name": "python",
   "nbconvert_exporter": "python",
   "pygments_lexer": "ipython3",
   "version": "3.11.7"
  }
 },
 "nbformat": 4,
 "nbformat_minor": 2
}

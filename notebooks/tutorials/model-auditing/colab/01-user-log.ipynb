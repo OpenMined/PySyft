{
 "cells": [
  {
   "cell_type": "code",
   "execution_count": null,
   "id": "9de52974-3a7b-4bb3-a92d-db93a20a30cd",
   "metadata": {},
   "outputs": [],
   "source": [
    "# install transformers, evaluate\n",
    "!pip install transformers evaluate\n",
    "#!pip install tensorflow # huggingface needs a backend but tf is already on colab"
   ]
  },
  {
   "cell_type": "code",
   "execution_count": null,
   "id": "34717686-3998-4222-8588-d95bcf193106",
   "metadata": {
    "tags": []
   },
   "outputs": [],
   "source": [
    "# install syft\n",
    "SYFT_VERSION = \">=0.8.1b0,<0.9\"\n",
    "package_string = f'\"syft{SYFT_VERSION}\"'\n",
    "%pip install {package_string} -f https://whls.blob.core.windows.net/unstable/index.html -q"
   ]
  },
  {
   "cell_type": "code",
   "execution_count": null,
   "id": "879b1b2e-d1ba-4ce9-9ae1-e8090eed97d7",
   "metadata": {},
   "outputs": [],
   "source": [
    "import syft as sy\n",
    "sy.requires(SYFT_VERSION)"
   ]
  },
  {
   "cell_type": "code",
   "execution_count": null,
   "id": "5ad257bf-1cd8-4fe5-86c2-baf3e64c6dcd",
   "metadata": {
    "tags": []
   },
   "outputs": [],
   "source": [
    "node = sy.orchestra.launch(name=\"syft-domain\", reset=True)"
   ]
  },
  {
   "cell_type": "code",
   "execution_count": null,
   "id": "08f57ce5-ab0b-4e0a-a121-107ff2a534d0",
   "metadata": {
    "tags": []
   },
   "outputs": [],
   "source": [
    "domain_client = node.login(email=\"info@openmined.org\", password=\"changethis\")"
   ]
  },
  {
   "cell_type": "code",
   "execution_count": null,
   "id": "60a372ce-dfeb-4f83-984c-a83f9b4d3a22",
   "metadata": {},
   "outputs": [],
   "source": [
    "domain_client.settings.allow_guest_signup(enable=True)"
   ]
  },
  {
   "cell_type": "code",
   "execution_count": null,
   "id": "8cc31071-daea-4078-82ac-edc8a9352ea0",
   "metadata": {
    "tags": []
   },
   "outputs": [],
   "source": [
    "auditor_client = node.client.register(name=\"Peter Jones\", email=\"pjones@aisb.org\", password=\"password1234\")"
   ]
  },
  {
   "cell_type": "code",
   "execution_count": null,
   "id": "25c0f329-5bcd-4573-bcf5-5e47e95f1466",
   "metadata": {
    "tags": []
   },
   "outputs": [],
   "source": [
    "auditor_client = node.login(email=\"pjones@aisb.org\", password=\"password1234\")"
   ]
  },
  {
   "cell_type": "code",
   "execution_count": null,
   "id": "cc7130f4-aff8-465a-a0e3-a77c1d25cdde",
   "metadata": {},
   "outputs": [],
   "source": [
    "import pandas as pd\n",
    "\n",
    "model_log = pd.read_csv(\"https://github.com/OpenMined/datasets/raw/main/AuditingBlogpost/gpt2_100row.csv\")\n",
    "\n",
    "mock_model_log = pd.read_csv(\"https://raw.githubusercontent.com/OpenMined/datasets/main/AuditingBlogpost/gpt2_100row_mock.csv\")\n",
    "\n",
    "main_contributor = sy.Contributor(name=\"Jeffrey Salazar\", role=\"Dataset Creator\", email=\"jsala@ailab.com\")\n",
    "\n",
    "gpt2_user_log = sy.Dataset(\n",
    "    name=\"GPT-2 Activity Log\",\n",
    "    description=\"User interactions from GPT-2 usage in text completion.\",\n",
    "    contributors=[main_contributor],\n",
    "    asset_list = [\n",
    "        sy.Asset(\n",
    "            name=\"gpt2-mar23-prompts-responses\",\n",
    "            description=\"Text prompts and corresponding model predictions from GPT-2 (March 2023)\",\n",
    "            contributors=[main_contributor],\n",
    "            data=model_log,\n",
    "            mock=mock_model_log\n",
    "        )]\n",
    ")\n",
    "\n",
    "domain_client.upload_dataset(gpt2_user_log)"
   ]
  },
  {
   "cell_type": "code",
   "execution_count": null,
   "id": "e43d51ba-944a-4bd5-8c5a-313ffafa3566",
   "metadata": {},
   "outputs": [],
   "source": [
    "dataset = auditor_client.datasets[0]\n",
    "asset = dataset.assets[0]\n",
    "asset"
   ]
  },
  {
   "cell_type": "code",
   "execution_count": null,
   "id": "5869d3ff-4280-4e6a-875b-e77fd2da905a",
   "metadata": {},
   "outputs": [],
   "source": [
    "mock = dataset.assets[0].mock\n",
    "mock"
   ]
  },
  {
   "cell_type": "code",
   "execution_count": null,
   "id": "7212c976-1902-4239-8c74-f74b6d36c661",
   "metadata": {},
   "outputs": [],
   "source": [
    "audit_project = sy.Project(\n",
    "    name=\"Model Output Audit\",\n",
    "    description=\"Auditing GPT2 model outputs for toxicity, bias, etc.\",\n",
    "    members=[auditor_client],\n",
    ")\n",
    "audit_project"
   ]
  },
  {
   "cell_type": "code",
   "execution_count": null,
   "id": "1c3d5810-f300-4f4c-8f99-fd06178de66c",
   "metadata": {},
   "outputs": [],
   "source": [
    "@sy.syft_function_single_use(data=dataset.assets[0])\n",
    "def model_output_analysis(data):\n",
    "    \"\"\"\n",
    "    Evaluate the model's quantify the toxicity of the input texts using the R4 Target Model, \n",
    "    a pretrained hate speech classification model \n",
    "    Evaluate the model's estimated language polarity towards and social perceptions of a demographic \n",
    "    (e.g. gender, race, sexual orientation).\n",
    "    \"\"\"\n",
    "    \n",
    "    import evaluate\n",
    "    toxicity = evaluate.load(\"toxicity\", module_type=\"measurement\")\n",
    "    # regard = evaluate.load(\"regard\", module_type=\"measurement\")\n",
    "    results_as_strings = [str(res) for res in data[\"result\"]]\n",
    "    toxicity_results = toxicity.compute(predictions=results_as_strings)\n",
    "    # regard_results = regard.compute(predictions=results_as_strings)\n",
    "    return toxicity_results  #, regard_results"
   ]
  },
  {
   "cell_type": "code",
   "execution_count": null,
   "id": "40271f6f-a375-40c4-ab4e-7785d1ee0d79",
   "metadata": {},
   "outputs": [],
   "source": [
    "audit_project.create_code_request(model_output_analysis, auditor_client)"
   ]
  },
  {
   "cell_type": "code",
   "execution_count": null,
   "id": "0d36b489-960c-4ee6-9fd2-23e4f4491e65",
   "metadata": {},
   "outputs": [],
   "source": [
    "auditor_client.code"
   ]
  },
  {
   "cell_type": "code",
   "execution_count": null,
   "id": "105c408b-5dd3-4c1e-b344-8ae6602c54cb",
   "metadata": {},
   "outputs": [],
   "source": [
    "project = audit_project.start()\n",
    "project"
   ]
  },
  {
   "cell_type": "code",
   "execution_count": null,
   "id": "9368c7d0-2c9f-47af-994f-2933187af676",
   "metadata": {},
   "outputs": [],
   "source": [
    "domain_client.projects"
   ]
  },
  {
   "cell_type": "code",
   "execution_count": null,
   "id": "3ccc20c8-1e21-4512-977b-937257531f29",
   "metadata": {},
   "outputs": [],
   "source": [
    "project = domain_client.projects[0]\n",
    "project"
   ]
  },
  {
   "cell_type": "code",
   "execution_count": null,
   "id": "43d399ed-badf-4d44-9bbd-29173dc3503f",
   "metadata": {},
   "outputs": [],
   "source": [
    "request = domain_client.requests[0]\n",
    "request"
   ]
  },
  {
   "cell_type": "code",
   "execution_count": null,
   "id": "5b997d84-96d2-4d71-b0bb-fe08ff1e7048",
   "metadata": {},
   "outputs": [],
   "source": [
    "asset = domain_client.datasets[0].assets[0]"
   ]
  },
  {
   "cell_type": "code",
   "execution_count": null,
   "id": "73988dd6-6e16-4984-b2d5-407fed06974e",
   "metadata": {},
   "outputs": [],
   "source": [
    "real_result = request.code.unsafe_function(data=asset.data)\n",
    "real_result"
   ]
  },
  {
   "cell_type": "code",
   "execution_count": null,
   "id": "e9a20499-ba6c-4c4b-b35c-26b2a11dce0c",
   "metadata": {},
   "outputs": [],
   "source": [
    "request.accept_by_depositing_result(real_result)"
   ]
  },
  {
   "cell_type": "code",
   "execution_count": null,
   "id": "dacd37e0-8458-45a5-950c-df4a7400abaa",
   "metadata": {},
   "outputs": [],
   "source": [
    "asset = auditor_client.datasets[0].assets[0]\n",
    "auditor_client.code.model_output_analysis(data=asset).get_from(auditor_client)"
   ]
  }
 ],
 "metadata": {
  "kernelspec": {
   "display_name": "Python 3 (ipykernel)",
   "language": "python",
   "name": "python3"
  },
  "language_info": {
   "codemirror_mode": {
    "name": "ipython",
    "version": 3
   },
   "file_extension": ".py",
   "mimetype": "text/x-python",
   "name": "python",
   "nbconvert_exporter": "python",
   "pygments_lexer": "ipython3",
   "version": "3.11.1"
  }
 },
 "nbformat": 4,
 "nbformat_minor": 5
}

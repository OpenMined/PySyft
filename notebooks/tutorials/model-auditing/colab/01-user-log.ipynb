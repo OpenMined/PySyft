{
 "cells": [
  {
   "cell_type": "markdown",
   "id": "d4c2f0f4",
   "metadata": {},
   "source": [
    "# HOW TO AUDIT AN AI MODEL OWNED BY SOMEONE ELSE (PART 1 - USER LOG)"
   ]
  },
  {
   "cell_type": "markdown",
   "id": "f00cd20a",
   "metadata": {},
   "source": [
    "In this tutorial, we show how external parties can audit internal AI systems without accessing them — mitigating privacy, security, and IP costs and risks. **This tutorial uses syft 0.8.2.b0, with a domain setup that does not use networking, to run the tutorial with networking read more in section 1.1.1**\n",
    "\n",
    "You can read more about this tutorial and the follow up tutorials here on the [blog post](https://blog.openmined.org/)."
   ]
  },
  {
   "cell_type": "markdown",
   "id": "208d4824",
   "metadata": {},
   "source": [
    "## Model Owner Launches Stage 1 Audit Environment"
   ]
  },
  {
   "cell_type": "markdown",
   "id": "f582e7f2",
   "metadata": {},
   "source": [
    "**Note** : Kindly use light theme when running the demo for better visuals"
   ]
  },
  {
   "cell_type": "code",
   "execution_count": null,
   "id": "34717686-3998-4222-8588-d95bcf193106",
   "metadata": {
    "tags": []
   },
   "outputs": [],
   "source": [
    "# install syft\n",
    "SYFT_VERSION = \">=0.8.2.b0,<0.9\"\n",
    "package_string = f'\"syft{SYFT_VERSION}\"'\n",
    "%pip install {package_string} -f https://whls.blob.core.windows.net/unstable/index.html -q"
   ]
  },
  {
   "cell_type": "code",
   "execution_count": null,
   "id": "879b1b2e-d1ba-4ce9-9ae1-e8090eed97d7",
   "metadata": {},
   "outputs": [],
   "source": [
    "import syft as sy\n",
    "import pandas as pd\n",
    "sy.requires(SYFT_VERSION)"
   ]
  },
  {
   "cell_type": "markdown",
   "id": "aed69a07",
   "metadata": {},
   "source": [
    "### Launch PySyft domain server"
   ]
  },
  {
   "cell_type": "markdown",
   "id": "05b75cde",
   "metadata": {},
   "source": [
    "To start we launch a `PySyft` domain server. This is the backend that stores the private data."
   ]
  },
  {
   "cell_type": "code",
   "execution_count": null,
   "id": "5ad257bf-1cd8-4fe5-86c2-baf3e64c6dcd",
   "metadata": {
    "tags": []
   },
   "outputs": [],
   "source": [
    "node = sy.orchestra.launch(name=\"syft-domain\", reset=True)"
   ]
  },
  {
   "cell_type": "markdown",
   "id": "339a1dc6",
   "metadata": {},
   "source": [
    "There are 3 ways to launch a `PySyft` domain\n",
    "\n",
    "**A) From a notebook, with simulated networking \\*\\*THIS NOTEBOOK\\*\\***\n",
    "  - Apart from the network calls, this uses exactly the same code as other setups\n",
    "  - run orchestra **without a port**: `sy.orchestra.launch(name=\"syft-domain\")`\n",
    "  \n",
    "**B) From a notebook with networking (also supports docker)**\n",
    "  - This spawns a separate process that starts a uvicorn webserver\n",
    "  - run orchestra **with a port**:`sy.orchestra.launch(name=\"syft-domain\", port=8080)`\n",
    "  \n",
    "**C) From the command line (supports docker/kubernetes)**\n",
    "  - setup for production\n",
    "  - run `syft launch` or `hagrid launch` from the terminal\n",
    "  \n",
    "  \n",
    "We are using the **A)** here, as it is the only option available using google colab, switching to a real webserver is as easy as running this notebook in jupyter locally and adding a port. Read more about deployment on our [README.md](https://github.com/OpenMined/PySyft) and other setups for syft [here](https://github.com/OpenMined/PySyft/tree/dev/notebooks/tutorials/data-engineer)"
   ]
  },
  {
   "cell_type": "markdown",
   "id": "219812d7",
   "metadata": {},
   "source": [
    "### Login\n"
   ]
  },
  {
   "cell_type": "markdown",
   "id": "c4cb7d18",
   "metadata": {},
   "source": [
    "We can now login to our domain using the default admin credentials. In production we would change these."
   ]
  },
  {
   "cell_type": "code",
   "execution_count": null,
   "id": "08f57ce5-ab0b-4e0a-a121-107ff2a534d0",
   "metadata": {
    "tags": []
   },
   "outputs": [],
   "source": [
    "mo_client = node.login(email=\"info@openmined.org\", password=\"changethis\")"
   ]
  },
  {
   "cell_type": "markdown",
   "id": "58c07dd9",
   "metadata": {},
   "source": [
    "### Configure node to allow user registration"
   ]
  },
  {
   "cell_type": "markdown",
   "id": "669572e6",
   "metadata": {},
   "source": [
    "For this tutorial we allow other users to create their own account. New accounts will get limited permissions and will only be able to see the mock version of any datasets we upload to the domain."
   ]
  },
  {
   "cell_type": "code",
   "execution_count": null,
   "id": "60a372ce-dfeb-4f83-984c-a83f9b4d3a22",
   "metadata": {},
   "outputs": [],
   "source": [
    "mo_client.settings.allow_guest_signup(enable=True)"
   ]
  },
  {
   "cell_type": "markdown",
   "id": "6f634832",
   "metadata": {},
   "source": [
    "## Model Owner Uploads What will be Audited"
   ]
  },
  {
   "cell_type": "markdown",
   "id": "dd4b6752",
   "metadata": {},
   "source": [
    "We are ready to create a dataset. Our dataset consists of prompts that were used as input for our language model, and their corresponding continuations. For example, in the first row we see that the `prompt` for the model was *\"Jacob Zachar is an American actor whose\"*, and the `result` was \"*erythemal body image makes him look like an infant in the bedroom.*\"  We also have a mock version of the same dataset. The mock dataframe contains no meaningful data, but it has the same columns, size and datatypes as the real data."
   ]
  },
  {
   "cell_type": "code",
   "execution_count": null,
   "id": "7026ba2f",
   "metadata": {},
   "outputs": [],
   "source": [
    "dataset_url = \"https://github.com/OpenMined/datasets/raw/main/AuditingBlogpost\"\n",
    "model_log = pd.read_csv(f\"{dataset_url}/gpt2_100row.csv\")\n",
    "mock_model_log = pd.read_csv(f\"{dataset_url}/gpt2_100row_mock.csv\")"
   ]
  },
  {
   "cell_type": "code",
   "execution_count": null,
   "id": "606afb6a",
   "metadata": {},
   "outputs": [],
   "source": [
    "model_log"
   ]
  },
  {
   "cell_type": "code",
   "execution_count": null,
   "id": "dd94655e",
   "metadata": {},
   "outputs": [],
   "source": [
    "mock_model_log"
   ]
  },
  {
   "cell_type": "markdown",
   "id": "92980381",
   "metadata": {},
   "source": [
    "To upload our dataset to the domain we need to wrap it in a `Syft Dataset` object. We can add some metadata to the object."
   ]
  },
  {
   "cell_type": "code",
   "execution_count": null,
   "id": "cc7130f4-aff8-465a-a0e3-a77c1d25cdde",
   "metadata": {},
   "outputs": [],
   "source": [
    "main_contributor = sy.Contributor(name=\"Jeffrey Salazar\", role=\"Dataset Creator\", email=\"jsala@ailab.com\")\n",
    "\n",
    "gpt2_user_log = sy.Dataset(\n",
    "    name=\"GPT-2 Activity Log\",\n",
    "    description=\"User interactions from GPT-2 usage in text completion.\",\n",
    "    contributors=[main_contributor],\n",
    "    asset_list = [\n",
    "        sy.Asset(\n",
    "            name=\"gpt2-mar23-prompts-responses\",\n",
    "            description=\"Text prompts and corresponding model predictions from GPT-2 (March 2023)\",\n",
    "            contributors=[main_contributor],\n",
    "            data=model_log,\n",
    "            mock=mock_model_log\n",
    "        )]\n",
    ")"
   ]
  },
  {
   "cell_type": "code",
   "execution_count": null,
   "id": "606d33dc",
   "metadata": {},
   "outputs": [],
   "source": [
    "mo_client.upload_dataset(gpt2_user_log)"
   ]
  },
  {
   "cell_type": "markdown",
   "id": "37c2aea1",
   "metadata": {},
   "source": [
    "This was the bulk of the work for the Model owner, its the auditors turn now to propose a project."
   ]
  },
  {
   "cell_type": "markdown",
   "id": "afdd66bc",
   "metadata": {},
   "source": [
    "## Auditor Creates Account and Proposes Project\n"
   ]
  },
  {
   "cell_type": "markdown",
   "id": "75d8d7bf",
   "metadata": {},
   "source": [
    "We first create an account and login."
   ]
  },
  {
   "cell_type": "code",
   "execution_count": null,
   "id": "af0d1363",
   "metadata": {
    "tags": []
   },
   "outputs": [],
   "source": [
    "auditor_client = node.register(name=\"Peter Jones\", email=\"pjones@aisb.org\", password=\"password1234\")\n",
    "auditor_client = node.login(email=\"pjones@aisb.org\", password=\"password1234\")"
   ]
  },
  {
   "cell_type": "markdown",
   "id": "67655d8e",
   "metadata": {},
   "source": [
    "Our account has limited permissions, but we are able to access the mock part of the dataset to code against. "
   ]
  },
  {
   "cell_type": "code",
   "execution_count": null,
   "id": "a576c479",
   "metadata": {},
   "outputs": [],
   "source": [
    "dataset = auditor_client.datasets[0]\n",
    "asset = dataset.assets[0]\n",
    "asset"
   ]
  },
  {
   "cell_type": "code",
   "execution_count": null,
   "id": "d718f10e",
   "metadata": {},
   "outputs": [],
   "source": [
    "mock = asset.mock\n",
    "mock"
   ]
  },
  {
   "cell_type": "markdown",
   "id": "88096278",
   "metadata": {},
   "source": [
    "We can now create a `Syft Project` which will act as a wrapper for all the requests on this `Dataset`"
   ]
  },
  {
   "cell_type": "code",
   "execution_count": null,
   "id": "7212c976-1902-4239-8c74-f74b6d36c661",
   "metadata": {},
   "outputs": [],
   "source": [
    "audit_project = sy.Project(\n",
    "    name=\"Model Output Audit\",\n",
    "    description=\"Auditing GPT2 model outputs for toxicity, bias, etc.\",\n",
    "    members=[auditor_client],\n",
    ")\n",
    "audit_project"
   ]
  },
  {
   "cell_type": "markdown",
   "id": "e5f5aab1",
   "metadata": {},
   "source": [
    "Before we submit our actual audit code, we need to write the code. Writing code without input is often quite challenging and therefore we use the mock to write our code. Once we verified that everything works and we have no errors, we can submit the code for approval."
   ]
  },
  {
   "cell_type": "code",
   "execution_count": null,
   "id": "5eb9b153",
   "metadata": {},
   "outputs": [],
   "source": [
    "import evaluate\n",
    "toxicity = evaluate.load(\"toxicity\", module_type=\"measurement\")\n",
    "indices, inputs = mock.id.tolist(), mock[\"result\"].tolist()\n",
    "toxicity_results = toxicity.compute(predictions=inputs)\n",
    "mock_result = pd.DataFrame(toxicity_results[\"toxicity\"], index=indices, columns=[\"toxicity\"])"
   ]
  },
  {
   "cell_type": "code",
   "execution_count": null,
   "id": "4acf69a7",
   "metadata": {},
   "outputs": [],
   "source": [
    "mock_result"
   ]
  },
  {
   "cell_type": "markdown",
   "id": "46d4fa3a",
   "metadata": {},
   "source": [
    "With that set up, we are ready to write the code that we want to execute on the dataset. We do this by writing a function and wrapping that function with a `@sy.syft_function` decorator, this particular decorator requests that we can run this function exactly once on the dataset that was just uploaded. Within the function we compute and return the toxicity scores for the results of the model."
   ]
  },
  {
   "cell_type": "code",
   "execution_count": null,
   "id": "1c3d5810-f300-4f4c-8f99-fd06178de66c",
   "metadata": {},
   "outputs": [],
   "source": [
    "@sy.syft_function_single_use(data=dataset.assets[0])\n",
    "def model_output_analysis(data):\n",
    "    \"\"\"\n",
    "    Evaluate the model's quantify the toxicity of the input texts using the R4 Target Model, \n",
    "    a pretrained hate speech classification model \n",
    "    Evaluate the model's estimated language polarity towards and social perceptions of a demographic \n",
    "    (e.g. gender, race, sexual orientation).\n",
    "    \"\"\"\n",
    "    import evaluate\n",
    "    import pandas as pd\n",
    "    toxicity = evaluate.load(\"toxicity\", module_type=\"measurement\")\n",
    "    indices, inputs = data.id.tolist(), data[\"result\"].tolist()\n",
    "    toxicity_results = toxicity.compute(predictions=inputs)\n",
    "    return pd.DataFrame(toxicity_results[\"toxicity\"], index=indices, columns=[\"toxicity\"])"
   ]
  },
  {
   "cell_type": "markdown",
   "id": "0bfba4ae",
   "metadata": {},
   "source": [
    "We can now request code execution of our function by calling the `.create_code_request` method"
   ]
  },
  {
   "cell_type": "code",
   "execution_count": null,
   "id": "40271f6f-a375-40c4-ab4e-7785d1ee0d79",
   "metadata": {},
   "outputs": [],
   "source": [
    "audit_project.create_code_request(model_output_analysis, auditor_client)"
   ]
  },
  {
   "cell_type": "markdown",
   "id": "c24a7eaf",
   "metadata": {},
   "source": [
    "We can inspect our code submission, which means we now have to wait for approval from the model owner."
   ]
  },
  {
   "cell_type": "code",
   "execution_count": null,
   "id": "0d36b489-960c-4ee6-9fd2-23e4f4491e65",
   "metadata": {},
   "outputs": [],
   "source": [
    "auditor_client.code"
   ]
  },
  {
   "cell_type": "markdown",
   "id": "f6fc1c44",
   "metadata": {},
   "source": [
    "As a last step we start out project, and we switch back to the perspective of the model owner."
   ]
  },
  {
   "cell_type": "code",
   "execution_count": null,
   "id": "105c408b-5dd3-4c1e-b344-8ae6602c54cb",
   "metadata": {},
   "outputs": [],
   "source": [
    "project = audit_project.start()\n",
    "project"
   ]
  },
  {
   "cell_type": "markdown",
   "id": "aab5f920",
   "metadata": {},
   "source": [
    "## Model Owner Reviews Proposed Project"
   ]
  },
  {
   "cell_type": "markdown",
   "id": "91961599",
   "metadata": {},
   "source": [
    "Now that the model owner has a new incoming request, the goal is to approve or deny the request based on the code. This may include running the code on mock data first or asking questions to the auditor. In our case we will simply review the code and approve it."
   ]
  },
  {
   "cell_type": "code",
   "execution_count": null,
   "id": "9368c7d0-2c9f-47af-994f-2933187af676",
   "metadata": {},
   "outputs": [],
   "source": [
    "mo_client.projects"
   ]
  },
  {
   "cell_type": "markdown",
   "id": "9edc5c2b",
   "metadata": {},
   "source": [
    "Lets view the newly created project"
   ]
  },
  {
   "cell_type": "code",
   "execution_count": null,
   "id": "3ccc20c8-1e21-4512-977b-937257531f29",
   "metadata": {},
   "outputs": [],
   "source": [
    "project = mo_client.projects[0]\n",
    "project"
   ]
  },
  {
   "cell_type": "markdown",
   "id": "d9d6491e",
   "metadata": {},
   "source": [
    "And now view the corresponding request"
   ]
  },
  {
   "cell_type": "code",
   "execution_count": null,
   "id": "43d399ed-badf-4d44-9bbd-29173dc3503f",
   "metadata": {},
   "outputs": [],
   "source": [
    "request = mo_client.requests[0]\n",
    "request"
   ]
  },
  {
   "cell_type": "markdown",
   "id": "390ed73e",
   "metadata": {},
   "source": [
    "We can view the code to review it"
   ]
  },
  {
   "cell_type": "code",
   "execution_count": null,
   "id": "f7549999",
   "metadata": {},
   "outputs": [],
   "source": [
    "request.code"
   ]
  },
  {
   "cell_type": "markdown",
   "id": "b50a7503",
   "metadata": {},
   "source": [
    "Once the model owner feels confident that this code is not malicious, we can run the function on the real data."
   ]
  },
  {
   "cell_type": "code",
   "execution_count": null,
   "id": "5b997d84-96d2-4d71-b0bb-fe08ff1e7048",
   "metadata": {},
   "outputs": [],
   "source": [
    "asset = mo_client.datasets[0].assets[0]"
   ]
  },
  {
   "cell_type": "code",
   "execution_count": null,
   "id": "73988dd6-6e16-4984-b2d5-407fed06974e",
   "metadata": {},
   "outputs": [],
   "source": [
    "real_result = request.code.unsafe_function(data=asset.data)\n",
    "real_result"
   ]
  },
  {
   "cell_type": "markdown",
   "id": "d8ae4f93",
   "metadata": {},
   "source": [
    "This gives us a result which we can attach to the request"
   ]
  },
  {
   "cell_type": "code",
   "execution_count": null,
   "id": "e9a20499-ba6c-4c4b-b35c-26b2a11dce0c",
   "metadata": {},
   "outputs": [],
   "source": [
    "request.accept_by_depositing_result(real_result)"
   ]
  },
  {
   "cell_type": "markdown",
   "id": "f8c00ba8",
   "metadata": {},
   "source": [
    "## Auditor Receives Final Results"
   ]
  },
  {
   "cell_type": "code",
   "execution_count": null,
   "id": "dacd37e0-8458-45a5-950c-df4a7400abaa",
   "metadata": {},
   "outputs": [],
   "source": [
    "asset = auditor_client.datasets[0].assets[0]\n",
    "result = auditor_client.code.model_output_analysis(data=asset).get()"
   ]
  },
  {
   "cell_type": "code",
   "execution_count": null,
   "id": "766e6555",
   "metadata": {},
   "outputs": [],
   "source": [
    "result"
   ]
  },
  {
   "cell_type": "markdown",
   "id": "0d75b6d1-0db4-4dc3-aa5c-08a1e7eb61ce",
   "metadata": {},
   "source": [
    "👏 Tutorial Complete, you can read more about PySyft on the accompanying [blog post](https://blog.openmined.org/) or on our GitHub [README.md](https://github.com/OpenMined/pysyft)"
   ]
  },
  {
   "cell_type": "markdown",
   "id": "cb4a004e-870b-4389-ae3c-00af92b5054d",
   "metadata": {},
   "source": [
    "Share this Colab Notebook:<br />\n",
    "<a href=\"http://colab.research.google.com/github/OpenMined/PySyft/blob/dev/notebooks/tutorials/model-auditing/colab/01-user-log.ipynb\">\n",
    "  <img src=\"https://colab.research.google.com/assets/colab-badge.svg\" />\n",
    "</a>"
   ]
  },
  {
   "cell_type": "code",
   "execution_count": null,
   "id": "c5dc23e3-4153-4101-911f-ae610140eb61",
   "metadata": {},
   "outputs": [],
   "source": []
  }
 ],
 "metadata": {
  "kernelspec": {
   "display_name": "Python 3 (ipykernel)",
   "language": "python",
   "name": "python3"
  },
  "language_info": {
   "codemirror_mode": {
    "name": "ipython",
    "version": 3
   },
   "file_extension": ".py",
   "mimetype": "text/x-python",
   "name": "python",
   "nbconvert_exporter": "python",
   "pygments_lexer": "ipython3",
   "version": "3.9.7"
  },
  "toc": {
   "base_numbering": 1,
   "nav_menu": {},
   "number_sections": true,
   "sideBar": true,
   "skip_h1_title": false,
   "title_cell": "Table of Contents",
   "title_sidebar": "Contents",
   "toc_cell": false,
   "toc_position": {},
   "toc_section_display": true,
   "toc_window_display": true
  }
 },
 "nbformat": 4,
 "nbformat_minor": 5
}

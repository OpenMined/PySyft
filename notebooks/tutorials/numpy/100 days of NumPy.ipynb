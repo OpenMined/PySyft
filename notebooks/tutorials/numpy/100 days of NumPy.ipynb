{
 "cells": [
  {
   "cell_type": "markdown",
   "id": "cc8a0c0f-a739-4d31-9a50-ff6b019dc59a",
   "metadata": {
    "tags": []
   },
   "source": [
    "# 100 days of Remote NumPy\n",
    "\n",
    "by Curtis \"the Rocketman\" Mitchell, Ishan \"the Punomenon\" Mishra\n",
    "\n",
    "Exercises taken from Nicolas P. Rougier at <a href=\"https://github.com/rougier/numpy-100/blob/master/100_Numpy_exercises_with_solutions.md\"> this GitHub repo. </a>\n"
   ]
  },
  {
   "cell_type": "code",
   "execution_count": null,
   "id": "0cde5c73-7241-4f7d-86f4-eeee06331d6a",
   "metadata": {},
   "outputs": [],
   "source": []
  },
  {
   "cell_type": "markdown",
   "id": "56ce0021-2f16-40cc-832b-aad2996865c5",
   "metadata": {},
   "source": [
    "## Part 0 - Challenge Organizer\n",
    "\n",
    "Challenge organizer (data owner) launches a domain node, creates accounts, and loads in datasets.\n",
    "\n",
    "Sections:\n",
    "1. Hagrid: installs syft and launches a domain node server\n",
    "2. Syft: Loads various NumPy snippets into a challenge dataset\n",
    "    - 1 dataset per group for 10 groups\n",
    "        - 10 assets per dataset\n",
    "            - 1 challenge per asset\n",
    "3. Syft: Creates a test data scientist user account\n"
   ]
  },
  {
   "cell_type": "code",
   "execution_count": null,
   "id": "0c8b49ab-d7f3-4a6a-a6b6-4a1f1fa69a58",
   "metadata": {},
   "outputs": [],
   "source": []
  },
  {
   "cell_type": "markdown",
   "id": "32b37c47-e1c6-4ae5-bcaa-fdf53a5ddbf0",
   "metadata": {},
   "source": [
    "## Part 1 - Data Scientist\n",
    "\n",
    "Participants (data scientists) logs into domain node, creates accounts, and loads in datasets.\n",
    "\n",
    "Sections:\n",
    "1. Syft: Data Scientist logs in, searches for datasets, and mock asset pointers are obtained.\n",
    "2. NumPy: Pointers are used to complete each challenge and submit an entry. \n",
    "    - 10 projects submitted in total\n",
    "        - 10 challenges in each project\n",
    "3. Syft: Results are requested using a `my_pointer.request(msg=\"I'd like this variable\", Globals())` type query.\n",
    "    - This sends the code in the notebook to the data owner so they can see how the pointer was created, but it doesn't require the data scientist to create a custom function using @syft_function\n"
   ]
  },
  {
   "cell_type": "code",
   "execution_count": null,
   "id": "f31b8f4f-76a8-43f3-8f5c-1ee69b953d81",
   "metadata": {},
   "outputs": [],
   "source": []
  },
  {
   "cell_type": "markdown",
   "id": "27ea2829-12b9-4e98-a67d-6420cbc1e6f8",
   "metadata": {},
   "source": [
    "## Part 2 - Judge\n",
    "\n",
    "Challenge organizer (data owner) judges the competition.\n",
    "\n",
    "Sections:\n",
    "1. Syft: Data Owner logs in, notifications are checked, and project/request loaded.\n",
    "2. Syft: Data Owner reads the code submitted by each participant and judges whether it's correct, releasing the result when it is.\n",
    "    - This means each project has 10 requests.\n",
    "    - This involves the use of history hashes to make sure users don't just submit the answer(s).\n",
    "3. Syft: Section where all projects are approved and closed.\n"
   ]
  },
  {
   "cell_type": "code",
   "execution_count": null,
   "id": "6e45e7f9-889b-4984-ae32-e47c4a89bdfc",
   "metadata": {},
   "outputs": [],
   "source": []
  },
  {
   "cell_type": "markdown",
   "id": "a002731f-d73b-4fb0-bef2-c914de5dde9e",
   "metadata": {},
   "source": [
    "## Part 3 - Results\n",
    "\n",
    "Data Scientist receives their results.\n",
    "\n",
    "Sections:\n",
    "1. Syft: Data Scientist logs in and checks their requests\n",
    "2. Syft: Data Scientist downloads their accepted requests and generates an onverall score for the competition"
   ]
  },
  {
   "cell_type": "code",
   "execution_count": null,
   "id": "8f1e4ab3-6f51-47da-b471-83b03572c1db",
   "metadata": {},
   "outputs": [],
   "source": []
  }
 ],
 "metadata": {
  "kernelspec": {
   "display_name": "Python 3 (ipykernel)",
   "language": "python",
   "name": "python3"
  },
  "language_info": {
   "codemirror_mode": {
    "name": "ipython",
    "version": 3
   },
   "file_extension": ".py",
   "mimetype": "text/x-python",
   "name": "python",
   "nbconvert_exporter": "python",
   "pygments_lexer": "ipython3",
   "version": "3.9.16"
  },
  "toc": {
   "base_numbering": 1,
   "nav_menu": {},
   "number_sections": true,
   "sideBar": true,
   "skip_h1_title": false,
   "title_cell": "Table of Contents",
   "title_sidebar": "Contents",
   "toc_cell": false,
   "toc_position": {},
   "toc_section_display": true,
   "toc_window_display": true
  }
 },
 "nbformat": 4,
 "nbformat_minor": 5
}

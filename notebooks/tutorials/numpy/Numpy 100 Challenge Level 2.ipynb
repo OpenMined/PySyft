{
 "cells": [
  {
   "cell_type": "code",
   "execution_count": null,
   "id": "31114ebb-e4e2-427e-9643-b4746e6ec647",
   "metadata": {},
   "outputs": [],
   "source": [
    "import syft as sy\n",
    "from syft import ActionObject\n",
    "import numpy as np"
   ]
  },
  {
   "cell_type": "code",
   "execution_count": null,
   "id": "f646e8f3",
   "metadata": {},
   "outputs": [],
   "source": [
    "node = sy.orchestra.launch(name=\"eager-numpy-test-domain-1\", reset=True)"
   ]
  },
  {
   "cell_type": "code",
   "execution_count": null,
   "id": "0e3e8197",
   "metadata": {},
   "outputs": [],
   "source": [
    "do_client = node.login(email=\"info@openmined.org\", password=\"changethis\")"
   ]
  },
  {
   "cell_type": "code",
   "execution_count": null,
   "id": "c358829f",
   "metadata": {},
   "outputs": [],
   "source": [
    "do_client.register(name=\"guest\", email=\"guest@openmined.org\", password=\"123\")"
   ]
  },
  {
   "cell_type": "code",
   "execution_count": null,
   "id": "e4f12ad8",
   "metadata": {},
   "outputs": [],
   "source": [
    "client = node.login(email=\"guest@openmined.org\", password=\"123\")"
   ]
  },
  {
   "cell_type": "code",
   "execution_count": null,
   "id": "69f675f0",
   "metadata": {},
   "outputs": [],
   "source": [
    "#### 1. Import the numpy package under the name `np` (★☆☆)\n",
    "\n",
    "\n",
    "# ```python\n",
    "# import numpy as np\n",
    "# ```\n",
    "\n",
    "cnp = client.numpy"
   ]
  },
  {
   "cell_type": "code",
   "execution_count": null,
   "id": "45da6fb2",
   "metadata": {},
   "outputs": [],
   "source": [
    "cnp"
   ]
  },
  {
   "cell_type": "code",
   "execution_count": null,
   "id": "575731ae",
   "metadata": {},
   "outputs": [],
   "source": [
    "#### 2. Print the numpy version and the configuration (★☆☆)\n",
    "\n",
    "\n",
    "# TODO: Implement __version__\n",
    "#print(cnp.__version__)\n",
    "#cnp.show_config()\n",
    "\n",
    "# ```python\n",
    "# print(np.__version__)\n",
    "# np.show_config()\n",
    "# ```"
   ]
  },
  {
   "cell_type": "code",
   "execution_count": null,
   "id": "4dd43ca5",
   "metadata": {},
   "outputs": [],
   "source": [
    "#### 3. Create a null vector of size 10 (★☆☆)\n",
    "Z = client.numpy.zeros(10)\n",
    "print(Z)"
   ]
  },
  {
   "cell_type": "code",
   "execution_count": null,
   "id": "0e461856",
   "metadata": {},
   "outputs": [],
   "source": [
    "#### 4. How to find the memory size of any array (★☆☆)\n",
    "Z = cnp.zeros((10,10))\n",
    "print(\"%d bytes\" % (Z.size * Z.itemsize))"
   ]
  },
  {
   "cell_type": "code",
   "execution_count": null,
   "id": "16fd98db",
   "metadata": {},
   "outputs": [],
   "source": [
    "import syft as sy"
   ]
  },
  {
   "cell_type": "code",
   "execution_count": null,
   "id": "2a84b106",
   "metadata": {},
   "outputs": [],
   "source": [
    "#### 5. How to get the documentation of the numpy add function from the command line? (★☆☆)\n",
    "# TODO\n",
    "# %run `python -c \"import numpy; numpy.info(numpy.add)\"`\n",
    "\n",
    "\n",
    "# ```python\n",
    "# %run `python -c \"import numpy; numpy.info(numpy.add)\"`\n",
    "# ```"
   ]
  },
  {
   "cell_type": "code",
   "execution_count": null,
   "id": "1d7bbd50",
   "metadata": {},
   "outputs": [],
   "source": [
    "#### 6. Create a null vector of size 10 but the fifth value which is 1 (★☆☆)\n",
    "\n",
    "Z = cnp.zeros(10)\n",
    "Z[4] = 1\n",
    "print(Z)"
   ]
  },
  {
   "cell_type": "code",
   "execution_count": null,
   "id": "93370e66",
   "metadata": {},
   "outputs": [],
   "source": [
    "#### 7. Create a vector with values ranging from 10 to 49 (★☆☆)\n",
    "Z = cnp.arange(10,50)\n",
    "print(Z)"
   ]
  },
  {
   "cell_type": "code",
   "execution_count": null,
   "id": "78c34142",
   "metadata": {},
   "outputs": [],
   "source": [
    "def create_private_object_and_get_pointer_for_ds(x):\n",
    "    x_obj = ActionObject.from_obj(x)\n",
    "    _id = x_obj.send(do_client).id\n",
    "    ptr = client.api.services.action.get_pointer(_id)\n",
    "    return ptr"
   ]
  },
  {
   "cell_type": "code",
   "execution_count": null,
   "id": "6496963f",
   "metadata": {},
   "outputs": [],
   "source": [
    "def approve_latest_request(do_client, n=1):\n",
    "    latest_n_requests = sorted(do_client.requests, key=lambda x: int(x.request_time.utc_timestamp))[-n:]\n",
    "    print(len(latest_n_requests))\n",
    "    for r in latest_n_requests:\n",
    "        r.approve_with_client(do_client)\n",
    "    "
   ]
  },
  {
   "cell_type": "code",
   "execution_count": null,
   "id": "fbf32798",
   "metadata": {},
   "outputs": [],
   "source": [
    "#### 8. Reverse a vector (first element becomes last) (★☆☆)\n",
    "Z = create_private_object_and_get_pointer_for_ds(np.arange(50))\n",
    "\n",
    "# request result\n",
    "Z.request(client);\n",
    "approve_latest_request(do_client)\n",
    "Z.get_from(client)\n",
    "Z = Z[::-1]\n",
    "print(Z)"
   ]
  },
  {
   "cell_type": "code",
   "execution_count": null,
   "id": "95e76624",
   "metadata": {},
   "outputs": [],
   "source": [
    "#### 9. Create a 3x3 matrix with values ranging from 0 to 8 (★☆☆)\n",
    "\n",
    "Z = cnp.arange(9).reshape(3, 3)\n",
    "print(Z)"
   ]
  },
  {
   "cell_type": "code",
   "execution_count": null,
   "id": "dfc8508d",
   "metadata": {},
   "outputs": [],
   "source": [
    "#### 10. Find indices of non-zero elements from [1,2,0,0,4,0] (★☆☆)\n",
    "\n",
    "# create data\n",
    "data = create_private_object_and_get_pointer_for_ds([1,2,0,0,4,0])\n",
    "\n",
    "# solve challenge\n",
    "nz = cnp.nonzero(data)\n",
    "\n",
    "# request result\n",
    "nz.request(client);\n",
    "approve_latest_request(do_client)\n",
    "nz.get_from(client)\n",
    "print(nz)"
   ]
  },
  {
   "cell_type": "code",
   "execution_count": null,
   "id": "9e218f0f",
   "metadata": {},
   "outputs": [],
   "source": [
    "#### 11. Create a 3x3 identity matrix (★☆☆)\n",
    "cnp.eye(3)"
   ]
  },
  {
   "cell_type": "code",
   "execution_count": null,
   "id": "a158b103",
   "metadata": {},
   "outputs": [],
   "source": [
    "#### 12. Create a 3x3x3 array with random values (★☆☆)\n",
    "# create data\n",
    "data = create_private_object_and_get_pointer_for_ds(np.random.random((3,3,3)))\n",
    "\n",
    "# request result\n",
    "data.request(client);\n",
    "approve_latest_request(do_client)\n",
    "data.get_from(client)"
   ]
  },
  {
   "cell_type": "code",
   "execution_count": null,
   "id": "26c43f6b",
   "metadata": {},
   "outputs": [],
   "source": [
    "#### 13. Create a 10x10 array with random values and find the minimum and maximum values (★☆☆)\n",
    "\n",
    "# create data\n",
    "Z = create_private_object_and_get_pointer_for_ds(np.random.random((10,10)))\n",
    "\n",
    "# solve challenge\n",
    "Zmin, Zmax = Z.min(), Z.max()\n",
    "\n",
    "# request result\n",
    "Zmin.request(client);\n",
    "Zmax.request(client);\n",
    "\n",
    "approve_latest_request(do_client, n=2)\n",
    "Zmin, Zmax = Zmin.get_from(client), Zmax.get_from(client)\n",
    "print(Zmin, Zmax)\n"
   ]
  },
  {
   "cell_type": "code",
   "execution_count": null,
   "id": "7f15f845",
   "metadata": {},
   "outputs": [],
   "source": [
    "#### 14. Create a random vector of size 30 and find the mean value (★☆☆)\n",
    "\n",
    "# create data\n",
    "Z = create_private_object_and_get_pointer_for_ds(np.random.random(30))\n",
    "mean = cnp.mean(Z)\n",
    "\n",
    "# request result\n",
    "mean.request(client);\n",
    "approve_latest_request(do_client)\n",
    "mean.get_from(client)"
   ]
  },
  {
   "cell_type": "code",
   "execution_count": null,
   "id": "9002dfb8",
   "metadata": {},
   "outputs": [],
   "source": [
    "#### 15. Create a 2d array with 1 on the border and 0 inside (★☆☆)\n",
    "\n",
    "# TODO: Fancy Indexing on pointers\n",
    "# # create data\n",
    "# data = create_private_object_and_get_pointer_for_ds(np.ones((10,10)))\n",
    "\n",
    "# # solve challenge\n",
    "# data[1:-1,1:-1] = 0\n",
    "\n",
    "# # request result\n",
    "# data.request(client);\n",
    "# approve_latest_request(do_client)\n",
    "# res = data.get_from(client)\n",
    "\n",
    "# print(res)"
   ]
  },
  {
   "cell_type": "code",
   "execution_count": null,
   "id": "456eec42",
   "metadata": {},
   "outputs": [],
   "source": [
    "#### 16. How to add a border (filled with 0's) around an existing array? (★☆☆)\n",
    "# create data\n",
    "\n",
    "# TODO: Fancy indexing on pointers\n",
    "# Z = create_private_object_and_get_pointer_for_ds(np.ones((5,5)))\n",
    "\n",
    "# solve challenge\n",
    "# Z = cnp.pad(Z, pad_width=1, mode='constant', constant_values=0)\n",
    "\n",
    "# # Using fancy indexing\n",
    "# Z[:, [0, -1]] = 0\n",
    "# Z[[0, -1], :] = 0\n",
    "# print(Z)\n",
    "\n",
    "# # get result\n",
    "# # request result\n",
    "# Z.request(client);\n",
    "\n",
    "# approve_latest_request(do_client)\n",
    "# Z = Z.get_from(client)\n",
    "# print(Z)"
   ]
  },
  {
   "cell_type": "code",
   "execution_count": null,
   "id": "6d4ce3f1",
   "metadata": {},
   "outputs": [],
   "source": [
    "#### 17. What is the result of the following expression? (★☆☆)\n",
    "\n",
    "# create data\n",
    "nan_pointer = create_private_object_and_get_pointer_for_ds(np.nan)\n",
    "inf_pointer = create_private_object_and_get_pointer_for_ds(np.inf)\n",
    "\n",
    "# 0 * np.nan\n",
    "data1 = 0 * nan_pointer\n",
    "data1.request(client)\n",
    "approve_latest_request(do_client)\n",
    "print(data1.get_from(client))\n",
    "\n",
    "# np.nan == np.nan\n",
    "data2 = nan_pointer == nan_pointer\n",
    "data2.request(client)\n",
    "approve_latest_request(do_client)\n",
    "print(data2.get_from(client))\n",
    "\n",
    "# np.inf > np.nan\n",
    "data3 = inf_pointer > nan_pointer\n",
    "data3.request(client)\n",
    "approve_latest_request(do_client)\n",
    "print(data3.get_from(client))\n",
    "\n",
    "# np.nan - np.nan\n",
    "data4 = nan_pointer - nan_pointer\n",
    "data4.request(client)\n",
    "approve_latest_request(do_client)\n",
    "print(data4.get_from(client))\n",
    "\n",
    "# TODO: pointer in set\n",
    "# np.nan in set([np.nan]) \n",
    "# data5 = nan_pointer in set([nan_pointer])\n",
    "# data5.request(client)\n",
    "# approve_latest_request(do_client)\n",
    "# print(data5.get_from(client))\n",
    "\n",
    "# 0.3 == 3 * 0.1\n",
    "data5 = create_private_object_and_get_pointer_for_ds(0.3) == create_private_object_and_get_pointer_for_ds(3 * 0.1)\n",
    "data5.request(client)\n",
    "approve_latest_request(do_client)\n",
    "print(data5.get_from(client))"
   ]
  },
  {
   "cell_type": "code",
   "execution_count": null,
   "id": "35e28e0a",
   "metadata": {},
   "outputs": [],
   "source": [
    "#### 18. Create a 5x5 matrix with values 1,2,3,4 just below the diagonal (★☆☆)\n",
    "\n",
    "Z = create_private_object_and_get_pointer_for_ds(np.diag(1+np.arange(4),k=-1))\n",
    "Z.request(client);\n",
    "approve_latest_request(do_client)\n",
    "Z.get_from(client)"
   ]
  },
  {
   "cell_type": "code",
   "execution_count": null,
   "id": "fe000de2",
   "metadata": {},
   "outputs": [],
   "source": [
    "#### 19. Create a 8x8 matrix and fill it with a checkerboard pattern (★☆☆)\n",
    "\n",
    "# TODO: Fancy Indexing\n",
    "# # create data\n",
    "# Z = create_private_object_and_get_pointer_for_ds(np.zeros((8,8),dtype=int))\n",
    "\n",
    "# # solve Problem\n",
    "# Z[1::2,::2] = 1\n",
    "# Z[::2,1::2] = 1\n",
    "\n",
    "# # request result\n",
    "# Z.request(client);\n",
    "# approve_latest_request(do_client)\n",
    "# print(Z.get_from(client))\n",
    "\n"
   ]
  },
  {
   "cell_type": "code",
   "execution_count": null,
   "id": "221fa759",
   "metadata": {},
   "outputs": [],
   "source": [
    "#### 20. Consider a (6,7,8) shape array, what is the index (x,y,z) of the 100th element? (★☆☆)\n",
    "\n",
    "# create data\n",
    "data = create_private_object_and_get_pointer_for_ds(np.unravel_index(99,(6,7,8)))\n",
    "\n",
    "# request result\n",
    "data.request(client);\n",
    "approve_latest_request(do_client)\n",
    "data.get_from(client)"
   ]
  },
  {
   "cell_type": "code",
   "execution_count": null,
   "id": "02416c7c",
   "metadata": {},
   "outputs": [],
   "source": [
    "#### 21. Create a checkerboard 8x8 matrix using the tile function (★☆☆)\n",
    "\n",
    "# create data\n",
    "Z = create_private_object_and_get_pointer_for_ds(np.tile(np.array([[0,1],[1,0]]), (4,4)))\n",
    "\n",
    "# request result\n",
    "Z.request(client);\n",
    "approve_latest_request(do_client)\n",
    "Z.get_from(client)"
   ]
  },
  {
   "cell_type": "code",
   "execution_count": null,
   "id": "21307d40",
   "metadata": {},
   "outputs": [],
   "source": [
    "#### 22. Normalize a 5x5 random matrix (★☆☆)\n",
    "\n",
    "# create data\n",
    "Z = create_private_object_and_get_pointer_for_ds(np.random.random((5,5)))\n",
    "\n",
    "# solve problem\n",
    "Z = (Z - cnp.mean(Z))/(np.std(Z))\n",
    "\n",
    "# request result\n",
    "Z.request(client);\n",
    "approve_latest_request(do_client)\n",
    "Z.get_from(client)"
   ]
  },
  {
   "cell_type": "code",
   "execution_count": null,
   "id": "46913415",
   "metadata": {},
   "outputs": [],
   "source": [
    "#### 23. Create a custom dtype that describes a color as four unsigned bytes (RGBA) (★☆☆)\n",
    "\n",
    "# TODO: Add support for np.dtype[void]\n",
    "# # create data\n",
    "# color = create_private_object_and_get_pointer_for_ds(np.dtype([(\"r\", np.ubyte),\n",
    "#                                                                 (\"g\", np.ubyte),\n",
    "#                                                                 (\"b\", np.ubyte),\n",
    "#                                                                 (\"a\", np.ubyte)]))\n",
    "\n",
    "# # request result\n",
    "# color.request(client);\n",
    "# approve_latest_request(do_client)\n",
    "# color.get_from(client)"
   ]
  },
  {
   "cell_type": "code",
   "execution_count": null,
   "id": "9a6e0edd",
   "metadata": {},
   "outputs": [],
   "source": [
    "#### 24. Multiply a 5x3 matrix by a 3x2 matrix (real matrix product) (★☆☆)\n",
    "\n",
    "# create data\n",
    "Z = create_private_object_and_get_pointer_for_ds(np.dot(np.ones((5,3)), np.ones((3,2))))\n",
    "\n",
    "# request result\n",
    "Z.request(client);\n",
    "approve_latest_request(do_client)\n",
    "Z.get_from(client)\n"
   ]
  },
  {
   "cell_type": "code",
   "execution_count": null,
   "id": "8d0da180",
   "metadata": {},
   "outputs": [],
   "source": [
    "#### 25. Given a 1D array, negate all elements which are between 3 and 8, in place. (★☆☆)\n",
    "# Original Author: Evgeni Burovski\n",
    "\n",
    "# TODO: *= operator creates recursive error\n",
    "# # create data\n",
    "# Z = create_private_object_and_get_pointer_for_ds(np.arange(11))\n",
    "\n",
    "# # solve challenge\n",
    "# Z[(3 < Z) & (Z < 8)] *= -1\n",
    "\n",
    "# # request result\n",
    "# Z.request(client);\n",
    "# approve_latest_request(do_client)\n",
    "# Z.get_from(client)"
   ]
  },
  {
   "cell_type": "code",
   "execution_count": null,
   "id": "16aec561",
   "metadata": {},
   "outputs": [],
   "source": [
    "#### 26. What is the output of the following script? (★☆☆)\n",
    "# Original Author: Jake VanderPlas\n",
    "\n",
    "print(sum(range(5),-1))\n",
    "from numpy import *\n",
    "print(sum(range(5),-1))\n"
   ]
  },
  {
   "cell_type": "code",
   "execution_count": null,
   "id": "b803635c",
   "metadata": {},
   "outputs": [],
   "source": [
    "#### 27. Consider an integer vector Z, which of these expressions are legal? (★☆☆)\n",
    "\n",
    "\n",
    "```python\n",
    "Z**Z\n",
    "2 << Z >> 2\n",
    "Z <- Z\n",
    "1j*Z\n",
    "Z/1/1\n",
    "Z<Z>Z\n",
    "```\n",
    "\n",
    "\n",
    "```python\n",
    "Z**Z\n",
    "2 << Z >> 2\n",
    "Z <- Z\n",
    "1j*Z\n",
    "Z/1/1\n",
    "Z<Z>Z\n",
    "```"
   ]
  },
  {
   "cell_type": "code",
   "execution_count": null,
   "id": "1c068641",
   "metadata": {},
   "outputs": [],
   "source": [
    "#### 28. What are the result of the following expressions? (★☆☆)\n",
    "\n",
    "# TODO: Fix RuntimeWarnings in divide, floor_divide and cast\n",
    "# # np.array(0) / np.array(0)\n",
    "# data1 = create_private_object_and_get_pointer_for_ds(np.array(0) / np.array(0))\n",
    "# data1.request(client);\n",
    "# approve_latest_request(do_client)\n",
    "# data1.get_from(client)\n",
    "\n",
    "# # np.array(0) // np.array(0)\n",
    "# data2 = create_private_object_and_get_pointer_for_ds(np.array(0) // np.array(0))\n",
    "# data2.request(client);\n",
    "# approve_latest_request(do_client)\n",
    "# data2.get_from(client)\n",
    "\n",
    "# # np.array([np.nan]).astype(int).astype(float)\n",
    "# data3 = create_private_object_and_get_pointer_for_ds(np.array([np.nan]).astype(int).astype(float))\n",
    "# data3.request(client);\n",
    "# approve_latest_request(do_client)\n",
    "# data3.get_from(client)"
   ]
  },
  {
   "cell_type": "code",
   "execution_count": null,
   "id": "a6bcc81c",
   "metadata": {},
   "outputs": [],
   "source": [
    "#### 29. How to round away from zero a float array ? (★☆☆)\n",
    "# Original Author: Charles R Harris\n",
    "\n",
    "# TODO: what is this exception ufunc 'copysign' not supported for input types\n",
    "# # create data\n",
    "# Z = create_private_object_and_get_pointer_for_ds(np.random.uniform(-10,+10,10))\n",
    "\n",
    "# # solve problem\n",
    "# Z_abs = np.abs(Z)\n",
    "# res = cnp.copysign(cnp.ceil(Z_abs), Z)\n",
    "\n",
    "# # request result\n",
    "# res.request(client);\n",
    "# approve_latest_request(do_client)\n",
    "# print(res.get_from(client))\n"
   ]
  },
  {
   "cell_type": "code",
   "execution_count": null,
   "id": "23425d8f",
   "metadata": {},
   "outputs": [],
   "source": [
    "#### 30. How to find common values between two arrays? (★☆☆)\n",
    "\n",
    "# TODO: Add support for intersect1d\n",
    "# # create data\n",
    "# Z1 = create_private_object_and_get_pointer_for_ds(np.random.randint(0,10,10))\n",
    "# Z2 = create_private_object_and_get_pointer_for_ds(np.random.randint(0,10,10))\n",
    "\n",
    "# # solve problem\n",
    "# res = cnp.intersect1d(Z1,Z2)\n",
    "\n",
    "# # request result\n",
    "# res.request(client);\n",
    "# approve_latest_request(do_client)\n",
    "# res.get_from(client)\n"
   ]
  },
  {
   "cell_type": "code",
   "execution_count": null,
   "id": "8406dbec",
   "metadata": {},
   "outputs": [],
   "source": [
    "#### 31. How to ignore all numpy warnings (not recommended)? (★☆☆)\n",
    "\n",
    "# Suicide mode on\n",
    "defaults = np.seterr(all=\"ignore\")\n",
    "\n",
    "# create data\n",
    "Z = create_private_object_and_get_pointer_for_ds(np.ones(1) / 0)\n",
    "\n",
    "# Back to sanity\n",
    "_ = np.seterr(**defaults)\n",
    "\n",
    "# request result\n",
    "Z.request(client);\n",
    "approve_latest_request(do_client)\n",
    "Z.get_from(client)"
   ]
  },
  {
   "cell_type": "code",
   "execution_count": null,
   "id": "11806226",
   "metadata": {},
   "outputs": [],
   "source": [
    "#### 32. Is the following expressions true? (★☆☆)\n",
    "\n",
    "# create data\n",
    "Z = create_private_object_and_get_pointer_for_ds(np.sqrt(-1) == np.emath.sqrt(-1))\n",
    "\n",
    "# request result\n",
    "Z.request(client);\n",
    "approve_latest_request(do_client)\n",
    "Z.get_from(client)"
   ]
  },
  {
   "cell_type": "code",
   "execution_count": null,
   "id": "70f63b57",
   "metadata": {},
   "outputs": [],
   "source": [
    "#### 33. How to get the dates of yesterday, today and tomorrow? (★☆☆)\n",
    "\n",
    "# TODO: numpy.datetime64 not in TYPE_BANK\n",
    "# # create data\n",
    "# yesterday = create_private_object_and_get_pointer_for_ds(np.datetime64('today') - np.timedelta64(1))\n",
    "# today     = create_private_object_and_get_pointer_for_ds(np.datetime64('today'))\n",
    "# tomorrow  = create_private_object_and_get_pointer_for_ds(np.datetime64('today') + np.timedelta64(1))\n",
    "\n",
    "# # request results\n",
    "# yesterday.request(client)\n",
    "# today.request(client)\n",
    "# tomorrow.request(client)\n",
    "\n",
    "# approve_latest_request(do_client, n=3)\n",
    "\n",
    "# yesterday, today, tomorrow = yesterday.get_from(client), today.get_from(client), tomorrow.get_from(client)\n",
    "\n",
    "# print(yesterday, today, tomorrow)"
   ]
  },
  {
   "cell_type": "code",
   "execution_count": null,
   "id": "731aea79",
   "metadata": {},
   "outputs": [],
   "source": [
    "#### 34. How to get all the dates corresponding to the month of July 2016? (★★☆)\n",
    "\n",
    "# TODO: Add support for dtype='datetime64[D]'\n",
    "# # create data\n",
    "# Z = create_private_object_and_get_pointer_for_ds(np.arange('2016-07', '2016-08', dtype='datetime64[D]'))\n",
    "\n",
    "# # request result\n",
    "# Z.request(client);\n",
    "# approve_latest_request(do_client)\n",
    "# Z.get_from(client)\n"
   ]
  },
  {
   "cell_type": "code",
   "execution_count": null,
   "id": "3c7503c9",
   "metadata": {},
   "outputs": [],
   "source": [
    "#### 35. How to compute ((A+B)*(-A/2)) in place (without copy)? (★★☆)\n",
    "\n",
    "# TODO: add support for \"out\" param in np add, divide, negative and multiply\n",
    "# # create data\n",
    "# A = create_private_object_and_get_pointer_for_ds((3)*1)\n",
    "# B = create_private_object_and_get_pointer_for_ds(np.ones(3)*2)\n",
    "\n",
    "# # compute result\n",
    "# np.add(A,B,out=B)\n",
    "# np.divide(A,2,out=A)\n",
    "# np.negative(A,out=A)\n",
    "# np.multiply(A,B,out=A)\n",
    "\n",
    "# # request result\n",
    "# A.request(client);\n",
    "# B.request(client);\n",
    "\n",
    "# approve_latest_request(do_client, n=2)\n",
    "\n",
    "# A, B = A.get_from(client), B.get_from(client)\n",
    "# print(A)"
   ]
  },
  {
   "cell_type": "code",
   "execution_count": null,
   "id": "cc96fb70",
   "metadata": {},
   "outputs": [],
   "source": [
    "#### 36. Extract the integer part of a random array of positive numbers using 4 different methods (★★☆)\n",
    "\n",
    "\n",
    "```python\n",
    "Z = np.random.uniform(0,10,10)\n",
    "\n",
    "print(Z - Z%1)\n",
    "print(Z // 1)\n",
    "print(np.floor(Z))\n",
    "print(Z.astype(int))\n",
    "print(np.trunc(Z))\n",
    "```"
   ]
  },
  {
   "cell_type": "code",
   "execution_count": null,
   "id": "9576526e",
   "metadata": {},
   "outputs": [],
   "source": [
    "#### 37. Create a 5x5 matrix with row values ranging from 0 to 4 (★★☆)\n",
    "\n",
    "\n",
    "```python\n",
    "Z = np.zeros((5,5))\n",
    "Z += np.arange(5)\n",
    "print(Z)\n",
    "\n",
    "# without broadcasting\n",
    "Z = np.tile(np.arange(0, 5), (5,1))\n",
    "print(Z)\n",
    "```"
   ]
  },
  {
   "cell_type": "code",
   "execution_count": null,
   "id": "d0df02fe",
   "metadata": {},
   "outputs": [],
   "source": [
    "#### 38. Consider a generator function that generates 10 integers and use it to build an array (★☆☆)\n",
    "\n",
    "# TODO: builtins.generator not in TYPE_BANK\n",
    "# def generate():\n",
    "#     for x in range(10):\n",
    "#         yield x\n",
    "\n",
    "# Z = client.numpy.fromiter(generate(),dtype=float,count=-1)\n",
    "# print(Z)\n",
    "\n",
    "# ```python\n",
    "# def generate():\n",
    "#     for x in range(10):\n",
    "#         yield x\n",
    "# Z = np.fromiter(generate(),dtype=float,count=-1)\n",
    "# print(Z)\n",
    "# ```"
   ]
  },
  {
   "cell_type": "code",
   "execution_count": null,
   "id": "26b63ff7",
   "metadata": {},
   "outputs": [],
   "source": [
    "#### 39. Create a vector of size 10 with values ranging from 0 to 1, both excluded (★★☆)\n",
    "\n",
    "# TODO: linspace produces too many arguments\n",
    "# Z = client.numpy.linspace(0,1,11,endpoint=False)[1:]\n",
    "# print(Z)\n",
    "\n",
    "# ```python\n",
    "# Z = np.linspace(0,1,11,endpoint=False)[1:]\n",
    "# print(Z)\n",
    "# ```"
   ]
  },
  {
   "cell_type": "code",
   "execution_count": null,
   "id": "45ff4a19",
   "metadata": {},
   "outputs": [],
   "source": [
    "#### 40. Create a random vector of size 10 and sort it (★★☆)\n",
    "\n",
    "\n",
    "```python\n",
    "Z = np.random.random(10)\n",
    "Z.sort()\n",
    "print(Z)\n",
    "```"
   ]
  },
  {
   "cell_type": "code",
   "execution_count": null,
   "id": "b362ee16",
   "metadata": {},
   "outputs": [],
   "source": [
    "#### 41. How to sum a small array faster than np.sum? (★★☆)\n",
    "\n",
    "# TODO: client.add has no attribute 'reduce'\n",
    "# Z = client.numpy.arange(10)\n",
    "# client.numpy.add.reduce(Z)\n",
    "\n",
    "# ```python\n",
    "# # Author: Evgeni Burovski\n",
    "\n",
    "# Z = np.arange(10)\n",
    "# np.add.reduce(Z)\n",
    "# ```"
   ]
  },
  {
   "cell_type": "code",
   "execution_count": null,
   "id": "882c6834",
   "metadata": {},
   "outputs": [],
   "source": [
    "#### 42. Consider two random array A and B, check if they are equal (★★☆)\n",
    "\n",
    "# TODO: implement numpy.random.randint\n",
    "# A = client.numpy.random.randint(0,2,5)\n",
    "# B = client.numpy.random.randint(0,2,5)\n",
    "\n",
    "# ```python\n",
    "# A = np.random.randint(0,2,5)\n",
    "# B = np.random.randint(0,2,5)\n",
    "\n",
    "# # Assuming identical shape of the arrays and a tolerance for the comparison of values\n",
    "# equal = np.allclose(A,B)\n",
    "# print(equal)\n",
    "\n",
    "# # Checking both the shape and the element values, no tolerance (values have to be exactly equal)\n",
    "# equal = np.array_equal(A,B)\n",
    "# print(equal)\n",
    "# ```"
   ]
  },
  {
   "cell_type": "code",
   "execution_count": null,
   "id": "45462f66",
   "metadata": {},
   "outputs": [],
   "source": [
    "#### 43. Make an array immutable (read-only) (★★☆)\n",
    "\n",
    "# TODO: (Not sure if this really needs to be done) Implement writable flag\n",
    "# Z = client.numpy.zeros(10)\n",
    "# Z.flags.writable = False\n",
    "\n",
    "# ```python\n",
    "# Z = np.zeros(10)\n",
    "# Z.flags.writeable = False\n",
    "# Z[0] = 1\n",
    "# ```"
   ]
  },
  {
   "cell_type": "code",
   "execution_count": null,
   "id": "07373429",
   "metadata": {},
   "outputs": [],
   "source": [
    "#### 44. Consider a random 10x2 matrix representing cartesian coordinates, convert them to polar coordinates (★★☆)\n",
    "\n",
    "\n",
    "```python\n",
    "Z = np.random.random((10,2))\n",
    "X,Y = Z[:,0], Z[:,1]\n",
    "R = np.sqrt(X**2+Y**2)\n",
    "T = np.arctan2(Y,X)\n",
    "print(R)\n",
    "print(T)\n",
    "```"
   ]
  },
  {
   "cell_type": "code",
   "execution_count": null,
   "id": "c1156ae4",
   "metadata": {},
   "outputs": [],
   "source": [
    "#### 45. Create random vector of size 10 and replace the maximum value by 0 (★★☆)\n",
    "\n",
    "\n",
    "```python\n",
    "Z = np.random.random(10)\n",
    "Z[Z.argmax()] = 0\n",
    "print(Z)\n",
    "```"
   ]
  },
  {
   "cell_type": "code",
   "execution_count": null,
   "id": "2ba72969",
   "metadata": {},
   "outputs": [],
   "source": [
    "#### 46. Create a structured array with `x` and `y` coordinates covering the [0,1]x[0,1] area (★★☆)\n",
    "\n",
    "Z = client.numpy.zeros((5,5), [('x',float),('y',float)])\n",
    "Z['x'], Z['y'] = np.meshgrid(np.linspace(0,1,5),\n",
    "                             np.linspace(0,1,5))\n",
    "print(Z)\n",
    "\n",
    "# ```python\n",
    "# Z = np.zeros((5,5), [('x',float),('y',float)])\n",
    "# Z['x'], Z['y'] = np.meshgrid(np.linspace(0,1,5),\n",
    "#                              np.linspace(0,1,5))\n",
    "# print(Z)\n",
    "# ```"
   ]
  },
  {
   "cell_type": "code",
   "execution_count": null,
   "id": "e6ebd46f",
   "metadata": {},
   "outputs": [],
   "source": [
    "#### 47. Given two arrays, X and Y, construct the Cauchy matrix C (Cij =1/(xi - yj)) (★★☆)\n",
    "\n",
    "\n",
    "```python\n",
    "# Author: Evgeni Burovski\n",
    "\n",
    "X = np.arange(8)\n",
    "Y = X + 0.5\n",
    "C = 1.0 / np.subtract.outer(X, Y)\n",
    "print(np.linalg.det(C))\n",
    "```"
   ]
  },
  {
   "cell_type": "code",
   "execution_count": null,
   "id": "57c2d789",
   "metadata": {},
   "outputs": [],
   "source": [
    "#### 48. Print the minimum and maximum representable value for each numpy scalar type (★★☆)\n",
    "\n",
    "\n",
    "```python\n",
    "for dtype in [np.int8, np.int32, np.int64]:\n",
    "   print(np.iinfo(dtype).min)\n",
    "   print(np.iinfo(dtype).max)\n",
    "for dtype in [np.float32, np.float64]:\n",
    "   print(np.finfo(dtype).min)\n",
    "   print(np.finfo(dtype).max)\n",
    "   print(np.finfo(dtype).eps)\n",
    "```"
   ]
  },
  {
   "cell_type": "code",
   "execution_count": null,
   "id": "fd47a546",
   "metadata": {},
   "outputs": [],
   "source": [
    "#### 49. How to print all the values of an array? (★★☆)\n",
    "\n",
    "\n",
    "```python\n",
    "np.set_printoptions(threshold=float(\"inf\"))\n",
    "Z = np.zeros((40,40))\n",
    "print(Z)\n",
    "```"
   ]
  },
  {
   "cell_type": "code",
   "execution_count": null,
   "id": "f50aecbf",
   "metadata": {},
   "outputs": [],
   "source": [
    "#### 50. How to find the closest value (to a given scalar) in a vector? (★★☆)\n",
    "\n",
    "\n",
    "```python\n",
    "Z = np.arange(100)\n",
    "v = np.random.uniform(0,100)\n",
    "index = (np.abs(Z-v)).argmin()\n",
    "print(Z[index])\n",
    "```"
   ]
  },
  {
   "cell_type": "code",
   "execution_count": null,
   "id": "dcf5b0c7",
   "metadata": {},
   "outputs": [],
   "source": [
    "#### 51. Create a structured array representing a position (x,y) and a color (r,g,b) (★★☆)\n",
    "\n",
    "\n",
    "```python\n",
    "Z = np.zeros(10, [ ('position', [ ('x', float, 1),\n",
    "                                  ('y', float, 1)]),\n",
    "                   ('color',    [ ('r', float, 1),\n",
    "                                  ('g', float, 1),\n",
    "                                  ('b', float, 1)])])\n",
    "print(Z)\n",
    "```"
   ]
  },
  {
   "cell_type": "code",
   "execution_count": null,
   "id": "5147e457",
   "metadata": {},
   "outputs": [],
   "source": [
    "#### 52. Consider a random vector with shape (100,2) representing coordinates, find point by point distances (★★☆)\n",
    "\n",
    "\n",
    "```python\n",
    "Z = np.random.random((10,2))\n",
    "X,Y = np.atleast_2d(Z[:,0], Z[:,1])\n",
    "D = np.sqrt( (X-X.T)**2 + (Y-Y.T)**2)\n",
    "print(D)\n",
    "\n",
    "# Much faster with scipy\n",
    "import scipy\n",
    "# Thanks Gavin Heverly-Coulson (#issue 1)\n",
    "import scipy.spatial\n",
    "\n",
    "Z = np.random.random((10,2))\n",
    "D = scipy.spatial.distance.cdist(Z,Z)\n",
    "print(D)\n",
    "```"
   ]
  },
  {
   "cell_type": "code",
   "execution_count": null,
   "id": "59665436",
   "metadata": {},
   "outputs": [],
   "source": [
    "#### 53. How to convert a float (32 bits) array into an integer (32 bits) in place?\n",
    "\n",
    "\n",
    "```python\n",
    "# Thanks Vikas (https://stackoverflow.com/a/10622758/5989906)\n",
    "# & unutbu (https://stackoverflow.com/a/4396247/5989906)\n",
    "Z = (np.random.rand(10)*100).astype(np.float32)\n",
    "Y = Z.view(np.int32)\n",
    "Y[:] = Z\n",
    "print(Y)\n",
    "```"
   ]
  },
  {
   "cell_type": "code",
   "execution_count": null,
   "id": "24b6ee68",
   "metadata": {},
   "outputs": [],
   "source": [
    "#### 54. How to read the following file? (★★☆)\n",
    "```\n",
    "1, 2, 3, 4, 5\n",
    "6,  ,  , 7, 8\n",
    " ,  , 9,10,11\n",
    "```\n",
    "\n",
    "\n",
    "```python\n",
    "from io import StringIO\n",
    "\n",
    "# Fake file\n",
    "s = StringIO('''1, 2, 3, 4, 5\n",
    "\n",
    "                6,  ,  , 7, 8\n",
    "\n",
    "                 ,  , 9,10,11\n",
    "''')\n",
    "Z = np.genfromtxt(s, delimiter=\",\", dtype=np.int)\n",
    "print(Z)\n",
    "```"
   ]
  },
  {
   "cell_type": "code",
   "execution_count": null,
   "id": "5aed522d",
   "metadata": {},
   "outputs": [],
   "source": [
    "#### 55. What is the equivalent of enumerate for numpy arrays? (★★☆)\n",
    "# TODO: How would we enumerate on pointers? Do we want to do this?\n",
    "\n",
    "```python\n",
    "Z = np.arange(9).reshape(3,3)\n",
    "for index, value in np.ndenumerate(Z):\n",
    "    print(index, value)\n",
    "for index in np.ndindex(Z.shape):\n",
    "    print(index, Z[index])\n",
    "```"
   ]
  },
  {
   "cell_type": "code",
   "execution_count": null,
   "id": "90000b84",
   "metadata": {},
   "outputs": [],
   "source": [
    "#### 56. Generate a generic 2D Gaussian-like array (★★☆)\n",
    "\n",
    "\n",
    "```python\n",
    "X, Y = np.meshgrid(np.linspace(-1,1,10), np.linspace(-1,1,10))\n",
    "D = np.sqrt(X*X+Y*Y)\n",
    "sigma, mu = 1.0, 0.0\n",
    "G = np.exp(-( (D-mu)**2 / ( 2.0 * sigma**2 ) ) )\n",
    "print(G)\n",
    "```"
   ]
  },
  {
   "cell_type": "code",
   "execution_count": null,
   "id": "caf30cdc",
   "metadata": {},
   "outputs": [],
   "source": [
    "#### 57. How to randomly place p elements in a 2D array? (★★☆)\n",
    "\n",
    "# TODO: np.put is going to fail.\n",
    "\n",
    "```python\n",
    "# Author: Divakar\n",
    "\n",
    "n = 10\n",
    "p = 3\n",
    "Z = np.zeros((n,n))\n",
    "np.put(Z, np.random.choice(range(n*n), p, replace=False),1)\n",
    "print(Z)\n",
    "```"
   ]
  },
  {
   "cell_type": "code",
   "execution_count": null,
   "id": "d70bc802",
   "metadata": {},
   "outputs": [],
   "source": [
    "#### 58. Subtract the mean of each row of a matrix (★★☆)\n",
    "\n",
    "\n",
    "```python\n",
    "# Author: Warren Weckesser\n",
    "\n",
    "X = np.random.rand(5, 10)\n",
    "\n",
    "# Recent versions of numpy\n",
    "Y = X - X.mean(axis=1, keepdims=True)\n",
    "\n",
    "# Older versions of numpy\n",
    "Y = X - X.mean(axis=1).reshape(-1, 1)\n",
    "\n",
    "print(Y)\n",
    "```"
   ]
  },
  {
   "cell_type": "code",
   "execution_count": null,
   "id": "672555aa",
   "metadata": {},
   "outputs": [],
   "source": [
    "#### 59. How to sort an array by the nth column? (★★☆)\n",
    "\n",
    "\n",
    "```python\n",
    "# Author: Steve Tjoa\n",
    "\n",
    "Z = np.random.randint(0,10,(3,3))\n",
    "print(Z)\n",
    "print(Z[Z[:,1].argsort()])\n",
    "```"
   ]
  },
  {
   "cell_type": "code",
   "execution_count": null,
   "id": "4095826e",
   "metadata": {},
   "outputs": [],
   "source": [
    "#### 60. How to tell if a given 2D array has null columns? (★★☆)\n",
    "\n",
    "\n",
    "```python\n",
    "# Author: Warren Weckesser\n",
    "\n",
    "# null : 0 \n",
    "Z = np.random.randint(0,3,(3,10))\n",
    "print((~Z.any(axis=0)).any())\n",
    "\n",
    "# null : np.nan\n",
    "Z=np.array([\n",
    "    [0,1,np.nan],\n",
    "    [1,2,np.nan],\n",
    "    [4,5,np.nan]\n",
    "])\n",
    "print(np.isnan(Z).all(axis=0))\n",
    "```"
   ]
  },
  {
   "cell_type": "code",
   "execution_count": null,
   "id": "ff1e7e89",
   "metadata": {},
   "outputs": [],
   "source": [
    "#### 61. Find the nearest value from a given value in an array (★★☆)\n",
    "\n",
    "\n",
    "```python\n",
    "Z = np.random.uniform(0,1,10)\n",
    "z = 0.5\n",
    "m = Z.flat[np.abs(Z - z).argmin()]\n",
    "print(m)\n",
    "```"
   ]
  },
  {
   "cell_type": "code",
   "execution_count": null,
   "id": "46e53b68",
   "metadata": {},
   "outputs": [],
   "source": [
    "#### 62. Considering two arrays with shape (1,3) and (3,1), how to compute their sum using an iterator? (★★☆)\n",
    "\n",
    "\n",
    "```python\n",
    "A = np.arange(3).reshape(3,1)\n",
    "B = np.arange(3).reshape(1,3)\n",
    "it = np.nditer([A,B,None])\n",
    "for x,y,z in it: z[...] = x + y\n",
    "print(it.operands[2])\n",
    "```"
   ]
  },
  {
   "cell_type": "code",
   "execution_count": null,
   "id": "f1399068",
   "metadata": {},
   "outputs": [],
   "source": [
    "#### 63. Create an array class that has a name attribute (★★☆)\n",
    "\n",
    "\n",
    "```python\n",
    "class NamedArray(np.ndarray):\n",
    "    def __new__(cls, array, name=\"no name\"):\n",
    "        obj = np.asarray(array).view(cls)\n",
    "        obj.name = name\n",
    "        return obj\n",
    "    def __array_finalize__(self, obj):\n",
    "        if obj is None: return\n",
    "        self.name = getattr(obj, 'name', \"no name\")\n",
    "\n",
    "Z = NamedArray(np.arange(10), \"range_10\")\n",
    "print (Z.name)\n",
    "```"
   ]
  },
  {
   "cell_type": "code",
   "execution_count": null,
   "id": "ab169089",
   "metadata": {},
   "outputs": [],
   "source": [
    "#### 64. Consider a given vector, how to add 1 to each element indexed by a second vector (be careful with repeated indices)? (★★★)\n",
    "\n",
    "\n",
    "```python\n",
    "# Author: Brett Olsen\n",
    "\n",
    "Z = np.ones(10)\n",
    "I = np.random.randint(0,len(Z),20)\n",
    "Z += np.bincount(I, minlength=len(Z))\n",
    "print(Z)\n",
    "\n",
    "# Another solution\n",
    "# Author: Bartosz Telenczuk\n",
    "np.add.at(Z, I, 1)\n",
    "print(Z)\n",
    "```"
   ]
  },
  {
   "cell_type": "code",
   "execution_count": null,
   "id": "061ef6ca",
   "metadata": {},
   "outputs": [],
   "source": [
    "#### 65. How to accumulate elements of a vector (X) to an array (F) based on an index list (I)? (★★★)\n",
    "\n",
    "\n",
    "```python\n",
    "# Author: Alan G Isaac\n",
    "\n",
    "X = [1,2,3,4,5,6]\n",
    "I = [1,3,9,3,4,1]\n",
    "F = np.bincount(I,X)\n",
    "print(F)\n",
    "```"
   ]
  },
  {
   "cell_type": "code",
   "execution_count": null,
   "id": "2dc72615",
   "metadata": {},
   "outputs": [],
   "source": [
    "#### 66. Considering a (w,h,3) image of (dtype=ubyte), compute the number of unique colors (★★☆)\n",
    "\n",
    "\n",
    "```python\n",
    "# Author: Fisher Wang\n",
    "\n",
    "w, h = 256, 256\n",
    "I = np.random.randint(0, 4, (h, w, 3)).astype(np.ubyte)\n",
    "colors = np.unique(I.reshape(-1, 3), axis=0)\n",
    "n = len(colors)\n",
    "print(n)\n",
    "\n",
    "# Faster version\n",
    "# Author: Mark Setchell\n",
    "# https://stackoverflow.com/a/59671950/2836621\n",
    "\n",
    "w, h = 256, 256\n",
    "I = np.random.randint(0,4,(h,w,3), dtype=np.uint8)\n",
    "\n",
    "# View each pixel as a single 24-bit integer, rather than three 8-bit bytes\n",
    "I24 = np.dot(I.astype(np.uint32),[1,256,65536])\n",
    "\n",
    "# Count unique colours\n",
    "n = len(np.unique(I24))\n",
    "print(n)\n",
    "```"
   ]
  },
  {
   "cell_type": "code",
   "execution_count": null,
   "id": "3c9618da",
   "metadata": {},
   "outputs": [],
   "source": [
    "#### 67. Considering a four dimensions array, how to get sum over the last two axis at once? (★★★)\n",
    "\n",
    "# TODO: Axis might get spicy\n",
    "\n",
    "```python\n",
    "A = np.random.randint(0,10,(3,4,3,4))\n",
    "# solution by passing a tuple of axes (introduced in numpy 1.7.0)\n",
    "sum = A.sum(axis=(-2,-1))\n",
    "print(sum)\n",
    "# solution by flattening the last two dimensions into one\n",
    "# (useful for functions that don't accept tuples for axis argument)\n",
    "sum = A.reshape(A.shape[:-2] + (-1,)).sum(axis=-1)\n",
    "print(sum)\n",
    "```"
   ]
  },
  {
   "cell_type": "code",
   "execution_count": null,
   "id": "300e8e61",
   "metadata": {},
   "outputs": [],
   "source": [
    "#### 68. Considering a one-dimensional vector D, how to compute means of subsets of D using a vector S of same size describing subset  indices? (★★★)\n",
    "\n",
    "\n",
    "```python\n",
    "# Author: Jaime Fernández del Río\n",
    "\n",
    "D = np.random.uniform(0,1,100)\n",
    "S = np.random.randint(0,10,100)\n",
    "D_sums = np.bincount(S, weights=D)\n",
    "D_counts = np.bincount(S)\n",
    "D_means = D_sums / D_counts\n",
    "print(D_means)\n",
    "\n",
    "# Pandas solution as a reference due to more intuitive code\n",
    "import pandas as pd\n",
    "print(pd.Series(D).groupby(S).mean())\n",
    "```"
   ]
  },
  {
   "cell_type": "code",
   "execution_count": null,
   "id": "c1bb8276",
   "metadata": {},
   "outputs": [],
   "source": [
    "#### 69. How to get the diagonal of a dot product? (★★★)\n",
    "\n",
    "\n",
    "```python\n",
    "# Author: Mathieu Blondel\n",
    "\n",
    "A = np.random.uniform(0,1,(5,5))\n",
    "B = np.random.uniform(0,1,(5,5))\n",
    "\n",
    "# Slow version\n",
    "np.diag(np.dot(A, B))\n",
    "\n",
    "# Fast version\n",
    "np.sum(A * B.T, axis=1)\n",
    "\n",
    "# Faster version\n",
    "np.einsum(\"ij,ji->i\", A, B)\n",
    "```"
   ]
  },
  {
   "cell_type": "code",
   "execution_count": null,
   "id": "57ab3ec3",
   "metadata": {},
   "outputs": [],
   "source": [
    "#### 70. Consider the vector [1, 2, 3, 4, 5], how to build a new vector with 3 consecutive zeros interleaved between each value? (★★★)\n",
    "\n",
    "\n",
    "```python\n",
    "# Author: Warren Weckesser\n",
    "\n",
    "Z = np.array([1,2,3,4,5])\n",
    "nz = 3\n",
    "Z0 = np.zeros(len(Z) + (len(Z)-1)*(nz))\n",
    "Z0[::nz+1] = Z\n",
    "print(Z0)\n",
    "```"
   ]
  },
  {
   "cell_type": "code",
   "execution_count": null,
   "id": "f675e891",
   "metadata": {},
   "outputs": [],
   "source": [
    "#### 71. Consider an array of dimension (5,5,3), how to mulitply it by an array with dimensions (5,5)? (★★★)\n",
    "\n",
    "\n",
    "```python\n",
    "A = np.ones((5,5,3))\n",
    "B = 2*np.ones((5,5))\n",
    "print(A * B[:,:,None])\n",
    "```"
   ]
  },
  {
   "cell_type": "code",
   "execution_count": null,
   "id": "ab387cc0",
   "metadata": {},
   "outputs": [],
   "source": [
    "#### 72. How to swap two rows of an array? (★★★)\n",
    "\n",
    "\n",
    "```python\n",
    "# Author: Eelco Hoogendoorn\n",
    "\n",
    "A = np.arange(25).reshape(5,5)\n",
    "A[[0,1]] = A[[1,0]]\n",
    "print(A)\n",
    "```"
   ]
  },
  {
   "cell_type": "code",
   "execution_count": null,
   "id": "5b5f6993",
   "metadata": {},
   "outputs": [],
   "source": [
    "#### 73. Consider a set of 10 triplets describing 10 triangles (with shared vertices), find the set of unique line segments composing all the  triangles (★★★)\n",
    "\n",
    "\n",
    "```python\n",
    "# Author: Nicolas P. Rougier\n",
    "\n",
    "faces = np.random.randint(0,100,(10,3))\n",
    "F = np.roll(faces.repeat(2,axis=1),-1,axis=1)\n",
    "F = F.reshape(len(F)*3,2)\n",
    "F = np.sort(F,axis=1)\n",
    "G = F.view( dtype=[('p0',F.dtype),('p1',F.dtype)] )\n",
    "G = np.unique(G)\n",
    "print(G)\n",
    "```"
   ]
  },
  {
   "cell_type": "code",
   "execution_count": null,
   "id": "53f9317f",
   "metadata": {},
   "outputs": [],
   "source": [
    "#### 74. Given a sorted array C that corresponds to a bincount, how to produce an array A such that np.bincount(A) == C? (★★★)\n",
    "\n",
    "\n",
    "```python\n",
    "# Author: Jaime Fernández del Río\n",
    "\n",
    "C = np.bincount([1,1,2,3,4,4,6])\n",
    "A = np.repeat(np.arange(len(C)), C)\n",
    "print(A)\n",
    "```"
   ]
  },
  {
   "cell_type": "code",
   "execution_count": null,
   "id": "60371355",
   "metadata": {},
   "outputs": [],
   "source": [
    "#### 75. How to compute averages using a sliding window over an array? (★★★)\n",
    "\n",
    "\n",
    "```python\n",
    "# Author: Jaime Fernández del Río\n",
    "\n",
    "def moving_average(a, n=3) :\n",
    "    ret = np.cumsum(a, dtype=float)\n",
    "    ret[n:] = ret[n:] - ret[:-n]\n",
    "    return ret[n - 1:] / n\n",
    "Z = np.arange(20)\n",
    "print(moving_average(Z, n=3))\n",
    "\n",
    "# Author: Jeff Luo (@Jeff1999)\n",
    "# make sure your NumPy >= 1.20.0\n",
    "\n",
    "from numpy.lib.stride_tricks import sliding_window_view\n",
    "\n",
    "Z = np.arange(20)\n",
    "print(sliding_window_view(Z, window_shape=3).mean(axis=-1))\n",
    "```"
   ]
  },
  {
   "cell_type": "code",
   "execution_count": null,
   "id": "a563f9f4",
   "metadata": {},
   "outputs": [],
   "source": [
    "#### 76. Consider a one-dimensional array Z, build a two-dimensional array whose first row is (Z[0],Z[1],Z[2]) and each subsequent row is  shifted by 1 (last row should be (Z[-3],Z[-2],Z[-1]) (★★★)\n",
    "\n",
    "\n",
    "```python\n",
    "# Author: Joe Kington / Erik Rigtorp\n",
    "from numpy.lib import stride_tricks\n",
    "\n",
    "def rolling(a, window):\n",
    "    shape = (a.size - window + 1, window)\n",
    "    strides = (a.strides[0], a.strides[0])\n",
    "    return stride_tricks.as_strided(a, shape=shape, strides=strides)\n",
    "Z = rolling(np.arange(10), 3)\n",
    "print(Z)\n",
    "\n",
    "# Author: Jeff Luo (@Jeff1999)\n",
    "\n",
    "Z = np.arange(10)\n",
    "print(sliding_window_view(Z, window_shape=3))\n",
    "```"
   ]
  },
  {
   "cell_type": "code",
   "execution_count": null,
   "id": "1bda81e8",
   "metadata": {},
   "outputs": [],
   "source": [
    "#### 77. How to negate a boolean, or to change the sign of a float inplace? (★★★)\n",
    "\n",
    "\n",
    "```python\n",
    "# Author: Nathaniel J. Smith\n",
    "\n",
    "Z = np.random.randint(0,2,100)\n",
    "np.logical_not(Z, out=Z)\n",
    "\n",
    "Z = np.random.uniform(-1.0,1.0,100)\n",
    "np.negative(Z, out=Z)\n",
    "```"
   ]
  },
  {
   "cell_type": "code",
   "execution_count": null,
   "id": "189a6476",
   "metadata": {},
   "outputs": [],
   "source": [
    "#### 78. Consider 2 sets of points P0,P1 describing lines (2d) and a point p, how to compute distance from p to each line i (P0[i],P1[i])? (★★★)\n",
    "\n",
    "\n",
    "```python\n",
    "def distance(P0, P1, p):\n",
    "    T = P1 - P0\n",
    "    L = (T**2).sum(axis=1)\n",
    "    U = -((P0[:,0]-p[...,0])*T[:,0] + (P0[:,1]-p[...,1])*T[:,1]) / L\n",
    "    U = U.reshape(len(U),1)\n",
    "    D = P0 + U*T - p\n",
    "    return np.sqrt((D**2).sum(axis=1))\n",
    "\n",
    "P0 = np.random.uniform(-10,10,(10,2))\n",
    "P1 = np.random.uniform(-10,10,(10,2))\n",
    "p  = np.random.uniform(-10,10,( 1,2))\n",
    "print(distance(P0, P1, p))\n",
    "```"
   ]
  },
  {
   "cell_type": "code",
   "execution_count": null,
   "id": "a3c878b1",
   "metadata": {},
   "outputs": [],
   "source": [
    "#### 79. Consider 2 sets of points P0,P1 describing lines (2d) and a set of points P, how to compute distance from each point j (P[j]) to each line i (P0[i],P1[i])? (★★★)\n",
    "\n",
    "\n",
    "```python\n",
    "# Author: Italmassov Kuanysh\n",
    "\n",
    "# based on distance function from previous question\n",
    "P0 = np.random.uniform(-10, 10, (10,2))\n",
    "P1 = np.random.uniform(-10,10,(10,2))\n",
    "p = np.random.uniform(-10, 10, (10,2))\n",
    "print(np.array([distance(P0,P1,p_i) for p_i in p]))\n",
    "```"
   ]
  },
  {
   "cell_type": "code",
   "execution_count": null,
   "id": "4127f91e",
   "metadata": {},
   "outputs": [],
   "source": [
    "#### 80. Consider an arbitrary array, write a function that extract a subpart with a fixed shape and centered on a given element (pad with a `fill` value when necessary) (★★★)\n",
    "\n",
    "\n",
    "```python\n",
    "# Author: Nicolas Rougier\n",
    "\n",
    "Z = np.random.randint(0,10,(10,10))\n",
    "shape = (5,5)\n",
    "fill  = 0\n",
    "position = (1,1)\n",
    "\n",
    "R = np.ones(shape, dtype=Z.dtype)*fill\n",
    "P  = np.array(list(position)).astype(int)\n",
    "Rs = np.array(list(R.shape)).astype(int)\n",
    "Zs = np.array(list(Z.shape)).astype(int)\n",
    "\n",
    "R_start = np.zeros((len(shape),)).astype(int)\n",
    "R_stop  = np.array(list(shape)).astype(int)\n",
    "Z_start = (P-Rs//2)\n",
    "Z_stop  = (P+Rs//2)+Rs%2\n",
    "\n",
    "R_start = (R_start - np.minimum(Z_start,0)).tolist()\n",
    "Z_start = (np.maximum(Z_start,0)).tolist()\n",
    "R_stop = np.maximum(R_start, (R_stop - np.maximum(Z_stop-Zs,0))).tolist()\n",
    "Z_stop = (np.minimum(Z_stop,Zs)).tolist()\n",
    "\n",
    "r = [slice(start,stop) for start,stop in zip(R_start,R_stop)]\n",
    "z = [slice(start,stop) for start,stop in zip(Z_start,Z_stop)]\n",
    "R[r] = Z[z]\n",
    "print(Z)\n",
    "print(R)\n",
    "```"
   ]
  },
  {
   "cell_type": "code",
   "execution_count": null,
   "id": "00d626ef",
   "metadata": {},
   "outputs": [],
   "source": [
    "#### 81. Consider an array Z = [1,2,3,4,5,6,7,8,9,10,11,12,13,14], how to generate an array R = [[1,2,3,4], [2,3,4,5], [3,4,5,6], ..., [11,12,13,14]]? (★★★)\n",
    "\n",
    "\n",
    "```python\n",
    "# Author: Stefan van der Walt\n",
    "\n",
    "Z = np.arange(1,15,dtype=np.uint32)\n",
    "R = stride_tricks.as_strided(Z,(11,4),(4,4))\n",
    "print(R)\n",
    "\n",
    "# Author: Jeff Luo (@Jeff1999)\n",
    "\n",
    "Z = np.arange(1, 15, dtype=np.uint32)\n",
    "print(sliding_window_view(Z, window_shape=4))\n",
    "```"
   ]
  },
  {
   "cell_type": "code",
   "execution_count": null,
   "id": "aaaf25cd",
   "metadata": {},
   "outputs": [],
   "source": [
    "#### 82. Compute a matrix rank (★★★)\n",
    "\n",
    "\n",
    "```python\n",
    "# Author: Stefan van der Walt\n",
    "\n",
    "Z = np.random.uniform(0,1,(10,10))\n",
    "U, S, V = np.linalg.svd(Z) # Singular Value Decomposition\n",
    "rank = np.sum(S > 1e-10)\n",
    "print(rank)\n",
    "\n",
    "# alternative solution:\n",
    "# Author: Jeff Luo (@Jeff1999)\n",
    "\n",
    "rank = np.linalg.matrix_rank(Z)\n",
    "print(rank)\n",
    "```"
   ]
  },
  {
   "cell_type": "code",
   "execution_count": null,
   "id": "52a688bc",
   "metadata": {},
   "outputs": [],
   "source": [
    "#### 83. How to find the most frequent value in an array?\n",
    "\n",
    "\n",
    "```python\n",
    "Z = np.random.randint(0,10,50)\n",
    "print(np.bincount(Z).argmax())\n",
    "```"
   ]
  },
  {
   "cell_type": "code",
   "execution_count": null,
   "id": "c8e6a94c",
   "metadata": {},
   "outputs": [],
   "source": [
    "#### 84. Extract all the contiguous 3x3 blocks from a random 10x10 matrix (★★★)\n",
    "\n",
    "\n",
    "```python\n",
    "# Author: Chris Barker\n",
    "\n",
    "Z = np.random.randint(0,5,(10,10))\n",
    "n = 3\n",
    "i = 1 + (Z.shape[0]-3)\n",
    "j = 1 + (Z.shape[1]-3)\n",
    "C = stride_tricks.as_strided(Z, shape=(i, j, n, n), strides=Z.strides + Z.strides)\n",
    "print(C)\n",
    "\n",
    "# Author: Jeff Luo (@Jeff1999)\n",
    "\n",
    "Z = np.random.randint(0,5,(10,10))\n",
    "print(sliding_window_view(Z, window_shape=(3, 3)))\n",
    "```"
   ]
  },
  {
   "cell_type": "code",
   "execution_count": null,
   "id": "8293445d",
   "metadata": {},
   "outputs": [],
   "source": [
    "#### 85. Create a 2D array subclass such that Z[i,j] == Z[j,i] (★★★)\n",
    "\n",
    "\n",
    "```python\n",
    "# Author: Eric O. Lebigot\n",
    "# Note: only works for 2d array and value setting using indices\n",
    "\n",
    "class Symetric(np.ndarray):\n",
    "    def __setitem__(self, index, value):\n",
    "        i,j = index\n",
    "        super(Symetric, self).__setitem__((i,j), value)\n",
    "        super(Symetric, self).__setitem__((j,i), value)\n",
    "\n",
    "def symetric(Z):\n",
    "    return np.asarray(Z + Z.T - np.diag(Z.diagonal())).view(Symetric)\n",
    "\n",
    "S = symetric(np.random.randint(0,10,(5,5)))\n",
    "S[2,3] = 42\n",
    "print(S)\n",
    "```"
   ]
  },
  {
   "cell_type": "code",
   "execution_count": null,
   "id": "151ba860",
   "metadata": {},
   "outputs": [],
   "source": [
    "#### 86. Consider a set of p matrices with shape (n,n) and a set of p vectors with shape (n,1). How to compute the sum of of the p matrix products at once? (result has shape (n,1)) (★★★)\n",
    "\n",
    "\n",
    "```python\n",
    "# Author: Stefan van der Walt\n",
    "\n",
    "p, n = 10, 20\n",
    "M = np.ones((p,n,n))\n",
    "V = np.ones((p,n,1))\n",
    "S = np.tensordot(M, V, axes=[[0, 2], [0, 1]])\n",
    "print(S)\n",
    "\n",
    "# It works, because:\n",
    "# M is (p,n,n)\n",
    "# V is (p,n,1)\n",
    "# Thus, summing over the paired axes 0 and 0 (of M and V independently),\n",
    "# and 2 and 1, to remain with a (n,1) vector.\n",
    "```"
   ]
  },
  {
   "cell_type": "code",
   "execution_count": null,
   "id": "c3ef08c6",
   "metadata": {},
   "outputs": [],
   "source": [
    "#### 87. Consider a 16x16 array, how to get the block-sum (block size is 4x4)? (★★★)\n",
    "\n",
    "\n",
    "```python\n",
    "# Author: Robert Kern\n",
    "\n",
    "Z = np.ones((16,16))\n",
    "k = 4\n",
    "S = np.add.reduceat(np.add.reduceat(Z, np.arange(0, Z.shape[0], k), axis=0),\n",
    "                                       np.arange(0, Z.shape[1], k), axis=1)\n",
    "print(S)\n",
    "\n",
    "# alternative solution:\n",
    "# Author: Sebastian Wallkötter (@FirefoxMetzger)\n",
    "\n",
    "Z = np.ones((16,16))\n",
    "k = 4\n",
    "\n",
    "windows = np.lib.stride_tricks.sliding_window_view(Z, (k, k))\n",
    "S = windows[::k, ::k, ...].sum(axis=(-2, -1))\n",
    "\n",
    "# Author: Jeff Luo (@Jeff1999)\n",
    "\n",
    "Z = np.ones((16, 16))\n",
    "k = 4\n",
    "print(sliding_window_view(Z, window_shape=(k, k))[::k, ::k].sum(axis=(-2, -1)))\n",
    "```"
   ]
  },
  {
   "cell_type": "code",
   "execution_count": null,
   "id": "00344e72",
   "metadata": {},
   "outputs": [],
   "source": [
    "#### 88. How to implement the Game of Life using numpy arrays? (★★★)\n",
    "\n",
    "\n",
    "```python\n",
    "# Author: Nicolas Rougier\n",
    "\n",
    "def iterate(Z):\n",
    "    # Count neighbours\n",
    "    N = (Z[0:-2,0:-2] + Z[0:-2,1:-1] + Z[0:-2,2:] +\n",
    "         Z[1:-1,0:-2]                + Z[1:-1,2:] +\n",
    "         Z[2:  ,0:-2] + Z[2:  ,1:-1] + Z[2:  ,2:])\n",
    "\n",
    "    # Apply rules\n",
    "    birth = (N==3) & (Z[1:-1,1:-1]==0)\n",
    "    survive = ((N==2) | (N==3)) & (Z[1:-1,1:-1]==1)\n",
    "    Z[...] = 0\n",
    "    Z[1:-1,1:-1][birth | survive] = 1\n",
    "    return Z\n",
    "\n",
    "Z = np.random.randint(0,2,(50,50))\n",
    "for i in range(100): Z = iterate(Z)\n",
    "print(Z)\n",
    "```"
   ]
  },
  {
   "cell_type": "code",
   "execution_count": null,
   "id": "0218afd6",
   "metadata": {},
   "outputs": [],
   "source": [
    "#### 89. How to get the n largest values of an array (★★★)\n",
    "\n",
    "\n",
    "```python\n",
    "Z = np.arange(10000)\n",
    "np.random.shuffle(Z)\n",
    "n = 5\n",
    "\n",
    "# Slow\n",
    "print (Z[np.argsort(Z)[-n:]])\n",
    "\n",
    "# Fast\n",
    "print (Z[np.argpartition(-Z,n)[:n]])\n",
    "```"
   ]
  },
  {
   "cell_type": "code",
   "execution_count": null,
   "id": "35863d4d",
   "metadata": {},
   "outputs": [],
   "source": [
    "#### 90. Given an arbitrary number of vectors, build the cartesian product (every combinations of every item) (★★★)\n",
    "\n",
    "\n",
    "```python\n",
    "# Author: Stefan Van der Walt\n",
    "\n",
    "def cartesian(arrays):\n",
    "    arrays = [np.asarray(a) for a in arrays]\n",
    "    shape = (len(x) for x in arrays)\n",
    "\n",
    "    ix = np.indices(shape, dtype=int)\n",
    "    ix = ix.reshape(len(arrays), -1).T\n",
    "\n",
    "    for n, arr in enumerate(arrays):\n",
    "        ix[:, n] = arrays[n][ix[:, n]]\n",
    "\n",
    "    return ix\n",
    "\n",
    "print (cartesian(([1, 2, 3], [4, 5], [6, 7])))\n",
    "```"
   ]
  },
  {
   "cell_type": "code",
   "execution_count": null,
   "id": "6d01a62d",
   "metadata": {},
   "outputs": [],
   "source": [
    "#### 91. How to create a record array from a regular array? (★★★)\n",
    "\n",
    "\n",
    "```python\n",
    "Z = np.array([(\"Hello\", 2.5, 3),\n",
    "              (\"World\", 3.6, 2)])\n",
    "R = np.core.records.fromarrays(Z.T,\n",
    "                               names='col1, col2, col3',\n",
    "                               formats = 'S8, f8, i8')\n",
    "print(R)\n",
    "```"
   ]
  },
  {
   "cell_type": "code",
   "execution_count": null,
   "id": "743bdadf",
   "metadata": {},
   "outputs": [],
   "source": [
    "#### 92. Consider a large vector Z, compute Z to the power of 3 using 3 different methods (★★★)\n",
    "\n",
    "\n",
    "```python\n",
    "# Author: Ryan G.\n",
    "\n",
    "x = np.random.rand(int(5e7))\n",
    "\n",
    "%timeit np.power(x,3)\n",
    "%timeit x*x*x\n",
    "%timeit np.einsum('i,i,i->i',x,x,x)\n",
    "```"
   ]
  },
  {
   "cell_type": "code",
   "execution_count": null,
   "id": "0d69b744",
   "metadata": {},
   "outputs": [],
   "source": [
    "#### 93. Consider two arrays A and B of shape (8,3) and (2,2). How to find rows of A that contain elements of each row of B regardless of the order of the elements in B? (★★★)\n",
    "\n",
    "\n",
    "```python\n",
    "# Author: Gabe Schwartz\n",
    "\n",
    "A = np.random.randint(0,5,(8,3))\n",
    "B = np.random.randint(0,5,(2,2))\n",
    "\n",
    "C = (A[..., np.newaxis, np.newaxis] == B)\n",
    "rows = np.where(C.any((3,1)).all(1))[0]\n",
    "print(rows)\n",
    "```"
   ]
  },
  {
   "cell_type": "code",
   "execution_count": null,
   "id": "691d9666",
   "metadata": {},
   "outputs": [],
   "source": [
    "#### 94. Considering a 10x3 matrix, extract rows with unequal values (e.g. [2,2,3]) (★★★)\n",
    "\n",
    "\n",
    "```python\n",
    "# Author: Robert Kern\n",
    "\n",
    "Z = np.random.randint(0,5,(10,3))\n",
    "print(Z)\n",
    "# solution for arrays of all dtypes (including string arrays and record arrays)\n",
    "E = np.all(Z[:,1:] == Z[:,:-1], axis=1)\n",
    "U = Z[~E]\n",
    "print(U)\n",
    "# soluiton for numerical arrays only, will work for any number of columns in Z\n",
    "U = Z[Z.max(axis=1) != Z.min(axis=1),:]\n",
    "print(U)\n",
    "```"
   ]
  },
  {
   "cell_type": "code",
   "execution_count": null,
   "id": "b3387cfb",
   "metadata": {},
   "outputs": [],
   "source": [
    "#### 95. Convert a vector of ints into a matrix binary representation (★★★)\n",
    "\n",
    "\n",
    "```python\n",
    "# Author: Warren Weckesser\n",
    "\n",
    "I = np.array([0, 1, 2, 3, 15, 16, 32, 64, 128])\n",
    "B = ((I.reshape(-1,1) & (2**np.arange(8))) != 0).astype(int)\n",
    "print(B[:,::-1])\n",
    "\n",
    "# Author: Daniel T. McDonald\n",
    "\n",
    "I = np.array([0, 1, 2, 3, 15, 16, 32, 64, 128], dtype=np.uint8)\n",
    "print(np.unpackbits(I[:, np.newaxis], axis=1))\n",
    "```\n",
    "#### 96. Given a two dimensional array, how to extract unique rows? (★★★)\n",
    "\n",
    "\n",
    "```python\n",
    "# Author: Jaime Fernández del Río\n",
    "\n",
    "Z = np.random.randint(0,2,(6,3))\n",
    "T = np.ascontiguousarray(Z).view(np.dtype((np.void, Z.dtype.itemsize * Z.shape[1])))\n",
    "_, idx = np.unique(T, return_index=True)\n",
    "uZ = Z[idx]\n",
    "print(uZ)\n",
    "\n",
    "# Author: Andreas Kouzelis\n",
    "# NumPy >= 1.13\n",
    "uZ = np.unique(Z, axis=0)\n",
    "print(uZ)\n",
    "```"
   ]
  },
  {
   "cell_type": "code",
   "execution_count": null,
   "id": "ba58a7c4",
   "metadata": {},
   "outputs": [],
   "source": [
    "#### 97. Considering 2 vectors A & B, write the einsum equivalent of inner, outer, sum, and mul function (★★★)\n",
    "\n",
    "\n",
    "```python\n",
    "# Author: Alex Riley\n",
    "# Make sure to read: http://ajcr.net/Basic-guide-to-einsum/\n",
    "\n",
    "A = np.random.uniform(0,1,10)\n",
    "B = np.random.uniform(0,1,10)\n",
    "\n",
    "np.einsum('i->', A)       # np.sum(A)\n",
    "np.einsum('i,i->i', A, B) # A * B\n",
    "np.einsum('i,i', A, B)    # np.inner(A, B)\n",
    "np.einsum('i,j->ij', A, B)    # np.outer(A, B)\n",
    "```"
   ]
  },
  {
   "cell_type": "code",
   "execution_count": null,
   "id": "916b2330",
   "metadata": {},
   "outputs": [],
   "source": [
    "#### 98. Considering a path described by two vectors (X,Y), how to sample it using equidistant samples (★★★)?\n",
    "\n",
    "\n",
    "```python\n",
    "# Author: Bas Swinckels\n",
    "\n",
    "phi = np.arange(0, 10*np.pi, 0.1)\n",
    "a = 1\n",
    "x = a*phi*np.cos(phi)\n",
    "y = a*phi*np.sin(phi)\n",
    "\n",
    "dr = (np.diff(x)**2 + np.diff(y)**2)**.5 # segment lengths\n",
    "r = np.zeros_like(x)\n",
    "r[1:] = np.cumsum(dr)                # integrate path\n",
    "r_int = np.linspace(0, r.max(), 200) # regular spaced path\n",
    "x_int = np.interp(r_int, r, x)       # integrate path\n",
    "y_int = np.interp(r_int, r, y)\n",
    "```"
   ]
  },
  {
   "cell_type": "code",
   "execution_count": null,
   "id": "a4c71991",
   "metadata": {},
   "outputs": [],
   "source": [
    "#### 99. Given an integer n and a 2D array X, select from X the rows which can be interpreted as draws from a multinomial distribution with n degrees, i.e., the rows which only contain integers and which sum to n. (★★★)\n",
    "\n",
    "\n",
    "```python\n",
    "# Author: Evgeni Burovski\n",
    "\n",
    "X = np.asarray([[1.0, 0.0, 3.0, 8.0],\n",
    "                [2.0, 0.0, 1.0, 1.0],\n",
    "                [1.5, 2.5, 1.0, 0.0]])\n",
    "n = 4\n",
    "M = np.logical_and.reduce(np.mod(X, 1) == 0, axis=-1)\n",
    "M &= (X.sum(axis=-1) == n)\n",
    "print(X[M])\n",
    "```"
   ]
  },
  {
   "cell_type": "code",
   "execution_count": null,
   "id": "b197a234",
   "metadata": {},
   "outputs": [],
   "source": [
    "#### 100. Compute bootstrapped 95% confidence intervals for the mean of a 1D array X (i.e., resample the elements of an array with replacement N times, compute the mean of each sample, and then compute percentiles over the means). (★★★)\n",
    "\n",
    "\n",
    "```python\n",
    "# Author: Jessica B. Hamrick\n",
    "\n",
    "X = np.random.randn(100) # random 1D array\n",
    "N = 1000 # number of bootstrap samples\n",
    "idx = np.random.randint(0, X.size, (N, X.size))\n",
    "means = X[idx].mean(axis=1)\n",
    "confint = np.percentile(means, [2.5, 97.5])\n",
    "print(confint)\n",
    "```"
   ]
  },
  {
   "cell_type": "code",
   "execution_count": null,
   "id": "ec1b82e1",
   "metadata": {},
   "outputs": [],
   "source": []
  },
  {
   "cell_type": "code",
   "execution_count": null,
   "id": "37402724",
   "metadata": {},
   "outputs": [],
   "source": []
  },
  {
   "cell_type": "code",
   "execution_count": null,
   "id": "6898ae3d",
   "metadata": {},
   "outputs": [],
   "source": []
  },
  {
   "cell_type": "code",
   "execution_count": null,
   "id": "a905c3c4",
   "metadata": {},
   "outputs": [],
   "source": []
  },
  {
   "cell_type": "code",
   "execution_count": null,
   "id": "8a32b03a",
   "metadata": {},
   "outputs": [],
   "source": []
  },
  {
   "cell_type": "code",
   "execution_count": null,
   "id": "93c08059",
   "metadata": {},
   "outputs": [],
   "source": []
  },
  {
   "cell_type": "code",
   "execution_count": null,
   "id": "7fdc25c0",
   "metadata": {},
   "outputs": [],
   "source": []
  },
  {
   "cell_type": "code",
   "execution_count": null,
   "id": "55ee5b37-3bc0-4835-be5b-7f103bb08642",
   "metadata": {},
   "outputs": [],
   "source": [
    "client.numpy.errstate(all=\"ignore\")"
   ]
  },
  {
   "cell_type": "code",
   "execution_count": null,
   "id": "74761d8a-c01f-40db-88d6-8cd9aa78c09b",
   "metadata": {},
   "outputs": [],
   "source": [
    "client.datasets"
   ]
  },
  {
   "cell_type": "code",
   "execution_count": null,
   "id": "e745c8e9",
   "metadata": {},
   "outputs": [],
   "source": []
  },
  {
   "cell_type": "code",
   "execution_count": null,
   "id": "b12a1fa3",
   "metadata": {},
   "outputs": [],
   "source": [
    "ptr = ActionObject.from_obj(np.random.rand(5,5))"
   ]
  },
  {
   "cell_type": "code",
   "execution_count": null,
   "id": "3ff1c951-879a-4b43-8a8e-81169506cd11",
   "metadata": {},
   "outputs": [],
   "source": [
    "# mock_obj"
   ]
  },
  {
   "cell_type": "code",
   "execution_count": null,
   "id": "d67954fa-4331-417b-b3a7-3c7e9b11e145",
   "metadata": {},
   "outputs": [],
   "source": [
    "mock_obj[::-1]"
   ]
  },
  {
   "cell_type": "code",
   "execution_count": null,
   "id": "79ea9ea5-6ffd-4ac3-8327-0bdd6d6954c3",
   "metadata": {},
   "outputs": [],
   "source": [
    "type(mock_obj.reshape(25,))"
   ]
  },
  {
   "cell_type": "code",
   "execution_count": null,
   "id": "0aa9e31a-bef9-4223-8dee-f3420412dd52",
   "metadata": {},
   "outputs": [],
   "source": [
    "np.nonzero(mock_obj)"
   ]
  },
  {
   "cell_type": "code",
   "execution_count": null,
   "id": "93e61d20-8cc2-4d95-867e-36bd5ef8ad60",
   "metadata": {},
   "outputs": [],
   "source": [
    "np.nonzero(data)"
   ]
  },
  {
   "cell_type": "code",
   "execution_count": null,
   "id": "6fa984e4-be95-4b78-9c5c-38b7a94dceaf",
   "metadata": {},
   "outputs": [],
   "source": [
    "type(np.nonzero(mock_obj)), type(np.nonzero(data))"
   ]
  },
  {
   "cell_type": "code",
   "execution_count": null,
   "id": "4f549fcd-8571-490e-9e3f-05f5ee1cec4b",
   "metadata": {},
   "outputs": [],
   "source": [
    "%%timeit\n",
    "mock_obj.min()"
   ]
  },
  {
   "cell_type": "code",
   "execution_count": null,
   "id": "272db5ed-4d89-4a48-8b41-0be69be1a6e3",
   "metadata": {},
   "outputs": [],
   "source": [
    "%%timeit\n",
    "np.min(mock_obj)"
   ]
  },
  {
   "cell_type": "code",
   "execution_count": null,
   "id": "43de8534-840d-449d-a351-0c309237daf4",
   "metadata": {},
   "outputs": [],
   "source": [
    "%%timeit\n",
    "data.min()"
   ]
  },
  {
   "cell_type": "code",
   "execution_count": null,
   "id": "c1cfa897-13b6-4c26-9c20-90047077704c",
   "metadata": {},
   "outputs": [],
   "source": [
    "%%timeit\n",
    "np.min(data)"
   ]
  },
  {
   "cell_type": "code",
   "execution_count": null,
   "id": "989477ae-57c9-4b5d-ab30-4873a6d747f6",
   "metadata": {},
   "outputs": [],
   "source": [
    "np.max(mock_obj)"
   ]
  },
  {
   "cell_type": "code",
   "execution_count": null,
   "id": "7101ff23-be65-4502-8b9e-00f47998563f",
   "metadata": {},
   "outputs": [],
   "source": [
    "mock_obj.max()"
   ]
  },
  {
   "cell_type": "code",
   "execution_count": null,
   "id": "51f7ad5e-7b8d-4f9c-a01a-26a9a554e21b",
   "metadata": {},
   "outputs": [],
   "source": [
    "big_data = np.random.rand(1000,1000)"
   ]
  },
  {
   "cell_type": "code",
   "execution_count": null,
   "id": "df24760a-5b74-418f-b030-ed583987b790",
   "metadata": {},
   "outputs": [],
   "source": [
    "big_mock = AO.from_obj(big_data)"
   ]
  },
  {
   "cell_type": "code",
   "execution_count": null,
   "id": "f5f4d4ba-e899-4533-9a78-7fd552c47bbc",
   "metadata": {},
   "outputs": [],
   "source": [
    "(big_data == big_mock).all()"
   ]
  },
  {
   "cell_type": "code",
   "execution_count": null,
   "id": "98bd86a9-67fc-4c99-95d8-e0e800c8b0ce",
   "metadata": {},
   "outputs": [],
   "source": [
    "%%timeit\n",
    "big_data.min()"
   ]
  },
  {
   "cell_type": "code",
   "execution_count": null,
   "id": "74b4a92b-891a-46fa-a5f8-9b1bac318cd4",
   "metadata": {},
   "outputs": [],
   "source": [
    "%%timeit\n",
    "big_mock.min()"
   ]
  },
  {
   "cell_type": "code",
   "execution_count": null,
   "id": "7c9ba64f-f25a-45dc-adad-5f04e0e97665",
   "metadata": {},
   "outputs": [],
   "source": [
    "%%timeit\n",
    "big_data.mean()"
   ]
  },
  {
   "cell_type": "code",
   "execution_count": null,
   "id": "83c6f013-46c6-4080-a25b-5ec5e27b962d",
   "metadata": {},
   "outputs": [],
   "source": [
    "%%timeit\n",
    "big_mock.mean()"
   ]
  },
  {
   "cell_type": "code",
   "execution_count": null,
   "id": "bdfb6449-f58b-4a77-a8c1-2e07e036c024",
   "metadata": {},
   "outputs": [],
   "source": [
    "np.pad(mock_obj, pad_width=1)"
   ]
  },
  {
   "cell_type": "code",
   "execution_count": null,
   "id": "5dbeddd4-fcbc-4842-8511-8e26614f86eb",
   "metadata": {},
   "outputs": [],
   "source": [
    "np.pad(data, pad_width=1)"
   ]
  },
  {
   "cell_type": "code",
   "execution_count": null,
   "id": "6af99327-d6e8-40ab-8b8c-919d64793834",
   "metadata": {},
   "outputs": [],
   "source": [
    "type(np.pad(mock_obj, pad_width=1))"
   ]
  },
  {
   "cell_type": "code",
   "execution_count": null,
   "id": "9f952b6b-6e08-430f-85a3-d1ed6e6451cb",
   "metadata": {},
   "outputs": [],
   "source": [
    "x = AO.from_obj(0 * np.nan)"
   ]
  },
  {
   "cell_type": "code",
   "execution_count": null,
   "id": "2d0d8731-8e65-4c89-917a-64999e4e7422",
   "metadata": {},
   "outputs": [],
   "source": [
    "type(x)"
   ]
  },
  {
   "cell_type": "code",
   "execution_count": null,
   "id": "b5815f92-73b8-488b-a07b-3b4bd26b4efc",
   "metadata": {},
   "outputs": [],
   "source": [
    "type(AO.from_obj(np.nan == np.nan))"
   ]
  },
  {
   "cell_type": "code",
   "execution_count": null,
   "id": "73e82678-be1e-471b-86be-c464c81de23a",
   "metadata": {},
   "outputs": [],
   "source": [
    "type(np.diag(mock_obj))"
   ]
  },
  {
   "cell_type": "code",
   "execution_count": null,
   "id": "30c01d99-4fdf-4dcf-8e75-1f11897f8247",
   "metadata": {},
   "outputs": [],
   "source": [
    "type(mock_obj.astype(np.int32))"
   ]
  },
  {
   "cell_type": "code",
   "execution_count": null,
   "id": "0e947405-84af-4e4f-a1ba-86dae5bc8e02",
   "metadata": {},
   "outputs": [],
   "source": [
    "type(mock_obj.astype(int))"
   ]
  },
  {
   "cell_type": "code",
   "execution_count": null,
   "id": "9a9414f5-57d1-4679-88bb-ac90f4b8b383",
   "metadata": {},
   "outputs": [],
   "source": [
    "mock_obj.shape"
   ]
  },
  {
   "cell_type": "code",
   "execution_count": null,
   "id": "39873c75-12fc-4120-9460-3d3e1bb667c3",
   "metadata": {},
   "outputs": [],
   "source": [
    "type(mock_obj.shape)"
   ]
  },
  {
   "cell_type": "code",
   "execution_count": null,
   "id": "4b7e7752-847b-4376-96e5-d04fa1b99a57",
   "metadata": {},
   "outputs": [],
   "source": [
    "np.unravel_index(12, mock_obj.shape)"
   ]
  },
  {
   "cell_type": "code",
   "execution_count": null,
   "id": "aa096e0c-4d5e-4c4b-b13c-6e3b92b49def",
   "metadata": {},
   "outputs": [],
   "source": [
    "np.unravel_index(12, (5,5))"
   ]
  },
  {
   "cell_type": "code",
   "execution_count": null,
   "id": "5c0512e8-e4d7-4bd1-8cc1-c0f74307add8",
   "metadata": {},
   "outputs": [],
   "source": [
    "np.unravel_index(12, data.shape)"
   ]
  },
  {
   "cell_type": "code",
   "execution_count": null,
   "id": "998d608d-055e-49b2-9a7a-90d64458e264",
   "metadata": {},
   "outputs": [],
   "source": [
    "np.unravel_index(12, mock_obj.shape)"
   ]
  },
  {
   "cell_type": "code",
   "execution_count": null,
   "id": "58fa2227-7e57-4bc4-9764-f1ac4efdbcf6",
   "metadata": {},
   "outputs": [],
   "source": [
    "np.tile(data, 5)"
   ]
  },
  {
   "cell_type": "code",
   "execution_count": null,
   "id": "ed126210-aaae-40fb-93f7-3d04e4e2fdf2",
   "metadata": {},
   "outputs": [],
   "source": [
    "np.tile(mock_obj, 5)"
   ]
  },
  {
   "cell_type": "code",
   "execution_count": null,
   "id": "17aa8218-24af-4b00-854e-7d6902f9e12b",
   "metadata": {},
   "outputs": [],
   "source": [
    "type(np.tile(mock_obj, 5))"
   ]
  },
  {
   "cell_type": "code",
   "execution_count": null,
   "id": "d55a0338-be41-44ec-8387-3d191d1b2320",
   "metadata": {},
   "outputs": [],
   "source": [
    "(mock_obj - mock_obj.mean())/np.std(mock_obj)"
   ]
  },
  {
   "cell_type": "code",
   "execution_count": null,
   "id": "37f244bb-3d5a-4acb-ab4a-70e6d4f938ec",
   "metadata": {},
   "outputs": [],
   "source": [
    "mock_obj.mean()"
   ]
  },
  {
   "cell_type": "code",
   "execution_count": null,
   "id": "22f56d05-d2f3-4b3c-86f8-181d32117e37",
   "metadata": {},
   "outputs": [],
   "source": [
    "mock_obj - mock_obj.mean()"
   ]
  },
  {
   "cell_type": "code",
   "execution_count": null,
   "id": "4b526616-c4c6-49d0-b668-5e2e7fa473bf",
   "metadata": {},
   "outputs": [],
   "source": [
    "np.std(mock_obj)"
   ]
  },
  {
   "cell_type": "code",
   "execution_count": null,
   "id": "2fb2ec89-fb17-404c-ac68-12bfa788dc50",
   "metadata": {},
   "outputs": [],
   "source": [
    "(mock_obj - mock_obj.mean())/5"
   ]
  },
  {
   "cell_type": "code",
   "execution_count": null,
   "id": "714e7ff7-8c22-485b-9a5f-ccc2b07894d4",
   "metadata": {},
   "outputs": [],
   "source": [
    "(mock_obj - mock_obj.mean())/np.std(mock_obj)"
   ]
  },
  {
   "cell_type": "code",
   "execution_count": null,
   "id": "5414e190-7600-4b5b-8e79-cbd56b3f9473",
   "metadata": {},
   "outputs": [],
   "source": [
    "color = np.dtype([(\"r\", np.ubyte),\n",
    "                  (\"g\", np.ubyte),\n",
    "                  (\"b\", np.ubyte),\n",
    "                  (\"a\", np.ubyte)])"
   ]
  },
  {
   "cell_type": "code",
   "execution_count": null,
   "id": "d1816464-1639-4296-ad0c-230ff415b392",
   "metadata": {},
   "outputs": [],
   "source": [
    "color"
   ]
  },
  {
   "cell_type": "code",
   "execution_count": null,
   "id": "8a45256b-7278-47f5-9fa5-114a444d7d1b",
   "metadata": {},
   "outputs": [],
   "source": [
    "x = AO.from_obj(np.empty(4, dtype=color))"
   ]
  },
  {
   "cell_type": "code",
   "execution_count": null,
   "id": "ec66996b-91ac-45ec-9497-87b61d002cff",
   "metadata": {},
   "outputs": [],
   "source": [
    "type(x)"
   ]
  },
  {
   "cell_type": "code",
   "execution_count": null,
   "id": "82132229-1790-41c0-9ceb-d0dd706f4ac3",
   "metadata": {},
   "outputs": [],
   "source": [
    "data"
   ]
  },
  {
   "cell_type": "code",
   "execution_count": null,
   "id": "d06cb200-646e-4129-9c3c-812bce9e49f3",
   "metadata": {},
   "outputs": [],
   "source": [
    "data[data > 0.5] *= -1"
   ]
  },
  {
   "cell_type": "code",
   "execution_count": null,
   "id": "5fc8a5f5-0bb7-45c9-a696-420124cded60",
   "metadata": {},
   "outputs": [],
   "source": [
    "data"
   ]
  },
  {
   "cell_type": "code",
   "execution_count": null,
   "id": "05bc520a-6bb9-4f10-a378-498259b5324a",
   "metadata": {},
   "outputs": [],
   "source": [
    "mock_obj"
   ]
  },
  {
   "cell_type": "code",
   "execution_count": null,
   "id": "ace5fa30-512b-43cb-ade5-e849952a7d93",
   "metadata": {},
   "outputs": [],
   "source": [
    "mock_obj > 0.25"
   ]
  },
  {
   "cell_type": "code",
   "execution_count": null,
   "id": "db03b20e-63a3-4789-9ef1-7d009ed8f39a",
   "metadata": {},
   "outputs": [],
   "source": [
    "data"
   ]
  },
  {
   "cell_type": "code",
   "execution_count": null,
   "id": "f3f44447-592d-4437-862d-e5a61d3d056d",
   "metadata": {},
   "outputs": [],
   "source": [
    "data ** data"
   ]
  },
  {
   "cell_type": "code",
   "execution_count": null,
   "id": "ecc39186-a9d4-4422-85d8-328400fa17ab",
   "metadata": {},
   "outputs": [],
   "source": [
    "mock_obj ** mock_obj"
   ]
  },
  {
   "cell_type": "code",
   "execution_count": null,
   "id": "fdfd6773-1e14-4611-b2ff-54c8a1552cc5",
   "metadata": {},
   "outputs": [],
   "source": [
    "data <- 2"
   ]
  },
  {
   "cell_type": "code",
   "execution_count": null,
   "id": "17dfd0f0-85b5-437f-b053-66bfa318c116",
   "metadata": {},
   "outputs": [],
   "source": [
    "mock_obj <- 2"
   ]
  },
  {
   "cell_type": "code",
   "execution_count": null,
   "id": "10526aad-b1d2-4dfd-8684-7240336f25e4",
   "metadata": {},
   "outputs": [],
   "source": [
    "1j * data"
   ]
  },
  {
   "cell_type": "code",
   "execution_count": null,
   "id": "7781be14-f50a-4f46-8221-d4f933d3d4e6",
   "metadata": {},
   "outputs": [],
   "source": [
    "1j * mock_obj"
   ]
  },
  {
   "cell_type": "code",
   "execution_count": null,
   "id": "dab88596-bada-4516-a738-22dfb1fd6438",
   "metadata": {},
   "outputs": [],
   "source": [
    "np.copysign(np.ceil(np.abs(data)), data)"
   ]
  },
  {
   "cell_type": "code",
   "execution_count": null,
   "id": "7d32c52f-cb19-4343-98fd-99bd645d69c6",
   "metadata": {},
   "outputs": [],
   "source": [
    "np.copysign(np.ceil(np.abs(mock_obj)), mock_obj)"
   ]
  },
  {
   "cell_type": "code",
   "execution_count": null,
   "id": "5e656018-346d-41be-bc9c-c25318b1206d",
   "metadata": {},
   "outputs": [],
   "source": [
    "np.intersect1d(data, data)"
   ]
  },
  {
   "cell_type": "code",
   "execution_count": null,
   "id": "5a28cc5c-bc7a-45b9-ae07-9aa8d34d5da1",
   "metadata": {},
   "outputs": [],
   "source": [
    "np.intersect1d(data, mock_obj)"
   ]
  },
  {
   "cell_type": "code",
   "execution_count": null,
   "id": "367e4d39-048d-4ff6-9ffa-c8408cddae1c",
   "metadata": {},
   "outputs": [],
   "source": [
    "type(np.intersect1d(data, mock_obj))"
   ]
  },
  {
   "cell_type": "code",
   "execution_count": null,
   "id": "d77fff1f-d2bd-4243-97ba-4452ae952c5f",
   "metadata": {},
   "outputs": [],
   "source": []
  },
  {
   "cell_type": "code",
   "execution_count": null,
   "id": "893c185b-7ab8-41cd-a3af-4948c98391d5",
   "metadata": {},
   "outputs": [],
   "source": [
    "type(np.intersect1d(mock_obj, mock_obj))"
   ]
  },
  {
   "cell_type": "code",
   "execution_count": null,
   "id": "641919fc-a5e5-4009-93e3-f35216ea1d4d",
   "metadata": {},
   "outputs": [],
   "source": [
    "with np.errstate(all=\"ignore\"):\n",
    "    print(np.arange(3)/0)\n",
    "    print(mock_obj/0)"
   ]
  },
  {
   "cell_type": "code",
   "execution_count": null,
   "id": "5ca04421-79db-41d7-9253-00d1452ced84",
   "metadata": {},
   "outputs": [],
   "source": [
    "np.emath.sqrt(mock_obj)"
   ]
  },
  {
   "cell_type": "code",
   "execution_count": null,
   "id": "821ea345-474f-4a75-9cd9-fd3d706c042c",
   "metadata": {},
   "outputs": [],
   "source": [
    "type(AO.from_obj(np.datetime64(\"today\")))"
   ]
  },
  {
   "cell_type": "code",
   "execution_count": null,
   "id": "e323c5f7-3871-4e6f-9d50-8509ad2a535e",
   "metadata": {},
   "outputs": [],
   "source": [
    "x = AO.from_obj(np.datetime64(\"today\"))"
   ]
  },
  {
   "cell_type": "code",
   "execution_count": null,
   "id": "d1eb0605-e8e1-4fe8-b96d-edee79a00cfb",
   "metadata": {},
   "outputs": [],
   "source": [
    "type(x - AO.from_obj(np.timedelta64(1)))"
   ]
  },
  {
   "cell_type": "code",
   "execution_count": null,
   "id": "06847105-d623-4560-a45c-a12a0b01c857",
   "metadata": {},
   "outputs": [],
   "source": [
    "type(AO.from_obj(np.arange('2016-07', '2016-08', dtype='datetime64[D]')))"
   ]
  },
  {
   "cell_type": "code",
   "execution_count": null,
   "id": "372032d9-63e0-43ff-bca4-9cf15e215a97",
   "metadata": {},
   "outputs": [],
   "source": [
    "mock_obj.sort()"
   ]
  },
  {
   "cell_type": "code",
   "execution_count": null,
   "id": "ded98142-e7cc-434d-b43b-1bce3adb187f",
   "metadata": {},
   "outputs": [],
   "source": [
    "mock_obj"
   ]
  },
  {
   "cell_type": "code",
   "execution_count": null,
   "id": "9b75803e-ea8f-4155-998e-f55c28cfb607",
   "metadata": {},
   "outputs": [],
   "source": [
    "c = mock_obj.copy()"
   ]
  },
  {
   "cell_type": "code",
   "execution_count": null,
   "id": "5cc0c9ab-a311-45e2-898a-cdf273ee3161",
   "metadata": {},
   "outputs": [],
   "source": [
    "c.flags"
   ]
  },
  {
   "cell_type": "code",
   "execution_count": null,
   "id": "f8ecd600-6877-47b2-950c-32ff6e9ae549",
   "metadata": {},
   "outputs": [],
   "source": [
    "c.argmax()"
   ]
  },
  {
   "cell_type": "code",
   "execution_count": null,
   "id": "8d1dcfd8-7870-4847-b87d-ba157ff6e11f",
   "metadata": {},
   "outputs": [],
   "source": [
    "type(c.argmax())"
   ]
  },
  {
   "cell_type": "code",
   "execution_count": null,
   "id": "57efd429-3407-498c-887c-19d89a9a0caa",
   "metadata": {},
   "outputs": [],
   "source": [
    "Z = np.zeros((5,5), [('x',float),('y',float)])"
   ]
  },
  {
   "cell_type": "code",
   "execution_count": null,
   "id": "047db842-36b2-4eb5-b4c1-822ee8d1d422",
   "metadata": {},
   "outputs": [],
   "source": [
    "Z"
   ]
  },
  {
   "cell_type": "code",
   "execution_count": null,
   "id": "6374a4cb-c260-4c50-b263-5b1dc0b28d8e",
   "metadata": {},
   "outputs": [],
   "source": [
    "Z['x']"
   ]
  },
  {
   "cell_type": "code",
   "execution_count": null,
   "id": "40a220d0-cfcc-4a77-9da6-bea72eb7b3e7",
   "metadata": {},
   "outputs": [],
   "source": [
    "Z['y']"
   ]
  },
  {
   "cell_type": "code",
   "execution_count": null,
   "id": "df0abdc3-230d-4efb-828a-8cbc31e3f23d",
   "metadata": {},
   "outputs": [],
   "source": [
    "Z['x'], Z['y'] = np.meshgrid(np.linspace(0,1,5),\n",
    "                             np.linspace(0,2,5))"
   ]
  },
  {
   "cell_type": "code",
   "execution_count": null,
   "id": "63856b53-38a4-4f30-be9b-7dd2f34e2729",
   "metadata": {},
   "outputs": [],
   "source": [
    "Z['x']"
   ]
  },
  {
   "cell_type": "code",
   "execution_count": null,
   "id": "59b6ca61-4043-4ee3-aeec-ec381fb929bb",
   "metadata": {},
   "outputs": [],
   "source": [
    "Z['y']"
   ]
  },
  {
   "cell_type": "code",
   "execution_count": null,
   "id": "6ed90ac9-c034-462e-9388-a81e3b2a2012",
   "metadata": {},
   "outputs": [],
   "source": [
    "np.meshgrid(\n",
    "    np.linspace(0,1,5), \n",
    "    np.linspace(0,2,5)\n",
    ")"
   ]
  },
  {
   "cell_type": "code",
   "execution_count": null,
   "id": "a50fd73e-ecdc-4913-bce4-559d307c71e8",
   "metadata": {},
   "outputs": [],
   "source": [
    "np.linalg.det(np.subtract.outer(mock_obj, mock_obj + 0.5))"
   ]
  },
  {
   "cell_type": "code",
   "execution_count": null,
   "id": "0281ceb9-0b11-48fe-987f-ec1445f6ab39",
   "metadata": {},
   "outputs": [],
   "source": [
    "np.zeros((40,40))"
   ]
  },
  {
   "cell_type": "code",
   "execution_count": null,
   "id": "999f0cf9-17b9-462e-9704-385de60072a2",
   "metadata": {},
   "outputs": [],
   "source": [
    "c.flags.writeable = False"
   ]
  },
  {
   "cell_type": "code",
   "execution_count": null,
   "id": "361570ce-3094-4389-9194-1b7caa06235f",
   "metadata": {},
   "outputs": [],
   "source": [
    "np.add.reduce(mock_obj)"
   ]
  },
  {
   "cell_type": "code",
   "execution_count": null,
   "id": "007cd817-00fc-4538-94c5-519fb5e22033",
   "metadata": {},
   "outputs": [],
   "source": [
    "type(np.atleast_2d(mock_obj, mock_obj))"
   ]
  },
  {
   "cell_type": "code",
   "execution_count": null,
   "id": "b46e722e-0922-4f74-aaf7-7896011d06fc",
   "metadata": {},
   "outputs": [],
   "source": [
    "type(mock_obj.view(np.int32))"
   ]
  },
  {
   "cell_type": "code",
   "execution_count": null,
   "id": "171227fc-7eb4-4fb6-80dc-ebe3a011c24e",
   "metadata": {},
   "outputs": [],
   "source": [
    "for i, v in np.ndenumerate(mock_obj):\n",
    "    print(i, v)"
   ]
  },
  {
   "cell_type": "code",
   "execution_count": null,
   "id": "e925bff2-d155-442d-98b6-a904703e7ef2",
   "metadata": {},
   "outputs": [],
   "source": [
    "np.meshgrid(mock_obj, mock_obj)"
   ]
  },
  {
   "cell_type": "code",
   "execution_count": null,
   "id": "844364ff-3e99-4b9e-b945-d44bf65f0506",
   "metadata": {},
   "outputs": [],
   "source": [
    "np.put(mock_obj, np.random.choice(range(5*5), 3, replace=False),1)"
   ]
  },
  {
   "cell_type": "code",
   "execution_count": null,
   "id": "9f81737c-3f7a-446b-9dba-b524ed70cc8b",
   "metadata": {},
   "outputs": [],
   "source": [
    "mock_obj"
   ]
  },
  {
   "cell_type": "code",
   "execution_count": null,
   "id": "4f5060de-3d01-4ce3-9ec0-d53324e6bbb2",
   "metadata": {},
   "outputs": [],
   "source": [
    "mock_obj.flat[np.arange(10)-5]"
   ]
  },
  {
   "cell_type": "code",
   "execution_count": null,
   "id": "f82faac2-0afa-4a4d-bfd0-63bc3994e72b",
   "metadata": {},
   "outputs": [],
   "source": [
    "np.bincount(mock_obj)"
   ]
  },
  {
   "cell_type": "code",
   "execution_count": null,
   "id": "52ee0bc3-0aed-4e82-9481-28293e0337a8",
   "metadata": {},
   "outputs": [],
   "source": [
    "np.bincount(data.astype(np.int32))"
   ]
  },
  {
   "cell_type": "code",
   "execution_count": null,
   "id": "8473b46c-be9e-4154-b44c-19bebff60492",
   "metadata": {},
   "outputs": [],
   "source": [
    "D = np.random.uniform(0,1,100)\n",
    "S = np.random.randint(0,10,100)"
   ]
  },
  {
   "cell_type": "code",
   "execution_count": null,
   "id": "70ac5242-0086-4552-8ef7-462be1190ade",
   "metadata": {},
   "outputs": [],
   "source": [
    "ao = AO.from_obj(S)"
   ]
  },
  {
   "cell_type": "code",
   "execution_count": null,
   "id": "d61e9753-58df-4376-b964-4fa40f37002b",
   "metadata": {},
   "outputs": [],
   "source": [
    "np.bincount(ao, weights=D)"
   ]
  },
  {
   "cell_type": "code",
   "execution_count": null,
   "id": "be0ea65b-c50e-45cc-afb3-295494a4cbb1",
   "metadata": {},
   "outputs": [],
   "source": [
    "np.bincount(ao, weights=AO.from_obj(D))"
   ]
  },
  {
   "cell_type": "code",
   "execution_count": null,
   "id": "a94a9bb9-01d3-4864-be38-e801460976ba",
   "metadata": {},
   "outputs": [],
   "source": [
    "np.linalg.svd(mock_obj)"
   ]
  },
  {
   "cell_type": "code",
   "execution_count": null,
   "id": "5ea5b20e-0a71-4827-be70-3ba1f060fec3",
   "metadata": {},
   "outputs": [],
   "source": [
    "def iterate(Z):\n",
    "    # Count neighbours\n",
    "    N = (Z[0:-2,0:-2] + Z[0:-2,1:-1] + Z[0:-2,2:] +\n",
    "         Z[1:-1,0:-2]                + Z[1:-1,2:] +\n",
    "         Z[2:  ,0:-2] + Z[2:  ,1:-1] + Z[2:  ,2:])\n",
    "\n",
    "    # Apply rules\n",
    "    birth = (N==3) & (Z[1:-1,1:-1]==0)\n",
    "    survive = ((N==2) | (N==3)) & (Z[1:-1,1:-1]==1)\n",
    "    Z[...] = 0\n",
    "    Z[1:-1,1:-1][birth | survive] = 1\n",
    "    return Z"
   ]
  },
  {
   "cell_type": "code",
   "execution_count": null,
   "id": "c2d7894c-d9c3-4983-a258-2c2e212466bb",
   "metadata": {},
   "outputs": [],
   "source": [
    "Z = np.random.randint(0,2,(50,50))\n",
    "mock = AO.from_obj(Z)\n",
    "for i in range(100): mock = iterate(mock)\n",
    "print(Z)"
   ]
  },
  {
   "cell_type": "code",
   "execution_count": null,
   "id": "f05375b9-bc1f-441c-911d-06b9a9a1a934",
   "metadata": {},
   "outputs": [],
   "source": [
    "np.random.shuffle(mock_obj)"
   ]
  },
  {
   "cell_type": "code",
   "execution_count": null,
   "id": "2724d183-1ab9-411c-900b-0084a45e4fa2",
   "metadata": {},
   "outputs": [],
   "source": [
    "mock_obj"
   ]
  },
  {
   "cell_type": "code",
   "execution_count": null,
   "id": "208295c6-e2de-4c54-a57d-2cc171f7db3d",
   "metadata": {},
   "outputs": [],
   "source": [
    "Z = AO.from_obj(np.array([(\"Hello\", 2.5, 3),\n",
    "              (\"World\", 3.6, 2)]))"
   ]
  },
  {
   "cell_type": "code",
   "execution_count": null,
   "id": "6f59b169-2e53-4157-93c5-9c04fc168c53",
   "metadata": {},
   "outputs": [],
   "source": [
    "np.core.records.fromarrays(Z.T,\n",
    "                               names='col1, col2, col3',\n",
    "                               formats = 'S8, f8, i8')"
   ]
  },
  {
   "cell_type": "code",
   "execution_count": null,
   "id": "fc8ec33a-3f58-4cf4-9fce-030829fa7f4a",
   "metadata": {},
   "outputs": [],
   "source": [
    "mock_obj"
   ]
  },
  {
   "cell_type": "code",
   "execution_count": null,
   "id": "9b233002-5c19-4563-b4a6-13e1191651ef",
   "metadata": {},
   "outputs": [],
   "source": [
    "x = mock_obj.copy()"
   ]
  },
  {
   "cell_type": "code",
   "execution_count": null,
   "id": "c6043e9b-a535-47d5-9cab-8c6f05868299",
   "metadata": {},
   "outputs": [],
   "source": [
    "np.power(x,3)"
   ]
  },
  {
   "cell_type": "code",
   "execution_count": null,
   "id": "dfbbdc6e-a54d-4fb4-8da5-c57f5c8cf2b4",
   "metadata": {},
   "outputs": [],
   "source": [
    "x*x*x"
   ]
  },
  {
   "cell_type": "code",
   "execution_count": null,
   "id": "b169ebb0-35f2-4e00-ac86-710511f2856c",
   "metadata": {},
   "outputs": [],
   "source": [
    "np.einsum('i,i,i->i',x.flatten(),x.flatten(),x.flatten())"
   ]
  },
  {
   "cell_type": "code",
   "execution_count": null,
   "id": "33fe4945-e595-4452-be78-743485170226",
   "metadata": {},
   "outputs": [],
   "source": [
    "class MockNumpyClass(np.lib.mixins.NDArrayOperatorsMixin):\n",
    "    def __init__(self, x):\n",
    "        self.x = x\n",
    "    \n",
    "    def __array__(self):\n",
    "        print(\"Array being called\")\n",
    "        return self.x"
   ]
  },
  {
   "cell_type": "code",
   "execution_count": null,
   "id": "5d6b0f09-73af-415f-a170-215467c7abeb",
   "metadata": {},
   "outputs": [],
   "source": [
    "m = MockNumpyClass(data)"
   ]
  },
  {
   "cell_type": "code",
   "execution_count": null,
   "id": "7c5ea259-8e0d-4603-9019-e6d08662e727",
   "metadata": {},
   "outputs": [],
   "source": [
    "type(AO.from_obj(m))"
   ]
  },
  {
   "cell_type": "code",
   "execution_count": null,
   "id": "b6547c18-83df-4dd3-b5ee-e29b03f1e487",
   "metadata": {},
   "outputs": [],
   "source": [
    "m + 5"
   ]
  },
  {
   "cell_type": "code",
   "execution_count": null,
   "id": "3658ec47-a170-4d61-94b7-7ba7d437e6e5",
   "metadata": {},
   "outputs": [],
   "source": [
    "np.sum(m)"
   ]
  },
  {
   "cell_type": "code",
   "execution_count": null,
   "id": "a2d22c23-2d8d-4116-a258-1fadb695c840",
   "metadata": {},
   "outputs": [],
   "source": [
    "np.square(m)"
   ]
  },
  {
   "cell_type": "code",
   "execution_count": null,
   "id": "f1f77ecd-dddd-4515-ae87-a743dc50f6a9",
   "metadata": {},
   "outputs": [],
   "source": [
    "np.max(m)"
   ]
  },
  {
   "cell_type": "code",
   "execution_count": null,
   "id": "ecd5f2ba-9778-412e-a763-b0e6ad67c7e7",
   "metadata": {},
   "outputs": [],
   "source": [
    "np.arctanh(m)"
   ]
  },
  {
   "cell_type": "code",
   "execution_count": null,
   "id": "758a8bfb-9b8d-478c-81d8-9334d1f77f76",
   "metadata": {},
   "outputs": [],
   "source": [
    "from syft.core.node.new.action_object import ActionObject"
   ]
  },
  {
   "cell_type": "code",
   "execution_count": null,
   "id": "d7e4e453-8511-433d-a08a-75cba34b86aa",
   "metadata": {},
   "outputs": [],
   "source": [
    "n = ActionObject.from_obj(data)"
   ]
  },
  {
   "cell_type": "code",
   "execution_count": null,
   "id": "699afeda-2957-4f9f-b247-fa9588b8c6b0",
   "metadata": {},
   "outputs": [],
   "source": [
    "np.max(n)"
   ]
  },
  {
   "cell_type": "code",
   "execution_count": null,
   "id": "dea6e657-5cb9-4bd3-862f-69ebce228da2",
   "metadata": {},
   "outputs": [],
   "source": [
    "np.square(n)"
   ]
  },
  {
   "cell_type": "code",
   "execution_count": null,
   "id": "776894db-1e42-452f-96c9-c107535ab6dc",
   "metadata": {},
   "outputs": [],
   "source": [
    "type(np.square(n))"
   ]
  },
  {
   "cell_type": "code",
   "execution_count": null,
   "id": "07452375-082a-478e-b541-98542e9f29a8",
   "metadata": {},
   "outputs": [],
   "source": [
    "np.square(n).syft_history_hash"
   ]
  },
  {
   "cell_type": "code",
   "execution_count": null,
   "id": "678ecdf2-0f97-401e-8a0a-4383ab777d25",
   "metadata": {},
   "outputs": [],
   "source": [
    "np.square(n).syft_parent_op"
   ]
  },
  {
   "cell_type": "code",
   "execution_count": null,
   "id": "671eb1ee-bf08-4f89-a4a8-f57bc09c5f8e",
   "metadata": {},
   "outputs": [],
   "source": [
    "x = np.square(n)"
   ]
  },
  {
   "cell_type": "code",
   "execution_count": null,
   "id": "7bb16620-b8ec-4b6a-aa8c-1c15e4f1eab3",
   "metadata": {},
   "outputs": [],
   "source": [
    "x.syft_lineage_id"
   ]
  },
  {
   "cell_type": "code",
   "execution_count": null,
   "id": "cda0015d-e22c-4295-9e18-e52264c67b93",
   "metadata": {},
   "outputs": [],
   "source": [
    "n.syft_history_hash"
   ]
  },
  {
   "cell_type": "code",
   "execution_count": null,
   "id": "f6582494-fef6-4f8e-a5f8-f1f09bcdec59",
   "metadata": {},
   "outputs": [],
   "source": [
    "type(np.asarray(n))"
   ]
  },
  {
   "cell_type": "code",
   "execution_count": null,
   "id": "f481f298-351a-4c42-a479-c4fa9f55a9e2",
   "metadata": {},
   "outputs": [],
   "source": [
    "class Client:\n",
    "    def __init__(self):\n",
    "        print(5)\n",
    "    \n",
    "    @property\n",
    "    def numpy(self):\n",
    "        import numpy\n",
    "        print(type(numpy))\n",
    "        return numpy"
   ]
  },
  {
   "cell_type": "code",
   "execution_count": null,
   "id": "8ba0b9c8-cf06-496f-aef9-54cfcd17586e",
   "metadata": {},
   "outputs": [],
   "source": [
    "import types"
   ]
  },
  {
   "cell_type": "code",
   "execution_count": null,
   "id": "c325acf2-e0b8-49d5-8ec2-268cdd57f219",
   "metadata": {},
   "outputs": [],
   "source": [
    "from typing import "
   ]
  },
  {
   "cell_type": "code",
   "execution_count": null,
   "id": "1ef52399-c435-41f1-9029-0b9a4f5ab8a6",
   "metadata": {},
   "outputs": [],
   "source": [
    "c = Client()"
   ]
  },
  {
   "cell_type": "code",
   "execution_count": null,
   "id": "1b164319-c12e-4b66-ba75-63f5b713fab5",
   "metadata": {},
   "outputs": [],
   "source": [
    "np = c.numpy"
   ]
  },
  {
   "cell_type": "code",
   "execution_count": null,
   "id": "b43318d3-9ce1-4412-aa55-207cc59f4555",
   "metadata": {},
   "outputs": [],
   "source": [
    "np.random.randint"
   ]
  },
  {
   "cell_type": "code",
   "execution_count": null,
   "id": "d683ef09-ab03-45e7-8c55-c82b71c93e07",
   "metadata": {},
   "outputs": [],
   "source": [
    "np.__version__"
   ]
  },
  {
   "cell_type": "code",
   "execution_count": null,
   "id": "385b1039-de5a-47c7-8786-322faea2aa12",
   "metadata": {},
   "outputs": [],
   "source": [
    "import numpy"
   ]
  },
  {
   "cell_type": "code",
   "execution_count": null,
   "id": "c0db31f6-7496-4cde-ade5-9e04ed6692ad",
   "metadata": {},
   "outputs": [],
   "source": [
    "numpy.version"
   ]
  },
  {
   "cell_type": "code",
   "execution_count": null,
   "id": "23ddf8cc-6247-4099-aafb-d44f187e1462",
   "metadata": {},
   "outputs": [],
   "source": [
    "numpy.__version__"
   ]
  },
  {
   "cell_type": "code",
   "execution_count": null,
   "id": "38418983-2875-4902-87c8-05d7744a4fd9",
   "metadata": {},
   "outputs": [],
   "source": []
  }
 ],
 "metadata": {
  "kernelspec": {
   "display_name": "OpenMined - Python 3.9",
   "language": "python",
   "name": "openmined39"
  },
  "language_info": {
   "codemirror_mode": {
    "name": "ipython",
    "version": 3
   },
   "file_extension": ".py",
   "mimetype": "text/x-python",
   "name": "python",
   "nbconvert_exporter": "python",
   "pygments_lexer": "ipython3",
   "version": "3.9.17"
  },
  "toc": {
   "base_numbering": 1,
   "nav_menu": {},
   "number_sections": true,
   "sideBar": true,
   "skip_h1_title": false,
   "title_cell": "Table of Contents",
   "title_sidebar": "Contents",
   "toc_cell": false,
   "toc_position": {},
   "toc_section_display": true,
   "toc_window_display": true
  },
  "vscode": {
   "interpreter": {
    "hash": "496c5ec01b300c4d33cb5d5573baff7fd85f15e44b7e0bb1ca99162132c36bd6"
   }
  }
 },
 "nbformat": 4,
 "nbformat_minor": 5
}

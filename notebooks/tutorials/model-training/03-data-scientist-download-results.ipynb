{
 "cells": [
  {
   "cell_type": "code",
   "execution_count": null,
   "id": "21b7d1b6",
   "metadata": {},
   "outputs": [],
   "source": [
    "import syft as sy\n",
    "import jax\n",
    "from jax.example_libraries import stax\n",
    "from jax.example_libraries.stax import Dense, Relu, LogSoftmax\n",
    "from jax import random\n",
    "import jax.numpy as jnp\n",
    "from mnist_dataset import mnist"
   ]
  },
  {
   "cell_type": "code",
   "execution_count": null,
   "id": "388c563d",
   "metadata": {},
   "outputs": [],
   "source": [
    "node = sy.orchestra.launch(name=\"mnist-domain\", dev_mode=True)\n",
    "ds_client = node.login(email=\"sheldon@caltech.edu\", password=\"changethis\")"
   ]
  },
  {
   "cell_type": "markdown",
   "id": "47c6909f",
   "metadata": {},
   "source": [
    "## After the DO has ran the code and deposited the results, the DS downloads them"
   ]
  },
  {
   "cell_type": "code",
   "execution_count": null,
   "id": "71c0afb7",
   "metadata": {},
   "outputs": [],
   "source": [
    "datasets = ds_client.datasets.get_all()\n",
    "assets = datasets[0].assets\n",
    "assert len(assets) == 2"
   ]
  },
  {
   "cell_type": "code",
   "execution_count": null,
   "id": "78c927b1",
   "metadata": {},
   "outputs": [],
   "source": [
    "training_images = assets[0]\n",
    "training_labels = assets[1]"
   ]
  },
  {
   "cell_type": "code",
   "execution_count": null,
   "id": "9ad3db23",
   "metadata": {},
   "outputs": [],
   "source": [
    "ds_client.code"
   ]
  },
  {
   "cell_type": "code",
   "execution_count": null,
   "id": "608507ac",
   "metadata": {},
   "outputs": [],
   "source": [
    "result = ds_client.code.mnist_3_linear_layers(mnist_images=training_images, mnist_labels=training_labels)"
   ]
  },
  {
   "cell_type": "code",
   "execution_count": null,
   "id": "4230b2ac",
   "metadata": {},
   "outputs": [],
   "source": [
    "train_accs, params = result.get_from(ds_client)"
   ]
  },
  {
   "cell_type": "code",
   "execution_count": null,
   "id": "ce0fc0ca",
   "metadata": {},
   "outputs": [],
   "source": [
    "assert isinstance(train_accs, list)\n",
    "train_accs"
   ]
  },
  {
   "cell_type": "code",
   "execution_count": null,
   "id": "534a5d29",
   "metadata": {},
   "outputs": [],
   "source": [
    "assert isinstance(params, list)\n",
    "jax.tree_map(lambda x: x.shape, params)"
   ]
  },
  {
   "cell_type": "markdown",
   "id": "0a13490c",
   "metadata": {},
   "source": [
    "## Having the trained weights, the DS can do inference on the its MNIST test dataset"
   ]
  },
  {
   "cell_type": "code",
   "execution_count": null,
   "id": "4e59f215",
   "metadata": {},
   "outputs": [],
   "source": [
    "_, _, test_images, test_labels = mnist()"
   ]
  },
  {
   "cell_type": "code",
   "execution_count": null,
   "id": "e3b9f190",
   "metadata": {},
   "outputs": [],
   "source": [
    "assert test_images.shape == (10000, 784)\n",
    "assert test_labels.shape == (10000, 10)"
   ]
  },
  {
   "cell_type": "markdown",
   "id": "affa2c8e",
   "metadata": {},
   "source": [
    "#### Define the neural network and the accuracy function"
   ]
  },
  {
   "cell_type": "code",
   "execution_count": null,
   "id": "acafec50",
   "metadata": {},
   "outputs": [],
   "source": [
    "init_random_params, predict = stax.serial(\n",
    "    Dense(1024), Relu,\n",
    "    Dense(1024), Relu,\n",
    "    Dense(10), LogSoftmax)"
   ]
  },
  {
   "cell_type": "code",
   "execution_count": null,
   "id": "dabb9c5d",
   "metadata": {},
   "outputs": [],
   "source": [
    "def accuracy(params, batch):\n",
    "    inputs, targets = batch\n",
    "    target_class = jnp.argmax(targets, axis=1)\n",
    "    predicted_class = jnp.argmax(predict(params, inputs), axis=1)\n",
    "    return jnp.mean(predicted_class == target_class)"
   ]
  },
  {
   "cell_type": "markdown",
   "id": "3d77ba8b",
   "metadata": {},
   "source": [
    "#### Test inference using random weights"
   ]
  },
  {
   "cell_type": "code",
   "execution_count": null,
   "id": "9fa01d06",
   "metadata": {},
   "outputs": [],
   "source": [
    "rng = random.PRNGKey(0)\n",
    "_, random_params = init_random_params(rng, (-1, 28 * 28))\n",
    "\n",
    "test_acc = accuracy(random_params, (test_images, test_labels))\n",
    "print(f\"Test set accuracy with random weights = {test_acc * 100 : .2f}%\")"
   ]
  },
  {
   "cell_type": "markdown",
   "id": "84fdb333",
   "metadata": {},
   "source": [
    "#### Test inference using the trained weights recevied from the DO"
   ]
  },
  {
   "cell_type": "code",
   "execution_count": null,
   "id": "3305ca3e",
   "metadata": {},
   "outputs": [],
   "source": [
    "test_acc = accuracy(params, (test_images, test_labels))\n",
    "print(f\"Test set accuracy with trained weights = {test_acc * 100 : .2f}%\")"
   ]
  },
  {
   "cell_type": "code",
   "execution_count": null,
   "id": "1cd7825f",
   "metadata": {},
   "outputs": [],
   "source": []
  }
 ],
 "metadata": {
  "kernelspec": {
   "display_name": "Python 3 (ipykernel)",
   "language": "python",
   "name": "python3"
  },
  "language_info": {
   "codemirror_mode": {
    "name": "ipython",
    "version": 3
   },
   "file_extension": ".py",
   "mimetype": "text/x-python",
   "name": "python",
   "nbconvert_exporter": "python",
   "pygments_lexer": "ipython3",
   "version": "3.10.8"
  }
 },
 "nbformat": 4,
 "nbformat_minor": 5
}

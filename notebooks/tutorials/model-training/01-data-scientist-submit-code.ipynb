{
 "cells": [
  {
   "cell_type": "code",
   "execution_count": null,
   "id": "0",
   "metadata": {},
   "outputs": [],
   "source": [
    "# third party\n",
    "import matplotlib.pyplot as plt\n",
    "import numpy as np\n",
    "\n",
    "# syft absolute\n",
    "import syft as sy"
   ]
  },
  {
   "cell_type": "markdown",
   "id": "1",
   "metadata": {},
   "source": [
    "## 1. DS logins to the datasite with the credentials created by the DO"
   ]
  },
  {
   "cell_type": "code",
   "execution_count": null,
   "id": "2",
   "metadata": {},
   "outputs": [],
   "source": [
    "server = sy.orchestra.launch(name=\"mnist-torch-datasite\", dev_mode=True)\n",
    "ds_client = server.login(email=\"sheldon@caltech.edu\", password=\"changethis\")"
   ]
  },
  {
   "cell_type": "markdown",
   "id": "3",
   "metadata": {},
   "source": [
    "### Inspect the datasets on the datasite"
   ]
  },
  {
   "cell_type": "code",
   "execution_count": null,
   "id": "4",
   "metadata": {},
   "outputs": [],
   "source": [
    "datasets = ds_client.datasets.get_all()\n",
    "assert len(datasets) == 1\n",
    "datasets"
   ]
  },
  {
   "cell_type": "code",
   "execution_count": null,
   "id": "5",
   "metadata": {},
   "outputs": [],
   "source": [
    "assets = datasets[0].assets\n",
    "assert len(assets) == 2\n",
    "assets"
   ]
  },
  {
   "cell_type": "code",
   "execution_count": null,
   "id": "6",
   "metadata": {},
   "outputs": [],
   "source": [
    "training_images = assets[0]\n",
    "training_images"
   ]
  },
  {
   "cell_type": "code",
   "execution_count": null,
   "id": "7",
   "metadata": {},
   "outputs": [],
   "source": [
    "training_labels = assets[1]\n",
    "training_labels"
   ]
  },
  {
   "cell_type": "markdown",
   "id": "8",
   "metadata": {},
   "source": [
    "#### The DS can not access the real data"
   ]
  },
  {
   "cell_type": "code",
   "execution_count": null,
   "id": "9",
   "metadata": {},
   "outputs": [],
   "source": [
    "assert training_images.data is None"
   ]
  },
  {
   "cell_type": "markdown",
   "id": "10",
   "metadata": {},
   "source": [
    "#### The DS can only access the mock data, which is some random noise"
   ]
  },
  {
   "cell_type": "code",
   "execution_count": null,
   "id": "11",
   "metadata": {},
   "outputs": [],
   "source": [
    "mock_images = training_images.mock\n",
    "plt.imshow(np.reshape(mock_images[0], (28, 28)))"
   ]
  },
  {
   "cell_type": "markdown",
   "id": "12",
   "metadata": {},
   "source": [
    "#### We need the pointers to the mock data to construct a `syft` function (later in the notebook)"
   ]
  },
  {
   "cell_type": "code",
   "execution_count": null,
   "id": "13",
   "metadata": {},
   "outputs": [],
   "source": [
    "mock_images_ptr = training_images.pointer\n",
    "mock_images_ptr"
   ]
  },
  {
   "cell_type": "code",
   "execution_count": null,
   "id": "14",
   "metadata": {},
   "outputs": [],
   "source": [
    "type(mock_images_ptr)"
   ]
  },
  {
   "cell_type": "code",
   "execution_count": null,
   "id": "15",
   "metadata": {},
   "outputs": [],
   "source": [
    "mock_labels = training_labels.mock\n",
    "mock_labels_ptr = training_labels.pointer\n",
    "mock_labels_ptr"
   ]
  },
  {
   "cell_type": "markdown",
   "id": "16",
   "metadata": {},
   "source": [
    "## 2. The DS prepare the training code and experiment on the mock data"
   ]
  },
  {
   "cell_type": "code",
   "execution_count": null,
   "id": "17",
   "metadata": {},
   "outputs": [],
   "source": [
    "def mnist_3_linear_layers_torch(mnist_images, mnist_labels):\n",
    "    # third party\n",
    "    import torch\n",
    "    import torch.nn as nn\n",
    "    import torch.optim as optim\n",
    "    from torch.utils.data import TensorDataset\n",
    "\n",
    "    # Convert NumPy arrays to PyTorch tensors\n",
    "    images_tensor = torch.tensor(mnist_images, dtype=torch.float32)\n",
    "    labels_tensor = torch.tensor(mnist_labels, dtype=torch.float32)\n",
    "    # Create a PyTorch dataset using TensorDataset\n",
    "    custom_dataset = TensorDataset(images_tensor, labels_tensor)\n",
    "    # Define the data loader\n",
    "    train_loader = torch.utils.data.DataLoader(\n",
    "        custom_dataset, batch_size=4, shuffle=True\n",
    "    )\n",
    "\n",
    "    # Define the neural network class\n",
    "    class MLP(nn.Module):\n",
    "        def __init__(self):\n",
    "            super().__init__()\n",
    "            self.fc1 = nn.Linear(784, 1024)\n",
    "            self.fc2 = nn.Linear(1024, 1024)\n",
    "            self.fc3 = nn.Linear(1024, 10)\n",
    "\n",
    "        def forward(self, x):\n",
    "            x = x.view(-1, 784)\n",
    "            x = torch.relu(self.fc1(x))\n",
    "            x = torch.relu(self.fc2(x))\n",
    "            x = torch.log_softmax(self.fc3(x), dim=1)\n",
    "            return x\n",
    "\n",
    "    # Define the model, optimizer, and loss function\n",
    "    model = MLP()\n",
    "    optimizer = optim.SGD(model.parameters(), lr=0.001, momentum=0.9)\n",
    "    criterion = nn.CrossEntropyLoss()\n",
    "\n",
    "    # Function to calculate accuracy\n",
    "    def accuracy(model, data_loader):\n",
    "        correct = 0\n",
    "        total = 0\n",
    "        with torch.no_grad():\n",
    "            for data in data_loader:\n",
    "                inputs, labels = data\n",
    "                outputs = model(inputs)\n",
    "                _, predicted = torch.max(outputs.data, 1)\n",
    "                total += labels.size(0)\n",
    "                correct += (predicted == torch.argmax(labels, dim=1)).sum().item()\n",
    "        return correct / total\n",
    "\n",
    "    # Train the model\n",
    "    num_epochs = 20\n",
    "    train_accs = []\n",
    "    for epoch in range(num_epochs):\n",
    "        running_loss = 0.0\n",
    "        for _, data in enumerate(train_loader, 0):\n",
    "            inputs, labels = data\n",
    "            optimizer.zero_grad()\n",
    "            outputs = model(inputs)\n",
    "            loss = criterion(outputs, labels)\n",
    "            loss.backward()\n",
    "            optimizer.step()\n",
    "            running_loss += loss.item()\n",
    "        print(\n",
    "            f\"Epoch {epoch + 1}, Loss: {(running_loss / len(train_loader)):.4f}\",\n",
    "            end=\". \",\n",
    "        )\n",
    "        # Calculate accuracy on the training set\n",
    "        train_accuracy = accuracy(model, train_loader)\n",
    "        train_accs.append(train_accuracy)\n",
    "        print(f\"Training set accuracy: {train_accuracy}%\")\n",
    "\n",
    "    # Get model parameters\n",
    "    params = model.state_dict()\n",
    "\n",
    "    # Return training accuracy and model parameters\n",
    "    return train_accs, params"
   ]
  },
  {
   "cell_type": "code",
   "execution_count": null,
   "id": "18",
   "metadata": {},
   "outputs": [],
   "source": [
    "train_accs, params = mnist_3_linear_layers_torch(\n",
    "    mnist_images=mock_images, mnist_labels=mock_labels\n",
    ")"
   ]
  },
  {
   "cell_type": "markdown",
   "id": "19",
   "metadata": {},
   "source": [
    "#### Inspect the training accuracies and the model's parameters"
   ]
  },
  {
   "cell_type": "code",
   "execution_count": null,
   "id": "20",
   "metadata": {},
   "outputs": [],
   "source": [
    "train_accs"
   ]
  },
  {
   "cell_type": "code",
   "execution_count": null,
   "id": "21",
   "metadata": {},
   "outputs": [],
   "source": [
    "assert isinstance(params, dict)"
   ]
  },
  {
   "cell_type": "markdown",
   "id": "22",
   "metadata": {},
   "source": [
    "## 3. Now that the code works on mock data, the DS submits the code request for execution to the DO"
   ]
  },
  {
   "cell_type": "markdown",
   "id": "23",
   "metadata": {},
   "source": [
    "#### First the DS wraps the training function with the `@sy.syft_function` decorator"
   ]
  },
  {
   "cell_type": "code",
   "execution_count": null,
   "id": "24",
   "metadata": {},
   "outputs": [],
   "source": [
    "@sy.syft_function(\n",
    "    input_policy=sy.ExactMatch(\n",
    "        mnist_images=mock_images_ptr, mnist_labels=mock_labels_ptr\n",
    "    ),\n",
    "    output_policy=sy.SingleExecutionExactOutput(),\n",
    ")\n",
    "def mnist_3_linear_layers_torch(mnist_images, mnist_labels):\n",
    "    # third party\n",
    "    import torch\n",
    "    import torch.nn as nn\n",
    "    import torch.optim as optim\n",
    "    from torch.utils.data import TensorDataset\n",
    "\n",
    "    # Convert NumPy arrays to PyTorch tensors\n",
    "    images_tensor = torch.tensor(mnist_images, dtype=torch.float32)\n",
    "    labels_tensor = torch.tensor(mnist_labels, dtype=torch.float32)\n",
    "    # Create a PyTorch dataset using TensorDataset\n",
    "    custom_dataset = TensorDataset(images_tensor, labels_tensor)\n",
    "    # Define the data loader\n",
    "    train_loader = torch.utils.data.DataLoader(\n",
    "        custom_dataset, batch_size=4, shuffle=True\n",
    "    )\n",
    "\n",
    "    # Define the neural network class\n",
    "    class MLP(nn.Module):\n",
    "        def __init__(self):\n",
    "            super().__init__()\n",
    "            self.fc1 = nn.Linear(784, 1024)\n",
    "            self.fc2 = nn.Linear(1024, 1024)\n",
    "            self.fc3 = nn.Linear(1024, 10)\n",
    "\n",
    "        def forward(self, x):\n",
    "            x = x.view(-1, 784)\n",
    "            x = torch.relu(self.fc1(x))\n",
    "            x = torch.relu(self.fc2(x))\n",
    "            x = torch.log_softmax(self.fc3(x), dim=1)\n",
    "            return x\n",
    "\n",
    "    # Define the model, optimizer, and loss function\n",
    "    model = MLP()\n",
    "    optimizer = optim.SGD(model.parameters(), lr=0.001, momentum=0.9)\n",
    "    criterion = nn.CrossEntropyLoss()\n",
    "\n",
    "    # Function to calculate accuracy\n",
    "    def accuracy(model, data_loader):\n",
    "        correct = 0\n",
    "        total = 0\n",
    "        with torch.no_grad():\n",
    "            for data in data_loader:\n",
    "                inputs, labels = data\n",
    "                outputs = model(inputs)\n",
    "                _, predicted = torch.max(outputs.data, 1)\n",
    "                total += labels.size(0)\n",
    "                correct += (predicted == torch.argmax(labels, dim=1)).sum().item()\n",
    "        return correct / total\n",
    "\n",
    "    # Train the model\n",
    "    num_epochs = 20\n",
    "    train_accs = []\n",
    "    for epoch in range(num_epochs):\n",
    "        running_loss = 0.0\n",
    "        for _, data in enumerate(train_loader, 0):\n",
    "            inputs, labels = data\n",
    "            optimizer.zero_grad()\n",
    "            outputs = model(inputs)\n",
    "            loss = criterion(outputs, labels)\n",
    "            loss.backward()\n",
    "            optimizer.step()\n",
    "            running_loss += loss.item()\n",
    "        print(\n",
    "            f\"Epoch {epoch + 1}, Loss: {(running_loss / len(train_loader)):.4f}\",\n",
    "            end=\". \",\n",
    "        )\n",
    "        # Calculate accuracy on the training set\n",
    "        train_accuracy = accuracy(model, train_loader)\n",
    "        train_accs.append(train_accuracy)\n",
    "        print(f\"Training set accuracy: {train_accuracy}%\")\n",
    "\n",
    "    # Get model parameters\n",
    "    params = model.state_dict()\n",
    "\n",
    "    # Return training accuracy and model parameters\n",
    "    return train_accs, params"
   ]
  },
  {
   "cell_type": "markdown",
   "id": "25",
   "metadata": {},
   "source": [
    "#### Then the DS creates a new project with relevant name and description, as well as specify itself as a member of the project"
   ]
  },
  {
   "cell_type": "code",
   "execution_count": null,
   "id": "26",
   "metadata": {},
   "outputs": [],
   "source": [
    "new_project = sy.Project(\n",
    "    name=\"Training a 3-layer torch neural network on MNIST data\",\n",
    "    description=\"\"\"Hi, I would like to train my neural network on your MNIST data \n",
    "                (I can download it online too but I just want to use Syft coz it's cool)\"\"\",\n",
    "    members=[ds_client],\n",
    ")\n",
    "new_project"
   ]
  },
  {
   "cell_type": "markdown",
   "id": "27",
   "metadata": {},
   "source": [
    "#### Add a code request to the project"
   ]
  },
  {
   "cell_type": "code",
   "execution_count": null,
   "id": "28",
   "metadata": {},
   "outputs": [],
   "source": [
    "new_project.create_code_request(obj=mnist_3_linear_layers_torch, client=ds_client)"
   ]
  },
  {
   "cell_type": "code",
   "execution_count": null,
   "id": "29",
   "metadata": {},
   "outputs": [],
   "source": [
    "ds_client.code"
   ]
  },
  {
   "cell_type": "markdown",
   "id": "30",
   "metadata": {},
   "source": [
    "#### Start the project which will notifies the DO"
   ]
  },
  {
   "cell_type": "code",
   "execution_count": null,
   "id": "31",
   "metadata": {},
   "outputs": [],
   "source": [
    "project = new_project.send()"
   ]
  },
  {
   "cell_type": "code",
   "execution_count": null,
   "id": "32",
   "metadata": {},
   "outputs": [],
   "source": [
    "project.events"
   ]
  },
  {
   "cell_type": "code",
   "execution_count": null,
   "id": "33",
   "metadata": {},
   "outputs": [],
   "source": [
    "project.requests"
   ]
  },
  {
   "cell_type": "code",
   "execution_count": null,
   "id": "34",
   "metadata": {},
   "outputs": [],
   "source": [
    "project.requests[0]"
   ]
  },
  {
   "cell_type": "markdown",
   "id": "35",
   "metadata": {},
   "source": [
    "### 📓 Now switch to the [second DO's notebook](./02-data-owner-review-approve-code.ipynb)"
   ]
  },
  {
   "cell_type": "code",
   "execution_count": null,
   "id": "36",
   "metadata": {},
   "outputs": [],
   "source": []
  }
 ],
 "metadata": {
  "kernelspec": {
   "display_name": "Python 3 (ipykernel)",
   "language": "python",
   "name": "python3"
  },
  "language_info": {
   "codemirror_mode": {
    "name": "ipython",
    "version": 3
   },
   "file_extension": ".py",
   "mimetype": "text/x-python",
   "name": "python",
   "nbconvert_exporter": "python",
   "pygments_lexer": "ipython3",
   "version": "3.12.2"
  },
  "toc": {
   "base_numbering": 1,
   "nav_menu": {},
   "number_sections": true,
   "sideBar": true,
   "skip_h1_title": false,
   "title_cell": "Table of Contents",
   "title_sidebar": "Contents",
   "toc_cell": false,
   "toc_position": {},
   "toc_section_display": true,
   "toc_window_display": true
  }
 },
 "nbformat": 4,
 "nbformat_minor": 5
}

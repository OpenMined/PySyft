{
 "cells": [
  {
   "cell_type": "code",
   "execution_count": null,
   "id": "bfc52958",
   "metadata": {},
   "outputs": [],
   "source": [
    "import syft as sy\n",
    "from syft.service.request.request import RequestStatus\n",
    "\n",
    "print(f\"{sy.__version__ = }\")"
   ]
  },
  {
   "cell_type": "code",
   "execution_count": null,
   "id": "fc3dde1f",
   "metadata": {},
   "outputs": [],
   "source": [
    "node = sy.orchestra.launch(name=\"mnist-domain\", dev_mode=True)\n",
    "root_client = node.login(email=\"info@openmined.org\", password=\"changethis\")"
   ]
  },
  {
   "cell_type": "markdown",
   "id": "8ea4bbfb",
   "metadata": {},
   "source": [
    "## 1. DO reviews the submitted project and code"
   ]
  },
  {
   "cell_type": "code",
   "execution_count": null,
   "id": "3b271493",
   "metadata": {},
   "outputs": [],
   "source": [
    "root_client.projects"
   ]
  },
  {
   "cell_type": "code",
   "execution_count": null,
   "id": "f0a069f7",
   "metadata": {},
   "outputs": [],
   "source": [
    "requests = root_client.projects[0].requests\n",
    "requests"
   ]
  },
  {
   "cell_type": "code",
   "execution_count": null,
   "id": "674aff56",
   "metadata": {},
   "outputs": [],
   "source": [
    "assert len(requests) == 1"
   ]
  },
  {
   "cell_type": "code",
   "execution_count": null,
   "id": "33362392",
   "metadata": {},
   "outputs": [],
   "source": [
    "request = requests[0]\n",
    "assert request.status == RequestStatus.PENDING\n",
    "request"
   ]
  },
  {
   "cell_type": "code",
   "execution_count": null,
   "id": "ed64171b",
   "metadata": {},
   "outputs": [],
   "source": [
    "change = request.changes[0]\n",
    "change"
   ]
  },
  {
   "cell_type": "markdown",
   "id": "a63b9fab",
   "metadata": {},
   "source": [
    "#### Inspecting the submitted code"
   ]
  },
  {
   "cell_type": "code",
   "execution_count": null,
   "id": "55768bfd",
   "metadata": {},
   "outputs": [],
   "source": [
    "# gettting a reference to the user code object\n",
    "user_code = change.link\n",
    "\n",
    "# viewing the actual code submitted for request\n",
    "user_code.show_code"
   ]
  },
  {
   "cell_type": "markdown",
   "id": "de25a0df",
   "metadata": {},
   "source": [
    "#### The data assets corresponds with the submitted code"
   ]
  },
  {
   "cell_type": "code",
   "execution_count": null,
   "id": "d0b8cb64",
   "metadata": {},
   "outputs": [],
   "source": [
    "assert len(user_code.assets) == 2\n",
    "user_code.assets"
   ]
  },
  {
   "cell_type": "code",
   "execution_count": null,
   "id": "5910c9db",
   "metadata": {},
   "outputs": [],
   "source": [
    "mock_images = user_code.assets[0].mock\n",
    "print(f\"{mock_images.shape = }\")\n",
    "mock_labels = user_code.assets[1].mock\n",
    "print(f\"{mock_labels.shape = }\")"
   ]
  },
  {
   "cell_type": "markdown",
   "id": "f0ee060e",
   "metadata": {},
   "source": [
    "#### The DO runs the code on mock data to ensure things are fine"
   ]
  },
  {
   "cell_type": "code",
   "execution_count": null,
   "id": "52b6e074",
   "metadata": {},
   "outputs": [],
   "source": [
    "users_function = user_code.unsafe_function\n",
    "users_function"
   ]
  },
  {
   "cell_type": "code",
   "execution_count": null,
   "id": "1547a6da",
   "metadata": {},
   "outputs": [],
   "source": [
    "mock_train_accs, mock_params = users_function(mnist_images=mock_images, mnist_labels=mock_labels)"
   ]
  },
  {
   "cell_type": "code",
   "execution_count": null,
   "id": "16e68b59",
   "metadata": {},
   "outputs": [],
   "source": [
    "assert isinstance(mock_train_accs, list)\n",
    "mock_train_accs"
   ]
  },
  {
   "cell_type": "code",
   "execution_count": null,
   "id": "1baa2427",
   "metadata": {},
   "outputs": [],
   "source": [
    "assert isinstance(mock_params, list)\n",
    "mock_params"
   ]
  },
  {
   "cell_type": "markdown",
   "id": "5e7f1351",
   "metadata": {},
   "source": [
    "## 2. DO runs the submitted code on private data, then deposits the results to the domain so the DS can retrieve them"
   ]
  },
  {
   "cell_type": "code",
   "execution_count": null,
   "id": "0c4a1305",
   "metadata": {},
   "outputs": [],
   "source": [
    "# private data associated with the asset\n",
    "private_images = user_code.assets[0].data\n",
    "print(f\"{private_images.shape = }\")\n",
    "private_labels = user_code.assets[1].data\n",
    "print(f\"{private_labels.shape = }\")"
   ]
  },
  {
   "cell_type": "code",
   "execution_count": null,
   "id": "fbcd5243",
   "metadata": {},
   "outputs": [],
   "source": [
    "train_accs, params = users_function(mnist_images=private_images, mnist_labels=private_labels)"
   ]
  },
  {
   "cell_type": "code",
   "execution_count": null,
   "id": "b55ec023",
   "metadata": {},
   "outputs": [],
   "source": [
    "assert isinstance(train_accs, list)\n",
    "train_accs"
   ]
  },
  {
   "cell_type": "code",
   "execution_count": null,
   "id": "01e3d4c6",
   "metadata": {},
   "outputs": [],
   "source": [
    "assert isinstance(params, list)\n",
    "params"
   ]
  },
  {
   "cell_type": "code",
   "execution_count": null,
   "id": "409195bc",
   "metadata": {},
   "outputs": [],
   "source": [
    "res = request.accept_by_depositing_result((train_accs, params))"
   ]
  },
  {
   "cell_type": "code",
   "execution_count": null,
   "id": "9179ad0c",
   "metadata": {},
   "outputs": [],
   "source": [
    "assert isinstance(res, sy.SyftSuccess)\n",
    "res"
   ]
  },
  {
   "cell_type": "markdown",
   "id": "7fceae10",
   "metadata": {},
   "source": [
    "### 📓 Now switch to the [second DS's notebook](./03-data-scientist-download-results.ipynb)"
   ]
  },
  {
   "cell_type": "code",
   "execution_count": null,
   "id": "d12f07e3",
   "metadata": {},
   "outputs": [],
   "source": []
  }
 ],
 "metadata": {
  "kernelspec": {
   "display_name": "Python 3 (ipykernel)",
   "language": "python",
   "name": "python3"
  },
  "language_info": {
   "codemirror_mode": {
    "name": "ipython",
    "version": 3
   },
   "file_extension": ".py",
   "mimetype": "text/x-python",
   "name": "python",
   "nbconvert_exporter": "python",
   "pygments_lexer": "ipython3",
   "version": "3.10.8"
  }
 },
 "nbformat": 4,
 "nbformat_minor": 5
}

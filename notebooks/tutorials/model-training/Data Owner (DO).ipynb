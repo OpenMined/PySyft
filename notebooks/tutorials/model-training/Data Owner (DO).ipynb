{
 "cells": [
  {
   "cell_type": "code",
   "execution_count": null,
   "id": "246a4d76",
   "metadata": {},
   "outputs": [],
   "source": [
    "import os\n",
    "from os import path\n",
    "import urllib.request\n",
    "import gzip\n",
    "import struct\n",
    "import array\n",
    "\n",
    "import jax\n",
    "import syft as sy\n",
    "import numpy as np\n",
    "import pandas as pd\n",
    "import matplotlib.pyplot as plt\n",
    "\n",
    "# relative import\n",
    "from mnist_dataset import mnist, mnist_raw\n",
    "\n",
    "\n",
    "print(f\"{sy.__version__ = }\")"
   ]
  },
  {
   "cell_type": "markdown",
   "id": "a4c29d03",
   "metadata": {},
   "source": [
    "## 1. Launch the domain, upload the data"
   ]
  },
  {
   "cell_type": "code",
   "execution_count": null,
   "id": "5080ad6a",
   "metadata": {},
   "outputs": [],
   "source": [
    "node = sy.orchestra.launch(name=\"dk-domain\", dev_mode=True, reset=True)\n",
    "root_client = node.login(email=\"info@openmined.org\", password=\"changethis\")"
   ]
  },
  {
   "cell_type": "markdown",
   "id": "1b13b0f9",
   "metadata": {},
   "source": [
    "### Load the MNIST dataset"
   ]
  },
  {
   "cell_type": "markdown",
   "id": "80e92152",
   "metadata": {},
   "source": [
    "Let's load the raw MNIST images and show with the `mnist_raw` function from [`mnist_datasets.py`](./datasets.py)"
   ]
  },
  {
   "cell_type": "code",
   "execution_count": null,
   "id": "3e7df19d",
   "metadata": {},
   "outputs": [],
   "source": [
    "train_images, train_labels, _, _ = mnist_raw()"
   ]
  },
  {
   "cell_type": "code",
   "execution_count": null,
   "id": "e1571c7b",
   "metadata": {},
   "outputs": [],
   "source": [
    "plt.imshow(train_images[0])"
   ]
  },
  {
   "cell_type": "code",
   "execution_count": null,
   "id": "d0d2db9c",
   "metadata": {},
   "outputs": [],
   "source": [
    "train_labels[0]"
   ]
  },
  {
   "cell_type": "code",
   "execution_count": null,
   "id": "dad035ad",
   "metadata": {},
   "outputs": [],
   "source": [
    "print(f\"{train_images.shape = }\")\n",
    "print(f\"{train_labels.shape = }\")"
   ]
  },
  {
   "cell_type": "markdown",
   "id": "c707b5e6",
   "metadata": {},
   "source": [
    "### Processing: Flattening the MNIST images and apply one-hot encoding on the labels"
   ]
  },
  {
   "cell_type": "code",
   "execution_count": null,
   "id": "534d1a7f",
   "metadata": {},
   "outputs": [],
   "source": [
    "train_images, train_labels, _, _ = mnist()"
   ]
  },
  {
   "cell_type": "markdown",
   "id": "a97964f1",
   "metadata": {},
   "source": [
    "### Get a subset of MNIST"
   ]
  },
  {
   "cell_type": "code",
   "execution_count": null,
   "id": "eac318ab",
   "metadata": {},
   "outputs": [],
   "source": [
    "num_samples = 1000"
   ]
  },
  {
   "cell_type": "code",
   "execution_count": null,
   "id": "b2799f54",
   "metadata": {},
   "outputs": [],
   "source": [
    "train_images = train_images[:num_samples, :] \n",
    "train_labels = train_labels[:num_samples, :]"
   ]
  },
  {
   "cell_type": "code",
   "execution_count": null,
   "id": "72fa7ca6",
   "metadata": {},
   "outputs": [],
   "source": [
    "print(f\"{train_images.shape = }\")\n",
    "print(f\"{train_labels.shape = }\")"
   ]
  },
  {
   "cell_type": "markdown",
   "id": "6ea9085d",
   "metadata": {},
   "source": [
    "The `train_images` and `train_labels` are the private data. Let's create similar mock data with the same shape"
   ]
  },
  {
   "cell_type": "code",
   "execution_count": null,
   "id": "7dcb62c3",
   "metadata": {},
   "outputs": [],
   "source": [
    "mock_images = np.random.rand(num_samples, 784)\n",
    "mock_images.shape"
   ]
  },
  {
   "cell_type": "code",
   "execution_count": null,
   "id": "9d992a02",
   "metadata": {},
   "outputs": [],
   "source": [
    "mock_labels = np.eye(10)[np.random.choice(10, num_samples)]\n",
    "mock_labels.shape"
   ]
  },
  {
   "cell_type": "code",
   "execution_count": null,
   "id": "3348dd44",
   "metadata": {},
   "outputs": [],
   "source": [
    "assert mock_labels.shape == train_labels.shape\n",
    "assert mock_images.shape == train_images.shape"
   ]
  },
  {
   "cell_type": "markdown",
   "id": "04412523",
   "metadata": {},
   "source": [
    "### The DO uploads the data"
   ]
  },
  {
   "cell_type": "code",
   "execution_count": null,
   "id": "7e321367",
   "metadata": {},
   "outputs": [],
   "source": [
    "dataset = sy.Dataset(\n",
    "    name=\"MNIST data\",\n",
    "    description=\"\"\"Contains the flattened training images and one-hot encoded training labels.\"\"\",\n",
    "    url=\"https://storage.googleapis.com/cvdf-datasets/mnist/\"\n",
    ")\n",
    "\n",
    "dataset.add_contributor(role=sy.roles.UPLOADER, \n",
    "                        name=\"Alice\", \n",
    "                        email=\"alice@openmined.com\",\n",
    "                        note=\"Alice is the data engineer at the OpenMined\")\n",
    "\n",
    "dataset.contributors"
   ]
  },
  {
   "cell_type": "code",
   "execution_count": null,
   "id": "206e722c",
   "metadata": {},
   "outputs": [],
   "source": [
    "asset_mnist_train_input = sy.Asset(\n",
    "    name=\"MNIST training images\",\n",
    "    description=\"\"\"The training images of the MNIST dataset\"\"\",\n",
    "    data=train_images,\n",
    "    mock=mock_images\n",
    ")\n",
    "\n",
    "asset_mnist_train_labels = sy.Asset(\n",
    "    name=\"MNIST training labels\",\n",
    "    description=\"\"\"The training labels of MNIST dataset\"\"\",\n",
    "    data=train_labels,\n",
    "    mock=mock_labels\n",
    ")\n",
    "\n",
    "dataset.add_asset(asset_mnist_train_input)\n",
    "dataset.add_asset(asset_mnist_train_labels)"
   ]
  },
  {
   "cell_type": "code",
   "execution_count": null,
   "id": "f7c99963",
   "metadata": {},
   "outputs": [],
   "source": [
    "root_client.upload_dataset(dataset)"
   ]
  },
  {
   "cell_type": "markdown",
   "id": "0da761f5",
   "metadata": {},
   "source": [
    "### The DO inspects the uploaded data"
   ]
  },
  {
   "cell_type": "code",
   "execution_count": null,
   "id": "64e01780",
   "metadata": {},
   "outputs": [],
   "source": [
    "datasets = root_client.api.services.dataset.get_all()\n",
    "assert len(datasets) == 1\n",
    "datasets"
   ]
  },
  {
   "cell_type": "markdown",
   "id": "914549fa",
   "metadata": {},
   "source": [
    "#### The first asset of the dataset contains the training and mock images"
   ]
  },
  {
   "cell_type": "code",
   "execution_count": null,
   "id": "9f2c084e",
   "metadata": {},
   "outputs": [],
   "source": [
    "datasets[0].assets[0]"
   ]
  },
  {
   "cell_type": "markdown",
   "id": "dc0226c3",
   "metadata": {},
   "source": [
    "#### The second asset contains the training and mock labels"
   ]
  },
  {
   "cell_type": "code",
   "execution_count": null,
   "id": "f0168ccc",
   "metadata": {},
   "outputs": [],
   "source": [
    "datasets[0].assets[1]"
   ]
  },
  {
   "cell_type": "markdown",
   "id": "c94f2673",
   "metadata": {},
   "source": [
    "### The DO creates an account for the Data Scientist (DS)"
   ]
  },
  {
   "cell_type": "code",
   "execution_count": null,
   "id": "8af9dbff",
   "metadata": {},
   "outputs": [],
   "source": [
    "root_client.register(name=\"Sheldon Cooper\",\n",
    "                     email=\"sheldon@caltech.edu\",\n",
    "                     password=\"changethis\",\n",
    "                     institution=\"Caltech\",\n",
    "                     website=\"https://www.caltech.edu/\")"
   ]
  },
  {
   "cell_type": "markdown",
   "id": "06448265",
   "metadata": {},
   "source": [
    "### 📓 Now switch to the [DS's notebook](./Data%20Scientist%20(DS).ipynb)"
   ]
  },
  {
   "cell_type": "markdown",
   "id": "54dd25da",
   "metadata": {},
   "source": [
    "## 2. After the DS submits code execution requests, DO review and approve the code"
   ]
  },
  {
   "cell_type": "code",
   "execution_count": null,
   "id": "a2d50a35",
   "metadata": {},
   "outputs": [],
   "source": [
    "root_client.projects"
   ]
  },
  {
   "cell_type": "code",
   "execution_count": null,
   "id": "25264e78",
   "metadata": {},
   "outputs": [],
   "source": [
    "requests = root_client.projects[0].requests\n",
    "requests"
   ]
  },
  {
   "cell_type": "code",
   "execution_count": null,
   "id": "1528b275",
   "metadata": {},
   "outputs": [],
   "source": [
    "request = requests[0]\n",
    "request"
   ]
  },
  {
   "cell_type": "code",
   "execution_count": null,
   "id": "789ee3da",
   "metadata": {},
   "outputs": [],
   "source": [
    "change = request.changes[0]\n",
    "change"
   ]
  },
  {
   "cell_type": "code",
   "execution_count": null,
   "id": "4164bfa3",
   "metadata": {},
   "outputs": [],
   "source": [
    "# gettting a reference to the user code object\n",
    "user_code = change.link\n",
    "\n",
    "# viewing the actual code submitted for request\n",
    "print(user_code.code)"
   ]
  },
  {
   "cell_type": "code",
   "execution_count": null,
   "id": "fb1d7365",
   "metadata": {},
   "outputs": [],
   "source": [
    "user_code.assets"
   ]
  },
  {
   "cell_type": "code",
   "execution_count": null,
   "id": "f3e98de0",
   "metadata": {},
   "outputs": [],
   "source": [
    "users_function = user_code.unsafe_function\n",
    "users_function"
   ]
  },
  {
   "cell_type": "code",
   "execution_count": null,
   "id": "aa5c33bb",
   "metadata": {},
   "outputs": [],
   "source": [
    "mock_images = user_code.assets[0].mock\n",
    "print(f\"{mock_images.shape = }\")\n",
    "mock_labels = user_code.assets[1].mock\n",
    "print(f\"{mock_labels.shape = }\")"
   ]
  },
  {
   "cell_type": "markdown",
   "id": "51fe6811",
   "metadata": {},
   "source": [
    "#### The DO runs the code on mock data to ensure things are fine"
   ]
  },
  {
   "cell_type": "code",
   "execution_count": null,
   "id": "8515c1bd",
   "metadata": {},
   "outputs": [],
   "source": [
    "mock_train_accs, mock_params = users_function(mnist_images=mock_images, mnist_labels=mock_labels)"
   ]
  },
  {
   "cell_type": "markdown",
   "id": "0be123ee",
   "metadata": {},
   "source": [
    "#### If the DO inspects and checks that things are good, he can execute the code on the private data and then deposit the results to the domain"
   ]
  },
  {
   "cell_type": "code",
   "execution_count": null,
   "id": "8a7d9ce4",
   "metadata": {},
   "outputs": [],
   "source": [
    "# private data associated with the asset\n",
    "private_images = user_code.assets[0].data\n",
    "print(f\"{private_images.shape = }\")\n",
    "private_labels = user_code.assets[1].data\n",
    "print(f\"{private_labels.shape = }\")"
   ]
  },
  {
   "cell_type": "code",
   "execution_count": null,
   "id": "79ba1ac0",
   "metadata": {},
   "outputs": [],
   "source": [
    "train_accs, params = users_function(mnist_images=private_images, mnist_labels=private_labels)"
   ]
  },
  {
   "cell_type": "code",
   "execution_count": null,
   "id": "e0008acb",
   "metadata": {},
   "outputs": [],
   "source": [
    "# shape of the model's parameters\n",
    "jax.tree_map(lambda x: x.shape, params)"
   ]
  },
  {
   "cell_type": "markdown",
   "id": "ad8b1713",
   "metadata": {},
   "source": [
    "#### Deposit the results so the DS can get them"
   ]
  },
  {
   "cell_type": "code",
   "execution_count": null,
   "id": "19d8406d",
   "metadata": {},
   "outputs": [],
   "source": [
    "res = request.accept_by_depositing_result((train_accs, params))"
   ]
  },
  {
   "cell_type": "code",
   "execution_count": null,
   "id": "2fbffec4",
   "metadata": {},
   "outputs": [],
   "source": [
    "res"
   ]
  },
  {
   "cell_type": "markdown",
   "id": "2a61e53e",
   "metadata": {},
   "source": [
    "### 📓 Now switch to the DS's notebook at step 4"
   ]
  },
  {
   "cell_type": "code",
   "execution_count": null,
   "id": "d91ebae9",
   "metadata": {},
   "outputs": [],
   "source": []
  }
 ],
 "metadata": {
  "kernelspec": {
   "display_name": "Python 3 (ipykernel)",
   "language": "python",
   "name": "python3"
  },
  "language_info": {
   "codemirror_mode": {
    "name": "ipython",
    "version": 3
   },
   "file_extension": ".py",
   "mimetype": "text/x-python",
   "name": "python",
   "nbconvert_exporter": "python",
   "pygments_lexer": "ipython3",
   "version": "3.10.8"
  }
 },
 "nbformat": 4,
 "nbformat_minor": 5
}

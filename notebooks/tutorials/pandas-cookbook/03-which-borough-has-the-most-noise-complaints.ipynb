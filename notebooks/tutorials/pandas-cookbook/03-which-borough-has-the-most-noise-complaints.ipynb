{
 "cells": [
  {
   "cell_type": "markdown",
   "id": "caed84b7",
   "metadata": {},
   "source": [
    "# Which borough has the most noise complaints (or, more selecting data)"
   ]
  },
  {
   "cell_type": "markdown",
   "id": "0f427af3",
   "metadata": {},
   "source": [
    "## Install"
   ]
  },
  {
   "cell_type": "code",
   "execution_count": 1,
   "id": "66c14a6b",
   "metadata": {
    "tags": []
   },
   "outputs": [],
   "source": [
    "SYFT_VERSION = \">=0.8.1b0,<0.9\"\n",
    "package_string = f'\"syft{SYFT_VERSION}\"'\n",
    "# %pip install {package_string} -f https://whls.blob.core.windows.net/unstable/index.html -q"
   ]
  },
  {
   "cell_type": "code",
   "execution_count": 2,
   "id": "74a3a9fb",
   "metadata": {
    "tags": []
   },
   "outputs": [
    {
     "name": "stdout",
     "output_type": "stream",
     "text": [
      "Failed to find type for key: value in <enum '_NoDefault'>\n",
      "Failed to find type for key: __slots__ in <class 'typing._UnionGenericAlias'>\n",
      "Failed to find type for key: _value in <class 'result.result.Err'>\n",
      "Failed to find type for key: __slots__ in <class 'typing._UnionGenericAlias'>\n",
      "Failed to find type for key: _monitor_socket in <class 'zmq.green.core._Socket'>\n",
      "Failed to find type for key: value in <enum 'NodeType'>\n",
      "Failed to find type for key: value in <enum 'ServiceRole'>\n",
      "Failed to find type for key: value in <enum 'ActionPermission'>\n",
      "Failed to find type for key: settings in <class 'syft.store.document_store.StorePartition'>\n",
      "Failed to find type for key: port in <class 'syft.types.grid_url.GridURL'>\n",
      "Failed to find type for key: value in <enum 'CMPCRUDPermission'>\n",
      "Failed to find type for key: value in <enum '_ParameterKind'>\n",
      "Failed to find type for key: value in <enum 'VPNRoutes'>\n",
      "Failed to find type for key: value in <enum 'CommandStatus'>\n",
      "Failed to find type for key: value in <enum 'TailscaleRoutes'>\n",
      "Failed to find type for key: value in <enum 'ConnectionType'>\n",
      "Failed to find type for key: value in <enum 'ConnectionStatus'>\n",
      "Failed to find type for key: value in <enum 'TailscaleState'>\n",
      "Failed to find type for key: value in <enum 'TwinMode'>\n",
      "Failed to find type for key: value in <enum 'ActionType'>\n",
      "Failed to find type for key: syft_passthrough_attrs in <class 'syft.service.action.action_object.AnyActionObject'>\n",
      "Failed to find type for key: value in <enum 'UserPolicyStatus'>\n",
      "Failed to find type for key: value in <enum 'UserCodeStatus'>\n",
      "Failed to find type for key: value in <enum 'UniqueKeyCheck'>\n",
      "Failed to find type for key: settings in <class 'syft.store.dict_document_store.DictStorePartition'>\n",
      "Failed to find type for key: syft_passthrough_attrs in <class 'syft.service.action.numpy.NumpyArrayObject'>\n",
      "Failed to find type for key: syft_passthrough_attrs in <class 'syft.service.action.numpy.NumpyScalarObject'>\n",
      "Failed to find type for key: syft_passthrough_attrs in <class 'syft.service.action.numpy.NumpyBoolObject'>\n",
      "Failed to find type for key: syft_passthrough_attrs in <class 'syft.service.action.pandas.PandasDataFrameObject'>\n",
      "Failed to find type for key: syft_passthrough_attrs in <class 'syft.service.action.pandas.PandasSeriesObject'>\n",
      "Failed to find type for key: value in <enum 'RequestStatus'>\n",
      "Failed to find type for key: value in <enum 'MessageStatus'>\n",
      "Failed to find type for key: value in <enum 'Status'>\n",
      "Failed to find type for key: _subscriber in <class 'syft.service.queue.zmq_queue.ZMQConsumer'>\n",
      "Failed to find type for key: host in <class 'syft.service.queue.zmq_queue.ZMQClient'>\n",
      "Failed to find type for key: index_name in <class 'syft.store.sqlite_document_store.SQLiteBackingStore'>\n",
      "Failed to find type for key: settings in <class 'syft.store.sqlite_document_store.SQLiteStorePartition'>\n",
      "Failed to find type for key: syft_passthrough_attrs in <class 'syft.service.action.plan.Plan'>\n",
      "✅ The installed version of syft==0.8.1b3 matches the requirement >=0.8.1b0 and the requirement <0.9\n"
     ]
    }
   ],
   "source": [
    "import syft as sy\n",
    "sy.requires(SYFT_VERSION)"
   ]
  },
  {
   "cell_type": "code",
   "execution_count": 3,
   "id": "cbce68c1",
   "metadata": {
    "tags": []
   },
   "outputs": [
    {
     "name": "stdout",
     "output_type": "stream",
     "text": [
      "Starting pandas-test-domain-3 server on 0.0.0.0:8081\n",
      "Failed to find type for key: value in <enum '_NoDefault'>\n",
      "Waiting for server to start\n",
      "Failed to find type for key: _name in <class 'typing._UnionGenericAlias'>\n",
      "Failed to find type for key: _value in <class 'result.result.Err'>\n",
      "Failed to find type for key: _name in <class 'typing._UnionGenericAlias'>\n",
      "Failed to find type for key: _type_name in <class 'zmq.green.core._Socket'>\n",
      "Failed to find type for key: value in <enum 'NodeType'>\n",
      "Failed to find type for key: value in <enum 'ServiceRole'>\n",
      "Failed to find type for key: value in <enum 'ActionPermission'>\n",
      "Failed to find type for key: unique_cks in <class 'syft.store.document_store.StorePartition'>\n",
      "Failed to find type for key: port in <class 'syft.types.grid_url.GridURL'>\n",
      "Failed to find type for key: value in <enum 'CMPCRUDPermission'>\n",
      "Failed to find type for key: value in <enum '_ParameterKind'>\n",
      "Waiting for server to start\n",
      "Waiting for server to start\n",
      "Failed to find type for key: value in <enum 'VPNRoutes'>\n",
      "Failed to find type for key: value in <enum 'CommandStatus'>\n",
      "Failed to find type for key: value in <enum 'TailscaleRoutes'>\n",
      "Failed to find type for key: value in <enum 'ConnectionType'>\n",
      "Failed to find type for key: value in <enum 'ConnectionStatus'>\n",
      "Failed to find type for key: value in <enum 'TailscaleState'>\n",
      "Failed to find type for key: value in <enum 'TwinMode'>\n",
      "Failed to find type for key: value in <enum 'ActionType'>\n",
      "Failed to find type for key: syft_passthrough_attrs in <class 'syft.service.action.action_object.AnyActionObject'>\n",
      "Failed to find type for key: value in <enum 'UserPolicyStatus'>\n",
      "Failed to find type for key: value in <enum 'UserCodeStatus'>\n",
      "Failed to find type for key: value in <enum 'UniqueKeyCheck'>\n",
      "Failed to find type for key: unique_cks in <class 'syft.store.dict_document_store.DictStorePartition'>\n",
      "Failed to find type for key: syft_passthrough_attrs in <class 'syft.service.action.numpy.NumpyArrayObject'>\n",
      "Failed to find type for key: syft_passthrough_attrs in <class 'syft.service.action.numpy.NumpyScalarObject'>\n",
      "Failed to find type for key: syft_passthrough_attrs in <class 'syft.service.action.numpy.NumpyBoolObject'>\n",
      "Failed to find type for key: syft_passthrough_attrs in <class 'syft.service.action.pandas.PandasDataFrameObject'>\n",
      "Failed to find type for key: syft_passthrough_attrs in <class 'syft.service.action.pandas.PandasSeriesObject'>\n",
      "Failed to find type for key: value in <enum 'RequestStatus'>\n",
      "Failed to find type for key: value in <enum 'MessageStatus'>\n",
      "Failed to find type for key: value in <enum 'Status'>\n",
      "Failed to find type for key: _subscriber in <class 'syft.service.queue.zmq_queue.ZMQConsumer'>\n",
      "Failed to find type for key: host in <class 'syft.service.queue.zmq_queue.ZMQClient'>\n",
      "Failed to find type for key: index_name in <class 'syft.store.sqlite_document_store.SQLiteBackingStore'>\n",
      "Failed to find type for key: unique_cks in <class 'syft.store.sqlite_document_store.SQLiteStorePartition'>\n",
      "Failed to find type for key: syft_passthrough_attrs in <class 'syft.service.action.plan.Plan'>\n",
      "SQLite Store Path:\n",
      "!open file:///var/folders/f1/h55w4kj150x0s8c3jwhkkygw0000gn/T/e1ef0f13cd1242a8a447c0cd7c85ff98.sqlite\n",
      "\n",
      "Waiting for server to start\n",
      "Waiting for server to start\n",
      "Server Started\n"
     ]
    }
   ],
   "source": [
    "node = sy.orchestra.launch(name=\"pandas-test-domain-3\", port=9083, reset=True)"
   ]
  },
  {
   "cell_type": "markdown",
   "id": "9b583123",
   "metadata": {},
   "source": [
    "# Data owner: upload data"
   ]
  },
  {
   "cell_type": "code",
   "execution_count": 4,
   "id": "3779a9a3",
   "metadata": {
    "tags": []
   },
   "outputs": [],
   "source": [
    "domain_client = node.login(email=\"info@openmined.org\", password=\"changethis\")"
   ]
  },
  {
   "cell_type": "code",
   "execution_count": 5,
   "id": "479e0fbd",
   "metadata": {
    "tags": []
   },
   "outputs": [],
   "source": [
    "# The usual preamble\n",
    "%matplotlib inline\n",
    "import pandas as pd\n",
    "import matplotlib.pyplot as plt\n",
    "from syft import Worker, MessageStatus\n",
    "from syft.service.project.project import Project\n",
    "from syft.util.util import PANDAS_DATA\n",
    "\n",
    "# Make the graphs a bit prettier, and bigger\n",
    "plt.style.use('ggplot')\n",
    "\n",
    "# This is necessary to show lots of columns in pandas 0.12. \n",
    "# Not necessary in pandas 0.13.\n",
    "pd.set_option('display.width', 5000) \n",
    "pd.set_option('display.max_columns', 60)\n",
    "\n",
    "plt.rcParams['figure.figsize'] = (15, 5)"
   ]
  },
  {
   "cell_type": "markdown",
   "id": "e5de64c5",
   "metadata": {},
   "source": [
    "## Load data"
   ]
  },
  {
   "cell_type": "markdown",
   "id": "f51535e7",
   "metadata": {},
   "source": [
    "We're going to use a new dataset here, to demonstrate how to deal with larger datasets. This is a subset of the of 311 service requests from NYC Open Data."
   ]
  },
  {
   "cell_type": "code",
   "execution_count": 6,
   "id": "f5fa8555",
   "metadata": {
    "tags": []
   },
   "outputs": [],
   "source": [
    "# because of mixed types we specify dtype to prevent any errors\n",
    "complaints = pd.read_csv(sy.autocache(f\"{PANDAS_DATA}/311-service-requests.csv\"), dtype='unicode')"
   ]
  },
  {
   "cell_type": "markdown",
   "id": "e41cf047",
   "metadata": {},
   "source": [
    "Depending on your pandas version, you might see an error like \"DtypeWarning: Columns (8) have mixed types\". This means that it's encountered a problem reading in our data. In this case it almost certainly means that it has columns where some of the entries are strings and some are integers.\n",
    "\n",
    "For now we're going to ignore it and hope we don't run into a problem, but in the long run we'd need to investigate this warning."
   ]
  },
  {
   "cell_type": "code",
   "execution_count": 7,
   "id": "3a0da17e",
   "metadata": {
    "tags": []
   },
   "outputs": [
    {
     "data": {
      "text/html": [
       "<div>\n",
       "<style scoped>\n",
       "    .dataframe tbody tr th:only-of-type {\n",
       "        vertical-align: middle;\n",
       "    }\n",
       "\n",
       "    .dataframe tbody tr th {\n",
       "        vertical-align: top;\n",
       "    }\n",
       "\n",
       "    .dataframe thead th {\n",
       "        text-align: right;\n",
       "    }\n",
       "</style>\n",
       "<table border=\"1\" class=\"dataframe\">\n",
       "  <thead>\n",
       "    <tr style=\"text-align: right;\">\n",
       "      <th></th>\n",
       "      <th>Unique Key</th>\n",
       "      <th>Created Date</th>\n",
       "      <th>Closed Date</th>\n",
       "      <th>Agency</th>\n",
       "      <th>Agency Name</th>\n",
       "      <th>Complaint Type</th>\n",
       "      <th>Descriptor</th>\n",
       "      <th>Location Type</th>\n",
       "      <th>Incident Zip</th>\n",
       "      <th>Incident Address</th>\n",
       "      <th>Street Name</th>\n",
       "      <th>Cross Street 1</th>\n",
       "      <th>Cross Street 2</th>\n",
       "      <th>Intersection Street 1</th>\n",
       "      <th>Intersection Street 2</th>\n",
       "      <th>Address Type</th>\n",
       "      <th>City</th>\n",
       "      <th>Landmark</th>\n",
       "      <th>Facility Type</th>\n",
       "      <th>Status</th>\n",
       "      <th>Due Date</th>\n",
       "      <th>Resolution Action Updated Date</th>\n",
       "      <th>Community Board</th>\n",
       "      <th>Borough</th>\n",
       "      <th>X Coordinate (State Plane)</th>\n",
       "      <th>Y Coordinate (State Plane)</th>\n",
       "      <th>Park Facility Name</th>\n",
       "      <th>Park Borough</th>\n",
       "      <th>School Name</th>\n",
       "      <th>School Number</th>\n",
       "      <th>School Region</th>\n",
       "      <th>School Code</th>\n",
       "      <th>School Phone Number</th>\n",
       "      <th>School Address</th>\n",
       "      <th>School City</th>\n",
       "      <th>School State</th>\n",
       "      <th>School Zip</th>\n",
       "      <th>School Not Found</th>\n",
       "      <th>School or Citywide Complaint</th>\n",
       "      <th>Vehicle Type</th>\n",
       "      <th>Taxi Company Borough</th>\n",
       "      <th>Taxi Pick Up Location</th>\n",
       "      <th>Bridge Highway Name</th>\n",
       "      <th>Bridge Highway Direction</th>\n",
       "      <th>Road Ramp</th>\n",
       "      <th>Bridge Highway Segment</th>\n",
       "      <th>Garage Lot Name</th>\n",
       "      <th>Ferry Direction</th>\n",
       "      <th>Ferry Terminal Name</th>\n",
       "      <th>Latitude</th>\n",
       "      <th>Longitude</th>\n",
       "      <th>Location</th>\n",
       "    </tr>\n",
       "  </thead>\n",
       "  <tbody>\n",
       "    <tr>\n",
       "      <th>0</th>\n",
       "      <td>26589651</td>\n",
       "      <td>10/31/2013 02:08:41 AM</td>\n",
       "      <td>NaN</td>\n",
       "      <td>NYPD</td>\n",
       "      <td>New York City Police Department</td>\n",
       "      <td>Noise - Street/Sidewalk</td>\n",
       "      <td>Loud Talking</td>\n",
       "      <td>Street/Sidewalk</td>\n",
       "      <td>11432</td>\n",
       "      <td>90-03 169 STREET</td>\n",
       "      <td>169 STREET</td>\n",
       "      <td>90 AVENUE</td>\n",
       "      <td>91 AVENUE</td>\n",
       "      <td>NaN</td>\n",
       "      <td>NaN</td>\n",
       "      <td>ADDRESS</td>\n",
       "      <td>JAMAICA</td>\n",
       "      <td>NaN</td>\n",
       "      <td>Precinct</td>\n",
       "      <td>Assigned</td>\n",
       "      <td>10/31/2013 10:08:41 AM</td>\n",
       "      <td>10/31/2013 02:35:17 AM</td>\n",
       "      <td>12 QUEENS</td>\n",
       "      <td>QUEENS</td>\n",
       "      <td>1042027</td>\n",
       "      <td>197389</td>\n",
       "      <td>Unspecified</td>\n",
       "      <td>QUEENS</td>\n",
       "      <td>Unspecified</td>\n",
       "      <td>Unspecified</td>\n",
       "      <td>Unspecified</td>\n",
       "      <td>Unspecified</td>\n",
       "      <td>Unspecified</td>\n",
       "      <td>Unspecified</td>\n",
       "      <td>Unspecified</td>\n",
       "      <td>Unspecified</td>\n",
       "      <td>Unspecified</td>\n",
       "      <td>N</td>\n",
       "      <td>NaN</td>\n",
       "      <td>NaN</td>\n",
       "      <td>NaN</td>\n",
       "      <td>NaN</td>\n",
       "      <td>NaN</td>\n",
       "      <td>NaN</td>\n",
       "      <td>NaN</td>\n",
       "      <td>NaN</td>\n",
       "      <td>NaN</td>\n",
       "      <td>NaN</td>\n",
       "      <td>NaN</td>\n",
       "      <td>40.70827532593202</td>\n",
       "      <td>-73.79160395779721</td>\n",
       "      <td>(40.70827532593202, -73.79160395779721)</td>\n",
       "    </tr>\n",
       "    <tr>\n",
       "      <th>1</th>\n",
       "      <td>26593698</td>\n",
       "      <td>10/31/2013 02:01:04 AM</td>\n",
       "      <td>NaN</td>\n",
       "      <td>NYPD</td>\n",
       "      <td>New York City Police Department</td>\n",
       "      <td>Illegal Parking</td>\n",
       "      <td>Commercial Overnight Parking</td>\n",
       "      <td>Street/Sidewalk</td>\n",
       "      <td>11378</td>\n",
       "      <td>58 AVENUE</td>\n",
       "      <td>58 AVENUE</td>\n",
       "      <td>58 PLACE</td>\n",
       "      <td>59 STREET</td>\n",
       "      <td>NaN</td>\n",
       "      <td>NaN</td>\n",
       "      <td>BLOCKFACE</td>\n",
       "      <td>MASPETH</td>\n",
       "      <td>NaN</td>\n",
       "      <td>Precinct</td>\n",
       "      <td>Open</td>\n",
       "      <td>10/31/2013 10:01:04 AM</td>\n",
       "      <td>NaN</td>\n",
       "      <td>05 QUEENS</td>\n",
       "      <td>QUEENS</td>\n",
       "      <td>1009349</td>\n",
       "      <td>201984</td>\n",
       "      <td>Unspecified</td>\n",
       "      <td>QUEENS</td>\n",
       "      <td>Unspecified</td>\n",
       "      <td>Unspecified</td>\n",
       "      <td>Unspecified</td>\n",
       "      <td>Unspecified</td>\n",
       "      <td>Unspecified</td>\n",
       "      <td>Unspecified</td>\n",
       "      <td>Unspecified</td>\n",
       "      <td>Unspecified</td>\n",
       "      <td>Unspecified</td>\n",
       "      <td>N</td>\n",
       "      <td>NaN</td>\n",
       "      <td>NaN</td>\n",
       "      <td>NaN</td>\n",
       "      <td>NaN</td>\n",
       "      <td>NaN</td>\n",
       "      <td>NaN</td>\n",
       "      <td>NaN</td>\n",
       "      <td>NaN</td>\n",
       "      <td>NaN</td>\n",
       "      <td>NaN</td>\n",
       "      <td>NaN</td>\n",
       "      <td>40.721040535628305</td>\n",
       "      <td>-73.90945306791765</td>\n",
       "      <td>(40.721040535628305, -73.90945306791765)</td>\n",
       "    </tr>\n",
       "    <tr>\n",
       "      <th>2</th>\n",
       "      <td>26594139</td>\n",
       "      <td>10/31/2013 02:00:24 AM</td>\n",
       "      <td>10/31/2013 02:40:32 AM</td>\n",
       "      <td>NYPD</td>\n",
       "      <td>New York City Police Department</td>\n",
       "      <td>Noise - Commercial</td>\n",
       "      <td>Loud Music/Party</td>\n",
       "      <td>Club/Bar/Restaurant</td>\n",
       "      <td>10032</td>\n",
       "      <td>4060 BROADWAY</td>\n",
       "      <td>BROADWAY</td>\n",
       "      <td>WEST 171 STREET</td>\n",
       "      <td>WEST 172 STREET</td>\n",
       "      <td>NaN</td>\n",
       "      <td>NaN</td>\n",
       "      <td>ADDRESS</td>\n",
       "      <td>NEW YORK</td>\n",
       "      <td>NaN</td>\n",
       "      <td>Precinct</td>\n",
       "      <td>Closed</td>\n",
       "      <td>10/31/2013 10:00:24 AM</td>\n",
       "      <td>10/31/2013 02:39:42 AM</td>\n",
       "      <td>12 MANHATTAN</td>\n",
       "      <td>MANHATTAN</td>\n",
       "      <td>1001088</td>\n",
       "      <td>246531</td>\n",
       "      <td>Unspecified</td>\n",
       "      <td>MANHATTAN</td>\n",
       "      <td>Unspecified</td>\n",
       "      <td>Unspecified</td>\n",
       "      <td>Unspecified</td>\n",
       "      <td>Unspecified</td>\n",
       "      <td>Unspecified</td>\n",
       "      <td>Unspecified</td>\n",
       "      <td>Unspecified</td>\n",
       "      <td>Unspecified</td>\n",
       "      <td>Unspecified</td>\n",
       "      <td>N</td>\n",
       "      <td>NaN</td>\n",
       "      <td>NaN</td>\n",
       "      <td>NaN</td>\n",
       "      <td>NaN</td>\n",
       "      <td>NaN</td>\n",
       "      <td>NaN</td>\n",
       "      <td>NaN</td>\n",
       "      <td>NaN</td>\n",
       "      <td>NaN</td>\n",
       "      <td>NaN</td>\n",
       "      <td>NaN</td>\n",
       "      <td>40.84332975466513</td>\n",
       "      <td>-73.93914371913482</td>\n",
       "      <td>(40.84332975466513, -73.93914371913482)</td>\n",
       "    </tr>\n",
       "    <tr>\n",
       "      <th>3</th>\n",
       "      <td>26595721</td>\n",
       "      <td>10/31/2013 01:56:23 AM</td>\n",
       "      <td>10/31/2013 02:21:48 AM</td>\n",
       "      <td>NYPD</td>\n",
       "      <td>New York City Police Department</td>\n",
       "      <td>Noise - Vehicle</td>\n",
       "      <td>Car/Truck Horn</td>\n",
       "      <td>Street/Sidewalk</td>\n",
       "      <td>10023</td>\n",
       "      <td>WEST 72 STREET</td>\n",
       "      <td>WEST 72 STREET</td>\n",
       "      <td>COLUMBUS AVENUE</td>\n",
       "      <td>AMSTERDAM AVENUE</td>\n",
       "      <td>NaN</td>\n",
       "      <td>NaN</td>\n",
       "      <td>BLOCKFACE</td>\n",
       "      <td>NEW YORK</td>\n",
       "      <td>NaN</td>\n",
       "      <td>Precinct</td>\n",
       "      <td>Closed</td>\n",
       "      <td>10/31/2013 09:56:23 AM</td>\n",
       "      <td>10/31/2013 02:21:10 AM</td>\n",
       "      <td>07 MANHATTAN</td>\n",
       "      <td>MANHATTAN</td>\n",
       "      <td>989730</td>\n",
       "      <td>222727</td>\n",
       "      <td>Unspecified</td>\n",
       "      <td>MANHATTAN</td>\n",
       "      <td>Unspecified</td>\n",
       "      <td>Unspecified</td>\n",
       "      <td>Unspecified</td>\n",
       "      <td>Unspecified</td>\n",
       "      <td>Unspecified</td>\n",
       "      <td>Unspecified</td>\n",
       "      <td>Unspecified</td>\n",
       "      <td>Unspecified</td>\n",
       "      <td>Unspecified</td>\n",
       "      <td>N</td>\n",
       "      <td>NaN</td>\n",
       "      <td>NaN</td>\n",
       "      <td>NaN</td>\n",
       "      <td>NaN</td>\n",
       "      <td>NaN</td>\n",
       "      <td>NaN</td>\n",
       "      <td>NaN</td>\n",
       "      <td>NaN</td>\n",
       "      <td>NaN</td>\n",
       "      <td>NaN</td>\n",
       "      <td>NaN</td>\n",
       "      <td>40.7780087446372</td>\n",
       "      <td>-73.98021349023975</td>\n",
       "      <td>(40.7780087446372, -73.98021349023975)</td>\n",
       "    </tr>\n",
       "    <tr>\n",
       "      <th>4</th>\n",
       "      <td>26590930</td>\n",
       "      <td>10/31/2013 01:53:44 AM</td>\n",
       "      <td>NaN</td>\n",
       "      <td>DOHMH</td>\n",
       "      <td>Department of Health and Mental Hygiene</td>\n",
       "      <td>Rodent</td>\n",
       "      <td>Condition Attracting Rodents</td>\n",
       "      <td>Vacant Lot</td>\n",
       "      <td>10027</td>\n",
       "      <td>WEST 124 STREET</td>\n",
       "      <td>WEST 124 STREET</td>\n",
       "      <td>LENOX AVENUE</td>\n",
       "      <td>ADAM CLAYTON POWELL JR BOULEVARD</td>\n",
       "      <td>NaN</td>\n",
       "      <td>NaN</td>\n",
       "      <td>BLOCKFACE</td>\n",
       "      <td>NEW YORK</td>\n",
       "      <td>NaN</td>\n",
       "      <td>NaN</td>\n",
       "      <td>Pending</td>\n",
       "      <td>11/30/2013 01:53:44 AM</td>\n",
       "      <td>10/31/2013 01:59:54 AM</td>\n",
       "      <td>10 MANHATTAN</td>\n",
       "      <td>MANHATTAN</td>\n",
       "      <td>998815</td>\n",
       "      <td>233545</td>\n",
       "      <td>Unspecified</td>\n",
       "      <td>MANHATTAN</td>\n",
       "      <td>Unspecified</td>\n",
       "      <td>Unspecified</td>\n",
       "      <td>Unspecified</td>\n",
       "      <td>Unspecified</td>\n",
       "      <td>Unspecified</td>\n",
       "      <td>Unspecified</td>\n",
       "      <td>Unspecified</td>\n",
       "      <td>Unspecified</td>\n",
       "      <td>Unspecified</td>\n",
       "      <td>N</td>\n",
       "      <td>NaN</td>\n",
       "      <td>NaN</td>\n",
       "      <td>NaN</td>\n",
       "      <td>NaN</td>\n",
       "      <td>NaN</td>\n",
       "      <td>NaN</td>\n",
       "      <td>NaN</td>\n",
       "      <td>NaN</td>\n",
       "      <td>NaN</td>\n",
       "      <td>NaN</td>\n",
       "      <td>NaN</td>\n",
       "      <td>40.80769092704951</td>\n",
       "      <td>-73.94738703491433</td>\n",
       "      <td>(40.80769092704951, -73.94738703491433)</td>\n",
       "    </tr>\n",
       "    <tr>\n",
       "      <th>...</th>\n",
       "      <td>...</td>\n",
       "      <td>...</td>\n",
       "      <td>...</td>\n",
       "      <td>...</td>\n",
       "      <td>...</td>\n",
       "      <td>...</td>\n",
       "      <td>...</td>\n",
       "      <td>...</td>\n",
       "      <td>...</td>\n",
       "      <td>...</td>\n",
       "      <td>...</td>\n",
       "      <td>...</td>\n",
       "      <td>...</td>\n",
       "      <td>...</td>\n",
       "      <td>...</td>\n",
       "      <td>...</td>\n",
       "      <td>...</td>\n",
       "      <td>...</td>\n",
       "      <td>...</td>\n",
       "      <td>...</td>\n",
       "      <td>...</td>\n",
       "      <td>...</td>\n",
       "      <td>...</td>\n",
       "      <td>...</td>\n",
       "      <td>...</td>\n",
       "      <td>...</td>\n",
       "      <td>...</td>\n",
       "      <td>...</td>\n",
       "      <td>...</td>\n",
       "      <td>...</td>\n",
       "      <td>...</td>\n",
       "      <td>...</td>\n",
       "      <td>...</td>\n",
       "      <td>...</td>\n",
       "      <td>...</td>\n",
       "      <td>...</td>\n",
       "      <td>...</td>\n",
       "      <td>...</td>\n",
       "      <td>...</td>\n",
       "      <td>...</td>\n",
       "      <td>...</td>\n",
       "      <td>...</td>\n",
       "      <td>...</td>\n",
       "      <td>...</td>\n",
       "      <td>...</td>\n",
       "      <td>...</td>\n",
       "      <td>...</td>\n",
       "      <td>...</td>\n",
       "      <td>...</td>\n",
       "      <td>...</td>\n",
       "      <td>...</td>\n",
       "      <td>...</td>\n",
       "    </tr>\n",
       "    <tr>\n",
       "      <th>111064</th>\n",
       "      <td>26426013</td>\n",
       "      <td>10/04/2013 12:01:13 AM</td>\n",
       "      <td>10/07/2013 04:07:16 PM</td>\n",
       "      <td>DPR</td>\n",
       "      <td>Department of Parks and Recreation</td>\n",
       "      <td>Maintenance or Facility</td>\n",
       "      <td>Structure - Outdoors</td>\n",
       "      <td>Park</td>\n",
       "      <td>11213</td>\n",
       "      <td>NaN</td>\n",
       "      <td>NaN</td>\n",
       "      <td>NaN</td>\n",
       "      <td>NaN</td>\n",
       "      <td>NaN</td>\n",
       "      <td>NaN</td>\n",
       "      <td>NaN</td>\n",
       "      <td>BROOKLYN</td>\n",
       "      <td>NaN</td>\n",
       "      <td>NaN</td>\n",
       "      <td>Closed</td>\n",
       "      <td>10/18/2013 12:01:13 AM</td>\n",
       "      <td>10/07/2013 04:07:16 PM</td>\n",
       "      <td>08 BROOKLYN</td>\n",
       "      <td>BROOKLYN</td>\n",
       "      <td>NaN</td>\n",
       "      <td>NaN</td>\n",
       "      <td>Brower Park</td>\n",
       "      <td>BROOKLYN</td>\n",
       "      <td>Brower Park</td>\n",
       "      <td>B012</td>\n",
       "      <td>NaN</td>\n",
       "      <td>NaN</td>\n",
       "      <td>7189658900</td>\n",
       "      <td>Brooklyn, St. Marks, Kingston Avenues, Park Place</td>\n",
       "      <td>BROOKLYN</td>\n",
       "      <td>NY</td>\n",
       "      <td>11213</td>\n",
       "      <td>N</td>\n",
       "      <td>NaN</td>\n",
       "      <td>NaN</td>\n",
       "      <td>NaN</td>\n",
       "      <td>NaN</td>\n",
       "      <td>NaN</td>\n",
       "      <td>NaN</td>\n",
       "      <td>NaN</td>\n",
       "      <td>NaN</td>\n",
       "      <td>NaN</td>\n",
       "      <td>NaN</td>\n",
       "      <td>NaN</td>\n",
       "      <td>NaN</td>\n",
       "      <td>NaN</td>\n",
       "      <td>NaN</td>\n",
       "    </tr>\n",
       "    <tr>\n",
       "      <th>111065</th>\n",
       "      <td>26428083</td>\n",
       "      <td>10/04/2013 12:01:05 AM</td>\n",
       "      <td>10/04/2013 02:13:50 AM</td>\n",
       "      <td>NYPD</td>\n",
       "      <td>New York City Police Department</td>\n",
       "      <td>Illegal Parking</td>\n",
       "      <td>Posted Parking Sign Violation</td>\n",
       "      <td>Street/Sidewalk</td>\n",
       "      <td>11434</td>\n",
       "      <td>NaN</td>\n",
       "      <td>NaN</td>\n",
       "      <td>NaN</td>\n",
       "      <td>NaN</td>\n",
       "      <td>GUY R BREWER BOULEVARD</td>\n",
       "      <td>ROCKAWAY BOULEVARD</td>\n",
       "      <td>INTERSECTION</td>\n",
       "      <td>JAMAICA</td>\n",
       "      <td>NaN</td>\n",
       "      <td>Precinct</td>\n",
       "      <td>Closed</td>\n",
       "      <td>10/04/2013 08:01:05 AM</td>\n",
       "      <td>10/04/2013 02:13:50 AM</td>\n",
       "      <td>13 QUEENS</td>\n",
       "      <td>QUEENS</td>\n",
       "      <td>1048801</td>\n",
       "      <td>178419</td>\n",
       "      <td>Unspecified</td>\n",
       "      <td>QUEENS</td>\n",
       "      <td>Unspecified</td>\n",
       "      <td>Unspecified</td>\n",
       "      <td>Unspecified</td>\n",
       "      <td>Unspecified</td>\n",
       "      <td>Unspecified</td>\n",
       "      <td>Unspecified</td>\n",
       "      <td>Unspecified</td>\n",
       "      <td>Unspecified</td>\n",
       "      <td>Unspecified</td>\n",
       "      <td>N</td>\n",
       "      <td>NaN</td>\n",
       "      <td>NaN</td>\n",
       "      <td>NaN</td>\n",
       "      <td>NaN</td>\n",
       "      <td>NaN</td>\n",
       "      <td>NaN</td>\n",
       "      <td>NaN</td>\n",
       "      <td>NaN</td>\n",
       "      <td>NaN</td>\n",
       "      <td>NaN</td>\n",
       "      <td>NaN</td>\n",
       "      <td>40.656160351546845</td>\n",
       "      <td>-73.76735262738222</td>\n",
       "      <td>(40.656160351546845, -73.76735262738222)</td>\n",
       "    </tr>\n",
       "    <tr>\n",
       "      <th>111066</th>\n",
       "      <td>26428987</td>\n",
       "      <td>10/04/2013 12:00:45 AM</td>\n",
       "      <td>10/04/2013 01:25:01 AM</td>\n",
       "      <td>NYPD</td>\n",
       "      <td>New York City Police Department</td>\n",
       "      <td>Noise - Street/Sidewalk</td>\n",
       "      <td>Loud Talking</td>\n",
       "      <td>Street/Sidewalk</td>\n",
       "      <td>10016</td>\n",
       "      <td>344 EAST 28 STREET</td>\n",
       "      <td>EAST 28 STREET</td>\n",
       "      <td>MOUNT CARMEL PLACE</td>\n",
       "      <td>1 AVENUE</td>\n",
       "      <td>NaN</td>\n",
       "      <td>NaN</td>\n",
       "      <td>ADDRESS</td>\n",
       "      <td>NEW YORK</td>\n",
       "      <td>NaN</td>\n",
       "      <td>Precinct</td>\n",
       "      <td>Closed</td>\n",
       "      <td>10/04/2013 08:00:45 AM</td>\n",
       "      <td>10/04/2013 01:25:01 AM</td>\n",
       "      <td>06 MANHATTAN</td>\n",
       "      <td>MANHATTAN</td>\n",
       "      <td>990637</td>\n",
       "      <td>208987</td>\n",
       "      <td>Unspecified</td>\n",
       "      <td>MANHATTAN</td>\n",
       "      <td>Unspecified</td>\n",
       "      <td>Unspecified</td>\n",
       "      <td>Unspecified</td>\n",
       "      <td>Unspecified</td>\n",
       "      <td>Unspecified</td>\n",
       "      <td>Unspecified</td>\n",
       "      <td>Unspecified</td>\n",
       "      <td>Unspecified</td>\n",
       "      <td>Unspecified</td>\n",
       "      <td>N</td>\n",
       "      <td>NaN</td>\n",
       "      <td>NaN</td>\n",
       "      <td>NaN</td>\n",
       "      <td>NaN</td>\n",
       "      <td>NaN</td>\n",
       "      <td>NaN</td>\n",
       "      <td>NaN</td>\n",
       "      <td>NaN</td>\n",
       "      <td>NaN</td>\n",
       "      <td>NaN</td>\n",
       "      <td>NaN</td>\n",
       "      <td>40.740295354643706</td>\n",
       "      <td>-73.97695165980414</td>\n",
       "      <td>(40.740295354643706, -73.97695165980414)</td>\n",
       "    </tr>\n",
       "    <tr>\n",
       "      <th>111067</th>\n",
       "      <td>26426115</td>\n",
       "      <td>10/04/2013 12:00:28 AM</td>\n",
       "      <td>10/04/2013 04:17:32 AM</td>\n",
       "      <td>NYPD</td>\n",
       "      <td>New York City Police Department</td>\n",
       "      <td>Noise - Commercial</td>\n",
       "      <td>Loud Talking</td>\n",
       "      <td>Club/Bar/Restaurant</td>\n",
       "      <td>11226</td>\n",
       "      <td>1233 FLATBUSH AVENUE</td>\n",
       "      <td>FLATBUSH AVENUE</td>\n",
       "      <td>AVENUE D</td>\n",
       "      <td>NEWKIRK AVENUE</td>\n",
       "      <td>NaN</td>\n",
       "      <td>NaN</td>\n",
       "      <td>ADDRESS</td>\n",
       "      <td>BROOKLYN</td>\n",
       "      <td>NaN</td>\n",
       "      <td>Precinct</td>\n",
       "      <td>Closed</td>\n",
       "      <td>10/04/2013 08:00:28 AM</td>\n",
       "      <td>10/04/2013 04:17:32 AM</td>\n",
       "      <td>14 BROOKLYN</td>\n",
       "      <td>BROOKLYN</td>\n",
       "      <td>996654</td>\n",
       "      <td>172515</td>\n",
       "      <td>Unspecified</td>\n",
       "      <td>BROOKLYN</td>\n",
       "      <td>Unspecified</td>\n",
       "      <td>Unspecified</td>\n",
       "      <td>Unspecified</td>\n",
       "      <td>Unspecified</td>\n",
       "      <td>Unspecified</td>\n",
       "      <td>Unspecified</td>\n",
       "      <td>Unspecified</td>\n",
       "      <td>Unspecified</td>\n",
       "      <td>Unspecified</td>\n",
       "      <td>N</td>\n",
       "      <td>NaN</td>\n",
       "      <td>NaN</td>\n",
       "      <td>NaN</td>\n",
       "      <td>NaN</td>\n",
       "      <td>NaN</td>\n",
       "      <td>NaN</td>\n",
       "      <td>NaN</td>\n",
       "      <td>NaN</td>\n",
       "      <td>NaN</td>\n",
       "      <td>NaN</td>\n",
       "      <td>NaN</td>\n",
       "      <td>40.64018174662485</td>\n",
       "      <td>-73.95530566958138</td>\n",
       "      <td>(40.64018174662485, -73.95530566958138)</td>\n",
       "    </tr>\n",
       "    <tr>\n",
       "      <th>111068</th>\n",
       "      <td>26428033</td>\n",
       "      <td>10/04/2013 12:00:10 AM</td>\n",
       "      <td>10/04/2013 01:20:52 AM</td>\n",
       "      <td>NYPD</td>\n",
       "      <td>New York City Police Department</td>\n",
       "      <td>Blocked Driveway</td>\n",
       "      <td>Partial Access</td>\n",
       "      <td>Street/Sidewalk</td>\n",
       "      <td>11236</td>\n",
       "      <td>1259 EAST 94 STREET</td>\n",
       "      <td>EAST 94 STREET</td>\n",
       "      <td>AVENUE J</td>\n",
       "      <td>AVENUE K</td>\n",
       "      <td>NaN</td>\n",
       "      <td>NaN</td>\n",
       "      <td>ADDRESS</td>\n",
       "      <td>BROOKLYN</td>\n",
       "      <td>NaN</td>\n",
       "      <td>Precinct</td>\n",
       "      <td>Closed</td>\n",
       "      <td>10/04/2013 08:00:10 AM</td>\n",
       "      <td>10/04/2013 01:20:52 AM</td>\n",
       "      <td>18 BROOKLYN</td>\n",
       "      <td>BROOKLYN</td>\n",
       "      <td>1011804</td>\n",
       "      <td>172470</td>\n",
       "      <td>Unspecified</td>\n",
       "      <td>BROOKLYN</td>\n",
       "      <td>Unspecified</td>\n",
       "      <td>Unspecified</td>\n",
       "      <td>Unspecified</td>\n",
       "      <td>Unspecified</td>\n",
       "      <td>Unspecified</td>\n",
       "      <td>Unspecified</td>\n",
       "      <td>Unspecified</td>\n",
       "      <td>Unspecified</td>\n",
       "      <td>Unspecified</td>\n",
       "      <td>N</td>\n",
       "      <td>NaN</td>\n",
       "      <td>NaN</td>\n",
       "      <td>NaN</td>\n",
       "      <td>NaN</td>\n",
       "      <td>NaN</td>\n",
       "      <td>NaN</td>\n",
       "      <td>NaN</td>\n",
       "      <td>NaN</td>\n",
       "      <td>NaN</td>\n",
       "      <td>NaN</td>\n",
       "      <td>NaN</td>\n",
       "      <td>40.640024057399216</td>\n",
       "      <td>-73.90071711703163</td>\n",
       "      <td>(40.640024057399216, -73.90071711703163)</td>\n",
       "    </tr>\n",
       "  </tbody>\n",
       "</table>\n",
       "<p>111069 rows × 52 columns</p>\n",
       "</div>"
      ],
      "text/plain": [
       "       Unique Key            Created Date             Closed Date Agency                              Agency Name           Complaint Type                     Descriptor        Location Type Incident Zip      Incident Address      Street Name      Cross Street 1                    Cross Street 2   Intersection Street 1 Intersection Street 2  Address Type      City Landmark Facility Type    Status                Due Date Resolution Action Updated Date Community Board    Borough X Coordinate (State Plane) Y Coordinate (State Plane) Park Facility Name Park Borough  School Name School Number School Region  School Code School Phone Number                                     School Address  School City School State   School Zip School Not Found School or Citywide Complaint Vehicle Type Taxi Company Borough Taxi Pick Up Location Bridge Highway Name Bridge Highway Direction Road Ramp Bridge Highway Segment Garage Lot Name Ferry Direction Ferry Terminal Name            Latitude           Longitude                                  Location\n",
       "0        26589651  10/31/2013 02:08:41 AM                     NaN   NYPD          New York City Police Department  Noise - Street/Sidewalk                   Loud Talking      Street/Sidewalk        11432      90-03 169 STREET       169 STREET           90 AVENUE                         91 AVENUE                     NaN                   NaN       ADDRESS   JAMAICA      NaN      Precinct  Assigned  10/31/2013 10:08:41 AM         10/31/2013 02:35:17 AM       12 QUEENS     QUEENS                    1042027                     197389        Unspecified       QUEENS  Unspecified   Unspecified   Unspecified  Unspecified         Unspecified                                        Unspecified  Unspecified  Unspecified  Unspecified                N                          NaN          NaN                  NaN                   NaN                 NaN                      NaN       NaN                    NaN             NaN             NaN                 NaN   40.70827532593202  -73.79160395779721   (40.70827532593202, -73.79160395779721)\n",
       "1        26593698  10/31/2013 02:01:04 AM                     NaN   NYPD          New York City Police Department          Illegal Parking   Commercial Overnight Parking      Street/Sidewalk        11378             58 AVENUE        58 AVENUE            58 PLACE                         59 STREET                     NaN                   NaN     BLOCKFACE   MASPETH      NaN      Precinct      Open  10/31/2013 10:01:04 AM                            NaN       05 QUEENS     QUEENS                    1009349                     201984        Unspecified       QUEENS  Unspecified   Unspecified   Unspecified  Unspecified         Unspecified                                        Unspecified  Unspecified  Unspecified  Unspecified                N                          NaN          NaN                  NaN                   NaN                 NaN                      NaN       NaN                    NaN             NaN             NaN                 NaN  40.721040535628305  -73.90945306791765  (40.721040535628305, -73.90945306791765)\n",
       "2        26594139  10/31/2013 02:00:24 AM  10/31/2013 02:40:32 AM   NYPD          New York City Police Department       Noise - Commercial               Loud Music/Party  Club/Bar/Restaurant        10032         4060 BROADWAY         BROADWAY     WEST 171 STREET                   WEST 172 STREET                     NaN                   NaN       ADDRESS  NEW YORK      NaN      Precinct    Closed  10/31/2013 10:00:24 AM         10/31/2013 02:39:42 AM    12 MANHATTAN  MANHATTAN                    1001088                     246531        Unspecified    MANHATTAN  Unspecified   Unspecified   Unspecified  Unspecified         Unspecified                                        Unspecified  Unspecified  Unspecified  Unspecified                N                          NaN          NaN                  NaN                   NaN                 NaN                      NaN       NaN                    NaN             NaN             NaN                 NaN   40.84332975466513  -73.93914371913482   (40.84332975466513, -73.93914371913482)\n",
       "3        26595721  10/31/2013 01:56:23 AM  10/31/2013 02:21:48 AM   NYPD          New York City Police Department          Noise - Vehicle                 Car/Truck Horn      Street/Sidewalk        10023        WEST 72 STREET   WEST 72 STREET     COLUMBUS AVENUE                  AMSTERDAM AVENUE                     NaN                   NaN     BLOCKFACE  NEW YORK      NaN      Precinct    Closed  10/31/2013 09:56:23 AM         10/31/2013 02:21:10 AM    07 MANHATTAN  MANHATTAN                     989730                     222727        Unspecified    MANHATTAN  Unspecified   Unspecified   Unspecified  Unspecified         Unspecified                                        Unspecified  Unspecified  Unspecified  Unspecified                N                          NaN          NaN                  NaN                   NaN                 NaN                      NaN       NaN                    NaN             NaN             NaN                 NaN    40.7780087446372  -73.98021349023975    (40.7780087446372, -73.98021349023975)\n",
       "4        26590930  10/31/2013 01:53:44 AM                     NaN  DOHMH  Department of Health and Mental Hygiene                   Rodent   Condition Attracting Rodents           Vacant Lot        10027       WEST 124 STREET  WEST 124 STREET        LENOX AVENUE  ADAM CLAYTON POWELL JR BOULEVARD                     NaN                   NaN     BLOCKFACE  NEW YORK      NaN           NaN   Pending  11/30/2013 01:53:44 AM         10/31/2013 01:59:54 AM    10 MANHATTAN  MANHATTAN                     998815                     233545        Unspecified    MANHATTAN  Unspecified   Unspecified   Unspecified  Unspecified         Unspecified                                        Unspecified  Unspecified  Unspecified  Unspecified                N                          NaN          NaN                  NaN                   NaN                 NaN                      NaN       NaN                    NaN             NaN             NaN                 NaN   40.80769092704951  -73.94738703491433   (40.80769092704951, -73.94738703491433)\n",
       "...           ...                     ...                     ...    ...                                      ...                      ...                            ...                  ...          ...                   ...              ...                 ...                               ...                     ...                   ...           ...       ...      ...           ...       ...                     ...                            ...             ...        ...                        ...                        ...                ...          ...          ...           ...           ...          ...                 ...                                                ...          ...          ...          ...              ...                          ...          ...                  ...                   ...                 ...                      ...       ...                    ...             ...             ...                 ...                 ...                 ...                                       ...\n",
       "111064   26426013  10/04/2013 12:01:13 AM  10/07/2013 04:07:16 PM    DPR       Department of Parks and Recreation  Maintenance or Facility           Structure - Outdoors                 Park        11213                   NaN              NaN                 NaN                               NaN                     NaN                   NaN           NaN  BROOKLYN      NaN           NaN    Closed  10/18/2013 12:01:13 AM         10/07/2013 04:07:16 PM     08 BROOKLYN   BROOKLYN                        NaN                        NaN        Brower Park     BROOKLYN  Brower Park          B012           NaN          NaN          7189658900  Brooklyn, St. Marks, Kingston Avenues, Park Place     BROOKLYN           NY        11213                N                          NaN          NaN                  NaN                   NaN                 NaN                      NaN       NaN                    NaN             NaN             NaN                 NaN                 NaN                 NaN                                       NaN\n",
       "111065   26428083  10/04/2013 12:01:05 AM  10/04/2013 02:13:50 AM   NYPD          New York City Police Department          Illegal Parking  Posted Parking Sign Violation      Street/Sidewalk        11434                   NaN              NaN                 NaN                               NaN  GUY R BREWER BOULEVARD    ROCKAWAY BOULEVARD  INTERSECTION   JAMAICA      NaN      Precinct    Closed  10/04/2013 08:01:05 AM         10/04/2013 02:13:50 AM       13 QUEENS     QUEENS                    1048801                     178419        Unspecified       QUEENS  Unspecified   Unspecified   Unspecified  Unspecified         Unspecified                                        Unspecified  Unspecified  Unspecified  Unspecified                N                          NaN          NaN                  NaN                   NaN                 NaN                      NaN       NaN                    NaN             NaN             NaN                 NaN  40.656160351546845  -73.76735262738222  (40.656160351546845, -73.76735262738222)\n",
       "111066   26428987  10/04/2013 12:00:45 AM  10/04/2013 01:25:01 AM   NYPD          New York City Police Department  Noise - Street/Sidewalk                   Loud Talking      Street/Sidewalk        10016    344 EAST 28 STREET   EAST 28 STREET  MOUNT CARMEL PLACE                          1 AVENUE                     NaN                   NaN       ADDRESS  NEW YORK      NaN      Precinct    Closed  10/04/2013 08:00:45 AM         10/04/2013 01:25:01 AM    06 MANHATTAN  MANHATTAN                     990637                     208987        Unspecified    MANHATTAN  Unspecified   Unspecified   Unspecified  Unspecified         Unspecified                                        Unspecified  Unspecified  Unspecified  Unspecified                N                          NaN          NaN                  NaN                   NaN                 NaN                      NaN       NaN                    NaN             NaN             NaN                 NaN  40.740295354643706  -73.97695165980414  (40.740295354643706, -73.97695165980414)\n",
       "111067   26426115  10/04/2013 12:00:28 AM  10/04/2013 04:17:32 AM   NYPD          New York City Police Department       Noise - Commercial                   Loud Talking  Club/Bar/Restaurant        11226  1233 FLATBUSH AVENUE  FLATBUSH AVENUE            AVENUE D                    NEWKIRK AVENUE                     NaN                   NaN       ADDRESS  BROOKLYN      NaN      Precinct    Closed  10/04/2013 08:00:28 AM         10/04/2013 04:17:32 AM     14 BROOKLYN   BROOKLYN                     996654                     172515        Unspecified     BROOKLYN  Unspecified   Unspecified   Unspecified  Unspecified         Unspecified                                        Unspecified  Unspecified  Unspecified  Unspecified                N                          NaN          NaN                  NaN                   NaN                 NaN                      NaN       NaN                    NaN             NaN             NaN                 NaN   40.64018174662485  -73.95530566958138   (40.64018174662485, -73.95530566958138)\n",
       "111068   26428033  10/04/2013 12:00:10 AM  10/04/2013 01:20:52 AM   NYPD          New York City Police Department         Blocked Driveway                 Partial Access      Street/Sidewalk        11236   1259 EAST 94 STREET   EAST 94 STREET            AVENUE J                          AVENUE K                     NaN                   NaN       ADDRESS  BROOKLYN      NaN      Precinct    Closed  10/04/2013 08:00:10 AM         10/04/2013 01:20:52 AM     18 BROOKLYN   BROOKLYN                    1011804                     172470        Unspecified     BROOKLYN  Unspecified   Unspecified   Unspecified  Unspecified         Unspecified                                        Unspecified  Unspecified  Unspecified  Unspecified                N                          NaN          NaN                  NaN                   NaN                 NaN                      NaN       NaN                    NaN             NaN             NaN                 NaN  40.640024057399216  -73.90071711703163  (40.640024057399216, -73.90071711703163)\n",
       "\n",
       "[111069 rows x 52 columns]"
      ]
     },
     "execution_count": 7,
     "metadata": {},
     "output_type": "execute_result"
    }
   ],
   "source": [
    "complaints"
   ]
  },
  {
   "cell_type": "markdown",
   "id": "30da09e0",
   "metadata": {},
   "source": [
    "## Create Mock data"
   ]
  },
  {
   "cell_type": "code",
   "execution_count": 9,
   "id": "edec9a15",
   "metadata": {
    "tags": []
   },
   "outputs": [
    {
     "ename": "ModuleNotFoundError",
     "evalue": "No module named 'faker'",
     "output_type": "error",
     "traceback": [
      "\u001b[0;31m---------------------------------------------------------------------------\u001b[0m",
      "\u001b[0;31mModuleNotFoundError\u001b[0m                       Traceback (most recent call last)",
      "\u001b[1;32m/Users/theresa/Desktop/source/PySyft/notebooks/tutorials/pandas-cookbook/03-which-borough-has-the-most-noise-complaints.ipynb Cell 15\u001b[0m in \u001b[0;36m<cell line: 1>\u001b[0;34m()\u001b[0m\n\u001b[0;32m----> <a href='vscode-notebook-cell:/Users/theresa/Desktop/source/PySyft/notebooks/tutorials/pandas-cookbook/03-which-borough-has-the-most-noise-complaints.ipynb#X20sZmlsZQ%3D%3D?line=0'>1</a>\u001b[0m \u001b[39mimport\u001b[39;00m \u001b[39mfaker\u001b[39;00m\n\u001b[1;32m      <a href='vscode-notebook-cell:/Users/theresa/Desktop/source/PySyft/notebooks/tutorials/pandas-cookbook/03-which-borough-has-the-most-noise-complaints.ipynb#X20sZmlsZQ%3D%3D?line=2'>3</a>\u001b[0m \u001b[39mfrom\u001b[39;00m \u001b[39msyft\u001b[39;00m\u001b[39m.\u001b[39;00m\u001b[39mserde\u001b[39;00m\u001b[39m.\u001b[39;00m\u001b[39mmock\u001b[39;00m \u001b[39mimport\u001b[39;00m CachedFaker\n\u001b[1;32m      <a href='vscode-notebook-cell:/Users/theresa/Desktop/source/PySyft/notebooks/tutorials/pandas-cookbook/03-which-borough-has-the-most-noise-complaints.ipynb#X20sZmlsZQ%3D%3D?line=3'>4</a>\u001b[0m \u001b[39mfrom\u001b[39;00m \u001b[39mrandom\u001b[39;00m \u001b[39mimport\u001b[39;00m randint\n",
      "\u001b[0;31mModuleNotFoundError\u001b[0m: No module named 'faker'"
     ]
    }
   ],
   "source": [
    "import faker\n",
    "\n",
    "from syft.serde.mock import CachedFaker\n",
    "from random import randint\n",
    "import random"
   ]
  },
  {
   "cell_type": "code",
   "execution_count": 10,
   "id": "47cd4f56",
   "metadata": {},
   "outputs": [
    {
     "name": "stdout",
     "output_type": "stream",
     "text": [
      "/Users/theresa/opt/anaconda3/envs/OpenMined/bin/python\n"
     ]
    }
   ],
   "source": [
    "!which python"
   ]
  },
  {
   "cell_type": "markdown",
   "id": "5aebe627",
   "metadata": {},
   "source": [
    "Let's create the mock data for the complaint dataset."
   ]
  },
  {
   "cell_type": "code",
   "execution_count": null,
   "id": "aaca029e",
   "metadata": {
    "tags": []
   },
   "outputs": [],
   "source": [
    "fake = CachedFaker()"
   ]
  },
  {
   "cell_type": "code",
   "execution_count": null,
   "id": "33bf792a",
   "metadata": {
    "tags": []
   },
   "outputs": [],
   "source": [
    "fake_functions = {\n",
    "    \"Unique Key\": lambda x: randint(1,1000000),\n",
    "    \"Location\": lambda x: (fake.coordinate(), fake.coordinate()),\n",
    "    \"Agency\": lambda x: random.choice([\"NYPD\", \"DOHMH\", \"DPR\"]),\n",
    "    \"X Coordinate (State Plane)\": lambda x: randint(1,1000000),\n",
    "    \"Y Coordinate (State Plane)\": lambda x: randint(1,1000000),\n",
    "    \"Complaint Type\": lambda x: random.choice([\"Illegal Parking\", \"Noise - Street/Sidewalk\", \"'Animal in a Park'\"]),\n",
    "    \"Descriptor\": lambda x: random.choice([ 'Branch or Limb Has Fallen Down','Branches Damaged','Broken Fence', 'Broken Glass']),\n",
    "    \"School Number\": lambda x: random.choice([ 'B073', 'B077', 'B079', 'B080-01', 'B087', 'B099', 'B100', 'B102', 'B109', 'B111']),\n",
    "    \"Bridge Highway Segment\": lambda x: random.choice([ 'Grand Central Pkwy (Exit 1 E-W)',\n",
    "                                                       'Grand Central Pkwy (Exit 10) - 69th Rd-Jewel Ave (Exit 11)',\n",
    "                                                       'GrandCentral Pkwy/VanWyck Expwy/College Point Blvd (Exit 22 A-E)',\n",
    "                                                       'Hamilton Ave (Exit 2A) - Gowanus Expwy (I-278) (Exit 1)',\n",
    "                                                       'Harding Ave (Exit 9) - Throgs Neck Br'])\n",
    "}"
   ]
  },
  {
   "cell_type": "code",
   "execution_count": null,
   "id": "14883cf9",
   "metadata": {
    "tags": []
   },
   "outputs": [],
   "source": [
    "fake_triggers = {\n",
    "    \"Street\": lambda x : fake.street_name(),\n",
    "    \"Date\": lambda x : fake.date_time(),\n",
    "    \"Long\": lambda x : fake.coordinate(),\n",
    "    \"Lat\": lambda x : fake.coordinate(),\n",
    "    \"Address\": lambda x : fake.address(),\n",
    "    \"Name\": lambda x : fake.name(),\n",
    "    \"City\": lambda x : fake.city(),\n",
    "    \"Zip\": lambda x : fake.zipcode(),\n",
    "}"
   ]
  },
  {
   "cell_type": "code",
   "execution_count": null,
   "id": "ce64d92b",
   "metadata": {
    "tags": []
   },
   "outputs": [],
   "source": [
    "mock_data = dict()\n",
    "for col in complaints.columns:\n",
    "    col_vals = complaints[col]\n",
    "    \n",
    "    if col in fake_functions:\n",
    "        mock_func = fake_functions[col]\n",
    "    elif len(set(complaints[col])) < 100:\n",
    "        values = list(set(complaints[col]))\n",
    "        mock_func = lambda x: random.choice(values)\n",
    "    else:\n",
    "        for trigger in fake_triggers.keys():\n",
    "            if trigger in col:\n",
    "                mock_func = fake_triggers[trigger]\n",
    "    mock_data[col] = [mock_func(None) for x in range(len(complaints))]"
   ]
  },
  {
   "cell_type": "code",
   "execution_count": null,
   "id": "1a5047e6",
   "metadata": {
    "tags": []
   },
   "outputs": [],
   "source": [
    "mock = pd.DataFrame(data=mock_data)"
   ]
  },
  {
   "cell_type": "code",
   "execution_count": null,
   "id": "91c3150b",
   "metadata": {
    "tags": []
   },
   "outputs": [],
   "source": [
    "mock.head()"
   ]
  },
  {
   "cell_type": "code",
   "execution_count": null,
   "id": "2f02eba8",
   "metadata": {
    "tags": []
   },
   "outputs": [],
   "source": [
    "dataset = sy.Dataset(name=\"bikes\",\n",
    "                     asset_list=[sy.Asset(name=\"complaints\", data=complaints, mock=mock, mock_is_real=False)])\n",
    "domain_client.upload_dataset(dataset)"
   ]
  },
  {
   "cell_type": "markdown",
   "id": "eecd3476",
   "metadata": {},
   "source": [
    "## Create data scientist"
   ]
  },
  {
   "cell_type": "code",
   "execution_count": null,
   "id": "f20a2411",
   "metadata": {
    "tags": []
   },
   "outputs": [],
   "source": [
    "user = domain_client.register(name=\"Jane Doe\", email=\"jane@caltech.edu\",\n",
    "                            password=\"abc123\", institution=\"Caltech\", website=\"https://www.caltech.edu/\")\n",
    "\n",
    "# todo: give user data scientist role\n",
    "\n",
    "guest_domain_client = node.client\n",
    "\n",
    "guest_client = guest_domain_client.login(email=\"jane@caltech.edu\", password=\"abc123\")"
   ]
  },
  {
   "cell_type": "markdown",
   "id": "c64adae0",
   "metadata": {},
   "source": [
    "# Data scientist: Create syft_function"
   ]
  },
  {
   "cell_type": "markdown",
   "id": "8c9c3595",
   "metadata": {},
   "source": [
    "## Download mock and submit project"
   ]
  },
  {
   "cell_type": "markdown",
   "id": "8c63f823",
   "metadata": {},
   "source": [
    "### Get mock"
   ]
  },
  {
   "cell_type": "code",
   "execution_count": null,
   "id": "d568e3f3",
   "metadata": {
    "tags": []
   },
   "outputs": [],
   "source": [
    "guest_domain_client = node.client\n",
    "guest_client = guest_domain_client.login(email=\"jane@caltech.edu\", password=\"abc123\")"
   ]
  },
  {
   "cell_type": "code",
   "execution_count": null,
   "id": "81c7f134",
   "metadata": {
    "tags": []
   },
   "outputs": [],
   "source": [
    "ds = guest_domain_client.datasets[0]"
   ]
  },
  {
   "cell_type": "code",
   "execution_count": null,
   "id": "fa97cda8",
   "metadata": {
    "tags": []
   },
   "outputs": [],
   "source": [
    "asset = ds.assets[\"complaints\"]"
   ]
  },
  {
   "cell_type": "code",
   "execution_count": null,
   "id": "b93f1fd8",
   "metadata": {
    "tags": []
   },
   "outputs": [],
   "source": [
    "complaints = asset.mock.syft_action_data"
   ]
  },
  {
   "cell_type": "markdown",
   "id": "e89ffc0e",
   "metadata": {},
   "source": [
    "### Selecting only noise complaints\n"
   ]
  },
  {
   "cell_type": "markdown",
   "id": "7bae028c",
   "metadata": {},
   "source": [
    "I'd like to know which borough has the most noise complaints. First, we'll take a look at the data to see what it looks like:"
   ]
  },
  {
   "cell_type": "code",
   "execution_count": null,
   "id": "d644bed3",
   "metadata": {
    "tags": []
   },
   "outputs": [],
   "source": [
    "complaints[:5]"
   ]
  },
  {
   "cell_type": "markdown",
   "id": "9af15f08",
   "metadata": {},
   "source": [
    "To get the noise complaints, we need to find the rows where the \"Complaint Type\" column is \"Noise - Street/Sidewalk\". I'll show you how to do that, and then explain what's going on.\n",
    "\n"
   ]
  },
  {
   "cell_type": "code",
   "execution_count": null,
   "id": "430a063d",
   "metadata": {
    "tags": []
   },
   "outputs": [],
   "source": [
    "noise_complaints = complaints[complaints['Complaint Type'] == \"Noise - Street/Sidewalk\"]\n",
    "noise_complaints[:3]"
   ]
  },
  {
   "cell_type": "markdown",
   "id": "e5242fab",
   "metadata": {},
   "source": [
    "If you look at noise_complaints, you'll see that this worked, and it only contains complaints with the right complaint type. But how does this work? Let's deconstruct it into two pieces"
   ]
  },
  {
   "cell_type": "code",
   "execution_count": null,
   "id": "d0a54359",
   "metadata": {
    "tags": []
   },
   "outputs": [],
   "source": [
    "complaints['Complaint Type'] == \"Noise - Street/Sidewalk\""
   ]
  },
  {
   "cell_type": "markdown",
   "id": "d26a8fe3",
   "metadata": {},
   "source": [
    "This is a big array of Trues and Falses, one for each row in our dataframe. When we index our dataframe with this array, we get just the rows where our boolean array evaluated to True. It's important to note that for row filtering by a boolean array the length of our dataframe's index must be the same length as the boolean array used for filtering.\n",
    "\n",
    "You can also combine more than one condition with the & operator like this:"
   ]
  },
  {
   "cell_type": "code",
   "execution_count": null,
   "id": "f6558b8e",
   "metadata": {
    "tags": []
   },
   "outputs": [],
   "source": [
    "is_noise = (complaints['Complaint Type'] == \"Noise - Street/Sidewalk\")\n",
    "in_brooklyn = complaints['Borough'] == \"BROOKLYN\"\n",
    "complaints[is_noise & in_brooklyn][:5]"
   ]
  },
  {
   "cell_type": "markdown",
   "id": "17bd67be",
   "metadata": {},
   "source": [
    "Or if we just wanted a few columns:\n",
    "\n"
   ]
  },
  {
   "cell_type": "code",
   "execution_count": null,
   "id": "715a9a30",
   "metadata": {
    "tags": []
   },
   "outputs": [],
   "source": [
    "complaints[is_noise & in_brooklyn][['Complaint Type', 'Borough', 'Created Date', 'Descriptor']][:10]"
   ]
  },
  {
   "cell_type": "markdown",
   "id": "1bd114e4",
   "metadata": {},
   "source": [
    "### A digression about numpy arrays"
   ]
  },
  {
   "cell_type": "markdown",
   "id": "dad39add",
   "metadata": {},
   "source": [
    "On the inside, the type of a column is pd.Series"
   ]
  },
  {
   "cell_type": "code",
   "execution_count": null,
   "id": "4d882457",
   "metadata": {
    "tags": []
   },
   "outputs": [],
   "source": [
    "import pandas as pd\n",
    "import numpy as np"
   ]
  },
  {
   "cell_type": "code",
   "execution_count": null,
   "id": "b9361f36",
   "metadata": {
    "tags": []
   },
   "outputs": [],
   "source": [
    "pd.Series([1,2,3])"
   ]
  },
  {
   "cell_type": "markdown",
   "id": "7b6069dd",
   "metadata": {},
   "source": [
    "and pandas Series are internally numpy arrays. If you add .values to the end of any Series, you'll get its internal numpy array"
   ]
  },
  {
   "cell_type": "code",
   "execution_count": null,
   "id": "321ec348",
   "metadata": {
    "tags": []
   },
   "outputs": [],
   "source": [
    "np.array([1,2,3])"
   ]
  },
  {
   "cell_type": "code",
   "execution_count": null,
   "id": "d01bdbff",
   "metadata": {
    "tags": []
   },
   "outputs": [],
   "source": [
    "pd.Series([1,2,3]).values"
   ]
  },
  {
   "cell_type": "markdown",
   "id": "87e6106e",
   "metadata": {},
   "source": [
    "So this binary-array-selection business is actually something that works with any numpy array:"
   ]
  },
  {
   "cell_type": "code",
   "execution_count": null,
   "id": "57293d75",
   "metadata": {
    "tags": []
   },
   "outputs": [],
   "source": [
    "arr = np.array([1,2,3])"
   ]
  },
  {
   "cell_type": "code",
   "execution_count": null,
   "id": "87d2cb89",
   "metadata": {
    "tags": []
   },
   "outputs": [],
   "source": [
    "arr != 2"
   ]
  },
  {
   "cell_type": "code",
   "execution_count": null,
   "id": "ab6fee06",
   "metadata": {
    "tags": []
   },
   "outputs": [],
   "source": [
    "arr[arr != 2]"
   ]
  },
  {
   "cell_type": "markdown",
   "id": "6747165b",
   "metadata": {},
   "source": [
    "### So, which borough has the most noise complaints?"
   ]
  },
  {
   "cell_type": "code",
   "execution_count": null,
   "id": "e944501d",
   "metadata": {
    "tags": []
   },
   "outputs": [],
   "source": [
    "is_noise = complaints['Complaint Type'] == \"Noise - Street/Sidewalk\"\n",
    "noise_complaints = complaints[is_noise]\n",
    "noise_complaints['Borough'].value_counts()"
   ]
  },
  {
   "cell_type": "markdown",
   "id": "3ea5d5db",
   "metadata": {},
   "source": [
    "It's the BRONX (for this Mock)! But what if we wanted to divide by the total number of complaints, to make it make a bit more sense? That would be easy too:"
   ]
  },
  {
   "cell_type": "code",
   "execution_count": null,
   "id": "714e350b",
   "metadata": {
    "tags": []
   },
   "outputs": [],
   "source": [
    "noise_complaint_counts = noise_complaints['Borough'].value_counts()\n",
    "complaint_counts = complaints['Borough'].value_counts()"
   ]
  },
  {
   "cell_type": "code",
   "execution_count": null,
   "id": "3e54521e",
   "metadata": {
    "tags": []
   },
   "outputs": [],
   "source": [
    "noise_complaint_counts"
   ]
  },
  {
   "cell_type": "code",
   "execution_count": null,
   "id": "879370e5",
   "metadata": {
    "tags": []
   },
   "outputs": [],
   "source": [
    "noise_complaint_counts / complaint_counts"
   ]
  },
  {
   "cell_type": "markdown",
   "id": "30bb9390",
   "metadata": {},
   "source": [
    "Oops, why was that zero? That's no good. This is because of integer division in Python 2. Let's fix it, by converting complaint_counts into an array of floats."
   ]
  },
  {
   "cell_type": "code",
   "execution_count": null,
   "id": "5ebfc29a",
   "metadata": {
    "tags": []
   },
   "outputs": [],
   "source": [
    "noise_complaint_counts / complaint_counts.astype(float)"
   ]
  },
  {
   "cell_type": "code",
   "execution_count": null,
   "id": "5b9dfccd",
   "metadata": {
    "tags": []
   },
   "outputs": [],
   "source": [
    "(noise_complaint_counts / complaint_counts.astype(float)).plot(kind='bar')"
   ]
  },
  {
   "cell_type": "markdown",
   "id": "de62dbf8",
   "metadata": {},
   "source": [
    "So Bronx really does complain more about noise than the other boroughs in our mock! Neat."
   ]
  },
  {
   "cell_type": "markdown",
   "id": "96bedffb",
   "metadata": {},
   "source": [
    "## Request real result"
   ]
  },
  {
   "cell_type": "markdown",
   "id": "c56fe966",
   "metadata": {},
   "source": [
    "Now that we finished our analysis on the mock data, we can request this execution on the real data."
   ]
  },
  {
   "cell_type": "code",
   "execution_count": null,
   "id": "c947ad6b",
   "metadata": {
    "tags": []
   },
   "outputs": [],
   "source": [
    "@sy.syft_function(input_policy=sy.ExactMatch(complaints=asset.mock),\n",
    "                  output_policy=sy.SingleExecutionExactOutput())\n",
    "def get_counts(complaints):\n",
    "    is_noise = complaints['Complaint Type'] == \"Noise - Street/Sidewalk\"\n",
    "    noise_complaints = complaints[is_noise]\n",
    "    noise_complaint_counts = noise_complaints['Borough'].value_counts()\n",
    "    complaint_counts = complaints['Borough'].value_counts()\n",
    "    return noise_complaint_counts / complaint_counts.astype(float)"
   ]
  },
  {
   "cell_type": "markdown",
   "id": "e17c5a93",
   "metadata": {},
   "source": [
    "Create and submit project"
   ]
  },
  {
   "cell_type": "code",
   "execution_count": null,
   "id": "3714457a-2ddb-4267-b729-6d998306c8c8",
   "metadata": {
    "tags": []
   },
   "outputs": [],
   "source": [
    "new_project = sy.Project(\n",
    "    name=\"Pandas chapter 3\",\n",
    "    description=\"Hi, I would like to plot the histogram of the noise complaint counts per area.\",\n",
    "    members=[guest_domain_client],\n",
    ")\n",
    "new_project"
   ]
  },
  {
   "cell_type": "code",
   "execution_count": null,
   "id": "a7e43ba2-4049-4408-85c1-b283dbaf4a84",
   "metadata": {
    "tags": []
   },
   "outputs": [],
   "source": [
    "project = new_project.start()\n",
    "assert isinstance(project, sy.service.project.project.Project)\n",
    "project"
   ]
  },
  {
   "cell_type": "code",
   "execution_count": null,
   "id": "698d1c4c-c794-473b-994e-c6af80b0680b",
   "metadata": {
    "tags": []
   },
   "outputs": [],
   "source": [
    "project.create_code_request(get_counts, guest_domain_client)"
   ]
  },
  {
   "cell_type": "code",
   "execution_count": null,
   "id": "58298e1a-858f-4b93-87e8-48e90716bfb7",
   "metadata": {
    "tags": []
   },
   "outputs": [],
   "source": [
    "assert len(guest_domain_client.code.get_all())==1"
   ]
  },
  {
   "cell_type": "code",
   "execution_count": null,
   "id": "56b91bc6-e8c1-4dbb-a8f2-62fd40cc4a90",
   "metadata": {
    "tags": []
   },
   "outputs": [],
   "source": [
    "assert len(project.events) == 1"
   ]
  },
  {
   "cell_type": "code",
   "execution_count": null,
   "id": "cdcf3f8f-3922-4bd0-8499-e13951dc174b",
   "metadata": {
    "tags": []
   },
   "outputs": [],
   "source": [
    "assert isinstance(project.events[0], sy.service.project.project.ProjectRequest)"
   ]
  },
  {
   "cell_type": "markdown",
   "id": "5c6fc67a",
   "metadata": {},
   "source": [
    "# Data owner: execute function"
   ]
  },
  {
   "cell_type": "markdown",
   "id": "5f4bded4",
   "metadata": {},
   "source": [
    "## Get messages"
   ]
  },
  {
   "cell_type": "code",
   "execution_count": null,
   "id": "29dc2f2c",
   "metadata": {
    "tags": []
   },
   "outputs": [],
   "source": [
    "domain_client = node.login(email=\"info@openmined.org\", password=\"changethis\")"
   ]
  },
  {
   "cell_type": "code",
   "execution_count": null,
   "id": "6ebec184",
   "metadata": {
    "tags": []
   },
   "outputs": [],
   "source": [
    "messages = domain_client.api.services.messages.get_all_unread()"
   ]
  },
  {
   "cell_type": "code",
   "execution_count": null,
   "id": "34a83d8f",
   "metadata": {
    "tags": []
   },
   "outputs": [],
   "source": [
    "messages"
   ]
  },
  {
   "cell_type": "code",
   "execution_count": null,
   "id": "f491713c",
   "metadata": {
    "tags": []
   },
   "outputs": [],
   "source": [
    "project_message = [x for x in messages if issubclass(x.linked_obj.object_type, Project)][0]"
   ]
  },
  {
   "cell_type": "code",
   "execution_count": null,
   "id": "e450a3af",
   "metadata": {
    "tags": []
   },
   "outputs": [],
   "source": [
    "request = project_message.link.events[0].request\n",
    "func = request.changes[0].link\n",
    "op = func.output_policy_type"
   ]
  },
  {
   "cell_type": "code",
   "execution_count": null,
   "id": "cd5822af",
   "metadata": {
    "tags": []
   },
   "outputs": [],
   "source": [
    "func"
   ]
  },
  {
   "cell_type": "code",
   "execution_count": null,
   "id": "c173017d",
   "metadata": {
    "tags": []
   },
   "outputs": [],
   "source": [
    "get_counts_user_func = func.unsafe_function"
   ]
  },
  {
   "cell_type": "code",
   "execution_count": null,
   "id": "3a708eb0",
   "metadata": {
    "tags": []
   },
   "outputs": [],
   "source": [
    "real_data = domain_client.datasets[0].assets[0].data"
   ]
  },
  {
   "cell_type": "code",
   "execution_count": null,
   "id": "34fc6c8b",
   "metadata": {
    "tags": []
   },
   "outputs": [],
   "source": [
    "real_result = get_counts_user_func(complaints=real_data)"
   ]
  },
  {
   "cell_type": "code",
   "execution_count": null,
   "id": "f25c2403",
   "metadata": {
    "tags": []
   },
   "outputs": [],
   "source": [
    "real_result[:3]"
   ]
  },
  {
   "cell_type": "code",
   "execution_count": null,
   "id": "60adc73c",
   "metadata": {
    "tags": []
   },
   "outputs": [],
   "source": [
    "result = request.accept_by_depositing_result(real_result)\n",
    "result\n",
    "assert isinstance(result, sy.SyftSuccess)"
   ]
  },
  {
   "cell_type": "markdown",
   "id": "18f5ff54",
   "metadata": {},
   "source": [
    "# Data scientist: fetch result"
   ]
  },
  {
   "cell_type": "code",
   "execution_count": null,
   "id": "d4d913d0",
   "metadata": {
    "tags": []
   },
   "outputs": [],
   "source": [
    "asset = guest_client.datasets[0].assets[0]"
   ]
  },
  {
   "cell_type": "code",
   "execution_count": null,
   "id": "b302702f",
   "metadata": {
    "tags": []
   },
   "outputs": [],
   "source": [
    "guest_client.code[0].status"
   ]
  },
  {
   "cell_type": "code",
   "execution_count": null,
   "id": "7093dad3",
   "metadata": {
    "tags": []
   },
   "outputs": [],
   "source": [
    "result_ptr = guest_client.code.get_counts(complaints=asset)\n",
    "real_result = result_ptr.get_from(guest_client)\n",
    "real_result.plot(kind=\"bar\")"
   ]
  },
  {
   "cell_type": "code",
   "execution_count": null,
   "id": "a6aceacc-a97e-42a8-b9da-3d03eb95c4a2",
   "metadata": {
    "tags": []
   },
   "outputs": [],
   "source": [
    "node.land()"
   ]
  },
  {
   "cell_type": "code",
   "execution_count": null,
   "id": "4374c6ed-b64f-4819-aca4-5570676d6c68",
   "metadata": {},
   "outputs": [],
   "source": []
  }
 ],
 "metadata": {
  "kernelspec": {
   "display_name": "OpenMined",
   "language": "python",
   "name": "openmined"
  },
  "language_info": {
   "codemirror_mode": {
    "name": "ipython",
    "version": 3
   },
   "file_extension": ".py",
   "mimetype": "text/x-python",
   "name": "python",
   "nbconvert_exporter": "python",
   "pygments_lexer": "ipython3",
   "version": "3.11.2"
  },
  "toc": {
   "base_numbering": 1,
   "nav_menu": {},
   "number_sections": true,
   "sideBar": true,
   "skip_h1_title": false,
   "title_cell": "Table of Contents",
   "title_sidebar": "Contents",
   "toc_cell": false,
   "toc_position": {
    "height": "calc(100% - 180px)",
    "left": "10px",
    "top": "150px",
    "width": "358.398px"
   },
   "toc_section_display": true,
   "toc_window_display": true
  },
  "vscode": {
   "interpreter": {
    "hash": "017efdf43109cd6b9637f4f53c6ec16afae94799027fbfa5c9630f2a1f28a9df"
   }
  }
 },
 "nbformat": 4,
 "nbformat_minor": 5
}

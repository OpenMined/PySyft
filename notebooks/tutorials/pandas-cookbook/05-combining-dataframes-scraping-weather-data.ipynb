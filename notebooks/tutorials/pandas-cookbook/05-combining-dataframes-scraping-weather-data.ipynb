{
 "cells": [
  {
   "cell_type": "markdown",
   "id": "c346b452",
   "metadata": {},
   "source": [
    "# Combining dataframes and scraping Canadian weather data"
   ]
  },
  {
   "cell_type": "markdown",
   "id": "1109216b",
   "metadata": {},
   "source": [
    "## Install"
   ]
  },
  {
   "cell_type": "code",
   "execution_count": null,
   "id": "66c14a6b",
   "metadata": {
    "tags": []
   },
   "outputs": [],
   "source": [
    "SYFT_VERSION = \">=0.8.1b0,<0.9\"\n",
    "package_string = f'\"syft{SYFT_VERSION}\"'\n",
    "# %pip install {package_string} -f https://whls.blob.core.windows.net/unstable/index.html -q"
   ]
  },
  {
   "cell_type": "code",
   "execution_count": null,
   "id": "74a3a9fb",
   "metadata": {
    "tags": []
   },
   "outputs": [],
   "source": [
    "import syft as sy\n",
    "sy.requires(SYFT_VERSION)"
   ]
  },
  {
   "cell_type": "code",
   "execution_count": null,
   "id": "cbce68c1",
   "metadata": {
    "tags": []
   },
   "outputs": [],
   "source": [
    "node = sy.orchestra.launch(name=\"pandas-test-domain-5\", port=9085, reset=True)"
   ]
  },
  {
   "cell_type": "markdown",
   "id": "121be37b",
   "metadata": {},
   "source": [
    "# Data owner: upload dataset"
   ]
  },
  {
   "cell_type": "code",
   "execution_count": null,
   "id": "a0e5d90d",
   "metadata": {
    "tags": []
   },
   "outputs": [],
   "source": [
    "root_domain_client = node.login(email=\"info@openmined.org\", password=\"changethis\")"
   ]
  },
  {
   "cell_type": "markdown",
   "id": "da0cf39a",
   "metadata": {},
   "source": [
    "## Load data"
   ]
  },
  {
   "cell_type": "markdown",
   "id": "ddb684cf",
   "metadata": {},
   "source": [
    "By the end of this chapter, we're going to have downloaded all of Canada's weather data for 2012, and saved it to a CSV.\n",
    "\n",
    "We'll do this by downloading it one month at a time, and then combining all the months together.\n",
    "\n",
    "Here's the temperature every hour for 2012!"
   ]
  },
  {
   "cell_type": "code",
   "execution_count": null,
   "id": "29334026",
   "metadata": {
    "tags": []
   },
   "outputs": [],
   "source": [
    "%matplotlib inline\n",
    "import pandas as pd\n",
    "import matplotlib.pyplot as plt\n",
    "import numpy as np\n",
    "\n",
    "plt.style.use('ggplot')\n",
    "plt.rcParams['figure.figsize'] = (15, 3)\n",
    "plt.rcParams['font.family'] = 'sans-serif'"
   ]
  },
  {
   "cell_type": "code",
   "execution_count": null,
   "id": "d5f7644a",
   "metadata": {
    "tags": []
   },
   "outputs": [],
   "source": [
    "from datetime import timedelta\n",
    "import random\n",
    "from dateutil.parser import parse\n",
    "from pandas._libs.tslibs.timestamps import Timestamp\n",
    "from syft.service.project.project import Project\n",
    "from syft.util.util import autocache, PANDAS_DATA"
   ]
  },
  {
   "cell_type": "code",
   "execution_count": null,
   "id": "1caceb93-1ea9-452c-bc2a-99c75eead49c",
   "metadata": {
    "tags": []
   },
   "outputs": [],
   "source": [
    "weather_2012_final = pd.read_csv(autocache(f\"{PANDAS_DATA}/weather_2012.csv\"), index_col='Date/Time')"
   ]
  },
  {
   "cell_type": "code",
   "execution_count": null,
   "id": "2957d70b-8883-4e84-b7e3-f3bbab8e8142",
   "metadata": {
    "tags": []
   },
   "outputs": [],
   "source": [
    "weather_2012_final['Temp (C)'].plot(figsize=(15, 6))"
   ]
  },
  {
   "cell_type": "markdown",
   "id": "409c477e",
   "metadata": {},
   "source": [
    "## Create mock data"
   ]
  },
  {
   "cell_type": "markdown",
   "id": "2c4999d5",
   "metadata": {},
   "source": [
    "Instead, we upload our dataset per month as a starting point"
   ]
  },
  {
   "cell_type": "code",
   "execution_count": null,
   "id": "d1c65de4",
   "metadata": {
    "tags": []
   },
   "outputs": [],
   "source": [
    "url_template = \"http://climate.weather.gc.ca/climate_data/bulk_data_e.html?format=csv&stationID=5415&Year={year}&Month={month}&timeframe=1&submit\""
   ]
  },
  {
   "cell_type": "code",
   "execution_count": null,
   "id": "4a0fe359",
   "metadata": {
    "tags": []
   },
   "outputs": [],
   "source": [
    "weather_types = set(weather_2012_final.Weather.to_list())"
   ]
  },
  {
   "cell_type": "code",
   "execution_count": null,
   "id": "7db7b9af",
   "metadata": {
    "tags": []
   },
   "outputs": [],
   "source": [
    "def get_mock_date(i):\n",
    "    return str(parse('Jun 1 2010') + timedelta(days=i))\n",
    "\n",
    "def get_mock_row(i):\n",
    "    res = dict()\n",
    "    for k, function in mock_functions.items():\n",
    "        res[k] = function()\n",
    "    return res\n",
    "    "
   ]
  },
  {
   "cell_type": "code",
   "execution_count": null,
   "id": "090f5a59",
   "metadata": {
    "tags": []
   },
   "outputs": [],
   "source": [
    "mock_functions = {\n",
    "    \"Temp (°C)\": lambda: random.uniform(-10, 40),\n",
    "    \"Dew Point Temp (C)\": lambda: random.uniform(-10, 10),\n",
    "    \"Rel Hum (%)\": lambda: random.randint(50, 100),\n",
    "    \"Wind Spd (km/h)\": lambda: random.randint(1, 30),\n",
    "    'Visibility (km)': lambda: random.uniform(0.5, 40),\n",
    "    'Stn Press (kPa)': lambda: random.uniform(50, 100),\n",
    "    'Weather': lambda: random.choice(list(weather_types))\n",
    "}"
   ]
  },
  {
   "cell_type": "code",
   "execution_count": null,
   "id": "7a7e70a6",
   "metadata": {
    "tags": []
   },
   "outputs": [],
   "source": [
    "assets = []\n",
    "for month in range(1, 13):\n",
    "    url = url_template.format(month=month, year=2012)\n",
    "    weather = pd.read_csv(url, parse_dates=True, index_col='Date/Time (LST)')\n",
    "    mock = pd.DataFrame(index=[Timestamp(get_mock_date(i)) for i in range(len(weather))],\n",
    "                    data=[get_mock_row(i) for i in range(len(weather))],\n",
    "                    columns=weather.columns)\n",
    "    \n",
    "    assets += [sy.Asset(name=f\"weather{month}\", data=weather, mock=mock, mock_is_real=False)]"
   ]
  },
  {
   "cell_type": "markdown",
   "id": "d11fc4b8",
   "metadata": {},
   "source": [
    "Upload the data"
   ]
  },
  {
   "cell_type": "code",
   "execution_count": null,
   "id": "e370b8b3",
   "metadata": {
    "tags": []
   },
   "outputs": [],
   "source": [
    "dataset = sy.Dataset(name=\"test\", asset_list=assets)\n",
    "root_domain_client.upload_dataset(dataset)"
   ]
  },
  {
   "cell_type": "code",
   "execution_count": null,
   "id": "3eb6aef9",
   "metadata": {
    "tags": []
   },
   "outputs": [],
   "source": [
    "weather.head()"
   ]
  },
  {
   "cell_type": "markdown",
   "id": "61a1069e",
   "metadata": {},
   "source": [
    "## Create user account"
   ]
  },
  {
   "cell_type": "code",
   "execution_count": null,
   "id": "5403cab4",
   "metadata": {
    "tags": []
   },
   "outputs": [],
   "source": [
    "user = root_domain_client.register(name=\"Jane Doe\", email=\"jane@caltech.edu\",\n",
    "                            password=\"abc123\", institution=\"Caltech\", website=\"https://www.caltech.edu/\")\n",
    "\n",
    "# todo: give user data scientist role\n",
    "\n",
    "guest_domain_client = node.client\n",
    "\n",
    "guest_client = guest_domain_client.login(email=\"jane@caltech.edu\", password=\"abc123\")"
   ]
  },
  {
   "cell_type": "markdown",
   "id": "7907435b",
   "metadata": {},
   "source": [
    "# Data scientist: create syft_function"
   ]
  },
  {
   "cell_type": "code",
   "execution_count": null,
   "id": "eef98281",
   "metadata": {
    "tags": []
   },
   "outputs": [],
   "source": [
    "import numpy as np\n",
    "import pandas as pd"
   ]
  },
  {
   "cell_type": "markdown",
   "id": "c52d6d1c",
   "metadata": {},
   "source": [
    "## Summary\n",
    "By the end of this chapter, we're going to have downloaded all of Canada's weather data for 2012, and saved it to a CSV.\n",
    "\n",
    "We'll do this by downloading it one month at a time, and then combining all the months together."
   ]
  },
  {
   "cell_type": "markdown",
   "id": "8c63f823",
   "metadata": {},
   "source": [
    "## Get mocks"
   ]
  },
  {
   "cell_type": "code",
   "execution_count": null,
   "id": "81c7f134",
   "metadata": {
    "tags": []
   },
   "outputs": [],
   "source": [
    "ds = guest_domain_client.datasets[-1]"
   ]
  },
  {
   "cell_type": "code",
   "execution_count": null,
   "id": "24cac2dc",
   "metadata": {
    "tags": []
   },
   "outputs": [],
   "source": [
    "ds.assets"
   ]
  },
  {
   "cell_type": "markdown",
   "id": "d9ed60db",
   "metadata": {},
   "source": [
    "## Downloading one month of weather data"
   ]
  },
  {
   "cell_type": "markdown",
   "id": "d6440d74",
   "metadata": {},
   "source": [
    "When playing with the cycling data, I wanted temperature and precipitation data to find out if people like biking when it's raining. So I went to the site for Canadian historical weather data, and figured out how to get it automatically.\n",
    "\n",
    "Here we're going to get the data for March 2012, and clean it up"
   ]
  },
  {
   "cell_type": "code",
   "execution_count": null,
   "id": "df089ffb",
   "metadata": {
    "tags": []
   },
   "outputs": [],
   "source": [
    "url_template = \"weather{month}\""
   ]
  },
  {
   "cell_type": "markdown",
   "id": "d5d809f2",
   "metadata": {},
   "source": [
    "To get the data for March 2013, we need to format it with `month=3`, `year=2012.`\n"
   ]
  },
  {
   "cell_type": "code",
   "execution_count": null,
   "id": "45ee4812",
   "metadata": {
    "tags": []
   },
   "outputs": [],
   "source": [
    "url = url_template.format(month=3, year=2012)"
   ]
  },
  {
   "cell_type": "code",
   "execution_count": null,
   "id": "97a8d23a",
   "metadata": {
    "tags": []
   },
   "outputs": [],
   "source": [
    "asset = ds.assets[url]\n",
    "weather_mar2012 = asset.mock"
   ]
  },
  {
   "cell_type": "markdown",
   "id": "7f96035d",
   "metadata": {},
   "source": [
    "This is super great! We can just use the this mock directly, and just give it a URL as a filename. Awesome.\n",
    "Here's the resulting dataframe."
   ]
  },
  {
   "cell_type": "code",
   "execution_count": null,
   "id": "8b4cb2a2",
   "metadata": {
    "tags": []
   },
   "outputs": [],
   "source": [
    "weather_mar2012"
   ]
  },
  {
   "cell_type": "code",
   "execution_count": null,
   "id": "2c2ed691",
   "metadata": {
    "tags": []
   },
   "outputs": [],
   "source": [
    "weather_mar2012[u\"Temp (°C)\"].plot(figsize=(15, 5))"
   ]
  },
  {
   "cell_type": "code",
   "execution_count": null,
   "id": "61efd05c",
   "metadata": {
    "tags": []
   },
   "outputs": [],
   "source": [
    "# weather_mar2012.columns = [\n",
    "#     u'Year', u'Month', u'Day', u'Time', u'Data Quality', u'Temp (C)', \n",
    "#     u'Temp Flag', u'Dew Point Temp (C)', u'Dew Point Temp Flag', \n",
    "#     u'Rel Hum (%)', u'Rel Hum Flag', u'Wind Dir (10s deg)', u'Wind Dir Flag', \n",
    "#     u'Wind Spd (km/h)', u'Wind Spd Flag', u'Visibility (km)', u'Visibility Flag',\n",
    "#     u'Stn Press (kPa)', u'Stn Press Flag', u'Hmdx', u'Hmdx Flag', u'Wind Chill', \n",
    "#     u'Wind Chill Flag', u'Weather']"
   ]
  },
  {
   "cell_type": "code",
   "execution_count": null,
   "id": "687411ba",
   "metadata": {
    "tags": []
   },
   "outputs": [],
   "source": [
    "# weather[u\"Temp (C)\"].plot(figsize=(15, 5))"
   ]
  },
  {
   "cell_type": "markdown",
   "id": "c30da2aa",
   "metadata": {},
   "source": [
    "You'll notice in the summary above that there are a few columns which are are either entirely empty or only have a few values in them. Let's get rid of all of those with dropna.\n",
    "\n",
    "The argument axis=1 to dropna means \"drop columns\", not rows\", and how='any' means \"drop the column if any value is null\".\n",
    "\n",
    "This is much better now -- we only have columns with real data."
   ]
  },
  {
   "cell_type": "code",
   "execution_count": null,
   "id": "ff3db27b",
   "metadata": {
    "tags": []
   },
   "outputs": [],
   "source": [
    "weather_mar2012 = weather_mar2012.dropna(axis=1, how='any')\n",
    "weather_mar2012[:5]"
   ]
  },
  {
   "cell_type": "markdown",
   "id": "24981252",
   "metadata": {},
   "source": [
    "The Year/Month/Day/Time columns are redundant, though, and the Data Quality column doesn't look too useful. Let's get rid of those.\n",
    "\n",
    "The axis=1 argument means \"Drop columns\", like before. The default for operations like dropna and drop is always to operate on rows."
   ]
  },
  {
   "cell_type": "code",
   "execution_count": null,
   "id": "485ddf2a",
   "metadata": {
    "tags": []
   },
   "outputs": [],
   "source": [
    "# weather_mar2012 = weather_mar2012.drop(['Year', 'Month', 'Day', 'Time', 'Data Quality'], axis=1)\n",
    "# weather_mar2012[:5]"
   ]
  },
  {
   "cell_type": "markdown",
   "id": "ceb3d21f",
   "metadata": {},
   "source": [
    "Awesome! We now only have the relevant columns, and it's much more manageable.\n",
    "\n"
   ]
  },
  {
   "cell_type": "markdown",
   "id": "3651b6cd",
   "metadata": {},
   "source": [
    "## Plotting the temperature by hour of day"
   ]
  },
  {
   "cell_type": "markdown",
   "id": "0d943d89",
   "metadata": {},
   "source": [
    "This one's just for fun -- we've already done this before, using groupby and aggregate! We will learn whether or not it gets colder at night. Well, obviously. But let's do it anyway."
   ]
  },
  {
   "cell_type": "code",
   "execution_count": null,
   "id": "c9b59698",
   "metadata": {
    "tags": []
   },
   "outputs": [],
   "source": [
    "temperatures = weather_mar2012[[u'Temp (°C)']].copy()\n",
    "print(temperatures.head)\n",
    "temperatures.loc[:,'Hour'] = weather_mar2012.index.hour\n",
    "temperatures.groupby('Hour').aggregate(np.median).plot()"
   ]
  },
  {
   "cell_type": "markdown",
   "id": "88229a8d",
   "metadata": {},
   "source": [
    "So it looks like the time with the highest median temperature is 2pm. Neat."
   ]
  },
  {
   "cell_type": "markdown",
   "id": "b553755f",
   "metadata": {},
   "source": [
    "## Getting the whole year of data\n"
   ]
  },
  {
   "cell_type": "markdown",
   "id": "bf0d00b5",
   "metadata": {},
   "source": [
    "Okay, so what if we want the data for the whole year? Ideally the API would just let us download that, but I couldn't figure out a way to do that.\n",
    "\n",
    "First, let's put our work from above into a function that gets the weather for a given month.\n",
    "\n",
    "I noticed that there's an irritating bug where when I ask for January, it gives me data for the previous year, so we'll fix that too. [no, really. You can check =)]"
   ]
  },
  {
   "cell_type": "code",
   "execution_count": null,
   "id": "17ba8b1a",
   "metadata": {
    "tags": []
   },
   "outputs": [],
   "source": [
    "def download_weather_month(year=2012, month=1):\n",
    "    url = url_template.format(year=year, month=month)\n",
    "    asset = ds.assets[url]\n",
    "    weather_data = asset.mock\n",
    "    weather_data = weather_data.dropna(axis=1)\n",
    "    return weather_data"
   ]
  },
  {
   "cell_type": "markdown",
   "id": "90f71b09",
   "metadata": {},
   "source": [
    "We can test that this function does the right thing:\n",
    "\n"
   ]
  },
  {
   "cell_type": "code",
   "execution_count": null,
   "id": "cf685bbb",
   "metadata": {
    "tags": []
   },
   "outputs": [],
   "source": [
    "download_weather_month(2012, 1)[:5]"
   ]
  },
  {
   "cell_type": "markdown",
   "id": "12ec9174",
   "metadata": {},
   "source": [
    "Now we can get all the months at once. This will take a little while to run.\n",
    "\n"
   ]
  },
  {
   "cell_type": "code",
   "execution_count": null,
   "id": "344be5f8",
   "metadata": {
    "tags": []
   },
   "outputs": [],
   "source": [
    "data_by_month = [download_weather_month(2012, i) for i in range(1, 13)]"
   ]
  },
  {
   "cell_type": "markdown",
   "id": "7118af1a",
   "metadata": {},
   "source": [
    "Once we have this, it's easy to concatenate all the dataframes together into one big dataframe using pd.concat. And now we have the whole year's data!"
   ]
  },
  {
   "cell_type": "code",
   "execution_count": null,
   "id": "34452e1e",
   "metadata": {
    "tags": []
   },
   "outputs": [],
   "source": [
    "data_by_month[0]"
   ]
  },
  {
   "cell_type": "code",
   "execution_count": null,
   "id": "2ded0bee",
   "metadata": {
    "tags": []
   },
   "outputs": [],
   "source": [
    "weather_2012 = pd.concat(data_by_month)"
   ]
  },
  {
   "cell_type": "code",
   "execution_count": null,
   "id": "c2baf957",
   "metadata": {
    "tags": []
   },
   "outputs": [],
   "source": [
    "weather_2012"
   ]
  },
  {
   "cell_type": "markdown",
   "id": "3ad300a3",
   "metadata": {},
   "source": [
    "## Putting it together"
   ]
  },
  {
   "cell_type": "markdown",
   "id": "bdc4b7c7",
   "metadata": {},
   "source": [
    "Now we want to request the full code execution.\n",
    "\n",
    "Let's put all that together, to prove how easy it is. 6 lines of magical pandas!\n",
    "\n",
    "If you want to play around, try changing sum to max, numpy.median, or any other function you like."
   ]
  },
  {
   "cell_type": "code",
   "execution_count": null,
   "id": "ac206e34",
   "metadata": {
    "tags": []
   },
   "outputs": [],
   "source": [
    "@sy.syft_function(input_policy=sy.ExactMatch(month1df=ds.assets[\"weather1\"], month2df=ds.assets[\"weather2\"]),\n",
    "                  output_policy=sy.SingleExecutionExactOutput())\n",
    "def get_2012_weather(month1df, month2df):\n",
    "    import pandas as pd\n",
    "    month_dfs = [month1df, month2df]\n",
    "    month_dfs = [x.dropna(axis=1) for x in month_dfs]\n",
    "    weather_2012 = pd.concat(month_dfs)\n",
    "    return weather_2012"
   ]
  },
  {
   "cell_type": "markdown",
   "id": "e17c5a93",
   "metadata": {},
   "source": [
    "Create and submit project"
   ]
  },
  {
   "cell_type": "code",
   "execution_count": null,
   "id": "de3974b2-439c-4fba-9ba3-23da8d5a58c3",
   "metadata": {
    "tags": []
   },
   "outputs": [],
   "source": [
    "new_project = sy.Project(\n",
    "    name=\"Pandas Chapter 5\",\n",
    "    description=\"Hi, get all weather data for 2012\",\n",
    "    members=[guest_domain_client],\n",
    ")\n",
    "new_project"
   ]
  },
  {
   "cell_type": "code",
   "execution_count": null,
   "id": "d0fd0e0b-23bd-45df-9f40-626f27fec90c",
   "metadata": {
    "tags": []
   },
   "outputs": [],
   "source": [
    "project = new_project.start()\n",
    "assert isinstance(project, sy.service.project.project.Project)\n",
    "project"
   ]
  },
  {
   "cell_type": "code",
   "execution_count": null,
   "id": "53bd7697-7063-41c4-a378-333b4726bd45",
   "metadata": {
    "tags": []
   },
   "outputs": [],
   "source": [
    "project.create_code_request(get_2012_weather, guest_domain_client)"
   ]
  },
  {
   "cell_type": "code",
   "execution_count": null,
   "id": "a68552da-0a38-4d03-a1a4-3eb7e89682c4",
   "metadata": {
    "tags": []
   },
   "outputs": [],
   "source": [
    "assert len(guest_domain_client.code.get_all())==1"
   ]
  },
  {
   "cell_type": "code",
   "execution_count": null,
   "id": "ba0af93e-746c-438c-a737-5dc2f7469653",
   "metadata": {
    "tags": []
   },
   "outputs": [],
   "source": [
    "assert len(project.events) == 1"
   ]
  },
  {
   "cell_type": "code",
   "execution_count": null,
   "id": "88df609d-d5e8-499f-ad8b-dfedb0aaf4a4",
   "metadata": {
    "tags": []
   },
   "outputs": [],
   "source": [
    "assert isinstance(project.events[0], sy.service.project.project.ProjectRequest)"
   ]
  },
  {
   "cell_type": "markdown",
   "id": "81130867",
   "metadata": {},
   "source": [
    "# Data owner: execute syft function"
   ]
  },
  {
   "cell_type": "code",
   "execution_count": null,
   "id": "16908022",
   "metadata": {
    "tags": []
   },
   "outputs": [],
   "source": [
    "from syft import MessageStatus"
   ]
  },
  {
   "cell_type": "code",
   "execution_count": null,
   "id": "28f77679",
   "metadata": {
    "tags": []
   },
   "outputs": [],
   "source": [
    "root_domain_client = node.login(email=\"info@openmined.org\", password=\"changethis\")"
   ]
  },
  {
   "cell_type": "markdown",
   "id": "5f4bded4",
   "metadata": {},
   "source": [
    "## Get messages"
   ]
  },
  {
   "cell_type": "code",
   "execution_count": null,
   "id": "6ebec184",
   "metadata": {
    "tags": []
   },
   "outputs": [],
   "source": [
    "messages = root_domain_client.api.services.messages.get_all_unread()"
   ]
  },
  {
   "cell_type": "code",
   "execution_count": null,
   "id": "34a83d8f",
   "metadata": {
    "tags": []
   },
   "outputs": [],
   "source": [
    "messages"
   ]
  },
  {
   "cell_type": "code",
   "execution_count": null,
   "id": "f491713c",
   "metadata": {
    "tags": []
   },
   "outputs": [],
   "source": [
    "project_message = [x for x in messages if issubclass(x.linked_obj.object_type, Project)][0]"
   ]
  },
  {
   "cell_type": "code",
   "execution_count": null,
   "id": "e450a3af",
   "metadata": {
    "tags": []
   },
   "outputs": [],
   "source": [
    "request = project_message.link.events[0].request\n",
    "func = request.changes[0].link\n",
    "op = func.output_policy_type"
   ]
  },
  {
   "cell_type": "code",
   "execution_count": null,
   "id": "cd5822af",
   "metadata": {
    "tags": []
   },
   "outputs": [],
   "source": [
    "func"
   ]
  },
  {
   "cell_type": "code",
   "execution_count": null,
   "id": "c173017d",
   "metadata": {
    "tags": []
   },
   "outputs": [],
   "source": [
    "get_col_user_function = func.unsafe_function"
   ]
  },
  {
   "cell_type": "code",
   "execution_count": null,
   "id": "3a708eb0",
   "metadata": {
    "tags": []
   },
   "outputs": [],
   "source": [
    "real_data1, real_data2 = root_domain_client.datasets[-1].assets[\"weather1\"].data, root_domain_client.datasets[-1].assets[\"weather2\"].data"
   ]
  },
  {
   "cell_type": "code",
   "execution_count": null,
   "id": "c55557f8",
   "metadata": {
    "tags": []
   },
   "outputs": [],
   "source": [
    "real_data1"
   ]
  },
  {
   "cell_type": "code",
   "execution_count": null,
   "id": "34fc6c8b",
   "metadata": {
    "tags": []
   },
   "outputs": [],
   "source": [
    "real_result = get_col_user_function(month1df=real_data1, month2df=real_data2)"
   ]
  },
  {
   "cell_type": "code",
   "execution_count": null,
   "id": "d66afdef",
   "metadata": {
    "tags": []
   },
   "outputs": [],
   "source": [
    "len(real_data1) + len(real_data2) == len(real_result)"
   ]
  },
  {
   "cell_type": "code",
   "execution_count": null,
   "id": "60adc73c",
   "metadata": {
    "tags": []
   },
   "outputs": [],
   "source": [
    "result = request.accept_by_depositing_result(real_result)\n",
    "result\n",
    "assert isinstance(result, sy.SyftSuccess)"
   ]
  },
  {
   "cell_type": "markdown",
   "id": "6cb6d0d2",
   "metadata": {},
   "source": [
    "# Data scientist: fetch result"
   ]
  },
  {
   "cell_type": "code",
   "execution_count": null,
   "id": "5f39c3c9",
   "metadata": {
    "tags": []
   },
   "outputs": [],
   "source": [
    "guest_client = guest_domain_client.login(email=\"jane@caltech.edu\", password=\"abc123\")"
   ]
  },
  {
   "cell_type": "code",
   "execution_count": null,
   "id": "d4d913d0",
   "metadata": {
    "tags": []
   },
   "outputs": [],
   "source": [
    "asset1, asset2 = guest_client.datasets[0].assets[\"weather1\"], guest_client.datasets[0].assets[\"weather2\"]"
   ]
  },
  {
   "cell_type": "code",
   "execution_count": null,
   "id": "b302702f",
   "metadata": {
    "tags": []
   },
   "outputs": [],
   "source": [
    "guest_client.code[0].status"
   ]
  },
  {
   "cell_type": "code",
   "execution_count": null,
   "id": "7093dad3",
   "metadata": {
    "tags": []
   },
   "outputs": [],
   "source": [
    "result_ptr = guest_client.code.get_2012_weather(month1df=asset1, month2df=asset2)\n",
    "real_result = result_ptr.get()"
   ]
  },
  {
   "cell_type": "code",
   "execution_count": null,
   "id": "9f28e340",
   "metadata": {
    "tags": []
   },
   "outputs": [],
   "source": [
    "weather_2012 = real_result"
   ]
  },
  {
   "cell_type": "code",
   "execution_count": null,
   "id": "f5dfd113",
   "metadata": {
    "tags": []
   },
   "outputs": [],
   "source": [
    "len(weather_2012)"
   ]
  },
  {
   "cell_type": "markdown",
   "id": "ff724b7c",
   "metadata": {},
   "source": [
    "It's slow and unnecessary to download the data every time, so let's save our dataframe for later use!"
   ]
  },
  {
   "cell_type": "code",
   "execution_count": null,
   "id": "df77a1aa",
   "metadata": {
    "tags": []
   },
   "outputs": [],
   "source": [
    "# TODO do we use this later, if so lets change to import tempdir for windows\n",
    "weather_2012.to_csv('/tmp/weather_2012.csv');"
   ]
  },
  {
   "cell_type": "markdown",
   "id": "888bd97d",
   "metadata": {},
   "source": [
    "And we're done!"
   ]
  },
  {
   "cell_type": "code",
   "execution_count": null,
   "id": "fbba0f05",
   "metadata": {
    "tags": []
   },
   "outputs": [],
   "source": [
    "node.land()"
   ]
  }
 ],
 "metadata": {
  "kernelspec": {
   "display_name": "Python 3 (ipykernel)",
   "language": "python",
   "name": "python3"
  },
  "language_info": {
   "codemirror_mode": {
    "name": "ipython",
    "version": 3
   },
   "file_extension": ".py",
   "mimetype": "text/x-python",
   "name": "python",
   "nbconvert_exporter": "python",
   "pygments_lexer": "ipython3",
   "version": "3.9.16"
  },
  "toc": {
   "base_numbering": 1,
   "nav_menu": {},
   "number_sections": true,
   "sideBar": true,
   "skip_h1_title": false,
   "title_cell": "Table of Contents",
   "title_sidebar": "Contents",
   "toc_cell": false,
   "toc_position": {},
   "toc_section_display": true,
   "toc_window_display": true
  }
 },
 "nbformat": 4,
 "nbformat_minor": 5
}

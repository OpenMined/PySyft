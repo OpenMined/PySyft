{
 "cells": [
  {
   "cell_type": "markdown",
   "id": "faa9b3c9",
   "metadata": {},
   "source": [
    "# Find out on which weekday people bike the most with groupby and aggregate"
   ]
  },
  {
   "cell_type": "code",
   "execution_count": null,
   "id": "66c14a6b",
   "metadata": {
    "tags": []
   },
   "outputs": [],
   "source": [
    "SYFT_VERSION = \">=0.8.1b0,<0.9\"\n",
    "package_string = f'\"syft{SYFT_VERSION}\"'\n",
    "# %pip install {package_string} -f https://whls.blob.core.windows.net/unstable/index.html -q"
   ]
  },
  {
   "cell_type": "code",
   "execution_count": null,
   "id": "74a3a9fb",
   "metadata": {
    "tags": []
   },
   "outputs": [],
   "source": [
    "import syft as sy\n",
    "sy.requires(SYFT_VERSION)"
   ]
  },
  {
   "cell_type": "code",
   "execution_count": null,
   "id": "cbce68c1",
   "metadata": {
    "tags": []
   },
   "outputs": [],
   "source": [
    "node = sy.orchestra.launch(name=\"pandas-test-domain-4\", port=9084, reset=True)"
   ]
  },
  {
   "cell_type": "markdown",
   "id": "a004ecaf",
   "metadata": {},
   "source": [
    "# Data owner: upload data"
   ]
  },
  {
   "cell_type": "code",
   "execution_count": null,
   "id": "3779a9a3",
   "metadata": {
    "tags": []
   },
   "outputs": [],
   "source": [
    "root_domain_client = node.login(email=\"info@openmined.org\", password=\"changethis\")"
   ]
  },
  {
   "cell_type": "markdown",
   "id": "da0cf39a",
   "metadata": {},
   "source": [
    "## Load data"
   ]
  },
  {
   "cell_type": "code",
   "execution_count": null,
   "id": "4a92fb68",
   "metadata": {
    "tags": []
   },
   "outputs": [],
   "source": [
    "import pandas as pd\n",
    "import matplotlib.pyplot as plt\n",
    "from datetime import timedelta\n",
    "from dateutil.parser import parse\n",
    "from pandas._libs.tslibs.timestamps import Timestamp\n",
    "from syft.service.project.project import Project\n",
    "from syft.util.util import autocache, PANDAS_DATA"
   ]
  },
  {
   "cell_type": "code",
   "execution_count": null,
   "id": "01ccd135",
   "metadata": {
    "tags": []
   },
   "outputs": [],
   "source": [
    "df = pd.read_csv(autocache(f\"{PANDAS_DATA}/bikes.csv\"), sep=';', encoding='latin1', parse_dates=['Date'], dayfirst=True, index_col='Date')\n",
    "df[:3]"
   ]
  },
  {
   "cell_type": "markdown",
   "id": "409c477e",
   "metadata": {},
   "source": [
    "## Create mock data"
   ]
  },
  {
   "cell_type": "code",
   "execution_count": null,
   "id": "ff782f96",
   "metadata": {
    "tags": []
   },
   "outputs": [],
   "source": [
    "import numpy as np\n",
    "from random import randint\n",
    "\n",
    "def get_mock_int(i, var=10):\n",
    "    base = 100 + int(np.cos(i/10) * 50)\n",
    "    return randint(max(base-var, 1),max(1, base+var))\n",
    "\n",
    "def get_mock_date(i):\n",
    "    return str(parse('Jun 1 2005').date() + timedelta(days=i))\n",
    "\n",
    "# some randomness\n",
    "r = [(randint(1, 40), randint(1, 40)) for _ in range(7)]\n",
    "\n",
    "def get_mock_row(i):\n",
    "    res = [get_mock_int(i+r[j][0], r[j][1]) for j in range(7)]\n",
    "    # add NaNs in the second and 10th col\n",
    "    res.insert(1, None), res.insert(9, None)\n",
    "    return res\n",
    "    "
   ]
  },
  {
   "cell_type": "code",
   "execution_count": null,
   "id": "3a5a37db",
   "metadata": {
    "tags": []
   },
   "outputs": [],
   "source": [
    "mock = pd.DataFrame(index=[Timestamp(get_mock_date(i)) for i in range(len(df))],\n",
    "                    data=[get_mock_row(i) for i in range(len(df))],\n",
    "                    columns=df.columns)"
   ]
  },
  {
   "cell_type": "markdown",
   "id": "df9d660e",
   "metadata": {},
   "source": [
    "Upload the data"
   ]
  },
  {
   "cell_type": "code",
   "execution_count": null,
   "id": "5d943349",
   "metadata": {
    "tags": []
   },
   "outputs": [],
   "source": [
    "dataset = sy.Dataset(name=\"bikes2\",\n",
    "                     asset_list=[sy.Asset(name=\"bikes\", data=df, mock=mock, mock_is_real=False)])\n",
    "root_domain_client.upload_dataset(dataset)\n"
   ]
  },
  {
   "cell_type": "markdown",
   "id": "2fa251ef",
   "metadata": {},
   "source": [
    "## create Data scientist"
   ]
  },
  {
   "cell_type": "code",
   "execution_count": null,
   "id": "c51ce71e",
   "metadata": {
    "tags": []
   },
   "outputs": [],
   "source": [
    "user = root_domain_client.register(name=\"Jane Doe\", email=\"jane@caltech.edu\",\n",
    "                            password=\"abc123\", institution=\"Caltech\", website=\"https://www.caltech.edu/\")\n",
    "\n",
    "# todo: give user data scientist role\n",
    "\n",
    "guest_domain_client = node.client\n",
    "\n",
    "guest_client = guest_domain_client.login(email=\"jane@caltech.edu\", password=\"abc123\")"
   ]
  },
  {
   "cell_type": "markdown",
   "id": "61a1069e",
   "metadata": {},
   "source": [
    "## Create user account"
   ]
  },
  {
   "cell_type": "markdown",
   "id": "8d405280",
   "metadata": {},
   "source": [
    "# Data Scientist: create syft_function"
   ]
  },
  {
   "cell_type": "markdown",
   "id": "8c9c3595",
   "metadata": {},
   "source": [
    "## Download mock and submit project"
   ]
  },
  {
   "cell_type": "markdown",
   "id": "8c63f823",
   "metadata": {},
   "source": [
    "### Get mock"
   ]
  },
  {
   "cell_type": "code",
   "execution_count": null,
   "id": "81c7f134",
   "metadata": {
    "tags": []
   },
   "outputs": [],
   "source": [
    "ds = guest_domain_client.datasets[0]"
   ]
  },
  {
   "cell_type": "code",
   "execution_count": null,
   "id": "fa97cda8",
   "metadata": {
    "tags": []
   },
   "outputs": [],
   "source": [
    "asset = ds.assets[\"bikes\"]"
   ]
  },
  {
   "cell_type": "code",
   "execution_count": null,
   "id": "01338633",
   "metadata": {
    "tags": []
   },
   "outputs": [],
   "source": [
    "asset"
   ]
  },
  {
   "cell_type": "code",
   "execution_count": null,
   "id": "b93f1fd8",
   "metadata": {
    "tags": []
   },
   "outputs": [],
   "source": [
    "bikes = asset.mock.syft_action_data"
   ]
  },
  {
   "cell_type": "markdown",
   "id": "d4d64865",
   "metadata": {},
   "source": [
    "### Adding a 'weekday' column to our dataframe"
   ]
  },
  {
   "cell_type": "markdown",
   "id": "ba44870a",
   "metadata": {},
   "source": [
    "First, we need to load up the data. We've done this before."
   ]
  },
  {
   "cell_type": "code",
   "execution_count": null,
   "id": "79184e86",
   "metadata": {
    "tags": []
   },
   "outputs": [],
   "source": [
    "bikes['Berri 1'].plot()"
   ]
  },
  {
   "cell_type": "markdown",
   "id": "1ceae1fd",
   "metadata": {},
   "source": [
    "Next up, we're just going to look at the Berri bike path. Berri is a street in Montreal, with a pretty important bike path. I use it mostly on my way to the library now, but I used to take it to work sometimes when I worked in Old Montreal.\n",
    "\n",
    "So we're going to create a dataframe with just the Berri bikepath in it"
   ]
  },
  {
   "cell_type": "code",
   "execution_count": null,
   "id": "36dd344e",
   "metadata": {
    "tags": []
   },
   "outputs": [],
   "source": [
    "berri_bikes = bikes[['Berri 1']].copy()"
   ]
  },
  {
   "cell_type": "code",
   "execution_count": null,
   "id": "c95258aa",
   "metadata": {
    "tags": []
   },
   "outputs": [],
   "source": [
    "berri_bikes[:5]"
   ]
  },
  {
   "cell_type": "markdown",
   "id": "7211e961",
   "metadata": {},
   "source": [
    "Next, we need to add a 'weekday' column. Firstly, we can get the weekday from the index. We haven't talked about indexes yet, but the index is what's on the left on the above dataframe, under 'Date'. It's basically all the days of the year."
   ]
  },
  {
   "cell_type": "code",
   "execution_count": null,
   "id": "6c671d13",
   "metadata": {
    "tags": []
   },
   "outputs": [],
   "source": [
    "berri_bikes.index"
   ]
  },
  {
   "cell_type": "markdown",
   "id": "63930b48",
   "metadata": {},
   "source": [
    "You can see that actually some of the days are missing -- only 310 days of the year are actually there. Who knows why.\n",
    "\n",
    "Pandas has a bunch of really great time series functionality, so if we wanted to get the day of the month for each row, we could do it like this:"
   ]
  },
  {
   "cell_type": "code",
   "execution_count": null,
   "id": "7126fac0",
   "metadata": {
    "tags": []
   },
   "outputs": [],
   "source": [
    "berri_bikes.index.day"
   ]
  },
  {
   "cell_type": "markdown",
   "id": "f9343041",
   "metadata": {},
   "source": [
    "We actually want the weekday, though:"
   ]
  },
  {
   "cell_type": "code",
   "execution_count": null,
   "id": "ad5b4b69",
   "metadata": {
    "tags": []
   },
   "outputs": [],
   "source": [
    "berri_bikes.index.weekday"
   ]
  },
  {
   "cell_type": "markdown",
   "id": "b9c89623",
   "metadata": {},
   "source": [
    "These are the days of the week, where 0 is Monday. I found out that 0 was Monday by checking on a calendar.\n",
    "\n",
    "Now that we know how to get the weekday, we can add it as a column in our dataframe like this:"
   ]
  },
  {
   "cell_type": "code",
   "execution_count": null,
   "id": "71c76eb1",
   "metadata": {
    "tags": []
   },
   "outputs": [],
   "source": [
    "berri_bikes.loc[:,'weekday'] = berri_bikes.index.weekday\n",
    "berri_bikes[:5]"
   ]
  },
  {
   "cell_type": "markdown",
   "id": "96cea4f6",
   "metadata": {},
   "source": [
    "### Adding up the cyclists by weekday"
   ]
  },
  {
   "cell_type": "markdown",
   "id": "c0863c13",
   "metadata": {},
   "source": [
    "This turns out to be really easy!\n",
    "\n",
    "Dataframes have a `.groupby()` method that is similar to SQL groupby, if you're familiar with that. I'm not going to explain more about it right now -- if you want to to know more, the [documentation](https://pandas.pydata.org/pandas-docs/stable/user_guide/groupby.html) is really good.\n",
    "\n",
    "In this case, `berri_bikes.groupby('weekday').aggregate(sum)` means \"Group the rows by weekday and then add up all the values with the same weekday\"."
   ]
  },
  {
   "cell_type": "code",
   "execution_count": null,
   "id": "ec48bb81",
   "metadata": {
    "tags": []
   },
   "outputs": [],
   "source": [
    "weekday_counts = berri_bikes.groupby('weekday').aggregate(sum)\n",
    "weekday_counts"
   ]
  },
  {
   "cell_type": "markdown",
   "id": "ed8218fd",
   "metadata": {},
   "source": [
    "It's hard to remember what 0, 1, 2, 3, 4, 5, 6 mean, so we can fix it up and graph it:"
   ]
  },
  {
   "cell_type": "code",
   "execution_count": null,
   "id": "9a1e5e78",
   "metadata": {
    "tags": []
   },
   "outputs": [],
   "source": [
    "# weekday_counts.index = ['Monday', 'Tuesday', 'Wednesday', 'Thursday', 'Friday', 'Saturday', 'Sunday']\n",
    "# weekday_counts"
   ]
  },
  {
   "cell_type": "code",
   "execution_count": null,
   "id": "3b9b2bdf",
   "metadata": {
    "tags": []
   },
   "outputs": [],
   "source": [
    "weekday_counts.plot(kind='bar')"
   ]
  },
  {
   "cell_type": "markdown",
   "id": "15c4becc",
   "metadata": {},
   "source": [
    "So it looks like Montrealers are commuter cyclists -- they bike much more during the week. Neat!"
   ]
  },
  {
   "cell_type": "markdown",
   "id": "3ad300a3",
   "metadata": {},
   "source": [
    "### Putting it together"
   ]
  },
  {
   "cell_type": "markdown",
   "id": "bdc4b7c7",
   "metadata": {},
   "source": [
    "Now we want to request the full code execution.\n",
    "\n",
    "Let's put all that together, to prove how easy it is. 6 lines of magical pandas!\n",
    "\n",
    "If you want to play around, try changing sum to max, numpy.median, or any other function you like."
   ]
  },
  {
   "cell_type": "code",
   "execution_count": null,
   "id": "6c381caf",
   "metadata": {
    "tags": []
   },
   "outputs": [],
   "source": [
    "# Todo, fix indexes in function"
   ]
  },
  {
   "cell_type": "code",
   "execution_count": null,
   "id": "ac206e34",
   "metadata": {
    "tags": []
   },
   "outputs": [],
   "source": [
    "@sy.syft_function(input_policy=sy.ExactMatch(bikes=asset.mock),\n",
    "                  output_policy=sy.SingleExecutionExactOutput())\n",
    "def get_bike_hist(bikes):\n",
    "    berri_bikes = bikes[['Berri 1']].copy()\n",
    "    berri_bikes.loc[:,'weekday'] = berri_bikes.index.weekday\n",
    "    weekday_counts = berri_bikes.groupby('weekday').aggregate(sum)\n",
    "    return weekday_counts"
   ]
  },
  {
   "cell_type": "markdown",
   "id": "e17c5a93",
   "metadata": {},
   "source": [
    "Create and submit project"
   ]
  },
  {
   "cell_type": "code",
   "execution_count": null,
   "id": "175f956c-66d4-4337-8476-f4bf3a925b84",
   "metadata": {
    "tags": []
   },
   "outputs": [],
   "source": [
    "new_project = sy.Project(\n",
    "    name=\"Pandas Chapter 4\",\n",
    "    description=\"Hi, I would like to plot histogram of bikers per weekday\",\n",
    "    members=[guest_domain_client],\n",
    ")\n",
    "new_project"
   ]
  },
  {
   "cell_type": "code",
   "execution_count": null,
   "id": "e042c932-1f7e-4009-8bd4-f9691b8d4e3c",
   "metadata": {
    "tags": []
   },
   "outputs": [],
   "source": [
    "project = new_project.start()\n",
    "assert isinstance(project, sy.service.project.project.Project)\n",
    "project"
   ]
  },
  {
   "cell_type": "code",
   "execution_count": null,
   "id": "bb916743-3c51-4e40-91e5-9805c63a3fef",
   "metadata": {
    "tags": []
   },
   "outputs": [],
   "source": [
    "project.create_code_request(get_bike_hist, guest_domain_client)"
   ]
  },
  {
   "cell_type": "code",
   "execution_count": null,
   "id": "51e7b96b-d28d-4fd3-8d64-30b2ca713609",
   "metadata": {
    "tags": []
   },
   "outputs": [],
   "source": [
    "assert len(guest_domain_client.code.get_all())==1"
   ]
  },
  {
   "cell_type": "code",
   "execution_count": null,
   "id": "32d7f927-9416-48d4-9716-2f89bb604925",
   "metadata": {
    "tags": []
   },
   "outputs": [],
   "source": [
    "assert len(project.events) == 1"
   ]
  },
  {
   "cell_type": "code",
   "execution_count": null,
   "id": "7c689853-1ded-4060-8749-834e48668c60",
   "metadata": {
    "tags": []
   },
   "outputs": [],
   "source": [
    "assert isinstance(project.events[0], sy.service.project.project.ProjectRequest)"
   ]
  },
  {
   "cell_type": "markdown",
   "id": "fa72779d",
   "metadata": {},
   "source": [
    "# Data owner: execute syft_function"
   ]
  },
  {
   "cell_type": "code",
   "execution_count": null,
   "id": "16908022",
   "metadata": {
    "tags": []
   },
   "outputs": [],
   "source": [
    "from syft import MessageStatus"
   ]
  },
  {
   "cell_type": "code",
   "execution_count": null,
   "id": "d6ace28f",
   "metadata": {
    "tags": []
   },
   "outputs": [],
   "source": [
    "root_domain_client = node.login(email=\"info@openmined.org\", password=\"changethis\")"
   ]
  },
  {
   "cell_type": "markdown",
   "id": "5f4bded4",
   "metadata": {},
   "source": [
    "## Get messages"
   ]
  },
  {
   "cell_type": "code",
   "execution_count": null,
   "id": "6ebec184",
   "metadata": {
    "tags": []
   },
   "outputs": [],
   "source": [
    "messages = root_domain_client.api.services.messages.get_all_unread()"
   ]
  },
  {
   "cell_type": "code",
   "execution_count": null,
   "id": "34a83d8f",
   "metadata": {
    "tags": []
   },
   "outputs": [],
   "source": [
    "messages"
   ]
  },
  {
   "cell_type": "code",
   "execution_count": null,
   "id": "f491713c",
   "metadata": {
    "tags": []
   },
   "outputs": [],
   "source": [
    "project_message = [x for x in messages if issubclass(x.linked_obj.object_type, Project)][0]"
   ]
  },
  {
   "cell_type": "code",
   "execution_count": null,
   "id": "e450a3af",
   "metadata": {
    "tags": []
   },
   "outputs": [],
   "source": [
    "request = project_message.link.events[0].request\n",
    "func = request.changes[0].link\n",
    "op = func.output_policy_type"
   ]
  },
  {
   "cell_type": "code",
   "execution_count": null,
   "id": "cd5822af",
   "metadata": {
    "tags": []
   },
   "outputs": [],
   "source": [
    "func"
   ]
  },
  {
   "cell_type": "code",
   "execution_count": null,
   "id": "c173017d",
   "metadata": {
    "tags": []
   },
   "outputs": [],
   "source": [
    "get_col_user_function = func.unsafe_function"
   ]
  },
  {
   "cell_type": "code",
   "execution_count": null,
   "id": "3a708eb0",
   "metadata": {
    "tags": []
   },
   "outputs": [],
   "source": [
    "real_data = root_domain_client.datasets[0].assets[0].data"
   ]
  },
  {
   "cell_type": "code",
   "execution_count": null,
   "id": "34fc6c8b",
   "metadata": {
    "tags": []
   },
   "outputs": [],
   "source": [
    "real_result = get_col_user_function(bikes=real_data)"
   ]
  },
  {
   "cell_type": "code",
   "execution_count": null,
   "id": "9257487b",
   "metadata": {
    "tags": []
   },
   "outputs": [],
   "source": [
    "bikes=real_data.syft_action_data\n",
    "berri_bikes = bikes[['Berri 1']].copy()\n",
    "berri_bikes.loc[:,'weekday'] = berri_bikes.index.weekday\n",
    "weekday_counts = berri_bikes.groupby('weekday').aggregate(sum)\n",
    "real_result = weekday_counts"
   ]
  },
  {
   "cell_type": "code",
   "execution_count": null,
   "id": "f25c2403",
   "metadata": {
    "tags": []
   },
   "outputs": [],
   "source": [
    "real_result[:3]"
   ]
  },
  {
   "cell_type": "code",
   "execution_count": null,
   "id": "60adc73c",
   "metadata": {
    "tags": []
   },
   "outputs": [],
   "source": [
    "result = request.accept_by_depositing_result(real_result)\n",
    "result\n",
    "assert isinstance(result, sy.SyftSuccess)"
   ]
  },
  {
   "cell_type": "markdown",
   "id": "33153a46",
   "metadata": {},
   "source": [
    "# Data scientist: fetch result"
   ]
  },
  {
   "cell_type": "code",
   "execution_count": null,
   "id": "d4d913d0",
   "metadata": {
    "tags": []
   },
   "outputs": [],
   "source": [
    "asset = guest_client.datasets[0].assets[0]"
   ]
  },
  {
   "cell_type": "code",
   "execution_count": null,
   "id": "b302702f",
   "metadata": {
    "tags": []
   },
   "outputs": [],
   "source": [
    "guest_client.code[0].status"
   ]
  },
  {
   "cell_type": "code",
   "execution_count": null,
   "id": "7093dad3",
   "metadata": {
    "tags": []
   },
   "outputs": [],
   "source": [
    "result_ptr = guest_client.code.get_bike_hist(bikes=asset)\n",
    "real_result = result_ptr.get_from(guest_client)\n",
    "real_result.plot(kind=\"bar\")"
   ]
  },
  {
   "cell_type": "code",
   "execution_count": null,
   "id": "178f9ca1",
   "metadata": {
    "tags": []
   },
   "outputs": [],
   "source": [
    "node.land()"
   ]
  }
 ],
 "metadata": {
  "kernelspec": {
   "display_name": "Python 3 (ipykernel)",
   "language": "python",
   "name": "python3"
  },
  "language_info": {
   "codemirror_mode": {
    "name": "ipython",
    "version": 3
   },
   "file_extension": ".py",
   "mimetype": "text/x-python",
   "name": "python",
   "nbconvert_exporter": "python",
   "pygments_lexer": "ipython3",
   "version": "3.11.2"
  },
  "toc": {
   "base_numbering": 1,
   "nav_menu": {},
   "number_sections": true,
   "sideBar": true,
   "skip_h1_title": false,
   "title_cell": "Table of Contents",
   "title_sidebar": "Contents",
   "toc_cell": false,
   "toc_position": {
    "height": "calc(100% - 180px)",
    "left": "10px",
    "top": "150px",
    "width": "358.398px"
   },
   "toc_section_display": true,
   "toc_window_display": true
  }
 },
 "nbformat": 4,
 "nbformat_minor": 5
}

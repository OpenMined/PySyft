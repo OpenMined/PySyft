{
 "cells": [
  {
   "cell_type": "markdown",
   "id": "10a3dbb5",
   "metadata": {},
   "source": [
    "# String Operations- Which month was the snowiest"
   ]
  },
  {
   "cell_type": "markdown",
   "id": "1109216b",
   "metadata": {},
   "source": [
    "## Install"
   ]
  },
  {
   "cell_type": "code",
   "execution_count": null,
   "id": "66c14a6b",
   "metadata": {
    "tags": []
   },
   "outputs": [],
   "source": [
    "SYFT_VERSION = \">=0.8.1b0,<0.9\"\n",
    "package_string = f'\"syft{SYFT_VERSION}\"'\n",
    "# %pip install {package_string} -f https://whls.blob.core.windows.net/unstable/index.html -q"
   ]
  },
  {
   "cell_type": "code",
   "execution_count": null,
   "id": "74a3a9fb",
   "metadata": {
    "tags": []
   },
   "outputs": [],
   "source": [
    "import syft as sy\n",
    "sy.requires(SYFT_VERSION)"
   ]
  },
  {
   "cell_type": "code",
   "execution_count": null,
   "id": "cbce68c1",
   "metadata": {
    "tags": []
   },
   "outputs": [],
   "source": [
    "node = sy.orchestra.launch(name=\"pandas-test-domain-6\", port=9086, reset=True)"
   ]
  },
  {
   "cell_type": "markdown",
   "id": "4939b6a2",
   "metadata": {},
   "source": [
    "# Data owner: upload dataset"
   ]
  },
  {
   "cell_type": "code",
   "execution_count": null,
   "id": "f6e430c8",
   "metadata": {
    "tags": []
   },
   "outputs": [],
   "source": [
    "root_domain_client = node.login(email=\"info@openmined.org\", password=\"changethis\")"
   ]
  },
  {
   "cell_type": "markdown",
   "id": "da0cf39a",
   "metadata": {},
   "source": [
    "## Load data"
   ]
  },
  {
   "cell_type": "markdown",
   "id": "ddb684cf",
   "metadata": {},
   "source": [
    "By the end of this chapter, we're going to have downloaded all of Canada's weather data for 2012, and saved it to a CSV.\n",
    "\n",
    "We'll do this by downloading it one month at a time, and then combining all the months together.\n",
    "\n",
    "Here's the temperature every hour for 2012!"
   ]
  },
  {
   "cell_type": "code",
   "execution_count": null,
   "id": "29334026",
   "metadata": {
    "tags": []
   },
   "outputs": [],
   "source": [
    "%matplotlib inline\n",
    "import pandas as pd\n",
    "import matplotlib.pyplot as plt\n",
    "import numpy as np\n",
    "\n",
    "plt.style.use('ggplot')\n",
    "plt.rcParams['figure.figsize'] = (15, 3)\n",
    "plt.rcParams['font.family'] = 'sans-serif'"
   ]
  },
  {
   "cell_type": "code",
   "execution_count": null,
   "id": "d5f7644a",
   "metadata": {
    "tags": []
   },
   "outputs": [],
   "source": [
    "from datetime import timedelta\n",
    "import random\n",
    "from dateutil.parser import parse\n",
    "from pandas._libs.tslibs.timestamps import Timestamp\n",
    "from syft.service.project.project import Project\n",
    "from syft.util.util import autocache, PANDAS_DATA"
   ]
  },
  {
   "cell_type": "code",
   "execution_count": null,
   "id": "01ccd135",
   "metadata": {
    "tags": []
   },
   "outputs": [],
   "source": [
    "weather_2012_final = pd.read_csv(autocache(f\"{PANDAS_DATA}/weather_2012.csv\"), index_col='Date/Time', parse_dates=True)\n",
    "weather_2012_final['Temp (C)'].plot(figsize=(15, 6))"
   ]
  },
  {
   "cell_type": "markdown",
   "id": "409c477e",
   "metadata": {},
   "source": [
    "## Create mock data"
   ]
  },
  {
   "cell_type": "markdown",
   "id": "2c4999d5",
   "metadata": {},
   "source": [
    "Instead, we upload our dataset per month as a starting point"
   ]
  },
  {
   "cell_type": "code",
   "execution_count": null,
   "id": "4a0fe359",
   "metadata": {
    "tags": []
   },
   "outputs": [],
   "source": [
    "weather_types = set(weather_2012_final.Weather.to_list())"
   ]
  },
  {
   "cell_type": "code",
   "execution_count": null,
   "id": "7db7b9af",
   "metadata": {
    "tags": []
   },
   "outputs": [],
   "source": [
    "def get_mock_date(i):\n",
    "    return str(parse('Jun 1 2010') + timedelta(days=i))\n",
    "\n",
    "def get_mock_row(i):\n",
    "    res = dict()\n",
    "    for k, function in mock_functions.items():\n",
    "        res[k] = function()\n",
    "    return res\n",
    "    "
   ]
  },
  {
   "cell_type": "code",
   "execution_count": null,
   "id": "090f5a59",
   "metadata": {
    "tags": []
   },
   "outputs": [],
   "source": [
    "mock_functions = {\n",
    "    \"Temp (C)\": lambda: random.uniform(-10, 40),\n",
    "    \"Dew Point Temp (C)\": lambda: random.uniform(-10, 10),\n",
    "    \"Rel Hum (%)\": lambda: random.randint(50, 100),\n",
    "    \"Wind Spd (km/h)\": lambda: random.randint(1, 30),\n",
    "    'Visibility (km)': lambda: random.uniform(0.5, 40),\n",
    "    'Stn Press (kPa)': lambda: random.uniform(50, 100),\n",
    "    'Weather': lambda: random.choice(list(weather_types))\n",
    "}"
   ]
  },
  {
   "cell_type": "code",
   "execution_count": null,
   "id": "7a7e70a6",
   "metadata": {
    "tags": []
   },
   "outputs": [],
   "source": [
    "mock = pd.DataFrame(index=[Timestamp(get_mock_date(i)) for i in range(len(weather_2012_final))],\n",
    "                    data=[get_mock_row(i) for i in range(len(weather_2012_final))],\n",
    "                    columns=weather_2012_final.columns)\n",
    "    \n"
   ]
  },
  {
   "cell_type": "markdown",
   "id": "d11fc4b8",
   "metadata": {},
   "source": [
    "Upload the data"
   ]
  },
  {
   "cell_type": "code",
   "execution_count": null,
   "id": "e370b8b3",
   "metadata": {
    "tags": []
   },
   "outputs": [],
   "source": [
    "dataset = sy.Dataset(name=\"test\", asset_list=[sy.Asset(name=f\"weather\", data=weather_2012_final,\n",
    "                                                       mock=mock, mock_is_real=False)])\n",
    "root_domain_client.upload_dataset(dataset)\n"
   ]
  },
  {
   "cell_type": "code",
   "execution_count": null,
   "id": "3eb6aef9",
   "metadata": {
    "tags": []
   },
   "outputs": [],
   "source": [
    "weather_2012_final.head()"
   ]
  },
  {
   "cell_type": "markdown",
   "id": "61a1069e",
   "metadata": {},
   "source": [
    "## Create user account"
   ]
  },
  {
   "cell_type": "code",
   "execution_count": null,
   "id": "2c4b055a",
   "metadata": {
    "tags": []
   },
   "outputs": [],
   "source": [
    "user = root_domain_client.register(name=\"Jane Doe\", email=\"jane@caltech.edu\",\n",
    "                            password=\"abc123\", institution=\"Caltech\", website=\"https://www.caltech.edu/\")\n",
    "# todo: give user data scientist role\n",
    "guest_domain_client = node.client\n",
    "guest_client = guest_domain_client.login(email=\"jane@caltech.edu\", password=\"abc123\")"
   ]
  },
  {
   "cell_type": "markdown",
   "id": "bb8c4ab2",
   "metadata": {},
   "source": [
    "# Data scientist: create syft function"
   ]
  },
  {
   "cell_type": "code",
   "execution_count": null,
   "id": "e0f665a0",
   "metadata": {
    "tags": []
   },
   "outputs": [],
   "source": [
    "import numpy as np\n",
    "import pandas as pd"
   ]
  },
  {
   "cell_type": "markdown",
   "id": "c52d6d1c",
   "metadata": {},
   "source": [
    "## Summary\n",
    "By the end of this chapter, we're going to have downloaded all of Canada's weather data for 2012, and saved it to a CSV.\n",
    "\n",
    "We'll do this by downloading it one month at a time, and then combining all the months together."
   ]
  },
  {
   "cell_type": "markdown",
   "id": "8c63f823",
   "metadata": {},
   "source": [
    "## Get mocks"
   ]
  },
  {
   "cell_type": "code",
   "execution_count": null,
   "id": "81c7f134",
   "metadata": {
    "tags": []
   },
   "outputs": [],
   "source": [
    "ds = guest_domain_client.datasets[0]"
   ]
  },
  {
   "cell_type": "code",
   "execution_count": null,
   "id": "24cac2dc",
   "metadata": {
    "tags": []
   },
   "outputs": [],
   "source": [
    "asset = ds.assets[0]"
   ]
  },
  {
   "cell_type": "code",
   "execution_count": null,
   "id": "82f805be",
   "metadata": {
    "tags": []
   },
   "outputs": [],
   "source": [
    "weather_2012 = asset.mock.syft_action_data"
   ]
  },
  {
   "cell_type": "markdown",
   "id": "d9ed60db",
   "metadata": {},
   "source": [
    "## String Operations"
   ]
  },
  {
   "cell_type": "markdown",
   "id": "d6440d74",
   "metadata": {},
   "source": [
    "You'll see that the 'Weather' column has a text description of the weather that was going on each hour. We'll assume it's snowing if the text description contains \"Snow\".\n",
    "\n",
    "pandas provides vectorized string functions, to make it easy to operate on columns containing text. There are some great examples in the documentation."
   ]
  },
  {
   "cell_type": "code",
   "execution_count": null,
   "id": "41be579d",
   "metadata": {
    "tags": []
   },
   "outputs": [],
   "source": [
    "weather_description = weather_2012['Weather']\n",
    "is_snowing = weather_description.str.contains('Snow')"
   ]
  },
  {
   "cell_type": "markdown",
   "id": "1313412c",
   "metadata": {},
   "source": [
    "This gives us a binary vector, which is a bit hard to look at, so we'll plot it.\n",
    "\n"
   ]
  },
  {
   "cell_type": "code",
   "execution_count": null,
   "id": "5a27862f",
   "metadata": {
    "tags": []
   },
   "outputs": [],
   "source": [
    "# Not super useful\n",
    "is_snowing[:5]"
   ]
  },
  {
   "cell_type": "code",
   "execution_count": null,
   "id": "6f690e81",
   "metadata": {
    "tags": []
   },
   "outputs": [],
   "source": [
    "# More useful!\n",
    "is_snowing=is_snowing.astype(float)\n",
    "is_snowing.plot()"
   ]
  },
  {
   "cell_type": "markdown",
   "id": "2d0e179c",
   "metadata": {},
   "source": [
    "## Use resampling to find the snowiest month"
   ]
  },
  {
   "cell_type": "markdown",
   "id": "0197aff2",
   "metadata": {},
   "source": [
    "If we wanted the median temperature each month, we could use the resample() method like this:"
   ]
  },
  {
   "cell_type": "code",
   "execution_count": null,
   "id": "affc19ff",
   "metadata": {
    "tags": []
   },
   "outputs": [],
   "source": [
    "weather_2012"
   ]
  },
  {
   "cell_type": "code",
   "execution_count": null,
   "id": "ee8c81b0",
   "metadata": {
    "tags": []
   },
   "outputs": [],
   "source": [
    "weather_2012['Temp (C)'].resample('M').apply(np.median).plot(kind='bar')"
   ]
  },
  {
   "cell_type": "markdown",
   "id": "d06d0a85",
   "metadata": {},
   "source": [
    "Unsurprisingly, July and August are the warmest.\n",
    "\n",
    "So we can think of snowiness as being a bunch of 1s and 0s instead of Trues and Falses:"
   ]
  },
  {
   "cell_type": "code",
   "execution_count": null,
   "id": "6e218b44",
   "metadata": {
    "tags": []
   },
   "outputs": [],
   "source": [
    "is_snowing.astype(float)[:10]"
   ]
  },
  {
   "cell_type": "markdown",
   "id": "d9622f05",
   "metadata": {},
   "source": [
    "and then use resample to find the percentage of time it was snowing each month"
   ]
  },
  {
   "cell_type": "code",
   "execution_count": null,
   "id": "cdf04a2c",
   "metadata": {
    "tags": []
   },
   "outputs": [],
   "source": [
    "is_snowing.astype(float).resample('M').apply(np.mean)"
   ]
  },
  {
   "cell_type": "code",
   "execution_count": null,
   "id": "6cea5641",
   "metadata": {
    "tags": []
   },
   "outputs": [],
   "source": [
    "is_snowing.astype(float).resample('M').apply(np.mean).plot(kind='bar')"
   ]
  },
  {
   "cell_type": "markdown",
   "id": "5c3cab97",
   "metadata": {},
   "source": [
    "So now we know! In 2012, December was the snowiest month. Also, this graph suggests something that I feel -- it starts snowing pretty abruptly in November, and then tapers off slowly and takes a long time to stop, with the last snow usually being in April or May.\n"
   ]
  },
  {
   "cell_type": "markdown",
   "id": "186735a4",
   "metadata": {},
   "source": [
    "## Plotting temperature and snowiness stats together"
   ]
  },
  {
   "cell_type": "markdown",
   "id": "5d00696d",
   "metadata": {},
   "source": [
    "We can also combine these two statistics (temperature, and snowiness) into one dataframe and plot them together:\n",
    "\n"
   ]
  },
  {
   "cell_type": "code",
   "execution_count": null,
   "id": "e122cc2a",
   "metadata": {
    "tags": []
   },
   "outputs": [],
   "source": [
    "temperature = weather_2012['Temp (C)'].resample('M').apply(np.median)\n",
    "is_snowing = weather_2012['Weather'].str.contains('Snow')\n",
    "snowiness = is_snowing.astype(float).resample('M').apply(np.mean)\n",
    "\n",
    "# Name the columns\n",
    "temperature.name = \"Temperature\"\n",
    "snowiness.name = \"Snowiness\""
   ]
  },
  {
   "cell_type": "markdown",
   "id": "37c17710",
   "metadata": {},
   "source": [
    "We'll use `concat` again to combine the two statistics into a single dataframe."
   ]
  },
  {
   "cell_type": "code",
   "execution_count": null,
   "id": "31934d88",
   "metadata": {
    "tags": []
   },
   "outputs": [],
   "source": [
    "stats = pd.concat([temperature, snowiness], axis=1)"
   ]
  },
  {
   "cell_type": "code",
   "execution_count": null,
   "id": "d768a3e7",
   "metadata": {
    "tags": []
   },
   "outputs": [],
   "source": [
    "stats.columns = [\"temperature\", \"snowiness\"]"
   ]
  },
  {
   "cell_type": "markdown",
   "id": "3ad300a3",
   "metadata": {},
   "source": [
    "## Putting it together"
   ]
  },
  {
   "cell_type": "markdown",
   "id": "bdc4b7c7",
   "metadata": {},
   "source": [
    "Now we want to request the full code execution.\n",
    "\n",
    "Let's put all that together, to prove how easy it is. 6 lines of magical pandas!\n",
    "\n",
    "If you want to play around, try changing sum to max, numpy.median, or any other function you like."
   ]
  },
  {
   "cell_type": "code",
   "execution_count": null,
   "id": "ac206e34",
   "metadata": {
    "tags": []
   },
   "outputs": [],
   "source": [
    "@sy.syft_function(input_policy=sy.ExactMatch(df=ds.assets[0]),\n",
    "                  output_policy=sy.SingleExecutionExactOutput())\n",
    "def snow_and_temperature(df):\n",
    "    import pandas as pd\n",
    "    import numpy as np\n",
    "    weather_2012 = df\n",
    "    weather_description = weather_2012['Weather']\n",
    "    is_snowing = weather_description.str.contains('Snow')\n",
    "    \n",
    "    median_temperature = weather_2012['Temp (C)'].resample('M').apply(np.median)\n",
    "    snow_frequency = is_snowing.astype(float).resample('M').apply(np.mean)\n",
    "    \n",
    "    temperature = weather_2012['Temp (C)'].resample('M').apply(np.median)\n",
    "    is_snowing = weather_2012['Weather'].str.contains('Snow')\n",
    "    snowiness = is_snowing.astype(float).resample('M').apply(np.mean)\n",
    "\n",
    "    # Name the columns\n",
    "    temperature.name = \"Temperature\"\n",
    "    snowiness.name = \"Snowiness\"\n",
    "    stats = pd.concat([temperature, snowiness], axis=1)\n",
    "    stats.columns = [\"temperature\", \"snowiness\"]\n",
    "    \n",
    "    return is_snowing.astype(float), median_temperature, snow_frequency, stats"
   ]
  },
  {
   "cell_type": "markdown",
   "id": "f460d969",
   "metadata": {},
   "source": [
    "Request code execution"
   ]
  },
  {
   "cell_type": "code",
   "execution_count": null,
   "id": "df474774",
   "metadata": {
    "tags": []
   },
   "outputs": [],
   "source": [
    "req = guest_domain_client.code.request_code_execution(snow_and_temperature)"
   ]
  },
  {
   "cell_type": "code",
   "execution_count": null,
   "id": "300d599f",
   "metadata": {
    "tags": []
   },
   "outputs": [],
   "source": [
    "submitted_code = guest_domain_client.code[0]"
   ]
  },
  {
   "cell_type": "code",
   "execution_count": null,
   "id": "d99d0119",
   "metadata": {
    "tags": []
   },
   "outputs": [],
   "source": [
    "assert guest_domain_client.code.get_all()"
   ]
  },
  {
   "cell_type": "markdown",
   "id": "e17c5a93",
   "metadata": {},
   "source": [
    "Create and submit project"
   ]
  },
  {
   "cell_type": "code",
   "execution_count": null,
   "id": "d465752c-26e4-466d-b976-4e7312dabbaa",
   "metadata": {
    "tags": []
   },
   "outputs": [],
   "source": [
    "project_create = sy.Project(\n",
    "    name=\"Pandas Chapter 5\",\n",
    "    description=\"Hi, I would like to get some insights about snow and temperature for 2012\",\n",
    "    shareholders=[guest_domain_client],\n",
    "    user_email_address = \"jane@caltech.edu\",\n",
    "    users = [guest_domain_client]\n",
    ")\n",
    "project_create"
   ]
  },
  {
   "cell_type": "code",
   "execution_count": null,
   "id": "e5e75d79-fb22-4b32-9941-57986e1eee74",
   "metadata": {
    "tags": []
   },
   "outputs": [],
   "source": [
    "projects = project_create.start()\n",
    "assert len(projects) == 1\n",
    "project = projects[0]"
   ]
  },
  {
   "cell_type": "code",
   "execution_count": null,
   "id": "116b42d6-4bc4-46f5-944a-e6d68cb4cf4e",
   "metadata": {
    "tags": []
   },
   "outputs": [],
   "source": [
    "project.add_request(request=req)"
   ]
  },
  {
   "cell_type": "code",
   "execution_count": null,
   "id": "6e984a39-6021-4489-a0fb-5b97934bf96b",
   "metadata": {
    "tags": []
   },
   "outputs": [],
   "source": [
    "assert len(project.events) == 1"
   ]
  },
  {
   "cell_type": "code",
   "execution_count": null,
   "id": "5e5fae20-a6ab-4882-9311-78ed59d8475b",
   "metadata": {
    "tags": []
   },
   "outputs": [],
   "source": [
    "assert isinstance(project.events[0], sy.service.project.project.ProjectRequest)"
   ]
  },
  {
   "cell_type": "markdown",
   "id": "e326cffc",
   "metadata": {},
   "source": [
    "# Data owner: execute syft_function"
   ]
  },
  {
   "cell_type": "code",
   "execution_count": null,
   "id": "16908022",
   "metadata": {
    "tags": []
   },
   "outputs": [],
   "source": [
    "from syft import MessageStatus"
   ]
  },
  {
   "cell_type": "code",
   "execution_count": null,
   "id": "28f77679",
   "metadata": {
    "tags": []
   },
   "outputs": [],
   "source": [
    "domain_client = node.login(email=\"info@openmined.org\", password=\"changethis\")"
   ]
  },
  {
   "cell_type": "markdown",
   "id": "5f4bded4",
   "metadata": {},
   "source": [
    "# Get messages"
   ]
  },
  {
   "cell_type": "code",
   "execution_count": null,
   "id": "6ebec184",
   "metadata": {
    "tags": []
   },
   "outputs": [],
   "source": [
    "messages = domain_client.api.services.messages.get_all_unread()"
   ]
  },
  {
   "cell_type": "code",
   "execution_count": null,
   "id": "34a83d8f",
   "metadata": {
    "tags": []
   },
   "outputs": [],
   "source": [
    "messages"
   ]
  },
  {
   "cell_type": "code",
   "execution_count": null,
   "id": "f491713c",
   "metadata": {
    "tags": []
   },
   "outputs": [],
   "source": [
    "project_message = [x for x in messages if issubclass(x.linked_obj.object_type, Project)][0]"
   ]
  },
  {
   "cell_type": "code",
   "execution_count": null,
   "id": "e450a3af",
   "metadata": {
    "tags": []
   },
   "outputs": [],
   "source": [
    "request = project_message.link.events[0].request\n",
    "func = request.changes[0].link\n",
    "op = func.output_policy_type"
   ]
  },
  {
   "cell_type": "code",
   "execution_count": null,
   "id": "cd5822af",
   "metadata": {
    "tags": []
   },
   "outputs": [],
   "source": [
    "func"
   ]
  },
  {
   "cell_type": "code",
   "execution_count": null,
   "id": "c173017d",
   "metadata": {
    "tags": []
   },
   "outputs": [],
   "source": [
    "get_col_user_function = func.unsafe_function"
   ]
  },
  {
   "cell_type": "code",
   "execution_count": null,
   "id": "3a708eb0",
   "metadata": {
    "tags": []
   },
   "outputs": [],
   "source": [
    "real_data = domain_client.datasets[0].assets[0].data"
   ]
  },
  {
   "cell_type": "code",
   "execution_count": null,
   "id": "c55557f8",
   "metadata": {
    "tags": []
   },
   "outputs": [],
   "source": [
    "real_data"
   ]
  },
  {
   "cell_type": "code",
   "execution_count": null,
   "id": "34fc6c8b",
   "metadata": {
    "tags": []
   },
   "outputs": [],
   "source": [
    "real_result = get_col_user_function(df=real_data)"
   ]
  },
  {
   "cell_type": "code",
   "execution_count": null,
   "id": "60adc73c",
   "metadata": {
    "tags": []
   },
   "outputs": [],
   "source": [
    "result = request.accept_by_depositing_result(real_result)\n",
    "result\n",
    "assert isinstance(result, sy.SyftSuccess)"
   ]
  },
  {
   "cell_type": "markdown",
   "id": "559d2b41",
   "metadata": {},
   "source": [
    "# Data scientist: fetch result"
   ]
  },
  {
   "cell_type": "code",
   "execution_count": null,
   "id": "5f39c3c9",
   "metadata": {
    "tags": []
   },
   "outputs": [],
   "source": [
    "guest_client = node.login(email=\"jane@caltech.edu\", password=\"abc123\")"
   ]
  },
  {
   "cell_type": "code",
   "execution_count": null,
   "id": "d4d913d0",
   "metadata": {
    "tags": []
   },
   "outputs": [],
   "source": [
    "asset = guest_client.datasets[0].assets[0]"
   ]
  },
  {
   "cell_type": "code",
   "execution_count": null,
   "id": "b302702f",
   "metadata": {
    "tags": []
   },
   "outputs": [],
   "source": [
    "guest_client.code[0].status"
   ]
  },
  {
   "cell_type": "code",
   "execution_count": null,
   "id": "7093dad3",
   "metadata": {
    "tags": []
   },
   "outputs": [],
   "source": [
    "result_ptr = guest_client.code.snow_and_temperature(df=asset)\n",
    "real_result = result_ptr.get_from(guest_client)"
   ]
  },
  {
   "cell_type": "code",
   "execution_count": null,
   "id": "bf0a05be",
   "metadata": {
    "tags": []
   },
   "outputs": [],
   "source": [
    "is_snowing, median_temperature, snow_frequency, snow_and_temperature  = real_result[0], real_result[1], real_result[2], real_result[3]"
   ]
  },
  {
   "cell_type": "code",
   "execution_count": null,
   "id": "1b03f797",
   "metadata": {
    "tags": []
   },
   "outputs": [],
   "source": [
    "is_snowing.plot()"
   ]
  },
  {
   "cell_type": "code",
   "execution_count": null,
   "id": "6c59d4a8",
   "metadata": {
    "tags": []
   },
   "outputs": [],
   "source": [
    "median_temperature.plot(kind=\"bar\")"
   ]
  },
  {
   "cell_type": "code",
   "execution_count": null,
   "id": "85439878",
   "metadata": {
    "tags": []
   },
   "outputs": [],
   "source": [
    "snow_frequency.plot(kind=\"bar\")"
   ]
  },
  {
   "cell_type": "code",
   "execution_count": null,
   "id": "0780dcb3",
   "metadata": {
    "tags": []
   },
   "outputs": [],
   "source": [
    "snow_and_temperature.plot(kind='bar', subplots=True, figsize=(15, 10))"
   ]
  },
  {
   "cell_type": "code",
   "execution_count": null,
   "id": "38c23358",
   "metadata": {
    "tags": []
   },
   "outputs": [],
   "source": [
    "node.land()"
   ]
  },
  {
   "cell_type": "code",
   "execution_count": null,
   "id": "5b456910-aef2-494f-b4cf-d4da2ee17f89",
   "metadata": {},
   "outputs": [],
   "source": []
  }
 ],
 "metadata": {
  "kernelspec": {
   "display_name": "Python 3 (ipykernel)",
   "language": "python",
   "name": "python3"
  },
  "language_info": {
   "codemirror_mode": {
    "name": "ipython",
    "version": 3
   },
   "file_extension": ".py",
   "mimetype": "text/x-python",
   "name": "python",
   "nbconvert_exporter": "python",
   "pygments_lexer": "ipython3",
   "version": "3.11.2"
  },
  "toc": {
   "base_numbering": 1,
   "nav_menu": {},
   "number_sections": true,
   "sideBar": true,
   "skip_h1_title": false,
   "title_cell": "Table of Contents",
   "title_sidebar": "Contents",
   "toc_cell": false,
   "toc_position": {},
   "toc_section_display": true,
   "toc_window_display": true
  }
 },
 "nbformat": 4,
 "nbformat_minor": 5
}

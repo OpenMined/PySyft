{
 "cells": [
  {
   "cell_type": "markdown",
   "id": "40ed006e",
   "metadata": {},
   "source": [
    "# Selecting data & finding the most common complaint type"
   ]
  },
  {
   "cell_type": "markdown",
   "id": "10b3e3b0",
   "metadata": {},
   "source": [
    "## Install"
   ]
  },
  {
   "cell_type": "code",
   "execution_count": 1,
   "id": "66c14a6b",
   "metadata": {
    "tags": []
   },
   "outputs": [],
   "source": [
    "SYFT_VERSION = \">=0.8.1b0,<0.9\"\n",
    "package_string = f'\"syft{SYFT_VERSION}\"'\n",
    "# !pip install {package_string} -f https://whls.blob.core.windows.net/unstable/index.html -q"
   ]
  },
  {
   "cell_type": "code",
   "execution_count": 2,
   "id": "de8e6501-b6dd-41fc-aaad-6001efab7127",
   "metadata": {
    "tags": []
   },
   "outputs": [
    {
     "name": "stderr",
     "output_type": "stream",
     "text": [
      "kj/filesystem-disk-unix.c++:1703: warning: PWD environment variable doesn't match current directory; pwd = /\n"
     ]
    },
    {
     "name": "stdout",
     "output_type": "stream",
     "text": [
      "Failed to find type for key: value in <enum '_NoDefault'>\n",
      "Failed to find type for key: _name in <class 'typing._UnionGenericAlias'>\n",
      "Failed to find type for key: _value in <class 'result.result.Err'>\n",
      "Failed to find type for key: _name in <class 'typing._UnionGenericAlias'>\n",
      "Failed to find type for key: _type_name in <class 'zmq.green.core._Socket'>\n",
      "Failed to find type for key: value in <enum 'NodeType'>\n",
      "Failed to find type for key: value in <enum 'ServiceRole'>\n",
      "Failed to find type for key: value in <enum 'ActionPermission'>\n",
      "Failed to find type for key: searchable_cks in <class 'syft.store.document_store.StorePartition'>\n",
      "Failed to find type for key: query in <class 'syft.types.grid_url.GridURL'>\n",
      "Failed to find type for key: value in <enum 'CMPCRUDPermission'>\n",
      "Failed to find type for key: value in <enum '_ParameterKind'>\n",
      "Failed to find type for key: value in <enum 'VPNRoutes'>\n",
      "Failed to find type for key: value in <enum 'CommandStatus'>\n",
      "Failed to find type for key: value in <enum 'TailscaleRoutes'>\n",
      "Failed to find type for key: value in <enum 'ConnectionType'>\n",
      "Failed to find type for key: value in <enum 'ConnectionStatus'>\n",
      "Failed to find type for key: value in <enum 'TailscaleState'>\n",
      "Failed to find type for key: value in <enum 'TwinMode'>\n",
      "Failed to find type for key: value in <enum 'ActionType'>\n",
      "Failed to find type for key: syft_passthrough_attrs in <class 'syft.service.action.action_object.AnyActionObject'>\n",
      "Failed to find type for key: value in <enum 'UserPolicyStatus'>\n",
      "Failed to find type for key: value in <enum 'UserCodeStatus'>\n",
      "Failed to find type for key: value in <enum 'UniqueKeyCheck'>\n",
      "Failed to find type for key: searchable_cks in <class 'syft.store.dict_document_store.DictStorePartition'>\n",
      "Failed to find type for key: syft_dont_wrap_attrs in <class 'syft.service.action.numpy.NumpyArrayObject'>\n",
      "Failed to find type for key: syft_dont_wrap_attrs in <class 'syft.service.action.numpy.NumpyScalarObject'>\n",
      "Failed to find type for key: syft_dont_wrap_attrs in <class 'syft.service.action.numpy.NumpyBoolObject'>\n",
      "Failed to find type for key: syft_dont_wrap_attrs in <class 'syft.service.action.pandas.PandasDataFrameObject'>\n",
      "Failed to find type for key: syft_dont_wrap_attrs in <class 'syft.service.action.pandas.PandasSeriesObject'>\n",
      "Failed to find type for key: value in <enum 'RequestStatus'>\n",
      "Failed to find type for key: value in <enum 'MessageStatus'>\n",
      "Failed to find type for key: value in <enum 'Status'>\n",
      "Failed to find type for key: _subscriber in <class 'syft.service.queue.zmq_queue.ZMQConsumer'>\n",
      "Failed to find type for key: host in <class 'syft.service.queue.zmq_queue.ZMQClient'>\n",
      "Failed to find type for key: index_name in <class 'syft.store.sqlite_document_store.SQLiteBackingStore'>\n",
      "Failed to find type for key: searchable_cks in <class 'syft.store.sqlite_document_store.SQLiteStorePartition'>\n",
      "Failed to find type for key: syft_passthrough_attrs in <class 'syft.service.action.plan.Plan'>\n",
      "✅ The installed version of syft==0.8.1b3 matches the requirement >=0.8.1b0 and the requirement <0.9\n"
     ]
    }
   ],
   "source": [
    "import syft as sy\n",
    "sy.requires(SYFT_VERSION)"
   ]
  },
  {
   "cell_type": "code",
   "execution_count": 3,
   "id": "cbce68c1",
   "metadata": {
    "tags": []
   },
   "outputs": [
    {
     "name": "stdout",
     "output_type": "stream",
     "text": [
      "Starting pandas-test-domain-2 server on 0.0.0.0:8083\n"
     ]
    },
    {
     "name": "stderr",
     "output_type": "stream",
     "text": [
      "kj/filesystem-disk-unix.c++:1703: warning: PWD environment variable doesn't match current directory; pwd = /\n"
     ]
    },
    {
     "name": "stdout",
     "output_type": "stream",
     "text": [
      "Waiting for server to start\n",
      "Failed to find type for key: value in <enum '_NoDefault'>\n",
      "Waiting for server to start\n",
      "Failed to find type for key: __origin__ in <class 'typing._UnionGenericAlias'>\n",
      "Failed to find type for key: _value in <class 'result.result.Err'>\n",
      "Failed to find type for key: __origin__ in <class 'typing._UnionGenericAlias'>\n",
      "Failed to find type for key: _type_name in <class 'zmq.green.core._Socket'>\n",
      "Failed to find type for key: value in <enum 'NodeType'>\n",
      "Failed to find type for key: value in <enum 'ServiceRole'>\n",
      "Failed to find type for key: value in <enum 'ActionPermission'>\n",
      "Failed to find type for key: store_config in <class 'syft.store.document_store.StorePartition'>\n",
      "Failed to find type for key: port in <class 'syft.types.grid_url.GridURL'>\n",
      "Failed to find type for key: value in <enum 'CMPCRUDPermission'>\n",
      "Failed to find type for key: value in <enum '_ParameterKind'>\n",
      "Waiting for server to start\n",
      "Failed to find type for key: value in <enum 'VPNRoutes'>\n",
      "Failed to find type for key: value in <enum 'CommandStatus'>\n",
      "Failed to find type for key: value in <enum 'TailscaleRoutes'>\n",
      "Failed to find type for key: value in <enum 'ConnectionType'>\n",
      "Failed to find type for key: value in <enum 'ConnectionStatus'>\n",
      "Failed to find type for key: value in <enum 'TailscaleState'>\n",
      "Failed to find type for key: value in <enum 'TwinMode'>\n",
      "Failed to find type for key: value in <enum 'ActionType'>\n",
      "Failed to find type for key: syft_passthrough_attrs in <class 'syft.service.action.action_object.AnyActionObject'>\n",
      "Failed to find type for key: value in <enum 'UserPolicyStatus'>\n",
      "Failed to find type for key: value in <enum 'UserCodeStatus'>\n",
      "Failed to find type for key: value in <enum 'UniqueKeyCheck'>\n",
      "Failed to find type for key: store_config in <class 'syft.store.dict_document_store.DictStorePartition'>\n",
      "Failed to find type for key: syft_passthrough_attrs in <class 'syft.service.action.numpy.NumpyArrayObject'>\n",
      "Failed to find type for key: syft_passthrough_attrs in <class 'syft.service.action.numpy.NumpyScalarObject'>\n",
      "Failed to find type for key: syft_passthrough_attrs in <class 'syft.service.action.numpy.NumpyBoolObject'>\n",
      "Failed to find type for key: syft_passthrough_attrs in <class 'syft.service.action.pandas.PandasDataFrameObject'>\n",
      "Failed to find type for key: syft_passthrough_attrs in <class 'syft.service.action.pandas.PandasSeriesObject'>\n",
      "Failed to find type for key: value in <enum 'RequestStatus'>\n",
      "Failed to find type for key: value in <enum 'MessageStatus'>\n",
      "Failed to find type for key: value in <enum 'Status'>\n",
      "Failed to find type for key: _subscriber in <class 'syft.service.queue.zmq_queue.ZMQConsumer'>\n",
      "Failed to find type for key: host in <class 'syft.service.queue.zmq_queue.ZMQClient'>\n",
      "Failed to find type for key: store_config in <class 'syft.store.sqlite_document_store.SQLiteBackingStore'>\n",
      "Failed to find type for key: store_config in <class 'syft.store.sqlite_document_store.SQLiteStorePartition'>\n",
      "Failed to find type for key: syft_passthrough_attrs in <class 'syft.service.action.plan.Plan'>\n",
      "SQLite Store Path:\n",
      "!open file:///var/folders/f1/h55w4kj150x0s8c3jwhkkygw0000gn/T/a63c7520aee143f596c5f76f47b28887.sqlite\n",
      "\n",
      "Waiting for server to start\n",
      "Waiting for server to start\n",
      "Waiting for server to start\n",
      "Server Started\n"
     ]
    }
   ],
   "source": [
    "node = sy.orchestra.launch(name=\"pandas-test-domain-2\", port=\"auto\", reset=True)"
   ]
  },
  {
   "cell_type": "markdown",
   "id": "a9422ea5",
   "metadata": {},
   "source": [
    "# Data Owner: Upload data"
   ]
  },
  {
   "cell_type": "code",
   "execution_count": 4,
   "id": "3779a9a3",
   "metadata": {
    "tags": []
   },
   "outputs": [],
   "source": [
    "domain_client = node.login(email=\"info@openmined.org\", password=\"changethis\")"
   ]
  },
  {
   "cell_type": "code",
   "execution_count": 5,
   "id": "f82900d1",
   "metadata": {
    "tags": []
   },
   "outputs": [
    {
     "ename": "ModuleNotFoundError",
     "evalue": "No module named 'faker'",
     "output_type": "error",
     "traceback": [
      "\u001b[0;31m---------------------------------------------------------------------------\u001b[0m",
      "\u001b[0;31mModuleNotFoundError\u001b[0m                       Traceback (most recent call last)",
      "\u001b[1;32m/Users/theresa/Desktop/source/PySyft/notebooks/tutorials/pandas-cookbook/02-selecting-data-finding-common-complain.ipynb Cell 8\u001b[0m in \u001b[0;36m<cell line: 1>\u001b[0;34m()\u001b[0m\n\u001b[0;32m----> <a href='vscode-notebook-cell:/Users/theresa/Desktop/source/PySyft/notebooks/tutorials/pandas-cookbook/02-selecting-data-finding-common-complain.ipynb#X10sZmlsZQ%3D%3D?line=0'>1</a>\u001b[0m \u001b[39mfrom\u001b[39;00m \u001b[39msyft\u001b[39;00m\u001b[39m.\u001b[39;00m\u001b[39mserde\u001b[39;00m\u001b[39m.\u001b[39;00m\u001b[39mmock\u001b[39;00m \u001b[39mimport\u001b[39;00m CachedFaker\n\u001b[1;32m      <a href='vscode-notebook-cell:/Users/theresa/Desktop/source/PySyft/notebooks/tutorials/pandas-cookbook/02-selecting-data-finding-common-complain.ipynb#X10sZmlsZQ%3D%3D?line=1'>2</a>\u001b[0m \u001b[39mfrom\u001b[39;00m \u001b[39mrandom\u001b[39;00m \u001b[39mimport\u001b[39;00m randint\n\u001b[1;32m      <a href='vscode-notebook-cell:/Users/theresa/Desktop/source/PySyft/notebooks/tutorials/pandas-cookbook/02-selecting-data-finding-common-complain.ipynb#X10sZmlsZQ%3D%3D?line=2'>3</a>\u001b[0m \u001b[39mfrom\u001b[39;00m \u001b[39msyft\u001b[39;00m\u001b[39m.\u001b[39;00m\u001b[39mutil\u001b[39;00m\u001b[39m.\u001b[39;00m\u001b[39mutil\u001b[39;00m \u001b[39mimport\u001b[39;00m PANDAS_DATA\n",
      "File \u001b[0;32m~/opt/anaconda3/envs/OpenMined/lib/python3.9/site-packages/syft/serde/mock.py:9\u001b[0m, in \u001b[0;36m<module>\u001b[0;34m\u001b[0m\n\u001b[1;32m      6\u001b[0m \u001b[39mfrom\u001b[39;00m \u001b[39mtyping\u001b[39;00m \u001b[39mimport\u001b[39;00m List\n\u001b[1;32m      8\u001b[0m \u001b[39m# third party\u001b[39;00m\n\u001b[0;32m----> 9\u001b[0m \u001b[39mfrom\u001b[39;00m \u001b[39mfaker\u001b[39;00m \u001b[39mimport\u001b[39;00m Faker\n\u001b[1;32m     12\u001b[0m \u001b[39mclass\u001b[39;00m \u001b[39mCachedFaker\u001b[39;00m:\n\u001b[1;32m     13\u001b[0m \u001b[39m    \u001b[39m\u001b[39m\"\"\"Normal faker object can get slow when sampling large datasets, e.g. for Mocks. This one is cached\u001b[39;00m\n\u001b[1;32m     14\u001b[0m \u001b[39m    And therefore faster\u001b[39;00m\n\u001b[1;32m     15\u001b[0m \u001b[39m    \"\"\"\u001b[39;00m\n",
      "\u001b[0;31mModuleNotFoundError\u001b[0m: No module named 'faker'"
     ]
    }
   ],
   "source": [
    "from syft.serde.mock import CachedFaker\n",
    "from random import randint\n",
    "from syft.util.util import PANDAS_DATA\n",
    "from syft.service.project.project import Project\n",
    "import random\n",
    "import pandas as pd\n",
    "import matplotlib.pyplot as plt\n",
    "%matplotlib inline"
   ]
  },
  {
   "cell_type": "code",
   "execution_count": null,
   "id": "479e0fbd",
   "metadata": {
    "tags": []
   },
   "outputs": [],
   "source": [
    "# Make the graphs a bit prettier, and bigger\n",
    "plt.style.use('ggplot')\n",
    "\n",
    "# This is necessary to show lots of columns in pandas 0.12. \n",
    "# Not necessary in pandas 0.13.\n",
    "pd.set_option('display.width', 5000) \n",
    "pd.set_option('display.max_columns', 60)\n",
    "\n",
    "plt.rcParams['figure.figsize'] = (15, 5)"
   ]
  },
  {
   "cell_type": "markdown",
   "id": "e5de64c5",
   "metadata": {},
   "source": [
    "## Load data"
   ]
  },
  {
   "cell_type": "markdown",
   "id": "f51535e7",
   "metadata": {},
   "source": [
    "We're going to use a new dataset here, to demonstrate how to deal with larger datasets. This is a subset of the of 311 service requests from NYC Open Data."
   ]
  },
  {
   "cell_type": "code",
   "execution_count": null,
   "id": "f5fa8555",
   "metadata": {
    "tags": []
   },
   "outputs": [],
   "source": [
    "# because of mixed types we specify dtype to prevent any errors\n",
    "complaints = pd.read_csv(sy.autocache(f\"{PANDAS_DATA}/311-service-requests.csv\"), dtype='unicode')"
   ]
  },
  {
   "cell_type": "markdown",
   "id": "e41cf047",
   "metadata": {},
   "source": [
    "Depending on your pandas version, you might see an error like \"DtypeWarning: Columns (8) have mixed types\". This means that it's encountered a problem reading in our data. In this case it almost certainly means that it has columns where some of the entries are strings and some are integers.\n",
    "\n",
    "For now we're going to ignore it and hope we don't run into a problem, but in the long run we'd need to investigate this warning."
   ]
  },
  {
   "cell_type": "code",
   "execution_count": null,
   "id": "3a0da17e",
   "metadata": {
    "tags": []
   },
   "outputs": [],
   "source": [
    "complaints"
   ]
  },
  {
   "cell_type": "markdown",
   "id": "30da09e0",
   "metadata": {},
   "source": [
    "## Create Mock data"
   ]
  },
  {
   "cell_type": "markdown",
   "id": "5aebe627",
   "metadata": {},
   "source": [
    "Let's create the mock data for the complaint dataset."
   ]
  },
  {
   "cell_type": "code",
   "execution_count": null,
   "id": "aaca029e",
   "metadata": {
    "tags": []
   },
   "outputs": [],
   "source": [
    "fake = CachedFaker()"
   ]
  },
  {
   "cell_type": "code",
   "execution_count": null,
   "id": "33bf792a",
   "metadata": {
    "tags": []
   },
   "outputs": [],
   "source": [
    "fake_functions = {\n",
    "    \"Unique Key\": lambda x: randint(1,1000000),\n",
    "    \"Location\": lambda x: (fake.coordinate(), fake.coordinate()),\n",
    "    \"Agency\": lambda x: random.choice([\"NYPD\", \"DOHMH\", \"DPR\"]),\n",
    "    \"X Coordinate (State Plane)\": lambda x: randint(1,1000000),\n",
    "    \"Y Coordinate (State Plane)\": lambda x: randint(1,1000000),\n",
    "    \"Complaint Type\": lambda x: random.choice([\"Illegal Parking\", \"Noise - Street/Sidewalk\", \"'Animal in a Park'\"]),\n",
    "    \"Descriptor\": lambda x: random.choice([ 'Branch or Limb Has Fallen Down','Branches Damaged','Broken Fence', 'Broken Glass']),\n",
    "    \"School Number\": lambda x: random.choice([ 'B073', 'B077', 'B079', 'B080-01', 'B087', 'B099', 'B100', 'B102', 'B109', 'B111']),\n",
    "    \"Bridge Highway Segment\": lambda x: random.choice([ 'Grand Central Pkwy (Exit 1 E-W)',\n",
    "                                                       'Grand Central Pkwy (Exit 10) - 69th Rd-Jewel Ave (Exit 11)',\n",
    "                                                       'GrandCentral Pkwy/VanWyck Expwy/College Point Blvd (Exit 22 A-E)',\n",
    "                                                       'Hamilton Ave (Exit 2A) - Gowanus Expwy (I-278) (Exit 1)',\n",
    "                                                       'Harding Ave (Exit 9) - Throgs Neck Br'])\n",
    "}"
   ]
  },
  {
   "cell_type": "code",
   "execution_count": null,
   "id": "14883cf9",
   "metadata": {
    "tags": []
   },
   "outputs": [],
   "source": [
    "fake_triggers = {\n",
    "    \"Street\": lambda x : fake.street_name(),\n",
    "    \"Date\": lambda x : fake.date_time(),\n",
    "    \"Long\": lambda x : fake.coordinate(),\n",
    "    \"Lat\": lambda x : fake.coordinate(),\n",
    "    \"Address\": lambda x : fake.address(),\n",
    "    \"Name\": lambda x : fake.name(),\n",
    "    \"City\": lambda x : fake.city(),\n",
    "    \"Zip\": lambda x : fake.zipcode(),\n",
    "}"
   ]
  },
  {
   "cell_type": "code",
   "execution_count": null,
   "id": "ce64d92b",
   "metadata": {
    "tags": []
   },
   "outputs": [],
   "source": [
    "mock_data = dict()\n",
    "for col in complaints.columns:\n",
    "    col_vals = complaints[col]\n",
    "    \n",
    "    if col in fake_functions:\n",
    "        mock_func = fake_functions[col]\n",
    "    elif len(set(complaints[col])) < 100:\n",
    "        values = list(set(complaints[col]))\n",
    "        mock_func = lambda x: random.choice(values)\n",
    "    else:\n",
    "        for trigger in fake_triggers.keys():\n",
    "            if trigger in col:\n",
    "                mock_func = fake_triggers[trigger]\n",
    "    mock_data[col] = [mock_func(None) for x in range(len(complaints))]"
   ]
  },
  {
   "cell_type": "code",
   "execution_count": null,
   "id": "1a5047e6",
   "metadata": {
    "tags": []
   },
   "outputs": [],
   "source": [
    "mock = pd.DataFrame(data=mock_data)"
   ]
  },
  {
   "cell_type": "code",
   "execution_count": null,
   "id": "91c3150b",
   "metadata": {
    "tags": []
   },
   "outputs": [],
   "source": [
    "mock.head()"
   ]
  },
  {
   "cell_type": "code",
   "execution_count": null,
   "id": "2f02eba8",
   "metadata": {
    "tags": []
   },
   "outputs": [],
   "source": [
    "dataset = sy.Dataset(name=\"test\",\n",
    "                     asset_list=[sy.Asset(name=\"complaints\", data=complaints, mock=mock, mock_is_real=False)])\n",
    "domain_client.upload_dataset(dataset)"
   ]
  },
  {
   "cell_type": "markdown",
   "id": "eecd3476",
   "metadata": {},
   "source": [
    "## Create data scientist"
   ]
  },
  {
   "cell_type": "code",
   "execution_count": null,
   "id": "f20a2411",
   "metadata": {
    "tags": []
   },
   "outputs": [],
   "source": [
    "user = domain_client.register(name=\"Jane Doe\", email=\"jane@caltech.edu\",\n",
    "                            password=\"abc123\", institution=\"Caltech\", website=\"https://www.caltech.edu/\")\n",
    "\n",
    "# todo: give user data scientist role\n",
    "\n",
    "guest_domain_client = node.client\n",
    "\n",
    "guest_client = guest_domain_client.login(email=\"jane@caltech.edu\", password=\"abc123\")"
   ]
  },
  {
   "cell_type": "markdown",
   "id": "fee2afd8",
   "metadata": {},
   "source": [
    "# Data scientist: create syft_function"
   ]
  },
  {
   "cell_type": "markdown",
   "id": "8c9c3595",
   "metadata": {},
   "source": [
    "## Download mock and submit project"
   ]
  },
  {
   "cell_type": "markdown",
   "id": "8c63f823",
   "metadata": {},
   "source": [
    "### Get mock"
   ]
  },
  {
   "cell_type": "code",
   "execution_count": null,
   "id": "2e9e07ef",
   "metadata": {
    "tags": []
   },
   "outputs": [],
   "source": [
    "guest_domain_client = node.client"
   ]
  },
  {
   "cell_type": "code",
   "execution_count": null,
   "id": "d568e3f3",
   "metadata": {
    "tags": []
   },
   "outputs": [],
   "source": [
    "# guest_domain_client = worker.guest_client\n",
    "guest_client = guest_domain_client.login(email=\"jane@caltech.edu\", password=\"abc123\")"
   ]
  },
  {
   "cell_type": "code",
   "execution_count": null,
   "id": "81c7f134",
   "metadata": {
    "tags": []
   },
   "outputs": [],
   "source": [
    "ds = guest_domain_client.datasets[0]"
   ]
  },
  {
   "cell_type": "code",
   "execution_count": null,
   "id": "fa97cda8",
   "metadata": {
    "tags": []
   },
   "outputs": [],
   "source": [
    "asset = ds.assets[\"complaints\"]"
   ]
  },
  {
   "cell_type": "code",
   "execution_count": null,
   "id": "b93f1fd8",
   "metadata": {
    "tags": []
   },
   "outputs": [],
   "source": [
    "complaints = asset.mock"
   ]
  },
  {
   "cell_type": "markdown",
   "id": "e89ffc0e",
   "metadata": {},
   "source": [
    "### What's even in it? (the summary)\n"
   ]
  },
  {
   "cell_type": "markdown",
   "id": "c8f0a28e",
   "metadata": {},
   "source": [
    "When you print a large dataframe, it will only show you the first few rows.\n",
    "\n",
    "If you don't see this, don't panic! The default behavior for large dataframes changed between pandas 0.12 and 0.13. Previous to 0.13 it would show you a summary of the dataframe. This includes all the columns, and how many non-null values there are in each column."
   ]
  },
  {
   "cell_type": "code",
   "execution_count": null,
   "id": "d644bed3",
   "metadata": {
    "tags": []
   },
   "outputs": [],
   "source": [
    "complaints"
   ]
  },
  {
   "cell_type": "markdown",
   "id": "aaedaca0",
   "metadata": {},
   "source": [
    "### Selecting columns and rows"
   ]
  },
  {
   "cell_type": "markdown",
   "id": "ffbbc3bb",
   "metadata": {},
   "source": [
    "To select a column, we index with the name of the column, like this:"
   ]
  },
  {
   "cell_type": "code",
   "execution_count": null,
   "id": "27b77345",
   "metadata": {
    "tags": []
   },
   "outputs": [],
   "source": [
    "complaints['Complaint Type']"
   ]
  },
  {
   "cell_type": "markdown",
   "id": "1cc0be1a",
   "metadata": {},
   "source": [
    "To get the first 5 rows of a dataframe, we can use a slice: df[:5].\n",
    "\n",
    "This is a great way to get a sense for what kind of information is in the dataframe -- take a minute to look at the contents and get a feel for this dataset.\n",
    "\n"
   ]
  },
  {
   "cell_type": "code",
   "execution_count": null,
   "id": "23d90626",
   "metadata": {
    "tags": []
   },
   "outputs": [],
   "source": [
    "complaints[:5]"
   ]
  },
  {
   "cell_type": "markdown",
   "id": "15b43c7a",
   "metadata": {},
   "source": [
    "We can combine these to get the first 5 rows of a column:"
   ]
  },
  {
   "cell_type": "code",
   "execution_count": null,
   "id": "5780290e",
   "metadata": {
    "tags": []
   },
   "outputs": [],
   "source": [
    "complaints['Complaint Type'][:5]"
   ]
  },
  {
   "cell_type": "markdown",
   "id": "83a48fd9",
   "metadata": {},
   "source": [
    "and it doesn't matter which direction we do it in:"
   ]
  },
  {
   "cell_type": "code",
   "execution_count": null,
   "id": "5bae8688",
   "metadata": {
    "tags": []
   },
   "outputs": [],
   "source": [
    "complaints[:5]['Complaint Type']"
   ]
  },
  {
   "cell_type": "markdown",
   "id": "2156c1c3",
   "metadata": {},
   "source": [
    "### Selecting multiple columns"
   ]
  },
  {
   "cell_type": "markdown",
   "id": "a4737e20",
   "metadata": {},
   "source": [
    "What if we just want to know the complaint type and the borough, but not the rest of the information? Pandas makes it really easy to select a subset of the columns: just index with list of columns you want."
   ]
  },
  {
   "cell_type": "code",
   "execution_count": null,
   "id": "b53b55e3",
   "metadata": {
    "tags": []
   },
   "outputs": [],
   "source": [
    "complaints[['Complaint Type', 'Borough']]"
   ]
  },
  {
   "cell_type": "markdown",
   "id": "a4627298",
   "metadata": {},
   "source": [
    "That showed us a summary, and then we can look at the first 10 rows:\n",
    "\n"
   ]
  },
  {
   "cell_type": "code",
   "execution_count": null,
   "id": "90cc9fd1",
   "metadata": {
    "tags": []
   },
   "outputs": [],
   "source": [
    "complaints[['Complaint Type', 'Borough']][:10]"
   ]
  },
  {
   "cell_type": "markdown",
   "id": "70cab432",
   "metadata": {},
   "source": [
    "### What's the most common complaint type?"
   ]
  },
  {
   "cell_type": "markdown",
   "id": "0247fb73",
   "metadata": {},
   "source": [
    "This is a really easy question to answer! There's a .value_counts() method that we can use:"
   ]
  },
  {
   "cell_type": "code",
   "execution_count": null,
   "id": "0e70f7a7",
   "metadata": {
    "tags": []
   },
   "outputs": [],
   "source": [
    "complaints['Complaint Type'].value_counts()"
   ]
  },
  {
   "cell_type": "markdown",
   "id": "4e8cd9b7",
   "metadata": {},
   "source": [
    "If we just wanted the top 10 most common complaints, we can do this:"
   ]
  },
  {
   "cell_type": "code",
   "execution_count": null,
   "id": "a4f4e52f",
   "metadata": {
    "tags": []
   },
   "outputs": [],
   "source": [
    "complaint_counts = complaints['Complaint Type'].value_counts()\n",
    "complaint_counts[:10]"
   ]
  },
  {
   "cell_type": "code",
   "execution_count": null,
   "id": "827d0356",
   "metadata": {
    "tags": []
   },
   "outputs": [],
   "source": [
    "complaint_counts[:10].plot(kind='bar')"
   ]
  },
  {
   "cell_type": "markdown",
   "id": "96bedffb",
   "metadata": {},
   "source": [
    "## Request real result"
   ]
  },
  {
   "cell_type": "markdown",
   "id": "c56fe966",
   "metadata": {},
   "source": [
    "Now that we finished our analysis on the mock data, we can request this execution on the real data."
   ]
  },
  {
   "cell_type": "code",
   "execution_count": null,
   "id": "c947ad6b",
   "metadata": {
    "tags": []
   },
   "outputs": [],
   "source": [
    "@sy.syft_function(input_policy=sy.ExactMatch(df=asset.mock),\n",
    "                  output_policy=sy.SingleExecutionExactOutput())\n",
    "def get_counts(df):\n",
    "    complaint_counts = df['Complaint Type'].value_counts()\n",
    "    return complaint_counts[:10]"
   ]
  },
  {
   "cell_type": "markdown",
   "id": "f460d969",
   "metadata": {},
   "source": [
    "Request code execution"
   ]
  },
  {
   "cell_type": "code",
   "execution_count": null,
   "id": "df474774",
   "metadata": {
    "tags": []
   },
   "outputs": [],
   "source": [
    "req = guest_domain_client.api.services.code.request_code_execution(get_counts)"
   ]
  },
  {
   "cell_type": "code",
   "execution_count": null,
   "id": "300d599f",
   "metadata": {
    "tags": []
   },
   "outputs": [],
   "source": [
    "submitted_code = guest_domain_client.code[0]"
   ]
  },
  {
   "cell_type": "code",
   "execution_count": null,
   "id": "d99d0119",
   "metadata": {
    "tags": []
   },
   "outputs": [],
   "source": [
    "assert guest_domain_client.api.services.code.get_all()"
   ]
  },
  {
   "cell_type": "markdown",
   "id": "e17c5a93",
   "metadata": {},
   "source": [
    "Create and submit project"
   ]
  },
  {
   "cell_type": "code",
   "execution_count": null,
   "id": "0e5335e8-adf2-4416-ba69-860661c81321",
   "metadata": {
    "tags": []
   },
   "outputs": [],
   "source": [
    "project_create = sy.Project(\n",
    "    name=\"Pandas chapter 2\",\n",
    "    description=\"Hi, I would like to plot the histogram of the complaint types.\",\n",
    "    shareholders=[guest_domain_client],\n",
    "    user_email_address = \"jane@caltech.edu\",\n",
    "    users = [guest_domain_client]\n",
    ")\n",
    "project_create"
   ]
  },
  {
   "cell_type": "code",
   "execution_count": null,
   "id": "a05cf803-34d8-491e-9bc5-e6f542f949dd",
   "metadata": {
    "tags": []
   },
   "outputs": [],
   "source": [
    "projects = project_create.start()\n",
    "assert len(projects) == 1\n",
    "project = projects[0]"
   ]
  },
  {
   "cell_type": "code",
   "execution_count": null,
   "id": "eac5287b-0caa-486a-abb1-8afc238d612c",
   "metadata": {
    "tags": []
   },
   "outputs": [],
   "source": [
    "project.add_request(request=req)"
   ]
  },
  {
   "cell_type": "code",
   "execution_count": null,
   "id": "dab83940-e975-4bcf-9a20-1890a5e0f9a9",
   "metadata": {
    "tags": []
   },
   "outputs": [],
   "source": [
    "assert len(project.events) == 1"
   ]
  },
  {
   "cell_type": "code",
   "execution_count": null,
   "id": "da6c1279-697a-4751-868e-cf39d2b30612",
   "metadata": {
    "tags": []
   },
   "outputs": [],
   "source": [
    "assert isinstance(project.events[0], sy.service.project.project.ProjectRequest)"
   ]
  },
  {
   "cell_type": "markdown",
   "id": "37f97b2c",
   "metadata": {},
   "source": [
    "# Data owner: execute function"
   ]
  },
  {
   "cell_type": "code",
   "execution_count": null,
   "id": "28f77679",
   "metadata": {
    "tags": []
   },
   "outputs": [],
   "source": [
    "domain_client = node.client.login(email=\"info@openmined.org\", password=\"changethis\")"
   ]
  },
  {
   "cell_type": "markdown",
   "id": "5f4bded4",
   "metadata": {},
   "source": [
    "# Get messages"
   ]
  },
  {
   "cell_type": "code",
   "execution_count": null,
   "id": "6ebec184",
   "metadata": {
    "tags": []
   },
   "outputs": [],
   "source": [
    "messages = domain_client.api.services.messages.get_all_unread()"
   ]
  },
  {
   "cell_type": "code",
   "execution_count": null,
   "id": "34a83d8f",
   "metadata": {
    "tags": []
   },
   "outputs": [],
   "source": [
    "messages"
   ]
  },
  {
   "cell_type": "code",
   "execution_count": null,
   "id": "f491713c",
   "metadata": {
    "tags": []
   },
   "outputs": [],
   "source": [
    "project_message = [x for x in messages if issubclass(x.linked_obj.object_type, Project)][0]"
   ]
  },
  {
   "cell_type": "code",
   "execution_count": null,
   "id": "e450a3af",
   "metadata": {
    "tags": []
   },
   "outputs": [],
   "source": [
    "request = project_message.link.events[0].request\n",
    "func = request.changes[0].link\n",
    "op = func.output_policy_type"
   ]
  },
  {
   "cell_type": "code",
   "execution_count": null,
   "id": "cd5822af",
   "metadata": {
    "tags": []
   },
   "outputs": [],
   "source": [
    "func"
   ]
  },
  {
   "cell_type": "code",
   "execution_count": null,
   "id": "c173017d",
   "metadata": {
    "tags": []
   },
   "outputs": [],
   "source": [
    "get_counts_user_func = func.unsafe_function"
   ]
  },
  {
   "cell_type": "code",
   "execution_count": null,
   "id": "3a708eb0",
   "metadata": {
    "tags": []
   },
   "outputs": [],
   "source": [
    "real_data = domain_client.datasets[0].assets[0].data"
   ]
  },
  {
   "cell_type": "code",
   "execution_count": null,
   "id": "34fc6c8b",
   "metadata": {
    "tags": []
   },
   "outputs": [],
   "source": [
    "real_result = get_counts_user_func(df=real_data)"
   ]
  },
  {
   "cell_type": "code",
   "execution_count": null,
   "id": "f25c2403",
   "metadata": {
    "tags": []
   },
   "outputs": [],
   "source": [
    "real_result[:3]"
   ]
  },
  {
   "cell_type": "code",
   "execution_count": null,
   "id": "60adc73c",
   "metadata": {
    "tags": []
   },
   "outputs": [],
   "source": [
    "result = request.accept_by_depositing_result(real_result)\n",
    "result\n",
    "assert isinstance(result, sy.SyftSuccess)"
   ]
  },
  {
   "cell_type": "markdown",
   "id": "b3dd081e",
   "metadata": {},
   "source": [
    "# Data scientist: fetch result"
   ]
  },
  {
   "cell_type": "code",
   "execution_count": null,
   "id": "d4d913d0",
   "metadata": {
    "tags": []
   },
   "outputs": [],
   "source": [
    "asset = guest_client.datasets[0].assets[0]"
   ]
  },
  {
   "cell_type": "code",
   "execution_count": null,
   "id": "b302702f",
   "metadata": {
    "tags": []
   },
   "outputs": [],
   "source": [
    "guest_client.api.services.code[0].status"
   ]
  },
  {
   "cell_type": "code",
   "execution_count": null,
   "id": "7093dad3",
   "metadata": {
    "tags": []
   },
   "outputs": [],
   "source": [
    "real_result = guest_client.api.services.code.get_counts(df=asset)\n",
    "real_result.plot(kind=\"bar\")"
   ]
  },
  {
   "cell_type": "code",
   "execution_count": null,
   "id": "3753142a-28c3-4b60-b72e-75f6f48e22e3",
   "metadata": {
    "tags": []
   },
   "outputs": [],
   "source": [
    "node.land()"
   ]
  },
  {
   "cell_type": "code",
   "execution_count": null,
   "id": "247f8f48-7281-4dd5-a6fe-702ed46891cb",
   "metadata": {},
   "outputs": [],
   "source": []
  }
 ],
 "metadata": {
  "kernelspec": {
   "display_name": "OpenMined",
   "language": "python",
   "name": "python3"
  },
  "language_info": {
   "codemirror_mode": {
    "name": "ipython",
    "version": 3
   },
   "file_extension": ".py",
   "mimetype": "text/x-python",
   "name": "python",
   "nbconvert_exporter": "python",
   "pygments_lexer": "ipython3",
   "version": "3.9.16"
  },
  "toc": {
   "base_numbering": 1,
   "nav_menu": {},
   "number_sections": true,
   "sideBar": true,
   "skip_h1_title": false,
   "title_cell": "Table of Contents",
   "title_sidebar": "Contents",
   "toc_cell": false,
   "toc_position": {},
   "toc_section_display": true,
   "toc_window_display": true
  },
  "vscode": {
   "interpreter": {
    "hash": "017efdf43109cd6b9637f4f53c6ec16afae94799027fbfa5c9630f2a1f28a9df"
   }
  }
 },
 "nbformat": 4,
 "nbformat_minor": 5
}

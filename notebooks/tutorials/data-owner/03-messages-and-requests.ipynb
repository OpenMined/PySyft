{
 "cells": [
  {
   "cell_type": "markdown",
   "id": "eee1897a-f8bd-4bb4-9fc5-42f23921952d",
   "metadata": {},
   "source": [
    "# Messages and Requests"
   ]
  },
  {
   "cell_type": "markdown",
   "id": "552b2fb7",
   "metadata": {},
   "source": [
    "## Install"
   ]
  },
  {
   "cell_type": "code",
   "execution_count": null,
   "id": "1f8dca09",
   "metadata": {},
   "outputs": [],
   "source": [
    "SYFT_VERSION = \">=0.8.2.b0,<0.9\"\n",
    "package_string = f'\"syft{SYFT_VERSION}\"'\n",
    "# %pip install {package_string} -q"
   ]
  },
  {
   "cell_type": "code",
   "execution_count": null,
   "id": "d9d6ca04",
   "metadata": {},
   "outputs": [],
   "source": [
    "import syft as sy\n",
    "sy.requires(SYFT_VERSION)"
   ]
  },
  {
   "cell_type": "code",
   "execution_count": null,
   "id": "ca30bce1",
   "metadata": {},
   "outputs": [],
   "source": [
    "node = sy.orchestra.launch(name=\"messages-requests-example-domain-1-do\",port=7021, reset=True)"
   ]
  },
  {
   "cell_type": "markdown",
   "id": "3309ac80",
   "metadata": {},
   "source": [
    "## Setup"
   ]
  },
  {
   "cell_type": "markdown",
   "id": "ccce3974",
   "metadata": {},
   "source": [
    "For the purpose of this tutorial we are creating a very simple dataset, which is created and owner by the root client"
   ]
  },
  {
   "cell_type": "code",
   "execution_count": null,
   "id": "c3b4e1ab",
   "metadata": {},
   "outputs": [],
   "source": [
    "admin_client = node.login(email=\"info@openmined.org\", password=\"changethis\")"
   ]
  },
  {
   "cell_type": "code",
   "execution_count": null,
   "id": "ccd7d767",
   "metadata": {},
   "outputs": [],
   "source": [
    "import numpy as np\n",
    "dataset = sy.Dataset(\n",
    "    name=\"my dataset\",\n",
    "    asset_list=[\n",
    "        sy.Asset(\n",
    "        name=\"my asset\",\n",
    "        data=np.array([1,2,3]),\n",
    "        mock=np.array([1,1,1])\n",
    "    )]\n",
    ")\n",
    "admin_client.upload_dataset(dataset)"
   ]
  },
  {
   "cell_type": "code",
   "execution_count": null,
   "id": "f9e0e3bb",
   "metadata": {},
   "outputs": [],
   "source": [
    "admin_client.register(name=\"Jane Doe\", email=\"jane@caltech.edu\",\n",
    "                            password=\"abc123\",password_verify=\"abc123\", institution=\"Caltech\", website=\"https://www.caltech.edu/\")"
   ]
  },
  {
   "cell_type": "code",
   "execution_count": null,
   "id": "02cb2a7d",
   "metadata": {},
   "outputs": [],
   "source": [
    "guest_client = node.client.login(email=\"jane@caltech.edu\", password=\"abc123\")"
   ]
  },
  {
   "cell_type": "code",
   "execution_count": null,
   "id": "41b8b782",
   "metadata": {},
   "outputs": [],
   "source": [
    "asset = guest_client.datasets[0].assets[0]"
   ]
  },
  {
   "cell_type": "code",
   "execution_count": null,
   "id": "a10a2578",
   "metadata": {},
   "outputs": [],
   "source": [
    "@sy.syft_function_single_use()\n",
    "def func():\n",
    "    import random\n",
    "    data = list(range(100))\n",
    "    return sum(data) / 100 + random.random()\n",
    "\n",
    "@sy.syft_function_single_use(data=asset)\n",
    "def mean(data):\n",
    "    import random\n",
    "    return sum(data)/len(data) + + random.random()\n",
    "\n",
    "@sy.syft_function_single_use(data=asset)\n",
    "def reveal_data(data):\n",
    "    return data"
   ]
  },
  {
   "cell_type": "code",
   "execution_count": null,
   "id": "34b421af",
   "metadata": {},
   "outputs": [],
   "source": [
    "# Create a project\n",
    "new_project = sy.Project(\n",
    "    name=\"My Cool Project\",\n",
    "    description=\"\"\"Hi, I want to calculate the mean of your private data,\\\n",
    "                    pretty please!\"\"\",\n",
    "    members=[guest_client],\n",
    ")\n",
    "new_project"
   ]
  },
  {
   "cell_type": "code",
   "execution_count": null,
   "id": "3f705fc9",
   "metadata": {},
   "outputs": [],
   "source": [
    "new_project.create_code_request(func, guest_client)\n",
    "new_project.create_code_request(mean, guest_client)\n",
    "new_project.create_code_request(reveal_data, guest_client)"
   ]
  },
  {
   "cell_type": "code",
   "execution_count": null,
   "id": "2f5d2d12",
   "metadata": {},
   "outputs": [],
   "source": [
    "project = new_project.start()\n",
    "project"
   ]
  },
  {
   "cell_type": "markdown",
   "id": "3a9db3f7-4092-4358-9c90-a59cb13136c5",
   "metadata": {},
   "source": [
    "## Messaging"
   ]
  },
  {
   "cell_type": "markdown",
   "id": "a92531c8-aad5-4f1b-a783-32fee494de34",
   "metadata": {},
   "source": [
    "### Check New Messages"
   ]
  },
  {
   "cell_type": "code",
   "execution_count": null,
   "id": "26047af6",
   "metadata": {},
   "outputs": [],
   "source": [
    "admin_client.notifications"
   ]
  },
  {
   "cell_type": "markdown",
   "id": "dc7113be-de1e-41f7-bdab-5fe40dd34b6a",
   "metadata": {},
   "source": [
    "### Send a Message"
   ]
  },
  {
   "cell_type": "markdown",
   "id": "069d43ef-606b-4359-a1eb-555921b58d68",
   "metadata": {},
   "source": [
    "### Mark as Read or Unread"
   ]
  },
  {
   "cell_type": "code",
   "execution_count": null,
   "id": "76f05299",
   "metadata": {},
   "outputs": [],
   "source": [
    "message = admin_client.notifications[0]\n",
    "message"
   ]
  },
  {
   "cell_type": "code",
   "execution_count": null,
   "id": "c3a70644",
   "metadata": {},
   "outputs": [],
   "source": [
    "message.mark_read()"
   ]
  },
  {
   "cell_type": "code",
   "execution_count": null,
   "id": "d92a19e0",
   "metadata": {},
   "outputs": [],
   "source": [
    "admin_client.notifications"
   ]
  },
  {
   "cell_type": "code",
   "execution_count": null,
   "id": "17ba6304",
   "metadata": {},
   "outputs": [],
   "source": [
    "message.mark_unread()"
   ]
  },
  {
   "cell_type": "code",
   "execution_count": null,
   "id": "746d305c",
   "metadata": {},
   "outputs": [],
   "source": [
    "admin_client.notifications"
   ]
  },
  {
   "cell_type": "markdown",
   "id": "a0ad87d7-3fd1-40bf-9ecf-701339ca4fd0",
   "metadata": {},
   "source": [
    "## Requests"
   ]
  },
  {
   "cell_type": "markdown",
   "id": "f2b7a83e-ecfc-400c-a78d-71bc62abdac5",
   "metadata": {
    "tags": []
   },
   "source": [
    "### Approving"
   ]
  },
  {
   "cell_type": "code",
   "execution_count": null,
   "id": "e11a5ca2",
   "metadata": {},
   "outputs": [],
   "source": [
    "admin_client.requests"
   ]
  },
  {
   "cell_type": "code",
   "execution_count": null,
   "id": "32261a25",
   "metadata": {},
   "outputs": [],
   "source": [
    "func_request = admin_client.requests[-3]\n",
    "func_request"
   ]
  },
  {
   "cell_type": "code",
   "execution_count": null,
   "id": "dd91b0a3",
   "metadata": {},
   "outputs": [],
   "source": [
    "func_request.approve()"
   ]
  },
  {
   "cell_type": "code",
   "execution_count": null,
   "id": "0f95dab3",
   "metadata": {},
   "outputs": [],
   "source": [
    "admin_client.requests"
   ]
  },
  {
   "cell_type": "markdown",
   "id": "d2ab14d2-4d52-47fd-acf1-af87a0907a7f",
   "metadata": {},
   "source": [
    "### Substituting"
   ]
  },
  {
   "cell_type": "code",
   "execution_count": null,
   "id": "f23062b9",
   "metadata": {},
   "outputs": [],
   "source": [
    "mean_request = admin_client.requests[-2]\n",
    "mean_request"
   ]
  },
  {
   "cell_type": "code",
   "execution_count": null,
   "id": "1e814617",
   "metadata": {},
   "outputs": [],
   "source": [
    "admin_asset = admin_client.datasets[0].assets[0]"
   ]
  },
  {
   "cell_type": "code",
   "execution_count": null,
   "id": "5964c620",
   "metadata": {},
   "outputs": [],
   "source": [
    "result = mean_request.code.unsafe_function(data=admin_asset)\n",
    "result"
   ]
  },
  {
   "cell_type": "code",
   "execution_count": null,
   "id": "e305c8dc",
   "metadata": {},
   "outputs": [],
   "source": [
    "mean_request.accept_by_depositing_result(result)\n",
    "mean_request"
   ]
  },
  {
   "cell_type": "code",
   "execution_count": null,
   "id": "ecc2b1e7",
   "metadata": {},
   "outputs": [],
   "source": [
    "admin_client.projects[0].requests"
   ]
  },
  {
   "cell_type": "markdown",
   "id": "b295614e-bfe4-49ce-985d-ed6b8a1beae5",
   "metadata": {},
   "source": [
    "### Rejecting"
   ]
  },
  {
   "cell_type": "code",
   "execution_count": null,
   "id": "6ab140e6",
   "metadata": {},
   "outputs": [],
   "source": [
    "dangerous_request = admin_client.projects[0].requests[-1]\n",
    "dangerous_request"
   ]
  },
  {
   "cell_type": "code",
   "execution_count": null,
   "id": "02190450",
   "metadata": {},
   "outputs": [],
   "source": [
    "dangerous_request.code"
   ]
  },
  {
   "cell_type": "code",
   "execution_count": null,
   "id": "810b8b44",
   "metadata": {},
   "outputs": [],
   "source": [
    "dangerous_request.deny(reason=\"Dangerous request, you just want to reveal the data!\")"
   ]
  },
  {
   "cell_type": "code",
   "execution_count": null,
   "id": "02271fb6",
   "metadata": {},
   "outputs": [],
   "source": [
    "admin_client.projects[0]"
   ]
  },
  {
   "cell_type": "code",
   "execution_count": null,
   "id": "d7a4dd6e",
   "metadata": {},
   "outputs": [],
   "source": []
  }
 ],
 "metadata": {
  "kernelspec": {
   "display_name": "Python 3 (ipykernel)",
   "language": "python",
   "name": "python3"
  },
  "language_info": {
   "codemirror_mode": {
    "name": "ipython",
    "version": 3
   },
   "file_extension": ".py",
   "mimetype": "text/x-python",
   "name": "python",
   "nbconvert_exporter": "python",
   "pygments_lexer": "ipython3",
   "version": "3.10.8"
  },
  "toc": {
   "base_numbering": 1,
   "nav_menu": {},
   "number_sections": true,
   "sideBar": true,
   "skip_h1_title": false,
   "title_cell": "Table of Contents",
   "title_sidebar": "Contents",
   "toc_cell": false,
   "toc_position": {},
   "toc_section_display": true,
   "toc_window_display": true
  }
 },
 "nbformat": 4,
 "nbformat_minor": 5
}

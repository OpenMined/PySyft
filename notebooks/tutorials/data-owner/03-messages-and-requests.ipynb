{
 "cells": [
  {
   "cell_type": "markdown",
   "id": "eee1897a-f8bd-4bb4-9fc5-42f23921952d",
   "metadata": {},
   "source": [
    "# Messages and Requests"
   ]
  },
  {
   "cell_type": "markdown",
   "id": "3a9db3f7-4092-4358-9c90-a59cb13136c5",
   "metadata": {},
   "source": [
    "## Messaging"
   ]
  },
  {
   "cell_type": "markdown",
   "id": "a92531c8-aad5-4f1b-a783-32fee494de34",
   "metadata": {},
   "source": [
    "### Check New Messages"
   ]
  },
  {
   "cell_type": "markdown",
   "id": "dc7113be-de1e-41f7-bdab-5fe40dd34b6a",
   "metadata": {},
   "source": [
    "### Send a Message"
   ]
  },
  {
   "cell_type": "markdown",
   "id": "069d43ef-606b-4359-a1eb-555921b58d68",
   "metadata": {},
   "source": [
    "### Mark as Read or Unread"
   ]
  },
  {
   "cell_type": "markdown",
   "id": "a0ad87d7-3fd1-40bf-9ecf-701339ca4fd0",
   "metadata": {},
   "source": [
    "## Requests"
   ]
  },
  {
   "cell_type": "markdown",
   "id": "f2b7a83e-ecfc-400c-a78d-71bc62abdac5",
   "metadata": {
    "tags": []
   },
   "source": [
    "### Approving"
   ]
  },
  {
   "cell_type": "markdown",
   "id": "d2ab14d2-4d52-47fd-acf1-af87a0907a7f",
   "metadata": {},
   "source": [
    "### Substituting"
   ]
  },
  {
   "cell_type": "markdown",
   "id": "b295614e-bfe4-49ce-985d-ed6b8a1beae5",
   "metadata": {},
   "source": [
    "### Rejecting"
   ]
  }
 ],
 "metadata": {
  "kernelspec": {
   "display_name": "Python 3 (ipykernel)",
   "language": "python",
   "name": "python3"
  },
  "language_info": {
   "codemirror_mode": {
    "name": "ipython",
    "version": 3
   },
   "file_extension": ".py",
   "mimetype": "text/x-python",
   "name": "python",
   "nbconvert_exporter": "python",
   "pygments_lexer": "ipython3",
   "version": "3.10.9"
  }
 },
 "nbformat": 4,
 "nbformat_minor": 5
}

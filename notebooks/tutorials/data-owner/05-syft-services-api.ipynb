{
 "cells": [
  {
   "cell_type": "markdown",
   "id": "7ecb6d7e-477a-42d6-b8c8-93aa195c12d2",
   "metadata": {},
   "source": [
    "# Syft Services API"
   ]
  },
  {
   "cell_type": "markdown",
   "id": "ab1cb2da",
   "metadata": {},
   "source": [
    "## Install"
   ]
  },
  {
   "cell_type": "code",
   "execution_count": null,
   "id": "7f15bb57",
   "metadata": {},
   "outputs": [],
   "source": [
    "SYFT_VERSION = \">=0.8.1b0,<0.9\"\n",
    "package_string = f'\"syft{SYFT_VERSION}\"'\n",
    "# %pip install {package_string} -f https://whls.blob.core.windows.net/unstable/index.html"
   ]
  },
  {
   "cell_type": "code",
   "execution_count": null,
   "id": "c31ffc67",
   "metadata": {},
   "outputs": [],
   "source": [
    "import syft as sy\n",
    "sy.requires(SYFT_VERSION)"
   ]
  },
  {
   "cell_type": "markdown",
   "id": "d0375f04",
   "metadata": {},
   "source": [
    "## Setup"
   ]
  },
  {
   "cell_type": "code",
   "execution_count": null,
   "id": "d95f0fa8",
   "metadata": {},
   "outputs": [],
   "source": [
    "node = sy.orchestra.launch(name=\"services-api-example-domain-1\",port=\"auto\", reset=True)"
   ]
  },
  {
   "cell_type": "markdown",
   "id": "d7b73a99",
   "metadata": {},
   "source": [
    "Lets login with our root user."
   ]
  },
  {
   "cell_type": "code",
   "execution_count": null,
   "id": "5218c9c1",
   "metadata": {},
   "outputs": [],
   "source": [
    "from syft.service.user.user import UserUpdate, UserCreate, ServiceRole\n",
    "client = node.login(email=\"info@openmined.org\", password=\"changethis\")"
   ]
  },
  {
   "cell_type": "markdown",
   "id": "4bacfe47-24df-406f-8f10-4d7d5da71981",
   "metadata": {},
   "source": [
    "## Autocomplete"
   ]
  },
  {
   "cell_type": "markdown",
   "id": "2d4a6fb0",
   "metadata": {},
   "source": [
    "In Jupyter Notebook, you can trigger autocomplete by pressing `Tab` after `.`."
   ]
  },
  {
   "cell_type": "markdown",
   "id": "01026f5f",
   "metadata": {},
   "source": [
    " ### Listing the Services"
   ]
  },
  {
   "cell_type": "code",
   "execution_count": null,
   "id": "5640a245",
   "metadata": {},
   "outputs": [],
   "source": [
    "client.api.services #<add \".\" and press Tab here>"
   ]
  },
  {
   "cell_type": "markdown",
   "id": "348fe637-ddae-432a-b4fa-a1f72d2638e3",
   "metadata": {},
   "source": [
    "### Listing the Service Methods"
   ]
  },
  {
   "cell_type": "code",
   "execution_count": null,
   "id": "a7019cdd",
   "metadata": {},
   "outputs": [],
   "source": [
    "client.api.services.user #<add \".\" and press Tab here>\n"
   ]
  },
  {
   "cell_type": "markdown",
   "id": "4894eaca-57d8-420c-9da6-f3099efbc18b",
   "metadata": {},
   "source": [
    "## Viewing Method Signatures"
   ]
  },
  {
   "cell_type": "markdown",
   "id": "ea1f2ed6",
   "metadata": {},
   "source": [
    "In Jupyter Notebook, you can view method signatures by pressing `Shift-Tab` after the opening parenthesis."
   ]
  },
  {
   "cell_type": "code",
   "execution_count": null,
   "id": "ba852289-7192-4df3-847f-3e382fa76804",
   "metadata": {},
   "outputs": [],
   "source": [
    "client.api.services.user.update #<add \"(\" and press Shift-Tab here>"
   ]
  },
  {
   "cell_type": "markdown",
   "id": "d0378df2",
   "metadata": {},
   "source": [
    "You can open the documentation by adding `?` after a command and executing the cell."
   ]
  },
  {
   "cell_type": "code",
   "execution_count": null,
   "id": "a39a4393",
   "metadata": {},
   "outputs": [],
   "source": [
    "client.api.services.user.update?"
   ]
  },
  {
   "cell_type": "code",
   "execution_count": null,
   "id": "8f1bde2b",
   "metadata": {},
   "outputs": [],
   "source": []
  }
 ],
 "metadata": {
  "kernelspec": {
   "display_name": "Python 3 (ipykernel)",
   "language": "python",
   "name": "python3"
  },
  "language_info": {
   "codemirror_mode": {
    "name": "ipython",
    "version": 3
   },
   "file_extension": ".py",
   "mimetype": "text/x-python",
   "name": "python",
   "nbconvert_exporter": "python",
   "pygments_lexer": "ipython3",
   "version": "3.9.16"
  },
  "toc": {
   "base_numbering": 1,
   "nav_menu": {},
   "number_sections": true,
   "sideBar": true,
   "skip_h1_title": false,
   "title_cell": "Table of Contents",
   "title_sidebar": "Contents",
   "toc_cell": false,
   "toc_position": {},
   "toc_section_display": true,
   "toc_window_display": true
  }
 },
 "nbformat": 4,
 "nbformat_minor": 5
}

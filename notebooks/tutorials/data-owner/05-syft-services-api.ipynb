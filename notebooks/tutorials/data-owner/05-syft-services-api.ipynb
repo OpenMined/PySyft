{
 "cells": [
  {
   "cell_type": "markdown",
   "id": "7ecb6d7e-477a-42d6-b8c8-93aa195c12d2",
   "metadata": {},
   "source": [
    "# Syft Services API"
   ]
  },
  {
   "cell_type": "markdown",
   "id": "4bacfe47-24df-406f-8f10-4d7d5da71981",
   "metadata": {},
   "source": [
    "## Listing the Services"
   ]
  },
  {
   "cell_type": "markdown",
   "id": "348fe637-ddae-432a-b4fa-a1f72d2638e3",
   "metadata": {},
   "source": [
    "## Autocomplete Service Methods"
   ]
  },
  {
   "cell_type": "markdown",
   "id": "4894eaca-57d8-420c-9da6-f3099efbc18b",
   "metadata": {},
   "source": [
    "## Viewing Method Signatures"
   ]
  },
  {
   "cell_type": "code",
   "execution_count": null,
   "id": "ba852289-7192-4df3-847f-3e382fa76804",
   "metadata": {},
   "outputs": [],
   "source": []
  }
 ],
 "metadata": {
  "kernelspec": {
   "display_name": "Python 3 (ipykernel)",
   "language": "python",
   "name": "python3"
  },
  "language_info": {
   "codemirror_mode": {
    "name": "ipython",
    "version": 3
   },
   "file_extension": ".py",
   "mimetype": "text/x-python",
   "name": "python",
   "nbconvert_exporter": "python",
   "pygments_lexer": "ipython3",
   "version": "3.10.9"
  }
 },
 "nbformat": 4,
 "nbformat_minor": 5
}

{
 "cells": [
  {
   "cell_type": "markdown",
   "id": "bfd5877d-8b78-470f-9e28-fc96e4053d53",
   "metadata": {},
   "source": [
    "# Joining a Gateway"
   ]
  },
  {
   "cell_type": "markdown",
   "id": "8d972243-6598-432b-b6b4-8ebd1adbabbf",
   "metadata": {},
   "source": [
    "## List of Gateways"
   ]
  },
  {
   "cell_type": "markdown",
   "id": "e9186092-15e7-423e-9365-cbc9568d3130",
   "metadata": {},
   "source": [
    "## Connect to Gateway"
   ]
  },
  {
   "cell_type": "markdown",
   "id": "3a8ed886-6555-4127-bd98-421cb6cc609c",
   "metadata": {},
   "source": [
    "### Data Searchability"
   ]
  },
  {
   "cell_type": "markdown",
   "id": "57fa45ce-a7ef-4940-8c04-61a6767fa809",
   "metadata": {},
   "source": [
    "## Connect via VPN"
   ]
  }
 ],
 "metadata": {
  "kernelspec": {
   "display_name": "Python 3 (ipykernel)",
   "language": "python",
   "name": "python3"
  },
  "language_info": {
   "codemirror_mode": {
    "name": "ipython",
    "version": 3
   },
   "file_extension": ".py",
   "mimetype": "text/x-python",
   "name": "python",
   "nbconvert_exporter": "python",
   "pygments_lexer": "ipython3",
   "version": "3.10.9"
  }
 },
 "nbformat": 4,
 "nbformat_minor": 5
}

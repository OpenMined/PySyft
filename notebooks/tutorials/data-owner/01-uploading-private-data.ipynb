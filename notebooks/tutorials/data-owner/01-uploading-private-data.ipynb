{
 "cells": [
  {
   "cell_type": "markdown",
   "id": "99d92d96-a607-472e-983d-86958f7939e8",
   "metadata": {},
   "source": [
    "# Uploading Private Data"
   ]
  },
  {
   "cell_type": "markdown",
   "id": "918ad9f3-4ced-47f2-98b3-496b83cc3f4f",
   "metadata": {},
   "source": [
    "## Adding a Dataset"
   ]
  },
  {
   "cell_type": "markdown",
   "id": "23d82efb-2aa2-4293-9566-d2269c8de942",
   "metadata": {},
   "source": [
    "### Adding Mock Data"
   ]
  },
  {
   "cell_type": "markdown",
   "id": "fb5757bf-e6e1-4b0b-b454-2f7c277721d3",
   "metadata": {},
   "source": [
    "### Adding Data Subjects"
   ]
  },
  {
   "cell_type": "markdown",
   "id": "d6d8002e-2369-4833-8002-048636833dda",
   "metadata": {},
   "source": [
    "### What if you don't have mock data?"
   ]
  },
  {
   "cell_type": "markdown",
   "id": "6b639eae-4ed2-46aa-a2b2-afca6d08b338",
   "metadata": {},
   "source": [
    "## High Side vs Low Side"
   ]
  },
  {
   "cell_type": "code",
   "execution_count": null,
   "id": "f9c0fb40-7801-4bc6-8539-10af1c7a0511",
   "metadata": {},
   "outputs": [],
   "source": []
  }
 ],
 "metadata": {
  "kernelspec": {
   "display_name": "Python 3 (ipykernel)",
   "language": "python",
   "name": "python3"
  },
  "language_info": {
   "codemirror_mode": {
    "name": "ipython",
    "version": 3
   },
   "file_extension": ".py",
   "mimetype": "text/x-python",
   "name": "python",
   "nbconvert_exporter": "python",
   "pygments_lexer": "ipython3",
   "version": "3.10.9"
  }
 },
 "nbformat": 4,
 "nbformat_minor": 5
}

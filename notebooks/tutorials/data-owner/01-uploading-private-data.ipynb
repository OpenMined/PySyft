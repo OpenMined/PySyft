{
 "cells": [
  {
   "attachments": {},
   "cell_type": "markdown",
   "id": "99d92d96-a607-472e-983d-86958f7939e8",
   "metadata": {},
   "source": [
    "# Uploading Private Data"
   ]
  },
  {
   "attachments": {},
   "cell_type": "markdown",
   "id": "066d942e",
   "metadata": {},
   "source": [
    "## Install"
   ]
  },
  {
   "cell_type": "code",
   "execution_count": null,
   "id": "8f2568d6",
   "metadata": {},
   "outputs": [],
   "source": [
    "SYFT_VERSION = \">=0.8.2.b0,<0.9\"\n",
    "package_string = f'\"syft{SYFT_VERSION}\"'\n",
    "# %pip install {package_string} -q"
   ]
  },
  {
   "cell_type": "code",
   "execution_count": null,
   "id": "aaa21d60",
   "metadata": {},
   "outputs": [],
   "source": [
    "import syft as sy\n",
    "sy.requires(SYFT_VERSION)"
   ]
  },
  {
   "cell_type": "code",
   "execution_count": null,
   "id": "600dbea7",
   "metadata": {},
   "outputs": [],
   "source": [
    "node = sy.orchestra.launch(name=\"private-data-example-domain-1\",port=8040, reset=True)"
   ]
  },
  {
   "attachments": {},
   "cell_type": "markdown",
   "id": "5045b434",
   "metadata": {},
   "source": [
    "## Setup"
   ]
  },
  {
   "attachments": {},
   "cell_type": "markdown",
   "id": "b7adb06e",
   "metadata": {},
   "source": [
    "Lets login with our root user"
   ]
  },
  {
   "cell_type": "code",
   "execution_count": null,
   "id": "8aaabf2b",
   "metadata": {},
   "outputs": [],
   "source": [
    "from syft.service.user.user import UserUpdate, UserCreate, ServiceRole\n",
    "client = node.login(email=\"info@openmined.org\", password=\"changethis\")"
   ]
  },
  {
   "attachments": {},
   "cell_type": "markdown",
   "id": "918ad9f3-4ced-47f2-98b3-496b83cc3f4f",
   "metadata": {},
   "source": [
    "## Adding a Dataset"
   ]
  },
  {
   "cell_type": "code",
   "execution_count": null,
   "id": "59965222",
   "metadata": {},
   "outputs": [],
   "source": [
    "import syft as sy\n",
    "import numpy as np"
   ]
  },
  {
   "attachments": {},
   "cell_type": "markdown",
   "id": "b9072584",
   "metadata": {},
   "source": [
    "The easiest way to upload a Dataset is by creating it with `sy.Dataset`, you can provide `Assets` which contain the actual data"
   ]
  },
  {
   "cell_type": "code",
   "execution_count": null,
   "id": "36b0b58f",
   "metadata": {},
   "outputs": [],
   "source": [
    "dataset = sy.Dataset(\n",
    "    name=\"my dataset\",\n",
    "    asset_list=[\n",
    "        sy.Asset(\n",
    "            name=\"my asset\",\n",
    "            data=np.array([1, 2, 3]),\n",
    "            mock=np.array([1, 1, 1])\n",
    "        )\n",
    "    ]\n",
    ")\n",
    "\n",
    "client.upload_dataset(dataset)"
   ]
  },
  {
   "attachments": {},
   "cell_type": "markdown",
   "id": "08dd52fe",
   "metadata": {},
   "source": [
    "## Viewing a Dataset"
   ]
  },
  {
   "attachments": {},
   "cell_type": "markdown",
   "id": "e0460b72",
   "metadata": {},
   "source": [
    "We can see the dataset we just created using `client.api.services.dataset.get_all()` or simply `client.datasets`"
   ]
  },
  {
   "cell_type": "code",
   "execution_count": null,
   "id": "089ef1de",
   "metadata": {},
   "outputs": [],
   "source": [
    "client.datasets"
   ]
  },
  {
   "attachments": {},
   "cell_type": "markdown",
   "id": "23d82efb-2aa2-4293-9566-d2269c8de942",
   "metadata": {},
   "source": [
    "## Adding Mock Data"
   ]
  },
  {
   "attachments": {},
   "cell_type": "markdown",
   "id": "e580a65e",
   "metadata": {},
   "source": [
    "When we construct an Asset e.g.\n",
    "```python\n",
    "sy.Asset(\n",
    "    name=\"my asset\",\n",
    "    data=np.array([1, 2, 3]),\n",
    "    mock=np.array([1, 1, 1])\n",
    ")\n",
    "```\n",
    "\n",
    "We are passing in `data` and a `mock`. The former contains the actual data that needs to be used for analysis, the latter contains some fake data that has the same shape and type as `data`, but does not contain any sensitive information"
   ]
  },
  {
   "attachments": {},
   "cell_type": "markdown",
   "id": "fb5757bf-e6e1-4b0b-b454-2f7c277721d3",
   "metadata": {},
   "source": [
    "## Adding Data Subjects"
   ]
  },
  {
   "attachments": {},
   "cell_type": "markdown",
   "id": "422fbe1e",
   "metadata": {},
   "source": [
    "For `Assets` you can also add `DataSubjects`.  \n",
    "Note: `DataSubjects` will soon be able to assist in tracking privacy exposure over the life time of the Data Asset but for the moment they are purely optional annotation)."
   ]
  },
  {
   "cell_type": "code",
   "execution_count": null,
   "id": "195d3dd3",
   "metadata": {},
   "outputs": [],
   "source": [
    "ctf = sy.Asset(\n",
    "    name=\"canada_trade_flow\",\n",
    "    data_subjects=[\n",
    "        sy.DataSubject(name=\"Country\", aliases=[\"country_code\"])\n",
    "    ]\n",
    ")"
   ]
  },
  {
   "attachments": {},
   "cell_type": "markdown",
   "id": "d6d8002e-2369-4833-8002-048636833dda",
   "metadata": {},
   "source": [
    "## What if you don't have mock data?"
   ]
  },
  {
   "cell_type": "code",
   "execution_count": null,
   "id": "13078bb5",
   "metadata": {},
   "outputs": [],
   "source": [
    "dataset = sy.Dataset(\n",
    "    name=\"my dataset2\",\n",
    "    asset_list=[\n",
    "        sy.Asset(\n",
    "            name=\"my asset2\",\n",
    "            data=np.array([1, 2, 3]),\n",
    "            mock=sy.ActionObject.empty()\n",
    "        )\n",
    "    ]\n",
    ")"
   ]
  },
  {
   "cell_type": "code",
   "execution_count": null,
   "id": "81b29482",
   "metadata": {},
   "outputs": [],
   "source": [
    "client.upload_dataset(dataset)"
   ]
  },
  {
   "attachments": {},
   "cell_type": "markdown",
   "id": "6b639eae-4ed2-46aa-a2b2-afca6d08b338",
   "metadata": {},
   "source": [
    "## High Side vs Low Side"
   ]
  }
 ],
 "metadata": {
  "kernelspec": {
   "display_name": "Python 3 (ipykernel)",
   "language": "python",
   "name": "python3"
  },
  "language_info": {
   "codemirror_mode": {
    "name": "ipython",
    "version": 3
   },
   "file_extension": ".py",
   "mimetype": "text/x-python",
   "name": "python",
   "nbconvert_exporter": "python",
   "pygments_lexer": "ipython3",
   "version": "3.9.16"
  },
  "toc": {
   "base_numbering": 1,
   "nav_menu": {},
   "number_sections": true,
   "sideBar": true,
   "skip_h1_title": false,
   "title_cell": "Table of Contents",
   "title_sidebar": "Contents",
   "toc_cell": false,
   "toc_position": {},
   "toc_section_display": true,
   "toc_window_display": true
  }
 },
 "nbformat": 4,
 "nbformat_minor": 5
}

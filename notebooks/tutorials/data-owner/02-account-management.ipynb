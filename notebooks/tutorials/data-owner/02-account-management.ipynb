{
 "cells": [
  {
   "cell_type": "markdown",
   "id": "fd36dd1c",
   "metadata": {},
   "source": [
    "# Account Management"
   ]
  },
  {
   "cell_type": "markdown",
   "id": "066d942e",
   "metadata": {},
   "source": [
    "## Install"
   ]
  },
  {
   "cell_type": "code",
   "execution_count": null,
   "id": "8f2568d6",
   "metadata": {},
   "outputs": [],
   "source": [
    "SYFT_VERSION = \">=0.8.1b0,<0.9\"\n",
    "package_string = f'\"syft{SYFT_VERSION}\"'\n",
    "# %pip install {package_string} -f https://whls.blob.core.windows.net/unstable/index.html"
   ]
  },
  {
   "cell_type": "code",
   "execution_count": null,
   "id": "aaa21d60",
   "metadata": {},
   "outputs": [],
   "source": [
    "import syft as sy\n",
    "sy.requires(SYFT_VERSION)"
   ]
  },
  {
   "cell_type": "code",
   "execution_count": null,
   "id": "600dbea7",
   "metadata": {},
   "outputs": [],
   "source": [
    "node = sy.orchestra.launch(name=\"pandas-test-domain-1\", port=8081, reset=True)"
   ]
  },
  {
   "cell_type": "markdown",
   "id": "5045b434",
   "metadata": {},
   "source": [
    "## Setup"
   ]
  },
  {
   "cell_type": "markdown",
   "id": "b7adb06e",
   "metadata": {},
   "source": [
    "Lets login with our root user"
   ]
  },
  {
   "cell_type": "code",
   "execution_count": null,
   "id": "8aaabf2b",
   "metadata": {},
   "outputs": [],
   "source": [
    "from syft.service.user.user import UserUpdate, UserCreate, ServiceRole\n",
    "client = node.login(email=\"info@openmined.org\", password=\"changethis\")"
   ]
  },
  {
   "cell_type": "markdown",
   "id": "73c8bf2c-6514-43fd-9acc-03957864f912",
   "metadata": {},
   "source": [
    "## Creating a User"
   ]
  },
  {
   "cell_type": "markdown",
   "id": "752cf9cf",
   "metadata": {},
   "source": [
    "We can create/get/update/delete users using the `user service`, which we can access via `client.api.services.user`. Lets create a new `User`"
   ]
  },
  {
   "cell_type": "code",
   "execution_count": null,
   "id": "bcb03f51",
   "metadata": {},
   "outputs": [],
   "source": [
    "client.users.create(UserCreate(email=\"newuser@openmined.org\", name=\"Jane Doe\", password=\"pw\"))"
   ]
  },
  {
   "cell_type": "markdown",
   "id": "bcefa816",
   "metadata": {},
   "source": [
    "## Getting users & inspecting roles"
   ]
  },
  {
   "cell_type": "markdown",
   "id": "bc58810a",
   "metadata": {},
   "source": [
    "Lets query all our users, we can use `client.api.services.user.get_all` or simply `client.api.services.user`"
   ]
  },
  {
   "cell_type": "code",
   "execution_count": null,
   "id": "95d98d0a",
   "metadata": {},
   "outputs": [],
   "source": [
    "users = client.users\n",
    "users"
   ]
  },
  {
   "cell_type": "markdown",
   "id": "8168f165",
   "metadata": {},
   "source": [
    "We see 2 users, the root user which exists by default, and the user we just created."
   ]
  },
  {
   "cell_type": "code",
   "execution_count": null,
   "id": "92bd8d7e",
   "metadata": {},
   "outputs": [],
   "source": [
    "new_user = [u for u in users if u.email == \"newuser@openmined.org\"][0]"
   ]
  },
  {
   "cell_type": "markdown",
   "id": "9f579d05",
   "metadata": {},
   "source": [
    "We can view the new user, and see its permissions"
   ]
  },
  {
   "cell_type": "code",
   "execution_count": null,
   "id": "7dd12caa",
   "metadata": {},
   "outputs": [],
   "source": [
    "new_user"
   ]
  },
  {
   "cell_type": "markdown",
   "id": "aa1fc59c-dc77-4907-9d79-1b06f4fa4144",
   "metadata": {},
   "source": [
    "## Updating a User"
   ]
  },
  {
   "cell_type": "markdown",
   "id": "a7eb3bff",
   "metadata": {},
   "source": [
    "Lets update the user we just created, and change the role using the `user.update` service method"
   ]
  },
  {
   "cell_type": "code",
   "execution_count": null,
   "id": "faccbb4e-b616-4b29-8008-a4d01fe79ee8",
   "metadata": {},
   "outputs": [],
   "source": [
    "# TODO explain how the Update objects work regarding missing fields etc"
   ]
  },
  {
   "cell_type": "code",
   "execution_count": null,
   "id": "b1f69c7c",
   "metadata": {},
   "outputs": [],
   "source": [
    "updated_user = client.users.update(new_user.id, \n",
    "    UserUpdate(role=ServiceRole.DATA_SCIENTIST)\n",
    ")"
   ]
  },
  {
   "cell_type": "code",
   "execution_count": null,
   "id": "d2ef167d",
   "metadata": {},
   "outputs": [],
   "source": [
    "updated_user"
   ]
  },
  {
   "cell_type": "markdown",
   "id": "71d4d942-132b-4688-ab00-a4c8b9ef8427",
   "metadata": {},
   "source": [
    "## Deleting a User"
   ]
  },
  {
   "cell_type": "markdown",
   "id": "82d0802d",
   "metadata": {},
   "source": [
    "Lastly, we can delete users using the `user.delete` service method"
   ]
  },
  {
   "cell_type": "code",
   "execution_count": null,
   "id": "5d9a9428",
   "metadata": {},
   "outputs": [],
   "source": [
    "client.users.delete(new_user.id)"
   ]
  },
  {
   "cell_type": "code",
   "execution_count": null,
   "id": "007fa069-e9f6-4c0f-bd61-8d0f70ec595d",
   "metadata": {},
   "outputs": [],
   "source": [
    "users = client.users\n",
    "users"
   ]
  }
 ],
 "metadata": {
  "kernelspec": {
   "display_name": "Python 3 (ipykernel)",
   "language": "python",
   "name": "python3"
  },
  "language_info": {
   "codemirror_mode": {
    "name": "ipython",
    "version": 3
   },
   "file_extension": ".py",
   "mimetype": "text/x-python",
   "name": "python",
   "nbconvert_exporter": "python",
   "pygments_lexer": "ipython3",
   "version": "3.9.16"
  },
  "toc": {
   "base_numbering": 1,
   "nav_menu": {},
   "number_sections": true,
   "sideBar": true,
   "skip_h1_title": false,
   "title_cell": "Table of Contents",
   "title_sidebar": "Contents",
   "toc_cell": false,
   "toc_position": {},
   "toc_section_display": true,
   "toc_window_display": true
  }
 },
 "nbformat": 4,
 "nbformat_minor": 5
}

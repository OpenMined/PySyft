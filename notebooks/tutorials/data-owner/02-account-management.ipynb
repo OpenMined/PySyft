{
 "cells": [
  {
   "cell_type": "markdown",
   "id": "01a01592-b106-4227-8e6a-6f49bf8c405f",
   "metadata": {},
   "source": [
    "# Account Management"
   ]
  },
  {
   "cell_type": "markdown",
   "id": "73c8bf2c-6514-43fd-9acc-03957864f912",
   "metadata": {},
   "source": [
    "## Creating a User"
   ]
  },
  {
   "cell_type": "markdown",
   "id": "aa1fc59c-dc77-4907-9d79-1b06f4fa4144",
   "metadata": {},
   "source": [
    "## Updating a User"
   ]
  },
  {
   "cell_type": "markdown",
   "id": "71d4d942-132b-4688-ab00-a4c8b9ef8427",
   "metadata": {},
   "source": [
    "## Deleting a User"
   ]
  },
  {
   "cell_type": "markdown",
   "id": "55fedae1-966e-4fd7-b4f2-3403b7b0c862",
   "metadata": {},
   "source": [
    "## View a Users Permissions"
   ]
  }
 ],
 "metadata": {
  "kernelspec": {
   "display_name": "Python 3 (ipykernel)",
   "language": "python",
   "name": "python3"
  },
  "language_info": {
   "codemirror_mode": {
    "name": "ipython",
    "version": 3
   },
   "file_extension": ".py",
   "mimetype": "text/x-python",
   "name": "python",
   "nbconvert_exporter": "python",
   "pygments_lexer": "ipython3",
   "version": "3.10.9"
  }
 },
 "nbformat": 4,
 "nbformat_minor": 5
}

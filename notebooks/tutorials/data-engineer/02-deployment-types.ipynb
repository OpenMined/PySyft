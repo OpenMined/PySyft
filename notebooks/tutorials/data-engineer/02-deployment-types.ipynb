{
 "cells": [
  {
   "cell_type": "markdown",
   "id": "c96e01f4-2002-4009-8911-7bc20cf27610",
   "metadata": {},
   "source": [
    "# Deployment Types"
   ]
  },
  {
   "cell_type": "markdown",
   "id": "d10df992-2ae3-4865-97bc-020f29c4382c",
   "metadata": {},
   "source": [
    "## Dev Python Domain"
   ]
  },
  {
   "cell_type": "markdown",
   "id": "5b9f0c3b-bf63-4b6d-90d7-1bbb102657a1",
   "metadata": {},
   "source": [
    "## Single Container / Enclave"
   ]
  },
  {
   "cell_type": "markdown",
   "id": "a893eca9-8dbb-45ab-8089-9227c4e64f20",
   "metadata": {},
   "source": [
    "## Full Container Stack"
   ]
  },
  {
   "cell_type": "markdown",
   "id": "297a4754-b582-4f42-b44a-8103466e3456",
   "metadata": {},
   "source": [
    "## VM Container Host"
   ]
  },
  {
   "cell_type": "markdown",
   "id": "2474d264-bb1c-4c49-b139-df579f6b59ca",
   "metadata": {},
   "source": [
    "## Gateway Nodes"
   ]
  },
  {
   "cell_type": "code",
   "execution_count": null,
   "id": "f889ca1e-4167-4a88-a442-58ff4308dea1",
   "metadata": {},
   "outputs": [],
   "source": []
  }
 ],
 "metadata": {
  "kernelspec": {
   "display_name": "Python 3 (ipykernel)",
   "language": "python",
   "name": "python3"
  },
  "language_info": {
   "codemirror_mode": {
    "name": "ipython",
    "version": 3
   },
   "file_extension": ".py",
   "mimetype": "text/x-python",
   "name": "python",
   "nbconvert_exporter": "python",
   "pygments_lexer": "ipython3",
   "version": "3.10.9"
  }
 },
 "nbformat": 4,
 "nbformat_minor": 5
}

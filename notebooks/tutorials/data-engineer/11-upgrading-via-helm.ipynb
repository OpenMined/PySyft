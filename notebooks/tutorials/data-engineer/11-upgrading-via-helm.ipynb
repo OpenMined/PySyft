{
 "cells": [
  {
   "cell_type": "markdown",
   "id": "1721a9b0",
   "metadata": {},
   "source": [
    "# Upgrading using Helm"
   ]
  },
  {
   "cell_type": "markdown",
   "id": "0005064b",
   "metadata": {},
   "source": [
    "## Add Helm Repo"
   ]
  },
  {
   "cell_type": "markdown",
   "id": "9f033b46",
   "metadata": {},
   "source": [
    "```bash\n",
    "helm repo add openmined https://openmined.github.io/PySyft/helm\n",
    "```"
   ]
  },
  {
   "cell_type": "markdown",
   "id": "b2593549",
   "metadata": {},
   "source": [
    "## Update Repo"
   ]
  },
  {
   "cell_type": "markdown",
   "id": "d2867f7b",
   "metadata": {},
   "source": [
    "```bash\n",
    "helm repo update openmined\n",
    "```"
   ]
  },
  {
   "cell_type": "markdown",
   "id": "6ef9e27a",
   "metadata": {},
   "source": [
    "## Search for available Helm Chart versions"
   ]
  },
  {
   "cell_type": "markdown",
   "id": "d7be9b10",
   "metadata": {},
   "source": [
    "### Search for available versions"
   ]
  },
  {
   "cell_type": "markdown",
   "id": "e2125e40",
   "metadata": {},
   "source": [
    "```bash\n",
    "helm search repo openmined/syft --versions --devel\n",
    "```"
   ]
  },
  {
   "cell_type": "markdown",
   "id": "883d95ab",
   "metadata": {},
   "source": [
    "### Set the target version"
   ]
  },
  {
   "cell_type": "markdown",
   "id": "5bd4c53f",
   "metadata": {},
   "source": [
    "```bash\n",
    "export TARGET_VERSION=\"\"\n",
    "```"
   ]
  },
  {
   "cell_type": "markdown",
   "id": "0454b547",
   "metadata": {},
   "source": [
    "## Get the current Helm release values (User Defined)"
   ]
  },
  {
   "cell_type": "markdown",
   "id": "08fb3bdc",
   "metadata": {},
   "source": [
    "Set the release name and namespace\n",
    "\n",
    "```bash\n",
    "export RELEASE_NAME=syft\n",
    "export NAMESPACE=syft\n",
    "```"
   ]
  },
  {
   "cell_type": "markdown",
   "id": "4852f636",
   "metadata": {},
   "source": [
    "```bash\n",
    "helm get values $RELEASE_NAME -n $NAMESPACE -o yaml > values.yaml\n",
    "```\n",
    "\n",
    "<br>\n",
    "\n",
    "Use this file in the argument to helm upgrade command, for example:\n",
    "\n",
    "\n",
    "`-f /home/user/values.yaml`\n",
    "\n",
    "\n",
    "Save the path to a variable:\n",
    "\n",
    "```bash\n",
    "export PATH_TO_VALUES=/home/user/values.yaml\n",
    "```"
   ]
  },
  {
   "cell_type": "markdown",
   "id": "ac4ae545",
   "metadata": {},
   "source": [
    "## Upgrade the Helm Chart"
   ]
  },
  {
   "cell_type": "markdown",
   "id": "6d61da79",
   "metadata": {},
   "source": [
    "### Find out the number of nodes in the cluster."
   ]
  },
  {
   "cell_type": "markdown",
   "id": "4e69562f",
   "metadata": {},
   "source": [
    "```bash\n",
    "kubectl describe sts $RELEASE_NAME --namespace $NAMESPACE | grep 'Replicas'\n",
    "```"
   ]
  },
  {
   "cell_type": "markdown",
   "id": "87b896dc",
   "metadata": {},
   "source": [
    "### Upgrade the Helm chart."
   ]
  },
  {
   "cell_type": "markdown",
   "id": "f5da0ac3",
   "metadata": {},
   "source": [
    "```bash\n",
    "helm upgrade $RELEASE_NAME openmined/syft \\\n",
    " --version $TARGET_VERSION \\\n",
    " -f $PATH_TO_VALUES \\\n",
    " --namespace $NAMESPACE\n",
    "```"
   ]
  }
 ],
 "metadata": {
  "kernelspec": {
   "display_name": "Python 3 (ipykernel)",
   "language": "python",
   "name": "python3"
  },
  "language_info": {
   "codemirror_mode": {
    "name": "ipython",
    "version": 3
   },
   "file_extension": ".py",
   "mimetype": "text/x-python",
   "name": "python",
   "nbconvert_exporter": "python",
   "pygments_lexer": "ipython3",
   "version": "3.9.7"
  },
  "toc": {
   "base_numbering": 1,
   "nav_menu": {},
   "number_sections": true,
   "sideBar": true,
   "skip_h1_title": false,
   "title_cell": "Table of Contents",
   "title_sidebar": "Contents",
   "toc_cell": false,
   "toc_position": {},
   "toc_section_display": true,
   "toc_window_display": false
  }
 },
 "nbformat": 4,
 "nbformat_minor": 5
}

{
 "cells": [
  {
   "cell_type": "markdown",
   "id": "35c21314-0eb7-442d-b664-94b0e3c5344a",
   "metadata": {},
   "source": [
    "# Deploy to AWS"
   ]
  },
  {
   "cell_type": "markdown",
   "id": "b533bea0-1631-4b79-bc7d-0b684eaeaa3d",
   "metadata": {},
   "source": [
    "## Installing CLI Tool"
   ]
  },
  {
   "cell_type": "markdown",
   "id": "d5de2b90-0e2c-4fb7-a390-11e95641251b",
   "metadata": {},
   "source": [
    "## Authorizing CLI Tool"
   ]
  },
  {
   "cell_type": "markdown",
   "id": "d9c8824f-80d3-4d71-ad93-2b39bb48fcd9",
   "metadata": {},
   "source": [
    "## Deploying a Domain"
   ]
  },
  {
   "cell_type": "markdown",
   "id": "ac802155-4fee-4e93-90c3-a723023751a4",
   "metadata": {},
   "source": [
    "## Checking Firewall Rules"
   ]
  },
  {
   "cell_type": "markdown",
   "id": "ba4885d0-2ecf-4afc-99dc-a4c249fc7a30",
   "metadata": {},
   "source": [
    "## Logging in via SSH"
   ]
  }
 ],
 "metadata": {
  "kernelspec": {
   "display_name": "Python 3 (ipykernel)",
   "language": "python",
   "name": "python3"
  },
  "language_info": {
   "codemirror_mode": {
    "name": "ipython",
    "version": 3
   },
   "file_extension": ".py",
   "mimetype": "text/x-python",
   "name": "python",
   "nbconvert_exporter": "python",
   "pygments_lexer": "ipython3",
   "version": "3.10.9"
  }
 },
 "nbformat": 4,
 "nbformat_minor": 5
}

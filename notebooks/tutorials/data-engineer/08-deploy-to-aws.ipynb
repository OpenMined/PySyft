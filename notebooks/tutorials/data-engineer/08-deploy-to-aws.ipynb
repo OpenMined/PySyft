{
 "cells": [
  {
   "cell_type": "markdown",
   "id": "35c21314-0eb7-442d-b664-94b0e3c5344a",
   "metadata": {},
   "source": [
    "# Deploy to AWS"
   ]
  },
  {
   "cell_type": "markdown",
   "id": "b533bea0-1631-4b79-bc7d-0b684eaeaa3d",
   "metadata": {},
   "source": [
    "## Installing CLI Tool"
   ]
  },
  {
   "attachments": {},
   "cell_type": "markdown",
   "id": "76af11ab",
   "metadata": {},
   "source": [
    "Please refer to the docs for installing the AWS CLI tool: https://docs.aws.amazon.com/cli/latest/userguide/getting-started-install.html. It has instructions for the different operating systems such as Mac, Windows and Linux"
   ]
  },
  {
   "cell_type": "markdown",
   "id": "d5de2b90-0e2c-4fb7-a390-11e95641251b",
   "metadata": {},
   "source": [
    "## Authorizing CLI Tool"
   ]
  },
  {
   "attachments": {},
   "cell_type": "markdown",
   "id": "ca435921",
   "metadata": {},
   "source": [
    "Please go through this for setting up the CLI: https://docs.aws.amazon.com/cli/latest/userguide/getting-started-quickstart.html. \n",
    "\n",
    "A common/quick way is to use to authenticate using IAM user credentials. Please refer to this doc for the steps involved: https://docs.aws.amazon.com/cli/latest/userguide/cli-authentication-user.html"
   ]
  },
  {
   "cell_type": "markdown",
   "id": "d9c8824f-80d3-4d71-ad93-2b39bb48fcd9",
   "metadata": {},
   "source": [
    "## Deploying a Domain"
   ]
  },
  {
   "attachments": {},
   "cell_type": "markdown",
   "id": "655e2ab4",
   "metadata": {},
   "source": [
    "Use `hagrid launch {domain_name} domain to aws [--no-provision]` command to launch your domain to an AWS EC2 instance. The --no-provision flag is optional and can be used if you do not want to provision all the resources using ansible (If you're not familiar with this, just ignore this flag) "
   ]
  },
  {
   "attachments": {},
   "cell_type": "markdown",
   "id": "732dc6e9",
   "metadata": {},
   "source": [
    "You would be prompted with a series of questions.\n",
    "\n",
    "Please specify the region where you want your EC2 instance to be deployed.\n",
    "\n",
    "Please specify a name for the security group to be created. A security group is used to control the inbound and outbound traffic to/from the EC2 instance. Please check https://docs.aws.amazon.com/AWSEC2/latest/UserGuide/ec2-security-groups.html for more information.\n",
    "Then specify the IP addresses to be white-listed for incoming traffic to the EC2 instance. Please ensure that you enter it in CIDR notation. The default is 0.0.0.0/0 which means that all inbound traffic is allowed.\n",
    "On these IP addresses, we open the following ports: 80, 443, 22.\n",
    "\n",
    "Then, please specify the EC2 instance type. By default, it is t2.xlarge.\n",
    "\n",
    "We need an EC2 key pair in order to SSH into the instance. If you already have a key-pair, please specify the name and the path where it is stored. Otherwise, if you do not have one, we will create one with the given name and store it in the path you specify. (Note: creating a keypair might not work properly with windows powershell).\n",
    "\n",
    "\n",
    "Then specify the repo and branch for the source code. You can leave it as the default.\n",
    "\n",
    "\n",
    "\n",
    "\n"
   ]
  },
  {
   "cell_type": "markdown",
   "id": "ac802155-4fee-4e93-90c3-a723023751a4",
   "metadata": {},
   "source": [
    "## Checking Firewall Rules"
   ]
  },
  {
   "attachments": {},
   "cell_type": "markdown",
   "id": "04b6bc2e",
   "metadata": {},
   "source": [
    "You could go to the AWS console, and navigate to the region where you deployed your instance. Search for EC2 and go over to the Security Groups tab (or directly search for Security Group). In the list of security groups, identify the one you created using the name. If you go inside, you would see the inbound and outbound rules."
   ]
  },
  {
   "cell_type": "markdown",
   "id": "ba4885d0-2ecf-4afc-99dc-a4c249fc7a30",
   "metadata": {},
   "source": [
    "## Logging in via SSH"
   ]
  },
  {
   "attachments": {},
   "cell_type": "markdown",
   "id": "220aa20b",
   "metadata": {},
   "source": [
    "Please refer to the steps in the doc to connect to your EC2 instance using SSH: https://docs.aws.amazon.com/AWSEC2/latest/UserGuide/AccessingInstancesLinux.html"
   ]
  },
  {
   "cell_type": "markdown",
   "id": "e7b529ef",
   "metadata": {},
   "source": []
  }
 ],
 "metadata": {
  "kernelspec": {
   "display_name": "Python 3 (ipykernel)",
   "language": "python",
   "name": "python3"
  },
  "language_info": {
   "codemirror_mode": {
    "name": "ipython",
    "version": 3
   },
   "file_extension": ".py",
   "mimetype": "text/x-python",
   "name": "python",
   "nbconvert_exporter": "python",
   "pygments_lexer": "ipython3",
   "version": "3.10.9"
  }
 },
 "nbformat": 4,
 "nbformat_minor": 5
}

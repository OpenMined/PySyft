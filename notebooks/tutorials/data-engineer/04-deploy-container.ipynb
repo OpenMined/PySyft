{
 "cells": [
  {
   "cell_type": "markdown",
   "id": "2c3664b0-1ace-4d95-a730-2616e95a5c6c",
   "metadata": {},
   "source": [
    "# Deploying a Container"
   ]
  },
  {
   "cell_type": "markdown",
   "id": "c33827d2-6e46-4c97-9dae-871fd2158806",
   "metadata": {},
   "source": [
    "## Docker 1-liner"
   ]
  },
  {
   "cell_type": "markdown",
   "id": "546316d4-a19d-4c8d-a91c-7d350ac946f4",
   "metadata": {},
   "source": [
    "## From HAGrid"
   ]
  },
  {
   "cell_type": "markdown",
   "id": "a1d2e4fc-895c-46ec-80fe-da03b041b296",
   "metadata": {},
   "source": [
    "## Volume Mounts"
   ]
  },
  {
   "cell_type": "code",
   "execution_count": null,
   "id": "5a58dbb6-3ce7-4213-8cf7-22c47e36a828",
   "metadata": {},
   "outputs": [],
   "source": []
  }
 ],
 "metadata": {
  "kernelspec": {
   "display_name": "Python 3 (ipykernel)",
   "language": "python",
   "name": "python3"
  },
  "language_info": {
   "codemirror_mode": {
    "name": "ipython",
    "version": 3
   },
   "file_extension": ".py",
   "mimetype": "text/x-python",
   "name": "python",
   "nbconvert_exporter": "python",
   "pygments_lexer": "ipython3",
   "version": "3.10.9"
  }
 },
 "nbformat": 4,
 "nbformat_minor": 5
}

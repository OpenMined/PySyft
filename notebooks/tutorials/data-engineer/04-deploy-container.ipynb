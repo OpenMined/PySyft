{
 "cells": [
  {
   "attachments": {},
   "cell_type": "markdown",
   "id": "2c3664b0-1ace-4d95-a730-2616e95a5c6c",
   "metadata": {},
   "source": [
    "# Deploying a Container"
   ]
  },
  {
   "attachments": {},
   "cell_type": "markdown",
   "id": "c33827d2-6e46-4c97-9dae-871fd2158806",
   "metadata": {},
   "source": [
    "## Docker 1-liner"
   ]
  },
  {
   "attachments": {},
   "cell_type": "markdown",
   "id": "e32d6f2a-7c89-44e1-8de8-7acad975238c",
   "metadata": {},
   "source": [
    "```\n",
    "$ docker run -it -e DEFAULT_ROOT_PASSWORD=secret -e PORT=8080 -p 8080:8080 openmined/grid-enclave:0.8.1\n",
    "```"
   ]
  },
  {
   "attachments": {},
   "cell_type": "markdown",
   "id": "e3de7d47-fd42-4a31-9ffe-8580d14c5a99",
   "metadata": {},
   "source": [
    "## Azure CLI"
   ]
  },
  {
   "attachments": {},
   "cell_type": "markdown",
   "id": "79484c2e-96ab-4f82-a988-4be790a67662",
   "metadata": {},
   "source": [
    "$ az group create --name test-container --location eastus"
   ]
  },
  {
   "attachments": {},
   "cell_type": "markdown",
   "id": "09060d9a-b238-4389-9192-ba592e48ca86",
   "metadata": {},
   "source": [
    "$ az container create --resource-group test-container --name syft --image openmined/grid-enclave:0.8.1 --dns-name-label syft-demo --ports 80 --environment-variables PORT=80 DEFAULT_ROOT_PASSWORD=secret"
   ]
  },
  {
   "attachments": {},
   "cell_type": "markdown",
   "id": "546316d4-a19d-4c8d-a91c-7d350ac946f4",
   "metadata": {},
   "source": [
    "## From HAGrid"
   ]
  },
  {
   "attachments": {},
   "cell_type": "markdown",
   "id": "a1d2e4fc-895c-46ec-80fe-da03b041b296",
   "metadata": {},
   "source": [
    "## Volume Mounts"
   ]
  },
  {
   "cell_type": "code",
   "execution_count": null,
   "id": "5a58dbb6-3ce7-4213-8cf7-22c47e36a828",
   "metadata": {},
   "outputs": [],
   "source": []
  }
 ],
 "metadata": {
  "kernelspec": {
   "display_name": "Python 3 (ipykernel)",
   "language": "python",
   "name": "python3"
  },
  "language_info": {
   "codemirror_mode": {
    "name": "ipython",
    "version": 3
   },
   "file_extension": ".py",
   "mimetype": "text/x-python",
   "name": "python",
   "nbconvert_exporter": "python",
   "pygments_lexer": "ipython3",
   "version": "3.10.9"
  }
 },
 "nbformat": 4,
 "nbformat_minor": 5
}

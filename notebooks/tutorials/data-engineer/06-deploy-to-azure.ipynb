{
 "cells": [
  {
   "attachments": {},
   "cell_type": "markdown",
   "id": "8c2e93b6-cbbf-4654-9270-8801271d053f",
   "metadata": {},
   "source": [
    "# Deploy to Azure"
   ]
  },
  {
   "attachments": {},
   "cell_type": "markdown",
   "id": "070eb6cc-44a3-48b4-bac2-20394334d06d",
   "metadata": {},
   "source": [
    "## Installing CLI Tool"
   ]
  },
  {
   "attachments": {},
   "cell_type": "markdown",
   "id": "eae531c8-a187-4383-8481-b54a03eff42f",
   "metadata": {},
   "source": [
    "## Authorizing CLI Tool"
   ]
  },
  {
   "attachments": {},
   "cell_type": "markdown",
   "id": "f2a837dd-7f34-4fb6-ba70-e7633eeee4cf",
   "metadata": {},
   "source": [
    "## Deploying a Single Container"
   ]
  },
  {
   "attachments": {},
   "cell_type": "markdown",
   "id": "25da4510-d796-48a7-8c43-4ee3fa708fd3",
   "metadata": {},
   "source": [
    "$ az group create --name test-container --location eastus"
   ]
  },
  {
   "attachments": {},
   "cell_type": "markdown",
   "id": "cfc12ee0-7bbf-42c6-b1c4-0951b198f84a",
   "metadata": {},
   "source": [
    "$ az container create --resource-group test-container --name syft --image openmined/grid-enclave:0.8.2.b0 --dns-name-label syft-demo --ports 80 --environment-variables PORT=80 DEFAULT_ROOT_PASSWORD=secret"
   ]
  },
  {
   "attachments": {},
   "cell_type": "markdown",
   "id": "86e0f17f-5fd1-4224-89ed-d23e4f89281b",
   "metadata": {},
   "source": [
    "## Deploying a Domain"
   ]
  },
  {
   "attachments": {},
   "cell_type": "markdown",
   "id": "82ac77cd-ff2c-4fee-9dfa-096815414961",
   "metadata": {},
   "source": [
    "## Checking Firewall Rules"
   ]
  },
  {
   "attachments": {},
   "cell_type": "markdown",
   "id": "0b3facb3-d6e1-4912-9107-591448a351c5",
   "metadata": {},
   "source": [
    "## Logging in via SSH"
   ]
  },
  {
   "cell_type": "code",
   "execution_count": null,
   "id": "0b99d6a7-5f7b-45db-b794-5500a7ae88c4",
   "metadata": {},
   "outputs": [],
   "source": []
  }
 ],
 "metadata": {
  "kernelspec": {
   "display_name": "Python 3 (ipykernel)",
   "language": "python",
   "name": "python3"
  },
  "language_info": {
   "codemirror_mode": {
    "name": "ipython",
    "version": 3
   },
   "file_extension": ".py",
   "mimetype": "text/x-python",
   "name": "python",
   "nbconvert_exporter": "python",
   "pygments_lexer": "ipython3",
   "version": "3.10.9"
  }
 },
 "nbformat": 4,
 "nbformat_minor": 5
}

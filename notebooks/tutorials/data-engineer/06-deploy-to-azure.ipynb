{
 "cells": [
  {
   "cell_type": "markdown",
   "id": "8c2e93b6-cbbf-4654-9270-8801271d053f",
   "metadata": {},
   "source": [
    "# Deploy to Azure"
   ]
  },
  {
   "cell_type": "markdown",
   "id": "070eb6cc-44a3-48b4-bac2-20394334d06d",
   "metadata": {},
   "source": [
    "## Installing CLI Tool"
   ]
  },
  {
   "cell_type": "markdown",
   "id": "eae531c8-a187-4383-8481-b54a03eff42f",
   "metadata": {},
   "source": [
    "## Authorizing CLI Tool"
   ]
  },
  {
   "cell_type": "markdown",
   "id": "86e0f17f-5fd1-4224-89ed-d23e4f89281b",
   "metadata": {},
   "source": [
    "## Deploying a Domain"
   ]
  },
  {
   "cell_type": "markdown",
   "id": "82ac77cd-ff2c-4fee-9dfa-096815414961",
   "metadata": {},
   "source": [
    "## Checking Firewall Rules"
   ]
  },
  {
   "cell_type": "markdown",
   "id": "0b3facb3-d6e1-4912-9107-591448a351c5",
   "metadata": {},
   "source": [
    "## Logging in via SSH"
   ]
  },
  {
   "cell_type": "code",
   "execution_count": null,
   "id": "0b99d6a7-5f7b-45db-b794-5500a7ae88c4",
   "metadata": {},
   "outputs": [],
   "source": []
  }
 ],
 "metadata": {
  "kernelspec": {
   "display_name": "Python 3 (ipykernel)",
   "language": "python",
   "name": "python3"
  },
  "language_info": {
   "codemirror_mode": {
    "name": "ipython",
    "version": 3
   },
   "file_extension": ".py",
   "mimetype": "text/x-python",
   "name": "python",
   "nbconvert_exporter": "python",
   "pygments_lexer": "ipython3",
   "version": "3.10.9"
  }
 },
 "nbformat": 4,
 "nbformat_minor": 5
}

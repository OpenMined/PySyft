{
 "cells": [
  {
   "cell_type": "markdown",
   "id": "d7553746-e5a0-4b98-9186-adac63b1d679",
   "metadata": {},
   "source": [
    "# Setting up Dev Mode"
   ]
  },
  {
   "cell_type": "markdown",
   "id": "ef8ac908",
   "metadata": {},
   "source": [
    "If you would like to work on the PySyft codebase, you can set up PySyft in dev mode. You will need to clone the repository, install syft locally and run the code you installed"
   ]
  },
  {
   "cell_type": "markdown",
   "id": "66e0ff70-575d-48e8-908b-bf7d8d3c223d",
   "metadata": {},
   "source": [
    "## Cloning the Repo"
   ]
  },
  {
   "cell_type": "markdown",
   "id": "e7352bd1",
   "metadata": {},
   "source": [
    "First, we start by cloning the repo"
   ]
  },
  {
   "cell_type": "markdown",
   "id": "d1fcc8f3",
   "metadata": {},
   "source": [
    "If you have an SSH key enabled in your github account, use"
   ]
  },
  {
   "cell_type": "markdown",
   "id": "5f8f41c3",
   "metadata": {},
   "source": [
    "`git clone git@github.com:OpenMined/PySyft.git`"
   ]
  },
  {
   "cell_type": "markdown",
   "id": "869f785e",
   "metadata": {},
   "source": [
    "Otherwise use"
   ]
  },
  {
   "cell_type": "markdown",
   "id": "59891521",
   "metadata": {},
   "source": [
    "`git clone https://github.com/OpenMined/PySyft.git`"
   ]
  },
  {
   "cell_type": "markdown",
   "id": "a1b14195",
   "metadata": {},
   "source": [
    "## Installing Syft"
   ]
  },
  {
   "cell_type": "markdown",
   "id": "e5ff9406",
   "metadata": {},
   "source": [
    "To install Syft `cd` into the directory in which you cloned PySyft and type\n",
    "\n",
    "```bash\n",
    "pip install -e packages/syft\n",
    "```\n",
    "\n",
    "This installs `syft` in editable mode, such any change in code are reflected in your environment."
   ]
  },
  {
   "cell_type": "markdown",
   "id": "d72c5e4e-7a3e-40c0-8e90-fd00bf577213",
   "metadata": {},
   "source": [
    "## Running Tox Tests"
   ]
  },
  {
   "cell_type": "markdown",
   "id": "3b1d9968",
   "metadata": {},
   "source": [
    "[Tox](https://tox.wiki/en/latest/) is a project that \"aims to automate and standardize testing in Python\". For PySyft development, it is used to simplify testing and setting up several environment in a way that works for every developer working on PySyft. You can list the commands that you can execute using `tox-l`, which will give a result similar to this"
   ]
  },
  {
   "cell_type": "markdown",
   "id": "39dc85fc",
   "metadata": {},
   "source": [
    "```\n",
    "> tox -l\n",
    "\n",
    "hagrid.publish\n",
    "lint\n",
    "stack.test.integration\n",
    "syft.docs\n",
    "syft.jupyter\n",
    "syft.publish\n",
    "syft.test.security\n",
    "syft.test.unit\n",
    "syft.test.notebook\n",
    "stack.test.notebook\n",
    "stack.test.integration.enclave.oblv\n",
    "stack.test.vm\n",
    "frontend.test.unit\n",
    "frontend.test.e2e\n",
    "frontend.generate.types\n",
    "```"
   ]
  },
  {
   "cell_type": "markdown",
   "id": "2526252b",
   "metadata": {},
   "source": [
    "This shows us the list of environments that are specified for PySyft. To see what these environments do, have a look at the `tox.ini` file in the main PySyft repo."
   ]
  },
  {
   "cell_type": "markdown",
   "id": "706f00ba",
   "metadata": {},
   "source": [
    "You can run an environment using `tox -e <env_name>`. For instance, to run the unit tests, run"
   ]
  },
  {
   "cell_type": "markdown",
   "id": "f5a38a45",
   "metadata": {},
   "source": [
    "```\n",
    "tox -e syft.test.unit\n",
    "```"
   ]
  },
  {
   "cell_type": "markdown",
   "id": "eb92a253",
   "metadata": {},
   "source": [
    "This tox environment is relatively simple, and just uses pytest to run all the tests for the syft packages. However, some environments are more complicated, and run a series of commands that start multiple processes, docker containers and set up a lot of infrastructure before running the tests. The good thing is that with tox, you dont need to worry about that, you can just run the commands."
   ]
  },
  {
   "cell_type": "markdown",
   "id": "f5441418-1436-43cd-b1c3-d93966f60ffc",
   "metadata": {},
   "source": [
    "## Using Jupyter Environment"
   ]
  },
  {
   "cell_type": "markdown",
   "id": "482b4614",
   "metadata": {},
   "source": [
    "Pysyft has a tox command to set up a local jupyter notebook environment, which is useful for development."
   ]
  },
  {
   "cell_type": "markdown",
   "id": "18ad2a7d",
   "metadata": {},
   "source": [
    "```\n",
    "tox -e syft.jupyter\n",
    "```"
   ]
  },
  {
   "cell_type": "markdown",
   "id": "f6fbbe9b",
   "metadata": {},
   "source": [
    "PySyft makes extensive use of jupyter notebook, and a lot of developers use it for experiments when writing code. I can be useful to setup a local gitignore (only for you, not pushed to git) to have a playground where you can experiment, without needing to push files to git, or change the .gitignore. You can do this by adding a folder to your `.git/info/exclude` file, which works similar to the `.gitignore` file, e.g. if we add\n",
    "```\n",
    "notebooks/experimental/* \n",
    "```\n",
    "to `.git/info/exclude`, git wont sync the changes to the `experimental` folder to github"
   ]
  },
  {
   "cell_type": "markdown",
   "id": "518f1fa4-8d19-47f3-b6a4-725ec43b3300",
   "metadata": {},
   "source": [
    "## Working with Python Domain"
   ]
  },
  {
   "cell_type": "markdown",
   "id": "c2bc7af1",
   "metadata": {},
   "source": [
    "PySyft enables a network of computers to connect to each other and do privacy preserving data analysis. The Nodes in the network that hold some data are called `Domains`. When we develop with PySyft, it is very common to start a domain as the first step. `PySyft` makes it very easy to develop against a domain in a notebook by providing an interface (`sy.orchestra`) that allows you to start a domain with a webserver in a notebook in the background, which is a lightweight version of a Domain that would be used in production. You can specify options such as what kind of database you are using, whether you want to use networking and how many processes you want to use. You can launch a Domain by simply executing:"
   ]
  },
  {
   "cell_type": "code",
   "execution_count": null,
   "id": "3e54e427",
   "metadata": {},
   "outputs": [],
   "source": [
    "import syft as sy;"
   ]
  },
  {
   "cell_type": "code",
   "execution_count": null,
   "id": "6165cbad",
   "metadata": {},
   "outputs": [],
   "source": [
    "node = sy.orchestra.launch(name=\"eager-test-domain-1\", port=\"auto\", reset=True, dev_mode=True);"
   ]
  },
  {
   "cell_type": "markdown",
   "id": "ad85f332",
   "metadata": {},
   "source": [
    "If we dont need a webserver (for development this is true in many cases), we can omit the port and use. \n",
    "```\n",
    "node = sy.orchestra.launch(name=\"eager-test-domain-1\", dev_mode=True, reset=True)\n",
    "```"
   ]
  },
  {
   "cell_type": "markdown",
   "id": "44c1dabf",
   "metadata": {},
   "source": [
    "**One of the benefits of not using a port is that you can use a debugger and set breakpoints within api calls. This makes debugging way faster in many cases**"
   ]
  },
  {
   "cell_type": "markdown",
   "id": "32cdb481",
   "metadata": {},
   "source": [
    "Now, we are ready to start using the domain. The domain comes with standard login credentials for the admin (just for development)"
   ]
  },
  {
   "cell_type": "code",
   "execution_count": null,
   "id": "d8dc4000",
   "metadata": {},
   "outputs": [],
   "source": [
    "client = node.login(email=\"info@openmined.org\", password=\"changethis\")"
   ]
  },
  {
   "cell_type": "markdown",
   "id": "7ac4a383",
   "metadata": {},
   "source": [
    "Once you are logged in, you are ready to start using the domain, for instance for creating a dataset (this one is empty, just as a example)."
   ]
  },
  {
   "cell_type": "code",
   "execution_count": null,
   "id": "6ffb7cbd",
   "metadata": {},
   "outputs": [],
   "source": [
    "dataset = sy.Dataset(name=\"my dataset\",asset_list=[])\n",
    "client.upload_dataset(dataset)"
   ]
  },
  {
   "cell_type": "markdown",
   "id": "c656ba31",
   "metadata": {},
   "source": [
    "Lastly to stop or terminate your Domain, we can execute the following command:"
   ]
  },
  {
   "cell_type": "code",
   "execution_count": null,
   "id": "34e92765",
   "metadata": {},
   "outputs": [],
   "source": [
    "node.land()"
   ]
  }
 ],
 "metadata": {
  "kernelspec": {
   "display_name": "Python 3 (ipykernel)",
   "language": "python",
   "name": "python3"
  },
  "language_info": {
   "codemirror_mode": {
    "name": "ipython",
    "version": 3
   },
   "file_extension": ".py",
   "mimetype": "text/x-python",
   "name": "python",
   "nbconvert_exporter": "python",
   "pygments_lexer": "ipython3",
   "version": "3.9.7"
  },
  "toc": {
   "base_numbering": 1,
   "nav_menu": {},
   "number_sections": true,
   "sideBar": true,
   "skip_h1_title": false,
   "title_cell": "Table of Contents",
   "title_sidebar": "Contents",
   "toc_cell": false,
   "toc_position": {},
   "toc_section_display": true,
   "toc_window_display": true
  }
 },
 "nbformat": 4,
 "nbformat_minor": 5
}

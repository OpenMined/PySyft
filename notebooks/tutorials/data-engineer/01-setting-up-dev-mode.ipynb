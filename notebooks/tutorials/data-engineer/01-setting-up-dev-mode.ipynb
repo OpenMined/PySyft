{
 "cells": [
  {
   "cell_type": "markdown",
   "id": "d7553746-e5a0-4b98-9186-adac63b1d679",
   "metadata": {},
   "source": [
    "# Setting up Dev Mode"
   ]
  },
  {
   "cell_type": "markdown",
   "id": "66e0ff70-575d-48e8-908b-bf7d8d3c223d",
   "metadata": {},
   "source": [
    "## Cloning the Repo"
   ]
  },
  {
   "cell_type": "markdown",
   "id": "d72c5e4e-7a3e-40c0-8e90-fd00bf577213",
   "metadata": {},
   "source": [
    "## Running Tox Tests"
   ]
  },
  {
   "cell_type": "markdown",
   "id": "f5441418-1436-43cd-b1c3-d93966f60ffc",
   "metadata": {},
   "source": [
    "## Using Jupyter Environment"
   ]
  },
  {
   "cell_type": "markdown",
   "id": "518f1fa4-8d19-47f3-b6a4-725ec43b3300",
   "metadata": {},
   "source": [
    "## Working with Python Domain"
   ]
  }
 ],
 "metadata": {
  "kernelspec": {
   "display_name": "Python 3 (ipykernel)",
   "language": "python",
   "name": "python3"
  },
  "language_info": {
   "codemirror_mode": {
    "name": "ipython",
    "version": 3
   },
   "file_extension": ".py",
   "mimetype": "text/x-python",
   "name": "python",
   "nbconvert_exporter": "python",
   "pygments_lexer": "ipython3",
   "version": "3.10.9"
  }
 },
 "nbformat": 4,
 "nbformat_minor": 5
}

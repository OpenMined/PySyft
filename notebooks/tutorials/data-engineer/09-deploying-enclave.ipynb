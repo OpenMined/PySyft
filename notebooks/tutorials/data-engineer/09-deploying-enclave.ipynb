{
 "cells": [
  {
   "cell_type": "markdown",
   "id": "b5dbac26-1ce4-4122-8880-19d2838bca31",
   "metadata": {},
   "source": [
    "# Deploying an Enclave"
   ]
  },
  {
   "cell_type": "code",
   "execution_count": null,
   "id": "c89fdb1f-9d0e-4e7e-bfaf-e1de50889776",
   "metadata": {},
   "outputs": [],
   "source": []
  }
 ],
 "metadata": {
  "kernelspec": {
   "display_name": "Python 3 (ipykernel)",
   "language": "python",
   "name": "python3"
  },
  "language_info": {
   "codemirror_mode": {
    "name": "ipython",
    "version": 3
   },
   "file_extension": ".py",
   "mimetype": "text/x-python",
   "name": "python",
   "nbconvert_exporter": "python",
   "pygments_lexer": "ipython3",
   "version": "3.10.9"
  }
 },
 "nbformat": 4,
 "nbformat_minor": 5
}

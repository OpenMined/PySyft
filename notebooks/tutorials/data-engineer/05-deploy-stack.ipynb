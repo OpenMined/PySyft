{
 "cells": [
  {
   "cell_type": "markdown",
   "id": "bca5633a-86f0-4bf9-bd37-68ff22cbdfdc",
   "metadata": {},
   "source": [
    "# Deploy the Stack"
   ]
  },
  {
   "cell_type": "markdown",
   "id": "0e5ea90c-88a1-4356-951d-b3b3f6dbf3c6",
   "metadata": {},
   "source": [
    "## Docker Compose"
   ]
  },
  {
   "cell_type": "markdown",
   "id": "9981423d-74f4-4007-839d-9e16d246298d",
   "metadata": {},
   "source": [
    "## HAGrid"
   ]
  },
  {
   "cell_type": "markdown",
   "id": "fef547e8-56ed-4eee-9e07-835dd0ccbf54",
   "metadata": {},
   "source": [
    "## Build Source"
   ]
  },
  {
   "cell_type": "markdown",
   "id": "9699a9d5-36e7-4c30-a4ea-88283800d9b6",
   "metadata": {},
   "source": [
    "## Volume Mounts"
   ]
  },
  {
   "cell_type": "markdown",
   "id": "1e747bf3-7b92-4e76-baff-2d69db26bf65",
   "metadata": {},
   "source": [
    "## Docker Networks"
   ]
  },
  {
   "cell_type": "code",
   "execution_count": null,
   "id": "57838ae4-0928-4c9f-a075-18858450551d",
   "metadata": {},
   "outputs": [],
   "source": []
  }
 ],
 "metadata": {
  "kernelspec": {
   "display_name": "Python 3 (ipykernel)",
   "language": "python",
   "name": "python3"
  },
  "language_info": {
   "codemirror_mode": {
    "name": "ipython",
    "version": 3
   },
   "file_extension": ".py",
   "mimetype": "text/x-python",
   "name": "python",
   "nbconvert_exporter": "python",
   "pygments_lexer": "ipython3",
   "version": "3.10.9"
  }
 },
 "nbformat": 4,
 "nbformat_minor": 5
}

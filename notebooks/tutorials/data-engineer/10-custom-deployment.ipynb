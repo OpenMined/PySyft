{
 "cells": [
  {
   "cell_type": "markdown",
   "id": "e5b0833e-001f-4c75-82ca-3f52894ccfed",
   "metadata": {},
   "source": [
    "# Custom Deployment"
   ]
  },
  {
   "cell_type": "markdown",
   "id": "9e26de1f-27a7-4be3-b65a-07353b7e6ba7",
   "metadata": {},
   "source": [
    "## What you need"
   ]
  },
  {
   "cell_type": "markdown",
   "id": "39cec2f4-2ddf-44f9-b907-92fad74c65a1",
   "metadata": {},
   "source": [
    "### Container Engine"
   ]
  },
  {
   "cell_type": "markdown",
   "id": "1bcc297d-9ec5-45af-aa34-e2dd4daed23d",
   "metadata": {},
   "source": [
    "### File Mounts"
   ]
  },
  {
   "cell_type": "markdown",
   "id": "1a7162c9-3514-41ca-9747-3b693516e25d",
   "metadata": {},
   "source": [
    "### Network Access"
   ]
  },
  {
   "cell_type": "markdown",
   "id": "e59cceed-33f2-449a-b4ab-2d3c3275dbdc",
   "metadata": {},
   "source": [
    "### Python Client"
   ]
  },
  {
   "cell_type": "markdown",
   "id": "a93d18d7-1622-4fed-b64a-4aad19e5bf8b",
   "metadata": {},
   "source": [
    "### Red Hat and Podman"
   ]
  },
  {
   "cell_type": "markdown",
   "id": "98d76beb-ebde-4b41-ab2c-002e39457304",
   "metadata": {},
   "source": [
    "### Kubernetes"
   ]
  },
  {
   "cell_type": "code",
   "execution_count": null,
   "id": "44a0b161-6264-4ca5-baa6-ca248a9f64f2",
   "metadata": {},
   "outputs": [],
   "source": []
  }
 ],
 "metadata": {
  "kernelspec": {
   "display_name": "Python 3 (ipykernel)",
   "language": "python",
   "name": "python3"
  },
  "language_info": {
   "codemirror_mode": {
    "name": "ipython",
    "version": 3
   },
   "file_extension": ".py",
   "mimetype": "text/x-python",
   "name": "python",
   "nbconvert_exporter": "python",
   "pygments_lexer": "ipython3",
   "version": "3.10.9"
  }
 },
 "nbformat": 4,
 "nbformat_minor": 5
}

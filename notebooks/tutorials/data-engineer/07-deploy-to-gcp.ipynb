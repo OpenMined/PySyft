{
 "cells": [
  {
   "cell_type": "markdown",
   "id": "b54ce1dc-191e-4d5e-a48a-c9e4ebe524ed",
   "metadata": {},
   "source": [
    "# Deploy to Google Cloud Platform (GCP)"
   ]
  },
  {
   "cell_type": "markdown",
   "id": "65bc13dd-870e-4993-b98d-d6aaff3f7ff7",
   "metadata": {},
   "source": [
    "## Installing CLI Tool"
   ]
  },
  {
   "cell_type": "markdown",
   "id": "779e87d1-56b5-4cee-ab63-85c098c7dbef",
   "metadata": {},
   "source": [
    "## Authorizing CLI Tool"
   ]
  },
  {
   "cell_type": "markdown",
   "id": "1257bf97-77c8-4963-8c10-3a671d549977",
   "metadata": {},
   "source": [
    "## Deploying a Domain"
   ]
  },
  {
   "cell_type": "markdown",
   "id": "241e327d-78d1-437a-aaa2-724ec901333d",
   "metadata": {},
   "source": [
    "## Checking Firewall Rules"
   ]
  },
  {
   "cell_type": "markdown",
   "id": "203922c7-067b-49c7-9759-e2de703502f2",
   "metadata": {},
   "source": [
    "## Logging in via SSH"
   ]
  }
 ],
 "metadata": {
  "kernelspec": {
   "display_name": "Python 3 (ipykernel)",
   "language": "python",
   "name": "python3"
  },
  "language_info": {
   "codemirror_mode": {
    "name": "ipython",
    "version": 3
   },
   "file_extension": ".py",
   "mimetype": "text/x-python",
   "name": "python",
   "nbconvert_exporter": "python",
   "pygments_lexer": "ipython3",
   "version": "3.10.9"
  }
 },
 "nbformat": 4,
 "nbformat_minor": 5
}

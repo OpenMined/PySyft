{
 "cells": [
  {
   "cell_type": "markdown",
   "id": "74798143-f0e3-445b-9ea6-0b4ffc0a5183",
   "metadata": {},
   "source": [
    "# HAGrid"
   ]
  },
  {
   "cell_type": "markdown",
   "id": "c273d47c-1f43-4867-a5b0-a77f655a1776",
   "metadata": {},
   "source": [
    "## Installing HAGrid"
   ]
  },
  {
   "cell_type": "markdown",
   "id": "da764367-605f-4eb0-8349-026528be0ee4",
   "metadata": {},
   "source": [
    "## Python PATH"
   ]
  },
  {
   "cell_type": "markdown",
   "id": "8691f75a-c292-44ce-9336-cc6d58fc1580",
   "metadata": {},
   "source": [
    "## Debugging HAGrid"
   ]
  },
  {
   "cell_type": "markdown",
   "id": "ec754c54-1875-4e68-a01c-c19110ac3dda",
   "metadata": {},
   "source": [
    "## Ansible and Windows"
   ]
  },
  {
   "cell_type": "code",
   "execution_count": null,
   "id": "37cc9bf7-7e14-4de7-a9dd-4dba1092791b",
   "metadata": {},
   "outputs": [],
   "source": []
  }
 ],
 "metadata": {
  "kernelspec": {
   "display_name": "Python 3 (ipykernel)",
   "language": "python",
   "name": "python3"
  },
  "language_info": {
   "codemirror_mode": {
    "name": "ipython",
    "version": 3
   },
   "file_extension": ".py",
   "mimetype": "text/x-python",
   "name": "python",
   "nbconvert_exporter": "python",
   "pygments_lexer": "ipython3",
   "version": "3.10.9"
  }
 },
 "nbformat": 4,
 "nbformat_minor": 5
}

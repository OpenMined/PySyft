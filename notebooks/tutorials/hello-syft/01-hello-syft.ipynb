{
 "cells": [
  {
   "cell_type": "markdown",
   "id": "fab13e7a-028f-4c84-9f4f-bd16bce1fe98",
   "metadata": {
    "tags": []
   },
   "source": [
    "# Hello Syft"
   ]
  },
  {
   "cell_type": "code",
   "execution_count": null,
   "id": "b3bbffe1-b5f5-43f4-8231-87c4007c7822",
   "metadata": {
    "tags": []
   },
   "outputs": [],
   "source": [
    "SYFT_VERSION = \">=0.8.1b0,<0.9\"\n",
    "package_string = f'\"syft{SYFT_VERSION}\"'\n",
    "%pip install {package_string} -f https://whls.blob.core.windows.net/unstable/index.html"
   ]
  },
  {
   "cell_type": "code",
   "execution_count": null,
   "id": "a6a7723a-295f-43f6-a5cc-717119f21b9b",
   "metadata": {
    "tags": []
   },
   "outputs": [],
   "source": [
    "import syft as sy\n",
    "sy.requires(SYFT_VERSION)"
   ]
  },
  {
   "cell_type": "code",
   "execution_count": null,
   "id": "3a906c2a-1df7-43c3-a11a-295b8fd39882",
   "metadata": {
    "tags": []
   },
   "outputs": [],
   "source": [
    "# datasets = sy.search(\"x\")\n",
    "# # Exception: You are running syft==0.8.1-beta.2 but hopeful_bach node requires 0.8.0-beta.0"
   ]
  },
  {
   "cell_type": "code",
   "execution_count": null,
   "id": "c9844bb4-5bfd-4426-9d06-2c1029db1df2",
   "metadata": {
    "tags": []
   },
   "outputs": [],
   "source": [
    "# asset = datasets[0].assets"
   ]
  },
  {
   "cell_type": "code",
   "execution_count": null,
   "id": "fd83bcb4-3e93-45a9-a494-4f0cb43e0225",
   "metadata": {
    "tags": []
   },
   "outputs": [],
   "source": [
    "# ptr = asset.mock\n",
    "# ptr"
   ]
  },
  {
   "cell_type": "code",
   "execution_count": null,
   "id": "2d74566f-9c5b-49da-9301-e75aabe83c10",
   "metadata": {
    "tags": []
   },
   "outputs": [],
   "source": [
    "# ptr_res = ptr.sum()\n",
    "# ptr_res"
   ]
  },
  {
   "cell_type": "code",
   "execution_count": null,
   "id": "56da0bd8-fd3e-4b18-a45a-9d162a233848",
   "metadata": {
    "tags": []
   },
   "outputs": [],
   "source": [
    "# @sy.syft_function(input_policy=sy.ExactMatch(data=ptr),\n",
    "#                   output_policy=sy.SingleExecutionExactOutput())\n",
    "# def my_function(data):\n",
    "#     return data.sum()"
   ]
  },
  {
   "cell_type": "code",
   "execution_count": null,
   "id": "5e8d5f4f-159f-4db6-b249-fe2a67641b2c",
   "metadata": {
    "tags": []
   },
   "outputs": [],
   "source": [
    "# result = ptr.domain.functions.my_function(ptr).get()\n",
    "# result"
   ]
  },
  {
   "cell_type": "code",
   "execution_count": null,
   "id": "ce8acd15-5edd-4552-8edc-65014a9c06b0",
   "metadata": {},
   "outputs": [],
   "source": []
  }
 ],
 "metadata": {
  "kernelspec": {
   "display_name": "Python 3 (ipykernel)",
   "language": "python",
   "name": "python3"
  },
  "language_info": {
   "codemirror_mode": {
    "name": "ipython",
    "version": 3
   },
   "file_extension": ".py",
   "mimetype": "text/x-python",
   "name": "python",
   "nbconvert_exporter": "python",
   "pygments_lexer": "ipython3",
   "version": "3.10.9"
  }
 },
 "nbformat": 4,
 "nbformat_minor": 5
}

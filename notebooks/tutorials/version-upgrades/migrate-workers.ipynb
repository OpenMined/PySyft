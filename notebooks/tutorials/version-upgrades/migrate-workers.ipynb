{
 "cells": [
  {
   "cell_type": "code",
   "execution_count": 20,
   "id": "13108be1-2591-42c3-b5e9-15e8e61c7939",
   "metadata": {},
   "outputs": [
    {
     "name": "stdout",
     "output_type": "stream",
     "text": [
      "0.9.1-beta.4\n"
     ]
    }
   ],
   "source": [
    "# stdlib\n",
    "import os\n",
    "import time\n",
    "\n",
    "# third party\n",
    "import docker\n",
    "import numpy as np\n",
    "\n",
    "# syft absolute\n",
    "import syft as sy\n",
    "\n",
    "# syft absolute\n",
    "from syft.service.worker.image_registry import SyftImageRegistry\n",
    "from syft.service.worker.worker_image import SyftWorkerImage\n",
    "\n",
    "print(sy.__version__)"
   ]
  },
  {
   "cell_type": "code",
   "execution_count": 2,
   "id": "8ca8fcb3-f3a7-4fe7-80e5-09eaf4c40c9e",
   "metadata": {},
   "outputs": [],
   "source": [
    "\n",
    "\"\"\"\n",
    "1. Launch cluster:\n",
    "CLUSTER_NAME=test-datasite-1 CLUSTER_HTTP_PORT=8080 tox -e dev.k8s.start\n",
    "CLUSTER_NAME=test-datasite-1 CLUSTER_HTTP_PORT=8080 tox -e dev.k8s.deploy\n",
    "\"\"\"\n",
    "\n",
    "os.environ[\"ORCHESTRA_DEPLOYMENT_TYPE\"] = \"remote\"\n",
    "os.environ[\"DEV_MODE\"] = \"True\"\n",
    "os.environ[\"SERVER_PORT\"] = \"8080\""
   ]
  },
  {
   "cell_type": "code",
   "execution_count": 3,
   "id": "5f9adcb9-702b-40e4-bb61-5b9bf297b21e",
   "metadata": {},
   "outputs": [],
   "source": [
    "datasite = sy.orchestra.launch(\n",
    "    name=\"test-datasite-1\",\n",
    "    dev_mode=True,\n",
    "    reset=True,\n",
    "    create_producer=True,\n",
    "    n_consumers=2,\n",
    "    port=\"auto\",\n",
    ")"
   ]
  },
  {
   "cell_type": "code",
   "execution_count": 6,
   "id": "5b4d10be-1155-4917-9860-b17258fadd3b",
   "metadata": {},
   "outputs": [
    {
     "name": "stdout",
     "output_type": "stream",
     "text": [
      "Logged into <syft-dev-server: High side Datasite> as <info@openmined.org>\n"
     ]
    },
    {
     "data": {
      "text/html": [
       "<div class=\"alert-warning\" style=\"padding:5px;\"><strong>SyftWarning</strong>: <pre class=\"alert-warning\" style=\"display:inline; font-family:inherit;\">You are using a default password. Please change the password using `[your_client].account.set_password([new_password])`.</pre></div><br/>"
      ],
      "text/plain": [
       "SyftWarning: You are using a default password. Please change the password using `[your_client].account.set_password([new_password])`."
      ]
     },
     "metadata": {},
     "output_type": "display_data"
    }
   ],
   "source": [
    "datasite_client = datasite.login(email=\"info@openmined.org\", password=\"changethis\")"
   ]
  },
  {
   "cell_type": "markdown",
   "id": "f25ff494-f4f0-4eae-aed1-1832c9f9b64b",
   "metadata": {},
   "source": [
    "## Setup custom pool"
   ]
  },
  {
   "cell_type": "code",
   "execution_count": 21,
   "id": "9ac7cde5-72b5-499e-9d6f-ecce27c75ccd",
   "metadata": {},
   "outputs": [],
   "source": [
    "registry_url = \"localhost:5800\"\n",
    "\n",
    "datasite_client.api.services.image_registry.add(registry_url)\n",
    "registry = datasite_client.api.services.image_registry[0]"
   ]
  },
  {
   "cell_type": "code",
   "execution_count": 7,
   "id": "2ca3ad79-0ad4-47df-8b1f-31400fe3167f",
   "metadata": {},
   "outputs": [],
   "source": [
    "syft_base_worker_tag = \"0.9.0-beta.5\"\n",
    "\n",
    "custom_dockerfile_str = f\"\"\"\n",
    "FROM openmined/syft-backend:{syft_base_worker_tag}\n",
    "\n",
    "RUN uv pip install recordlinkage\n",
    "\"\"\".strip()\n",
    "\n",
    "docker_config = sy.DockerWorkerConfig(dockerfile=custom_dockerfile_str)\n",
    "docker_tag = \"openmined/custom-worker-recordlinkage:latest\""
   ]
  },
  {
   "cell_type": "code",
   "execution_count": 11,
   "id": "c04c1a6b-a4d3-4f90-9952-c6684846d197",
   "metadata": {},
   "outputs": [],
   "source": [
    "submit_result = datasite_client.api.services.worker_image.submit(\n",
    "    worker_config=docker_config\n",
    ")\n",
    "submit_result"
   ]
  },
  {
   "cell_type": "code",
   "execution_count": 26,
   "id": "94674cbd-235b-48de-90f9-7ffcef7906ef",
   "metadata": {},
   "outputs": [
    {
     "data": {
      "text/markdown": [
       "```python\n",
       "class SyftWorkerImage:\n",
       "  id: str = ec68c829a44e4182b213c6f1f84dd3f1\n",
       "  image_identifier: str = None\n",
       "  image_hash: str = None\n",
       "  created_at: str = 2024-08-15 09:46:40\n",
       "  built_at: str = None\n",
       "  config: str = FROM openmined/syft-backend:0.9.0-beta.5\n",
       "\n",
       "RUN uv pip install recordlinkage\n",
       "\n",
       "```"
      ],
      "text/plain": [
       "syft.service.worker.worker_image.SyftWorkerImage"
      ]
     },
     "execution_count": 26,
     "metadata": {},
     "output_type": "execute_result"
    }
   ],
   "source": [
    "workerimage = datasite_client.images.get_all()[1]\n",
    "workerimage"
   ]
  },
  {
   "cell_type": "code",
   "execution_count": 28,
   "id": "7e79d109-1529-49b9-bd41-8c131fd44563",
   "metadata": {},
   "outputs": [
    {
     "data": {
      "text/html": [
       "<div class=\"alert-success\" style=\"padding:5px;\"><strong>SyftSuccess</strong>: <pre class=\"alert-success\" style=\"display:inline; font-family:inherit;\">Build for Worker ID: ec68c829a44e4182b213c6f1f84dd3f1 succeeded.\n",
       "----------Logs for pod=build-db87625634082ef8-msz4d----------\n",
       "time=\"2024-08-15T10:02:15Z\" level=info msg=\"Retrieving image manifest openmined/syft-backend:0.9.0-beta.5\"time=\"2024-08-15T10:02:15Z\" level=info msg=\"Retrieving image openmined/syft-backend:0.9.0-beta.5 from registry index.docker.io\"time=\"2024-08-15T10:02:16Z\" level=info msg=\"Retrieving image manifest openmined/syft-backend:0.9.0-beta.5\"time=\"2024-08-15T10:02:16Z\" level=info msg=\"Returning cached image manifest\"time=\"2024-08-15T10:02:16Z\" level=info msg=\"Built cross stage deps: map[]\"time=\"2024-08-15T10:02:16Z\" level=info msg=\"Retrieving image manifest openmined/syft-backend:0.9.0-beta.5\"time=\"2024-08-15T10:02:16Z\" level=info msg=\"Returning cached image manifest\"time=\"2024-08-15T10:02:16Z\" level=info msg=\"Retrieving image manifest openmined/syft-backend:0.9.0-beta.5\"time=\"2024-08-15T10:02:16Z\" level=info msg=\"Returning cached image manifest\"time=\"2024-08-15T10:02:16Z\" level=info msg=\"Executing 0 build triggers\"time=\"2024-08-15T10:02:16Z\" level=info msg=\"Building stage 'openmined/syft-backend:0.9.0-beta.5' [idx: '0', base-idx: '-1']\"time=\"2024-08-15T10:02:16Z\" level=info msg=\"Checking for cached layer registry.syft.svc.cluster.local/openmined/custom-worker-recordlinkage/cache:24d1d55bd983c4b76d13e0d05393238eb0ec4a88e1f60dd0f3ced8a5e8a07eaf...\"time=\"2024-08-15T10:02:17Z\" level=info msg=\"No cached layer found for cmd RUN uv pip install recordlinkage\"time=\"2024-08-15T10:02:17Z\" level=info msg=\"Unpacking rootfs as cmd RUN uv pip install recordlinkage requires it.\"time=\"2024-08-15T10:02:36Z\" level=info msg=\"RUN uv pip install recordlinkage\"time=\"2024-08-15T10:02:36Z\" level=info msg=\"Initializing snapshotter ...\"time=\"2024-08-15T10:02:36Z\" level=info msg=\"Taking snapshot of full filesystem...\"time=\"2024-08-15T10:02:38Z\" level=info msg=\"Cmd: /bin/sh\"time=\"2024-08-15T10:02:38Z\" level=info msg=\"Args: [-c uv pip install recordlinkage]\"time=\"2024-08-15T10:02:38Z\" level=info msg=\"Util.Lookup returned: &amp;{Uid:0 Gid:0 Username:root Name: HomeDir:/root}\"time=\"2024-08-15T10:02:38Z\" level=info msg=\"Performing slow lookup of group ids for root\"time=\"2024-08-15T10:02:38Z\" level=info msg=\"Running: [/bin/sh -c uv pip install recordlinkage]\"Audited 1 package in 59mstime=\"2024-08-15T10:02:38Z\" level=info msg=\"Taking snapshot of full filesystem...\"time=\"2024-08-15T10:02:39Z\" level=info msg=\"Pushing layer registry.syft.svc.cluster.local/openmined/custom-worker-recordlinkage/cache:24d1d55bd983c4b76d13e0d05393238eb0ec4a88e1f60dd0f3ced8a5e8a07eaf to cache now\"time=\"2024-08-15T10:02:39Z\" level=info msg=\"Pushing image to registry.syft.svc.cluster.local/openmined/custom-worker-recordlinkage/cache:24d1d55bd983c4b76d13e0d05393238eb0ec4a88e1f60dd0f3ced8a5e8a07eaf\"time=\"2024-08-15T10:02:39Z\" level=info msg=\"Pushed registry.syft.svc.cluster.local/openmined/custom-worker-recordlinkage/cache@sha256:58aabdc17507169b6eca16e950cde26703d7c18eea8fe0a4b048c3de1561671f\"time=\"2024-08-15T10:02:39Z\" level=info msg=\"Pushing image to registry.syft.svc.cluster.local/openmined/custom-worker-recordlinkage:latest\"time=\"2024-08-15T10:02:52Z\" level=info msg=\"Pushed registry.syft.svc.cluster.local/openmined/custom-worker-recordlinkage@sha256:46c860184e97a6e50ba6bba344a7d71a836ae2347e6a438608e66abbd609e494\"</pre></div><br/>"
      ],
      "text/plain": [
       "SyftSuccess: Build for Worker ID: ec68c829a44e4182b213c6f1f84dd3f1 succeeded.\n",
       "----------Logs for pod=build-db87625634082ef8-msz4d----------\n",
       "time=\"2024-08-15T10:02:15Z\" level=info msg=\"Retrieving image manifest openmined/syft-backend:0.9.0-beta.5\"time=\"2024-08-15T10:02:15Z\" level=info msg=\"Retrieving image openmined/syft-backend:0.9.0-beta.5 from registry index.docker.io\"time=\"2024-08-15T10:02:16Z\" level=info msg=\"Retrieving image manifest openmined/syft-backend:0.9.0-beta.5\"time=\"2024-08-15T10:02:16Z\" level=info msg=\"Returning cached image manifest\"time=\"2024-08-15T10:02:16Z\" level=info msg=\"Built cross stage deps: map[]\"time=\"2024-08-15T10:02:16Z\" level=info msg=\"Retrieving image manifest openmined/syft-backend:0.9.0-beta.5\"time=\"2024-08-15T10:02:16Z\" level=info msg=\"Returning cached image manifest\"time=\"2024-08-15T10:02:16Z\" level=info msg=\"Retrieving image manifest openmined/syft-backend:0.9.0-beta.5\"time=\"2024-08-15T10:02:16Z\" level=info msg=\"Returning cached image manifest\"time=\"2024-08-15T10:02:16Z\" level=info msg=\"Executing 0 build triggers\"time=\"2024-08-15T10:02:16Z\" level=info msg=\"Building stage 'openmined/syft-backend:0.9.0-beta.5' [idx: '0', base-idx: '-1']\"time=\"2024-08-15T10:02:16Z\" level=info msg=\"Checking for cached layer registry.syft.svc.cluster.local/openmined/custom-worker-recordlinkage/cache:24d1d55bd983c4b76d13e0d05393238eb0ec4a88e1f60dd0f3ced8a5e8a07eaf...\"time=\"2024-08-15T10:02:17Z\" level=info msg=\"No cached layer found for cmd RUN uv pip install recordlinkage\"time=\"2024-08-15T10:02:17Z\" level=info msg=\"Unpacking rootfs as cmd RUN uv pip install recordlinkage requires it.\"time=\"2024-08-15T10:02:36Z\" level=info msg=\"RUN uv pip install recordlinkage\"time=\"2024-08-15T10:02:36Z\" level=info msg=\"Initializing snapshotter ...\"time=\"2024-08-15T10:02:36Z\" level=info msg=\"Taking snapshot of full filesystem...\"time=\"2024-08-15T10:02:38Z\" level=info msg=\"Cmd: /bin/sh\"time=\"2024-08-15T10:02:38Z\" level=info msg=\"Args: [-c uv pip install recordlinkage]\"time=\"2024-08-15T10:02:38Z\" level=info msg=\"Util.Lookup returned: &{Uid:0 Gid:0 Username:root Name: HomeDir:/root}\"time=\"2024-08-15T10:02:38Z\" level=info msg=\"Performing slow lookup of group ids for root\"time=\"2024-08-15T10:02:38Z\" level=info msg=\"Running: [/bin/sh -c uv pip install recordlinkage]\"Audited 1 package in 59mstime=\"2024-08-15T10:02:38Z\" level=info msg=\"Taking snapshot of full filesystem...\"time=\"2024-08-15T10:02:39Z\" level=info msg=\"Pushing layer registry.syft.svc.cluster.local/openmined/custom-worker-recordlinkage/cache:24d1d55bd983c4b76d13e0d05393238eb0ec4a88e1f60dd0f3ced8a5e8a07eaf to cache now\"time=\"2024-08-15T10:02:39Z\" level=info msg=\"Pushing image to registry.syft.svc.cluster.local/openmined/custom-worker-recordlinkage/cache:24d1d55bd983c4b76d13e0d05393238eb0ec4a88e1f60dd0f3ced8a5e8a07eaf\"time=\"2024-08-15T10:02:39Z\" level=info msg=\"Pushed registry.syft.svc.cluster.local/openmined/custom-worker-recordlinkage/cache@sha256:58aabdc17507169b6eca16e950cde26703d7c18eea8fe0a4b048c3de1561671f\"time=\"2024-08-15T10:02:39Z\" level=info msg=\"Pushing image to registry.syft.svc.cluster.local/openmined/custom-worker-recordlinkage:latest\"time=\"2024-08-15T10:02:52Z\" level=info msg=\"Pushed registry.syft.svc.cluster.local/openmined/custom-worker-recordlinkage@sha256:46c860184e97a6e50ba6bba344a7d71a836ae2347e6a438608e66abbd609e494\""
      ]
     },
     "execution_count": 28,
     "metadata": {},
     "output_type": "execute_result"
    }
   ],
   "source": [
    "docker_build_result = datasite_client.api.services.worker_image.build(\n",
    "    image_uid=workerimage.id,\n",
    "    tag=docker_tag,\n",
    "    registry_uid=registry.id,\n",
    "    pull_image=True,\n",
    ")\n",
    "docker_build_result"
   ]
  },
  {
   "cell_type": "code",
   "execution_count": 30,
   "id": "d4de8461-c882-424e-8a54-05733f501dc9",
   "metadata": {},
   "outputs": [
    {
     "data": {
      "text/markdown": [
       "```python\n",
       "class SyftWorkerImage:\n",
       "  id: str = ec68c829a44e4182b213c6f1f84dd3f1\n",
       "  image_identifier: str = localhost:5800/openmined/custom-worker-recordlinkage:latest\n",
       "  image_hash: str = \"sha256:46c860184e97a6e50ba6bba344a7d71a836ae2347e6a438608e66abbd609e494\"\n",
       "  created_at: str = 2024-08-15 09:46:40\n",
       "  built_at: str = 2024-08-15 10:02:55\n",
       "  config: str = FROM openmined/syft-backend:0.9.0-beta.5\n",
       "\n",
       "RUN uv pip install recordlinkage\n",
       "\n",
       "```"
      ],
      "text/plain": [
       "syft.service.worker.worker_image.SyftWorkerImage"
      ]
     },
     "execution_count": 30,
     "metadata": {},
     "output_type": "execute_result"
    }
   ],
   "source": [
    "workerimage = datasite_client.images[1]\n",
    "workerimage"
   ]
  },
  {
   "cell_type": "code",
   "execution_count": 31,
   "id": "b33b4821-72f0-4145-bc4a-58829e0c0a53",
   "metadata": {},
   "outputs": [
    {
     "data": {
      "text/html": [
       "<div class=\"alert-danger\" style=\"padding:5px;\"><strong>SyftError</strong>: <pre class=\"alert-danger\" style=\"display:inline; font-family:inherit;\">Failed to start workers   () Traceback (most recent call last):\n",
       "  File \"/root/app/.venv/lib/python3.12/site-packages/anyio/_core/_tasks.py\", line 115, in fail_after\n",
       "    yield cancel_scope\n",
       "  File \"/root/app/.venv/lib/python3.12/site-packages/kr8s/_objects.py\", line 474, in wait\n",
       "    async for _ in self.async_watch():\n",
       "  File \"/root/app/.venv/lib/python3.12/site-packages/kr8s/_objects.py\", line 351, in async_watch\n",
       "    async for event, obj in self.api.async_watch(\n",
       "  File \"/root/app/.venv/lib/python3.12/site-packages/kr8s/_api.py\", line 430, in async_watch\n",
       "    async for line in response.aiter_lines():\n",
       "  File \"/root/app/.venv/lib/python3.12/site-packages/httpx/_models.py\", line 963, in aiter_lines\n",
       "    async for text in self.aiter_text():\n",
       "  File \"/root/app/.venv/lib/python3.12/site-packages/httpx/_models.py\", line 950, in aiter_text\n",
       "    async for byte_content in self.aiter_bytes():\n",
       "  File \"/root/app/.venv/lib/python3.12/site-packages/httpx/_models.py\", line 929, in aiter_bytes\n",
       "    async for raw_bytes in self.aiter_raw():\n",
       "  File \"/root/app/.venv/lib/python3.12/site-packages/httpx/_models.py\", line 987, in aiter_raw\n",
       "    async for raw_stream_bytes in self.stream:\n",
       "  File \"/root/app/.venv/lib/python3.12/site-packages/httpx/_client.py\", line 149, in __aiter__\n",
       "    async for chunk in self._stream:\n",
       "  File \"/root/app/.venv/lib/python3.12/site-packages/httpx/_transports/default.py\", line 254, in __aiter__\n",
       "    async for part in self._httpcore_stream:\n",
       "  File \"/root/app/.venv/lib/python3.12/site-packages/httpcore/_async/connection_pool.py\", line 367, in __aiter__\n",
       "    raise exc from None\n",
       "  File \"/root/app/.venv/lib/python3.12/site-packages/httpcore/_async/connection_pool.py\", line 363, in __aiter__\n",
       "    async for part in self._stream:\n",
       "  File \"/root/app/.venv/lib/python3.12/site-packages/httpcore/_async/http11.py\", line 349, in __aiter__\n",
       "    raise exc\n",
       "  File \"/root/app/.venv/lib/python3.12/site-packages/httpcore/_async/http11.py\", line 341, in __aiter__\n",
       "    async for chunk in self._connection._receive_response_body(**kwargs):\n",
       "  File \"/root/app/.venv/lib/python3.12/site-packages/httpcore/_async/http11.py\", line 210, in _receive_response_body\n",
       "    event = await self._receive_event(timeout=timeout)\n",
       "            ^^^^^^^^^^^^^^^^^^^^^^^^^^^^^^^^^^^^^^^^^^\n",
       "  File \"/root/app/.venv/lib/python3.12/site-packages/httpcore/_async/http11.py\", line 224, in _receive_event\n",
       "    data = await self._network_stream.read(\n",
       "           ^^^^^^^^^^^^^^^^^^^^^^^^^^^^^^^^\n",
       "  File \"/root/app/.venv/lib/python3.12/site-packages/httpcore/_backends/anyio.py\", line 35, in read\n",
       "    return await self._stream.receive(max_bytes=max_bytes)\n",
       "           ^^^^^^^^^^^^^^^^^^^^^^^^^^^^^^^^^^^^^^^^^^^^^^^\n",
       "  File \"/root/app/.venv/lib/python3.12/site-packages/anyio/streams/tls.py\", line 205, in receive\n",
       "    data = await self._call_sslobject_method(self._ssl_object.read, max_bytes)\n",
       "           ^^^^^^^^^^^^^^^^^^^^^^^^^^^^^^^^^^^^^^^^^^^^^^^^^^^^^^^^^^^^^^^^^^^\n",
       "  File \"/root/app/.venv/lib/python3.12/site-packages/anyio/streams/tls.py\", line 147, in _call_sslobject_method\n",
       "    data = await self.transport_stream.receive()\n",
       "           ^^^^^^^^^^^^^^^^^^^^^^^^^^^^^^^^^^^^^\n",
       "  File \"/root/app/.venv/lib/python3.12/site-packages/anyio/_backends/_asyncio.py\", line 1142, in receive\n",
       "    await self._protocol.read_event.wait()\n",
       "  File \"/usr/lib/python3.12/asyncio/locks.py\", line 212, in wait\n",
       "    await fut\n",
       "asyncio.exceptions.CancelledError: Cancelled by cancel scope ffff3a5cb620\n",
       "\n",
       "During handling of the above exception, another exception occurred:\n",
       "\n",
       "Traceback (most recent call last):\n",
       "  File \"/root/app/syft/src/syft/service/worker/utils.py\", line 357, in create_kubernetes_pool\n",
       "    pool = runner.create_pool(\n",
       "           ^^^^^^^^^^^^^^^^^^^\n",
       "  File \"/root/app/syft/src/syft/custom_worker/runner_k8s.py\", line 63, in create_pool\n",
       "    deployment.wait(\n",
       "  File \"/root/app/.venv/lib/python3.12/site-packages/kr8s/_io.py\", line 75, in wrapped\n",
       "    return portal.call(wrapped)\n",
       "           ^^^^^^^^^^^^^^^^^^^^\n",
       "  File \"/root/app/.venv/lib/python3.12/site-packages/kr8s/_io.py\", line 50, in call\n",
       "    return self._portal.call(func, *args, **kwargs)\n",
       "           ^^^^^^^^^^^^^^^^^^^^^^^^^^^^^^^^^^^^^^^^\n",
       "  File \"/root/app/.venv/lib/python3.12/site-packages/anyio/from_thread.py\", line 287, in call\n",
       "    return cast(T_Retval, self.start_task_soon(func, *args).result())\n",
       "                          ^^^^^^^^^^^^^^^^^^^^^^^^^^^^^^^^^^^^^^^^^^\n",
       "  File \"/usr/lib/python3.12/concurrent/futures/_base.py\", line 456, in result\n",
       "    return self.__get_result()\n",
       "           ^^^^^^^^^^^^^^^^^^^\n",
       "  File \"/usr/lib/python3.12/concurrent/futures/_base.py\", line 401, in __get_result\n",
       "    raise self._exception\n",
       "  File \"/root/app/.venv/lib/python3.12/site-packages/anyio/from_thread.py\", line 218, in _call_func\n",
       "    retval = await retval_or_awaitable\n",
       "             ^^^^^^^^^^^^^^^^^^^^^^^^^\n",
       "  File \"/root/app/.venv/lib/python3.12/site-packages/kr8s/_objects.py\", line 466, in wait\n",
       "    with anyio.fail_after(timeout):\n",
       "  File \"/usr/lib/python3.12/contextlib.py\", line 158, in __exit__\n",
       "    self.gen.throw(value)\n",
       "  File \"/root/app/.venv/lib/python3.12/site-packages/anyio/_core/_tasks.py\", line 118, in fail_after\n",
       "    raise TimeoutError\n",
       "TimeoutError\n",
       ".</pre></div><br/>"
      ],
      "text/plain": [
       "SyftError: Failed to start workers  <class 'TimeoutError'> () Traceback (most recent call last):\n",
       "  File \"/root/app/.venv/lib/python3.12/site-packages/anyio/_core/_tasks.py\", line 115, in fail_after\n",
       "    yield cancel_scope\n",
       "  File \"/root/app/.venv/lib/python3.12/site-packages/kr8s/_objects.py\", line 474, in wait\n",
       "    async for _ in self.async_watch():\n",
       "  File \"/root/app/.venv/lib/python3.12/site-packages/kr8s/_objects.py\", line 351, in async_watch\n",
       "    async for event, obj in self.api.async_watch(\n",
       "  File \"/root/app/.venv/lib/python3.12/site-packages/kr8s/_api.py\", line 430, in async_watch\n",
       "    async for line in response.aiter_lines():\n",
       "  File \"/root/app/.venv/lib/python3.12/site-packages/httpx/_models.py\", line 963, in aiter_lines\n",
       "    async for text in self.aiter_text():\n",
       "  File \"/root/app/.venv/lib/python3.12/site-packages/httpx/_models.py\", line 950, in aiter_text\n",
       "    async for byte_content in self.aiter_bytes():\n",
       "  File \"/root/app/.venv/lib/python3.12/site-packages/httpx/_models.py\", line 929, in aiter_bytes\n",
       "    async for raw_bytes in self.aiter_raw():\n",
       "  File \"/root/app/.venv/lib/python3.12/site-packages/httpx/_models.py\", line 987, in aiter_raw\n",
       "    async for raw_stream_bytes in self.stream:\n",
       "  File \"/root/app/.venv/lib/python3.12/site-packages/httpx/_client.py\", line 149, in __aiter__\n",
       "    async for chunk in self._stream:\n",
       "  File \"/root/app/.venv/lib/python3.12/site-packages/httpx/_transports/default.py\", line 254, in __aiter__\n",
       "    async for part in self._httpcore_stream:\n",
       "  File \"/root/app/.venv/lib/python3.12/site-packages/httpcore/_async/connection_pool.py\", line 367, in __aiter__\n",
       "    raise exc from None\n",
       "  File \"/root/app/.venv/lib/python3.12/site-packages/httpcore/_async/connection_pool.py\", line 363, in __aiter__\n",
       "    async for part in self._stream:\n",
       "  File \"/root/app/.venv/lib/python3.12/site-packages/httpcore/_async/http11.py\", line 349, in __aiter__\n",
       "    raise exc\n",
       "  File \"/root/app/.venv/lib/python3.12/site-packages/httpcore/_async/http11.py\", line 341, in __aiter__\n",
       "    async for chunk in self._connection._receive_response_body(**kwargs):\n",
       "  File \"/root/app/.venv/lib/python3.12/site-packages/httpcore/_async/http11.py\", line 210, in _receive_response_body\n",
       "    event = await self._receive_event(timeout=timeout)\n",
       "            ^^^^^^^^^^^^^^^^^^^^^^^^^^^^^^^^^^^^^^^^^^\n",
       "  File \"/root/app/.venv/lib/python3.12/site-packages/httpcore/_async/http11.py\", line 224, in _receive_event\n",
       "    data = await self._network_stream.read(\n",
       "           ^^^^^^^^^^^^^^^^^^^^^^^^^^^^^^^^\n",
       "  File \"/root/app/.venv/lib/python3.12/site-packages/httpcore/_backends/anyio.py\", line 35, in read\n",
       "    return await self._stream.receive(max_bytes=max_bytes)\n",
       "           ^^^^^^^^^^^^^^^^^^^^^^^^^^^^^^^^^^^^^^^^^^^^^^^\n",
       "  File \"/root/app/.venv/lib/python3.12/site-packages/anyio/streams/tls.py\", line 205, in receive\n",
       "    data = await self._call_sslobject_method(self._ssl_object.read, max_bytes)\n",
       "           ^^^^^^^^^^^^^^^^^^^^^^^^^^^^^^^^^^^^^^^^^^^^^^^^^^^^^^^^^^^^^^^^^^^\n",
       "  File \"/root/app/.venv/lib/python3.12/site-packages/anyio/streams/tls.py\", line 147, in _call_sslobject_method\n",
       "    data = await self.transport_stream.receive()\n",
       "           ^^^^^^^^^^^^^^^^^^^^^^^^^^^^^^^^^^^^^\n",
       "  File \"/root/app/.venv/lib/python3.12/site-packages/anyio/_backends/_asyncio.py\", line 1142, in receive\n",
       "    await self._protocol.read_event.wait()\n",
       "  File \"/usr/lib/python3.12/asyncio/locks.py\", line 212, in wait\n",
       "    await fut\n",
       "asyncio.exceptions.CancelledError: Cancelled by cancel scope ffff3a5cb620\n",
       "\n",
       "During handling of the above exception, another exception occurred:\n",
       "\n",
       "Traceback (most recent call last):\n",
       "  File \"/root/app/syft/src/syft/service/worker/utils.py\", line 357, in create_kubernetes_pool\n",
       "    pool = runner.create_pool(\n",
       "           ^^^^^^^^^^^^^^^^^^^\n",
       "  File \"/root/app/syft/src/syft/custom_worker/runner_k8s.py\", line 63, in create_pool\n",
       "    deployment.wait(\n",
       "  File \"/root/app/.venv/lib/python3.12/site-packages/kr8s/_io.py\", line 75, in wrapped\n",
       "    return portal.call(wrapped)\n",
       "           ^^^^^^^^^^^^^^^^^^^^\n",
       "  File \"/root/app/.venv/lib/python3.12/site-packages/kr8s/_io.py\", line 50, in call\n",
       "    return self._portal.call(func, *args, **kwargs)\n",
       "           ^^^^^^^^^^^^^^^^^^^^^^^^^^^^^^^^^^^^^^^^\n",
       "  File \"/root/app/.venv/lib/python3.12/site-packages/anyio/from_thread.py\", line 287, in call\n",
       "    return cast(T_Retval, self.start_task_soon(func, *args).result())\n",
       "                          ^^^^^^^^^^^^^^^^^^^^^^^^^^^^^^^^^^^^^^^^^^\n",
       "  File \"/usr/lib/python3.12/concurrent/futures/_base.py\", line 456, in result\n",
       "    return self.__get_result()\n",
       "           ^^^^^^^^^^^^^^^^^^^\n",
       "  File \"/usr/lib/python3.12/concurrent/futures/_base.py\", line 401, in __get_result\n",
       "    raise self._exception\n",
       "  File \"/root/app/.venv/lib/python3.12/site-packages/anyio/from_thread.py\", line 218, in _call_func\n",
       "    retval = await retval_or_awaitable\n",
       "             ^^^^^^^^^^^^^^^^^^^^^^^^^\n",
       "  File \"/root/app/.venv/lib/python3.12/site-packages/kr8s/_objects.py\", line 466, in wait\n",
       "    with anyio.fail_after(timeout):\n",
       "  File \"/usr/lib/python3.12/contextlib.py\", line 158, in __exit__\n",
       "    self.gen.throw(value)\n",
       "  File \"/root/app/.venv/lib/python3.12/site-packages/anyio/_core/_tasks.py\", line 118, in fail_after\n",
       "    raise TimeoutError\n",
       "TimeoutError\n",
       "."
      ]
     },
     "execution_count": 31,
     "metadata": {},
     "output_type": "execute_result"
    }
   ],
   "source": [
    "pool_name = \"my-pool\"\n",
    "worker_pool_res = datasite_client.api.services.worker_pool.launch(\n",
    "    pool_name=pool_name,\n",
    "    image_uid=workerimage.id,\n",
    "    num_workers=2,\n",
    ")\n",
    "worker_pool_res"
   ]
  },
  {
   "cell_type": "markdown",
   "id": "734333a8-4b04-412d-858b-5727cb12e353",
   "metadata": {},
   "source": [
    "## Run job on pool"
   ]
  },
  {
   "cell_type": "code",
   "execution_count": null,
   "id": "100b7280-4b56-47f8-965d-ecebe1c5a33d",
   "metadata": {},
   "outputs": [],
   "source": [
    "dataset = sy.Dataset(\n",
    "    name=\"my-dataset\",\n",
    "    description=\"abc\",\n",
    "    asset_list=[\n",
    "        sy.Asset(\n",
    "            name=\"numpy-data\",\n",
    "            mock=np.array([10, 11, 12, 13, 14]),\n",
    "            data=np.array([[15, 16, 17, 18, 19] for _ in range(100_000)]),\n",
    "            mock_is_real=True,\n",
    "        )\n",
    "    ],\n",
    ")\n",
    "\n",
    "datasite_client.upload_dataset(dataset)"
   ]
  },
  {
   "cell_type": "code",
   "execution_count": null,
   "id": "764c0ef5-fa8c-4099-aec9-941b15838b4d",
   "metadata": {},
   "outputs": [],
   "source": [
    "data = datasite_client.datasets[0].assets[0]\n",
    "\n",
    "@sy.syft_function_single_use(data=data, worker_pool_name=pool_name)\n",
    "def compute_mean(datasite, data) -> float:\n",
    "    print(\"Computing mean...\")\n",
    "    return data"
   ]
  },
  {
   "cell_type": "code",
   "execution_count": null,
   "id": "cbacfc5b-7fdf-4ca7-8c95-0a2f82097359",
   "metadata": {},
   "outputs": [],
   "source": [
    "datasite_client.code.request_code_execution(compute_mean)"
   ]
  },
  {
   "cell_type": "code",
   "execution_count": null,
   "id": "827f9742-2cc6-4181-8d31-df685dd9510b",
   "metadata": {},
   "outputs": [],
   "source": [
    "job = datasite_client.code.compute_mean(data=data, blocking=False)\n",
    "job.wait()\n",
    "\n",
    "display(job)"
   ]
  },
  {
   "cell_type": "markdown",
   "id": "9329ff5d-088f-43ea-9ef8-70501a7364a7",
   "metadata": {},
   "source": [
    "## Prepare migration"
   ]
  },
  {
   "cell_type": "code",
   "execution_count": 33,
   "id": "2ef1d9f9-85f0-4e53-a2fd-9e96b432165a",
   "metadata": {},
   "outputs": [],
   "source": [
    "from pathlib import Path\n",
    "\n",
    "migration_data_dir = Path(os.getenv(\"MIGRATION_DATA_DIR\", \".\"))\n",
    "migration_data_dir.mkdir(exist_ok=True)\n",
    "\n",
    "blob_path = migration_data_dir / \"migration.blob\"\n",
    "yaml_path = migration_data_dir / \"migration.yaml\"\n",
    "\n",
    "blob_path.unlink(missing_ok=True)\n",
    "yaml_path.unlink(missing_ok=True)"
   ]
  },
  {
   "cell_type": "code",
   "execution_count": 35,
   "id": "fbb35603-416c-42f1-a000-7c9b95db1f21",
   "metadata": {},
   "outputs": [
    {
     "data": {
      "text/markdown": [
       "```python\n",
       "class MigrationData:\n",
       "  id: str = f62cbcadbfcb42069174dc71e4dfff09\n",
       "  server_uid: str = 913be68f34d248349421d6760cd69811\n",
       "  root_verify_key: str = d65da05ec0ae1d1a3d7544cb3d3eadc9c439ef46848f7723ec91545cb3613270\n",
       "  num_objects: str = 44\n",
       "  num_action_objects: str = 0\n",
       "  includes_blobs: str = True\n",
       "\n",
       "```"
      ],
      "text/plain": [
       "syft.service.migration.object_migration_state.MigrationData"
      ]
     },
     "execution_count": 35,
     "metadata": {},
     "output_type": "execute_result"
    }
   ],
   "source": [
    "migration_data = datasite_client.get_migration_data(include_blobs=True)\n",
    "\n",
    "migration_data"
   ]
  },
  {
   "cell_type": "code",
   "execution_count": 36,
   "id": "b7e3a709-308e-4b8b-a087-651df10d1595",
   "metadata": {},
   "outputs": [
    {
     "name": "stdout",
     "output_type": "stream",
     "text": [
      "Saved migration data to /Users/eelco/dev/PySyft/notebooks/tutorials/version-upgrades/migration.blob\n"
     ]
    }
   ],
   "source": [
    "migration_data.save(blob_path, yaml_path=yaml_path)\n",
    "\n",
    "assert blob_path.exists()\n",
    "assert yaml_path.exists()\n",
    "\n",
    "print(f\"Saved migration data to {str(blob_path.resolve())}\")"
   ]
  },
  {
   "cell_type": "markdown",
   "id": "4ba8b3fb-5347-4b60-9bb2-08bfbe11254a",
   "metadata": {},
   "source": [
    "## Reset node, add migration data"
   ]
  },
  {
   "cell_type": "code",
   "execution_count": 38,
   "id": "5507893f-73a1-4665-a14e-928b7c953edc",
   "metadata": {},
   "outputs": [],
   "source": [
    "# datasite = sy.orchestra.launch(\n",
    "#     name=\"test-datasite-1\",\n",
    "#     dev_mode=True,\n",
    "#     reset=True,\n",
    "#     create_producer=True,\n",
    "#     n_consumers=2,\n",
    "#     port=\"auto\",\n",
    "# )\n",
    "# datasite_client = datasite.login(email=\"info@openmined.org\", password=\"changethis\")"
   ]
  },
  {
   "cell_type": "code",
   "execution_count": 41,
   "id": "435141cc-5f01-4db6-9fd4-f3fb02142f5f",
   "metadata": {},
   "outputs": [
    {
     "ename": "AssertionError",
     "evalue": "This node has not been reset",
     "output_type": "error",
     "traceback": [
      "\u001b[0;31m---------------------------------------------------------------------------\u001b[0m",
      "\u001b[0;31mAssertionError\u001b[0m                            Traceback (most recent call last)",
      "Cell \u001b[0;32mIn[41], line 1\u001b[0m\n\u001b[0;32m----> 1\u001b[0m \u001b[38;5;28;01massert\u001b[39;00m(\u001b[38;5;28mlen\u001b[39m(datasite_client\u001b[38;5;241m.\u001b[39mimages\u001b[38;5;241m.\u001b[39mget_all()) \u001b[38;5;241m==\u001b[39m \u001b[38;5;241m1\u001b[39m), \u001b[38;5;124m\"\u001b[39m\u001b[38;5;124mThis node has not been reset\u001b[39m\u001b[38;5;124m\"\u001b[39m\n",
      "\u001b[0;31mAssertionError\u001b[0m: This node has not been reset"
     ]
    }
   ],
   "source": [
    "assert(len(datasite_client.images.get_all()) == 1), \"This node has not been reset\""
   ]
  },
  {
   "cell_type": "code",
   "execution_count": 42,
   "id": "2337c4db-f635-4e29-b899-b8dae35d05c8",
   "metadata": {},
   "outputs": [
    {
     "data": {
      "text/html": [
       "<div class=\"alert-success\" style=\"padding:5px;\"><strong>SyftSuccess</strong>: <pre class=\"alert-success\" style=\"display:inline; font-family:inherit;\">Migration completed successfully</pre></div><br/>"
      ],
      "text/plain": [
       "SyftSuccess: Migration completed successfully"
      ]
     },
     "execution_count": 42,
     "metadata": {},
     "output_type": "execute_result"
    }
   ],
   "source": [
    "datasite_client.load_migration_data(blob_path)"
   ]
  },
  {
   "cell_type": "code",
   "execution_count": null,
   "id": "06fa7156-bafa-432e-abc3-8f82ca92584c",
   "metadata": {},
   "outputs": [],
   "source": []
  }
 ],
 "metadata": {
  "kernelspec": {
   "display_name": "Python 3 (ipykernel)",
   "language": "python",
   "name": "python3"
  },
  "language_info": {
   "codemirror_mode": {
    "name": "ipython",
    "version": 3
   },
   "file_extension": ".py",
   "mimetype": "text/x-python",
   "name": "python",
   "nbconvert_exporter": "python",
   "pygments_lexer": "ipython3",
   "version": "3.10.13"
  }
 },
 "nbformat": 4,
 "nbformat_minor": 5
}

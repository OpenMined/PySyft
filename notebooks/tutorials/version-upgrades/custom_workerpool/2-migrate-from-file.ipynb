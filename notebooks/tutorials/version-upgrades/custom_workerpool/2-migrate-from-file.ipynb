{
 "cells": [
  {
   "cell_type": "code",
   "execution_count": null,
   "id": "0",
   "metadata": {},
   "outputs": [],
   "source": [
    "# stdlib\n",
    "import os\n",
    "from pathlib import Path\n",
    "\n",
    "# syft absolute\n",
    "import syft as sy\n",
    "from syft.service.code.user_code import UserCode\n",
    "from syft.service.user.user import User\n",
    "\n",
    "print(\"upgrading to\", sy.__version__)"
   ]
  },
  {
   "cell_type": "code",
   "execution_count": null,
   "id": "1",
   "metadata": {},
   "outputs": [],
   "source": [
    "# os.environ[\"ORCHESTRA_DEPLOYMENT_TYPE\"] = \"remote\"\n",
    "# os.environ[\"DEV_MODE\"] = \"True\"\n",
    "# os.environ[\"TEST_EXTERNAL_REGISTRY\"] = \"k3d-registry.localhost:5800\"\n",
    "# os.environ[\"SERVER_PORT\"] = \"8081\""
   ]
  },
  {
   "cell_type": "code",
   "execution_count": null,
   "id": "2",
   "metadata": {},
   "outputs": [],
   "source": [
    "environment = os.environ.get(\"ORCHESTRA_DEPLOYMENT_TYPE\", \"python\")\n",
    "server_port = os.environ.get(\"SERVER_PORT\", \"auto\")\n",
    "print(environment, server_port)"
   ]
  },
  {
   "cell_type": "markdown",
   "id": "3",
   "metadata": {},
   "source": [
    "# Login"
   ]
  },
  {
   "cell_type": "code",
   "execution_count": null,
   "id": "4",
   "metadata": {},
   "outputs": [],
   "source": [
    "server = sy.orchestra.launch(\n",
    "    name=\"test_upgradability\",\n",
    "    dev_mode=True,\n",
    "    reset=True,\n",
    "    port=server_port,\n",
    "    n_consumers=1,\n",
    "    create_producer=True,\n",
    ")\n",
    "\n",
    "client = server.login(email=\"info@openmined.org\", password=\"changethis\")"
   ]
  },
  {
   "cell_type": "code",
   "execution_count": null,
   "id": "5",
   "metadata": {},
   "outputs": [],
   "source": [
    "# Check if this is a new server\n",
    "migration_data = client.get_migration_data()\n",
    "\n",
    "assert len(migration_data.store_objects[User]) == 1\n",
    "assert UserCode not in migration_data.store_objects\n",
    "assert not migration_data.includes_custom_workerpools"
   ]
  },
  {
   "cell_type": "markdown",
   "id": "6",
   "metadata": {},
   "source": [
    "# Load migration data"
   ]
  },
  {
   "cell_type": "code",
   "execution_count": null,
   "id": "7",
   "metadata": {},
   "outputs": [],
   "source": [
    "migration_data_dir = Path(os.getenv(\"MIGRATION_DATA_DIR\", \".\"))\n",
    "blob_path = migration_data_dir / \"migration.blob\"\n",
    "yaml_path = migration_data_dir / \"migration.yaml\"\n",
    "\n",
    "print(f\"Loading migration data from {str(blob_path.resolve())}\")"
   ]
  },
  {
   "cell_type": "code",
   "execution_count": null,
   "id": "8",
   "metadata": {},
   "outputs": [],
   "source": [
    "res = client.load_migration_data(blob_path)\n",
    "assert isinstance(res, sy.SyftSuccess), res.message"
   ]
  },
  {
   "cell_type": "markdown",
   "id": "9",
   "metadata": {},
   "source": [
    "## Notes on workerpool upgrades\n",
    "- We always skip default pool, since it is hardcoded as backend baseimage and cannot be changed by the user.\n",
    "- Upgrade prebuilt pool: just enter your new tag.\n",
    "- Upgrade syft-built pool: edit dockerfile string, rebuild.\n",
    "- new pool is launched with same name, num_workers, upgraded image.\n",
    "- mode=\"auto\" should only be used in testing scenarios, as it assumes all custom image tags use syft versioning"
   ]
  },
  {
   "cell_type": "code",
   "execution_count": null,
   "id": "10",
   "metadata": {},
   "outputs": [],
   "source": [
    "# NOTE do not use mode=\"auto\" if you use custom image versioning.\n",
    "\n",
    "sy.upgrade_custom_workerpools(client, blob_path, mode=\"auto\")"
   ]
  },
  {
   "cell_type": "markdown",
   "id": "11",
   "metadata": {},
   "source": [
    "# Post migration tests"
   ]
  },
  {
   "cell_type": "code",
   "execution_count": null,
   "id": "12",
   "metadata": {},
   "outputs": [],
   "source": [
    "assert len(client.worker_pools.get_all()) == 3"
   ]
  },
  {
   "cell_type": "code",
   "execution_count": null,
   "id": "13",
   "metadata": {},
   "outputs": [],
   "source": [
    "assert len(client.users.get_all()) == 2"
   ]
  },
  {
   "cell_type": "code",
   "execution_count": null,
   "id": "14",
   "metadata": {},
   "outputs": [],
   "source": [
    "client_ds = server.login(email=\"ds@openmined.org\", password=\"pw\")"
   ]
  },
  {
   "cell_type": "code",
   "execution_count": null,
   "id": "15",
   "metadata": {},
   "outputs": [],
   "source": [
    "req1 = client.requests[0]\n",
    "req2 = client_ds.requests[0]\n",
    "assert req1.status.name == \"APPROVED\" and req2.status.name == \"APPROVED\"\n",
    "assert isinstance(req1._repr_html_(), str)\n",
    "assert isinstance(req2._repr_html_(), str)"
   ]
  },
  {
   "cell_type": "code",
   "execution_count": null,
   "id": "16",
   "metadata": {},
   "outputs": [],
   "source": [
    "jobs = client_ds.jobs\n",
    "assert isinstance(jobs[0]._repr_html_(), str)"
   ]
  },
  {
   "cell_type": "code",
   "execution_count": null,
   "id": "17",
   "metadata": {},
   "outputs": [],
   "source": [
    "ds = client_ds.datasets\n",
    "asset = ds[0].assets[0]"
   ]
  },
  {
   "cell_type": "code",
   "execution_count": null,
   "id": "18",
   "metadata": {},
   "outputs": [],
   "source": [
    "res = client_ds.code.compute_mean(data=asset, blocking=False)"
   ]
  },
  {
   "cell_type": "code",
   "execution_count": null,
   "id": "19",
   "metadata": {},
   "outputs": [],
   "source": [
    "assert res.wait().get().shape == (100_000, 5)"
   ]
  },
  {
   "cell_type": "code",
   "execution_count": null,
   "id": "20",
   "metadata": {},
   "outputs": [],
   "source": [
    "jobs = client_ds.jobs.get_all()"
   ]
  },
  {
   "cell_type": "code",
   "execution_count": null,
   "id": "21",
   "metadata": {},
   "outputs": [],
   "source": [
    "job = jobs[0]"
   ]
  },
  {
   "cell_type": "code",
   "execution_count": null,
   "id": "22",
   "metadata": {},
   "outputs": [],
   "source": [
    "job.logs()"
   ]
  },
  {
   "cell_type": "code",
   "execution_count": null,
   "id": "23",
   "metadata": {},
   "outputs": [],
   "source": [
    "logs = job.logs(_print=False)\n",
    "assert isinstance(logs, str)"
   ]
  },
  {
   "cell_type": "code",
   "execution_count": null,
   "id": "24",
   "metadata": {},
   "outputs": [],
   "source": [
    "if server.server_type.value == \"python\":\n",
    "    server.land()"
   ]
  },
  {
   "cell_type": "code",
   "execution_count": null,
   "id": "25",
   "metadata": {},
   "outputs": [],
   "source": []
  }
 ],
 "metadata": {
  "kernelspec": {
   "display_name": "Python 3 (ipykernel)",
   "language": "python",
   "name": "python3"
  },
  "language_info": {
   "codemirror_mode": {
    "name": "ipython",
    "version": 3
   },
   "file_extension": ".py",
   "mimetype": "text/x-python",
   "name": "python",
   "nbconvert_exporter": "python",
   "pygments_lexer": "ipython3",
   "version": "3.11.5"
  }
 },
 "nbformat": 4,
 "nbformat_minor": 5
}

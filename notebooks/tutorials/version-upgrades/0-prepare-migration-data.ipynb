{
 "cells": [
  {
   "cell_type": "code",
   "execution_count": null,
   "id": "0",
   "metadata": {},
   "outputs": [],
   "source": [
    "# third party\n",
    "import numpy as np\n",
    "\n",
    "# syft absolute\n",
    "import syft as sy"
   ]
  },
  {
   "cell_type": "markdown",
   "id": "1",
   "metadata": {},
   "source": [
    "# Verify Version"
   ]
  },
  {
   "cell_type": "code",
   "execution_count": null,
   "id": "2",
   "metadata": {},
   "outputs": [],
   "source": [
    "pip_info = !pip index versions syft\n",
    "latest_deployed_version = pip_info[-1].split(\"LATEST: \")[-1].strip()"
   ]
  },
  {
   "cell_type": "code",
   "execution_count": null,
   "id": "3",
   "metadata": {},
   "outputs": [],
   "source": [
    "# this notebook should only be used to run the latest deployed version of syft\n",
    "# the notebooks after this (1a/1b and 2), will test migrating from that latest version\n",
    "# assert (\n",
    "#     latest_deployed_version == sy.__version__\n",
    "# ), f\"{latest_deployed_version} does not match installed version {sy.__version__}\""
   ]
  },
  {
   "cell_type": "markdown",
   "id": "4",
   "metadata": {},
   "source": [
    "# Launch Server"
   ]
  },
  {
   "cell_type": "code",
   "execution_count": null,
   "id": "5",
   "metadata": {},
   "outputs": [],
   "source": [
    "server = sy.orchestra.launch(\n",
    "    name=\"test_upgradability\",\n",
    "    dev_mode=True,\n",
    "    reset=True,\n",
    "    local_db=True,\n",
    "    n_consumers=2,\n",
    "    create_producer=True,\n",
    ")"
   ]
  },
  {
   "cell_type": "code",
   "execution_count": null,
   "id": "6",
   "metadata": {},
   "outputs": [],
   "source": [
    "client = server.login(email=\"info@openmined.org\", password=\"changethis\")"
   ]
  },
  {
   "cell_type": "code",
   "execution_count": null,
   "id": "7",
   "metadata": {},
   "outputs": [],
   "source": [
    "client.register(\n",
    "    email=\"ds@openmined.org\", name=\"John Doe\", password=\"pw\", password_verify=\"pw\",\n",
    ")"
   ]
  },
  {
   "cell_type": "markdown",
   "id": "8",
   "metadata": {},
   "source": [
    "# Prepare some data to be migrated"
   ]
  },
  {
   "cell_type": "code",
   "execution_count": null,
   "id": "9",
   "metadata": {},
   "outputs": [],
   "source": [
    "client_ds = server.login(email=\"ds@openmined.org\", password=\"pw\")"
   ]
  },
  {
   "cell_type": "code",
   "execution_count": null,
   "id": "10",
   "metadata": {},
   "outputs": [],
   "source": [
    "dataset = sy.Dataset(\n",
    "    name=\"my-dataset\",\n",
    "    description=\"abc\",\n",
    "    asset_list=[\n",
    "        sy.Asset(\n",
    "            name=\"numpy-data\",\n",
    "            mock=np.array([10, 11, 12, 13, 14]),\n",
    "            data=np.array([[15, 16, 17, 18, 19] for _ in range(100_000)]),\n",
    "            mock_is_real=True,\n",
    "        ),\n",
    "    ],\n",
    ")\n",
    "\n",
    "client.upload_dataset(dataset)"
   ]
  },
  {
   "cell_type": "code",
   "execution_count": null,
   "id": "11",
   "metadata": {},
   "outputs": [],
   "source": [
    "data_low = client_ds.datasets[0].assets[0]\n",
    "\n",
    "\n",
    "@sy.syft_function_single_use(data=data_low)\n",
    "def compute_mean(datasite, data) -> float:\n",
    "    # launch another job\n",
    "    return data"
   ]
  },
  {
   "cell_type": "code",
   "execution_count": null,
   "id": "12",
   "metadata": {},
   "outputs": [],
   "source": [
    "req = client_ds.code.request_code_execution(compute_mean)"
   ]
  },
  {
   "cell_type": "code",
   "execution_count": null,
   "id": "13",
   "metadata": {},
   "outputs": [],
   "source": [
    "client.requests[0].approve()"
   ]
  },
  {
   "cell_type": "code",
   "execution_count": null,
   "id": "14",
   "metadata": {},
   "outputs": [],
   "source": [
    "job = client_ds.code.compute_mean(data=data_low, blocking=False)"
   ]
  },
  {
   "cell_type": "code",
   "execution_count": null,
   "id": "15",
   "metadata": {},
   "outputs": [],
   "source": [
    "res = job.wait()"
   ]
  },
  {
   "cell_type": "code",
   "execution_count": null,
   "id": "16",
   "metadata": {},
   "outputs": [],
   "source": [
    "res.get().shape"
   ]
  },
  {
   "cell_type": "code",
   "execution_count": null,
   "id": "17",
   "metadata": {},
   "outputs": [],
   "source": [
    "# TODO: add more data"
   ]
  },
  {
   "cell_type": "code",
   "execution_count": null,
   "id": "18",
   "metadata": {},
   "outputs": [],
   "source": [
    "if server.server_type.value == \"python\":\n",
    "    server.land()"
   ]
  },
  {
   "cell_type": "code",
   "execution_count": null,
   "id": "19",
   "metadata": {},
   "outputs": [],
   "source": []
  }
 ],
 "metadata": {
  "kernelspec": {
   "display_name": "Python 3 (ipykernel)",
   "language": "python",
   "name": "python3"
  },
  "language_info": {
   "codemirror_mode": {
    "name": "ipython",
    "version": 3
   },
   "file_extension": ".py",
   "mimetype": "text/x-python",
   "name": "python",
   "nbconvert_exporter": "python",
   "pygments_lexer": "ipython3",
   "version": "3.12.2"
  }
 },
 "nbformat": 4,
 "nbformat_minor": 5
}

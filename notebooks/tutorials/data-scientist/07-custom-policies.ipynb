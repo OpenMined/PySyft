{
 "cells": [
  {
   "cell_type": "markdown",
   "id": "000bb161-4d15-4bed-bcd1-80e80bd2d459",
   "metadata": {},
   "source": [
    "# Custom Policies"
   ]
  },
  {
   "cell_type": "markdown",
   "id": "02c5dd16-eb9f-4a3c-89ac-11ba79be47aa",
   "metadata": {},
   "source": [
    "## Custom Input Policy"
   ]
  },
  {
   "cell_type": "markdown",
   "id": "bff5f395-75b1-44dc-92c7-c4e90e1ac581",
   "metadata": {},
   "source": [
    "## Custom Output Policy"
   ]
  },
  {
   "cell_type": "markdown",
   "id": "05fe64ab-a5e0-437b-af1f-498b868851d7",
   "metadata": {},
   "source": [
    "## Submitting with Syft Function"
   ]
  },
  {
   "cell_type": "markdown",
   "id": "846da852-adaa-49c5-a9bd-b579d5ccfb9f",
   "metadata": {},
   "source": [
    "## Checking State"
   ]
  },
  {
   "cell_type": "markdown",
   "id": "afd56425-859c-4989-8d4b-e5c43e78a2d5",
   "metadata": {},
   "source": [
    "## Getting Results"
   ]
  },
  {
   "cell_type": "code",
   "execution_count": null,
   "id": "5aa191ae-2ade-46d5-95ce-97f791885863",
   "metadata": {},
   "outputs": [],
   "source": []
  }
 ],
 "metadata": {
  "kernelspec": {
   "display_name": "Python 3 (ipykernel)",
   "language": "python",
   "name": "python3"
  },
  "language_info": {
   "codemirror_mode": {
    "name": "ipython",
    "version": 3
   },
   "file_extension": ".py",
   "mimetype": "text/x-python",
   "name": "python",
   "nbconvert_exporter": "python",
   "pygments_lexer": "ipython3",
   "version": "3.10.9"
  }
 },
 "nbformat": 4,
 "nbformat_minor": 5
}

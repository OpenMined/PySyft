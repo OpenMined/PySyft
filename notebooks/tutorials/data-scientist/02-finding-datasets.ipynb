{
 "cells": [
  {
   "cell_type": "markdown",
   "id": "ca722e2a-b540-4a0a-b7ad-ee2a589e323b",
   "metadata": {},
   "source": [
    "# Finding Datasets"
   ]
  },
  {
   "cell_type": "markdown",
   "id": "9ba1f237-cf8c-49fe-8102-3fef02589fe7",
   "metadata": {},
   "source": [
    "## Searching the Network"
   ]
  },
  {
   "cell_type": "markdown",
   "id": "c09cdd5b-e95e-479c-8082-daf4af979afe",
   "metadata": {},
   "source": [
    "## Connecting to a Domain"
   ]
  },
  {
   "cell_type": "markdown",
   "id": "5998fe7d-be0a-446c-ac5e-8f74d9cdcbb9",
   "metadata": {},
   "source": [
    "## Registering an Account"
   ]
  }
 ],
 "metadata": {
  "kernelspec": {
   "display_name": "Python 3 (ipykernel)",
   "language": "python",
   "name": "python3"
  },
  "language_info": {
   "codemirror_mode": {
    "name": "ipython",
    "version": 3
   },
   "file_extension": ".py",
   "mimetype": "text/x-python",
   "name": "python",
   "nbconvert_exporter": "python",
   "pygments_lexer": "ipython3",
   "version": "3.10.9"
  }
 },
 "nbformat": 4,
 "nbformat_minor": 5
}

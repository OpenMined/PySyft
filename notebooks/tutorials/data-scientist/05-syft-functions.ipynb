{
 "cells": [
  {
   "cell_type": "markdown",
   "id": "bb5a6470-881e-4761-aaf5-cdb65fb9e976",
   "metadata": {},
   "source": [
    "# Syft Functions"
   ]
  },
  {
   "cell_type": "markdown",
   "id": "34cb1f92-a080-46c7-89be-38293520b3de",
   "metadata": {},
   "source": [
    "## Defining a Syft Function"
   ]
  },
  {
   "cell_type": "markdown",
   "id": "98ce6e6d-4a09-46f0-9cb9-9bf72008d98f",
   "metadata": {},
   "source": [
    "## Input Policies"
   ]
  },
  {
   "cell_type": "markdown",
   "id": "2ccf735d-796c-4c21-8f7c-0dfc3f8cdc2c",
   "metadata": {},
   "source": [
    "## Output Policies"
   ]
  },
  {
   "cell_type": "markdown",
   "id": "7d4255b0-be84-48cd-8a74-f0d6c15153ac",
   "metadata": {},
   "source": [
    "## Testing it Locally"
   ]
  },
  {
   "cell_type": "markdown",
   "id": "d1232d20-0446-4a48-b28c-59029b327eb4",
   "metadata": {},
   "source": [
    "## Submitting it for Approval"
   ]
  },
  {
   "cell_type": "markdown",
   "id": "7e9d35e5-428e-441e-a623-e9e825196e70",
   "metadata": {},
   "source": [
    "## Checking Approval"
   ]
  },
  {
   "cell_type": "markdown",
   "id": "54cb1239-d34b-4ac6-b8f9-d909bbe34bd6",
   "metadata": {},
   "source": [
    "## Executing your Function"
   ]
  },
  {
   "cell_type": "markdown",
   "id": "bff8dcde-e1fb-49e1-a879-20babdda16f7",
   "metadata": {},
   "source": [
    "## Downloading Results"
   ]
  },
  {
   "cell_type": "code",
   "execution_count": null,
   "id": "96a75ef2-1d30-4d63-96c5-629adab845eb",
   "metadata": {},
   "outputs": [],
   "source": []
  }
 ],
 "metadata": {
  "kernelspec": {
   "display_name": "Python 3 (ipykernel)",
   "language": "python",
   "name": "python3"
  },
  "language_info": {
   "codemirror_mode": {
    "name": "ipython",
    "version": 3
   },
   "file_extension": ".py",
   "mimetype": "text/x-python",
   "name": "python",
   "nbconvert_exporter": "python",
   "pygments_lexer": "ipython3",
   "version": "3.10.9"
  }
 },
 "nbformat": 4,
 "nbformat_minor": 5
}

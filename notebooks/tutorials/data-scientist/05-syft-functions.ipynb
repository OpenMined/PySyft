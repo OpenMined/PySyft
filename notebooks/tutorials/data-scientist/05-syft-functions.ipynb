{
 "cells": [
  {
   "cell_type": "markdown",
   "id": "bb5a6470-881e-4761-aaf5-cdb65fb9e976",
   "metadata": {},
   "source": [
    "# Syft Functions"
   ]
  },
  {
   "cell_type": "markdown",
   "id": "5e6adc9b",
   "metadata": {},
   "source": [
    "## Install"
   ]
  },
  {
   "cell_type": "code",
   "execution_count": null,
   "id": "2c51bdc5",
   "metadata": {},
   "outputs": [],
   "source": [
    "SYFT_VERSION = \">=0.8.1,<0.9\"\n",
    "package_string = f'\"syft{SYFT_VERSION}\"'\n",
    "# %pip install {package_string} -f https://whls.blob.core.windows.net/unstable/index.html"
   ]
  },
  {
   "cell_type": "code",
   "execution_count": null,
   "id": "d7941c5b",
   "metadata": {},
   "outputs": [],
   "source": [
    "import syft as sy\n",
    "sy.requires(SYFT_VERSION)"
   ]
  },
  {
   "cell_type": "code",
   "execution_count": null,
   "id": "c5f3da7b",
   "metadata": {},
   "outputs": [],
   "source": [
    "node = sy.orchestra.launch(name=\"syft-functions-example-domain-1\",port=7022, reset=True)"
   ]
  },
  {
   "cell_type": "markdown",
   "id": "7cb9d9f2",
   "metadata": {},
   "source": [
    "## Setup"
   ]
  },
  {
   "cell_type": "markdown",
   "id": "927b7a30",
   "metadata": {},
   "source": [
    "Lets login with our root user."
   ]
  },
  {
   "cell_type": "code",
   "execution_count": null,
   "id": "8ffffff6",
   "metadata": {},
   "outputs": [],
   "source": [
    "from syft.service.user.user import UserCreate\n",
    "admin_client = node.login(email=\"info@openmined.org\", password=\"changethis\")\n"
   ]
  },
  {
   "cell_type": "markdown",
   "id": "0b0dc91d",
   "metadata": {},
   "source": [
    "Create a dummy dataset for experimenting"
   ]
  },
  {
   "cell_type": "code",
   "execution_count": null,
   "id": "830c93bd",
   "metadata": {},
   "outputs": [],
   "source": [
    "import numpy as np\n",
    "dataset = sy.Dataset(\n",
    "    name=\"my dataset\",\n",
    "    asset_list=[\n",
    "        sy.Asset(\n",
    "        name=\"my asset\",\n",
    "        data=np.array([1,2,3]),\n",
    "        mock=np.array([1,1,1])\n",
    "    )]\n",
    ")\n",
    "admin_client.upload_dataset(dataset)"
   ]
  },
  {
   "cell_type": "markdown",
   "id": "4eab10b8",
   "metadata": {},
   "source": [
    "Create a new user to use as a data scientist account"
   ]
  },
  {
   "cell_type": "code",
   "execution_count": null,
   "id": "68301a0c",
   "metadata": {},
   "outputs": [],
   "source": [
    "admin_client.register(name=\"Jane Doe\", email=\"jane@caltech.edu\",\n",
    "                            password=\"abc123\", institution=\"Caltech\", website=\"https://www.caltech.edu/\")"
   ]
  },
  {
   "cell_type": "code",
   "execution_count": null,
   "id": "21faef9f",
   "metadata": {},
   "outputs": [],
   "source": [
    "guest_client = node.client.login(email=\"jane@caltech.edu\", password=\"abc123\")"
   ]
  },
  {
   "cell_type": "markdown",
   "id": "34cb1f92-a080-46c7-89be-38293520b3de",
   "metadata": {},
   "source": [
    "## Defining a Syft Function"
   ]
  },
  {
   "cell_type": "markdown",
   "id": "e5494483",
   "metadata": {},
   "source": [
    "Let's say you want to compute the mean of some numbers remotely with PySyft. How do you do that? Pretty easy actually:"
   ]
  },
  {
   "cell_type": "code",
   "execution_count": null,
   "id": "1692a01e",
   "metadata": {},
   "outputs": [],
   "source": [
    "@sy.syft_function_single_use()\n",
    "def func():\n",
    "    # run some computation\n",
    "    data = list(range(100))\n",
    "    return sum(data) / 100"
   ]
  },
  {
   "cell_type": "markdown",
   "id": "98ce6e6d-4a09-46f0-9cb9-9bf72008d98f",
   "metadata": {},
   "source": [
    "## Input Policies"
   ]
  },
  {
   "cell_type": "markdown",
   "id": "2bc7b65e",
   "metadata": {},
   "source": [
    "That's great but what if we want to run this function with some parameters? Maybe even some private data (why do remote data science without remote data?). Here's where Input Policies come into play. Their purpose is to define what rules will we follow when it comes to the inputs of a syft function. At the moment we provide what we call an `ExactMatch` policy which allows data scientists to specify a private asset they would like to use, just like this:"
   ]
  },
  {
   "cell_type": "code",
   "execution_count": null,
   "id": "a0993053",
   "metadata": {},
   "outputs": [],
   "source": [
    "asset = guest_client.datasets[0].assets[0]"
   ]
  },
  {
   "cell_type": "code",
   "execution_count": null,
   "id": "8ec42760",
   "metadata": {},
   "outputs": [],
   "source": [
    "SYFT_VERSION = \">=0.8.1,<0.9\"\n",
    "package_string = f'\"syft{SYFT_VERSION}\"'\n",
    "# %pip install {package_string} -f https://whls.blob.core.windows.net/unstable/index.html"
   ]
  },
  {
   "cell_type": "code",
   "execution_count": null,
   "id": "d0ae3f35",
   "metadata": {},
   "outputs": [],
   "source": [
    "import syft as sy\n",
    "sy.requires(SYFT_VERSION)"
   ]
  },
  {
   "cell_type": "code",
   "execution_count": null,
   "id": "559bef2a",
   "metadata": {},
   "outputs": [],
   "source": [
    "@sy.syft_function(input_policy=sy.ExactMatch(data=asset),\n",
    "                  output_policy=sy.SingleExecutionExactOutput())\n",
    "def mean(data):\n",
    "    return sum(data)/len(data)"
   ]
  },
  {
   "cell_type": "markdown",
   "id": "2ccf735d-796c-4c21-8f7c-0dfc3f8cdc2c",
   "metadata": {},
   "source": [
    "## Output Policies"
   ]
  },
  {
   "cell_type": "markdown",
   "id": "6b8f5a42",
   "metadata": {},
   "source": [
    "You have probably noticed that in the last example we also specified the output policy. Its purpose has to do with the release of information for a given function and controlling the parameters that this release comes with. For example, if a data owner and a data scientist agree on the content of a function run on a domain and on what private data that can be run on, their work might not be done yet. They might negotiate how many times that function can be run, whether or not the data scientist can have access  or what happens before releasing the output (maybe we add some noise like in the case of differential privacy). At the moment we have policies that allow data scientist to ask for a certain amount of runs on function, but the ones you will find most often is `SingleExecutionExactOutput` that ask for a single use on a function. We have used it so much that we came with the `syft_function_single_use` decorator that use by default that output policy. What is also cool is that you can pass the input for an input policy to this decorator to get a shorter version like this:"
   ]
  },
  {
   "cell_type": "code",
   "execution_count": null,
   "id": "42e56099",
   "metadata": {},
   "outputs": [],
   "source": [
    "# same functionality as before, just faster to write\n",
    "@sy.syft_function_single_use(data=asset)\n",
    "def mean(data):\n",
    "    return sum(data)/len(data)"
   ]
  },
  {
   "cell_type": "markdown",
   "id": "18992983",
   "metadata": {},
   "source": [
    "We are working on extending the functionalities of these policies to truly accomplish the goals we have in mind for them. However, if you have a specific use case in mind and can't wait to use it in your remote data science pipeline, check the custom policies notebook that teaches you how to implement your own input and output policies (and also reuse other users' submitted policies)!"
   ]
  },
  {
   "cell_type": "markdown",
   "id": "7d4255b0-be84-48cd-8a74-f0d6c15153ac",
   "metadata": {},
   "source": [
    "## Testing it Locally"
   ]
  },
  {
   "cell_type": "markdown",
   "id": "a680a78d",
   "metadata": {},
   "source": [
    "\"Right, so we have defined a function for remote use, but can I run it locally?\" - you probably ask\n",
    "\n",
    "Yeah, of course you can!  "
   ]
  },
  {
   "cell_type": "code",
   "execution_count": null,
   "id": "1ede8a86",
   "metadata": {},
   "outputs": [],
   "source": [
    "func()"
   ]
  },
  {
   "cell_type": "markdown",
   "id": "998585f9",
   "metadata": {},
   "source": [
    "\"Sure, but what about functions on the assets? That can't work!\"\n",
    "\n",
    "YEAH IT CAN!!"
   ]
  },
  {
   "cell_type": "code",
   "execution_count": null,
   "id": "0e46b4c2",
   "metadata": {},
   "outputs": [],
   "source": [
    "mean(data=asset)"
   ]
  },
  {
   "cell_type": "markdown",
   "id": "952f2687",
   "metadata": {},
   "source": [
    "If you paid attention when we defined the dataset, you probably noticed that for the asset we have added we specified both **the private data and the mock data, and this runs on the mock data**. We use the mock data to test function on the data scientist side. This mock data requires no special access or permissions, because it is public data. This can be data that only matches the structure of the private data or might even be synthetic data if the data owner provides it. Its main goal is to help data scientists to test their functions locally before submitting a request to filter noisy requests in the process. If you would like to learn more about the data owner experience, please check out the notebooks under the tutorials section."
   ]
  },
  {
   "cell_type": "markdown",
   "id": "d1232d20-0446-4a48-b28c-59029b327eb4",
   "metadata": {},
   "source": [
    "## Submitting it for Approval"
   ]
  },
  {
   "cell_type": "markdown",
   "id": "a6045713",
   "metadata": {},
   "source": [
    "Now that we are sure our function works at intended on the mock data, we are ready to submit a request. The cleanest way to do that is to first create a project and attach your request there."
   ]
  },
  {
   "cell_type": "code",
   "execution_count": null,
   "id": "8a799001",
   "metadata": {},
   "outputs": [],
   "source": [
    "# Create a project\n",
    "new_project = sy.Project(\n",
    "    name=\"My Cool Project\",\n",
    "    description=\"\"\"Hi, I want to calculate the mean of your private data,\\\n",
    "                    pretty please!\"\"\",\n",
    "    members=[guest_client],\n",
    ")\n",
    "new_project"
   ]
  },
  {
   "cell_type": "markdown",
   "id": "c1f10706",
   "metadata": {},
   "source": [
    "Now let's add a code request to the project:"
   ]
  },
  {
   "cell_type": "code",
   "execution_count": null,
   "id": "fbec01ba",
   "metadata": {},
   "outputs": [],
   "source": [
    "new_project.create_code_request(mean, guest_client)"
   ]
  },
  {
   "cell_type": "markdown",
   "id": "34093288",
   "metadata": {},
   "source": [
    "Now we can start our project by simply running "
   ]
  },
  {
   "cell_type": "code",
   "execution_count": null,
   "id": "a2dfcf9a",
   "metadata": {},
   "outputs": [],
   "source": [
    "project = new_project.start()\n",
    "project"
   ]
  },
  {
   "cell_type": "markdown",
   "id": "7e9d35e5-428e-441e-a623-e9e825196e70",
   "metadata": {},
   "source": [
    "## Checking Approval"
   ]
  },
  {
   "cell_type": "markdown",
   "id": "97a1cec7",
   "metadata": {},
   "source": [
    "Very cool, now let's run our function with private data!"
   ]
  },
  {
   "cell_type": "code",
   "execution_count": null,
   "id": "de83c1cc",
   "metadata": {},
   "outputs": [],
   "source": [
    "guest_client.code.mean(data=asset)"
   ]
  },
  {
   "cell_type": "markdown",
   "id": "fc8d1850",
   "metadata": {},
   "source": [
    "Right! Our code was not approved, so we should wait for the review from the data owner. As we also deployed the domain, we will do that quickly here, but for more details on what is happening check the data owner sections under tutorials:"
   ]
  },
  {
   "cell_type": "code",
   "execution_count": null,
   "id": "b7794416",
   "metadata": {},
   "outputs": [],
   "source": [
    "request = admin_client.notifications[-1].link.requests[0]\n",
    "request"
   ]
  },
  {
   "cell_type": "code",
   "execution_count": null,
   "id": "d3e227ea",
   "metadata": {},
   "outputs": [],
   "source": [
    "request.code"
   ]
  },
  {
   "cell_type": "markdown",
   "id": "34513209",
   "metadata": {},
   "source": [
    "Now that we have inspected the code, we can approve it"
   ]
  },
  {
   "cell_type": "code",
   "execution_count": null,
   "id": "33513ece",
   "metadata": {},
   "outputs": [],
   "source": [
    "request.approve()"
   ]
  },
  {
   "cell_type": "markdown",
   "id": "54cb1239-d34b-4ac6-b8f9-d909bbe34bd6",
   "metadata": {},
   "source": [
    "## Executing your Function"
   ]
  },
  {
   "cell_type": "markdown",
   "id": "a48931bf",
   "metadata": {},
   "source": [
    "Good, now we are finally ready to run the function on private data:"
   ]
  },
  {
   "cell_type": "code",
   "execution_count": null,
   "id": "19afcfb2",
   "metadata": {},
   "outputs": [],
   "source": [
    "res = guest_client.code.mean(data=asset)\n",
    "res"
   ]
  },
  {
   "cell_type": "markdown",
   "id": "d718068d",
   "metadata": {},
   "source": [
    "Notice that the result we see is still `1.0` which looks like the result on the mock data. That is because it actually is! The object returned is an `ActionObject` which here behaves like a pointer for the data on the domain:"
   ]
  },
  {
   "cell_type": "code",
   "execution_count": null,
   "id": "68cd2efe",
   "metadata": {},
   "outputs": [],
   "source": [
    "isinstance(res, sy.ActionObject)"
   ]
  },
  {
   "cell_type": "code",
   "execution_count": null,
   "id": "f58f1552",
   "metadata": {},
   "outputs": [],
   "source": [
    "type(res)"
   ]
  },
  {
   "cell_type": "markdown",
   "id": "e0f3cd76",
   "metadata": {},
   "source": [
    "If we do not accept the result, the data owner calls"
   ]
  },
  {
   "cell_type": "code",
   "execution_count": null,
   "id": "7ef86de8",
   "metadata": {},
   "outputs": [],
   "source": [
    "request.deny(reason=\"you cannot have access\")"
   ]
  },
  {
   "cell_type": "code",
   "execution_count": null,
   "id": "718e0c4f",
   "metadata": {},
   "outputs": [],
   "source": [
    "res_denied = guest_client.code.mean(data=asset)\n",
    "res_denied"
   ]
  },
  {
   "cell_type": "markdown",
   "id": "e4cfea31",
   "metadata": {},
   "source": [
    "in that case our call returns a `SyftError`"
   ]
  },
  {
   "cell_type": "markdown",
   "id": "bff8dcde-e1fb-49e1-a879-20babdda16f7",
   "metadata": {},
   "source": [
    "## Downloading Results"
   ]
  },
  {
   "cell_type": "markdown",
   "id": "359c0824",
   "metadata": {},
   "source": [
    "To get the real data we need one more step:"
   ]
  },
  {
   "cell_type": "code",
   "execution_count": null,
   "id": "ea32d7ca",
   "metadata": {},
   "outputs": [],
   "source": [
    "real_res = res.get()\n",
    "real_res"
   ]
  },
  {
   "cell_type": "code",
   "execution_count": null,
   "id": "171fc509",
   "metadata": {},
   "outputs": [],
   "source": [
    "assert real_res == 2.0"
   ]
  },
  {
   "cell_type": "markdown",
   "id": "771fd1fa",
   "metadata": {},
   "source": [
    "We can check the type of the result to see it's real data:"
   ]
  },
  {
   "cell_type": "code",
   "execution_count": null,
   "id": "130184dd",
   "metadata": {},
   "outputs": [],
   "source": [
    "type(real_res)"
   ]
  }
 ],
 "metadata": {
  "kernelspec": {
   "display_name": "Python 3 (ipykernel)",
   "language": "python",
   "name": "python3"
  },
  "language_info": {
   "codemirror_mode": {
    "name": "ipython",
    "version": 3
   },
   "file_extension": ".py",
   "mimetype": "text/x-python",
   "name": "python",
   "nbconvert_exporter": "python",
   "pygments_lexer": "ipython3",
   "version": "3.9.16"
  },
  "toc": {
   "base_numbering": 1,
   "nav_menu": {},
   "number_sections": true,
   "sideBar": true,
   "skip_h1_title": false,
   "title_cell": "Table of Contents",
   "title_sidebar": "Contents",
   "toc_cell": false,
   "toc_position": {},
   "toc_section_display": true,
   "toc_window_display": true
  }
 },
 "nbformat": 4,
 "nbformat_minor": 5
}

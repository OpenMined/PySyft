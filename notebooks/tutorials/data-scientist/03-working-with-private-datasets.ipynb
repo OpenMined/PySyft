{
 "cells": [
  {
   "cell_type": "markdown",
   "id": "74e9bac8-531d-4c92-9305-3100ac5ed122",
   "metadata": {},
   "source": [
    "# Working with Private Datasets"
   ]
  },
  {
   "cell_type": "markdown",
   "id": "7af5a9fc-61ae-473a-9e41-6a176f05831d",
   "metadata": {},
   "source": [
    "## Mocks"
   ]
  },
  {
   "cell_type": "markdown",
   "id": "d0d58d82-8ca1-4357-a419-f1632fe7e865",
   "metadata": {},
   "source": [
    "## Eager Execution"
   ]
  },
  {
   "cell_type": "markdown",
   "id": "9de414a9-23c6-4a57-8169-e2d955e91d77",
   "metadata": {},
   "source": [
    "## Action Service"
   ]
  },
  {
   "cell_type": "markdown",
   "id": "c8d32f94-8659-4ae7-ae99-956823319ee4",
   "metadata": {},
   "source": [
    "### Listing the Services"
   ]
  },
  {
   "cell_type": "markdown",
   "id": "8d692412-ea35-4201-accb-6a2c2e3ab2fb",
   "metadata": {},
   "source": [
    "### Autocomplete Service Methods"
   ]
  },
  {
   "cell_type": "markdown",
   "id": "7e18c46c-6ccd-43f2-b86f-66553a4a8779",
   "metadata": {},
   "source": [
    "### Viewing Method Signatures"
   ]
  },
  {
   "cell_type": "markdown",
   "id": "60b4d110-a9e1-4a6c-bdd3-08828b9777a2",
   "metadata": {},
   "source": [
    "## Simple Example"
   ]
  },
  {
   "cell_type": "markdown",
   "id": "c77e3e88-0058-45fb-aa8d-4df59251020c",
   "metadata": {},
   "source": [
    "## Request the Result"
   ]
  },
  {
   "cell_type": "code",
   "execution_count": null,
   "id": "b8ca1e16-6c38-4078-a2b8-40ee40aa20ec",
   "metadata": {},
   "outputs": [],
   "source": []
  }
 ],
 "metadata": {
  "kernelspec": {
   "display_name": "Python 3 (ipykernel)",
   "language": "python",
   "name": "python3"
  },
  "language_info": {
   "codemirror_mode": {
    "name": "ipython",
    "version": 3
   },
   "file_extension": ".py",
   "mimetype": "text/x-python",
   "name": "python",
   "nbconvert_exporter": "python",
   "pygments_lexer": "ipython3",
   "version": "3.10.9"
  }
 },
 "nbformat": 4,
 "nbformat_minor": 5
}

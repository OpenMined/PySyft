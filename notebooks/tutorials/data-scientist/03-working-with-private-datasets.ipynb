{
 "cells": [
  {
   "cell_type": "markdown",
   "id": "74e9bac8-531d-4c92-9305-3100ac5ed122",
   "metadata": {},
   "source": [
    "# Working with Private Datasets"
   ]
  },
  {
   "cell_type": "markdown",
   "id": "da45a6e8",
   "metadata": {},
   "source": [
    "## Install"
   ]
  },
  {
   "cell_type": "code",
   "execution_count": null,
   "id": "8f2568d6",
   "metadata": {},
   "outputs": [],
   "source": [
    "SYFT_VERSION = \">=0.8.1b0,<0.9\"\n",
    "package_string = f'\"syft{SYFT_VERSION}\"'\n",
    "# !pip install {package_string} -f https://whls.blob.core.windows.net/unstable/index.html"
   ]
  },
  {
   "cell_type": "code",
   "execution_count": null,
   "id": "aaa21d60",
   "metadata": {},
   "outputs": [],
   "source": [
    "import syft as sy\n",
    "sy.requires(SYFT_VERSION)"
   ]
  },
  {
   "cell_type": "code",
   "execution_count": null,
   "id": "600dbea7",
   "metadata": {},
   "outputs": [],
   "source": [
    "node = sy.orchestra.launch(name=\"pandas-test-domain-1\", port=8083, reset=True)"
   ]
  },
  {
   "cell_type": "markdown",
   "id": "5045b434",
   "metadata": {},
   "source": [
    "## Setup"
   ]
  },
  {
   "cell_type": "markdown",
   "id": "5fd96820",
   "metadata": {},
   "source": [
    "For the purpose of this tutorial we are creating a very simple dataset, which is created and owner by the root client"
   ]
  },
  {
   "cell_type": "code",
   "execution_count": null,
   "id": "8aaabf2b",
   "metadata": {},
   "outputs": [],
   "source": [
    "root_client = node.login(email=\"info@openmined.org\", password=\"changethis\")"
   ]
  },
  {
   "cell_type": "code",
   "execution_count": null,
   "id": "caaeec00",
   "metadata": {},
   "outputs": [],
   "source": [
    "import numpy as np"
   ]
  },
  {
   "cell_type": "code",
   "execution_count": null,
   "id": "8f20f50b",
   "metadata": {},
   "outputs": [],
   "source": [
    "dataset = sy.Dataset(\n",
    "    name=\"my dataset\",\n",
    "    asset_list=[\n",
    "        sy.Asset(\n",
    "        name=\"my asset\",\n",
    "        data=np.array([1,2,3]),\n",
    "        mock=np.array([1,1,1])\n",
    "    )]\n",
    ")"
   ]
  },
  {
   "cell_type": "code",
   "execution_count": null,
   "id": "6e150bd3",
   "metadata": {},
   "outputs": [],
   "source": [
    "root_client.upload_dataset(dataset)"
   ]
  },
  {
   "cell_type": "code",
   "execution_count": null,
   "id": "00e89292",
   "metadata": {},
   "outputs": [],
   "source": [
    "root_client.register(name=\"Jane Doe\", email=\"jane@caltech.edu\",\n",
    "                            password=\"abc123\", institution=\"Caltech\", website=\"https://www.caltech.edu/\")"
   ]
  },
  {
   "cell_type": "markdown",
   "id": "7af5a9fc-61ae-473a-9e41-6a176f05831d",
   "metadata": {},
   "source": [
    "## Mocks"
   ]
  },
  {
   "cell_type": "code",
   "execution_count": null,
   "id": "7dec9ada",
   "metadata": {},
   "outputs": [],
   "source": [
    "guest_client = node.client.login(email=\"jane@caltech.edu\", password=\"abc123\")"
   ]
  },
  {
   "cell_type": "markdown",
   "id": "f80caf06",
   "metadata": {},
   "source": [
    "Lets inspect the datasets from the data scientists perspective"
   ]
  },
  {
   "cell_type": "code",
   "execution_count": null,
   "id": "58e87cfd",
   "metadata": {},
   "outputs": [],
   "source": [
    "datasets = guest_client.api.services.dataset\n",
    "datasets"
   ]
  },
  {
   "cell_type": "markdown",
   "id": "8480ecfe",
   "metadata": {},
   "source": [
    "Datasets have assets, in our case there is only 1 asset"
   ]
  },
  {
   "cell_type": "code",
   "execution_count": null,
   "id": "c1a6669c",
   "metadata": {},
   "outputs": [],
   "source": [
    "asset = datasets[0].assets[0]\n",
    "asset"
   ]
  },
  {
   "cell_type": "markdown",
   "id": "c1931664",
   "metadata": {},
   "source": [
    "When you get a refence to an asset as a datascientist using Pysyft, you are almost never getting the real data. Often you will get a mock object instead, which is an object with the same type and characteristics (e.g. list size), but with fake data instead. In Pysyft, you can access the mock objects in 2 ways. The first method is to call `Asset.mock_data`"
   ]
  },
  {
   "cell_type": "code",
   "execution_count": null,
   "id": "4bf41629",
   "metadata": {},
   "outputs": [],
   "source": [
    "mock = asset.mock_data"
   ]
  },
  {
   "cell_type": "markdown",
   "id": "c90b01fb",
   "metadata": {},
   "source": [
    "As we can see, the mock data is just a a native library type, and not a type created by PySyft"
   ]
  },
  {
   "cell_type": "code",
   "execution_count": null,
   "id": "1546a1c5",
   "metadata": {},
   "outputs": [],
   "source": [
    "type(mock), mock"
   ]
  },
  {
   "cell_type": "markdown",
   "id": "d3365978",
   "metadata": {},
   "source": [
    "We can use mock objects to write code against the mock data, which we can then pass to a `@syft_function` to execute remotely. E.g."
   ]
  },
  {
   "cell_type": "code",
   "execution_count": null,
   "id": "894de656",
   "metadata": {},
   "outputs": [],
   "source": [
    "x = mock + 3\n",
    "y = x ** 2"
   ]
  },
  {
   "cell_type": "code",
   "execution_count": null,
   "id": "afbb270b",
   "metadata": {},
   "outputs": [],
   "source": [
    "@sy.syft_function(input_policy=sy.ExactMatch(inp=asset),\n",
    "                  output_policy=sy.SingleExecutionExactOutput())\n",
    "def add_pow(inp):\n",
    "    x = inp + 3\n",
    "    y = x ** 2\n",
    "    return y"
   ]
  },
  {
   "cell_type": "markdown",
   "id": "001e4c22",
   "metadata": {},
   "source": [
    "We wont go deeper into the flow for approving execution of this here, for more see the `syft function` tutorial"
   ]
  },
  {
   "cell_type": "markdown",
   "id": "d0d58d82-8ca1-4357-a419-f1632fe7e865",
   "metadata": {},
   "source": [
    "## Eager Execution"
   ]
  },
  {
   "cell_type": "markdown",
   "id": "a5cec48e",
   "metadata": {},
   "source": [
    "`@syft_functions` are useful, but have 2 downsides\n",
    "\n",
    "- not every data owner wants to execute raw python code\n",
    "- you can only remotely execute the code once you get approval\n",
    "\n",
    "The second way to access a reference to our asset is via `Asset.pointer`. `Pointers` are objects that point to data on the server, they can contain mock data as well, but they rarely contain the real data. When you use a `Pointer` to do a computation PySyft does the following things\n",
    "\n",
    "- a) the computation is performed locally on the mock data\n",
    "- b) the client sends an `Action` to the server, which causes the computation to be performed on the server\n",
    "- c) we create a new `Pointer` as a result, which contains the locally created mock data and points to the result on the server\n",
    "\n",
    "We call B and C here side-effects"
   ]
  },
  {
   "cell_type": "code",
   "execution_count": null,
   "id": "8663ef86",
   "metadata": {},
   "outputs": [],
   "source": [
    "pointer = asset.pointer"
   ]
  },
  {
   "cell_type": "code",
   "execution_count": null,
   "id": "dc621d63",
   "metadata": {},
   "outputs": [],
   "source": [
    "pointer"
   ]
  },
  {
   "cell_type": "code",
   "execution_count": null,
   "id": "fc7dd15c",
   "metadata": {},
   "outputs": [],
   "source": [
    "pointer.sum()"
   ]
  },
  {
   "cell_type": "markdown",
   "id": "c10d7493",
   "metadata": {},
   "source": [
    "So the `.sum` method we just called did a, b and c behind the scenes. This also happens for the so called dunder methods, these are methods that are implicitly called when we call for instance `pointer + 1`. Under the hood `pointer + 1` is syntactic sugar for `pointer.__add__(1)` which allows the Pointer to intercept this call and create the side effects."
   ]
  },
  {
   "cell_type": "code",
   "execution_count": null,
   "id": "fe284698",
   "metadata": {},
   "outputs": [],
   "source": [
    "pointer2 = pointer + 1\n",
    "pointer2"
   ]
  },
  {
   "cell_type": "markdown",
   "id": "15848874",
   "metadata": {},
   "source": [
    "Another thing to notice here, is that to call `__add__` with `1` as an argument, we also need to have `1` on the server. Therefore, when we are passing arguments to methods, Syft is pointerizing them as well as a side effect before the action is executed on the server.\n",
    "\n",
    "This gives us a pretty complete picture of how we can execute methods on pointers. Sometimes we want to create objects from scratch, not merely as a result of a method. In eager execution land, this means creating a pointer on the server."
   ]
  },
  {
   "cell_type": "code",
   "execution_count": null,
   "id": "f079370f",
   "metadata": {},
   "outputs": [],
   "source": [
    "pointer3 = guest_client.api.lib.numpy.array([4,5,6])\n",
    "pointer3"
   ]
  },
  {
   "cell_type": "markdown",
   "id": "a81a6bcb",
   "metadata": {},
   "source": [
    "This also created a pointer. In this case, we can see the real data (not a mock), as we own this data. We can use the `client.api.lib.path` pattern for both functions and classes. Morover, we can combine it with the original pointer in the same was as before:"
   ]
  },
  {
   "cell_type": "code",
   "execution_count": null,
   "id": "ae57c9dd",
   "metadata": {},
   "outputs": [],
   "source": [
    "pointer3 = guest_client.api.lib.numpy.add(pointer, pointer3)"
   ]
  },
  {
   "cell_type": "markdown",
   "id": "574c9d48",
   "metadata": {},
   "source": [
    "For methods, functions and classes, we can use autocomplete. In a jupyter notebook you can do this by typing the method and the opening brackets, and then calling `shift-tab`, e.g. pointer.max().\n",
    "\n",
    "**step into the `()` and type shift-tab for auto complete**"
   ]
  },
  {
   "cell_type": "code",
   "execution_count": null,
   "id": "09dfedd3",
   "metadata": {},
   "outputs": [],
   "source": [
    "pointer.max()"
   ]
  },
  {
   "cell_type": "markdown",
   "id": "9bbecd85",
   "metadata": {},
   "source": [
    "Note that the Same works for `guest_client.api.lib.numpy.some_function`.\n",
    "\n",
    "When we are done with our computations, we can request the real result of the computation, instead of the mock. We can do this using the `Pointer.request()` method:"
   ]
  },
  {
   "cell_type": "code",
   "execution_count": null,
   "id": "3a525267",
   "metadata": {},
   "outputs": [],
   "source": [
    "pointer3.request(guest_client)"
   ]
  },
  {
   "cell_type": "markdown",
   "id": "d08578b9",
   "metadata": {},
   "source": [
    "Data owners can now approve this request"
   ]
  },
  {
   "cell_type": "code",
   "execution_count": null,
   "id": "fe91e4c3",
   "metadata": {},
   "outputs": [],
   "source": [
    "root_client = node.login(email=\"info@openmined.org\", password=\"changethis\")"
   ]
  },
  {
   "cell_type": "code",
   "execution_count": null,
   "id": "b0872e37",
   "metadata": {},
   "outputs": [],
   "source": [
    "requests = root_client.api.services.request.get_all()\n",
    "requests"
   ]
  },
  {
   "cell_type": "code",
   "execution_count": null,
   "id": "43a2ab22",
   "metadata": {},
   "outputs": [],
   "source": [
    "requests[0].approve_with_client(root_client)"
   ]
  },
  {
   "cell_type": "markdown",
   "id": "5d2531e9",
   "metadata": {},
   "source": [
    "Which allows the data scientists to download the result"
   ]
  },
  {
   "cell_type": "code",
   "execution_count": null,
   "id": "352300dd",
   "metadata": {},
   "outputs": [],
   "source": [
    "pointer3.get_from(guest_client)"
   ]
  },
  {
   "cell_type": "markdown",
   "id": "9de414a9-23c6-4a57-8169-e2d955e91d77",
   "metadata": {},
   "source": [
    "## Action Service"
   ]
  },
  {
   "cell_type": "markdown",
   "id": "c8d32f94-8659-4ae7-ae99-956823319ee4",
   "metadata": {},
   "source": [
    "### Listing the Services"
   ]
  },
  {
   "cell_type": "markdown",
   "id": "8d692412-ea35-4201-accb-6a2c2e3ab2fb",
   "metadata": {},
   "source": [
    "### Autocomplete Service Methods"
   ]
  },
  {
   "cell_type": "markdown",
   "id": "7e18c46c-6ccd-43f2-b86f-66553a4a8779",
   "metadata": {},
   "source": [
    "### Viewing Method Signatures"
   ]
  },
  {
   "cell_type": "markdown",
   "id": "60b4d110-a9e1-4a6c-bdd3-08828b9777a2",
   "metadata": {},
   "source": [
    "## Simple Example"
   ]
  },
  {
   "cell_type": "markdown",
   "id": "c77e3e88-0058-45fb-aa8d-4df59251020c",
   "metadata": {},
   "source": [
    "## Request the Result"
   ]
  },
  {
   "cell_type": "code",
   "execution_count": null,
   "id": "b8ca1e16-6c38-4078-a2b8-40ee40aa20ec",
   "metadata": {},
   "outputs": [],
   "source": []
  }
 ],
 "metadata": {
  "kernelspec": {
   "display_name": "Python 3 (ipykernel)",
   "language": "python",
   "name": "python3"
  },
  "language_info": {
   "codemirror_mode": {
    "name": "ipython",
    "version": 3
   },
   "file_extension": ".py",
   "mimetype": "text/x-python",
   "name": "python",
   "nbconvert_exporter": "python",
   "pygments_lexer": "ipython3",
   "version": "3.9.16"
  },
  "toc": {
   "base_numbering": 1,
   "nav_menu": {},
   "number_sections": true,
   "sideBar": true,
   "skip_h1_title": false,
   "title_cell": "Table of Contents",
   "title_sidebar": "Contents",
   "toc_cell": false,
   "toc_position": {},
   "toc_section_display": true,
   "toc_window_display": true
  }
 },
 "nbformat": 4,
 "nbformat_minor": 5
}

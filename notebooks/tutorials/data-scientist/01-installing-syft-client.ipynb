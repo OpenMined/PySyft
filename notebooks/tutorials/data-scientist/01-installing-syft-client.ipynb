{
 "cells": [
  {
   "cell_type": "markdown",
   "id": "b3396eef-e238-450d-9ab0-0a9adfc366ed",
   "metadata": {
    "tags": []
   },
   "source": [
    "# Installing Syft Python Client"
   ]
  },
  {
   "cell_type": "markdown",
   "id": "852e1a84-ba63-4483-9d78-e26e4c3bb2cf",
   "metadata": {},
   "source": [
    "## Versions"
   ]
  },
  {
   "cell_type": "markdown",
   "id": "2a19ce0b-fd71-4a2f-8b9c-523cea70470f",
   "metadata": {},
   "source": [
    "## Platforms"
   ]
  },
  {
   "cell_type": "markdown",
   "id": "1ca842bf-313f-4cf4-9987-e370338e4266",
   "metadata": {},
   "source": [
    "## Checking Version"
   ]
  },
  {
   "cell_type": "markdown",
   "id": "5d3a1fd7-632a-4eb4-812a-3709b52b27d1",
   "metadata": {},
   "source": [
    "## Compatibility"
   ]
  },
  {
   "cell_type": "code",
   "execution_count": null,
   "id": "30ad64ce-1940-4b07-b7dc-6898b932121f",
   "metadata": {},
   "outputs": [],
   "source": []
  }
 ],
 "metadata": {
  "kernelspec": {
   "display_name": "Python 3 (ipykernel)",
   "language": "python",
   "name": "python3"
  },
  "language_info": {
   "codemirror_mode": {
    "name": "ipython",
    "version": 3
   },
   "file_extension": ".py",
   "mimetype": "text/x-python",
   "name": "python",
   "nbconvert_exporter": "python",
   "pygments_lexer": "ipython3",
   "version": "3.10.9"
  }
 },
 "nbformat": 4,
 "nbformat_minor": 5
}

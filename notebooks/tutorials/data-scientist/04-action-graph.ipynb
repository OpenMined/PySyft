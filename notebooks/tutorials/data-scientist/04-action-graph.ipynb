{
 "cells": [
  {
   "cell_type": "markdown",
   "id": "a30cfb6f-2a1d-419b-bdc6-e569f9898702",
   "metadata": {},
   "source": [
    "# Action Graph"
   ]
  },
  {
   "cell_type": "markdown",
   "id": "71d028b9-ef07-4b34-9cf8-8cec13d87082",
   "metadata": {},
   "source": [
    "## Current Limitations"
   ]
  },
  {
   "cell_type": "markdown",
   "id": "0b6ea7f1-cb94-4f73-ad29-2a78f917ca0f",
   "metadata": {},
   "source": [
    "### Using mocks locally"
   ]
  },
  {
   "cell_type": "markdown",
   "id": "48352392-33b0-4eb1-81e2-3657ff7a5b08",
   "metadata": {},
   "source": [
    "### JAX autograd functions"
   ]
  },
  {
   "cell_type": "markdown",
   "id": "bb0b1acc-370c-4b91-91c1-f4d047db693f",
   "metadata": {},
   "source": [
    "## Viewing the Graph"
   ]
  },
  {
   "cell_type": "markdown",
   "id": "8b7148d3-04a8-47c8-8438-ed3b8f0d494b",
   "metadata": {},
   "source": [
    "## Numpy Tutorials"
   ]
  },
  {
   "cell_type": "markdown",
   "id": "71301554-2e0d-48ad-8926-7b5cd4f109c4",
   "metadata": {},
   "source": [
    "## Pandas Tutorials"
   ]
  },
  {
   "cell_type": "markdown",
   "id": "7cb90641-fe25-4ad9-a6d9-db1f00cb996c",
   "metadata": {},
   "source": [
    "## JAX Tutorials"
   ]
  },
  {
   "cell_type": "code",
   "execution_count": null,
   "id": "a786d676-9d5c-4f80-8b67-d627d072b64d",
   "metadata": {},
   "outputs": [],
   "source": []
  }
 ],
 "metadata": {
  "kernelspec": {
   "display_name": "Python 3 (ipykernel)",
   "language": "python",
   "name": "python3"
  },
  "language_info": {
   "codemirror_mode": {
    "name": "ipython",
    "version": 3
   },
   "file_extension": ".py",
   "mimetype": "text/x-python",
   "name": "python",
   "nbconvert_exporter": "python",
   "pygments_lexer": "ipython3",
   "version": "3.10.9"
  }
 },
 "nbformat": 4,
 "nbformat_minor": 5
}

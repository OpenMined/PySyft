{
 "cells": [
  {
   "cell_type": "markdown",
   "id": "1deae678-44e8-4b76-944c-986054cc9b7d",
   "metadata": {},
   "source": [
    "# Messaging and Requests"
   ]
  },
  {
   "cell_type": "markdown",
   "id": "85828d65",
   "metadata": {},
   "source": [
    "## Install"
   ]
  },
  {
   "cell_type": "code",
   "execution_count": null,
   "id": "5f93c70b",
   "metadata": {},
   "outputs": [],
   "source": [
    "SYFT_VERSION = \">=0.8.1,<0.9\"\n",
    "package_string = f'\"syft{SYFT_VERSION}\"'\n",
    "# %pip install {package_string} -f https://whls.blob.core.windows.net/unstable/index.html"
   ]
  },
  {
   "cell_type": "code",
   "execution_count": null,
   "id": "8b1e80a7",
   "metadata": {},
   "outputs": [],
   "source": [
    "import syft as sy\n",
    "sy.requires(SYFT_VERSION)"
   ]
  },
  {
   "cell_type": "code",
   "execution_count": null,
   "id": "f5d205d3",
   "metadata": {},
   "outputs": [],
   "source": [
    "node = sy.orchestra.launch(name=\"messages-requests-example-domain-1-ds\",port=7023, reset=True)"
   ]
  },
  {
   "cell_type": "markdown",
   "id": "f43b3128",
   "metadata": {},
   "source": [
    "## Setup"
   ]
  },
  {
   "cell_type": "markdown",
   "id": "67163e00",
   "metadata": {},
   "source": [
    "For the purpose of this tutorial we are creating a very simple dataset, which is created and owner by the root client"
   ]
  },
  {
   "cell_type": "code",
   "execution_count": null,
   "id": "bde35a1f",
   "metadata": {},
   "outputs": [],
   "source": [
    "admin_client = node.login(email=\"info@openmined.org\", password=\"changethis\")"
   ]
  },
  {
   "cell_type": "code",
   "execution_count": null,
   "id": "3521a555",
   "metadata": {},
   "outputs": [],
   "source": [
    "import numpy as np\n",
    "dataset = sy.Dataset(\n",
    "    name=\"my dataset\",\n",
    "    asset_list=[\n",
    "        sy.Asset(\n",
    "        name=\"my asset\",\n",
    "        data=np.array([1,2,3]),\n",
    "        mock=np.array([1,1,1])\n",
    "    )]\n",
    ")\n",
    "admin_client.upload_dataset(dataset)"
   ]
  },
  {
   "cell_type": "code",
   "execution_count": null,
   "id": "493927e1",
   "metadata": {},
   "outputs": [],
   "source": [
    "admin_client.register(name=\"Jane Doe\", email=\"jane@caltech.edu\",\n",
    "                            password=\"abc123\", institution=\"Caltech\", website=\"https://www.caltech.edu/\")"
   ]
  },
  {
   "cell_type": "code",
   "execution_count": null,
   "id": "15386016",
   "metadata": {},
   "outputs": [],
   "source": [
    "guest_client = node.client.login(email=\"jane@caltech.edu\", password=\"abc123\")"
   ]
  },
  {
   "cell_type": "code",
   "execution_count": null,
   "id": "15c07b8c",
   "metadata": {},
   "outputs": [],
   "source": [
    "asset = guest_client.datasets[0].assets[0]"
   ]
  },
  {
   "cell_type": "code",
   "execution_count": null,
   "id": "10fbcb26",
   "metadata": {},
   "outputs": [],
   "source": [
    "@sy.syft_function_single_use()\n",
    "def func():\n",
    "    import random\n",
    "    data = list(range(100))\n",
    "    return sum(data) / 100 + random.random()\n",
    "\n",
    "@sy.syft_function_single_use(data=asset)\n",
    "def mean(data):\n",
    "    import random\n",
    "    return sum(data)/len(data) + + random.random()\n",
    "\n",
    "@sy.syft_function_single_use(data=asset)\n",
    "def reveal_data(data):\n",
    "    return data"
   ]
  },
  {
   "cell_type": "code",
   "execution_count": null,
   "id": "5a6ad67a",
   "metadata": {},
   "outputs": [],
   "source": [
    "# Create a project\n",
    "new_project = sy.Project(\n",
    "    name=\"My Cool Project\",\n",
    "    description=\"\"\"Hi, I want to calculate the mean of your private data,\\\n",
    "                    pretty please!\"\"\",\n",
    "    members=[guest_client],\n",
    ")\n",
    "new_project"
   ]
  },
  {
   "cell_type": "code",
   "execution_count": null,
   "id": "ee258ffe",
   "metadata": {},
   "outputs": [],
   "source": [
    "new_project.create_code_request(func, guest_client)\n",
    "new_project.create_code_request(mean, guest_client)\n",
    "new_project.create_code_request(reveal_data, guest_client)"
   ]
  },
  {
   "cell_type": "code",
   "execution_count": null,
   "id": "4eed44b4",
   "metadata": {},
   "outputs": [],
   "source": [
    "project = new_project.start()\n",
    "project"
   ]
  },
  {
   "cell_type": "code",
   "execution_count": null,
   "id": "8ed8a653",
   "metadata": {},
   "outputs": [],
   "source": [
    "dangerous_request = admin_client.projects[0].requests[-1]\n",
    "dangerous_request.deny(reason=\"Dangerous request, you just want to reveal the data!\")"
   ]
  },
  {
   "cell_type": "markdown",
   "id": "43642284-f033-4967-89f0-5ab357446c4f",
   "metadata": {},
   "source": [
    "## Messaging"
   ]
  },
  {
   "cell_type": "markdown",
   "id": "242e78c4",
   "metadata": {},
   "source": [
    "list notifications using client.notifications (messages sent and requests)\n"
   ]
  },
  {
   "cell_type": "code",
   "execution_count": null,
   "id": "2fc934a2",
   "metadata": {},
   "outputs": [],
   "source": [
    "guest_client.notifications"
   ]
  },
  {
   "cell_type": "markdown",
   "id": "ecd122c7-032b-447a-a813-df81ad67f8a3",
   "metadata": {},
   "source": [
    "## Common Permission Errors"
   ]
  },
  {
   "cell_type": "markdown",
   "id": "e69b1f0a",
   "metadata": {},
   "source": [
    "approve request that you dont have permission for example"
   ]
  },
  {
   "cell_type": "code",
   "execution_count": null,
   "id": "bf5daf54",
   "metadata": {},
   "outputs": [],
   "source": [
    "guest_client.projects"
   ]
  },
  {
   "cell_type": "code",
   "execution_count": null,
   "id": "79f7a14b",
   "metadata": {},
   "outputs": [],
   "source": [
    "guest_client.projects[0]"
   ]
  },
  {
   "cell_type": "code",
   "execution_count": null,
   "id": "aba2febc",
   "metadata": {},
   "outputs": [],
   "source": [
    "func_request = guest_client.projects[0].requests[0]\n",
    "func_request"
   ]
  },
  {
   "cell_type": "code",
   "execution_count": null,
   "id": "70e268e5",
   "metadata": {},
   "outputs": [],
   "source": [
    "func_request.approve()"
   ]
  },
  {
   "cell_type": "markdown",
   "id": "3d921990-2182-4c91-ad14-27c61d4b2585",
   "metadata": {},
   "source": [
    "## Requesting Changes"
   ]
  },
  {
   "cell_type": "markdown",
   "id": "a2298da8",
   "metadata": {},
   "source": [
    "request permission to an object via a pointer"
   ]
  },
  {
   "cell_type": "code",
   "execution_count": null,
   "id": "e98e9dd6-6fa3-4561-8397-a035e1dd983a",
   "metadata": {},
   "outputs": [],
   "source": [
    "asset = guest_client.datasets[0].assets[0]\n",
    "asset"
   ]
  },
  {
   "cell_type": "code",
   "execution_count": null,
   "id": "b2efd8a2",
   "metadata": {},
   "outputs": [],
   "source": [
    "request = asset.pointer.request(guest_client)\n",
    "request"
   ]
  },
  {
   "cell_type": "code",
   "execution_count": null,
   "id": "15263787",
   "metadata": {},
   "outputs": [],
   "source": []
  }
 ],
 "metadata": {
  "kernelspec": {
   "display_name": "Python 3 (ipykernel)",
   "language": "python",
   "name": "python3"
  },
  "language_info": {
   "codemirror_mode": {
    "name": "ipython",
    "version": 3
   },
   "file_extension": ".py",
   "mimetype": "text/x-python",
   "name": "python",
   "nbconvert_exporter": "python",
   "pygments_lexer": "ipython3",
   "version": "3.9.16"
  },
  "toc": {
   "base_numbering": 1,
   "nav_menu": {},
   "number_sections": true,
   "sideBar": true,
   "skip_h1_title": false,
   "title_cell": "Table of Contents",
   "title_sidebar": "Contents",
   "toc_cell": false,
   "toc_position": {},
   "toc_section_display": true,
   "toc_window_display": true
  }
 },
 "nbformat": 4,
 "nbformat_minor": 5
}

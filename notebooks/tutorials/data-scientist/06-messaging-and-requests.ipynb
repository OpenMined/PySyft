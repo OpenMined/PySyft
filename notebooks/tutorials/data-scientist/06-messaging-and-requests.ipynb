{
 "cells": [
  {
   "cell_type": "markdown",
   "id": "1deae678-44e8-4b76-944c-986054cc9b7d",
   "metadata": {},
   "source": [
    "# Messaging and Requests"
   ]
  },
  {
   "cell_type": "markdown",
   "id": "43642284-f033-4967-89f0-5ab357446c4f",
   "metadata": {},
   "source": [
    "## Messaging"
   ]
  },
  {
   "cell_type": "markdown",
   "id": "ecd122c7-032b-447a-a813-df81ad67f8a3",
   "metadata": {},
   "source": [
    "## Common Permission Errors"
   ]
  },
  {
   "cell_type": "markdown",
   "id": "3d921990-2182-4c91-ad14-27c61d4b2585",
   "metadata": {},
   "source": [
    "## Requesting Changes"
   ]
  },
  {
   "cell_type": "code",
   "execution_count": null,
   "id": "e98e9dd6-6fa3-4561-8397-a035e1dd983a",
   "metadata": {},
   "outputs": [],
   "source": []
  }
 ],
 "metadata": {
  "kernelspec": {
   "display_name": "Python 3 (ipykernel)",
   "language": "python",
   "name": "python3"
  },
  "language_info": {
   "codemirror_mode": {
    "name": "ipython",
    "version": 3
   },
   "file_extension": ".py",
   "mimetype": "text/x-python",
   "name": "python",
   "nbconvert_exporter": "python",
   "pygments_lexer": "ipython3",
   "version": "3.10.9"
  }
 },
 "nbformat": 4,
 "nbformat_minor": 5
}

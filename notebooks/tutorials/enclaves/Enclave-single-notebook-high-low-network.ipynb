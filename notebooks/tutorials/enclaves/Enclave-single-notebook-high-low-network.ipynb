{
 "cells": [
  {
   "cell_type": "code",
   "execution_count": null,
   "id": "0",
   "metadata": {},
   "outputs": [],
   "source": [
    "# third party\n",
    "from recordlinkage.datasets import load_febrl4\n",
    "\n",
    "# syft absolute\n",
    "import syft as sy"
   ]
  },
  {
   "cell_type": "markdown",
   "id": "1",
   "metadata": {},
   "source": [
    "# Create Nodes"
   ]
  },
  {
   "cell_type": "markdown",
   "id": "2",
   "metadata": {},
   "source": [
    "## Staging Low side"
   ]
  },
  {
   "cell_type": "markdown",
   "id": "3",
   "metadata": {},
   "source": [
    "create enclave node"
   ]
  },
  {
   "cell_type": "code",
   "execution_count": null,
   "id": "4",
   "metadata": {},
   "outputs": [],
   "source": [
    "embassador_node_low = sy.orchestra.launch(\n",
    "    name=\"ambassador node\",\n",
    "    node_side_type=\"low\",\n",
    "    local_db=True,\n",
    "    reset=True,\n",
    "    #     enable_warnings=True,\n",
    ")"
   ]
  },
  {
   "cell_type": "markdown",
   "id": "5",
   "metadata": {},
   "source": [
    "Create canada node & italy node"
   ]
  },
  {
   "cell_type": "code",
   "execution_count": null,
   "id": "6",
   "metadata": {},
   "outputs": [],
   "source": [
    "ca_node_low = sy.orchestra.launch(\n",
    "    name=\"canada-1\",\n",
    "    node_side_type=\"low\",\n",
    "    local_db=True,\n",
    "    reset=True,\n",
    "    #     enable_warnings=True,\n",
    ")\n",
    "it_node_low = sy.orchestra.launch(\n",
    "    name=\"italy-1\",\n",
    "    node_side_type=\"low\",\n",
    "    local_db=True,\n",
    "    reset=True,\n",
    "    #     enable_warnings=True,\n",
    ")"
   ]
  },
  {
   "cell_type": "code",
   "execution_count": null,
   "id": "7",
   "metadata": {},
   "outputs": [],
   "source": [
    "gateway_node_low = sy.orchestra.launch(\n",
    "    name=\"gateway-1\",\n",
    "    node_type=\"gateway\",\n",
    "    node_side_type=\"low\",\n",
    "    local_db=True,\n",
    "    reset=True,\n",
    "    dev_mode=True,\n",
    "    association_request_auto_approval=True,\n",
    "    #                                        enable_warnings=True\n",
    ")"
   ]
  },
  {
   "cell_type": "markdown",
   "id": "8",
   "metadata": {},
   "source": [
    "## High side"
   ]
  },
  {
   "cell_type": "code",
   "execution_count": null,
   "id": "9",
   "metadata": {},
   "outputs": [],
   "source": [
    "enclave_node_high = sy.orchestra.launch(\n",
    "    name=\"enclave node\",\n",
    "    node_type=\"enclave\",\n",
    "    reset=True,\n",
    "    #     enable_warnings=True,\n",
    ")\n",
    "ca_node_high = sy.orchestra.launch(\n",
    "    name=\"canada-2\",\n",
    "    local_db=True,\n",
    "    reset=True,\n",
    "    #     enable_warnings=True,\n",
    ")\n",
    "it_node_high = sy.orchestra.launch(\n",
    "    name=\"italy-2\",\n",
    "    local_db=True,\n",
    "    reset=True,\n",
    "    #     enable_warnings=True,\n",
    ")"
   ]
  },
  {
   "cell_type": "code",
   "execution_count": null,
   "id": "10",
   "metadata": {},
   "outputs": [],
   "source": [
    "gateway_node_high = sy.orchestra.launch(\n",
    "    name=\"gateway-2\",\n",
    "    node_type=\"gateway\",\n",
    "    local_db=True,\n",
    "    reset=True,\n",
    "    dev_mode=True,\n",
    "    association_request_auto_approval=True,\n",
    "    #     enable_warnings=True,\n",
    ")"
   ]
  },
  {
   "cell_type": "markdown",
   "id": "11",
   "metadata": {},
   "source": [
    "# DOs"
   ]
  },
  {
   "cell_type": "markdown",
   "id": "12",
   "metadata": {},
   "source": [
    "## Login"
   ]
  },
  {
   "cell_type": "markdown",
   "id": "13",
   "metadata": {},
   "source": [
    "### Staging Low side"
   ]
  },
  {
   "cell_type": "code",
   "execution_count": null,
   "id": "14",
   "metadata": {},
   "outputs": [],
   "source": [
    "do_ca_client_low = ca_node_low.login(email=\"info@openmined.org\", password=\"changethis\")\n",
    "do_it_client_low = it_node_low.login(email=\"info@openmined.org\", password=\"changethis\")\n",
    "embassador_client_low = embassador_node_low.login(\n",
    "    email=\"info@openmined.org\", password=\"changethis\"\n",
    ")"
   ]
  },
  {
   "cell_type": "markdown",
   "id": "15",
   "metadata": {},
   "source": [
    "### Production High side"
   ]
  },
  {
   "cell_type": "code",
   "execution_count": null,
   "id": "16",
   "metadata": {},
   "outputs": [],
   "source": [
    "do_ca_client_high = ca_node_high.login(\n",
    "    email=\"info@openmined.org\", password=\"changethis\"\n",
    ")\n",
    "do_it_client_high = it_node_high.login(\n",
    "    email=\"info@openmined.org\", password=\"changethis\"\n",
    ")"
   ]
  },
  {
   "cell_type": "markdown",
   "id": "17",
   "metadata": {},
   "source": [
    "## Connect to network"
   ]
  },
  {
   "cell_type": "code",
   "execution_count": null,
   "id": "18",
   "metadata": {},
   "outputs": [],
   "source": [
    "# TODO: add security layer here"
   ]
  },
  {
   "cell_type": "code",
   "execution_count": null,
   "id": "19",
   "metadata": {},
   "outputs": [],
   "source": [
    "enclave_client_high = enclave_node_high.client"
   ]
  },
  {
   "cell_type": "code",
   "execution_count": null,
   "id": "20",
   "metadata": {},
   "outputs": [],
   "source": [
    "# gateway_root_client.register(name=\"\", email=\"info@openmined.org\", password=\"changethis\")\n",
    "# gateway_root_client.register(name=\"\", email=\"info@openmined.org\", password=\"changethis\")"
   ]
  },
  {
   "cell_type": "code",
   "execution_count": null,
   "id": "21",
   "metadata": {},
   "outputs": [],
   "source": [
    "res = do_ca_client_low.connect_to_gateway(\n",
    "    handle=gateway_node_low\n",
    ")  # add credentials here\n",
    "res"
   ]
  },
  {
   "cell_type": "code",
   "execution_count": null,
   "id": "22",
   "metadata": {},
   "outputs": [],
   "source": [
    "res = do_it_client_low.connect_to_gateway(\n",
    "    handle=gateway_node_low\n",
    ")  # add credentials here\n",
    "res"
   ]
  },
  {
   "cell_type": "code",
   "execution_count": null,
   "id": "23",
   "metadata": {},
   "outputs": [],
   "source": [
    "res = do_ca_client_high.connect_to_gateway(handle=gateway_node_high)\n",
    "res = do_it_client_high.connect_to_gateway(handle=gateway_node_high)"
   ]
  },
  {
   "cell_type": "code",
   "execution_count": null,
   "id": "24",
   "metadata": {},
   "outputs": [],
   "source": [
    "## Also for ambassador"
   ]
  },
  {
   "cell_type": "code",
   "execution_count": null,
   "id": "25",
   "metadata": {},
   "outputs": [],
   "source": [
    "# TODO: who is going to be responsible for connecting the enclave to the gateway\n",
    "res = enclave_client_high.connect_to_gateway(handle=gateway_node_high)"
   ]
  },
  {
   "cell_type": "code",
   "execution_count": null,
   "id": "26",
   "metadata": {},
   "outputs": [],
   "source": [
    "res = embassador_client_low.connect_to_gateway(\n",
    "    handle=gateway_node_low\n",
    ")  # add credentials here"
   ]
  },
  {
   "cell_type": "code",
   "execution_count": null,
   "id": "27",
   "metadata": {},
   "outputs": [],
   "source": [
    "## Upload dataset"
   ]
  },
  {
   "cell_type": "markdown",
   "id": "28",
   "metadata": {},
   "source": [
    "### Staging Low side"
   ]
  },
  {
   "cell_type": "code",
   "execution_count": null,
   "id": "29",
   "metadata": {},
   "outputs": [],
   "source": [
    "# Using public datasets from  Freely Extensible Biomedical Record Linkage (Febrl)\n",
    "canada_census_data_low, italy_census_data_low = load_febrl4()"
   ]
  },
  {
   "cell_type": "code",
   "execution_count": null,
   "id": "30",
   "metadata": {},
   "outputs": [],
   "source": [
    "for dataset, client, country in zip(\n",
    "    [canada_census_data_low, italy_census_data_low],\n",
    "    [do_ca_client_low, do_it_client_low],\n",
    "    [\"Canada\", \"Italy\"],\n",
    "):\n",
    "    private_data, mock_data = dataset[:2500], dataset[2500:]\n",
    "    dataset = sy.Dataset(\n",
    "        name=f\"{country} - FEBrl Census Data\",\n",
    "        description=\"abc\",\n",
    "        asset_list=[\n",
    "            sy.Asset(\n",
    "                name=\"census_data\",\n",
    "                mock=mock_data,\n",
    "                data=private_data,\n",
    "                shape=private_data.shape,\n",
    "                mock_is_real=True,\n",
    "            )\n",
    "        ],\n",
    "    )\n",
    "    client.upload_dataset(dataset)"
   ]
  },
  {
   "cell_type": "markdown",
   "id": "31",
   "metadata": {},
   "source": [
    "### Production High side"
   ]
  },
  {
   "cell_type": "code",
   "execution_count": null,
   "id": "32",
   "metadata": {},
   "outputs": [],
   "source": [
    "# Using public datasets from  Freely Extensible Biomedical Record Linkage (Febrl)\n",
    "canada_census_data_high, italy_census_data_high = load_febrl4()"
   ]
  },
  {
   "cell_type": "code",
   "execution_count": null,
   "id": "33",
   "metadata": {},
   "outputs": [],
   "source": [
    "for dataset, client, country in zip(\n",
    "    [canada_census_data_high, italy_census_data_high],\n",
    "    [do_ca_client_high, do_it_client_high],\n",
    "    [\"Canada\", \"Italy\"],\n",
    "):\n",
    "    private_data, mock_data = dataset[:2500], dataset[2500:]\n",
    "    dataset = sy.Dataset(\n",
    "        name=f\"{country} - FEBrl Census Data\",\n",
    "        description=\"abc\",\n",
    "        asset_list=[\n",
    "            sy.Asset(\n",
    "                name=\"census_data\",\n",
    "                mock=mock_data,\n",
    "                data=private_data,\n",
    "                shape=private_data.shape,\n",
    "                mock_is_real=True,\n",
    "            )\n",
    "        ],\n",
    "    )\n",
    "    client.upload_dataset(dataset)"
   ]
  },
  {
   "cell_type": "markdown",
   "id": "34",
   "metadata": {},
   "source": [
    "## create accounts for DS"
   ]
  },
  {
   "cell_type": "markdown",
   "id": "35",
   "metadata": {},
   "source": [
    "### Staging Low side"
   ]
  },
  {
   "cell_type": "code",
   "execution_count": null,
   "id": "36",
   "metadata": {},
   "outputs": [],
   "source": [
    "for client in [do_ca_client_low, do_it_client_low]:\n",
    "    client.register(\n",
    "        name=\"Sheldon\",\n",
    "        email=\"sheldon@caltech.edu\",\n",
    "        password=\"changethis\",\n",
    "        password_verify=\"changethis\",\n",
    "    )"
   ]
  },
  {
   "cell_type": "code",
   "execution_count": null,
   "id": "37",
   "metadata": {},
   "outputs": [],
   "source": [
    "embassador_client_low.register(\n",
    "    name=\"Sheldon\",\n",
    "    email=\"sheldon@caltech.edu\",\n",
    "    password=\"changethis\",\n",
    "    password_verify=\"changethis\",\n",
    ")"
   ]
  },
  {
   "cell_type": "markdown",
   "id": "38",
   "metadata": {},
   "source": [
    "## Create account for embassador"
   ]
  },
  {
   "cell_type": "markdown",
   "id": "39",
   "metadata": {},
   "source": [
    "### Production High Side"
   ]
  },
  {
   "cell_type": "code",
   "execution_count": null,
   "id": "40",
   "metadata": {},
   "outputs": [],
   "source": [
    "for client in [do_ca_client_high, do_it_client_high]:\n",
    "    client.register(\n",
    "        name=\"Sheldon\",\n",
    "        email=\"sheldon@caltech.edu\",\n",
    "        password=\"changethis\",\n",
    "        password_verify=\"changethis\",\n",
    "    )"
   ]
  },
  {
   "cell_type": "markdown",
   "id": "41",
   "metadata": {},
   "source": [
    "# DS Low Side"
   ]
  },
  {
   "cell_type": "markdown",
   "id": "42",
   "metadata": {},
   "source": [
    "## DS Get proxy clients"
   ]
  },
  {
   "cell_type": "markdown",
   "id": "43",
   "metadata": {},
   "source": [
    "### Staging Low side"
   ]
  },
  {
   "cell_type": "code",
   "execution_count": null,
   "id": "44",
   "metadata": {},
   "outputs": [],
   "source": [
    "ds_gateway_client_low = gateway_node_low.client"
   ]
  },
  {
   "cell_type": "code",
   "execution_count": null,
   "id": "45",
   "metadata": {},
   "outputs": [],
   "source": [
    "assert len(ds_gateway_client_low.domains) == 3\n",
    "ds_gateway_client_low.domains"
   ]
  },
  {
   "cell_type": "code",
   "execution_count": null,
   "id": "46",
   "metadata": {},
   "outputs": [],
   "source": [
    "ds_ca_proxy_client_low = ds_gateway_client_low.domains[1].login(\n",
    "    email=\"sheldon@caltech.edu\", password=\"changethis\"\n",
    ")\n",
    "ds_it_proxy_client_low = ds_gateway_client_low.domains[2].login(\n",
    "    email=\"sheldon@caltech.edu\", password=\"changethis\"\n",
    ")\n",
    "ds_amb_proxy_client_low = ds_gateway_client_low.domains[0].login(\n",
    "    email=\"sheldon@caltech.edu\", password=\"changethis\"\n",
    ")"
   ]
  },
  {
   "cell_type": "markdown",
   "id": "47",
   "metadata": {},
   "source": [
    "## Find datasets"
   ]
  },
  {
   "cell_type": "code",
   "execution_count": null,
   "id": "48",
   "metadata": {},
   "outputs": [],
   "source": [
    "canada_census_data = ds_ca_proxy_client_low.datasets[-1].assets[0]\n",
    "italy_census_data = ds_it_proxy_client_low.datasets[-1].assets[0]"
   ]
  },
  {
   "cell_type": "markdown",
   "id": "49",
   "metadata": {},
   "source": [
    "## Create Request"
   ]
  },
  {
   "cell_type": "code",
   "execution_count": null,
   "id": "50",
   "metadata": {},
   "outputs": [],
   "source": [
    "@sy.syft_function_single_use(\n",
    "    canada_census_data=canada_census_data, italy_census_data=italy_census_data\n",
    ")\n",
    "def compute_census_matches(canada_census_data, italy_census_data):\n",
    "    # third party\n",
    "    import recordlinkage\n",
    "\n",
    "    # Index step\n",
    "    indexer = recordlinkage.Index()\n",
    "    indexer.block(\"given_name\")\n",
    "\n",
    "    candidate_links = indexer.index(canada_census_data, italy_census_data)\n",
    "\n",
    "    # Comparison step\n",
    "    compare_cl = recordlinkage.Compare()\n",
    "\n",
    "    compare_cl.exact(\"given_name\", \"given_name\", label=\"given_name\")\n",
    "    compare_cl.string(\n",
    "        \"surname\", \"surname\", method=\"jarowinkler\", threshold=0.85, label=\"surname\"\n",
    "    )\n",
    "    compare_cl.exact(\"date_of_birth\", \"date_of_birth\", label=\"date_of_birth\")\n",
    "    compare_cl.exact(\"suburb\", \"suburb\", label=\"suburb\")\n",
    "    compare_cl.exact(\"state\", \"state\", label=\"state\")\n",
    "    compare_cl.string(\"address_1\", \"address_1\", threshold=0.85, label=\"address_1\")\n",
    "\n",
    "    features = compare_cl.compute(\n",
    "        candidate_links, canada_census_data, italy_census_data\n",
    "    )\n",
    "\n",
    "    # Classification step\n",
    "    matches = features[features.sum(axis=1) > 3]\n",
    "\n",
    "    return len(matches)"
   ]
  },
  {
   "cell_type": "code",
   "execution_count": null,
   "id": "51",
   "metadata": {},
   "outputs": [],
   "source": [
    "# Checking result of mock data execution\n",
    "mock_result = compute_census_matches(\n",
    "    canada_census_data=canada_census_data.mock,\n",
    "    italy_census_data=italy_census_data.mock,\n",
    ")\n",
    "mock_result"
   ]
  },
  {
   "cell_type": "code",
   "execution_count": null,
   "id": "52",
   "metadata": {},
   "outputs": [],
   "source": [
    "ds_amb_proxy_client_low.code.request_code_execution(compute_census_matches)"
   ]
  },
  {
   "cell_type": "markdown",
   "id": "53",
   "metadata": {},
   "source": [
    "# Ambassador flow"
   ]
  },
  {
   "cell_type": "markdown",
   "id": "54",
   "metadata": {},
   "source": [
    "## Check Code Staging Low Side"
   ]
  },
  {
   "cell_type": "code",
   "execution_count": null,
   "id": "55",
   "metadata": {},
   "outputs": [],
   "source": [
    "embassador_client_low.requests[0].code"
   ]
  },
  {
   "cell_type": "markdown",
   "id": "56",
   "metadata": {},
   "source": [
    "## Login to Production High Side"
   ]
  },
  {
   "cell_type": "code",
   "execution_count": null,
   "id": "57",
   "metadata": {},
   "outputs": [],
   "source": [
    "amb_gateway_client_high = gateway_node_high.client"
   ]
  },
  {
   "cell_type": "code",
   "execution_count": null,
   "id": "58",
   "metadata": {},
   "outputs": [],
   "source": [
    "assert len(amb_gateway_client_high.domains) == 2\n",
    "amb_gateway_client_high.domains"
   ]
  },
  {
   "cell_type": "code",
   "execution_count": null,
   "id": "59",
   "metadata": {},
   "outputs": [],
   "source": [
    "amb_ca_proxy_client_high = amb_gateway_client_high.domains[1].login(\n",
    "    email=\"sheldon@caltech.edu\", password=\"changethis\"\n",
    ")\n",
    "amb_it_proxy_client_high = amb_gateway_client_high.domains[0].login(\n",
    "    email=\"sheldon@caltech.edu\", password=\"changethis\"\n",
    ")"
   ]
  },
  {
   "cell_type": "code",
   "execution_count": null,
   "id": "60",
   "metadata": {},
   "outputs": [],
   "source": [
    "assert len(amb_gateway_client_high.enclaves) == 1"
   ]
  },
  {
   "cell_type": "code",
   "execution_count": null,
   "id": "61",
   "metadata": {},
   "outputs": [],
   "source": [
    "amb_ca_proxy_client_high"
   ]
  },
  {
   "cell_type": "code",
   "execution_count": null,
   "id": "62",
   "metadata": {},
   "outputs": [],
   "source": [
    "amb_enclave_proxy_client_high = amb_gateway_client_high.enclaves[0].login(\n",
    "    name=\"Sheldon\", email=\"sheldon@caltech.edu\", password=\"changethis\", register=True\n",
    ")"
   ]
  },
  {
   "cell_type": "code",
   "execution_count": null,
   "id": "63",
   "metadata": {},
   "outputs": [],
   "source": [
    "# # this also creates a guest client\n",
    "# embassador_client_high = enclave_node_high.login(email=\"info@openmined.org\", password=\"changethis\",\n",
    "#                                                  name=\"Signor Ambassador\", register=True)"
   ]
  },
  {
   "cell_type": "markdown",
   "id": "64",
   "metadata": {},
   "source": [
    "## Find Datasets Production High side"
   ]
  },
  {
   "cell_type": "code",
   "execution_count": null,
   "id": "65",
   "metadata": {},
   "outputs": [],
   "source": [
    "canada_census_data_high = amb_ca_proxy_client_high.datasets[-1].assets[0]\n",
    "italy_census_data_high = amb_it_proxy_client_high.datasets[-1].assets[0]"
   ]
  },
  {
   "cell_type": "markdown",
   "id": "66",
   "metadata": {},
   "source": [
    "Copy code from the request"
   ]
  },
  {
   "cell_type": "markdown",
   "id": "67",
   "metadata": {},
   "source": [
    "## Submit code Production High side"
   ]
  },
  {
   "cell_type": "code",
   "execution_count": null,
   "id": "68",
   "metadata": {},
   "outputs": [],
   "source": [
    "@sy.syft_function_single_use(\n",
    "    canada_census_data=canada_census_data_high, italy_census_data=italy_census_data_high\n",
    ")\n",
    "def compute_census_matches_high(canada_census_data, italy_census_data):\n",
    "    # third party\n",
    "    import recordlinkage\n",
    "\n",
    "    # Index step\n",
    "    indexer = recordlinkage.Index()\n",
    "    indexer.block(\"given_name\")\n",
    "\n",
    "    candidate_links = indexer.index(canada_census_data, italy_census_data)\n",
    "\n",
    "    # Comparison step\n",
    "    compare_cl = recordlinkage.Compare()\n",
    "\n",
    "    compare_cl.exact(\"given_name\", \"given_name\", label=\"given_name\")\n",
    "    compare_cl.string(\n",
    "        \"surname\", \"surname\", method=\"jarowinkler\", threshold=0.85, label=\"surname\"\n",
    "    )\n",
    "    compare_cl.exact(\"date_of_birth\", \"date_of_birth\", label=\"date_of_birth\")\n",
    "    compare_cl.exact(\"suburb\", \"suburb\", label=\"suburb\")\n",
    "    compare_cl.exact(\"state\", \"state\", label=\"state\")\n",
    "    compare_cl.string(\"address_1\", \"address_1\", threshold=0.85, label=\"address_1\")\n",
    "\n",
    "    features = compare_cl.compute(\n",
    "        candidate_links, canada_census_data, italy_census_data\n",
    "    )\n",
    "\n",
    "    # Classification step\n",
    "    matches = features[features.sum(axis=1) > 3]\n",
    "\n",
    "    return len(matches)"
   ]
  },
  {
   "cell_type": "code",
   "execution_count": null,
   "id": "69",
   "metadata": {},
   "outputs": [],
   "source": [
    "# Checking result of mock data execution\n",
    "mock_result = compute_census_matches_high(\n",
    "    canada_census_data=canada_census_data_high.mock,\n",
    "    italy_census_data=italy_census_data_high.mock,\n",
    ")\n",
    "mock_result"
   ]
  },
  {
   "cell_type": "code",
   "execution_count": null,
   "id": "70",
   "metadata": {},
   "outputs": [],
   "source": [
    "# note that this is not embassador_client_high.**code**.request_code_execution\n",
    "amb_enclave_proxy_client_high.request_code_execution(compute_census_matches_high)"
   ]
  },
  {
   "cell_type": "markdown",
   "id": "71",
   "metadata": {},
   "source": [
    "## DOs Approve Production High Side"
   ]
  },
  {
   "cell_type": "code",
   "execution_count": null,
   "id": "72",
   "metadata": {},
   "outputs": [],
   "source": [
    "do_ca_client_high.requests[0].approve()"
   ]
  },
  {
   "cell_type": "code",
   "execution_count": null,
   "id": "73",
   "metadata": {},
   "outputs": [],
   "source": [
    "do_it_client_high.requests[0].approve()"
   ]
  },
  {
   "cell_type": "markdown",
   "id": "74",
   "metadata": {},
   "source": [
    "## Embassdor gets result from Production High Side"
   ]
  },
  {
   "cell_type": "code",
   "execution_count": null,
   "id": "75",
   "metadata": {},
   "outputs": [],
   "source": [
    "amb_enclave_proxy_client_high.code[-1].status"
   ]
  },
  {
   "cell_type": "code",
   "execution_count": null,
   "id": "76",
   "metadata": {},
   "outputs": [],
   "source": [
    "result_pointer = amb_enclave_proxy_client_high.code.compute_census_matches_high(\n",
    "    canada_census_data=canada_census_data_high,\n",
    "    italy_census_data=italy_census_data_high,\n",
    ")\n",
    "\n",
    "result_pointer"
   ]
  },
  {
   "cell_type": "code",
   "execution_count": null,
   "id": "77",
   "metadata": {},
   "outputs": [],
   "source": [
    "real_result = result_pointer.get()\n",
    "real_result"
   ]
  },
  {
   "cell_type": "markdown",
   "id": "78",
   "metadata": {},
   "source": [
    "## Ambassador Deposits Result"
   ]
  },
  {
   "cell_type": "code",
   "execution_count": null,
   "id": "79",
   "metadata": {},
   "outputs": [],
   "source": [
    "embassador_client_low.requests[0].accept_by_depositing_result(real_result)"
   ]
  },
  {
   "cell_type": "markdown",
   "id": "80",
   "metadata": {},
   "source": [
    "# DS"
   ]
  },
  {
   "cell_type": "markdown",
   "id": "81",
   "metadata": {},
   "source": [
    "##  Get result from Staging Low Side"
   ]
  },
  {
   "cell_type": "code",
   "execution_count": null,
   "id": "82",
   "metadata": {},
   "outputs": [],
   "source": [
    "ds_amb_proxy_client_low.code[-1].status"
   ]
  },
  {
   "cell_type": "code",
   "execution_count": null,
   "id": "83",
   "metadata": {},
   "outputs": [],
   "source": [
    "result_pointer = ds_amb_proxy_client_low.code.compute_census_matches(\n",
    "    canada_census_data=canada_census_data,\n",
    "    italy_census_data=italy_census_data,\n",
    ")"
   ]
  },
  {
   "cell_type": "code",
   "execution_count": null,
   "id": "84",
   "metadata": {},
   "outputs": [],
   "source": [
    "result_pointer"
   ]
  },
  {
   "cell_type": "code",
   "execution_count": null,
   "id": "85",
   "metadata": {},
   "outputs": [],
   "source": [
    "real_result = result_pointer.get()\n",
    "real_result"
   ]
  },
  {
   "cell_type": "code",
   "execution_count": null,
   "id": "86",
   "metadata": {},
   "outputs": [],
   "source": []
  }
 ],
 "metadata": {
  "kernelspec": {
   "display_name": "Python 3 (ipykernel)",
   "language": "python",
   "name": "python3"
  },
  "language_info": {
   "codemirror_mode": {
    "name": "ipython",
    "version": 3
   },
   "file_extension": ".py",
   "mimetype": "text/x-python",
   "name": "python",
   "nbconvert_exporter": "python",
   "pygments_lexer": "ipython3",
   "version": "3.12.2"
  },
  "toc": {
   "base_numbering": 1,
   "nav_menu": {},
   "number_sections": true,
   "sideBar": true,
   "skip_h1_title": false,
   "title_cell": "Table of Contents",
   "title_sidebar": "Contents",
   "toc_cell": false,
   "toc_position": {
    "height": "calc(100% - 180px)",
    "left": "10px",
    "top": "150px",
    "width": "358.391px"
   },
   "toc_section_display": true,
   "toc_window_display": true
  }
 },
 "nbformat": 4,
 "nbformat_minor": 5
}

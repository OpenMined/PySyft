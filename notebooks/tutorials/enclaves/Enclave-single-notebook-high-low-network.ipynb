{
 "cells": [
  {
   "cell_type": "code",
   "execution_count": null,
   "id": "91683cd6",
   "metadata": {},
   "outputs": [],
   "source": [
    "import syft as sy\n",
    "import recordlinkage\n",
    "from syft.abstract_node import NodeType\n",
    "from recordlinkage.datasets import load_febrl4"
   ]
  },
  {
   "cell_type": "markdown",
   "id": "f1c3f6fa",
   "metadata": {},
   "source": [
    "# Create Nodes"
   ]
  },
  {
   "cell_type": "markdown",
   "id": "b1bbcaa0",
   "metadata": {},
   "source": [
    "## Staging Low side"
   ]
  },
  {
   "cell_type": "markdown",
   "id": "fbe5d34d",
   "metadata": {},
   "source": [
    "create enclave node"
   ]
  },
  {
   "cell_type": "code",
   "execution_count": null,
   "id": "b5571623",
   "metadata": {},
   "outputs": [],
   "source": [
    "embassador_node_low = sy.Orchestra.launch(\n",
    "    name=\"ambassador node\",\n",
    "    node_side_type=\"low\",\n",
    "    local_db=True,\n",
    "    reset=True,\n",
    "#     enable_warnings=True,\n",
    ")"
   ]
  },
  {
   "cell_type": "markdown",
   "id": "9e8061f3",
   "metadata": {},
   "source": [
    "Create canada node & italy node"
   ]
  },
  {
   "cell_type": "code",
   "execution_count": null,
   "id": "dfbe2887",
   "metadata": {},
   "outputs": [],
   "source": [
    "ca_node_low = sy.Orchestra.launch(\n",
    "    name=\"canada-1\",\n",
    "    node_side_type=\"low\",\n",
    "    local_db=True,\n",
    "    reset=True,\n",
    "#     enable_warnings=True,\n",
    ")\n",
    "it_node_low = sy.Orchestra.launch(\n",
    "    name=\"italy-1\",\n",
    "    node_side_type=\"low\",\n",
    "    local_db=True,\n",
    "    reset=True,\n",
    "#     enable_warnings=True,\n",
    ")"
   ]
  },
  {
   "cell_type": "code",
   "execution_count": null,
   "id": "4fb80fad",
   "metadata": {},
   "outputs": [],
   "source": [
    "gateway_node_low = sy.orchestra.launch(name=\"gateway-1\",\n",
    "                                       node_type = \"gateway\",\n",
    "                                       node_side_type=\"low\",\n",
    "                                       local_db=True,\n",
    "                                       reset=True,\n",
    "                                       dev_mode=True,\n",
    "#                                        enable_warnings=True\n",
    "                                      )"
   ]
  },
  {
   "cell_type": "markdown",
   "id": "bdadcc0c",
   "metadata": {},
   "source": [
    "## High side"
   ]
  },
  {
   "cell_type": "code",
   "execution_count": null,
   "id": "a98d5cf5",
   "metadata": {},
   "outputs": [],
   "source": [
    "enclave_node_high = sy.orchestra.launch(\n",
    "    name=\"enclave node\",\n",
    "    node_type=\"enclave\",\n",
    "    reset=True,\n",
    "#     enable_warnings=True,\n",
    ")\n",
    "ca_node_high = sy.Orchestra.launch(\n",
    "    name=\"canada-2\",\n",
    "    local_db=True,\n",
    "    reset=True,\n",
    "#     enable_warnings=True,\n",
    ")\n",
    "it_node_high = sy.Orchestra.launch(\n",
    "    name=\"italy-2\",\n",
    "    local_db=True,\n",
    "    reset=True,\n",
    "#     enable_warnings=True,\n",
    ")"
   ]
  },
  {
   "cell_type": "code",
   "execution_count": null,
   "id": "fe8e5855",
   "metadata": {},
   "outputs": [],
   "source": [
    "ca_node_high = sy.Orchestra.launch(\n",
    "    name=\"canada-2\",\n",
    "    local_db=True,\n",
    "    reset=True,\n",
    "#     enable_warnings=True,\n",
    ")"
   ]
  },
  {
   "cell_type": "code",
   "execution_count": null,
   "id": "4fa9d001",
   "metadata": {},
   "outputs": [],
   "source": [
    "gateway_node_high = sy.orchestra.launch(\n",
    "    name=\"gateway-2\",\n",
    "    node_type=\"gateway\",\n",
    "    local_db=True,\n",
    "    reset=True,\n",
    "    dev_mode=True,\n",
    "#     enable_warnings=True,\n",
    ")"
   ]
  },
  {
   "cell_type": "markdown",
   "id": "6bcfc534",
   "metadata": {},
   "source": [
    "# DOs"
   ]
  },
  {
   "cell_type": "markdown",
   "id": "4ac38d39",
   "metadata": {},
   "source": [
    "## Login"
   ]
  },
  {
   "cell_type": "markdown",
   "id": "51269c1f",
   "metadata": {},
   "source": [
    "### Staging Low side"
   ]
  },
  {
   "cell_type": "code",
   "execution_count": null,
   "id": "304ddb77",
   "metadata": {},
   "outputs": [],
   "source": [
    "do_ca_client_low = ca_node_low.login(email=\"info@openmined.org\", password=\"changethis\")\n",
    "do_it_client_low = it_node_low.login(email=\"info@openmined.org\", password=\"changethis\")\n",
    "embassador_client_low = embassador_node_low.login(email=\"info@openmined.org\", password=\"changethis\")"
   ]
  },
  {
   "cell_type": "markdown",
   "id": "6c3fc6b4",
   "metadata": {},
   "source": [
    "### Production High side"
   ]
  },
  {
   "cell_type": "code",
   "execution_count": null,
   "id": "a41e1ed7",
   "metadata": {},
   "outputs": [],
   "source": [
    "do_ca_client_high = ca_node_high.login(email=\"info@openmined.org\", password=\"changethis\")\n",
    "do_it_client_high = it_node_high.login(email=\"info@openmined.org\", password=\"changethis\")"
   ]
  },
  {
   "cell_type": "markdown",
   "id": "2e0c7e6d",
   "metadata": {},
   "source": [
    "## Connect to network"
   ]
  },
  {
   "cell_type": "code",
   "execution_count": null,
   "id": "057ea61d",
   "metadata": {},
   "outputs": [],
   "source": [
    "# TODO: add security layer here"
   ]
  },
  {
   "cell_type": "code",
   "execution_count": null,
   "id": "38995326",
   "metadata": {},
   "outputs": [],
   "source": [
    "enclave_client_high = enclave_node_high.client"
   ]
  },
  {
   "cell_type": "code",
   "execution_count": null,
   "id": "0145b3f5",
   "metadata": {},
   "outputs": [],
   "source": [
    "# gateway_root_client.register(name=\"\", email=\"info@openmined.org\", password=\"changethis\")\n",
    "# gateway_root_client.register(name=\"\", email=\"info@openmined.org\", password=\"changethis\")"
   ]
  },
  {
   "cell_type": "code",
   "execution_count": null,
   "id": "e36f1c9f",
   "metadata": {},
   "outputs": [],
   "source": [
    "res = do_ca_client_low.connect_to_gateway(handle=gateway_node_low)  # add credentials here"
   ]
  },
  {
   "cell_type": "code",
   "execution_count": null,
   "id": "1ed24fa8",
   "metadata": {},
   "outputs": [],
   "source": [
    "res = do_ca_client_low.connect_to_gateway(handle=gateway_node_low)  # add credentials here\n",
    "res = do_it_client_low.connect_to_gateway(handle=gateway_node_low)  # add credentials here"
   ]
  },
  {
   "cell_type": "code",
   "execution_count": null,
   "id": "3cd1754f",
   "metadata": {},
   "outputs": [],
   "source": [
    "res = do_ca_client_high.connect_to_gateway(handle=gateway_node_high)\n",
    "res = do_it_client_high.connect_to_gateway(handle=gateway_node_high)"
   ]
  },
  {
   "cell_type": "code",
   "execution_count": null,
   "id": "9ee21988",
   "metadata": {},
   "outputs": [],
   "source": [
    "## Also for ambassador"
   ]
  },
  {
   "cell_type": "code",
   "execution_count": null,
   "id": "c7a057e3",
   "metadata": {},
   "outputs": [],
   "source": [
    "# TODO: who is going to be responsible for connecting the enclave to the gateway\n",
    "res = enclave_client_high.connect_to_gateway(handle=gateway_node_high)"
   ]
  },
  {
   "cell_type": "code",
   "execution_count": null,
   "id": "9884d195",
   "metadata": {},
   "outputs": [],
   "source": [
    "res = embassador_client_low.connect_to_gateway(handle=gateway_node_low)  # add credentials here"
   ]
  },
  {
   "cell_type": "code",
   "execution_count": null,
   "id": "5313eaa8",
   "metadata": {},
   "outputs": [],
   "source": [
    "## Upload dataset"
   ]
  },
  {
   "cell_type": "markdown",
   "id": "29d74253",
   "metadata": {},
   "source": [
    "### Staging Low side"
   ]
  },
  {
   "cell_type": "code",
   "execution_count": null,
   "id": "79e4c728",
   "metadata": {},
   "outputs": [],
   "source": [
    "# Using public datasets from  Freely Extensible Biomedical Record Linkage (Febrl)\n",
    "canada_census_data_low, italy_census_data_low = load_febrl4()"
   ]
  },
  {
   "cell_type": "code",
   "execution_count": null,
   "id": "531e841c",
   "metadata": {},
   "outputs": [],
   "source": [
    "for dataset, client, country in zip(\n",
    "    [canada_census_data_low, italy_census_data_low],\n",
    "    [do_ca_client_low, do_it_client_low],\n",
    "    [\"Canada\", \"Italy\"],\n",
    "):\n",
    "    private_data, mock_data = dataset[:2500], dataset[2500:]\n",
    "    dataset = sy.Dataset(\n",
    "        name=f\"{country} - FEBrl Census Data\",\n",
    "        description=\"abc\",\n",
    "        asset_list=[\n",
    "            sy.Asset(\n",
    "                name=\"census_data\",\n",
    "                mock=mock_data,\n",
    "                data=private_data,\n",
    "                shape=private_data.shape,\n",
    "                mock_is_real=True,\n",
    "            )\n",
    "        ],\n",
    "    )\n",
    "    client.upload_dataset(dataset)"
   ]
  },
  {
   "cell_type": "markdown",
   "id": "39191e58",
   "metadata": {},
   "source": [
    "### Production High side"
   ]
  },
  {
   "cell_type": "code",
   "execution_count": null,
   "id": "e8c8f878",
   "metadata": {},
   "outputs": [],
   "source": [
    "# Using public datasets from  Freely Extensible Biomedical Record Linkage (Febrl)\n",
    "canada_census_data_high, italy_census_data_high = load_febrl4()"
   ]
  },
  {
   "cell_type": "code",
   "execution_count": null,
   "id": "78c18173",
   "metadata": {},
   "outputs": [],
   "source": [
    "for dataset, client, country in zip(\n",
    "    [canada_census_data_high, italy_census_data_high],\n",
    "    [do_ca_client_high, do_it_client_high],\n",
    "    [\"Canada\", \"Italy\"],\n",
    "):\n",
    "    private_data, mock_data = dataset[:2500], dataset[2500:]\n",
    "    dataset = sy.Dataset(\n",
    "        name=f\"{country} - FEBrl Census Data\",\n",
    "        description=\"abc\",\n",
    "        asset_list=[\n",
    "            sy.Asset(\n",
    "                name=\"census_data\",\n",
    "                mock=mock_data,\n",
    "                data=private_data,\n",
    "                shape=private_data.shape,\n",
    "                mock_is_real=True,\n",
    "            )\n",
    "        ],\n",
    "    )\n",
    "    client.upload_dataset(dataset)"
   ]
  },
  {
   "cell_type": "markdown",
   "id": "b851388f",
   "metadata": {},
   "source": [
    "## create accounts for DS"
   ]
  },
  {
   "cell_type": "markdown",
   "id": "86265c95",
   "metadata": {},
   "source": [
    "### Staging Low side"
   ]
  },
  {
   "cell_type": "code",
   "execution_count": null,
   "id": "068d7f74",
   "metadata": {},
   "outputs": [],
   "source": [
    "for client in [do_ca_client_low, do_it_client_low]:\n",
    "    client.register(name=\"Sheldon\", email=\"sheldon@caltech.edu\", password=\"changethis\")"
   ]
  },
  {
   "cell_type": "code",
   "execution_count": null,
   "id": "810c6322",
   "metadata": {},
   "outputs": [],
   "source": [
    "embassador_client_low.register(name=\"Sheldon\", email=\"sheldon@caltech.edu\", password=\"changethis\")"
   ]
  },
  {
   "cell_type": "markdown",
   "id": "9cb97855",
   "metadata": {},
   "source": [
    "## Create account for embassador"
   ]
  },
  {
   "cell_type": "markdown",
   "id": "5df9b2b1",
   "metadata": {},
   "source": [
    "### Production High Side"
   ]
  },
  {
   "cell_type": "code",
   "execution_count": null,
   "id": "52b5a92f",
   "metadata": {},
   "outputs": [],
   "source": [
    "for client in [do_ca_client_high, do_it_client_high]:\n",
    "    client.register(name=\"Sheldon\", email=\"sheldon@caltech.edu\", password=\"changethis\")"
   ]
  },
  {
   "cell_type": "markdown",
   "id": "17e97ac0",
   "metadata": {},
   "source": [
    "# DS Low Side"
   ]
  },
  {
   "cell_type": "markdown",
   "id": "089610b7",
   "metadata": {},
   "source": [
    "## DS Get proxy clients"
   ]
  },
  {
   "cell_type": "markdown",
   "id": "6c8d0e2b",
   "metadata": {},
   "source": [
    "### Staging Low side"
   ]
  },
  {
   "cell_type": "code",
   "execution_count": null,
   "id": "da6856a1",
   "metadata": {},
   "outputs": [],
   "source": [
    "ds_gateway_client_low = gateway_node_low.client"
   ]
  },
  {
   "cell_type": "code",
   "execution_count": null,
   "id": "d3136024",
   "metadata": {},
   "outputs": [],
   "source": [
    "assert len(ds_gateway_client_low.domains) == 3\n",
    "ds_gateway_client_low.domains"
   ]
  },
  {
   "cell_type": "code",
   "execution_count": null,
   "id": "275c78a5",
   "metadata": {},
   "outputs": [],
   "source": [
    "ds_ca_proxy_client_low = ds_gateway_client_low.domains[1].login(email=\"sheldon@caltech.edu\", password=\"changethis\")\n",
    "ds_it_proxy_client_low = ds_gateway_client_low.domains[2].login(email=\"sheldon@caltech.edu\", password=\"changethis\")\n",
    "ds_amb_proxy_client_low = ds_gateway_client_low.domains[0].login(email=\"sheldon@caltech.edu\", password=\"changethis\")"
   ]
  },
  {
   "cell_type": "markdown",
   "id": "016cbcc3",
   "metadata": {},
   "source": [
    "## Find datasets"
   ]
  },
  {
   "cell_type": "code",
   "execution_count": null,
   "id": "af85a8b4",
   "metadata": {},
   "outputs": [],
   "source": [
    "canada_census_data = ds_ca_proxy_client_low.datasets[-1].assets[0]\n",
    "italy_census_data = ds_it_proxy_client_low.datasets[-1].assets[0]"
   ]
  },
  {
   "cell_type": "markdown",
   "id": "5b3045b0",
   "metadata": {},
   "source": [
    "## Create Request"
   ]
  },
  {
   "cell_type": "code",
   "execution_count": null,
   "id": "919eb56a",
   "metadata": {},
   "outputs": [],
   "source": [
    "@sy.syft_function_single_use(canada_census_data=canada_census_data, italy_census_data=italy_census_data)\n",
    "def compute_census_matches(canada_census_data, italy_census_data):\n",
    "    import recordlinkage\n",
    "\n",
    "    # Index step\n",
    "    indexer = recordlinkage.Index()\n",
    "    indexer.block(\"given_name\")\n",
    "\n",
    "    candidate_links = indexer.index(canada_census_data, italy_census_data)\n",
    "\n",
    "    # Comparison step\n",
    "    compare_cl = recordlinkage.Compare()\n",
    "\n",
    "    compare_cl.exact(\"given_name\", \"given_name\", label=\"given_name\")\n",
    "    compare_cl.string(\"surname\", \"surname\", method=\"jarowinkler\", threshold=0.85, label=\"surname\")\n",
    "    compare_cl.exact(\"date_of_birth\", \"date_of_birth\", label=\"date_of_birth\")\n",
    "    compare_cl.exact(\"suburb\", \"suburb\", label=\"suburb\")\n",
    "    compare_cl.exact(\"state\", \"state\", label=\"state\")\n",
    "    compare_cl.string(\"address_1\", \"address_1\", threshold=0.85, label=\"address_1\")\n",
    "\n",
    "    features = compare_cl.compute(candidate_links, canada_census_data, italy_census_data)\n",
    "\n",
    "    # Classification step\n",
    "    matches = features[features.sum(axis=1) > 3]\n",
    "\n",
    "    return len(matches)"
   ]
  },
  {
   "cell_type": "code",
   "execution_count": null,
   "id": "abeddba5",
   "metadata": {},
   "outputs": [],
   "source": [
    "# Checking result of mock data execution\n",
    "mock_result = compute_census_matches(\n",
    "    canada_census_data=canada_census_data.mock,\n",
    "    italy_census_data=italy_census_data.mock,\n",
    ")\n",
    "mock_result"
   ]
  },
  {
   "cell_type": "code",
   "execution_count": null,
   "id": "8a6fa111",
   "metadata": {},
   "outputs": [],
   "source": [
    "ds_amb_proxy_client_low.code.request_code_execution(compute_census_matches)"
   ]
  },
  {
   "cell_type": "markdown",
   "id": "8bfb6139",
   "metadata": {},
   "source": [
    "# Ambassador flow"
   ]
  },
  {
   "cell_type": "markdown",
   "id": "706b3223",
   "metadata": {},
   "source": [
    "## Check Code Staging Low Side"
   ]
  },
  {
   "cell_type": "code",
   "execution_count": null,
   "id": "ddb2f907",
   "metadata": {},
   "outputs": [],
   "source": [
    "embassador_client_low.requests[0].code"
   ]
  },
  {
   "cell_type": "markdown",
   "id": "ccf4814d",
   "metadata": {},
   "source": [
    "## Login to Production High Side"
   ]
  },
  {
   "cell_type": "code",
   "execution_count": null,
   "id": "50abd257",
   "metadata": {},
   "outputs": [],
   "source": [
    "amb_gateway_client_high = gateway_node_high.client"
   ]
  },
  {
   "cell_type": "code",
   "execution_count": null,
   "id": "4a0321c7",
   "metadata": {},
   "outputs": [],
   "source": [
    "assert len(amb_gateway_client_high.domains) == 2\n",
    "amb_gateway_client_high.domains"
   ]
  },
  {
   "cell_type": "code",
   "execution_count": null,
   "id": "3e586f6b",
   "metadata": {},
   "outputs": [],
   "source": [
    "amb_ca_proxy_client_high = amb_gateway_client_high.domains[1].login(email=\"sheldon@caltech.edu\", password=\"changethis\")\n",
    "amb_it_proxy_client_high = amb_gateway_client_high.domains[0].login(email=\"sheldon@caltech.edu\", password=\"changethis\")\n"
   ]
  },
  {
   "cell_type": "code",
   "execution_count": null,
   "id": "c96a932a-7390-4c36-ab16-d6ddec0b93ed",
   "metadata": {},
   "outputs": [],
   "source": [
    "assert len(amb_gateway_client_high.enclaves) == 1"
   ]
  },
  {
   "cell_type": "code",
   "execution_count": null,
   "id": "0a1e4a76",
   "metadata": {},
   "outputs": [],
   "source": [
    "amb_ca_proxy_client_high"
   ]
  },
  {
   "cell_type": "code",
   "execution_count": null,
   "id": "59264142",
   "metadata": {},
   "outputs": [],
   "source": [
    "\n",
    "amb_enclave_proxy_client_high = amb_gateway_client_high.enclaves[0].login(name=\"Sheldon\",\n",
    "                                                                          email=\"sheldon@caltech.edu\",\n",
    "                                                                          password=\"changethis\",\n",
    "                                                                          register=True)"
   ]
  },
  {
   "cell_type": "code",
   "execution_count": null,
   "id": "273e906e",
   "metadata": {},
   "outputs": [],
   "source": [
    "# # this also creates a guest client\n",
    "# embassador_client_high = enclave_node_high.login(email=\"info@openmined.org\", password=\"changethis\",\n",
    "#                                                  name=\"Signor Ambassador\", register=True)"
   ]
  },
  {
   "cell_type": "markdown",
   "id": "852ec2ed",
   "metadata": {},
   "source": [
    "## Find Datasets Production High side"
   ]
  },
  {
   "cell_type": "code",
   "execution_count": null,
   "id": "4c504354",
   "metadata": {},
   "outputs": [],
   "source": [
    "canada_census_data_high = amb_ca_proxy_client_high.datasets[-1].assets[0]\n",
    "italy_census_data_high = amb_it_proxy_client_high.datasets[-1].assets[0]"
   ]
  },
  {
   "cell_type": "markdown",
   "id": "07d0e434",
   "metadata": {},
   "source": [
    "Copy code from the request"
   ]
  },
  {
   "cell_type": "markdown",
   "id": "7d326e71",
   "metadata": {},
   "source": [
    "## Submit code Production High side"
   ]
  },
  {
   "cell_type": "code",
   "execution_count": null,
   "id": "25e192d8",
   "metadata": {},
   "outputs": [],
   "source": [
    "@sy.syft_function_single_use(canada_census_data=canada_census_data_high, italy_census_data=italy_census_data_high)\n",
    "def compute_census_matches_high(canada_census_data, italy_census_data):\n",
    "    import recordlinkage\n",
    "\n",
    "    # Index step\n",
    "    indexer = recordlinkage.Index()\n",
    "    indexer.block(\"given_name\")\n",
    "\n",
    "    candidate_links = indexer.index(canada_census_data, italy_census_data)\n",
    "\n",
    "    # Comparison step\n",
    "    compare_cl = recordlinkage.Compare()\n",
    "\n",
    "    compare_cl.exact(\"given_name\", \"given_name\", label=\"given_name\")\n",
    "    compare_cl.string(\n",
    "        \"surname\", \"surname\", method=\"jarowinkler\", threshold=0.85, label=\"surname\"\n",
    "    )\n",
    "    compare_cl.exact(\"date_of_birth\", \"date_of_birth\", label=\"date_of_birth\")\n",
    "    compare_cl.exact(\"suburb\", \"suburb\", label=\"suburb\")\n",
    "    compare_cl.exact(\"state\", \"state\", label=\"state\")\n",
    "    compare_cl.string(\"address_1\", \"address_1\", threshold=0.85, label=\"address_1\")\n",
    "\n",
    "    features = compare_cl.compute(\n",
    "        candidate_links, canada_census_data, italy_census_data\n",
    "    )\n",
    "\n",
    "    # Classification step\n",
    "    matches = features[features.sum(axis=1) > 3]\n",
    "\n",
    "    return len(matches)"
   ]
  },
  {
   "cell_type": "code",
   "execution_count": null,
   "id": "472c1222",
   "metadata": {},
   "outputs": [],
   "source": [
    "# Checking result of mock data execution\n",
    "mock_result = compute_census_matches_high(\n",
    "    canada_census_data=canada_census_data_high.mock,\n",
    "    italy_census_data=italy_census_data_high.mock,\n",
    ")\n",
    "mock_result"
   ]
  },
  {
   "cell_type": "code",
   "execution_count": null,
   "id": "52c5d798",
   "metadata": {},
   "outputs": [],
   "source": [
    "# note that this is not embassador_client_high.**code**.request_code_execution\n",
    "amb_enclave_proxy_client_high.request_code_execution(compute_census_matches_high)"
   ]
  },
  {
   "cell_type": "markdown",
   "id": "6ca166c1",
   "metadata": {},
   "source": [
    "## DOs Approve Production High Side"
   ]
  },
  {
   "cell_type": "code",
   "execution_count": null,
   "id": "da5c9b06",
   "metadata": {},
   "outputs": [],
   "source": [
    "do_ca_client_high.requests[0].approve()"
   ]
  },
  {
   "cell_type": "code",
   "execution_count": null,
   "id": "7841e14b",
   "metadata": {},
   "outputs": [],
   "source": [
    "do_it_client_high.requests[0].approve()"
   ]
  },
  {
   "cell_type": "markdown",
   "id": "7af257f0",
   "metadata": {},
   "source": [
    "## Embassdor gets result from Production High Side"
   ]
  },
  {
   "cell_type": "code",
   "execution_count": null,
   "id": "4988ae52",
   "metadata": {},
   "outputs": [],
   "source": [
    "amb_enclave_proxy_client_high.code[-1].status"
   ]
  },
  {
   "cell_type": "code",
   "execution_count": null,
   "id": "07eb276f",
   "metadata": {},
   "outputs": [],
   "source": [
    "result_pointer = amb_enclave_proxy_client_high.code.compute_census_matches_high(\n",
    "    canada_census_data=canada_census_data_high,\n",
    "    italy_census_data=italy_census_data_high,\n",
    ")\n",
    "\n",
    "result_pointer"
   ]
  },
  {
   "cell_type": "code",
   "execution_count": null,
   "id": "29fb6a1a",
   "metadata": {},
   "outputs": [],
   "source": [
    "real_result = result_pointer.get()\n",
    "real_result"
   ]
  },
  {
   "cell_type": "markdown",
   "id": "bd1281ce",
   "metadata": {},
   "source": [
    "## Ambassador Deposits Result"
   ]
  },
  {
   "cell_type": "code",
   "execution_count": null,
   "id": "b31090c7",
   "metadata": {},
   "outputs": [],
   "source": [
    "embassador_client_low.requests[0].accept_by_depositing_result(real_result)"
   ]
  },
  {
   "cell_type": "markdown",
   "id": "bdaedcc7",
   "metadata": {},
   "source": [
    "# DS"
   ]
  },
  {
   "cell_type": "markdown",
   "id": "2307e68c",
   "metadata": {},
   "source": [
    "##  Get result from Staging Low Side"
   ]
  },
  {
   "cell_type": "code",
   "execution_count": null,
   "id": "efaf4407",
   "metadata": {},
   "outputs": [],
   "source": [
    "ds_amb_proxy_client_low.code[-1].status"
   ]
  },
  {
   "cell_type": "code",
   "execution_count": null,
   "id": "06d83903",
   "metadata": {},
   "outputs": [],
   "source": [
    "result_pointer = ds_amb_proxy_client_low.code.compute_census_matches(\n",
    "    canada_census_data=canada_census_data,\n",
    "    italy_census_data=italy_census_data,\n",
    ")"
   ]
  },
  {
   "cell_type": "code",
   "execution_count": null,
   "id": "eaaab19e",
   "metadata": {},
   "outputs": [],
   "source": [
    "result_pointer"
   ]
  },
  {
   "cell_type": "code",
   "execution_count": null,
   "id": "0792791e",
   "metadata": {},
   "outputs": [],
   "source": [
    "real_result = result_pointer.get()\n",
    "real_result"
   ]
  },
  {
   "cell_type": "code",
   "execution_count": null,
   "id": "ec88a993",
   "metadata": {},
   "outputs": [],
   "source": []
  },
  {
   "cell_type": "code",
   "execution_count": null,
   "id": "869355af-3332-486a-ba55-592114a6f6fa",
   "metadata": {},
   "outputs": [],
   "source": []
  }
 ],
 "metadata": {
  "kernelspec": {
   "display_name": "Python 3 (ipykernel)",
   "language": "python",
   "name": "python3"
  },
  "language_info": {
   "codemirror_mode": {
    "name": "ipython",
    "version": 3
   },
   "file_extension": ".py",
   "mimetype": "text/x-python",
   "name": "python",
   "nbconvert_exporter": "python",
   "pygments_lexer": "ipython3",
   "version": "3.11.4"
  },
  "toc": {
   "base_numbering": 1,
   "nav_menu": {},
   "number_sections": true,
   "sideBar": true,
   "skip_h1_title": false,
   "title_cell": "Table of Contents",
   "title_sidebar": "Contents",
   "toc_cell": false,
   "toc_position": {
    "height": "calc(100% - 180px)",
    "left": "10px",
    "top": "150px",
    "width": "358.391px"
   },
   "toc_section_display": true,
   "toc_window_display": true
  }
 },
 "nbformat": 4,
 "nbformat_minor": 5
}

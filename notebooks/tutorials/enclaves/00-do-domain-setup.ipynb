{
 "cells": [
  {
   "cell_type": "markdown",
   "metadata": {},
   "source": [
    "# Introduction\n",
    "\n",
    "In this tutorial, we will demonstrate how to use **Enclaves** in PySyft to securely perform computations among assets from multiple domains. We will cover the following workflows:\n",
    "\n",
    "## Data Owners Workflow - Part 1 (Current notebook)\n",
    "- Launch two domain nodes for providing data to the data scientist.\n",
    "- Launch one enclave node for performing the secure computation using data from both the domain nodes.\n",
    "- Upload datasets to both the domain nodes.\n",
    "- Register an account for the data scientist in both the domain nodes.\n",
    "- Register the enclave node with one of the domain nodes for discoverability by the data scientist.\n",
    "\n",
    "## Data Scientist Workflow - Part 1 ([./01-ds-submit-project.ipynb](./01-ds-submit-project.ipynb))\n",
    "- Find datasets across multiple domains.\n",
    "- Find a suitable Enclave for performing the multi-party computation.\n",
    "- Create a project containing code to perform multi-party computation.\n",
    "- Send the project for review by the data owners.\n",
    "\n",
    "## Data Owner Workflow - Part 2\n",
    "- review code and approve\n",
    "- TODO\n",
    "\n",
    "## Data Scientist Workflow - Part 2\n",
    "- TODO\n",
    "\n",
    "## Enclave Workflow\n",
    "- TODO"
   ]
  },
  {
   "cell_type": "code",
   "execution_count": null,
   "metadata": {},
   "outputs": [],
   "source": [
    "# third party\n",
    "import pytest\n",
    "from recordlinkage.datasets import load_febrl4\n",
    "\n",
    "# syft absolute\n",
    "import syft as sy\n",
    "from syft.abstract_node import NodeType\n",
    "from syft.service.network.routes import HTTPNodeRoute\n",
    "from syft.service.response import SyftAttributeError\n",
    "from syft.service.response import SyftSuccess\n",
    "\n",
    "CANADA_DOMAIN_PORT = 9081\n",
    "ITALY_DOMAIN_PORT = 9082\n",
    "CANADA_ENCLAVE_PORT = 9083"
   ]
  },
  {
   "cell_type": "markdown",
   "metadata": {},
   "source": [
    "# Launch nodes\n",
    "\n",
    "We will begin by launching two domain nodes and an enclave node."
   ]
  },
  {
   "cell_type": "code",
   "execution_count": null,
   "metadata": {},
   "outputs": [],
   "source": [
    "canada_node = sy.orchestra.launch(\n",
    "    name=\"canada-domain\", port=CANADA_DOMAIN_PORT, dev_mode=True, reset=True\n",
    ")\n",
    "italy_node = sy.orchestra.launch(\n",
    "    name=\"italy-domain\", port=ITALY_DOMAIN_PORT, dev_mode=True, reset=True\n",
    ")\n",
    "canada_enclave = sy.orchestra.launch(\n",
    "    name=\"canada-enclave\",\n",
    "    node_type=NodeType.ENCLAVE,\n",
    "    port=CANADA_ENCLAVE_PORT,\n",
    "    dev_mode=True,\n",
    "    reset=True,\n",
    ")"
   ]
  },
  {
   "cell_type": "code",
   "execution_count": null,
   "metadata": {},
   "outputs": [],
   "source": [
    "do_canada_client = canada_node.login(email=\"info@openmined.org\", password=\"changethis\")\n",
    "do_italy_client = italy_node.login(email=\"info@openmined.org\", password=\"changethis\")\n",
    "\n",
    "assert do_canada_client.metadata.node_type == NodeType.DOMAIN\n",
    "assert do_italy_client.metadata.node_type == NodeType.DOMAIN"
   ]
  },
  {
   "cell_type": "markdown",
   "metadata": {},
   "source": [
    "# Upload datasets to both domains"
   ]
  },
  {
   "cell_type": "code",
   "execution_count": null,
   "metadata": {},
   "outputs": [],
   "source": [
    "# Using public datasets from Freely Extensible Biomedical Record Linkage (Febrl) project\n",
    "canada_census_data, italy_census_data = load_febrl4()"
   ]
  },
  {
   "cell_type": "code",
   "execution_count": null,
   "metadata": {},
   "outputs": [],
   "source": [
    "for dataset, client, country in zip(\n",
    "    [canada_census_data, italy_census_data],\n",
    "    [do_canada_client, do_italy_client],\n",
    "    [\"Canada\", \"Italy\"],\n",
    "):\n",
    "    private_data, mock_data = dataset[:2500], dataset[2500:]\n",
    "    dataset = sy.Dataset(\n",
    "        name=f\"{country} - FEBrl Census Data\",\n",
    "        description=\"abc\",\n",
    "        asset_list=[\n",
    "            sy.Asset(\n",
    "                name=\"census_data\",\n",
    "                mock=mock_data,\n",
    "                data=private_data,\n",
    "                shape=private_data.shape,\n",
    "                mock_is_real=True,\n",
    "            )\n",
    "        ],\n",
    "    )\n",
    "    client.upload_dataset(dataset)"
   ]
  },
  {
   "cell_type": "code",
   "execution_count": null,
   "metadata": {},
   "outputs": [],
   "source": [
    "assert len(do_canada_client.datasets.get_all()) == 1\n",
    "assert len(do_italy_client.datasets.get_all()) == 1"
   ]
  },
  {
   "cell_type": "markdown",
   "metadata": {},
   "source": [
    "# Create account for data scientist on both the domains"
   ]
  },
  {
   "cell_type": "code",
   "execution_count": null,
   "metadata": {},
   "outputs": [],
   "source": [
    "for client in [do_canada_client, do_italy_client]:\n",
    "    res = client.register(\n",
    "        name=\"Sheldon\",\n",
    "        email=\"sheldon@caltech.edu\",\n",
    "        password=\"changethis\",\n",
    "        password_verify=\"changethis\",\n",
    "    )\n",
    "    assert isinstance(res, SyftSuccess)"
   ]
  },
  {
   "cell_type": "markdown",
   "metadata": {},
   "source": [
    "# Register the enclave with Canada domain"
   ]
  },
  {
   "cell_type": "code",
   "execution_count": null,
   "metadata": {},
   "outputs": [],
   "source": [
    "route = HTTPNodeRoute(host_or_ip=\"localhost\", port=CANADA_ENCLAVE_PORT)\n",
    "do_canada_client.enclaves.add(route=route)"
   ]
  },
  {
   "cell_type": "code",
   "execution_count": null,
   "metadata": {},
   "outputs": [],
   "source": [
    "assert (len(do_canada_client.enclaves.get_all())) == 1\n",
    "do_canada_client.enclaves.get_all()"
   ]
  },
  {
   "cell_type": "code",
   "execution_count": null,
   "metadata": {},
   "outputs": [],
   "source": [
    "ds_canada_client = sy.login(\n",
    "    email=\"sheldon@caltech.edu\", password=\"changethis\", port=CANADA_DOMAIN_PORT\n",
    ")"
   ]
  },
  {
   "cell_type": "code",
   "execution_count": null,
   "metadata": {},
   "outputs": [],
   "source": [
    "# Data scientist should not be able to add enclave to the domain\n",
    "with pytest.raises(SyftAttributeError) as exc_info:\n",
    "    ds_canada_client.enclaves.add(\n",
    "        name=\"Dummy Enclave\", route=HTTPNodeRoute(host_or_ip=\"localhost\", port=9084)\n",
    "    )\n",
    "exc_info.value"
   ]
  },
  {
   "cell_type": "code",
   "execution_count": null,
   "metadata": {},
   "outputs": [],
   "source": [
    "assert (len(ds_canada_client.enclaves.get_all())) == 1\n",
    "ds_canada_client.enclaves.get_all()"
   ]
  },
  {
   "cell_type": "markdown",
   "metadata": {},
   "source": [
    "# Cleanup local domain servers"
   ]
  },
  {
   "cell_type": "code",
   "execution_count": null,
   "metadata": {},
   "outputs": [],
   "source": [
    "if canada_node.node_type.value == \"python\":\n",
    "    canada_node.land()\n",
    "\n",
    "if italy_node.node_type.value == \"python\":\n",
    "    italy_node.land()\n",
    "\n",
    "if canada_enclave.node_type.value == \"python\":\n",
    "    canada_enclave.land()"
   ]
  }
 ],
 "metadata": {
  "kernelspec": {
   "display_name": "PySyft",
   "language": "python",
   "name": "python3"
  },
  "language_info": {
   "codemirror_mode": {
    "name": "ipython",
    "version": 3
   },
   "file_extension": ".py",
   "mimetype": "text/x-python",
   "name": "python",
   "nbconvert_exporter": "python",
   "pygments_lexer": "ipython3",
   "version": "3.11.7"
  }
 },
 "nbformat": 4,
 "nbformat_minor": 2
}

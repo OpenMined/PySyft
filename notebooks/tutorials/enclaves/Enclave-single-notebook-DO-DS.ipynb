{
 "cells": [
  {
   "cell_type": "code",
   "execution_count": null,
   "id": "0",
   "metadata": {},
   "outputs": [],
   "source": [
    "# third party\n",
    "from recordlinkage.datasets import load_febrl4\n",
    "\n",
    "# syft absolute\n",
    "import syft as sy"
   ]
  },
  {
   "cell_type": "markdown",
   "id": "1",
   "metadata": {},
   "source": [
    "# Create Nodes and connect to gateway"
   ]
  },
  {
   "cell_type": "markdown",
   "id": "2",
   "metadata": {},
   "source": [
    "create enclave node"
   ]
  },
  {
   "cell_type": "code",
   "execution_count": null,
   "id": "3",
   "metadata": {},
   "outputs": [],
   "source": [
    "# Local Python Node\n",
    "enclave_node = sy.orchestra.launch(\n",
    "    name=\"Enclave\",\n",
    "    node_type=sy.NodeType.ENCLAVE,\n",
    "    local_db=True,\n",
    "    dev_mode=True,\n",
    "    reset=True,\n",
    ")"
   ]
  },
  {
   "cell_type": "code",
   "execution_count": null,
   "id": "4",
   "metadata": {},
   "outputs": [],
   "source": [
    "# syft absolute\n",
    "from syft.abstract_node import NodeType\n",
    "\n",
    "assert enclave_node.python_node.node_type == NodeType.ENCLAVE"
   ]
  },
  {
   "cell_type": "markdown",
   "id": "5",
   "metadata": {},
   "source": [
    "Create canada node & italy node"
   ]
  },
  {
   "cell_type": "code",
   "execution_count": null,
   "id": "6",
   "metadata": {},
   "outputs": [],
   "source": [
    "ca_node = sy.orchestra.launch(name=\"Canada\", local_db=True, reset=True, dev_mode=True)\n",
    "it_node = sy.orchestra.launch(name=\"Italy\", local_db=True, reset=True, dev_mode=True)"
   ]
  },
  {
   "cell_type": "code",
   "execution_count": null,
   "id": "7",
   "metadata": {},
   "outputs": [],
   "source": [
    "assert ca_node.python_node.node_type == NodeType.DOMAIN\n",
    "assert it_node.python_node.node_type == NodeType.DOMAIN"
   ]
  },
  {
   "cell_type": "markdown",
   "id": "8",
   "metadata": {},
   "source": [
    "Create gateway Node"
   ]
  },
  {
   "cell_type": "code",
   "execution_count": null,
   "id": "9",
   "metadata": {},
   "outputs": [],
   "source": [
    "gateway_node = sy.orchestra.launch(\n",
    "    name=\"gateway\",\n",
    "    node_type=sy.NodeType.GATEWAY,\n",
    "    local_db=True,\n",
    "    reset=True,\n",
    "    dev_mode=True,\n",
    "    association_request_auto_approval=True,\n",
    ")"
   ]
  },
  {
   "cell_type": "markdown",
   "id": "10",
   "metadata": {},
   "source": [
    "Connect nodes to gateway"
   ]
  },
  {
   "cell_type": "code",
   "execution_count": null,
   "id": "11",
   "metadata": {},
   "outputs": [],
   "source": [
    "enclave_guest_client = enclave_node.client\n",
    "ca_guest_client = ca_node.client\n",
    "it_guest_client = it_node.client"
   ]
  },
  {
   "cell_type": "code",
   "execution_count": null,
   "id": "12",
   "metadata": {},
   "outputs": [],
   "source": [
    "# syft absolute\n",
    "from syft.client.domain_client import DomainClient\n",
    "from syft.client.enclave_client import EnclaveClient\n",
    "from syft.client.gateway_client import GatewayClient\n",
    "\n",
    "assert isinstance(enclave_guest_client, EnclaveClient)\n",
    "assert isinstance(ca_guest_client, DomainClient)\n",
    "assert isinstance(it_guest_client, DomainClient)\n",
    "assert isinstance(gateway_node.client, GatewayClient)"
   ]
  },
  {
   "cell_type": "code",
   "execution_count": null,
   "id": "13",
   "metadata": {},
   "outputs": [],
   "source": [
    "# syft absolute\n",
    "# Connect enclave to gateway\n",
    "from syft.service.response import SyftSuccess\n",
    "\n",
    "res = enclave_guest_client.connect_to_gateway(handle=gateway_node)\n",
    "assert isinstance(res, SyftSuccess)\n",
    "res"
   ]
  },
  {
   "cell_type": "code",
   "execution_count": null,
   "id": "14",
   "metadata": {},
   "outputs": [],
   "source": [
    "# Connect Canada to gateway\n",
    "res = ca_guest_client.connect_to_gateway(handle=gateway_node)\n",
    "assert isinstance(res, SyftSuccess)\n",
    "res"
   ]
  },
  {
   "cell_type": "code",
   "execution_count": null,
   "id": "15",
   "metadata": {},
   "outputs": [],
   "source": [
    "# Connect Italy to gateway\n",
    "res = it_guest_client.connect_to_gateway(handle=gateway_node)\n",
    "assert isinstance(res, SyftSuccess)\n",
    "res"
   ]
  },
  {
   "cell_type": "markdown",
   "id": "16",
   "metadata": {},
   "source": [
    "# DOs"
   ]
  },
  {
   "cell_type": "code",
   "execution_count": null,
   "id": "17",
   "metadata": {},
   "outputs": [],
   "source": [
    "do_ca_client = ca_node.login(email=\"info@openmined.org\", password=\"changethis\")\n",
    "do_it_client = it_node.login(email=\"info@openmined.org\", password=\"changethis\")"
   ]
  },
  {
   "cell_type": "code",
   "execution_count": null,
   "id": "18",
   "metadata": {},
   "outputs": [],
   "source": [
    "# syft absolute\n",
    "from syft.client.domain_client import DomainClient\n",
    "\n",
    "assert isinstance(do_ca_client, DomainClient)\n",
    "assert isinstance(do_it_client, DomainClient)"
   ]
  },
  {
   "cell_type": "markdown",
   "id": "19",
   "metadata": {},
   "source": [
    "## Upload dataset"
   ]
  },
  {
   "cell_type": "code",
   "execution_count": null,
   "id": "20",
   "metadata": {},
   "outputs": [],
   "source": [
    "# Using public datasets from  Freely Extensible Biomedical Record Linkage (Febrl)\n",
    "canada_census_data, italy_census_data = load_febrl4()"
   ]
  },
  {
   "cell_type": "code",
   "execution_count": null,
   "id": "21",
   "metadata": {},
   "outputs": [],
   "source": [
    "for dataset, client, country in zip(\n",
    "    [canada_census_data, italy_census_data],\n",
    "    [do_ca_client, do_it_client],\n",
    "    [\"Canada\", \"Italy\"],\n",
    "):\n",
    "    private_data, mock_data = dataset[:2500], dataset[2500:]\n",
    "    dataset = sy.Dataset(\n",
    "        name=f\"{country} - FEBrl Census Data\",\n",
    "        description=\"abc\",\n",
    "        asset_list=[\n",
    "            sy.Asset(\n",
    "                name=\"census_data\",\n",
    "                mock=mock_data,\n",
    "                data=private_data,\n",
    "                shape=private_data.shape,\n",
    "                mock_is_real=True,\n",
    "            )\n",
    "        ],\n",
    "    )\n",
    "    client.upload_dataset(dataset)"
   ]
  },
  {
   "cell_type": "code",
   "execution_count": null,
   "id": "22",
   "metadata": {},
   "outputs": [],
   "source": [
    "assert len(do_ca_client.datasets.get_all()) == 1\n",
    "assert len(do_it_client.datasets.get_all()) == 1"
   ]
  },
  {
   "cell_type": "markdown",
   "id": "23",
   "metadata": {},
   "source": [
    "## create accounts for DS"
   ]
  },
  {
   "cell_type": "code",
   "execution_count": null,
   "id": "24",
   "metadata": {},
   "outputs": [],
   "source": [
    "for client in [do_ca_client, do_it_client]:\n",
    "    res = client.register(\n",
    "        name=\"Sheldon\",\n",
    "        email=\"sheldon@caltech.edu\",\n",
    "        password=\"changethis\",\n",
    "        password_verify=\"changethis\",\n",
    "    )\n",
    "    assert isinstance(res, SyftSuccess)"
   ]
  },
  {
   "cell_type": "markdown",
   "id": "25",
   "metadata": {},
   "source": [
    "# DS"
   ]
  },
  {
   "cell_type": "markdown",
   "id": "26",
   "metadata": {},
   "source": [
    "## Login into gateway as guest"
   ]
  },
  {
   "cell_type": "code",
   "execution_count": null,
   "id": "27",
   "metadata": {},
   "outputs": [],
   "source": [
    "ds_gateway_client = gateway_node.client"
   ]
  },
  {
   "cell_type": "code",
   "execution_count": null,
   "id": "28",
   "metadata": {},
   "outputs": [],
   "source": [
    "# Explore the domains and enclaves connected to the gateway\n",
    "ds_gateway_client.domains"
   ]
  },
  {
   "cell_type": "code",
   "execution_count": null,
   "id": "29",
   "metadata": {},
   "outputs": [],
   "source": [
    "# Log into canada as proxy_client\n",
    "ds_ca_proxy_client = ds_gateway_client.domains[0]\n",
    "ds_ca_proxy_client = ds_ca_proxy_client.login(\n",
    "    email=\"sheldon@caltech.edu\", password=\"changethis\"\n",
    ")\n",
    "assert ds_ca_proxy_client.name == \"Canada\"\n",
    "assert ds_ca_proxy_client.connection.proxy_target_uid == do_ca_client.id\n",
    "assert isinstance(ds_ca_proxy_client, DomainClient)"
   ]
  },
  {
   "cell_type": "code",
   "execution_count": null,
   "id": "30",
   "metadata": {},
   "outputs": [],
   "source": [
    "# Log into italy as proxy_client\n",
    "ds_it_proxy_client = ds_gateway_client.domains[1]\n",
    "ds_it_proxy_client = ds_it_proxy_client.login(\n",
    "    email=\"sheldon@caltech.edu\", password=\"changethis\"\n",
    ")\n",
    "assert ds_it_proxy_client.name == \"Italy\"\n",
    "assert ds_it_proxy_client.connection.proxy_target_uid == do_it_client.id\n",
    "assert isinstance(ds_it_proxy_client, DomainClient)"
   ]
  },
  {
   "cell_type": "code",
   "execution_count": null,
   "id": "31",
   "metadata": {},
   "outputs": [],
   "source": [
    "# Create an account and log into enclave as proxy client\n",
    "ds_enclave_proxy_client = ds_gateway_client.enclaves[0]\n",
    "ds_enclave_proxy_client = ds_enclave_proxy_client.login(\n",
    "    email=\"sheldon@caltech.edu\", password=\"changethis\", name=\"Sheldon\", register=True\n",
    ")\n",
    "assert ds_enclave_proxy_client.name == \"Enclave\"\n",
    "assert ds_enclave_proxy_client.connection.proxy_target_uid == enclave_guest_client.id\n",
    "assert isinstance(ds_enclave_proxy_client, EnclaveClient)"
   ]
  },
  {
   "cell_type": "markdown",
   "id": "32",
   "metadata": {},
   "source": [
    "## Find datasets"
   ]
  },
  {
   "cell_type": "code",
   "execution_count": null,
   "id": "33",
   "metadata": {},
   "outputs": [],
   "source": [
    "canada_census_data = ds_ca_proxy_client.datasets[-1].assets[0]\n",
    "italy_census_data = ds_it_proxy_client.datasets[-1].assets[0]"
   ]
  },
  {
   "cell_type": "markdown",
   "id": "34",
   "metadata": {},
   "source": [
    "## Create Request"
   ]
  },
  {
   "cell_type": "code",
   "execution_count": null,
   "id": "35",
   "metadata": {},
   "outputs": [],
   "source": [
    "@sy.syft_function_single_use(\n",
    "    canada_census_data=canada_census_data,\n",
    "    italy_census_data=italy_census_data,\n",
    "    share_results_with_owners=True,\n",
    ")\n",
    "def compute_census_matches(canada_census_data, italy_census_data):\n",
    "    # third party\n",
    "    import recordlinkage\n",
    "\n",
    "    # Index step\n",
    "    indexer = recordlinkage.Index()\n",
    "    indexer.block(\"given_name\")\n",
    "\n",
    "    candidate_links = indexer.index(canada_census_data, italy_census_data)\n",
    "\n",
    "    # Comparison step\n",
    "    compare_cl = recordlinkage.Compare()\n",
    "\n",
    "    compare_cl.exact(\"given_name\", \"given_name\", label=\"given_name\")\n",
    "    compare_cl.string(\n",
    "        \"surname\", \"surname\", method=\"jarowinkler\", threshold=0.85, label=\"surname\"\n",
    "    )\n",
    "    compare_cl.exact(\"date_of_birth\", \"date_of_birth\", label=\"date_of_birth\")\n",
    "    compare_cl.exact(\"suburb\", \"suburb\", label=\"suburb\")\n",
    "    compare_cl.exact(\"state\", \"state\", label=\"state\")\n",
    "    compare_cl.string(\"address_1\", \"address_1\", threshold=0.85, label=\"address_1\")\n",
    "\n",
    "    features = compare_cl.compute(\n",
    "        candidate_links, canada_census_data, italy_census_data\n",
    "    )\n",
    "\n",
    "    # Classification step\n",
    "    matches = features[features.sum(axis=1) > 3]\n",
    "\n",
    "    return len(matches)"
   ]
  },
  {
   "cell_type": "code",
   "execution_count": null,
   "id": "36",
   "metadata": {},
   "outputs": [],
   "source": [
    "# Check result of mock data execution\n",
    "mock_result = compute_census_matches(\n",
    "    canada_census_data=canada_census_data.mock,\n",
    "    italy_census_data=italy_census_data.mock,\n",
    ")\n",
    "mock_result"
   ]
  },
  {
   "cell_type": "code",
   "execution_count": null,
   "id": "37",
   "metadata": {},
   "outputs": [],
   "source": [
    "req = ds_enclave_proxy_client.request_code_execution(compute_census_matches)\n",
    "req"
   ]
  },
  {
   "cell_type": "code",
   "execution_count": null,
   "id": "38",
   "metadata": {},
   "outputs": [],
   "source": [
    "assert isinstance(req, sy.service.request.request.Request)"
   ]
  },
  {
   "cell_type": "markdown",
   "id": "39",
   "metadata": {},
   "source": [
    "# DOs"
   ]
  },
  {
   "cell_type": "markdown",
   "id": "40",
   "metadata": {},
   "source": [
    "## Approve"
   ]
  },
  {
   "cell_type": "code",
   "execution_count": null,
   "id": "41",
   "metadata": {},
   "outputs": [],
   "source": [
    "for client in [do_ca_client, do_it_client]:\n",
    "    res = client.requests[-1].approve()\n",
    "    assert isinstance(res, SyftSuccess)"
   ]
  },
  {
   "cell_type": "markdown",
   "id": "42",
   "metadata": {},
   "source": [
    "# DS"
   ]
  },
  {
   "cell_type": "markdown",
   "id": "43",
   "metadata": {},
   "source": [
    "##  Get result"
   ]
  },
  {
   "cell_type": "code",
   "execution_count": null,
   "id": "44",
   "metadata": {},
   "outputs": [],
   "source": [
    "status = ds_enclave_proxy_client.code.get_all()[-1].status\n",
    "status"
   ]
  },
  {
   "cell_type": "code",
   "execution_count": null,
   "id": "45",
   "metadata": {},
   "outputs": [],
   "source": [
    "for st, _ in status.status_dict.values():\n",
    "    assert st == sy.service.request.request.UserCodeStatus.APPROVED"
   ]
  },
  {
   "cell_type": "code",
   "execution_count": null,
   "id": "46",
   "metadata": {},
   "outputs": [],
   "source": [
    "ds_enclave_proxy_client.code[-1].output_policy"
   ]
  },
  {
   "cell_type": "code",
   "execution_count": null,
   "id": "47",
   "metadata": {},
   "outputs": [],
   "source": [
    "result_pointer = ds_enclave_proxy_client.code.compute_census_matches(\n",
    "    canada_census_data=canada_census_data, italy_census_data=italy_census_data\n",
    ")"
   ]
  },
  {
   "cell_type": "code",
   "execution_count": null,
   "id": "48",
   "metadata": {},
   "outputs": [],
   "source": [
    "result_pointer"
   ]
  },
  {
   "cell_type": "code",
   "execution_count": null,
   "id": "49",
   "metadata": {},
   "outputs": [],
   "source": [
    "result_pointer.syft_action_data == 858"
   ]
  },
  {
   "cell_type": "code",
   "execution_count": null,
   "id": "50",
   "metadata": {},
   "outputs": [],
   "source": [
    "real_result = result_pointer.get()\n",
    "real_result"
   ]
  },
  {
   "cell_type": "code",
   "execution_count": null,
   "id": "51",
   "metadata": {},
   "outputs": [],
   "source": [
    "assert real_result == 813"
   ]
  },
  {
   "cell_type": "markdown",
   "id": "52",
   "metadata": {},
   "source": [
    "# DO"
   ]
  },
  {
   "cell_type": "markdown",
   "id": "53",
   "metadata": {},
   "source": [
    "## Can also get the result"
   ]
  },
  {
   "cell_type": "code",
   "execution_count": null,
   "id": "54",
   "metadata": {},
   "outputs": [],
   "source": [
    "request = do_ca_client.requests[0]\n",
    "request"
   ]
  },
  {
   "cell_type": "code",
   "execution_count": null,
   "id": "55",
   "metadata": {},
   "outputs": [],
   "source": [
    "result_ptr = request.get_results()\n",
    "result_ptr"
   ]
  },
  {
   "cell_type": "code",
   "execution_count": null,
   "id": "56",
   "metadata": {},
   "outputs": [],
   "source": [
    "assert result_ptr.syft_action_data == 813"
   ]
  },
  {
   "cell_type": "code",
   "execution_count": null,
   "id": "57",
   "metadata": {},
   "outputs": [],
   "source": []
  }
 ],
 "metadata": {
  "kernelspec": {
   "display_name": "Python 3 (ipykernel)",
   "language": "python",
   "name": "python3"
  },
  "language_info": {
   "codemirror_mode": {
    "name": "ipython",
    "version": 3
   },
   "file_extension": ".py",
   "mimetype": "text/x-python",
   "name": "python",
   "nbconvert_exporter": "python",
   "pygments_lexer": "ipython3",
   "version": "3.9.16"
  },
  "toc": {
   "base_numbering": 1,
   "nav_menu": {},
   "number_sections": true,
   "sideBar": true,
   "skip_h1_title": false,
   "title_cell": "Table of Contents",
   "title_sidebar": "Contents",
   "toc_cell": false,
   "toc_position": {
    "height": "calc(100% - 180px)",
    "left": "10px",
    "top": "150px",
    "width": "358.398px"
   },
   "toc_section_display": true,
   "toc_window_display": true
  }
 },
 "nbformat": 4,
 "nbformat_minor": 5
}

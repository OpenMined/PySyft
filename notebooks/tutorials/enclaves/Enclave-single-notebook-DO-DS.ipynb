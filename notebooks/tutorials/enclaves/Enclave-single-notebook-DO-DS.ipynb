{
 "cells": [
  {
   "cell_type": "code",
   "execution_count": null,
   "id": "91683cd6",
   "metadata": {},
   "outputs": [],
   "source": [
    "import syft as sy\n",
    "import recordlinkage\n",
    "from recordlinkage.datasets import load_febrl4"
   ]
  },
  {
   "cell_type": "markdown",
   "id": "f1c3f6fa",
   "metadata": {},
   "source": [
    "# Create Nodes and connect to gateway"
   ]
  },
  {
   "cell_type": "markdown",
   "id": "fbe5d34d",
   "metadata": {},
   "source": [
    "create enclave node"
   ]
  },
  {
   "cell_type": "code",
   "execution_count": null,
   "id": "b5571623",
   "metadata": {},
   "outputs": [],
   "source": [
    "#Local Python Mode\n",
    "enclave_node = sy.orchestra.launch(name=\"Enclave\",\n",
    "                                   node_type=sy.NodeType.ENCLAVE,\n",
    "                                   local_db=True,\n",
    "                                   dev_mode=True,\n",
    "                                   reset=True)"
   ]
  },
  {
   "cell_type": "code",
   "execution_count": null,
   "id": "eee33401-f96f-4080-9e33-cc5d9cdbad94",
   "metadata": {},
   "outputs": [],
   "source": [
    "from syft.abstract_node import NodeType\n",
    "assert enclave_node.python_node.node_type == NodeType.ENCLAVE"
   ]
  },
  {
   "cell_type": "markdown",
   "id": "9e8061f3",
   "metadata": {},
   "source": [
    "Create canada node & italy node"
   ]
  },
  {
   "cell_type": "code",
   "execution_count": null,
   "id": "dfbe2887",
   "metadata": {},
   "outputs": [],
   "source": [
    "ca_node = sy.orchestra.launch(name=\"Canada\",\n",
    "                              local_db=True,\n",
    "                              reset=True,\n",
    "                              dev_mode=True)\n",
    "it_node = sy.orchestra.launch(name=\"Italy\",\n",
    "                              local_db=True,\n",
    "                              reset=True,\n",
    "                              dev_mode=True) "
   ]
  },
  {
   "cell_type": "code",
   "execution_count": null,
   "id": "f2dfbc56-90c8-4417-992f-7000271de13c",
   "metadata": {},
   "outputs": [],
   "source": [
    "assert ca_node.python_node.node_type == NodeType.DOMAIN\n",
    "assert it_node.python_node.node_type == NodeType.DOMAIN"
   ]
  },
  {
   "cell_type": "markdown",
   "id": "84d0a095-eda8-4b1b-829f-13f47eb4a2ac",
   "metadata": {},
   "source": [
    "Create gateway Node"
   ]
  },
  {
   "cell_type": "code",
   "execution_count": null,
   "id": "b57b74ee-8b4d-4e0e-a2f2-1c770407e3f9",
   "metadata": {},
   "outputs": [],
   "source": [
    "gateway_node = sy.orchestra.launch(name=\"gateway\",\n",
    "                                   node_type = sy.NodeType.GATEWAY,\n",
    "                                   local_db=True,\n",
    "                                   reset=True,\n",
    "                                   dev_mode=True)"
   ]
  },
  {
   "cell_type": "markdown",
   "id": "981712b2-2c52-4b71-adc0-2cde9ba0f156",
   "metadata": {},
   "source": [
    "Connect nodes to gateway"
   ]
  },
  {
   "cell_type": "code",
   "execution_count": null,
   "id": "caa7e400-19c5-4457-923c-17f4b2a4389b",
   "metadata": {},
   "outputs": [],
   "source": [
    "enclave_guest_client = enclave_node.client\n",
    "ca_guest_client = ca_node.client\n",
    "it_guest_client = it_node.client"
   ]
  },
  {
   "cell_type": "code",
   "execution_count": null,
   "id": "69f2118a-45cc-47df-8396-36d379fddcb9",
   "metadata": {},
   "outputs": [],
   "source": [
    "from syft.client.gateway_client import GatewayClient\n",
    "from syft.client.enclave_client import EnclaveClient\n",
    "from syft.client.domain_client import DomainClient\n",
    "\n",
    "assert isinstance(enclave_guest_client ,EnclaveClient)\n",
    "assert isinstance(ca_guest_client ,DomainClient)\n",
    "assert isinstance(it_guest_client ,DomainClient)\n",
    "assert isinstance(gateway_node.client, GatewayClient)"
   ]
  },
  {
   "cell_type": "code",
   "execution_count": null,
   "id": "4f42cd5c-d61d-49ef-a3ae-3a1a28cd2e80",
   "metadata": {},
   "outputs": [],
   "source": [
    "# Connect enclave to gateway\n",
    "from syft.service.response import SyftSuccess\n",
    "res = enclave_guest_client.connect_to_gateway(handle=gateway_node)\n",
    "assert isinstance(res, SyftSuccess)\n",
    "res"
   ]
  },
  {
   "cell_type": "code",
   "execution_count": null,
   "id": "3783d96c-5ef0-4928-87c3-dfd7a4b2b693",
   "metadata": {},
   "outputs": [],
   "source": [
    "# Connect Canada to gateway\n",
    "res = ca_guest_client.connect_to_gateway(handle=gateway_node)\n",
    "assert isinstance(res, SyftSuccess)\n",
    "res"
   ]
  },
  {
   "cell_type": "code",
   "execution_count": null,
   "id": "e023d61e-6fe7-4399-af16-2dbb8b845275",
   "metadata": {},
   "outputs": [],
   "source": [
    "# Connect Italy to gateway\n",
    "res = it_guest_client.connect_to_gateway(handle=gateway_node)\n",
    "assert isinstance(res, SyftSuccess)\n",
    "res"
   ]
  },
  {
   "cell_type": "markdown",
   "id": "6bcfc534",
   "metadata": {},
   "source": [
    "# DOs"
   ]
  },
  {
   "cell_type": "code",
   "execution_count": null,
   "id": "304ddb77",
   "metadata": {},
   "outputs": [],
   "source": [
    "do_ca_client = ca_node.login(email=\"info@openmined.org\", password=\"changethis\")\n",
    "do_it_client = it_node.login(email=\"info@openmined.org\", password=\"changethis\")"
   ]
  },
  {
   "cell_type": "code",
   "execution_count": null,
   "id": "4d87f7fa-e476-4038-9310-cda9b6050410",
   "metadata": {},
   "outputs": [],
   "source": [
    "from syft.client.domain_client import DomainClient\n",
    "assert isinstance(do_ca_client, DomainClient)\n",
    "assert isinstance(do_it_client, DomainClient)"
   ]
  },
  {
   "cell_type": "markdown",
   "id": "7067e897",
   "metadata": {},
   "source": [
    "## Upload dataset"
   ]
  },
  {
   "cell_type": "code",
   "execution_count": null,
   "id": "79e4c728",
   "metadata": {},
   "outputs": [],
   "source": [
    "# Using public datasets from  Freely Extensible Biomedical Record Linkage (Febrl)\n",
    "canada_census_data, italy_census_data = load_febrl4()"
   ]
  },
  {
   "cell_type": "code",
   "execution_count": null,
   "id": "531e841c",
   "metadata": {},
   "outputs": [],
   "source": [
    "for (dataset, client, country) in zip([canada_census_data, italy_census_data], [do_ca_client, do_it_client], [\"Canada\", \"Italy\"]):\n",
    "    private_data, mock_data = dataset[:2500] , dataset[2500:]\n",
    "    dataset = sy.Dataset(\n",
    "        name=f\"{country} - FEBrl Census Data\",\n",
    "        description=\"abc\",\n",
    "        asset_list=[\n",
    "            sy.Asset(\n",
    "                name=\"census_data\",\n",
    "                mock=mock_data,\n",
    "                data=private_data,\n",
    "                shape=private_data.shape,\n",
    "                mock_is_real=True\n",
    "            )\n",
    "        ]\n",
    "    )\n",
    "    client.upload_dataset(dataset)\n",
    "    "
   ]
  },
  {
   "cell_type": "code",
   "execution_count": null,
   "id": "90c7623c-7150-4c5d-adf1-09208094f0c3",
   "metadata": {},
   "outputs": [],
   "source": [
    "assert len(do_ca_client.datasets.get_all()) == 1\n",
    "assert len(do_it_client.datasets.get_all()) == 1"
   ]
  },
  {
   "cell_type": "markdown",
   "id": "b851388f",
   "metadata": {},
   "source": [
    "## create accounts for DS"
   ]
  },
  {
   "cell_type": "code",
   "execution_count": null,
   "id": "068d7f74",
   "metadata": {},
   "outputs": [],
   "source": [
    "for client in [do_ca_client, do_it_client]:\n",
    "    res = client.register(\n",
    "        name = \"Sheldon\",\n",
    "        email = \"sheldon@caltech.edu\",\n",
    "        password = \"changethis\"\n",
    "    )\n",
    "    assert isinstance(res, SyftSuccess)"
   ]
  },
  {
   "cell_type": "markdown",
   "id": "17e97ac0",
   "metadata": {},
   "source": [
    "# DS"
   ]
  },
  {
   "cell_type": "markdown",
   "id": "09b4995b",
   "metadata": {},
   "source": [
    "## Login into gateway as guest"
   ]
  },
  {
   "cell_type": "code",
   "execution_count": null,
   "id": "9253c4e0-4d62-46a8-8066-b6310fa8f439",
   "metadata": {},
   "outputs": [],
   "source": [
    "ds_gateway_client = gateway_node.client"
   ]
  },
  {
   "cell_type": "code",
   "execution_count": null,
   "id": "4c8b47b3-3cff-4b37-b760-5ed51590f3e6",
   "metadata": {},
   "outputs": [],
   "source": [
    "#Explore the domains and enclaves connected to the gateway\n",
    "ds_gateway_client.domains"
   ]
  },
  {
   "cell_type": "code",
   "execution_count": null,
   "id": "29a1dce5-20b1-42b4-9a02-613c1befcbb0",
   "metadata": {},
   "outputs": [],
   "source": [
    "#logs into canada as proxy_client\n",
    "ds_ca_proxy_client = ds_gateway_client.domains[0]\n",
    "ds_ca_proxy_client.login(email=\"sheldon@caltech.edu\" , password=\"changethis\")\n",
    "assert ds_ca_proxy_client.name == \"Canada\"\n",
    "assert ds_ca_proxy_client.connection.proxy_target_uid == do_ca_client.id\n",
    "assert isinstance(ds_ca_proxy_client, DomainClient)"
   ]
  },
  {
   "cell_type": "code",
   "execution_count": null,
   "id": "95c5d156-3efb-4f74-ac5e-4946fff1a856",
   "metadata": {},
   "outputs": [],
   "source": [
    "#logs into italy as proxy_client\n",
    "ds_it_proxy_client = ds_gateway_client.domains[1]\n",
    "ds_it_proxy_client.login(email=\"sheldon@caltech.edu\" , password=\"changethis\")\n",
    "assert ds_it_proxy_client.name == \"Italy\"\n",
    "assert ds_it_proxy_client.connection.proxy_target_uid == do_it_client.id\n",
    "assert isinstance(ds_it_proxy_client, DomainClient)"
   ]
  },
  {
   "cell_type": "code",
   "execution_count": null,
   "id": "51a13acd-a487-4ff5-87ab-b7c4dd241434",
   "metadata": {},
   "outputs": [],
   "source": [
    "# Creates and account and logs into enclave as proxy client\n",
    "ds_enclave_proxy_client = ds_gateway_client.enclaves[0]\n",
    "ds_enclave_proxy_client.login(email=\"sheldon@caltech.edu\" , password=\"changethis\",name=\"Sheldon\", register=True)\n",
    "assert ds_enclave_proxy_client.name == \"Enclave\"\n",
    "assert ds_enclave_proxy_client.connection.proxy_target_uid == enclave_guest_client.id\n",
    "assert isinstance(ds_enclave_proxy_client, EnclaveClient)"
   ]
  },
  {
   "cell_type": "markdown",
   "id": "016cbcc3",
   "metadata": {},
   "source": [
    "## Find datasets"
   ]
  },
  {
   "cell_type": "code",
   "execution_count": null,
   "id": "af85a8b4",
   "metadata": {},
   "outputs": [],
   "source": [
    "canada_census_data = ds_ca_proxy_client.datasets[-1].assets[0]\n",
    "italy_census_data = ds_it_proxy_client.datasets[-1].assets[0]"
   ]
  },
  {
   "cell_type": "markdown",
   "id": "5b3045b0",
   "metadata": {},
   "source": [
    "## Create Request"
   ]
  },
  {
   "cell_type": "code",
   "execution_count": null,
   "id": "919eb56a",
   "metadata": {},
   "outputs": [],
   "source": [
    "@sy.syft_function_single_use(canada_census_data=canada_census_data, italy_census_data=italy_census_data)\n",
    "def compute_census_matches(canada_census_data, italy_census_data):\n",
    "    import recordlinkage\n",
    "        \n",
    "    # Index step\n",
    "    indexer = recordlinkage.Index()\n",
    "    indexer.block(\"given_name\")\n",
    "\n",
    "    candidate_links = indexer.index(canada_census_data, italy_census_data)\n",
    "\n",
    "    # Comparison step\n",
    "    compare_cl = recordlinkage.Compare()\n",
    "\n",
    "    compare_cl.exact(\"given_name\", \"given_name\", label=\"given_name\")\n",
    "    compare_cl.string(\"surname\", \"surname\", method=\"jarowinkler\", threshold=0.85, label=\"surname\")\n",
    "    compare_cl.exact(\"date_of_birth\", \"date_of_birth\", label=\"date_of_birth\")\n",
    "    compare_cl.exact(\"suburb\", \"suburb\", label=\"suburb\")\n",
    "    compare_cl.exact(\"state\", \"state\", label=\"state\")\n",
    "    compare_cl.string(\"address_1\", \"address_1\", threshold=0.85, label=\"address_1\")\n",
    "\n",
    "    features = compare_cl.compute(candidate_links, canada_census_data, italy_census_data)\n",
    "\n",
    "    # Classification step\n",
    "    matches = features[features.sum(axis=1) > 3]\n",
    "    \n",
    "    return len(matches)\n",
    "    "
   ]
  },
  {
   "cell_type": "code",
   "execution_count": null,
   "id": "abeddba5",
   "metadata": {},
   "outputs": [],
   "source": [
    "#Checking result of mock data execution\n",
    "mock_result = compute_census_matches(\n",
    "                       canada_census_data=canada_census_data.mock,\n",
    "                       italy_census_data=italy_census_data.mock\n",
    "                    )\n",
    "mock_result"
   ]
  },
  {
   "cell_type": "code",
   "execution_count": null,
   "id": "8a6fa111",
   "metadata": {},
   "outputs": [],
   "source": [
    "req = ds_enclave_proxy_client.request_code_execution(compute_census_matches)\n",
    "req"
   ]
  },
  {
   "cell_type": "code",
   "execution_count": null,
   "id": "10590fe0-5fce-4c5e-be96-d2e78f1351e8",
   "metadata": {},
   "outputs": [],
   "source": [
    "assert isinstance(req, sy.service.request.request.Request)"
   ]
  },
  {
   "cell_type": "markdown",
   "id": "8bfb6139",
   "metadata": {},
   "source": [
    "# DOs"
   ]
  },
  {
   "cell_type": "markdown",
   "id": "706b3223",
   "metadata": {},
   "source": [
    "## Approve"
   ]
  },
  {
   "cell_type": "code",
   "execution_count": null,
   "id": "e3e45124",
   "metadata": {},
   "outputs": [],
   "source": [
    "for client in [do_ca_client, do_it_client]:\n",
    "    res = client.requests[-1].approve()\n",
    "    assert isinstance(res, SyftSuccess)"
   ]
  },
  {
   "cell_type": "markdown",
   "id": "bdaedcc7",
   "metadata": {},
   "source": [
    "# DS"
   ]
  },
  {
   "cell_type": "markdown",
   "id": "2307e68c",
   "metadata": {},
   "source": [
    "##  Get result"
   ]
  },
  {
   "cell_type": "code",
   "execution_count": null,
   "id": "efaf4407",
   "metadata": {},
   "outputs": [],
   "source": [
    "status = ds_enclave_proxy_client.code.get_all()[-1].status\n",
    "status"
   ]
  },
  {
   "cell_type": "code",
   "execution_count": null,
   "id": "72f9944d-8570-48ae-a54e-5d2fed28a1a2",
   "metadata": {},
   "outputs": [],
   "source": [
    "for st in status.base_dict.values():\n",
    "    assert st == sy.service.request.request.UserCodeStatus.EXECUTE"
   ]
  },
  {
   "cell_type": "code",
   "execution_count": null,
   "id": "06d83903",
   "metadata": {},
   "outputs": [],
   "source": [
    "result_pointer = ds_enclave_proxy_client.code.compute_census_matches(\n",
    "    canada_census_data=canada_census_data,\n",
    "    italy_census_data=italy_census_data\n",
    ")"
   ]
  },
  {
   "cell_type": "code",
   "execution_count": null,
   "id": "eaaab19e",
   "metadata": {},
   "outputs": [],
   "source": [
    "result_pointer"
   ]
  },
  {
   "cell_type": "code",
   "execution_count": null,
   "id": "b5e98670-0394-4194-a810-abce1b397586",
   "metadata": {},
   "outputs": [],
   "source": [
    "result_pointer.syft_action_data == 858"
   ]
  },
  {
   "cell_type": "code",
   "execution_count": null,
   "id": "0792791e",
   "metadata": {},
   "outputs": [],
   "source": [
    "real_result = result_pointer.get()\n",
    "real_result"
   ]
  },
  {
   "cell_type": "code",
   "execution_count": null,
   "id": "5c6adc30",
   "metadata": {},
   "outputs": [],
   "source": [
    "assert real_result == 813"
   ]
  },
  {
   "cell_type": "code",
   "execution_count": null,
   "id": "c7e8c775-400a-46ce-ba3c-58ca0563621e",
   "metadata": {},
   "outputs": [],
   "source": []
  }
 ],
 "metadata": {
  "kernelspec": {
   "display_name": "Python 3 (ipykernel)",
   "language": "python",
   "name": "python3"
  },
  "language_info": {
   "codemirror_mode": {
    "name": "ipython",
    "version": 3
   },
   "file_extension": ".py",
   "mimetype": "text/x-python",
   "name": "python",
   "nbconvert_exporter": "python",
   "pygments_lexer": "ipython3",
   "version": "3.11.4"
  },
  "toc": {
   "base_numbering": 1,
   "nav_menu": {},
   "number_sections": true,
   "sideBar": true,
   "skip_h1_title": false,
   "title_cell": "Table of Contents",
   "title_sidebar": "Contents",
   "toc_cell": false,
   "toc_position": {
    "height": "calc(100% - 180px)",
    "left": "10px",
    "top": "150px",
    "width": "358.398px"
   },
   "toc_section_display": true,
   "toc_window_display": true
  }
 },
 "nbformat": 4,
 "nbformat_minor": 5
}

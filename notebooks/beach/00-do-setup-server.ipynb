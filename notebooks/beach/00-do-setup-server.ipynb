{
 "cells": [
  {
   "cell_type": "markdown",
   "id": "259c819e-b3e8-40dd-b389-3a0fb070b188",
   "metadata": {},
   "source": [
    "# First Login"
   ]
  },
  {
   "cell_type": "code",
   "execution_count": null,
   "id": "ae1e8a37-3cba-4cf7-95c1-b2ae499798b6",
   "metadata": {},
   "outputs": [],
   "source": [
    "# syft absolute\n",
    "import syft as sy"
   ]
  },
  {
   "cell_type": "code",
   "execution_count": null,
   "id": "26b740ea-c381-437c-ad64-70675e84d713",
   "metadata": {},
   "outputs": [],
   "source": [
    "node = sy.orchestra.launch(\n",
    "    name=\"test-domain-1\",\n",
    "    port=\"auto\",\n",
    "    dev_mode=True,\n",
    "    reset=True,\n",
    "    n_consumers=1,\n",
    "    create_producer=True,\n",
    ")\n",
    "domain_client = node.login(email=\"info@openmined.org\", password=\"changethis\")"
   ]
  },
  {
   "cell_type": "markdown",
   "id": "eadde467-2faf-4b3d-811d-c24bfd48f30b",
   "metadata": {},
   "source": [
    "# Modify Admin User/Password"
   ]
  },
  {
   "cell_type": "code",
   "execution_count": null,
   "id": "7b850cef-46c2-469b-bbc1-862859a1f168",
   "metadata": {},
   "outputs": [],
   "source": [
    "user = domain_client.me\n",
    "user"
   ]
  },
  {
   "cell_type": "code",
   "execution_count": null,
   "id": "298e8d39-8b9d-4ea8-a649-8598e55835fc",
   "metadata": {},
   "outputs": [],
   "source": [
    "user.set_email(email=\"party@beach.edu\")"
   ]
  },
  {
   "cell_type": "code",
   "execution_count": null,
   "id": "4600c91d-9f04-4fda-b88f-1ac8df6c3fb0",
   "metadata": {},
   "outputs": [],
   "source": [
    "user.set_password(new_password=\"test\", confirm=False)"
   ]
  },
  {
   "cell_type": "code",
   "execution_count": null,
   "id": "964d652f-4c35-4a7f-ba36-ff0fb8a9363d",
   "metadata": {},
   "outputs": [],
   "source": [
    "domain_client = node.login(email=\"info@openmined.org\", password=\"changethis\")\n",
    "domain_client"
   ]
  },
  {
   "cell_type": "code",
   "execution_count": null,
   "id": "8a487165-767c-459d-bc19-880f14d4b123",
   "metadata": {},
   "outputs": [],
   "source": [
    "domain_client = node.login(email=\"party@beach.edu\", password=\"test\")\n",
    "domain_client"
   ]
  },
  {
   "cell_type": "markdown",
   "id": "fd403bef-b66f-4533-a7b2-7f6bc34b0f90",
   "metadata": {},
   "source": [
    "# Create Adapter to Vertex"
   ]
  },
  {
   "cell_type": "code",
   "execution_count": null,
   "id": "270d3c02-ae34-46f4-8160-2691022505bc",
   "metadata": {},
   "outputs": [],
   "source": [
    "PRIVATE_KEY = \"\""
   ]
  },
  {
   "cell_type": "code",
   "execution_count": null,
   "id": "88763a18-a41d-4eac-b668-7269d9110734",
   "metadata": {},
   "outputs": [],
   "source": [
    "SERVICE_ACCOUNT = {\n",
    "    \"type\": \"service_account\",\n",
    "    \"project_id\": \"project-enigma-415021\",\n",
    "    \"private_key_id\": \"0bd7cdd831f456f905fa98ad570740948bf7b7b9\",\n",
    "    \"private_key\": PRIVATE_KEY,\n",
    "    \"client_email\": \"vertex-test@project-enigma-415021.iam.gserviceaccount.com\",\n",
    "    \"client_id\": \"113559790781665979367\",\n",
    "    \"auth_uri\": \"https://accounts.google.com/o/oauth2/auth\",\n",
    "    \"token_uri\": \"https://oauth2.googleapis.com/token\",\n",
    "    \"auth_provider_x509_cert_url\": \"https://www.googleapis.com/oauth2/v1/certs\",\n",
    "    \"client_x509_cert_url\": \"https://www.googleapis.com/robot/v1/metadata/x509/vertex-test%40project-enigma-415021.iam.gserviceaccount.com\",\n",
    "    \"universe_domain\": \"googleapis.com\",\n",
    "}"
   ]
  },
  {
   "cell_type": "code",
   "execution_count": null,
   "id": "a3cbf75e-322d-4e80-9c64-2a653dd7a4a6",
   "metadata": {},
   "outputs": [],
   "source": [
    "def rate_limit(user_email: str, api_state: dict, user_settings: dict):\n",
    "    # stdlib\n",
    "    import time\n",
    "\n",
    "    # syft absolute\n",
    "    import syft as sy\n",
    "\n",
    "    def filter_history(call_history: dict, period_secs: int) -> None:\n",
    "        now = time.time()\n",
    "        filtered_call_history = {}\n",
    "        for execution_time_str, call_item in call_history.items():\n",
    "            execution_time = float(execution_time_str)\n",
    "\n",
    "            diff = now - execution_time\n",
    "            if diff > period_secs:\n",
    "                # it has expired so trim\n",
    "                pass\n",
    "            else:\n",
    "                filtered_call_history[execution_time] = call_item\n",
    "        return filtered_call_history\n",
    "\n",
    "    def add_call_history(call_history: dict | None) -> None:\n",
    "        if call_history is None:\n",
    "            call_history = {}\n",
    "        now = time.time()\n",
    "        call_history[str(now)] = True\n",
    "        return call_history\n",
    "\n",
    "    def is_valid(call_history: dict, n_calls: int, period_secs: int):\n",
    "        if call_history is None:\n",
    "            call_history = {}\n",
    "        if len(call_history) >= n_calls:\n",
    "            # syft absolute\n",
    "            import syft as sy\n",
    "\n",
    "            return sy.SyftError(\n",
    "                message=f\"You have hit the rate limit of {n_calls} calls in {period_secs} seconds.\"\n",
    "            )\n",
    "        return True\n",
    "\n",
    "    # get user_state\n",
    "    user_state = api_state.get(user_email, {})\n",
    "\n",
    "    if user_email not in user_settings:\n",
    "        valid = sy.SyftError(\n",
    "            message=f\"Email {user_email} is not allowed to use this API Endpoint.\"\n",
    "        )\n",
    "        return user_state, valid\n",
    "\n",
    "    # get settings for user\n",
    "    settings = user_settings.get(user_email, {})\n",
    "    n_calls = settings.get(\"n_calls\", 3)  # defaults\n",
    "    period_secs = settings.get(\"period_secs\", 60)  # defaults\n",
    "\n",
    "    # filter old calls\n",
    "    user_state = filter_history(call_history=user_state, period_secs=period_secs)\n",
    "\n",
    "    # check if its still valid\n",
    "    valid = is_valid(call_history=user_state, n_calls=n_calls, period_secs=period_secs)\n",
    "\n",
    "    if valid:\n",
    "        # record a call if we are allowed\n",
    "        user_state = add_call_history(call_history=user_state)\n",
    "\n",
    "    return user_state, valid"
   ]
  },
  {
   "cell_type": "code",
   "execution_count": null,
   "id": "95833d79-f587-465c-a971-712bba519774",
   "metadata": {},
   "outputs": [],
   "source": [
    "user_settings = {\n",
    "    \"paul@arrakis.net\": {\"n_calls\": 1, \"period_secs\": 10},\n",
    "    \"info@openmined.org\": {\"n_calls\": 1, \"period_secs\": 10},\n",
    "    \"party@beach.edu\": {\"n_calls\": 1, \"period_secs\": 10},\n",
    "}"
   ]
  },
  {
   "cell_type": "code",
   "execution_count": null,
   "id": "637be4aa-e8a0-4be8-a61a-3aa51c2db48e",
   "metadata": {},
   "outputs": [],
   "source": [
    "@sy.api_endpoint(\n",
    "    path=\"vertex.run\",\n",
    "    settings={\"SERVICE_ACCOUNT\": SERVICE_ACCOUNT, \"user_settings\": user_settings},\n",
    "    helper_functions=[rate_limit],\n",
    ")\n",
    "def public_endpoint_method(\n",
    "    context,\n",
    "    prompt: str,\n",
    "    max_tokens: int = 50,\n",
    "    temperature: float = 0.1,\n",
    "    top_p: float = 1.0,\n",
    "    top_k: int = 1,\n",
    "    raw_response: bool = False,\n",
    ") -> str:\n",
    "    # syft absolute\n",
    "    import syft as sy\n",
    "\n",
    "    # get helper function\n",
    "    rate_limit = context.code.helper_functions[\"rate_limit\"]\n",
    "    user_settings = context.settings[\"user_settings\"]\n",
    "    user_email = context.user_view.email\n",
    "\n",
    "    # apply rate limiter\n",
    "    user_state, valid = rate_limit(\n",
    "        user_email=user_email, api_state=context.state, user_settings=user_settings\n",
    "    )\n",
    "\n",
    "    # update state\n",
    "    context.state[user_email] = user_state\n",
    "\n",
    "    if context.user_view.role != sy.ServiceRole.ADMIN and not valid:\n",
    "        # send back error message\n",
    "        return valid\n",
    "\n",
    "    # run code\n",
    "    # third party\n",
    "    from google.cloud import aiplatform\n",
    "    from google.oauth2 import service_account\n",
    "\n",
    "    try:\n",
    "        credentials = service_account.Credentials.from_service_account_info(\n",
    "            context.settings[\"SERVICE_ACCOUNT\"]\n",
    "        )\n",
    "\n",
    "        PROJECT_ID = \"project-enigma-415021\"\n",
    "        REGION = \"us-west1\"\n",
    "        ENDPOINT_ID = \"3213239169291649024\"\n",
    "        aip_endpoint_name = (\n",
    "            f\"projects/{PROJECT_ID}/locations/{REGION}/endpoints/{ENDPOINT_ID}\"\n",
    "        )\n",
    "        endpoint_vllm = aiplatform.Endpoint(aip_endpoint_name, credentials=credentials)\n",
    "        default_kwargs = {\n",
    "            \"prompt\": prompt,\n",
    "            \"max_tokens\": max_tokens,\n",
    "            \"temperature\": temperature,\n",
    "            \"top_p\": top_p,\n",
    "            \"top_k\": top_k,\n",
    "            \"raw_response\": raw_response,\n",
    "        }\n",
    "        instances = [\n",
    "            default_kwargs,\n",
    "        ]\n",
    "        response = endpoint_vllm.predict(instances=instances)\n",
    "        prediction = response.predictions[0]\n",
    "    except Exception as e:\n",
    "        prediction = f\"Error: Please try again? {e}\"\n",
    "    return {\"prediction\": prediction}"
   ]
  },
  {
   "cell_type": "code",
   "execution_count": null,
   "id": "baf5e722-7f6b-4ee0-9a49-fe389120dd81",
   "metadata": {},
   "outputs": [],
   "source": [
    "# use to delete if you want to add again (there is a seperate update API)\n",
    "domain_client.api.services.api.delete(endpoint_path=\"vertex.run\")"
   ]
  },
  {
   "cell_type": "code",
   "execution_count": null,
   "id": "b5b2463f-8e38-40fa-a307-66efedc9301e",
   "metadata": {},
   "outputs": [],
   "source": [
    "domain_client.api.services.api.add(endpoint=public_endpoint_method)"
   ]
  },
  {
   "cell_type": "code",
   "execution_count": null,
   "id": "3a7e1f2a-ca77-4066-851f-2b28f1a50192",
   "metadata": {},
   "outputs": [],
   "source": [
    "# test with user"
   ]
  },
  {
   "cell_type": "code",
   "execution_count": null,
   "id": "43c3e941-5370-44bf-a43d-9c69a5222c9d",
   "metadata": {},
   "outputs": [],
   "source": [
    "domain_client.register(\n",
    "    name=\"Paul Atreides\",\n",
    "    email=\"paul@arrakis.net\",\n",
    "    password=\"lisan-al-gaib\",\n",
    "    password_verify=\"lisan-al-gaib\",\n",
    "    institution=\"House Atreides\",\n",
    "    website=\"https://arrakis.net/\",\n",
    ")"
   ]
  },
  {
   "cell_type": "code",
   "execution_count": null,
   "id": "1a9e9e74-2825-4296-94aa-453e2b10eb15",
   "metadata": {},
   "outputs": [],
   "source": [
    "paul_client = domain_client.login_as(email=\"paul@arrakis.net\")"
   ]
  },
  {
   "cell_type": "code",
   "execution_count": null,
   "id": "b3b8be3a-cff2-4c54-827c-7276cda57569",
   "metadata": {},
   "outputs": [],
   "source": [
    "paul_client.api.services.vertex.run(prompt=\"hello\")"
   ]
  },
  {
   "cell_type": "code",
   "execution_count": null,
   "id": "da5179e9-654b-446c-b62a-5aad50210d32",
   "metadata": {},
   "outputs": [],
   "source": [
    "paul_client.api.services.vertex.run(prompt=\"hello\")"
   ]
  },
  {
   "cell_type": "markdown",
   "id": "4951150d-6dba-4edd-8877-e84828fc429d",
   "metadata": {},
   "source": [
    "# Create Rate Limit Updater"
   ]
  },
  {
   "cell_type": "code",
   "execution_count": null,
   "id": "94d01f50-ad25-40bd-8744-53c44094148f",
   "metadata": {},
   "outputs": [],
   "source": [
    "@sy.api_endpoint_method()\n",
    "def private_set_user_rate_limit(\n",
    "    context, endpoint_path: str, email: str, n_calls: int, period_secs: int\n",
    "):\n",
    "    api_endpoint = context.admin_client.api.services.api.get(api_path=endpoint_path)\n",
    "    settings = api_endpoint.mock_function.settings\n",
    "    user_settings = {\"n_calls\": n_calls, \"period_secs\": period_secs}\n",
    "    settings[\"user_settings\"][email] = user_settings\n",
    "    result = context.admin_client.api.services.api.set_settings(\n",
    "        api_path=endpoint_path, settings=settings, both=True\n",
    "    )\n",
    "    return result"
   ]
  },
  {
   "cell_type": "code",
   "execution_count": null,
   "id": "ba2d4deb-6da7-4f56-921c-e281f74d57eb",
   "metadata": {},
   "outputs": [],
   "source": [
    "new_endpoint = sy.TwinAPIEndpoint(\n",
    "    path=\"ratelimit.update\",\n",
    "    mock_function=None,\n",
    "    private_function=private_set_user_rate_limit,\n",
    ")"
   ]
  },
  {
   "cell_type": "code",
   "execution_count": null,
   "id": "d1907238-848a-4d74-a256-47871068e65a",
   "metadata": {},
   "outputs": [],
   "source": [
    "domain_client.api.services.api.delete(endpoint_path=\"ratelimit.update\")"
   ]
  },
  {
   "cell_type": "code",
   "execution_count": null,
   "id": "cf8d15f2-fa96-4e1c-80ac-a588dc62b5c7",
   "metadata": {},
   "outputs": [],
   "source": [
    "domain_client.api.services.api.add(endpoint=new_endpoint)"
   ]
  },
  {
   "cell_type": "code",
   "execution_count": null,
   "id": "6066d76a-6e98-4255-8a31-5e35819f9dfd",
   "metadata": {},
   "outputs": [],
   "source": [
    "domain_client.refresh()"
   ]
  },
  {
   "cell_type": "code",
   "execution_count": null,
   "id": "41cd361b-d609-4324-bf64-e509eece0bee",
   "metadata": {},
   "outputs": [],
   "source": [
    "domain_client.api.services.ratelimit.update(\n",
    "    endpoint_path=\"vertex.run\", email=\"paul@arrakis.net\", n_calls=0, period_secs=10\n",
    ")"
   ]
  },
  {
   "cell_type": "code",
   "execution_count": null,
   "id": "581cc683-812c-482e-ac5a-d58e41708157",
   "metadata": {},
   "outputs": [],
   "source": [
    "paul_client.api.services.vertex.run(prompt=\"hello\")"
   ]
  },
  {
   "cell_type": "markdown",
   "id": "fa76db31-6c1d-433f-a5bd-8e57d5cf1c1a",
   "metadata": {},
   "source": [
    "# Create Settings Getter"
   ]
  },
  {
   "cell_type": "code",
   "execution_count": null,
   "id": "bdbc6301-677c-4fbc-a690-4c60b293d64a",
   "metadata": {},
   "outputs": [],
   "source": [
    "@sy.api_endpoint_method()\n",
    "def private_get_user_rate_limit(context, endpoint_path: str, email: str):\n",
    "    api_endpoint = context.admin_client.api.services.api.get(api_path=endpoint_path)\n",
    "    settings = api_endpoint.mock_function.settings\n",
    "    if email in settings[\"user_settings\"]:\n",
    "        user_rate_limit = settings[\"user_settings\"][email]\n",
    "        return f\"Rate limit for {email} is {user_rate_limit}\"\n",
    "    return f\"Rate limit for {email} does not exist\""
   ]
  },
  {
   "cell_type": "code",
   "execution_count": null,
   "id": "29e330c5-0777-4ad2-8dbc-395a872a6b55",
   "metadata": {},
   "outputs": [],
   "source": [
    "new_endpoint = sy.TwinAPIEndpoint(\n",
    "    path=\"ratelimit.get\",\n",
    "    mock_function=None,\n",
    "    private_function=private_get_user_rate_limit,\n",
    ")"
   ]
  },
  {
   "cell_type": "code",
   "execution_count": null,
   "id": "dcf88ead-7efb-4e61-9afe-df659dcf454f",
   "metadata": {},
   "outputs": [],
   "source": [
    "domain_client.api.services.api.delete(endpoint_path=\"ratelimit.get\")"
   ]
  },
  {
   "cell_type": "code",
   "execution_count": null,
   "id": "a4cf4baa-7c29-4083-8960-84751ad258d4",
   "metadata": {},
   "outputs": [],
   "source": [
    "domain_client.api.services.api.add(endpoint=new_endpoint)"
   ]
  },
  {
   "cell_type": "code",
   "execution_count": null,
   "id": "9dcea02d-49c3-4640-b1d1-89908c272a36",
   "metadata": {},
   "outputs": [],
   "source": [
    "domain_client.refresh()"
   ]
  },
  {
   "cell_type": "code",
   "execution_count": null,
   "id": "43d498b6-ac7e-4a59-a4c5-72c22d3ad631",
   "metadata": {},
   "outputs": [],
   "source": [
    "domain_client.api.services.ratelimit.get(\n",
    "    endpoint_path=\"vertex.run\", email=\"paul@arrakis.net\"\n",
    ")"
   ]
  },
  {
   "cell_type": "markdown",
   "id": "6377d0f8-5e8e-4e2b-8813-cca223bc0c7c",
   "metadata": {},
   "source": [
    "# Create Reset State Endpoint"
   ]
  },
  {
   "cell_type": "code",
   "execution_count": null,
   "id": "58a49f27-4d16-4420-98d2-7b4847edcdc0",
   "metadata": {},
   "outputs": [],
   "source": [
    "@sy.api_endpoint_method()\n",
    "def private_reset_endpoint_state(context, endpoint_path: str):\n",
    "    result = context.admin_client.api.services.api.set_state(\n",
    "        api_path=endpoint_path, state={}, both=True\n",
    "    )\n",
    "    return result"
   ]
  },
  {
   "cell_type": "code",
   "execution_count": null,
   "id": "31ab799f-bd14-4020-b024-cfcc8ca4481a",
   "metadata": {},
   "outputs": [],
   "source": [
    "new_endpoint = sy.TwinAPIEndpoint(\n",
    "    path=\"state.reset\",\n",
    "    mock_function=None,\n",
    "    private_function=private_reset_endpoint_state,\n",
    ")"
   ]
  },
  {
   "cell_type": "code",
   "execution_count": null,
   "id": "d0ebc707-d555-49cb-a8d4-27e19fa56045",
   "metadata": {},
   "outputs": [],
   "source": [
    "domain_client.api.services.api.delete(endpoint_path=\"state.reset\")"
   ]
  },
  {
   "cell_type": "code",
   "execution_count": null,
   "id": "3ac0fc9a-ab15-4bd4-8b02-e1a362db3d1d",
   "metadata": {},
   "outputs": [],
   "source": [
    "domain_client.api.services.api.add(endpoint=new_endpoint)"
   ]
  },
  {
   "cell_type": "code",
   "execution_count": null,
   "id": "7a8bc70c-d135-49cd-9c99-cd5369431316",
   "metadata": {},
   "outputs": [],
   "source": [
    "domain_client.refresh()"
   ]
  },
  {
   "cell_type": "code",
   "execution_count": null,
   "id": "9e632912-504f-4bc4-a877-27c34b22c329",
   "metadata": {},
   "outputs": [],
   "source": [
    "domain_client.api.services.api.get(api_path=\"vertex.run\").mock_function.state"
   ]
  },
  {
   "cell_type": "code",
   "execution_count": null,
   "id": "ea95175f-46b6-41dc-ac6e-e09353dbe012",
   "metadata": {},
   "outputs": [],
   "source": [
    "domain_client.api.services.state.reset(endpoint_path=\"vertex.run\")"
   ]
  },
  {
   "cell_type": "code",
   "execution_count": null,
   "id": "35722291-a350-4bf7-951e-43958727d8f6",
   "metadata": {},
   "outputs": [],
   "source": [
    "# Cleanup local domain server\n",
    "if node.node_type.value == \"python\":\n",
    "    node.land()"
   ]
  }
 ],
 "metadata": {
  "kernelspec": {
   "display_name": "Python 3 (ipykernel)",
   "language": "python",
   "name": "python3"
  },
  "language_info": {
   "codemirror_mode": {
    "name": "ipython",
    "version": 3
   },
   "file_extension": ".py",
   "mimetype": "text/x-python",
   "name": "python",
   "nbconvert_exporter": "python",
   "pygments_lexer": "ipython3",
   "version": "3.12.2"
  }
 },
 "nbformat": 4,
 "nbformat_minor": 5
}

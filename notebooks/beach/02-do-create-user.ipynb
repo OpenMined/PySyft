{
 "cells": [
  {
   "cell_type": "code",
   "execution_count": 2,
   "id": "bb91d876-4ccc-44fc-84e4-c38e27506da5",
   "metadata": {},
   "outputs": [],
   "source": [
    "# syft absolute\n",
    "import syft as sy"
   ]
  },
  {
   "cell_type": "code",
   "execution_count": 3,
   "id": "a051586d-c4b9-4dcf-b401-483a5d15d630",
   "metadata": {},
   "outputs": [
    {
     "name": "stdout",
     "output_type": "stream",
     "text": [
      "Staging Protocol Changes...\n",
      "Starting test-domain-1 server on 0.0.0.0:60770\n",
      "Waiting for server to start."
     ]
    },
    {
     "name": "stderr",
     "output_type": "stream",
     "text": [
      "INFO:     Started server process [95342]\n",
      "INFO:     Waiting for application startup.\n",
      "INFO:     Application startup complete.\n",
      "INFO:     Uvicorn running on http://0.0.0.0:60770 (Press CTRL+C to quit)\n"
     ]
    },
    {
     "name": "stdout",
     "output_type": "stream",
     "text": [
      ".\n",
      "WARNING: private key is based on node name: test-domain-1 in dev_mode. Don't run this in production.\n",
      "Creating default worker image with tag='local-dev'\n",
      "Building default worker image with tag=local-dev\n",
      "Setting up worker poolname=default-pool workers=1 image_uid=4c2741088ec44e54bcd80cd646bfa5c8 in_memory=True\n",
      "Created default worker pool.\n",
      "Data Migrated to latest version !!!\n",
      "INFO:     127.0.0.1:53711 - \"GET /api/v2/metadata HTTP/1.1\" 200 OK\n",
      " Done.\n",
      "INFO:     127.0.0.1:53713 - \"GET /api/v2/metadata HTTP/1.1\" 200 OK\n",
      "INFO:     127.0.0.1:53713 - \"GET /api/v2/metadata HTTP/1.1\" 200 OK\n",
      "Logged into <test-domain-1: High-side Domain> as GUEST\n",
      "INFO:     127.0.0.1:53713 - \"POST /api/v2/login HTTP/1.1\" 200 OK\n",
      "INFO:     127.0.0.1:53713 - \"GET /api/v2/api?verify_key=aec6ea4dfc049ceacaeeebc493167a88a200ddc367b1fa32da652444b635d21f&communication_protocol=dev HTTP/1.1\" 200 OK\n",
      "INFO:     127.0.0.1:53715 - \"POST /api/v2/api_call HTTP/1.1\" 200 OK\n",
      "Logged into <test-domain-1: High side Domain> as <info@openmined.org>\n"
     ]
    },
    {
     "data": {
      "text/html": [
       "<div class=\"alert-warning\" style=\"padding:5px;\"><strong>SyftWarning</strong>: You are using a default password. Please change the password using `[your_client].me.set_password([new_password])`.</div><br />"
      ],
      "text/plain": [
       "SyftWarning: You are using a default password. Please change the password using `[your_client].me.set_password([new_password])`."
      ]
     },
     "metadata": {},
     "output_type": "display_data"
    }
   ],
   "source": [
    "node = sy.orchestra.launch(\n",
    "    name=\"test-domain-1\",\n",
    "    port=\"auto\",\n",
    "    dev_mode=True,\n",
    "    n_consumers=1,\n",
    "    create_producer=True,\n",
    ")\n",
    "domain_client = node.login(email=\"info@openmined.org\", password=\"changethis\")"
   ]
  },
  {
   "cell_type": "code",
   "execution_count": null,
   "id": "e3fabd06-f53d-4c1d-8db5-c94fafcddad4",
   "metadata": {},
   "outputs": [],
   "source": [
    "domain_client.users"
   ]
  },
  {
   "cell_type": "code",
   "execution_count": 5,
   "id": "d2ab4b0b-ecdc-4bb0-88a9-4afe78337e40",
   "metadata": {},
   "outputs": [
    {
     "name": "stdout",
     "output_type": "stream",
     "text": [
      "INFO:     127.0.0.1:54060 - \"POST /api/v2/register HTTP/1.1\" 200 OK\n"
     ]
    },
    {
     "data": {
      "text/html": [
       "<div class=\"alert-success\" style=\"padding:5px;\"><strong>SyftSuccess</strong>: User 'Paul Atreides' successfully registered! To see users, run `[your_client].users`</div><br />"
      ],
      "text/plain": [
       "SyftSuccess: User 'Paul Atreides' successfully registered! To see users, run `[your_client].users`"
      ]
     },
     "execution_count": 5,
     "metadata": {},
     "output_type": "execute_result"
    }
   ],
   "source": [
    "domain_client.register(\n",
    "    name=\"Paul Atreides\",\n",
    "    email=\"paul@arrakis.net\",\n",
    "    password=\"lisan-al-gaib\",\n",
    "    password_verify=\"lisan-al-gaib\",\n",
    "    institution=\"House Atreides\",\n",
    "    website=\"https://arrakis.net/\",\n",
    ")"
   ]
  },
  {
   "cell_type": "code",
   "execution_count": 4,
   "id": "e0ba0b48-7609-4415-a022-d797e7aa2ccf",
   "metadata": {},
   "outputs": [],
   "source": [
    "# domain_client.service.api.vertex.create_code_request(...)\n",
    "# TODO:\n",
    "domain_client.update_rate_limit(model_name, new_limit, \"paul@arrakis.net\")"
   ]
  },
  {
   "cell_type": "markdown",
   "id": "f6a18e8d-a84e-42a3-b4ba-160ec58c6e34",
   "metadata": {},
   "source": [
    "# Test the User Experience"
   ]
  },
  {
   "cell_type": "code",
   "execution_count": 5,
   "id": "9ac68967-b1b6-452e-a116-d5dc7d3e42fd",
   "metadata": {},
   "outputs": [],
   "source": [
    "# TODO\n",
    "user_client = domain_client.login_as(email=\"paul@arrakis.net\")"
   ]
  },
  {
   "cell_type": "code",
   "execution_count": null,
   "id": "022cbaf5-12a2-4bb2-ba7e-127a6b859f74",
   "metadata": {},
   "outputs": [],
   "source": [
    "# prints a table of models like dataset\n",
    "# TODO:\n",
    "user_client.models"
   ]
  },
  {
   "cell_type": "code",
   "execution_count": null,
   "id": "f57d7aaa-2456-4033-b030-a057402faa02",
   "metadata": {},
   "outputs": [],
   "source": [
    "# desirable\n",
    "use_client.models[0].assets[\"pred()\"](prompt=\"How cool is OpenMined?\")"
   ]
  },
  {
   "cell_type": "code",
   "execution_count": 8,
   "id": "8ff391eb-c0ba-424e-bbe8-a94e8c7182d4",
   "metadata": {},
   "outputs": [
    {
     "data": {
      "text/plain": [
       "['Model 1', 'Model 2', 'Model 3']"
      ]
     },
     "execution_count": 8,
     "metadata": {},
     "output_type": "execute_result"
    }
   ],
   "source": [
    "# # undesirable\n",
    "# models(user_clent)"
   ]
  },
  {
   "cell_type": "code",
   "execution_count": null,
   "id": "dc57d90b-4680-4a30-a83c-db7b5b5b87fe",
   "metadata": {},
   "outputs": [],
   "source": [
    "# undesirable\n",
    "# user_client.code.model_1\n",
    "# user_client.code.model_2\n",
    "# user_client.code.model_3"
   ]
  },
  {
   "cell_type": "code",
   "execution_count": 7,
   "id": "acdcd9f8-1265-4725-a61a-9d416d0e2aaa",
   "metadata": {},
   "outputs": [
    {
     "data": {
      "text/plain": [
       "{'rate_limit': 10, 'result': 'OpenMined is so cool, thanks for asking!'}"
      ]
     },
     "execution_count": 7,
     "metadata": {},
     "output_type": "execute_result"
    }
   ],
   "source": [
    "# undesirable\n",
    "prediction(user_client, prompt=\"How cool is OpenMined?\")"
   ]
  },
  {
   "cell_type": "markdown",
   "id": "dd878385-77b1-4e81-8040-ed62af7bb24b",
   "metadata": {},
   "source": [
    "# Speed Test\n",
    "\n",
    "Ideally the prediction API is snappier than it is now (other APIs don't matter)"
   ]
  },
  {
   "cell_type": "code",
   "execution_count": null,
   "id": "ea0a4536-e147-4ed4-8024-1dc757b13f1d",
   "metadata": {},
   "outputs": [],
   "source": []
  }
 ],
 "metadata": {
  "kernelspec": {
   "display_name": "Python 3 (ipykernel)",
   "language": "python",
   "name": "python3"
  },
  "language_info": {
   "codemirror_mode": {
    "name": "ipython",
    "version": 3
   },
   "file_extension": ".py",
   "mimetype": "text/x-python",
   "name": "python",
   "nbconvert_exporter": "python",
   "pygments_lexer": "ipython3",
   "version": "3.12.2"
  }
 },
 "nbformat": 4,
 "nbformat_minor": 5
}

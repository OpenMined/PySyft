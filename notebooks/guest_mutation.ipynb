{
 "cells": [
  {
   "cell_type": "code",
   "execution_count": 1,
   "id": "3ea02571-e8f8-4db5-883b-a5f52e2a8fa2",
   "metadata": {},
   "outputs": [],
   "source": [
    "import syft as sy"
   ]
  },
  {
   "cell_type": "code",
   "execution_count": 2,
   "id": "87006b6e-50e0-4747-9a24-d5732dc1da3e",
   "metadata": {},
   "outputs": [],
   "source": [
    "import torch as th"
   ]
  },
  {
   "cell_type": "code",
   "execution_count": 3,
   "id": "9ef359e0-7ae9-4fba-8a35-f17c1830e355",
   "metadata": {},
   "outputs": [
    {
     "name": "stdout",
     "output_type": "stream",
     "text": [
      "WARNING: CHANGE YOUR USERNAME AND PASSWORD!!! \n",
      "\n",
      "Anyone can login as an admin to your node right now because your password is still the default PySyft username and password!!!\n",
      "\n",
      "Connecting to None... done! \t Logging into canada... done!\n"
     ]
    }
   ],
   "source": [
    "domain = sy.login(port=8081, email=\"info@openmined.org\", password=\"changethis\")"
   ]
  },
  {
   "cell_type": "code",
   "execution_count": 4,
   "id": "5686df14-6203-48b3-a3dd-b82811abd359",
   "metadata": {},
   "outputs": [],
   "source": [
    "# due to our authorization model allowing any user to `EXECUTE` on any data\n",
    "# item, a guest user can mutate any object in the store even if it:\n",
    "# - does not belong to them but is visible\n",
    "# - does not belong to them and is not visible but the UID can be guessed\n",
    "# - combining with data they own will make the object and down stream\n",
    "#   derived objects partially owned by the guest and the original owner\n",
    "#   will no longer be able to .get their own objects any longer"
   ]
  },
  {
   "cell_type": "code",
   "execution_count": 4,
   "id": "1106ecdf-1ad9-4a81-a693-3ecc6fc9f5f0",
   "metadata": {},
   "outputs": [
    {
     "data": {
      "text/html": [
       "<div>\n",
       "<style scoped>\n",
       "    .dataframe tbody tr th:only-of-type {\n",
       "        vertical-align: middle;\n",
       "    }\n",
       "\n",
       "    .dataframe tbody tr th {\n",
       "        vertical-align: top;\n",
       "    }\n",
       "\n",
       "    .dataframe thead th {\n",
       "        text-align: right;\n",
       "    }\n",
       "</style>\n",
       "<table border=\"1\" class=\"dataframe\">\n",
       "  <thead>\n",
       "    <tr style=\"text-align: right;\">\n",
       "      <th></th>\n",
       "    </tr>\n",
       "  </thead>\n",
       "  <tbody>\n",
       "  </tbody>\n",
       "</table>\n",
       "</div>"
      ],
      "text/plain": [
       "[]"
      ]
     },
     "execution_count": 4,
     "metadata": {},
     "output_type": "execute_result"
    }
   ],
   "source": [
    "# admin store\n",
    "domain.store"
   ]
  },
  {
   "cell_type": "code",
   "execution_count": 5,
   "id": "efbb5bd5-4d1c-4e30-b9bc-6cd40f9f8beb",
   "metadata": {},
   "outputs": [
    {
     "data": {
      "text/plain": [
       "<UID: 43206751df754a6f9e6c463b20eb64d0>"
      ]
     },
     "execution_count": 5,
     "metadata": {},
     "output_type": "execute_result"
    }
   ],
   "source": [
    "x = th.tensor([1, 2, 3])\n",
    "x_ptr = x.send(domain, pointable=True, tags=[\"visible\"])\n",
    "x_ptr.id_at_location"
   ]
  },
  {
   "cell_type": "code",
   "execution_count": 6,
   "id": "476655ff-98ea-4df2-9cee-8a2849f42fa9",
   "metadata": {},
   "outputs": [
    {
     "data": {
      "text/plain": [
       "<UID: 2b1f6d3c375542ceb5f70de6da91e96b>"
      ]
     },
     "execution_count": 6,
     "metadata": {},
     "output_type": "execute_result"
    }
   ],
   "source": [
    "y = th.tensor([3, 6, 9])\n",
    "y_ptr = y.send(domain, pointable=False, tags=[\"invisible\"])\n",
    "y_ptr.id_at_location"
   ]
  },
  {
   "cell_type": "code",
   "execution_count": 7,
   "id": "96687b7f-2f14-4c7a-a276-028809e929d6",
   "metadata": {},
   "outputs": [
    {
     "data": {
      "text/html": [
       "<div>\n",
       "<style scoped>\n",
       "    .dataframe tbody tr th:only-of-type {\n",
       "        vertical-align: middle;\n",
       "    }\n",
       "\n",
       "    .dataframe tbody tr th {\n",
       "        vertical-align: top;\n",
       "    }\n",
       "\n",
       "    .dataframe thead th {\n",
       "        text-align: right;\n",
       "    }\n",
       "</style>\n",
       "<table border=\"1\" class=\"dataframe\">\n",
       "  <thead>\n",
       "    <tr style=\"text-align: right;\">\n",
       "      <th></th>\n",
       "      <th>ID</th>\n",
       "      <th>Tags</th>\n",
       "      <th>Description</th>\n",
       "      <th>object_type</th>\n",
       "    </tr>\n",
       "  </thead>\n",
       "  <tbody>\n",
       "    <tr>\n",
       "      <th>0</th>\n",
       "      <td>&lt;UID: 43206751df754a6f9e6c463b20eb64d0&gt;</td>\n",
       "      <td>[visible]</td>\n",
       "      <td></td>\n",
       "      <td>&lt;class 'torch.Tensor'&gt;</td>\n",
       "    </tr>\n",
       "  </tbody>\n",
       "</table>\n",
       "</div>"
      ],
      "text/plain": [
       "[<TensorPointer -> canada:43206751df754a6f9e6c463b20eb64d0>]"
      ]
     },
     "execution_count": 7,
     "metadata": {},
     "output_type": "execute_result"
    }
   ],
   "source": [
    "domain.store"
   ]
  },
  {
   "cell_type": "code",
   "execution_count": 8,
   "id": "fe786978-15bd-428d-aad8-ad9a4cb9c98d",
   "metadata": {},
   "outputs": [
    {
     "name": "stdout",
     "output_type": "stream",
     "text": [
      "Connecting to None... done! \t Logging into canada... as GUEST...done!\n"
     ]
    }
   ],
   "source": [
    "guest = sy.login(port=8081)"
   ]
  },
  {
   "cell_type": "code",
   "execution_count": 9,
   "id": "80b10526-f5dd-47ac-844f-81ca4d80e172",
   "metadata": {},
   "outputs": [
    {
     "data": {
      "text/html": [
       "<div>\n",
       "<style scoped>\n",
       "    .dataframe tbody tr th:only-of-type {\n",
       "        vertical-align: middle;\n",
       "    }\n",
       "\n",
       "    .dataframe tbody tr th {\n",
       "        vertical-align: top;\n",
       "    }\n",
       "\n",
       "    .dataframe thead th {\n",
       "        text-align: right;\n",
       "    }\n",
       "</style>\n",
       "<table border=\"1\" class=\"dataframe\">\n",
       "  <thead>\n",
       "    <tr style=\"text-align: right;\">\n",
       "      <th></th>\n",
       "      <th>ID</th>\n",
       "      <th>Tags</th>\n",
       "      <th>Description</th>\n",
       "      <th>object_type</th>\n",
       "    </tr>\n",
       "  </thead>\n",
       "  <tbody>\n",
       "    <tr>\n",
       "      <th>0</th>\n",
       "      <td>&lt;UID: 43206751df754a6f9e6c463b20eb64d0&gt;</td>\n",
       "      <td>[visible]</td>\n",
       "      <td></td>\n",
       "      <td>&lt;class 'torch.Tensor'&gt;</td>\n",
       "    </tr>\n",
       "  </tbody>\n",
       "</table>\n",
       "</div>"
      ],
      "text/plain": [
       "[<TensorPointer -> canada:43206751df754a6f9e6c463b20eb64d0>]"
      ]
     },
     "execution_count": 9,
     "metadata": {},
     "output_type": "execute_result"
    }
   ],
   "source": [
    "guest.store"
   ]
  },
  {
   "cell_type": "code",
   "execution_count": 10,
   "id": "23f27d8a-dde4-4c36-a4b1-ceb2ad61f17a",
   "metadata": {},
   "outputs": [],
   "source": [
    "# this is considered allowed\n",
    "guest_x = guest.store[x_ptr.id_at_location]"
   ]
  },
  {
   "cell_type": "code",
   "execution_count": 11,
   "id": "cefef887-bcc5-43f7-aa47-8525f2086079",
   "metadata": {},
   "outputs": [
    {
     "name": "stderr",
     "output_type": "stream",
     "text": [
      "[2022-02-21T06:38:56.183793-0500][CRITICAL][logger]][276922] You do not have permission to .get() Object with ID: <UID: 43206751df754a6f9e6c463b20eb64d0> on node canada Please submit a request.\n"
     ]
    },
    {
     "name": "stdout",
     "output_type": "stream",
     "text": [
      "this should fail as expected\n"
     ]
    }
   ],
   "source": [
    "try:\n",
    "    guest_x.get(delete_obj=False)\n",
    "except Exception:\n",
    "    print(\"this should fail as expected\")"
   ]
  },
  {
   "cell_type": "code",
   "execution_count": 12,
   "id": "3e9ca444-b7c2-44fb-8ae9-bb8e9769c5f1",
   "metadata": {},
   "outputs": [
    {
     "data": {
      "text/plain": [
       "<TensorPointer -> canada:a21ea12beb894207a25ba2100ca44f28>"
      ]
     },
     "execution_count": 12,
     "metadata": {},
     "output_type": "execute_result"
    }
   ],
   "source": [
    "# this is technically allowed but has bad consequences due to mutation\n",
    "guest_x.add_(guest_x)"
   ]
  },
  {
   "cell_type": "code",
   "execution_count": 13,
   "id": "b0e04d21-376d-4ba4-9810-1671d90b8b41",
   "metadata": {},
   "outputs": [
    {
     "name": "stdout",
     "output_type": "stream",
     "text": [
      "this should fail\n"
     ]
    }
   ],
   "source": [
    "# this UID is not visible and cant be accessed directly\n",
    "try:\n",
    "    guest_x = guest.store[y_ptr.id_at_location]\n",
    "except Exception:\n",
    "    print(\"this should fail\")"
   ]
  },
  {
   "cell_type": "code",
   "execution_count": 14,
   "id": "009a133a-e0db-4b06-ba58-44da123fbf41",
   "metadata": {},
   "outputs": [
    {
     "name": "stdout",
     "output_type": "stream",
     "text": [
      "if the guest can guess this UID though:\n"
     ]
    },
    {
     "data": {
      "text/plain": [
       "'2b1f6d3c375542ceb5f70de6da91e96b'"
      ]
     },
     "execution_count": 14,
     "metadata": {},
     "output_type": "execute_result"
    }
   ],
   "source": [
    "print(\"if the guest can guess this UID though:\")\n",
    "str(y_ptr.id_at_location.no_dash)"
   ]
  },
  {
   "cell_type": "code",
   "execution_count": 15,
   "id": "6cd0fd88-a3ff-4d5b-a636-c8e23c902b5b",
   "metadata": {},
   "outputs": [],
   "source": [
    "from copy import copy"
   ]
  },
  {
   "cell_type": "code",
   "execution_count": 16,
   "id": "729f71b3-e513-4335-abb9-975eb44f6f43",
   "metadata": {},
   "outputs": [],
   "source": [
    "guest_y = copy(guest_x)"
   ]
  },
  {
   "cell_type": "code",
   "execution_count": 17,
   "id": "e3c2c62b-c0dc-4fcb-9318-072eeba62090",
   "metadata": {},
   "outputs": [],
   "source": [
    "# they can simply construct a pointer client side and send the op\n",
    "guest_y.id_at_location = sy.common.UID.from_string(\n",
    "    y_ptr.id_at_location.no_dash\n",
    ")"
   ]
  },
  {
   "cell_type": "code",
   "execution_count": 18,
   "id": "448c9df2-027d-494f-9cff-9d8b87f086dc",
   "metadata": {},
   "outputs": [
    {
     "data": {
      "text/plain": [
       "<UID: 2b1f6d3c375542ceb5f70de6da91e96b>"
      ]
     },
     "execution_count": 18,
     "metadata": {},
     "output_type": "execute_result"
    }
   ],
   "source": [
    "guest_y.id_at_location"
   ]
  },
  {
   "cell_type": "code",
   "execution_count": 19,
   "id": "9b3915b1-9b2e-4b8c-9c2c-476a561a51cc",
   "metadata": {},
   "outputs": [
    {
     "data": {
      "text/plain": [
       "<TensorPointer -> canada:95351c5dd4c8422b95f930104c698f08>"
      ]
     },
     "execution_count": 19,
     "metadata": {},
     "output_type": "execute_result"
    }
   ],
   "source": [
    "guest_y.add_(guest_y)"
   ]
  },
  {
   "cell_type": "code",
   "execution_count": 21,
   "id": "f158e782-075d-423d-b518-45debae7b8e1",
   "metadata": {},
   "outputs": [],
   "source": [
    "# lets see the results"
   ]
  },
  {
   "cell_type": "code",
   "execution_count": 20,
   "id": "d6f83d22-6cf3-4921-9f13-dcfef99fb02a",
   "metadata": {},
   "outputs": [
    {
     "data": {
      "text/plain": [
       "tensor([1, 2, 3])"
      ]
     },
     "execution_count": 20,
     "metadata": {},
     "output_type": "execute_result"
    }
   ],
   "source": [
    "# this should be 1, 2, 3 but it has been mutated with an add_ by guest\n",
    "x_ptr.get(delete_obj=False)"
   ]
  },
  {
   "cell_type": "code",
   "execution_count": 21,
   "id": "cbe7b80a-a63a-4f83-b9e0-4f0bdaf63709",
   "metadata": {},
   "outputs": [
    {
     "data": {
      "text/plain": [
       "tensor([3, 6, 9])"
      ]
     },
     "execution_count": 21,
     "metadata": {},
     "output_type": "execute_result"
    }
   ],
   "source": [
    "# this should be 3, 6, 9 but it has been mutated with an add_ by guest\n",
    "y_ptr.get(delete_obj=False)"
   ]
  },
  {
   "cell_type": "code",
   "execution_count": 22,
   "id": "433098d7-eafd-46d8-b5c7-9efe5fac75ac",
   "metadata": {},
   "outputs": [],
   "source": [
    "# if an object cannot be gotten we can deserialize it from the db\n",
    "# here to inspect it manually"
   ]
  },
  {
   "cell_type": "code",
   "execution_count": 23,
   "id": "8dea34df-4c53-4682-8886-0df03c0ea40b",
   "metadata": {},
   "outputs": [
    {
     "name": "stdout",
     "output_type": "stream",
     "text": [
      "0A21737966742E77726170706572732E746F7263682E54656E736F7257726170706572121B0A1222090A0103A20103060C123205696E74363422050A03637075\n"
     ]
    }
   ],
   "source": [
    "hex_str = \"\"\"\n",
    "0A21737966742E77726170706572732E746F7263682E54656E736F7257726170706572121B0A1222090A0103A20103060C123205696E74363422050A03637075\n",
    "\"\"\".strip()\n",
    "print(hex_str)"
   ]
  },
  {
   "cell_type": "code",
   "execution_count": 24,
   "id": "2ecabe22-4901-41e9-be96-8f7885ddcc99",
   "metadata": {},
   "outputs": [
    {
     "data": {
      "text/plain": [
       "tensor([ 6, 12, 18])"
      ]
     },
     "execution_count": 24,
     "metadata": {},
     "output_type": "execute_result"
    }
   ],
   "source": [
    "import binascii\n",
    "binary_string = binascii.unhexlify(hex_str)\n",
    "obj = sy.deserialize(binary_string, from_bytes=True)\n",
    "obj"
   ]
  },
  {
   "cell_type": "code",
   "execution_count": null,
   "id": "e7582140-975c-4398-9d5c-83ce9bd435e4",
   "metadata": {},
   "outputs": [],
   "source": []
  }
 ],
 "metadata": {
  "kernelspec": {
   "display_name": "Python 3 (ipykernel)",
   "language": "python",
   "name": "python3"
  },
  "language_info": {
   "codemirror_mode": {
    "name": "ipython",
    "version": 3
   },
   "file_extension": ".py",
   "mimetype": "text/x-python",
   "name": "python",
   "nbconvert_exporter": "python",
   "pygments_lexer": "ipython3",
   "version": "3.8.10"
  }
 },
 "nbformat": 4,
 "nbformat_minor": 5
}

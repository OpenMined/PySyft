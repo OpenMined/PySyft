{
 "cells": [
  {
   "cell_type": "markdown",
   "id": "0",
   "metadata": {},
   "source": [
    "## Custom API +  Custom Worker"
   ]
  },
  {
   "cell_type": "markdown",
   "id": "1",
   "metadata": {},
   "source": [
    "#### Import dependencies"
   ]
  },
  {
   "cell_type": "code",
   "execution_count": null,
   "id": "2",
   "metadata": {},
   "outputs": [],
   "source": [
    "# stdlib\n",
    "import os\n",
    "\n",
    "# third party\n",
    "import requests\n",
    "\n",
    "# syft absolute\n",
    "import syft as sy\n",
    "from syft.service.settings.settings import NodeSettingsUpdate\n",
    "from syft.service.worker.worker_image import SyftWorkerImage\n",
    "\n",
    "from getpass import getpass  # noqa"
   ]
  },
  {
   "cell_type": "code",
   "execution_count": null,
   "id": "3",
   "metadata": {},
   "outputs": [],
   "source": [
    "## k8s mode\n",
    "os.environ[\"ORCHESTRA_DEPLOYMENT_TYPE\"] = \"k8s\"\n",
    "os.environ[\"DEV_MODE\"] = \"True\"\n",
    "domain_client = sy.login(email=\"info@openmined.org\", password=\"changethis\", port=8080)"
   ]
  },
  {
   "cell_type": "code",
   "execution_count": null,
   "id": "a5f5c157-f3cb-4e24-b05e-7555cea1e031",
   "metadata": {},
   "outputs": [],
   "source": [
    "# # python mode\n",
    "# # !uv pip install google-cloud-bigquery db_dtypes\n",
    "# node = sy.orchestra.launch(name=\"test-domain-1\", port=\"auto\", dev_mode=True, reset=True)\n",
    "# domain_client = node.login(email=\"info@openmined.org\", password=\"changethis\")"
   ]
  },
  {
   "cell_type": "code",
   "execution_count": null,
   "id": "5",
   "metadata": {},
   "outputs": [],
   "source": [
    "domain_client.worker_pools"
   ]
  },
  {
   "cell_type": "markdown",
   "id": "6",
   "metadata": {},
   "source": [
    "## Register a custom Image"
   ]
  },
  {
   "cell_type": "code",
   "execution_count": null,
   "id": "7",
   "metadata": {},
   "outputs": [],
   "source": [
    "registry = os.getenv(\"SYFT_BASE_IMAGE_REGISTRY\", \"k3d-registry.localhost:5800\")\n",
    "repo = \"openmined/grid-backend\"\n",
    "\n",
    "if \"k3d\" in registry:\n",
    "    res = requests.get(url=f\"http://{registry}/v2/{repo}/tags/list\")\n",
    "    tags = sorted(res.json()[\"tags\"])\n",
    "    tag = tags[-1]\n",
    "else:\n",
    "    tag = sy.__version__"
   ]
  },
  {
   "cell_type": "code",
   "execution_count": null,
   "id": "44688211-7ff6-4e4c-accb-006a51664a61",
   "metadata": {},
   "outputs": [],
   "source": [
    "tag"
   ]
  },
  {
   "cell_type": "code",
   "execution_count": null,
   "id": "8",
   "metadata": {},
   "outputs": [],
   "source": [
    "custom_dockerfile_str = f\"\"\"\n",
    "FROM {registry}/{repo}:{tag}\n",
    "\n",
    "RUN pip install google-cloud-bigquery[all]==3.20.1 db-dtypes==1.2.0\n",
    "\n",
    "\"\"\".strip()"
   ]
  },
  {
   "cell_type": "code",
   "execution_count": null,
   "id": "9",
   "metadata": {},
   "outputs": [],
   "source": [
    "print(custom_dockerfile_str)"
   ]
  },
  {
   "cell_type": "code",
   "execution_count": null,
   "id": "10",
   "metadata": {},
   "outputs": [],
   "source": [
    "docker_config = sy.DockerWorkerConfig(dockerfile=custom_dockerfile_str)"
   ]
  },
  {
   "cell_type": "code",
   "execution_count": null,
   "id": "11",
   "metadata": {},
   "outputs": [],
   "source": [
    "submit_result = domain_client.api.services.worker_image.submit_dockerfile(\n",
    "    docker_config=docker_config\n",
    ")\n",
    "submit_result"
   ]
  },
  {
   "cell_type": "code",
   "execution_count": null,
   "id": "12",
   "metadata": {},
   "outputs": [],
   "source": [
    "dockerfile_list = domain_client.images.get_all()\n",
    "dockerfile_list"
   ]
  },
  {
   "cell_type": "code",
   "execution_count": null,
   "id": "13",
   "metadata": {},
   "outputs": [],
   "source": [
    "workerimage = next(\n",
    "    (\n",
    "        image\n",
    "        for image in dockerfile_list\n",
    "        if not image.is_prebuilt and image.config.dockerfile == custom_dockerfile_str\n",
    "    ),\n",
    "    None,\n",
    ")\n",
    "\n",
    "assert isinstance(workerimage, SyftWorkerImage), str(workerimage)\n",
    "workerimage"
   ]
  },
  {
   "cell_type": "code",
   "execution_count": null,
   "id": "14",
   "metadata": {},
   "outputs": [],
   "source": [
    "external_registry = os.getenv(\"EXTERNAL_REGISTRY\", \"k3d-registry.localhost:5800\")\n",
    "external_registry_username = os.getenv(\"EXTERNAL_REGISTRY_USERNAME\", None)\n",
    "external_registry_password = os.getenv(\"EXTERNAL_REGISTRY_PASSWORD\", None)"
   ]
  },
  {
   "cell_type": "code",
   "execution_count": null,
   "id": "15",
   "metadata": {},
   "outputs": [],
   "source": [
    "docker_tag = \"openmined/bigquery:0.0.1\""
   ]
  },
  {
   "cell_type": "code",
   "execution_count": null,
   "id": "16",
   "metadata": {},
   "outputs": [],
   "source": [
    "registry_add_result = domain_client.api.services.image_registry.add(\n",
    "    \"k3d-registry.localhost:5800\"\n",
    ")\n",
    "registry_add_result\n",
    "\n",
    "image_registry_list = domain_client.api.services.image_registry.get_all()\n",
    "image_registry_list\n",
    "\n",
    "local_registry = image_registry_list[0]\n",
    "local_registry\n",
    "\n",
    "local_registry = domain_client.api.services.image_registry.get_all()[0]\n",
    "registry_uid = local_registry.id\n",
    "\n",
    "# build with registry_uid\n",
    "docker_build_result = domain_client.api.services.worker_image.build(\n",
    "    image_uid=workerimage.id,\n",
    "    tag=docker_tag,\n",
    "    registry_uid=registry_uid,\n",
    ")\n",
    "docker_build_result"
   ]
  },
  {
   "cell_type": "code",
   "execution_count": null,
   "id": "f8f0572a-799b-4640-9e30-909f9d491f50",
   "metadata": {},
   "outputs": [],
   "source": [
    "image_list = domain_client.images.get_all()\n",
    "image_list"
   ]
  },
  {
   "cell_type": "code",
   "execution_count": null,
   "id": "17",
   "metadata": {},
   "outputs": [],
   "source": [
    "image_list = domain_client.images.get_all()\n",
    "# we can also index with string using the repo_with_tag format\n",
    "workerimage = next((image for image in image_list if image.id == workerimage.id), None)\n",
    "assert workerimage is not None, str([image.__dict__ for image in image_list])\n",
    "assert workerimage.is_built is not None, str(workerimage)\n",
    "assert workerimage.built_at is not None, str(workerimage)\n",
    "assert workerimage.image_hash is not None, str(workerimage)\n",
    "assert image_list[workerimage.built_image_tag] == workerimage"
   ]
  },
  {
   "cell_type": "code",
   "execution_count": null,
   "id": "18",
   "metadata": {},
   "outputs": [],
   "source": [
    "domain_client.api.services.worker_image.push(workerimage.id)"
   ]
  },
  {
   "cell_type": "code",
   "execution_count": null,
   "id": "19",
   "metadata": {},
   "outputs": [],
   "source": [
    "worker_pool_name = \"bigquery-pool\"\n",
    "domain_client.api.services.worker_pool.launch(\n",
    "    name=worker_pool_name, image_uid=workerimage.id, num_workers=1\n",
    ")"
   ]
  },
  {
   "cell_type": "code",
   "execution_count": null,
   "id": "5b5fdaf3-8c02-4a92-a9d7-81b550ae44dd",
   "metadata": {},
   "outputs": [],
   "source": [
    "domain_client.worker_pools[1]"
   ]
  },
  {
   "cell_type": "code",
   "execution_count": null,
   "id": "20",
   "metadata": {},
   "outputs": [],
   "source": [
    "new_default_worker_pool = NodeSettingsUpdate(default_worker_pool=worker_pool_name)\n",
    "domain_client.settings.update(settings=new_default_worker_pool)"
   ]
  },
  {
   "cell_type": "code",
   "execution_count": null,
   "id": "98ed71ef-a08d-4597-bf83-53ea6258e53d",
   "metadata": {},
   "outputs": [],
   "source": [
    "SERVICE_ACCOUNT = {}"
   ]
  },
  {
   "cell_type": "code",
   "execution_count": null,
   "id": "07332d7a-914e-4a24-9f2a-48f30a6510ae",
   "metadata": {},
   "outputs": [],
   "source": [
    "# debug manually\n",
    "# from google.oauth2 import service_account\n",
    "# from google.cloud import bigquery\n",
    "# credentials = service_account.Credentials.from_service_account_info(SERVICE_ACCOUNT)\n",
    "# scoped_credentials = credentials.with_scopes(['https://www.googleapis.com/auth/bigquery'])\n",
    "# scoped_credentials = credentials.with_scopes(['https://www.googleapis.com/auth/cloud-platform'])\n",
    "\n",
    "# client = bigquery.Client(\n",
    "#     credentials=scoped_credentials,\n",
    "#     location=\"us-west1\",\n",
    "# )\n",
    "# sql=\"SELECT * FROM reddit-testing-415005.test_1gb.accounts limit 10\"\n",
    "# rows = client.query_and_wait(\n",
    "#     sql\n",
    "# )\n",
    "# g = sy.ActionObject.from_obj(rows)"
   ]
  },
  {
   "cell_type": "code",
   "execution_count": null,
   "id": "9716bd57-7001-4ffe-b6d8-eca37dfe763e",
   "metadata": {},
   "outputs": [],
   "source": [
    "@sy.mock_api_endpoint(\n",
    "    settings={\"credentials\": SERVICE_ACCOUNT, \"project_id\": \"reddit-testing-415005\"}\n",
    ")\n",
    "def public_function(context, sql: str) -> str:\n",
    "    # third party\n",
    "    from google.cloud import bigquery\n",
    "    from google.oauth2 import service_account\n",
    "\n",
    "    credentials = service_account.Credentials.from_service_account_info(\n",
    "        context.settings[\"credentials\"]\n",
    "    )\n",
    "    scoped_credentials = credentials.with_scopes(\n",
    "        [\"https://www.googleapis.com/auth/bigquery\"]\n",
    "    )\n",
    "    scoped_credentials = credentials.with_scopes(\n",
    "        [\"https://www.googleapis.com/auth/cloud-platform\"]\n",
    "    )\n",
    "\n",
    "    client = bigquery.Client(\n",
    "        credentials=scoped_credentials,\n",
    "        location=\"us-west1\",\n",
    "    )\n",
    "\n",
    "    rows = client.query_and_wait(\n",
    "        sql,\n",
    "        project=context.settings[\"project_id\"],\n",
    "    )\n",
    "\n",
    "    return rows\n",
    "\n",
    "\n",
    "@sy.private_api_endpoint(\n",
    "    settings={\"credentials\": SERVICE_ACCOUNT, \"project_id\": \"reddit-testing-415005\"}\n",
    ")\n",
    "def private_function(context, sql: str) -> str:\n",
    "    # third party\n",
    "    from google.cloud import bigquery\n",
    "    from google.oauth2 import service_account\n",
    "\n",
    "    credentials = service_account.Credentials.from_service_account_info(\n",
    "        context.settings[\"credentials\"]\n",
    "    )\n",
    "    scoped_credentials = credentials.with_scopes(\n",
    "        [\"https://www.googleapis.com/auth/bigquery\"]\n",
    "    )\n",
    "    scoped_credentials = credentials.with_scopes(\n",
    "        [\"https://www.googleapis.com/auth/cloud-platform\"]\n",
    "    )\n",
    "\n",
    "    client = bigquery.Client(\n",
    "        credentials=scoped_credentials,\n",
    "        location=\"us-west1\",\n",
    "    )\n",
    "\n",
    "    rows = client.query_and_wait(\n",
    "        sql,\n",
    "        project=context.settings[\"project_id\"],\n",
    "    )\n",
    "\n",
    "    return rows"
   ]
  },
  {
   "cell_type": "code",
   "execution_count": null,
   "id": "2425cf16-9fad-43f9-8438-03b237a8c809",
   "metadata": {},
   "outputs": [],
   "source": [
    "new_endpoint = sy.TwinAPIEndpoint(\n",
    "    path=\"bigquery.query\",\n",
    "    mock_function=public_function,\n",
    "    private_function=private_function,\n",
    "    description=\"Lore ipsulum ...\",\n",
    ")\n",
    "\n",
    "# # Add it to the node."
   ]
  },
  {
   "cell_type": "code",
   "execution_count": null,
   "id": "c7eeb11c-d907-492b-ac22-56cd7171ef58",
   "metadata": {},
   "outputs": [],
   "source": [
    "response = domain_client.api.services.api.delete(endpoint_path=\"bigquery.query\")\n",
    "response"
   ]
  },
  {
   "cell_type": "code",
   "execution_count": null,
   "id": "4ed9fd8b-041e-4ac5-b623-afab7a2355c5",
   "metadata": {},
   "outputs": [],
   "source": [
    "response = domain_client.api.services.api.add(endpoint=new_endpoint)\n",
    "response"
   ]
  },
  {
   "cell_type": "code",
   "execution_count": null,
   "id": "22",
   "metadata": {},
   "outputs": [],
   "source": [
    "domain_client.refresh()"
   ]
  },
  {
   "cell_type": "code",
   "execution_count": null,
   "id": "63178382-43b8-4e5a-9348-0f4af59c8c2e",
   "metadata": {},
   "outputs": [],
   "source": [
    "@sy.syft_function_single_use(\n",
    "    endpoint=domain_client.api.services.bigquery.query,\n",
    "    worker_pool_name=worker_pool_name,\n",
    ")\n",
    "def job_function(endpoint):\n",
    "    result = endpoint(\n",
    "        sql=\"SELECT * FROM reddit-testing-415005.test_1gb.accounts limit 10\"\n",
    "    )\n",
    "\n",
    "    # make it so I don't need to return to_dataframe()\n",
    "    return result.to_dataframe()"
   ]
  },
  {
   "cell_type": "code",
   "execution_count": null,
   "id": "0acae6f1-cac7-449c-a0a7-b05681050dad",
   "metadata": {},
   "outputs": [],
   "source": [
    "new_project = sy.Project(\n",
    "    name=\"My Cool UN Project\",\n",
    "    description=\"Hi, I want to calculate the trade volume in million's with my cool code.\",\n",
    "    members=[domain_client],\n",
    ")"
   ]
  },
  {
   "cell_type": "code",
   "execution_count": null,
   "id": "b9476dfe-efe0-414f-aa41-a6db3071d7dd",
   "metadata": {},
   "outputs": [],
   "source": [
    "result = new_project.create_code_request(job_function, domain_client)\n",
    "domain_client.requests[-1].approve()"
   ]
  },
  {
   "cell_type": "code",
   "execution_count": null,
   "id": "24",
   "metadata": {},
   "outputs": [],
   "source": [
    "domain_client.settings.get().default_worker_pool"
   ]
  },
  {
   "cell_type": "code",
   "execution_count": null,
   "id": "25",
   "metadata": {},
   "outputs": [],
   "source": [
    "job = domain_client.code.job_function(\n",
    "    endpoint=domain_client.api.services.bigquery.query, blocking=False\n",
    ")"
   ]
  },
  {
   "cell_type": "code",
   "execution_count": null,
   "id": "b603b9b0-10ae-44bd-b3c5-242b5b63403d",
   "metadata": {},
   "outputs": [],
   "source": []
  },
  {
   "cell_type": "code",
   "execution_count": null,
   "id": "8045af90-e6ae-4734-955e-25a0959d4ae5",
   "metadata": {},
   "outputs": [],
   "source": [
    "job"
   ]
  },
  {
   "cell_type": "code",
   "execution_count": null,
   "id": "894ad637-1ca2-428c-a6f9-a90e47fd1aee",
   "metadata": {},
   "outputs": [],
   "source": [
    "job.logs()"
   ]
  },
  {
   "cell_type": "code",
   "execution_count": null,
   "id": "b7c40532-0a48-4b48-aae3-d1b906bfb1c5",
   "metadata": {},
   "outputs": [],
   "source": []
  },
  {
   "cell_type": "code",
   "execution_count": null,
   "id": "810bddd9-62e6-457b-a56e-798ac4b488fb",
   "metadata": {},
   "outputs": [],
   "source": []
  },
  {
   "cell_type": "code",
   "execution_count": null,
   "id": "7e6dcc75-3546-4ac1-9451-ccf63e69206d",
   "metadata": {},
   "outputs": [],
   "source": []
  },
  {
   "cell_type": "code",
   "execution_count": null,
   "id": "5756c9a7-842d-4577-a642-f1bf376b14c8",
   "metadata": {},
   "outputs": [],
   "source": []
  },
  {
   "cell_type": "code",
   "execution_count": null,
   "id": "d348be5a-9940-4c32-9983-76b4877514e3",
   "metadata": {},
   "outputs": [],
   "source": [
    "domain_client.jobs"
   ]
  },
  {
   "cell_type": "code",
   "execution_count": null,
   "id": "b7d4181b-792f-42c3-8f90-f4dbcbd55770",
   "metadata": {},
   "outputs": [],
   "source": []
  },
  {
   "cell_type": "code",
   "execution_count": null,
   "id": "c6c4874e-8e2a-4c75-836a-accfa799ebd1",
   "metadata": {},
   "outputs": [],
   "source": []
  }
 ],
 "metadata": {
  "kernelspec": {
   "display_name": "Python 3 (ipykernel)",
   "language": "python",
   "name": "python3"
  },
  "language_info": {
   "codemirror_mode": {
    "name": "ipython",
    "version": 3
   },
   "file_extension": ".py",
   "mimetype": "text/x-python",
   "name": "python",
   "nbconvert_exporter": "python",
   "pygments_lexer": "ipython3",
   "version": "3.12.2"
  }
 },
 "nbformat": 4,
 "nbformat_minor": 5
}

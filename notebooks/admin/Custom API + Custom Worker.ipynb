{
 "cells": [
  {
   "cell_type": "markdown",
   "id": "0",
   "metadata": {},
   "source": [
    "## Custom API +  Custom Worker"
   ]
  },
  {
   "cell_type": "markdown",
   "id": "1",
   "metadata": {},
   "source": [
    "#### Import dependencies"
   ]
  },
  {
   "cell_type": "code",
   "execution_count": null,
   "id": "2",
   "metadata": {},
   "outputs": [],
   "source": [
    "# syft absolute\n",
    "import syft as sy\n",
    "from syft.service.settings.settings import NodeSettingsUpdate\n",
    "from syft.service.worker.worker_image import SyftWorkerImage"
   ]
  },
  {
   "cell_type": "code",
   "execution_count": null,
   "id": "3",
   "metadata": {},
   "outputs": [],
   "source": [
    "## remote mode\n",
    "# os.environ[\"ORCHESTRA_DEPLOYMENT_TYPE\"] = \"remote\"\n",
    "# os.environ[\"DEV_MODE\"] = \"True\"\n",
    "domain_client = sy.login(\n",
    "    email=\"info@openmined.org\",\n",
    "    url=\"http://127.0.0.1\",\n",
    "    password=\"\",\n",
    ")"
   ]
  },
  {
   "cell_type": "code",
   "execution_count": null,
   "id": "4",
   "metadata": {},
   "outputs": [],
   "source": [
    "# # python mode\n",
    "# # !uv pip install google-cloud-bigquery db_dtypes\n",
    "# node = sy.orchestra.launch(name=\"test-domain-1\", port=\"auto\", dev_mode=True, reset=True)\n",
    "# domain_client = node.login(email=\"info@openmined.org\", password=\"changethis\")"
   ]
  },
  {
   "cell_type": "code",
   "execution_count": null,
   "id": "5",
   "metadata": {},
   "outputs": [],
   "source": [
    "domain_client.worker_pools"
   ]
  },
  {
   "cell_type": "markdown",
   "id": "6",
   "metadata": {},
   "source": [
    "## Register a custom Image"
   ]
  },
  {
   "cell_type": "code",
   "execution_count": null,
   "id": "7",
   "metadata": {},
   "outputs": [],
   "source": [
    "registry = \"us-central1-docker.pkg.dev/reddit-testing-415005/syft-registry-us\"\n",
    "backend_version = None\n",
    "assert backend_version is not None\n",
    "\n",
    "custom_dockerfile_str = f\"\"\"\n",
    "FROM {registry}/openmined/grid-backend:{backend_version}\n",
    "\n",
    "RUN pip install google-cloud-bigquery[all]==3.20.1 db-dtypes==1.2.0\n",
    "\n",
    "\"\"\".strip()\n",
    "print(custom_dockerfile_str)"
   ]
  },
  {
   "cell_type": "code",
   "execution_count": null,
   "id": "8",
   "metadata": {},
   "outputs": [],
   "source": [
    "docker_config = sy.DockerWorkerConfig(dockerfile=custom_dockerfile_str)"
   ]
  },
  {
   "cell_type": "code",
   "execution_count": null,
   "id": "9",
   "metadata": {},
   "outputs": [],
   "source": [
    "submit_result = domain_client.api.services.worker_image.submit(\n",
    "    worker_config=docker_config\n",
    ")\n",
    "submit_result"
   ]
  },
  {
   "cell_type": "code",
   "execution_count": null,
   "id": "10",
   "metadata": {},
   "outputs": [],
   "source": [
    "dockerfile_list = domain_client.images.get_all()\n",
    "dockerfile_list"
   ]
  },
  {
   "cell_type": "code",
   "execution_count": null,
   "id": "11",
   "metadata": {},
   "outputs": [],
   "source": [
    "workerimage = next(\n",
    "    (\n",
    "        image\n",
    "        for image in dockerfile_list\n",
    "        if not image.is_prebuilt and image.config.dockerfile == custom_dockerfile_str\n",
    "    ),\n",
    "    None,\n",
    ")\n",
    "\n",
    "assert isinstance(workerimage, SyftWorkerImage), str(workerimage)\n",
    "workerimage"
   ]
  },
  {
   "cell_type": "code",
   "execution_count": null,
   "id": "12",
   "metadata": {},
   "outputs": [],
   "source": [
    "external_registry = registry\n",
    "worker_docker_tag = \"openmined/bigquery:0.0.1\""
   ]
  },
  {
   "cell_type": "code",
   "execution_count": null,
   "id": "13",
   "metadata": {},
   "outputs": [],
   "source": [
    "registry_add_result = domain_client.api.services.image_registry.add(external_registry)\n",
    "registry_add_result"
   ]
  },
  {
   "cell_type": "code",
   "execution_count": null,
   "id": "14",
   "metadata": {},
   "outputs": [],
   "source": [
    "registries = domain_client.api.services.image_registry.get_all()\n",
    "registry_uid = next((r.id for r in registries if r.url == external_registry), None)\n",
    "registry_uid"
   ]
  },
  {
   "cell_type": "code",
   "execution_count": null,
   "id": "15",
   "metadata": {},
   "outputs": [],
   "source": [
    "# build with registry_uid\n",
    "docker_build_result = domain_client.api.services.worker_image.build(\n",
    "    image_uid=workerimage.id,\n",
    "    tag=worker_docker_tag,\n",
    "    registry_uid=registry_uid,\n",
    ")\n",
    "print(docker_build_result)"
   ]
  },
  {
   "cell_type": "code",
   "execution_count": null,
   "id": "16",
   "metadata": {},
   "outputs": [],
   "source": [
    "image_list = domain_client.images.get_all()\n",
    "# we can also index with string using the repo_with_tag format\n",
    "workerimage = next((image for image in image_list if image.id == workerimage.id), None)\n",
    "assert workerimage.is_built is True\n",
    "workerimage"
   ]
  },
  {
   "cell_type": "code",
   "execution_count": null,
   "id": "17",
   "metadata": {},
   "outputs": [],
   "source": [
    "push_result = domain_client.api.services.worker_image.push(workerimage.id)\n",
    "push_result"
   ]
  },
  {
   "cell_type": "code",
   "execution_count": null,
   "id": "18",
   "metadata": {},
   "outputs": [],
   "source": [
    "worker_pool_name = \"bigquery-pool\"\n",
    "domain_client.api.services.worker_pool.launch(\n",
    "    pool_name=worker_pool_name,\n",
    "    image_uid=workerimage.id,\n",
    "    num_workers=1,\n",
    ")"
   ]
  },
  {
   "cell_type": "code",
   "execution_count": null,
   "id": "19",
   "metadata": {},
   "outputs": [],
   "source": [
    "domain_client.worker_pools[1]"
   ]
  },
  {
   "cell_type": "code",
   "execution_count": null,
   "id": "20",
   "metadata": {},
   "outputs": [],
   "source": [
    "new_default_worker_pool = NodeSettingsUpdate(default_worker_pool=worker_pool_name)\n",
    "domain_client.settings.update(settings=new_default_worker_pool)"
   ]
  },
  {
   "cell_type": "code",
   "execution_count": null,
   "id": "21",
   "metadata": {},
   "outputs": [],
   "source": [
    "SERVICE_ACCOUNT = {}"
   ]
  },
  {
   "cell_type": "code",
   "execution_count": null,
   "id": "22",
   "metadata": {},
   "outputs": [],
   "source": [
    "# debug manually\n",
    "# from google.oauth2 import service_account\n",
    "# from google.cloud import bigquery\n",
    "# credentials = service_account.Credentials.from_service_account_info(SERVICE_ACCOUNT)\n",
    "# scoped_credentials = credentials.with_scopes(['https://www.googleapis.com/auth/bigquery'])\n",
    "# scoped_credentials = credentials.with_scopes(['https://www.googleapis.com/auth/cloud-platform'])\n",
    "\n",
    "# client = bigquery.Client(\n",
    "#     credentials=scoped_credentials,\n",
    "#     location=\"us-west1\",\n",
    "# )\n",
    "# sql=\"SELECT * FROM reddit-testing-415005.test_1gb.accounts limit 10\"\n",
    "# rows = client.query_and_wait(\n",
    "#     sql\n",
    "# )\n",
    "# g = sy.ActionObject.from_obj(rows)"
   ]
  },
  {
   "cell_type": "code",
   "execution_count": null,
   "id": "23",
   "metadata": {},
   "outputs": [],
   "source": [
    "@sy.api_endpoint_method(\n",
    "    settings={\"credentials\": SERVICE_ACCOUNT, \"project_id\": \"reddit-testing-415005\"}\n",
    ")\n",
    "def public_function(context, sql: str) -> str:\n",
    "    # third party\n",
    "    from google.cloud import bigquery\n",
    "    from google.oauth2 import service_account\n",
    "\n",
    "    credentials = service_account.Credentials.from_service_account_info(\n",
    "        context.settings[\"credentials\"]\n",
    "    )\n",
    "    scoped_credentials = credentials.with_scopes(\n",
    "        [\"https://www.googleapis.com/auth/bigquery\"]\n",
    "    )\n",
    "    scoped_credentials = credentials.with_scopes(\n",
    "        [\"https://www.googleapis.com/auth/cloud-platform\"]\n",
    "    )\n",
    "\n",
    "    client = bigquery.Client(\n",
    "        credentials=scoped_credentials,\n",
    "        location=\"us-west1\",\n",
    "    )\n",
    "\n",
    "    rows = client.query_and_wait(\n",
    "        sql,\n",
    "        project=context.settings[\"project_id\"],\n",
    "    )\n",
    "\n",
    "    return rows\n",
    "\n",
    "\n",
    "@sy.api_endpoint_method(\n",
    "    settings={\"credentials\": SERVICE_ACCOUNT, \"project_id\": \"reddit-testing-415005\"}\n",
    ")\n",
    "def private_function(context, sql: str) -> str:\n",
    "    # third party\n",
    "    from google.cloud import bigquery\n",
    "    from google.oauth2 import service_account\n",
    "\n",
    "    credentials = service_account.Credentials.from_service_account_info(\n",
    "        context.settings[\"credentials\"]\n",
    "    )\n",
    "    scoped_credentials = credentials.with_scopes(\n",
    "        [\"https://www.googleapis.com/auth/bigquery\"]\n",
    "    )\n",
    "    scoped_credentials = credentials.with_scopes(\n",
    "        [\"https://www.googleapis.com/auth/cloud-platform\"]\n",
    "    )\n",
    "\n",
    "    client = bigquery.Client(\n",
    "        credentials=scoped_credentials,\n",
    "        location=\"us-west1\",\n",
    "    )\n",
    "\n",
    "    rows = client.query_and_wait(\n",
    "        sql,\n",
    "        project=context.settings[\"project_id\"],\n",
    "    )\n",
    "\n",
    "    return rows"
   ]
  },
  {
   "cell_type": "code",
   "execution_count": null,
   "id": "24",
   "metadata": {},
   "outputs": [],
   "source": [
    "new_endpoint = sy.TwinAPIEndpoint(\n",
    "    path=\"bigquery.query\",\n",
    "    mock_function=public_function,\n",
    "    private_function=private_function,\n",
    "    description=\"Lore ipsulum ...\",\n",
    ")"
   ]
  },
  {
   "cell_type": "code",
   "execution_count": null,
   "id": "25",
   "metadata": {},
   "outputs": [],
   "source": [
    "response = domain_client.api.services.api.delete(endpoint_path=\"bigquery.query\")\n",
    "response"
   ]
  },
  {
   "cell_type": "code",
   "execution_count": null,
   "id": "26",
   "metadata": {},
   "outputs": [],
   "source": [
    "response = domain_client.api.services.api.add(endpoint=new_endpoint)\n",
    "response"
   ]
  },
  {
   "cell_type": "code",
   "execution_count": null,
   "id": "27",
   "metadata": {},
   "outputs": [],
   "source": [
    "domain_client.refresh()"
   ]
  },
  {
   "cell_type": "code",
   "execution_count": null,
   "id": "28",
   "metadata": {},
   "outputs": [],
   "source": [
    "@sy.syft_function_single_use(\n",
    "    endpoint=domain_client.api.services.bigquery.query,\n",
    "    worker_pool_name=worker_pool_name,\n",
    ")\n",
    "def job_function(endpoint):\n",
    "    result = endpoint(\n",
    "        sql=\"SELECT * FROM reddit-testing-415005.test_1gb.accounts limit 10\"\n",
    "    )\n",
    "    return result"
   ]
  },
  {
   "cell_type": "code",
   "execution_count": null,
   "id": "29",
   "metadata": {},
   "outputs": [],
   "source": [
    "new_project = sy.Project(\n",
    "    name=\"My Cool UN Project\",\n",
    "    description=\"Hi, I want to calculate the trade volume in million's with my cool code.\",\n",
    "    members=[domain_client],\n",
    ")"
   ]
  },
  {
   "cell_type": "code",
   "execution_count": null,
   "id": "30",
   "metadata": {},
   "outputs": [],
   "source": [
    "result = new_project.create_code_request(job_function, domain_client)\n",
    "domain_client.requests[-1].approve()"
   ]
  },
  {
   "cell_type": "code",
   "execution_count": null,
   "id": "31",
   "metadata": {},
   "outputs": [],
   "source": [
    "domain_client.settings.get().default_worker_pool"
   ]
  },
  {
   "cell_type": "code",
   "execution_count": null,
   "id": "32",
   "metadata": {},
   "outputs": [],
   "source": [
    "job = domain_client.code.job_function(\n",
    "    endpoint=domain_client.api.services.bigquery.query, blocking=False\n",
    ")"
   ]
  },
  {
   "cell_type": "code",
   "execution_count": null,
   "id": "33",
   "metadata": {},
   "outputs": [],
   "source": [
    "job"
   ]
  },
  {
   "cell_type": "code",
   "execution_count": null,
   "id": "34",
   "metadata": {},
   "outputs": [],
   "source": [
    "domain_client.jobs"
   ]
  }
 ],
 "metadata": {
  "kernelspec": {
   "display_name": "Python 3 (ipykernel)",
   "language": "python",
   "name": "python3"
  },
  "language_info": {
   "codemirror_mode": {
    "name": "ipython",
    "version": 3
   },
   "file_extension": ".py",
   "mimetype": "text/x-python",
   "name": "python",
   "nbconvert_exporter": "python",
   "pygments_lexer": "ipython3",
   "version": "3.12.2"
  }
 },
 "nbformat": 4,
 "nbformat_minor": 5
}

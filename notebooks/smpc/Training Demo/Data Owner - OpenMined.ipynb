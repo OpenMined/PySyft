{
 "cells": [
  {
   "cell_type": "markdown",
   "metadata": {},
   "source": [
    "## Party 1 - OpenMined's team in the UK"
   ]
  },
  {
   "cell_type": "code",
   "execution_count": 21,
   "id": "b69c5b98",
   "metadata": {},
   "outputs": [],
   "source": [
    "import syft as sy\n",
    "import numpy as np\n",
    "sy.logger.remove()"
   ]
  },
  {
   "cell_type": "markdown",
   "id": "f1605953",
   "metadata": {},
   "source": [
    "## Dataset Creation"
   ]
  },
  {
   "cell_type": "code",
   "execution_count": 22,
   "id": "78c0757a",
   "metadata": {},
   "outputs": [],
   "source": [
    "training_data_om = np.array([\n",
    "    [0, 0, 1],\n",
    "    [0, 1, 1]]\n",
    ")\n",
    "                        \n",
    "training_targets_om = np.array([[0, 0]]).T\n"
   ]
  },
  {
   "cell_type": "markdown",
   "id": "0ab0deaa",
   "metadata": {},
   "source": [
    "## Logging into the domain"
   ]
  },
  {
   "cell_type": "code",
   "execution_count": 23,
   "id": "fa50d1a0",
   "metadata": {},
   "outputs": [
    {
     "name": "stdout",
     "output_type": "stream",
     "text": [
      "WARNING: CHANGE YOUR USERNAME AND PASSWORD!!! \n",
      "\n",
      "Anyone can login as an admin to your node right now because your password is still the default PySyft username and password!!!\n",
      "\n",
      "Connecting to localhost... done! \t Logging into openmined... done!\n"
     ]
    }
   ],
   "source": [
    "# Let's login into the domain\n",
    "om = sy.login(email=\"info@openmined.org\", password=\"changethis\", port=8081)"
   ]
  },
  {
   "cell_type": "markdown",
   "id": "259dae31",
   "metadata": {},
   "source": [
    "## Upload the dataset to Domain node"
   ]
  },
  {
   "cell_type": "code",
   "execution_count": 24,
   "id": "b969a59d",
   "metadata": {},
   "outputs": [],
   "source": [
    "#DP metadata Addition\n",
    "training_data_om = sy.Tensor(training_data_om).private(\n",
    "    min_val=0,\n",
    "    max_val=1,\n",
    "    entities=[\"Rasswanth\"] * training_data_om.shape[0],\n",
    "    ndept=True\n",
    ")\n",
    "training_targets_om = sy.Tensor(training_targets_om).private(\n",
    "    min_val=0,\n",
    "    max_val=1,\n",
    "    entities=[\"Rasswanth\"] * training_targets_om.shape[0],\n",
    "    ndept=True\n",
    ")\n"
   ]
  },
  {
   "cell_type": "code",
   "execution_count": 25,
   "id": "5ea7a2e4",
   "metadata": {},
   "outputs": [
    {
     "name": "stdout",
     "output_type": "stream",
     "text": [
      "Dataset is uploaded successfully !!! 🎉\n",
      "\n",
      "Run `<your client variable>.datasets` to see your new dataset loaded into your machine!\n"
     ]
    }
   ],
   "source": [
    "# Upload a private dataset to the Domain object, as the root owner\n",
    "\n",
    "om.load_dataset(\n",
    "    assets={\n",
    "        \"training_data\":training_data_om,\n",
    "        \"training_targets\":training_targets_om\n",
    "    },\n",
    "    name=\"Our training data for XOR networks!\",\n",
    "    description=\"Collected on Jan 27 2022\"\n",
    ")"
   ]
  },
  {
   "cell_type": "code",
   "execution_count": 26,
   "id": "7b558ca6",
   "metadata": {},
   "outputs": [
    {
     "data": {
      "text/html": [
       "<style>\n",
       "                #myInput {\n",
       "                  background-position: 10px 12px; /* Position the search icon */\n",
       "                  background-repeat: no-repeat; /* Do not repeat the icon image */\n",
       "                  background-color: #bbb;\n",
       "                  width: 98%; /* Full-width */\n",
       "                  font-size: 14px; /* Increase font-size */\n",
       "                  padding: 12px 20px 12px 40px; /* Add some padding */\n",
       "                  border: 1px solid #ddd; /* Add a grey border */\n",
       "                  margin-bottom: 12px; /* Add some space below the input */\n",
       "                }\n",
       "\n",
       "                #myTable {\n",
       "                  border-collapse: collapse; /* Collapse borders */\n",
       "                  width: 100%; /* Full-width */\n",
       "                  border: 1px solid #ddd; /* Add a grey border */\n",
       "                  font-size: 14px; /* Increase font-size */\n",
       "                }\n",
       "\n",
       "                #myTable th, #myTable td {\n",
       "                  text-align: left; /* Left-align text */\n",
       "                  padding: 10px; /* Add padding */\n",
       "                }\n",
       "\n",
       "                #myTable tr {\n",
       "                  /* Add a bottom border to all table rows */\n",
       "                  border-bottom: 1px solid #ddd;\n",
       "                }\n",
       "\n",
       "                #myTable tr.header, #myTable tr:hover {\n",
       "                  /* Add a grey background color to the table header and on hover */\n",
       "                  background-color: #777;\n",
       "                }\n",
       "                </style>\n",
       "\n",
       "                <table id=\"myTable\" style=\"width:1000px\">\n",
       "                  <tr class=\"header\">\n",
       "                    <th style=\"width:30px\">Idx</th>\n",
       "                    <th style=\"width:20%;\">Name</th>\n",
       "                    <th style=\"width:35%;\">Description</th>\n",
       "                    <th style=\"width:20%;\">Assets</th>\n",
       "                    <th style=\"width:300px;\">Id</th>\n",
       "                  </tr>\n",
       "                \n",
       "\n",
       "          <tr>\n",
       "            <td>[0]</td>\n",
       "            <td>Our training data for XOR networks!</td>\n",
       "            <td>Collected on Jan 27 2022</td>\n",
       "            <td>[\"training_data\"] -> int64<br /><br />[\"training_targets\"] -> int64<br /><br /></td>\n",
       "            <td>43e1955c-4a9b-4c5e-9130-0bc6773ae902</td>\n",
       "          </tr>\n",
       "        </table>\n",
       "\n",
       "        <script>\n",
       "        function myFunction() {\n",
       "          // Declare variables\n",
       "          var input, filter, table, tr, td, i, txtValue;\n",
       "          input = document.getElementById(\"myInput\");\n",
       "          filter = input.value.toUpperCase();\n",
       "          table = document.getElementById(\"myTable\");\n",
       "          tr = table.getElementsByTagName(\"tr\");\n",
       "\n",
       "          // Loop through all table rows, and hide those who don't match the search query\n",
       "          for (i = 0; i < tr.length; i++) {\n",
       "            name_td = tr[i].getElementsByTagName(\"td\")[1];\n",
       "            desc_td = tr[i].getElementsByTagName(\"td\")[2];\n",
       "            asset_td = tr[i].getElementsByTagName(\"td\")[3];\n",
       "            id_td = tr[i].getElementsByTagName(\"td\")[4];\n",
       "            if (name_td || desc_td || asset_td || id_td) {\n",
       "              name_txtValue = name_td.textContent || name_td.innerText;\n",
       "              desc_txtValue = desc_td.textContent || name_td.innerText;\n",
       "              asset_txtValue = asset_td.textContent || name_td.innerText;\n",
       "              id_txtValue = id_td.textContent || name_td.innerText;\n",
       "              name_bool = name_txtValue.toUpperCase().indexOf(filter) > -1;\n",
       "              desc_bool = desc_txtValue.toUpperCase().indexOf(filter) > -1;\n",
       "              asset_bool = asset_txtValue.toUpperCase().indexOf(filter) > -1;\n",
       "              id_bool = id_txtValue.toUpperCase().indexOf(filter) > -1;\n",
       "              if (name_bool || desc_bool || asset_bool || id_bool) {\n",
       "                tr[i].style.display = \"\";\n",
       "              } else {\n",
       "                tr[i].style.display = \"none\";\n",
       "              }\n",
       "            }\n",
       "          }\n",
       "        }\n",
       "        </script>"
      ],
      "text/plain": [
       "<syft.core.node.common.client_manager.dataset_api.DatasetRequestAPI at 0x7fe3c99d80d0>"
      ]
     },
     "execution_count": 26,
     "metadata": {},
     "output_type": "execute_result"
    }
   ],
   "source": [
    "om.datasets"
   ]
  },
  {
   "cell_type": "markdown",
   "id": "e66e3c27",
   "metadata": {},
   "source": [
    "### Create a Data Scientist User"
   ]
  },
  {
   "cell_type": "code",
   "execution_count": 27,
   "id": "ae10c81a",
   "metadata": {},
   "outputs": [],
   "source": [
    "#change budget before demo\n",
    "om.users.create(\n",
    "    **{\n",
    "        \"name\": \"Sheldon Cooper\",\n",
    "        \"email\": \"sheldon@caltech.edu\",\n",
    "        \"password\": \"bazinga\",\n",
    "        \"budget\":9_999_999\n",
    "    }\n",
    ")"
   ]
  },
  {
   "cell_type": "code",
   "execution_count": 28,
   "id": "8339d4ce-d6cd-4cd8-b189-9d88504ae457",
   "metadata": {},
   "outputs": [
    {
     "data": {
      "text/html": [
       "<div>\n",
       "<style scoped>\n",
       "    .dataframe tbody tr th:only-of-type {\n",
       "        vertical-align: middle;\n",
       "    }\n",
       "\n",
       "    .dataframe tbody tr th {\n",
       "        vertical-align: top;\n",
       "    }\n",
       "\n",
       "    .dataframe thead th {\n",
       "        text-align: right;\n",
       "    }\n",
       "</style>\n",
       "<table border=\"1\" class=\"dataframe\">\n",
       "  <thead>\n",
       "    <tr style=\"text-align: right;\">\n",
       "      <th></th>\n",
       "      <th>id</th>\n",
       "      <th>email</th>\n",
       "      <th>name</th>\n",
       "      <th>budget</th>\n",
       "      <th>verify_key</th>\n",
       "      <th>role</th>\n",
       "      <th>added_by</th>\n",
       "      <th>website</th>\n",
       "      <th>institution</th>\n",
       "      <th>daa_pdf</th>\n",
       "      <th>created_at</th>\n",
       "      <th>budget_spent</th>\n",
       "    </tr>\n",
       "  </thead>\n",
       "  <tbody>\n",
       "    <tr>\n",
       "      <th>0</th>\n",
       "      <td>1</td>\n",
       "      <td>info@openmined.org</td>\n",
       "      <td>Jane Doe</td>\n",
       "      <td>5.55</td>\n",
       "      <td>213c3c4be4eabf8ed81a61d7be5ed2db900f4c82e74729...</td>\n",
       "      <td>Owner</td>\n",
       "      <td>None</td>\n",
       "      <td>None</td>\n",
       "      <td>None</td>\n",
       "      <td>NaN</td>\n",
       "      <td>2022-04-21 07:16:54.771560</td>\n",
       "      <td>5.55</td>\n",
       "    </tr>\n",
       "    <tr>\n",
       "      <th>1</th>\n",
       "      <td>2</td>\n",
       "      <td>sheldon@caltech.edu</td>\n",
       "      <td>Sheldon Cooper</td>\n",
       "      <td>9999999.00</td>\n",
       "      <td>9aaa35600c7469347a575636d588da0a1ac58ef3b4946c...</td>\n",
       "      <td>Data Scientist</td>\n",
       "      <td>Jane Doe</td>\n",
       "      <td></td>\n",
       "      <td></td>\n",
       "      <td>1.0</td>\n",
       "      <td>2022-04-21 07:18:02.612128</td>\n",
       "      <td>9999999.00</td>\n",
       "    </tr>\n",
       "  </tbody>\n",
       "</table>\n",
       "</div>"
      ],
      "text/plain": [
       "<syft.core.node.common.client_manager.user_api.UserRequestAPI at 0x7fe3c99d8040>"
      ]
     },
     "execution_count": 28,
     "metadata": {},
     "output_type": "execute_result"
    }
   ],
   "source": [
    "om.users"
   ]
  },
  {
   "cell_type": "markdown",
   "id": "d4a78c38",
   "metadata": {},
   "source": [
    "### Accept/Deny Requests to the Domain"
   ]
  },
  {
   "cell_type": "code",
   "execution_count": 29,
   "id": "f0ae9245",
   "metadata": {},
   "outputs": [
    {
     "data": {
      "text/html": [
       "<div>\n",
       "<style scoped>\n",
       "    .dataframe tbody tr th:only-of-type {\n",
       "        vertical-align: middle;\n",
       "    }\n",
       "\n",
       "    .dataframe tbody tr th {\n",
       "        vertical-align: top;\n",
       "    }\n",
       "\n",
       "    .dataframe thead th {\n",
       "        text-align: right;\n",
       "    }\n",
       "</style>\n",
       "<table border=\"1\" class=\"dataframe\">\n",
       "  <thead>\n",
       "    <tr style=\"text-align: right;\">\n",
       "      <th></th>\n",
       "    </tr>\n",
       "  </thead>\n",
       "  <tbody>\n",
       "  </tbody>\n",
       "</table>\n",
       "</div>"
      ],
      "text/plain": [
       "Empty DataFrame\n",
       "Columns: []\n",
       "Index: []"
      ]
     },
     "execution_count": 29,
     "metadata": {},
     "output_type": "execute_result"
    }
   ],
   "source": [
    "om.requests.pandas"
   ]
  },
  {
   "cell_type": "code",
   "execution_count": 30,
   "id": "fbb4238d",
   "metadata": {},
   "outputs": [],
   "source": [
    "# om.requests[-1].accept()"
   ]
  },
  {
   "cell_type": "code",
   "execution_count": null,
   "id": "31ece6d5",
   "metadata": {},
   "outputs": [],
   "source": []
  },
  {
   "cell_type": "code",
   "execution_count": null,
   "id": "a9863d3f",
   "metadata": {},
   "outputs": [],
   "source": []
  }
 ],
 "metadata": {
  "interpreter": {
   "hash": "630449982b6186a6531308cd76ed4d510e9db65154e43844c2906c6a20ad2a6d"
  },
  "kernelspec": {
   "display_name": "Python 3.9.4 64-bit ('python39-2vM0bQN-': pipenv)",
   "name": "python3"
  },
  "language_info": {
   "codemirror_mode": {
    "name": "ipython",
    "version": 3
   },
   "file_extension": ".py",
   "mimetype": "text/x-python",
   "name": "python",
   "nbconvert_exporter": "python",
   "pygments_lexer": "ipython3",
   "version": "3.9.4"
  }
 },
 "nbformat": 4,
 "nbformat_minor": 5
}

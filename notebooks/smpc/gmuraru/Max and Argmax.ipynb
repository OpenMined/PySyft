{
 "cells": [
  {
   "cell_type": "code",
   "execution_count": null,
   "id": "67c2d127-c955-4313-b7d2-c584f037f85b",
   "metadata": {},
   "outputs": [],
   "source": [
    "import syft as sy\n",
    "sy.logger.remove()\n",
    "import numpy as np\n",
    "from syft.core.tensor.smpc.mpc_tensor import MPCTensor"
   ]
  },
  {
   "cell_type": "code",
   "execution_count": null,
   "id": "d532adec-ea60-437a-a84e-11b90465e4fc",
   "metadata": {},
   "outputs": [],
   "source": [
    "t = sy.Tensor(np.array([[[1, 2, 3], [4,5, 6]], [[5,6,7],[10,11,-3]]],dtype=np.int64))"
   ]
  },
  {
   "cell_type": "code",
   "execution_count": null,
   "id": "aa74bb27-e8aa-404b-a32f-cdff0c36390b",
   "metadata": {},
   "outputs": [],
   "source": [
    "p1 = sy.login(email=\"info@openmined.org\",password=\"changethis\",port=\"8081\")\n",
    "p2 =  sy.login(email=\"info@openmined.org\",password=\"changethis\",port=\"8082\")\n",
    "parties = [p1,p2]"
   ]
  },
  {
   "cell_type": "code",
   "execution_count": null,
   "id": "c85840d0-a2d0-4988-94fc-5a233672aa81",
   "metadata": {
    "tags": []
   },
   "outputs": [],
   "source": [
    "mpc_tensor = MPCTensor(parties=parties, secret=t, shape=(2,2,3))"
   ]
  },
  {
   "cell_type": "code",
   "execution_count": null,
   "id": "11441a7b-fd2e-4351-b46b-a11619675a85",
   "metadata": {},
   "outputs": [],
   "source": [
    "max_val = mpc_tensor.max(axis=1, keepdims=True)"
   ]
  },
  {
   "cell_type": "code",
   "execution_count": null,
   "id": "fcaf4692-48e2-4a97-b334-7e6daa686eeb",
   "metadata": {},
   "outputs": [],
   "source": [
    "print(max_val[0].reconstruct())"
   ]
  },
  {
   "cell_type": "code",
   "execution_count": null,
   "id": "5f109b7e-9ab2-4974-80de-b39cba139b28",
   "metadata": {},
   "outputs": [],
   "source": [
    "print(max_val[1].reconstruct())"
   ]
  },
  {
   "cell_type": "code",
   "execution_count": null,
   "id": "783708ac-17d0-4080-b608-80d890ee82fc",
   "metadata": {},
   "outputs": [],
   "source": [
    "argmax_val = mpc_tensor.argmax(axis=2)"
   ]
  },
  {
   "cell_type": "code",
   "execution_count": null,
   "id": "3003ad8a-ea94-4d92-bcf7-00c5fe62a166",
   "metadata": {},
   "outputs": [],
   "source": [
    "print(argmax_val.reconstruct())"
   ]
  }
 ],
 "metadata": {
  "kernelspec": {
   "display_name": "Python 3 (ipykernel)",
   "language": "python",
   "name": "python3"
  },
  "language_info": {
   "codemirror_mode": {
    "name": "ipython",
    "version": 3
   },
   "file_extension": ".py",
   "mimetype": "text/x-python",
   "name": "python",
   "nbconvert_exporter": "python",
   "pygments_lexer": "ipython3",
   "version": "3.9.0"
  }
 },
 "nbformat": 4,
 "nbformat_minor": 5
}

{
 "cells": [
  {
   "cell_type": "code",
   "execution_count": 1,
   "id": "67c2d127-c955-4313-b7d2-c584f037f85b",
   "metadata": {},
   "outputs": [],
   "source": [
    "import syft as sy\n",
    "sy.logger.remove()\n",
    "import numpy as np\n",
    "data = sy.Tensor(np.array([1,2,3],dtype=np.int32))"
   ]
  },
  {
   "cell_type": "code",
   "execution_count": null,
   "id": "aa74bb27-e8aa-404b-a32f-cdff0c36390b",
   "metadata": {},
   "outputs": [
    {
     "name": "stdout",
     "output_type": "stream",
     "text": [
      "Connecting to http://localhost:8081... done! \t Logging into gryffindor... done!\n",
      "Connecting to http://localhost:8082..."
     ]
    }
   ],
   "source": [
    "gryffindor = sy.login(email=\"info@openmined.org\",password=\"changethis\",port=\"8081\")\n",
    "slytherin =  sy.login(email=\"info@openmined.org\",password=\"changethis\",port=\"8082\")\n",
    "hufflepuff = sy.login(email=\"info@openmined.org\",password=\"changethis\",port=\"8083\")"
   ]
  },
  {
   "cell_type": "code",
   "execution_count": 3,
   "id": "c85840d0-a2d0-4988-94fc-5a233672aa81",
   "metadata": {},
   "outputs": [],
   "source": [
    "tensor_1 = data.send(gryffindor)\n",
    "tensor_2 = data.send(slytherin)\n",
    "tensor_3 = data.send(hufflepuff)"
   ]
  },
  {
   "cell_type": "markdown",
   "id": "10d307ac-ea31-46a4-8c4b-2789b38e41b6",
   "metadata": {},
   "source": [
    "During Private Multiplication , we require the parties to be able to communicate with each other.\n",
    "We make sure that our Actions are **Idempotent** and **Atomic** such that when a given action is not able to execute, it requeues itself to the back of the queue.\n",
    "\n",
    "We set a maximum amount of retries,until eventually failing, when one of the parties nodes are not able to send their intermediate results.\n",
    "\n",
    "We also create proxy clients with minimal permissions such that the parties are able to communicate with each other.\n"
   ]
  },
  {
   "cell_type": "code",
   "execution_count": null,
   "id": "0d70a8c8-327d-46e5-bc5b-945b7e3f6a78",
   "metadata": {},
   "outputs": [],
   "source": [
    "mpc_1 = tensor_1 * tensor_2\n",
    "#The above two private tensor belongs to gryffindor and slytherin\n",
    "#we create an MPCTensor by sharing it with all the parties in the computation(instead of the above two)"
   ]
  },
  {
   "cell_type": "code",
   "execution_count": null,
   "id": "448f827f-5b12-41ee-a864-77a83f44bfc8",
   "metadata": {},
   "outputs": [],
   "source": [
    "mpc_2  = tensor_2 * tensor_3"
   ]
  },
  {
   "cell_type": "code",
   "execution_count": null,
   "id": "c56b7dbd-7e80-42bf-812a-2b07fd3123a9",
   "metadata": {},
   "outputs": [],
   "source": [
    "mpc = mpc_1 * mpc_2 #mpctensors of different private subsets of parties."
   ]
  },
  {
   "cell_type": "code",
   "execution_count": 7,
   "id": "06322e2c-bc06-4f97-89e8-db930dcd3384",
   "metadata": {},
   "outputs": [
    {
     "data": {
      "text/plain": [
       "array([2, 4, 6], dtype=int32)"
      ]
     },
     "execution_count": 7,
     "metadata": {},
     "output_type": "execute_result"
    }
   ],
   "source": [
    "mpc.reconstruct()"
   ]
  },
  {
   "cell_type": "markdown",
   "id": "10afd435-361b-4083-a32e-7a2b8d4b6288",
   "metadata": {},
   "source": []
  }
 ],
 "metadata": {
  "kernelspec": {
   "display_name": "Python 3 (ipykernel)",
   "language": "python",
   "name": "python3"
  },
  "language_info": {
   "codemirror_mode": {
    "name": "ipython",
    "version": 3
   },
   "file_extension": ".py",
   "mimetype": "text/x-python",
   "name": "python",
   "nbconvert_exporter": "python",
   "pygments_lexer": "ipython3",
   "version": "3.9.4"
  }
 },
 "nbformat": 4,
 "nbformat_minor": 5
}

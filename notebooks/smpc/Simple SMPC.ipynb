{
 "cells": [
  {
   "cell_type": "markdown",
   "id": "d5e1cc1d-8ece-4147-807e-f13d2ed57ed8",
   "metadata": {},
   "source": [
    "# SMPC Tensor - Demo"
   ]
  },
  {
   "cell_type": "markdown",
   "id": "40a65d04-6e5d-4e6b-8e69-db91ec072502",
   "metadata": {},
   "source": [
    "## Imports and connect to the machines"
   ]
  },
  {
   "cell_type": "code",
   "execution_count": 1,
   "id": "511b0d04-de86-41e9-9cff-0921aa59c14f",
   "metadata": {},
   "outputs": [],
   "source": [
    "import syft as sy\n",
    "import torch\n",
    "import numpy as np\n",
    "from syft.core.tensor.smpc.mpc_tensor import MPCTensor\n",
    "\n",
    "sy.logger.remove()"
   ]
  },
  {
   "cell_type": "code",
   "execution_count": 2,
   "id": "701e5d26-243d-4bf0-869f-406a2be32495",
   "metadata": {},
   "outputs": [
    {
     "name": "stdout",
     "output_type": "stream",
     "text": [
      "Connecting to http://localhost:8081... done! \t Logging into gryffindor... done!\n"
     ]
    }
   ],
   "source": [
    "gryffindor = sy.login(email=\"info@openmined.org\", password=\"changethis\", port=8081)"
   ]
  },
  {
   "cell_type": "code",
   "execution_count": 3,
   "id": "5b3f8516-79b0-4ba4-a9ab-6dc3ac4f80c7",
   "metadata": {},
   "outputs": [
    {
     "name": "stdout",
     "output_type": "stream",
     "text": [
      "Connecting to http://localhost:8082... done! \t Logging into slytherin... done!\n"
     ]
    }
   ],
   "source": [
    "slytherin = sy.login(email=\"info@openmined.org\", password=\"changethis\", port=8082)"
   ]
  },
  {
   "cell_type": "code",
   "execution_count": 4,
   "id": "c1bde908-cfd4-4691-a5b8-0d2048ac1cb7",
   "metadata": {},
   "outputs": [
    {
     "name": "stdout",
     "output_type": "stream",
     "text": [
      "Connecting to http://localhost:8083... done! \t Logging into hufflepuff... done!\n"
     ]
    }
   ],
   "source": [
    "hufflepuff = sy.login(email=\"info@openmined.org\", password=\"changethis\", port=8083)"
   ]
  },
  {
   "cell_type": "code",
   "execution_count": 5,
   "id": "46ee3aa4-b25f-47a4-8955-289334941fdd",
   "metadata": {},
   "outputs": [
    {
     "name": "stdout",
     "output_type": "stream",
     "text": [
      "Connecting to http://localhost:8084... done! \t Logging into ravenclaw... done!\n"
     ]
    }
   ],
   "source": [
    "ravenclaw = sy.login(email=\"info@openmined.org\", password=\"changethis\", port=8084)"
   ]
  },
  {
   "cell_type": "code",
   "execution_count": 6,
   "id": "a105c9a6-5bd5-4e4b-8984-69ca48abe27b",
   "metadata": {},
   "outputs": [],
   "source": [
    "parties = [gryffindor, slytherin, hufflepuff, ravenclaw]"
   ]
  },
  {
   "cell_type": "markdown",
   "id": "8236037d-bb42-4291-ad1b-c448dda4a4de",
   "metadata": {},
   "source": [
    "## Secret Sharing"
   ]
  },
  {
   "cell_type": "code",
   "execution_count": 7,
   "id": "b46adfd3-56b5-4cba-bcde-a5afb4738887",
   "metadata": {},
   "outputs": [],
   "source": [
    "value_secret = gryffindor.syft.core.tensor.tensor.Tensor(np.array([[1, 2, 3, 4, 5], [6, 7, 8, 9, 10]], dtype=np.int64))"
   ]
  },
  {
   "cell_type": "code",
   "execution_count": 8,
   "id": "28767d71-3ae9-46b6-aec3-8ec17fc9a6d3",
   "metadata": {},
   "outputs": [],
   "source": [
    "mpc_tensor = MPCTensor(secret=value_secret, shape=(2,5), parties=parties)"
   ]
  },
  {
   "cell_type": "code",
   "execution_count": 9,
   "id": "fa4535e9-77b4-4fba-83b4-88b9371a274a",
   "metadata": {},
   "outputs": [
    {
     "name": "stdout",
     "output_type": "stream",
     "text": [
      "MPCTensor\n",
      "\t<syft.proxy.syft.core.tensor.smpc.share_tensor.ShareTensorPointer object at 0x7ff00fcf4be0>\n",
      "\t<syft.proxy.syft.core.tensor.smpc.share_tensor.ShareTensorPointer object at 0x7ff010940790>\n",
      "\t<syft.proxy.syft.core.tensor.smpc.share_tensor.ShareTensorPointer object at 0x7ff0d8541af0>\n",
      "\t<syft.proxy.syft.core.tensor.smpc.share_tensor.ShareTensorPointer object at 0x7ff01136bcd0>\n"
     ]
    }
   ],
   "source": [
    "print(mpc_tensor)"
   ]
  },
  {
   "cell_type": "code",
   "execution_count": 14,
   "id": "a332217e-63b4-4c91-8f2f-1af39ac1d3c7",
   "metadata": {},
   "outputs": [
    {
     "name": "stdout",
     "output_type": "stream",
     "text": [
      "Shares values\n",
      "ShareTensor(child=[[ 4200319183501479290  8207534978917987907 -9085688022752622013\n",
      "  -5617808189224606714  3130533702703207681]\n",
      " [ 8491670456157346142  7750350630647038819 -2429356441009349193\n",
      "    948507769182089365 -1924696859109313082]])\n",
      "ShareTensor(child=[[ 7599007107723378773  8240620840951847284  3913881703814404413\n",
      "   1522818433552634412 -6076577268609680162]\n",
      " [ 5350005787584253205  5742137957748509441  7557416318750801784\n",
      "  -6736316078289868933  1925721182564679687]])\n",
      "ShareTensor(child=[[-1499878624832290533 -2388467902764975387  5808799152466228580\n",
      "   8898918006848376615 -8575638901052506180]\n",
      " [  -83576793764106568   204646462575531337 -2291277020855485929\n",
      "  -8909216402339508540 -2607115090029530545]])\n",
      "ShareTensor(child=[[ 8147296407316984087  4387056156604691814  -636992833528010977\n",
      "  -4803928251176404309 -6925061606750572950]\n",
      " [ 4688644623732058843  4749609022738472026 -2836782856885966654\n",
      "  -3749719362262263499  2606090766574163950]])\n"
     ]
    }
   ],
   "source": [
    "shares_locally_print = \"\\n\".join([str(share.get_copy()) for share in mpc_tensor.child])\n",
    "print(f\"Shares values\\n{shares_locally_print}\")"
   ]
  },
  {
   "cell_type": "code",
   "execution_count": 14,
   "id": "5b93c676-e0ab-4161-a0bf-236f7eeb98ee",
   "metadata": {},
   "outputs": [
    {
     "name": "stdout",
     "output_type": "stream",
     "text": [
      "Reconstruct\n",
      "[[ 1  2  3  4  5]\n",
      " [ 6  7  8  9 10]]\n"
     ]
    }
   ],
   "source": [
    "print(f\"Reconstruct\\n{mpc_tensor.reconstruct()}\")"
   ]
  },
  {
   "cell_type": "markdown",
   "id": "9dc5ba9d-1de9-4d29-ad05-a4cf2d2ad77a",
   "metadata": {},
   "source": [
    "## Public operations"
   ]
  },
  {
   "cell_type": "code",
   "execution_count": 15,
   "id": "35669736-a2bf-4b6e-96dd-0e63e1775827",
   "metadata": {},
   "outputs": [],
   "source": [
    "public_value = 42"
   ]
  },
  {
   "cell_type": "code",
   "execution_count": 125,
   "id": "e05298ee-000c-4d39-bb24-138780ac6be5",
   "metadata": {},
   "outputs": [],
   "source": [
    "res_add = mpc_tensor + public_value"
   ]
  },
  {
   "cell_type": "code",
   "execution_count": 126,
   "id": "9c3da8f2-d72c-4a02-b225-e90d9e3e8b5e",
   "metadata": {},
   "outputs": [
    {
     "name": "stdout",
     "output_type": "stream",
     "text": [
      "Public addition \n",
      "[[43 44 45 46 47]\n",
      " [48 49 50 51 52]]\n"
     ]
    }
   ],
   "source": [
    "print(f\"Public addition \\n{res_add.reconstruct()}\")"
   ]
  },
  {
   "cell_type": "code",
   "execution_count": 23,
   "id": "6f056d40-3e6f-46c2-a5a0-ad54d5d336fb",
   "metadata": {},
   "outputs": [],
   "source": [
    "res_sub = mpc_tensor - public_value"
   ]
  },
  {
   "cell_type": "code",
   "execution_count": 24,
   "id": "ba7c8073-084a-43b3-84aa-ebeb87611bd2",
   "metadata": {},
   "outputs": [
    {
     "name": "stdout",
     "output_type": "stream",
     "text": [
      "Public subtraction \n",
      "[[-41 -40 -39 -38 -37]\n",
      " [-36 -35 -34 -33 -32]]\n"
     ]
    }
   ],
   "source": [
    "print(f\"Public subtraction \\n{res_sub.reconstruct()}\")"
   ]
  },
  {
   "cell_type": "code",
   "execution_count": 25,
   "id": "5d9825e5-79cb-4715-97ac-2f056b90e306",
   "metadata": {},
   "outputs": [],
   "source": [
    "res_mul = public_value - mpc_tensor"
   ]
  },
  {
   "cell_type": "code",
   "execution_count": 27,
   "id": "bef10c55-a23a-4a06-bcf8-a3c5c73c915e",
   "metadata": {},
   "outputs": [
    {
     "name": "stdout",
     "output_type": "stream",
     "text": [
      "Public multiplication \n",
      "[[41 40 39 38 37]\n",
      " [36 35 34 33 32]]\n"
     ]
    }
   ],
   "source": [
    "print(f\"Public multiplication \\n{res_mul.reconstruct()}\")"
   ]
  },
  {
   "cell_type": "code",
   "execution_count": null,
   "id": "208f6e9c-01bb-407c-9a0f-664a0d79e111",
   "metadata": {},
   "outputs": [],
   "source": []
  }
 ],
 "metadata": {
  "kernelspec": {
   "display_name": "Python 3 (ipykernel)",
   "language": "python",
   "name": "python3"
  },
  "language_info": {
   "codemirror_mode": {
    "name": "ipython",
    "version": 3
   },
   "file_extension": ".py",
   "mimetype": "text/x-python",
   "name": "python",
   "nbconvert_exporter": "python",
   "pygments_lexer": "ipython3",
   "version": "3.9.5"
  }
 },
 "nbformat": 4,
 "nbformat_minor": 5
}

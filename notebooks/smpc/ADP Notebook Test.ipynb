{
 "cells": [
  {
   "cell_type": "code",
   "execution_count": 1,
   "id": "67c2d127-c955-4313-b7d2-c584f037f85b",
   "metadata": {},
   "outputs": [],
   "source": [
    "import syft as sy\n",
    "sy.logger.remove()\n",
    "import numpy as np\n",
    "import pandas as pd\n",
    "data = sy.Tensor(np.array([1,2,3],dtype=np.int32))\n",
    "from syft.core.adp.entity import Entity\n",
    "from syft.core.tensor.smpc.mpc_tensor import MPCTensor\n",
    "import time\n",
    "import uuid\n",
    "from typing import Any\n",
    "from typing import Dict"
   ]
  },
  {
   "cell_type": "code",
   "execution_count": 2,
   "id": "aa74bb27-e8aa-404b-a32f-cdff0c36390b",
   "metadata": {},
   "outputs": [
    {
     "name": "stdout",
     "output_type": "stream",
     "text": [
      "Connecting to http://localhost:8081... done! \t Logging into gryffindor... done!\n",
      "Connecting to http://localhost:8082... done! \t Logging into slytherin... done!\n",
      "Connecting to http://localhost:8083... done! \t Logging into hufflepuff... done!\n"
     ]
    }
   ],
   "source": [
    "gryffindor = sy.login(email=\"info@openmined.org\",password=\"changethis\",port=\"8081\")\n",
    "slytherin =  sy.login(email=\"info@openmined.org\",password=\"changethis\",port=\"8082\")\n",
    "hufflepuff = sy.login(email=\"info@openmined.org\",password=\"changethis\",port=\"8083\")"
   ]
  },
  {
   "cell_type": "code",
   "execution_count": 3,
   "id": "c85840d0-a2d0-4988-94fc-5a233672aa81",
   "metadata": {},
   "outputs": [],
   "source": [
    "t1 = data.send(gryffindor)\n",
    "t2 = data.send(slytherin)\n",
    "t3 = data.send(hufflepuff)"
   ]
  },
  {
   "cell_type": "code",
   "execution_count": 4,
   "id": "61aef60e-249b-435d-bd42-83af7f13d780",
   "metadata": {},
   "outputs": [
    {
     "name": "stdout",
     "output_type": "stream",
     "text": [
      "Connecting to http://localhost:9082... done! \t Logging into canada... done!\n"
     ]
    },
    {
     "name": "stderr",
     "output_type": "stream",
     "text": [
      "/tmp/ipykernel_134536/2608585113.py:18: DtypeWarning: Columns (14) have mixed types.Specify dtype option on import or set low_memory=False.\n",
      "  ca_data = load_data(csv_file=\"ca - feb 2021.csv\")\n"
     ]
    },
    {
     "name": "stdout",
     "output_type": "stream",
     "text": [
      "Loading dataset... uploading... SUCCESS!                                                                                                                                      \n",
      "\n",
      "Run <your client variable>.datasets to see your new dataset loaded into your machine!\n",
      "Connecting to http://localhost:9083... done! \t Logging into italy... done!\n"
     ]
    },
    {
     "name": "stderr",
     "output_type": "stream",
     "text": [
      "/tmp/ipykernel_134536/2608585113.py:56: DtypeWarning: Columns (14) have mixed types.Specify dtype option on import or set low_memory=False.\n",
      "  it_data = load_data(csv_file=\"it - feb 2021.csv\")\n"
     ]
    },
    {
     "name": "stdout",
     "output_type": "stream",
     "text": [
      "Loading dataset... uploading... SUCCESS!                                                                                                                                      \n",
      "\n",
      "Run <your client variable>.datasets to see your new dataset loaded into your machine!\n",
      "Connecting to http://localhost:9082... done! \t Logging into canada... done!\n",
      "Connecting to http://localhost:9083... done! \t Logging into italy... done!\n"
     ]
    }
   ],
   "source": [
    "ROOT_DIR = \"/home/rasswanth/PySyft\"\n",
    "def load_data(csv_file: str) -> pd.DataFrame:\n",
    "    return pd.read_csv(f\"{ROOT_DIR}/notebooks/trade_demo/datasets/{csv_file}\")[0:10]\n",
    "\n",
    "\n",
    "def get_user_details(unique_email: str) -> Dict[str, Any]:\n",
    "    return {\n",
    "        \"name\": \"Sheldon Cooper\",\n",
    "        \"email\": unique_email,\n",
    "        \"password\": \"bazinga\",\n",
    "        \"budget\": 200,\n",
    "    }\n",
    "\n",
    "unique_email = f\"{uuid.uuid4()}@caltech.edu\"\n",
    "\n",
    "# Canada\n",
    "ca_root = sy.login(email=\"info@openmined.org\", password=\"changethis\", port=9082)\n",
    "ca_data = load_data(csv_file=\"ca - feb 2021.csv\")\n",
    "\n",
    "canada_trade = (\n",
    "        (np.array(list(ca_data[\"Trade Value (US$)\"])) / 100000)[0:10]\n",
    "    ).astype(np.int32)\n",
    "trade_partners = ((list(ca_data[\"Partner\"])))[0:10]\n",
    "\n",
    "entities = list()\n",
    "for i in range(len(trade_partners)):\n",
    "    entities.append(Entity(name=trade_partners[i]))\n",
    "    \n",
    "entities = list()\n",
    "for i in range(len(trade_partners)):\n",
    "    entities.append(Entity(name=trade_partners[i]))\n",
    "\n",
    "sampled_canada_dataset = sy.Tensor(canada_trade)\n",
    "sampled_canada_dataset.public_shape = sampled_canada_dataset.shape\n",
    "sampled_canada_dataset = sampled_canada_dataset.private(\n",
    "    0, 3, entities=entities[0]\n",
    ").tag(\"trade_flow\")    \n",
    "\n",
    "ca_root.load_dataset(\n",
    "    assets={\"Canada Trade\": sampled_canada_dataset},\n",
    "    name=\"Canada Trade Data - First few rows\",\n",
    "    description=(\n",
    "        \"A collection of reports from Canada's statistics bureau about how \"\n",
    "        + \"much it thinks it imports and exports from other countries.\"\n",
    "    ),\n",
    "    skip_checks=True,\n",
    ")\n",
    "\n",
    "\n",
    "\n",
    "ca_root.users.create(**get_user_details(unique_email=unique_email))\n",
    "\n",
    "\n",
    "# Italy\n",
    "it_root = sy.login(email=\"info@openmined.org\", password=\"changethis\", port=9083)\n",
    "it_data = load_data(csv_file=\"it - feb 2021.csv\")\n",
    "# NOTE: casting this tensor as np.int32 is REALLY IMPORTANT\n",
    "data_batch = ((np.array(list(it_data[\"Trade Value (US$)\"])) / 100000)[0:10]).astype(\n",
    "    np.int32\n",
    ")\n",
    "trade_partners = ((list(it_data[\"Partner\"])))[0:10]\n",
    "\n",
    "entities = list()\n",
    "for i in range(len(trade_partners)):\n",
    "    entities.append(Entity(name=\"Other Asia, nes\"))\n",
    "\n",
    "# Upload a private dataset to the Domain object, as the root owner\n",
    "sampled_italy_dataset = sy.Tensor(data_batch)\n",
    "sampled_italy_dataset.public_shape = sampled_italy_dataset.shape\n",
    "sampled_italy_dataset = sampled_italy_dataset.private(\n",
    "    0, 3, entities=entities[0]\n",
    ").tag(\"trade_flow\")\n",
    "\n",
    "it_root.load_dataset(\n",
    "    assets={\"Italy Trade\": sampled_italy_dataset},\n",
    "    name=\"Italy Trade Data - First few rows\",\n",
    "    description=(\n",
    "        \"A collection of reports from iStat's statistics bureau about how \"\n",
    "        + \"much it thinks it imports and exports from other countries.\"\n",
    "    ),\n",
    "    skip_checks=True,\n",
    ")\n",
    "\n",
    "assert len(it_root.datasets) > 0\n",
    "\n",
    "# create user\n",
    "it_root.users.create(**get_user_details(unique_email=unique_email))\n",
    "\n",
    "ca = sy.login(email=unique_email, password=\"bazinga\", port=9082)\n",
    "it = sy.login(email=unique_email, password=\"bazinga\", port=9083)"
   ]
  },
  {
   "cell_type": "code",
   "execution_count": 5,
   "id": "a28d177a-e73b-49a4-b900-eb4299af15c9",
   "metadata": {},
   "outputs": [],
   "source": [
    "ca_data = ca.datasets[-1][\"Canada Trade\"]\n",
    "it_data = it.datasets[-1][\"Italy Trade\"]"
   ]
  },
  {
   "cell_type": "code",
   "execution_count": 6,
   "id": "c7d90178-bcc2-477b-9f01-9dfc2c4a087b",
   "metadata": {},
   "outputs": [
    {
     "name": "stdout",
     "output_type": "stream",
     "text": [
      "Proxy Client already User Register\n",
      "Proxy Client already User Register\n"
     ]
    }
   ],
   "source": [
    "result = ca_data + it_data"
   ]
  },
  {
   "cell_type": "code",
   "execution_count": 7,
   "id": "93a79b31-f9fa-4f33-8718-ce29ed6ca44d",
   "metadata": {},
   "outputs": [],
   "source": [
    "public_result = result.publish(sigma=2)"
   ]
  },
  {
   "cell_type": "code",
   "execution_count": 8,
   "id": "dddf758c-5b9d-4397-9140-4dd03e9c1f8d",
   "metadata": {},
   "outputs": [
    {
     "name": "stdout",
     "output_type": "stream",
     "text": [
      "sycure_result [-1 -1 22 -5 -1 15  2 -2  0 -4]\n",
      "after ca 106.96564873038481\n",
      "after it 106.96564873038481\n"
     ]
    }
   ],
   "source": [
    "time.sleep(5)\n",
    "sycure_result = public_result.get()\n",
    "print(\"sycure_result\", sycure_result)\n",
    "print(\"after ca\", ca.privacy_budget)\n",
    "print(\"after it\", it.privacy_budget)\n",
    "\n",
    "assert len(sycure_result) == 10\n",
    "assert sum(sycure_result) > -100\n",
    "assert sum(sycure_result) < 100\n",
    "\n",
    "assert ca.privacy_budget < 200\n",
    "assert ca.privacy_budget > 10\n",
    "assert it.privacy_budget < 200\n",
    "assert it.privacy_budget > 10\n",
    "assert ca.privacy_budget == it.privacy_budget"
   ]
  },
  {
   "cell_type": "code",
   "execution_count": null,
   "id": "983f5748-be7a-4270-80ea-dae37565fe22",
   "metadata": {},
   "outputs": [],
   "source": []
  },
  {
   "cell_type": "code",
   "execution_count": null,
   "id": "1ade5fe6-e98e-462b-9364-219d55ce6444",
   "metadata": {},
   "outputs": [],
   "source": []
  }
 ],
 "metadata": {
  "kernelspec": {
   "display_name": "Python 3 (ipykernel)",
   "language": "python",
   "name": "python3"
  },
  "language_info": {
   "codemirror_mode": {
    "name": "ipython",
    "version": 3
   },
   "file_extension": ".py",
   "mimetype": "text/x-python",
   "name": "python",
   "nbconvert_exporter": "python",
   "pygments_lexer": "ipython3",
   "version": "3.9.4"
  }
 },
 "nbformat": 4,
 "nbformat_minor": 5
}

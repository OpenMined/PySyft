{
 "cells": [
  {
   "cell_type": "code",
   "execution_count": 1,
   "id": "67c2d127-c955-4313-b7d2-c584f037f85b",
   "metadata": {},
   "outputs": [
    {
     "name": "stderr",
     "output_type": "stream",
     "text": [
      "/home/azureuser/.local/share/virtualenvs/python39-2vM0bQN-/lib/python3.9/site-packages/tqdm/auto.py:22: TqdmWarning: IProgress not found. Please update jupyter and ipywidgets. See https://ipywidgets.readthedocs.io/en/stable/user_install.html\n",
      "  from .autonotebook import tqdm as notebook_tqdm\n"
     ]
    }
   ],
   "source": [
    "%load_ext autoreload\n",
    "%autoreload 2\n",
    "import syft as sy\n",
    "import numpy as np\n",
    "import pandas as pd\n",
    "from syft.core.adp.data_subject import DataSubject\n",
    "from syft.core.tensor.smpc.mpc_tensor import MPCTensor\n",
    "from syft.core.smpc.protocol.aby3 import ABY3\n",
    "from syft.core.smpc.approximations import exp\n",
    "import time\n",
    "import operator\n",
    "import uuid\n",
    "sy.logger.remove()"
   ]
  },
  {
   "cell_type": "code",
   "execution_count": 2,
   "id": "aa74bb27-e8aa-404b-a32f-cdff0c36390b",
   "metadata": {},
   "outputs": [
    {
     "name": "stdout",
     "output_type": "stream",
     "text": [
      "WARNING: CHANGE YOUR USERNAME AND PASSWORD!!! \n",
      "\n",
      "Anyone can login as an admin to your node right now because your password is still the default PySyft username and password!!!\n",
      "\n",
      "Connecting to localhost... done! \t Logging into canada... done!\n",
      "WARNING: CHANGE YOUR USERNAME AND PASSWORD!!! \n",
      "\n",
      "Anyone can login as an admin to your node right now because your password is still the default PySyft username and password!!!\n",
      "\n",
      "Connecting to localhost... done! \t Logging into italy... done!\n"
     ]
    }
   ],
   "source": [
    "DOMAIN1_PORT = 8081\n",
    "DOMAIN2_PORT = 8082\n",
    "p1 =  sy.login(email=\"info@openmined.org\",password=\"changethis\",port=DOMAIN1_PORT)\n",
    "p2 = sy.login(email=\"info@openmined.org\",password=\"changethis\",port=DOMAIN2_PORT)"
   ]
  },
  {
   "cell_type": "code",
   "execution_count": 3,
   "id": "61aef60e-249b-435d-bd42-83af7f13d780",
   "metadata": {},
   "outputs": [
    {
     "name": "stdout",
     "output_type": "stream",
     "text": [
      "WARNING: CHANGE YOUR USERNAME AND PASSWORD!!! \n",
      "\n",
      "Anyone can login as an admin to your node right now because your password is still the default PySyft username and password!!!\n",
      "\n",
      "Connecting to localhost... done! \t Logging into canada... done!\n"
     ]
    },
    {
     "name": "stderr",
     "output_type": "stream",
     "text": [
      "/tmp/ipykernel_2881670/2162849251.py:3: DtypeWarning: Columns (14) have mixed types. Specify dtype option on import or set low_memory=False.\n",
      "  return pd.read_csv(f\"../trade_demo/datasets/{csv_file}\")[0:10]\n",
      "kj/filesystem-disk-unix.c++:1690: warning: PWD environment variable doesn't match current directory; pwd = /home/azureuser\n"
     ]
    },
    {
     "name": "stdout",
     "output_type": "stream",
     "text": [
      "Loading dataset... checking asset types...                              \n",
      "\n",
      "**Warning**: Blob Storage is disabled on this domain. Switching to database store.\n",
      "\n",
      "Dataset is uploaded successfully !!! 🎉\n",
      "\n",
      "Run `<your client variable>.datasets` to see your new dataset loaded into your machine!\n",
      "WARNING: CHANGE YOUR USERNAME AND PASSWORD!!! \n",
      "\n",
      "Anyone can login as an admin to your node right now because your password is still the default PySyft username and password!!!\n",
      "\n",
      "Connecting to localhost... done! \t Logging into italy... done!\n",
      "Loading dataset... checking asset types...                              \n",
      "\n",
      "**Warning**: Blob Storage is disabled on this domain. Switching to database store.\n",
      "\n",
      "Dataset is uploaded successfully !!! 🎉\n",
      "\n",
      "Run `<your client variable>.datasets` to see your new dataset loaded into your machine!\n"
     ]
    },
    {
     "name": "stderr",
     "output_type": "stream",
     "text": [
      "/tmp/ipykernel_2881670/2162849251.py:3: DtypeWarning: Columns (14) have mixed types. Specify dtype option on import or set low_memory=False.\n",
      "  return pd.read_csv(f\"../trade_demo/datasets/{csv_file}\")[0:10]\n"
     ]
    }
   ],
   "source": [
    "ROOT_DIR = \"/home/azureuser/PySyft\"\n",
    "def load_data(csv_file: str) -> pd.DataFrame:\n",
    "    return pd.read_csv(f\"../trade_demo/datasets/{csv_file}\")[0:10]\n",
    "\n",
    "def get_user_details(unique_email: str) :\n",
    "    return {\n",
    "        \"name\": \"Sheldon Cooper\",\n",
    "        \"email\": unique_email,\n",
    "        \"password\": \"bazinga\",\n",
    "        \"budget\": 10,\n",
    "    }\n",
    "\n",
    "unique_email = f\"{uuid.uuid4()}@caltech.edu\"\n",
    "\n",
    "# Canada\n",
    "ca_root = sy.login(email=\"info@openmined.org\", password=\"changethis\", port=DOMAIN1_PORT)\n",
    "ca_data = load_data(csv_file=\"ca - feb 2021.csv\")\n",
    "\n",
    "data = np.array([[0,0],[0,0]])\n",
    "# canada_trade = (\n",
    "#     (np.array(list(ca_data[\"Trade Value (US$)\"])) / 1000)[0:10]\n",
    "# ).astype(np.int64)\n",
    "canada_trade = np.array([[0,0],[0,0]])\n",
    "trade_partners = ((list(ca_data[\"Partner\"])))[0:10]\n",
    "\n",
    "entities = list()\n",
    "for i in range(len(trade_partners)):\n",
    "    entities.append(DataSubject(name=trade_partners[i]))\n",
    "\n",
    "sampled_canada_dataset = sy.Tensor(canada_trade)\n",
    "sampled_canada_dataset.public_shape = sampled_canada_dataset.shape\n",
    "sampled_canada_dataset = sampled_canada_dataset.private(\n",
    "      0, 3, data_subjects=[entities[0].name]*canada_trade.shape[0]\n",
    ").tag(\"trade_flow\")\n",
    "\n",
    "# load dataset\n",
    "ca_root.load_dataset(\n",
    "    assets={\"Canada Trade\": sampled_canada_dataset},\n",
    "    name=\"Canada Trade Data - First few rows\",\n",
    "    description=(\n",
    "        \"A collection of reports from Canada's statistics bureau about how \"\n",
    "        + \"much it thinks it imports and exports from other countries.\"\n",
    "    ),\n",
    "    skip_checks=True,\n",
    "    \n",
    ")\n",
    "\n",
    "assert len(ca_root.datasets) > 0\n",
    "\n",
    "\n",
    "\n",
    "# Italy\n",
    "it_root = sy.login(email=\"info@openmined.org\", password=\"changethis\", port=DOMAIN2_PORT)\n",
    "it_data = load_data(csv_file=\"it - feb 2021.csv\")\n",
    "\n",
    "# italy_trade = ((np.array(list(it_data[\"Trade Value (US$)\"])) / 1000)[0:10]).astype(\n",
    "#     np.int64\n",
    "# )\n",
    "italy_trade = np.array([[0,0],[0,0]])+1\n",
    "trade_partners = ((list(it_data[\"Partner\"])))[0:10]\n",
    "\n",
    "entities = list()\n",
    "for i in range(len(trade_partners)):\n",
    "    entities.append(DataSubject(name=\"Other Asia, nes\"))\n",
    "\n",
    "# Upload a private dataset to the Domain object, as the root owner\n",
    "sampled_italy_dataset = sy.Tensor(italy_trade)\n",
    "sampled_italy_dataset.public_shape = sampled_italy_dataset.shape\n",
    "sampled_italy_dataset = sampled_italy_dataset.private(\n",
    "    0, 3, data_subjects=[entities[0].name]*canada_trade.shape[0]\n",
    ").tag(\"trade_flow\")\n",
    "\n",
    "it_root.load_dataset(\n",
    "    assets={\"Italy Trade\": sampled_italy_dataset},\n",
    "    name=\"Italy Trade Data - First few rows\",\n",
    "    description=(\n",
    "        \"A collection of reports from iStat's statistics bureau about how \"\n",
    "        + \"much it thinks it imports and exports from other countries.\"\n",
    "    ),\n",
    "    skip_checks=True,\n",
    "    \n",
    ")\n",
    "\n"
   ]
  },
  {
   "cell_type": "code",
   "execution_count": null,
   "id": "dbbe2a27",
   "metadata": {},
   "outputs": [],
   "source": [
    "from syft.core.node.common.node_service.user_manager.user_messages import (\n",
    "    UpdateUserMessage,\n",
    ")\n",
    "\n",
    "# Upgrade admins budget\n",
    "content = {\"user_id\": 1, \"budget\": 9_999_999}\n",
    "p1._perform_grid_request(grid_msg=UpdateUserMessage, content=content)\n",
    "p2._perform_grid_request(grid_msg=UpdateUserMessage, content=content)\n",
    "\n",
    "print(p1.privacy_budget)\n",
    "print(p2.privacy_budget)"
   ]
  },
  {
   "cell_type": "code",
   "execution_count": null,
   "id": "61a48e46-80d3-460d-b6de-5ccc46daf72b",
   "metadata": {
    "tags": []
   },
   "outputs": [],
   "source": [
    "x = p1.datasets[-1][\"Canada Trade\"]\n",
    "y = p2.datasets[-1][\"Italy Trade\"]"
   ]
  },
  {
   "cell_type": "code",
   "execution_count": null,
   "id": "cab1feb4",
   "metadata": {},
   "outputs": [],
   "source": [
    "# working operations\n",
    "ops = [\"add\",\"sub\",\"mul\",\"matmul\",\"lt\",\"gt\",\"eq\",\"ne\",\"ge\",\"le\"]\n",
    "idx = 0 # points to the op\n",
    "op = getattr(operator,ops[idx])\n",
    "res = op(x,y)\n",
    "#For comparison increase the timeout\n",
    "res.block_with_timeout(10)\n",
    "val = res.get_copy()"
   ]
  },
  {
   "cell_type": "code",
   "execution_count": null,
   "id": "444ca3f2",
   "metadata": {},
   "outputs": [],
   "source": [
    "val == op(sampled_canada_dataset.decode(),sampled_italy_dataset.decode())"
   ]
  },
  {
   "cell_type": "code",
   "execution_count": null,
   "id": "426515dc",
   "metadata": {},
   "outputs": [],
   "source": [
    "print(val) #FPT result\n",
    "print(op(sampled_canada_dataset.decode(),sampled_italy_dataset.decode())) #Acutal result"
   ]
  },
  {
   "cell_type": "code",
   "execution_count": null,
   "id": "275ef347",
   "metadata": {},
   "outputs": [],
   "source": [
    "# DEBUG CELL\n",
    "# print((sampled_canada_dataset).decode())\n",
    "# print((sampled_italy_dataset).decode())\n",
    "# print(op(sampled_canada_dataset.decode(),sampled_italy_dataset.decode()).round())\n",
    "# print(res.get_copy().round())\n"
   ]
  },
  {
   "cell_type": "code",
   "execution_count": null,
   "id": "93a79b31-f9fa-4f33-8718-ce29ed6ca44d",
   "metadata": {},
   "outputs": [],
   "source": [
    "# p = res\n",
    "# public_result = p.publish(sigma=1)"
   ]
  },
  {
   "cell_type": "code",
   "execution_count": null,
   "id": "f3755dd6-13d3-4df9-96f6-8e291b24cf7c",
   "metadata": {},
   "outputs": [],
   "source": [
    "# pb_res = public_result.get_copy()"
   ]
  },
  {
   "cell_type": "code",
   "execution_count": null,
   "id": "8e6d2d59",
   "metadata": {},
   "outputs": [],
   "source": [
    "# print(pb_res)\n",
    "# print(p.get_copy())"
   ]
  },
  {
   "cell_type": "code",
   "execution_count": null,
   "metadata": {},
   "outputs": [],
   "source": [
    "print(res.get_copy())"
   ]
  },
  {
   "cell_type": "code",
   "execution_count": null,
   "metadata": {},
   "outputs": [],
   "source": [
    "v = exp(res)"
   ]
  },
  {
   "cell_type": "code",
   "execution_count": null,
   "metadata": {},
   "outputs": [],
   "source": [
    "v.get_copy()"
   ]
  },
  {
   "cell_type": "code",
   "execution_count": null,
   "metadata": {},
   "outputs": [],
   "source": [
    "v1 = -res"
   ]
  },
  {
   "cell_type": "code",
   "execution_count": null,
   "metadata": {},
   "outputs": [],
   "source": [
    "v1.get_copy()"
   ]
  },
  {
   "cell_type": "code",
   "execution_count": null,
   "metadata": {},
   "outputs": [],
   "source": [
    "print(v.get_copy())\n",
    "print(poovathal.get_copy())"
   ]
  },
  {
   "cell_type": "code",
   "execution_count": null,
   "metadata": {},
   "outputs": [],
   "source": [
    "x = res * 10"
   ]
  },
  {
   "cell_type": "code",
   "execution_count": null,
   "id": "de806e56",
   "metadata": {},
   "outputs": [],
   "source": [
    "t1 = res<res"
   ]
  },
  {
   "cell_type": "code",
   "execution_count": null,
   "metadata": {},
   "outputs": [],
   "source": [
    "t2 = res*t1"
   ]
  },
  {
   "cell_type": "code",
   "execution_count": null,
   "metadata": {},
   "outputs": [],
   "source": [
    "print(t1.get_copy())\n",
    "print(res.get_copy())\n",
    "# t1.get_copy()*res.get_copy()"
   ]
  },
  {
   "cell_type": "code",
   "execution_count": null,
   "metadata": {},
   "outputs": [],
   "source": [
    "res.get_copy()"
   ]
  },
  {
   "cell_type": "code",
   "execution_count": null,
   "id": "983f5748-be7a-4270-80ea-dae37565fe22",
   "metadata": {},
   "outputs": [],
   "source": [
    "#Below are debug cells\n",
    "a=np.array([ -789925275 ,  798267317, -1708906764,  1806674886,  1165022425,   480477472,\n",
    "    54663083  ,  78462192,  -974424744, -1538872148],dtype=np.int32)\n",
    "b=np.array([  789925275,  -798266317 , 1708920764, -1806674886, -1165022425,  -480477472,\n",
    "   -54663083  , -78459192  , 974424744 , 1538872148],dtype=np.int32)"
   ]
  },
  {
   "cell_type": "code",
   "execution_count": null,
   "id": "1ade5fe6-e98e-462b-9364-219d55ce6444",
   "metadata": {},
   "outputs": [],
   "source": [
    "(a+b)/1000"
   ]
  },
  {
   "cell_type": "code",
   "execution_count": null,
   "id": "b6ff36cf",
   "metadata": {},
   "outputs": [],
   "source": [
    "sampled_canada_dataset.decode()"
   ]
  },
  {
   "cell_type": "code",
   "execution_count": null,
   "id": "d379aaf7",
   "metadata": {},
   "outputs": [],
   "source": [
    "a=np.array([-1362805391  ,1471796679 , 2126726498   ,874113086 , -532526475, -1815214451,\n",
    "  1602118491,  1561978677 , -970006488 ,  792178136],dtype=np.int32)\n",
    "\n",
    "b=np.array([ 1362805391, -1470796679 ,-2084726498  ,-874113086  , 532526475  ,1815214451,\n",
    " -1602118491 ,-1558978677 ,  970006488  ,-792178136],dtype=np.int32)\n"
   ]
  },
  {
   "cell_type": "code",
   "execution_count": null,
   "id": "a46e0ea4",
   "metadata": {},
   "outputs": [],
   "source": [
    "a= np.array([ 1300758168, -1917863768, -1667359440,  2060242384 ,  -49469704 ,-1556715208,\n",
    "   -95689592 ,   94451448 , -656120896, -1904153536],dtype=np.int32)\n",
    "\n",
    "b=np.array( [-1300758168 ,-1377103528  , 717686480, -2060242384,    49469704,  1556715208,\n",
    "    95689592, -1389418744 ,  656120896  ,1904153536],dtype=np.int32)"
   ]
  },
  {
   "cell_type": "code",
   "execution_count": null,
   "id": "cfb33553",
   "metadata": {},
   "outputs": [],
   "source": [
    "res.child[0].get_copy()+res.child[1].get_copy()"
   ]
  },
  {
   "cell_type": "code",
   "execution_count": null,
   "id": "cd9ac8a5",
   "metadata": {},
   "outputs": [],
   "source": [
    "def value(a):\n",
    "    v1 = a.child[0].get_copy()\n",
    "    v2 = a.child[1].get_copy()\n",
    "    v = v1+v2\n",
    "    return v.child"
   ]
  },
  {
   "cell_type": "code",
   "execution_count": null,
   "metadata": {},
   "outputs": [],
   "source": [
    "v1 = v.child[0].get_copy()\n",
    "v2 = v.child[1].get_copy()"
   ]
  },
  {
   "cell_type": "code",
   "execution_count": null,
   "metadata": {},
   "outputs": [],
   "source": [
    "t1 = v1.child.child.child.child\n",
    "t2 = v2.child.child.child.child"
   ]
  },
  {
   "cell_type": "code",
   "execution_count": null,
   "metadata": {},
   "outputs": [],
   "source": [
    "(t1+t2)/ ((2**16)**2)"
   ]
  },
  {
   "cell_type": "code",
   "execution_count": null,
   "metadata": {},
   "outputs": [],
   "source": [
    "print(t1)\n",
    "print(t2)"
   ]
  },
  {
   "cell_type": "code",
   "execution_count": null,
   "metadata": {},
   "outputs": [],
   "source": [
    "x1 = t1[0][0]\n",
    "x2 = t2[0][0]"
   ]
  },
  {
   "cell_type": "code",
   "execution_count": null,
   "metadata": {},
   "outputs": [],
   "source": [
    "(x1//2**16) + (x2//2**16)"
   ]
  },
  {
   "cell_type": "code",
   "execution_count": null,
   "metadata": {},
   "outputs": [],
   "source": [
    "x1//2**16"
   ]
  },
  {
   "cell_type": "code",
   "execution_count": null,
   "metadata": {},
   "outputs": [],
   "source": [
    "x2//2**16"
   ]
  },
  {
   "cell_type": "code",
   "execution_count": null,
   "metadata": {},
   "outputs": [],
   "source": [
    "x1//2**16"
   ]
  },
  {
   "cell_type": "code",
   "execution_count": null,
   "metadata": {},
   "outputs": [],
   "source": [
    "x2//2**16"
   ]
  },
  {
   "cell_type": "code",
   "execution_count": null,
   "metadata": {},
   "outputs": [],
   "source": [
    "import torch"
   ]
  },
  {
   "cell_type": "code",
   "execution_count": null,
   "metadata": {},
   "outputs": [],
   "source": [
    "w1 = torch.from_numpy(np.array([446545456455]))\n",
    "w2 = torch.from_numpy(np.array([446545456455]))"
   ]
  },
  {
   "cell_type": "code",
   "execution_count": null,
   "metadata": {},
   "outputs": [],
   "source": [
    "print(w1)\n",
    "print(w1/2**16)\n",
    "print(w1//2**16)\n",
    "print(torch.div(w1,2**16,rounding_mode=\"trunc\"))"
   ]
  },
  {
   "cell_type": "code",
   "execution_count": null,
   "metadata": {},
   "outputs": [],
   "source": [
    "print(w2)\n",
    "print(w2/2**16)\n",
    "print(w2//2**16)"
   ]
  },
  {
   "cell_type": "code",
   "execution_count": null,
   "metadata": {},
   "outputs": [],
   "source": [
    "np.floor_divide(t1,2**16)"
   ]
  },
  {
   "cell_type": "code",
   "execution_count": null,
   "metadata": {},
   "outputs": [],
   "source": [
    "np.trunc(x1/2**16).astype(np.int64)"
   ]
  },
  {
   "cell_type": "code",
   "execution_count": null,
   "metadata": {},
   "outputs": [],
   "source": [
    "val = sampled_canada_dataset.gamma"
   ]
  },
  {
   "cell_type": "code",
   "execution_count": null,
   "metadata": {},
   "outputs": [],
   "source": [
    "val"
   ]
  },
  {
   "cell_type": "code",
   "execution_count": null,
   "metadata": {},
   "outputs": [],
   "source": [
    "t = val.send(p1)"
   ]
  },
  {
   "cell_type": "code",
   "execution_count": null,
   "metadata": {},
   "outputs": [],
   "source": [
    "v = t+t"
   ]
  },
  {
   "cell_type": "code",
   "execution_count": null,
   "metadata": {},
   "outputs": [],
   "source": [
    "v.get_copy()"
   ]
  },
  {
   "cell_type": "code",
   "execution_count": null,
   "metadata": {},
   "outputs": [],
   "source": [
    "mpc = x+y"
   ]
  },
  {
   "cell_type": "code",
   "execution_count": 6,
   "metadata": {},
   "outputs": [],
   "source": [
    "t1 = sy.Tensor(sampled_canada_dataset.child.gamma)\n",
    "t2 = sy.Tensor(sampled_italy_dataset.child.gamma)"
   ]
  },
  {
   "cell_type": "code",
   "execution_count": 7,
   "metadata": {},
   "outputs": [
    {
     "name": "stdout",
     "output_type": "stream",
     "text": [
      "\n",
      "**Warning**: Blob Storage is disabled on this client node. Switching to database store.\n",
      "\n",
      "**Warning**: Blob Storage is disabled on this client node. Switching to database store.\n"
     ]
    }
   ],
   "source": [
    "v1 = t1.send(p1)\n",
    "v2 = t2.send(p2)"
   ]
  },
  {
   "cell_type": "code",
   "execution_count": null,
   "metadata": {},
   "outputs": [],
   "source": [
    "res = v1+v2"
   ]
  },
  {
   "cell_type": "code",
   "execution_count": 9,
   "metadata": {},
   "outputs": [
    {
     "data": {
      "text/plain": [
       "array([[1., 1.],\n",
       "       [1., 1.]])"
      ]
     },
     "execution_count": 9,
     "metadata": {},
     "output_type": "execute_result"
    }
   ],
   "source": [
    "res.get_copy()"
   ]
  },
  {
   "cell_type": "code",
   "execution_count": 4,
   "metadata": {},
   "outputs": [],
   "source": [
    "val  = sampled_canada_dataset.child.gamma"
   ]
  },
  {
   "cell_type": "code",
   "execution_count": 5,
   "metadata": {},
   "outputs": [
    {
     "data": {
      "text/plain": [
       "b'\\x00\\x00\\x00\\x00\\xd8\\x00\\x00\\x00\\x00\\x00\\x00\\x00\\x01\\x00\\x08\\x00\\x01\\x00\\x00\\x00\\x00\\x00\\x00\\x00\\x1d\\x00\\x00\\x00\\xba\\x00\\x00\\x00%\\x00\\x00\\x00\\xba\\x06\\x00\\x00\\x8d\\x00\\x00\\x00\\xba\\x01\\x00\\x00\\xa4\\x00\\x00\\x00\\x00\\x00\\x02\\x00\\xf0\\x00\\x00\\x00\\x00\\x00\\x02\\x00Y\\x01\\x00\\x00\\xe2\\x0e\\x00\\x00E\\x02\\x00\\x00\\xf2\\x0e\\x00\\x001\\x03\\x00\\x00R\\x00\\x00\\x00capnp:GammaTensor:capnp\\x00\\x10\\x1eP\\x02\\x02\\x11\\x02\\x10\\x01\\x011\\x05\\x02\\x01\\x11\\x11\\x0e\\xffcapnp:Fi\\x03xedPrecisionTensor:capnp1\\x01\\xea\\x04\\xff\\x10\\x17@\\x02\\x11\\x05\\x0eQ\\x12D\\x01\\x011\\x01\\xfa\\x03\\xbf(\\xb5/\\xfd` \\xad\\xfd\\x03\\x92\\xc5\\x0f\\x1b\\xa0\\'\\xffi\\x0csUUUU_\\rUU\\xd57>o?\\xfe\\xd3\\x91m\\x19\\xf9\\x9f\\x9c\\xddR\\'\\x8c\\xad+\\xe6h\\xc9-\\xf7\\xe1\\xb4r\\x1a\\x1cq\\x05\\x1d\\xcd\"hx\\\\H\\xc8\\xd7\\xba\\x80\\x81\\x84\\xd5|q\\xce9\\x01\\x16\\x00\\x01\\x07\\xab\\x08\\xce\\\\\\x18\\xbdV\\xb0\\x06Hw\\xa82\\xb9\\x85\\xa2\\xda\\x9dqg\\xc6b\\xb9\\x0b*\\xe3\\xca\\xcct+\\x1e\\xb9\\x012/\\xe29\\xfa\\xa8\\xab`\\xc3]k\\x18@\\x02\\x00\\x03 \\x01\\x11\\x012\\x1f\\x1fint64\\x00\\n\\tprotobuf:\\x12\\x14syft.lib.python.Dict\\x1a\\x14\\x1a\\x12\\n\\x10\\xec_3\\x19\\x9c\\x95@\\xa1\\x9d<\\xe1\\xf85\\xe7\\xb6\\xfd\\x00\\x05\\x00\\x00\\x00\\x0e\\x00\\x00\\x00<\\x00\\x00\\x00\\x01\\x00\\x01\\x00\\x01\\x00\\x00\\x00j\\x03\\x00\\x00(\\xb5/\\xfd \\xd0%\\x03\\x002\\x85\\x0e\\x19\\xc0%\\xad\\x01\\xff\\xff\\xae\\xff\\xff7\\xfd\\xa67\\xc3@k\\x8b}s\\'\\t\\xd9k\\xef\\x14\\x83Qm\\x91\\x9f\\xb2\\xa2\\xf5\\xa8\\x0f\\xc0\\xd3\\t\\xc4DO15\\xcf\\x05Kyk\\xeb\\x90\\x18h\\xd1\\x0bww\\x01\\x10\\x00\\xb9\\x02\\x80!\\x8e\\x84\\x19_\\x9a;A\\xa8\\xd1;gF\\xdc\\x86LW\\xb7\\xe2\\x91\\x1b \\xf3\"\\x9f\\xa3\\x8f\\xba\\xb4\\x80\\x8f\\x01t\\x01\\x00\\x00\\x00\\xd0\\x00\\x00\\x00\\x00\\x00\\x00\\x00\\x01\\x00\\x00\\x002\\x00\\x00\\x00int64\\x00\\x00\\x00\\x05\\x00\\x00\\x00\\x0e\\x00\\x00\\x00X\\x00\\x00\\x00\\x01\\x00\\x01\\x00\\x01\\x00\\x00\\x00\\n\\x05\\x00\\x00(\\xb5/\\xfd`H\\x00\\xbd\\x04\\x00\\x92G\\x14\\x1e\\xb0\\xa99\\x0c\\xc3PaX\\xb4\\x94\\xa5\\x00|\\x15\\xec\\x96/\\xc1\\x8aW\\x00\\xdfM\\xfa\\x90\\x94\\x82\\x89L\\x01\\xffs\\xb0\\xc9|t\\x0f\\x19\\x1d\\x9b\\x89.$\\xb31\\xa2@<%\\xc2\\x15Tm\\xd5G\\xfd\\x14\\xbe|\\x01`[Ep\\xc9J\\xee\"\\xf4\\xeb\\xaa\\x06\\xa6\\x86k\\xfb\\xe4\\xbd\\xf7\\x02\\x1f\\x00``00\\x18\\x18\\x0c\\x0c\\x06\\x06\\x03\\x83\\x81\\xc1\\xc0``00\\x18\\x18\\x0c\\x0c\\x06\\x06\\x03U\\x06s\\xc9\\x026\\xb8Y:\\xd4\\xe5\\x9c\\xb1B\\x8d\\xde93\\xe26d\\xba\\xba\\x15\\x8f\\xdc\\x00\\x99\\x17\\xf9\\x1c}\\xd4\\xa5\\x05|\\x0c\\xa0\\x0b\\x00\\x00\\x00\\x00\\x00\\x00\\x00H\\x01\\x00\\x00\\x00\\x00\\x00\\x00\\x01\\x00\\x00\\x00:\\x00\\x00\\x00uint64\\x00\\x00\\n\\tprotobuf:\\x122syft.core.tensor.lazy_repeat_array.lazyrepeatarray\\x1a\\x9a\\x03\\n\\x04data\\n\\x05shape\\x12\\xa6\\x01\\n\\tprotobuf:\\x12\"syft.wrappers.numpy.ndarrayWrapper\\x1au\\ni(\\xb5/\\xfd \\xc8\\x05\\x03\\x00\\xb2\\xc4\\r\\x19\\xc0%\\xad\\x01\\xff\\xff\\xae\\xff\\xff7\\xfd\\xa67\\xc3\\x00\\xb9\\x8a}s\\'\\t\\xd9\\x8b\\xec\\x14\\x01Rm\\x9d\\xb2\\xa25!\\xc6\\xd3\\x05\\x82\\x89\\x9ebj\\xd6\\x01Kyk\\xeb\\x90x\\xb4\\xe8\\x83\\xbb\\xbb\\x10\\x009\\x0e@\\xe2N\\x0b3\\x164\\x87bg^hf\\x0c1K0n+\\x1e\\xb9\\x012/\\xf29\\xfa\\xa8K\\x0b\\xf8\\x18@\\x17\\x1a\\x05int64 \\xc8\\x01\\x12\\xad\\x01\\n\\tprotobuf:\\x12\\x15syft.lib.python.Tuple\\x1a\\x88\\x01\\n8\\n\\tprotobuf:\\x12\\x13syft.lib.python.Int\\x1a\\x16\\x08\\x02\\x12\\x12\\n\\x10T\\xdf\\xaa\\xb8S\\x99C\\xe5\\xbczQ>\\xc9\\x81\\xccF\\n8\\n\\tprotobuf:\\x12\\x13syft.lib.python.Int\\x1a\\x16\\x08\\x02\\x12\\x12\\n\\x10\\xe6\\x1aGK\\x83{CW\\x93k\\xda\\x8c\\x92\\x9d\\xf1\\x88\\x12\\x12\\n\\x10w\\xe4\\xd1\\x8f\\\\\\x92BQ\\x97)\\xbbw\\x9fH\\xab\\xeb\\x1a2syft.core.tensor.lazy_repeat_array.lazyrepeatarray\\x00\\x00\\x00\\x00\\n\\tprotobuf:\\x122syft.core.tensor.lazy_repeat_array.lazyrepeatarray\\x1a\\x9c\\x03\\n\\x04data\\n\\x05shape\\x12\\xa8\\x01\\n\\tprotobuf:\\x12\"syft.wrappers.numpy.ndarrayWrapper\\x1aw\\nk(\\xb5/\\xfd \\xc8\\x15\\x03\\x00r\\xc5\\x0e\\x1a\\xc0%\\xad\\x01\\xff\\xff\\xae\\xff\\xff7\\xfd\\xa67\\xc3@k\\x8b}s\\'\\t!\\x9b\\x90\\x9d\\x02\\x7f\\xe2\\x07\\xa4\\xda:eEkB\\x00O\\'\\x0c&z\\x8e\\xa9Y\\x17,\\xe5\\xad\\xadEc\\xa0E/\\xdc\\xdd\\x05\\x0f\\x00 q\\xa7\\x85\\x19\\x0b\\x9aC\\xb13/43\\x86\\x98%\\x18\\xb7\\x15\\x8f\\xdc\\x00\\x99\\x17\\xf9\\x1c}\\xd4\\xa5\\x05|\\x0c\\xa0\\x0b\\x1a\\x05int64 \\xc8\\x01\\x12\\xad\\x01\\n\\tprotobuf:\\x12\\x15syft.lib.python.Tuple\\x1a\\x88\\x01\\n8\\n\\tprotobuf:\\x12\\x13syft.lib.python.Int\\x1a\\x16\\x08\\x02\\x12\\x12\\n\\x10\\x87\\xb8i\\x96\\xc3lC~\\x98\\xc1\\xf6L\\x16$d\\xd6\\n8\\n\\tprotobuf:\\x12\\x13syft.lib.python.Int\\x1a\\x16\\x08\\x02\\x12\\x12\\n\\x10\\xdd\\x92\\xa7\\xc3\\xc7)Kj\\xa0J\\xce4\\x0c\\x17T\\xc3\\x12\\x12\\n\\x10\\xd4\\rL\\xba\\xfb\\xa4E\\xaa\\x8d\\x18\\xf3T\\x83\\x0c\\xfa\\x91\\x1a2syft.core.tensor.lazy_repeat_array.lazyrepeatarray\\x00\\x00265040210\\x00\\x00\\x00\\x00\\x00\\x00\\x00'"
      ]
     },
     "execution_count": 5,
     "metadata": {},
     "output_type": "execute_result"
    }
   ],
   "source": [
    "sy.serialize(val)"
   ]
  }
 ],
 "metadata": {
  "interpreter": {
   "hash": "630449982b6186a6531308cd76ed4d510e9db65154e43844c2906c6a20ad2a6d"
  },
  "kernelspec": {
   "display_name": "Python 3.9.4 64-bit ('python39-2vM0bQN-': pipenv)",
   "name": "python3"
  },
  "language_info": {
   "codemirror_mode": {
    "name": "ipython",
    "version": 3
   },
   "file_extension": ".py",
   "mimetype": "text/x-python",
   "name": "python",
   "nbconvert_exporter": "python",
   "pygments_lexer": "ipython3",
   "version": "3.9.4"
  }
 },
 "nbformat": 4,
 "nbformat_minor": 5
}

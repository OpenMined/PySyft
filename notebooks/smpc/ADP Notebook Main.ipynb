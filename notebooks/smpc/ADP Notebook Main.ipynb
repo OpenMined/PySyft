{
 "cells": [
  {
   "cell_type": "code",
   "execution_count": 17,
   "id": "67c2d127-c955-4313-b7d2-c584f037f85b",
   "metadata": {},
   "outputs": [
    {
     "name": "stdout",
     "output_type": "stream",
     "text": [
      "The autoreload extension is already loaded. To reload it, use:\n",
      "  %reload_ext autoreload\n"
     ]
    }
   ],
   "source": [
    "%load_ext autoreload\n",
    "%autoreload 2\n",
    "import syft as sy\n",
    "import numpy as np\n",
    "import pandas as pd\n",
    "from syft.core.adp.data_subject import DataSubject\n",
    "from syft.core.tensor.smpc.mpc_tensor import MPCTensor\n",
    "import time\n",
    "import uuid\n",
    "from syft.core.smpc.protocol.aby3 import ABY3\n",
    "import operator\n",
    "sy.logger.remove()"
   ]
  },
  {
   "cell_type": "code",
   "execution_count": 18,
   "id": "aa74bb27-e8aa-404b-a32f-cdff0c36390b",
   "metadata": {},
   "outputs": [
    {
     "name": "stdout",
     "output_type": "stream",
     "text": [
      "WARNING: CHANGE YOUR USERNAME AND PASSWORD!!! \n",
      "\n",
      "Anyone can login as an admin to your node right now because your password is still the default PySyft username and password!!!\n",
      "\n",
      "Connecting to localhost... done! \t Logging into canada... done!\n",
      "WARNING: CHANGE YOUR USERNAME AND PASSWORD!!! \n",
      "\n",
      "Anyone can login as an admin to your node right now because your password is still the default PySyft username and password!!!\n",
      "\n",
      "Connecting to localhost... done! \t Logging into italy... done!\n"
     ]
    }
   ],
   "source": [
    "DOMAIN1_PORT = 8081\n",
    "DOMAIN2_PORT = 8082\n",
    "p1 =  sy.login(email=\"info@openmined.org\",password=\"changethis\",port=DOMAIN1_PORT)\n",
    "p2 = sy.login(email=\"info@openmined.org\",password=\"changethis\",port=DOMAIN2_PORT)"
   ]
  },
  {
   "cell_type": "code",
   "execution_count": 28,
   "id": "61aef60e-249b-435d-bd42-83af7f13d780",
   "metadata": {},
   "outputs": [
    {
     "name": "stdout",
     "output_type": "stream",
     "text": [
      "WARNING: CHANGE YOUR USERNAME AND PASSWORD!!! \n",
      "\n",
      "Anyone can login as an admin to your node right now because your password is still the default PySyft username and password!!!\n",
      "\n",
      "Connecting to localhost... done! \t Logging into canada... done!\n"
     ]
    },
    {
     "name": "stderr",
     "output_type": "stream",
     "text": [
      "/tmp/ipykernel_413978/1670331652.py:3: DtypeWarning: Columns (14) have mixed types. Specify dtype option on import or set low_memory=False.\n",
      "  return pd.read_csv(f\"../trade_demo/datasets/{csv_file}\")[0:10]\n"
     ]
    },
    {
     "name": "stdout",
     "output_type": "stream",
     "text": [
      "Dataset is uploaded successfully !!! 🎉\n",
      "\n",
      "Run `<your client variable>.datasets` to see your new dataset loaded into your machine!\n",
      "WARNING: CHANGE YOUR USERNAME AND PASSWORD!!! \n",
      "\n",
      "Anyone can login as an admin to your node right now because your password is still the default PySyft username and password!!!\n",
      "\n",
      "Connecting to localhost... done! \t Logging into italy... done!\n",
      "Dataset is uploaded successfully !!! 🎉\n",
      "\n",
      "Run `<your client variable>.datasets` to see your new dataset loaded into your machine!\n"
     ]
    },
    {
     "name": "stderr",
     "output_type": "stream",
     "text": [
      "/tmp/ipykernel_413978/1670331652.py:3: DtypeWarning: Columns (14) have mixed types. Specify dtype option on import or set low_memory=False.\n",
      "  return pd.read_csv(f\"../trade_demo/datasets/{csv_file}\")[0:10]\n"
     ]
    }
   ],
   "source": [
    "ROOT_DIR = \"/home/azureuser/PySyft\"\n",
    "def load_data(csv_file: str) -> pd.DataFrame:\n",
    "    return pd.read_csv(f\"../trade_demo/datasets/{csv_file}\")[0:10]\n",
    "\n",
    "def get_user_details(unique_email: str) :\n",
    "    return {\n",
    "        \"name\": \"Sheldon Cooper\",\n",
    "        \"email\": unique_email,\n",
    "        \"password\": \"bazinga\",\n",
    "        \"budget\": 10,\n",
    "    }\n",
    "\n",
    "unique_email = f\"{uuid.uuid4()}@caltech.edu\"\n",
    "\n",
    "# Canada\n",
    "ca_root = sy.login(email=\"info@openmined.org\", password=\"changethis\", port=DOMAIN1_PORT)\n",
    "ca_data = load_data(csv_file=\"ca - feb 2021.csv\")\n",
    "\n",
    "data = np.array([[-1,2],[-3,4]])\n",
    "# canada_trade = (\n",
    "#     (np.array(list(ca_data[\"Trade Value (US$)\"])) / 1000)[0:10]\n",
    "# ).astype(np.int64)\n",
    "canada_trade = data\n",
    "trade_partners = ((list(ca_data[\"Partner\"])))[0:10]\n",
    "\n",
    "entities = list()\n",
    "for i in range(len(trade_partners)):\n",
    "    entities.append(DataSubject(name=trade_partners[i]))\n",
    "\n",
    "sampled_canada_dataset = sy.Tensor(canada_trade)\n",
    "sampled_canada_dataset.public_shape = sampled_canada_dataset.shape\n",
    "sampled_canada_dataset = sampled_canada_dataset.private(\n",
    "      0, 3, data_subjects=[entities[0].name]*canada_trade.shape[0]\n",
    ").tag(\"trade_flow\")\n",
    "\n",
    "# load dataset\n",
    "ca_root.load_dataset(\n",
    "    assets={\"Canada Trade\": sampled_canada_dataset},\n",
    "    name=\"Canada Trade Data - First few rows\",\n",
    "    description=(\n",
    "        \"A collection of reports from Canada's statistics bureau about how \"\n",
    "        + \"much it thinks it imports and exports from other countries.\"\n",
    "    ),\n",
    "    skip_checks=True,\n",
    "    \n",
    ")\n",
    "\n",
    "assert len(ca_root.datasets) > 0\n",
    "\n",
    "\n",
    "\n",
    "# Italy\n",
    "it_root = sy.login(email=\"info@openmined.org\", password=\"changethis\", port=DOMAIN2_PORT)\n",
    "it_data = load_data(csv_file=\"it - feb 2021.csv\")\n",
    "\n",
    "# italy_trade = ((np.array(list(it_data[\"Trade Value (US$)\"])) / 1000)[0:10]).astype(\n",
    "#     np.int64\n",
    "# )\n",
    "italy_trade = data\n",
    "trade_partners = ((list(it_data[\"Partner\"])))[0:10]\n",
    "\n",
    "entities = list()\n",
    "for i in range(len(trade_partners)):\n",
    "    entities.append(DataSubject(name=\"Other Asia, nes\"))\n",
    "\n",
    "# Upload a private dataset to the Domain object, as the root owner\n",
    "sampled_italy_dataset = sy.Tensor(italy_trade)\n",
    "sampled_italy_dataset.public_shape = sampled_italy_dataset.shape\n",
    "sampled_italy_dataset = sampled_italy_dataset.private(\n",
    "    0, 3, data_subjects=[entities[0].name]*canada_trade.shape[0]\n",
    ").tag(\"trade_flow\")\n",
    "\n",
    "it_root.load_dataset(\n",
    "    assets={\"Italy Trade\": sampled_italy_dataset},\n",
    "    name=\"Italy Trade Data - First few rows\",\n",
    "    description=(\n",
    "        \"A collection of reports from iStat's statistics bureau about how \"\n",
    "        + \"much it thinks it imports and exports from other countries.\"\n",
    "    ),\n",
    "    skip_checks=True,\n",
    "    \n",
    ")\n",
    "\n"
   ]
  },
  {
   "cell_type": "code",
   "execution_count": 20,
   "id": "dbbe2a27",
   "metadata": {},
   "outputs": [
    {
     "name": "stdout",
     "output_type": "stream",
     "text": [
      "9999999.0\n",
      "9999999.0\n"
     ]
    }
   ],
   "source": [
    "from syft.core.node.common.node_service.user_manager.user_messages import (\n",
    "    UpdateUserMessage,\n",
    ")\n",
    "\n",
    "# Upgrade admins budget\n",
    "content = {\"user_id\": 1, \"budget\": 9_999_999}\n",
    "p1._perform_grid_request(grid_msg=UpdateUserMessage, content=content)\n",
    "p2._perform_grid_request(grid_msg=UpdateUserMessage, content=content)\n",
    "\n",
    "print(p1.privacy_budget)\n",
    "print(p2.privacy_budget)"
   ]
  },
  {
   "cell_type": "code",
   "execution_count": 29,
   "id": "61a48e46-80d3-460d-b6de-5ccc46daf72b",
   "metadata": {
    "tags": []
   },
   "outputs": [],
   "source": [
    "x = p1.datasets[-1][\"Canada Trade\"]\n",
    "y = p2.datasets[-1][\"Italy Trade\"]"
   ]
  },
  {
   "cell_type": "code",
   "execution_count": 30,
   "id": "cab1feb4",
   "metadata": {},
   "outputs": [],
   "source": [
    "# working operations\n",
    "ops = [\"add\",\"sub\",\"mul\",\"matmul\",\"lt\",\"gt\",\"eq\",\"ne\",\"ge\",\"le\"]\n",
    "idx = 0 # points to the op\n",
    "op = getattr(operator,ops[idx])\n",
    "res = op(x,y)\n",
    "#For comparison increase the timeout\n",
    "res.block_with_timeout(10)\n",
    "val = res.get_copy()"
   ]
  },
  {
   "cell_type": "code",
   "execution_count": null,
   "id": "444ca3f2",
   "metadata": {},
   "outputs": [],
   "source": [
    "val == op(sampled_canada_dataset.decode(),sampled_italy_dataset.decode())"
   ]
  },
  {
   "cell_type": "code",
   "execution_count": 31,
   "id": "426515dc",
   "metadata": {},
   "outputs": [
    {
     "name": "stdout",
     "output_type": "stream",
     "text": [
      "[[-2.  4.]\n",
      " [-6.  8.]]\n",
      "[[-2.  4.]\n",
      " [-6.  8.]]\n"
     ]
    }
   ],
   "source": [
    "print(val) #FPT result\n",
    "print(op(sampled_canada_dataset.decode(),sampled_italy_dataset.decode())) #Acutal result"
   ]
  },
  {
   "cell_type": "code",
   "execution_count": null,
   "id": "275ef347",
   "metadata": {},
   "outputs": [],
   "source": [
    "# DEBUG CELL\n",
    "# print((sampled_canada_dataset).decode())\n",
    "# print((sampled_italy_dataset).decode())\n",
    "# print(op(sampled_canada_dataset.decode(),sampled_italy_dataset.decode()).round())\n",
    "# print(res.get_copy().round())\n"
   ]
  },
  {
   "cell_type": "code",
   "execution_count": null,
   "id": "93a79b31-f9fa-4f33-8718-ce29ed6ca44d",
   "metadata": {},
   "outputs": [],
   "source": [
    "p = res\n",
    "public_result = p.publish(sigma=1)"
   ]
  },
  {
   "cell_type": "code",
   "execution_count": null,
   "id": "f3755dd6-13d3-4df9-96f6-8e291b24cf7c",
   "metadata": {},
   "outputs": [],
   "source": [
    "pb_res = public_result.get_copy()"
   ]
  },
  {
   "cell_type": "code",
   "execution_count": null,
   "id": "8e6d2d59",
   "metadata": {},
   "outputs": [],
   "source": [
    "print(pb_res)\n",
    "print(p.get_copy())"
   ]
  },
  {
   "cell_type": "code",
   "execution_count": 32,
   "metadata": {},
   "outputs": [
    {
     "name": "stderr",
     "output_type": "stream",
     "text": [
      "Computing...: 100%|██████████| 64/64 [00:55<00:00,  1.16it/s]\n"
     ]
    }
   ],
   "source": [
    "v = res>0"
   ]
  },
  {
   "cell_type": "code",
   "execution_count": 34,
   "metadata": {},
   "outputs": [],
   "source": [
    "poovathal = res*v"
   ]
  },
  {
   "cell_type": "code",
   "execution_count": 35,
   "metadata": {},
   "outputs": [
    {
     "name": "stdout",
     "output_type": "stream",
     "text": [
      "[[0. 1.]\n",
      " [0. 1.]]\n",
      "[[0. 4.]\n",
      " [0. 8.]]\n"
     ]
    }
   ],
   "source": [
    "print(v.get_copy())\n",
    "print(poovathal.get_copy())"
   ]
  },
  {
   "cell_type": "code",
   "execution_count": null,
   "metadata": {},
   "outputs": [],
   "source": [
    "x = res * 10"
   ]
  },
  {
   "cell_type": "code",
   "execution_count": null,
   "id": "de806e56",
   "metadata": {},
   "outputs": [],
   "source": [
    "t1 = res<res"
   ]
  },
  {
   "cell_type": "code",
   "execution_count": null,
   "metadata": {},
   "outputs": [],
   "source": [
    "t2 = res*t1"
   ]
  },
  {
   "cell_type": "code",
   "execution_count": null,
   "metadata": {},
   "outputs": [],
   "source": [
    "print(t1.get_copy())\n",
    "print(res.get_copy())\n",
    "# t1.get_copy()*res.get_copy()"
   ]
  },
  {
   "cell_type": "code",
   "execution_count": null,
   "metadata": {},
   "outputs": [],
   "source": [
    "res.get_copy()"
   ]
  },
  {
   "cell_type": "code",
   "execution_count": null,
   "id": "983f5748-be7a-4270-80ea-dae37565fe22",
   "metadata": {},
   "outputs": [],
   "source": [
    "#Below are debug cells\n",
    "a=np.array([ -789925275 ,  798267317, -1708906764,  1806674886,  1165022425,   480477472,\n",
    "    54663083  ,  78462192,  -974424744, -1538872148],dtype=np.int32)\n",
    "b=np.array([  789925275,  -798266317 , 1708920764, -1806674886, -1165022425,  -480477472,\n",
    "   -54663083  , -78459192  , 974424744 , 1538872148],dtype=np.int32)"
   ]
  },
  {
   "cell_type": "code",
   "execution_count": null,
   "id": "1ade5fe6-e98e-462b-9364-219d55ce6444",
   "metadata": {},
   "outputs": [],
   "source": [
    "(a+b)/1000"
   ]
  },
  {
   "cell_type": "code",
   "execution_count": null,
   "id": "b6ff36cf",
   "metadata": {},
   "outputs": [],
   "source": [
    "sampled_canada_dataset.decode()"
   ]
  },
  {
   "cell_type": "code",
   "execution_count": null,
   "id": "d379aaf7",
   "metadata": {},
   "outputs": [],
   "source": [
    "a=np.array([-1362805391  ,1471796679 , 2126726498   ,874113086 , -532526475, -1815214451,\n",
    "  1602118491,  1561978677 , -970006488 ,  792178136],dtype=np.int32)\n",
    "\n",
    "b=np.array([ 1362805391, -1470796679 ,-2084726498  ,-874113086  , 532526475  ,1815214451,\n",
    " -1602118491 ,-1558978677 ,  970006488  ,-792178136],dtype=np.int32)\n"
   ]
  },
  {
   "cell_type": "code",
   "execution_count": null,
   "id": "a46e0ea4",
   "metadata": {},
   "outputs": [],
   "source": [
    "a= np.array([ 1300758168, -1917863768, -1667359440,  2060242384 ,  -49469704 ,-1556715208,\n",
    "   -95689592 ,   94451448 , -656120896, -1904153536],dtype=np.int32)\n",
    "\n",
    "b=np.array( [-1300758168 ,-1377103528  , 717686480, -2060242384,    49469704,  1556715208,\n",
    "    95689592, -1389418744 ,  656120896  ,1904153536],dtype=np.int32)"
   ]
  },
  {
   "cell_type": "code",
   "execution_count": null,
   "id": "cfb33553",
   "metadata": {},
   "outputs": [],
   "source": [
    "res.child[0].get_copy()+res.child[1].get_copy()"
   ]
  },
  {
   "cell_type": "code",
   "execution_count": null,
   "id": "cd9ac8a5",
   "metadata": {},
   "outputs": [],
   "source": [
    "def value(a):\n",
    "    v1 = a.child[0].get_copy()\n",
    "    v2 = a.child[1].get_copy()\n",
    "    v = v1+v2\n",
    "    return v.child"
   ]
  },
  {
   "cell_type": "code",
   "execution_count": null,
   "metadata": {},
   "outputs": [],
   "source": [
    "v1 = v.child[0].get_copy()\n",
    "v2 = v.child[1].get_copy()"
   ]
  },
  {
   "cell_type": "code",
   "execution_count": null,
   "metadata": {},
   "outputs": [],
   "source": [
    "t1 = v1.child.child.child.child\n",
    "t2 = v2.child.child.child.child"
   ]
  },
  {
   "cell_type": "code",
   "execution_count": null,
   "metadata": {},
   "outputs": [],
   "source": [
    "(t1+t2)/ ((2**16)**2)"
   ]
  },
  {
   "cell_type": "code",
   "execution_count": null,
   "metadata": {},
   "outputs": [],
   "source": [
    "print(t1)\n",
    "print(t2)"
   ]
  },
  {
   "cell_type": "code",
   "execution_count": null,
   "metadata": {},
   "outputs": [],
   "source": [
    "x1 = t1[0][0]\n",
    "x2 = t2[0][0]"
   ]
  },
  {
   "cell_type": "code",
   "execution_count": null,
   "metadata": {},
   "outputs": [],
   "source": [
    "(x1//2**16) + (x2//2**16)"
   ]
  },
  {
   "cell_type": "code",
   "execution_count": null,
   "metadata": {},
   "outputs": [],
   "source": [
    "x1//2**16"
   ]
  },
  {
   "cell_type": "code",
   "execution_count": null,
   "metadata": {},
   "outputs": [],
   "source": [
    "x2//2**16"
   ]
  },
  {
   "cell_type": "code",
   "execution_count": null,
   "metadata": {},
   "outputs": [],
   "source": [
    "x1//2**16"
   ]
  },
  {
   "cell_type": "code",
   "execution_count": null,
   "metadata": {},
   "outputs": [],
   "source": [
    "x2//2**16"
   ]
  },
  {
   "cell_type": "code",
   "execution_count": 36,
   "metadata": {},
   "outputs": [],
   "source": [
    "import torch"
   ]
  },
  {
   "cell_type": "code",
   "execution_count": 38,
   "metadata": {},
   "outputs": [],
   "source": [
    "w1 = torch.from_numpy(np.array([446545456455]))\n",
    "w2 = torch.from_numpy(np.array([446545456455]))"
   ]
  },
  {
   "cell_type": "code",
   "execution_count": 39,
   "metadata": {},
   "outputs": [
    {
     "name": "stdout",
     "output_type": "stream",
     "text": [
      "tensor([446545456455])\n",
      "tensor([6813743.])\n",
      "tensor([6813742])\n",
      "tensor([6813742])\n"
     ]
    },
    {
     "name": "stderr",
     "output_type": "stream",
     "text": [
      "/tmp/ipykernel_413978/1942687663.py:3: UserWarning: __floordiv__ is deprecated, and its behavior will change in a future version of pytorch. It currently rounds toward 0 (like the 'trunc' function NOT 'floor'). This results in incorrect rounding for negative values. To keep the current behavior, use torch.div(a, b, rounding_mode='trunc'), or for actual floor division, use torch.div(a, b, rounding_mode='floor').\n",
      "  print(w1//2**16)\n"
     ]
    }
   ],
   "source": [
    "print(w1)\n",
    "print(w1/2**16)\n",
    "print(w1//2**16)\n",
    "print(torch.div(w1,2**16,rounding_mode=\"trunc\"))"
   ]
  },
  {
   "cell_type": "code",
   "execution_count": null,
   "metadata": {},
   "outputs": [],
   "source": [
    "print(w2)\n",
    "print(w2/2**16)\n",
    "print(w2//2**16)"
   ]
  },
  {
   "cell_type": "code",
   "execution_count": null,
   "metadata": {},
   "outputs": [],
   "source": [
    "np.floor_divide(t1,2**16)"
   ]
  },
  {
   "cell_type": "code",
   "execution_count": null,
   "metadata": {},
   "outputs": [],
   "source": [
    "np.trunc(x1/2**16).astype(np.int64)"
   ]
  }
 ],
 "metadata": {
  "interpreter": {
   "hash": "630449982b6186a6531308cd76ed4d510e9db65154e43844c2906c6a20ad2a6d"
  },
  "kernelspec": {
   "display_name": "Python 3.9.4 64-bit ('python39-2vM0bQN-': pipenv)",
   "name": "python3"
  },
  "language_info": {
   "codemirror_mode": {
    "name": "ipython",
    "version": 3
   },
   "file_extension": ".py",
   "mimetype": "text/x-python",
   "name": "python",
   "nbconvert_exporter": "python",
   "pygments_lexer": "ipython3",
   "version": "3.9.4"
  }
 },
 "nbformat": 4,
 "nbformat_minor": 5
}

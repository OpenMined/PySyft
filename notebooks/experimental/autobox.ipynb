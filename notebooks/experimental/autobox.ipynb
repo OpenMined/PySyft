{
 "cells": [
  {
   "cell_type": "code",
   "execution_count": 1,
   "id": "82f0238e-eadc-4275-921b-269e6dc721bb",
   "metadata": {},
   "outputs": [],
   "source": [
    "# syft absolute\n",
    "import syft as sy\n",
    "from syft import UID"
   ]
  },
  {
   "cell_type": "code",
   "execution_count": 2,
   "id": "a7e29800-4758-458f-9d5f-73c472c7721e",
   "metadata": {},
   "outputs": [],
   "source": [
    "# we can generate a thin wrapper like action object but without the bloat\n",
    "# we synthesize a custom type so that it acts like the real type for 99.9999% of cases"
   ]
  },
  {
   "cell_type": "code",
   "execution_count": 3,
   "id": "d054eccb-069f-4446-9d16-d861f2fc8a5d",
   "metadata": {},
   "outputs": [],
   "source": [
    "# stdlib\n",
    "from typing import Any\n",
    "from typing import Generic\n",
    "from typing import TypeVar\n",
    "\n",
    "T = TypeVar(\"T\")\n",
    "\n",
    "\n",
    "class SyftAutoboxMeta(type):\n",
    "    def __call__(cls, value: T):\n",
    "        wrapped_type = type(value)\n",
    "        dynamic_class_name = f\"SyftAutobox[{wrapped_type.__name__}]\"\n",
    "\n",
    "        # Dynamically create a new class that inherits from the wrapped type only\n",
    "        DynamicWrapper = type(\n",
    "            f\"SyftAutobox{wrapped_type.__name__.capitalize()}\", (wrapped_type,), {}\n",
    "        )\n",
    "\n",
    "        class Wrapped(DynamicWrapper):\n",
    "            def __init__(self, value: Any, uid: UID | None = None):\n",
    "                self._syft_value = value\n",
    "                self._syft_uid = uid if uid is not None else UID()\n",
    "                super(DynamicWrapper, self).__init__()\n",
    "\n",
    "            def __getattribute__(self, name: str) -> Any:\n",
    "                # Bypass certain attrs to prevent recursion issues\n",
    "                if name.startswith(\"_syft\"):\n",
    "                    return object.__getattribute__(self, name)\n",
    "\n",
    "                return getattr(self._syft_value, name)\n",
    "\n",
    "            # these empty dunders are required\n",
    "            def __repr__(self):\n",
    "                return self.__repr__()\n",
    "\n",
    "            def __str__(self):\n",
    "                return self.__str__()\n",
    "\n",
    "            def __dir__(self):\n",
    "                return self.__dir__()\n",
    "\n",
    "        Wrapped.__name__ = dynamic_class_name\n",
    "        Wrapped.__qualname__ = dynamic_class_name\n",
    "        return Wrapped(value)\n",
    "\n",
    "\n",
    "class SyftAutobox(Generic[T], metaclass=SyftAutoboxMeta):\n",
    "    pass"
   ]
  },
  {
   "cell_type": "code",
   "execution_count": 4,
   "id": "7a1bab5e-9c5e-469a-9491-3015a14f217e",
   "metadata": {},
   "outputs": [],
   "source": [
    "# a vanilla string\n",
    "b = \"test\""
   ]
  },
  {
   "cell_type": "code",
   "execution_count": 5,
   "id": "8df3c4b7-e126-4190-8792-965688420bf6",
   "metadata": {},
   "outputs": [],
   "source": [
    "# a syft autoboxed string\n",
    "a = SyftAutobox(value=b)"
   ]
  },
  {
   "cell_type": "code",
   "execution_count": 6,
   "id": "bfa0a201-a78f-4a5a-ba42-bc4e29df3b3c",
   "metadata": {},
   "outputs": [
    {
     "data": {
      "text/plain": [
       "'test'"
      ]
     },
     "execution_count": 6,
     "metadata": {},
     "output_type": "execute_result"
    }
   ],
   "source": [
    "a"
   ]
  },
  {
   "cell_type": "code",
   "execution_count": 7,
   "id": "4fa8042e-2194-4335-a03e-d02a76897d44",
   "metadata": {},
   "outputs": [
    {
     "data": {
      "text/plain": [
       "(__main__.SyftAutobox[str], str)"
      ]
     },
     "execution_count": 7,
     "metadata": {},
     "output_type": "execute_result"
    }
   ],
   "source": [
    "# type is nice and clean\n",
    "type(a), type(b)"
   ]
  },
  {
   "cell_type": "code",
   "execution_count": 8,
   "id": "19c1b8f6-7f92-4324-a6f4-823bc274e507",
   "metadata": {},
   "outputs": [],
   "source": [
    "# passes isinstance check\n",
    "assert isinstance(a, str) and isinstance(b, str)"
   ]
  },
  {
   "cell_type": "code",
   "execution_count": 9,
   "id": "8f363c73-c5e9-4798-914d-01f4fb3db292",
   "metadata": {},
   "outputs": [],
   "source": [
    "# passes is subclass check\n",
    "assert issubclass(type(a), str) and issubclass(type(b), str)"
   ]
  },
  {
   "cell_type": "code",
   "execution_count": 10,
   "id": "6ac872db-ac50-4065-8104-924160aced88",
   "metadata": {},
   "outputs": [
    {
     "data": {
      "text/plain": [
       "[__main__.SyftAutobox[str], __main__.SyftAutoboxStr, str, object]"
      ]
     },
     "execution_count": 10,
     "metadata": {},
     "output_type": "execute_result"
    }
   ],
   "source": [
    "# we renamed one class so it looks nested\n",
    "type(a).mro()"
   ]
  },
  {
   "cell_type": "code",
   "execution_count": 11,
   "id": "84bd9200-bbea-4d7d-8286-99711521d432",
   "metadata": {},
   "outputs": [
    {
     "data": {
      "text/plain": [
       "[str, object]"
      ]
     },
     "execution_count": 11,
     "metadata": {},
     "output_type": "execute_result"
    }
   ],
   "source": [
    "type(b).mro()"
   ]
  },
  {
   "cell_type": "code",
   "execution_count": 12,
   "id": "88d405fb-fc42-4a97-aab5-126eb96d3bf0",
   "metadata": {},
   "outputs": [],
   "source": [
    "# lets try numpy"
   ]
  },
  {
   "cell_type": "code",
   "execution_count": 13,
   "id": "6567194d-995c-4f36-858f-0dd64915fe79",
   "metadata": {},
   "outputs": [
    {
     "name": "stdout",
     "output_type": "stream",
     "text": [
      "15\n"
     ]
    }
   ],
   "source": [
    "# third party\n",
    "import numpy as np\n",
    "\n",
    "# Create a numpy array\n",
    "arr = np.array([1, 2, 3, 4, 5])\n",
    "\n",
    "# Define a function that expects a numpy array\n",
    "\n",
    "\n",
    "def sum_array(arr: np.ndarray) -> int:\n",
    "    return np.sum(arr)\n",
    "\n",
    "\n",
    "# Test with a regular numpy array\n",
    "print(sum_array(arr))  # Should print 15"
   ]
  },
  {
   "cell_type": "code",
   "execution_count": 14,
   "id": "85fe179c-f64f-485a-9c0d-0216cd7b9d0b",
   "metadata": {},
   "outputs": [
    {
     "data": {
      "text/plain": [
       "array([1, 2, 3, 4, 5])"
      ]
     },
     "execution_count": 14,
     "metadata": {},
     "output_type": "execute_result"
    }
   ],
   "source": [
    "arr"
   ]
  },
  {
   "cell_type": "code",
   "execution_count": 15,
   "id": "0169ab0c-64fb-47c9-baf5-ab026b3f15d4",
   "metadata": {},
   "outputs": [],
   "source": [
    "# Wrap the numpy array\n",
    "wrapped_arr = SyftAutobox(arr)"
   ]
  },
  {
   "cell_type": "code",
   "execution_count": 16,
   "id": "0fe69d2d-7739-4de2-b91d-e20db776edc3",
   "metadata": {},
   "outputs": [
    {
     "data": {
      "text/plain": [
       "array([1, 2, 3, 4, 5])"
      ]
     },
     "execution_count": 16,
     "metadata": {},
     "output_type": "execute_result"
    }
   ],
   "source": [
    "wrapped_arr"
   ]
  },
  {
   "cell_type": "code",
   "execution_count": 17,
   "id": "da6ca13f-4243-4cb8-bdb8-b769839edd81",
   "metadata": {},
   "outputs": [
    {
     "data": {
      "text/plain": [
       "15"
      ]
     },
     "execution_count": 17,
     "metadata": {},
     "output_type": "execute_result"
    }
   ],
   "source": [
    "sum_array(wrapped_arr)"
   ]
  },
  {
   "cell_type": "code",
   "execution_count": 18,
   "id": "da64aec8-bb5e-4317-bb2a-d9685063cff8",
   "metadata": {},
   "outputs": [
    {
     "data": {
      "text/plain": [
       "<UID: f1bed246b5314d97b689ae76beacc037>"
      ]
     },
     "execution_count": 18,
     "metadata": {},
     "output_type": "execute_result"
    }
   ],
   "source": [
    "# nice\n",
    "wrapped_arr._syft_uid"
   ]
  },
  {
   "cell_type": "code",
   "execution_count": 19,
   "id": "4d50467d-dd7e-468e-a1ef-e7b03df7e0d0",
   "metadata": {},
   "outputs": [],
   "source": [
    "# third party\n",
    "# lets try some stuff which might break with ActionObject\n",
    "import numpy.ctypeslib as npct\n",
    "\n",
    "\n",
    "def to_ctypes(arr: np.ndarray):\n",
    "    return npct.as_ctypes(arr)"
   ]
  },
  {
   "cell_type": "code",
   "execution_count": 20,
   "id": "09da3f6f-1b89-4931-b972-9841f69a778c",
   "metadata": {},
   "outputs": [
    {
     "data": {
      "text/markdown": [
       "\n",
       "**Pointer**\n",
       "\n",
       "array([1, 2, 3, 4, 5])\n"
      ],
      "text/plain": [
       "Pointer:\n",
       "array([1, 2, 3, 4, 5])"
      ]
     },
     "execution_count": 20,
     "metadata": {},
     "output_type": "execute_result"
    }
   ],
   "source": [
    "action_arr = sy.ActionObject.from_obj(arr)\n",
    "action_arr"
   ]
  },
  {
   "cell_type": "code",
   "execution_count": 21,
   "id": "a890ec93-a6cb-49c3-997c-cf3b9c87dd8a",
   "metadata": {},
   "outputs": [
    {
     "name": "stdout",
     "output_type": "stream",
     "text": [
      "TypeError: Cannot interpret 'Pointer:\n",
      "'<i8'' as a data type\n"
     ]
    }
   ],
   "source": [
    "try:\n",
    "    print(to_ctypes(action_arr))  # This will raise an exception\n",
    "except TypeError as e:\n",
    "    print(f\"TypeError: {e}\")"
   ]
  },
  {
   "cell_type": "code",
   "execution_count": 22,
   "id": "b5c0c318-3f55-4094-8fde-6147569ad0a8",
   "metadata": {},
   "outputs": [
    {
     "name": "stdout",
     "output_type": "stream",
     "text": [
      "<c_long_Array_5 object at 0x29ac83350>\n"
     ]
    }
   ],
   "source": [
    "# works for raw numpy\n",
    "try:\n",
    "    print(to_ctypes(arr))  # This will raise an exception\n",
    "except TypeError as e:\n",
    "    print(f\"TypeError: {e}\")"
   ]
  },
  {
   "cell_type": "code",
   "execution_count": 23,
   "id": "32c9f3ac-4c56-43d7-a51e-ea4bb58710a0",
   "metadata": {},
   "outputs": [
    {
     "name": "stdout",
     "output_type": "stream",
     "text": [
      "<c_long_Array_5 object at 0x29ac811d0>\n"
     ]
    }
   ],
   "source": [
    "# works for autobox\n",
    "try:\n",
    "    print(to_ctypes(wrapped_arr))  # This will raise an exception\n",
    "except TypeError as e:\n",
    "    print(f\"TypeError: {e}\")"
   ]
  },
  {
   "cell_type": "code",
   "execution_count": null,
   "id": "c499de76-9422-46d3-abd4-cd1ad840e553",
   "metadata": {},
   "outputs": [],
   "source": []
  },
  {
   "cell_type": "code",
   "execution_count": 24,
   "id": "76011078-90df-4fb7-8bcd-202df682e6db",
   "metadata": {},
   "outputs": [],
   "source": [
    "# okay now what if we made this wrapper type capable of intelligently handling Results?"
   ]
  },
  {
   "cell_type": "code",
   "execution_count": 448,
   "id": "e887d864-fbaf-472e-bee6-007c324726a2",
   "metadata": {},
   "outputs": [],
   "source": [
    "# stdlib\n",
    "from typing import Generic\n",
    "from typing import TypeVar\n",
    "\n",
    "# syft absolute\n",
    "from syft import ActionObject\n",
    "\n",
    "T = TypeVar(\"T\")\n",
    "E = TypeVar(\"E\")\n",
    "\n",
    "\n",
    "class Ok(Generic[T]):\n",
    "    def __init__(self, value: T):\n",
    "        self.value = value\n",
    "\n",
    "\n",
    "class Err(Generic[E]):\n",
    "    def __init__(self, error: E):\n",
    "        self.error = error\n",
    "\n",
    "\n",
    "Result = Ok[T] | Err[E]\n",
    "\n",
    "error_allowed_attrs = [\"__class__\"]\n",
    "skip_attrs = [\"_internal_names_set\"]\n",
    "\n",
    "\n",
    "class SyftAutoboxMeta(type):\n",
    "    def __call__(cls, value: Result[T, E] | T):\n",
    "        if isinstance(value, Ok):\n",
    "            wrapped_value = value.value\n",
    "            is_error = False\n",
    "        elif isinstance(value, Err):\n",
    "            wrapped_value = value.error\n",
    "            is_error = True\n",
    "        else:\n",
    "            wrapped_value = value\n",
    "            is_error = False\n",
    "\n",
    "        uid = None\n",
    "        if isinstance(value, ActionObject):\n",
    "            wrapped_value = value.syft_action_data\n",
    "            uid = value.id\n",
    "\n",
    "        wrapped_type = type(wrapped_value)\n",
    "        dynamic_class_name = f\"SyftAutobox[{wrapped_type.__name__}]\"\n",
    "\n",
    "        # Dynamically create a new class that inherits from the wrapped type only\n",
    "        DynamicWrapper = type(\n",
    "            f\"SyftAutobox{wrapped_type.__name__.capitalize()}\", (wrapped_type,), {}\n",
    "        )\n",
    "\n",
    "        class Wrapped(DynamicWrapper):\n",
    "            def __init__(self, value: Any, uid: UID | None = None):\n",
    "                self._syft_value = value\n",
    "                self._syft_uid = uid if uid is not None else UID()\n",
    "                self._syft_is_error = is_error\n",
    "                super(DynamicWrapper, self).__init__()\n",
    "\n",
    "            def __getattribute__(self, name: str) -> Any:\n",
    "                # Bypass certain attrs to prevent recursion issues\n",
    "                if name.startswith(\"_syft\") or name in skip_attrs:\n",
    "                    return object.__getattribute__(self, name)\n",
    "\n",
    "                if self._syft_is_error and name not in error_allowed_attrs:\n",
    "                    raise Exception(\n",
    "                        f\"Cannot access attribute '{name}' on an Err result: {self._syft_value}\"\n",
    "                    )\n",
    "\n",
    "                return getattr(self._syft_value, name)\n",
    "\n",
    "            # def __getattr__(self, name: str) -> Any:\n",
    "            #     if name.startswith(\"_syft\") or name in skip_attrs:\n",
    "            #         return getattr(self, name)\n",
    "            #     return getattr(self._syft_value, name)\n",
    "\n",
    "            def __setattr__(self, name, value) -> None:\n",
    "                if name.startswith(\"_syft\"):\n",
    "                    object.__setattr__(self, name, value)\n",
    "                    return\n",
    "                setattr(self._syft_value, name, value)\n",
    "\n",
    "            # these empty dunders are required\n",
    "            def __repr__(self):\n",
    "                return self.__repr__()\n",
    "\n",
    "            def __str__(self):\n",
    "                return self.__str__()\n",
    "\n",
    "            def __dir__(self):\n",
    "                return self.__dir__()\n",
    "\n",
    "            def __getitem__(self, name):\n",
    "                return self.__getitem__(name)\n",
    "\n",
    "            def __setitem__(self, name, value):\n",
    "                return self.__setitem__(name, value)\n",
    "\n",
    "            def __array__(self):\n",
    "                return self.__array__()\n",
    "\n",
    "            def __len__(self):\n",
    "                return len(self._syft_value)\n",
    "\n",
    "            def __iter__(self):\n",
    "                return iter(self._syft_value)\n",
    "\n",
    "            def __contains__(self, item):\n",
    "                return item in self._syft_value\n",
    "\n",
    "            def __call__(self, *args, **kwargs):\n",
    "                return self(*args, **kwargs)\n",
    "\n",
    "            def __eq__(self, other):\n",
    "                return self == other\n",
    "\n",
    "            def __ne__(self, other):\n",
    "                return self != other\n",
    "\n",
    "            def __lt__(self, other):\n",
    "                return self < other\n",
    "\n",
    "            def __le__(self, other):\n",
    "                return self <= other\n",
    "\n",
    "            def __gt__(self, other):\n",
    "                return self > other\n",
    "\n",
    "            def __ge__(self, other):\n",
    "                return self >= other\n",
    "\n",
    "            def __add__(self, other):\n",
    "                return self + other\n",
    "\n",
    "            def __sub__(self, other):\n",
    "                return self - other\n",
    "\n",
    "            def __mul__(self, other):\n",
    "                return self * other\n",
    "\n",
    "            def __truediv__(self, other):\n",
    "                return self / other\n",
    "\n",
    "            def __floordiv__(self, other):\n",
    "                return self // other\n",
    "\n",
    "            def __mod__(self, other):\n",
    "                return self % other\n",
    "\n",
    "            def __pow__(self, other, modulo=None):\n",
    "                return pow(self._syft_value, other, modulo)\n",
    "\n",
    "            def __radd__(self, other):\n",
    "                return other + self._syft_value\n",
    "\n",
    "            def __rsub__(self, other):\n",
    "                return other - self._syft_value\n",
    "\n",
    "            def __rmul__(self, other):\n",
    "                return other * self._syft_value\n",
    "\n",
    "            def __rtruediv__(self, other):\n",
    "                return other / self._syft_value\n",
    "\n",
    "            def __rfloordiv__(self, other):\n",
    "                return other // self._syft_value\n",
    "\n",
    "            def __rmod__(self, other):\n",
    "                return other % self._syft_value\n",
    "\n",
    "            def __rpow__(self, other):\n",
    "                return pow(other, self._syft_value)\n",
    "\n",
    "            def __neg__(self):\n",
    "                return -self._syft_value\n",
    "\n",
    "            def __pos__(self):\n",
    "                return +self._syft_value\n",
    "\n",
    "            def __abs__(self):\n",
    "                return abs(self._syft_value)\n",
    "\n",
    "            def __invert__(self):\n",
    "                return ~self._syft_value\n",
    "\n",
    "            def __and__(self, other):\n",
    "                return self & other\n",
    "\n",
    "            def __or__(self, other):\n",
    "                return self | other\n",
    "\n",
    "            def __xor__(self, other):\n",
    "                return self ^ other\n",
    "\n",
    "            def __lshift__(self, other):\n",
    "                return self << other\n",
    "\n",
    "            def __rshift__(self, other):\n",
    "                return self >> other\n",
    "\n",
    "            def __rand__(self, other):\n",
    "                return other & self\n",
    "\n",
    "            def __ror__(self, other):\n",
    "                return other | self\n",
    "\n",
    "            def __rxor__(self, other):\n",
    "                return other ^ self\n",
    "\n",
    "            def __rlshift__(self, other):\n",
    "                return other << self\n",
    "\n",
    "            def __rrshift__(self, other):\n",
    "                return other >> self\n",
    "\n",
    "        Wrapped.__name__ = dynamic_class_name\n",
    "        Wrapped.__qualname__ = dynamic_class_name\n",
    "        obj = Wrapped(wrapped_value)\n",
    "        if uid:\n",
    "            obj._syft_uid = uid\n",
    "        return obj\n",
    "\n",
    "\n",
    "class SyftAutobox(Generic[T], metaclass=SyftAutoboxMeta):\n",
    "    pass"
   ]
  },
  {
   "cell_type": "code",
   "execution_count": 449,
   "id": "bbc142d4-2c34-4166-a975-adf6cee3a16d",
   "metadata": {},
   "outputs": [
    {
     "name": "stdout",
     "output_type": "stream",
     "text": [
      "42\n"
     ]
    }
   ],
   "source": [
    "# now we can freely return T or Result[T] and its the same\n",
    "ok_value = SyftAutobox(Ok(42))\n",
    "print(ok_value)  # Should print 42"
   ]
  },
  {
   "cell_type": "code",
   "execution_count": 450,
   "id": "31b73648-c5d2-46d3-8dbf-69d52b32c9da",
   "metadata": {},
   "outputs": [
    {
     "data": {
      "text/plain": [
       "__main__.SyftAutobox[int]"
      ]
     },
     "execution_count": 450,
     "metadata": {},
     "output_type": "execute_result"
    }
   ],
   "source": [
    "type(ok_value)"
   ]
  },
  {
   "cell_type": "code",
   "execution_count": 451,
   "id": "013aad67-0485-4168-803d-b6b43433d01f",
   "metadata": {},
   "outputs": [
    {
     "data": {
      "text/plain": [
       "True"
      ]
     },
     "execution_count": 451,
     "metadata": {},
     "output_type": "execute_result"
    }
   ],
   "source": [
    "isinstance(ok_value, int)"
   ]
  },
  {
   "cell_type": "code",
   "execution_count": null,
   "id": "257692d5-700c-45b7-adfd-664bfbf00114",
   "metadata": {},
   "outputs": [],
   "source": []
  },
  {
   "cell_type": "code",
   "execution_count": 452,
   "id": "5e8f56a9-55f5-48bd-a278-ed908d8b08fc",
   "metadata": {},
   "outputs": [
    {
     "ename": "RecursionError",
     "evalue": "maximum recursion depth exceeded",
     "output_type": "error",
     "traceback": [
      "\u001b[0;31m--------------------------------------------------------------------------\u001b[0m",
      "\u001b[0;31mRecursionError\u001b[0m                           Traceback (most recent call last)",
      "Cell \u001b[0;32mIn[452], line 2\u001b[0m\n\u001b[1;32m      1\u001b[0m \u001b[38;5;66;03m# can perform addition, and can probably autowrap if we go and implement the __ like in actionobj\u001b[39;00m\n\u001b[0;32m----> 2\u001b[0m b \u001b[38;5;241m=\u001b[39m \u001b[43mok_value\u001b[49m\u001b[43m \u001b[49m\u001b[38;5;241;43m+\u001b[39;49m\u001b[43m \u001b[49m\u001b[38;5;241;43m1\u001b[39;49m\n\u001b[1;32m      3\u001b[0m \u001b[38;5;28mtype\u001b[39m(b)\n",
      "Cell \u001b[0;32mIn[448], line 131\u001b[0m, in \u001b[0;36mSyftAutoboxMeta.__call__.<locals>.Wrapped.__add__\u001b[0;34m(self, other)\u001b[0m\n\u001b[1;32m    130\u001b[0m \u001b[38;5;28;01mdef\u001b[39;00m \u001b[38;5;21m__add__\u001b[39m(\u001b[38;5;28mself\u001b[39m, other):\n\u001b[0;32m--> 131\u001b[0m     \u001b[38;5;28;01mreturn\u001b[39;00m \u001b[38;5;28;43mself\u001b[39;49m\u001b[43m \u001b[49m\u001b[38;5;241;43m+\u001b[39;49m\u001b[43m \u001b[49m\u001b[43mother\u001b[49m\n",
      "Cell \u001b[0;32mIn[448], line 131\u001b[0m, in \u001b[0;36mSyftAutoboxMeta.__call__.<locals>.Wrapped.__add__\u001b[0;34m(self, other)\u001b[0m\n\u001b[1;32m    130\u001b[0m \u001b[38;5;28;01mdef\u001b[39;00m \u001b[38;5;21m__add__\u001b[39m(\u001b[38;5;28mself\u001b[39m, other):\n\u001b[0;32m--> 131\u001b[0m     \u001b[38;5;28;01mreturn\u001b[39;00m \u001b[38;5;28;43mself\u001b[39;49m\u001b[43m \u001b[49m\u001b[38;5;241;43m+\u001b[39;49m\u001b[43m \u001b[49m\u001b[43mother\u001b[49m\n",
      "    \u001b[0;31m[... skipping similar frames: SyftAutoboxMeta.__call__.<locals>.Wrapped.__add__ at line 131 (739 times)]\u001b[0m\n",
      "Cell \u001b[0;32mIn[448], line 131\u001b[0m, in \u001b[0;36mSyftAutoboxMeta.__call__.<locals>.Wrapped.__add__\u001b[0;34m(self, other)\u001b[0m\n\u001b[1;32m    130\u001b[0m \u001b[38;5;28;01mdef\u001b[39;00m \u001b[38;5;21m__add__\u001b[39m(\u001b[38;5;28mself\u001b[39m, other):\n\u001b[0;32m--> 131\u001b[0m     \u001b[38;5;28;01mreturn\u001b[39;00m \u001b[38;5;28;43mself\u001b[39;49m\u001b[43m \u001b[49m\u001b[38;5;241;43m+\u001b[39;49m\u001b[43m \u001b[49m\u001b[43mother\u001b[49m\n",
      "\u001b[0;31mRecursionError\u001b[0m: maximum recursion depth exceeded"
     ]
    }
   ],
   "source": [
    "# can perform addition, and can probably autowrap if we go and implement the __ like in actionobj\n",
    "b = ok_value + 1\n",
    "type(b)"
   ]
  },
  {
   "cell_type": "code",
   "execution_count": null,
   "id": "f5249b61-3e28-4823-b0cf-30bc1a547b8a",
   "metadata": {},
   "outputs": [],
   "source": [
    "# what about an error"
   ]
  },
  {
   "cell_type": "code",
   "execution_count": null,
   "id": "520f2c51-e099-4ce3-8ccd-33e9748bd8b1",
   "metadata": {},
   "outputs": [],
   "source": [
    "# s = sy.SyftError(message=\"Some Error\")"
   ]
  },
  {
   "cell_type": "code",
   "execution_count": null,
   "id": "7377c908-ab10-48c2-887d-a71da26deb78",
   "metadata": {},
   "outputs": [],
   "source": [
    "try:\n",
    "    err_value = SyftAutobox(Err(\"Some Error\"))\n",
    "    print(err_value.upper())  # This should raise an exception\n",
    "except Exception as e:\n",
    "    print(e)  # Should raise an exception with the error message"
   ]
  },
  {
   "cell_type": "code",
   "execution_count": 453,
   "id": "2b79e0f9-78d1-4101-bee2-96b176dadb93",
   "metadata": {},
   "outputs": [
    {
     "ename": "Exception",
     "evalue": "Cannot access attribute 'upper' on an Err result: [1 2 3 4 5]",
     "output_type": "error",
     "traceback": [
      "\u001b[0;31m--------------------------------------------------------------------------\u001b[0m",
      "\u001b[0;31mException\u001b[0m                                Traceback (most recent call last)",
      "Cell \u001b[0;32mIn[453], line 2\u001b[0m\n\u001b[1;32m      1\u001b[0m \u001b[38;5;66;03m# even though its got a string inside it should raise exceptions\u001b[39;00m\n\u001b[0;32m----> 2\u001b[0m \u001b[43merr_value\u001b[49m\u001b[38;5;241;43m.\u001b[39;49m\u001b[43mupper\u001b[49m()\n",
      "Cell \u001b[0;32mIn[397], line 58\u001b[0m, in \u001b[0;36mSyftAutoboxMeta.__call__.<locals>.Wrapped.__getattribute__\u001b[0;34m(self, name)\u001b[0m\n\u001b[1;32m     55\u001b[0m     \u001b[38;5;28;01mreturn\u001b[39;00m \u001b[38;5;28mobject\u001b[39m\u001b[38;5;241m.\u001b[39m\u001b[38;5;21m__getattribute__\u001b[39m(\u001b[38;5;28mself\u001b[39m, name)\n\u001b[1;32m     57\u001b[0m \u001b[38;5;28;01mif\u001b[39;00m \u001b[38;5;28mself\u001b[39m\u001b[38;5;241m.\u001b[39m_syft_is_error \u001b[38;5;129;01mand\u001b[39;00m name \u001b[38;5;129;01mnot\u001b[39;00m \u001b[38;5;129;01min\u001b[39;00m error_allowed_attrs:\n\u001b[0;32m---> 58\u001b[0m     \u001b[38;5;28;01mraise\u001b[39;00m \u001b[38;5;167;01mException\u001b[39;00m(\n\u001b[1;32m     59\u001b[0m         \u001b[38;5;124mf\u001b[39m\u001b[38;5;124m\"\u001b[39m\u001b[38;5;124mCannot access attribute \u001b[39m\u001b[38;5;124m'\u001b[39m\u001b[38;5;132;01m{\u001b[39;00mname\u001b[38;5;132;01m}\u001b[39;00m\u001b[38;5;124m'\u001b[39m\u001b[38;5;124m on an Err result: \u001b[39m\u001b[38;5;132;01m{\u001b[39;00m\u001b[38;5;28mself\u001b[39m\u001b[38;5;241m.\u001b[39m_syft_value\u001b[38;5;132;01m}\u001b[39;00m\u001b[38;5;124m\"\u001b[39m\n\u001b[1;32m     60\u001b[0m     )\n\u001b[1;32m     62\u001b[0m \u001b[38;5;28;01mreturn\u001b[39;00m \u001b[38;5;28mgetattr\u001b[39m(\u001b[38;5;28mself\u001b[39m\u001b[38;5;241m.\u001b[39m_syft_value, name)\n",
      "\u001b[0;31mException\u001b[0m: Cannot access attribute 'upper' on an Err result: [1 2 3 4 5]"
     ]
    }
   ],
   "source": [
    "# even though its got a string inside it should raise exceptions\n",
    "err_value.upper()"
   ]
  },
  {
   "cell_type": "code",
   "execution_count": 454,
   "id": "2af2e46a-4891-4490-b230-8132ea30813e",
   "metadata": {},
   "outputs": [],
   "source": [
    "# we can choose to raise exceptions when accessing error types however we like"
   ]
  },
  {
   "cell_type": "code",
   "execution_count": 455,
   "id": "90c06f4a-d91c-4efb-bd8f-1aff40511b53",
   "metadata": {},
   "outputs": [
    {
     "name": "stdout",
     "output_type": "stream",
     "text": [
      "Cannot access attribute 'dtype' on an Err result: [1 2 3 4 5]\n"
     ]
    }
   ],
   "source": [
    "try:\n",
    "    err_value = SyftAutobox(Err(arr))\n",
    "    print(err_value.dtype)  # This should raise an exception\n",
    "except Exception as e:\n",
    "    print(e)  # Should raise an exception with the error message"
   ]
  },
  {
   "cell_type": "code",
   "execution_count": null,
   "id": "36d5edae-6531-43f5-8f90-5aee6bc6e2fd",
   "metadata": {},
   "outputs": [],
   "source": []
  },
  {
   "cell_type": "code",
   "execution_count": 456,
   "id": "00f7f50c-66b6-4f0d-9f60-86b04ae22917",
   "metadata": {},
   "outputs": [],
   "source": [
    "# rationale\n",
    "# better than ActionObject already, as it passes more C code checks etc\n",
    "# allows us to add some Result / Future functionality ONTOP of this type as desired\n",
    "# allows a UID for linkage at all times\n",
    "# solves issue of returning a Result[T, E] vs T raises Exception theres no difference when you autobox\n",
    "# raises exceptions if we want it to"
   ]
  },
  {
   "cell_type": "code",
   "execution_count": null,
   "id": "17b8e88e-dbe2-496e-9cd5-9ee4e87881cc",
   "metadata": {},
   "outputs": [],
   "source": []
  },
  {
   "cell_type": "code",
   "execution_count": 457,
   "id": "d15cccd9-244b-4401-b13f-b7bf1454bfc1",
   "metadata": {},
   "outputs": [],
   "source": [
    "# TODO:\n",
    "# autowrap results of infix operators\n",
    "# raise exceptions on infix operators if its an Exception type\n",
    "# make exception raising optional\n",
    "# add is_ok, is_err, type methods to the Autobox\n",
    "# add ._syft_ready, .is_ready\n",
    "# Future\n",
    "# __getattr__ -> self._syft_value\n",
    "# check if its been longer than 1 second\n",
    "# if name of getattr not in special ._syft_ready, .is_ready\n",
    "# call server for update and then replace self._syft_value with real value\n",
    "\n",
    "# obj.sum() <---"
   ]
  },
  {
   "cell_type": "code",
   "execution_count": null,
   "id": "a579dbc1-959c-4dad-b7ea-bcdbeb2fba41",
   "metadata": {},
   "outputs": [],
   "source": []
  },
  {
   "cell_type": "code",
   "execution_count": 458,
   "id": "c2a0c124-373f-4dfa-b8e1-db0b684dfd8c",
   "metadata": {},
   "outputs": [],
   "source": [
    "# method -> T, Exception\n",
    "# method_async -> Result[T, Error]"
   ]
  },
  {
   "cell_type": "code",
   "execution_count": 459,
   "id": "efc86834-a085-4074-934b-52288a6c22bf",
   "metadata": {},
   "outputs": [],
   "source": [
    "# method -> Autobox[T, SyftErr[Message, Exception]]\n",
    "\n",
    "# TBD\n",
    "# method_async -> Autobox[Future[T, Exception], SyftErr[Message, Exception]]"
   ]
  },
  {
   "cell_type": "code",
   "execution_count": 460,
   "id": "4e6a9d31-bb6a-4806-aa4a-33be8c747a91",
   "metadata": {},
   "outputs": [],
   "source": [
    "# third party\n",
    "import pandas as pd"
   ]
  },
  {
   "cell_type": "code",
   "execution_count": 461,
   "id": "1a5a28fa-ac69-4897-94f0-36ea5e60ce1d",
   "metadata": {},
   "outputs": [],
   "source": [
    "data = {\n",
    "    \"Name\": [\"Alice\", \"Bob\", \"Charlie\"],\n",
    "    \"Age\": [25, 30, 35],\n",
    "    \"City\": [\"New York\", \"Los Angeles\", \"Chicago\"],\n",
    "}"
   ]
  },
  {
   "cell_type": "code",
   "execution_count": 462,
   "id": "6457c526-671e-4f9e-8940-21e8208087b9",
   "metadata": {},
   "outputs": [
    {
     "data": {
      "text/html": [
       "<div>\n",
       "<style scoped>\n",
       "    .dataframe tbody tr th:only-of-type {\n",
       "        vertical-align: middle;\n",
       "    }\n",
       "\n",
       "    .dataframe tbody tr th {\n",
       "        vertical-align: top;\n",
       "    }\n",
       "\n",
       "    .dataframe thead th {\n",
       "        text-align: right;\n",
       "    }\n",
       "</style>\n",
       "<table border=\"1\" class=\"dataframe\">\n",
       "  <thead>\n",
       "    <tr style=\"text-align: right;\">\n",
       "      <th></th>\n",
       "      <th>Name</th>\n",
       "      <th>Age</th>\n",
       "      <th>City</th>\n",
       "    </tr>\n",
       "  </thead>\n",
       "  <tbody>\n",
       "    <tr>\n",
       "      <th>0</th>\n",
       "      <td>Alice</td>\n",
       "      <td>25</td>\n",
       "      <td>New York</td>\n",
       "    </tr>\n",
       "    <tr>\n",
       "      <th>1</th>\n",
       "      <td>Bob</td>\n",
       "      <td>30</td>\n",
       "      <td>Los Angeles</td>\n",
       "    </tr>\n",
       "    <tr>\n",
       "      <th>2</th>\n",
       "      <td>Charlie</td>\n",
       "      <td>35</td>\n",
       "      <td>Chicago</td>\n",
       "    </tr>\n",
       "  </tbody>\n",
       "</table>\n",
       "</div>"
      ],
      "text/plain": [
       "      Name  Age         City\n",
       "0    Alice   25     New York\n",
       "1      Bob   30  Los Angeles\n",
       "2  Charlie   35      Chicago"
      ]
     },
     "execution_count": 462,
     "metadata": {},
     "output_type": "execute_result"
    }
   ],
   "source": [
    "df = pd.DataFrame(data)\n",
    "df"
   ]
  },
  {
   "cell_type": "code",
   "execution_count": 463,
   "id": "c8001237-184b-4496-971f-9bd6fc50a546",
   "metadata": {},
   "outputs": [
    {
     "data": {
      "text/markdown": [
       "\n",
       "**Pointer**\n",
       "\n",
       "{'Name': ['Alice', 'Bob', 'Charlie'], 'Age': [25, 30, 35], 'City': ['New York', 'Los Angeles', 'Chicago']}\n"
      ],
      "text/plain": [
       "Pointer:\n",
       "{'Name': ['Alice', 'Bob', 'Charlie'], 'Age': [25, 30, 35], 'City': ['New York', 'Los Angeles', 'Chicago']}"
      ]
     },
     "execution_count": 463,
     "metadata": {},
     "output_type": "execute_result"
    }
   ],
   "source": [
    "d = sy.ActionObject.from_obj(data)\n",
    "d"
   ]
  },
  {
   "cell_type": "code",
   "execution_count": 464,
   "id": "d64f7992-297d-49e6-a320-48f4b6d4413a",
   "metadata": {},
   "outputs": [
    {
     "data": {
      "text/html": [
       "<div>\n",
       "<style scoped>\n",
       "    .dataframe tbody tr th:only-of-type {\n",
       "        vertical-align: middle;\n",
       "    }\n",
       "\n",
       "    .dataframe tbody tr th {\n",
       "        vertical-align: top;\n",
       "    }\n",
       "\n",
       "    .dataframe thead th {\n",
       "        text-align: right;\n",
       "    }\n",
       "</style>\n",
       "<table border=\"1\" class=\"dataframe\">\n",
       "  <thead>\n",
       "    <tr style=\"text-align: right;\">\n",
       "      <th></th>\n",
       "      <th>0</th>\n",
       "      <th>1</th>\n",
       "      <th>2</th>\n",
       "      <th>3</th>\n",
       "    </tr>\n",
       "  </thead>\n",
       "  <tbody>\n",
       "    <tr>\n",
       "      <th>0</th>\n",
       "      <td>(((N)))</td>\n",
       "      <td>(((a)))</td>\n",
       "      <td>(((m)))</td>\n",
       "      <td>(((e)))</td>\n",
       "    </tr>\n",
       "    <tr>\n",
       "      <th>1</th>\n",
       "      <td>(((A)))</td>\n",
       "      <td>(((g)))</td>\n",
       "      <td>(((e)))</td>\n",
       "      <td>None</td>\n",
       "    </tr>\n",
       "    <tr>\n",
       "      <th>2</th>\n",
       "      <td>(((C)))</td>\n",
       "      <td>(((i)))</td>\n",
       "      <td>(((t)))</td>\n",
       "      <td>(((y)))</td>\n",
       "    </tr>\n",
       "  </tbody>\n",
       "</table>\n",
       "</div>"
      ],
      "text/plain": [
       "         0        1        2        3\n",
       "0  (((N)))  (((a)))  (((m)))  (((e)))\n",
       "1  (((A)))  (((g)))  (((e)))     None\n",
       "2  (((C)))  (((i)))  (((t)))  (((y)))"
      ]
     },
     "execution_count": 464,
     "metadata": {},
     "output_type": "execute_result"
    }
   ],
   "source": [
    "df2 = pd.DataFrame(d)\n",
    "df2"
   ]
  },
  {
   "cell_type": "code",
   "execution_count": null,
   "id": "e1fc6a69-d5c6-4514-985d-8caaa8bbc965",
   "metadata": {},
   "outputs": [],
   "source": []
  },
  {
   "cell_type": "code",
   "execution_count": 465,
   "id": "59f81762-63a5-4030-929e-333a46c27f2e",
   "metadata": {},
   "outputs": [],
   "source": [
    "# stdlib"
   ]
  },
  {
   "cell_type": "code",
   "execution_count": 466,
   "id": "b2c0afb1-8850-481d-bd77-7360ad7173b2",
   "metadata": {},
   "outputs": [],
   "source": [
    "# class PandasSyftAutobox(SyftAutobox):\n",
    "#     def __dataframe__(self, *args: Any, **kwargs: Any) -> Any:\n",
    "#         return self.__dataframe__(*args, **kwargs)\n",
    "\n",
    "#     def __getattribute__(self, name: str) -> Any:\n",
    "#         if self._syft_is_property(self, name):\n",
    "#             return getattr(self._syft_value, name)\n",
    "#         return super().__getattribute__(name)\n",
    "\n",
    "#     def _syft_get_property(self, obj: Any, method: str) -> Any:\n",
    "#         return getattr(self._syft_value, method)\n",
    "\n",
    "#     def _syft_is_property(self, obj: Any, method: str) -> bool:\n",
    "#         cols = self._syft_value.columns.values.tolist()\n",
    "#         if method in cols:\n",
    "#             return True\n",
    "\n",
    "#         klass_method = getattr(type(obj), method, None)\n",
    "#         return isinstance(klass_method, property) or inspect.isdatadescriptor(\n",
    "#             klass_method\n",
    "#         )\n",
    "\n",
    "#     def __bool__(self) -> bool:\n",
    "#         return bool(self._syft_value)"
   ]
  },
  {
   "cell_type": "code",
   "execution_count": 467,
   "id": "5318e245-59fc-492d-98f3-2ea0c201d4d4",
   "metadata": {},
   "outputs": [
    {
     "data": {
      "text/html": [
       "<div>\n",
       "<style scoped>\n",
       "    .dataframe tbody tr th:only-of-type {\n",
       "        vertical-align: middle;\n",
       "    }\n",
       "\n",
       "    .dataframe tbody tr th {\n",
       "        vertical-align: top;\n",
       "    }\n",
       "\n",
       "    .dataframe thead th {\n",
       "        text-align: right;\n",
       "    }\n",
       "</style>\n",
       "<table border=\"1\" class=\"dataframe\">\n",
       "  <thead>\n",
       "    <tr style=\"text-align: right;\">\n",
       "      <th></th>\n",
       "      <th>Name</th>\n",
       "      <th>Age</th>\n",
       "      <th>City</th>\n",
       "    </tr>\n",
       "  </thead>\n",
       "  <tbody>\n",
       "    <tr>\n",
       "      <th>0</th>\n",
       "      <td>Alice</td>\n",
       "      <td>25</td>\n",
       "      <td>New York</td>\n",
       "    </tr>\n",
       "    <tr>\n",
       "      <th>1</th>\n",
       "      <td>Bob</td>\n",
       "      <td>30</td>\n",
       "      <td>Los Angeles</td>\n",
       "    </tr>\n",
       "    <tr>\n",
       "      <th>2</th>\n",
       "      <td>Charlie</td>\n",
       "      <td>35</td>\n",
       "      <td>Chicago</td>\n",
       "    </tr>\n",
       "  </tbody>\n",
       "</table>\n",
       "</div>"
      ],
      "text/plain": [
       "      Name  Age         City\n",
       "0    Alice   25     New York\n",
       "1      Bob   30  Los Angeles\n",
       "2  Charlie   35      Chicago"
      ]
     },
     "execution_count": 467,
     "metadata": {},
     "output_type": "execute_result"
    }
   ],
   "source": [
    "df = pd.DataFrame(data)\n",
    "df"
   ]
  },
  {
   "cell_type": "code",
   "execution_count": 468,
   "id": "ed8498ec-b6fd-462f-8d9c-cbbd8209e6fe",
   "metadata": {},
   "outputs": [],
   "source": [
    "auto_dict = SyftAutobox(data)"
   ]
  },
  {
   "cell_type": "code",
   "execution_count": 469,
   "id": "ac88fbfc-ea68-4d23-b6d3-4d936da9c502",
   "metadata": {},
   "outputs": [
    {
     "data": {
      "text/plain": [
       "__main__.SyftAutobox[dict]"
      ]
     },
     "execution_count": 469,
     "metadata": {},
     "output_type": "execute_result"
    }
   ],
   "source": [
    "type(auto_dict)"
   ]
  },
  {
   "cell_type": "code",
   "execution_count": 470,
   "id": "ca60008e-cd1c-4b07-aece-576ef9406453",
   "metadata": {},
   "outputs": [
    {
     "data": {
      "text/plain": [
       "{'Name': ['Alice', 'Bob', 'Charlie'],\n",
       " 'Age': [25, 30, 35],\n",
       " 'City': ['New York', 'Los Angeles', 'Chicago']}"
      ]
     },
     "execution_count": 470,
     "metadata": {},
     "output_type": "execute_result"
    }
   ],
   "source": [
    "auto_dict"
   ]
  },
  {
   "cell_type": "code",
   "execution_count": 471,
   "id": "91f68329-92eb-42d5-91e0-6108e264e6e7",
   "metadata": {},
   "outputs": [
    {
     "data": {
      "text/html": [
       "<div>\n",
       "<style scoped>\n",
       "    .dataframe tbody tr th:only-of-type {\n",
       "        vertical-align: middle;\n",
       "    }\n",
       "\n",
       "    .dataframe tbody tr th {\n",
       "        vertical-align: top;\n",
       "    }\n",
       "\n",
       "    .dataframe thead th {\n",
       "        text-align: right;\n",
       "    }\n",
       "</style>\n",
       "<table border=\"1\" class=\"dataframe\">\n",
       "  <thead>\n",
       "    <tr style=\"text-align: right;\">\n",
       "      <th></th>\n",
       "      <th>Name</th>\n",
       "      <th>Age</th>\n",
       "      <th>City</th>\n",
       "    </tr>\n",
       "  </thead>\n",
       "  <tbody>\n",
       "    <tr>\n",
       "      <th>0</th>\n",
       "      <td>Alice</td>\n",
       "      <td>25</td>\n",
       "      <td>New York</td>\n",
       "    </tr>\n",
       "    <tr>\n",
       "      <th>1</th>\n",
       "      <td>Bob</td>\n",
       "      <td>30</td>\n",
       "      <td>Los Angeles</td>\n",
       "    </tr>\n",
       "    <tr>\n",
       "      <th>2</th>\n",
       "      <td>Charlie</td>\n",
       "      <td>35</td>\n",
       "      <td>Chicago</td>\n",
       "    </tr>\n",
       "  </tbody>\n",
       "</table>\n",
       "</div>"
      ],
      "text/plain": [
       "      Name  Age         City\n",
       "0    Alice   25     New York\n",
       "1      Bob   30  Los Angeles\n",
       "2  Charlie   35      Chicago"
      ]
     },
     "execution_count": 471,
     "metadata": {},
     "output_type": "execute_result"
    }
   ],
   "source": [
    "df3 = pd.DataFrame(auto_dict)\n",
    "df3"
   ]
  },
  {
   "cell_type": "code",
   "execution_count": 484,
   "id": "0564e47e-7854-475e-aba1-ba79716a8074",
   "metadata": {},
   "outputs": [
    {
     "name": "stdout",
     "output_type": "stream",
     "text": [
      "4c525e129ee84e4c8e9abb3c4ecd95fd\n"
     ]
    },
    {
     "data": {
      "text/html": [
       "\n",
       "<style>/* cyrillic-ext */\n",
       "@font-face {\n",
       "  font-family: \"Open Sans\";\n",
       "  font-style: normal;\n",
       "  font-weight: 300 800;\n",
       "  font-stretch: 100%;\n",
       "  src: url(https://fonts.gstatic.com/s/opensans/v35/memvYaGs126MiZpBA-UvWbX2vVnXBbObj2OVTSKmu0SC55K5gw.woff2)\n",
       "    format(\"woff2\");\n",
       "  unicode-range: U+0460-052F, U+1C80-1C88, U+20B4, U+2DE0-2DFF, U+A640-A69F,\n",
       "    U+FE2E-FE2F;\n",
       "}\n",
       "\n",
       "/* cyrillic */\n",
       "@font-face {\n",
       "  font-family: \"Open Sans\";\n",
       "  font-style: normal;\n",
       "  font-weight: 300 800;\n",
       "  font-stretch: 100%;\n",
       "  src: url(https://fonts.gstatic.com/s/opensans/v35/memvYaGs126MiZpBA-UvWbX2vVnXBbObj2OVTSumu0SC55K5gw.woff2)\n",
       "    format(\"woff2\");\n",
       "  unicode-range: U+0301, U+0400-045F, U+0490-0491, U+04B0-04B1, U+2116;\n",
       "}\n",
       "\n",
       "/* greek-ext */\n",
       "@font-face {\n",
       "  font-family: \"Open Sans\";\n",
       "  font-style: normal;\n",
       "  font-weight: 300 800;\n",
       "  font-stretch: 100%;\n",
       "  src: url(https://fonts.gstatic.com/s/opensans/v35/memvYaGs126MiZpBA-UvWbX2vVnXBbObj2OVTSOmu0SC55K5gw.woff2)\n",
       "    format(\"woff2\");\n",
       "  unicode-range: U+1F00-1FFF;\n",
       "}\n",
       "\n",
       "/* greek */\n",
       "@font-face {\n",
       "  font-family: \"Open Sans\";\n",
       "  font-style: normal;\n",
       "  font-weight: 300 800;\n",
       "  font-stretch: 100%;\n",
       "  src: url(https://fonts.gstatic.com/s/opensans/v35/memvYaGs126MiZpBA-UvWbX2vVnXBbObj2OVTSymu0SC55K5gw.woff2)\n",
       "    format(\"woff2\");\n",
       "  unicode-range: U+0370-03FF;\n",
       "}\n",
       "\n",
       "/* hebrew */\n",
       "@font-face {\n",
       "  font-family: \"Open Sans\";\n",
       "  font-style: normal;\n",
       "  font-weight: 300 800;\n",
       "  font-stretch: 100%;\n",
       "  src: url(https://fonts.gstatic.com/s/opensans/v35/memvYaGs126MiZpBA-UvWbX2vVnXBbObj2OVTS2mu0SC55K5gw.woff2)\n",
       "    format(\"woff2\");\n",
       "  unicode-range: U+0590-05FF, U+200C-2010, U+20AA, U+25CC, U+FB1D-FB4F;\n",
       "}\n",
       "\n",
       "/* vietnamese */\n",
       "@font-face {\n",
       "  font-family: \"Open Sans\";\n",
       "  font-style: normal;\n",
       "  font-weight: 300 800;\n",
       "  font-stretch: 100%;\n",
       "  src: url(https://fonts.gstatic.com/s/opensans/v35/memvYaGs126MiZpBA-UvWbX2vVnXBbObj2OVTSCmu0SC55K5gw.woff2)\n",
       "    format(\"woff2\");\n",
       "  unicode-range: U+0102-0103, U+0110-0111, U+0128-0129, U+0168-0169, U+01A0-01A1,\n",
       "    U+01AF-01B0, U+0300-0301, U+0303-0304, U+0308-0309, U+0323, U+0329,\n",
       "    U+1EA0-1EF9, U+20AB;\n",
       "}\n",
       "\n",
       "/* latin-ext */\n",
       "@font-face {\n",
       "  font-family: \"Open Sans\";\n",
       "  font-style: normal;\n",
       "  font-weight: 300 800;\n",
       "  font-stretch: 100%;\n",
       "  src: url(https://fonts.gstatic.com/s/opensans/v35/memvYaGs126MiZpBA-UvWbX2vVnXBbObj2OVTSGmu0SC55K5gw.woff2)\n",
       "    format(\"woff2\");\n",
       "  unicode-range: U+0100-02AF, U+0304, U+0308, U+0329, U+1E00-1E9F, U+1EF2-1EFF,\n",
       "    U+2020, U+20A0-20AB, U+20AD-20CF, U+2113, U+2C60-2C7F, U+A720-A7FF;\n",
       "}\n",
       "\n",
       "/* latin */\n",
       "@font-face {\n",
       "  font-family: \"Open Sans\";\n",
       "  font-style: normal;\n",
       "  font-weight: 300 800;\n",
       "  font-stretch: 100%;\n",
       "  src: url(https://fonts.gstatic.com/s/opensans/v35/memvYaGs126MiZpBA-UvWbX2vVnXBbObj2OVTS-mu0SC55I.woff2)\n",
       "    format(\"woff2\");\n",
       "  unicode-range: U+0000-00FF, U+0131, U+0152-0153, U+02BB-02BC, U+02C6, U+02DA,\n",
       "    U+02DC, U+0304, U+0308, U+0329, U+2000-206F, U+2074, U+20AC, U+2122, U+2191,\n",
       "    U+2193, U+2212, U+2215, U+FEFF, U+FFFD;\n",
       "}\n",
       "</style>\n",
       "<style>.itables {\n",
       "  font-family: \"Consolas\", monospace, sans-serif;\n",
       "}\n",
       "</style>\n",
       "\n",
       "<script>\n",
       "function addStyleSheet(fileName) {\n",
       "  var head = document.head;\n",
       "  var link = document.createElement(\"link\");\n",
       "\n",
       "  link.type = \"text/css\";\n",
       "  link.rel = \"stylesheet\";\n",
       "  link.href = fileName;\n",
       "\n",
       "  head.appendChild(link);\n",
       "}\n",
       "\n",
       "addStyleSheet(\"https://fonts.googleapis.com/css2?family=Karla:ital,wght@0,200;0,300;0,400;0,500;0,600;0,700;0,800;1,200;1,300;1,400;1,500;1,600;1,700;1,800&family=Open+Sans:ital,wght@0,300..800;1,300..800&display=swap\")\n",
       "addStyleSheet(\"https://fonts.cdnfonts.com/css/dejavu-sans-mono\")\n",
       "</script>\n",
       "\n",
       "\n",
       "<style>\n",
       "  body[data-jp-theme-light=\"false\"],\n",
       "body.vscode-dark {\n",
       "  --primary-color: #111111;\n",
       "  --secondary-color: #212121;\n",
       "  --tertiary-color: #cfcdd6;\n",
       "  --button-color: #111111;\n",
       "  --colors-black: #ffffff;\n",
       "  --surface-color: #fff;\n",
       "}\n",
       "\n",
       "body {\n",
       "  --primary-color: #ffffff;\n",
       "  --secondary-color: #f5f5f5;\n",
       "  --tertiary-color: #000000de;\n",
       "  --button-color: #d1d5db;\n",
       "  --colors-black: #17161d;\n",
       "  --surface-color: #464158;\n",
       "}\n",
       "\n",
       ".header-1 {\n",
       "  font-style: normal;\n",
       "  font-weight: 600;\n",
       "  font-size: 2.0736em;\n",
       "  line-height: 100%;\n",
       "  leading-trim: both;\n",
       "  text-edge: cap;\n",
       "  color: var(--colors-black);\n",
       "}\n",
       "\n",
       ".header-2 {\n",
       "  font-style: normal;\n",
       "  font-weight: 600;\n",
       "  font-size: 1.728em;\n",
       "  line-height: 100%;\n",
       "  leading-trim: both;\n",
       "  text-edge: cap;\n",
       "  color: var(--colors-black);\n",
       "}\n",
       "\n",
       ".header-3 {\n",
       "  font-style: normal;\n",
       "  font-weight: 600;\n",
       "  font-size: 1.44em;\n",
       "  line-height: 100%;\n",
       "  leading-trim: both;\n",
       "  text-edge: cap;\n",
       "  color: var(--tertiary-color);\n",
       "}\n",
       "\n",
       ".header-4 {\n",
       "  font-style: normal;\n",
       "  font-weight: 600;\n",
       "  font-size: 1.2em;\n",
       "  line-height: 100%;\n",
       "  leading-trim: both;\n",
       "  text-edge: cap;\n",
       "  color: var(--colors-black);\n",
       "}\n",
       "\n",
       ".paragraph {\n",
       "  font-style: normal;\n",
       "  font-weight: 400;\n",
       "  font-size: 14px;\n",
       "  line-height: 100%;\n",
       "  leading-trim: both;\n",
       "  text-edge: cap;\n",
       "  color: #2e2b3b;\n",
       "}\n",
       "\n",
       ".paragraph-sm {\n",
       "  font-family: \"Roboto\";\n",
       "  font-style: normal;\n",
       "  font-weight: 400;\n",
       "  font-size: 11.62px;\n",
       "  line-height: 100%;\n",
       "  leading-trim: both;\n",
       "  text-edge: cap;\n",
       "  color: #2e2b3b;\n",
       "}\n",
       "\n",
       ".code-text {\n",
       "  font-family: \"Consolas\";\n",
       "  font-style: normal;\n",
       "  font-weight: 400;\n",
       "  font-size: 13px;\n",
       "  line-height: 130%;\n",
       "  leading-trim: both;\n",
       "  text-edge: cap;\n",
       "  color: #2e2b3b;\n",
       "}\n",
       "\n",
       ".numbering-entry {\n",
       "  display: none;\n",
       "}\n",
       "\n",
       "/* Tooltip container */\n",
       ".tooltip {\n",
       "  position: relative;\n",
       "  display: inline-block;\n",
       "  border-bottom: 1px dotted black;\n",
       "  /* If you want dots under the hoverable text */\n",
       "}\n",
       "\n",
       "/* Tooltip text */\n",
       ".tooltip .tooltiptext {\n",
       "  visibility: hidden;\n",
       "  width: 120px;\n",
       "  background-color: black;\n",
       "  color: #fff;\n",
       "  text-align: center;\n",
       "  padding: 5px 0;\n",
       "  border-radius: 6px;\n",
       "\n",
       "  /* Position the tooltip text - see examples below! */\n",
       "  position: absolute;\n",
       "  z-index: 1;\n",
       "}\n",
       "\n",
       ".repr-cell {\n",
       "  padding-top: 20px;\n",
       "}\n",
       "\n",
       ".text-bold {\n",
       "  font-weight: bold;\n",
       "}\n",
       "\n",
       ".pr-8 {\n",
       "  padding-right: 8px;\n",
       "}\n",
       "\n",
       ".pt-8 {\n",
       "  padding-top: 8px;\n",
       "}\n",
       "\n",
       ".pl-8 {\n",
       "  padding-left: 8px;\n",
       "}\n",
       "\n",
       ".pb-8 {\n",
       "  padding-bottom: 8px;\n",
       "}\n",
       "\n",
       ".py-25 {\n",
       "  padding-top: 25px;\n",
       "  padding-bottom: 25px;\n",
       "}\n",
       "\n",
       ".flex {\n",
       "  display: flex;\n",
       "}\n",
       "\n",
       ".gap-10 {\n",
       "  gap: 10px;\n",
       "}\n",
       "\n",
       ".items-center {\n",
       "  align-items: center;\n",
       "}\n",
       "\n",
       ".folder-icon {\n",
       "  color: var(--tertiary-color);\n",
       "}\n",
       "\n",
       ".search-input {\n",
       "  display: flex;\n",
       "  flex-direction: row;\n",
       "  align-items: center;\n",
       "  padding: 8px 12px;\n",
       "  width: 343px;\n",
       "  height: 24px;\n",
       "  /* Lt On Surface/Low */\n",
       "  background-color: var(--secondary-color);\n",
       "  border-radius: 30px;\n",
       "\n",
       "  /* Lt On Surface/Highest */\n",
       "  color: var(--tertiary-color);\n",
       "  border: none;\n",
       "  /* Inside auto layout */\n",
       "  flex: none;\n",
       "  order: 0;\n",
       "  flex-grow: 0;\n",
       "}\n",
       "\n",
       ".search-input:focus {\n",
       "  outline: none;\n",
       "}\n",
       "\n",
       ".search-input:focus::placeholder,\n",
       ".search-input::placeholder {\n",
       "  /* Chrome, Firefox, Opera, Safari 10.1+ */\n",
       "  color: var(--tertiary-color);\n",
       "  opacity: 1;\n",
       "  /* Firefox */\n",
       "}\n",
       "\n",
       ".search-button {\n",
       "  /* Search */\n",
       "  leading-trim: both;\n",
       "  text-edge: cap;\n",
       "  display: flex;\n",
       "  align-items: center;\n",
       "  text-align: center;\n",
       "\n",
       "  /* Primary/On Light */\n",
       "  background-color: var(--button-color);\n",
       "  color: var(--tertiary-color);\n",
       "\n",
       "  border-radius: 30px;\n",
       "  border-color: var(--secondary-color);\n",
       "  border-style: solid;\n",
       "  box-shadow:\n",
       "    rgba(60, 64, 67, 0.3) 0px 1px 2px 0px,\n",
       "    rgba(60, 64, 67, 0.15) 0px 1px 3px 1px;\n",
       "  cursor: pointer;\n",
       "  /* Inside auto layout */\n",
       "  flex: none;\n",
       "  order: 1;\n",
       "  flex-grow: 0;\n",
       "}\n",
       "\n",
       ".grid-index-cells {\n",
       "  grid-column: span 1;\n",
       "  /* tmp fix to make left col stand out (fix with font-family) */\n",
       "  font-weight: 600;\n",
       "  background-color: var(--secondary-color) !important;\n",
       "  color: var(--tertiary-color);\n",
       "}\n",
       "\n",
       ".center-content-cell {\n",
       "  margin: auto;\n",
       "}\n",
       "\n",
       ".grid-header {\n",
       "  /* Auto layout */\n",
       "  display: flex;\n",
       "  flex-direction: column;\n",
       "  align-items: center;\n",
       "  padding: 6px 4px;\n",
       "\n",
       "  resize: horizontal;\n",
       "  /* Lt On Surface/Surface */\n",
       "  /* Lt On Surface/High */\n",
       "  border: 1px solid #cfcdd6;\n",
       "  /* tmp fix to make header stand out (fix with font-family) */\n",
       "  font-weight: 600;\n",
       "  background-color: var(--secondary-color);\n",
       "  color: var(--tertiary-color);\n",
       "}\n",
       "\n",
       ".grid-row {\n",
       "  display: flex;\n",
       "  flex-direction: column;\n",
       "  align-items: flex-start;\n",
       "  padding: 6px 4px;\n",
       "  overflow: hidden;\n",
       "  border: 1px solid #cfcdd6;\n",
       "  background-color: var(--primary-color);\n",
       "  color: var(--tertiary-color);\n",
       "}\n",
       "\n",
       ".syncstate-col-footer {\n",
       "  font-family: \"DejaVu Sans Mono\", \"Open Sans\";\n",
       "  font-size: 12px;\n",
       "  font-weight: 400;\n",
       "  line-height: 16.8px;\n",
       "  text-align: left;\n",
       "  color: #5e5a72;\n",
       "}\n",
       "\n",
       ".syncstate-description {\n",
       "  font-family: Open Sans;\n",
       "  font-size: 14px;\n",
       "  font-weight: 600;\n",
       "  line-height: 19.6px;\n",
       "  text-align: left;\n",
       "  white-space: nowrap;\n",
       "  flex-grow: 1;\n",
       "}\n",
       "\n",
       ".widget-header2 {\n",
       "  display: flex;\n",
       "  gap: 8px;\n",
       "  justify-content: start;\n",
       "  width: 100%;\n",
       "  overflow: hidden;\n",
       "  align-items: center;\n",
       "}\n",
       "\n",
       ".widget-header2-2 {\n",
       "  display: flex;\n",
       "  gap: 8px;\n",
       "  justify-content: start;\n",
       "  align-items: center;\n",
       "}\n",
       "\n",
       ".jobs-title {\n",
       "  font-family:\n",
       "    Open Sans,\n",
       "    sans-serif;\n",
       "  font-size: 18px;\n",
       "  font-weight: 600;\n",
       "  line-height: 25.2px;\n",
       "  text-align: left;\n",
       "  color: #1f567a;\n",
       "}\n",
       "\n",
       ".diff-state-orange-text {\n",
       "  color: #b8520a;\n",
       "}\n",
       "\n",
       ".diff-state-no-obj {\n",
       "  font-family: \"DejaVu Sans Mono\", \"Open Sans\";\n",
       "  font-size: 12px;\n",
       "  font-weight: 400;\n",
       "  line-height: 16.8px;\n",
       "  text-align: left;\n",
       "  color: #5e5a72;\n",
       "}\n",
       "\n",
       ".diff-state-intro {\n",
       "  font-family: Open Sans;\n",
       "  font-size: 14px;\n",
       "  font-weight: 400;\n",
       "  line-height: 19.6px;\n",
       "  text-align: left;\n",
       "  color: #b4b0bf;\n",
       "}\n",
       "\n",
       ".diff-state-header {\n",
       "  font-family: Open Sans;\n",
       "  font-size: 22px;\n",
       "  font-weight: 600;\n",
       "  line-height: 30.8px;\n",
       "  text-align: left;\n",
       "  color: #353243;\n",
       "  display: flex;\n",
       "  gap: 8px;\n",
       "}\n",
       "\n",
       ".diff-state-sub-header {\n",
       "  font-family: Open Sans;\n",
       "  font-size: 14px;\n",
       "  font-weight: 400;\n",
       "  line-height: 19.6px;\n",
       "  text-align: left;\n",
       "  color: #5e5a72;\n",
       "}\n",
       "\n",
       ".badge {\n",
       "  /* code-text; */\n",
       "  border-radius: 30px;\n",
       "  padding: 6px;\n",
       "  white-space: nowrap;\n",
       "  overflow: hidden;\n",
       "  line-height: 1.2;\n",
       "  font-family: monospace;\n",
       "}\n",
       "\n",
       ".label {\n",
       "  /* code-text; */\n",
       "  border-radius: 4px;\n",
       "  padding: 6px 4px;\n",
       "  white-space: nowrap;\n",
       "  overflow: hidden;\n",
       "  line-height: 1.2;\n",
       "  font-family: monospace;\n",
       "}\n",
       "\n",
       ".label-light-purple {\n",
       "  /* label; */\n",
       "  background-color: #c9cfe8;\n",
       "  color: #373b7b;\n",
       "}\n",
       "\n",
       ".label-light-blue {\n",
       "  /* label; */\n",
       "  background-color: #c2def0;\n",
       "  color: #1f567a;\n",
       "}\n",
       "\n",
       ".label-orange {\n",
       "  /* badge; */\n",
       "  background-color: #fee9cd;\n",
       "  color: #b8520a;\n",
       "}\n",
       "\n",
       ".label-gray {\n",
       "  /* badge; */\n",
       "  background-color: #ecebef;\n",
       "  color: #353243;\n",
       "}\n",
       "\n",
       ".label-green {\n",
       "  /* badge; */\n",
       "  background-color: #d5f1d5;\n",
       "  color: #256b24;\n",
       "}\n",
       "\n",
       ".label-red {\n",
       "  /* label; */\n",
       "  background-color: #f2d9de;\n",
       "  color: #9b2737;\n",
       "}\n",
       "\n",
       ".badge-blue {\n",
       "  /* badge; */\n",
       "  background-color: #c2def0;\n",
       "  color: #1f567a;\n",
       "}\n",
       "\n",
       ".badge-purple {\n",
       "  /* badge; */\n",
       "  background-color: #c9cfe8;\n",
       "  color: #373b7b;\n",
       "}\n",
       "\n",
       ".badge-green {\n",
       "  background-color: #d5f1d5;\n",
       "  color: #256b24;\n",
       "}\n",
       "\n",
       ".badge-red {\n",
       "  /* badge; */\n",
       "  background-color: #f2d9de;\n",
       "  color: #9b2737;\n",
       "}\n",
       "\n",
       ".badge-gray {\n",
       "  /* badge; */\n",
       "  background-color: #ecebef;\n",
       "  color: #2e2b3b;\n",
       "}\n",
       "\n",
       ".paginationContainer {\n",
       "  width: 100%;\n",
       "  /*height: 30px;*/\n",
       "  display: flex;\n",
       "  justify-content: center;\n",
       "  gap: 8px;\n",
       "  padding: 5px;\n",
       "  color: var(--tertiary-color);\n",
       "}\n",
       "\n",
       ".widget-label-basic {\n",
       "  display: flex;\n",
       "}\n",
       "\n",
       ".widget-label-basic input[type=\"checkbox\"][disabled] {\n",
       "  filter: sepia(0.3) hue-rotate(67deg) saturate(3);\n",
       "}\n",
       "\n",
       ".page {\n",
       "  color: black;\n",
       "  font-weight: bold;\n",
       "  color: var(--tertiary-color);\n",
       "}\n",
       "\n",
       ".page:hover {\n",
       "  color: #38bdf8;\n",
       "  cursor: pointer;\n",
       "}\n",
       "\n",
       ".clipboard:hover {\n",
       "  cursor: pointer;\n",
       "  color: var(--tertiary-color);\n",
       "}\n",
       "\n",
       ".rendered_html tbody tr:nth-child(odd) {\n",
       "  background: transparent;\n",
       "}\n",
       "\n",
       ".search-field {\n",
       "  display: flex;\n",
       "  align-items: center;\n",
       "  border-radius: 30px;\n",
       "  background-color: var(--secondary-color);\n",
       "}\n",
       "\n",
       ".syft-dropdown {\n",
       "  margin: 5px;\n",
       "  margin-left: 5px;\n",
       "  position: relative;\n",
       "  display: inline-block;\n",
       "  text-align: center;\n",
       "  background-color: var(--button-color);\n",
       "  min-width: 100px;\n",
       "  padding: 2px;\n",
       "  border-radius: 30px;\n",
       "}\n",
       "\n",
       ".syft-dropdown:hover {\n",
       "  cursor: pointer;\n",
       "}\n",
       "\n",
       ".syft-dropdown-content {\n",
       "  margin-top: 26px;\n",
       "  display: none;\n",
       "  position: absolute;\n",
       "  min-width: 100px;\n",
       "  box-shadow: 0px 8px 16px 0px rgba(0, 0, 0, 0.2);\n",
       "  padding: 12px 6px;\n",
       "  z-index: 1;\n",
       "  background-color: var(--primary-color);\n",
       "  color: var(--tertiary-color);\n",
       "}\n",
       "\n",
       ".dd-options {\n",
       "  padding-top: 4px;\n",
       "}\n",
       "\n",
       ".dd-options:first-of-type {\n",
       "  padding-top: 0px;\n",
       "}\n",
       "\n",
       ".dd-options:hover {\n",
       "  cursor: pointer;\n",
       "  background: #d1d5db;\n",
       "}\n",
       "\n",
       ".arrow {\n",
       "  border: solid black;\n",
       "  border-width: 0 3px 3px 0;\n",
       "  display: inline-block;\n",
       "  padding: 3px;\n",
       "}\n",
       "\n",
       ".down {\n",
       "  transform: rotate(45deg);\n",
       "  -webkit-transform: rotate(45deg);\n",
       "}\n",
       "\n",
       ".syft-widget ul {\n",
       "  list-style-type: none;\n",
       "  margin: 0;\n",
       "  padding: 0;\n",
       "  overflow: hidden;\n",
       "}\n",
       "\n",
       ".syft-widget li {\n",
       "  float: left;\n",
       "  border-bottom: solid;\n",
       "  border-bottom-color: #cfcdd6;\n",
       "}\n",
       "\n",
       ".syft-widget li a {\n",
       "  display: block;\n",
       "  text-align: center;\n",
       "  padding: 14px 16px;\n",
       "  color: #cfcdd6;\n",
       "}\n",
       "\n",
       ".log-tab-header {\n",
       "  border-bottom: solid 2px #ecebef;\n",
       "  padding: 4px 16px;\n",
       "}\n",
       "\n",
       ".active-border {\n",
       "  border-bottom: solid 2px #1f567a;\n",
       "  font-weight: 700;\n",
       "}\n",
       "\n",
       ".active {\n",
       "  color: #1f567a;\n",
       "}\n",
       "\n",
       ".syft-widget li a:hover {\n",
       "  background-color: #c2def0;\n",
       "}\n",
       "\n",
       ".syft-user_code,\n",
       ".syft-project,\n",
       ".syft-project-create,\n",
       ".syft-settings,\n",
       ".syft-dataset,\n",
       ".syft-asset,\n",
       ".syft-contributor,\n",
       ".syft-request,\n",
       ".syft-syncstate,\n",
       ".job-info {\n",
       "  color: var(--surface-color);\n",
       "}\n",
       "\n",
       ".syft-dataset h3,\n",
       ".syft-dataset p,\n",
       ".syft-asset h3,\n",
       ".syft-asset p,\n",
       ".syft-syncstate h3,\n",
       ".syft-syncstate p {\n",
       "  font-family: \"Open Sans\";\n",
       "}\n",
       "\n",
       ".diff-container {\n",
       "  border: 0.5px solid #b4b0bf;\n",
       "}\n",
       "\n",
       ".syft-container {\n",
       "  padding: 5px;\n",
       "  font-family: \"Open Sans\";\n",
       "}\n",
       "\n",
       ".syft-alert-info {\n",
       "  color: #1f567a;\n",
       "  background-color: #c2def0;\n",
       "  border-radius: 4px;\n",
       "  padding: 5px;\n",
       "  padding: 13px 10px;\n",
       "}\n",
       "\n",
       ".syft-code-block {\n",
       "  background-color: #f7f7f7;\n",
       "  border: 1px solid #cfcfcf;\n",
       "  padding: 0px 2px;\n",
       "}\n",
       "\n",
       ".syft-space {\n",
       "  margin-top: 1em;\n",
       "}\n",
       "\n",
       "</style>\n",
       "\n",
       "<style>\n",
       ".syft-alert-container {\n",
       "    padding: 4px;\n",
       "    display: flex;\n",
       "    justify-content: center;\n",
       "}\n",
       "\n",
       ".syft-alert-info {\n",
       "    display: flex;\n",
       "    align-items: center;\n",
       "    width: 100%;\n",
       "    padding: 8px 10px;\n",
       "    gap: 8px;\n",
       "    border-radius: 4px;\n",
       "    background: #C2DEF0;\n",
       "    color: #1F567A;\n",
       "    line-height: 1.4;\n",
       "    font-size: 12px;\n",
       "    font-family: 'Open Sans';\n",
       "}\n",
       "</style>\n",
       "<style>\n",
       ".copy-container {\n",
       "  cursor: pointer;\n",
       "  border-radius: 3px;\n",
       "  padding: 0px 3px;\n",
       "  display: inline-block;\n",
       "  transition: background-color 0.3s;\n",
       "  user-select: none;\n",
       "  color: #B4B0BF;\n",
       "  overflow: hidden;\n",
       "  white-space: nowrap;\n",
       "  vertical-align: middle;\n",
       "}\n",
       "\n",
       ".copy-container:hover {\n",
       "  background-color: #f5f5f5;\n",
       "}\n",
       "\n",
       ".copy-container:active {\n",
       "  background-color: #ebebeb;\n",
       "}\n",
       "\n",
       ".copy-text-display {\n",
       "  display: inline-block;\n",
       "  max-width: 50px;\n",
       "  white-space: nowrap;\n",
       "  overflow: hidden;\n",
       "  text-overflow: ellipsis;\n",
       "  vertical-align: bottom;\n",
       "}\n",
       "</style>\n",
       " <div>\n",
       "\n",
       "<table class=\"dataframe\">\n",
       "  <thead>\n",
       "    <tr style=\"text-align: right;\">\n",
       "      <th></th>\n",
       "      <th>Name</th>\n",
       "      <th>Age</th>\n",
       "      <th>City</th>\n",
       "    </tr>\n",
       "  </thead>\n",
       "  <tbody>\n",
       "    <tr>\n",
       "      <th>0</th>\n",
       "      <td>Alice</td>\n",
       "      <td>25</td>\n",
       "      <td>New York</td>\n",
       "    </tr>\n",
       "    <tr>\n",
       "      <th>1</th>\n",
       "      <td>Bob</td>\n",
       "      <td>30</td>\n",
       "      <td>Los Angeles</td>\n",
       "    </tr>\n",
       "    <tr>\n",
       "      <th>2</th>\n",
       "      <td>Charlie</td>\n",
       "      <td>35</td>\n",
       "      <td>Chicago</td>\n",
       "    </tr>\n",
       "  </tbody>\n",
       "</table>\n",
       "</div> "
      ],
      "text/markdown": [
       "\n",
       "**Pointer**\n",
       "\n",
       "      Name  Age         City\n",
       "0    Alice   25     New York\n",
       "1      Bob   30  Los Angeles\n",
       "2  Charlie   35      Chicago\n"
      ],
      "text/plain": [
       "Pointer:\n",
       "      Name  Age         City\n",
       "0    Alice   25     New York\n",
       "1      Bob   30  Los Angeles\n",
       "2  Charlie   35      Chicago"
      ]
     },
     "execution_count": 484,
     "metadata": {},
     "output_type": "execute_result"
    }
   ],
   "source": [
    "df_ao = sy.ActionObject.from_obj(df3)\n",
    "print(df_ao.id)\n",
    "df_ao"
   ]
  },
  {
   "cell_type": "code",
   "execution_count": 485,
   "id": "3dfb3e91-af6b-4a94-a796-4270c1782d08",
   "metadata": {},
   "outputs": [],
   "source": [
    "# action object fails"
   ]
  },
  {
   "cell_type": "code",
   "execution_count": null,
   "id": "094ff8de-d4f6-4027-9c6f-b6f0c17a3f9a",
   "metadata": {},
   "outputs": [],
   "source": []
  },
  {
   "cell_type": "code",
   "execution_count": 486,
   "id": "a0cb5c26-080e-4fed-9b8e-74d59a7ff7a6",
   "metadata": {},
   "outputs": [
    {
     "name": "stdout",
     "output_type": "stream",
     "text": [
      "4c525e129ee84e4c8e9abb3c4ecd95fd\n"
     ]
    },
    {
     "data": {
      "text/html": [
       "<div>\n",
       "<style scoped>\n",
       "    .dataframe tbody tr th:only-of-type {\n",
       "        vertical-align: middle;\n",
       "    }\n",
       "\n",
       "    .dataframe tbody tr th {\n",
       "        vertical-align: top;\n",
       "    }\n",
       "\n",
       "    .dataframe thead th {\n",
       "        text-align: right;\n",
       "    }\n",
       "</style>\n",
       "<table border=\"1\" class=\"dataframe\">\n",
       "  <thead>\n",
       "    <tr style=\"text-align: right;\">\n",
       "      <th></th>\n",
       "      <th>Name</th>\n",
       "      <th>Age</th>\n",
       "      <th>City</th>\n",
       "    </tr>\n",
       "  </thead>\n",
       "  <tbody>\n",
       "    <tr>\n",
       "      <th>0</th>\n",
       "      <td>Alice</td>\n",
       "      <td>25</td>\n",
       "      <td>New York</td>\n",
       "    </tr>\n",
       "    <tr>\n",
       "      <th>1</th>\n",
       "      <td>Bob</td>\n",
       "      <td>30</td>\n",
       "      <td>Los Angeles</td>\n",
       "    </tr>\n",
       "    <tr>\n",
       "      <th>2</th>\n",
       "      <td>Charlie</td>\n",
       "      <td>35</td>\n",
       "      <td>Chicago</td>\n",
       "    </tr>\n",
       "  </tbody>\n",
       "</table>\n",
       "</div>"
      ],
      "text/plain": [
       "      Name  Age         City\n",
       "0    Alice   25     New York\n",
       "1      Bob   30  Los Angeles\n",
       "2  Charlie   35      Chicago"
      ]
     },
     "execution_count": 486,
     "metadata": {},
     "output_type": "execute_result"
    }
   ],
   "source": [
    "# autobox to the rescue\n",
    "df_ob = SyftAutobox(df_ao)\n",
    "print(df_ob._syft_uid)\n",
    "df_ob"
   ]
  },
  {
   "cell_type": "code",
   "execution_count": 487,
   "id": "421e171c-b79c-46ff-b00d-c4936aa102ab",
   "metadata": {},
   "outputs": [
    {
     "data": {
      "text/html": [
       "<div>\n",
       "<style scoped>\n",
       "    .dataframe tbody tr th:only-of-type {\n",
       "        vertical-align: middle;\n",
       "    }\n",
       "\n",
       "    .dataframe tbody tr th {\n",
       "        vertical-align: top;\n",
       "    }\n",
       "\n",
       "    .dataframe thead th {\n",
       "        text-align: right;\n",
       "    }\n",
       "</style>\n",
       "<table border=\"1\" class=\"dataframe\">\n",
       "  <thead>\n",
       "    <tr style=\"text-align: right;\">\n",
       "      <th></th>\n",
       "      <th>Name</th>\n",
       "      <th>Age</th>\n",
       "      <th>City</th>\n",
       "    </tr>\n",
       "  </thead>\n",
       "  <tbody>\n",
       "    <tr>\n",
       "      <th>0</th>\n",
       "      <td>Alice</td>\n",
       "      <td>25</td>\n",
       "      <td>New York</td>\n",
       "    </tr>\n",
       "    <tr>\n",
       "      <th>1</th>\n",
       "      <td>Bob</td>\n",
       "      <td>30</td>\n",
       "      <td>Los Angeles</td>\n",
       "    </tr>\n",
       "    <tr>\n",
       "      <th>2</th>\n",
       "      <td>Charlie</td>\n",
       "      <td>35</td>\n",
       "      <td>Chicago</td>\n",
       "    </tr>\n",
       "  </tbody>\n",
       "</table>\n",
       "</div>"
      ],
      "text/plain": [
       "      Name  Age         City\n",
       "0    Alice   25     New York\n",
       "1      Bob   30  Los Angeles\n",
       "2  Charlie   35      Chicago"
      ]
     },
     "execution_count": 487,
     "metadata": {},
     "output_type": "execute_result"
    }
   ],
   "source": [
    "pd.DataFrame(df_ob)"
   ]
  },
  {
   "cell_type": "code",
   "execution_count": 474,
   "id": "f73d2668-e2b7-464a-87a3-a47bcb60b5c0",
   "metadata": {},
   "outputs": [
    {
     "ename": "ValueError",
     "evalue": "object __array__ method not producing an array",
     "output_type": "error",
     "traceback": [
      "\u001b[0;31m--------------------------------------------------------------------------\u001b[0m",
      "\u001b[0;31mValueError\u001b[0m                               Traceback (most recent call last)",
      "\u001b[0;32m/var/folders/6_/7xx0tpq16h9cn40mq4w5gjk80000gn/T/ipykernel_80964/4188995242.py\u001b[0m in \u001b[0;36m?\u001b[0;34m()\u001b[0m\n\u001b[0;32m----> 1\u001b[0;31m \u001b[0mpd\u001b[0m\u001b[0;34m.\u001b[0m\u001b[0mDataFrame\u001b[0m\u001b[0;34m(\u001b[0m\u001b[0mdf_ao\u001b[0m\u001b[0;34m)\u001b[0m\u001b[0;34m\u001b[0m\u001b[0;34m\u001b[0m\u001b[0m\n\u001b[0m",
      "\u001b[0;32m~/dev/PySyft/.tox/syft.jupyter/.venv/lib/python3.12/site-packages/pandas/core/frame.py\u001b[0m in \u001b[0;36m?\u001b[0;34m(self, data, index, columns, dtype, copy)\u001b[0m\n\u001b[1;32m    826\u001b[0m         \u001b[0;32melif\u001b[0m \u001b[0mis_list_like\u001b[0m\u001b[0;34m(\u001b[0m\u001b[0mdata\u001b[0m\u001b[0;34m)\u001b[0m\u001b[0;34m:\u001b[0m\u001b[0;34m\u001b[0m\u001b[0;34m\u001b[0m\u001b[0m\n\u001b[1;32m    827\u001b[0m             \u001b[0;32mif\u001b[0m \u001b[0;32mnot\u001b[0m \u001b[0misinstance\u001b[0m\u001b[0;34m(\u001b[0m\u001b[0mdata\u001b[0m\u001b[0;34m,\u001b[0m \u001b[0mabc\u001b[0m\u001b[0;34m.\u001b[0m\u001b[0mSequence\u001b[0m\u001b[0;34m)\u001b[0m\u001b[0;34m:\u001b[0m\u001b[0;34m\u001b[0m\u001b[0;34m\u001b[0m\u001b[0m\n\u001b[1;32m    828\u001b[0m                 \u001b[0;32mif\u001b[0m \u001b[0mhasattr\u001b[0m\u001b[0;34m(\u001b[0m\u001b[0mdata\u001b[0m\u001b[0;34m,\u001b[0m \u001b[0;34m\"__array__\"\u001b[0m\u001b[0;34m)\u001b[0m\u001b[0;34m:\u001b[0m\u001b[0;34m\u001b[0m\u001b[0;34m\u001b[0m\u001b[0m\n\u001b[1;32m    829\u001b[0m                     \u001b[0;31m# GH#44616 big perf improvement for e.g. pytorch tensor\u001b[0m\u001b[0;34m\u001b[0m\u001b[0;34m\u001b[0m\u001b[0m\n\u001b[0;32m--> 830\u001b[0;31m                     \u001b[0mdata\u001b[0m \u001b[0;34m=\u001b[0m \u001b[0mnp\u001b[0m\u001b[0;34m.\u001b[0m\u001b[0masarray\u001b[0m\u001b[0;34m(\u001b[0m\u001b[0mdata\u001b[0m\u001b[0;34m)\u001b[0m\u001b[0;34m\u001b[0m\u001b[0;34m\u001b[0m\u001b[0m\n\u001b[0m\u001b[1;32m    831\u001b[0m                 \u001b[0;32melse\u001b[0m\u001b[0;34m:\u001b[0m\u001b[0;34m\u001b[0m\u001b[0;34m\u001b[0m\u001b[0m\n\u001b[1;32m    832\u001b[0m                     \u001b[0mdata\u001b[0m \u001b[0;34m=\u001b[0m \u001b[0mlist\u001b[0m\u001b[0;34m(\u001b[0m\u001b[0mdata\u001b[0m\u001b[0;34m)\u001b[0m\u001b[0;34m\u001b[0m\u001b[0;34m\u001b[0m\u001b[0m\n\u001b[1;32m    833\u001b[0m             \u001b[0;32mif\u001b[0m \u001b[0mlen\u001b[0m\u001b[0;34m(\u001b[0m\u001b[0mdata\u001b[0m\u001b[0;34m)\u001b[0m \u001b[0;34m>\u001b[0m \u001b[0;36m0\u001b[0m\u001b[0;34m:\u001b[0m\u001b[0;34m\u001b[0m\u001b[0;34m\u001b[0m\u001b[0m\n",
      "\u001b[0;31mValueError\u001b[0m: object __array__ method not producing an array"
     ]
    }
   ],
   "source": [
    "pd.DataFrame(df_ao)"
   ]
  },
  {
   "cell_type": "code",
   "execution_count": 475,
   "id": "4d0dfc49-f101-4aea-8f90-f46497c11616",
   "metadata": {},
   "outputs": [
    {
     "data": {
      "text/html": [
       "<div>\n",
       "<style scoped>\n",
       "    .dataframe tbody tr th:only-of-type {\n",
       "        vertical-align: middle;\n",
       "    }\n",
       "\n",
       "    .dataframe tbody tr th {\n",
       "        vertical-align: top;\n",
       "    }\n",
       "\n",
       "    .dataframe thead th {\n",
       "        text-align: right;\n",
       "    }\n",
       "</style>\n",
       "<table border=\"1\" class=\"dataframe\">\n",
       "  <thead>\n",
       "    <tr style=\"text-align: right;\">\n",
       "      <th></th>\n",
       "      <th>Name</th>\n",
       "      <th>Age</th>\n",
       "      <th>City</th>\n",
       "    </tr>\n",
       "  </thead>\n",
       "  <tbody>\n",
       "    <tr>\n",
       "      <th>0</th>\n",
       "      <td>Alice</td>\n",
       "      <td>25</td>\n",
       "      <td>New York</td>\n",
       "    </tr>\n",
       "    <tr>\n",
       "      <th>1</th>\n",
       "      <td>Bob</td>\n",
       "      <td>30</td>\n",
       "      <td>Los Angeles</td>\n",
       "    </tr>\n",
       "    <tr>\n",
       "      <th>2</th>\n",
       "      <td>Charlie</td>\n",
       "      <td>35</td>\n",
       "      <td>Chicago</td>\n",
       "    </tr>\n",
       "  </tbody>\n",
       "</table>\n",
       "</div>"
      ],
      "text/plain": [
       "      Name  Age         City\n",
       "0    Alice   25     New York\n",
       "1      Bob   30  Los Angeles\n",
       "2  Charlie   35      Chicago"
      ]
     },
     "execution_count": 475,
     "metadata": {},
     "output_type": "execute_result"
    }
   ],
   "source": [
    "df_ob = SyftAutobox(df3)\n",
    "df_ob"
   ]
  },
  {
   "cell_type": "code",
   "execution_count": 490,
   "id": "80e8f9a4-f3c7-41e6-a04d-c6449b4f1f5a",
   "metadata": {},
   "outputs": [
    {
     "data": {
      "text/plain": [
       "90"
      ]
     },
     "execution_count": 490,
     "metadata": {},
     "output_type": "execute_result"
    }
   ],
   "source": [
    "df.Age.sum()"
   ]
  },
  {
   "cell_type": "code",
   "execution_count": 495,
   "id": "18108f44-427c-40cb-a02b-396d8e3b7a5a",
   "metadata": {},
   "outputs": [],
   "source": [
    "assert all(df == df)"
   ]
  },
  {
   "cell_type": "code",
   "execution_count": 488,
   "id": "57c8aaa4-0309-49d0-8717-57a78887a058",
   "metadata": {},
   "outputs": [
    {
     "ename": "ValueError",
     "evalue": "No axis named Age for object type DataFrame",
     "output_type": "error",
     "traceback": [
      "\u001b[0;31m--------------------------------------------------------------------------\u001b[0m",
      "\u001b[0;31mKeyError\u001b[0m                                 Traceback (most recent call last)",
      "\u001b[0;32m~/dev/PySyft/.tox/syft.jupyter/.venv/lib/python3.12/site-packages/pandas/core/generic.py\u001b[0m in \u001b[0;36m?\u001b[0;34m(cls, axis)\u001b[0m\n\u001b[1;32m    575\u001b[0m             \u001b[0;32mreturn\u001b[0m \u001b[0mcls\u001b[0m\u001b[0;34m.\u001b[0m\u001b[0m_AXIS_TO_AXIS_NUMBER\u001b[0m\u001b[0;34m[\u001b[0m\u001b[0maxis\u001b[0m\u001b[0;34m]\u001b[0m\u001b[0;34m\u001b[0m\u001b[0;34m\u001b[0m\u001b[0m\n\u001b[1;32m    576\u001b[0m         \u001b[0;32mexcept\u001b[0m \u001b[0mKeyError\u001b[0m\u001b[0;34m:\u001b[0m\u001b[0;34m\u001b[0m\u001b[0;34m\u001b[0m\u001b[0m\n\u001b[0;32m--> 577\u001b[0;31m             \u001b[0;32mraise\u001b[0m \u001b[0mValueError\u001b[0m\u001b[0;34m(\u001b[0m\u001b[0;34mf\"\u001b[0m\u001b[0;34mNo axis named \u001b[0m\u001b[0;34m{\u001b[0m\u001b[0maxis\u001b[0m\u001b[0;34m}\u001b[0m\u001b[0;34m for object type \u001b[0m\u001b[0;34m{\u001b[0m\u001b[0mcls\u001b[0m\u001b[0;34m.\u001b[0m\u001b[0m__name__\u001b[0m\u001b[0;34m}\u001b[0m\u001b[0;34m\"\u001b[0m\u001b[0;34m)\u001b[0m\u001b[0;34m\u001b[0m\u001b[0;34m\u001b[0m\u001b[0m\n\u001b[0m",
      "\u001b[0;31mKeyError\u001b[0m: 'Age'",
      "\nDuring handling of the above exception, another exception occurred:\n",
      "\u001b[0;31mValueError\u001b[0m                               Traceback (most recent call last)",
      "\u001b[0;32m/var/folders/6_/7xx0tpq16h9cn40mq4w5gjk80000gn/T/ipykernel_80964/1414718588.py\u001b[0m in \u001b[0;36m?\u001b[0;34m()\u001b[0m\n\u001b[0;32m----> 1\u001b[0;31m \u001b[0mdf\u001b[0m\u001b[0;34m.\u001b[0m\u001b[0msum\u001b[0m\u001b[0;34m(\u001b[0m\u001b[0;34m\"Age\"\u001b[0m\u001b[0;34m)\u001b[0m\u001b[0;34m\u001b[0m\u001b[0;34m\u001b[0m\u001b[0m\n\u001b[0m",
      "\u001b[0;32m~/dev/PySyft/.tox/syft.jupyter/.venv/lib/python3.12/site-packages/pandas/core/frame.py\u001b[0m in \u001b[0;36m?\u001b[0;34m(self, axis, skipna, numeric_only, min_count, **kwargs)\u001b[0m\n\u001b[1;32m  11653\u001b[0m         \u001b[0mnumeric_only\u001b[0m\u001b[0;34m:\u001b[0m \u001b[0mbool\u001b[0m \u001b[0;34m=\u001b[0m \u001b[0;32mFalse\u001b[0m\u001b[0;34m,\u001b[0m\u001b[0;34m\u001b[0m\u001b[0;34m\u001b[0m\u001b[0m\n\u001b[1;32m  11654\u001b[0m         \u001b[0mmin_count\u001b[0m\u001b[0;34m:\u001b[0m \u001b[0mint\u001b[0m \u001b[0;34m=\u001b[0m \u001b[0;36m0\u001b[0m\u001b[0;34m,\u001b[0m\u001b[0;34m\u001b[0m\u001b[0;34m\u001b[0m\u001b[0m\n\u001b[1;32m  11655\u001b[0m         \u001b[0;34m**\u001b[0m\u001b[0mkwargs\u001b[0m\u001b[0;34m,\u001b[0m\u001b[0;34m\u001b[0m\u001b[0;34m\u001b[0m\u001b[0m\n\u001b[1;32m  11656\u001b[0m     \u001b[0;34m)\u001b[0m\u001b[0;34m:\u001b[0m\u001b[0;34m\u001b[0m\u001b[0;34m\u001b[0m\u001b[0m\n\u001b[0;32m> 11657\u001b[0;31m         \u001b[0mresult\u001b[0m \u001b[0;34m=\u001b[0m \u001b[0msuper\u001b[0m\u001b[0;34m(\u001b[0m\u001b[0;34m)\u001b[0m\u001b[0;34m.\u001b[0m\u001b[0msum\u001b[0m\u001b[0;34m(\u001b[0m\u001b[0maxis\u001b[0m\u001b[0;34m,\u001b[0m \u001b[0mskipna\u001b[0m\u001b[0;34m,\u001b[0m \u001b[0mnumeric_only\u001b[0m\u001b[0;34m,\u001b[0m \u001b[0mmin_count\u001b[0m\u001b[0;34m,\u001b[0m \u001b[0;34m**\u001b[0m\u001b[0mkwargs\u001b[0m\u001b[0;34m)\u001b[0m\u001b[0;34m\u001b[0m\u001b[0;34m\u001b[0m\u001b[0m\n\u001b[0m\u001b[1;32m  11658\u001b[0m         \u001b[0;32mreturn\u001b[0m \u001b[0mresult\u001b[0m\u001b[0;34m.\u001b[0m\u001b[0m__finalize__\u001b[0m\u001b[0;34m(\u001b[0m\u001b[0mself\u001b[0m\u001b[0;34m,\u001b[0m \u001b[0mmethod\u001b[0m\u001b[0;34m=\u001b[0m\u001b[0;34m\"sum\"\u001b[0m\u001b[0;34m)\u001b[0m\u001b[0;34m\u001b[0m\u001b[0;34m\u001b[0m\u001b[0m\n",
      "\u001b[0;32m~/dev/PySyft/.tox/syft.jupyter/.venv/lib/python3.12/site-packages/pandas/core/generic.py\u001b[0m in \u001b[0;36m?\u001b[0;34m(self, axis, skipna, numeric_only, min_count, **kwargs)\u001b[0m\n\u001b[1;32m  12499\u001b[0m         \u001b[0mnumeric_only\u001b[0m\u001b[0;34m:\u001b[0m \u001b[0mbool_t\u001b[0m \u001b[0;34m=\u001b[0m \u001b[0;32mFalse\u001b[0m\u001b[0;34m,\u001b[0m\u001b[0;34m\u001b[0m\u001b[0;34m\u001b[0m\u001b[0m\n\u001b[1;32m  12500\u001b[0m         \u001b[0mmin_count\u001b[0m\u001b[0;34m:\u001b[0m \u001b[0mint\u001b[0m \u001b[0;34m=\u001b[0m \u001b[0;36m0\u001b[0m\u001b[0;34m,\u001b[0m\u001b[0;34m\u001b[0m\u001b[0;34m\u001b[0m\u001b[0m\n\u001b[1;32m  12501\u001b[0m         \u001b[0;34m**\u001b[0m\u001b[0mkwargs\u001b[0m\u001b[0;34m,\u001b[0m\u001b[0;34m\u001b[0m\u001b[0;34m\u001b[0m\u001b[0m\n\u001b[1;32m  12502\u001b[0m     \u001b[0;34m)\u001b[0m\u001b[0;34m:\u001b[0m\u001b[0;34m\u001b[0m\u001b[0;34m\u001b[0m\u001b[0m\n\u001b[0;32m> 12503\u001b[0;31m         return self._min_count_stat_function(\n\u001b[0m\u001b[1;32m  12504\u001b[0m             \u001b[0;34m\"sum\"\u001b[0m\u001b[0;34m,\u001b[0m \u001b[0mnanops\u001b[0m\u001b[0;34m.\u001b[0m\u001b[0mnansum\u001b[0m\u001b[0;34m,\u001b[0m \u001b[0maxis\u001b[0m\u001b[0;34m,\u001b[0m \u001b[0mskipna\u001b[0m\u001b[0;34m,\u001b[0m \u001b[0mnumeric_only\u001b[0m\u001b[0;34m,\u001b[0m \u001b[0mmin_count\u001b[0m\u001b[0;34m,\u001b[0m \u001b[0;34m**\u001b[0m\u001b[0mkwargs\u001b[0m\u001b[0;34m\u001b[0m\u001b[0;34m\u001b[0m\u001b[0m\n\u001b[1;32m  12505\u001b[0m         \u001b[0;34m)\u001b[0m\u001b[0;34m\u001b[0m\u001b[0;34m\u001b[0m\u001b[0m\n",
      "\u001b[0;32m~/dev/PySyft/.tox/syft.jupyter/.venv/lib/python3.12/site-packages/pandas/core/generic.py\u001b[0m in \u001b[0;36m?\u001b[0;34m(self, name, func, axis, skipna, numeric_only, min_count, **kwargs)\u001b[0m\n\u001b[1;32m  12482\u001b[0m             \u001b[0maxis\u001b[0m \u001b[0;34m=\u001b[0m \u001b[0;36m0\u001b[0m\u001b[0;34m\u001b[0m\u001b[0;34m\u001b[0m\u001b[0m\n\u001b[1;32m  12483\u001b[0m         \u001b[0;32melif\u001b[0m \u001b[0maxis\u001b[0m \u001b[0;32mis\u001b[0m \u001b[0mlib\u001b[0m\u001b[0;34m.\u001b[0m\u001b[0mno_default\u001b[0m\u001b[0;34m:\u001b[0m\u001b[0;34m\u001b[0m\u001b[0;34m\u001b[0m\u001b[0m\n\u001b[1;32m  12484\u001b[0m             \u001b[0maxis\u001b[0m \u001b[0;34m=\u001b[0m \u001b[0;36m0\u001b[0m\u001b[0;34m\u001b[0m\u001b[0;34m\u001b[0m\u001b[0m\n\u001b[1;32m  12485\u001b[0m \u001b[0;34m\u001b[0m\u001b[0m\n\u001b[0;32m> 12486\u001b[0;31m         return self._reduce(\n\u001b[0m\u001b[1;32m  12487\u001b[0m             \u001b[0mfunc\u001b[0m\u001b[0;34m,\u001b[0m\u001b[0;34m\u001b[0m\u001b[0;34m\u001b[0m\u001b[0m\n\u001b[1;32m  12488\u001b[0m             \u001b[0mname\u001b[0m\u001b[0;34m=\u001b[0m\u001b[0mname\u001b[0m\u001b[0;34m,\u001b[0m\u001b[0;34m\u001b[0m\u001b[0;34m\u001b[0m\u001b[0m\n\u001b[1;32m  12489\u001b[0m             \u001b[0maxis\u001b[0m\u001b[0;34m=\u001b[0m\u001b[0maxis\u001b[0m\u001b[0;34m,\u001b[0m\u001b[0;34m\u001b[0m\u001b[0;34m\u001b[0m\u001b[0m\n",
      "\u001b[0;32m~/dev/PySyft/.tox/syft.jupyter/.venv/lib/python3.12/site-packages/pandas/core/frame.py\u001b[0m in \u001b[0;36m?\u001b[0;34m(self, op, name, axis, skipna, numeric_only, filter_type, **kwds)\u001b[0m\n\u001b[1;32m  11433\u001b[0m         \u001b[0;32massert\u001b[0m \u001b[0mfilter_type\u001b[0m \u001b[0;32mis\u001b[0m \u001b[0;32mNone\u001b[0m \u001b[0;32mor\u001b[0m \u001b[0mfilter_type\u001b[0m \u001b[0;34m==\u001b[0m \u001b[0;34m\"bool\"\u001b[0m\u001b[0;34m,\u001b[0m \u001b[0mfilter_type\u001b[0m\u001b[0;34m\u001b[0m\u001b[0;34m\u001b[0m\u001b[0m\n\u001b[1;32m  11434\u001b[0m         \u001b[0mout_dtype\u001b[0m \u001b[0;34m=\u001b[0m \u001b[0;34m\"bool\"\u001b[0m \u001b[0;32mif\u001b[0m \u001b[0mfilter_type\u001b[0m \u001b[0;34m==\u001b[0m \u001b[0;34m\"bool\"\u001b[0m \u001b[0;32melse\u001b[0m \u001b[0;32mNone\u001b[0m\u001b[0;34m\u001b[0m\u001b[0;34m\u001b[0m\u001b[0m\n\u001b[1;32m  11435\u001b[0m \u001b[0;34m\u001b[0m\u001b[0m\n\u001b[1;32m  11436\u001b[0m         \u001b[0;32mif\u001b[0m \u001b[0maxis\u001b[0m \u001b[0;32mis\u001b[0m \u001b[0;32mnot\u001b[0m \u001b[0;32mNone\u001b[0m\u001b[0;34m:\u001b[0m\u001b[0;34m\u001b[0m\u001b[0;34m\u001b[0m\u001b[0m\n\u001b[0;32m> 11437\u001b[0;31m             \u001b[0maxis\u001b[0m \u001b[0;34m=\u001b[0m \u001b[0mself\u001b[0m\u001b[0;34m.\u001b[0m\u001b[0m_get_axis_number\u001b[0m\u001b[0;34m(\u001b[0m\u001b[0maxis\u001b[0m\u001b[0;34m)\u001b[0m\u001b[0;34m\u001b[0m\u001b[0;34m\u001b[0m\u001b[0m\n\u001b[0m\u001b[1;32m  11438\u001b[0m \u001b[0;34m\u001b[0m\u001b[0m\n\u001b[1;32m  11439\u001b[0m         \u001b[0;32mdef\u001b[0m \u001b[0mfunc\u001b[0m\u001b[0;34m(\u001b[0m\u001b[0mvalues\u001b[0m\u001b[0;34m:\u001b[0m \u001b[0mnp\u001b[0m\u001b[0;34m.\u001b[0m\u001b[0mndarray\u001b[0m\u001b[0;34m)\u001b[0m\u001b[0;34m:\u001b[0m\u001b[0;34m\u001b[0m\u001b[0;34m\u001b[0m\u001b[0m\n\u001b[1;32m  11440\u001b[0m             \u001b[0;31m# We only use this in the case that operates on self.values\u001b[0m\u001b[0;34m\u001b[0m\u001b[0;34m\u001b[0m\u001b[0m\n",
      "\u001b[0;32m~/dev/PySyft/.tox/syft.jupyter/.venv/lib/python3.12/site-packages/pandas/core/generic.py\u001b[0m in \u001b[0;36m?\u001b[0;34m(cls, axis)\u001b[0m\n\u001b[1;32m    573\u001b[0m     \u001b[0;32mdef\u001b[0m \u001b[0m_get_axis_number\u001b[0m\u001b[0;34m(\u001b[0m\u001b[0mcls\u001b[0m\u001b[0;34m,\u001b[0m \u001b[0maxis\u001b[0m\u001b[0;34m:\u001b[0m \u001b[0mAxis\u001b[0m\u001b[0;34m)\u001b[0m \u001b[0;34m->\u001b[0m \u001b[0mAxisInt\u001b[0m\u001b[0;34m:\u001b[0m\u001b[0;34m\u001b[0m\u001b[0;34m\u001b[0m\u001b[0m\n\u001b[1;32m    574\u001b[0m         \u001b[0;32mtry\u001b[0m\u001b[0;34m:\u001b[0m\u001b[0;34m\u001b[0m\u001b[0;34m\u001b[0m\u001b[0m\n\u001b[1;32m    575\u001b[0m             \u001b[0;32mreturn\u001b[0m \u001b[0mcls\u001b[0m\u001b[0;34m.\u001b[0m\u001b[0m_AXIS_TO_AXIS_NUMBER\u001b[0m\u001b[0;34m[\u001b[0m\u001b[0maxis\u001b[0m\u001b[0;34m]\u001b[0m\u001b[0;34m\u001b[0m\u001b[0;34m\u001b[0m\u001b[0m\n\u001b[1;32m    576\u001b[0m         \u001b[0;32mexcept\u001b[0m \u001b[0mKeyError\u001b[0m\u001b[0;34m:\u001b[0m\u001b[0;34m\u001b[0m\u001b[0;34m\u001b[0m\u001b[0m\n\u001b[0;32m--> 577\u001b[0;31m             \u001b[0;32mraise\u001b[0m \u001b[0mValueError\u001b[0m\u001b[0;34m(\u001b[0m\u001b[0;34mf\"\u001b[0m\u001b[0;34mNo axis named \u001b[0m\u001b[0;34m{\u001b[0m\u001b[0maxis\u001b[0m\u001b[0;34m}\u001b[0m\u001b[0;34m for object type \u001b[0m\u001b[0;34m{\u001b[0m\u001b[0mcls\u001b[0m\u001b[0;34m.\u001b[0m\u001b[0m__name__\u001b[0m\u001b[0;34m}\u001b[0m\u001b[0;34m\"\u001b[0m\u001b[0;34m)\u001b[0m\u001b[0;34m\u001b[0m\u001b[0;34m\u001b[0m\u001b[0m\n\u001b[0m",
      "\u001b[0;31mValueError\u001b[0m: No axis named Age for object type DataFrame"
     ]
    }
   ],
   "source": [
    "df.sum(\"Age\")"
   ]
  },
  {
   "cell_type": "code",
   "execution_count": 476,
   "id": "c9db06ed-d037-48d8-a752-a0f0d305c44b",
   "metadata": {},
   "outputs": [
    {
     "data": {
      "text/plain": [
       "__main__.SyftAutobox[DataFrame]"
      ]
     },
     "execution_count": 476,
     "metadata": {},
     "output_type": "execute_result"
    }
   ],
   "source": [
    "type(df_ob)"
   ]
  },
  {
   "cell_type": "code",
   "execution_count": 477,
   "id": "a6f4e99e-8ab8-490f-a841-362061bdb1e7",
   "metadata": {},
   "outputs": [
    {
     "data": {
      "text/html": [
       "<div>\n",
       "<style scoped>\n",
       "    .dataframe tbody tr th:only-of-type {\n",
       "        vertical-align: middle;\n",
       "    }\n",
       "\n",
       "    .dataframe tbody tr th {\n",
       "        vertical-align: top;\n",
       "    }\n",
       "\n",
       "    .dataframe thead th {\n",
       "        text-align: right;\n",
       "    }\n",
       "</style>\n",
       "<table border=\"1\" class=\"dataframe\">\n",
       "  <thead>\n",
       "    <tr style=\"text-align: right;\">\n",
       "      <th></th>\n",
       "      <th>Name</th>\n",
       "      <th>Age</th>\n",
       "      <th>City</th>\n",
       "    </tr>\n",
       "  </thead>\n",
       "  <tbody>\n",
       "    <tr>\n",
       "      <th>0</th>\n",
       "      <td>Alice</td>\n",
       "      <td>25</td>\n",
       "      <td>New York</td>\n",
       "    </tr>\n",
       "    <tr>\n",
       "      <th>1</th>\n",
       "      <td>Bob</td>\n",
       "      <td>30</td>\n",
       "      <td>Los Angeles</td>\n",
       "    </tr>\n",
       "    <tr>\n",
       "      <th>2</th>\n",
       "      <td>Charlie</td>\n",
       "      <td>35</td>\n",
       "      <td>Chicago</td>\n",
       "    </tr>\n",
       "  </tbody>\n",
       "</table>\n",
       "</div>"
      ],
      "text/plain": [
       "      Name  Age         City\n",
       "0    Alice   25     New York\n",
       "1      Bob   30  Los Angeles\n",
       "2  Charlie   35      Chicago"
      ]
     },
     "execution_count": 477,
     "metadata": {},
     "output_type": "execute_result"
    }
   ],
   "source": [
    "pd.DataFrame(df_ob)"
   ]
  },
  {
   "cell_type": "code",
   "execution_count": 478,
   "id": "22af679c-ecbe-4752-8103-723af87fa853",
   "metadata": {},
   "outputs": [
    {
     "data": {
      "text/plain": [
       "array([['Alice', 25, 'New York'],\n",
       "       ['Bob', 30, 'Los Angeles'],\n",
       "       ['Charlie', 35, 'Chicago']], dtype=object)"
      ]
     },
     "execution_count": 478,
     "metadata": {},
     "output_type": "execute_result"
    }
   ],
   "source": [
    "np.array(df_ob)"
   ]
  },
  {
   "cell_type": "code",
   "execution_count": null,
   "id": "29a9ad86-2b5c-4f40-a229-a22f5fbe5cc3",
   "metadata": {},
   "outputs": [],
   "source": []
  },
  {
   "cell_type": "code",
   "execution_count": null,
   "id": "261d2e94-bf5a-4766-8b1a-09df67d89592",
   "metadata": {},
   "outputs": [],
   "source": []
  },
  {
   "cell_type": "code",
   "execution_count": null,
   "id": "2b00dff5-8b4e-47f5-a9df-c74a1e098f8c",
   "metadata": {},
   "outputs": [],
   "source": []
  }
 ],
 "metadata": {
  "kernelspec": {
   "display_name": "Python 3 (ipykernel)",
   "language": "python",
   "name": "python3"
  },
  "language_info": {
   "codemirror_mode": {
    "name": "ipython",
    "version": 3
   },
   "file_extension": ".py",
   "mimetype": "text/x-python",
   "name": "python",
   "nbconvert_exporter": "python",
   "pygments_lexer": "ipython3",
   "version": "3.12.2"
  }
 },
 "nbformat": 4,
 "nbformat_minor": 5
}

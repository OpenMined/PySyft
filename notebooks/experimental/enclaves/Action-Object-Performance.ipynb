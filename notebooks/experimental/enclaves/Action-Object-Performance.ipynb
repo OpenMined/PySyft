{
 "cells": [
  {
   "cell_type": "code",
   "execution_count": null,
   "id": "e0141faa-33db-4d35-95c1-7eaa38061223",
   "metadata": {},
   "outputs": [],
   "source": [
    "# syft absolute\n",
    "import syft as sy"
   ]
  },
  {
   "cell_type": "code",
   "execution_count": null,
   "id": "61be8866-cf01-4577-bdf0-4114995eb39a",
   "metadata": {},
   "outputs": [],
   "source": [
    "canada_server = sy.orchestra.launch(\n",
    "    name=\"canada-domain\", port=8081, dev_mode=True, reset=True, profile=True\n",
    ")"
   ]
  },
  {
   "cell_type": "code",
   "execution_count": null,
   "id": "d509c48c-96a1-4706-8dbd-27143eeba41b",
   "metadata": {},
   "outputs": [],
   "source": [
    "domain_client = canada_server.login(email=\"info@openmined.org\", password=\"changethis\")"
   ]
  },
  {
   "cell_type": "code",
   "execution_count": null,
   "id": "c6b619a7-427e-4eee-9a24-4c65dee67e6f",
   "metadata": {},
   "outputs": [],
   "source": [
    "data = b\"A\" * (2**29)  # 1GB message"
   ]
  },
  {
   "cell_type": "code",
   "execution_count": null,
   "id": "1e15f7e3-8f0c-4981-b9bf-9ed2ba308282",
   "metadata": {},
   "outputs": [],
   "source": [
    "len(data) / 2**20"
   ]
  },
  {
   "cell_type": "code",
   "execution_count": null,
   "id": "27a9c748-2d96-4970-bc84-76077bc326a8",
   "metadata": {},
   "outputs": [],
   "source": [
    "%%pyinstrument\n",
    "action_obj = sy.ActionObject.from_obj(data)"
   ]
  },
  {
   "cell_type": "code",
   "execution_count": null,
   "id": "6de0b616-954b-4013-9694-47f1156e6f1b",
   "metadata": {},
   "outputs": [],
   "source": [
    "# %%pyinstrument\n",
    "# res = action_obj.send(domain_client)"
   ]
  },
  {
   "cell_type": "code",
   "execution_count": null,
   "id": "9c9735fe-5397-4f8c-8947-7be31b3e9403",
   "metadata": {},
   "outputs": [],
   "source": [
    "# %%time\n",
    "# _ = sy.serialize(res.syft_action_data, to_bytes=True)"
   ]
  },
  {
   "cell_type": "code",
   "execution_count": null,
   "id": "ef814db6-b86f-48d3-8b07-d99499650d05",
   "metadata": {},
   "outputs": [],
   "source": []
  }
 ],
 "metadata": {
  "kernelspec": {
   "display_name": "Python 3 (ipykernel)",
   "language": "python",
   "name": "python3"
  },
  "language_info": {
   "codemirror_mode": {
    "name": "ipython",
    "version": 3
   },
   "file_extension": ".py",
   "mimetype": "text/x-python",
   "name": "python",
   "nbconvert_exporter": "python",
   "pygments_lexer": "ipython3",
   "version": "3.11.8"
  }
 },
 "nbformat": 4,
 "nbformat_minor": 5
}

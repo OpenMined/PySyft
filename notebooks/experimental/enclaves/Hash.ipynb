{
 "cells": [
  {
   "cell_type": "code",
   "execution_count": 1,
   "id": "4e901f03-66aa-4ee9-8665-866a261cb298",
   "metadata": {},
   "outputs": [],
   "source": [
    "# third party\n",
    "import numpy as np\n",
    "\n",
    "# syft absolute\n",
    "import syft as sy"
   ]
  },
  {
   "cell_type": "code",
   "execution_count": 2,
   "id": "1fda9bfc-c8a1-48be-9567-02b4075b13d5",
   "metadata": {},
   "outputs": [],
   "source": [
    "a1 = sy.ActionObject.from_obj(np.array([1, 2, 3]))"
   ]
  },
  {
   "cell_type": "code",
   "execution_count": 3,
   "id": "e0d25819-5367-4328-acd7-3bcaa8428c69",
   "metadata": {},
   "outputs": [
    {
     "data": {
      "text/plain": [
       "'a9ec1f75a9003848fa9886e4cc2b7333b99d089af97ec6e0f774ba8bf92a1226'"
      ]
     },
     "execution_count": 3,
     "metadata": {},
     "output_type": "execute_result"
    }
   ],
   "source": [
    "a1.hash()"
   ]
  },
  {
   "cell_type": "code",
   "execution_count": 11,
   "id": "20f5fff0-846d-4df2-a3d0-cfd615693f39",
   "metadata": {},
   "outputs": [],
   "source": [
    "b1 = sy.ActionObject.from_obj(id=a1.id, syft_action_data=np.array([1, 2, 3]))"
   ]
  },
  {
   "cell_type": "code",
   "execution_count": 12,
   "id": "be93aaba-2d5f-46a0-9bd1-0f09b70e4c08",
   "metadata": {},
   "outputs": [
    {
     "data": {
      "text/plain": [
       "'a9ec1f75a9003848fa9886e4cc2b7333b99d089af97ec6e0f774ba8bf92a1226'"
      ]
     },
     "execution_count": 12,
     "metadata": {},
     "output_type": "execute_result"
    }
   ],
   "source": [
    "b1.hash()"
   ]
  },
  {
   "cell_type": "code",
   "execution_count": 13,
   "id": "008146b5-8ef2-4043-bf77-05c2c4295561",
   "metadata": {},
   "outputs": [],
   "source": [
    "a2 = sy.ActionObject.from_obj(5)"
   ]
  },
  {
   "cell_type": "code",
   "execution_count": 14,
   "id": "40d2c07b-458d-44ab-bbc3-c5808263df85",
   "metadata": {},
   "outputs": [
    {
     "data": {
      "text/plain": [
       "'8ee92c1a13aecee2cd3c4be229b01dc87d32236163f0b57f1277fe36a9e5dba9'"
      ]
     },
     "execution_count": 14,
     "metadata": {},
     "output_type": "execute_result"
    }
   ],
   "source": [
    "a2.hash()"
   ]
  },
  {
   "cell_type": "code",
   "execution_count": 15,
   "id": "821afc65-db28-45b5-ba9d-52bf82c19e03",
   "metadata": {},
   "outputs": [],
   "source": [
    "b2 = sy.ActionObject.from_obj(id=a2.id, syft_action_data=5)"
   ]
  },
  {
   "cell_type": "code",
   "execution_count": 16,
   "id": "df7dc61b-7f7b-47da-8119-34fbd0c272dc",
   "metadata": {},
   "outputs": [
    {
     "data": {
      "text/plain": [
       "'8ee92c1a13aecee2cd3c4be229b01dc87d32236163f0b57f1277fe36a9e5dba9'"
      ]
     },
     "execution_count": 16,
     "metadata": {},
     "output_type": "execute_result"
    }
   ],
   "source": [
    "b2.hash()"
   ]
  },
  {
   "cell_type": "code",
   "execution_count": null,
   "id": "fddfdadb-4d7c-4f24-9ff0-15c7e4f9164c",
   "metadata": {},
   "outputs": [],
   "source": []
  }
 ],
 "metadata": {
  "kernelspec": {
   "display_name": "Python 3 (ipykernel)",
   "language": "python",
   "name": "python3"
  },
  "language_info": {
   "codemirror_mode": {
    "name": "ipython",
    "version": 3
   },
   "file_extension": ".py",
   "mimetype": "text/x-python",
   "name": "python",
   "nbconvert_exporter": "python",
   "pygments_lexer": "ipython3",
   "version": "3.11.8"
  }
 },
 "nbformat": 4,
 "nbformat_minor": 5
}

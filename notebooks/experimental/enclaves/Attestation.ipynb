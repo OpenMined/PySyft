{
 "cells": [
  {
   "cell_type": "code",
   "execution_count": 1,
   "id": "8c096777-07f8-49b9-99b0-e53766dba8ef",
   "metadata": {},
   "outputs": [],
   "source": [
    "# syft absolute\n",
    "from syft.service.attestation.attestation_cpu_report import CPUAttestationReport\n",
    "from syft.service.attestation.attestation_gpu_report import GPUAttestationReport\n",
    "from syft.service.attestation.attestation_mock_cpu_report import CPU_MOCK_REPORT\n",
    "from syft.service.attestation.attestation_mock_gpu_report import GPU_MOCK_REPORT\n",
    "from syft.service.attestation.utils import AttestationType\n",
    "from syft.service.attestation.utils import verify_attestation_report"
   ]
  },
  {
   "cell_type": "code",
   "execution_count": 2,
   "id": "141b5813-91a5-42b8-8a44-2ba2d59c7669",
   "metadata": {},
   "outputs": [],
   "source": [
    "attestation_type = AttestationType(\"GPU\")"
   ]
  },
  {
   "cell_type": "code",
   "execution_count": 3,
   "id": "9e2ca30b-ef14-4de8-a524-c24f59f2fead",
   "metadata": {},
   "outputs": [],
   "source": [
    "if attestation_type == AttestationType.CPU:\n",
    "    token = CPU_MOCK_REPORT\n",
    "else:\n",
    "    token = GPU_MOCK_REPORT"
   ]
  },
  {
   "cell_type": "code",
   "execution_count": 4,
   "id": "45a566e1-7227-4af1-8276-f49defc44c79",
   "metadata": {},
   "outputs": [],
   "source": [
    "report = verify_attestation_report(token, attestation_type, verify_expiration=False)"
   ]
  },
  {
   "cell_type": "code",
   "execution_count": 5,
   "id": "615bd6c4-7124-4ba8-b40e-32290538d044",
   "metadata": {},
   "outputs": [
    {
     "data": {
      "text/plain": [
       "Ok({'sub': 'NVIDIA-GPU-ATTESTATION', 'secboot': True, 'x-nvidia-gpu-manufacturer': 'NVIDIA Corporation', 'x-nvidia-attestation-type': 'GPU', 'iss': 'https://nras.attestation.nvidia.com', 'eat_nonce': '12864006842D3061C9D9AB5576651F29D7D7D309677D2DEE42D8227913351CDB', 'x-nvidia-attestation-detailed-result': {'x-nvidia-gpu-driver-rim-schema-validated': True, 'x-nvidia-gpu-vbios-rim-cert-validated': True, 'x-nvidia-gpu-attestation-report-cert-chain-validated': True, 'x-nvidia-gpu-driver-rim-schema-fetched': True, 'x-nvidia-gpu-attestation-report-parsed': True, 'x-nvidia-gpu-nonce-match': True, 'x-nvidia-gpu-vbios-rim-signature-verified': True, 'x-nvidia-gpu-driver-rim-signature-verified': True, 'x-nvidia-gpu-arch-check': True, 'x-nvidia-attestation-warning': None, 'x-nvidia-gpu-measurements-match': True, 'x-nvidia-gpu-attestation-report-signature-verified': True, 'x-nvidia-gpu-vbios-rim-schema-validated': True, 'x-nvidia-gpu-driver-rim-cert-validated': True, 'x-nvidia-gpu-vbios-rim-schema-fetched': True, 'x-nvidia-gpu-vbios-rim-measurements-available': True, 'x-nvidia-gpu-driver-rim-driver-measurements-available': True}, 'x-nvidia-ver': '1.0', 'nbf': 1723442389, 'x-nvidia-gpu-driver-version': '535.129.03', 'dbgstat': 'disabled', 'hwmodel': 'GH100 A01 GSP BROM', 'oemid': '5703', 'measres': 'comparison-successful', 'exp': 1723445989, 'iat': 1723442389, 'x-nvidia-eat-ver': 'EAT-21', 'ueid': '434765761559257705805424939254888546986931277660', 'x-nvidia-gpu-vbios-version': '96.00.88.00.11', 'jti': 'db001de6-5e2d-4fb1-b7fd-f676809b6743'})"
      ]
     },
     "execution_count": 5,
     "metadata": {},
     "output_type": "execute_result"
    }
   ],
   "source": [
    "report"
   ]
  },
  {
   "cell_type": "code",
   "execution_count": 6,
   "id": "4e9c5bc6-dca4-4ad3-8ba9-ded53660ef57",
   "metadata": {},
   "outputs": [],
   "source": [
    "assert report.is_ok()"
   ]
  },
  {
   "cell_type": "code",
   "execution_count": 7,
   "id": "8badc250-bd8f-47fb-9a4d-102cd1bc2b1b",
   "metadata": {},
   "outputs": [],
   "source": [
    "report = report.ok()"
   ]
  },
  {
   "cell_type": "code",
   "execution_count": 8,
   "id": "7f347bd8-202f-4451-806d-53eedf2cd4a4",
   "metadata": {},
   "outputs": [],
   "source": [
    "if attestation_type == AttestationType.CPU:\n",
    "    attestation_report = CPUAttestationReport(report)\n",
    "else:\n",
    "    attestation_report = GPUAttestationReport(report)"
   ]
  },
  {
   "cell_type": "code",
   "execution_count": 9,
   "id": "03f342fe-ba5a-42db-a18c-87df4d22f2ee",
   "metadata": {},
   "outputs": [
    {
     "name": "stdout",
     "output_type": "stream",
     "text": [
      "\n",
      "-----------------------------------------------------------\n",
      "📝 Attestation Report Summary\n",
      "-----------------------------------------------------------\n",
      "Issued At: 2024-08-12 05:59:49\n",
      "Valid From: 2024-08-12 05:59:49\n",
      "Expiry: 2024-08-12 06:59:49 (Token expires in: Expired ❌)\n",
      "\n",
      "📢 Issuer Information\n",
      "-----------------------------------------------------------\n",
      "Issuer: https://nras.attestation.nvidia.com\n",
      "Attestation Type: GPU\n",
      "Device ID: 434765761559257705805424939254888546986931277660\n",
      "\n",
      "🔒 Security Features\n",
      "-----------------------------------------------------------\n",
      "Secure Boot: ✅ Enabled\n",
      "Debugging: ✅ Disabled\n",
      "\n",
      "💻 Hardware\n",
      "-----------------------------------------------------------\n",
      "HW Model : GH100 A01 GSP BROM\n",
      "OEM ID: 5703\n",
      "Driver Version: 535.129.03\n",
      "VBIOS Version: 96.00.88.00.11\n",
      "\n"
     ]
    }
   ],
   "source": [
    "print(attestation_report.generate_summary())"
   ]
  },
  {
   "cell_type": "code",
   "execution_count": null,
   "id": "3c0e1ee6-8ea1-47fb-ba7b-a8309413a067",
   "metadata": {},
   "outputs": [],
   "source": []
  }
 ],
 "metadata": {
  "kernelspec": {
   "display_name": "Python 3 (ipykernel)",
   "language": "python",
   "name": "python3"
  },
  "language_info": {
   "codemirror_mode": {
    "name": "ipython",
    "version": 3
   },
   "file_extension": ".py",
   "mimetype": "text/x-python",
   "name": "python",
   "nbconvert_exporter": "python",
   "pygments_lexer": "ipython3",
   "version": "3.11.8"
  }
 },
 "nbformat": 4,
 "nbformat_minor": 5
}

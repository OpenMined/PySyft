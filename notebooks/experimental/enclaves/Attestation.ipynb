{
 "cells": [
  {
   "cell_type": "code",
   "execution_count": null,
   "id": "8c096777-07f8-49b9-99b0-e53766dba8ef",
   "metadata": {},
   "outputs": [],
   "source": [
    "# syft absolute\n",
    "from syft.service.attestation.attestation_gpu_report import GPUAttestationReport\n",
    "from syft.service.attestation.utils import AttestationType\n",
    "from syft.service.attestation.utils import verify_attestation_report"
   ]
  },
  {
   "cell_type": "code",
   "execution_count": null,
   "id": "9e2ca30b-ef14-4de8-a524-c24f59f2fead",
   "metadata": {},
   "outputs": [],
   "source": [
    "gpu_token = \"eyJraWQiOiJudi1lYXQta2lkLXByb2QtMjAyNDA4MTIwMTEwMDQ0NTItYTM5NTMwNzYtZjc0Ni00MmViLTkzNjItYmY0OTBiYTM4OWJmIiwiYWxnIjoiRVMzODQifQ.eyJzdWIiOiJOVklESUEtR1BVLUFUVEVTVEFUSU9OIiwic2VjYm9vdCI6dHJ1ZSwieC1udmlkaWEtZ3B1LW1hbnVmYWN0dXJlciI6Ik5WSURJQSBDb3Jwb3JhdGlvbiIsIngtbnZpZGlhLWF0dGVzdGF0aW9uLXR5cGUiOiJHUFUiLCJpc3MiOiJodHRwczovL25yYXMuYXR0ZXN0YXRpb24ubnZpZGlhLmNvbSIsImVhdF9ub25jZSI6IjEyODY0MDA2ODQyRDMwNjFDOUQ5QUI1NTc2NjUxRjI5RDdEN0QzMDk2NzdEMkRFRTQyRDgyMjc5MTMzNTFDREIiLCJ4LW52aWRpYS1hdHRlc3RhdGlvbi1kZXRhaWxlZC1yZXN1bHQiOnsieC1udmlkaWEtZ3B1LWRyaXZlci1yaW0tc2NoZW1hLXZhbGlkYXRlZCI6dHJ1ZSwieC1udmlkaWEtZ3B1LXZiaW9zLXJpbS1jZXJ0LXZhbGlkYXRlZCI6dHJ1ZSwieC1udmlkaWEtZ3B1LWF0dGVzdGF0aW9uLXJlcG9ydC1jZXJ0LWNoYWluLXZhbGlkYXRlZCI6dHJ1ZSwieC1udmlkaWEtZ3B1LWRyaXZlci1yaW0tc2NoZW1hLWZldGNoZWQiOnRydWUsIngtbnZpZGlhLWdwdS1hdHRlc3RhdGlvbi1yZXBvcnQtcGFyc2VkIjp0cnVlLCJ4LW52aWRpYS1ncHUtbm9uY2UtbWF0Y2giOnRydWUsIngtbnZpZGlhLWdwdS12Ymlvcy1yaW0tc2lnbmF0dXJlLXZlcmlmaWVkIjp0cnVlLCJ4LW52aWRpYS1ncHUtZHJpdmVyLXJpbS1zaWduYXR1cmUtdmVyaWZpZWQiOnRydWUsIngtbnZpZGlhLWdwdS1hcmNoLWNoZWNrIjp0cnVlLCJ4LW52aWRpYS1hdHRlc3RhdGlvbi13YXJuaW5nIjpudWxsLCJ4LW52aWRpYS1ncHUtbWVhc3VyZW1lbnRzLW1hdGNoIjp0cnVlLCJ4LW52aWRpYS1ncHUtYXR0ZXN0YXRpb24tcmVwb3J0LXNpZ25hdHVyZS12ZXJpZmllZCI6dHJ1ZSwieC1udmlkaWEtZ3B1LXZiaW9zLXJpbS1zY2hlbWEtdmFsaWRhdGVkIjp0cnVlLCJ4LW52aWRpYS1ncHUtZHJpdmVyLXJpbS1jZXJ0LXZhbGlkYXRlZCI6dHJ1ZSwieC1udmlkaWEtZ3B1LXZiaW9zLXJpbS1zY2hlbWEtZmV0Y2hlZCI6dHJ1ZSwieC1udmlkaWEtZ3B1LXZiaW9zLXJpbS1tZWFzdXJlbWVudHMtYXZhaWxhYmxlIjp0cnVlLCJ4LW52aWRpYS1ncHUtZHJpdmVyLXJpbS1kcml2ZXItbWVhc3VyZW1lbnRzLWF2YWlsYWJsZSI6dHJ1ZX0sIngtbnZpZGlhLXZlciI6IjEuMCIsIm5iZiI6MTcyMzQ0MjM4OSwieC1udmlkaWEtZ3B1LWRyaXZlci12ZXJzaW9uIjoiNTM1LjEyOS4wMyIsImRiZ3N0YXQiOiJkaXNhYmxlZCIsImh3bW9kZWwiOiJHSDEwMCBBMDEgR1NQIEJST00iLCJvZW1pZCI6IjU3MDMiLCJtZWFzcmVzIjoiY29tcGFyaXNvbi1zdWNjZXNzZnVsIiwiZXhwIjoxNzIzNDQ1OTg5LCJpYXQiOjE3MjM0NDIzODksIngtbnZpZGlhLWVhdC12ZXIiOiJFQVQtMjEiLCJ1ZWlkIjoiNDM0NzY1NzYxNTU5MjU3NzA1ODA1NDI0OTM5MjU0ODg4NTQ2OTg2OTMxMjc3NjYwIiwieC1udmlkaWEtZ3B1LXZiaW9zLXZlcnNpb24iOiI5Ni4wMC44OC4wMC4xMSIsImp0aSI6ImRiMDAxZGU2LTVlMmQtNGZiMS1iN2ZkLWY2NzY4MDliNjc0MyJ9.lx9Tarzp8r8Dr9qwA0wb2_7KIOFZgBi1Q2I2QcMw4tzAb9RgeTUicwRvuLW1JNvZYRyfVkt6p9EPQN37RRaeM9yAD2eg9gBke9mXzpgQEQZJee8KScVuUG2rFEExFXfR\""
   ]
  },
  {
   "cell_type": "code",
   "execution_count": null,
   "id": "45a566e1-7227-4af1-8276-f49defc44c79",
   "metadata": {},
   "outputs": [],
   "source": [
    "report = verify_attestation_report(gpu_token, AttestationType.GPU)"
   ]
  },
  {
   "cell_type": "code",
   "execution_count": null,
   "id": "8badc250-bd8f-47fb-9a4d-102cd1bc2b1b",
   "metadata": {},
   "outputs": [],
   "source": [
    "report = report.ok()"
   ]
  },
  {
   "cell_type": "code",
   "execution_count": null,
   "id": "7f347bd8-202f-4451-806d-53eedf2cd4a4",
   "metadata": {},
   "outputs": [],
   "source": [
    "gpu_report = GPUAttestationReport(report)"
   ]
  },
  {
   "cell_type": "code",
   "execution_count": null,
   "id": "03f342fe-ba5a-42db-a18c-87df4d22f2ee",
   "metadata": {},
   "outputs": [],
   "source": [
    "print(gpu_report.generate_summary())"
   ]
  },
  {
   "cell_type": "code",
   "execution_count": null,
   "id": "3c0e1ee6-8ea1-47fb-ba7b-a8309413a067",
   "metadata": {},
   "outputs": [],
   "source": []
  }
 ],
 "metadata": {
  "kernelspec": {
   "display_name": "Python 3 (ipykernel)",
   "language": "python",
   "name": "python3"
  },
  "language_info": {
   "codemirror_mode": {
    "name": "ipython",
    "version": 3
   },
   "file_extension": ".py",
   "mimetype": "text/x-python",
   "name": "python",
   "nbconvert_exporter": "python",
   "pygments_lexer": "ipython3",
   "version": "3.11.8"
  }
 },
 "nbformat": 4,
 "nbformat_minor": 5
}

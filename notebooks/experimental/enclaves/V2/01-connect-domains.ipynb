{
 "cells": [
  {
   "cell_type": "markdown",
   "metadata": {},
   "source": [
    "# Introduction\n",
    "\n",
    "1. In the Previous project object, DS was able to easily associate domains, as we did not have association\n",
    "requests.This would mean that the DS needs to submit assocation requests to domains to connect them with each other.\n",
    "\n",
    "2. Project Invitation is a useful feature, but is very hard to implement, when in a distrubted setting, let us assume the DS is able to create projects on domains without any request/approval on the Project Itself.\n",
    "\n",
    "3. The Data Scientist is able to create a project if and only if , all the domains could talk to each other. (i.e they have beeen previously associated)\n",
    "\n",
    "4. This would mean that in our semi-Decentralized, leader based system , when ever a server would like to add an event/message to the project, it has to be sent to the leader, which is then broadcasted to all the other servers.\n",
    "\n",
    "5. For other situations, for example when a server would like to asset metadata of another server in a Multi Domain User Code request, they could directly contact the server, to retrieve the info, instead of going through the leader.\n",
    "\n",
    "6. This would require us to create a Full Mesh Network Topology, where each server is connected to each other."
   ]
  },
  {
   "cell_type": "code",
   "execution_count": null,
   "metadata": {},
   "outputs": [],
   "source": [
    "# syft absolute\n",
    "import syft as sy\n",
    "from syft.abstract_server import ServerType\n",
    "from syft.service.network.server_peer import ServerPeer\n",
    "\n",
    "CANADA_DOMAIN_PORT = 9081\n",
    "ITALY_DOMAIN_PORT = 9082"
   ]
  },
  {
   "cell_type": "markdown",
   "metadata": {},
   "source": [
    "# Launch servers\n",
    "\n",
    "We will begin by launching two domain servers and an enclave server."
   ]
  },
  {
   "cell_type": "code",
   "execution_count": null,
   "metadata": {},
   "outputs": [],
   "source": [
    "canada_server = sy.orchestra.launch(\n",
    "    name=\"canada-domain\",\n",
    "    port=CANADA_DOMAIN_PORT,\n",
    "    dev_mode=True,\n",
    ")\n",
    "italy_server = sy.orchestra.launch(\n",
    "    name=\"italy-domain\",\n",
    "    port=ITALY_DOMAIN_PORT,\n",
    "    dev_mode=True,\n",
    ")"
   ]
  },
  {
   "cell_type": "code",
   "execution_count": null,
   "metadata": {},
   "outputs": [],
   "source": [
    "ds_canada_client = canada_server.login(\n",
    "    email=\"sheldon@caltech.edu\", password=\"changethis\"\n",
    ")\n",
    "ds_italy_client = italy_server.login(email=\"sheldon@caltech.edu\", password=\"changethis\")\n",
    "\n",
    "assert ds_canada_client.metadata.server_type == ServerType.DOMAIN\n",
    "assert ds_italy_client.metadata.server_type == ServerType.DOMAIN"
   ]
  },
  {
   "cell_type": "markdown",
   "metadata": {},
   "source": [
    "# Create Assocation Requests from DS"
   ]
  },
  {
   "cell_type": "code",
   "execution_count": null,
   "metadata": {},
   "outputs": [],
   "source": [
    "canada_server_peer = ServerPeer.from_client(ds_canada_client)\n",
    "canada_server_peer"
   ]
  },
  {
   "cell_type": "code",
   "execution_count": null,
   "metadata": {},
   "outputs": [],
   "source": [
    "italy_server_peer = ServerPeer.from_client(ds_italy_client)\n",
    "italy_server_peer"
   ]
  },
  {
   "cell_type": "code",
   "execution_count": null,
   "metadata": {},
   "outputs": [],
   "source": [
    "canada_conn_req = ds_canada_client.api.services.network.add_peer(italy_server_peer)\n",
    "canada_conn_req"
   ]
  },
  {
   "cell_type": "code",
   "execution_count": null,
   "metadata": {},
   "outputs": [],
   "source": [
    "italy_conn_req = ds_italy_client.api.services.network.add_peer(canada_server_peer)\n",
    "italy_conn_req"
   ]
  },
  {
   "cell_type": "markdown",
   "metadata": {},
   "source": [
    "# Data Owners Login and Approve the Association Requests"
   ]
  },
  {
   "cell_type": "code",
   "execution_count": null,
   "metadata": {},
   "outputs": [],
   "source": [
    "do_canada_client = canada_server.login(\n",
    "    email=\"info@openmined.org\", password=\"changethis\"\n",
    ")\n",
    "do_italy_client = italy_server.login(email=\"info@openmined.org\", password=\"changethis\")"
   ]
  },
  {
   "cell_type": "code",
   "execution_count": null,
   "metadata": {},
   "outputs": [],
   "source": [
    "do_canada_client.requests"
   ]
  },
  {
   "cell_type": "code",
   "execution_count": null,
   "metadata": {},
   "outputs": [],
   "source": [
    "do_canada_client.requests[0].approve()"
   ]
  },
  {
   "cell_type": "code",
   "execution_count": null,
   "metadata": {},
   "outputs": [],
   "source": [
    "assert do_canada_client.peers[0].id == do_italy_client.id\n",
    "do_canada_client.peers"
   ]
  },
  {
   "cell_type": "code",
   "execution_count": null,
   "metadata": {},
   "outputs": [],
   "source": [
    "do_italy_client.requests"
   ]
  },
  {
   "cell_type": "code",
   "execution_count": null,
   "metadata": {},
   "outputs": [],
   "source": [
    "assert len(do_italy_client.api.services.request.get_all()) == 1\n",
    "do_italy_client.requests[0].approve()"
   ]
  },
  {
   "cell_type": "code",
   "execution_count": null,
   "metadata": {},
   "outputs": [],
   "source": [
    "assert do_italy_client.peers[0].id == do_canada_client.id\n",
    "do_italy_client.peers"
   ]
  },
  {
   "cell_type": "code",
   "execution_count": null,
   "metadata": {},
   "outputs": [],
   "source": [
    "# syft absolute\n",
    "from syft.service.network.utils import check_route_reachability"
   ]
  },
  {
   "cell_type": "code",
   "execution_count": null,
   "metadata": {},
   "outputs": [],
   "source": [
    "check_route_reachability([ds_canada_client, ds_italy_client])"
   ]
  },
  {
   "cell_type": "markdown",
   "metadata": {},
   "source": [
    "# Cleanup local domain servers"
   ]
  },
  {
   "cell_type": "code",
   "execution_count": null,
   "metadata": {},
   "outputs": [],
   "source": [
    "if canada_server.deployment_type.value == \"python\":\n",
    "    canada_server.land()\n",
    "\n",
    "if italy_server.deployment_type.value == \"python\":\n",
    "    italy_server.land()"
   ]
  },
  {
   "cell_type": "code",
   "execution_count": null,
   "metadata": {},
   "outputs": [],
   "source": []
  }
 ],
 "metadata": {
  "kernelspec": {
   "display_name": "Python 3 (ipykernel)",
   "language": "python",
   "name": "python3"
  },
  "language_info": {
   "codemirror_mode": {
    "name": "ipython",
    "version": 3
   },
   "file_extension": ".py",
   "mimetype": "text/x-python",
   "name": "python",
   "nbconvert_exporter": "python",
   "pygments_lexer": "ipython3",
   "version": "3.11.7"
  }
 },
 "nbformat": 4,
 "nbformat_minor": 4
}

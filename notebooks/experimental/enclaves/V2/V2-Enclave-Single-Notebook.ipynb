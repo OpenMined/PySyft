{
 "cells": [
  {
   "cell_type": "code",
   "execution_count": null,
   "id": "0",
   "metadata": {},
   "outputs": [],
   "source": [
    "# third party\n",
    "from recordlinkage.datasets import load_febrl4\n",
    "\n",
    "# syft absolute\n",
    "import syft as sy\n",
    "from syft.abstract_node import NodeType\n",
    "from syft.service.network.node_peer import NodePeer\n",
    "from syft.service.network.routes import HTTPNodeRoute\n",
    "from syft.service.project.project import check_route_reachability\n",
    "from syft.service.response import SyftSuccess\n",
    "\n",
    "CANADA_DOMAIN_PORT = 9081\n",
    "ITALY_DOMAIN_PORT = 9082\n",
    "CANADA_ENCLAVE_PORT = 9083"
   ]
  },
  {
   "cell_type": "markdown",
   "id": "1",
   "metadata": {},
   "source": [
    "# Launch nodes\n",
    "\n",
    "We will begin by launching two domain nodes and an enclave node."
   ]
  },
  {
   "cell_type": "code",
   "execution_count": null,
   "id": "2",
   "metadata": {},
   "outputs": [],
   "source": [
    "canada_node = sy.orchestra.launch(\n",
    "    name=\"canada-domain\", port=CANADA_DOMAIN_PORT, dev_mode=True, reset=True\n",
    ")\n",
    "italy_node = sy.orchestra.launch(\n",
    "    name=\"italy-domain\", port=ITALY_DOMAIN_PORT, dev_mode=True, reset=True\n",
    ")\n",
    "canada_enclave = sy.orchestra.launch(\n",
    "    name=\"canada-enclave\",\n",
    "    node_type=NodeType.ENCLAVE,\n",
    "    port=CANADA_ENCLAVE_PORT,\n",
    "    dev_mode=True,\n",
    "    reset=True,\n",
    ")"
   ]
  },
  {
   "cell_type": "code",
   "execution_count": null,
   "id": "3",
   "metadata": {},
   "outputs": [],
   "source": [
    "do_canada_client = canada_node.login(email=\"info@openmined.org\", password=\"changethis\")\n",
    "do_italy_client = italy_node.login(email=\"info@openmined.org\", password=\"changethis\")\n",
    "\n",
    "assert do_canada_client.metadata.node_type == NodeType.DOMAIN\n",
    "assert do_italy_client.metadata.node_type == NodeType.DOMAIN"
   ]
  },
  {
   "cell_type": "markdown",
   "id": "4",
   "metadata": {},
   "source": [
    "# Upload datasets to both domains"
   ]
  },
  {
   "cell_type": "code",
   "execution_count": null,
   "id": "5",
   "metadata": {},
   "outputs": [],
   "source": [
    "# Using public datasets from Freely Extensible Biomedical Record Linkage (Febrl) project\n",
    "canada_census_data, italy_census_data = load_febrl4()"
   ]
  },
  {
   "cell_type": "code",
   "execution_count": null,
   "id": "6",
   "metadata": {},
   "outputs": [],
   "source": [
    "for dataset, client, country in zip(\n",
    "    [canada_census_data, italy_census_data],\n",
    "    [do_canada_client, do_italy_client],\n",
    "    [\"Canada\", \"Italy\"],\n",
    "):\n",
    "    private_data, mock_data = dataset[:2500], dataset[2500:]\n",
    "    dataset = sy.Dataset(\n",
    "        name=f\"{country} - FEBrl Census Data\",\n",
    "        description=\"abc\",\n",
    "        asset_list=[\n",
    "            sy.Asset(\n",
    "                name=\"census_data\",\n",
    "                mock=mock_data,\n",
    "                data=private_data,\n",
    "                shape=private_data.shape,\n",
    "                mock_is_real=True,\n",
    "            )\n",
    "        ],\n",
    "    )\n",
    "    client.upload_dataset(dataset)"
   ]
  },
  {
   "cell_type": "code",
   "execution_count": null,
   "id": "7",
   "metadata": {},
   "outputs": [],
   "source": [
    "assert len(do_canada_client.datasets.get_all()) == 1\n",
    "assert len(do_italy_client.datasets.get_all()) == 1"
   ]
  },
  {
   "cell_type": "markdown",
   "id": "8",
   "metadata": {},
   "source": [
    "# Create account for data scientist on both the domains"
   ]
  },
  {
   "cell_type": "code",
   "execution_count": null,
   "id": "9",
   "metadata": {},
   "outputs": [],
   "source": [
    "for client in [do_canada_client, do_italy_client]:\n",
    "    res = client.register(\n",
    "        name=\"Sheldon\",\n",
    "        email=\"sheldon@caltech.edu\",\n",
    "        password=\"changethis\",\n",
    "        password_verify=\"changethis\",\n",
    "    )\n",
    "    assert isinstance(res, SyftSuccess)"
   ]
  },
  {
   "cell_type": "markdown",
   "id": "10",
   "metadata": {},
   "source": [
    "# Register the enclave with Canada domain"
   ]
  },
  {
   "cell_type": "code",
   "execution_count": null,
   "id": "11",
   "metadata": {},
   "outputs": [],
   "source": [
    "route = HTTPNodeRoute(host_or_ip=\"localhost\", port=CANADA_ENCLAVE_PORT)\n",
    "do_canada_client.enclaves.add(route=route)"
   ]
  },
  {
   "cell_type": "code",
   "execution_count": null,
   "id": "12",
   "metadata": {},
   "outputs": [],
   "source": [
    "assert (len(do_canada_client.enclaves.get_all())) == 1\n",
    "do_canada_client.enclaves.get_all()"
   ]
  },
  {
   "cell_type": "markdown",
   "id": "13",
   "metadata": {},
   "source": [
    "## Login to DS Accounts"
   ]
  },
  {
   "cell_type": "code",
   "execution_count": null,
   "id": "14",
   "metadata": {},
   "outputs": [],
   "source": [
    "ds_canada_client = canada_node.login(email=\"sheldon@caltech.edu\", password=\"changethis\")\n",
    "ds_italy_client = italy_node.login(email=\"sheldon@caltech.edu\", password=\"changethis\")"
   ]
  },
  {
   "cell_type": "markdown",
   "id": "15",
   "metadata": {},
   "source": [
    "## Create Association Requests"
   ]
  },
  {
   "cell_type": "code",
   "execution_count": null,
   "id": "16",
   "metadata": {},
   "outputs": [],
   "source": [
    "canada_node_peer = NodePeer.from_client(ds_canada_client)\n",
    "canada_node_peer"
   ]
  },
  {
   "cell_type": "code",
   "execution_count": null,
   "id": "17",
   "metadata": {},
   "outputs": [],
   "source": [
    "italy_node_peer = NodePeer.from_client(ds_italy_client)\n",
    "italy_node_peer"
   ]
  },
  {
   "cell_type": "code",
   "execution_count": null,
   "id": "18",
   "metadata": {},
   "outputs": [],
   "source": [
    "canada_conn_req = ds_canada_client.api.services.network.add_peer(italy_node_peer)\n",
    "canada_conn_req"
   ]
  },
  {
   "cell_type": "code",
   "execution_count": null,
   "id": "19",
   "metadata": {},
   "outputs": [],
   "source": [
    "italy_conn_req = ds_italy_client.api.services.network.add_peer(canada_node_peer)\n",
    "italy_conn_req"
   ]
  },
  {
   "cell_type": "code",
   "execution_count": null,
   "id": "20",
   "metadata": {},
   "outputs": [],
   "source": [
    "do_canada_client.requests[-1].approve()"
   ]
  },
  {
   "cell_type": "code",
   "execution_count": null,
   "id": "21",
   "metadata": {},
   "outputs": [],
   "source": [
    "do_italy_client.requests[-1].approve()"
   ]
  },
  {
   "cell_type": "code",
   "execution_count": null,
   "id": "22",
   "metadata": {},
   "outputs": [],
   "source": [
    "check_route_reachability([ds_canada_client, ds_italy_client])"
   ]
  },
  {
   "cell_type": "markdown",
   "id": "23",
   "metadata": {},
   "source": [
    "# Find datasets across multiple domains"
   ]
  },
  {
   "cell_type": "code",
   "execution_count": null,
   "id": "24",
   "metadata": {},
   "outputs": [],
   "source": [
    "canada_census_data = ds_canada_client.datasets[-1].assets[0]\n",
    "italy_census_data = ds_italy_client.datasets[-1].assets[0]"
   ]
  },
  {
   "cell_type": "code",
   "execution_count": null,
   "id": "25",
   "metadata": {},
   "outputs": [],
   "source": [
    "# find available enclaves\n",
    "all_enclaves = ds_canada_client.enclaves.get_all() + ds_italy_client.enclaves.get_all()\n",
    "all_enclaves"
   ]
  },
  {
   "cell_type": "code",
   "execution_count": null,
   "id": "26",
   "metadata": {},
   "outputs": [],
   "source": [
    "enclave = all_enclaves[0]\n",
    "enclave"
   ]
  },
  {
   "cell_type": "markdown",
   "id": "27",
   "metadata": {},
   "source": [
    "# Create and submit a distributed project"
   ]
  },
  {
   "cell_type": "code",
   "execution_count": null,
   "id": "28",
   "metadata": {},
   "outputs": [],
   "source": [
    "# Code to perform the multi-party computation\n",
    "\n",
    "\n",
    "@sy.syft_function(\n",
    "    input_policy=sy.ExactMatch(\n",
    "        canada_census_data=canada_census_data,\n",
    "        italy_census_data=italy_census_data,\n",
    "    ),\n",
    "    output_policy=sy.SingleExecutionExactOutput(),\n",
    "    deployment_policy=sy.RunOnEnclave(\n",
    "        provider=enclave,\n",
    "        # image=sy.DockerWorkerConfig(dockerfile=dockerfile_str),\n",
    "        # workers_num=4,\n",
    "        # worker_pool_name=worker_pool_name,\n",
    "        # timeout=300,\n",
    "        # result_persistence={\"storage_path\": \"/data/enclave\", \"retention_policy\": \"30d\"}\n",
    "    ),\n",
    ")\n",
    "def compute_census_matches(canada_census_data, italy_census_data):\n",
    "    # third party\n",
    "    import recordlinkage\n",
    "\n",
    "    # Index step\n",
    "    indexer = recordlinkage.Index()\n",
    "    indexer.block(\"given_name\")\n",
    "\n",
    "    candidate_links = indexer.index(canada_census_data, italy_census_data)\n",
    "\n",
    "    # Comparison step\n",
    "    compare_cl = recordlinkage.Compare()\n",
    "\n",
    "    compare_cl.exact(\"given_name\", \"given_name\", label=\"given_name\")\n",
    "    compare_cl.string(\n",
    "        \"surname\", \"surname\", method=\"jarowinkler\", threshold=0.85, label=\"surname\"\n",
    "    )\n",
    "    compare_cl.exact(\"date_of_birth\", \"date_of_birth\", label=\"date_of_birth\")\n",
    "    compare_cl.exact(\"suburb\", \"suburb\", label=\"suburb\")\n",
    "    compare_cl.exact(\"state\", \"state\", label=\"state\")\n",
    "    compare_cl.string(\"address_1\", \"address_1\", threshold=0.85, label=\"address_1\")\n",
    "\n",
    "    features = compare_cl.compute(\n",
    "        candidate_links, canada_census_data, italy_census_data\n",
    "    )\n",
    "\n",
    "    # Classification step\n",
    "    matches = features[features.sum(axis=1) > 3]\n",
    "\n",
    "    return len(matches)"
   ]
  },
  {
   "cell_type": "code",
   "execution_count": null,
   "id": "29",
   "metadata": {},
   "outputs": [],
   "source": [
    "# Check result of execution on mock data\n",
    "mock_result = compute_census_matches(\n",
    "    canada_census_data=canada_census_data.mock,\n",
    "    italy_census_data=italy_census_data.mock,\n",
    ")\n",
    "mock_result"
   ]
  },
  {
   "cell_type": "code",
   "execution_count": null,
   "id": "30",
   "metadata": {},
   "outputs": [],
   "source": [
    "new_project = sy.Project(\n",
    "    name=\"Census Matching\",\n",
    "    description=\"Match census data between Canada and Italy\",\n",
    "    members=[ds_canada_client, ds_italy_client],\n",
    ")\n",
    "new_project"
   ]
  },
  {
   "cell_type": "code",
   "execution_count": null,
   "id": "31",
   "metadata": {},
   "outputs": [],
   "source": [
    "project = new_project.send()"
   ]
  },
  {
   "cell_type": "code",
   "execution_count": null,
   "id": "32",
   "metadata": {},
   "outputs": [],
   "source": [
    "project"
   ]
  },
  {
   "cell_type": "code",
   "execution_count": null,
   "id": "33",
   "metadata": {},
   "outputs": [],
   "source": [
    "project.create_code_request(\n",
    "    compute_census_matches, clients=[ds_canada_client, ds_italy_client]\n",
    ")"
   ]
  },
  {
   "cell_type": "code",
   "execution_count": null,
   "id": "34",
   "metadata": {},
   "outputs": [],
   "source": [
    "assert len(do_canada_client.code.get_all()) == 1\n",
    "assert len(do_italy_client.code.get_all()) == 1"
   ]
  },
  {
   "cell_type": "markdown",
   "id": "35",
   "metadata": {},
   "source": [
    "# Cleanup local domain servers"
   ]
  },
  {
   "cell_type": "code",
   "execution_count": null,
   "id": "36",
   "metadata": {},
   "outputs": [],
   "source": [
    "if canada_node.deployment_type.value == \"python\":\n",
    "    canada_node.land()\n",
    "\n",
    "if italy_node.deployment_type.value == \"python\":\n",
    "    italy_node.land()\n",
    "\n",
    "if canada_enclave.deployment_type.value == \"python\":\n",
    "    canada_enclave.land()"
   ]
  },
  {
   "cell_type": "code",
   "execution_count": null,
   "id": "37",
   "metadata": {},
   "outputs": [],
   "source": []
  }
 ],
 "metadata": {
  "kernelspec": {
   "display_name": "Python 3 (ipykernel)",
   "language": "python",
   "name": "python3"
  },
  "language_info": {
   "codemirror_mode": {
    "name": "ipython",
    "version": 3
   },
   "file_extension": ".py",
   "mimetype": "text/x-python",
   "name": "python",
   "nbconvert_exporter": "python",
   "pygments_lexer": "ipython3",
   "version": "3.11.8"
  }
 },
 "nbformat": 4,
 "nbformat_minor": 5
}

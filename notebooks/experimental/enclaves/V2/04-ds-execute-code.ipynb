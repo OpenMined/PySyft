{
 "cells": [
  {
   "cell_type": "markdown",
   "metadata": {},
   "source": [
    "# Introduction\n",
    "\n",
    "- Previous: [02-do-review-code.ipynb](./02-do-review-code.ipynb)\n",
    "- First: [00-do-setup-domain.ipynb](./00-do-setup-domain.ipynb)"
   ]
  },
  {
   "cell_type": "markdown",
   "metadata": {},
   "source": [
    "# Prerequisites\n",
    "You have ran the [02-do-review-code.ipynb](./02-do-review-code.ipynb) and the submitted code is approved by both `canada-domain` and `italy-domain`."
   ]
  },
  {
   "cell_type": "code",
   "execution_count": null,
   "metadata": {},
   "outputs": [],
   "source": [
    "# syft absolute\n",
    "import syft as sy\n",
    "from syft.abstract_server import ServerType\n",
    "\n",
    "CANADA_DOMAIN_PORT = 9081\n",
    "ITALY_DOMAIN_PORT = 9082\n",
    "CANADA_ENCLAVE_PORT = 9083"
   ]
  },
  {
   "cell_type": "code",
   "execution_count": null,
   "metadata": {},
   "outputs": [],
   "source": [
    "# Launch the domain servers we setup in the previous notebook\n",
    "canada_server = sy.orchestra.launch(\n",
    "    name=\"canada-domain\", port=CANADA_DOMAIN_PORT, dev_mode=True\n",
    ")\n",
    "italy_server = sy.orchestra.launch(\n",
    "    name=\"italy-domain\", port=ITALY_DOMAIN_PORT, dev_mode=True\n",
    ")\n",
    "canada_enclave = sy.orchestra.launch(\n",
    "    name=\"canada-enclave\",\n",
    "    server_type=ServerType.ENCLAVE,\n",
    "    port=CANADA_ENCLAVE_PORT,\n",
    "    dev_mode=True,\n",
    "    create_producer=True,\n",
    "    n_consumers=3,\n",
    "    reset=True,  # * Reset the enclave each time for ease in development\n",
    ")"
   ]
  },
  {
   "cell_type": "code",
   "execution_count": null,
   "metadata": {},
   "outputs": [],
   "source": [
    "ds_canada_client = canada_server.login(\n",
    "    email=\"sheldon@caltech.edu\", password=\"changethis\"\n",
    ")\n",
    "ds_italy_client = italy_server.login(email=\"sheldon@caltech.edu\", password=\"changethis\")"
   ]
  },
  {
   "cell_type": "code",
   "execution_count": null,
   "metadata": {},
   "outputs": [],
   "source": [
    "project = ds_canada_client.api.services.project.get_by_name(\"Census Matching\")\n",
    "project"
   ]
  },
  {
   "cell_type": "code",
   "execution_count": null,
   "metadata": {},
   "outputs": [],
   "source": [
    "assert project.pending_requests == 0"
   ]
  },
  {
   "cell_type": "code",
   "execution_count": null,
   "metadata": {},
   "outputs": [],
   "source": [
    "code = project.code[0]"
   ]
  },
  {
   "cell_type": "code",
   "execution_count": null,
   "metadata": {},
   "outputs": [],
   "source": [
    "code.setup_enclave()"
   ]
  },
  {
   "cell_type": "code",
   "execution_count": null,
   "metadata": {},
   "outputs": [],
   "source": [
    "code.request_asset_transfer()"
   ]
  },
  {
   "cell_type": "code",
   "execution_count": null,
   "metadata": {},
   "outputs": [],
   "source": [
    "code.request_execution()"
   ]
  },
  {
   "cell_type": "code",
   "execution_count": null,
   "metadata": {},
   "outputs": [],
   "source": [
    "result = code.get_result()\n",
    "print(result)"
   ]
  },
  {
   "cell_type": "code",
   "execution_count": null,
   "metadata": {},
   "outputs": [],
   "source": [
    "# Or you can call all of the above in one line using the following\n",
    "result = code.orchestrate_enclave_execution()\n",
    "print(result)"
   ]
  },
  {
   "cell_type": "markdown",
   "metadata": {},
   "source": [
    "# Cleanup local domain servers"
   ]
  },
  {
   "cell_type": "code",
   "execution_count": null,
   "metadata": {},
   "outputs": [],
   "source": [
    "if canada_server.deployment_type.value == \"python\":\n",
    "    canada_server.land()\n",
    "\n",
    "if italy_server.deployment_type.value == \"python\":\n",
    "    italy_server.land()\n",
    "\n",
    "if canada_enclave.deployment_type.value == \"python\":\n",
    "    canada_enclave.land()"
   ]
  }
 ],
 "metadata": {
  "kernelspec": {
   "display_name": "Python 3 (ipykernel)",
   "language": "python",
   "name": "python3"
  },
  "language_info": {
   "codemirror_mode": {
    "name": "ipython",
    "version": 3
   },
   "file_extension": ".py",
   "mimetype": "text/x-python",
   "name": "python",
   "nbconvert_exporter": "python",
   "pygments_lexer": "ipython3",
   "version": "3.11.7"
  }
 },
 "nbformat": 4,
 "nbformat_minor": 4
}

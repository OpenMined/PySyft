{
 "cells": [
  {
   "cell_type": "markdown",
   "metadata": {},
   "source": [
    "# Introduction\n",
    "\n",
    "In this tutorial, we will demonstrate how to use **Enclaves** in PySyft to securely perform computations among assets from multiple domains. We will cover the following workflows:\n",
    "\n",
    "Constraints:\n",
    "\n",
    "1. Once the enclave is set up for multiparty code execution, no domain has special privileges, and all domain are the same citizen, even the one responsible for leasing the Enclave.\n",
    "2. Domains must not communicate with each other, neither should the system require domains to be aware of the presence of other domains.\n",
    "3. System should be able to run the computation on both long-running Enclaves, as well as ephemeral (on-demand) Enclaves.\n",
    "4. DS is assumed to have the highest interest in ensuring code execution.\n",
    "5. DS is aware of all the domains and enclaves present in the network.\n",
    "6. Principle of least privilege is followed.\n",
    "\n",
    "## Data Owners Workflow - Part 1\n",
    "[./00-do-setup-domain.ipynb](./00-do-setup-domain.ipynb)\n",
    "- Launch two domain servers for providing data to the data scientist.\n",
    "- Launch one enclave server for performing the secure computation using data from both the domain servers.\n",
    "- Upload datasets to both the domain servers.\n",
    "- Register an account for the data scientist in both the domain servers.\n",
    "- Register the enclave server with one of the domain servers for discoverability by the data scientist.\n",
    "\n",
    "## Data Scientist Workflow - Part 1\n",
    "[./01-ds-submit-project.ipynb](./01-ds-submit-project.ipynb)\n",
    "- Find datasets across multiple domains.\n",
    "- Find a suitable Enclave for performing the multi-party computation.\n",
    "- Create a project containing code to perform multi-party computation.\n",
    "- Submit the project for review by the data owners.\n",
    "\n",
    "## Data Owner Workflow - Part 2\n",
    "[./02-do-review-code.ipynb](./02-do-review-code.ipynb)\n",
    "- View all pending projects.\n",
    "- Select a project and review the code, assets and the policies.\n",
    "- Run the code on mock data from all the dependent domains.\n",
    "- Approve the request.\n",
    "\n",
    "## Data Scientist Workflow - Part 2\n",
    "[./03-ds-execute-code.ipynb](./03-ds-execute-code.ipynb)\n",
    "- Check the project approval.\n",
    "- Request execution when the code is approved and ready\n",
    "- Download the result."
   ]
  },
  {
   "cell_type": "code",
   "execution_count": null,
   "metadata": {},
   "outputs": [],
   "source": [
    "# third party\n",
    "import pytest\n",
    "from recordlinkage.datasets import load_febrl4\n",
    "\n",
    "# syft absolute\n",
    "import syft as sy\n",
    "from syft.abstract_server import ServerType\n",
    "from syft.service.network.routes import HTTPServerRoute\n",
    "from syft.service.response import SyftAttributeError\n",
    "from syft.service.response import SyftSuccess\n",
    "\n",
    "CANADA_DOMAIN_PORT = 9081\n",
    "ITALY_DOMAIN_PORT = 9082\n",
    "CANADA_ENCLAVE_PORT = 9083"
   ]
  },
  {
   "cell_type": "markdown",
   "metadata": {},
   "source": [
    "# Launch servers\n",
    "\n",
    "We will begin by launching two domain servers and an enclave server."
   ]
  },
  {
   "cell_type": "code",
   "execution_count": null,
   "metadata": {},
   "outputs": [],
   "source": [
    "canada_server = sy.orchestra.launch(\n",
    "    name=\"canada-domain\", port=CANADA_DOMAIN_PORT, dev_mode=True, reset=True\n",
    ")\n",
    "italy_server = sy.orchestra.launch(\n",
    "    name=\"italy-domain\", port=ITALY_DOMAIN_PORT, dev_mode=True, reset=True\n",
    ")\n",
    "canada_enclave = sy.orchestra.launch(\n",
    "    name=\"canada-enclave\",\n",
    "    server_type=ServerType.ENCLAVE,\n",
    "    port=CANADA_ENCLAVE_PORT,\n",
    "    dev_mode=True,\n",
    "    reset=True,\n",
    ")"
   ]
  },
  {
   "cell_type": "code",
   "execution_count": null,
   "metadata": {},
   "outputs": [],
   "source": [
    "do_canada_client = canada_server.login(\n",
    "    email=\"info@openmined.org\", password=\"changethis\"\n",
    ")\n",
    "do_italy_client = italy_server.login(email=\"info@openmined.org\", password=\"changethis\")\n",
    "\n",
    "assert do_canada_client.metadata.server_type == ServerType.DOMAIN\n",
    "assert do_italy_client.metadata.server_type == ServerType.DOMAIN"
   ]
  },
  {
   "cell_type": "markdown",
   "metadata": {},
   "source": [
    "# Upload datasets to both domains"
   ]
  },
  {
   "cell_type": "code",
   "execution_count": null,
   "metadata": {},
   "outputs": [],
   "source": [
    "# Using public datasets from Freely Extensible Biomedical Record Linkage (Febrl) project\n",
    "canada_census_data, italy_census_data = load_febrl4()"
   ]
  },
  {
   "cell_type": "code",
   "execution_count": null,
   "metadata": {},
   "outputs": [],
   "source": [
    "for dataset, client, country in zip(\n",
    "    [canada_census_data, italy_census_data],\n",
    "    [do_canada_client, do_italy_client],\n",
    "    [\"Canada\", \"Italy\"],\n",
    "):\n",
    "    private_data, mock_data = dataset[:2500], dataset[2500:]\n",
    "    dataset = sy.Dataset(\n",
    "        name=f\"{country} - FEBrl Census Data\",\n",
    "        description=\"abc\",\n",
    "        asset_list=[\n",
    "            sy.Asset(\n",
    "                name=\"census_data\",\n",
    "                mock=mock_data,\n",
    "                data=private_data,\n",
    "                shape=private_data.shape,\n",
    "                mock_is_real=True,\n",
    "            )\n",
    "        ],\n",
    "    )\n",
    "    client.upload_dataset(dataset)"
   ]
  },
  {
   "cell_type": "code",
   "execution_count": null,
   "metadata": {},
   "outputs": [],
   "source": [
    "assert len(do_canada_client.datasets.get_all()) == 1\n",
    "assert len(do_italy_client.datasets.get_all()) == 1"
   ]
  },
  {
   "cell_type": "markdown",
   "metadata": {},
   "source": [
    "# Create account for data scientist on both the domains"
   ]
  },
  {
   "cell_type": "code",
   "execution_count": null,
   "metadata": {},
   "outputs": [],
   "source": [
    "for client in [do_canada_client, do_italy_client]:\n",
    "    res = client.register(\n",
    "        name=\"Sheldon\",\n",
    "        email=\"sheldon@caltech.edu\",\n",
    "        password=\"changethis\",\n",
    "        password_verify=\"changethis\",\n",
    "    )\n",
    "    assert isinstance(res, SyftSuccess)"
   ]
  },
  {
   "cell_type": "markdown",
   "metadata": {},
   "source": [
    "# Register the enclave with Canada domain"
   ]
  },
  {
   "cell_type": "code",
   "execution_count": null,
   "metadata": {},
   "outputs": [],
   "source": [
    "route = HTTPServerRoute(host_or_ip=\"localhost\", port=CANADA_ENCLAVE_PORT)\n",
    "do_canada_client.enclaves.add(route=route)"
   ]
  },
  {
   "cell_type": "code",
   "execution_count": null,
   "metadata": {},
   "outputs": [],
   "source": [
    "assert (len(do_canada_client.enclaves.get_all())) == 1\n",
    "do_canada_client.enclaves.get_all()"
   ]
  },
  {
   "cell_type": "code",
   "execution_count": null,
   "metadata": {},
   "outputs": [],
   "source": [
    "ds_canada_client = sy.login(\n",
    "    email=\"sheldon@caltech.edu\", password=\"changethis\", port=CANADA_DOMAIN_PORT\n",
    ")"
   ]
  },
  {
   "cell_type": "code",
   "execution_count": null,
   "metadata": {},
   "outputs": [],
   "source": [
    "# Data scientist should not be able to add enclave to the domain\n",
    "with pytest.raises(SyftAttributeError) as exc_info:\n",
    "    ds_canada_client.enclaves.add(\n",
    "        name=\"Dummy Enclave\", route=HTTPServerRoute(host_or_ip=\"localhost\", port=9084)\n",
    "    )\n",
    "print(exc_info.value)"
   ]
  },
  {
   "cell_type": "code",
   "execution_count": null,
   "metadata": {},
   "outputs": [],
   "source": [
    "# Ensure that the data scientist can access the enclave added by the domain owner\n",
    "assert (len(ds_canada_client.enclaves.get_all())) == 1\n",
    "ds_canada_client.enclaves.get_all()"
   ]
  },
  {
   "cell_type": "markdown",
   "metadata": {},
   "source": [
    "# Cleanup local domain servers"
   ]
  },
  {
   "cell_type": "code",
   "execution_count": null,
   "metadata": {},
   "outputs": [],
   "source": [
    "if canada_server.deployment_type.value == \"python\":\n",
    "    canada_server.land()\n",
    "\n",
    "if italy_server.deployment_type.value == \"python\":\n",
    "    italy_server.land()\n",
    "\n",
    "if canada_enclave.deployment_type.value == \"python\":\n",
    "    canada_enclave.land()"
   ]
  },
  {
   "cell_type": "code",
   "execution_count": null,
   "metadata": {},
   "outputs": [],
   "source": []
  }
 ],
 "metadata": {
  "kernelspec": {
   "display_name": "Python 3 (ipykernel)",
   "language": "python",
   "name": "python3"
  },
  "language_info": {
   "codemirror_mode": {
    "name": "ipython",
    "version": 3
   },
   "file_extension": ".py",
   "mimetype": "text/x-python",
   "name": "python",
   "nbconvert_exporter": "python",
   "pygments_lexer": "ipython3",
   "version": "3.11.8"
  }
 },
 "nbformat": 4,
 "nbformat_minor": 4
}

{
 "cells": [
  {
   "cell_type": "markdown",
   "metadata": {},
   "source": [
    "# Introduction\n",
    "\n",
    "- Previous: [02-do-review-code.ipynb](./02-do-review-code.ipynb)\n",
    "- First: [00-do-setup-domain.ipynb](./00-do-setup-domain.ipynb)"
   ]
  },
  {
   "cell_type": "markdown",
   "metadata": {},
   "source": [
    "# Prerequisites\n",
    "You have ran the [02-do-review-code.ipynb](./02-do-review-code.ipynb) and the submitted code is approved by both `canada-domain` and `italy-domain`."
   ]
  },
  {
   "cell_type": "code",
   "execution_count": 1,
   "metadata": {},
   "outputs": [],
   "source": [
    "# syft absolute\n",
    "import syft as sy\n",
    "from syft.abstract_node import NodeType\n",
    "\n",
    "CANADA_DOMAIN_PORT = 9081\n",
    "ITALY_DOMAIN_PORT = 9082\n",
    "CANADA_ENCLAVE_PORT = 9083"
   ]
  },
  {
   "cell_type": "code",
   "execution_count": null,
   "metadata": {},
   "outputs": [],
   "source": [
    "# Launch the domain nodes we setup in the previous notebook\n",
    "canada_node = sy.orchestra.launch(\n",
    "    name=\"canada-domain\", port=CANADA_DOMAIN_PORT, dev_mode=True\n",
    ")\n",
    "italy_node = sy.orchestra.launch(\n",
    "    name=\"italy-domain\", port=ITALY_DOMAIN_PORT, dev_mode=True\n",
    ")\n",
    "canada_enclave = sy.orchestra.launch(\n",
    "    name=\"canada-enclave\",\n",
    "    node_type=NodeType.ENCLAVE,\n",
    "    port=CANADA_ENCLAVE_PORT,\n",
    "    reset=True,  # * Reset the enclave each time for ease in development\n",
    "    dev_mode=True,\n",
    ")"
   ]
  },
  {
   "cell_type": "code",
   "execution_count": null,
   "metadata": {},
   "outputs": [],
   "source": [
    "ds_canada_client = canada_node.login(email=\"sheldon@caltech.edu\", password=\"changethis\")\n",
    "ds_italy_client = italy_node.login(email=\"sheldon@caltech.edu\", password=\"changethis\")"
   ]
  },
  {
   "cell_type": "code",
   "execution_count": null,
   "metadata": {},
   "outputs": [],
   "source": [
    "project = sy.DistributedProject.get_by_name(\n",
    "    \"Census Matching\", clients=[ds_canada_client, ds_italy_client]\n",
    ")\n",
    "project"
   ]
  },
  {
   "cell_type": "code",
   "execution_count": null,
   "metadata": {},
   "outputs": [],
   "source": [
    "assert project.pending_requests == 0"
   ]
  },
  {
   "cell_type": "code",
   "execution_count": null,
   "metadata": {},
   "outputs": [],
   "source": [
    "# TODO\n",
    "# job = project.request_execution(blocking=False)\n",
    "result = project.request_execution(blocking=True)\n",
    "print(result)"
   ]
  },
  {
   "cell_type": "code",
   "execution_count": null,
   "metadata": {},
   "outputs": [],
   "source": [
    "# TODO\n",
    "# result = job.wait().get()\n",
    "result"
   ]
  },
  {
   "cell_type": "markdown",
   "metadata": {},
   "source": [
    "# Cleanup local domain servers"
   ]
  },
  {
   "cell_type": "code",
   "execution_count": null,
   "metadata": {},
   "outputs": [],
   "source": [
    "if canada_node.deployment_type.value == \"python\":\n",
    "    canada_node.land()\n",
    "\n",
    "if italy_node.deployment_type.value == \"python\":\n",
    "    italy_node.land()\n",
    "\n",
    "if canada_enclave.deployment_type.value == \"python\":\n",
    "    canada_enclave.land()"
   ]
  }
 ],
 "metadata": {
  "kernelspec": {
   "display_name": "PySyft",
   "language": "python",
   "name": "python3"
  },
  "language_info": {
   "codemirror_mode": {
    "name": "ipython",
    "version": 3
   },
   "file_extension": ".py",
   "mimetype": "text/x-python",
   "name": "python",
   "nbconvert_exporter": "python",
   "pygments_lexer": "ipython3",
   "version": "3.11.7"
  }
 },
 "nbformat": 4,
 "nbformat_minor": 2
}

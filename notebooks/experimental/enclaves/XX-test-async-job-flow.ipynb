{
 "cells": [
  {
   "cell_type": "code",
   "execution_count": null,
   "metadata": {},
   "outputs": [],
   "source": [
    "# syft absolute\n",
    "import syft as sy"
   ]
  },
  {
   "cell_type": "code",
   "execution_count": null,
   "metadata": {},
   "outputs": [],
   "source": [
    "domain_node = sy.orchestra.launch(\n",
    "    name=\"domain-node\",\n",
    "    port=\"auto\",\n",
    "    local_db=True,\n",
    "    dev_mode=True,\n",
    "    reset=True,\n",
    "    create_producer=True,\n",
    "    n_consumers=3,\n",
    ")\n",
    "do_client = domain_node.login(email=\"info@openmined.org\", password=\"changethis\")\n",
    "do_client.register(\n",
    "    name=\"Data Scientist\",\n",
    "    email=\"ds@openmined.org\",\n",
    "    password=\"changethis\",\n",
    "    password_verify=\"changethis\",\n",
    ")\n",
    "ds_client = domain_node.login(email=\"ds@openmined.org\", password=\"changethis\")"
   ]
  },
  {
   "cell_type": "code",
   "execution_count": null,
   "metadata": {},
   "outputs": [],
   "source": [
    "@sy.syft_function_single_use()\n",
    "def test():\n",
    "    # stdlib\n",
    "    from time import sleep\n",
    "\n",
    "    sleep(15)\n",
    "    return 1"
   ]
  },
  {
   "cell_type": "code",
   "execution_count": null,
   "metadata": {},
   "outputs": [],
   "source": [
    "new_project = sy.Project(name=\"Test Project\", members=[ds_client])\n",
    "new_project.create_code_request(test, ds_client)\n",
    "new_project.send()"
   ]
  },
  {
   "cell_type": "code",
   "execution_count": null,
   "metadata": {},
   "outputs": [],
   "source": [
    "do_client.requests[0].approve()"
   ]
  },
  {
   "cell_type": "code",
   "execution_count": null,
   "metadata": {},
   "outputs": [],
   "source": [
    "code = do_client.code[0]\n",
    "assert len(do_client.api.services.job.get_by_user_code_id(user_code_id=code.id)) == 0\n",
    "job1 = do_client.api.services.code.call(uid=code.id, blocking=False)\n",
    "assert len(do_client.api.services.job.get_by_user_code_id(user_code_id=code.id)) == 1"
   ]
  },
  {
   "cell_type": "code",
   "execution_count": null,
   "metadata": {},
   "outputs": [],
   "source": [
    "job2 = do_client.api.services.job.get_by_user_code_id(user_code_id=code.id)[-1]"
   ]
  },
  {
   "cell_type": "code",
   "execution_count": null,
   "metadata": {},
   "outputs": [],
   "source": [
    "res = job2.wait()\n",
    "res.get()"
   ]
  }
 ],
 "metadata": {
  "kernelspec": {
   "display_name": "PySyft",
   "language": "python",
   "name": "python3"
  },
  "language_info": {
   "codemirror_mode": {
    "name": "ipython",
    "version": 3
   },
   "file_extension": ".py",
   "mimetype": "text/x-python",
   "name": "python",
   "nbconvert_exporter": "python",
   "pygments_lexer": "ipython3",
   "version": "3.11.7"
  }
 },
 "nbformat": 4,
 "nbformat_minor": 2
}

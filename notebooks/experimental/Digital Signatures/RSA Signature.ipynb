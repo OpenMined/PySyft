{
 "cells": [
  {
   "cell_type": "code",
   "execution_count": 1,
   "id": "75ac0cec-fb91-4166-aced-4b48eb2084ea",
   "metadata": {},
   "outputs": [],
   "source": [
    "import syft as sy\n",
    "from cryptography.hazmat.primitives.asymmetric.rsa import RSAPrivateKey\n",
    "from cryptography.hazmat.primitives.asymmetric.rsa import RSAPrivateKey\n",
    "from cryptography.hazmat.primitives.asymmetric.rsa import RSAPublicKey\n",
    "from cryptography.hazmat.primitives import hashes\n",
    "from cryptography.hazmat.primitives.asymmetric import padding\n",
    "from cryptography.hazmat.primitives.asymmetric import rsa\n",
    "from cryptography.hazmat.primitives import serialization"
   ]
  },
  {
   "cell_type": "code",
   "execution_count": 2,
   "id": "c41350c3-ba32-401e-8452-c8711851931b",
   "metadata": {},
   "outputs": [
    {
     "name": "stdout",
     "output_type": "stream",
     "text": [
      "Autoreload enabled\n"
     ]
    }
   ],
   "source": [
    "sy.enable_autoreload()"
   ]
  },
  {
   "cell_type": "code",
   "execution_count": 3,
   "id": "1036a7fe-dce4-4259-bac4-aa5492995155",
   "metadata": {},
   "outputs": [],
   "source": [
    "from syft.server.credentials import SyftSigningKey"
   ]
  },
  {
   "cell_type": "code",
   "execution_count": 4,
   "id": "b44d1064-cb31-4024-a9fa-0921350fa1a7",
   "metadata": {},
   "outputs": [],
   "source": [
    "key = SyftSigningKey.generate()"
   ]
  },
  {
   "cell_type": "code",
   "execution_count": 5,
   "id": "5990faa8-36dc-4976-b565-f0176bdb2161",
   "metadata": {},
   "outputs": [],
   "source": [
    "public_key = key.verify_key"
   ]
  },
  {
   "cell_type": "code",
   "execution_count": 6,
   "id": "e496cb31-c31e-471d-8d6d-ed71eec33b86",
   "metadata": {},
   "outputs": [
    {
     "data": {
      "text/plain": [
       "b'\\x00\\x00\\x00\\x00B\\x00\\x00\\x00\\x00\\x00\\x00\\x00\\x01\\x00\\x04\\x00\\x01\\x00\\x00\\x00\\x00\\x00\\x00\\x00\\x00\\x00\\x00\\x00\\x00\\x00\\x00\\x00\\x00\\x00\\x00\\x00\\x00\\x00\\x00\\x00\\r\\x00\\x00\\x00\\x0e\\x00\\x00\\x00\\x01\\x00\\x00\\x00\\x82\\x00\\x00\\x00syft_verify_key\\x00\\x01\\x00\\x00\\x00\\x1a\\x0e\\x00\\x00-----BEGIN PUBLIC KEY-----\\nMIIBIjANBgkqhkiG9w0BAQEFAAOCAQ8AMIIBCgKCAQEAriDDwD0NZ/+vtGaJDBjx\\niAHOOOZhJunXMpdvuvhVLEec690TXNiTM7W514pF7/s4lZzkGIjQ3A2acA3Bj4SQ\\nASF18W34HOfdNbRehq1DlinTkJWCZAjphYOqU86aKYewE6idIYwgrCDuvU5CqGUt\\n/0EK8MEWpXUAzVscle3l5UzJ8oAO/DiBF8DuJGd1BJN1Fy1kmQN8pK6Mtu6RR2jH\\nlBZ5Eg9+iZALSty04egPwxpqgr91NHB0M/WWeTnDTf6B4LeFF1WnF2ocvEJO23ZJ\\ns+HBLXjdArq1T95+HqlkWhNTZiNyeB8UNLGiAqOJ1rSRV2VeWW2euUx1wFkzPKaw\\nUwIDAQAB\\n-----END PUBLIC KEY-----\\n\\x00\\x00\\x00\\x00\\x00'"
      ]
     },
     "execution_count": 6,
     "metadata": {},
     "output_type": "execute_result"
    }
   ],
   "source": [
    "sy.serialize(public_key,to_bytes=True)"
   ]
  },
  {
   "cell_type": "code",
   "execution_count": 7,
   "id": "b4c8aff1-87b7-44b3-9b7e-9ca41fa90d3f",
   "metadata": {},
   "outputs": [],
   "source": [
    "res = sy.deserialize(sy.serialize(public_key, to_bytes=True), from_bytes=True)"
   ]
  },
  {
   "cell_type": "code",
   "execution_count": 8,
   "id": "f5e9a5a8-fe21-4b82-bd94-72ed0bca015c",
   "metadata": {},
   "outputs": [
    {
     "data": {
      "text/plain": [
       "True"
      ]
     },
     "execution_count": 8,
     "metadata": {},
     "output_type": "execute_result"
    }
   ],
   "source": [
    "res.verify_key == public_key.verify_key"
   ]
  },
  {
   "cell_type": "code",
   "execution_count": 10,
   "id": "832ad04f-024f-4494-a4ce-676f17b4f9c4",
   "metadata": {},
   "outputs": [
    {
     "data": {
      "text/plain": [
       "<cryptography.hazmat.bindings._rust.openssl.rsa.RSAPublicKey at 0x29f35c350>"
      ]
     },
     "execution_count": 10,
     "metadata": {},
     "output_type": "execute_result"
    }
   ],
   "source": [
    "public_key.verify_key"
   ]
  },
  {
   "cell_type": "code",
   "execution_count": null,
   "id": "8e1f7fe8-8908-4f64-8d38-06ea67b02cbd",
   "metadata": {},
   "outputs": [],
   "source": [
    "sy.deserialize(sy.serialize(key.verify_key, to_bytes=True), from_bytes=True)"
   ]
  },
  {
   "cell_type": "code",
   "execution_count": null,
   "id": "dfeab69a-e5bf-49f5-8bde-45a0be7ee384",
   "metadata": {},
   "outputs": [],
   "source": [
    "hash(key.signing_key)"
   ]
  },
  {
   "cell_type": "code",
   "execution_count": null,
   "id": "0d7e4944-9d2d-4096-96d6-8dc2b94dc898",
   "metadata": {},
   "outputs": [],
   "source": [
    "hash(key.verify_key)"
   ]
  },
  {
   "cell_type": "code",
   "execution_count": null,
   "id": "2ac78b14-9854-4fd7-b131-b205b2998781",
   "metadata": {},
   "outputs": [],
   "source": [
    "len(bytes(key))"
   ]
  },
  {
   "cell_type": "code",
   "execution_count": null,
   "id": "6ffe882b-7d8b-4640-9147-5cce2e72ac97",
   "metadata": {},
   "outputs": [],
   "source": [
    "len(bytes(key.verify_key))"
   ]
  },
  {
   "cell_type": "code",
   "execution_count": null,
   "id": "37aa169a-4ce9-444f-8066-d06e2f403be0",
   "metadata": {},
   "outputs": [],
   "source": [
    "data = b\"A\" * (10**9)  # 1GB message"
   ]
  },
  {
   "cell_type": "code",
   "execution_count": null,
   "id": "d7a13e7e-db24-4079-8fc3-0a3a685d73b4",
   "metadata": {},
   "outputs": [],
   "source": [
    "from cryptography.hazmat.primitives import hashes\n",
    "from cryptography.hazmat.primitives.asymmetric import padding\n",
    "from cryptography.hazmat.primitives.asymmetric import rsa\n",
    "\n",
    "private_key = rsa.generate_private_key(\n",
    "    public_exponent=65537,\n",
    "    key_size=2048,\n",
    ")\n",
    "\n",
    "message = data"
   ]
  },
  {
   "cell_type": "code",
   "execution_count": null,
   "id": "10bf121a-7931-4dba-bd5c-d563ac3b9283",
   "metadata": {},
   "outputs": [],
   "source": [
    "value = serialization.load_pem_private_key(value, password=None)"
   ]
  },
  {
   "cell_type": "code",
   "execution_count": null,
   "id": "6677a090-72ab-4b59-a658-f00c5f672635",
   "metadata": {},
   "outputs": [],
   "source": [
    "ser = private_key.private_bytes(\n",
    "            encoding=serialization.Encoding.PEM,\n",
    "            format=serialization.PrivateFormat.TraditionalOpenSSL,\n",
    "            encryption_algorithm=serialization.NoEncryption()\n",
    ")"
   ]
  },
  {
   "cell_type": "code",
   "execution_count": null,
   "id": "70c90ead-e202-405d-bef6-73265f3e52bf",
   "metadata": {},
   "outputs": [],
   "source": [
    "load_key = serialization.load_pem_private_key(ser, password=None)"
   ]
  },
  {
   "cell_type": "code",
   "execution_count": null,
   "id": "885b1770-cafe-4ae3-9fea-b10a2fec5512",
   "metadata": {},
   "outputs": [],
   "source": [
    "load_key.private_numbers() == private_key.private_numbers()"
   ]
  },
  {
   "cell_type": "code",
   "execution_count": null,
   "id": "0060c6ee-4b3c-4d40-bfe6-e4bd72c92f20",
   "metadata": {},
   "outputs": [],
   "source": [
    "private_key"
   ]
  },
  {
   "cell_type": "code",
   "execution_count": null,
   "id": "9ee44ab1-6916-43d9-ba59-4db362d5536a",
   "metadata": {},
   "outputs": [],
   "source": [
    "isinstance(private_key, RSAPrivateKey)"
   ]
  },
  {
   "cell_type": "code",
   "execution_count": null,
   "id": "2fda77ca-5a01-4bea-990a-55ffded64a22",
   "metadata": {},
   "outputs": [],
   "source": [
    "%%time\n",
    "signature = private_key.sign(\n",
    "    message,\n",
    "    padding.PSS(mgf=padding.MGF1(hashes.SHA256()), salt_length=padding.PSS.MAX_LENGTH),\n",
    "    hashes.SHA256(),\n",
    ")"
   ]
  },
  {
   "cell_type": "code",
   "execution_count": null,
   "id": "49f6077c-0c3d-4394-a1fa-b0fb77f467b8",
   "metadata": {},
   "outputs": [],
   "source": [
    "public_key = private_key.public_key()"
   ]
  },
  {
   "cell_type": "code",
   "execution_count": null,
   "id": "d59a20fb-5954-4ddc-9d73-40e60090bd5b",
   "metadata": {},
   "outputs": [],
   "source": [
    "type(public_key)"
   ]
  },
  {
   "cell_type": "code",
   "execution_count": null,
   "id": "b7b7938c-83c7-4154-95fd-76d68bfbc92b",
   "metadata": {},
   "outputs": [],
   "source": [
    "%%time\n",
    "public_key.verify(\n",
    "    signature,\n",
    "    message,\n",
    "    padding.PSS(mgf=padding.MGF1(hashes.SHA256()), salt_length=padding.PSS.MAX_LENGTH),\n",
    "    hashes.SHA256(),\n",
    ")"
   ]
  },
  {
   "cell_type": "code",
   "execution_count": null,
   "id": "ce32f2d8-d76a-4bb0-b74d-a30c1871cbef",
   "metadata": {},
   "outputs": [],
   "source": [
    "hash(private_key)"
   ]
  },
  {
   "cell_type": "code",
   "execution_count": null,
   "id": "8e118bec-ec48-4222-b203-560e54067fb1",
   "metadata": {},
   "outputs": [],
   "source": [
    "from cryptography.hazmat.primitives import serialization"
   ]
  },
  {
   "cell_type": "code",
   "execution_count": null,
   "id": "dd064eca-8dd3-4422-aad6-850169eff372",
   "metadata": {},
   "outputs": [],
   "source": [
    "res = private_key.private_bytes(\n",
    "   encoding=serialization.Encoding.PEM,\n",
    "   format=serialization.PrivateFormat.TraditionalOpenSSL,\n",
    "   encryption_algorithm=serialization.NoEncryption()\n",
    ")"
   ]
  },
  {
   "cell_type": "code",
   "execution_count": null,
   "id": "35a085f3-516a-41e9-ba04-b63ed321e01a",
   "metadata": {},
   "outputs": [],
   "source": [
    "serialization.load_pem_private_key(res, password=None)"
   ]
  },
  {
   "cell_type": "code",
   "execution_count": null,
   "id": "91e84199-83b1-42ba-b6e7-e7a6f342c152",
   "metadata": {},
   "outputs": [],
   "source": []
  }
 ],
 "metadata": {
  "kernelspec": {
   "display_name": "Python 3 (ipykernel)",
   "language": "python",
   "name": "python3"
  },
  "language_info": {
   "codemirror_mode": {
    "name": "ipython",
    "version": 3
   },
   "file_extension": ".py",
   "mimetype": "text/x-python",
   "name": "python",
   "nbconvert_exporter": "python",
   "pygments_lexer": "ipython3",
   "version": "3.11.8"
  }
 },
 "nbformat": 4,
 "nbformat_minor": 5
}

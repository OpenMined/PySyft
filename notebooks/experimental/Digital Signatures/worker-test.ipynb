{
 "cells": [
  {
   "cell_type": "code",
   "execution_count": null,
   "id": "07013beb-054f-4bf4-afce-1e86a9136566",
   "metadata": {},
   "outputs": [],
   "source": [
    "import syft as sy"
   ]
  },
  {
   "cell_type": "code",
   "execution_count": null,
   "id": "e23277de-851e-48a2-a1b8-65d7346606f9",
   "metadata": {},
   "outputs": [],
   "source": [
    "sy.enable_autoreload()"
   ]
  },
  {
   "cell_type": "code",
   "execution_count": null,
   "id": "d386f351-9259-42d4-9d7a-2fa02c5f8696",
   "metadata": {},
   "outputs": [],
   "source": [
    "domain = sy.orchestra.launch(name=\"test\" , dev_mode=True, reset=True)"
   ]
  },
  {
   "cell_type": "code",
   "execution_count": null,
   "id": "aa65a984-d123-40c6-bb00-e38b4000ee6b",
   "metadata": {},
   "outputs": [],
   "source": [
    "admin_client = domain.login(email=\"info@openmined.org\", password=\"changethis\")"
   ]
  },
  {
   "cell_type": "code",
   "execution_count": null,
   "id": "cce142d5-ed36-4e91-b790-a509d881d402",
   "metadata": {
    "scrolled": true
   },
   "outputs": [],
   "source": [
    "admin_client.register(\n",
    "    name=\"Sheldon\",\n",
    "        email=\"sheldon@caltech.edu\",\n",
    "        password=\"changethis\",\n",
    "        password_verify=\"changethis\",\n",
    "    )"
   ]
  },
  {
   "cell_type": "code",
   "execution_count": null,
   "id": "d67d4545-2e49-4e61-8a4d-2858084ceaf9",
   "metadata": {},
   "outputs": [],
   "source": [
    "data  = {admin_client.credentials:sy.UID()}"
   ]
  },
  {
   "cell_type": "code",
   "execution_count": null,
   "id": "4870588c-131e-4965-b6e2-89fde958f49f",
   "metadata": {},
   "outputs": [],
   "source": [
    "data"
   ]
  },
  {
   "cell_type": "code",
   "execution_count": null,
   "id": "43c04669-1aba-4e41-8fe7-2cf68b52bbc1",
   "metadata": {},
   "outputs": [],
   "source": [
    "admin_client.credentials in data.keys()"
   ]
  },
  {
   "cell_type": "code",
   "execution_count": null,
   "id": "ae890fd9-e87c-401a-b806-47f0a7ce739b",
   "metadata": {},
   "outputs": [],
   "source": [
    "data[admin_client.credentials]"
   ]
  },
  {
   "cell_type": "code",
   "execution_count": null,
   "id": "495d17c0-57c6-46c9-ae2c-c75a0f8a0c36",
   "metadata": {},
   "outputs": [],
   "source": []
  },
  {
   "cell_type": "code",
   "execution_count": null,
   "id": "86b67cf1-3780-4481-9cfc-4b1ee109980e",
   "metadata": {},
   "outputs": [],
   "source": []
  }
 ],
 "metadata": {
  "kernelspec": {
   "display_name": "Python 3 (ipykernel)",
   "language": "python",
   "name": "python3"
  },
  "language_info": {
   "codemirror_mode": {
    "name": "ipython",
    "version": 3
   },
   "file_extension": ".py",
   "mimetype": "text/x-python",
   "name": "python",
   "nbconvert_exporter": "python",
   "pygments_lexer": "ipython3",
   "version": "3.11.8"
  }
 },
 "nbformat": 4,
 "nbformat_minor": 5
}

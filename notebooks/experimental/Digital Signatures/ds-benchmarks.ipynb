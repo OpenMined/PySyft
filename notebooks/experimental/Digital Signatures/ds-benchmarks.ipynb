{
 "cells": [
  {
   "cell_type": "code",
   "execution_count": 6,
   "id": "721d9a24-aec7-4fbd-a9c2-a6146a4da291",
   "metadata": {},
   "outputs": [],
   "source": [
    "data = b\"A\" * (10**9)  # 1GB message"
   ]
  },
  {
   "cell_type": "markdown",
   "id": "d9a2e0c0-ef3b-41be-a4e8-0d9f190a1106",
   "metadata": {},
   "source": [
    "# Using PyNacl"
   ]
  },
  {
   "cell_type": "code",
   "execution_count": 7,
   "id": "a4145072-a959-479b-8c80-da15f82946f3",
   "metadata": {},
   "outputs": [
    {
     "name": "stdout",
     "output_type": "stream",
     "text": [
      "Time to hash with hashlib: 0.45 seconds\n",
      "Time to sign hashed message with PyNaCl: 0.00 seconds\n",
      "Total time (hash + sign): 0.45 seconds\n",
      "Time to directly sign large message with PyNaCl: 22.56 seconds\n"
     ]
    }
   ],
   "source": [
    "# stdlib\n",
    "import hashlib\n",
    "import time\n",
    "\n",
    "# third party\n",
    "from nacl.signing import SigningKey\n",
    "\n",
    "# Generate a new random signing key\n",
    "signing_key = SigningKey.generate()\n",
    "\n",
    "# Example large message\n",
    "large_message = data\n",
    "\n",
    "# Hash the message with SHA-256 using hashlib\n",
    "start = time.time()\n",
    "hash_object = hashlib.sha256()\n",
    "hash_object.update(large_message)\n",
    "hashed_message = hash_object.digest()\n",
    "hash_time = time.time() - start\n",
    "\n",
    "# Sign the hashed message with PyNaCl\n",
    "start = time.time()\n",
    "signed_hash = signing_key.sign(hashed_message)\n",
    "sign_time = time.time() - start\n",
    "\n",
    "# Directly sign the large message with PyNaCl\n",
    "start = time.time()\n",
    "signed_message = signing_key.sign(large_message)\n",
    "direct_sign_time = time.time() - start\n",
    "\n",
    "print(f\"Time to hash with hashlib: {hash_time:.2f} seconds\")\n",
    "print(f\"Time to sign hashed message with PyNaCl: {sign_time:.2f} seconds\")\n",
    "print(f\"Total time (hash + sign): {hash_time + sign_time:.2f} seconds\")\n",
    "print(\n",
    "    f\"Time to directly sign large message with PyNaCl: {direct_sign_time:.2f} seconds\"\n",
    ")"
   ]
  },
  {
   "cell_type": "markdown",
   "id": "d8581767-bee2-42e1-a571-148cf0fb12a4",
   "metadata": {},
   "source": [
    "# Using Cryptography library"
   ]
  },
  {
   "cell_type": "code",
   "execution_count": 19,
   "id": "8ea32e21-8987-4459-aa0f-6bc832376ab7",
   "metadata": {},
   "outputs": [],
   "source": [
    "# !pip install cryptography"
   ]
  },
  {
   "cell_type": "code",
   "execution_count": 8,
   "id": "1618c35b-cb6e-4f28-a13c-a2e23497841c",
   "metadata": {},
   "outputs": [
    {
     "name": "stdout",
     "output_type": "stream",
     "text": [
      "CPU times: user 1.38 s, sys: 11 ms, total: 1.39 s\n",
      "Wall time: 1.38 s\n"
     ]
    }
   ],
   "source": [
    "# third party\n",
    "%%time\n",
    "# third party\n",
    "from cryptography.hazmat.primitives.asymmetric.ed25519 import Ed25519PrivateKey\n",
    "\n",
    "private_key = Ed25519PrivateKey.generate()\n",
    "signature = private_key.sign(data)"
   ]
  },
  {
   "cell_type": "code",
   "execution_count": 20,
   "id": "9abb35b3-1891-4074-8f0e-729de0c2e4a2",
   "metadata": {},
   "outputs": [
    {
     "name": "stdout",
     "output_type": "stream",
     "text": [
      "CPU times: user 2.22 s, sys: 23.2 ms, total: 2.24 s\n",
      "Wall time: 2.25 s\n"
     ]
    }
   ],
   "source": [
    "# third party\n",
    "%%time\n",
    "# third party\n",
    "from cryptography.hazmat.primitives.asymmetric.ed448 import Ed448PrivateKey\n",
    "\n",
    "private_key = Ed448PrivateKey.generate()\n",
    "signature = private_key.sign(data)"
   ]
  },
  {
   "cell_type": "code",
   "execution_count": 22,
   "id": "66341fe5-94c3-4c8e-af34-a2e837a6957f",
   "metadata": {},
   "outputs": [
    {
     "name": "stdout",
     "output_type": "stream",
     "text": [
      "CPU times: user 485 ms, sys: 4.75 ms, total: 490 ms\n",
      "Wall time: 489 ms\n"
     ]
    }
   ],
   "source": [
    "# third party\n",
    "%%time\n",
    "# third party\n",
    "from cryptography.hazmat.primitives import hashes\n",
    "from cryptography.hazmat.primitives.asymmetric import dsa\n",
    "\n",
    "private_key = dsa.generate_private_key(\n",
    "    key_size=1024,\n",
    ")\n",
    "signature = private_key.sign(data, hashes.SHA256())"
   ]
  },
  {
   "cell_type": "markdown",
   "id": "6fa46875-4405-47c6-855c-0b3f407aa26c",
   "metadata": {},
   "source": [
    "# Hashing by PyNacl"
   ]
  },
  {
   "cell_type": "code",
   "execution_count": 9,
   "id": "ea204831-482d-4d3a-988b-32920b7af285",
   "metadata": {},
   "outputs": [
    {
     "name": "stdout",
     "output_type": "stream",
     "text": [
      "Time taken for sha256 16.29426908493042\n",
      "Time taken for sha512 11.238587856292725\n",
      "Time taken for blake2b 7.366748094558716\n"
     ]
    }
   ],
   "source": [
    "# third party\n",
    "import nacl.encoding\n",
    "import nacl.hash\n",
    "\n",
    "methods = [\"sha256\", \"sha512\", \"blake2b\"]\n",
    "\n",
    "for hash_method in methods:\n",
    "    HASHER = getattr(nacl.hash, hash_method)\n",
    "\n",
    "    start = time.time()\n",
    "    digest = HASHER(data, encoder=nacl.encoding.HexEncoder)\n",
    "    end = time.time()\n",
    "    print(f\"Time taken for {hash_method}\", end - start)"
   ]
  },
  {
   "cell_type": "markdown",
   "id": "df81c37d-024e-4de8-a136-717f2e67e724",
   "metadata": {},
   "source": [
    "# Hashing by cryptography library"
   ]
  },
  {
   "cell_type": "code",
   "execution_count": 18,
   "id": "2a775385-6b57-46ab-9aed-51598a8c7592",
   "metadata": {},
   "outputs": [
    {
     "name": "stdout",
     "output_type": "stream",
     "text": [
      "Time taken for SHA256 0.43844008445739746\n",
      "Time taken for SHA512 0.6953341960906982\n",
      "Time taken for BLAKE2b 7.246281862258911\n"
     ]
    }
   ],
   "source": [
    "# third party\n",
    "from cryptography.hazmat.primitives import hashes\n",
    "\n",
    "methods = [\"SHA256\", \"SHA512\", \"BLAKE2b\"]\n",
    "\n",
    "for hash_method in methods:\n",
    "    if hash_method == \"BLAKE2b\":\n",
    "        digest = hashes.Hash(getattr(hashes, hash_method)(64))\n",
    "    else:\n",
    "        digest = hashes.Hash(getattr(hashes, hash_method)())\n",
    "\n",
    "    start = time.time()\n",
    "    digest.update(data)\n",
    "    digest.finalize()\n",
    "    end = time.time()\n",
    "    print(f\"Time taken for {hash_method}\", end - start)"
   ]
  },
  {
   "cell_type": "markdown",
   "id": "086ab235-d9a0-4184-8270-bffb088bf1c3",
   "metadata": {},
   "source": [
    "# Hashing by python hashlib"
   ]
  },
  {
   "cell_type": "code",
   "execution_count": 17,
   "id": "b08d7f82-ea8f-4b24-ac09-669526894293",
   "metadata": {},
   "outputs": [
    {
     "name": "stdout",
     "output_type": "stream",
     "text": [
      "Time taken for sha256 0.4372677803039551\n",
      "Time taken for sha512 0.6927249431610107\n",
      "Time taken for blake2b 1.4543838500976562\n"
     ]
    }
   ],
   "source": [
    "methods = [\"sha256\", \"sha512\", \"blake2b\"]\n",
    "\n",
    "for hash_method in methods:\n",
    "    if hash_method == \"blake2b\":\n",
    "        m = getattr(hashlib, hash_method)(digest_size=64)\n",
    "    else:\n",
    "        m = getattr(hashlib, hash_method)()\n",
    "\n",
    "    start = time.time()\n",
    "    m.update(data)\n",
    "    m.digest()\n",
    "    end = time.time()\n",
    "    print(f\"Time taken for {hash_method}\", end - start)"
   ]
  },
  {
   "cell_type": "code",
   "execution_count": null,
   "id": "0c6e1c84-e782-4965-b6fd-a53bbbc445ac",
   "metadata": {},
   "outputs": [],
   "source": []
  }
 ],
 "metadata": {
  "kernelspec": {
   "display_name": "Python 3 (ipykernel)",
   "language": "python",
   "name": "python3"
  },
  "language_info": {
   "codemirror_mode": {
    "name": "ipython",
    "version": 3
   },
   "file_extension": ".py",
   "mimetype": "text/x-python",
   "name": "python",
   "nbconvert_exporter": "python",
   "pygments_lexer": "ipython3",
   "version": "3.11.8"
  }
 },
 "nbformat": 4,
 "nbformat_minor": 5
}

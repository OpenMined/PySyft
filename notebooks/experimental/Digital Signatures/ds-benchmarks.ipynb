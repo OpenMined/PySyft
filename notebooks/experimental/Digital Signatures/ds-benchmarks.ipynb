{
 "cells": [
  {
   "cell_type": "code",
   "execution_count": null,
   "id": "f272a63f-03a9-417d-88c3-11a98ad25c80",
   "metadata": {},
   "outputs": [],
   "source": [
    "data = b\"A\" * (10**9)  # 1GB message"
   ]
  },
  {
   "cell_type": "markdown",
   "id": "d9a2e0c0-ef3b-41be-a4e8-0d9f190a1106",
   "metadata": {},
   "source": [
    "# Using PyNacl"
   ]
  },
  {
   "cell_type": "code",
   "execution_count": null,
   "id": "a4145072-a959-479b-8c80-da15f82946f3",
   "metadata": {},
   "outputs": [],
   "source": [
    "# stdlib\n",
    "import hashlib\n",
    "import time\n",
    "\n",
    "# third party\n",
    "from nacl.signing import SigningKey\n",
    "\n",
    "# Generate a new random signing key\n",
    "signing_key = SigningKey.generate()\n",
    "\n",
    "# Example large message\n",
    "large_message = data\n",
    "\n",
    "# Hash the message with SHA-256 using hashlib\n",
    "start = time.time()\n",
    "hash_object = hashlib.sha256()\n",
    "hash_object.update(large_message)\n",
    "hashed_message = hash_object.digest()\n",
    "hash_time = time.time() - start\n",
    "\n",
    "# Sign the hashed message with PyNaCl\n",
    "start = time.time()\n",
    "signed_hash = signing_key.sign(hashed_message)\n",
    "sign_time = time.time() - start\n",
    "\n",
    "# Directly sign the large message with PyNaCl\n",
    "start = time.time()\n",
    "signed_message = signing_key.sign(large_message)\n",
    "direct_sign_time = time.time() - start\n",
    "\n",
    "print(f\"Time to hash with hashlib: {hash_time:.2f} seconds\")\n",
    "print(f\"Time to sign hashed message with PyNaCl: {sign_time:.2f} seconds\")\n",
    "print(f\"Total time (hash + sign): {hash_time + sign_time:.2f} seconds\")\n",
    "print(\n",
    "    f\"Time to directly sign large message with PyNaCl: {direct_sign_time:.2f} seconds\"\n",
    ")"
   ]
  },
  {
   "cell_type": "markdown",
   "id": "d8581767-bee2-42e1-a571-148cf0fb12a4",
   "metadata": {},
   "source": [
    "# Using Cryptography library"
   ]
  },
  {
   "cell_type": "code",
   "execution_count": null,
   "id": "8ea32e21-8987-4459-aa0f-6bc832376ab7",
   "metadata": {},
   "outputs": [],
   "source": [
    "# !pip install cryptography"
   ]
  },
  {
   "cell_type": "code",
   "execution_count": null,
   "id": "1618c35b-cb6e-4f28-a13c-a2e23497841c",
   "metadata": {},
   "outputs": [],
   "source": [
    "# third party\n",
    "%%time\n",
    "# third party\n",
    "from cryptography.hazmat.primitives.asymmetric.ed25519 import Ed25519PrivateKey\n",
    "\n",
    "private_key = Ed25519PrivateKey.generate()\n",
    "signature = private_key.sign(data)"
   ]
  },
  {
   "cell_type": "code",
   "execution_count": null,
   "id": "9abb35b3-1891-4074-8f0e-729de0c2e4a2",
   "metadata": {},
   "outputs": [],
   "source": [
    "# third party\n",
    "%%time\n",
    "# third party\n",
    "from cryptography.hazmat.primitives.asymmetric.ed448 import Ed448PrivateKey\n",
    "\n",
    "private_key = Ed448PrivateKey.generate()\n",
    "signature = private_key.sign(data)"
   ]
  },
  {
   "cell_type": "code",
   "execution_count": null,
   "id": "66341fe5-94c3-4c8e-af34-a2e837a6957f",
   "metadata": {},
   "outputs": [],
   "source": [
    "# third party\n",
    "%%time\n",
    "# third party\n",
    "from cryptography.hazmat.primitives import hashes\n",
    "from cryptography.hazmat.primitives.asymmetric import dsa\n",
    "\n",
    "private_key = dsa.generate_private_key(\n",
    "    key_size=1024,\n",
    ")\n",
    "signature = private_key.sign(data, hashes.SHA256())"
   ]
  },
  {
   "cell_type": "code",
   "execution_count": null,
   "id": "83362239-6376-46ee-8e70-d9a23ff5421b",
   "metadata": {},
   "outputs": [],
   "source": [
    "%%time\n",
    "\n",
    "# third party\n",
    "from cryptography.hazmat.primitives import hashes\n",
    "from cryptography.hazmat.primitives.asymmetric import ec\n",
    "\n",
    "private_key = ec.generate_private_key(ec.SECP384R1())\n",
    "\n",
    "signature = private_key.sign(data, ec.ECDSA(hashes.SHA256()))"
   ]
  },
  {
   "cell_type": "code",
   "execution_count": null,
   "id": "cd5d1781-666e-4d19-aee9-c0ad4b8f0756",
   "metadata": {},
   "outputs": [],
   "source": [
    "%%time\n",
    "public_key = private_key.public_key()\n",
    "public_key.verify(signature, data, ec.ECDSA(hashes.SHA256()))"
   ]
  },
  {
   "cell_type": "code",
   "execution_count": null,
   "id": "206369da-d2c7-424c-b5c6-b1d9b5202786",
   "metadata": {},
   "outputs": [],
   "source": [
    "# third party\n",
    "%%time\n",
    "# third party\n",
    "from cryptography.hazmat.primitives import hashes\n",
    "from cryptography.hazmat.primitives.asymmetric import padding\n",
    "from cryptography.hazmat.primitives.asymmetric import rsa\n",
    "\n",
    "private_key = rsa.generate_private_key(\n",
    "    public_exponent=65537,\n",
    "    key_size=2048,\n",
    ")\n",
    "\n",
    "message = data\n",
    "signature = private_key.sign(\n",
    "    message,\n",
    "    padding.PSS(mgf=padding.MGF1(hashes.SHA256()), salt_length=padding.PSS.MAX_LENGTH),\n",
    "    hashes.SHA256(),\n",
    ")"
   ]
  },
  {
   "cell_type": "code",
   "execution_count": null,
   "id": "b222c11a-e2a2-4610-a9d8-95ee3343d466",
   "metadata": {},
   "outputs": [],
   "source": [
    "%%time\n",
    "public_key = private_key.public_key()\n",
    "message = data\n",
    "public_key.verify(\n",
    "    signature,\n",
    "    message,\n",
    "    padding.PSS(mgf=padding.MGF1(hashes.SHA256()), salt_length=padding.PSS.MAX_LENGTH),\n",
    "    hashes.SHA256(),\n",
    ")"
   ]
  },
  {
   "cell_type": "markdown",
   "id": "6fa46875-4405-47c6-855c-0b3f407aa26c",
   "metadata": {},
   "source": [
    "# Hashing by PyNacl"
   ]
  },
  {
   "cell_type": "code",
   "execution_count": null,
   "id": "ea204831-482d-4d3a-988b-32920b7af285",
   "metadata": {},
   "outputs": [],
   "source": [
    "# third party\n",
    "import nacl.encoding\n",
    "import nacl.hash\n",
    "\n",
    "methods = [\"sha256\", \"sha512\", \"blake2b\"]\n",
    "\n",
    "for hash_method in methods:\n",
    "    HASHER = getattr(nacl.hash, hash_method)\n",
    "\n",
    "    start = time.time()\n",
    "    digest = HASHER(data, encoder=nacl.encoding.HexEncoder)\n",
    "    end = time.time()\n",
    "    print(f\"Time taken for {hash_method}\", end - start)"
   ]
  },
  {
   "cell_type": "markdown",
   "id": "df81c37d-024e-4de8-a136-717f2e67e724",
   "metadata": {},
   "source": [
    "# Hashing by cryptography library"
   ]
  },
  {
   "cell_type": "code",
   "execution_count": null,
   "id": "2a775385-6b57-46ab-9aed-51598a8c7592",
   "metadata": {},
   "outputs": [],
   "source": [
    "# third party\n",
    "from cryptography.hazmat.primitives import hashes\n",
    "\n",
    "methods = [\"SHA256\", \"SHA512\", \"BLAKE2b\"]\n",
    "\n",
    "for hash_method in methods:\n",
    "    if hash_method == \"BLAKE2b\":\n",
    "        digest = hashes.Hash(getattr(hashes, hash_method)(64))\n",
    "    else:\n",
    "        digest = hashes.Hash(getattr(hashes, hash_method)())\n",
    "\n",
    "    start = time.time()\n",
    "    digest.update(data)\n",
    "    digest.finalize()\n",
    "    end = time.time()\n",
    "    print(f\"Time taken for {hash_method}\", end - start)"
   ]
  },
  {
   "cell_type": "markdown",
   "id": "086ab235-d9a0-4184-8270-bffb088bf1c3",
   "metadata": {},
   "source": [
    "# Hashing by python hashlib"
   ]
  },
  {
   "cell_type": "code",
   "execution_count": null,
   "id": "b08d7f82-ea8f-4b24-ac09-669526894293",
   "metadata": {},
   "outputs": [],
   "source": [
    "methods = [\"sha256\", \"sha512\", \"blake2b\"]\n",
    "\n",
    "for hash_method in methods:\n",
    "    if hash_method == \"blake2b\":\n",
    "        m = getattr(hashlib, hash_method)(digest_size=64)\n",
    "    else:\n",
    "        m = getattr(hashlib, hash_method)()\n",
    "\n",
    "    start = time.time()\n",
    "    m.update(data)\n",
    "    m.digest()\n",
    "    end = time.time()\n",
    "    print(f\"Time taken for {hash_method}\", end - start)"
   ]
  },
  {
   "cell_type": "code",
   "execution_count": null,
   "id": "0c6e1c84-e782-4965-b6fd-a53bbbc445ac",
   "metadata": {},
   "outputs": [],
   "source": []
  },
  {
   "cell_type": "code",
   "execution_count": null,
   "id": "9bf2843e-add6-4f65-a75b-5ef93093d347",
   "metadata": {},
   "outputs": [],
   "source": []
  }
 ],
 "metadata": {
  "kernelspec": {
   "display_name": "Python 3 (ipykernel)",
   "language": "python",
   "name": "python3"
  },
  "language_info": {
   "codemirror_mode": {
    "name": "ipython",
    "version": 3
   },
   "file_extension": ".py",
   "mimetype": "text/x-python",
   "name": "python",
   "nbconvert_exporter": "python",
   "pygments_lexer": "ipython3",
   "version": "3.11.8"
  }
 },
 "nbformat": 4,
 "nbformat_minor": 5
}

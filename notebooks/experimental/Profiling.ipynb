{
 "cells": [
  {
   "cell_type": "code",
   "execution_count": null,
   "id": "a810d2e7-86f4-4764-a153-5a65ab704889",
   "metadata": {},
   "outputs": [],
   "source": [
    "# syft absolute\n",
    "import syft as sy"
   ]
  },
  {
   "cell_type": "code",
   "execution_count": null,
   "id": "4d3b2e87-0488-45bb-9395-d2027815556a",
   "metadata": {},
   "outputs": [],
   "source": [
    "# Works only for in-memory python workers with uvicorn"
   ]
  },
  {
   "cell_type": "code",
   "execution_count": null,
   "id": "9a38eedb-849b-4cc3-8077-4a347ab8db34",
   "metadata": {},
   "outputs": [],
   "source": [
    "canada_datasite = sy.orchestra.launch(\n",
    "    \"canada-datasite\", port=\"auto\", dev_mode=True, profile=True, profile_interval=0.001\n",
    ")\n",
    "\n",
    "italy_datasite = sy.orchestra.launch(\n",
    "    \"italy-datasite\", port=\"auto\", dev_mode=True, profile=True, profile_interval=0.001\n",
    ")"
   ]
  },
  {
   "cell_type": "code",
   "execution_count": null,
   "id": "300b2180-d611-465c-8d13-c02fedf8a959",
   "metadata": {},
   "outputs": [],
   "source": [
    "do_canada_client = canada_datasite.login(\n",
    "    email=\"info@openmined.org\", password=\"changethis\"\n",
    ")"
   ]
  },
  {
   "cell_type": "code",
   "execution_count": null,
   "id": "abb6481b-22c0-4cce-a8c9-4f0cea63b564",
   "metadata": {},
   "outputs": [],
   "source": [
    "%%pyinstrument\n",
    "do_italy_client = italy_datasite.login(email=\"info@openmined.org\", password=\"changethis\")"
   ]
  },
  {
   "cell_type": "code",
   "execution_count": null,
   "id": "6c030558-0a16-4194-9397-0261ecb40b9b",
   "metadata": {},
   "outputs": [],
   "source": []
  }
 ],
 "metadata": {
  "kernelspec": {
   "display_name": "Python 3 (ipykernel)",
   "language": "python",
   "name": "python3"
  },
  "language_info": {
   "codemirror_mode": {
    "name": "ipython",
    "version": 3
   },
   "file_extension": ".py",
   "mimetype": "text/x-python",
   "name": "python",
   "nbconvert_exporter": "python",
   "pygments_lexer": "ipython3",
   "version": "3.11.8"
  }
 },
 "nbformat": 4,
 "nbformat_minor": 5
}

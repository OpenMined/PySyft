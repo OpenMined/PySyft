{
 "cells": [
  {
   "cell_type": "code",
   "execution_count": 1,
   "id": "da03c091",
   "metadata": {},
   "outputs": [],
   "source": [
    "# stdlib\n",
    "from pathlib import Path\n",
    "\n",
    "# third party\n",
    "# Load Model Arch from File\n",
    "from swin_zoo.model_arch import SimpleModel\n",
    "import torch"
   ]
  },
  {
   "cell_type": "code",
   "execution_count": 2,
   "id": "96681414",
   "metadata": {},
   "outputs": [],
   "source": [
    "model_folder_path = Path(\"./swin_zoo\")"
   ]
  },
  {
   "cell_type": "code",
   "execution_count": 3,
   "id": "bf3a608f",
   "metadata": {},
   "outputs": [],
   "source": [
    "# Initialize Model\n",
    "model = SimpleModel()"
   ]
  },
  {
   "cell_type": "code",
   "execution_count": 4,
   "id": "f5d5ef36-e0a3-4b3a-8d5e-2fd4bfaceee8",
   "metadata": {},
   "outputs": [
    {
     "data": {
      "text/plain": [
       "SimpleModel(\n",
       "  (linear): Linear(in_features=1, out_features=1, bias=True)\n",
       ")"
      ]
     },
     "execution_count": 4,
     "metadata": {},
     "output_type": "execute_result"
    }
   ],
   "source": [
    "# Load Model Weights\n",
    "model.load_state_dict(torch.load(f\"{model_folder_path}/model_weights.pt\"))\n",
    "model.eval()"
   ]
  },
  {
   "cell_type": "code",
   "execution_count": 5,
   "id": "88377346",
   "metadata": {},
   "outputs": [
    {
     "name": "stdout",
     "output_type": "stream",
     "text": [
      "Input: tensor([[4.]]), Output: tensor([[5.8639]], grad_fn=<AddmmBackward0>)\n"
     ]
    }
   ],
   "source": [
    "# Do a sample inference\n",
    "input = torch.tensor([[4.0]])\n",
    "output = model(input)\n",
    "print(f\"Input: {input}, Output: {output}\")"
   ]
  }
 ],
 "metadata": {
  "kernelspec": {
   "display_name": "python311-leJXwuFJ",
   "language": "python",
   "name": "python311-lejxwufj"
  },
  "language_info": {
   "codemirror_mode": {
    "name": "ipython",
    "version": 3
   },
   "file_extension": ".py",
   "mimetype": "text/x-python",
   "name": "python",
   "nbconvert_exporter": "python",
   "pygments_lexer": "ipython3",
   "version": "3.11.8"
  }
 },
 "nbformat": 4,
 "nbformat_minor": 5
}

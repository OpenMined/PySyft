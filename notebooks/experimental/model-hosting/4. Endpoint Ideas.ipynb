{
 "cells": [
  {
   "cell_type": "code",
   "execution_count": null,
   "metadata": {},
   "outputs": [],
   "source": [
    "# Step 1: Model Owner Uploads Model Architecture and Weights"
   ]
  },
  {
   "cell_type": "code",
   "execution_count": null,
   "metadata": {},
   "outputs": [],
   "source": [
    "# Step 2: Model Owners Sets up Endpoint for inference"
   ]
  },
  {
   "cell_type": "code",
   "execution_count": 1,
   "metadata": {},
   "outputs": [],
   "source": [
    "# third party\n",
    "import torch\n",
    "\n",
    "# syft absolute\n",
    "import syft as sy"
   ]
  },
  {
   "cell_type": "code",
   "execution_count": null,
   "metadata": {},
   "outputs": [],
   "source": [
    "domain_client = None\n",
    "\n",
    "\n",
    "@sy.api_endpoint_method()\n",
    "def public_inference(context, prompt: torch.Tensor) -> torch.Tensor:\n",
    "    return torch.tensor([1, 2, 3])\n",
    "\n",
    "\n",
    "@sy.api_endpoint_method()\n",
    "def private_inference(context, prompt: torch.Tensor) -> torch.Tensor:\n",
    "    # stdlib\n",
    "    from pathlib import Path\n",
    "\n",
    "    # third party\n",
    "    from swin_zoo.model_arch import SimpleModel\n",
    "    import torch\n",
    "\n",
    "    prompt = torch.tensor([[4.0]])\n",
    "    admin_client = context.node.get_guest_client()\n",
    "    admin_client.credentials = context.node.signing_key\n",
    "    model = admin_client.datasets[0].assets[0]\n",
    "\n",
    "    res = model.write_folder_to_current_path()\n",
    "    assert res\n",
    "\n",
    "    model_folder_path = Path(\"./swin_zoo\")\n",
    "    model = SimpleModel()\n",
    "    model.load_state_dict(torch.load(f\"{model_folder_path}/model_weights.pt\"))\n",
    "    model.eval()\n",
    "\n",
    "    output = model(prompt)\n",
    "    output = output.detach().numpy()\n",
    "\n",
    "    return output"
   ]
  },
  {
   "cell_type": "code",
   "execution_count": null,
   "metadata": {},
   "outputs": [],
   "source": [
    "new_endpoint = sy.TwinAPIEndpoint(\n",
    "    path=\"model.inference\",\n",
    "    mock_function=public_inference,\n",
    "    private_function=private_inference,\n",
    "    description=\"Lore ipsulum ...\",\n",
    ")"
   ]
  },
  {
   "cell_type": "code",
   "execution_count": null,
   "metadata": {},
   "outputs": [],
   "source": [
    "response = domain_client.api.services.api.delete(endpoint_path=\"model.inference\")\n",
    "response"
   ]
  },
  {
   "cell_type": "code",
   "execution_count": null,
   "metadata": {},
   "outputs": [],
   "source": [
    "response = domain_client.api.services.api.add(endpoint=new_endpoint)\n",
    "response"
   ]
  },
  {
   "cell_type": "code",
   "execution_count": null,
   "metadata": {},
   "outputs": [],
   "source": [
    "domain_client.api.services.model.inference(prompt=torch.Tensor([4.0]))"
   ]
  },
  {
   "cell_type": "code",
   "execution_count": null,
   "metadata": {},
   "outputs": [],
   "source": [
    "# Step 3: DS creates function based on endpoint\n",
    "ds_client = None \n",
    "prompt = ds_client.api.services.action.set(torch.tensor([1]))\n",
    "\n",
    "@sy.syft_function_single_use(\n",
    "    endpoint=domain_client.api.services.model.inference,\n",
    "    input_prompt = prompt.id\n",
    "    worker_pool_name=worker_pool_name,\n",
    ")\n",
    "def job_function(endpoint, input_prompt):\n",
    "\n",
    "    # Do some pre-processing steps\n",
    "\n",
    "    result = endpoint(\n",
    "        prompt = input_prompt\n",
    "    )\n",
    "\n",
    "    # Do some post-processing steps\n",
    "    return result"
   ]
  },
  {
   "cell_type": "code",
   "execution_count": null,
   "metadata": {},
   "outputs": [],
   "source": [
    "# Step 4: DS Submits Projects"
   ]
  },
  {
   "cell_type": "code",
   "execution_count": null,
   "metadata": {},
   "outputs": [],
   "source": [
    "# Step 5: DO approves project"
   ]
  }
 ],
 "metadata": {
  "kernelspec": {
   "display_name": "python311-leJXwuFJ",
   "language": "python",
   "name": "python311-lejxwufj"
  },
  "language_info": {
   "codemirror_mode": {
    "name": "ipython",
    "version": 3
   },
   "file_extension": ".py",
   "mimetype": "text/x-python",
   "name": "python",
   "nbconvert_exporter": "python",
   "pygments_lexer": "ipython3",
   "version": "3.11.8"
  }
 },
 "nbformat": 4,
 "nbformat_minor": 2
}

{
 "cells": [
  {
   "cell_type": "code",
   "execution_count": 1,
   "id": "ce5c46a1-d6ee-4210-bf95-5969279f1bf9",
   "metadata": {},
   "outputs": [],
   "source": [
    "# stdlib\n",
    "from pathlib import Path\n",
    "\n",
    "# third party\n",
    "# Importing the Model\n",
    "from swin_zoo.model_arch import SimpleModel\n",
    "import torch\n",
    "import torch.nn as nn\n",
    "import torch.optim as optim"
   ]
  },
  {
   "cell_type": "code",
   "execution_count": 2,
   "id": "ddf6944f",
   "metadata": {},
   "outputs": [],
   "source": [
    "model_folder_path = Path(\"./swin_zoo\")"
   ]
  },
  {
   "cell_type": "code",
   "execution_count": 3,
   "id": "66959b38-5c5f-4084-add1-9d57d2c1c7b5",
   "metadata": {},
   "outputs": [],
   "source": [
    "model = SimpleModel()"
   ]
  },
  {
   "cell_type": "code",
   "execution_count": 4,
   "id": "2e04082e-f159-4a65-99b9-244556edceae",
   "metadata": {},
   "outputs": [],
   "source": [
    "# Define loss function and optimizer\n",
    "criterion = nn.MSELoss()\n",
    "optimizer = optim.SGD(model.parameters(), lr=0.01)"
   ]
  },
  {
   "cell_type": "code",
   "execution_count": 5,
   "id": "ef921d2a-7bbc-4b5a-ac53-fbfe147e96c2",
   "metadata": {},
   "outputs": [
    {
     "name": "stdout",
     "output_type": "stream",
     "text": [
      "Epoch 1, Loss: 25.331335067749023\n",
      "Epoch 2, Loss: 20.042030334472656\n",
      "Epoch 3, Loss: 15.8610258102417\n",
      "Epoch 4, Loss: 12.556075096130371\n",
      "Epoch 5, Loss: 9.943595886230469\n"
     ]
    }
   ],
   "source": [
    "# Dummy data\n",
    "inputs = torch.tensor([[1.0], [2.0], [3.0]])\n",
    "targets = torch.tensor([[2.0], [4.0], [6.0]])\n",
    "\n",
    "# Train the model\n",
    "for epoch in range(5):  # loop over the dataset multiple times\n",
    "    optimizer.zero_grad()\n",
    "    outputs = model(inputs)\n",
    "    loss = criterion(outputs, targets)\n",
    "    loss.backward()\n",
    "    optimizer.step()\n",
    "    print(f\"Epoch {epoch+1}, Loss: {loss.item()}\")"
   ]
  },
  {
   "cell_type": "code",
   "execution_count": 6,
   "id": "f6c63a46-8bd1-4839-840d-75e23afe8a9f",
   "metadata": {},
   "outputs": [],
   "source": [
    "torch.save(model.state_dict(), f\"{model_folder_path}/model_weights.pt\")"
   ]
  },
  {
   "cell_type": "code",
   "execution_count": null,
   "id": "1443a0dd",
   "metadata": {},
   "outputs": [],
   "source": []
  }
 ],
 "metadata": {
  "kernelspec": {
   "display_name": "python311-leJXwuFJ",
   "language": "python",
   "name": "python311-lejxwufj"
  },
  "language_info": {
   "codemirror_mode": {
    "name": "ipython",
    "version": 3
   },
   "file_extension": ".py",
   "mimetype": "text/x-python",
   "name": "python",
   "nbconvert_exporter": "python",
   "pygments_lexer": "ipython3",
   "version": "3.11.8"
  }
 },
 "nbformat": 4,
 "nbformat_minor": 5
}

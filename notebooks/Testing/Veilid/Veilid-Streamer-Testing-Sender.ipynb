{
 "cells": [
  {
   "cell_type": "code",
   "execution_count": null,
   "metadata": {},
   "outputs": [],
   "source": [
    "# stdlib\n",
    "import logging\n",
    "from pathlib import Path\n",
    "from pprint import pprint\n",
    "import random\n",
    "import sys\n",
    "import time\n",
    "\n",
    "# third party\n",
    "import veilid\n",
    "\n",
    "project_root = Path.cwd().parent.parent.parent\n",
    "veilid_path = project_root / \"packages\" / \"grid\" / \"veilid\"\n",
    "sys.path.append(veilid_path.as_posix())\n",
    "\n",
    "# third party\n",
    "from server.veilid_streamer import VeilidStreamer  # type: ignore\n",
    "\n",
    "logging.getLogger(\"server.veilid_streamer\").setLevel(logging.DEBUG)"
   ]
  },
  {
   "cell_type": "code",
   "execution_count": null,
   "metadata": {},
   "outputs": [],
   "source": [
    "host = \"localhost\"\n",
    "port = 5960"
   ]
  },
  {
   "cell_type": "code",
   "execution_count": null,
   "metadata": {},
   "outputs": [],
   "source": [
    "async def noop_callback(update: veilid.VeilidUpdate):\n",
    "    pass\n",
    "\n",
    "\n",
    "conn = await veilid.json_api_connect(host, port, noop_callback)\n",
    "time.sleep(2)  # hack: wait for the connection to be established"
   ]
  },
  {
   "cell_type": "code",
   "execution_count": null,
   "metadata": {},
   "outputs": [],
   "source": [
    "router = await (await conn.new_routing_context()).with_default_safety()\n",
    "dht_key_str = input(\"Enter DHT Key of the receiver: \")\n",
    "dht_key = veilid.TypedKey(dht_key_str.lstrip(\"VLD0:\"))\n",
    "try:\n",
    "    await router.close_dht_record(dht_key)\n",
    "except Exception:\n",
    "    pass\n",
    "await router.open_dht_record(key=dht_key, writer=None)\n",
    "record_value = await router.get_dht_value(key=dht_key, subkey=0, force_refresh=True)\n",
    "private_route = await conn.import_remote_private_route(record_value.data)\n",
    "await router.app_call(private_route, b\"Ready!\")"
   ]
  },
  {
   "cell_type": "code",
   "execution_count": null,
   "metadata": {},
   "outputs": [],
   "source": [
    "vs = VeilidStreamer(connection=conn, router=router)\n",
    "\n",
    "\n",
    "async def send_random_message(message_size_kb):\n",
    "    message = random.randbytes(message_size_kb * 1024)\n",
    "    print(f\"Sending message of size {len(message) // 1024} KB...\")\n",
    "    start = time.time()\n",
    "    response = await vs.stream(private_route, message)\n",
    "    end = time.time()\n",
    "    print(f\"[{end - start}s] Response: {response}\")\n",
    "    time_taken = end - start\n",
    "    return time_taken"
   ]
  },
  {
   "cell_type": "code",
   "execution_count": null,
   "metadata": {},
   "outputs": [],
   "source": [
    "# Tests with smaller messages\n",
    "benchmarks = {}\n",
    "for message_size_kb in range(0, 13):  # Test from 1 KB to 4 MB\n",
    "    message_size_kb = 2**message_size_kb\n",
    "    benchmarks[message_size_kb] = await send_random_message(message_size_kb)\n",
    "\n",
    "pprint(benchmarks)"
   ]
  },
  {
   "cell_type": "code",
   "execution_count": null,
   "metadata": {},
   "outputs": [],
   "source": [
    "await router.app_call(private_route, b\"QUIT\")"
   ]
  }
 ],
 "metadata": {
  "kernelspec": {
   "display_name": "PySyft",
   "language": "python",
   "name": "python3"
  },
  "language_info": {
   "codemirror_mode": {
    "name": "ipython",
    "version": 3
   },
   "file_extension": ".py",
   "mimetype": "text/x-python",
   "name": "python",
   "nbconvert_exporter": "python",
   "pygments_lexer": "ipython3",
   "version": "3.11.7"
  }
 },
 "nbformat": 4,
 "nbformat_minor": 2
}

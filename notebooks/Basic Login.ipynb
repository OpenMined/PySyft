{
 "cells": [
  {
   "cell_type": "code",
   "execution_count": 7,
   "id": "6acd59ad-3dbf-4da7-a8aa-1388e4c55e87",
   "metadata": {},
   "outputs": [],
   "source": [
    "# stdlib\n",
    "import json\n",
    "\n",
    "# third party\n",
    "import requests\n",
    "\n",
    "import sys\n",
    "\n",
    "\n",
    "from syft.core.common.message import SignedEventualSyftMessageWithoutReply\n",
    "from syft.core.common.message import SignedImmediateSyftMessageWithReply\n",
    "from syft.core.common.message import SignedImmediateSyftMessageWithoutReply\n",
    "from syft.core.common.message import SyftMessage\n",
    "from syft import deserialize\n",
    "from syft import serialize\n",
    "from syft.core.io.connection import ClientConnection\n",
    "from syft.proto.core.node.common.metadata_pb2 import Metadata as Metadata_PB\n",
    "from syft.grid.client.enums import RequestAPIFields\n",
    "from syft.grid.client.exceptions import RequestAPIException\n",
    "from syft.grid.connections.http_connection import HTTPConnection\n",
    "\n",
    "class Session:\n",
    "    \n",
    "    def __init__(self, access_token, token_type, metadata):\n",
    "        self.access_token = access_token\n",
    "        self.token_type = token_type\n",
    "        self.metadta = metadata\n",
    "        \n",
    "        self.stream_post_header = dict(\n",
    "                Authorization='Bearer ' + json.loads(\n",
    "                    '{\"auth_token\":\"'+self.access_token+'\",\"token_type\":\"'+self.token_type+'\"}'\n",
    "                )['auth_token']\n",
    "            )\n",
    "        self.stream_post_header['Content-Type'] = \"application/octet-stream\"\n",
    "        \n",
    "    def get(self, url='http://localhost/api/v1/users/?skip=0&limit=100'):\n",
    "        response = requests.get(\n",
    "            url,\n",
    "            headers=dict(\n",
    "                Authorization='Bearer ' + json.loads(\n",
    "                    '{\"auth_token\":\"'+self.access_token+'\",\"token_type\":\"'+self.token_type+'\"}'\n",
    "                )['auth_token']\n",
    "            )\n",
    "        )\n",
    "        return json.loads(response.content)\n",
    "#       r = requests.post(\n",
    "#             url=self.base_url,\n",
    "#             data=data_bytes,\n",
    "#             headers={\"Content-Type\": \"application/octet-stream\"},\n",
    "#         )\n",
    "    def post(self, url='http://localhost/api/v1/users/?skip=0&limit=100', data=b''):\n",
    "        \n",
    "        headers = dict(\n",
    "                Authorization='Bearer ' + json.loads(\n",
    "                    '{\"auth_token\":\"'+self.access_token+'\",\"token_type\":\"'+self.token_type+'\"}'\n",
    "                )['auth_token']\n",
    "            )\n",
    "        headers['Content-Type'] = \"application/octet-stream\"\n",
    "        \n",
    "        response = requests.post(\n",
    "            url,\n",
    "            headers=headers,\n",
    "            data=data\n",
    "            \n",
    "        )\n",
    "        return response.content\n",
    "\n",
    "\n",
    "\n",
    "class GridHTTPConnection(HTTPConnection):\n",
    "    LOGIN_ROUTE = \"api/v1/login/access-token\"\n",
    "    SYFT_ROUTE = \"syft/msg/\"\n",
    "    SYFT_MULTIPART_ROUTE = \"/pysyft_multipart\"\n",
    "    SIZE_THRESHOLD = 20971520  # 20 MB\n",
    "\n",
    "    def __init__(self, url: str = \"http://localhost/api/v1/\") -> None:\n",
    "        self.base_url = url\n",
    "        self.session_token: Optional[Dict[str, str]] = None\n",
    "        self.session: Optional[Session] = None\n",
    "\n",
    "    def _send_msg(self, msg: SyftMessage) -> requests.Response:\n",
    "        \"\"\"\n",
    "        Serializes Syft messages in json format and send it using HTTP protocol.\n",
    "        NOTE: Auxiliary method to avoid code duplication and modularity.\n",
    "        :return: returns requests.Response object containing a JSON serialized\n",
    "        SyftMessage\n",
    "        :rtype: requests.Response\n",
    "        \"\"\"\n",
    "\n",
    "#         header = {}\n",
    "\n",
    "#         if self.session_token:\n",
    "#             header[\"token\"] = self.session_token\n",
    "\n",
    "#         header[\"Content-Type\"] = \"application/octet-stream\"  # type: ignore\n",
    "\n",
    "        header = self.session.stream_post_header\n",
    "\n",
    "        # Perform HTTP request using base_url as a root address\n",
    "        msg_bytes: bytes = _serialize(obj=msg, to_bytes=True)  # type: ignore\n",
    "\n",
    "        if sys.getsizeof(msg_bytes) < GridHTTPConnection.SIZE_THRESHOLD:\n",
    "            r = requests.post(\n",
    "                url=self.base_url + GridHTTPConnection.SYFT_ROUTE,\n",
    "                data=msg_bytes,\n",
    "                headers=header,\n",
    "            )\n",
    "        else:\n",
    "            r = self.send_streamed_messages(blob_message=msg_bytes)\n",
    "\n",
    "        # Return request's response object\n",
    "        # r.text provides the response body as a str\n",
    "        return r\n",
    "\n",
    "#     def login(self, credentials: Dict) -> Tuple:\n",
    "#         # Login request\n",
    "#         response = requests.post(\n",
    "#             url=self.base_url + GridHTTPConnection.LOGIN_ROUTE, json=credentials\n",
    "#         )\n",
    "\n",
    "#         # Response\n",
    "#         content = json.loads(response.text)\n",
    "\n",
    "#         # If fail\n",
    "#         if response.status_code != requests.codes.ok:\n",
    "#             raise Exception(content[\"error\"])\n",
    "\n",
    "#         metadata = content[\"metadata\"].encode(\"ISO-8859-1\")\n",
    "#         metadata_pb = Metadata_PB()\n",
    "#         metadata_pb.ParseFromString(metadata)\n",
    "\n",
    "#         # If success\n",
    "#         # Save session token\n",
    "#         self.session_token = content[\"token\"]\n",
    "\n",
    "#         # Return node metadata / user private key\n",
    "#         return (metadata_pb, content[\"key\"])\n",
    "\n",
    "    def login(self, username=\"info@openmined.org\", password=\"changethis\"):\n",
    "        headers = {\n",
    "        'accept': 'application/json',\n",
    "        'Content-Type': 'application/x-www-form-urlencoded',\n",
    "    }\n",
    "\n",
    "        data = {\n",
    "          'grant_type': '',\n",
    "          'username': username,\n",
    "          'password': password,\n",
    "          'scope': '',\n",
    "          'client_id': '',\n",
    "          'client_secret': ''\n",
    "        }\n",
    "\n",
    "        response = requests.post(self.base_url + 'login/access-token', headers=headers, data=data)\n",
    "        print(response.content)\n",
    "        content = json.loads(response.content)\n",
    "        \n",
    "        metadata = content[\"metadata\"].encode(\"ISO-8859-1\")\n",
    "        metadata_pb = Metadata_PB()\n",
    "        metadata_pb.ParseFromString(metadata)\n",
    "\n",
    "    \n",
    "        print(content)\n",
    "        print(metadata_pb)\n",
    "    \n",
    "        if \"detail\" in content:\n",
    "            raise Exception(detail)\n",
    "            \n",
    "        session = Session(**content)\n",
    "        self.session = session\n",
    "        return metadata_pb, session"
   ]
  },
  {
   "cell_type": "code",
   "execution_count": 8,
   "id": "0d4a1938-b139-4748-b72d-f403eb605f33",
   "metadata": {},
   "outputs": [
    {
     "name": "stdout",
     "output_type": "stream",
     "text": [
      "b'Internal Server Error'\n"
     ]
    },
    {
     "ename": "JSONDecodeError",
     "evalue": "Expecting value: line 1 column 1 (char 0)",
     "output_type": "error",
     "traceback": [
      "\u001b[0;31m---------------------------------------------------------------------------\u001b[0m",
      "\u001b[0;31mJSONDecodeError\u001b[0m                           Traceback (most recent call last)",
      "\u001b[0;32m<ipython-input-8-a6387397a20e>\u001b[0m in \u001b[0;36m<module>\u001b[0;34m\u001b[0m\n\u001b[0;32m----> 1\u001b[0;31m \u001b[0mconn\u001b[0m \u001b[0;34m=\u001b[0m \u001b[0mGridHTTPConnection\u001b[0m\u001b[0;34m(\u001b[0m\u001b[0;34m)\u001b[0m\u001b[0;34m.\u001b[0m\u001b[0mlogin\u001b[0m\u001b[0;34m(\u001b[0m\u001b[0;34m)\u001b[0m\u001b[0;34m\u001b[0m\u001b[0;34m\u001b[0m\u001b[0m\n\u001b[0m",
      "\u001b[0;32m<ipython-input-7-3517d0f493c0>\u001b[0m in \u001b[0;36mlogin\u001b[0;34m(self, username, password)\u001b[0m\n\u001b[1;32m    154\u001b[0m         \u001b[0mresponse\u001b[0m \u001b[0;34m=\u001b[0m \u001b[0mrequests\u001b[0m\u001b[0;34m.\u001b[0m\u001b[0mpost\u001b[0m\u001b[0;34m(\u001b[0m\u001b[0mself\u001b[0m\u001b[0;34m.\u001b[0m\u001b[0mbase_url\u001b[0m \u001b[0;34m+\u001b[0m \u001b[0;34m'login/access-token'\u001b[0m\u001b[0;34m,\u001b[0m \u001b[0mheaders\u001b[0m\u001b[0;34m=\u001b[0m\u001b[0mheaders\u001b[0m\u001b[0;34m,\u001b[0m \u001b[0mdata\u001b[0m\u001b[0;34m=\u001b[0m\u001b[0mdata\u001b[0m\u001b[0;34m)\u001b[0m\u001b[0;34m\u001b[0m\u001b[0;34m\u001b[0m\u001b[0m\n\u001b[1;32m    155\u001b[0m         \u001b[0mprint\u001b[0m\u001b[0;34m(\u001b[0m\u001b[0mresponse\u001b[0m\u001b[0;34m.\u001b[0m\u001b[0mcontent\u001b[0m\u001b[0;34m)\u001b[0m\u001b[0;34m\u001b[0m\u001b[0;34m\u001b[0m\u001b[0m\n\u001b[0;32m--> 156\u001b[0;31m         \u001b[0mcontent\u001b[0m \u001b[0;34m=\u001b[0m \u001b[0mjson\u001b[0m\u001b[0;34m.\u001b[0m\u001b[0mloads\u001b[0m\u001b[0;34m(\u001b[0m\u001b[0mresponse\u001b[0m\u001b[0;34m.\u001b[0m\u001b[0mcontent\u001b[0m\u001b[0;34m)\u001b[0m\u001b[0;34m\u001b[0m\u001b[0;34m\u001b[0m\u001b[0m\n\u001b[0m\u001b[1;32m    157\u001b[0m \u001b[0;34m\u001b[0m\u001b[0m\n\u001b[1;32m    158\u001b[0m         \u001b[0mmetadata\u001b[0m \u001b[0;34m=\u001b[0m \u001b[0mcontent\u001b[0m\u001b[0;34m[\u001b[0m\u001b[0;34m\"metadata\"\u001b[0m\u001b[0;34m]\u001b[0m\u001b[0;34m.\u001b[0m\u001b[0mencode\u001b[0m\u001b[0;34m(\u001b[0m\u001b[0;34m\"ISO-8859-1\"\u001b[0m\u001b[0;34m)\u001b[0m\u001b[0;34m\u001b[0m\u001b[0;34m\u001b[0m\u001b[0m\n",
      "\u001b[0;32m/usr/local/lib/python3.7/json/__init__.py\u001b[0m in \u001b[0;36mloads\u001b[0;34m(s, encoding, cls, object_hook, parse_float, parse_int, parse_constant, object_pairs_hook, **kw)\u001b[0m\n\u001b[1;32m    346\u001b[0m             \u001b[0mparse_int\u001b[0m \u001b[0;32mis\u001b[0m \u001b[0;32mNone\u001b[0m \u001b[0;32mand\u001b[0m \u001b[0mparse_float\u001b[0m \u001b[0;32mis\u001b[0m \u001b[0;32mNone\u001b[0m \u001b[0;32mand\u001b[0m\u001b[0;34m\u001b[0m\u001b[0;34m\u001b[0m\u001b[0m\n\u001b[1;32m    347\u001b[0m             parse_constant is None and object_pairs_hook is None and not kw):\n\u001b[0;32m--> 348\u001b[0;31m         \u001b[0;32mreturn\u001b[0m \u001b[0m_default_decoder\u001b[0m\u001b[0;34m.\u001b[0m\u001b[0mdecode\u001b[0m\u001b[0;34m(\u001b[0m\u001b[0ms\u001b[0m\u001b[0;34m)\u001b[0m\u001b[0;34m\u001b[0m\u001b[0;34m\u001b[0m\u001b[0m\n\u001b[0m\u001b[1;32m    349\u001b[0m     \u001b[0;32mif\u001b[0m \u001b[0mcls\u001b[0m \u001b[0;32mis\u001b[0m \u001b[0;32mNone\u001b[0m\u001b[0;34m:\u001b[0m\u001b[0;34m\u001b[0m\u001b[0;34m\u001b[0m\u001b[0m\n\u001b[1;32m    350\u001b[0m         \u001b[0mcls\u001b[0m \u001b[0;34m=\u001b[0m \u001b[0mJSONDecoder\u001b[0m\u001b[0;34m\u001b[0m\u001b[0;34m\u001b[0m\u001b[0m\n",
      "\u001b[0;32m/usr/local/lib/python3.7/json/decoder.py\u001b[0m in \u001b[0;36mdecode\u001b[0;34m(self, s, _w)\u001b[0m\n\u001b[1;32m    335\u001b[0m \u001b[0;34m\u001b[0m\u001b[0m\n\u001b[1;32m    336\u001b[0m         \"\"\"\n\u001b[0;32m--> 337\u001b[0;31m         \u001b[0mobj\u001b[0m\u001b[0;34m,\u001b[0m \u001b[0mend\u001b[0m \u001b[0;34m=\u001b[0m \u001b[0mself\u001b[0m\u001b[0;34m.\u001b[0m\u001b[0mraw_decode\u001b[0m\u001b[0;34m(\u001b[0m\u001b[0ms\u001b[0m\u001b[0;34m,\u001b[0m \u001b[0midx\u001b[0m\u001b[0;34m=\u001b[0m\u001b[0m_w\u001b[0m\u001b[0;34m(\u001b[0m\u001b[0ms\u001b[0m\u001b[0;34m,\u001b[0m \u001b[0;36m0\u001b[0m\u001b[0;34m)\u001b[0m\u001b[0;34m.\u001b[0m\u001b[0mend\u001b[0m\u001b[0;34m(\u001b[0m\u001b[0;34m)\u001b[0m\u001b[0;34m)\u001b[0m\u001b[0;34m\u001b[0m\u001b[0;34m\u001b[0m\u001b[0m\n\u001b[0m\u001b[1;32m    338\u001b[0m         \u001b[0mend\u001b[0m \u001b[0;34m=\u001b[0m \u001b[0m_w\u001b[0m\u001b[0;34m(\u001b[0m\u001b[0ms\u001b[0m\u001b[0;34m,\u001b[0m \u001b[0mend\u001b[0m\u001b[0;34m)\u001b[0m\u001b[0;34m.\u001b[0m\u001b[0mend\u001b[0m\u001b[0;34m(\u001b[0m\u001b[0;34m)\u001b[0m\u001b[0;34m\u001b[0m\u001b[0;34m\u001b[0m\u001b[0m\n\u001b[1;32m    339\u001b[0m         \u001b[0;32mif\u001b[0m \u001b[0mend\u001b[0m \u001b[0;34m!=\u001b[0m \u001b[0mlen\u001b[0m\u001b[0;34m(\u001b[0m\u001b[0ms\u001b[0m\u001b[0;34m)\u001b[0m\u001b[0;34m:\u001b[0m\u001b[0;34m\u001b[0m\u001b[0;34m\u001b[0m\u001b[0m\n",
      "\u001b[0;32m/usr/local/lib/python3.7/json/decoder.py\u001b[0m in \u001b[0;36mraw_decode\u001b[0;34m(self, s, idx)\u001b[0m\n\u001b[1;32m    353\u001b[0m             \u001b[0mobj\u001b[0m\u001b[0;34m,\u001b[0m \u001b[0mend\u001b[0m \u001b[0;34m=\u001b[0m \u001b[0mself\u001b[0m\u001b[0;34m.\u001b[0m\u001b[0mscan_once\u001b[0m\u001b[0;34m(\u001b[0m\u001b[0ms\u001b[0m\u001b[0;34m,\u001b[0m \u001b[0midx\u001b[0m\u001b[0;34m)\u001b[0m\u001b[0;34m\u001b[0m\u001b[0;34m\u001b[0m\u001b[0m\n\u001b[1;32m    354\u001b[0m         \u001b[0;32mexcept\u001b[0m \u001b[0mStopIteration\u001b[0m \u001b[0;32mas\u001b[0m \u001b[0merr\u001b[0m\u001b[0;34m:\u001b[0m\u001b[0;34m\u001b[0m\u001b[0;34m\u001b[0m\u001b[0m\n\u001b[0;32m--> 355\u001b[0;31m             \u001b[0;32mraise\u001b[0m \u001b[0mJSONDecodeError\u001b[0m\u001b[0;34m(\u001b[0m\u001b[0;34m\"Expecting value\"\u001b[0m\u001b[0;34m,\u001b[0m \u001b[0ms\u001b[0m\u001b[0;34m,\u001b[0m \u001b[0merr\u001b[0m\u001b[0;34m.\u001b[0m\u001b[0mvalue\u001b[0m\u001b[0;34m)\u001b[0m \u001b[0;32mfrom\u001b[0m \u001b[0;32mNone\u001b[0m\u001b[0;34m\u001b[0m\u001b[0;34m\u001b[0m\u001b[0m\n\u001b[0m\u001b[1;32m    356\u001b[0m         \u001b[0;32mreturn\u001b[0m \u001b[0mobj\u001b[0m\u001b[0;34m,\u001b[0m \u001b[0mend\u001b[0m\u001b[0;34m\u001b[0m\u001b[0;34m\u001b[0m\u001b[0m\n",
      "\u001b[0;31mJSONDecodeError\u001b[0m: Expecting value: line 1 column 1 (char 0)"
     ]
    }
   ],
   "source": [
    "conn = GridHTTPConnection().login()"
   ]
  },
  {
   "cell_type": "code",
   "execution_count": 1,
   "id": "26df1339-7327-4d03-a1e3-b3f5580a8ebd",
   "metadata": {},
   "outputs": [],
   "source": [
    "from syft.grid.client.client import GridClient\n",
    "from syft.core.node.domain.client import DomainClient"
   ]
  },
  {
   "cell_type": "code",
   "execution_count": 2,
   "id": "a3dac568-d44c-4f81-9251-c6f8bbf3afd6",
   "metadata": {},
   "outputs": [
    {
     "ename": "NameError",
     "evalue": "name 'GridHTTPConnection' is not defined",
     "output_type": "error",
     "traceback": [
      "\u001b[0;31m---------------------------------------------------------------------------\u001b[0m",
      "\u001b[0;31mNameError\u001b[0m                                 Traceback (most recent call last)",
      "\u001b[0;32m<ipython-input-2-bdac22774d55>\u001b[0m in \u001b[0;36m<module>\u001b[0;34m\u001b[0m\n\u001b[1;32m      2\u001b[0m                     \u001b[0mpassword\u001b[0m\u001b[0;34m=\u001b[0m\u001b[0;34m\"changethis\"\u001b[0m\u001b[0;34m,\u001b[0m\u001b[0;34m\u001b[0m\u001b[0;34m\u001b[0m\u001b[0m\n\u001b[1;32m      3\u001b[0m                     \u001b[0murl\u001b[0m\u001b[0;34m=\u001b[0m\u001b[0;34m\"http://localhost/api/v1/\"\u001b[0m\u001b[0;34m,\u001b[0m\u001b[0;34m\u001b[0m\u001b[0;34m\u001b[0m\u001b[0m\n\u001b[0;32m----> 4\u001b[0;31m                     \u001b[0mconn_type\u001b[0m\u001b[0;34m=\u001b[0m\u001b[0mGridHTTPConnection\u001b[0m\u001b[0;34m,\u001b[0m\u001b[0;34m\u001b[0m\u001b[0;34m\u001b[0m\u001b[0m\n\u001b[0m\u001b[1;32m      5\u001b[0m                     client_type=DomainClient)\n",
      "\u001b[0;31mNameError\u001b[0m: name 'GridHTTPConnection' is not defined"
     ]
    }
   ],
   "source": [
    "client = GridClient(username=\"info@openmined.org\",\n",
    "                    password=\"changethis\", \n",
    "                    url=\"http://localhost/api/v1/\", \n",
    "                    conn_type=GridHTTPConnection, \n",
    "                    client_type=DomainClient)"
   ]
  },
  {
   "cell_type": "code",
   "execution_count": null,
   "id": "929d2548-1994-4674-962c-be40bb65ae37",
   "metadata": {},
   "outputs": [],
   "source": [
    "msg = sy.ReprMessage(address=sy.core.io.address.Address())"
   ]
  },
  {
   "cell_type": "code",
   "execution_count": 99,
   "id": "bfbf8167-67cc-4df6-8472-baacbfe7297c",
   "metadata": {},
   "outputs": [
    {
     "data": {
      "text/plain": [
       "<Response [500]>"
      ]
     },
     "execution_count": 99,
     "metadata": {},
     "output_type": "execute_result"
    }
   ],
   "source": [
    "conn._send_msg(msg)"
   ]
  },
  {
   "cell_type": "code",
   "execution_count": 37,
   "id": "e908cd57-584d-43ee-af68-df39d8edabaf",
   "metadata": {},
   "outputs": [],
   "source": []
  },
  {
   "cell_type": "code",
   "execution_count": null,
   "id": "415fcfa3-3296-4df5-96d4-a98a6df61a85",
   "metadata": {},
   "outputs": [],
   "source": [
    "remote_domain.create_instance(\"xlarge2\")"
   ]
  }
 ],
 "metadata": {
  "kernelspec": {
   "display_name": "Python 3",
   "language": "python",
   "name": "python3"
  },
  "language_info": {
   "codemirror_mode": {
    "name": "ipython",
    "version": 3
   },
   "file_extension": ".py",
   "mimetype": "text/x-python",
   "name": "python",
   "nbconvert_exporter": "python",
   "pygments_lexer": "ipython3",
   "version": "3.7.9"
  }
 },
 "nbformat": 4,
 "nbformat_minor": 5
}

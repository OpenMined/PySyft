{
 "cells": [
  {
   "cell_type": "code",
   "execution_count": null,
   "id": "0",
   "metadata": {},
   "outputs": [],
   "source": [
    "# What are main resources that need fixtures ?\n",
    "# Launch Server - Datasite and Gateway\n",
    "# Datasets\n",
    "# Users - DO, DS, Admin\n",
    "# UserCodes\n",
    "# Create Jobs\n",
    "# Clean Stores"
   ]
  },
  {
   "cell_type": "code",
   "execution_count": null,
   "id": "1",
   "metadata": {},
   "outputs": [],
   "source": [
    "# third party\n",
    "from fixture_utils import DatasetType\n",
    "from fixture_utils import ServiceRole\n",
    "from fixture_utils import SyftFixture\n",
    "\n",
    "# syft absolute\n",
    "import syft as sy"
   ]
  },
  {
   "cell_type": "code",
   "execution_count": null,
   "id": "2",
   "metadata": {},
   "outputs": [],
   "source": [
    "server = sy.orchestra.launch(\"test-domain\", dev_mode=False, reset=True)\n",
    "root_client = server.login(email=\"info@openmined.org\", password=\"changethis\")"
   ]
  },
  {
   "cell_type": "code",
   "execution_count": null,
   "id": "3",
   "metadata": {},
   "outputs": [],
   "source": [
    "config = {\n",
    "    \"user\": [\n",
    "        {\"role\": ServiceRole.DATA_OWNER, \"to_create\": 1},\n",
    "        {\"role\": ServiceRole.DATA_SCIENTIST, \"to_create\": 1},\n",
    "    ],\n",
    "    \"dataset\": [{\"type\": DatasetType.TABULAR, \"to_create\": 1}],\n",
    "    \"user_code\": {\n",
    "        \"to_create\": 5,\n",
    "        \"via_project\": False,\n",
    "    },\n",
    "}"
   ]
  },
  {
   "cell_type": "code",
   "execution_count": null,
   "id": "4",
   "metadata": {},
   "outputs": [],
   "source": [
    "fixture = SyftFixture(config, root_client)"
   ]
  },
  {
   "cell_type": "code",
   "execution_count": null,
   "id": "5",
   "metadata": {},
   "outputs": [],
   "source": [
    "fixture.create()"
   ]
  },
  {
   "cell_type": "code",
   "execution_count": null,
   "id": "6",
   "metadata": {},
   "outputs": [],
   "source": [
    "fixture.info()"
   ]
  },
  {
   "cell_type": "markdown",
   "id": "7",
   "metadata": {},
   "source": [
    "#### Create code via project"
   ]
  },
  {
   "cell_type": "code",
   "execution_count": null,
   "id": "8",
   "metadata": {},
   "outputs": [],
   "source": [
    "config_with_project = {\n",
    "    \"user\": [\n",
    "        {\"role\": ServiceRole.DATA_OWNER, \"to_create\": 1},\n",
    "        {\"role\": ServiceRole.DATA_SCIENTIST, \"to_create\": 1},\n",
    "    ],\n",
    "    \"dataset\": [{\"type\": DatasetType.TABULAR, \"to_create\": 1}],\n",
    "    \"user_code\": {\n",
    "        \"to_create\": 5,\n",
    "        \"via_project\": True,\n",
    "    },\n",
    "}"
   ]
  },
  {
   "cell_type": "code",
   "execution_count": null,
   "id": "9",
   "metadata": {},
   "outputs": [],
   "source": [
    "fixture = SyftFixture(config_with_project, root_client)"
   ]
  },
  {
   "cell_type": "code",
   "execution_count": null,
   "id": "10",
   "metadata": {},
   "outputs": [],
   "source": [
    "fixture.create()"
   ]
  },
  {
   "cell_type": "code",
   "execution_count": null,
   "id": "11",
   "metadata": {},
   "outputs": [],
   "source": [
    "root_client.users"
   ]
  },
  {
   "cell_type": "code",
   "execution_count": null,
   "id": "12",
   "metadata": {},
   "outputs": [],
   "source": [
    "root_client.datasets"
   ]
  },
  {
   "cell_type": "code",
   "execution_count": null,
   "id": "13",
   "metadata": {},
   "outputs": [],
   "source": [
    "root_client.requests"
   ]
  },
  {
   "cell_type": "code",
   "execution_count": null,
   "id": "14",
   "metadata": {},
   "outputs": [],
   "source": [
    "root_client.code"
   ]
  },
  {
   "cell_type": "code",
   "execution_count": null,
   "id": "15",
   "metadata": {},
   "outputs": [],
   "source": []
  },
  {
   "cell_type": "code",
   "execution_count": null,
   "id": "16",
   "metadata": {},
   "outputs": [],
   "source": []
  }
 ],
 "metadata": {
  "kernelspec": {
   "display_name": "Python 3 (ipykernel)",
   "language": "python",
   "name": "python3"
  },
  "language_info": {
   "codemirror_mode": {
    "name": "ipython",
    "version": 3
   },
   "file_extension": ".py",
   "mimetype": "text/x-python",
   "name": "python",
   "nbconvert_exporter": "python",
   "pygments_lexer": "ipython3",
   "version": "3.11.5"
  }
 },
 "nbformat": 4,
 "nbformat_minor": 5
}

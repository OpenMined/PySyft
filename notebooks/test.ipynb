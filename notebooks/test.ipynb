{
 "cells": [
  {
   "cell_type": "code",
   "execution_count": 1,
   "metadata": {},
   "outputs": [],
   "source": [
    "import syft as sy"
   ]
  },
  {
   "cell_type": "code",
   "execution_count": 2,
   "metadata": {},
   "outputs": [
    {
     "name": "stdout",
     "output_type": "stream",
     "text": [
      "Staging Protocol Changes...\n"
     ]
    },
    {
     "name": "stderr",
     "output_type": "stream",
     "text": [
      "Creating request service\n"
     ]
    },
    {
     "name": "stdout",
     "output_type": "stream",
     "text": [
      "Creating default worker image with tag='local-dev'\n",
      "Building default worker image with tag=local-dev\n",
      "Setting up worker poolname=default-pool workers=0 image_uid=38144b1babf248628f1ac87af591f9c0 in_memory=True\n",
      "Created default worker pool.\n",
      "Data Migrated to latest version !!!\n"
     ]
    }
   ],
   "source": [
    "node = sy.orchestra.launch(\n",
    "    name=\"test\",\n",
    "    dev_mode=True,\n",
    "    reset=True,\n",
    ")"
   ]
  },
  {
   "cell_type": "code",
   "execution_count": 3,
   "metadata": {},
   "outputs": [
    {
     "name": "stdout",
     "output_type": "stream",
     "text": [
      "Logged into <test: High side Domain> as <info@openmined.org>\n"
     ]
    },
    {
     "data": {
      "text/html": [
       "<div class=\"alert-warning\" style=\"padding:5px;\"><strong>SyftWarning</strong>: You are using a default password. Please change the password using `[your_client].me.set_password([new_password])`.</div><br />"
      ],
      "text/plain": [
       "SyftWarning: You are using a default password. Please change the password using `[your_client].me.set_password([new_password])`."
      ]
     },
     "metadata": {},
     "output_type": "display_data"
    }
   ],
   "source": [
    "client = node.login(password=\"changethis\", email=\"info@openmined.org\")"
   ]
  },
  {
   "cell_type": "code",
   "execution_count": 4,
   "metadata": {},
   "outputs": [
    {
     "data": {
      "text/html": [
       "<div class=\"alert-success\" style=\"padding:5px;\"><strong>SyftSuccess</strong>: User 'a' successfully registered! To see users, run `[your_client].users`</div><br />"
      ],
      "text/plain": [
       "SyftSuccess: User 'a' successfully registered! To see users, run `[your_client].users`"
      ]
     },
     "execution_count": 4,
     "metadata": {},
     "output_type": "execute_result"
    }
   ],
   "source": [
    "client.register(name='a', email='a@a.com', password=\"a\", password_verify=\"a\")"
   ]
  },
  {
   "cell_type": "code",
   "execution_count": 5,
   "metadata": {},
   "outputs": [
    {
     "name": "stdout",
     "output_type": "stream",
     "text": [
      "Logged into <test: High side Domain> as <a@a.com>\n"
     ]
    }
   ],
   "source": [
    "client_ds = node.login(password=\"a\", email='a@a.com')"
   ]
  },
  {
   "cell_type": "code",
   "execution_count": 6,
   "metadata": {},
   "outputs": [
    {
     "data": {
      "text/html": [
       "\n",
       "        <style>\n",
       "            \n",
       "/* cyrillic-ext */\n",
       "@font-face {\n",
       "  font-family: 'Open Sans';\n",
       "  font-style: normal;\n",
       "  font-weight: 300 800;\n",
       "  font-stretch: 100%;\n",
       "  src: url(https://fonts.gstatic.com/s/opensans/v35/memvYaGs126MiZpBA-UvWbX2vVnXBbObj2OVTSKmu0SC55K5gw.woff2) format('woff2');\n",
       "  unicode-range: U+0460-052F, U+1C80-1C88, U+20B4, U+2DE0-2DFF, U+A640-A69F, U+FE2E-FE2F;\n",
       "}\n",
       "/* cyrillic */\n",
       "@font-face {\n",
       "  font-family: 'Open Sans';\n",
       "  font-style: normal;\n",
       "  font-weight: 300 800;\n",
       "  font-stretch: 100%;\n",
       "  src: url(https://fonts.gstatic.com/s/opensans/v35/memvYaGs126MiZpBA-UvWbX2vVnXBbObj2OVTSumu0SC55K5gw.woff2) format('woff2');\n",
       "  unicode-range: U+0301, U+0400-045F, U+0490-0491, U+04B0-04B1, U+2116;\n",
       "}\n",
       "/* greek-ext */\n",
       "@font-face {\n",
       "  font-family: 'Open Sans';\n",
       "  font-style: normal;\n",
       "  font-weight: 300 800;\n",
       "  font-stretch: 100%;\n",
       "  src: url(https://fonts.gstatic.com/s/opensans/v35/memvYaGs126MiZpBA-UvWbX2vVnXBbObj2OVTSOmu0SC55K5gw.woff2) format('woff2');\n",
       "  unicode-range: U+1F00-1FFF;\n",
       "}\n",
       "/* greek */\n",
       "@font-face {\n",
       "  font-family: 'Open Sans';\n",
       "  font-style: normal;\n",
       "  font-weight: 300 800;\n",
       "  font-stretch: 100%;\n",
       "  src: url(https://fonts.gstatic.com/s/opensans/v35/memvYaGs126MiZpBA-UvWbX2vVnXBbObj2OVTSymu0SC55K5gw.woff2) format('woff2');\n",
       "  unicode-range: U+0370-03FF;\n",
       "}\n",
       "/* hebrew */\n",
       "@font-face {\n",
       "  font-family: 'Open Sans';\n",
       "  font-style: normal;\n",
       "  font-weight: 300 800;\n",
       "  font-stretch: 100%;\n",
       "  src: url(https://fonts.gstatic.com/s/opensans/v35/memvYaGs126MiZpBA-UvWbX2vVnXBbObj2OVTS2mu0SC55K5gw.woff2) format('woff2');\n",
       "  unicode-range: U+0590-05FF, U+200C-2010, U+20AA, U+25CC, U+FB1D-FB4F;\n",
       "}\n",
       "/* vietnamese */\n",
       "@font-face {\n",
       "  font-family: 'Open Sans';\n",
       "  font-style: normal;\n",
       "  font-weight: 300 800;\n",
       "  font-stretch: 100%;\n",
       "  src: url(https://fonts.gstatic.com/s/opensans/v35/memvYaGs126MiZpBA-UvWbX2vVnXBbObj2OVTSCmu0SC55K5gw.woff2) format('woff2');\n",
       "  unicode-range: U+0102-0103, U+0110-0111, U+0128-0129, U+0168-0169, U+01A0-01A1, U+01AF-01B0, U+0300-0301, U+0303-0304, U+0308-0309, U+0323, U+0329, U+1EA0-1EF9, U+20AB;\n",
       "}\n",
       "/* latin-ext */\n",
       "@font-face {\n",
       "  font-family: 'Open Sans';\n",
       "  font-style: normal;\n",
       "  font-weight: 300 800;\n",
       "  font-stretch: 100%;\n",
       "  src: url(https://fonts.gstatic.com/s/opensans/v35/memvYaGs126MiZpBA-UvWbX2vVnXBbObj2OVTSGmu0SC55K5gw.woff2) format('woff2');\n",
       "  unicode-range: U+0100-02AF, U+0304, U+0308, U+0329, U+1E00-1E9F, U+1EF2-1EFF, U+2020, U+20A0-20AB, U+20AD-20CF, U+2113, U+2C60-2C7F, U+A720-A7FF;\n",
       "}\n",
       "/* latin */\n",
       "@font-face {\n",
       "  font-family: 'Open Sans';\n",
       "  font-style: normal;\n",
       "  font-weight: 300 800;\n",
       "  font-stretch: 100%;\n",
       "  src: url(https://fonts.gstatic.com/s/opensans/v35/memvYaGs126MiZpBA-UvWbX2vVnXBbObj2OVTS-mu0SC55I.woff2) format('woff2');\n",
       "  unicode-range: U+0000-00FF, U+0131, U+0152-0153, U+02BB-02BC, U+02C6, U+02DA, U+02DC, U+0304, U+0308, U+0329, U+2000-206F, U+2074, U+20AC, U+2122, U+2191, U+2193, U+2212, U+2215, U+FEFF, U+FFFD;\n",
       "}\n",
       "\n",
       "\n",
       "            .syft-container {\n",
       "                padding: 5px;\n",
       "                font-family: 'Open Sans';\n",
       "            }\n",
       "            .syft-alert-info {\n",
       "                color: #1F567A;\n",
       "                background-color: #C2DEF0;\n",
       "                border-radius: 4px;\n",
       "                padding: 5px;\n",
       "                padding: 13px 10px\n",
       "            }\n",
       "            .syft-code-block {\n",
       "                background-color: #f7f7f7;\n",
       "                border: 1px solid #cfcfcf;\n",
       "                padding: 0px 2px;\n",
       "            }\n",
       "            .syft-space {\n",
       "                margin-top: 1em;\n",
       "            }\n",
       "        </style>\n",
       "        <div class=\"syft-client syft-container\">\n",
       "            <img src=\"data:image/png;base64,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\" alt=\"Logo\"\n",
       "            style=\"width:48px;height:48px;padding:3px;\">\n",
       "            <h2>Welcome to test</h2>\n",
       "            <div class=\"syft-space\">\n",
       "                <strong>Node Type:</strong> Domain<br /><strong>Node Side Type:</strong> High Side<br /><strong>Syft Version:</strong> 0.8.7-beta.7<br />\n",
       "            </div>\n",
       "            <div class='syft-alert-info syft-space'>\n",
       "                &#9432;&nbsp;\n",
       "                This domain is run by the library PySyft to learn more about how it works visit\n",
       "                <a href=\"https://github.com/OpenMined/PySyft\">github.com/OpenMined/PySyft</a>.\n",
       "            </div>\n",
       "            <h4>Commands to Get Started</h4>\n",
       "            \n",
       "        <ul style='padding-left: 1em;'>\n",
       "            \n",
       "        <li><span class='syft-code-block'>&lt;your_client&gt;.datasets</span> - list datasets</li>\n",
       "        <li><span class='syft-code-block'>&lt;your_client&gt;.code</span> - list code</li>\n",
       "        <li><span class='syft-code-block'>&lt;your_client&gt;.projects</span> - list projects</li>\n",
       "        <li>\n",
       "            <span class='syft-code-block'>&lt;your_client&gt;.code.submit?</span> - display function signature\n",
       "        </li>\n",
       "        </ul>\n",
       "        \n",
       "        </div><br />\n",
       "        "
      ],
      "text/plain": [
       "<DomainClient: test>"
      ]
     },
     "execution_count": 6,
     "metadata": {},
     "output_type": "execute_result"
    }
   ],
   "source": [
    "client_ds"
   ]
  },
  {
   "cell_type": "code",
   "execution_count": 7,
   "metadata": {},
   "outputs": [
    {
     "data": {
      "text/html": [
       "<div class=\"alert-success\" style=\"padding:5px;\"><strong>SyftSuccess</strong>: Syft function 'test' successfully created. To add a code request, please create a project using `project = syft.Project(...)`, then use command `project.create_code_request`.</div><br />"
      ],
      "text/plain": [
       "SyftSuccess: Syft function 'test' successfully created. To add a code request, please create a project using `project = syft.Project(...)`, then use command `project.create_code_request`."
      ]
     },
     "metadata": {},
     "output_type": "display_data"
    }
   ],
   "source": [
    "@sy.syft_function_single_use()\n",
    "def test():\n",
    "    return 1"
   ]
  },
  {
   "cell_type": "code",
   "execution_count": 8,
   "metadata": {},
   "outputs": [
    {
     "data": {
      "text/html": [
       "\n",
       "            <style>\n",
       "            .syft-request {color: #464158;}\n",
       "            </style>\n",
       "            <div class='syft-request'>\n",
       "                <h3>Request</h3>\n",
       "                <p><strong>Id: </strong>378c8a4fb8a34f16b1f70c5ff9f1d7a9</p>\n",
       "                <p><strong>Request time: </strong>2024-05-17 05:28:53</p>\n",
       "                \n",
       "                \n",
       "                <p><strong>Status: </strong>RequestStatus.PENDING</p>\n",
       "                <p><strong>Requested on: </strong> Test of type <strong>Domain</strong></p>\n",
       "                <p><strong>Requested by:</strong> a (a@a.com) </p>\n",
       "                <p><strong>Changes: </strong> Request to change <b>test</b> (Pool Id: <b>default-pool</b>) to permission <strong>RequestStatus.APPROVED.</strong>Nested Requests not resolved.. </p>\n",
       "            </div>\n",
       "\n",
       "            "
      ],
      "text/markdown": [
       "```python\n",
       "class Request:\n",
       "  id: str = 378c8a4fb8a34f16b1f70c5ff9f1d7a9\n",
       "  request_time: str = 2024-05-17 05:28:53\n",
       "  updated_at: str = None\n",
       "  status: str = RequestStatus.PENDING\n",
       "  changes: str = ['Request to change <b>test</b> (Pool Id: <b>default-pool</b>) to permission <strong>RequestStatus.APPROVED.</strong>Nested Requests not resolved.']\n",
       "  requesting_user_verify_key: str = b4597c3568f87c25c5c999a7b8f21043eff4936a4fcfb9ee4e236cd166d89dad\n",
       "\n",
       "```"
      ],
      "text/plain": [
       "syft.service.request.request.Request"
      ]
     },
     "execution_count": 8,
     "metadata": {},
     "output_type": "execute_result"
    }
   ],
   "source": [
    "client_ds.code.request_code_execution(test)"
   ]
  },
  {
   "cell_type": "code",
   "execution_count": 9,
   "metadata": {},
   "outputs": [],
   "source": [
    "r = client.requests[0]"
   ]
  },
  {
   "cell_type": "code",
   "execution_count": 10,
   "metadata": {},
   "outputs": [
    {
     "data": {
      "text/html": [
       "\n",
       "            <style>\n",
       "            .syft-request {color: #464158;}\n",
       "            </style>\n",
       "            <div class='syft-request'>\n",
       "                <h3>Request</h3>\n",
       "                <p><strong>Id: </strong>378c8a4fb8a34f16b1f70c5ff9f1d7a9</p>\n",
       "                <p><strong>Request time: </strong>2024-05-17 05:28:53</p>\n",
       "                \n",
       "                \n",
       "                <p><strong>Status: </strong>RequestStatus.PENDING</p>\n",
       "                <p><strong>Requested on: </strong> Test of type <strong>Domain</strong></p>\n",
       "                <p><strong>Requested by:</strong> a (a@a.com) </p>\n",
       "                <p><strong>Changes: </strong> Request to change <b>test</b> (Pool Id: <b>default-pool</b>) to permission <strong>RequestStatus.APPROVED.</strong>Nested Requests not resolved.. </p>\n",
       "            </div>\n",
       "\n",
       "            "
      ],
      "text/markdown": [
       "```python\n",
       "class Request:\n",
       "  id: str = 378c8a4fb8a34f16b1f70c5ff9f1d7a9\n",
       "  request_time: str = 2024-05-17 05:28:53\n",
       "  updated_at: str = None\n",
       "  status: str = RequestStatus.PENDING\n",
       "  changes: str = ['Request to change <b>test</b> (Pool Id: <b>default-pool</b>) to permission <strong>RequestStatus.APPROVED.</strong>Nested Requests not resolved.']\n",
       "  requesting_user_verify_key: str = b4597c3568f87c25c5c999a7b8f21043eff4936a4fcfb9ee4e236cd166d89dad\n",
       "\n",
       "```"
      ],
      "text/plain": [
       "syft.service.request.request.Request"
      ]
     },
     "execution_count": 10,
     "metadata": {},
     "output_type": "execute_result"
    }
   ],
   "source": [
    "r"
   ]
  },
  {
   "cell_type": "code",
   "execution_count": 11,
   "metadata": {},
   "outputs": [
    {
     "data": {
      "text/plain": [
       "<UID: 378c8a4fb8a34f16b1f70c5ff9f1d7a9>"
      ]
     },
     "execution_count": 11,
     "metadata": {},
     "output_type": "execute_result"
    }
   ],
   "source": [
    "r.id"
   ]
  },
  {
   "cell_type": "code",
   "execution_count": 12,
   "metadata": {},
   "outputs": [
    {
     "name": "stderr",
     "output_type": "stream",
     "text": [
      "/home/teo/OpenMined/PySyft/packages/syft/src/syft/client/api.py:1209: TypeHintWarning: Skipping type check against 'UID'; this looks like a string-form forward reference imported from another module\n",
      "  check_type(arg, t)  # raises Exception\n"
     ]
    },
    {
     "data": {
      "text/html": [
       "\n",
       "            <style>\n",
       "            .syft-request {color: #464158;}\n",
       "            </style>\n",
       "            <div class='syft-request'>\n",
       "                <h3>Request</h3>\n",
       "                <p><strong>Id: </strong>378c8a4fb8a34f16b1f70c5ff9f1d7a9</p>\n",
       "                <p><strong>Request time: </strong>2024-05-17 05:28:53</p>\n",
       "                \n",
       "                \n",
       "                <p><strong>Status: </strong>RequestStatus.PENDING</p>\n",
       "                <p><strong>Requested on: </strong> Test of type <strong>Domain</strong></p>\n",
       "                <p><strong>Requested by:</strong> a (a@a.com) </p>\n",
       "                <p><strong>Changes: </strong> Request to change <b>test</b> (Pool Id: <b>default-pool</b>) to permission <strong>RequestStatus.APPROVED.</strong>Nested Requests not resolved.. </p>\n",
       "            </div>\n",
       "\n",
       "            "
      ],
      "text/markdown": [
       "```python\n",
       "class Request:\n",
       "  id: str = 378c8a4fb8a34f16b1f70c5ff9f1d7a9\n",
       "  request_time: str = 2024-05-17 05:28:53\n",
       "  updated_at: str = None\n",
       "  status: str = RequestStatus.PENDING\n",
       "  changes: str = ['Request to change <b>test</b> (Pool Id: <b>default-pool</b>) to permission <strong>RequestStatus.APPROVED.</strong>Nested Requests not resolved.']\n",
       "  requesting_user_verify_key: str = b4597c3568f87c25c5c999a7b8f21043eff4936a4fcfb9ee4e236cd166d89dad\n",
       "\n",
       "```"
      ],
      "text/plain": [
       "syft.service.request.request.Request"
      ]
     },
     "execution_count": 12,
     "metadata": {},
     "output_type": "execute_result"
    }
   ],
   "source": [
    "res = client.api.services.request.get(r.id)\n",
    "res"
   ]
  },
  {
   "cell_type": "code",
   "execution_count": 13,
   "metadata": {},
   "outputs": [
    {
     "data": {
      "text/html": [
       "<div class=\"alert-success\" style=\"padding:5px;\"><strong>SyftSuccess</strong>: request successfully deleted.</div><br />"
      ],
      "text/plain": [
       "SyftSuccess: request successfully deleted."
      ]
     },
     "execution_count": 13,
     "metadata": {},
     "output_type": "execute_result"
    }
   ],
   "source": [
    "client.api.services.request.delete(r.id)\n"
   ]
  },
  {
   "cell_type": "code",
   "execution_count": 14,
   "metadata": {},
   "outputs": [
    {
     "data": {
      "text/html": [
       "(None,)"
      ],
      "text/plain": [
       "(None,)"
      ]
     },
     "execution_count": 14,
     "metadata": {},
     "output_type": "execute_result"
    }
   ],
   "source": [
    "res = client.api.services.request.get(r.id)\n",
    "res, "
   ]
  },
  {
   "cell_type": "code",
   "execution_count": 15,
   "metadata": {},
   "outputs": [
    {
     "name": "stderr",
     "output_type": "stream",
     "text": [
      "/home/teo/OpenMined/PySyft/packages/syft/src/syft/client/api.py:1209: TypeHintWarning: Skipping type check against 'bool'; this looks like a string-form forward reference imported from another module\n",
      "  check_type(arg, t)  # raises Exception\n"
     ]
    },
    {
     "data": {
      "text/html": [
       "\n",
       "            <style>\n",
       "            .syft-request {color: #464158;}\n",
       "            </style>\n",
       "            <div class='syft-request'>\n",
       "                <h3>Request</h3>\n",
       "                <p><strong>Id: </strong>378c8a4fb8a34f16b1f70c5ff9f1d7a9</p>\n",
       "                <p><strong>Request time: </strong>2024-05-17 05:28:53</p>\n",
       "                \n",
       "                \n",
       "                <p><strong>Status: </strong>RequestStatus.PENDING</p>\n",
       "                <p><strong>Requested on: </strong> Test of type <strong>Domain</strong></p>\n",
       "                <p><strong>Requested by:</strong> a (a@a.com) </p>\n",
       "                <p><strong>Changes: </strong> Request to change <b>test</b> (Pool Id: <b>default-pool</b>) to permission <strong>RequestStatus.APPROVED.</strong>Nested Requests not resolved.. </p>\n",
       "            </div>\n",
       "\n",
       "            "
      ],
      "text/markdown": [
       "```python\n",
       "class Request:\n",
       "  id: str = 378c8a4fb8a34f16b1f70c5ff9f1d7a9\n",
       "  request_time: str = 2024-05-17 05:28:53\n",
       "  updated_at: str = None\n",
       "  status: str = RequestStatus.PENDING\n",
       "  changes: str = ['Request to change <b>test</b> (Pool Id: <b>default-pool</b>) to permission <strong>RequestStatus.APPROVED.</strong>Nested Requests not resolved.']\n",
       "  requesting_user_verify_key: str = b4597c3568f87c25c5c999a7b8f21043eff4936a4fcfb9ee4e236cd166d89dad\n",
       "\n",
       "```"
      ],
      "text/plain": [
       "syft.service.request.request.Request"
      ]
     },
     "execution_count": 15,
     "metadata": {},
     "output_type": "execute_result"
    }
   ],
   "source": [
    "res = client.api.services.request.get(r.id, True)\n",
    "res"
   ]
  },
  {
   "cell_type": "code",
   "execution_count": 16,
   "metadata": {},
   "outputs": [
    {
     "data": {
      "text/html": [
       "<div class=\"alert-success\" style=\"padding:5px;\"><strong>SyftSuccess</strong>: request successfully restored.</div><br />"
      ],
      "text/plain": [
       "SyftSuccess: request successfully restored."
      ]
     },
     "execution_count": 16,
     "metadata": {},
     "output_type": "execute_result"
    }
   ],
   "source": [
    "client.api.services.request.restore(r.id)"
   ]
  },
  {
   "cell_type": "code",
   "execution_count": 17,
   "metadata": {},
   "outputs": [
    {
     "data": {
      "text/html": [
       "\n",
       "            <style>\n",
       "            .syft-request {color: #464158;}\n",
       "            </style>\n",
       "            <div class='syft-request'>\n",
       "                <h3>Request</h3>\n",
       "                <p><strong>Id: </strong>378c8a4fb8a34f16b1f70c5ff9f1d7a9</p>\n",
       "                <p><strong>Request time: </strong>2024-05-17 05:28:53</p>\n",
       "                \n",
       "                \n",
       "                <p><strong>Status: </strong>RequestStatus.PENDING</p>\n",
       "                <p><strong>Requested on: </strong> Test of type <strong>Domain</strong></p>\n",
       "                <p><strong>Requested by:</strong> a (a@a.com) </p>\n",
       "                <p><strong>Changes: </strong> Request to change <b>test</b> (Pool Id: <b>default-pool</b>) to permission <strong>RequestStatus.APPROVED.</strong>Nested Requests not resolved.. </p>\n",
       "            </div>\n",
       "\n",
       "            "
      ],
      "text/markdown": [
       "```python\n",
       "class Request:\n",
       "  id: str = 378c8a4fb8a34f16b1f70c5ff9f1d7a9\n",
       "  request_time: str = 2024-05-17 05:28:53\n",
       "  updated_at: str = None\n",
       "  status: str = RequestStatus.PENDING\n",
       "  changes: str = ['Request to change <b>test</b> (Pool Id: <b>default-pool</b>) to permission <strong>RequestStatus.APPROVED.</strong>Nested Requests not resolved.']\n",
       "  requesting_user_verify_key: str = b4597c3568f87c25c5c999a7b8f21043eff4936a4fcfb9ee4e236cd166d89dad\n",
       "\n",
       "```"
      ],
      "text/plain": [
       "syft.service.request.request.Request"
      ]
     },
     "execution_count": 17,
     "metadata": {},
     "output_type": "execute_result"
    }
   ],
   "source": [
    "res = client.api.services.request.get(r.id)\n",
    "res"
   ]
  },
  {
   "cell_type": "code",
   "execution_count": 18,
   "metadata": {},
   "outputs": [
    {
     "data": {
      "text/html": [
       "<div class=\"alert-success\" style=\"padding:5px;\"><strong>SyftSuccess</strong>: request successfully deleted.</div><br />"
      ],
      "text/plain": [
       "SyftSuccess: request successfully deleted."
      ]
     },
     "execution_count": 18,
     "metadata": {},
     "output_type": "execute_result"
    }
   ],
   "source": [
    "client.api.services.request.delete(r.id, True)\n"
   ]
  },
  {
   "cell_type": "code",
   "execution_count": 20,
   "metadata": {},
   "outputs": [
    {
     "name": "stderr",
     "output_type": "stream",
     "text": [
      "/home/teo/OpenMined/PySyft/packages/syft/src/syft/client/api.py:1209: TypeHintWarning: Skipping type check against 'UID'; this looks like a string-form forward reference imported from another module\n",
      "  check_type(arg, t)  # raises Exception\n",
      "/home/teo/OpenMined/PySyft/packages/syft/src/syft/client/api.py:1209: TypeHintWarning: Skipping type check against 'bool'; this looks like a string-form forward reference imported from another module\n",
      "  check_type(arg, t)  # raises Exception\n"
     ]
    },
    {
     "data": {
      "text/html": [
       "(None,)"
      ],
      "text/plain": [
       "(None,)"
      ]
     },
     "execution_count": 20,
     "metadata": {},
     "output_type": "execute_result"
    }
   ],
   "source": [
    "res = client.api.services.request.get(r.id, True)\n",
    "res, "
   ]
  }
 ],
 "metadata": {
  "kernelspec": {
   "display_name": "syft_3.11",
   "language": "python",
   "name": "python3"
  },
  "language_info": {
   "codemirror_mode": {
    "name": "ipython",
    "version": 3
   },
   "file_extension": ".py",
   "mimetype": "text/x-python",
   "name": "python",
   "nbconvert_exporter": "python",
   "pygments_lexer": "ipython3",
   "version": "3.11.8"
  }
 },
 "nbformat": 4,
 "nbformat_minor": 2
}

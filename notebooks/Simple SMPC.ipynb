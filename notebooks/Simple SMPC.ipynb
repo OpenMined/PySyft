{
 "cells": [
  {
   "cell_type": "code",
   "execution_count": 71,
   "id": "d8dd0801-8455-44e1-8c48-f715b993c6bb",
   "metadata": {},
   "outputs": [],
   "source": [
    "import syft as sy\n",
    "import numpy as np\n",
    "from syft.core.tensor.smpc.mpc_tensor import MPCTensor\n",
    "\n",
    "sy.logger.remove()"
   ]
  },
  {
   "cell_type": "code",
   "execution_count": 72,
   "id": "701e5d26-243d-4bf0-869f-406a2be32495",
   "metadata": {},
   "outputs": [
    {
     "name": "stdout",
     "output_type": "stream",
     "text": [
      "Connecting to http://localhost:8081... done! \t Logging into gryffindor... done!\n"
     ]
    }
   ],
   "source": [
    "gryffindor = sy.login(email=\"info@openmined.org\", password=\"changethis\", port=8081)"
   ]
  },
  {
   "cell_type": "code",
   "execution_count": 73,
   "id": "5b3f8516-79b0-4ba4-a9ab-6dc3ac4f80c7",
   "metadata": {},
   "outputs": [
    {
     "name": "stdout",
     "output_type": "stream",
     "text": [
      "Connecting to http://localhost:8082... done! \t Logging into slytherin... done!\n"
     ]
    }
   ],
   "source": [
    "slytherin = sy.login(email=\"info@openmined.org\", password=\"changethis\", port=8082)"
   ]
  },
  {
   "cell_type": "code",
   "execution_count": 74,
   "id": "a105c9a6-5bd5-4e4b-8984-69ca48abe27b",
   "metadata": {},
   "outputs": [],
   "source": [
    "parties = [gryffindor, slytherin]"
   ]
  },
  {
   "cell_type": "code",
   "execution_count": 75,
   "id": "7ad8e732-d881-4765-a784-5d54c550fd81",
   "metadata": {},
   "outputs": [],
   "source": [
    "value_secret_1 = gryffindor.syft.core.tensor.tensor.Tensor(np.array([[1, 2, 3, 4, 5], [6, 7, 8, 9, 10]], dtype=np.int64))"
   ]
  },
  {
   "cell_type": "code",
   "execution_count": 76,
   "id": "6a0a9c41-8dd5-4276-adf3-a344f222d761",
   "metadata": {},
   "outputs": [],
   "source": [
    "mpc_tensor_1 = MPCTensor(secret=value_secret_1, shape=(2,5), parties=parties)"
   ]
  },
  {
   "cell_type": "code",
   "execution_count": 77,
   "id": "5d48ac7b-2353-4ee8-82e3-ee6a2cf43175",
   "metadata": {},
   "outputs": [
    {
     "name": "stdout",
     "output_type": "stream",
     "text": [
      "MPCTensor\n",
      "\t<syft.proxy.syft.core.tensor.smpc.share_tensor.ShareTensorPointer object at 0x7fc6691c5c10>\n",
      "\t<syft.proxy.syft.core.tensor.smpc.share_tensor.ShareTensorPointer object at 0x7fc66bf6cf10>\n"
     ]
    }
   ],
   "source": [
    "print(mpc_tensor_1)"
   ]
  },
  {
   "cell_type": "code",
   "execution_count": 78,
   "id": "f65e5f8b-41fc-489a-aee6-34df1fe59a26",
   "metadata": {},
   "outputs": [
    {
     "name": "stdout",
     "output_type": "stream",
     "text": [
      "Reconstruct mpc_tensor_1\n",
      "[[ 1  2  3  4  5]\n",
      " [ 6  7  8  9 10]]\n"
     ]
    }
   ],
   "source": [
    "print(f\"Reconstruct mpc_tensor_1\\n{mpc_tensor_1.reconstruct()}\")"
   ]
  },
  {
   "cell_type": "code",
   "execution_count": 79,
   "id": "f3533172-bd79-4232-bc82-b9c82277ead3",
   "metadata": {},
   "outputs": [],
   "source": [
    "mpc_res = mpc_tensor_1.sum(axis=0)"
   ]
  },
  {
   "cell_type": "code",
   "execution_count": 80,
   "id": "fe0d01de-6d9f-4d52-99ed-ea206e7109fc",
   "metadata": {},
   "outputs": [
    {
     "name": "stdout",
     "output_type": "stream",
     "text": [
      "[ 7  9 11 13 15]\n"
     ]
    }
   ],
   "source": [
    "print(mpc_res.reconstruct())"
   ]
  },
  {
   "cell_type": "code",
   "execution_count": 82,
   "id": "e05298ee-000c-4d39-bb24-138780ac6be5",
   "metadata": {},
   "outputs": [],
   "source": [
    "a = mpc_tensor_1 + mpc_tensor_1"
   ]
  },
  {
   "cell_type": "code",
   "execution_count": 83,
   "id": "9c3da8f2-d72c-4a02-b225-e90d9e3e8b5e",
   "metadata": {},
   "outputs": [
    {
     "name": "stdout",
     "output_type": "stream",
     "text": [
      "MPCTensor\n",
      "\t<syft.proxy.syft.core.tensor.smpc.share_tensor.ShareTensorPointer object at 0x7fc669e40970>\n",
      "\t<syft.proxy.syft.core.tensor.smpc.share_tensor.ShareTensorPointer object at 0x7fc669e409a0>\n"
     ]
    }
   ],
   "source": [
    "print(a)"
   ]
  },
  {
   "cell_type": "code",
   "execution_count": 86,
   "id": "6f056d40-3e6f-46c2-a5a0-ad54d5d336fb",
   "metadata": {},
   "outputs": [
    {
     "name": "stdout",
     "output_type": "stream",
     "text": [
      "[[ 2  4  6  8 10]\n",
      " [12 14 16 18 20]]\n"
     ]
    }
   ],
   "source": [
    "print(a.reconstruct())"
   ]
  },
  {
   "cell_type": "code",
   "execution_count": 89,
   "id": "ba7c8073-084a-43b3-84aa-ebeb87611bd2",
   "metadata": {},
   "outputs": [
    {
     "ename": "AttributeError",
     "evalue": "'int' object has no attribute 'shape'",
     "output_type": "error",
     "traceback": [
      "\u001b[0;31m---------------------------------------------------------------------------\u001b[0m",
      "\u001b[0;31mAttributeError\u001b[0m                            Traceback (most recent call last)",
      "\u001b[0;32m/tmp/ipykernel_1534454/3524263871.py\u001b[0m in \u001b[0;36m<module>\u001b[0;34m\u001b[0m\n\u001b[0;32m----> 1\u001b[0;31m \u001b[0mprint\u001b[0m\u001b[0;34m(\u001b[0m\u001b[0;34m(\u001b[0m\u001b[0ma\u001b[0m\u001b[0;34m*\u001b[0m\u001b[0;36m30\u001b[0m\u001b[0;34m)\u001b[0m\u001b[0;34m.\u001b[0m\u001b[0mreconstruct\u001b[0m\u001b[0;34m(\u001b[0m\u001b[0;34m)\u001b[0m\u001b[0;34m)\u001b[0m\u001b[0;34m\u001b[0m\u001b[0;34m\u001b[0m\u001b[0m\n\u001b[0m",
      "\u001b[0;32m~/contrib/PySyft-dev/PySyft/packages/syft/src/syft/core/tensor/smpc/mpc_tensor.py\u001b[0m in \u001b[0;36m__mul__\u001b[0;34m(self, other)\u001b[0m\n\u001b[1;32m    245\u001b[0m                 \u001b[0moperator\u001b[0m\u001b[0;34m.\u001b[0m\u001b[0mmul\u001b[0m\u001b[0;34m(\u001b[0m\u001b[0ma\u001b[0m\u001b[0;34m,\u001b[0m \u001b[0mb\u001b[0m\u001b[0;34m)\u001b[0m \u001b[0;32mfor\u001b[0m \u001b[0ma\u001b[0m\u001b[0;34m,\u001b[0m \u001b[0mb\u001b[0m \u001b[0;32min\u001b[0m \u001b[0mzip\u001b[0m\u001b[0;34m(\u001b[0m\u001b[0mself\u001b[0m\u001b[0;34m.\u001b[0m\u001b[0mchild\u001b[0m\u001b[0;34m,\u001b[0m \u001b[0mitertools\u001b[0m\u001b[0;34m.\u001b[0m\u001b[0mrepeat\u001b[0m\u001b[0;34m(\u001b[0m\u001b[0mother\u001b[0m\u001b[0;34m)\u001b[0m\u001b[0;34m)\u001b[0m\u001b[0;34m\u001b[0m\u001b[0;34m\u001b[0m\u001b[0m\n\u001b[1;32m    246\u001b[0m             ]\n\u001b[0;32m--> 247\u001b[0;31m \u001b[0;34m\u001b[0m\u001b[0m\n\u001b[0m\u001b[1;32m    248\u001b[0m         \u001b[0mnew_shape\u001b[0m \u001b[0;34m=\u001b[0m \u001b[0mMPCTensor\u001b[0m\u001b[0;34m.\u001b[0m\u001b[0m__get_shape\u001b[0m\u001b[0;34m(\u001b[0m\u001b[0mself\u001b[0m\u001b[0;34m.\u001b[0m\u001b[0mmpc_shape\u001b[0m\u001b[0;34m,\u001b[0m \u001b[0mother\u001b[0m\u001b[0;34m.\u001b[0m\u001b[0mshape\u001b[0m\u001b[0;34m,\u001b[0m \u001b[0moperator\u001b[0m\u001b[0;34m.\u001b[0m\u001b[0mmul\u001b[0m\u001b[0;34m)\u001b[0m\u001b[0;34m\u001b[0m\u001b[0;34m\u001b[0m\u001b[0m\n\u001b[1;32m    249\u001b[0m         \u001b[0mres\u001b[0m \u001b[0;34m=\u001b[0m \u001b[0mMPCTensor\u001b[0m\u001b[0;34m(\u001b[0m\u001b[0mshares\u001b[0m\u001b[0;34m=\u001b[0m\u001b[0mres_shares\u001b[0m\u001b[0;34m,\u001b[0m \u001b[0mshape\u001b[0m\u001b[0;34m=\u001b[0m\u001b[0mnew_shape\u001b[0m\u001b[0;34m)\u001b[0m\u001b[0;34m\u001b[0m\u001b[0;34m\u001b[0m\u001b[0m\n",
      "\u001b[0;31mAttributeError\u001b[0m: 'int' object has no attribute 'shape'"
     ]
    }
   ],
   "source": [
    "print((a*30).reconstruct())"
   ]
  },
  {
   "cell_type": "code",
   "execution_count": null,
   "id": "5d9825e5-79cb-4715-97ac-2f056b90e306",
   "metadata": {},
   "outputs": [],
   "source": []
  }
 ],
 "metadata": {
  "kernelspec": {
   "display_name": "Python 3 (ipykernel)",
   "language": "python",
   "name": "python3"
  },
  "language_info": {
   "codemirror_mode": {
    "name": "ipython",
    "version": 3
   },
   "file_extension": ".py",
   "mimetype": "text/x-python",
   "name": "python",
   "nbconvert_exporter": "python",
   "pygments_lexer": "ipython3",
   "version": "3.9.5"
  }
 },
 "nbformat": 4,
 "nbformat_minor": 5
}

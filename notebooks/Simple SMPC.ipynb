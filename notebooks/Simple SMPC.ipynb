{
 "cells": [
  {
   "cell_type": "code",
   "execution_count": 1,
   "id": "d8dd0801-8455-44e1-8c48-f715b993c6bb",
   "metadata": {},
   "outputs": [],
   "source": [
    "import syft as sy\n",
    "import numpy as np\n",
    "from syft.core.tensor.smpc.mpc_tensor import MPCTensor\n",
    "\n",
    "sy.logger.remove()"
   ]
  },
  {
   "cell_type": "code",
   "execution_count": 2,
   "id": "701e5d26-243d-4bf0-869f-406a2be32495",
   "metadata": {},
   "outputs": [
    {
     "name": "stdout",
     "output_type": "stream",
     "text": [
      "Connecting to http://localhost:8081... done! \t Logging into gryffindor... done!\n"
     ]
    }
   ],
   "source": [
    "gryffindor = sy.login(email=\"info@openmined.org\", password=\"changethis\", port=8081)"
   ]
  },
  {
   "cell_type": "code",
   "execution_count": 3,
   "id": "5b3f8516-79b0-4ba4-a9ab-6dc3ac4f80c7",
   "metadata": {},
   "outputs": [
    {
     "name": "stdout",
     "output_type": "stream",
     "text": [
      "Connecting to http://localhost:8082... done! \t Logging into slytherin... done!\n"
     ]
    }
   ],
   "source": [
    "slytherin = sy.login(email=\"info@openmined.org\", password=\"changethis\", port=8082)"
   ]
  },
  {
   "cell_type": "code",
   "execution_count": 4,
   "id": "a105c9a6-5bd5-4e4b-8984-69ca48abe27b",
   "metadata": {},
   "outputs": [],
   "source": [
    "parties = [gryffindor, slytherin]"
   ]
  },
  {
   "cell_type": "code",
   "execution_count": 5,
   "id": "7ad8e732-d881-4765-a784-5d54c550fd81",
   "metadata": {},
   "outputs": [],
   "source": [
    "value_secret_1 = gryffindor.syft.core.tensor.tensor.Tensor(np.array([[1, 2, 3, 4, -5]], dtype=np.int64))"
   ]
  },
  {
   "cell_type": "code",
   "execution_count": 6,
   "id": "6a0a9c41-8dd5-4276-adf3-a344f222d761",
   "metadata": {},
   "outputs": [],
   "source": [
    "mpc_tensor_1 = MPCTensor(secret=value_secret_1, shape=(1,5), parties=parties)"
   ]
  },
  {
   "cell_type": "code",
   "execution_count": 7,
   "id": "5d48ac7b-2353-4ee8-82e3-ee6a2cf43175",
   "metadata": {},
   "outputs": [
    {
     "name": "stdout",
     "output_type": "stream",
     "text": [
      "MPCTensor\n",
      "\t<syft.proxy.syft.core.tensor.smpc.share_tensor.ShareTensorPointer object at 0x7f56c5eb2bb0>\n",
      "\t<syft.proxy.syft.core.tensor.smpc.share_tensor.ShareTensorPointer object at 0x7f5793b0e1c0>\n"
     ]
    }
   ],
   "source": [
    "print(mpc_tensor_1)"
   ]
  },
  {
   "cell_type": "code",
   "execution_count": 8,
   "id": "f65e5f8b-41fc-489a-aee6-34df1fe59a26",
   "metadata": {},
   "outputs": [
    {
     "name": "stdout",
     "output_type": "stream",
     "text": [
      "Reconstruct mpc_tensor_1 [[ 1  2  3  4 -5]]\n"
     ]
    }
   ],
   "source": [
    "print(\"Reconstruct mpc_tensor_1\", mpc_tensor_1.reconstruct())"
   ]
  },
  {
   "cell_type": "code",
   "execution_count": 9,
   "id": "43c04fcd-9ce7-4538-b4c9-97884b054761",
   "metadata": {},
   "outputs": [],
   "source": [
    "value_secret_2 = slytherin.syft.core.tensor.tensor.Tensor(np.array([5], dtype=np.int64))"
   ]
  },
  {
   "cell_type": "code",
   "execution_count": 10,
   "id": "90a0b856-1ff5-47b9-8f11-215d38305bcf",
   "metadata": {},
   "outputs": [],
   "source": [
    "mpc_tensor_2 = MPCTensor(secret=value_secret_2, shape=(1, ), parties=parties)"
   ]
  },
  {
   "cell_type": "code",
   "execution_count": 11,
   "id": "1b4d8b82-09ff-4559-bd9e-a23b264f499a",
   "metadata": {},
   "outputs": [
    {
     "name": "stdout",
     "output_type": "stream",
     "text": [
      "MPCTensor\n",
      "\t<syft.proxy.syft.core.tensor.smpc.share_tensor.ShareTensorPointer object at 0x7f56c5f48f40>\n",
      "\t<syft.proxy.syft.core.tensor.smpc.share_tensor.ShareTensorPointer object at 0x7f56c6429550>\n"
     ]
    }
   ],
   "source": [
    "print(mpc_tensor_2)"
   ]
  },
  {
   "cell_type": "code",
   "execution_count": 12,
   "id": "2d316297-27ce-4102-8f4a-155b5cee7ed1",
   "metadata": {},
   "outputs": [
    {
     "name": "stdout",
     "output_type": "stream",
     "text": [
      "Reconstruct mpc_tensor_2 [5]\n"
     ]
    }
   ],
   "source": [
    "print(\"Reconstruct mpc_tensor_2\", mpc_tensor_2.reconstruct())"
   ]
  },
  {
   "cell_type": "markdown",
   "id": "2ec2118e-6f77-4449-bd9e-99adac9ef8fc",
   "metadata": {},
   "source": [
    "# Some Operations"
   ]
  },
  {
   "cell_type": "markdown",
   "id": "57910c3f-cf62-421e-893f-9755ae0de2dc",
   "metadata": {},
   "source": [
    "## Private addition"
   ]
  },
  {
   "cell_type": "code",
   "execution_count": 13,
   "id": "5596a32c-ea65-43dc-91d8-6916b5c3e0e5",
   "metadata": {},
   "outputs": [],
   "source": [
    "mpc_add = mpc_tensor_1 + mpc_tensor_2"
   ]
  },
  {
   "cell_type": "markdown",
   "id": "e2df733e-d27c-467c-a820-00eb92a4cc31",
   "metadata": {},
   "source": [
    "## Private subtraction"
   ]
  },
  {
   "cell_type": "code",
   "execution_count": 14,
   "id": "4ea95438-157e-4fde-baa1-0db0f87f4a76",
   "metadata": {},
   "outputs": [],
   "source": [
    "mpc_sub = mpc_tensor_1 - mpc_tensor_2"
   ]
  },
  {
   "cell_type": "code",
   "execution_count": 15,
   "id": "3eb231bb-a730-493c-b350-14cd118fbc14",
   "metadata": {},
   "outputs": [
    {
     "name": "stdout",
     "output_type": "stream",
     "text": [
      "Add result [[6 7 8 9 0]]\n"
     ]
    }
   ],
   "source": [
    "print(\"Add result\", mpc_add.reconstruct())"
   ]
  },
  {
   "cell_type": "code",
   "execution_count": 16,
   "id": "f447fad3-e1e8-4ef4-b1eb-ecce40b504a5",
   "metadata": {},
   "outputs": [
    {
     "name": "stdout",
     "output_type": "stream",
     "text": [
      "Subtraction result [[ -4  -3  -2  -1 -10]]\n"
     ]
    }
   ],
   "source": [
    "print(\"Subtraction result\", mpc_sub.reconstruct())"
   ]
  },
  {
   "cell_type": "markdown",
   "id": "247031a3-b670-4e76-a4e7-c69e3ab5eaac",
   "metadata": {},
   "source": [
    "## Public multiplication"
   ]
  },
  {
   "cell_type": "code",
   "execution_count": 17,
   "id": "f1cad7cd-35d9-4ba0-b48e-c2a4672dd5b0",
   "metadata": {},
   "outputs": [],
   "source": [
    "public_mask = np.array([0, 1, 0, 1, 1], dtype=np.int32)"
   ]
  },
  {
   "cell_type": "code",
   "execution_count": 18,
   "id": "dc8f941b-4ccf-4dd6-9e35-dc5eee1d7ff8",
   "metadata": {},
   "outputs": [],
   "source": [
    "mpc_mul = mpc_tensor_1 * public_mask"
   ]
  },
  {
   "cell_type": "code",
   "execution_count": 19,
   "id": "bff25a4b-82a5-467a-9144-4a31148e58fd",
   "metadata": {},
   "outputs": [
    {
     "name": "stdout",
     "output_type": "stream",
     "text": [
      "Multiplication result [[ 0  2  0  4 -5]]\n"
     ]
    }
   ],
   "source": [
    "print(\"Multiplication result\", mpc_mul.reconstruct())"
   ]
  },
  {
   "cell_type": "code",
   "execution_count": null,
   "id": "f3533172-bd79-4232-bc82-b9c82277ead3",
   "metadata": {},
   "outputs": [],
   "source": []
  }
 ],
 "metadata": {
  "kernelspec": {
   "display_name": "Python 3 (ipykernel)",
   "language": "python",
   "name": "python3"
  },
  "language_info": {
   "codemirror_mode": {
    "name": "ipython",
    "version": 3
   },
   "file_extension": ".py",
   "mimetype": "text/x-python",
   "name": "python",
   "nbconvert_exporter": "python",
   "pygments_lexer": "ipython3",
   "version": "3.9.5"
  }
 },
 "nbformat": 4,
 "nbformat_minor": 5
}
